{
  "cells": [
    {
      "cell_type": "markdown",
      "metadata": {
        "id": "dPRCNm8Up8qO"
      },
      "source": [
        "# Announcement\n",
        "\n",
        "The video differs slightly from the notebook. In particular, I have updated the ngrok code a bit.\n",
        "\n",
        "I am also counting on you using the video from Chapter 14 to understand the html portion of the server - I do not go over that again.\n",
        "\n",
        "The web page you will see in the video is an older, less modern version I have used in past. As you know from Chapter 14, I tried to modernize it a bit."
      ]
    },
    {
      "cell_type": "markdown",
      "metadata": {
        "id": "bzDiYMkiYgRS"
      },
      "source": [
        "<center>\n",
        "<h1>Flask Web Server For Colab</h1>\n",
        "</center>\n",
        "\n",
        "<hr>\n",
        "\n",
        "The simplest approach to your final project is to use this notebook as the foundation for your web server. I have tried to set it up so the main components work on any dataset. That leaves you with two main tasks:\n",
        "\n",
        "1. Loading in new files that go with your new dataset. I have the notebook set up to work with the titanic files. You will have to change over to your new files.\n",
        "\n",
        "2. Reworking the html so you have an interface that fits the new features in your dataset. Your goal is to take info from a user, make predictions, then feed those predictions back to the user. The current html is focused on the Titanic. But you saw how to change it in Chapter 14."
      ]
    },
    {
      "cell_type": "markdown",
      "metadata": {
        "id": "4DSGKfDEwQtm"
      },
      "source": [
        "# I. Before you even get to this notebook\n",
        "\n",
        "This notebook assumes you have 11 files defined and ready to load in:\n",
        "\n",
        "1. You have 4 threshold tables as csv files on GitHub.\n",
        "\n",
        "2. Your have 3 joblib files for knn, logreg and lgb on GitHub.\n",
        "\n",
        "3. You have an ANN file (`.keras`), on GitHub.\n",
        "\n",
        "4. You have your Lime explainer on GitHub.\n",
        "\n",
        "5. You have a fitted pipeline on GitHub.\n",
        "\n",
        "6. You have a markdown file on GitHub that explains the design decisions you made in building your pipeline.\n",
        "\n",
        "In essence, it assumes you have done all your wrangling and model tuning prior. And saved your results to github. You are then ready to tackle this notebook."
      ]
    },
    {
      "cell_type": "markdown",
      "metadata": {
        "id": "2clFQpiovAFt"
      },
      "source": [
        "# II. My general strategy for wrangling in this notebook\n",
        "\n",
        "1. You will get a new row from the user. This will contain non-transformed values.\n",
        "\n",
        "2. You will build a test set of exactly one row, the row you just got. So a DataFrame of exactly one row.\n",
        "\n",
        "3. You will call the pre-fitted pipeline (you read in from GitHub) on this test set with the `transform` method.\n",
        "\n",
        "4. This will give you a new table (of only one row) with transformated values. Convert that table to numpy matrix.\n",
        "\n",
        "You are now ready to feed this to machine learning models."
      ]
    },
    {
      "cell_type": "markdown",
      "metadata": {
        "id": "JCSN5_E3xcVs"
      },
      "source": [
        "# III. Moving to a real web server\n",
        "\n",
        "The easiest I can see is to use railway.com. pythonanywhere.com is also an option. Either allows you to set up a flask server and gives you local storage.\n",
        "\n",
        "The only reason I am mentioning these options is in case you want to show off your server to someone, e.g., a perspective employer. It might be good to have it hosted some place where he or she can try it out easily without you having to crank up this notebook."
      ]
    },
    {
      "cell_type": "markdown",
      "metadata": {
        "id": "Cw132hkl0ruE"
      },
      "source": [
        "## Getting your own authtoken\n",
        "\n",
        "You will need to create a (free) account on ngrok. Then from the dashboard, select tab on left as a shown below. Copy the authtoken and replace mine with yours (code at end of this notebook).\n",
        "\n",
        "<img src='https://www.dropbox.com/scl/fi/32jymtl6q2n5elumrt1wl/Screenshot-2025-01-30-at-4.45.34-PM.png?rlkey=ud0k66atjhjsn2vwblivue9bw&raw=1'>"
      ]
    },
    {
      "cell_type": "markdown",
      "metadata": {
        "id": "hcgEuEnfhJJp"
      },
      "source": [
        "## You need to do this!\n",
        "\n",
        "If you use my token instead of yours it will screw me up, as well as you and possibly your classmates. A free token only allows one session to run at a time. So if you are using my token, I cannot. Or I am using my token, you cannot.\n",
        "\n",
        "So get your own token!"
      ]
    },
    {
      "cell_type": "markdown",
      "metadata": {
        "id": "6el542EM_ays"
      },
      "source": [
        "## I could have moved these imports into my library\n",
        "\n",
        "If you did that, you won't need to import as below."
      ]
    },
    {
      "cell_type": "code",
      "execution_count": 1,
      "metadata": {
        "id": "zuYsrtxJNK5_"
      },
      "outputs": [],
      "source": [
        "from joblib import load\n",
        "from flask import Flask\n",
        "from flask import request\n",
        "import os\n",
        "import tensorflow as tf"
      ]
    },
    {
      "cell_type": "markdown",
      "metadata": {
        "id": "1-hon87E2Lri"
      },
      "source": [
        "## Bring in your own library"
      ]
    },
    {
      "cell_type": "code",
      "execution_count": 2,
      "metadata": {
        "id": "AZ6MOQmuVewi",
        "colab": {
          "base_uri": "https://localhost:8080/"
        },
        "outputId": "ab548c5e-c19a-4e45-f567-9dfa953b7ad1"
      },
      "outputs": [
        {
          "output_type": "stream",
          "name": "stdout",
          "text": [
            "--2025-06-06 07:43:50--  https://raw.githubusercontent.com/marvnc/cs523/main/library.py\n",
            "Resolving raw.githubusercontent.com (raw.githubusercontent.com)... 185.199.109.133, 185.199.111.133, 185.199.110.133, ...\n",
            "Connecting to raw.githubusercontent.com (raw.githubusercontent.com)|185.199.109.133|:443... connected.\n",
            "HTTP request sent, awaiting response... 200 OK\n",
            "Length: 49866 (49K) [text/plain]\n",
            "Saving to: ‘library.py’\n",
            "\n",
            "\rlibrary.py            0%[                    ]       0  --.-KB/s               \rlibrary.py          100%[===================>]  48.70K  --.-KB/s    in 0.01s   \n",
            "\n",
            "2025-06-06 07:43:50 (3.65 MB/s) - ‘library.py’ saved [49866/49866]\n",
            "\n"
          ]
        }
      ],
      "source": [
        "github_name = 'marvnc'\n",
        "repo_name = 'cs523'\n",
        "source_file = 'library.py'\n",
        "url = f'https://raw.githubusercontent.com/{github_name}/{repo_name}/main/{source_file}'\n",
        "!rm $source_file\n",
        "!wget $url\n",
        "%run -i $source_file"
      ]
    },
    {
      "cell_type": "markdown",
      "metadata": {
        "id": "fvF_-n6HBFl0"
      },
      "source": [
        "## Load the files\n",
        "\n",
        "You will need to replace what I have (Titanic-related files and urls) with your own.\n"
      ]
    },
    {
      "cell_type": "markdown",
      "metadata": {
        "id": "XHSbDaJ8BFl0"
      },
      "source": [
        "## Set-up pipeline documentation\n",
        "\n",
        "Assumes markdown description on GitHub. Will load it then convert it to html. Can later insert into `fpage`."
      ]
    },
    {
      "cell_type": "code",
      "execution_count": 3,
      "metadata": {
        "id": "251ZLxx6BFl0",
        "colab": {
          "base_uri": "https://localhost:8080/"
        },
        "outputId": "adc612c6-1a4b-4ef4-da7f-03d2a8693574"
      },
      "outputs": [
        {
          "output_type": "stream",
          "name": "stdout",
          "text": [
            "--2025-06-06 07:43:50--  https://raw.githubusercontent.com/MarvNC/cs523/refs/heads/main/s25_final_pipeline_documentation.md\n",
            "Resolving raw.githubusercontent.com (raw.githubusercontent.com)... 185.199.109.133, 185.199.108.133, 185.199.111.133, ...\n",
            "Connecting to raw.githubusercontent.com (raw.githubusercontent.com)|185.199.109.133|:443... connected.\n",
            "HTTP request sent, awaiting response... 200 OK\n",
            "Length: 7205 (7.0K) [text/plain]\n",
            "Saving to: ‘s25_final_pipeline_documentation.md’\n",
            "\n",
            "\r          s25_final   0%[                    ]       0  --.-KB/s               \rs25_final_pipeline_ 100%[===================>]   7.04K  --.-KB/s    in 0s      \n",
            "\n",
            "2025-06-06 07:43:50 (14.4 MB/s) - ‘s25_final_pipeline_documentation.md’ saved [7205/7205]\n",
            "\n"
          ]
        }
      ],
      "source": [
        "# url to Pipeline documentation in markup format.\n",
        "pipe_doc_url = 'https://raw.githubusercontent.com/MarvNC/cs523/refs/heads/main/s25_final_pipeline_documentation.md'\n",
        "!rm 's25_final_pipeline_documentation.md'\n",
        "!wget $pipe_doc_url\n",
        "with open('s25_final_pipeline_documentation.md', 'r', encoding='utf-8') as file:\n",
        "    pipe_md_content = file.read()"
      ]
    },
    {
      "cell_type": "code",
      "execution_count": 4,
      "metadata": {
        "id": "j-b-sxF2BFl1",
        "colab": {
          "base_uri": "https://localhost:8080/",
          "height": 163
        },
        "outputId": "cf49b1f6-a15e-4624-f45f-6f946ca80616"
      },
      "outputs": [
        {
          "output_type": "execute_result",
          "data": {
            "text/plain": [
              "'# Credit Card Approvals Data Pipeline Documentation\\n\\n## Pipeline Overview\\n\\nThis pipeline preprocesses the Credit Card Approvals dataset, focusing on numerical features to prepare them for machine learning modeling. It applies outlier detection and treatment, followed by feature scaling. Categorical features like \\'Gender\\', \\'PriorDefault\\', \\'Employed\\', and \\'DriversLicense\\' are assumed to be already in a suitable binary (0/1) format and are not processed by this specific pipeline. Similarly, this pipeline does not perform missing value imputation, as indicated by the dataset\\'s state at this stage.\\n\\n```python\\napprovals_transformer = Pipeline(steps=[\\n    # Gender: already categorical 0 or 1\\n    # Age: numerical, so we might transform to normalize it then apply tukey for outliers\\n    (\\'tukey_age\\', CustomTukeyTransformer(target_column=\\'Age\\', fence=\\'outer\\')),\\n    (\\'scale_age\\', CustomRobustTransformer(target_column=\\'Age\\')),\\n    # Debt: numerical, so normalize and apply tukey\\n    (\\'tukey_debt\\', CustomTukeyTransformer(target_column=\\'Debt\\', fence=\\'outer\\')),\\n    (\\'scale_debt\\', CustomRobustTransformer(target_column=\\'Debt\\')),\\n    # YearsEmployed numerical\\n    (\\'tukey_years_employed\\', CustomTukeyTransformer(target_column=\\'YearsEmployed\\', fence=\\'outer\\')),\\n    (\\'scale_years_employed\\', CustomRobustTransformer(target_column=\\'YearsEmployed\\')),\\n    # PriorDefault is already categorical 0 or 1\\n    # Employed is already categorical 0 or 1\\n    # CreditScore is numerical\\n    (\\'tukey_credit_score\\', CustomTukeyTransformer(target_column=\\'CreditScore\\', fence=\\'outer\\')),\\n    (\\'scale_credit_score\\', CustomRobustTransformer(target_column=\\'CreditScore\\')),\\n    # DriversLicense is already categorical 0 or 1\\n    # Income is numerical\\n    (\\'tukey_income\\', CustomTukeyTransformer(target_column=\\'Income\\', fence=\\'outer\\')),\\n    (\\'scale_income\\', CustomRobustTransformer(target_column=\\'Income\\')),\\n\\n    # There are no missing values to impute\\n    ], verbose=True)\\n```\\n\\n## Step-by-Step Design Choices\\n\\nThe pipeline processes the following numerical features: \\'Age\\', \\'Debt\\', \\'YearsEmployed\\', \\'CreditScore\\', and \\'Income\\'. For each, it applies a Tukey Transformer for outlier treatment and then a Robust Transformer for scaling.\\n\\n### 1. Age: Outlier Treatment & Scaling\\n\\n- **Transformer 1.1:** `CustomTukeyTransformer(target_column=\\'Age\\', fence=\\'outer\\')`\\n  - **Design Choice:** Tukey method with \\'outer\\' fence.\\n  - **Rationale:** To identify and cap extreme outliers in the \\'Age\\' column. The \\'outer\\' fence (Q1 - 3*IQR, Q3 + 3*IQR) is chosen to be less aggressive, targeting only the most extreme values, which is suitable for a feature like age that can have a wide but legitimate range.\\n- **Transformer 1.2:** `CustomRobustTransformer(target_column=\\'Age\\')`\\n  - **Design Choice:** Robust scaling.\\n  - **Rationale:** To scale the \\'Age\\' feature using statistics that are robust to outliers (median and interquartile range). This is preferred over standard scaling, especially when the data may not be normally distributed or when outliers might still influence mean/standard deviation.\\n\\n### 2. Debt: Outlier Treatment & Scaling\\n\\n- **Transformer 2.1:** `CustomTukeyTransformer(target_column=\\'Debt\\', fence=\\'outer\\')`\\n  - **Design Choice:** Tukey method with \\'outer\\' fence.\\n  - **Rationale:** To manage extreme values in the \\'Debt\\' column, which can vary significantly. The \\'outer\\' fence helps in normalizing the distribution without overly constricting the data.\\n- **Transformer 2.2:** `CustomRobustTransformer(target_column=\\'Debt\\')`\\n  - **Design Choice:** Robust scaling.\\n  - **Rationale:** To scale the \\'Debt\\' feature robustly, minimizing the impact of potential outliers on the scaling process and preparing it for models sensitive to feature magnitudes.\\n\\n### 3. YearsEmployed: Outlier Treatment & Scaling\\n\\n- **Transformer 3.1:** `CustomTukeyTransformer(target_column=\\'YearsEmployed\\', fence=\\'outer\\')`\\n  - **Design Choice:** Tukey method with \\'outer\\' fence.\\n  - **Rationale:** Addresses extreme outliers in \\'YearsEmployed\\'. This feature can have a right-skewed distribution, and the outer fence helps cap very high values.\\n- **Transformer 3.2:** `CustomRobustTransformer(target_column=\\'YearsEmployed\\')`\\n  - **Design Choice:** Robust scaling.\\n  - **Rationale:** Provides robust scaling for \\'YearsEmployed\\', making it comparable with other features and suitable for various machine learning algorithms.\\n\\n### 4. CreditScore: Outlier Treatment & Scaling\\n\\n- **Transformer 4.1:** `CustomTukeyTransformer(target_column=\\'CreditScore\\', fence=\\'outer\\')`\\n  - **Design Choice:** Tukey method with \\'outer\\' fence.\\n  - **Rationale:** Manages extreme outliers in \\'CreditScore\\'. Credit scores can have a defined range but outliers might still exist due to data entry errors or unusual cases.\\n- **Transformer 4.2:** `CustomRobustTransformer(target_column=\\'CreditScore\\')`\\n  - **Design Choice:** Robust scaling.\\n  - **Rationale:** Scales \\'CreditScore\\' using median and IQR, which is appropriate for scores that might not follow a perfect normal distribution.\\n\\n### 5. Income: Outlier Treatment & Scaling\\n\\n- **Transformer 5.1:** `CustomTukeyTransformer(target_column=\\'Income\\', fence=\\'outer\\')`\\n  - **Design Choice:** Tukey method with \\'outer\\' fence.\\n  - **Rationale:** Handles extreme outliers in the \\'Income\\' feature, which is often highly skewed. The outer fence helps in mitigating the influence of very high incomes.\\n- **Transformer 5.2:** `CustomRobustTransformer(target_column=\\'Income\\')`\\n  - **Design Choice:** Robust scaling.\\n  - **Rationale:** Robustly scales the \\'Income\\' feature, making it more suitable for modeling, especially given its potential skewness and the presence of outliers.\\n\\n## Pipeline Execution Order Rationale\\n\\n1.  **Outlier Treatment Before Scaling:** For each numerical feature, `CustomTukeyTransformer` is applied before `CustomRobustTransformer`. This order is crucial because the parameters for scaling (like median and IQR for RobustScaler) can be skewed by the presence of extreme outliers. By treating outliers first, the subsequent scaling is based on a more representative distribution of the data.\\n2.  **Sequential Processing per Feature:** The pipeline processes each numerical feature with its pair of transformations (Tukey then Robust) sequentially.\\n\\n## Performance Considerations\\n\\n- **Robustness to Outliers:** The choice of `CustomTukeyTransformer` (especially with `fence=\\'outer\\'`) and `CustomRobustTransformer` throughout the pipeline emphasizes a strategy that is robust to outliers. This helps in creating a more stable and reliable preprocessing pipeline, particularly for datasets where outliers are common or their impact needs to be minimized.\\n- **No Imputation Step:** The pipeline explicitly notes, \"There are no missing values to impute.\" This simplifies the pipeline for this specific dataset context, assuming missing values have been handled prior or are not present in the `reduced_df` that this pipeline processes.\\n- **Pre-processed Categorical Features:** Features like \\'Gender\\', \\'PriorDefault\\', \\'Employed\\', and \\'DriversLicense\\' are commented as \"already categorical 0 or 1\". This implies they do not require encoding within this pipeline, streamlining its focus on numerical transformations.\\n'"
            ],
            "application/vnd.google.colaboratory.intrinsic+json": {
              "type": "string"
            }
          },
          "metadata": {},
          "execution_count": 4
        }
      ],
      "source": [
        "pipe_md_content"
      ]
    },
    {
      "cell_type": "markdown",
      "metadata": {
        "id": "JjjJIEzLBFl2"
      },
      "source": [
        "## Bring in models\n",
        "\n",
        "Comes from Tuning notebook. You will need to load the 4 models and 4 threshold tables."
      ]
    },
    {
      "cell_type": "code",
      "execution_count": 5,
      "metadata": {
        "id": "8hNGsalOBFl2"
      },
      "outputs": [],
      "source": [
        "# assumes you have things stored in a single repo\n",
        "model_path = 'MarvNC/cs523/main/s25_'"
      ]
    },
    {
      "cell_type": "code",
      "execution_count": 6,
      "metadata": {
        "id": "lsNrQ6U-BFl2",
        "colab": {
          "base_uri": "https://localhost:8080/"
        },
        "outputId": "95691fc3-c6c2-4d22-be3e-c4bed52eb21c"
      },
      "outputs": [
        {
          "output_type": "stream",
          "name": "stdout",
          "text": [
            "--2025-06-06 07:43:51--  https://raw.githubusercontent.com/MarvNC/cs523/main/s25_final_lgb_model.joblib\n",
            "Resolving raw.githubusercontent.com (raw.githubusercontent.com)... 185.199.111.133, 185.199.108.133, 185.199.110.133, ...\n",
            "Connecting to raw.githubusercontent.com (raw.githubusercontent.com)|185.199.111.133|:443... connected.\n",
            "HTTP request sent, awaiting response... 200 OK\n",
            "Length: 439924 (430K) [application/octet-stream]\n",
            "Saving to: ‘s25_final_lgb_model.joblib’\n",
            "\n",
            "\r          s25_final   0%[                    ]       0  --.-KB/s               \rs25_final_lgb_model 100%[===================>] 429.61K  --.-KB/s    in 0.05s   \n",
            "\n",
            "2025-06-06 07:43:51 (8.98 MB/s) - ‘s25_final_lgb_model.joblib’ saved [439924/439924]\n",
            "\n"
          ]
        }
      ],
      "source": [
        "# load trained lgb model\n",
        "full_path = f'https://raw.githubusercontent.com/{model_path}final_lgb_model.joblib'\n",
        "!rm 's25_final_lgb_model.joblib'\n",
        "!wget $full_path\n",
        "lgb_model = load('s25_final_lgb_model.joblib')\n"
      ]
    },
    {
      "cell_type": "code",
      "execution_count": 7,
      "metadata": {
        "id": "PcVEgOQmBFl2",
        "colab": {
          "base_uri": "https://localhost:8080/"
        },
        "outputId": "5c0c2b06-22b6-4db4-9ae4-9617f2b9b52c"
      },
      "outputs": [
        {
          "output_type": "stream",
          "name": "stdout",
          "text": [
            "--2025-06-06 07:43:57--  https://raw.githubusercontent.com/MarvNC/cs523/main/s25_final_logreg_model.joblib\n",
            "Resolving raw.githubusercontent.com (raw.githubusercontent.com)... 185.199.111.133, 185.199.108.133, 185.199.110.133, ...\n",
            "Connecting to raw.githubusercontent.com (raw.githubusercontent.com)|185.199.111.133|:443... connected.\n",
            "HTTP request sent, awaiting response... 200 OK\n",
            "Length: 4636 (4.5K) [application/octet-stream]\n",
            "Saving to: ‘s25_final_logreg_model.joblib’\n",
            "\n",
            "\r          s25_final   0%[                    ]       0  --.-KB/s               \rs25_final_logreg_mo 100%[===================>]   4.53K  --.-KB/s    in 0s      \n",
            "\n",
            "2025-06-06 07:43:57 (46.8 MB/s) - ‘s25_final_logreg_model.joblib’ saved [4636/4636]\n",
            "\n"
          ]
        }
      ],
      "source": [
        "# load trained logistic regression model\n",
        "full_path = f'https://raw.githubusercontent.com/{model_path}final_logreg_model.joblib'\n",
        "!rm 's25_final_logreg_model.joblib'\n",
        "!wget $full_path\n",
        "logreg_model = load('s25_final_logreg_model.joblib')\n"
      ]
    },
    {
      "cell_type": "code",
      "execution_count": 8,
      "metadata": {
        "id": "YHA3EE5LBFl2",
        "colab": {
          "base_uri": "https://localhost:8080/"
        },
        "outputId": "58ca4650-9d7a-4813-80b7-16ceb3f4f48d"
      },
      "outputs": [
        {
          "output_type": "stream",
          "name": "stdout",
          "text": [
            "--2025-06-06 07:43:57--  https://raw.githubusercontent.com/MarvNC/cs523/main/s25_final_knn_model.joblib\n",
            "Resolving raw.githubusercontent.com (raw.githubusercontent.com)... 185.199.108.133, 185.199.109.133, 185.199.110.133, ...\n",
            "Connecting to raw.githubusercontent.com (raw.githubusercontent.com)|185.199.108.133|:443... connected.\n",
            "HTTP request sent, awaiting response... 200 OK\n",
            "Length: 334534 (327K) [application/octet-stream]\n",
            "Saving to: ‘s25_final_knn_model.joblib’\n",
            "\n",
            "\r          s25_final   0%[                    ]       0  --.-KB/s               \rs25_final_knn_model 100%[===================>] 326.69K  --.-KB/s    in 0.04s   \n",
            "\n",
            "2025-06-06 07:43:57 (7.33 MB/s) - ‘s25_final_knn_model.joblib’ saved [334534/334534]\n",
            "\n"
          ]
        }
      ],
      "source": [
        "## load trained knn model\n",
        "full_path = f'https://raw.githubusercontent.com/{model_path}final_knn_model.joblib'\n",
        "!rm 's25_final_knn_model.joblib'\n",
        "!wget $full_path\n",
        "knn_model = load('s25_final_knn_model.joblib')\n"
      ]
    },
    {
      "cell_type": "code",
      "execution_count": 9,
      "metadata": {
        "id": "Ae79xdx2BFl2",
        "colab": {
          "base_uri": "https://localhost:8080/"
        },
        "outputId": "cea49531-5da0-4183-f73a-38013769f8d4"
      },
      "outputs": [
        {
          "output_type": "stream",
          "name": "stdout",
          "text": [
            "--2025-06-06 07:43:57--  https://raw.githubusercontent.com/MarvNC/cs523/main/s25_final_ann_model.keras\n",
            "Resolving raw.githubusercontent.com (raw.githubusercontent.com)... 185.199.108.133, 185.199.110.133, 185.199.109.133, ...\n",
            "Connecting to raw.githubusercontent.com (raw.githubusercontent.com)|185.199.108.133|:443... connected.\n",
            "HTTP request sent, awaiting response... 200 OK\n",
            "Length: 44433 (43K) [application/octet-stream]\n",
            "Saving to: ‘s25_final_ann_model.keras’\n",
            "\n",
            "\r          s25_final   0%[                    ]       0  --.-KB/s               \rs25_final_ann_model 100%[===================>]  43.39K  --.-KB/s    in 0.01s   \n",
            "\n",
            "2025-06-06 07:43:58 (3.27 MB/s) - ‘s25_final_ann_model.keras’ saved [44433/44433]\n",
            "\n"
          ]
        }
      ],
      "source": [
        "## load trained ann model\n",
        "full_path = f'https://raw.githubusercontent.com/{model_path}final_ann_model.keras'\n",
        "!rm 's25_final_ann_model.keras'\n",
        "!wget $full_path\n",
        "ann_model = tf.keras.models.load_model('s25_final_ann_model.keras', custom_objects={'LeakyReLU': tf.keras.layers.LeakyReLU()})"
      ]
    },
    {
      "cell_type": "code",
      "execution_count": 10,
      "metadata": {
        "id": "9XWOnQ-gBFl2",
        "colab": {
          "base_uri": "https://localhost:8080/"
        },
        "outputId": "b7fed652-6614-48d7-91e9-15c689f404b2"
      },
      "outputs": [
        {
          "output_type": "execute_result",
          "data": {
            "text/plain": [
              "(None, 9)"
            ]
          },
          "metadata": {},
          "execution_count": 10
        }
      ],
      "source": [
        "ann_model.input_shape  #should match feature columns you will get user info for"
      ]
    },
    {
      "cell_type": "markdown",
      "metadata": {
        "id": "XkQq7mk1BFl3"
      },
      "source": [
        "## Bring in threshold tables\n",
        "\n",
        "Comes from Tuning notebook."
      ]
    },
    {
      "cell_type": "code",
      "execution_count": 11,
      "metadata": {
        "id": "xCRsfKF1BFl3"
      },
      "outputs": [],
      "source": [
        "# now threshold tables - comes from tuning notebook. Change in final project.\n",
        "\n",
        "logreg_thresholds = pd.read_csv(f'https://raw.githubusercontent.com/{model_path}final_logreg_thresholds.csv').round(2)\n",
        "knn_thresholds = pd.read_csv(f'https://raw.githubusercontent.com/{model_path}final_knn_thresholds.csv').round(2)\n",
        "lgb_thresholds = pd.read_csv(f'https://raw.githubusercontent.com/{model_path}final_lgb_thresholds.csv').round(2)\n",
        "ann_thresholds = pd.read_csv(f'https://raw.githubusercontent.com/{model_path}final_ann_thresholds.csv').round(2)"
      ]
    },
    {
      "cell_type": "markdown",
      "metadata": {
        "id": "fwLv3BUFBFl3"
      },
      "source": [
        "## Build threshold tables as HTML\n",
        "\n",
        "Once we have HTML version, can insert that in page.\n",
        "\n"
      ]
    },
    {
      "cell_type": "code",
      "execution_count": 12,
      "metadata": {
        "id": "hRYxrnlbBFl3"
      },
      "outputs": [],
      "source": [
        "lgb_table = lgb_thresholds.to_html(index=False, justify='center').replace('<td>','<td style=\"text-align: center;\">')\n",
        "logreg_table = logreg_thresholds.to_html(index=False, justify='center').replace('<td>','<td style=\"text-align: center;\">')\n",
        "knn_table = knn_thresholds.to_html(index=False, justify='center').replace('<td>', '<td style=\"text-align: center;\">')\n",
        "ann_table = ann_thresholds.to_html(index=False, justify='center').replace('<td>', '<td style=\"text-align: center;\">')"
      ]
    },
    {
      "cell_type": "markdown",
      "metadata": {
        "id": "IG496fJBBFl3"
      },
      "source": [
        "## Now fitted transformer\n",
        "\n",
        "Comes from Wrangling notebook."
      ]
    },
    {
      "cell_type": "code",
      "execution_count": 13,
      "metadata": {
        "id": "wcgcCag_BFl3",
        "colab": {
          "base_uri": "https://localhost:8080/"
        },
        "outputId": "c48f2457-6d92-4ac6-e929-9d296fdb4def"
      },
      "outputs": [
        {
          "output_type": "stream",
          "name": "stdout",
          "text": [
            "Requirement already satisfied: dill in /usr/local/lib/python3.11/dist-packages (0.3.7)\n"
          ]
        }
      ],
      "source": [
        "!pip install dill\n",
        "import dill as pickle"
      ]
    },
    {
      "cell_type": "code",
      "execution_count": 14,
      "metadata": {
        "id": "aRT02TWSBFl3",
        "colab": {
          "base_uri": "https://localhost:8080/"
        },
        "outputId": "6466c02c-a43c-4844-d3dc-894033b28d78"
      },
      "outputs": [
        {
          "output_type": "stream",
          "name": "stdout",
          "text": [
            "--2025-06-06 07:44:01--  https://raw.githubusercontent.com/MarvNC/cs523/main/s25_final_fully_fitted_pipeline.pkl\n",
            "Resolving raw.githubusercontent.com (raw.githubusercontent.com)... 185.199.111.133, 185.199.109.133, 185.199.108.133, ...\n",
            "Connecting to raw.githubusercontent.com (raw.githubusercontent.com)|185.199.111.133|:443... connected.\n",
            "HTTP request sent, awaiting response... 200 OK\n",
            "Length: 1327 (1.3K) [application/octet-stream]\n",
            "Saving to: ‘s25_final_fully_fitted_pipeline.pkl’\n",
            "\n",
            "\r          s25_final   0%[                    ]       0  --.-KB/s               \rs25_final_fully_fit 100%[===================>]   1.30K  --.-KB/s    in 0s      \n",
            "\n",
            "2025-06-06 07:44:01 (79.2 MB/s) - ‘s25_final_fully_fitted_pipeline.pkl’ saved [1327/1327]\n",
            "\n"
          ]
        }
      ],
      "source": [
        "full_path = f'https://raw.githubusercontent.com/{model_path}final_fully_fitted_pipeline.pkl'\n",
        "!rm 's25_final_fully_fitted_pipeline.pkl'\n",
        "!wget $full_path\n",
        "fitted_transformer = load('s25_final_fully_fitted_pipeline.pkl')\n"
      ]
    },
    {
      "cell_type": "markdown",
      "metadata": {
        "id": "LeArmx_HBFl4"
      },
      "source": [
        "# Now Lime\n",
        "\n",
        "Comes from Tuning notebook."
      ]
    },
    {
      "cell_type": "code",
      "execution_count": 15,
      "metadata": {
        "id": "MfiF7AqpBFl4"
      },
      "outputs": [],
      "source": [
        "# feature_names  = [...]  #change to match your own dataset\n",
        "feature_names = [\n",
        "    'Gender',\n",
        "    'Age',\n",
        "    'Debt',\n",
        "    'YearsEmployed',\n",
        "    'PriorDefault',\n",
        "    'Employed',\n",
        "    'CreditScore',\n",
        "    'DriversLicense',\n",
        "    'Income',\n",
        "]"
      ]
    },
    {
      "cell_type": "code",
      "execution_count": 16,
      "metadata": {
        "id": "mfWyVPN7BFl4"
      },
      "outputs": [],
      "source": [
        "%%capture\n",
        "!pip install lime"
      ]
    },
    {
      "cell_type": "code",
      "execution_count": 17,
      "metadata": {
        "id": "dd_bJKlBBFl4"
      },
      "outputs": [],
      "source": [
        "import lime\n",
        "from lime import lime_tabular\n"
      ]
    },
    {
      "cell_type": "code",
      "execution_count": 18,
      "metadata": {
        "id": "_XqN2QZ7BFl4",
        "colab": {
          "base_uri": "https://localhost:8080/"
        },
        "outputId": "b54d94fe-b0d0-42c9-9f81-3c03239de1f3"
      },
      "outputs": [
        {
          "output_type": "stream",
          "name": "stdout",
          "text": [
            "--2025-06-06 07:44:09--  https://raw.githubusercontent.com/MarvNC/cs523/main/s25_final_lime_explainer.pkl\n",
            "Resolving raw.githubusercontent.com (raw.githubusercontent.com)... 185.199.108.133, 185.199.110.133, 185.199.109.133, ...\n",
            "Connecting to raw.githubusercontent.com (raw.githubusercontent.com)|185.199.108.133|:443... connected.\n",
            "HTTP request sent, awaiting response... 200 OK\n",
            "Length: 13172 (13K) [application/octet-stream]\n",
            "Saving to: ‘s25_final_lime_explainer.pkl’\n",
            "\n",
            "\r          s25_final   0%[                    ]       0  --.-KB/s               \rs25_final_lime_expl 100%[===================>]  12.86K  --.-KB/s    in 0.001s  \n",
            "\n",
            "2025-06-06 07:44:09 (17.1 MB/s) - ‘s25_final_lime_explainer.pkl’ saved [13172/13172]\n",
            "\n"
          ]
        }
      ],
      "source": [
        "# get trained lime explainer\n",
        "full_path = f'https://raw.githubusercontent.com/{model_path}final_lime_explainer.pkl'\n",
        "!rm 's25_final_lime_explainer.pkl'\n",
        "!wget $full_path\n",
        "with open('s25_final_lime_explainer.pkl', 'rb') as file:\n",
        "    lime_explainer = pickle.load(file)"
      ]
    },
    {
      "cell_type": "markdown",
      "metadata": {
        "id": "ovfU9YZsBFl4"
      },
      "source": [
        "## Done loading from GitHub\n",
        "\n",
        "At this point, you have all your hard-earned work loaded in the server and ready to use.\n",
        "\n",
        "The final step is tailoring the web page and functions that deal with it to fit your specific dataset."
      ]
    },
    {
      "cell_type": "markdown",
      "metadata": {
        "id": "y0GRewQJ6krl"
      },
      "source": [
        "# Break into pieces to make it a little more understandable\n",
        "\n",
        "I'll show you the basic template page below. You will notice placeholders with form `%...%.` I will use Python functions to compute what gets inserted into these places. So this single template will grow quite large as we fill in pieces. Again, you do not have to worry about that, unless you want to.\n",
        "\n",
        "Here is basic template."
      ]
    },
    {
      "cell_type": "code",
      "execution_count": 19,
      "metadata": {
        "id": "KmsHTAMj7I9i"
      },
      "outputs": [],
      "source": [
        "# Main page template using a two-column layout\n",
        "fpage_template = '''\n",
        "<!DOCTYPE html>\n",
        "<html>\n",
        "<head>\n",
        "<meta name=\"viewport\" content=\"width=device-width, initial-scale=1\">\n",
        "<title>Credit Approval Prediction</title>\n",
        "%enhanced_styling%\n",
        "</head>\n",
        "\n",
        "<body>\n",
        "  <div class=\"container\">\n",
        "    <div class=\"left-column\">\n",
        "      <!-- Header -->\n",
        "      <div class=\"page-header\">\n",
        "        <h1>Credit Approval Prediction</h1>\n",
        "        <img src='https://s.abcnews.com/images/Business/GTY_credit_score_jt_140226_16x9_992.jpg' height=200>\n",
        "      </div>\n",
        "\n",
        "      <!-- Prediction Form -->\n",
        "      <div class=\"form-panel\">\n",
        "        <h2>Enter Applicant Information</h2>\n",
        "        %form_section%\n",
        "      </div>\n",
        "\n",
        "      <!-- Results Section -->\n",
        "      <div class=\"results-panel\">\n",
        "        %results_section%\n",
        "      </div>\n",
        "    </div>\n",
        "\n",
        "    <div class=\"right-column\" id=\"tableContainer\">\n",
        "      <!-- This space is intentionally left empty for threshold tables -->\n",
        "      %threshold_tables%\n",
        "    </div>\n",
        "  </div>\n",
        "\n",
        "  <script>\n",
        "    /**\n",
        "     * Improved toggle function with scrolling\n",
        "     *\n",
        "     * This function:\n",
        "     * 1. Hides all tables\n",
        "     * 2. If the clicked table was hidden, shows it and scrolls to it\n",
        "     * 3. If the clicked table was already visible, keeps it hidden\n",
        "     *\n",
        "     * @param {string} tableId - The ID of the table to toggle\n",
        "     */\n",
        "  function toggleTable(tableId) {\n",
        "    // Get the table element\n",
        "    var table = document.getElementById(tableId);\n",
        "\n",
        "    // Get all tables\n",
        "    var tables = document.querySelectorAll('.table-wrapper');\n",
        "\n",
        "    // Check if this table is currently visible (using computed style)\n",
        "    var computedStyle = window.getComputedStyle(table);\n",
        "    var isVisible = computedStyle.display !== 'none';\n",
        "\n",
        "    // First, hide all tables\n",
        "    tables.forEach(function(t) {\n",
        "      t.style.display = 'none';\n",
        "    });\n",
        "\n",
        "    // If the table was not visible, show it and scroll to it\n",
        "    if (!isVisible) {\n",
        "      table.style.display = 'block';\n",
        "\n",
        "      // Scroll the right column into view\n",
        "      document.getElementById('tableContainer').scrollIntoView({\n",
        "        behavior: 'smooth',\n",
        "        block: 'start'\n",
        "      });\n",
        "    }\n",
        "  // If it was visible, it will remain hidden (toggled off)\n",
        "}\n",
        "  </script>\n",
        "</body>\n",
        "</html>\n",
        "'''"
      ]
    },
    {
      "cell_type": "markdown",
      "metadata": {
        "id": "0lcsSkAC7S-u"
      },
      "source": [
        "# TO-DO for you\n",
        "\n",
        "You will be working with your own dataset. Change the titles and find an image that goes with your dataset and change the template above.\n"
      ]
    },
    {
      "cell_type": "markdown",
      "metadata": {
        "id": "nR3y23UnBFl5"
      },
      "source": [
        "## Set-up styling\n",
        "\n",
        "This is a complicated function that defines styling to give the page a more professional look. I have left comments. I do not expect you to change it although you can if you want."
      ]
    },
    {
      "cell_type": "code",
      "execution_count": 20,
      "metadata": {
        "id": "8hb4YZxXBFl5"
      },
      "outputs": [],
      "source": [
        "import markdown\n",
        "\n",
        "def get_enhanced_styling():\n",
        "    \"\"\"\n",
        "    Returns enhanced CSS styling for the Titanic prediction page.\n",
        "\n",
        "    This function contains all the CSS styling rules for the page, organized by section.\n",
        "    Each section has detailed comments explaining what the styles control and how they work.\n",
        "\n",
        "    Returns:\n",
        "    --------\n",
        "    str\n",
        "        A string containing all CSS styling rules wrapped in <style> tags\n",
        "    \"\"\"\n",
        "    return '''\n",
        "    <style>\n",
        "      /*********************************************\n",
        "       * BASE STYLES\n",
        "       * These styles apply to the entire document\n",
        "       *********************************************/\n",
        "\n",
        "      /*\n",
        "       * Basic body styling\n",
        "       * - Sets background color to light blue-gray\n",
        "       * - Sets default text color to dark gray\n",
        "       * - Uses modern, sans-serif font stack\n",
        "       * - Sets comfortable line spacing\n",
        "       * - Removes default margins and padding\n",
        "       */\n",
        "      body {\n",
        "        background-color: #f0f4f8;  /* Light blue-gray background */\n",
        "        color: #333;                /* Dark gray text */\n",
        "        font-family: 'Segoe UI', Tahoma, Geneva, Verdana, sans-serif;  /* Modern font stack */\n",
        "        line-height: 1.6;           /* Comfortable line spacing for readability */\n",
        "        margin: 0;                  /* Remove default margin */\n",
        "        padding: 0;                 /* Remove default padding */\n",
        "      }\n",
        "\n",
        "      /*********************************************\n",
        "       * LAYOUT STRUCTURE\n",
        "       * Controls the two-column layout of the page\n",
        "       *********************************************/\n",
        "\n",
        "      /*\n",
        "       * Main container\n",
        "       * - Creates a flex container for the two-column layout\n",
        "       * - Ensures the container takes up at least the full viewport height\n",
        "       */\n",
        "      .container {\n",
        "        display: flex;              /* Use flexbox for layout */\n",
        "        min-height: 100vh;          /* Ensure container is at least full viewport height */\n",
        "      }\n",
        "\n",
        "      /*\n",
        "       * Left column\n",
        "       * - Contains the form and results\n",
        "       * - Takes up 45% of the container width\n",
        "       * - Has padding around all sides\n",
        "       */\n",
        "      .left-column {\n",
        "        width: 45%;                 /* Set column width to 45% of container */\n",
        "        padding: 20px;              /* Add spacing around content */\n",
        "        box-sizing: border-box;     /* Include padding in width calculation */\n",
        "      }\n",
        "\n",
        "      /*\n",
        "       * Right column\n",
        "       * - Reserved for threshold tables\n",
        "       * - Takes up 55% of the container width\n",
        "       * - Has padding around all sides\n",
        "       * - Position is relative for child positioning\n",
        "       */\n",
        "      .right-column {\n",
        "        width: 55%;                 /* Set column width to 55% of container */\n",
        "        padding: 20px;              /* Add spacing around content */\n",
        "        box-sizing: border-box;     /* Include padding in width calculation */\n",
        "        position: relative;         /* For positioning tables */\n",
        "      }\n",
        "\n",
        "      /*********************************************\n",
        "       * HEADER SECTION\n",
        "       * Styles for the page header and title\n",
        "       *********************************************/\n",
        "\n",
        "      /*\n",
        "       * Page header container\n",
        "       * - Has a blue gradient background\n",
        "       * - White text\n",
        "       * - Rounded corners\n",
        "       * - Bottom margin to separate from content below\n",
        "       * - Subtle shadow for depth\n",
        "       */\n",
        "      .page-header {\n",
        "        background: linear-gradient(135deg, #23283a 0%, #2b5876 100%);  /* Gradient background */\n",
        "        color: white;               /* White text */\n",
        "        padding: 20px;              /* Internal spacing */\n",
        "        border-radius: 8px;         /* Rounded corners */\n",
        "        margin-bottom: 25px;        /* Space below header */\n",
        "        box-shadow: 0 4px 6px rgba(0, 0, 0, 0.1);  /* Subtle shadow */\n",
        "      }\n",
        "\n",
        "      /*\n",
        "       * Main page heading (h1)\n",
        "       * - No margin to avoid extra space\n",
        "       * - White text color\n",
        "       * - Larger font size\n",
        "       * - Medium font weight\n",
        "       */\n",
        "      .page-header h1 {\n",
        "        margin: 0;                  /* Remove default margin */\n",
        "        color: white;               /* White text */\n",
        "        font-size: 32px;            /* Larger text */\n",
        "        font-weight: 500;           /* Medium weight */\n",
        "      }\n",
        "\n",
        "      /*\n",
        "       * Header image styling\n",
        "       * - Responsive width\n",
        "       * - Maintain aspect ratio\n",
        "       * - Rounded corners\n",
        "       * - Space above image\n",
        "       */\n",
        "      .page-header img {\n",
        "        max-width: 100%;            /* Responsive width */\n",
        "        height: auto;               /* Maintain aspect ratio */\n",
        "        border-radius: 4px;         /* Rounded corners */\n",
        "        margin-top: 15px;           /* Space above image */\n",
        "      }\n",
        "\n",
        "      /*********************************************\n",
        "       * PANEL STYLING\n",
        "       * Styles for the form and results panels\n",
        "       *********************************************/\n",
        "\n",
        "      /*\n",
        "       * Form panel styling\n",
        "       * - White background\n",
        "       * - Rounded corners\n",
        "       * - Internal padding\n",
        "       * - Subtle shadow\n",
        "       * - Bottom margin for spacing\n",
        "       */\n",
        "      .form-panel {\n",
        "        background-color: white;    /* White background */\n",
        "        border-radius: 8px;         /* Rounded corners */\n",
        "        padding: 25px;              /* Internal spacing */\n",
        "        box-shadow: 0 2px 4px rgba(0, 0, 0, 0.1);  /* Subtle shadow */\n",
        "        margin-bottom: 25px;        /* Space below panel */\n",
        "      }\n",
        "\n",
        "      /*\n",
        "       * Form panel heading\n",
        "       * - No top margin to avoid extra space\n",
        "       * - Blue text color\n",
        "       * - Bottom border for visual separation\n",
        "       * - Padding below text for spacing from border\n",
        "       * - Medium font weight\n",
        "       */\n",
        "      .form-panel h2 {\n",
        "        margin-top: 0;              /* Remove top margin */\n",
        "        color: #2b5876;             /* Blue heading text */\n",
        "        border-bottom: 2px solid #f0f4f8;  /* Light bottom border */\n",
        "        padding-bottom: 10px;       /* Space between text and border */\n",
        "        font-weight: 500;           /* Medium weight */\n",
        "      }\n",
        "\n",
        "      /*\n",
        "       * Results panel styling\n",
        "       * - White background\n",
        "       * - Rounded corners\n",
        "       * - Internal padding\n",
        "       * - Subtle shadow\n",
        "       */\n",
        "      .results-panel {\n",
        "        background-color: white;    /* White background */\n",
        "        border-radius: 8px;         /* Rounded corners */\n",
        "        padding: 25px;              /* Internal spacing */\n",
        "        box-shadow: 0 2px 4px rgba(0, 0, 0, 0.1);  /* Subtle shadow */\n",
        "      }\n",
        "\n",
        "      /*\n",
        "       * Results panel heading\n",
        "       * - No top margin to avoid extra space\n",
        "       * - Blue text color\n",
        "       * - Medium font weight\n",
        "       */\n",
        "      .results-panel h2 {\n",
        "        margin-top: 0;              /* Remove top margin */\n",
        "        color: #2b5876;             /* Blue heading text */\n",
        "        font-weight: 500;           /* Medium weight */\n",
        "      }\n",
        "\n",
        "      /*********************************************\n",
        "       * FORM CONTROL STYLING\n",
        "       * Styles for form inputs, dropdowns, and buttons\n",
        "       *********************************************/\n",
        "\n",
        "      /*\n",
        "       * Text input styling\n",
        "       * - Full width of container\n",
        "       * - Internal padding\n",
        "       * - Light border\n",
        "       * - Rounded corners\n",
        "       * - Box sizing to include padding in width\n",
        "       * - Comfortable font size\n",
        "       * - Top margin for spacing from label\n",
        "       */\n",
        "      input[type=\"text\"] {\n",
        "        width: 100%;                /* Full width */\n",
        "        padding: 10px 15px;         /* Vertical and horizontal padding */\n",
        "        border: 1px solid #ddd;     /* Light gray border */\n",
        "        border-radius: 4px;         /* Rounded corners */\n",
        "        box-sizing: border-box;     /* Include padding in width */\n",
        "        font-size: 16px;            /* Comfortable font size */\n",
        "        margin-top: 6px;            /* Space from label above */\n",
        "      }\n",
        "\n",
        "      /*\n",
        "       * Dropdown select styling\n",
        "       * - Full width of container\n",
        "       * - Internal padding\n",
        "       * - Light border\n",
        "       * - Rounded corners\n",
        "       * - White background\n",
        "       * - Box sizing to include padding in width\n",
        "       * - Comfortable font size\n",
        "       * - Top margin for spacing from label\n",
        "       * - Remove default appearance for custom styling\n",
        "       * - Add custom dropdown arrow\n",
        "       */\n",
        "      select {\n",
        "        width: 100%;                /* Full width */\n",
        "        padding: 10px 15px;         /* Vertical and horizontal padding */\n",
        "        border: 1px solid #ddd;     /* Light gray border */\n",
        "        border-radius: 4px;         /* Rounded corners */\n",
        "        background-color: white;    /* White background */\n",
        "        box-sizing: border-box;     /* Include padding in width */\n",
        "        font-size: 16px;            /* Comfortable font size */\n",
        "        margin-top: 6px;            /* Space from label above */\n",
        "        appearance: none;           /* Remove default browser styling */\n",
        "\n",
        "        /* Add custom dropdown arrow as background image */\n",
        "        background-image: url(\"data:image/svg+xml;charset=US-ASCII,%3Csvg%20xmlns%3D%22http%3A%2F%2Fwww.w3.org%2F2000%2Fsvg%22%20width%3D%22292.4%22%20height%3D%22292.4%22%3E%3Cpath%20fill%3D%22%23007CB2%22%20d%3D%22M287%2069.4a17.6%2017.6%200%200%200-13-5.4H18.4c-5%200-9.3%201.8-12.9%205.4A17.6%2017.6%200%200%200%200%2082.2c0%205%201.8%209.3%205.4%2012.9l128%20127.9c3.6%203.6%207.8%205.4%2012.8%205.4s9.2-1.8%2012.8-5.4L287%2095c3.5-3.5%205.4-7.8%205.4-12.8%200-5-1.9-9.2-5.5-12.8z%22%2F%3E%3C%2Fsvg%3E\");\n",
        "        background-repeat: no-repeat;\n",
        "        background-position: right 10px center;  /* Position arrow on right side */\n",
        "        background-size: 12px;      /* Size of arrow */\n",
        "      }\n",
        "\n",
        "      /*\n",
        "       * Form group container\n",
        "       * - Adds bottom margin for spacing between form elements\n",
        "       */\n",
        "      .form-group {\n",
        "        margin-bottom: 20px;        /* Space below group */\n",
        "      }\n",
        "\n",
        "      /*\n",
        "       * Form label styling\n",
        "       * - Display as block for layout\n",
        "       * - Bottom margin for spacing\n",
        "       * - Medium font weight\n",
        "       * - Blue text color for consistency\n",
        "       */\n",
        "      label {\n",
        "        display: block;             /* Make labels block elements */\n",
        "        margin-bottom: 6px;         /* Space below label */\n",
        "        font-weight: 500;           /* Medium weight */\n",
        "        color: #2b5876;             /* Blue text */\n",
        "      }\n",
        "\n",
        "      /*\n",
        "       * Submit button styling\n",
        "       * - Blue/purple gradient background\n",
        "       * - White text\n",
        "       * - No border\n",
        "       * - Comfortable padding\n",
        "       * - Larger font size\n",
        "       * - Rounded corners\n",
        "       * - Pointer cursor on hover\n",
        "       * - Subtle shadow for depth\n",
        "       * - Smooth transition for hover effects\n",
        "       */\n",
        "      .submit-btn {\n",
        "        background: linear-gradient(135deg, #2b5876 0%, #4e4376 100%);  /* Gradient background */\n",
        "        color: white;               /* White text */\n",
        "        border: none;               /* No border */\n",
        "        padding: 12px 24px;         /* Vertical and horizontal padding */\n",
        "        font-size: 18px;            /* Larger text */\n",
        "        border-radius: 4px;         /* Rounded corners */\n",
        "        cursor: pointer;            /* Hand cursor on hover */\n",
        "        box-shadow: 0 2px 4px rgba(0, 0, 0, 0.2);  /* Subtle shadow */\n",
        "        transition: all 0.3s ease;  /* Smooth transition for hover effects */\n",
        "      }\n",
        "\n",
        "      /*\n",
        "       * Submit button hover state\n",
        "       * - Larger shadow for \"lifting\" effect\n",
        "       * - Slight upward movement for interaction feedback\n",
        "       */\n",
        "      .submit-btn:hover {\n",
        "        box-shadow: 0 4px 8px rgba(0, 0, 0, 0.3);  /* Larger shadow */\n",
        "        transform: translateY(-2px);  /* Move up slightly */\n",
        "      }\n",
        "\n",
        "      /*********************************************\n",
        "       * RESULTS BUTTONS STYLING\n",
        "       * Styles for the model result buttons\n",
        "       *********************************************/\n",
        "\n",
        "      /*\n",
        "       * Models list container\n",
        "       * - Uses flexbox for layout\n",
        "       * - Allows wrapping to multiple lines if needed\n",
        "       * - Adds spacing between buttons\n",
        "       * - Bottom margin for spacing\n",
        "       */\n",
        "      .models-list {\n",
        "        display: flex;              /* Use flexbox for layout */\n",
        "        flex-wrap: wrap;            /* Allow wrapping to multiple lines */\n",
        "        gap: 10px;                  /* Spacing between buttons */\n",
        "        margin-bottom: 20px;        /* Space below button group */\n",
        "      }\n",
        "\n",
        "      /*\n",
        "       * Model button styling\n",
        "       * - Blue/purple gradient background\n",
        "       * - White text\n",
        "       * - No border\n",
        "       * - Comfortable padding\n",
        "       * - Rounded corners\n",
        "       * - Appropriate font size\n",
        "       * - Pointer cursor on hover\n",
        "       * - Subtle shadow for depth\n",
        "       * - Smooth transition for hover effects\n",
        "       * - Only take up needed space (not full width)\n",
        "       * - Center text\n",
        "       */\n",
        "      .model-btn {\n",
        "        background: linear-gradient(135deg, #2b5876 0%, #4e4376 100%);  /* Gradient background */\n",
        "        color: white;               /* White text */\n",
        "        border: none;               /* No border */\n",
        "        padding: 10px 16px;         /* Vertical and horizontal padding */\n",
        "        border-radius: 4px;         /* Rounded corners */\n",
        "        font-size: 16px;            /* Comfortable font size */\n",
        "        cursor: pointer;            /* Hand cursor on hover */\n",
        "        box-shadow: 0 2px 4px rgba(0, 0, 0, 0.1);  /* Subtle shadow */\n",
        "        transition: all 0.3s ease;  /* Smooth transition for hover effects */\n",
        "        flex: 0 0 auto;             /* Only take up needed space */\n",
        "        text-align: center;         /* Center text */\n",
        "      }\n",
        "\n",
        "      /*\n",
        "       * Model button hover state\n",
        "       * - Larger shadow for \"lifting\" effect\n",
        "       * - Slight upward movement for interaction feedback\n",
        "       */\n",
        "      .model-btn:hover {\n",
        "        box-shadow: 0 4px 8px rgba(0, 0, 0, 0.2);  /* Larger shadow */\n",
        "        transform: translateY(-2px);  /* Move up slightly */\n",
        "      }\n",
        "\n",
        "      /*\n",
        "       * Documentation button styling\n",
        "       * - Blue gradient background (different from model buttons)\n",
        "       * - White text\n",
        "       * - No border\n",
        "       * - Appropriate padding\n",
        "       * - Rounded corners\n",
        "       * - Comfortable font size\n",
        "       * - Pointer cursor on hover\n",
        "       * - Left margin for spacing\n",
        "       * - Subtle shadow for depth\n",
        "       * - Smooth transition for hover effects\n",
        "       */\n",
        "      .doc-button {\n",
        "        background: linear-gradient(135deg, #3a7bd5 0%, #00d2ff 100%);  /* Blue gradient */\n",
        "        color: white;               /* White text */\n",
        "        border: none;               /* No border */\n",
        "        padding: 8px 15px;          /* Vertical and horizontal padding */\n",
        "        border-radius: 4px;         /* Rounded corners */\n",
        "        font-size: 16px;            /* Comfortable font size */\n",
        "        cursor: pointer;            /* Hand cursor on hover */\n",
        "        margin-left: 10px;          /* Space to the left */\n",
        "        box-shadow: 0 2px 4px rgba(0, 0, 0, 0.1);  /* Subtle shadow */\n",
        "        transition: all 0.3s ease;  /* Smooth transition for hover effects */\n",
        "      }\n",
        "\n",
        "      /*\n",
        "       * Documentation button hover state\n",
        "       * - Larger shadow for \"lifting\" effect\n",
        "       * - Slight upward movement for interaction feedback\n",
        "       */\n",
        "      .doc-button:hover {\n",
        "        box-shadow: 0 4px 8px rgba(0, 0, 0, 0.2);  /* Larger shadow */\n",
        "        transform: translateY(-2px);  /* Move up slightly */\n",
        "      }\n",
        "\n",
        "      /*********************************************\n",
        "       * MODAL STYLING\n",
        "       * Styles for the documentation popup modal\n",
        "       *********************************************/\n",
        "\n",
        "      /*\n",
        "       * Modal container\n",
        "       * - Hidden by default\n",
        "       * - Fixed position covering the entire viewport\n",
        "       * - High z-index to appear above other content\n",
        "       * - Semi-transparent black background overlay\n",
        "       * - Scrollable if content is too tall\n",
        "       */\n",
        "      .modal {\n",
        "        display: none;              /* Hidden by default */\n",
        "        position: fixed;            /* Fixed position */\n",
        "        z-index: 1000;              /* High z-index to be on top */\n",
        "        left: 0;                    /* Align to left edge */\n",
        "        top: 0;                     /* Align to top edge */\n",
        "        width: 100%;                /* Full width */\n",
        "        height: 100%;               /* Full height */\n",
        "        background-color: rgba(0,0,0,0.5);  /* Semi-transparent background */\n",
        "        overflow: auto;             /* Allow scrolling if needed */\n",
        "      }\n",
        "\n",
        "      /*\n",
        "       * Modal content container\n",
        "       * - White background\n",
        "       * - Centered with margin\n",
        "       * - Internal padding\n",
        "       * - Rounded corners\n",
        "       * - Limited width and height\n",
        "       * - Scrollable if content is too tall\n",
        "       * - Relative position for close button\n",
        "       * - Shadow for depth\n",
        "       */\n",
        "      .modal-content {\n",
        "        background-color: #fefefe;  /* White background */\n",
        "        margin: 2% auto;            /* Center horizontally with space at top */\n",
        "        padding: 20px;              /* Internal spacing */\n",
        "        border-radius: 8px;         /* Rounded corners */\n",
        "        width: 80%;                 /* Width relative to viewport */\n",
        "        max-width: 900px;           /* Maximum width */\n",
        "        max-height: 90vh;           /* Maximum height relative to viewport */\n",
        "        overflow-y: auto;           /* Vertical scrolling if needed */\n",
        "        position: relative;         /* For positioning close button */\n",
        "        box-shadow: 0 4px 12px rgba(0, 0, 0, 0.2);  /* Shadow for depth */\n",
        "      }\n",
        "\n",
        "      /*\n",
        "       * Close button styling\n",
        "       * - Absolute position in top right corner\n",
        "       * - White text on blue background\n",
        "       * - Bold text\n",
        "       * - Pointer cursor on hover\n",
        "       * - Comfortable padding\n",
        "       * - Rounded corners\n",
        "       * - Shadow for depth\n",
        "       * - Smooth transition for hover effects\n",
        "       */\n",
        "      .close-button {\n",
        "        position: absolute;         /* Absolute position */\n",
        "        top: 15px;                  /* Top spacing */\n",
        "        right: 20px;                /* Right spacing */\n",
        "        color: #fff;                /* White text */\n",
        "        background-color: #2b5876;  /* Blue background */\n",
        "        font-size: 16px;            /* Comfortable font size */\n",
        "        font-weight: bold;          /* Bold text */\n",
        "        cursor: pointer;            /* Hand cursor on hover */\n",
        "        padding: 5px 15px;          /* Vertical and horizontal padding */\n",
        "        border-radius: 4px;         /* Rounded corners */\n",
        "        box-shadow: 0 2px 4px rgba(0,0,0,0.2);  /* Shadow for depth */\n",
        "        transition: all 0.3s ease;  /* Smooth transition for hover effects */\n",
        "      }\n",
        "\n",
        "      /*\n",
        "       * Close button hover state\n",
        "       * - Darker background color\n",
        "       * - Larger shadow for \"lifting\" effect\n",
        "       */\n",
        "      .close-button:hover {\n",
        "        background-color: #23283a;  /* Darker blue on hover */\n",
        "        box-shadow: 0 4px 8px rgba(0,0,0,0.3);  /* Larger shadow */\n",
        "      }\n",
        "\n",
        "      /*********************************************\n",
        "       * TABLE STYLING\n",
        "       * Styles for the threshold tables\n",
        "       *********************************************/\n",
        "\n",
        "      /*\n",
        "       * Table wrapper container\n",
        "       * - Hidden by default\n",
        "       * - Sticky position to stay visible when scrolling\n",
        "       * - Top spacing when sticky\n",
        "       */\n",
        "      .table-wrapper {\n",
        "        display: none;              /* Hidden by default */\n",
        "        position: sticky;           /* Sticky positioning */\n",
        "        top: 20px;                  /* Top spacing when sticky */\n",
        "      }\n",
        "\n",
        "      /*\n",
        "       * Common styling for both table columns\n",
        "       * - White background\n",
        "       * - Rounded corners\n",
        "       * - Subtle shadow\n",
        "       * - Internal padding\n",
        "       * - Bottom margin for spacing\n",
        "       */\n",
        "      .table1, .table2 {\n",
        "        background-color: white;    /* White background */\n",
        "        border-radius: 8px;         /* Rounded corners */\n",
        "        box-shadow: 0 2px 4px rgba(0, 0, 0, 0.1);  /* Subtle shadow */\n",
        "        padding: 15px;              /* Internal spacing */\n",
        "        margin-bottom: 20px;        /* Space below */\n",
        "      }\n",
        "\n",
        "      /*\n",
        "       * Left table column\n",
        "       * - Float left\n",
        "       * - 45% width of container\n",
        "       */\n",
        "      .table1 {\n",
        "        float: left;                /* Float left */\n",
        "        width: 45%;                 /* 45% width */\n",
        "      }\n",
        "\n",
        "      /*\n",
        "       * Right table column\n",
        "       * - Float right\n",
        "       * - 45% width of container\n",
        "       * - Left margin for spacing from left column\n",
        "       */\n",
        "      .table2 {\n",
        "        float: right;               /* Float right */\n",
        "        width: 45%;                 /* 45% width */\n",
        "        margin-left: 10px;          /* Space from left column */\n",
        "      }\n",
        "\n",
        "      /*\n",
        "       * Ensemble result styling\n",
        "       * - Larger font size\n",
        "       * - Medium font weight\n",
        "       * - Blue text color\n",
        "       * - Top margin for spacing\n",
        "       * - Top padding for spacing\n",
        "       * - Top border for visual separation\n",
        "       * - Clear both floats to appear below buttons\n",
        "       */\n",
        "      .ensemble-result {\n",
        "        font-size: 24px;            /* Larger text */\n",
        "        font-weight: 500;           /* Medium weight */\n",
        "        color: #2b5876;             /* Blue text */\n",
        "        margin-top: 15px;           /* Space above */\n",
        "        padding: 10px;              /* Padding */\n",
        "        border-top: 2px solid #f0f4f8;  /* Light top border */\n",
        "        clear: both;                /* Clear floats */\n",
        "      }\n",
        "\n",
        "      /*********************************************\n",
        "       * MARKDOWN CONTENT STYLING\n",
        "       * Styles for the rendered markdown in the documentation modal\n",
        "       *********************************************/\n",
        "\n",
        "      /*\n",
        "       * Markdown container styling\n",
        "       * - Modern font stack\n",
        "       * - Comfortable line height\n",
        "       */\n",
        "      #markdown-content {\n",
        "        font-family: -apple-system, BlinkMacSystemFont, \"Segoe UI\", Roboto, Arial, sans-serif;\n",
        "        line-height: 1.6;           /* Comfortable line height */\n",
        "      }\n",
        "\n",
        "      /*\n",
        "       * Markdown headings\n",
        "       * - Blue text color\n",
        "       */\n",
        "      #markdown-content h1, #markdown-content h2 {\n",
        "        color: #2c3e50;             /* Blue text */\n",
        "      }\n",
        "\n",
        "      /*\n",
        "       * Markdown h2 headings\n",
        "       * - Bottom border for visual separation\n",
        "       * - Bottom padding for spacing from border\n",
        "       */\n",
        "      #markdown-content h2 {\n",
        "        border-bottom: 1px solid #eee;  /* Light bottom border */\n",
        "        padding-bottom: 5px;        /* Space between text and border */\n",
        "      }\n",
        "\n",
        "      /*\n",
        "       * Markdown code blocks\n",
        "       * - Light gray background\n",
        "       * - Padding for spacing\n",
        "       * - Rounded corners\n",
        "       * - Monospace font\n",
        "       */\n",
        "      #markdown-content code {\n",
        "        background-color: #f5f5f5;  /* Light gray background */\n",
        "        padding: 2px 4px;           /* Vertical and horizontal padding */\n",
        "        border-radius: 3px;         /* Rounded corners */\n",
        "        font-family: monospace;     /* Monospace font */\n",
        "      }\n",
        "\n",
        "      /*\n",
        "       * Markdown lists\n",
        "       * - Left padding for indentation\n",
        "       */\n",
        "      #markdown-content ul, #markdown-content ol {\n",
        "        padding-left: 25px;         /* Left padding */\n",
        "      }\n",
        "\n",
        "      /*\n",
        "       * Markdown paragraphs\n",
        "       * - Bottom margin for spacing\n",
        "       */\n",
        "      #markdown-content p {\n",
        "        margin-bottom: 16px;        /* Space below */\n",
        "      }\n",
        "\n",
        "      /*\n",
        "       * Markdown blockquotes\n",
        "       * - Left and right padding\n",
        "       * - Gray text color\n",
        "       * - Left border for visual distinction\n",
        "       * - Bottom margin for spacing\n",
        "       */\n",
        "      #markdown-content blockquote {\n",
        "        padding: 0 1em;             /* Horizontal padding */\n",
        "        color: #6a737d;             /* Gray text */\n",
        "        border-left: 0.25em solid #dfe2e5;  /* Left border */\n",
        "        margin: 0 0 16px 0;         /* Bottom margin */\n",
        "      }\n",
        "\n",
        "      /*\n",
        "       * Markdown tables\n",
        "       * - Collapse borders\n",
        "       * - Full width\n",
        "       * - Bottom margin for spacing\n",
        "       */\n",
        "      #markdown-content table {\n",
        "        border-collapse: collapse;  /* Collapse borders */\n",
        "        width: 100%;                /* Full width */\n",
        "        margin-bottom: 16px;        /* Space below */\n",
        "      }\n",
        "\n",
        "      /*\n",
        "       * Markdown table cells\n",
        "       * - Padding for spacing\n",
        "       * - Light border\n",
        "       */\n",
        "      #markdown-content table th, #markdown-content table td {\n",
        "        padding: 6px 13px;          /* Vertical and horizontal padding */\n",
        "        border: 1px solid #dfe2e5;  /* Light border */\n",
        "      }\n",
        "\n",
        "      /*\n",
        "       * Markdown table alternating rows\n",
        "       * - Light gray background for even rows\n",
        "       */\n",
        "      #markdown-content table tr:nth-child(2n) {\n",
        "        background-color: #f6f8fa;  /* Light gray background */\n",
        "      }\n",
        "\n",
        "      /*********************************************\n",
        "       * RESPONSIVE DESIGN\n",
        "       * Adjustments for smaller screens\n",
        "       *********************************************/\n",
        "\n",
        "      /*\n",
        "       * Media query for screens smaller than 1200px\n",
        "       * - Changes layout from two columns to one column\n",
        "       * - Makes both columns full width\n",
        "       * - Changes right column positioning\n",
        "       */\n",
        "      @media (max-width: 1200px) {\n",
        "        .container {\n",
        "          flex-direction: column;   /* Stack columns vertically */\n",
        "        }\n",
        "\n",
        "        .left-column, .right-column {\n",
        "          width: 100%;              /* Full width */\n",
        "        }\n",
        "\n",
        "        .right-column {\n",
        "          position: static;         /* Normal positioning */\n",
        "        }\n",
        "      }\n",
        "    </style>\n",
        "    '''\n"
      ]
    },
    {
      "cell_type": "markdown",
      "metadata": {
        "id": "76rkcf-UBFl7"
      },
      "source": [
        "## These are helper functions\n",
        "\n",
        "Again, you should not have to change them although you are welcome to do so."
      ]
    },
    {
      "cell_type": "code",
      "execution_count": 21,
      "metadata": {
        "id": "kgGj_ziMBFl7"
      },
      "outputs": [],
      "source": [
        "\n",
        "def text_input(name, label, placeholder=\"\"):\n",
        "    \"\"\"\n",
        "    Generate HTML for a styled text input field with label.\n",
        "\n",
        "    This function creates a form group containing a label and text input field.\n",
        "    The styling is handled by CSS classes defined in get_enhanced_styling().\n",
        "\n",
        "    Parameters:\n",
        "    -----------\n",
        "    name : str\n",
        "        The input field name (used for form submission and label connection)\n",
        "    label : str\n",
        "        The descriptive text for the label\n",
        "    placeholder : str, optional\n",
        "        Placeholder text shown in the input when empty\n",
        "\n",
        "    Returns:\n",
        "    --------\n",
        "    str\n",
        "        HTML markup for the label and input field wrapped in a form group\n",
        "    \"\"\"\n",
        "    return f'''\n",
        "    <div class=\"form-group\">\n",
        "      <label for=\"{name}\">{label}</label>\n",
        "      <input type=\"text\" id=\"{name}\" name=\"{name}_field\" placeholder=\"{placeholder}\">\n",
        "    </div>\n",
        "    '''\n",
        "\n",
        "def dropdown_select(name, label, options):\n",
        "    \"\"\"\n",
        "    Generate HTML for a styled dropdown select with label.\n",
        "\n",
        "    This function creates a form group containing a label and select dropdown.\n",
        "    The styling is handled by CSS classes defined in get_enhanced_styling().\n",
        "\n",
        "    Parameters:\n",
        "    -----------\n",
        "    name : str\n",
        "        The select field name (used for form submission and label connection)\n",
        "    label : str\n",
        "        The descriptive text for the label\n",
        "    options : dict\n",
        "        Dictionary of {value: display_text} pairs for the dropdown options\n",
        "\n",
        "    Returns:\n",
        "    --------\n",
        "    str\n",
        "        HTML markup for the label and select dropdown wrapped in a form group\n",
        "    \"\"\"\n",
        "    options_html = \"\"\n",
        "    for value, text in options.items():\n",
        "        options_html += f'<option value=\"{value}\">{text}</option>\\n'\n",
        "\n",
        "    return f'''\n",
        "    <div class=\"form-group\">\n",
        "      <label for=\"{name}\">{label}</label>\n",
        "      <select id=\"{name}\" name=\"{name}\">\n",
        "        {options_html}\n",
        "      </select>\n",
        "    </div>\n",
        "    '''\n",
        "\n",
        "def submit_button(label=\"Submit\"):\n",
        "    \"\"\"\n",
        "    Generate HTML for a styled submit button.\n",
        "\n",
        "    This function creates a submit button for a form.\n",
        "    The styling is handled by CSS classes defined in get_enhanced_styling().\n",
        "\n",
        "    Parameters:\n",
        "    -----------\n",
        "    label : str, optional\n",
        "        The text displayed on the button (default: \"Submit\")\n",
        "\n",
        "    Returns:\n",
        "    --------\n",
        "    str\n",
        "        HTML markup for the submit button\n",
        "    \"\"\"\n",
        "    return f'''\n",
        "    <button type=\"submit\" class=\"submit-btn\">{label}</button>\n",
        "    '''\n"
      ]
    },
    {
      "cell_type": "code",
      "execution_count": 22,
      "metadata": {
        "id": "RO3rsJFWBFl7"
      },
      "outputs": [],
      "source": [
        "def get_results_section():\n",
        "    \"\"\"\n",
        "    Generate HTML for the results section with buttons.\n",
        "\n",
        "    This function creates the results section of the page, including:\n",
        "    - A heading\n",
        "    - The pipeline documentation button (inserted via placeholder)\n",
        "    - A row data display area (inserted via placeholder)\n",
        "    - Buttons for each model's results\n",
        "    - An ensemble result display\n",
        "\n",
        "    The styling is handled by CSS classes defined in get_enhanced_styling().\n",
        "\n",
        "    Returns:\n",
        "    --------\n",
        "    str\n",
        "        HTML markup for the complete results section with placeholders\n",
        "    \"\"\"\n",
        "    return '''\n",
        "    <h2>Results</h2>\n",
        "    %pipeline_docs%\n",
        "    <h3>%row_data%</h3>\n",
        "\n",
        "    <div class=\"models-list\">\n",
        "      <button class=\"model-btn\" onclick=\"toggleTable('lgb')\">\n",
        "        LGB: %lgb%\n",
        "      </button>\n",
        "\n",
        "      <button class=\"model-btn\" onclick=\"toggleTable('knn')\">\n",
        "        KNN: %knn%\n",
        "      </button>\n",
        "\n",
        "      <button class=\"model-btn\" onclick=\"toggleTable('logreg')\">\n",
        "        LogReg: %logreg%\n",
        "      </button>\n",
        "\n",
        "      <button class=\"model-btn\" onclick=\"toggleTable('ann')\">\n",
        "        ANN: %ann%\n",
        "      </button>\n",
        "    </div>\n",
        "\n",
        "    <div class=\"ensemble-result\">\n",
        "      Ensemble: %ensemble%\n",
        "    </div>\n",
        "    '''\n",
        "\n",
        "def get_threshold_tables_section():\n",
        "    \"\"\"\n",
        "    Generate HTML for the threshold tables section.\n",
        "\n",
        "    This function creates the table containers for all model results.\n",
        "    Each model has two tables: a threshold table and a LIME explanation table.\n",
        "    By default, all tables are hidden and will only be shown when their\n",
        "    corresponding button is clicked.\n",
        "\n",
        "    The styling is handled by CSS classes defined in get_enhanced_styling().\n",
        "\n",
        "    Returns:\n",
        "    --------\n",
        "    str\n",
        "        HTML markup for all the model result tables with placeholders\n",
        "    \"\"\"\n",
        "    return '''\n",
        "    <!-- LGB Model Tables -->\n",
        "    <div id=\"lgb\" class='table-wrapper'>\n",
        "      <div class=\"table1\">\n",
        "        <center><h2>LGB Threshold Table</h2></center>\n",
        "        %lgb_table%\n",
        "      </div>\n",
        "      <div class=\"table2\">\n",
        "      <center><h2>LGB Lime Explanation</h2></center>\n",
        "        %lgb_lime_table%\n",
        "      </div>\n",
        "    </div>\n",
        "\n",
        "    <!-- KNN Model Tables -->\n",
        "    <div id=\"knn\" class='table-wrapper'>\n",
        "      <div class=\"table1\">\n",
        "      <center><h2>KNN Threshold Table</h2></center>\n",
        "        %knn_table%\n",
        "      </div>\n",
        "      <div class=\"table2\">\n",
        "      <center><h2>KNN Lime Explanation</h2></center>\n",
        "        %knn_lime_table%\n",
        "      </div>\n",
        "    </div>\n",
        "\n",
        "    <!-- LogReg Model Tables -->\n",
        "    <div id=\"logreg\" class='table-wrapper'>\n",
        "      <div class=\"table1\">\n",
        "      <center><h2>Logistic Regression Threshold Table</h2></center>\n",
        "        %logreg_table%\n",
        "      </div>\n",
        "      <div class=\"table2\">\n",
        "      <center><h2>Logistic Regression Lime Explanation</h2></center>\n",
        "        %logreg_lime_table%\n",
        "      </div>\n",
        "    </div>\n",
        "\n",
        "    <!-- ANN Model Tables -->\n",
        "    <div id=\"ann\" class='table-wrapper'>\n",
        "      <div class=\"table1\">\n",
        "      <center><h2>ANN Threshold Table</h2></center>\n",
        "        %ann_table%\n",
        "      </div>\n",
        "      <div class=\"table2\">\n",
        "      <center><h2>ANN Lime Explanation</h2></center>\n",
        "        %ann_lime_table%\n",
        "      </div>\n",
        "    </div>\n",
        "    '''\n",
        "\n",
        "def get_pipeline_documentation(md_content):\n",
        "\n",
        "    # Convert markdown to HTML using Python-Markdown\n",
        "    html_content = markdown.markdown(\n",
        "        md_content,\n",
        "        extensions=['tables', 'fenced_code', 'nl2br']\n",
        "    )\n",
        "\n",
        "    # Create complete HTML for popup with styled content and JS functionality\n",
        "    documentation_html = f\"\"\"\n",
        "    <!-- Button to open modal -->\n",
        "    <button class=\"doc-button\" id=\"openDocBtn\">See Preprocessing Steps</button>\n",
        "\n",
        "    <!-- The Modal/Popup -->\n",
        "    <div id=\"docModal\" class=\"modal\">\n",
        "        <!-- Modal content -->\n",
        "        <div class=\"modal-content\">\n",
        "            <span class=\"close-button\" id=\"closeModal\">CLOSE</span>\n",
        "            <div id=\"markdown-content\">\n",
        "                {html_content}\n",
        "            </div>\n",
        "        </div>\n",
        "    </div>\n",
        "\n",
        "    <!-- JavaScript for modal functionality -->\n",
        "    <script>\n",
        "        // Get modal elements\n",
        "        const modal = document.getElementById(\"docModal\");\n",
        "        const btn = document.getElementById(\"openDocBtn\");\n",
        "        const closeBtn = document.getElementById(\"closeModal\");\n",
        "\n",
        "        // Open modal when button is clicked\n",
        "        btn.onclick = function() {{\n",
        "            modal.style.display = \"block\";\n",
        "        }}\n",
        "\n",
        "        // Close modal ONLY when CLOSE is clicked\n",
        "        closeBtn.onclick = function() {{\n",
        "            modal.style.display = \"none\";\n",
        "        }}\n",
        "\n",
        "        // Prevent modal from closing when clicking on the content\n",
        "        document.querySelector(\".modal-content\").onclick = function(event) {{\n",
        "            event.stopPropagation();\n",
        "        }}\n",
        "    </script>\n",
        "    \"\"\"\n",
        "\n",
        "    return documentation_html\n",
        "\n",
        "pipeline_docs_html = get_pipeline_documentation(pipe_md_content)\n"
      ]
    },
    {
      "cell_type": "markdown",
      "metadata": {
        "id": "eJZwI4ng8PBc"
      },
      "source": [
        "# This actually starts gluing things together\n",
        "\n",
        "You can see that there are a series of string `replace` methods. They start with the `fpage_template` then end up in `fpage` as full website."
      ]
    },
    {
      "cell_type": "code",
      "execution_count": 23,
      "metadata": {
        "id": "8PYIPb-6BFl8"
      },
      "outputs": [],
      "source": [
        "def create_template_page(config, fpage_template, pipeline_docs_html, lgb_table, logreg_table, knn_table, ann_table):\n",
        "    \"\"\"\n",
        "    Main function to generate the complete Titanic prediction page.\n",
        "\n",
        "    This function:\n",
        "    1. Gets all the components (styling, form, results, tables, docs)\n",
        "    2. Replaces all placeholders in the template\n",
        "    3. Returns the complete HTML page\n",
        "\n",
        "    Parameters:\n",
        "    -----------\n",
        "\n",
        "    Returns:\n",
        "    --------\n",
        "    str\n",
        "        The complete HTML for the Titanic prediction page\n",
        "    \"\"\"\n",
        "\n",
        "    # Compute all the pieces\n",
        "    form_html = complete_form(config)\n",
        "    results_section_html = get_results_section()\n",
        "    threshold_tables_html = get_threshold_tables_section()\n",
        "    enhanced_styling = get_enhanced_styling()\n",
        "\n",
        "    # Replace all placeholders\n",
        "    fpage = fpage_template.replace('%enhanced_styling%', enhanced_styling)\n",
        "    fpage = fpage.replace('%form_section%', form_html)\n",
        "    fpage = fpage.replace('%results_section%', results_section_html)\n",
        "    fpage = fpage.replace('%threshold_tables%', threshold_tables_html)\n",
        "    fpage = fpage.replace('%pipeline_docs%', pipeline_docs_html)\n",
        "\n",
        "    # These threshold tables do not change so add them now\n",
        "    fpage = fpage.replace('%lgb_table%', lgb_table)\n",
        "    fpage = fpage.replace('%logreg_table%', logreg_table)\n",
        "    fpage = fpage.replace('%knn_table%', knn_table)\n",
        "    fpage = fpage.replace('%ann_table%', ann_table)\n",
        "\n",
        "    return fpage"
      ]
    },
    {
      "cell_type": "markdown",
      "metadata": {
        "id": "qPbScvIeBFl9"
      },
      "source": [
        "# TO-DO for you\n",
        "\n",
        "This is set-up for the Titanic. You will need to make changes here for your own dataset."
      ]
    },
    {
      "cell_type": "code",
      "execution_count": 24,
      "metadata": {
        "id": "-Jdl7XWJBFl9"
      },
      "outputs": [],
      "source": [
        "def get_dataset_config():\n",
        "    \"\"\"\n",
        "    Centralized configuration for Approval dataset fields.\n",
        "    This single function defines both form elements and data processing.\n",
        "\n",
        "    Returns a dictionary where each key is a field name, and each value is\n",
        "    a dictionary of properties for that field.\n",
        "    \"\"\"\n",
        "    return {\n",
        "        \"Gender\": {\n",
        "            \"form_field\": \"gender_field\",\n",
        "            \"label\": \"Gender\",\n",
        "            \"type\": \"categorical\",\n",
        "            \"input_type\": \"select\",\n",
        "            \"column_name\": \"Gender\",\n",
        "            \"process\": lambda x: int(x) if x in [\"0\", \"1\"] else np.nan,\n",
        "            \"options\": {\n",
        "                \"unknown\": \"Unknown\",\n",
        "                \"1\": \"Female\",\n",
        "                \"0\": \"Male\"\n",
        "            }\n",
        "        },\n",
        "        \"Age\": {\n",
        "            \"form_field\": \"age_field\",\n",
        "            \"label\": \"Age\",\n",
        "            \"placeholder\": \"e.g. 35\",\n",
        "            \"type\": \"numeric\",\n",
        "            \"input_type\": \"text\",\n",
        "            \"column_name\": \"Age\",\n",
        "            \"process\": lambda x: float(x) if float(x) >= 0 else np.nan,\n",
        "        },\n",
        "        \"Debt\": {\n",
        "            \"form_field\": \"debt_field\",\n",
        "            \"label\": \"Debt\",\n",
        "            \"placeholder\": \"e.g. 2.5\",\n",
        "            \"type\": \"numeric\",\n",
        "            \"input_type\": \"text\",\n",
        "            \"column_name\": \"Debt\",\n",
        "            \"process\": lambda x: float(x) if float(x) >= 0 else np.nan,\n",
        "        },\n",
        "        \"YearsEmployed\": {\n",
        "            \"form_field\": \"years_employed_field\",\n",
        "            \"label\": \"Years Employed\",\n",
        "            \"placeholder\": \"e.g. 5.0\",\n",
        "            \"type\": \"numeric\",\n",
        "            \"input_type\": \"text\",\n",
        "            \"column_name\": \"YearsEmployed\",\n",
        "            \"process\": lambda x: float(x) if float(x) >= 0 else np.nan,\n",
        "        },\n",
        "        \"PriorDefault\": {\n",
        "            \"form_field\": \"prior_default_field\",\n",
        "            \"label\": \"Prior Default?\",\n",
        "            \"type\": \"categorical\",\n",
        "            \"input_type\": \"select\",\n",
        "            \"column_name\": \"PriorDefault\",\n",
        "            \"process\": lambda x: int(x) if x in [\"0\", \"1\"] else np.nan,\n",
        "            \"options\": {\n",
        "                \"unknown\": \"Unknown\",\n",
        "                \"1\": \"Yes\",\n",
        "                \"0\": \"No\"\n",
        "            }\n",
        "        },\n",
        "        \"Employed\": {\n",
        "            \"form_field\": \"employed_field\",\n",
        "            \"label\": \"Employed?\",\n",
        "            \"type\": \"categorical\",\n",
        "            \"input_type\": \"select\",\n",
        "            \"column_name\": \"Employed\",\n",
        "            \"process\": lambda x: int(x) if x in [\"0\", \"1\"] else np.nan,\n",
        "            \"options\": {\n",
        "                \"unknown\": \"Unknown\",\n",
        "                \"1\": \"Yes\",\n",
        "                \"0\": \"No\"\n",
        "            }\n",
        "        },\n",
        "        \"CreditScore\": {\n",
        "            \"form_field\": \"credit_score_field\",\n",
        "            \"label\": \"Credit Score\",\n",
        "            \"placeholder\": \"e.g. 5\",\n",
        "            \"type\": \"numeric\",\n",
        "            \"input_type\": \"text\",\n",
        "            \"column_name\": \"CreditScore\",\n",
        "            \"process\": lambda x: float(x) if float(x) >= 0 else np.nan,\n",
        "        },\n",
        "        \"DriversLicense\": {\n",
        "            \"form_field\": \"drivers_license_field\",\n",
        "            \"label\": \"Has Driver's License?\",\n",
        "            \"type\": \"categorical\",\n",
        "            \"input_type\": \"select\",\n",
        "            \"column_name\": \"DriversLicense\",\n",
        "            \"process\": lambda x: int(x) if x in [\"0\", \"1\"] else np.nan,\n",
        "            \"options\": {\n",
        "                \"unknown\": \"Unknown\",\n",
        "                \"1\": \"Yes\",\n",
        "                \"0\": \"No\"\n",
        "            }\n",
        "        },\n",
        "        \"Income\": {\n",
        "            \"form_field\": \"income_field\",\n",
        "            \"label\": \"Income\",\n",
        "            \"placeholder\": \"e.g. 5000\",\n",
        "            \"type\": \"numeric\",\n",
        "            \"input_type\": \"text\",\n",
        "            \"column_name\": \"Income\",\n",
        "            \"process\": lambda x: float(x) if float(x) >= 0 else np.nan,\n",
        "        }\n",
        "    }\n",
        "\n",
        "# Get dataset configuration\n",
        "config = get_dataset_config()\n"
      ]
    },
    {
      "cell_type": "markdown",
      "metadata": {
        "id": "vqEK2RA7EJ6E"
      },
      "source": [
        "# A note about debugging\n",
        "\n",
        "Using print statements in any of the functions we have defined will not work. They will get swallowed up by the threaded server. What I have found most useful is to put `assert False, f\"info I want to print out\"` in a function. This will cause an error on the web page that you can see. You can then make a change and reload the web page. Don't need to restart the server.\n",
        "\n",
        "Note that if you change `get_dataset_config`, you will need to rerun several cells, i.e., the one above and the one below, to get a modified `fpage`."
      ]
    },
    {
      "cell_type": "markdown",
      "metadata": {
        "id": "rklLqR0EMHgz"
      },
      "source": [
        "# This function is key\n",
        "\n",
        "It takes the config file you build and integrates it with the last piece you need, the set of questions to ask the user."
      ]
    },
    {
      "cell_type": "code",
      "execution_count": 25,
      "metadata": {
        "id": "rAhOkbePBFl9"
      },
      "outputs": [],
      "source": [
        "def complete_form(config, form_id=\"row_info\", action=\"data\", method=\"POST\"):\n",
        "    \"\"\"\n",
        "    Generate form HTML using the dataset configuration.\n",
        "    \"\"\"\n",
        "    form_elements = []\n",
        "\n",
        "    # Create HTML for each field based on its type\n",
        "    for field_id, field_config in config.items():\n",
        "        if field_config[\"input_type\"] == \"text\":\n",
        "            form_elements.append(\n",
        "                text_input(\n",
        "                    field_config[\"form_field\"],\n",
        "                    field_config[\"label\"],\n",
        "                    field_config.get(\"placeholder\", \"\")\n",
        "                )\n",
        "            )\n",
        "        elif field_config[\"input_type\"] == \"select\":\n",
        "            form_elements.append(\n",
        "                dropdown_select(\n",
        "                    field_config[\"form_field\"],\n",
        "                    field_config[\"label\"],\n",
        "                    field_config[\"options\"]\n",
        "                )\n",
        "            )\n",
        "\n",
        "    # Build the complete form\n",
        "    form_html = f'''\n",
        "    <form id=\"{form_id}\" action=\"{action}\" method=\"{method}\">\n",
        "        <input type='hidden' id='hidden1' value='hidden value'/>\n",
        "        {''.join(form_elements)}\n",
        "        {submit_button(\"Evaluate\")}\n",
        "    </form>\n",
        "    '''\n",
        "\n",
        "    return form_html\n",
        "\n",
        "fpage = create_template_page(config, fpage_template, pipeline_docs_html, lgb_table, logreg_table, knn_table, ann_table)  #start the glueing process"
      ]
    },
    {
      "cell_type": "markdown",
      "metadata": {
        "id": "ucj3xOOVhGhs"
      },
      "source": [
        "### You now have full **static** template in fpage\n",
        "\n",
        "The dynamic part is taking form data, creating predictions and Lime tables, and filling in pieces in template.\n",
        "\n",
        "There are no changes needed from here on."
      ]
    },
    {
      "cell_type": "markdown",
      "metadata": {
        "id": "TzfXKTXoCqqq"
      },
      "source": [
        "# Server data handling method\n",
        "\n",
        "No need to change. Called when user clicks `Evaluate` button on frontend page.\n",
        "\n",
        "Runs pipeline then does prediction.\n",
        "\n"
      ]
    },
    {
      "cell_type": "code",
      "execution_count": 26,
      "metadata": {
        "id": "FJZ9TJEQM-WE"
      },
      "outputs": [],
      "source": [
        "def handle_data(columns, fitted_transformer, config, column_order):\n",
        "    \"\"\"\n",
        "    Process form data using the dataset configuration.\n",
        "\n",
        "    Parameters:\n",
        "    -----------\n",
        "    columns : dict\n",
        "        Dictionary containing form field values, with field names as keys\n",
        "    fitted_transformer : Pipeline\n",
        "        Fitted sklearn Pipeline for transforming the input data\n",
        "    config : dict\n",
        "        Dataset configuration from get_dataset_config()\n",
        "\n",
        "    Returns:\n",
        "    --------\n",
        "    tuple\n",
        "        (transformed_row, yhat_lgb, yhat_knn, yhat_logreg, yhat_ann)\n",
        "    \"\"\"\n",
        "\n",
        "    # string to print\n",
        "    assert_stuff = ''\n",
        "\n",
        "    # Create DataFrame with columns in the expected order\n",
        "    row_df = pd.DataFrame(columns=column_order)\n",
        "    row_df.loc[0] = np.nan  # Add blank row\n",
        "\n",
        "    # Process form values and fill the DataFrame\n",
        "\n",
        "    assert_stuff += f'\\n columns:{columns}\\n rowdf_columns: {row_df.columns}'\n",
        "\n",
        "    for field_id, field_config in config.items():\n",
        "        form_field = field_config[\"form_field\"]\n",
        "        column_name = field_config[\"column_name\"]\n",
        "\n",
        "        assert_stuff += f'\\nform field {form_field} and col name {column_name}'\n",
        "\n",
        "        if form_field in columns and column_name in row_df.columns:\n",
        "            # Apply the field's processing function and assign to the correct column\n",
        "            processed_value = field_config[\"process\"](columns[form_field])\n",
        "            assert_stuff += f'\\n{processed_value}, source: {columns[form_field]}'\n",
        "            row_df.loc[0, column_name] = processed_value\n",
        "\n",
        "    # assert False, assert_stuff\n",
        "\n",
        "    # Run pipeline\n",
        "    row_transformed = fitted_transformer.transform(row_df)\n",
        "\n",
        "    # Grab added row\n",
        "    new_row = row_transformed.loc[0].to_list()\n",
        "    new_row = np.array(new_row)\n",
        "    new_row = np.reshape(new_row, (1,-1)) if len(new_row.shape)==1 else new_row\n",
        "\n",
        "    # Get predictions\n",
        "    yhat_lgb, yhat_knn, yhat_logreg, yhat_ann = get_prediction(new_row)\n",
        "\n",
        "    return new_row, yhat_lgb, yhat_knn, yhat_logreg, yhat_ann"
      ]
    },
    {
      "cell_type": "code",
      "execution_count": 27,
      "metadata": {
        "id": "Pq1tLmP0Ik_D"
      },
      "outputs": [],
      "source": [
        "# Helper function to change ann output into pairs of probabilities in Lime - use as is\n",
        "def ann_proba(rows):\n",
        "  yhat = ann_model.predict(rows)\n",
        "  result = [[1.0-p[0],p[0]] for p in yhat]  #wrangle into proba form\n",
        "  x = np.array(result)\n",
        "  return x"
      ]
    },
    {
      "cell_type": "code",
      "execution_count": 28,
      "metadata": {
        "id": "7Dd3MQcVyh7j"
      },
      "outputs": [],
      "source": [
        "# Helper function to build dataframe for Lime results - use as is\n",
        "def create_lime_table(the_explainer):\n",
        "  the_probs = the_explainer.predict_proba.round(2)\n",
        "  the_list = the_explainer.as_list()\n",
        "  df = pd.DataFrame(columns=['Condition', 'Probs', \"Contribution\"])\n",
        "  for i,row in enumerate(the_list):\n",
        "    df.loc[i] = [row[0],the_probs,row[1]]\n",
        "  return df"
      ]
    },
    {
      "cell_type": "markdown",
      "metadata": {
        "id": "P8h18FbNFALf"
      },
      "source": [
        "# Get predictions from 4 models\n",
        "\n",
        "This function is called, last thing, by `handle_data`. You should not have to change it.\n"
      ]
    },
    {
      "cell_type": "code",
      "execution_count": 29,
      "metadata": {
        "id": "PL5yKtZDTKn2"
      },
      "outputs": [],
      "source": [
        "# I probably should pass all the models in but I'm using them as globals. My bad. Being lazy.\n",
        "\n",
        "def get_prediction(row):\n",
        "\n",
        "  global lgb_model, knn_model, logreg_model, ann_model\n",
        "\n",
        "  assert len(row.shape)==2 and row.shape[0]==1, f'Expecting nested numpy array but got {row}'\n",
        "  assert logreg_model.n_features_in_ == len(row[0]), f'length mismatch with what was trained on and row to predict: {logreg_model.n_features_in_} and {len(row[0])}'\n",
        "\n",
        "  #lgb\n",
        "  lgb_raw = lgb_model.predict_proba(row)  #predict last row, we just tacked on\n",
        "  yhat_lgb = lgb_raw[:,1]\n",
        "\n",
        "  #KNN\n",
        "  knn_raw = knn_model.predict_proba(row)\n",
        "  yhat_knn = knn_raw[:,1]\n",
        "\n",
        "  #logreg\n",
        "  logreg_raw = logreg_model.predict_proba(row)\n",
        "  yhat_logreg = logreg_raw[:,1]\n",
        "\n",
        "\n",
        "  #ANN\n",
        "  yhat_ann = ann_model.predict(row)[:,0]\n",
        "\n",
        "  return [yhat_lgb, yhat_knn, yhat_logreg, yhat_ann]"
      ]
    },
    {
      "cell_type": "markdown",
      "metadata": {
        "id": "VLco6xy1HgfU"
      },
      "source": [
        "## This function called during runtime\n",
        "\n",
        "It takes fpage and values computed from user data, and updates the page."
      ]
    },
    {
      "cell_type": "code",
      "execution_count": 30,
      "metadata": {
        "id": "N_CowldLlTuH"
      },
      "outputs": [],
      "source": [
        "def create_page(page, **fillers):\n",
        "  new_page = page[:]  #copy\n",
        "  for k,v in fillers.items():\n",
        "    new_page = new_page.replace(f'%{str(k)}%', str(v))\n",
        "  return new_page"
      ]
    },
    {
      "cell_type": "markdown",
      "metadata": {
        "id": "jKbzLKVruubE"
      },
      "source": [
        "# IX. The actual server\n",
        "\n",
        "I have it threaded so that it will run behind the scenes.\n",
        "\n",
        "We will also see a url printed in the output cell. This is what we can send to anyone on the planet with a browser and they can hook up to our server. You want the url that has the form `http://....ngrok-free.app`.\n",
        "\n",
        "If you have errors with the ngrok code below, I would consult Gemini/Claude/chatGPT, etc. I am not an expert on ngrok and they probably are.\n",
        "\n"
      ]
    },
    {
      "cell_type": "markdown",
      "metadata": {
        "id": "u7tBBX6fh5qu"
      },
      "source": [
        "## Important: get your own auth code\n",
        "\n",
        "If you use mine, it limits us to one server running at a time. Hence, if you are using my auth code, I cannot run. So get your own! It is not that hard.\n",
        "See Step 2 here: https://medium.com/@thexpertdev/ngrok-tutorial-for-beginners-how-to-expose-localhost-to-the-internet-and-test-webhooks-70845654fced\n",
        "\n"
      ]
    },
    {
      "cell_type": "code",
      "execution_count": 31,
      "metadata": {
        "id": "WHuXniqgy2ZR",
        "colab": {
          "base_uri": "https://localhost:8080/"
        },
        "outputId": "1b24cbc3-c7ba-46d3-a226-f380f41dd2bb"
      },
      "outputs": [
        {
          "output_type": "stream",
          "name": "stdout",
          "text": [
            "Requirement already satisfied: pyngrok in /usr/local/lib/python3.11/dist-packages (7.2.11)\n",
            "Requirement already satisfied: PyYAML>=5.1 in /usr/local/lib/python3.11/dist-packages (from pyngrok) (6.0.2)\n"
          ]
        }
      ],
      "source": [
        "import threading\n",
        "!pip install pyngrok\n",
        "from pyngrok import ngrok"
      ]
    },
    {
      "cell_type": "markdown",
      "metadata": {
        "id": "l9P5ynGmlmot"
      },
      "source": [
        "## This is my token\n",
        "\n",
        "Get your own!"
      ]
    },
    {
      "cell_type": "code",
      "execution_count": 32,
      "metadata": {
        "id": "Od73q0LMlTKM"
      },
      "outputs": [],
      "source": [
        "ngrok_auth_token = '2y7kHHEylcni2iIQaYi98bVUwwX_7W1uereDdmDtHnGareT6h'      #'2IHAcPIUsjsfalQCtXV7IMFPsKr_3KbLamqn7KCjEPEQL3ToS'"
      ]
    },
    {
      "cell_type": "markdown",
      "metadata": {
        "id": "KqOgr-6MRuZq"
      },
      "source": [
        "### If you need to restart the server\n",
        "\n",
        "`kill_port` will bring down the server and so you can restart it. Your old user page should be deleted and you should create a new one with new link.\n",
        "\n",
        "That said, I see no reason you should have to kill the server once it is running. You can make changes to any of the functions we have seen and server will not complain and use those changes. Cool."
      ]
    },
    {
      "cell_type": "code",
      "execution_count": 33,
      "metadata": {
        "id": "Pycx7WOnsU-d"
      },
      "outputs": [],
      "source": [
        "import psutil\n",
        "import subprocess\n",
        "\n",
        "def kill_port(port):\n",
        "    try:\n",
        "        # Get the process ID using lsof\n",
        "        output = subprocess.check_output([\"lsof\", \"-t\", \"-i\", f\":{port}\"])\n",
        "        pid = int(output.decode().strip())\n",
        "\n",
        "        # Kill the process\n",
        "        process = psutil.Process(pid)\n",
        "        process.terminate()  # Gracefully terminate first\n",
        "        print(f\"Process on port {port} (PID: {pid}) has been terminated.\")\n",
        "\n",
        "    except subprocess.CalledProcessError:\n",
        "        print(f\"No process found running on port {port}\")\n",
        "    except psutil.NoSuchProcess:\n",
        "        print(f\"Process already terminated\")\n",
        "    except Exception as e:\n",
        "        print(f\"Error occurred: {e}\")\n"
      ]
    },
    {
      "cell_type": "code",
      "execution_count": 34,
      "metadata": {
        "id": "zVEYTT5Vs_Dh",
        "colab": {
          "base_uri": "https://localhost:8080/"
        },
        "outputId": "b93cc15a-45e1-4d51-de7e-64c2bbca3f68"
      },
      "outputs": [
        {
          "output_type": "stream",
          "name": "stdout",
          "text": [
            "ngrok: no process found\n",
            "No process found running on port 5000\n"
          ]
        }
      ],
      "source": [
        "!killall ngrok >/dev/null\n",
        "kill_port(5000)"
      ]
    },
    {
      "cell_type": "code",
      "execution_count": 35,
      "metadata": {
        "id": "J4gePtUiLKc5",
        "colab": {
          "base_uri": "https://localhost:8080/"
        },
        "outputId": "f00d26c2-490e-47ab-ae13-bdea8fefb425"
      },
      "outputs": [
        {
          "output_type": "stream",
          "name": "stdout",
          "text": [
            "Connection: NgrokTunnel: \"https://fcec-34-75-89-92.ngrok-free.app\" -> \"http://localhost:5000\"\n"
          ]
        }
      ],
      "source": [
        "os.environ['FLASK_DEBUG'] = \"development\"\n",
        "app = Flask(__name__)\n",
        "port = 5000\n",
        "#Setting an auth token allows us to open a tunnel\n",
        "ngrok.set_auth_token(ngrok_auth_token)\n",
        "# Open a ngrok tunnel to the HTTP server\n",
        "connection = ngrok.connect(port)\n",
        "print(f'Connection: {connection}')\n",
        "public_url = connection if isinstance(connection, str) else connection.public_url\n",
        "\n",
        "# Update any base URLs to use the public ngrok URL\n",
        "app.config[\"BASE_URL\"] = public_url\n",
        "\n",
        "# Define Flask routes\n",
        "@app.route(\"/\")\n",
        "#This function called when user first enters url into browser\n",
        "def home():\n",
        "    return create_page(fpage, lgb='', knn='', logreg='', ann='', ensemble='', row_data='',\n",
        "                          lgb_lime_table='',\n",
        "                           logreg_lime_table = '',\n",
        "                           knn_lime_table = '',\n",
        "                           ann_lime_table = '')\n",
        "\n",
        "@app.route('/data', methods = ['POST'])\n",
        "#This function called when user hits Evaluate button\n",
        "def data():\n",
        "\n",
        "  global feature_names, lime_explainer, lgb_model, knn_model, logreg_model, ann_model, fitted_transformer\n",
        "\n",
        "  form_data = request.form\n",
        "\n",
        "  #get predictions\n",
        "  new_row, yhat_lgb, yhat_knn, yhat_logreg, yhat_ann = handle_data(form_data.to_dict(), fitted_transformer, config, feature_names)  #calling my own function here\n",
        "  ensemble = (yhat_lgb[0]+yhat_knn[0]+yhat_logreg[0]+yhat_ann[0])/4.0\n",
        "  lgb = np.round(yhat_lgb[0], 2)\n",
        "  knn = np.round(yhat_knn[0], 2)\n",
        "  logreg = np.round(yhat_logreg[0], 2)\n",
        "  ann = np.round(yhat_ann[0], 2)\n",
        "  ensemble = np.round(ensemble, 2)\n",
        "\n",
        "  #handle lime stuff\n",
        "  if lime_explainer:\n",
        "    try:\n",
        "      logreg_explanation = lime_explainer.explain_instance(new_row[0], logreg_model.predict_proba, num_features=len(feature_names))\n",
        "      lime_df = create_lime_table(logreg_explanation)\n",
        "      logreg_lime_table = lime_df.to_html(index=False, justify='center').replace('<td>','<td style=\"text-align: center;\">')\n",
        "    except Exception as e:\n",
        "      logreg_lime_table = e\n",
        "      pass\n",
        "    try:\n",
        "      lgb_explanation = lime_explainer.explain_instance(new_row[0], lgb_model.predict_proba, num_features=len(feature_names))\n",
        "      lime_df = create_lime_table(lgb_explanation)\n",
        "      lgb_lime_table = lime_df.to_html(index=False, justify='center').replace('<td>', '<td style=\"text-align: center;\">')\n",
        "    except Exception as e:\n",
        "      lgb_lime_table = e\n",
        "      pass\n",
        "    try:\n",
        "      knn_explanation = lime_explainer.explain_instance(new_row[0], knn_model.predict_proba, num_features=len(feature_names))\n",
        "      lime_df = create_lime_table(knn_explanation)\n",
        "      knn_lime_table = lime_df.to_html(index=False, justify='center').replace('<td>', '<td style=\"text-align: center;\">')\n",
        "    except Exception as e:\n",
        "      knn_lime_table = e\n",
        "      pass\n",
        "    try:\n",
        "      ann_explanation = lime_explainer.explain_instance(new_row[0], ann_proba, num_features=len(feature_names))\n",
        "      lime_df = create_lime_table(ann_explanation)\n",
        "      ann_lime_table = lime_df.to_html(index=False, justify='center').replace('<td>', '<td style=\"text-align: center;\">')\n",
        "    except Exception as e:\n",
        "      ann_lime_table = e\n",
        "      pass\n",
        "\n",
        "  #fill in fpage with results from models and Lime\n",
        "  return create_page(fpage, lgb=lgb, knn=knn, logreg=logreg, ann=ann, ensemble=ensemble, row_data=str(form_data.to_dict()),\n",
        "                           lgb_lime_table=lgb_lime_table,\n",
        "                           logreg_lime_table = logreg_lime_table,\n",
        "                           knn_lime_table = knn_lime_table,\n",
        "                           ann_lime_table = ann_lime_table\n",
        "                           )\n",
        "\n",
        "\n",
        "# Start the Flask server in a new thread\n",
        "threading.Thread(target=app.run, kwargs={\"use_reloader\": False}).start()\n"
      ]
    },
    {
      "cell_type": "markdown",
      "metadata": {
        "id": "S79bHStymUjC"
      },
      "source": [
        "### You should see something like this\n",
        "\n",
        "<pre>\n",
        "Connection: NgrokTunnel: \"https://a93f-35-237-39-159.ngrok-free.app\" -> \"http://localhost:5000\"\n",
        " * Serving Flask app '__main__'\n",
        " * Debug mode: on\n",
        " </pre>\n",
        "\n",
        " The first url is the one that gets you to your page (and that you would hand out for others to see, as long as the server is running)."
      ]
    },
    {
      "cell_type": "markdown",
      "metadata": {
        "id": "2eizaaaFSVfl"
      },
      "source": [
        "### The server is running in background at this point"
      ]
    },
    {
      "cell_type": "code",
      "execution_count": 36,
      "metadata": {
        "id": "qz-a-X9zENsD",
        "colab": {
          "base_uri": "https://localhost:8080/",
          "height": 238
        },
        "outputId": "b66fe47d-7b68-4c45-b907-aecaee35dc7f"
      },
      "outputs": [
        {
          "output_type": "stream",
          "name": "stdout",
          "text": [
            " * Serving Flask app 'library'\n",
            " * Debug mode: on\n"
          ]
        },
        {
          "output_type": "stream",
          "name": "stderr",
          "text": [
            "INFO:werkzeug:\u001b[31m\u001b[1mWARNING: This is a development server. Do not use it in a production deployment. Use a production WSGI server instead.\u001b[0m\n",
            " * Running on http://127.0.0.1:5000\n",
            "INFO:werkzeug:\u001b[33mPress CTRL+C to quit\u001b[0m\n"
          ]
        },
        {
          "output_type": "error",
          "ename": "NameError",
          "evalue": "name 'foobar' is not defined",
          "traceback": [
            "\u001b[0;31m---------------------------------------------------------------------------\u001b[0m",
            "\u001b[0;31mNameError\u001b[0m                                 Traceback (most recent call last)",
            "\u001b[0;32m/content/library.py\u001b[0m in \u001b[0;36m<cell line: 0>\u001b[0;34m()\u001b[0m\n\u001b[0;32m----> 1\u001b[0;31m \u001b[0mfoobar\u001b[0m  \u001b[0;31m#causes error but now you can go back and edit your code if you wish - the server is still running in another thread\u001b[0m\u001b[0;34m\u001b[0m\u001b[0;34m\u001b[0m\u001b[0m\n\u001b[0m",
            "\u001b[0;31mNameError\u001b[0m: name 'foobar' is not defined"
          ]
        }
      ],
      "source": [
        "foobar  #causes error but now you can go back and edit your code if you wish - the server is still running in another thread"
      ]
    }
  ],
  "metadata": {
    "colab": {
      "collapsed_sections": [
        "nR3y23UnBFl5",
        "76rkcf-UBFl7",
        "eJZwI4ng8PBc"
      ],
      "provenance": []
    },
    "kernelspec": {
      "display_name": "Python 3",
      "name": "python3"
    },
    "language_info": {
      "name": "python"
    }
  },
  "nbformat": 4,
  "nbformat_minor": 0
}