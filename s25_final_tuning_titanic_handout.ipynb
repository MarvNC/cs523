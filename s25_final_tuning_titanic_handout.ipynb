{
  "cells": [
    {
      "cell_type": "markdown",
      "metadata": {
        "id": "IkkU_68T1yAa"
      },
      "source": [
        "# Announcement\n",
        "\n",
        "As with wrangling, I switched this notebook over to use the Titanic dataset for consistency. The video uses the Pima dataset.\n",
        "\n",
        "The video ends rather abuptly. I hope the notebook is clear and what you need to do.\n",
        "\n",
        "One thing I introduce is Upsampling. I promised I would do this way back in Chapter 2. I do not expect you to use it but thought it was worth demonstrating.\n",
        "\n",
        "I also provide an optional make-up problem for you to get points back.\n",
        "\n",
        "At the end of the notebook, I explore several ways of combining the four models. The most sophisticated is something called stacking. In essence we build a meta-model that we train with the output of the existing models. So this meta-model attempts to learn how to interpret the existing models' output."
      ]
    },
    {
      "cell_type": "markdown",
      "metadata": {
        "id": "bzDiYMkiYgRS"
      },
      "source": [
        "<center>\n",
        "<h1>Training and Tuning</h1>\n",
        "</center>\n",
        "\n",
        "<hr>\n",
        "\n",
        "Once you are done here, you are ready to start playing with your server. Cool."
      ]
    },
    {
      "cell_type": "markdown",
      "metadata": {
        "id": "v_cK-F4Az4XG"
      },
      "source": [
        "# How long does it take?\n",
        "\n",
        "I think tuning time is the biggest issue for you now.\n",
        "Using Pima data (training set = 614 rows) and what I consider an ok set of parameters to tune, this notebook takes me roughly 3 hours.\n",
        "\n",
        "Take away is that as you tune each model, be aware that you might need to leave it running while you do something else.\n",
        "\n",
        "The good news is that each model-tuning step is independent. Once you tune model X and save to GitHub, you are done with model X and can move on to model Y. The bad news is that if your dataset is larger, e.g., 5K rows, you can expect an increase in my times.\n",
        "\n",
        "The further bad news is that there is not an easy way to get a progress bar with HalvingSearch. So if you wait 30 minutes, you don't know if you are almost done or will take another 4 hours.\n",
        "\n",
        "Here are some strategies to consider:\n",
        "\n",
        "1. Use incremental tuning. Tune some subset of params. Get best values and fix them. Then take on new subset using fixed values from past. You can use this strategy with both halving search and keras tuner.\n",
        "\n",
        "2. I have factor=3. You could increase it to reduce wait time. But my experimentation tells me you may not gain that much.\n",
        "\n",
        "3. For keras_tuner, it's easier. You can play around with `max_trials`. Set it small to start, e.g., 5. You can count on linearity here. If 5 trials takes 10 minutes, 50 likely to take 100 minutes."
      ]
    },
    {
      "cell_type": "markdown",
      "metadata": {
        "id": "bZiquu_S3vZG"
      },
      "source": [
        "## Set-up\n",
        "\n",
        "First bring in your library."
      ]
    },
    {
      "cell_type": "code",
      "execution_count": 30,
      "metadata": {
        "colab": {
          "base_uri": "https://localhost:8080/"
        },
        "id": "AZ6MOQmuVewi",
        "outputId": "dfae21f5-d419-48ee-e565-eaf8d7fc3a73"
      },
      "outputs": [
        {
          "output_type": "stream",
          "name": "stdout",
          "text": [
            "--2025-06-06 05:59:45--  https://raw.githubusercontent.com/marvnc/cs523/main/library.py\n",
            "Resolving raw.githubusercontent.com (raw.githubusercontent.com)... 185.199.108.133, 185.199.109.133, 185.199.110.133, ...\n",
            "Connecting to raw.githubusercontent.com (raw.githubusercontent.com)|185.199.108.133|:443... connected.\n",
            "HTTP request sent, awaiting response... 200 OK\n",
            "Length: 49866 (49K) [text/plain]\n",
            "Saving to: ‘library.py’\n",
            "\n",
            "library.py          100%[===================>]  48.70K  --.-KB/s    in 0.01s   \n",
            "\n",
            "2025-06-06 05:59:46 (3.74 MB/s) - ‘library.py’ saved [49866/49866]\n",
            "\n"
          ]
        }
      ],
      "source": [
        "github_name = 'marvnc'\n",
        "repo_name = 'cs523'\n",
        "source_file = 'library.py'\n",
        "url = f'https://raw.githubusercontent.com/{github_name}/{repo_name}/main/{source_file}'\n",
        "!rm $source_file\n",
        "!wget $url\n",
        "%run -i $source_file\n",
        "# from library import *"
      ]
    },
    {
      "cell_type": "markdown",
      "metadata": {
        "id": "wXWcOKJN4y82"
      },
      "source": [
        "## You need to change this url to point to your own dataset\n",
        "\n",
        "And good idea to rename variables using \"titanic\" to something closer to your dataset."
      ]
    },
    {
      "cell_type": "code",
      "execution_count": 31,
      "metadata": {
        "colab": {
          "base_uri": "https://localhost:8080/",
          "height": 226
        },
        "id": "ZVTLBYampYbo",
        "outputId": "e2d516c2-1634-45e3-efcb-179a5528810e"
      },
      "outputs": [
        {
          "output_type": "execute_result",
          "data": {
            "text/plain": [
              "   Gender    Age   Debt  YearsEmployed  PriorDefault  Employed  CreditScore  \\\n",
              "0       1  30.83  0.000           1.25             1         1            1   \n",
              "1       0  58.67  4.460           3.04             1         1            6   \n",
              "2       0  24.50  0.500           1.50             1         0            0   \n",
              "3       1  27.83  1.540           3.75             1         1            5   \n",
              "4       1  20.17  5.625           1.71             1         0            0   \n",
              "\n",
              "   DriversLicense  Income  Approved  \n",
              "0               0       0         1  \n",
              "1               0     560         1  \n",
              "2               0     824         1  \n",
              "3               1       3         1  \n",
              "4               0       0         1  "
            ],
            "text/html": [
              "\n",
              "  <div id=\"df-c883f696-4be9-42a9-b2bc-4527382dcb02\" class=\"colab-df-container\">\n",
              "    <div>\n",
              "<style scoped>\n",
              "    .dataframe tbody tr th:only-of-type {\n",
              "        vertical-align: middle;\n",
              "    }\n",
              "\n",
              "    .dataframe tbody tr th {\n",
              "        vertical-align: top;\n",
              "    }\n",
              "\n",
              "    .dataframe thead th {\n",
              "        text-align: right;\n",
              "    }\n",
              "</style>\n",
              "<table border=\"1\" class=\"dataframe\">\n",
              "  <thead>\n",
              "    <tr style=\"text-align: right;\">\n",
              "      <th></th>\n",
              "      <th>Gender</th>\n",
              "      <th>Age</th>\n",
              "      <th>Debt</th>\n",
              "      <th>YearsEmployed</th>\n",
              "      <th>PriorDefault</th>\n",
              "      <th>Employed</th>\n",
              "      <th>CreditScore</th>\n",
              "      <th>DriversLicense</th>\n",
              "      <th>Income</th>\n",
              "      <th>Approved</th>\n",
              "    </tr>\n",
              "  </thead>\n",
              "  <tbody>\n",
              "    <tr>\n",
              "      <th>0</th>\n",
              "      <td>1</td>\n",
              "      <td>30.83</td>\n",
              "      <td>0.000</td>\n",
              "      <td>1.25</td>\n",
              "      <td>1</td>\n",
              "      <td>1</td>\n",
              "      <td>1</td>\n",
              "      <td>0</td>\n",
              "      <td>0</td>\n",
              "      <td>1</td>\n",
              "    </tr>\n",
              "    <tr>\n",
              "      <th>1</th>\n",
              "      <td>0</td>\n",
              "      <td>58.67</td>\n",
              "      <td>4.460</td>\n",
              "      <td>3.04</td>\n",
              "      <td>1</td>\n",
              "      <td>1</td>\n",
              "      <td>6</td>\n",
              "      <td>0</td>\n",
              "      <td>560</td>\n",
              "      <td>1</td>\n",
              "    </tr>\n",
              "    <tr>\n",
              "      <th>2</th>\n",
              "      <td>0</td>\n",
              "      <td>24.50</td>\n",
              "      <td>0.500</td>\n",
              "      <td>1.50</td>\n",
              "      <td>1</td>\n",
              "      <td>0</td>\n",
              "      <td>0</td>\n",
              "      <td>0</td>\n",
              "      <td>824</td>\n",
              "      <td>1</td>\n",
              "    </tr>\n",
              "    <tr>\n",
              "      <th>3</th>\n",
              "      <td>1</td>\n",
              "      <td>27.83</td>\n",
              "      <td>1.540</td>\n",
              "      <td>3.75</td>\n",
              "      <td>1</td>\n",
              "      <td>1</td>\n",
              "      <td>5</td>\n",
              "      <td>1</td>\n",
              "      <td>3</td>\n",
              "      <td>1</td>\n",
              "    </tr>\n",
              "    <tr>\n",
              "      <th>4</th>\n",
              "      <td>1</td>\n",
              "      <td>20.17</td>\n",
              "      <td>5.625</td>\n",
              "      <td>1.71</td>\n",
              "      <td>1</td>\n",
              "      <td>0</td>\n",
              "      <td>0</td>\n",
              "      <td>0</td>\n",
              "      <td>0</td>\n",
              "      <td>1</td>\n",
              "    </tr>\n",
              "  </tbody>\n",
              "</table>\n",
              "</div>\n",
              "    <div class=\"colab-df-buttons\">\n",
              "\n",
              "  <div class=\"colab-df-container\">\n",
              "    <button class=\"colab-df-convert\" onclick=\"convertToInteractive('df-c883f696-4be9-42a9-b2bc-4527382dcb02')\"\n",
              "            title=\"Convert this dataframe to an interactive table.\"\n",
              "            style=\"display:none;\">\n",
              "\n",
              "  <svg xmlns=\"http://www.w3.org/2000/svg\" height=\"24px\" viewBox=\"0 -960 960 960\">\n",
              "    <path d=\"M120-120v-720h720v720H120Zm60-500h600v-160H180v160Zm220 220h160v-160H400v160Zm0 220h160v-160H400v160ZM180-400h160v-160H180v160Zm440 0h160v-160H620v160ZM180-180h160v-160H180v160Zm440 0h160v-160H620v160Z\"/>\n",
              "  </svg>\n",
              "    </button>\n",
              "\n",
              "  <style>\n",
              "    .colab-df-container {\n",
              "      display:flex;\n",
              "      gap: 12px;\n",
              "    }\n",
              "\n",
              "    .colab-df-convert {\n",
              "      background-color: #E8F0FE;\n",
              "      border: none;\n",
              "      border-radius: 50%;\n",
              "      cursor: pointer;\n",
              "      display: none;\n",
              "      fill: #1967D2;\n",
              "      height: 32px;\n",
              "      padding: 0 0 0 0;\n",
              "      width: 32px;\n",
              "    }\n",
              "\n",
              "    .colab-df-convert:hover {\n",
              "      background-color: #E2EBFA;\n",
              "      box-shadow: 0px 1px 2px rgba(60, 64, 67, 0.3), 0px 1px 3px 1px rgba(60, 64, 67, 0.15);\n",
              "      fill: #174EA6;\n",
              "    }\n",
              "\n",
              "    .colab-df-buttons div {\n",
              "      margin-bottom: 4px;\n",
              "    }\n",
              "\n",
              "    [theme=dark] .colab-df-convert {\n",
              "      background-color: #3B4455;\n",
              "      fill: #D2E3FC;\n",
              "    }\n",
              "\n",
              "    [theme=dark] .colab-df-convert:hover {\n",
              "      background-color: #434B5C;\n",
              "      box-shadow: 0px 1px 3px 1px rgba(0, 0, 0, 0.15);\n",
              "      filter: drop-shadow(0px 1px 2px rgba(0, 0, 0, 0.3));\n",
              "      fill: #FFFFFF;\n",
              "    }\n",
              "  </style>\n",
              "\n",
              "    <script>\n",
              "      const buttonEl =\n",
              "        document.querySelector('#df-c883f696-4be9-42a9-b2bc-4527382dcb02 button.colab-df-convert');\n",
              "      buttonEl.style.display =\n",
              "        google.colab.kernel.accessAllowed ? 'block' : 'none';\n",
              "\n",
              "      async function convertToInteractive(key) {\n",
              "        const element = document.querySelector('#df-c883f696-4be9-42a9-b2bc-4527382dcb02');\n",
              "        const dataTable =\n",
              "          await google.colab.kernel.invokeFunction('convertToInteractive',\n",
              "                                                    [key], {});\n",
              "        if (!dataTable) return;\n",
              "\n",
              "        const docLinkHtml = 'Like what you see? Visit the ' +\n",
              "          '<a target=\"_blank\" href=https://colab.research.google.com/notebooks/data_table.ipynb>data table notebook</a>'\n",
              "          + ' to learn more about interactive tables.';\n",
              "        element.innerHTML = '';\n",
              "        dataTable['output_type'] = 'display_data';\n",
              "        await google.colab.output.renderOutput(dataTable, element);\n",
              "        const docLink = document.createElement('div');\n",
              "        docLink.innerHTML = docLinkHtml;\n",
              "        element.appendChild(docLink);\n",
              "      }\n",
              "    </script>\n",
              "  </div>\n",
              "\n",
              "\n",
              "    <div id=\"df-d9e2ba6d-113a-446d-b85c-0da148239199\">\n",
              "      <button class=\"colab-df-quickchart\" onclick=\"quickchart('df-d9e2ba6d-113a-446d-b85c-0da148239199')\"\n",
              "                title=\"Suggest charts\"\n",
              "                style=\"display:none;\">\n",
              "\n",
              "<svg xmlns=\"http://www.w3.org/2000/svg\" height=\"24px\"viewBox=\"0 0 24 24\"\n",
              "     width=\"24px\">\n",
              "    <g>\n",
              "        <path d=\"M19 3H5c-1.1 0-2 .9-2 2v14c0 1.1.9 2 2 2h14c1.1 0 2-.9 2-2V5c0-1.1-.9-2-2-2zM9 17H7v-7h2v7zm4 0h-2V7h2v10zm4 0h-2v-4h2v4z\"/>\n",
              "    </g>\n",
              "</svg>\n",
              "      </button>\n",
              "\n",
              "<style>\n",
              "  .colab-df-quickchart {\n",
              "      --bg-color: #E8F0FE;\n",
              "      --fill-color: #1967D2;\n",
              "      --hover-bg-color: #E2EBFA;\n",
              "      --hover-fill-color: #174EA6;\n",
              "      --disabled-fill-color: #AAA;\n",
              "      --disabled-bg-color: #DDD;\n",
              "  }\n",
              "\n",
              "  [theme=dark] .colab-df-quickchart {\n",
              "      --bg-color: #3B4455;\n",
              "      --fill-color: #D2E3FC;\n",
              "      --hover-bg-color: #434B5C;\n",
              "      --hover-fill-color: #FFFFFF;\n",
              "      --disabled-bg-color: #3B4455;\n",
              "      --disabled-fill-color: #666;\n",
              "  }\n",
              "\n",
              "  .colab-df-quickchart {\n",
              "    background-color: var(--bg-color);\n",
              "    border: none;\n",
              "    border-radius: 50%;\n",
              "    cursor: pointer;\n",
              "    display: none;\n",
              "    fill: var(--fill-color);\n",
              "    height: 32px;\n",
              "    padding: 0;\n",
              "    width: 32px;\n",
              "  }\n",
              "\n",
              "  .colab-df-quickchart:hover {\n",
              "    background-color: var(--hover-bg-color);\n",
              "    box-shadow: 0 1px 2px rgba(60, 64, 67, 0.3), 0 1px 3px 1px rgba(60, 64, 67, 0.15);\n",
              "    fill: var(--button-hover-fill-color);\n",
              "  }\n",
              "\n",
              "  .colab-df-quickchart-complete:disabled,\n",
              "  .colab-df-quickchart-complete:disabled:hover {\n",
              "    background-color: var(--disabled-bg-color);\n",
              "    fill: var(--disabled-fill-color);\n",
              "    box-shadow: none;\n",
              "  }\n",
              "\n",
              "  .colab-df-spinner {\n",
              "    border: 2px solid var(--fill-color);\n",
              "    border-color: transparent;\n",
              "    border-bottom-color: var(--fill-color);\n",
              "    animation:\n",
              "      spin 1s steps(1) infinite;\n",
              "  }\n",
              "\n",
              "  @keyframes spin {\n",
              "    0% {\n",
              "      border-color: transparent;\n",
              "      border-bottom-color: var(--fill-color);\n",
              "      border-left-color: var(--fill-color);\n",
              "    }\n",
              "    20% {\n",
              "      border-color: transparent;\n",
              "      border-left-color: var(--fill-color);\n",
              "      border-top-color: var(--fill-color);\n",
              "    }\n",
              "    30% {\n",
              "      border-color: transparent;\n",
              "      border-left-color: var(--fill-color);\n",
              "      border-top-color: var(--fill-color);\n",
              "      border-right-color: var(--fill-color);\n",
              "    }\n",
              "    40% {\n",
              "      border-color: transparent;\n",
              "      border-right-color: var(--fill-color);\n",
              "      border-top-color: var(--fill-color);\n",
              "    }\n",
              "    60% {\n",
              "      border-color: transparent;\n",
              "      border-right-color: var(--fill-color);\n",
              "    }\n",
              "    80% {\n",
              "      border-color: transparent;\n",
              "      border-right-color: var(--fill-color);\n",
              "      border-bottom-color: var(--fill-color);\n",
              "    }\n",
              "    90% {\n",
              "      border-color: transparent;\n",
              "      border-bottom-color: var(--fill-color);\n",
              "    }\n",
              "  }\n",
              "</style>\n",
              "\n",
              "      <script>\n",
              "        async function quickchart(key) {\n",
              "          const quickchartButtonEl =\n",
              "            document.querySelector('#' + key + ' button');\n",
              "          quickchartButtonEl.disabled = true;  // To prevent multiple clicks.\n",
              "          quickchartButtonEl.classList.add('colab-df-spinner');\n",
              "          try {\n",
              "            const charts = await google.colab.kernel.invokeFunction(\n",
              "                'suggestCharts', [key], {});\n",
              "          } catch (error) {\n",
              "            console.error('Error during call to suggestCharts:', error);\n",
              "          }\n",
              "          quickchartButtonEl.classList.remove('colab-df-spinner');\n",
              "          quickchartButtonEl.classList.add('colab-df-quickchart-complete');\n",
              "        }\n",
              "        (() => {\n",
              "          let quickchartButtonEl =\n",
              "            document.querySelector('#df-d9e2ba6d-113a-446d-b85c-0da148239199 button');\n",
              "          quickchartButtonEl.style.display =\n",
              "            google.colab.kernel.accessAllowed ? 'block' : 'none';\n",
              "        })();\n",
              "      </script>\n",
              "    </div>\n",
              "\n",
              "    </div>\n",
              "  </div>\n"
            ],
            "application/vnd.google.colaboratory.intrinsic+json": {
              "type": "dataframe",
              "variable_name": "approvals_trimmed",
              "summary": "{\n  \"name\": \"approvals_trimmed\",\n  \"rows\": 690,\n  \"fields\": [\n    {\n      \"column\": \"Gender\",\n      \"properties\": {\n        \"dtype\": \"number\",\n        \"std\": 0,\n        \"min\": 0,\n        \"max\": 1,\n        \"num_unique_values\": 2,\n        \"samples\": [\n          0,\n          1\n        ],\n        \"semantic_type\": \"\",\n        \"description\": \"\"\n      }\n    },\n    {\n      \"column\": \"Age\",\n      \"properties\": {\n        \"dtype\": \"number\",\n        \"std\": 11.860244756156707,\n        \"min\": 13.75,\n        \"max\": 80.25,\n        \"num_unique_values\": 350,\n        \"samples\": [\n          41.75,\n          35.58\n        ],\n        \"semantic_type\": \"\",\n        \"description\": \"\"\n      }\n    },\n    {\n      \"column\": \"Debt\",\n      \"properties\": {\n        \"dtype\": \"number\",\n        \"std\": 4.978163248528541,\n        \"min\": 0.0,\n        \"max\": 28.0,\n        \"num_unique_values\": 215,\n        \"samples\": [\n          10.415,\n          3.29\n        ],\n        \"semantic_type\": \"\",\n        \"description\": \"\"\n      }\n    },\n    {\n      \"column\": \"YearsEmployed\",\n      \"properties\": {\n        \"dtype\": \"number\",\n        \"std\": 3.3465133592781333,\n        \"min\": 0.0,\n        \"max\": 28.5,\n        \"num_unique_values\": 132,\n        \"samples\": [\n          13.5,\n          2.375\n        ],\n        \"semantic_type\": \"\",\n        \"description\": \"\"\n      }\n    },\n    {\n      \"column\": \"PriorDefault\",\n      \"properties\": {\n        \"dtype\": \"number\",\n        \"std\": 0,\n        \"min\": 0,\n        \"max\": 1,\n        \"num_unique_values\": 2,\n        \"samples\": [\n          0,\n          1\n        ],\n        \"semantic_type\": \"\",\n        \"description\": \"\"\n      }\n    },\n    {\n      \"column\": \"Employed\",\n      \"properties\": {\n        \"dtype\": \"number\",\n        \"std\": 0,\n        \"min\": 0,\n        \"max\": 1,\n        \"num_unique_values\": 2,\n        \"samples\": [\n          0,\n          1\n        ],\n        \"semantic_type\": \"\",\n        \"description\": \"\"\n      }\n    },\n    {\n      \"column\": \"CreditScore\",\n      \"properties\": {\n        \"dtype\": \"number\",\n        \"std\": 4,\n        \"min\": 0,\n        \"max\": 67,\n        \"num_unique_values\": 23,\n        \"samples\": [\n          23,\n          9\n        ],\n        \"semantic_type\": \"\",\n        \"description\": \"\"\n      }\n    },\n    {\n      \"column\": \"DriversLicense\",\n      \"properties\": {\n        \"dtype\": \"number\",\n        \"std\": 0,\n        \"min\": 0,\n        \"max\": 1,\n        \"num_unique_values\": 2,\n        \"samples\": [\n          1,\n          0\n        ],\n        \"semantic_type\": \"\",\n        \"description\": \"\"\n      }\n    },\n    {\n      \"column\": \"Income\",\n      \"properties\": {\n        \"dtype\": \"number\",\n        \"std\": 5210,\n        \"min\": 0,\n        \"max\": 100000,\n        \"num_unique_values\": 240,\n        \"samples\": [\n          100,\n          314\n        ],\n        \"semantic_type\": \"\",\n        \"description\": \"\"\n      }\n    },\n    {\n      \"column\": \"Approved\",\n      \"properties\": {\n        \"dtype\": \"number\",\n        \"std\": 0,\n        \"min\": 0,\n        \"max\": 1,\n        \"num_unique_values\": 2,\n        \"samples\": [\n          0,\n          1\n        ],\n        \"semantic_type\": \"\",\n        \"description\": \"\"\n      }\n    }\n  ]\n}"
            }
          },
          "metadata": {},
          "execution_count": 31
        }
      ],
      "source": [
        "# url = 'https://raw.githubusercontent.com/fickas/asynch_models/main/datasets/titanic_trimmed.csv'  #trimmed version\n",
        "url = 'https://raw.githubusercontent.com/MarvNC/cs523/refs/heads/main/s25_final_cc_approvals_reduced.csv'\n",
        "\n",
        "approvals_trimmed = pd.read_csv(url)\n",
        "approvals_trimmed.head()\n"
      ]
    },
    {
      "cell_type": "code",
      "execution_count": 32,
      "metadata": {
        "colab": {
          "base_uri": "https://localhost:8080/"
        },
        "id": "YvZy9mwFVrGf",
        "outputId": "ae9dc767-d70a-4462-e81b-15c38aaf4d8f"
      },
      "outputs": [
        {
          "output_type": "execute_result",
          "data": {
            "text/plain": [
              "690"
            ]
          },
          "metadata": {},
          "execution_count": 32
        }
      ],
      "source": [
        "len(approvals_trimmed)"
      ]
    },
    {
      "cell_type": "markdown",
      "metadata": {
        "id": "zIHq9aUHNcxo"
      },
      "source": [
        "# Break out into features and labels\n",
        "\n"
      ]
    },
    {
      "cell_type": "code",
      "execution_count": 33,
      "metadata": {
        "id": "nH0g0IVGauIa"
      },
      "outputs": [],
      "source": [
        "target_col = 'Approved'\n",
        "\n",
        "approvals_features = approvals_trimmed.drop(columns=target_col)\n",
        "labels = approvals_trimmed[target_col].to_list()"
      ]
    },
    {
      "cell_type": "code",
      "execution_count": 34,
      "metadata": {
        "colab": {
          "base_uri": "https://localhost:8080/"
        },
        "id": "sdQPZk3nU9cY",
        "outputId": "1e8a2bb8-75ba-44f9-f096-5e3bb2b35ac0"
      },
      "outputs": [
        {
          "output_type": "execute_result",
          "data": {
            "text/plain": [
              "0.4449275362318841"
            ]
          },
          "metadata": {},
          "execution_count": 34
        }
      ],
      "source": [
        "labels.count(1)/len(labels)"
      ]
    },
    {
      "cell_type": "markdown",
      "metadata": {
        "id": "2kXjRgNa2gnR"
      },
      "source": [
        "## Load pipeline from Wrangling notebook\n",
        "\n",
        "You will be doing this exact same thing in the server."
      ]
    },
    {
      "cell_type": "code",
      "execution_count": 35,
      "metadata": {
        "colab": {
          "base_uri": "https://localhost:8080/"
        },
        "id": "kauuG1GQ7au-",
        "outputId": "df78e102-15a6-4c07-f070-708bed07dc30"
      },
      "outputs": [
        {
          "output_type": "stream",
          "name": "stdout",
          "text": [
            "--2025-06-06 05:59:46--  https://github.com/MarvNC/cs523/raw/refs/heads/main/s25_final_fully_fitted_pipeline.pkl\n",
            "Resolving github.com (github.com)... 140.82.112.3\n",
            "Connecting to github.com (github.com)|140.82.112.3|:443... connected.\n",
            "HTTP request sent, awaiting response... 302 Found\n",
            "Location: https://raw.githubusercontent.com/MarvNC/cs523/refs/heads/main/s25_final_fully_fitted_pipeline.pkl [following]\n",
            "--2025-06-06 05:59:46--  https://raw.githubusercontent.com/MarvNC/cs523/refs/heads/main/s25_final_fully_fitted_pipeline.pkl\n",
            "Resolving raw.githubusercontent.com (raw.githubusercontent.com)... 185.199.108.133, 185.199.109.133, 185.199.110.133, ...\n",
            "Connecting to raw.githubusercontent.com (raw.githubusercontent.com)|185.199.108.133|:443... connected.\n",
            "HTTP request sent, awaiting response... 200 OK\n",
            "Length: 1327 (1.3K) [application/octet-stream]\n",
            "Saving to: ‘s25_final_fully_fitted_pipeline.pkl’\n",
            "\n",
            "s25_final_fully_fit 100%[===================>]   1.30K  --.-KB/s    in 0s      \n",
            "\n",
            "2025-06-06 05:59:46 (2.79 MB/s) - ‘s25_final_fully_fitted_pipeline.pkl’ saved [1327/1327]\n",
            "\n"
          ]
        }
      ],
      "source": [
        "import joblib\n",
        "\n",
        "# model_path = 'MarvNC/cs523/s25_'\n",
        "full_path = f'https://github.com/MarvNC/cs523/raw/refs/heads/main/s25_final_fully_fitted_pipeline.pkl'\n",
        "!rm 's25_final_fully_fitted_pipeline.pkl'\n",
        "!wget $full_path\n",
        "titanic_transformer = joblib.load(\"s25_final_fully_fitted_pipeline.pkl\")\n"
      ]
    },
    {
      "cell_type": "markdown",
      "metadata": {
        "id": "MElaQCi6qhnZ"
      },
      "source": [
        "# Step I. Break into numpy datasets"
      ]
    },
    {
      "cell_type": "code",
      "execution_count": 36,
      "metadata": {
        "id": "g5XN6ImKT1qn"
      },
      "outputs": [],
      "source": [
        "%%capture\n",
        "# rs = 74 #what you computed in wrangling notebook\n",
        "rs = approvals_variance_based_split\n",
        "# label_column = 'Survived'  #change to name of your label column\n",
        "label_column = target_col\n",
        "\n",
        "x_train,  x_test, y_train,  y_test = dataset_setup(approvals_trimmed, label_column, titanic_transformer, rs=rs)"
      ]
    },
    {
      "cell_type": "code",
      "execution_count": 37,
      "metadata": {
        "colab": {
          "base_uri": "https://localhost:8080/"
        },
        "id": "ML3-iCwB0aHy",
        "outputId": "b23eb75b-7ae4-473c-bc0a-a9a42e3e9c74"
      },
      "outputs": [
        {
          "output_type": "execute_result",
          "data": {
            "text/plain": [
              "552"
            ]
          },
          "metadata": {},
          "execution_count": 37
        }
      ],
      "source": [
        "len(x_train)"
      ]
    },
    {
      "cell_type": "markdown",
      "metadata": {
        "id": "v7gaAYxB0ElV"
      },
      "source": [
        "# II. Upsampling\n",
        "\n",
        "In Chapter 2 I removed duplicates, giving us unique rows. However, it did shrink the table down to roughly 1000. I noted I would show you a way to build the table back up. I am going to use a popular method called SMOTE (Synthetic Minority Over-sampling Technique). I'll show you how to use it even though I do not expect you will need it here. But could come in handy later in your career.\n",
        "\n",
        "Note that I am only applying it to the training data. I'd like to keep the test data pure: augment training, let test data stand.\n",
        "\n",
        "You can find plenty of tutorials on SMOTE. Briefly, it generates new rows by\n",
        "using existing rows as starting places and then interpolating values. So it\n",
        "does not duplicate rows but tries to give you similar rows."
      ]
    },
    {
      "cell_type": "code",
      "execution_count": 38,
      "metadata": {
        "colab": {
          "base_uri": "https://localhost:8080/"
        },
        "id": "jC-dGcVF0zz0",
        "outputId": "8456c270-e067-40df-f1df-6459a6ed2638"
      },
      "outputs": [
        {
          "output_type": "stream",
          "name": "stdout",
          "text": [
            "New class distribution:\n",
            "Class 0: 1108 (55.43%)\n",
            "Class 1: 891 (44.57%)\n",
            "Total samples: 1999\n"
          ]
        }
      ],
      "source": [
        "from imblearn.over_sampling import SMOTE\n",
        "\n",
        "# Calculate target numbers for 3000 total samples\n",
        "target_total = 2000\n",
        "pos_count = np.sum(y_train == 1)/len(y_train)\n",
        "neg_count = np.sum(y_train == 0)/len(y_train)\n",
        "target_0 = int(neg_count * target_total)  # 1950 samples\n",
        "target_1 = int(pos_count * target_total)  # 1050 samples\n",
        "\n",
        "# Create SMOTE instance with specified sampling strategy\n",
        "smote = SMOTE(sampling_strategy={0: target_0, 1: target_1}, random_state=42)\n",
        "x_resampled, y_resampled = smote.fit_resample(x_train, y_train)  #requires transformed data - cannot handle categorical columns\n",
        "\n",
        "# Verify the new distribution\n",
        "print(\"New class distribution:\")\n",
        "print(f\"Class 0: {sum(y_resampled == 0)} ({sum(y_resampled == 0)/len(y_resampled):.2%})\")\n",
        "print(f\"Class 1: {sum(y_resampled == 1)} ({sum(y_resampled == 1)/len(y_resampled):.2%})\")\n",
        "print(f\"Total samples: {len(y_resampled)}\")"
      ]
    },
    {
      "cell_type": "code",
      "execution_count": 39,
      "metadata": {
        "id": "wZTVewpE4qBi"
      },
      "outputs": [],
      "source": [
        "# Uncomment if you want to use upsampled data\n",
        "\n",
        "x_train= x_resampled\n",
        "y_train = y_resampled\n",
        "\n",
        "# Prof said to upsample to 2k"
      ]
    },
    {
      "cell_type": "markdown",
      "metadata": {
        "id": "9Afm0d0Cp4XN"
      },
      "source": [
        "# III. Setup Lime\n",
        "\n",
        "Reminder: Lime will help us explain to the user why we come up with the predictions we do."
      ]
    },
    {
      "cell_type": "code",
      "execution_count": 40,
      "metadata": {
        "id": "3S-Te5VSvMgV"
      },
      "outputs": [],
      "source": [
        "%%capture\n",
        "!pip install lime"
      ]
    },
    {
      "cell_type": "code",
      "execution_count": 41,
      "metadata": {
        "id": "6tcUkahpax_Y"
      },
      "outputs": [],
      "source": [
        "import lime\n",
        "from lime import lime_tabular"
      ]
    },
    {
      "cell_type": "code",
      "execution_count": 42,
      "metadata": {
        "colab": {
          "base_uri": "https://localhost:8080/"
        },
        "id": "-zZk9bCU5OqU",
        "outputId": "3bc718e2-7596-4c43-8f34-da0c9dbc2538"
      },
      "outputs": [
        {
          "output_type": "stream",
          "name": "stdout",
          "text": [
            "['Gender', 'Age', 'Debt', 'YearsEmployed', 'PriorDefault', 'Employed', 'CreditScore', 'DriversLicense', 'Income']\n"
          ]
        }
      ],
      "source": [
        "feature_names = approvals_features.columns.to_list()\n",
        "print(feature_names)"
      ]
    },
    {
      "cell_type": "markdown",
      "metadata": {
        "id": "Q68oGAkzHwFp"
      },
      "source": [
        "### Set up the explainer before using"
      ]
    },
    {
      "cell_type": "code",
      "execution_count": 43,
      "metadata": {
        "id": "7W0wZRRJWP7t"
      },
      "outputs": [],
      "source": [
        "explainer = lime.lime_tabular.LimeTabularExplainer(x_train,\n",
        "                    feature_names=feature_names,\n",
        "                    training_labels=y_train,\n",
        "                    class_names=[0,1], #label values\n",
        "                    verbose=True,\n",
        "                    mode='classification')\n",
        "\n"
      ]
    },
    {
      "cell_type": "markdown",
      "metadata": {
        "id": "jGVwZoX6rBMr"
      },
      "source": [
        "# IV. Write out to file\n",
        "\n",
        "And move to GitHub."
      ]
    },
    {
      "cell_type": "code",
      "execution_count": 44,
      "metadata": {
        "colab": {
          "base_uri": "https://localhost:8080/"
        },
        "id": "sVkCBYW69d0_",
        "outputId": "1a685007-f7a6-45b9-e146-c177da0f46ee"
      },
      "outputs": [
        {
          "output_type": "stream",
          "name": "stdout",
          "text": [
            "Requirement already satisfied: dill in /usr/local/lib/python3.11/dist-packages (0.3.7)\n"
          ]
        }
      ],
      "source": [
        "!pip install dill\n",
        "import dill as pickle\n",
        "with open('lime_explainer.pkl', 'wb') as file:\n",
        "    pickle.dump(explainer, file)\n",
        "\n",
        "#read it back in just as a test\n",
        "with open('lime_explainer.pkl', 'rb') as file:   #this will be in your webserver\n",
        "    explainer2 = pickle.load(file)"
      ]
    },
    {
      "cell_type": "markdown",
      "metadata": {
        "id": "mYoYsSCO9wso"
      },
      "source": [
        "# Minimal help from me with remainder of notebook\n",
        "\n",
        "I can remind you of the steps you need for each model's tuning:\n",
        "\n",
        "1. If using halving search, set up grid. If using Optuna, then set up model builder with hp code. With Optuna, will also need to define a validation set.\n",
        "\n",
        "2. Get the best model found by tuning.\n",
        "\n",
        "3. Run it on test set.\n",
        "\n",
        "4. Produce threshold table.\n",
        "\n",
        "5. Save both best model and threshold table out to GitHub so can load them back in with server.\n",
        "\n",
        "I would avoid Run All here. Each notebook can be tuned separately, really in any order. But once you finish steps above for one model, you don't want to waste time and repeat them."
      ]
    },
    {
      "cell_type": "markdown",
      "metadata": {
        "id": "GGD6ssbwd-DF"
      },
      "source": [
        "# V. KNN tuning\n",
        "\n"
      ]
    },
    {
      "cell_type": "code",
      "execution_count": 45,
      "metadata": {
        "id": "VkYLeNXHz9Gx"
      },
      "outputs": [],
      "source": [
        "from sklearn.neighbors import KNeighborsClassifier\n",
        "from sklearn.metrics import roc_auc_score"
      ]
    },
    {
      "cell_type": "markdown",
      "metadata": {
        "id": "HxOsVk-yrslG"
      },
      "source": [
        "### Follow the steps"
      ]
    },
    {
      "cell_type": "code",
      "execution_count": 46,
      "metadata": {
        "id": "R4qOZb8O_bfR",
        "colab": {
          "base_uri": "https://localhost:8080/"
        },
        "outputId": "6c22aaab-1c28-4462-8ee3-9bec6f245744"
      },
      "outputs": [
        {
          "output_type": "execute_result",
          "data": {
            "text/plain": [
              "{'algorithm': ['auto', 'ball_tree', 'brute', 'kd_tree'],\n",
              " 'n_neighbors': [5, 15, 25, 35, 45],\n",
              " 'p': [1, 2],\n",
              " 'weights': ['distance', 'uniform']}"
            ]
          },
          "metadata": {},
          "execution_count": 46
        }
      ],
      "source": [
        "knn_grid_raw = dict(n_neighbors=range(5,50,10),\n",
        "                weights=('distance', 'uniform'),\n",
        "                algorithm=('brute', 'kd_tree', 'ball_tree', 'auto'),\n",
        "                p=(2,1)  #When p=1, manhattan_distance, when p=2 euclidean_distance.\n",
        ")\n",
        "\n",
        "knn_grid = sort_grid(knn_grid_raw)\n",
        "knn_grid"
      ]
    },
    {
      "cell_type": "code",
      "execution_count": 47,
      "metadata": {
        "colab": {
          "base_uri": "https://localhost:8080/"
        },
        "id": "aijNVl-T0kb4",
        "outputId": "8aff010b-de12-4af2-cc20-1a0c88a5bc2a"
      },
      "outputs": [
        {
          "output_type": "execute_result",
          "data": {
            "text/plain": [
              "80"
            ]
          },
          "metadata": {},
          "execution_count": 47
        }
      ],
      "source": [
        "from sklearn.model_selection import ParameterGrid\n",
        "\n",
        "param_grid = ParameterGrid(knn_grid)  #a list of dictionaries, one for each combo\n",
        "len(param_grid)  #160"
      ]
    },
    {
      "cell_type": "code",
      "execution_count": 48,
      "metadata": {
        "id": "9OW0xp1F0kb4"
      },
      "outputs": [],
      "source": [
        "from sklearn.experimental import enable_halving_search_cv\n",
        "from sklearn.model_selection import HalvingGridSearchCV\n",
        "knn_model = KNeighborsClassifier()"
      ]
    },
    {
      "cell_type": "code",
      "execution_count": 49,
      "metadata": {
        "id": "wLjpZuuz0kb4"
      },
      "outputs": [],
      "source": [
        "%%capture\n",
        "knn_grid_result = halving_search(knn_model,knn_grid,x_train,y_train)\n",
        "knn_best_model = knn_grid_result.best_estimator_"
      ]
    },
    {
      "cell_type": "code",
      "execution_count": 50,
      "metadata": {
        "colab": {
          "base_uri": "https://localhost:8080/"
        },
        "id": "nKaRaGew0kb4",
        "outputId": "b5c2303d-a863-4f97-cbe5-d6e9a92ef8b5"
      },
      "outputs": [
        {
          "output_type": "execute_result",
          "data": {
            "text/plain": [
              "{'algorithm': 'brute', 'n_neighbors': 35, 'p': 1, 'weights': 'distance'}"
            ]
          },
          "metadata": {},
          "execution_count": 50
        }
      ],
      "source": [
        "knn_grid_result.best_params_"
      ]
    },
    {
      "cell_type": "code",
      "execution_count": 51,
      "metadata": {
        "colab": {
          "base_uri": "https://localhost:8080/"
        },
        "id": "yph-5TFZ0kb4",
        "outputId": "e3493f78-ee62-4c31-c5b3-18e77aef9561"
      },
      "outputs": [
        {
          "output_type": "execute_result",
          "data": {
            "text/plain": [
              "0.8115942028985508"
            ]
          },
          "metadata": {},
          "execution_count": 51
        }
      ],
      "source": [
        "knn_best_model.score(x_test, y_test)"
      ]
    },
    {
      "cell_type": "markdown",
      "metadata": {
        "id": "jGRje3DT0kb4"
      },
      "source": [
        "## Build Threshold Table"
      ]
    },
    {
      "cell_type": "code",
      "execution_count": 52,
      "metadata": {
        "id": "uVjGPX8u0kb4"
      },
      "outputs": [],
      "source": [
        "ypos = knn_best_model.predict_proba(x_test)[:,1]  #probability of positive class"
      ]
    },
    {
      "cell_type": "code",
      "execution_count": 53,
      "metadata": {
        "colab": {
          "base_uri": "https://localhost:8080/",
          "height": 726
        },
        "id": "iTZBg_s70kb7",
        "outputId": "4a0929bd-a1ce-4209-b0fe-39400a386d0b"
      },
      "outputs": [
        {
          "output_type": "execute_result",
          "data": {
            "text/plain": [
              "<pandas.io.formats.style.Styler at 0x794b59aea190>"
            ],
            "text/html": [
              "<style type=\"text/css\">\n",
              "#T_0562f th:not(.index_name) {\n",
              "  background-color: #800000;\n",
              "  color: white;\n",
              "  text-align: center;\n",
              "}\n",
              "#T_0562f_row0_col0, #T_0562f_row0_col1, #T_0562f_row0_col3, #T_0562f_row0_col5, #T_0562f_row1_col0, #T_0562f_row1_col1, #T_0562f_row1_col2, #T_0562f_row1_col3, #T_0562f_row1_col5, #T_0562f_row2_col0, #T_0562f_row2_col1, #T_0562f_row2_col2, #T_0562f_row2_col3, #T_0562f_row2_col5, #T_0562f_row3_col0, #T_0562f_row3_col1, #T_0562f_row3_col2, #T_0562f_row3_col3, #T_0562f_row3_col5, #T_0562f_row4_col0, #T_0562f_row4_col1, #T_0562f_row4_col2, #T_0562f_row4_col5, #T_0562f_row5_col0, #T_0562f_row5_col1, #T_0562f_row5_col2, #T_0562f_row5_col3, #T_0562f_row5_col5, #T_0562f_row6_col0, #T_0562f_row6_col1, #T_0562f_row6_col2, #T_0562f_row6_col3, #T_0562f_row6_col5, #T_0562f_row7_col0, #T_0562f_row7_col1, #T_0562f_row7_col2, #T_0562f_row7_col3, #T_0562f_row7_col5, #T_0562f_row8_col0, #T_0562f_row8_col1, #T_0562f_row8_col2, #T_0562f_row8_col3, #T_0562f_row9_col0, #T_0562f_row9_col1, #T_0562f_row9_col2, #T_0562f_row9_col3, #T_0562f_row9_col5, #T_0562f_row10_col0, #T_0562f_row10_col1, #T_0562f_row10_col2, #T_0562f_row10_col3, #T_0562f_row10_col5, #T_0562f_row11_col0, #T_0562f_row11_col1, #T_0562f_row11_col2, #T_0562f_row11_col3, #T_0562f_row11_col5, #T_0562f_row12_col0, #T_0562f_row12_col1, #T_0562f_row12_col2, #T_0562f_row12_col3, #T_0562f_row12_col5, #T_0562f_row13_col0, #T_0562f_row13_col1, #T_0562f_row13_col2, #T_0562f_row13_col3, #T_0562f_row13_col5, #T_0562f_row14_col0, #T_0562f_row14_col1, #T_0562f_row14_col2, #T_0562f_row14_col3, #T_0562f_row14_col5, #T_0562f_row15_col0, #T_0562f_row15_col1, #T_0562f_row15_col2, #T_0562f_row15_col3, #T_0562f_row15_col5, #T_0562f_row16_col0, #T_0562f_row16_col1, #T_0562f_row16_col2, #T_0562f_row16_col3, #T_0562f_row16_col5, #T_0562f_row17_col0, #T_0562f_row17_col1, #T_0562f_row17_col2, #T_0562f_row17_col3, #T_0562f_row17_col5, #T_0562f_row18_col0, #T_0562f_row18_col1, #T_0562f_row18_col2, #T_0562f_row18_col3, #T_0562f_row18_col5, #T_0562f_row19_col0, #T_0562f_row19_col1, #T_0562f_row19_col2, #T_0562f_row19_col3, #T_0562f_row19_col5, #T_0562f_row20_col2, #T_0562f_row20_col3, #T_0562f_row20_col5 {\n",
              "  border: 1px solid black;\n",
              "  width: 65px;\n",
              "  text-align: center;\n",
              "}\n",
              "#T_0562f_row0_col2, #T_0562f_row0_col4, #T_0562f_row1_col4, #T_0562f_row2_col4, #T_0562f_row3_col4, #T_0562f_row4_col3, #T_0562f_row4_col4, #T_0562f_row5_col4, #T_0562f_row6_col4, #T_0562f_row7_col4, #T_0562f_row8_col4, #T_0562f_row8_col5, #T_0562f_row9_col4, #T_0562f_row10_col4, #T_0562f_row11_col4, #T_0562f_row12_col4, #T_0562f_row13_col4, #T_0562f_row14_col4, #T_0562f_row15_col4, #T_0562f_row16_col4, #T_0562f_row17_col4, #T_0562f_row18_col4, #T_0562f_row19_col4, #T_0562f_row20_col0, #T_0562f_row20_col1, #T_0562f_row20_col4 {\n",
              "  background-color: pink;\n",
              "  border: 1px solid black;\n",
              "  width: 65px;\n",
              "  text-align: center;\n",
              "}\n",
              "</style>\n",
              "<table id=\"T_0562f\" class=\"dataframe\">\n",
              "  <thead>\n",
              "    <tr>\n",
              "      <th class=\"blank level0\" >&nbsp;</th>\n",
              "      <th id=\"T_0562f_level0_col0\" class=\"col_heading level0 col0\" >threshold</th>\n",
              "      <th id=\"T_0562f_level0_col1\" class=\"col_heading level0 col1\" >precision</th>\n",
              "      <th id=\"T_0562f_level0_col2\" class=\"col_heading level0 col2\" >recall</th>\n",
              "      <th id=\"T_0562f_level0_col3\" class=\"col_heading level0 col3\" >f1</th>\n",
              "      <th id=\"T_0562f_level0_col4\" class=\"col_heading level0 col4\" >auc</th>\n",
              "      <th id=\"T_0562f_level0_col5\" class=\"col_heading level0 col5\" >accuracy</th>\n",
              "    </tr>\n",
              "  </thead>\n",
              "  <tbody>\n",
              "    <tr>\n",
              "      <th id=\"T_0562f_level0_row0\" class=\"row_heading level0 row0\" >0</th>\n",
              "      <td id=\"T_0562f_row0_col0\" class=\"data row0 col0\" >0.00</td>\n",
              "      <td id=\"T_0562f_row0_col1\" class=\"data row0 col1\" >0.44</td>\n",
              "      <td id=\"T_0562f_row0_col2\" class=\"data row0 col2\" >1.00</td>\n",
              "      <td id=\"T_0562f_row0_col3\" class=\"data row0 col3\" >0.61</td>\n",
              "      <td id=\"T_0562f_row0_col4\" class=\"data row0 col4\" >0.90</td>\n",
              "      <td id=\"T_0562f_row0_col5\" class=\"data row0 col5\" >0.44</td>\n",
              "    </tr>\n",
              "    <tr>\n",
              "      <th id=\"T_0562f_level0_row1\" class=\"row_heading level0 row1\" >1</th>\n",
              "      <td id=\"T_0562f_row1_col0\" class=\"data row1 col0\" >0.05</td>\n",
              "      <td id=\"T_0562f_row1_col1\" class=\"data row1 col1\" >0.57</td>\n",
              "      <td id=\"T_0562f_row1_col2\" class=\"data row1 col2\" >0.97</td>\n",
              "      <td id=\"T_0562f_row1_col3\" class=\"data row1 col3\" >0.72</td>\n",
              "      <td id=\"T_0562f_row1_col4\" class=\"data row1 col4\" >0.90</td>\n",
              "      <td id=\"T_0562f_row1_col5\" class=\"data row1 col5\" >0.67</td>\n",
              "    </tr>\n",
              "    <tr>\n",
              "      <th id=\"T_0562f_level0_row2\" class=\"row_heading level0 row2\" >2</th>\n",
              "      <td id=\"T_0562f_row2_col0\" class=\"data row2 col0\" >0.10</td>\n",
              "      <td id=\"T_0562f_row2_col1\" class=\"data row2 col1\" >0.63</td>\n",
              "      <td id=\"T_0562f_row2_col2\" class=\"data row2 col2\" >0.95</td>\n",
              "      <td id=\"T_0562f_row2_col3\" class=\"data row2 col3\" >0.76</td>\n",
              "      <td id=\"T_0562f_row2_col4\" class=\"data row2 col4\" >0.90</td>\n",
              "      <td id=\"T_0562f_row2_col5\" class=\"data row2 col5\" >0.73</td>\n",
              "    </tr>\n",
              "    <tr>\n",
              "      <th id=\"T_0562f_level0_row3\" class=\"row_heading level0 row3\" >3</th>\n",
              "      <td id=\"T_0562f_row3_col0\" class=\"data row3 col0\" >0.15</td>\n",
              "      <td id=\"T_0562f_row3_col1\" class=\"data row3 col1\" >0.71</td>\n",
              "      <td id=\"T_0562f_row3_col2\" class=\"data row3 col2\" >0.92</td>\n",
              "      <td id=\"T_0562f_row3_col3\" class=\"data row3 col3\" >0.80</td>\n",
              "      <td id=\"T_0562f_row3_col4\" class=\"data row3 col4\" >0.90</td>\n",
              "      <td id=\"T_0562f_row3_col5\" class=\"data row3 col5\" >0.80</td>\n",
              "    </tr>\n",
              "    <tr>\n",
              "      <th id=\"T_0562f_level0_row4\" class=\"row_heading level0 row4\" >4</th>\n",
              "      <td id=\"T_0562f_row4_col0\" class=\"data row4 col0\" >0.20</td>\n",
              "      <td id=\"T_0562f_row4_col1\" class=\"data row4 col1\" >0.77</td>\n",
              "      <td id=\"T_0562f_row4_col2\" class=\"data row4 col2\" >0.92</td>\n",
              "      <td id=\"T_0562f_row4_col3\" class=\"data row4 col3\" >0.84</td>\n",
              "      <td id=\"T_0562f_row4_col4\" class=\"data row4 col4\" >0.90</td>\n",
              "      <td id=\"T_0562f_row4_col5\" class=\"data row4 col5\" >0.84</td>\n",
              "    </tr>\n",
              "    <tr>\n",
              "      <th id=\"T_0562f_level0_row5\" class=\"row_heading level0 row5\" >5</th>\n",
              "      <td id=\"T_0562f_row5_col0\" class=\"data row5 col0\" >0.25</td>\n",
              "      <td id=\"T_0562f_row5_col1\" class=\"data row5 col1\" >0.79</td>\n",
              "      <td id=\"T_0562f_row5_col2\" class=\"data row5 col2\" >0.87</td>\n",
              "      <td id=\"T_0562f_row5_col3\" class=\"data row5 col3\" >0.83</td>\n",
              "      <td id=\"T_0562f_row5_col4\" class=\"data row5 col4\" >0.90</td>\n",
              "      <td id=\"T_0562f_row5_col5\" class=\"data row5 col5\" >0.84</td>\n",
              "    </tr>\n",
              "    <tr>\n",
              "      <th id=\"T_0562f_level0_row6\" class=\"row_heading level0 row6\" >6</th>\n",
              "      <td id=\"T_0562f_row6_col0\" class=\"data row6 col0\" >0.30</td>\n",
              "      <td id=\"T_0562f_row6_col1\" class=\"data row6 col1\" >0.79</td>\n",
              "      <td id=\"T_0562f_row6_col2\" class=\"data row6 col2\" >0.85</td>\n",
              "      <td id=\"T_0562f_row6_col3\" class=\"data row6 col3\" >0.82</td>\n",
              "      <td id=\"T_0562f_row6_col4\" class=\"data row6 col4\" >0.90</td>\n",
              "      <td id=\"T_0562f_row6_col5\" class=\"data row6 col5\" >0.83</td>\n",
              "    </tr>\n",
              "    <tr>\n",
              "      <th id=\"T_0562f_level0_row7\" class=\"row_heading level0 row7\" >7</th>\n",
              "      <td id=\"T_0562f_row7_col0\" class=\"data row7 col0\" >0.35</td>\n",
              "      <td id=\"T_0562f_row7_col1\" class=\"data row7 col1\" >0.82</td>\n",
              "      <td id=\"T_0562f_row7_col2\" class=\"data row7 col2\" >0.82</td>\n",
              "      <td id=\"T_0562f_row7_col3\" class=\"data row7 col3\" >0.82</td>\n",
              "      <td id=\"T_0562f_row7_col4\" class=\"data row7 col4\" >0.90</td>\n",
              "      <td id=\"T_0562f_row7_col5\" class=\"data row7 col5\" >0.84</td>\n",
              "    </tr>\n",
              "    <tr>\n",
              "      <th id=\"T_0562f_level0_row8\" class=\"row_heading level0 row8\" >8</th>\n",
              "      <td id=\"T_0562f_row8_col0\" class=\"data row8 col0\" >0.40</td>\n",
              "      <td id=\"T_0562f_row8_col1\" class=\"data row8 col1\" >0.83</td>\n",
              "      <td id=\"T_0562f_row8_col2\" class=\"data row8 col2\" >0.82</td>\n",
              "      <td id=\"T_0562f_row8_col3\" class=\"data row8 col3\" >0.83</td>\n",
              "      <td id=\"T_0562f_row8_col4\" class=\"data row8 col4\" >0.90</td>\n",
              "      <td id=\"T_0562f_row8_col5\" class=\"data row8 col5\" >0.85</td>\n",
              "    </tr>\n",
              "    <tr>\n",
              "      <th id=\"T_0562f_level0_row9\" class=\"row_heading level0 row9\" >9</th>\n",
              "      <td id=\"T_0562f_row9_col0\" class=\"data row9 col0\" >0.45</td>\n",
              "      <td id=\"T_0562f_row9_col1\" class=\"data row9 col1\" >0.83</td>\n",
              "      <td id=\"T_0562f_row9_col2\" class=\"data row9 col2\" >0.80</td>\n",
              "      <td id=\"T_0562f_row9_col3\" class=\"data row9 col3\" >0.82</td>\n",
              "      <td id=\"T_0562f_row9_col4\" class=\"data row9 col4\" >0.90</td>\n",
              "      <td id=\"T_0562f_row9_col5\" class=\"data row9 col5\" >0.84</td>\n",
              "    </tr>\n",
              "    <tr>\n",
              "      <th id=\"T_0562f_level0_row10\" class=\"row_heading level0 row10\" >10</th>\n",
              "      <td id=\"T_0562f_row10_col0\" class=\"data row10 col0\" >0.50</td>\n",
              "      <td id=\"T_0562f_row10_col1\" class=\"data row10 col1\" >0.83</td>\n",
              "      <td id=\"T_0562f_row10_col2\" class=\"data row10 col2\" >0.72</td>\n",
              "      <td id=\"T_0562f_row10_col3\" class=\"data row10 col3\" >0.77</td>\n",
              "      <td id=\"T_0562f_row10_col4\" class=\"data row10 col4\" >0.90</td>\n",
              "      <td id=\"T_0562f_row10_col5\" class=\"data row10 col5\" >0.81</td>\n",
              "    </tr>\n",
              "    <tr>\n",
              "      <th id=\"T_0562f_level0_row11\" class=\"row_heading level0 row11\" >11</th>\n",
              "      <td id=\"T_0562f_row11_col0\" class=\"data row11 col0\" >0.55</td>\n",
              "      <td id=\"T_0562f_row11_col1\" class=\"data row11 col1\" >0.83</td>\n",
              "      <td id=\"T_0562f_row11_col2\" class=\"data row11 col2\" >0.66</td>\n",
              "      <td id=\"T_0562f_row11_col3\" class=\"data row11 col3\" >0.73</td>\n",
              "      <td id=\"T_0562f_row11_col4\" class=\"data row11 col4\" >0.90</td>\n",
              "      <td id=\"T_0562f_row11_col5\" class=\"data row11 col5\" >0.79</td>\n",
              "    </tr>\n",
              "    <tr>\n",
              "      <th id=\"T_0562f_level0_row12\" class=\"row_heading level0 row12\" >12</th>\n",
              "      <td id=\"T_0562f_row12_col0\" class=\"data row12 col0\" >0.60</td>\n",
              "      <td id=\"T_0562f_row12_col1\" class=\"data row12 col1\" >0.85</td>\n",
              "      <td id=\"T_0562f_row12_col2\" class=\"data row12 col2\" >0.66</td>\n",
              "      <td id=\"T_0562f_row12_col3\" class=\"data row12 col3\" >0.74</td>\n",
              "      <td id=\"T_0562f_row12_col4\" class=\"data row12 col4\" >0.90</td>\n",
              "      <td id=\"T_0562f_row12_col5\" class=\"data row12 col5\" >0.80</td>\n",
              "    </tr>\n",
              "    <tr>\n",
              "      <th id=\"T_0562f_level0_row13\" class=\"row_heading level0 row13\" >13</th>\n",
              "      <td id=\"T_0562f_row13_col0\" class=\"data row13 col0\" >0.65</td>\n",
              "      <td id=\"T_0562f_row13_col1\" class=\"data row13 col1\" >0.89</td>\n",
              "      <td id=\"T_0562f_row13_col2\" class=\"data row13 col2\" >0.64</td>\n",
              "      <td id=\"T_0562f_row13_col3\" class=\"data row13 col3\" >0.74</td>\n",
              "      <td id=\"T_0562f_row13_col4\" class=\"data row13 col4\" >0.90</td>\n",
              "      <td id=\"T_0562f_row13_col5\" class=\"data row13 col5\" >0.80</td>\n",
              "    </tr>\n",
              "    <tr>\n",
              "      <th id=\"T_0562f_level0_row14\" class=\"row_heading level0 row14\" >14</th>\n",
              "      <td id=\"T_0562f_row14_col0\" class=\"data row14 col0\" >0.70</td>\n",
              "      <td id=\"T_0562f_row14_col1\" class=\"data row14 col1\" >0.88</td>\n",
              "      <td id=\"T_0562f_row14_col2\" class=\"data row14 col2\" >0.59</td>\n",
              "      <td id=\"T_0562f_row14_col3\" class=\"data row14 col3\" >0.71</td>\n",
              "      <td id=\"T_0562f_row14_col4\" class=\"data row14 col4\" >0.90</td>\n",
              "      <td id=\"T_0562f_row14_col5\" class=\"data row14 col5\" >0.78</td>\n",
              "    </tr>\n",
              "    <tr>\n",
              "      <th id=\"T_0562f_level0_row15\" class=\"row_heading level0 row15\" >15</th>\n",
              "      <td id=\"T_0562f_row15_col0\" class=\"data row15 col0\" >0.75</td>\n",
              "      <td id=\"T_0562f_row15_col1\" class=\"data row15 col1\" >0.92</td>\n",
              "      <td id=\"T_0562f_row15_col2\" class=\"data row15 col2\" >0.56</td>\n",
              "      <td id=\"T_0562f_row15_col3\" class=\"data row15 col3\" >0.69</td>\n",
              "      <td id=\"T_0562f_row15_col4\" class=\"data row15 col4\" >0.90</td>\n",
              "      <td id=\"T_0562f_row15_col5\" class=\"data row15 col5\" >0.78</td>\n",
              "    </tr>\n",
              "    <tr>\n",
              "      <th id=\"T_0562f_level0_row16\" class=\"row_heading level0 row16\" >16</th>\n",
              "      <td id=\"T_0562f_row16_col0\" class=\"data row16 col0\" >0.80</td>\n",
              "      <td id=\"T_0562f_row16_col1\" class=\"data row16 col1\" >0.97</td>\n",
              "      <td id=\"T_0562f_row16_col2\" class=\"data row16 col2\" >0.52</td>\n",
              "      <td id=\"T_0562f_row16_col3\" class=\"data row16 col3\" >0.68</td>\n",
              "      <td id=\"T_0562f_row16_col4\" class=\"data row16 col4\" >0.90</td>\n",
              "      <td id=\"T_0562f_row16_col5\" class=\"data row16 col5\" >0.78</td>\n",
              "    </tr>\n",
              "    <tr>\n",
              "      <th id=\"T_0562f_level0_row17\" class=\"row_heading level0 row17\" >17</th>\n",
              "      <td id=\"T_0562f_row17_col0\" class=\"data row17 col0\" >0.85</td>\n",
              "      <td id=\"T_0562f_row17_col1\" class=\"data row17 col1\" >0.97</td>\n",
              "      <td id=\"T_0562f_row17_col2\" class=\"data row17 col2\" >0.46</td>\n",
              "      <td id=\"T_0562f_row17_col3\" class=\"data row17 col3\" >0.62</td>\n",
              "      <td id=\"T_0562f_row17_col4\" class=\"data row17 col4\" >0.90</td>\n",
              "      <td id=\"T_0562f_row17_col5\" class=\"data row17 col5\" >0.75</td>\n",
              "    </tr>\n",
              "    <tr>\n",
              "      <th id=\"T_0562f_level0_row18\" class=\"row_heading level0 row18\" >18</th>\n",
              "      <td id=\"T_0562f_row18_col0\" class=\"data row18 col0\" >0.90</td>\n",
              "      <td id=\"T_0562f_row18_col1\" class=\"data row18 col1\" >0.96</td>\n",
              "      <td id=\"T_0562f_row18_col2\" class=\"data row18 col2\" >0.41</td>\n",
              "      <td id=\"T_0562f_row18_col3\" class=\"data row18 col3\" >0.57</td>\n",
              "      <td id=\"T_0562f_row18_col4\" class=\"data row18 col4\" >0.90</td>\n",
              "      <td id=\"T_0562f_row18_col5\" class=\"data row18 col5\" >0.73</td>\n",
              "    </tr>\n",
              "    <tr>\n",
              "      <th id=\"T_0562f_level0_row19\" class=\"row_heading level0 row19\" >19</th>\n",
              "      <td id=\"T_0562f_row19_col0\" class=\"data row19 col0\" >0.95</td>\n",
              "      <td id=\"T_0562f_row19_col1\" class=\"data row19 col1\" >0.96</td>\n",
              "      <td id=\"T_0562f_row19_col2\" class=\"data row19 col2\" >0.38</td>\n",
              "      <td id=\"T_0562f_row19_col3\" class=\"data row19 col3\" >0.54</td>\n",
              "      <td id=\"T_0562f_row19_col4\" class=\"data row19 col4\" >0.90</td>\n",
              "      <td id=\"T_0562f_row19_col5\" class=\"data row19 col5\" >0.72</td>\n",
              "    </tr>\n",
              "    <tr>\n",
              "      <th id=\"T_0562f_level0_row20\" class=\"row_heading level0 row20\" >20</th>\n",
              "      <td id=\"T_0562f_row20_col0\" class=\"data row20 col0\" >1.00</td>\n",
              "      <td id=\"T_0562f_row20_col1\" class=\"data row20 col1\" >1.00</td>\n",
              "      <td id=\"T_0562f_row20_col2\" class=\"data row20 col2\" >0.21</td>\n",
              "      <td id=\"T_0562f_row20_col3\" class=\"data row20 col3\" >0.35</td>\n",
              "      <td id=\"T_0562f_row20_col4\" class=\"data row20 col4\" >0.90</td>\n",
              "      <td id=\"T_0562f_row20_col5\" class=\"data row20 col5\" >0.65</td>\n",
              "    </tr>\n",
              "  </tbody>\n",
              "</table>\n"
            ]
          },
          "metadata": {},
          "execution_count": 53
        }
      ],
      "source": [
        "result_df, fancy_df = threshold_results(np.round(np.arange(0.0, 1.01, .05), 2), y_test, ypos)\n",
        "fancy_df"
      ]
    },
    {
      "cell_type": "code",
      "execution_count": 54,
      "metadata": {
        "colab": {
          "base_uri": "https://localhost:8080/",
          "height": 707
        },
        "id": "m0jnCQhN0kb7",
        "outputId": "295ecb76-80d1-4fdf-8195-c002fa2d5f71"
      },
      "outputs": [
        {
          "output_type": "execute_result",
          "data": {
            "text/plain": [
              "    threshold  precision  recall    f1  auc  accuracy\n",
              "0        0.00       0.44    1.00  0.61  0.9      0.44\n",
              "1        0.05       0.57    0.97  0.72  0.9      0.67\n",
              "2        0.10       0.63    0.95  0.76  0.9      0.73\n",
              "3        0.15       0.71    0.92  0.80  0.9      0.80\n",
              "4        0.20       0.77    0.92  0.84  0.9      0.84\n",
              "5        0.25       0.79    0.87  0.83  0.9      0.84\n",
              "6        0.30       0.79    0.85  0.82  0.9      0.83\n",
              "7        0.35       0.82    0.82  0.82  0.9      0.84\n",
              "8        0.40       0.83    0.82  0.83  0.9      0.85\n",
              "9        0.45       0.83    0.80  0.82  0.9      0.84\n",
              "10       0.50       0.83    0.72  0.77  0.9      0.81\n",
              "11       0.55       0.83    0.66  0.73  0.9      0.79\n",
              "12       0.60       0.85    0.66  0.74  0.9      0.80\n",
              "13       0.65       0.89    0.64  0.74  0.9      0.80\n",
              "14       0.70       0.88    0.59  0.71  0.9      0.78\n",
              "15       0.75       0.92    0.56  0.69  0.9      0.78\n",
              "16       0.80       0.97    0.52  0.68  0.9      0.78\n",
              "17       0.85       0.97    0.46  0.62  0.9      0.75\n",
              "18       0.90       0.96    0.41  0.57  0.9      0.73\n",
              "19       0.95       0.96    0.38  0.54  0.9      0.72\n",
              "20       1.00       1.00    0.21  0.35  0.9      0.65"
            ],
            "text/html": [
              "\n",
              "  <div id=\"df-bb321493-00bd-4960-b578-a9cb59c117db\" class=\"colab-df-container\">\n",
              "    <div>\n",
              "<style scoped>\n",
              "    .dataframe tbody tr th:only-of-type {\n",
              "        vertical-align: middle;\n",
              "    }\n",
              "\n",
              "    .dataframe tbody tr th {\n",
              "        vertical-align: top;\n",
              "    }\n",
              "\n",
              "    .dataframe thead th {\n",
              "        text-align: right;\n",
              "    }\n",
              "</style>\n",
              "<table border=\"1\" class=\"dataframe\">\n",
              "  <thead>\n",
              "    <tr style=\"text-align: right;\">\n",
              "      <th></th>\n",
              "      <th>threshold</th>\n",
              "      <th>precision</th>\n",
              "      <th>recall</th>\n",
              "      <th>f1</th>\n",
              "      <th>auc</th>\n",
              "      <th>accuracy</th>\n",
              "    </tr>\n",
              "  </thead>\n",
              "  <tbody>\n",
              "    <tr>\n",
              "      <th>0</th>\n",
              "      <td>0.00</td>\n",
              "      <td>0.44</td>\n",
              "      <td>1.00</td>\n",
              "      <td>0.61</td>\n",
              "      <td>0.9</td>\n",
              "      <td>0.44</td>\n",
              "    </tr>\n",
              "    <tr>\n",
              "      <th>1</th>\n",
              "      <td>0.05</td>\n",
              "      <td>0.57</td>\n",
              "      <td>0.97</td>\n",
              "      <td>0.72</td>\n",
              "      <td>0.9</td>\n",
              "      <td>0.67</td>\n",
              "    </tr>\n",
              "    <tr>\n",
              "      <th>2</th>\n",
              "      <td>0.10</td>\n",
              "      <td>0.63</td>\n",
              "      <td>0.95</td>\n",
              "      <td>0.76</td>\n",
              "      <td>0.9</td>\n",
              "      <td>0.73</td>\n",
              "    </tr>\n",
              "    <tr>\n",
              "      <th>3</th>\n",
              "      <td>0.15</td>\n",
              "      <td>0.71</td>\n",
              "      <td>0.92</td>\n",
              "      <td>0.80</td>\n",
              "      <td>0.9</td>\n",
              "      <td>0.80</td>\n",
              "    </tr>\n",
              "    <tr>\n",
              "      <th>4</th>\n",
              "      <td>0.20</td>\n",
              "      <td>0.77</td>\n",
              "      <td>0.92</td>\n",
              "      <td>0.84</td>\n",
              "      <td>0.9</td>\n",
              "      <td>0.84</td>\n",
              "    </tr>\n",
              "    <tr>\n",
              "      <th>5</th>\n",
              "      <td>0.25</td>\n",
              "      <td>0.79</td>\n",
              "      <td>0.87</td>\n",
              "      <td>0.83</td>\n",
              "      <td>0.9</td>\n",
              "      <td>0.84</td>\n",
              "    </tr>\n",
              "    <tr>\n",
              "      <th>6</th>\n",
              "      <td>0.30</td>\n",
              "      <td>0.79</td>\n",
              "      <td>0.85</td>\n",
              "      <td>0.82</td>\n",
              "      <td>0.9</td>\n",
              "      <td>0.83</td>\n",
              "    </tr>\n",
              "    <tr>\n",
              "      <th>7</th>\n",
              "      <td>0.35</td>\n",
              "      <td>0.82</td>\n",
              "      <td>0.82</td>\n",
              "      <td>0.82</td>\n",
              "      <td>0.9</td>\n",
              "      <td>0.84</td>\n",
              "    </tr>\n",
              "    <tr>\n",
              "      <th>8</th>\n",
              "      <td>0.40</td>\n",
              "      <td>0.83</td>\n",
              "      <td>0.82</td>\n",
              "      <td>0.83</td>\n",
              "      <td>0.9</td>\n",
              "      <td>0.85</td>\n",
              "    </tr>\n",
              "    <tr>\n",
              "      <th>9</th>\n",
              "      <td>0.45</td>\n",
              "      <td>0.83</td>\n",
              "      <td>0.80</td>\n",
              "      <td>0.82</td>\n",
              "      <td>0.9</td>\n",
              "      <td>0.84</td>\n",
              "    </tr>\n",
              "    <tr>\n",
              "      <th>10</th>\n",
              "      <td>0.50</td>\n",
              "      <td>0.83</td>\n",
              "      <td>0.72</td>\n",
              "      <td>0.77</td>\n",
              "      <td>0.9</td>\n",
              "      <td>0.81</td>\n",
              "    </tr>\n",
              "    <tr>\n",
              "      <th>11</th>\n",
              "      <td>0.55</td>\n",
              "      <td>0.83</td>\n",
              "      <td>0.66</td>\n",
              "      <td>0.73</td>\n",
              "      <td>0.9</td>\n",
              "      <td>0.79</td>\n",
              "    </tr>\n",
              "    <tr>\n",
              "      <th>12</th>\n",
              "      <td>0.60</td>\n",
              "      <td>0.85</td>\n",
              "      <td>0.66</td>\n",
              "      <td>0.74</td>\n",
              "      <td>0.9</td>\n",
              "      <td>0.80</td>\n",
              "    </tr>\n",
              "    <tr>\n",
              "      <th>13</th>\n",
              "      <td>0.65</td>\n",
              "      <td>0.89</td>\n",
              "      <td>0.64</td>\n",
              "      <td>0.74</td>\n",
              "      <td>0.9</td>\n",
              "      <td>0.80</td>\n",
              "    </tr>\n",
              "    <tr>\n",
              "      <th>14</th>\n",
              "      <td>0.70</td>\n",
              "      <td>0.88</td>\n",
              "      <td>0.59</td>\n",
              "      <td>0.71</td>\n",
              "      <td>0.9</td>\n",
              "      <td>0.78</td>\n",
              "    </tr>\n",
              "    <tr>\n",
              "      <th>15</th>\n",
              "      <td>0.75</td>\n",
              "      <td>0.92</td>\n",
              "      <td>0.56</td>\n",
              "      <td>0.69</td>\n",
              "      <td>0.9</td>\n",
              "      <td>0.78</td>\n",
              "    </tr>\n",
              "    <tr>\n",
              "      <th>16</th>\n",
              "      <td>0.80</td>\n",
              "      <td>0.97</td>\n",
              "      <td>0.52</td>\n",
              "      <td>0.68</td>\n",
              "      <td>0.9</td>\n",
              "      <td>0.78</td>\n",
              "    </tr>\n",
              "    <tr>\n",
              "      <th>17</th>\n",
              "      <td>0.85</td>\n",
              "      <td>0.97</td>\n",
              "      <td>0.46</td>\n",
              "      <td>0.62</td>\n",
              "      <td>0.9</td>\n",
              "      <td>0.75</td>\n",
              "    </tr>\n",
              "    <tr>\n",
              "      <th>18</th>\n",
              "      <td>0.90</td>\n",
              "      <td>0.96</td>\n",
              "      <td>0.41</td>\n",
              "      <td>0.57</td>\n",
              "      <td>0.9</td>\n",
              "      <td>0.73</td>\n",
              "    </tr>\n",
              "    <tr>\n",
              "      <th>19</th>\n",
              "      <td>0.95</td>\n",
              "      <td>0.96</td>\n",
              "      <td>0.38</td>\n",
              "      <td>0.54</td>\n",
              "      <td>0.9</td>\n",
              "      <td>0.72</td>\n",
              "    </tr>\n",
              "    <tr>\n",
              "      <th>20</th>\n",
              "      <td>1.00</td>\n",
              "      <td>1.00</td>\n",
              "      <td>0.21</td>\n",
              "      <td>0.35</td>\n",
              "      <td>0.9</td>\n",
              "      <td>0.65</td>\n",
              "    </tr>\n",
              "  </tbody>\n",
              "</table>\n",
              "</div>\n",
              "    <div class=\"colab-df-buttons\">\n",
              "\n",
              "  <div class=\"colab-df-container\">\n",
              "    <button class=\"colab-df-convert\" onclick=\"convertToInteractive('df-bb321493-00bd-4960-b578-a9cb59c117db')\"\n",
              "            title=\"Convert this dataframe to an interactive table.\"\n",
              "            style=\"display:none;\">\n",
              "\n",
              "  <svg xmlns=\"http://www.w3.org/2000/svg\" height=\"24px\" viewBox=\"0 -960 960 960\">\n",
              "    <path d=\"M120-120v-720h720v720H120Zm60-500h600v-160H180v160Zm220 220h160v-160H400v160Zm0 220h160v-160H400v160ZM180-400h160v-160H180v160Zm440 0h160v-160H620v160ZM180-180h160v-160H180v160Zm440 0h160v-160H620v160Z\"/>\n",
              "  </svg>\n",
              "    </button>\n",
              "\n",
              "  <style>\n",
              "    .colab-df-container {\n",
              "      display:flex;\n",
              "      gap: 12px;\n",
              "    }\n",
              "\n",
              "    .colab-df-convert {\n",
              "      background-color: #E8F0FE;\n",
              "      border: none;\n",
              "      border-radius: 50%;\n",
              "      cursor: pointer;\n",
              "      display: none;\n",
              "      fill: #1967D2;\n",
              "      height: 32px;\n",
              "      padding: 0 0 0 0;\n",
              "      width: 32px;\n",
              "    }\n",
              "\n",
              "    .colab-df-convert:hover {\n",
              "      background-color: #E2EBFA;\n",
              "      box-shadow: 0px 1px 2px rgba(60, 64, 67, 0.3), 0px 1px 3px 1px rgba(60, 64, 67, 0.15);\n",
              "      fill: #174EA6;\n",
              "    }\n",
              "\n",
              "    .colab-df-buttons div {\n",
              "      margin-bottom: 4px;\n",
              "    }\n",
              "\n",
              "    [theme=dark] .colab-df-convert {\n",
              "      background-color: #3B4455;\n",
              "      fill: #D2E3FC;\n",
              "    }\n",
              "\n",
              "    [theme=dark] .colab-df-convert:hover {\n",
              "      background-color: #434B5C;\n",
              "      box-shadow: 0px 1px 3px 1px rgba(0, 0, 0, 0.15);\n",
              "      filter: drop-shadow(0px 1px 2px rgba(0, 0, 0, 0.3));\n",
              "      fill: #FFFFFF;\n",
              "    }\n",
              "  </style>\n",
              "\n",
              "    <script>\n",
              "      const buttonEl =\n",
              "        document.querySelector('#df-bb321493-00bd-4960-b578-a9cb59c117db button.colab-df-convert');\n",
              "      buttonEl.style.display =\n",
              "        google.colab.kernel.accessAllowed ? 'block' : 'none';\n",
              "\n",
              "      async function convertToInteractive(key) {\n",
              "        const element = document.querySelector('#df-bb321493-00bd-4960-b578-a9cb59c117db');\n",
              "        const dataTable =\n",
              "          await google.colab.kernel.invokeFunction('convertToInteractive',\n",
              "                                                    [key], {});\n",
              "        if (!dataTable) return;\n",
              "\n",
              "        const docLinkHtml = 'Like what you see? Visit the ' +\n",
              "          '<a target=\"_blank\" href=https://colab.research.google.com/notebooks/data_table.ipynb>data table notebook</a>'\n",
              "          + ' to learn more about interactive tables.';\n",
              "        element.innerHTML = '';\n",
              "        dataTable['output_type'] = 'display_data';\n",
              "        await google.colab.output.renderOutput(dataTable, element);\n",
              "        const docLink = document.createElement('div');\n",
              "        docLink.innerHTML = docLinkHtml;\n",
              "        element.appendChild(docLink);\n",
              "      }\n",
              "    </script>\n",
              "  </div>\n",
              "\n",
              "\n",
              "    <div id=\"df-cb953c6c-f01a-446c-b6a7-03ad7164d3de\">\n",
              "      <button class=\"colab-df-quickchart\" onclick=\"quickchart('df-cb953c6c-f01a-446c-b6a7-03ad7164d3de')\"\n",
              "                title=\"Suggest charts\"\n",
              "                style=\"display:none;\">\n",
              "\n",
              "<svg xmlns=\"http://www.w3.org/2000/svg\" height=\"24px\"viewBox=\"0 0 24 24\"\n",
              "     width=\"24px\">\n",
              "    <g>\n",
              "        <path d=\"M19 3H5c-1.1 0-2 .9-2 2v14c0 1.1.9 2 2 2h14c1.1 0 2-.9 2-2V5c0-1.1-.9-2-2-2zM9 17H7v-7h2v7zm4 0h-2V7h2v10zm4 0h-2v-4h2v4z\"/>\n",
              "    </g>\n",
              "</svg>\n",
              "      </button>\n",
              "\n",
              "<style>\n",
              "  .colab-df-quickchart {\n",
              "      --bg-color: #E8F0FE;\n",
              "      --fill-color: #1967D2;\n",
              "      --hover-bg-color: #E2EBFA;\n",
              "      --hover-fill-color: #174EA6;\n",
              "      --disabled-fill-color: #AAA;\n",
              "      --disabled-bg-color: #DDD;\n",
              "  }\n",
              "\n",
              "  [theme=dark] .colab-df-quickchart {\n",
              "      --bg-color: #3B4455;\n",
              "      --fill-color: #D2E3FC;\n",
              "      --hover-bg-color: #434B5C;\n",
              "      --hover-fill-color: #FFFFFF;\n",
              "      --disabled-bg-color: #3B4455;\n",
              "      --disabled-fill-color: #666;\n",
              "  }\n",
              "\n",
              "  .colab-df-quickchart {\n",
              "    background-color: var(--bg-color);\n",
              "    border: none;\n",
              "    border-radius: 50%;\n",
              "    cursor: pointer;\n",
              "    display: none;\n",
              "    fill: var(--fill-color);\n",
              "    height: 32px;\n",
              "    padding: 0;\n",
              "    width: 32px;\n",
              "  }\n",
              "\n",
              "  .colab-df-quickchart:hover {\n",
              "    background-color: var(--hover-bg-color);\n",
              "    box-shadow: 0 1px 2px rgba(60, 64, 67, 0.3), 0 1px 3px 1px rgba(60, 64, 67, 0.15);\n",
              "    fill: var(--button-hover-fill-color);\n",
              "  }\n",
              "\n",
              "  .colab-df-quickchart-complete:disabled,\n",
              "  .colab-df-quickchart-complete:disabled:hover {\n",
              "    background-color: var(--disabled-bg-color);\n",
              "    fill: var(--disabled-fill-color);\n",
              "    box-shadow: none;\n",
              "  }\n",
              "\n",
              "  .colab-df-spinner {\n",
              "    border: 2px solid var(--fill-color);\n",
              "    border-color: transparent;\n",
              "    border-bottom-color: var(--fill-color);\n",
              "    animation:\n",
              "      spin 1s steps(1) infinite;\n",
              "  }\n",
              "\n",
              "  @keyframes spin {\n",
              "    0% {\n",
              "      border-color: transparent;\n",
              "      border-bottom-color: var(--fill-color);\n",
              "      border-left-color: var(--fill-color);\n",
              "    }\n",
              "    20% {\n",
              "      border-color: transparent;\n",
              "      border-left-color: var(--fill-color);\n",
              "      border-top-color: var(--fill-color);\n",
              "    }\n",
              "    30% {\n",
              "      border-color: transparent;\n",
              "      border-left-color: var(--fill-color);\n",
              "      border-top-color: var(--fill-color);\n",
              "      border-right-color: var(--fill-color);\n",
              "    }\n",
              "    40% {\n",
              "      border-color: transparent;\n",
              "      border-right-color: var(--fill-color);\n",
              "      border-top-color: var(--fill-color);\n",
              "    }\n",
              "    60% {\n",
              "      border-color: transparent;\n",
              "      border-right-color: var(--fill-color);\n",
              "    }\n",
              "    80% {\n",
              "      border-color: transparent;\n",
              "      border-right-color: var(--fill-color);\n",
              "      border-bottom-color: var(--fill-color);\n",
              "    }\n",
              "    90% {\n",
              "      border-color: transparent;\n",
              "      border-bottom-color: var(--fill-color);\n",
              "    }\n",
              "  }\n",
              "</style>\n",
              "\n",
              "      <script>\n",
              "        async function quickchart(key) {\n",
              "          const quickchartButtonEl =\n",
              "            document.querySelector('#' + key + ' button');\n",
              "          quickchartButtonEl.disabled = true;  // To prevent multiple clicks.\n",
              "          quickchartButtonEl.classList.add('colab-df-spinner');\n",
              "          try {\n",
              "            const charts = await google.colab.kernel.invokeFunction(\n",
              "                'suggestCharts', [key], {});\n",
              "          } catch (error) {\n",
              "            console.error('Error during call to suggestCharts:', error);\n",
              "          }\n",
              "          quickchartButtonEl.classList.remove('colab-df-spinner');\n",
              "          quickchartButtonEl.classList.add('colab-df-quickchart-complete');\n",
              "        }\n",
              "        (() => {\n",
              "          let quickchartButtonEl =\n",
              "            document.querySelector('#df-cb953c6c-f01a-446c-b6a7-03ad7164d3de button');\n",
              "          quickchartButtonEl.style.display =\n",
              "            google.colab.kernel.accessAllowed ? 'block' : 'none';\n",
              "        })();\n",
              "      </script>\n",
              "    </div>\n",
              "\n",
              "  <div id=\"id_52cb1461-0ab1-4018-87ef-96ad58135ae4\">\n",
              "    <style>\n",
              "      .colab-df-generate {\n",
              "        background-color: #E8F0FE;\n",
              "        border: none;\n",
              "        border-radius: 50%;\n",
              "        cursor: pointer;\n",
              "        display: none;\n",
              "        fill: #1967D2;\n",
              "        height: 32px;\n",
              "        padding: 0 0 0 0;\n",
              "        width: 32px;\n",
              "      }\n",
              "\n",
              "      .colab-df-generate:hover {\n",
              "        background-color: #E2EBFA;\n",
              "        box-shadow: 0px 1px 2px rgba(60, 64, 67, 0.3), 0px 1px 3px 1px rgba(60, 64, 67, 0.15);\n",
              "        fill: #174EA6;\n",
              "      }\n",
              "\n",
              "      [theme=dark] .colab-df-generate {\n",
              "        background-color: #3B4455;\n",
              "        fill: #D2E3FC;\n",
              "      }\n",
              "\n",
              "      [theme=dark] .colab-df-generate:hover {\n",
              "        background-color: #434B5C;\n",
              "        box-shadow: 0px 1px 3px 1px rgba(0, 0, 0, 0.15);\n",
              "        filter: drop-shadow(0px 1px 2px rgba(0, 0, 0, 0.3));\n",
              "        fill: #FFFFFF;\n",
              "      }\n",
              "    </style>\n",
              "    <button class=\"colab-df-generate\" onclick=\"generateWithVariable('result_df')\"\n",
              "            title=\"Generate code using this dataframe.\"\n",
              "            style=\"display:none;\">\n",
              "\n",
              "  <svg xmlns=\"http://www.w3.org/2000/svg\" height=\"24px\"viewBox=\"0 0 24 24\"\n",
              "       width=\"24px\">\n",
              "    <path d=\"M7,19H8.4L18.45,9,17,7.55,7,17.6ZM5,21V16.75L18.45,3.32a2,2,0,0,1,2.83,0l1.4,1.43a1.91,1.91,0,0,1,.58,1.4,1.91,1.91,0,0,1-.58,1.4L9.25,21ZM18.45,9,17,7.55Zm-12,3A5.31,5.31,0,0,0,4.9,8.1,5.31,5.31,0,0,0,1,6.5,5.31,5.31,0,0,0,4.9,4.9,5.31,5.31,0,0,0,6.5,1,5.31,5.31,0,0,0,8.1,4.9,5.31,5.31,0,0,0,12,6.5,5.46,5.46,0,0,0,6.5,12Z\"/>\n",
              "  </svg>\n",
              "    </button>\n",
              "    <script>\n",
              "      (() => {\n",
              "      const buttonEl =\n",
              "        document.querySelector('#id_52cb1461-0ab1-4018-87ef-96ad58135ae4 button.colab-df-generate');\n",
              "      buttonEl.style.display =\n",
              "        google.colab.kernel.accessAllowed ? 'block' : 'none';\n",
              "\n",
              "      buttonEl.onclick = () => {\n",
              "        google.colab.notebook.generateWithVariable('result_df');\n",
              "      }\n",
              "      })();\n",
              "    </script>\n",
              "  </div>\n",
              "\n",
              "    </div>\n",
              "  </div>\n"
            ],
            "application/vnd.google.colaboratory.intrinsic+json": {
              "type": "dataframe",
              "variable_name": "result_df",
              "summary": "{\n  \"name\": \"result_df\",\n  \"rows\": 21,\n  \"fields\": [\n    {\n      \"column\": \"threshold\",\n      \"properties\": {\n        \"dtype\": \"number\",\n        \"std\": 0.3102418411497714,\n        \"min\": 0.0,\n        \"max\": 1.0,\n        \"num_unique_values\": 21,\n        \"samples\": [\n          0.0,\n          0.85,\n          0.75\n        ],\n        \"semantic_type\": \"\",\n        \"description\": \"\"\n      }\n    },\n    {\n      \"column\": \"precision\",\n      \"properties\": {\n        \"dtype\": \"number\",\n        \"std\": 0.14067354982031133,\n        \"min\": 0.44,\n        \"max\": 1.0,\n        \"num_unique_values\": 15,\n        \"samples\": [\n          0.89,\n          0.92,\n          0.44\n        ],\n        \"semantic_type\": \"\",\n        \"description\": \"\"\n      }\n    },\n    {\n      \"column\": \"recall\",\n      \"properties\": {\n        \"dtype\": \"number\",\n        \"std\": 0.21998376563477848,\n        \"min\": 0.21,\n        \"max\": 1.0,\n        \"num_unique_values\": 18,\n        \"samples\": [\n          1.0,\n          0.97,\n          0.72\n        ],\n        \"semantic_type\": \"\",\n        \"description\": \"\"\n      }\n    },\n    {\n      \"column\": \"f1\",\n      \"properties\": {\n        \"dtype\": \"number\",\n        \"std\": 0.12159260629150898,\n        \"min\": 0.35,\n        \"max\": 0.84,\n        \"num_unique_values\": 17,\n        \"samples\": [\n          0.61,\n          0.72,\n          0.83\n        ],\n        \"semantic_type\": \"\",\n        \"description\": \"\"\n      }\n    },\n    {\n      \"column\": \"auc\",\n      \"properties\": {\n        \"dtype\": \"number\",\n        \"std\": 1.137640067256873e-16,\n        \"min\": 0.9,\n        \"max\": 0.9,\n        \"num_unique_values\": 1,\n        \"samples\": [\n          0.9\n        ],\n        \"semantic_type\": \"\",\n        \"description\": \"\"\n      }\n    },\n    {\n      \"column\": \"accuracy\",\n      \"properties\": {\n        \"dtype\": \"number\",\n        \"std\": 0.09314607064278381,\n        \"min\": 0.44,\n        \"max\": 0.85,\n        \"num_unique_values\": 13,\n        \"samples\": [\n          0.72\n        ],\n        \"semantic_type\": \"\",\n        \"description\": \"\"\n      }\n    }\n  ]\n}"
            }
          },
          "metadata": {},
          "execution_count": 54
        }
      ],
      "source": [
        "result_df"
      ]
    },
    {
      "cell_type": "markdown",
      "metadata": {
        "id": "xwLcq2K30kb7"
      },
      "source": [
        "## Save Results"
      ]
    },
    {
      "cell_type": "code",
      "execution_count": 55,
      "metadata": {
        "id": "DnPvOERt0kb7"
      },
      "outputs": [],
      "source": [
        "result_df.to_csv('s25_final_knn_thresholds.csv', index=False)"
      ]
    },
    {
      "cell_type": "code",
      "execution_count": 56,
      "metadata": {
        "colab": {
          "base_uri": "https://localhost:8080/"
        },
        "id": "ci1-r9y50kb8",
        "outputId": "ca25ef88-05a1-467b-ee8c-bae30f9d4a92"
      },
      "outputs": [
        {
          "output_type": "execute_result",
          "data": {
            "text/plain": [
              "['s25_final_knn_model.joblib']"
            ]
          },
          "metadata": {},
          "execution_count": 56
        }
      ],
      "source": [
        "from joblib import dump\n",
        "dump(knn_best_model, 's25_final_knn_model.joblib')"
      ]
    },
    {
      "cell_type": "markdown",
      "metadata": {
        "id": "rNjvW2ZVhN6A"
      },
      "source": [
        "# VI. Logistic Regression tuning\n",
        "\n"
      ]
    },
    {
      "cell_type": "code",
      "execution_count": 57,
      "metadata": {
        "id": "MX3iQcLFhiHB"
      },
      "outputs": [],
      "source": [
        "from sklearn.linear_model import LogisticRegressionCV"
      ]
    },
    {
      "cell_type": "markdown",
      "metadata": {
        "id": "sUx64rqs_skH"
      },
      "source": [
        "### Follow the steps"
      ]
    },
    {
      "cell_type": "code",
      "execution_count": 58,
      "metadata": {
        "id": "xhIvRXj5_skI"
      },
      "outputs": [],
      "source": [
        "# create grid\n",
        "\n",
        "logreg_grid_raw = {\n",
        "    'Cs': [5,10,15],\n",
        "    'cv': [3,5,10],\n",
        "    'solver': ['newton-cg', 'lbfgs', 'liblinear', 'sag', 'saga'],\n",
        "    'max_iter': [10,100,500,1000]\n",
        "}"
      ]
    },
    {
      "cell_type": "code",
      "execution_count": 59,
      "metadata": {
        "colab": {
          "base_uri": "https://localhost:8080/"
        },
        "id": "fw0WHhqi0kb8",
        "outputId": "0f7c0ca6-d12c-4387-aac9-62c444395100"
      },
      "outputs": [
        {
          "output_type": "execute_result",
          "data": {
            "text/plain": [
              "{'Cs': [5, 10, 15],\n",
              " 'cv': [3, 5, 10],\n",
              " 'max_iter': [10, 100, 500, 1000],\n",
              " 'solver': ['lbfgs', 'liblinear', 'newton-cg', 'sag', 'saga']}"
            ]
          },
          "metadata": {},
          "execution_count": 59
        }
      ],
      "source": [
        "logreg_grid = sort_grid(logreg_grid_raw)\n",
        "logreg_grid"
      ]
    },
    {
      "cell_type": "code",
      "execution_count": 60,
      "metadata": {
        "colab": {
          "base_uri": "https://localhost:8080/"
        },
        "id": "keousIcA0kb8",
        "outputId": "1d046519-eefd-4896-ea6e-28a0526f7d8c"
      },
      "outputs": [
        {
          "output_type": "execute_result",
          "data": {
            "text/plain": [
              "180"
            ]
          },
          "metadata": {},
          "execution_count": 60
        }
      ],
      "source": [
        "param_grid = ParameterGrid(logreg_grid)\n",
        "len(param_grid)  #180"
      ]
    },
    {
      "cell_type": "code",
      "execution_count": 61,
      "metadata": {
        "id": "xGlcACLG0kb8"
      },
      "outputs": [],
      "source": [
        "logreg_model = LogisticRegressionCV(random_state=1, n_jobs=-1)  #base model\n"
      ]
    },
    {
      "cell_type": "code",
      "execution_count": 62,
      "metadata": {
        "id": "J7qR1MtB0kb8"
      },
      "outputs": [],
      "source": [
        "%%capture\n",
        "grid_result = halving_search(logreg_model, logreg_grid, x_train, y_train)\n",
        "best_logreg_model = grid_result.best_estimator_"
      ]
    },
    {
      "cell_type": "code",
      "execution_count": 63,
      "metadata": {
        "colab": {
          "base_uri": "https://localhost:8080/"
        },
        "id": "0FOMNtu00kb8",
        "outputId": "d90e6638-e8fd-436b-f1d5-544c23a51d02"
      },
      "outputs": [
        {
          "output_type": "execute_result",
          "data": {
            "text/plain": [
              "{'Cs': 10, 'cv': 3, 'max_iter': 10, 'solver': 'sag'}"
            ]
          },
          "metadata": {},
          "execution_count": 63
        }
      ],
      "source": [
        "grid_result.best_params_\n"
      ]
    },
    {
      "cell_type": "code",
      "execution_count": 64,
      "metadata": {
        "id": "mik_5A320kb8"
      },
      "outputs": [],
      "source": [
        "ypos = best_logreg_model.predict_proba(x_test)[:,1]"
      ]
    },
    {
      "cell_type": "code",
      "execution_count": 65,
      "metadata": {
        "colab": {
          "base_uri": "https://localhost:8080/",
          "height": 726
        },
        "id": "oVYJcLtS0kb8",
        "outputId": "da8c2e18-df87-4ca7-9950-78cdfca0bbc4"
      },
      "outputs": [
        {
          "output_type": "execute_result",
          "data": {
            "text/plain": [
              "<pandas.io.formats.style.Styler at 0x794b59a2c290>"
            ],
            "text/html": [
              "<style type=\"text/css\">\n",
              "#T_29659 th:not(.index_name) {\n",
              "  background-color: #800000;\n",
              "  color: white;\n",
              "  text-align: center;\n",
              "}\n",
              "#T_29659_row0_col0, #T_29659_row0_col1, #T_29659_row0_col3, #T_29659_row0_col5, #T_29659_row1_col0, #T_29659_row1_col1, #T_29659_row1_col3, #T_29659_row1_col5, #T_29659_row2_col0, #T_29659_row2_col1, #T_29659_row2_col2, #T_29659_row2_col3, #T_29659_row2_col5, #T_29659_row3_col0, #T_29659_row3_col1, #T_29659_row3_col2, #T_29659_row3_col3, #T_29659_row3_col5, #T_29659_row4_col0, #T_29659_row4_col1, #T_29659_row4_col2, #T_29659_row4_col3, #T_29659_row4_col5, #T_29659_row5_col0, #T_29659_row5_col1, #T_29659_row5_col2, #T_29659_row5_col3, #T_29659_row5_col5, #T_29659_row6_col0, #T_29659_row6_col1, #T_29659_row6_col2, #T_29659_row7_col0, #T_29659_row7_col1, #T_29659_row7_col2, #T_29659_row8_col0, #T_29659_row8_col1, #T_29659_row8_col2, #T_29659_row8_col3, #T_29659_row8_col5, #T_29659_row9_col0, #T_29659_row9_col1, #T_29659_row9_col2, #T_29659_row9_col3, #T_29659_row9_col5, #T_29659_row10_col0, #T_29659_row10_col1, #T_29659_row10_col2, #T_29659_row10_col3, #T_29659_row10_col5, #T_29659_row11_col0, #T_29659_row11_col1, #T_29659_row11_col2, #T_29659_row11_col3, #T_29659_row11_col5, #T_29659_row12_col0, #T_29659_row12_col1, #T_29659_row12_col2, #T_29659_row12_col3, #T_29659_row12_col5, #T_29659_row13_col0, #T_29659_row13_col1, #T_29659_row13_col2, #T_29659_row13_col3, #T_29659_row13_col5, #T_29659_row14_col0, #T_29659_row14_col1, #T_29659_row14_col2, #T_29659_row14_col3, #T_29659_row14_col5, #T_29659_row15_col0, #T_29659_row15_col1, #T_29659_row15_col2, #T_29659_row15_col3, #T_29659_row15_col5, #T_29659_row16_col0, #T_29659_row16_col1, #T_29659_row16_col2, #T_29659_row16_col3, #T_29659_row16_col5, #T_29659_row17_col0, #T_29659_row17_col1, #T_29659_row17_col2, #T_29659_row17_col3, #T_29659_row17_col5, #T_29659_row18_col0, #T_29659_row18_col2, #T_29659_row18_col3, #T_29659_row18_col5, #T_29659_row19_col0, #T_29659_row19_col2, #T_29659_row19_col3, #T_29659_row19_col5, #T_29659_row20_col1, #T_29659_row20_col2, #T_29659_row20_col3, #T_29659_row20_col5 {\n",
              "  border: 1px solid black;\n",
              "  width: 65px;\n",
              "  text-align: center;\n",
              "}\n",
              "#T_29659_row0_col2, #T_29659_row0_col4, #T_29659_row1_col2, #T_29659_row1_col4, #T_29659_row2_col4, #T_29659_row3_col4, #T_29659_row4_col4, #T_29659_row5_col4, #T_29659_row6_col3, #T_29659_row6_col4, #T_29659_row6_col5, #T_29659_row7_col3, #T_29659_row7_col4, #T_29659_row7_col5, #T_29659_row8_col4, #T_29659_row9_col4, #T_29659_row10_col4, #T_29659_row11_col4, #T_29659_row12_col4, #T_29659_row13_col4, #T_29659_row14_col4, #T_29659_row15_col4, #T_29659_row16_col4, #T_29659_row17_col4, #T_29659_row18_col1, #T_29659_row18_col4, #T_29659_row19_col1, #T_29659_row19_col4, #T_29659_row20_col0, #T_29659_row20_col4 {\n",
              "  background-color: pink;\n",
              "  border: 1px solid black;\n",
              "  width: 65px;\n",
              "  text-align: center;\n",
              "}\n",
              "</style>\n",
              "<table id=\"T_29659\" class=\"dataframe\">\n",
              "  <thead>\n",
              "    <tr>\n",
              "      <th class=\"blank level0\" >&nbsp;</th>\n",
              "      <th id=\"T_29659_level0_col0\" class=\"col_heading level0 col0\" >threshold</th>\n",
              "      <th id=\"T_29659_level0_col1\" class=\"col_heading level0 col1\" >precision</th>\n",
              "      <th id=\"T_29659_level0_col2\" class=\"col_heading level0 col2\" >recall</th>\n",
              "      <th id=\"T_29659_level0_col3\" class=\"col_heading level0 col3\" >f1</th>\n",
              "      <th id=\"T_29659_level0_col4\" class=\"col_heading level0 col4\" >auc</th>\n",
              "      <th id=\"T_29659_level0_col5\" class=\"col_heading level0 col5\" >accuracy</th>\n",
              "    </tr>\n",
              "  </thead>\n",
              "  <tbody>\n",
              "    <tr>\n",
              "      <th id=\"T_29659_level0_row0\" class=\"row_heading level0 row0\" >0</th>\n",
              "      <td id=\"T_29659_row0_col0\" class=\"data row0 col0\" >0.00</td>\n",
              "      <td id=\"T_29659_row0_col1\" class=\"data row0 col1\" >0.44</td>\n",
              "      <td id=\"T_29659_row0_col2\" class=\"data row0 col2\" >1.00</td>\n",
              "      <td id=\"T_29659_row0_col3\" class=\"data row0 col3\" >0.61</td>\n",
              "      <td id=\"T_29659_row0_col4\" class=\"data row0 col4\" >0.90</td>\n",
              "      <td id=\"T_29659_row0_col5\" class=\"data row0 col5\" >0.44</td>\n",
              "    </tr>\n",
              "    <tr>\n",
              "      <th id=\"T_29659_level0_row1\" class=\"row_heading level0 row1\" >1</th>\n",
              "      <td id=\"T_29659_row1_col0\" class=\"data row1 col0\" >0.05</td>\n",
              "      <td id=\"T_29659_row1_col1\" class=\"data row1 col1\" >0.44</td>\n",
              "      <td id=\"T_29659_row1_col2\" class=\"data row1 col2\" >1.00</td>\n",
              "      <td id=\"T_29659_row1_col3\" class=\"data row1 col3\" >0.61</td>\n",
              "      <td id=\"T_29659_row1_col4\" class=\"data row1 col4\" >0.90</td>\n",
              "      <td id=\"T_29659_row1_col5\" class=\"data row1 col5\" >0.44</td>\n",
              "    </tr>\n",
              "    <tr>\n",
              "      <th id=\"T_29659_level0_row2\" class=\"row_heading level0 row2\" >2</th>\n",
              "      <td id=\"T_29659_row2_col0\" class=\"data row2 col0\" >0.10</td>\n",
              "      <td id=\"T_29659_row2_col1\" class=\"data row2 col1\" >0.58</td>\n",
              "      <td id=\"T_29659_row2_col2\" class=\"data row2 col2\" >0.93</td>\n",
              "      <td id=\"T_29659_row2_col3\" class=\"data row2 col3\" >0.71</td>\n",
              "      <td id=\"T_29659_row2_col4\" class=\"data row2 col4\" >0.90</td>\n",
              "      <td id=\"T_29659_row2_col5\" class=\"data row2 col5\" >0.67</td>\n",
              "    </tr>\n",
              "    <tr>\n",
              "      <th id=\"T_29659_level0_row3\" class=\"row_heading level0 row3\" >3</th>\n",
              "      <td id=\"T_29659_row3_col0\" class=\"data row3 col0\" >0.15</td>\n",
              "      <td id=\"T_29659_row3_col1\" class=\"data row3 col1\" >0.67</td>\n",
              "      <td id=\"T_29659_row3_col2\" class=\"data row3 col2\" >0.93</td>\n",
              "      <td id=\"T_29659_row3_col3\" class=\"data row3 col3\" >0.78</td>\n",
              "      <td id=\"T_29659_row3_col4\" class=\"data row3 col4\" >0.90</td>\n",
              "      <td id=\"T_29659_row3_col5\" class=\"data row3 col5\" >0.77</td>\n",
              "    </tr>\n",
              "    <tr>\n",
              "      <th id=\"T_29659_level0_row4\" class=\"row_heading level0 row4\" >4</th>\n",
              "      <td id=\"T_29659_row4_col0\" class=\"data row4 col0\" >0.20</td>\n",
              "      <td id=\"T_29659_row4_col1\" class=\"data row4 col1\" >0.74</td>\n",
              "      <td id=\"T_29659_row4_col2\" class=\"data row4 col2\" >0.93</td>\n",
              "      <td id=\"T_29659_row4_col3\" class=\"data row4 col3\" >0.83</td>\n",
              "      <td id=\"T_29659_row4_col4\" class=\"data row4 col4\" >0.90</td>\n",
              "      <td id=\"T_29659_row4_col5\" class=\"data row4 col5\" >0.83</td>\n",
              "    </tr>\n",
              "    <tr>\n",
              "      <th id=\"T_29659_level0_row5\" class=\"row_heading level0 row5\" >5</th>\n",
              "      <td id=\"T_29659_row5_col0\" class=\"data row5 col0\" >0.25</td>\n",
              "      <td id=\"T_29659_row5_col1\" class=\"data row5 col1\" >0.75</td>\n",
              "      <td id=\"T_29659_row5_col2\" class=\"data row5 col2\" >0.93</td>\n",
              "      <td id=\"T_29659_row5_col3\" class=\"data row5 col3\" >0.83</td>\n",
              "      <td id=\"T_29659_row5_col4\" class=\"data row5 col4\" >0.90</td>\n",
              "      <td id=\"T_29659_row5_col5\" class=\"data row5 col5\" >0.83</td>\n",
              "    </tr>\n",
              "    <tr>\n",
              "      <th id=\"T_29659_level0_row6\" class=\"row_heading level0 row6\" >6</th>\n",
              "      <td id=\"T_29659_row6_col0\" class=\"data row6 col0\" >0.30</td>\n",
              "      <td id=\"T_29659_row6_col1\" class=\"data row6 col1\" >0.78</td>\n",
              "      <td id=\"T_29659_row6_col2\" class=\"data row6 col2\" >0.93</td>\n",
              "      <td id=\"T_29659_row6_col3\" class=\"data row6 col3\" >0.85</td>\n",
              "      <td id=\"T_29659_row6_col4\" class=\"data row6 col4\" >0.90</td>\n",
              "      <td id=\"T_29659_row6_col5\" class=\"data row6 col5\" >0.86</td>\n",
              "    </tr>\n",
              "    <tr>\n",
              "      <th id=\"T_29659_level0_row7\" class=\"row_heading level0 row7\" >7</th>\n",
              "      <td id=\"T_29659_row7_col0\" class=\"data row7 col0\" >0.35</td>\n",
              "      <td id=\"T_29659_row7_col1\" class=\"data row7 col1\" >0.78</td>\n",
              "      <td id=\"T_29659_row7_col2\" class=\"data row7 col2\" >0.93</td>\n",
              "      <td id=\"T_29659_row7_col3\" class=\"data row7 col3\" >0.85</td>\n",
              "      <td id=\"T_29659_row7_col4\" class=\"data row7 col4\" >0.90</td>\n",
              "      <td id=\"T_29659_row7_col5\" class=\"data row7 col5\" >0.86</td>\n",
              "    </tr>\n",
              "    <tr>\n",
              "      <th id=\"T_29659_level0_row8\" class=\"row_heading level0 row8\" >8</th>\n",
              "      <td id=\"T_29659_row8_col0\" class=\"data row8 col0\" >0.40</td>\n",
              "      <td id=\"T_29659_row8_col1\" class=\"data row8 col1\" >0.78</td>\n",
              "      <td id=\"T_29659_row8_col2\" class=\"data row8 col2\" >0.92</td>\n",
              "      <td id=\"T_29659_row8_col3\" class=\"data row8 col3\" >0.84</td>\n",
              "      <td id=\"T_29659_row8_col4\" class=\"data row8 col4\" >0.90</td>\n",
              "      <td id=\"T_29659_row8_col5\" class=\"data row8 col5\" >0.85</td>\n",
              "    </tr>\n",
              "    <tr>\n",
              "      <th id=\"T_29659_level0_row9\" class=\"row_heading level0 row9\" >9</th>\n",
              "      <td id=\"T_29659_row9_col0\" class=\"data row9 col0\" >0.45</td>\n",
              "      <td id=\"T_29659_row9_col1\" class=\"data row9 col1\" >0.79</td>\n",
              "      <td id=\"T_29659_row9_col2\" class=\"data row9 col2\" >0.87</td>\n",
              "      <td id=\"T_29659_row9_col3\" class=\"data row9 col3\" >0.83</td>\n",
              "      <td id=\"T_29659_row9_col4\" class=\"data row9 col4\" >0.90</td>\n",
              "      <td id=\"T_29659_row9_col5\" class=\"data row9 col5\" >0.84</td>\n",
              "    </tr>\n",
              "    <tr>\n",
              "      <th id=\"T_29659_level0_row10\" class=\"row_heading level0 row10\" >10</th>\n",
              "      <td id=\"T_29659_row10_col0\" class=\"data row10 col0\" >0.50</td>\n",
              "      <td id=\"T_29659_row10_col1\" class=\"data row10 col1\" >0.82</td>\n",
              "      <td id=\"T_29659_row10_col2\" class=\"data row10 col2\" >0.82</td>\n",
              "      <td id=\"T_29659_row10_col3\" class=\"data row10 col3\" >0.82</td>\n",
              "      <td id=\"T_29659_row10_col4\" class=\"data row10 col4\" >0.90</td>\n",
              "      <td id=\"T_29659_row10_col5\" class=\"data row10 col5\" >0.84</td>\n",
              "    </tr>\n",
              "    <tr>\n",
              "      <th id=\"T_29659_level0_row11\" class=\"row_heading level0 row11\" >11</th>\n",
              "      <td id=\"T_29659_row11_col0\" class=\"data row11 col0\" >0.55</td>\n",
              "      <td id=\"T_29659_row11_col1\" class=\"data row11 col1\" >0.81</td>\n",
              "      <td id=\"T_29659_row11_col2\" class=\"data row11 col2\" >0.77</td>\n",
              "      <td id=\"T_29659_row11_col3\" class=\"data row11 col3\" >0.79</td>\n",
              "      <td id=\"T_29659_row11_col4\" class=\"data row11 col4\" >0.90</td>\n",
              "      <td id=\"T_29659_row11_col5\" class=\"data row11 col5\" >0.82</td>\n",
              "    </tr>\n",
              "    <tr>\n",
              "      <th id=\"T_29659_level0_row12\" class=\"row_heading level0 row12\" >12</th>\n",
              "      <td id=\"T_29659_row12_col0\" class=\"data row12 col0\" >0.60</td>\n",
              "      <td id=\"T_29659_row12_col1\" class=\"data row12 col1\" >0.82</td>\n",
              "      <td id=\"T_29659_row12_col2\" class=\"data row12 col2\" >0.75</td>\n",
              "      <td id=\"T_29659_row12_col3\" class=\"data row12 col3\" >0.79</td>\n",
              "      <td id=\"T_29659_row12_col4\" class=\"data row12 col4\" >0.90</td>\n",
              "      <td id=\"T_29659_row12_col5\" class=\"data row12 col5\" >0.82</td>\n",
              "    </tr>\n",
              "    <tr>\n",
              "      <th id=\"T_29659_level0_row13\" class=\"row_heading level0 row13\" >13</th>\n",
              "      <td id=\"T_29659_row13_col0\" class=\"data row13 col0\" >0.65</td>\n",
              "      <td id=\"T_29659_row13_col1\" class=\"data row13 col1\" >0.81</td>\n",
              "      <td id=\"T_29659_row13_col2\" class=\"data row13 col2\" >0.72</td>\n",
              "      <td id=\"T_29659_row13_col3\" class=\"data row13 col3\" >0.77</td>\n",
              "      <td id=\"T_29659_row13_col4\" class=\"data row13 col4\" >0.90</td>\n",
              "      <td id=\"T_29659_row13_col5\" class=\"data row13 col5\" >0.80</td>\n",
              "    </tr>\n",
              "    <tr>\n",
              "      <th id=\"T_29659_level0_row14\" class=\"row_heading level0 row14\" >14</th>\n",
              "      <td id=\"T_29659_row14_col0\" class=\"data row14 col0\" >0.70</td>\n",
              "      <td id=\"T_29659_row14_col1\" class=\"data row14 col1\" >0.85</td>\n",
              "      <td id=\"T_29659_row14_col2\" class=\"data row14 col2\" >0.67</td>\n",
              "      <td id=\"T_29659_row14_col3\" class=\"data row14 col3\" >0.75</td>\n",
              "      <td id=\"T_29659_row14_col4\" class=\"data row14 col4\" >0.90</td>\n",
              "      <td id=\"T_29659_row14_col5\" class=\"data row14 col5\" >0.80</td>\n",
              "    </tr>\n",
              "    <tr>\n",
              "      <th id=\"T_29659_level0_row15\" class=\"row_heading level0 row15\" >15</th>\n",
              "      <td id=\"T_29659_row15_col0\" class=\"data row15 col0\" >0.75</td>\n",
              "      <td id=\"T_29659_row15_col1\" class=\"data row15 col1\" >0.93</td>\n",
              "      <td id=\"T_29659_row15_col2\" class=\"data row15 col2\" >0.62</td>\n",
              "      <td id=\"T_29659_row15_col3\" class=\"data row15 col3\" >0.75</td>\n",
              "      <td id=\"T_29659_row15_col4\" class=\"data row15 col4\" >0.90</td>\n",
              "      <td id=\"T_29659_row15_col5\" class=\"data row15 col5\" >0.81</td>\n",
              "    </tr>\n",
              "    <tr>\n",
              "      <th id=\"T_29659_level0_row16\" class=\"row_heading level0 row16\" >16</th>\n",
              "      <td id=\"T_29659_row16_col0\" class=\"data row16 col0\" >0.80</td>\n",
              "      <td id=\"T_29659_row16_col1\" class=\"data row16 col1\" >0.94</td>\n",
              "      <td id=\"T_29659_row16_col2\" class=\"data row16 col2\" >0.54</td>\n",
              "      <td id=\"T_29659_row16_col3\" class=\"data row16 col3\" >0.69</td>\n",
              "      <td id=\"T_29659_row16_col4\" class=\"data row16 col4\" >0.90</td>\n",
              "      <td id=\"T_29659_row16_col5\" class=\"data row16 col5\" >0.78</td>\n",
              "    </tr>\n",
              "    <tr>\n",
              "      <th id=\"T_29659_level0_row17\" class=\"row_heading level0 row17\" >17</th>\n",
              "      <td id=\"T_29659_row17_col0\" class=\"data row17 col0\" >0.85</td>\n",
              "      <td id=\"T_29659_row17_col1\" class=\"data row17 col1\" >0.96</td>\n",
              "      <td id=\"T_29659_row17_col2\" class=\"data row17 col2\" >0.43</td>\n",
              "      <td id=\"T_29659_row17_col3\" class=\"data row17 col3\" >0.59</td>\n",
              "      <td id=\"T_29659_row17_col4\" class=\"data row17 col4\" >0.90</td>\n",
              "      <td id=\"T_29659_row17_col5\" class=\"data row17 col5\" >0.74</td>\n",
              "    </tr>\n",
              "    <tr>\n",
              "      <th id=\"T_29659_level0_row18\" class=\"row_heading level0 row18\" >18</th>\n",
              "      <td id=\"T_29659_row18_col0\" class=\"data row18 col0\" >0.90</td>\n",
              "      <td id=\"T_29659_row18_col1\" class=\"data row18 col1\" >1.00</td>\n",
              "      <td id=\"T_29659_row18_col2\" class=\"data row18 col2\" >0.36</td>\n",
              "      <td id=\"T_29659_row18_col3\" class=\"data row18 col3\" >0.53</td>\n",
              "      <td id=\"T_29659_row18_col4\" class=\"data row18 col4\" >0.90</td>\n",
              "      <td id=\"T_29659_row18_col5\" class=\"data row18 col5\" >0.72</td>\n",
              "    </tr>\n",
              "    <tr>\n",
              "      <th id=\"T_29659_level0_row19\" class=\"row_heading level0 row19\" >19</th>\n",
              "      <td id=\"T_29659_row19_col0\" class=\"data row19 col0\" >0.95</td>\n",
              "      <td id=\"T_29659_row19_col1\" class=\"data row19 col1\" >1.00</td>\n",
              "      <td id=\"T_29659_row19_col2\" class=\"data row19 col2\" >0.21</td>\n",
              "      <td id=\"T_29659_row19_col3\" class=\"data row19 col3\" >0.35</td>\n",
              "      <td id=\"T_29659_row19_col4\" class=\"data row19 col4\" >0.90</td>\n",
              "      <td id=\"T_29659_row19_col5\" class=\"data row19 col5\" >0.65</td>\n",
              "    </tr>\n",
              "    <tr>\n",
              "      <th id=\"T_29659_level0_row20\" class=\"row_heading level0 row20\" >20</th>\n",
              "      <td id=\"T_29659_row20_col0\" class=\"data row20 col0\" >1.00</td>\n",
              "      <td id=\"T_29659_row20_col1\" class=\"data row20 col1\" >0.00</td>\n",
              "      <td id=\"T_29659_row20_col2\" class=\"data row20 col2\" >0.00</td>\n",
              "      <td id=\"T_29659_row20_col3\" class=\"data row20 col3\" >0.00</td>\n",
              "      <td id=\"T_29659_row20_col4\" class=\"data row20 col4\" >0.90</td>\n",
              "      <td id=\"T_29659_row20_col5\" class=\"data row20 col5\" >0.56</td>\n",
              "    </tr>\n",
              "  </tbody>\n",
              "</table>\n"
            ]
          },
          "metadata": {},
          "execution_count": 65
        }
      ],
      "source": [
        "result_df, fancy_df = threshold_results(np.round(np.arange(0.0,1.01,.05), 2), y_test, ypos)\n",
        "fancy_df"
      ]
    },
    {
      "cell_type": "code",
      "execution_count": 66,
      "metadata": {
        "colab": {
          "base_uri": "https://localhost:8080/",
          "height": 707
        },
        "id": "6Gh1YVnS0kb8",
        "outputId": "51bbfe3a-fc48-4fd5-a12b-86bc1ca2bc66"
      },
      "outputs": [
        {
          "output_type": "execute_result",
          "data": {
            "text/plain": [
              "    threshold  precision  recall    f1  auc  accuracy\n",
              "0        0.00       0.44    1.00  0.61  0.9      0.44\n",
              "1        0.05       0.44    1.00  0.61  0.9      0.44\n",
              "2        0.10       0.58    0.93  0.71  0.9      0.67\n",
              "3        0.15       0.67    0.93  0.78  0.9      0.77\n",
              "4        0.20       0.74    0.93  0.83  0.9      0.83\n",
              "5        0.25       0.75    0.93  0.83  0.9      0.83\n",
              "6        0.30       0.78    0.93  0.85  0.9      0.86\n",
              "7        0.35       0.78    0.93  0.85  0.9      0.86\n",
              "8        0.40       0.78    0.92  0.84  0.9      0.85\n",
              "9        0.45       0.79    0.87  0.83  0.9      0.84\n",
              "10       0.50       0.82    0.82  0.82  0.9      0.84\n",
              "11       0.55       0.81    0.77  0.79  0.9      0.82\n",
              "12       0.60       0.82    0.75  0.79  0.9      0.82\n",
              "13       0.65       0.81    0.72  0.77  0.9      0.80\n",
              "14       0.70       0.85    0.67  0.75  0.9      0.80\n",
              "15       0.75       0.93    0.62  0.75  0.9      0.81\n",
              "16       0.80       0.94    0.54  0.69  0.9      0.78\n",
              "17       0.85       0.96    0.43  0.59  0.9      0.74\n",
              "18       0.90       1.00    0.36  0.53  0.9      0.72\n",
              "19       0.95       1.00    0.21  0.35  0.9      0.65\n",
              "20       1.00       0.00    0.00  0.00  0.9      0.56"
            ],
            "text/html": [
              "\n",
              "  <div id=\"df-3cb523a0-f271-431b-8d9e-98b327614e78\" class=\"colab-df-container\">\n",
              "    <div>\n",
              "<style scoped>\n",
              "    .dataframe tbody tr th:only-of-type {\n",
              "        vertical-align: middle;\n",
              "    }\n",
              "\n",
              "    .dataframe tbody tr th {\n",
              "        vertical-align: top;\n",
              "    }\n",
              "\n",
              "    .dataframe thead th {\n",
              "        text-align: right;\n",
              "    }\n",
              "</style>\n",
              "<table border=\"1\" class=\"dataframe\">\n",
              "  <thead>\n",
              "    <tr style=\"text-align: right;\">\n",
              "      <th></th>\n",
              "      <th>threshold</th>\n",
              "      <th>precision</th>\n",
              "      <th>recall</th>\n",
              "      <th>f1</th>\n",
              "      <th>auc</th>\n",
              "      <th>accuracy</th>\n",
              "    </tr>\n",
              "  </thead>\n",
              "  <tbody>\n",
              "    <tr>\n",
              "      <th>0</th>\n",
              "      <td>0.00</td>\n",
              "      <td>0.44</td>\n",
              "      <td>1.00</td>\n",
              "      <td>0.61</td>\n",
              "      <td>0.9</td>\n",
              "      <td>0.44</td>\n",
              "    </tr>\n",
              "    <tr>\n",
              "      <th>1</th>\n",
              "      <td>0.05</td>\n",
              "      <td>0.44</td>\n",
              "      <td>1.00</td>\n",
              "      <td>0.61</td>\n",
              "      <td>0.9</td>\n",
              "      <td>0.44</td>\n",
              "    </tr>\n",
              "    <tr>\n",
              "      <th>2</th>\n",
              "      <td>0.10</td>\n",
              "      <td>0.58</td>\n",
              "      <td>0.93</td>\n",
              "      <td>0.71</td>\n",
              "      <td>0.9</td>\n",
              "      <td>0.67</td>\n",
              "    </tr>\n",
              "    <tr>\n",
              "      <th>3</th>\n",
              "      <td>0.15</td>\n",
              "      <td>0.67</td>\n",
              "      <td>0.93</td>\n",
              "      <td>0.78</td>\n",
              "      <td>0.9</td>\n",
              "      <td>0.77</td>\n",
              "    </tr>\n",
              "    <tr>\n",
              "      <th>4</th>\n",
              "      <td>0.20</td>\n",
              "      <td>0.74</td>\n",
              "      <td>0.93</td>\n",
              "      <td>0.83</td>\n",
              "      <td>0.9</td>\n",
              "      <td>0.83</td>\n",
              "    </tr>\n",
              "    <tr>\n",
              "      <th>5</th>\n",
              "      <td>0.25</td>\n",
              "      <td>0.75</td>\n",
              "      <td>0.93</td>\n",
              "      <td>0.83</td>\n",
              "      <td>0.9</td>\n",
              "      <td>0.83</td>\n",
              "    </tr>\n",
              "    <tr>\n",
              "      <th>6</th>\n",
              "      <td>0.30</td>\n",
              "      <td>0.78</td>\n",
              "      <td>0.93</td>\n",
              "      <td>0.85</td>\n",
              "      <td>0.9</td>\n",
              "      <td>0.86</td>\n",
              "    </tr>\n",
              "    <tr>\n",
              "      <th>7</th>\n",
              "      <td>0.35</td>\n",
              "      <td>0.78</td>\n",
              "      <td>0.93</td>\n",
              "      <td>0.85</td>\n",
              "      <td>0.9</td>\n",
              "      <td>0.86</td>\n",
              "    </tr>\n",
              "    <tr>\n",
              "      <th>8</th>\n",
              "      <td>0.40</td>\n",
              "      <td>0.78</td>\n",
              "      <td>0.92</td>\n",
              "      <td>0.84</td>\n",
              "      <td>0.9</td>\n",
              "      <td>0.85</td>\n",
              "    </tr>\n",
              "    <tr>\n",
              "      <th>9</th>\n",
              "      <td>0.45</td>\n",
              "      <td>0.79</td>\n",
              "      <td>0.87</td>\n",
              "      <td>0.83</td>\n",
              "      <td>0.9</td>\n",
              "      <td>0.84</td>\n",
              "    </tr>\n",
              "    <tr>\n",
              "      <th>10</th>\n",
              "      <td>0.50</td>\n",
              "      <td>0.82</td>\n",
              "      <td>0.82</td>\n",
              "      <td>0.82</td>\n",
              "      <td>0.9</td>\n",
              "      <td>0.84</td>\n",
              "    </tr>\n",
              "    <tr>\n",
              "      <th>11</th>\n",
              "      <td>0.55</td>\n",
              "      <td>0.81</td>\n",
              "      <td>0.77</td>\n",
              "      <td>0.79</td>\n",
              "      <td>0.9</td>\n",
              "      <td>0.82</td>\n",
              "    </tr>\n",
              "    <tr>\n",
              "      <th>12</th>\n",
              "      <td>0.60</td>\n",
              "      <td>0.82</td>\n",
              "      <td>0.75</td>\n",
              "      <td>0.79</td>\n",
              "      <td>0.9</td>\n",
              "      <td>0.82</td>\n",
              "    </tr>\n",
              "    <tr>\n",
              "      <th>13</th>\n",
              "      <td>0.65</td>\n",
              "      <td>0.81</td>\n",
              "      <td>0.72</td>\n",
              "      <td>0.77</td>\n",
              "      <td>0.9</td>\n",
              "      <td>0.80</td>\n",
              "    </tr>\n",
              "    <tr>\n",
              "      <th>14</th>\n",
              "      <td>0.70</td>\n",
              "      <td>0.85</td>\n",
              "      <td>0.67</td>\n",
              "      <td>0.75</td>\n",
              "      <td>0.9</td>\n",
              "      <td>0.80</td>\n",
              "    </tr>\n",
              "    <tr>\n",
              "      <th>15</th>\n",
              "      <td>0.75</td>\n",
              "      <td>0.93</td>\n",
              "      <td>0.62</td>\n",
              "      <td>0.75</td>\n",
              "      <td>0.9</td>\n",
              "      <td>0.81</td>\n",
              "    </tr>\n",
              "    <tr>\n",
              "      <th>16</th>\n",
              "      <td>0.80</td>\n",
              "      <td>0.94</td>\n",
              "      <td>0.54</td>\n",
              "      <td>0.69</td>\n",
              "      <td>0.9</td>\n",
              "      <td>0.78</td>\n",
              "    </tr>\n",
              "    <tr>\n",
              "      <th>17</th>\n",
              "      <td>0.85</td>\n",
              "      <td>0.96</td>\n",
              "      <td>0.43</td>\n",
              "      <td>0.59</td>\n",
              "      <td>0.9</td>\n",
              "      <td>0.74</td>\n",
              "    </tr>\n",
              "    <tr>\n",
              "      <th>18</th>\n",
              "      <td>0.90</td>\n",
              "      <td>1.00</td>\n",
              "      <td>0.36</td>\n",
              "      <td>0.53</td>\n",
              "      <td>0.9</td>\n",
              "      <td>0.72</td>\n",
              "    </tr>\n",
              "    <tr>\n",
              "      <th>19</th>\n",
              "      <td>0.95</td>\n",
              "      <td>1.00</td>\n",
              "      <td>0.21</td>\n",
              "      <td>0.35</td>\n",
              "      <td>0.9</td>\n",
              "      <td>0.65</td>\n",
              "    </tr>\n",
              "    <tr>\n",
              "      <th>20</th>\n",
              "      <td>1.00</td>\n",
              "      <td>0.00</td>\n",
              "      <td>0.00</td>\n",
              "      <td>0.00</td>\n",
              "      <td>0.9</td>\n",
              "      <td>0.56</td>\n",
              "    </tr>\n",
              "  </tbody>\n",
              "</table>\n",
              "</div>\n",
              "    <div class=\"colab-df-buttons\">\n",
              "\n",
              "  <div class=\"colab-df-container\">\n",
              "    <button class=\"colab-df-convert\" onclick=\"convertToInteractive('df-3cb523a0-f271-431b-8d9e-98b327614e78')\"\n",
              "            title=\"Convert this dataframe to an interactive table.\"\n",
              "            style=\"display:none;\">\n",
              "\n",
              "  <svg xmlns=\"http://www.w3.org/2000/svg\" height=\"24px\" viewBox=\"0 -960 960 960\">\n",
              "    <path d=\"M120-120v-720h720v720H120Zm60-500h600v-160H180v160Zm220 220h160v-160H400v160Zm0 220h160v-160H400v160ZM180-400h160v-160H180v160Zm440 0h160v-160H620v160ZM180-180h160v-160H180v160Zm440 0h160v-160H620v160Z\"/>\n",
              "  </svg>\n",
              "    </button>\n",
              "\n",
              "  <style>\n",
              "    .colab-df-container {\n",
              "      display:flex;\n",
              "      gap: 12px;\n",
              "    }\n",
              "\n",
              "    .colab-df-convert {\n",
              "      background-color: #E8F0FE;\n",
              "      border: none;\n",
              "      border-radius: 50%;\n",
              "      cursor: pointer;\n",
              "      display: none;\n",
              "      fill: #1967D2;\n",
              "      height: 32px;\n",
              "      padding: 0 0 0 0;\n",
              "      width: 32px;\n",
              "    }\n",
              "\n",
              "    .colab-df-convert:hover {\n",
              "      background-color: #E2EBFA;\n",
              "      box-shadow: 0px 1px 2px rgba(60, 64, 67, 0.3), 0px 1px 3px 1px rgba(60, 64, 67, 0.15);\n",
              "      fill: #174EA6;\n",
              "    }\n",
              "\n",
              "    .colab-df-buttons div {\n",
              "      margin-bottom: 4px;\n",
              "    }\n",
              "\n",
              "    [theme=dark] .colab-df-convert {\n",
              "      background-color: #3B4455;\n",
              "      fill: #D2E3FC;\n",
              "    }\n",
              "\n",
              "    [theme=dark] .colab-df-convert:hover {\n",
              "      background-color: #434B5C;\n",
              "      box-shadow: 0px 1px 3px 1px rgba(0, 0, 0, 0.15);\n",
              "      filter: drop-shadow(0px 1px 2px rgba(0, 0, 0, 0.3));\n",
              "      fill: #FFFFFF;\n",
              "    }\n",
              "  </style>\n",
              "\n",
              "    <script>\n",
              "      const buttonEl =\n",
              "        document.querySelector('#df-3cb523a0-f271-431b-8d9e-98b327614e78 button.colab-df-convert');\n",
              "      buttonEl.style.display =\n",
              "        google.colab.kernel.accessAllowed ? 'block' : 'none';\n",
              "\n",
              "      async function convertToInteractive(key) {\n",
              "        const element = document.querySelector('#df-3cb523a0-f271-431b-8d9e-98b327614e78');\n",
              "        const dataTable =\n",
              "          await google.colab.kernel.invokeFunction('convertToInteractive',\n",
              "                                                    [key], {});\n",
              "        if (!dataTable) return;\n",
              "\n",
              "        const docLinkHtml = 'Like what you see? Visit the ' +\n",
              "          '<a target=\"_blank\" href=https://colab.research.google.com/notebooks/data_table.ipynb>data table notebook</a>'\n",
              "          + ' to learn more about interactive tables.';\n",
              "        element.innerHTML = '';\n",
              "        dataTable['output_type'] = 'display_data';\n",
              "        await google.colab.output.renderOutput(dataTable, element);\n",
              "        const docLink = document.createElement('div');\n",
              "        docLink.innerHTML = docLinkHtml;\n",
              "        element.appendChild(docLink);\n",
              "      }\n",
              "    </script>\n",
              "  </div>\n",
              "\n",
              "\n",
              "    <div id=\"df-7d66291f-9951-4683-b4ec-346a1fad0317\">\n",
              "      <button class=\"colab-df-quickchart\" onclick=\"quickchart('df-7d66291f-9951-4683-b4ec-346a1fad0317')\"\n",
              "                title=\"Suggest charts\"\n",
              "                style=\"display:none;\">\n",
              "\n",
              "<svg xmlns=\"http://www.w3.org/2000/svg\" height=\"24px\"viewBox=\"0 0 24 24\"\n",
              "     width=\"24px\">\n",
              "    <g>\n",
              "        <path d=\"M19 3H5c-1.1 0-2 .9-2 2v14c0 1.1.9 2 2 2h14c1.1 0 2-.9 2-2V5c0-1.1-.9-2-2-2zM9 17H7v-7h2v7zm4 0h-2V7h2v10zm4 0h-2v-4h2v4z\"/>\n",
              "    </g>\n",
              "</svg>\n",
              "      </button>\n",
              "\n",
              "<style>\n",
              "  .colab-df-quickchart {\n",
              "      --bg-color: #E8F0FE;\n",
              "      --fill-color: #1967D2;\n",
              "      --hover-bg-color: #E2EBFA;\n",
              "      --hover-fill-color: #174EA6;\n",
              "      --disabled-fill-color: #AAA;\n",
              "      --disabled-bg-color: #DDD;\n",
              "  }\n",
              "\n",
              "  [theme=dark] .colab-df-quickchart {\n",
              "      --bg-color: #3B4455;\n",
              "      --fill-color: #D2E3FC;\n",
              "      --hover-bg-color: #434B5C;\n",
              "      --hover-fill-color: #FFFFFF;\n",
              "      --disabled-bg-color: #3B4455;\n",
              "      --disabled-fill-color: #666;\n",
              "  }\n",
              "\n",
              "  .colab-df-quickchart {\n",
              "    background-color: var(--bg-color);\n",
              "    border: none;\n",
              "    border-radius: 50%;\n",
              "    cursor: pointer;\n",
              "    display: none;\n",
              "    fill: var(--fill-color);\n",
              "    height: 32px;\n",
              "    padding: 0;\n",
              "    width: 32px;\n",
              "  }\n",
              "\n",
              "  .colab-df-quickchart:hover {\n",
              "    background-color: var(--hover-bg-color);\n",
              "    box-shadow: 0 1px 2px rgba(60, 64, 67, 0.3), 0 1px 3px 1px rgba(60, 64, 67, 0.15);\n",
              "    fill: var(--button-hover-fill-color);\n",
              "  }\n",
              "\n",
              "  .colab-df-quickchart-complete:disabled,\n",
              "  .colab-df-quickchart-complete:disabled:hover {\n",
              "    background-color: var(--disabled-bg-color);\n",
              "    fill: var(--disabled-fill-color);\n",
              "    box-shadow: none;\n",
              "  }\n",
              "\n",
              "  .colab-df-spinner {\n",
              "    border: 2px solid var(--fill-color);\n",
              "    border-color: transparent;\n",
              "    border-bottom-color: var(--fill-color);\n",
              "    animation:\n",
              "      spin 1s steps(1) infinite;\n",
              "  }\n",
              "\n",
              "  @keyframes spin {\n",
              "    0% {\n",
              "      border-color: transparent;\n",
              "      border-bottom-color: var(--fill-color);\n",
              "      border-left-color: var(--fill-color);\n",
              "    }\n",
              "    20% {\n",
              "      border-color: transparent;\n",
              "      border-left-color: var(--fill-color);\n",
              "      border-top-color: var(--fill-color);\n",
              "    }\n",
              "    30% {\n",
              "      border-color: transparent;\n",
              "      border-left-color: var(--fill-color);\n",
              "      border-top-color: var(--fill-color);\n",
              "      border-right-color: var(--fill-color);\n",
              "    }\n",
              "    40% {\n",
              "      border-color: transparent;\n",
              "      border-right-color: var(--fill-color);\n",
              "      border-top-color: var(--fill-color);\n",
              "    }\n",
              "    60% {\n",
              "      border-color: transparent;\n",
              "      border-right-color: var(--fill-color);\n",
              "    }\n",
              "    80% {\n",
              "      border-color: transparent;\n",
              "      border-right-color: var(--fill-color);\n",
              "      border-bottom-color: var(--fill-color);\n",
              "    }\n",
              "    90% {\n",
              "      border-color: transparent;\n",
              "      border-bottom-color: var(--fill-color);\n",
              "    }\n",
              "  }\n",
              "</style>\n",
              "\n",
              "      <script>\n",
              "        async function quickchart(key) {\n",
              "          const quickchartButtonEl =\n",
              "            document.querySelector('#' + key + ' button');\n",
              "          quickchartButtonEl.disabled = true;  // To prevent multiple clicks.\n",
              "          quickchartButtonEl.classList.add('colab-df-spinner');\n",
              "          try {\n",
              "            const charts = await google.colab.kernel.invokeFunction(\n",
              "                'suggestCharts', [key], {});\n",
              "          } catch (error) {\n",
              "            console.error('Error during call to suggestCharts:', error);\n",
              "          }\n",
              "          quickchartButtonEl.classList.remove('colab-df-spinner');\n",
              "          quickchartButtonEl.classList.add('colab-df-quickchart-complete');\n",
              "        }\n",
              "        (() => {\n",
              "          let quickchartButtonEl =\n",
              "            document.querySelector('#df-7d66291f-9951-4683-b4ec-346a1fad0317 button');\n",
              "          quickchartButtonEl.style.display =\n",
              "            google.colab.kernel.accessAllowed ? 'block' : 'none';\n",
              "        })();\n",
              "      </script>\n",
              "    </div>\n",
              "\n",
              "  <div id=\"id_89ff8f29-41f4-48f1-aaef-c28fa0b49bb7\">\n",
              "    <style>\n",
              "      .colab-df-generate {\n",
              "        background-color: #E8F0FE;\n",
              "        border: none;\n",
              "        border-radius: 50%;\n",
              "        cursor: pointer;\n",
              "        display: none;\n",
              "        fill: #1967D2;\n",
              "        height: 32px;\n",
              "        padding: 0 0 0 0;\n",
              "        width: 32px;\n",
              "      }\n",
              "\n",
              "      .colab-df-generate:hover {\n",
              "        background-color: #E2EBFA;\n",
              "        box-shadow: 0px 1px 2px rgba(60, 64, 67, 0.3), 0px 1px 3px 1px rgba(60, 64, 67, 0.15);\n",
              "        fill: #174EA6;\n",
              "      }\n",
              "\n",
              "      [theme=dark] .colab-df-generate {\n",
              "        background-color: #3B4455;\n",
              "        fill: #D2E3FC;\n",
              "      }\n",
              "\n",
              "      [theme=dark] .colab-df-generate:hover {\n",
              "        background-color: #434B5C;\n",
              "        box-shadow: 0px 1px 3px 1px rgba(0, 0, 0, 0.15);\n",
              "        filter: drop-shadow(0px 1px 2px rgba(0, 0, 0, 0.3));\n",
              "        fill: #FFFFFF;\n",
              "      }\n",
              "    </style>\n",
              "    <button class=\"colab-df-generate\" onclick=\"generateWithVariable('result_df')\"\n",
              "            title=\"Generate code using this dataframe.\"\n",
              "            style=\"display:none;\">\n",
              "\n",
              "  <svg xmlns=\"http://www.w3.org/2000/svg\" height=\"24px\"viewBox=\"0 0 24 24\"\n",
              "       width=\"24px\">\n",
              "    <path d=\"M7,19H8.4L18.45,9,17,7.55,7,17.6ZM5,21V16.75L18.45,3.32a2,2,0,0,1,2.83,0l1.4,1.43a1.91,1.91,0,0,1,.58,1.4,1.91,1.91,0,0,1-.58,1.4L9.25,21ZM18.45,9,17,7.55Zm-12,3A5.31,5.31,0,0,0,4.9,8.1,5.31,5.31,0,0,0,1,6.5,5.31,5.31,0,0,0,4.9,4.9,5.31,5.31,0,0,0,6.5,1,5.31,5.31,0,0,0,8.1,4.9,5.31,5.31,0,0,0,12,6.5,5.46,5.46,0,0,0,6.5,12Z\"/>\n",
              "  </svg>\n",
              "    </button>\n",
              "    <script>\n",
              "      (() => {\n",
              "      const buttonEl =\n",
              "        document.querySelector('#id_89ff8f29-41f4-48f1-aaef-c28fa0b49bb7 button.colab-df-generate');\n",
              "      buttonEl.style.display =\n",
              "        google.colab.kernel.accessAllowed ? 'block' : 'none';\n",
              "\n",
              "      buttonEl.onclick = () => {\n",
              "        google.colab.notebook.generateWithVariable('result_df');\n",
              "      }\n",
              "      })();\n",
              "    </script>\n",
              "  </div>\n",
              "\n",
              "    </div>\n",
              "  </div>\n"
            ],
            "application/vnd.google.colaboratory.intrinsic+json": {
              "type": "dataframe",
              "variable_name": "result_df",
              "summary": "{\n  \"name\": \"result_df\",\n  \"rows\": 21,\n  \"fields\": [\n    {\n      \"column\": \"threshold\",\n      \"properties\": {\n        \"dtype\": \"number\",\n        \"std\": 0.3102418411497714,\n        \"min\": 0.0,\n        \"max\": 1.0,\n        \"num_unique_values\": 21,\n        \"samples\": [\n          0.0,\n          0.85,\n          0.75\n        ],\n        \"semantic_type\": \"\",\n        \"description\": \"\"\n      }\n    },\n    {\n      \"column\": \"precision\",\n      \"properties\": {\n        \"dtype\": \"number\",\n        \"std\": 0.23009004448569384,\n        \"min\": 0.0,\n        \"max\": 1.0,\n        \"num_unique_values\": 15,\n        \"samples\": [\n          0.85,\n          0.94,\n          0.44\n        ],\n        \"semantic_type\": \"\",\n        \"description\": \"\"\n      }\n    },\n    {\n      \"column\": \"recall\",\n      \"properties\": {\n        \"dtype\": \"number\",\n        \"std\": 0.27689950042088074,\n        \"min\": 0.0,\n        \"max\": 1.0,\n        \"num_unique_values\": 15,\n        \"samples\": [\n          0.62,\n          0.43,\n          1.0\n        ],\n        \"semantic_type\": \"\",\n        \"description\": \"\"\n      }\n    },\n    {\n      \"column\": \"f1\",\n      \"properties\": {\n        \"dtype\": \"number\",\n        \"std\": 0.20387437775444442,\n        \"min\": 0.0,\n        \"max\": 0.85,\n        \"num_unique_values\": 15,\n        \"samples\": [\n          0.75,\n          0.59,\n          0.61\n        ],\n        \"semantic_type\": \"\",\n        \"description\": \"\"\n      }\n    },\n    {\n      \"column\": \"auc\",\n      \"properties\": {\n        \"dtype\": \"number\",\n        \"std\": 1.137640067256873e-16,\n        \"min\": 0.9,\n        \"max\": 0.9,\n        \"num_unique_values\": 1,\n        \"samples\": [\n          0.9\n        ],\n        \"semantic_type\": \"\",\n        \"description\": \"\"\n      }\n    },\n    {\n      \"column\": \"accuracy\",\n      \"properties\": {\n        \"dtype\": \"number\",\n        \"std\": 0.1281758464729124,\n        \"min\": 0.44,\n        \"max\": 0.86,\n        \"num_unique_values\": 15,\n        \"samples\": [\n          0.81\n        ],\n        \"semantic_type\": \"\",\n        \"description\": \"\"\n      }\n    }\n  ]\n}"
            }
          },
          "metadata": {},
          "execution_count": 66
        }
      ],
      "source": [
        "result_df"
      ]
    },
    {
      "cell_type": "code",
      "execution_count": 67,
      "metadata": {
        "id": "lePo9aOS0kb8"
      },
      "outputs": [],
      "source": [
        "result_df.to_csv('s25_final_logreg_thresholds.csv', index=False)"
      ]
    },
    {
      "cell_type": "code",
      "execution_count": 68,
      "metadata": {
        "colab": {
          "base_uri": "https://localhost:8080/"
        },
        "id": "Cv51R7_C0kb9",
        "outputId": "ba1b225a-1f0e-41ab-db68-1a4e67d3c82a"
      },
      "outputs": [
        {
          "output_type": "execute_result",
          "data": {
            "text/plain": [
              "['s25_final_logreg_model.joblib']"
            ]
          },
          "metadata": {},
          "execution_count": 68
        }
      ],
      "source": [
        "dump(best_logreg_model, 's25_final_logreg_model.joblib')"
      ]
    },
    {
      "cell_type": "markdown",
      "metadata": {
        "id": "dxe6XuYciUY-"
      },
      "source": [
        "# VII. LGB tuning\n",
        "\n"
      ]
    },
    {
      "cell_type": "code",
      "execution_count": 69,
      "metadata": {
        "id": "-wwjo5E4_436"
      },
      "outputs": [],
      "source": [
        "from lightgbm import LGBMClassifier"
      ]
    },
    {
      "cell_type": "markdown",
      "metadata": {
        "id": "BeqVdrL4_5hW"
      },
      "source": [
        "### Follow the steps"
      ]
    },
    {
      "cell_type": "code",
      "execution_count": 70,
      "metadata": {
        "id": "-cjrLNnB_5hW",
        "colab": {
          "base_uri": "https://localhost:8080/"
        },
        "outputId": "ae6897ff-137a-45fc-c433-583e738693fb"
      },
      "outputs": [
        {
          "output_type": "execute_result",
          "data": {
            "text/plain": [
              "{'boosting_type': ['dart', 'gbdt', 'goss'],\n",
              " 'class_weight': ['balanced', None],\n",
              " 'learning_rate': [0.01, 0.05, 0.1, 0.2, 0.3, 0.4],\n",
              " 'max_depth': [1, 5, 10, 15],\n",
              " 'min_child_samples': [5, 10, 15],\n",
              " 'n_estimators': [5, 10, 50, 100],\n",
              " 'num_leaves': [5, 7, 15, 31, 40]}"
            ]
          },
          "metadata": {},
          "execution_count": 70
        }
      ],
      "source": [
        "lgb_grid_raw = {\n",
        "    # Parameters that work well with HalvingGridSearch\n",
        "    \"n_estimators\": [5, 10, 50, 100],\n",
        "    \"learning_rate\": [.01, .05, 0.1, 0.2, 0.3, 0.4],\n",
        "    \"max_depth\": [1,5,10,15],\n",
        "    \"boosting_type\": ['gbdt', 'dart', 'goss'],\n",
        "    \"num_leaves\": [5, 7, 15, 31, 40],   #start small with binary classification\n",
        "\n",
        "    \"min_child_samples\": [5, 10,15],\n",
        "    \"class_weight\": ['balanced', None],\n",
        "\n",
        "    #\"subsample\": [0.25, 0.5, 0.75]     # Drop this as HalvingGridSearch handles row sampling\n",
        "    #\"subsample_freq\": [0, 1, 5]        # Drop this too as it's related to subsample\n",
        "}\n",
        "\n",
        "lgb_grid = sort_grid(lgb_grid_raw)\n",
        "lgb_grid"
      ]
    },
    {
      "cell_type": "code",
      "execution_count": 71,
      "metadata": {
        "colab": {
          "base_uri": "https://localhost:8080/"
        },
        "id": "VpuMXNJo0kb9",
        "outputId": "9363fcb4-87e3-47f6-d3d1-1c9b5934ddf5"
      },
      "outputs": [
        {
          "output_type": "execute_result",
          "data": {
            "text/plain": [
              "8640"
            ]
          },
          "metadata": {},
          "execution_count": 71
        }
      ],
      "source": [
        "param_grid = ParameterGrid(lgb_grid)  #a list of dictionaries, one for each combo\n",
        "len(param_grid)  #8640"
      ]
    },
    {
      "cell_type": "code",
      "execution_count": 72,
      "metadata": {
        "id": "JSh2fssT0kb9"
      },
      "outputs": [],
      "source": [
        "import datetime  #can use to time tuning - roughly 25 minutes for below!"
      ]
    },
    {
      "cell_type": "code",
      "execution_count": 73,
      "metadata": {
        "id": "0Kb3KUBX0kb9"
      },
      "outputs": [],
      "source": [
        "%%capture\n",
        "start = datetime.datetime.now()\n",
        "\n",
        "grid_result = halving_search(LGBMClassifier(random_state=1234), lgb_grid, x_train, y_train)\n",
        "\n",
        "end = datetime.datetime.now()\n",
        "time_difference = end - start\n",
        "difference_in_minutes = time_difference.total_seconds() / 60"
      ]
    },
    {
      "cell_type": "code",
      "source": [
        "print(f\"The difference between the two datetimes is {difference_in_minutes} minutes.\")"
      ],
      "metadata": {
        "colab": {
          "base_uri": "https://localhost:8080/"
        },
        "id": "1hdh_ow_7TwH",
        "outputId": "eb810895-badc-4fa9-9754-f89d528ec381"
      },
      "execution_count": 74,
      "outputs": [
        {
          "output_type": "stream",
          "name": "stdout",
          "text": [
            "The difference between the two datetimes is 17.4703484 minutes.\n"
          ]
        }
      ]
    },
    {
      "cell_type": "code",
      "source": [
        "lgb_best_model = grid_result.best_estimator_\n",
        "grid_result.best_params_"
      ],
      "metadata": {
        "colab": {
          "base_uri": "https://localhost:8080/"
        },
        "id": "iDVDLT5R7XqT",
        "outputId": "19ea03d5-702f-4c35-d771-ee1fd7a8cb8c"
      },
      "execution_count": 75,
      "outputs": [
        {
          "output_type": "execute_result",
          "data": {
            "text/plain": [
              "{'boosting_type': 'gbdt',\n",
              " 'class_weight': 'balanced',\n",
              " 'learning_rate': 0.1,\n",
              " 'max_depth': 15,\n",
              " 'min_child_samples': 15,\n",
              " 'n_estimators': 100,\n",
              " 'num_leaves': 40}"
            ]
          },
          "metadata": {},
          "execution_count": 75
        }
      ]
    },
    {
      "cell_type": "code",
      "source": [
        "result_df, fancy_df = threshold_results(np.round(np.arange(0.0,1.01,.05), 2), y_test, lgb_best_model.predict_proba(x_test)[:,1])\n",
        "fancy_df"
      ],
      "metadata": {
        "colab": {
          "base_uri": "https://localhost:8080/",
          "height": 783
        },
        "id": "-pELOTxu7zNN",
        "outputId": "2e289f7f-3925-4f42-8d4a-5c405e782211"
      },
      "execution_count": 77,
      "outputs": [
        {
          "output_type": "stream",
          "name": "stderr",
          "text": [
            "/usr/local/lib/python3.11/dist-packages/sklearn/utils/deprecation.py:151: FutureWarning: 'force_all_finite' was renamed to 'ensure_all_finite' in 1.6 and will be removed in 1.8.\n",
            "  warnings.warn(\n"
          ]
        },
        {
          "output_type": "execute_result",
          "data": {
            "text/plain": [
              "<pandas.io.formats.style.Styler at 0x794b3a931290>"
            ],
            "text/html": [
              "<style type=\"text/css\">\n",
              "#T_cb575 th:not(.index_name) {\n",
              "  background-color: #800000;\n",
              "  color: white;\n",
              "  text-align: center;\n",
              "}\n",
              "#T_cb575_row0_col0, #T_cb575_row0_col1, #T_cb575_row0_col3, #T_cb575_row0_col5, #T_cb575_row1_col0, #T_cb575_row1_col1, #T_cb575_row1_col2, #T_cb575_row2_col0, #T_cb575_row2_col1, #T_cb575_row2_col2, #T_cb575_row2_col3, #T_cb575_row2_col5, #T_cb575_row3_col0, #T_cb575_row3_col1, #T_cb575_row3_col2, #T_cb575_row3_col3, #T_cb575_row3_col5, #T_cb575_row4_col0, #T_cb575_row4_col1, #T_cb575_row4_col2, #T_cb575_row4_col3, #T_cb575_row4_col5, #T_cb575_row5_col0, #T_cb575_row5_col1, #T_cb575_row5_col2, #T_cb575_row5_col3, #T_cb575_row5_col5, #T_cb575_row6_col0, #T_cb575_row6_col1, #T_cb575_row6_col2, #T_cb575_row6_col3, #T_cb575_row6_col5, #T_cb575_row7_col0, #T_cb575_row7_col1, #T_cb575_row7_col2, #T_cb575_row7_col3, #T_cb575_row7_col5, #T_cb575_row8_col0, #T_cb575_row8_col1, #T_cb575_row8_col2, #T_cb575_row8_col3, #T_cb575_row8_col5, #T_cb575_row9_col0, #T_cb575_row9_col1, #T_cb575_row9_col2, #T_cb575_row9_col3, #T_cb575_row9_col5, #T_cb575_row10_col0, #T_cb575_row10_col1, #T_cb575_row10_col2, #T_cb575_row10_col3, #T_cb575_row10_col5, #T_cb575_row11_col0, #T_cb575_row11_col1, #T_cb575_row11_col2, #T_cb575_row11_col3, #T_cb575_row11_col5, #T_cb575_row12_col0, #T_cb575_row12_col1, #T_cb575_row12_col2, #T_cb575_row12_col3, #T_cb575_row12_col5, #T_cb575_row13_col0, #T_cb575_row13_col1, #T_cb575_row13_col2, #T_cb575_row13_col3, #T_cb575_row13_col5, #T_cb575_row14_col0, #T_cb575_row14_col1, #T_cb575_row14_col2, #T_cb575_row14_col3, #T_cb575_row14_col5, #T_cb575_row15_col0, #T_cb575_row15_col1, #T_cb575_row15_col2, #T_cb575_row15_col3, #T_cb575_row15_col5, #T_cb575_row16_col0, #T_cb575_row16_col1, #T_cb575_row16_col2, #T_cb575_row16_col3, #T_cb575_row16_col5, #T_cb575_row17_col0, #T_cb575_row17_col1, #T_cb575_row17_col2, #T_cb575_row17_col3, #T_cb575_row17_col5, #T_cb575_row18_col0, #T_cb575_row18_col1, #T_cb575_row18_col2, #T_cb575_row18_col3, #T_cb575_row18_col5, #T_cb575_row19_col0, #T_cb575_row19_col2, #T_cb575_row19_col3, #T_cb575_row19_col5, #T_cb575_row20_col1, #T_cb575_row20_col2, #T_cb575_row20_col3, #T_cb575_row20_col5 {\n",
              "  border: 1px solid black;\n",
              "  width: 65px;\n",
              "  text-align: center;\n",
              "}\n",
              "#T_cb575_row0_col2, #T_cb575_row0_col4, #T_cb575_row1_col3, #T_cb575_row1_col4, #T_cb575_row1_col5, #T_cb575_row2_col4, #T_cb575_row3_col4, #T_cb575_row4_col4, #T_cb575_row5_col4, #T_cb575_row6_col4, #T_cb575_row7_col4, #T_cb575_row8_col4, #T_cb575_row9_col4, #T_cb575_row10_col4, #T_cb575_row11_col4, #T_cb575_row12_col4, #T_cb575_row13_col4, #T_cb575_row14_col4, #T_cb575_row15_col4, #T_cb575_row16_col4, #T_cb575_row17_col4, #T_cb575_row18_col4, #T_cb575_row19_col1, #T_cb575_row19_col4, #T_cb575_row20_col0, #T_cb575_row20_col4 {\n",
              "  background-color: pink;\n",
              "  border: 1px solid black;\n",
              "  width: 65px;\n",
              "  text-align: center;\n",
              "}\n",
              "</style>\n",
              "<table id=\"T_cb575\" class=\"dataframe\">\n",
              "  <thead>\n",
              "    <tr>\n",
              "      <th class=\"blank level0\" >&nbsp;</th>\n",
              "      <th id=\"T_cb575_level0_col0\" class=\"col_heading level0 col0\" >threshold</th>\n",
              "      <th id=\"T_cb575_level0_col1\" class=\"col_heading level0 col1\" >precision</th>\n",
              "      <th id=\"T_cb575_level0_col2\" class=\"col_heading level0 col2\" >recall</th>\n",
              "      <th id=\"T_cb575_level0_col3\" class=\"col_heading level0 col3\" >f1</th>\n",
              "      <th id=\"T_cb575_level0_col4\" class=\"col_heading level0 col4\" >auc</th>\n",
              "      <th id=\"T_cb575_level0_col5\" class=\"col_heading level0 col5\" >accuracy</th>\n",
              "    </tr>\n",
              "  </thead>\n",
              "  <tbody>\n",
              "    <tr>\n",
              "      <th id=\"T_cb575_level0_row0\" class=\"row_heading level0 row0\" >0</th>\n",
              "      <td id=\"T_cb575_row0_col0\" class=\"data row0 col0\" >0.00</td>\n",
              "      <td id=\"T_cb575_row0_col1\" class=\"data row0 col1\" >0.44</td>\n",
              "      <td id=\"T_cb575_row0_col2\" class=\"data row0 col2\" >1.00</td>\n",
              "      <td id=\"T_cb575_row0_col3\" class=\"data row0 col3\" >0.61</td>\n",
              "      <td id=\"T_cb575_row0_col4\" class=\"data row0 col4\" >0.93</td>\n",
              "      <td id=\"T_cb575_row0_col5\" class=\"data row0 col5\" >0.44</td>\n",
              "    </tr>\n",
              "    <tr>\n",
              "      <th id=\"T_cb575_level0_row1\" class=\"row_heading level0 row1\" >1</th>\n",
              "      <td id=\"T_cb575_row1_col0\" class=\"data row1 col0\" >0.05</td>\n",
              "      <td id=\"T_cb575_row1_col1\" class=\"data row1 col1\" >0.77</td>\n",
              "      <td id=\"T_cb575_row1_col2\" class=\"data row1 col2\" >0.97</td>\n",
              "      <td id=\"T_cb575_row1_col3\" class=\"data row1 col3\" >0.86</td>\n",
              "      <td id=\"T_cb575_row1_col4\" class=\"data row1 col4\" >0.93</td>\n",
              "      <td id=\"T_cb575_row1_col5\" class=\"data row1 col5\" >0.86</td>\n",
              "    </tr>\n",
              "    <tr>\n",
              "      <th id=\"T_cb575_level0_row2\" class=\"row_heading level0 row2\" >2</th>\n",
              "      <td id=\"T_cb575_row2_col0\" class=\"data row2 col0\" >0.10</td>\n",
              "      <td id=\"T_cb575_row2_col1\" class=\"data row2 col1\" >0.76</td>\n",
              "      <td id=\"T_cb575_row2_col2\" class=\"data row2 col2\" >0.90</td>\n",
              "      <td id=\"T_cb575_row2_col3\" class=\"data row2 col3\" >0.83</td>\n",
              "      <td id=\"T_cb575_row2_col4\" class=\"data row2 col4\" >0.93</td>\n",
              "      <td id=\"T_cb575_row2_col5\" class=\"data row2 col5\" >0.83</td>\n",
              "    </tr>\n",
              "    <tr>\n",
              "      <th id=\"T_cb575_level0_row3\" class=\"row_heading level0 row3\" >3</th>\n",
              "      <td id=\"T_cb575_row3_col0\" class=\"data row3 col0\" >0.15</td>\n",
              "      <td id=\"T_cb575_row3_col1\" class=\"data row3 col1\" >0.77</td>\n",
              "      <td id=\"T_cb575_row3_col2\" class=\"data row3 col2\" >0.89</td>\n",
              "      <td id=\"T_cb575_row3_col3\" class=\"data row3 col3\" >0.82</td>\n",
              "      <td id=\"T_cb575_row3_col4\" class=\"data row3 col4\" >0.93</td>\n",
              "      <td id=\"T_cb575_row3_col5\" class=\"data row3 col5\" >0.83</td>\n",
              "    </tr>\n",
              "    <tr>\n",
              "      <th id=\"T_cb575_level0_row4\" class=\"row_heading level0 row4\" >4</th>\n",
              "      <td id=\"T_cb575_row4_col0\" class=\"data row4 col0\" >0.20</td>\n",
              "      <td id=\"T_cb575_row4_col1\" class=\"data row4 col1\" >0.79</td>\n",
              "      <td id=\"T_cb575_row4_col2\" class=\"data row4 col2\" >0.87</td>\n",
              "      <td id=\"T_cb575_row4_col3\" class=\"data row4 col3\" >0.83</td>\n",
              "      <td id=\"T_cb575_row4_col4\" class=\"data row4 col4\" >0.93</td>\n",
              "      <td id=\"T_cb575_row4_col5\" class=\"data row4 col5\" >0.84</td>\n",
              "    </tr>\n",
              "    <tr>\n",
              "      <th id=\"T_cb575_level0_row5\" class=\"row_heading level0 row5\" >5</th>\n",
              "      <td id=\"T_cb575_row5_col0\" class=\"data row5 col0\" >0.25</td>\n",
              "      <td id=\"T_cb575_row5_col1\" class=\"data row5 col1\" >0.79</td>\n",
              "      <td id=\"T_cb575_row5_col2\" class=\"data row5 col2\" >0.87</td>\n",
              "      <td id=\"T_cb575_row5_col3\" class=\"data row5 col3\" >0.83</td>\n",
              "      <td id=\"T_cb575_row5_col4\" class=\"data row5 col4\" >0.93</td>\n",
              "      <td id=\"T_cb575_row5_col5\" class=\"data row5 col5\" >0.84</td>\n",
              "    </tr>\n",
              "    <tr>\n",
              "      <th id=\"T_cb575_level0_row6\" class=\"row_heading level0 row6\" >6</th>\n",
              "      <td id=\"T_cb575_row6_col0\" class=\"data row6 col0\" >0.30</td>\n",
              "      <td id=\"T_cb575_row6_col1\" class=\"data row6 col1\" >0.79</td>\n",
              "      <td id=\"T_cb575_row6_col2\" class=\"data row6 col2\" >0.87</td>\n",
              "      <td id=\"T_cb575_row6_col3\" class=\"data row6 col3\" >0.83</td>\n",
              "      <td id=\"T_cb575_row6_col4\" class=\"data row6 col4\" >0.93</td>\n",
              "      <td id=\"T_cb575_row6_col5\" class=\"data row6 col5\" >0.84</td>\n",
              "    </tr>\n",
              "    <tr>\n",
              "      <th id=\"T_cb575_level0_row7\" class=\"row_heading level0 row7\" >7</th>\n",
              "      <td id=\"T_cb575_row7_col0\" class=\"data row7 col0\" >0.35</td>\n",
              "      <td id=\"T_cb575_row7_col1\" class=\"data row7 col1\" >0.79</td>\n",
              "      <td id=\"T_cb575_row7_col2\" class=\"data row7 col2\" >0.87</td>\n",
              "      <td id=\"T_cb575_row7_col3\" class=\"data row7 col3\" >0.83</td>\n",
              "      <td id=\"T_cb575_row7_col4\" class=\"data row7 col4\" >0.93</td>\n",
              "      <td id=\"T_cb575_row7_col5\" class=\"data row7 col5\" >0.84</td>\n",
              "    </tr>\n",
              "    <tr>\n",
              "      <th id=\"T_cb575_level0_row8\" class=\"row_heading level0 row8\" >8</th>\n",
              "      <td id=\"T_cb575_row8_col0\" class=\"data row8 col0\" >0.40</td>\n",
              "      <td id=\"T_cb575_row8_col1\" class=\"data row8 col1\" >0.79</td>\n",
              "      <td id=\"T_cb575_row8_col2\" class=\"data row8 col2\" >0.87</td>\n",
              "      <td id=\"T_cb575_row8_col3\" class=\"data row8 col3\" >0.83</td>\n",
              "      <td id=\"T_cb575_row8_col4\" class=\"data row8 col4\" >0.93</td>\n",
              "      <td id=\"T_cb575_row8_col5\" class=\"data row8 col5\" >0.84</td>\n",
              "    </tr>\n",
              "    <tr>\n",
              "      <th id=\"T_cb575_level0_row9\" class=\"row_heading level0 row9\" >9</th>\n",
              "      <td id=\"T_cb575_row9_col0\" class=\"data row9 col0\" >0.45</td>\n",
              "      <td id=\"T_cb575_row9_col1\" class=\"data row9 col1\" >0.80</td>\n",
              "      <td id=\"T_cb575_row9_col2\" class=\"data row9 col2\" >0.85</td>\n",
              "      <td id=\"T_cb575_row9_col3\" class=\"data row9 col3\" >0.83</td>\n",
              "      <td id=\"T_cb575_row9_col4\" class=\"data row9 col4\" >0.93</td>\n",
              "      <td id=\"T_cb575_row9_col5\" class=\"data row9 col5\" >0.84</td>\n",
              "    </tr>\n",
              "    <tr>\n",
              "      <th id=\"T_cb575_level0_row10\" class=\"row_heading level0 row10\" >10</th>\n",
              "      <td id=\"T_cb575_row10_col0\" class=\"data row10 col0\" >0.50</td>\n",
              "      <td id=\"T_cb575_row10_col1\" class=\"data row10 col1\" >0.80</td>\n",
              "      <td id=\"T_cb575_row10_col2\" class=\"data row10 col2\" >0.84</td>\n",
              "      <td id=\"T_cb575_row10_col3\" class=\"data row10 col3\" >0.82</td>\n",
              "      <td id=\"T_cb575_row10_col4\" class=\"data row10 col4\" >0.93</td>\n",
              "      <td id=\"T_cb575_row10_col5\" class=\"data row10 col5\" >0.83</td>\n",
              "    </tr>\n",
              "    <tr>\n",
              "      <th id=\"T_cb575_level0_row11\" class=\"row_heading level0 row11\" >11</th>\n",
              "      <td id=\"T_cb575_row11_col0\" class=\"data row11 col0\" >0.55</td>\n",
              "      <td id=\"T_cb575_row11_col1\" class=\"data row11 col1\" >0.79</td>\n",
              "      <td id=\"T_cb575_row11_col2\" class=\"data row11 col2\" >0.82</td>\n",
              "      <td id=\"T_cb575_row11_col3\" class=\"data row11 col3\" >0.81</td>\n",
              "      <td id=\"T_cb575_row11_col4\" class=\"data row11 col4\" >0.93</td>\n",
              "      <td id=\"T_cb575_row11_col5\" class=\"data row11 col5\" >0.83</td>\n",
              "    </tr>\n",
              "    <tr>\n",
              "      <th id=\"T_cb575_level0_row12\" class=\"row_heading level0 row12\" >12</th>\n",
              "      <td id=\"T_cb575_row12_col0\" class=\"data row12 col0\" >0.60</td>\n",
              "      <td id=\"T_cb575_row12_col1\" class=\"data row12 col1\" >0.79</td>\n",
              "      <td id=\"T_cb575_row12_col2\" class=\"data row12 col2\" >0.80</td>\n",
              "      <td id=\"T_cb575_row12_col3\" class=\"data row12 col3\" >0.80</td>\n",
              "      <td id=\"T_cb575_row12_col4\" class=\"data row12 col4\" >0.93</td>\n",
              "      <td id=\"T_cb575_row12_col5\" class=\"data row12 col5\" >0.82</td>\n",
              "    </tr>\n",
              "    <tr>\n",
              "      <th id=\"T_cb575_level0_row13\" class=\"row_heading level0 row13\" >13</th>\n",
              "      <td id=\"T_cb575_row13_col0\" class=\"data row13 col0\" >0.65</td>\n",
              "      <td id=\"T_cb575_row13_col1\" class=\"data row13 col1\" >0.79</td>\n",
              "      <td id=\"T_cb575_row13_col2\" class=\"data row13 col2\" >0.80</td>\n",
              "      <td id=\"T_cb575_row13_col3\" class=\"data row13 col3\" >0.80</td>\n",
              "      <td id=\"T_cb575_row13_col4\" class=\"data row13 col4\" >0.93</td>\n",
              "      <td id=\"T_cb575_row13_col5\" class=\"data row13 col5\" >0.82</td>\n",
              "    </tr>\n",
              "    <tr>\n",
              "      <th id=\"T_cb575_level0_row14\" class=\"row_heading level0 row14\" >14</th>\n",
              "      <td id=\"T_cb575_row14_col0\" class=\"data row14 col0\" >0.70</td>\n",
              "      <td id=\"T_cb575_row14_col1\" class=\"data row14 col1\" >0.79</td>\n",
              "      <td id=\"T_cb575_row14_col2\" class=\"data row14 col2\" >0.80</td>\n",
              "      <td id=\"T_cb575_row14_col3\" class=\"data row14 col3\" >0.80</td>\n",
              "      <td id=\"T_cb575_row14_col4\" class=\"data row14 col4\" >0.93</td>\n",
              "      <td id=\"T_cb575_row14_col5\" class=\"data row14 col5\" >0.82</td>\n",
              "    </tr>\n",
              "    <tr>\n",
              "      <th id=\"T_cb575_level0_row15\" class=\"row_heading level0 row15\" >15</th>\n",
              "      <td id=\"T_cb575_row15_col0\" class=\"data row15 col0\" >0.75</td>\n",
              "      <td id=\"T_cb575_row15_col1\" class=\"data row15 col1\" >0.79</td>\n",
              "      <td id=\"T_cb575_row15_col2\" class=\"data row15 col2\" >0.79</td>\n",
              "      <td id=\"T_cb575_row15_col3\" class=\"data row15 col3\" >0.79</td>\n",
              "      <td id=\"T_cb575_row15_col4\" class=\"data row15 col4\" >0.93</td>\n",
              "      <td id=\"T_cb575_row15_col5\" class=\"data row15 col5\" >0.81</td>\n",
              "    </tr>\n",
              "    <tr>\n",
              "      <th id=\"T_cb575_level0_row16\" class=\"row_heading level0 row16\" >16</th>\n",
              "      <td id=\"T_cb575_row16_col0\" class=\"data row16 col0\" >0.80</td>\n",
              "      <td id=\"T_cb575_row16_col1\" class=\"data row16 col1\" >0.78</td>\n",
              "      <td id=\"T_cb575_row16_col2\" class=\"data row16 col2\" >0.77</td>\n",
              "      <td id=\"T_cb575_row16_col3\" class=\"data row16 col3\" >0.78</td>\n",
              "      <td id=\"T_cb575_row16_col4\" class=\"data row16 col4\" >0.93</td>\n",
              "      <td id=\"T_cb575_row16_col5\" class=\"data row16 col5\" >0.80</td>\n",
              "    </tr>\n",
              "    <tr>\n",
              "      <th id=\"T_cb575_level0_row17\" class=\"row_heading level0 row17\" >17</th>\n",
              "      <td id=\"T_cb575_row17_col0\" class=\"data row17 col0\" >0.85</td>\n",
              "      <td id=\"T_cb575_row17_col1\" class=\"data row17 col1\" >0.78</td>\n",
              "      <td id=\"T_cb575_row17_col2\" class=\"data row17 col2\" >0.75</td>\n",
              "      <td id=\"T_cb575_row17_col3\" class=\"data row17 col3\" >0.77</td>\n",
              "      <td id=\"T_cb575_row17_col4\" class=\"data row17 col4\" >0.93</td>\n",
              "      <td id=\"T_cb575_row17_col5\" class=\"data row17 col5\" >0.80</td>\n",
              "    </tr>\n",
              "    <tr>\n",
              "      <th id=\"T_cb575_level0_row18\" class=\"row_heading level0 row18\" >18</th>\n",
              "      <td id=\"T_cb575_row18_col0\" class=\"data row18 col0\" >0.90</td>\n",
              "      <td id=\"T_cb575_row18_col1\" class=\"data row18 col1\" >0.81</td>\n",
              "      <td id=\"T_cb575_row18_col2\" class=\"data row18 col2\" >0.72</td>\n",
              "      <td id=\"T_cb575_row18_col3\" class=\"data row18 col3\" >0.77</td>\n",
              "      <td id=\"T_cb575_row18_col4\" class=\"data row18 col4\" >0.93</td>\n",
              "      <td id=\"T_cb575_row18_col5\" class=\"data row18 col5\" >0.80</td>\n",
              "    </tr>\n",
              "    <tr>\n",
              "      <th id=\"T_cb575_level0_row19\" class=\"row_heading level0 row19\" >19</th>\n",
              "      <td id=\"T_cb575_row19_col0\" class=\"data row19 col0\" >0.95</td>\n",
              "      <td id=\"T_cb575_row19_col1\" class=\"data row19 col1\" >0.86</td>\n",
              "      <td id=\"T_cb575_row19_col2\" class=\"data row19 col2\" >0.70</td>\n",
              "      <td id=\"T_cb575_row19_col3\" class=\"data row19 col3\" >0.77</td>\n",
              "      <td id=\"T_cb575_row19_col4\" class=\"data row19 col4\" >0.93</td>\n",
              "      <td id=\"T_cb575_row19_col5\" class=\"data row19 col5\" >0.82</td>\n",
              "    </tr>\n",
              "    <tr>\n",
              "      <th id=\"T_cb575_level0_row20\" class=\"row_heading level0 row20\" >20</th>\n",
              "      <td id=\"T_cb575_row20_col0\" class=\"data row20 col0\" >1.00</td>\n",
              "      <td id=\"T_cb575_row20_col1\" class=\"data row20 col1\" >0.00</td>\n",
              "      <td id=\"T_cb575_row20_col2\" class=\"data row20 col2\" >0.00</td>\n",
              "      <td id=\"T_cb575_row20_col3\" class=\"data row20 col3\" >0.00</td>\n",
              "      <td id=\"T_cb575_row20_col4\" class=\"data row20 col4\" >0.93</td>\n",
              "      <td id=\"T_cb575_row20_col5\" class=\"data row20 col5\" >0.56</td>\n",
              "    </tr>\n",
              "  </tbody>\n",
              "</table>\n"
            ]
          },
          "metadata": {},
          "execution_count": 77
        }
      ]
    },
    {
      "cell_type": "code",
      "source": [
        "result_df"
      ],
      "metadata": {
        "colab": {
          "base_uri": "https://localhost:8080/",
          "height": 707
        },
        "id": "FbnweFzM72pY",
        "outputId": "817753eb-b2a5-449c-beec-ef282c947a9e"
      },
      "execution_count": 78,
      "outputs": [
        {
          "output_type": "execute_result",
          "data": {
            "text/plain": [
              "    threshold  precision  recall    f1   auc  accuracy\n",
              "0        0.00       0.44    1.00  0.61  0.93      0.44\n",
              "1        0.05       0.77    0.97  0.86  0.93      0.86\n",
              "2        0.10       0.76    0.90  0.83  0.93      0.83\n",
              "3        0.15       0.77    0.89  0.82  0.93      0.83\n",
              "4        0.20       0.79    0.87  0.83  0.93      0.84\n",
              "5        0.25       0.79    0.87  0.83  0.93      0.84\n",
              "6        0.30       0.79    0.87  0.83  0.93      0.84\n",
              "7        0.35       0.79    0.87  0.83  0.93      0.84\n",
              "8        0.40       0.79    0.87  0.83  0.93      0.84\n",
              "9        0.45       0.80    0.85  0.83  0.93      0.84\n",
              "10       0.50       0.80    0.84  0.82  0.93      0.83\n",
              "11       0.55       0.79    0.82  0.81  0.93      0.83\n",
              "12       0.60       0.79    0.80  0.80  0.93      0.82\n",
              "13       0.65       0.79    0.80  0.80  0.93      0.82\n",
              "14       0.70       0.79    0.80  0.80  0.93      0.82\n",
              "15       0.75       0.79    0.79  0.79  0.93      0.81\n",
              "16       0.80       0.78    0.77  0.78  0.93      0.80\n",
              "17       0.85       0.78    0.75  0.77  0.93      0.80\n",
              "18       0.90       0.81    0.72  0.77  0.93      0.80\n",
              "19       0.95       0.86    0.70  0.77  0.93      0.82\n",
              "20       1.00       0.00    0.00  0.00  0.93      0.56"
            ],
            "text/html": [
              "\n",
              "  <div id=\"df-c179793c-526a-4b18-9a62-3debd4464f30\" class=\"colab-df-container\">\n",
              "    <div>\n",
              "<style scoped>\n",
              "    .dataframe tbody tr th:only-of-type {\n",
              "        vertical-align: middle;\n",
              "    }\n",
              "\n",
              "    .dataframe tbody tr th {\n",
              "        vertical-align: top;\n",
              "    }\n",
              "\n",
              "    .dataframe thead th {\n",
              "        text-align: right;\n",
              "    }\n",
              "</style>\n",
              "<table border=\"1\" class=\"dataframe\">\n",
              "  <thead>\n",
              "    <tr style=\"text-align: right;\">\n",
              "      <th></th>\n",
              "      <th>threshold</th>\n",
              "      <th>precision</th>\n",
              "      <th>recall</th>\n",
              "      <th>f1</th>\n",
              "      <th>auc</th>\n",
              "      <th>accuracy</th>\n",
              "    </tr>\n",
              "  </thead>\n",
              "  <tbody>\n",
              "    <tr>\n",
              "      <th>0</th>\n",
              "      <td>0.00</td>\n",
              "      <td>0.44</td>\n",
              "      <td>1.00</td>\n",
              "      <td>0.61</td>\n",
              "      <td>0.93</td>\n",
              "      <td>0.44</td>\n",
              "    </tr>\n",
              "    <tr>\n",
              "      <th>1</th>\n",
              "      <td>0.05</td>\n",
              "      <td>0.77</td>\n",
              "      <td>0.97</td>\n",
              "      <td>0.86</td>\n",
              "      <td>0.93</td>\n",
              "      <td>0.86</td>\n",
              "    </tr>\n",
              "    <tr>\n",
              "      <th>2</th>\n",
              "      <td>0.10</td>\n",
              "      <td>0.76</td>\n",
              "      <td>0.90</td>\n",
              "      <td>0.83</td>\n",
              "      <td>0.93</td>\n",
              "      <td>0.83</td>\n",
              "    </tr>\n",
              "    <tr>\n",
              "      <th>3</th>\n",
              "      <td>0.15</td>\n",
              "      <td>0.77</td>\n",
              "      <td>0.89</td>\n",
              "      <td>0.82</td>\n",
              "      <td>0.93</td>\n",
              "      <td>0.83</td>\n",
              "    </tr>\n",
              "    <tr>\n",
              "      <th>4</th>\n",
              "      <td>0.20</td>\n",
              "      <td>0.79</td>\n",
              "      <td>0.87</td>\n",
              "      <td>0.83</td>\n",
              "      <td>0.93</td>\n",
              "      <td>0.84</td>\n",
              "    </tr>\n",
              "    <tr>\n",
              "      <th>5</th>\n",
              "      <td>0.25</td>\n",
              "      <td>0.79</td>\n",
              "      <td>0.87</td>\n",
              "      <td>0.83</td>\n",
              "      <td>0.93</td>\n",
              "      <td>0.84</td>\n",
              "    </tr>\n",
              "    <tr>\n",
              "      <th>6</th>\n",
              "      <td>0.30</td>\n",
              "      <td>0.79</td>\n",
              "      <td>0.87</td>\n",
              "      <td>0.83</td>\n",
              "      <td>0.93</td>\n",
              "      <td>0.84</td>\n",
              "    </tr>\n",
              "    <tr>\n",
              "      <th>7</th>\n",
              "      <td>0.35</td>\n",
              "      <td>0.79</td>\n",
              "      <td>0.87</td>\n",
              "      <td>0.83</td>\n",
              "      <td>0.93</td>\n",
              "      <td>0.84</td>\n",
              "    </tr>\n",
              "    <tr>\n",
              "      <th>8</th>\n",
              "      <td>0.40</td>\n",
              "      <td>0.79</td>\n",
              "      <td>0.87</td>\n",
              "      <td>0.83</td>\n",
              "      <td>0.93</td>\n",
              "      <td>0.84</td>\n",
              "    </tr>\n",
              "    <tr>\n",
              "      <th>9</th>\n",
              "      <td>0.45</td>\n",
              "      <td>0.80</td>\n",
              "      <td>0.85</td>\n",
              "      <td>0.83</td>\n",
              "      <td>0.93</td>\n",
              "      <td>0.84</td>\n",
              "    </tr>\n",
              "    <tr>\n",
              "      <th>10</th>\n",
              "      <td>0.50</td>\n",
              "      <td>0.80</td>\n",
              "      <td>0.84</td>\n",
              "      <td>0.82</td>\n",
              "      <td>0.93</td>\n",
              "      <td>0.83</td>\n",
              "    </tr>\n",
              "    <tr>\n",
              "      <th>11</th>\n",
              "      <td>0.55</td>\n",
              "      <td>0.79</td>\n",
              "      <td>0.82</td>\n",
              "      <td>0.81</td>\n",
              "      <td>0.93</td>\n",
              "      <td>0.83</td>\n",
              "    </tr>\n",
              "    <tr>\n",
              "      <th>12</th>\n",
              "      <td>0.60</td>\n",
              "      <td>0.79</td>\n",
              "      <td>0.80</td>\n",
              "      <td>0.80</td>\n",
              "      <td>0.93</td>\n",
              "      <td>0.82</td>\n",
              "    </tr>\n",
              "    <tr>\n",
              "      <th>13</th>\n",
              "      <td>0.65</td>\n",
              "      <td>0.79</td>\n",
              "      <td>0.80</td>\n",
              "      <td>0.80</td>\n",
              "      <td>0.93</td>\n",
              "      <td>0.82</td>\n",
              "    </tr>\n",
              "    <tr>\n",
              "      <th>14</th>\n",
              "      <td>0.70</td>\n",
              "      <td>0.79</td>\n",
              "      <td>0.80</td>\n",
              "      <td>0.80</td>\n",
              "      <td>0.93</td>\n",
              "      <td>0.82</td>\n",
              "    </tr>\n",
              "    <tr>\n",
              "      <th>15</th>\n",
              "      <td>0.75</td>\n",
              "      <td>0.79</td>\n",
              "      <td>0.79</td>\n",
              "      <td>0.79</td>\n",
              "      <td>0.93</td>\n",
              "      <td>0.81</td>\n",
              "    </tr>\n",
              "    <tr>\n",
              "      <th>16</th>\n",
              "      <td>0.80</td>\n",
              "      <td>0.78</td>\n",
              "      <td>0.77</td>\n",
              "      <td>0.78</td>\n",
              "      <td>0.93</td>\n",
              "      <td>0.80</td>\n",
              "    </tr>\n",
              "    <tr>\n",
              "      <th>17</th>\n",
              "      <td>0.85</td>\n",
              "      <td>0.78</td>\n",
              "      <td>0.75</td>\n",
              "      <td>0.77</td>\n",
              "      <td>0.93</td>\n",
              "      <td>0.80</td>\n",
              "    </tr>\n",
              "    <tr>\n",
              "      <th>18</th>\n",
              "      <td>0.90</td>\n",
              "      <td>0.81</td>\n",
              "      <td>0.72</td>\n",
              "      <td>0.77</td>\n",
              "      <td>0.93</td>\n",
              "      <td>0.80</td>\n",
              "    </tr>\n",
              "    <tr>\n",
              "      <th>19</th>\n",
              "      <td>0.95</td>\n",
              "      <td>0.86</td>\n",
              "      <td>0.70</td>\n",
              "      <td>0.77</td>\n",
              "      <td>0.93</td>\n",
              "      <td>0.82</td>\n",
              "    </tr>\n",
              "    <tr>\n",
              "      <th>20</th>\n",
              "      <td>1.00</td>\n",
              "      <td>0.00</td>\n",
              "      <td>0.00</td>\n",
              "      <td>0.00</td>\n",
              "      <td>0.93</td>\n",
              "      <td>0.56</td>\n",
              "    </tr>\n",
              "  </tbody>\n",
              "</table>\n",
              "</div>\n",
              "    <div class=\"colab-df-buttons\">\n",
              "\n",
              "  <div class=\"colab-df-container\">\n",
              "    <button class=\"colab-df-convert\" onclick=\"convertToInteractive('df-c179793c-526a-4b18-9a62-3debd4464f30')\"\n",
              "            title=\"Convert this dataframe to an interactive table.\"\n",
              "            style=\"display:none;\">\n",
              "\n",
              "  <svg xmlns=\"http://www.w3.org/2000/svg\" height=\"24px\" viewBox=\"0 -960 960 960\">\n",
              "    <path d=\"M120-120v-720h720v720H120Zm60-500h600v-160H180v160Zm220 220h160v-160H400v160Zm0 220h160v-160H400v160ZM180-400h160v-160H180v160Zm440 0h160v-160H620v160ZM180-180h160v-160H180v160Zm440 0h160v-160H620v160Z\"/>\n",
              "  </svg>\n",
              "    </button>\n",
              "\n",
              "  <style>\n",
              "    .colab-df-container {\n",
              "      display:flex;\n",
              "      gap: 12px;\n",
              "    }\n",
              "\n",
              "    .colab-df-convert {\n",
              "      background-color: #E8F0FE;\n",
              "      border: none;\n",
              "      border-radius: 50%;\n",
              "      cursor: pointer;\n",
              "      display: none;\n",
              "      fill: #1967D2;\n",
              "      height: 32px;\n",
              "      padding: 0 0 0 0;\n",
              "      width: 32px;\n",
              "    }\n",
              "\n",
              "    .colab-df-convert:hover {\n",
              "      background-color: #E2EBFA;\n",
              "      box-shadow: 0px 1px 2px rgba(60, 64, 67, 0.3), 0px 1px 3px 1px rgba(60, 64, 67, 0.15);\n",
              "      fill: #174EA6;\n",
              "    }\n",
              "\n",
              "    .colab-df-buttons div {\n",
              "      margin-bottom: 4px;\n",
              "    }\n",
              "\n",
              "    [theme=dark] .colab-df-convert {\n",
              "      background-color: #3B4455;\n",
              "      fill: #D2E3FC;\n",
              "    }\n",
              "\n",
              "    [theme=dark] .colab-df-convert:hover {\n",
              "      background-color: #434B5C;\n",
              "      box-shadow: 0px 1px 3px 1px rgba(0, 0, 0, 0.15);\n",
              "      filter: drop-shadow(0px 1px 2px rgba(0, 0, 0, 0.3));\n",
              "      fill: #FFFFFF;\n",
              "    }\n",
              "  </style>\n",
              "\n",
              "    <script>\n",
              "      const buttonEl =\n",
              "        document.querySelector('#df-c179793c-526a-4b18-9a62-3debd4464f30 button.colab-df-convert');\n",
              "      buttonEl.style.display =\n",
              "        google.colab.kernel.accessAllowed ? 'block' : 'none';\n",
              "\n",
              "      async function convertToInteractive(key) {\n",
              "        const element = document.querySelector('#df-c179793c-526a-4b18-9a62-3debd4464f30');\n",
              "        const dataTable =\n",
              "          await google.colab.kernel.invokeFunction('convertToInteractive',\n",
              "                                                    [key], {});\n",
              "        if (!dataTable) return;\n",
              "\n",
              "        const docLinkHtml = 'Like what you see? Visit the ' +\n",
              "          '<a target=\"_blank\" href=https://colab.research.google.com/notebooks/data_table.ipynb>data table notebook</a>'\n",
              "          + ' to learn more about interactive tables.';\n",
              "        element.innerHTML = '';\n",
              "        dataTable['output_type'] = 'display_data';\n",
              "        await google.colab.output.renderOutput(dataTable, element);\n",
              "        const docLink = document.createElement('div');\n",
              "        docLink.innerHTML = docLinkHtml;\n",
              "        element.appendChild(docLink);\n",
              "      }\n",
              "    </script>\n",
              "  </div>\n",
              "\n",
              "\n",
              "    <div id=\"df-717770a1-eaaf-4973-b85d-abf08a62b821\">\n",
              "      <button class=\"colab-df-quickchart\" onclick=\"quickchart('df-717770a1-eaaf-4973-b85d-abf08a62b821')\"\n",
              "                title=\"Suggest charts\"\n",
              "                style=\"display:none;\">\n",
              "\n",
              "<svg xmlns=\"http://www.w3.org/2000/svg\" height=\"24px\"viewBox=\"0 0 24 24\"\n",
              "     width=\"24px\">\n",
              "    <g>\n",
              "        <path d=\"M19 3H5c-1.1 0-2 .9-2 2v14c0 1.1.9 2 2 2h14c1.1 0 2-.9 2-2V5c0-1.1-.9-2-2-2zM9 17H7v-7h2v7zm4 0h-2V7h2v10zm4 0h-2v-4h2v4z\"/>\n",
              "    </g>\n",
              "</svg>\n",
              "      </button>\n",
              "\n",
              "<style>\n",
              "  .colab-df-quickchart {\n",
              "      --bg-color: #E8F0FE;\n",
              "      --fill-color: #1967D2;\n",
              "      --hover-bg-color: #E2EBFA;\n",
              "      --hover-fill-color: #174EA6;\n",
              "      --disabled-fill-color: #AAA;\n",
              "      --disabled-bg-color: #DDD;\n",
              "  }\n",
              "\n",
              "  [theme=dark] .colab-df-quickchart {\n",
              "      --bg-color: #3B4455;\n",
              "      --fill-color: #D2E3FC;\n",
              "      --hover-bg-color: #434B5C;\n",
              "      --hover-fill-color: #FFFFFF;\n",
              "      --disabled-bg-color: #3B4455;\n",
              "      --disabled-fill-color: #666;\n",
              "  }\n",
              "\n",
              "  .colab-df-quickchart {\n",
              "    background-color: var(--bg-color);\n",
              "    border: none;\n",
              "    border-radius: 50%;\n",
              "    cursor: pointer;\n",
              "    display: none;\n",
              "    fill: var(--fill-color);\n",
              "    height: 32px;\n",
              "    padding: 0;\n",
              "    width: 32px;\n",
              "  }\n",
              "\n",
              "  .colab-df-quickchart:hover {\n",
              "    background-color: var(--hover-bg-color);\n",
              "    box-shadow: 0 1px 2px rgba(60, 64, 67, 0.3), 0 1px 3px 1px rgba(60, 64, 67, 0.15);\n",
              "    fill: var(--button-hover-fill-color);\n",
              "  }\n",
              "\n",
              "  .colab-df-quickchart-complete:disabled,\n",
              "  .colab-df-quickchart-complete:disabled:hover {\n",
              "    background-color: var(--disabled-bg-color);\n",
              "    fill: var(--disabled-fill-color);\n",
              "    box-shadow: none;\n",
              "  }\n",
              "\n",
              "  .colab-df-spinner {\n",
              "    border: 2px solid var(--fill-color);\n",
              "    border-color: transparent;\n",
              "    border-bottom-color: var(--fill-color);\n",
              "    animation:\n",
              "      spin 1s steps(1) infinite;\n",
              "  }\n",
              "\n",
              "  @keyframes spin {\n",
              "    0% {\n",
              "      border-color: transparent;\n",
              "      border-bottom-color: var(--fill-color);\n",
              "      border-left-color: var(--fill-color);\n",
              "    }\n",
              "    20% {\n",
              "      border-color: transparent;\n",
              "      border-left-color: var(--fill-color);\n",
              "      border-top-color: var(--fill-color);\n",
              "    }\n",
              "    30% {\n",
              "      border-color: transparent;\n",
              "      border-left-color: var(--fill-color);\n",
              "      border-top-color: var(--fill-color);\n",
              "      border-right-color: var(--fill-color);\n",
              "    }\n",
              "    40% {\n",
              "      border-color: transparent;\n",
              "      border-right-color: var(--fill-color);\n",
              "      border-top-color: var(--fill-color);\n",
              "    }\n",
              "    60% {\n",
              "      border-color: transparent;\n",
              "      border-right-color: var(--fill-color);\n",
              "    }\n",
              "    80% {\n",
              "      border-color: transparent;\n",
              "      border-right-color: var(--fill-color);\n",
              "      border-bottom-color: var(--fill-color);\n",
              "    }\n",
              "    90% {\n",
              "      border-color: transparent;\n",
              "      border-bottom-color: var(--fill-color);\n",
              "    }\n",
              "  }\n",
              "</style>\n",
              "\n",
              "      <script>\n",
              "        async function quickchart(key) {\n",
              "          const quickchartButtonEl =\n",
              "            document.querySelector('#' + key + ' button');\n",
              "          quickchartButtonEl.disabled = true;  // To prevent multiple clicks.\n",
              "          quickchartButtonEl.classList.add('colab-df-spinner');\n",
              "          try {\n",
              "            const charts = await google.colab.kernel.invokeFunction(\n",
              "                'suggestCharts', [key], {});\n",
              "          } catch (error) {\n",
              "            console.error('Error during call to suggestCharts:', error);\n",
              "          }\n",
              "          quickchartButtonEl.classList.remove('colab-df-spinner');\n",
              "          quickchartButtonEl.classList.add('colab-df-quickchart-complete');\n",
              "        }\n",
              "        (() => {\n",
              "          let quickchartButtonEl =\n",
              "            document.querySelector('#df-717770a1-eaaf-4973-b85d-abf08a62b821 button');\n",
              "          quickchartButtonEl.style.display =\n",
              "            google.colab.kernel.accessAllowed ? 'block' : 'none';\n",
              "        })();\n",
              "      </script>\n",
              "    </div>\n",
              "\n",
              "  <div id=\"id_dac72ab4-5754-4584-8156-a80e528a12a0\">\n",
              "    <style>\n",
              "      .colab-df-generate {\n",
              "        background-color: #E8F0FE;\n",
              "        border: none;\n",
              "        border-radius: 50%;\n",
              "        cursor: pointer;\n",
              "        display: none;\n",
              "        fill: #1967D2;\n",
              "        height: 32px;\n",
              "        padding: 0 0 0 0;\n",
              "        width: 32px;\n",
              "      }\n",
              "\n",
              "      .colab-df-generate:hover {\n",
              "        background-color: #E2EBFA;\n",
              "        box-shadow: 0px 1px 2px rgba(60, 64, 67, 0.3), 0px 1px 3px 1px rgba(60, 64, 67, 0.15);\n",
              "        fill: #174EA6;\n",
              "      }\n",
              "\n",
              "      [theme=dark] .colab-df-generate {\n",
              "        background-color: #3B4455;\n",
              "        fill: #D2E3FC;\n",
              "      }\n",
              "\n",
              "      [theme=dark] .colab-df-generate:hover {\n",
              "        background-color: #434B5C;\n",
              "        box-shadow: 0px 1px 3px 1px rgba(0, 0, 0, 0.15);\n",
              "        filter: drop-shadow(0px 1px 2px rgba(0, 0, 0, 0.3));\n",
              "        fill: #FFFFFF;\n",
              "      }\n",
              "    </style>\n",
              "    <button class=\"colab-df-generate\" onclick=\"generateWithVariable('result_df')\"\n",
              "            title=\"Generate code using this dataframe.\"\n",
              "            style=\"display:none;\">\n",
              "\n",
              "  <svg xmlns=\"http://www.w3.org/2000/svg\" height=\"24px\"viewBox=\"0 0 24 24\"\n",
              "       width=\"24px\">\n",
              "    <path d=\"M7,19H8.4L18.45,9,17,7.55,7,17.6ZM5,21V16.75L18.45,3.32a2,2,0,0,1,2.83,0l1.4,1.43a1.91,1.91,0,0,1,.58,1.4,1.91,1.91,0,0,1-.58,1.4L9.25,21ZM18.45,9,17,7.55Zm-12,3A5.31,5.31,0,0,0,4.9,8.1,5.31,5.31,0,0,0,1,6.5,5.31,5.31,0,0,0,4.9,4.9,5.31,5.31,0,0,0,6.5,1,5.31,5.31,0,0,0,8.1,4.9,5.31,5.31,0,0,0,12,6.5,5.46,5.46,0,0,0,6.5,12Z\"/>\n",
              "  </svg>\n",
              "    </button>\n",
              "    <script>\n",
              "      (() => {\n",
              "      const buttonEl =\n",
              "        document.querySelector('#id_dac72ab4-5754-4584-8156-a80e528a12a0 button.colab-df-generate');\n",
              "      buttonEl.style.display =\n",
              "        google.colab.kernel.accessAllowed ? 'block' : 'none';\n",
              "\n",
              "      buttonEl.onclick = () => {\n",
              "        google.colab.notebook.generateWithVariable('result_df');\n",
              "      }\n",
              "      })();\n",
              "    </script>\n",
              "  </div>\n",
              "\n",
              "    </div>\n",
              "  </div>\n"
            ],
            "application/vnd.google.colaboratory.intrinsic+json": {
              "type": "dataframe",
              "variable_name": "result_df",
              "summary": "{\n  \"name\": \"result_df\",\n  \"rows\": 21,\n  \"fields\": [\n    {\n      \"column\": \"threshold\",\n      \"properties\": {\n        \"dtype\": \"number\",\n        \"std\": 0.3102418411497714,\n        \"min\": 0.0,\n        \"max\": 1.0,\n        \"num_unique_values\": 21,\n        \"samples\": [\n          0.0,\n          0.85,\n          0.75\n        ],\n        \"semantic_type\": \"\",\n        \"description\": \"\"\n      }\n    },\n    {\n      \"column\": \"precision\",\n      \"properties\": {\n        \"dtype\": \"number\",\n        \"std\": 0.18631514520653797,\n        \"min\": 0.0,\n        \"max\": 0.86,\n        \"num_unique_values\": 9,\n        \"samples\": [\n          0.86,\n          0.77,\n          0.78\n        ],\n        \"semantic_type\": \"\",\n        \"description\": \"\"\n      }\n    },\n    {\n      \"column\": \"recall\",\n      \"properties\": {\n        \"dtype\": \"number\",\n        \"std\": 0.19694935292873553,\n        \"min\": 0.0,\n        \"max\": 1.0,\n        \"num_unique_values\": 15,\n        \"samples\": [\n          0.79,\n          0.75,\n          1.0\n        ],\n        \"semantic_type\": \"\",\n        \"description\": \"\"\n      }\n    },\n    {\n      \"column\": \"f1\",\n      \"properties\": {\n        \"dtype\": \"number\",\n        \"std\": 0.181711440528789,\n        \"min\": 0.0,\n        \"max\": 0.86,\n        \"num_unique_values\": 10,\n        \"samples\": [\n          0.77,\n          0.86,\n          0.8\n        ],\n        \"semantic_type\": \"\",\n        \"description\": \"\"\n      }\n    },\n    {\n      \"column\": \"auc\",\n      \"properties\": {\n        \"dtype\": \"number\",\n        \"std\": 1.137640067256873e-16,\n        \"min\": 0.93,\n        \"max\": 0.93,\n        \"num_unique_values\": 1,\n        \"samples\": [\n          0.93\n        ],\n        \"semantic_type\": \"\",\n        \"description\": \"\"\n      }\n    },\n    {\n      \"column\": \"accuracy\",\n      \"properties\": {\n        \"dtype\": \"number\",\n        \"std\": 0.10131986125984523,\n        \"min\": 0.44,\n        \"max\": 0.86,\n        \"num_unique_values\": 8,\n        \"samples\": [\n          0.86\n        ],\n        \"semantic_type\": \"\",\n        \"description\": \"\"\n      }\n    }\n  ]\n}"
            }
          },
          "metadata": {},
          "execution_count": 78
        }
      ]
    },
    {
      "cell_type": "code",
      "source": [
        "result_df.to_csv('s25_final_lgb_thresholds.csv', index=False)\n",
        "dump(lgb_best_model, 's25_final_lgb_model.joblib')"
      ],
      "metadata": {
        "colab": {
          "base_uri": "https://localhost:8080/"
        },
        "id": "8lXqAVrI74es",
        "outputId": "895bd958-3055-4afe-d7eb-60e2852bd31a"
      },
      "execution_count": 80,
      "outputs": [
        {
          "output_type": "execute_result",
          "data": {
            "text/plain": [
              "['s25_final_lgb_model.joblib']"
            ]
          },
          "metadata": {},
          "execution_count": 80
        }
      ]
    },
    {
      "cell_type": "markdown",
      "metadata": {
        "id": "eZFyuP1TjHih"
      },
      "source": [
        "# VIII. ANN tuning\n",
        "\n"
      ]
    },
    {
      "cell_type": "code",
      "execution_count": 81,
      "metadata": {
        "id": "qo-LXsWhV-YN",
        "colab": {
          "base_uri": "https://localhost:8080/"
        },
        "outputId": "fe3eaa71-819a-4568-85a2-be6958020f72"
      },
      "outputs": [
        {
          "output_type": "stream",
          "name": "stdout",
          "text": [
            "\u001b[?25l   \u001b[90m━━━━━━━━━━━━━━━━━━━━━━━━━━━━━━━━━━━━━━━━\u001b[0m \u001b[32m0.0/129.1 kB\u001b[0m \u001b[31m?\u001b[0m eta \u001b[36m-:--:--\u001b[0m\r\u001b[2K   \u001b[91m━━━━━━━━━━━━━━━━━━━━━━━━━\u001b[0m\u001b[90m╺\u001b[0m\u001b[90m━━━━━━━━━━━━━━\u001b[0m \u001b[32m81.9/129.1 kB\u001b[0m \u001b[31m2.8 MB/s\u001b[0m eta \u001b[36m0:00:01\u001b[0m\r\u001b[2K   \u001b[90m━━━━━━━━━━━━━━━━━━━━━━━━━━━━━━━━━━━━━━━━\u001b[0m \u001b[32m129.1/129.1 kB\u001b[0m \u001b[31m2.2 MB/s\u001b[0m eta \u001b[36m0:00:00\u001b[0m\n",
            "\u001b[?25h"
          ]
        }
      ],
      "source": [
        "!pip install keras-tuner -q\n",
        "import keras_tuner"
      ]
    },
    {
      "cell_type": "code",
      "execution_count": 82,
      "metadata": {
        "id": "FpnZFnTOv2Mx"
      },
      "outputs": [],
      "source": [
        "from tensorflow.keras import Sequential\n",
        "from tensorflow.keras.layers import Dense, Activation, Dropout, Input\n",
        "import tensorflow as tf\n",
        "from tensorflow import keras"
      ]
    },
    {
      "cell_type": "code",
      "execution_count": 83,
      "metadata": {
        "id": "9UH8coL34r2q"
      },
      "outputs": [],
      "source": [
        "tf.keras.utils.set_random_seed(1234)  #need this for replication\n",
        "tf.config.experimental.enable_op_determinism()  #ditto - https://www.tensorflow.org/api_docs/python/tf/config/experimental/enable_op_determinism\n",
        "tf.config.threading.set_inter_op_parallelism_threads(1)\n",
        "tf.config.threading.set_intra_op_parallelism_threads(1)"
      ]
    },
    {
      "cell_type": "code",
      "execution_count": 84,
      "metadata": {
        "id": "_7GwTsJOTrQq"
      },
      "outputs": [],
      "source": [
        "import hashlib\n",
        "\n",
        "def string_to_seed(string):\n",
        "    # Create a hash of the string using SHA-256\n",
        "    hash_object = hashlib.sha256(string.encode())\n",
        "    # Convert first 8 bytes of hash to integer\n",
        "    hash_int = int.from_bytes(hash_object.digest()[:8], 'big')\n",
        "    return hash_int % (2**32 - 1)"
      ]
    },
    {
      "cell_type": "code",
      "execution_count": 85,
      "metadata": {
        "id": "Rw8Xrev5vehN"
      },
      "outputs": [],
      "source": [
        "early_stop_cb = tf.keras.callbacks.EarlyStopping(\n",
        "    monitor='loss',\n",
        "    min_delta=0,\n",
        "    patience=10,\n",
        "    verbose=0\n",
        ")"
      ]
    },
    {
      "cell_type": "markdown",
      "metadata": {
        "id": "wE4_DJ-4Ab71"
      },
      "source": [
        "### Follow the steps"
      ]
    },
    {
      "cell_type": "code",
      "execution_count": 86,
      "metadata": {
        "id": "J2k5AoJnAb72"
      },
      "outputs": [],
      "source": [
        "class MyHyperModel(keras_tuner.HyperModel):\n",
        "    def __init__(self, n=len(feature_names), metrics='auc',\n",
        "                  layers=(1,5,1),   # min, max, step\n",
        "                  units=(4,16,1),    # min, max, step\n",
        "                  afn_list=('relu', 'leaky_relu')):\n",
        "        self.n = n # number of features\n",
        "        self.metrics = metrics\n",
        "        self.units = units\n",
        "        self.layers = layers\n",
        "        self.afn_list = afn_list\n",
        "\n",
        "    def build(self, hp):\n",
        "        n = self.n\n",
        "        metrics = self.metrics\n",
        "        min_units = self.units[0]\n",
        "        max_units = self.units[1]\n",
        "        step_units = self.units[2]\n",
        "        min_layers = self.layers[0]\n",
        "        max_layers = self.layers[1]\n",
        "        step_layers = self.layers[2]\n",
        "        n_afns = len(self.afn_list)\n",
        "\n",
        "        ann_model = Sequential()\n",
        "\n",
        "        # Input layer\n",
        "        ann_model.add(Input(shape=(n,), name=\"input_layer\"))\n",
        "\n",
        "        # Hidden layers\n",
        "        layers = hp.Int(\"layers\", min_value=min_layers, max_value=max_layers, step=step_layers)\n",
        "        for i in range(layers):\n",
        "            layer_name = f\"hidden_layer_{i}\"\n",
        "            ann_model.add(Dense(\n",
        "                      name=layer_name+'_dense',\n",
        "                      kernel_regularizer=tf.keras.regularizers.l2(0.01),\n",
        "                      kernel_initializer=tf.keras.initializers.HeNormal(seed=string_to_seed(layer_name+'_dense')),\n",
        "                      units=hp.Int(f\"hidden_units{i}\", min_value=min_units, max_value=max_units, step=step_units),\n",
        "                      activation=self.afn_list[hp.Int(f'afn{i}', min_value=0, max_value=n_afns-1, step=1)]\n",
        "            ))\n",
        "\n",
        "        # Output layer\n",
        "        ann_model.add(Dense(units=1, activation='sigmoid'))\n",
        "\n",
        "        ann_model.compile(loss=tf.keras.losses.BinaryCrossentropy(label_smoothing=.1),\n",
        "                      optimizer=tf.keras.optimizers.Adam(learning_rate=.001),\n",
        "                      metrics=['auc', 'accuracy'])\n",
        "        return ann_model\n"
      ]
    },
    {
      "cell_type": "code",
      "source": [
        "val_size = 250\n",
        "x_train_tune = x_train[:-val_size]\n",
        "x_train_val = x_train[-val_size:]\n",
        "y_train_tune = y_train[:-val_size]\n",
        "y_train_val = y_train[-val_size:]\n",
        "max_trials = 40"
      ],
      "metadata": {
        "id": "Dn2rOTwD9ipT"
      },
      "execution_count": 87,
      "outputs": []
    },
    {
      "cell_type": "code",
      "source": [
        "hyper_tuner = keras_tuner.RandomSearch(\n",
        "    hypermodel=MyHyperModel(),\n",
        "    objective=keras_tuner.Objective('val_auc', 'max'),\n",
        "    max_trials=max_trials,\n",
        "    executions_per_trial=1,\n",
        "    overwrite=True,\n",
        "    seed=1234,\n",
        ")"
      ],
      "metadata": {
        "id": "vQN9c8Ce9ktz"
      },
      "execution_count": 88,
      "outputs": []
    },
    {
      "cell_type": "code",
      "source": [
        "import datetime\n",
        "start = datetime.datetime.now()\n",
        "\n",
        "callbacks = [\n",
        "    tf.keras.callbacks.EarlyStopping(\n",
        "        monitor='val_auc',\n",
        "        mode='max',\n",
        "        patience=5,\n",
        "        restore_best_weights=True)\n",
        "]\n",
        "\n",
        "hyper_tuner.search(x_train_tune, y_train_tune,\n",
        "                  epochs=100, batch_size=32,\n",
        "                  validation_data=(x_train_val, y_train_val),\n",
        "                  callbacks=callbacks)\n",
        "\n",
        "tf.keras.backend.clear_session()  # Clear unused models\n",
        "\n",
        "end = datetime.datetime.now()\n",
        "time_difference = end - start\n",
        "difference_in_minutes = time_difference.total_seconds() / 60\n",
        "print(f\"Tuning took {difference_in_minutes:.1f} minutes\")\n"
      ],
      "metadata": {
        "colab": {
          "base_uri": "https://localhost:8080/"
        },
        "id": "WGrQwhPb9nTj",
        "outputId": "50b6928e-1924-4545-8b7d-29a9ea565360"
      },
      "execution_count": 89,
      "outputs": [
        {
          "output_type": "stream",
          "name": "stdout",
          "text": [
            "Trial 40 Complete [00h 00m 06s]\n",
            "val_auc: 0.0\n",
            "\n",
            "Best val_auc So Far: 0.0\n",
            "Total elapsed time: 00h 04m 31s\n",
            "Tuning took 4.5 minutes\n"
          ]
        }
      ]
    },
    {
      "cell_type": "code",
      "source": [
        "best_hp = hyper_tuner.get_best_hyperparameters()[0]\n",
        "print(best_hp.values)"
      ],
      "metadata": {
        "colab": {
          "base_uri": "https://localhost:8080/"
        },
        "id": "Gj18zA-z9sOr",
        "outputId": "2d904c97-5db5-4611-d65f-2bc7a2f36a80"
      },
      "execution_count": 90,
      "outputs": [
        {
          "output_type": "stream",
          "name": "stdout",
          "text": [
            "{'layers': 5, 'hidden_units0': 15, 'afn0': 1, 'hidden_units1': 4, 'afn1': 0, 'hidden_units2': 4, 'afn2': 0, 'hidden_units3': 4, 'afn3': 0, 'hidden_units4': 4, 'afn4': 0}\n"
          ]
        }
      ]
    },
    {
      "cell_type": "code",
      "source": [
        "hypermodel = MyHyperModel()\n",
        "final_ann_model = hypermodel.build(best_hp)\n",
        "training = final_ann_model.fit(x_train, y_train,\n",
        "                            epochs=100,\n",
        "                            validation_data=(x_train_val, y_train_val),\n",
        "                            callbacks=[early_stop_cb])"
      ],
      "metadata": {
        "colab": {
          "base_uri": "https://localhost:8080/"
        },
        "id": "BPYMy2jb9uQs",
        "outputId": "f3bccb09-d1d1-44bb-ca7a-d35b9707f960"
      },
      "execution_count": 91,
      "outputs": [
        {
          "output_type": "stream",
          "name": "stdout",
          "text": [
            "Epoch 1/100\n",
            "\u001b[1m63/63\u001b[0m \u001b[32m━━━━━━━━━━━━━━━━━━━━\u001b[0m\u001b[37m\u001b[0m \u001b[1m4s\u001b[0m 11ms/step - accuracy: 0.5348 - auc: 0.5653 - loss: 1.2934 - val_accuracy: 0.0840 - val_auc: 0.0000e+00 - val_loss: 1.2212\n",
            "Epoch 2/100\n",
            "\u001b[1m63/63\u001b[0m \u001b[32m━━━━━━━━━━━━━━━━━━━━\u001b[0m\u001b[37m\u001b[0m \u001b[1m0s\u001b[0m 4ms/step - accuracy: 0.5714 - auc: 0.6036 - loss: 1.1863 - val_accuracy: 0.0040 - val_auc: 0.0000e+00 - val_loss: 1.1413\n",
            "Epoch 3/100\n",
            "\u001b[1m63/63\u001b[0m \u001b[32m━━━━━━━━━━━━━━━━━━━━\u001b[0m\u001b[37m\u001b[0m \u001b[1m1s\u001b[0m 5ms/step - accuracy: 0.5500 - auc: 0.6865 - loss: 1.0991 - val_accuracy: 0.0000e+00 - val_auc: 0.0000e+00 - val_loss: 1.0753\n",
            "Epoch 4/100\n",
            "\u001b[1m63/63\u001b[0m \u001b[32m━━━━━━━━━━━━━━━━━━━━\u001b[0m\u001b[37m\u001b[0m \u001b[1m1s\u001b[0m 4ms/step - accuracy: 0.5475 - auc: 0.7555 - loss: 1.0275 - val_accuracy: 0.0000e+00 - val_auc: 0.0000e+00 - val_loss: 1.0195\n",
            "Epoch 5/100\n",
            "\u001b[1m63/63\u001b[0m \u001b[32m━━━━━━━━━━━━━━━━━━━━\u001b[0m\u001b[37m\u001b[0m \u001b[1m1s\u001b[0m 5ms/step - accuracy: 0.5565 - auc: 0.8093 - loss: 0.9679 - val_accuracy: 0.1640 - val_auc: 0.0000e+00 - val_loss: 0.9645\n",
            "Epoch 6/100\n",
            "\u001b[1m63/63\u001b[0m \u001b[32m━━━━━━━━━━━━━━━━━━━━\u001b[0m\u001b[37m\u001b[0m \u001b[1m1s\u001b[0m 5ms/step - accuracy: 0.6714 - auc: 0.8516 - loss: 0.9139 - val_accuracy: 0.7720 - val_auc: 0.0000e+00 - val_loss: 0.8302\n",
            "Epoch 7/100\n",
            "\u001b[1m63/63\u001b[0m \u001b[32m━━━━━━━━━━━━━━━━━━━━\u001b[0m\u001b[37m\u001b[0m \u001b[1m1s\u001b[0m 5ms/step - accuracy: 0.7801 - auc: 0.8751 - loss: 0.8334 - val_accuracy: 0.8240 - val_auc: 0.0000e+00 - val_loss: 0.6575\n",
            "Epoch 8/100\n",
            "\u001b[1m63/63\u001b[0m \u001b[32m━━━━━━━━━━━━━━━━━━━━\u001b[0m\u001b[37m\u001b[0m \u001b[1m0s\u001b[0m 4ms/step - accuracy: 0.8127 - auc: 0.8884 - loss: 0.7558 - val_accuracy: 0.8120 - val_auc: 0.0000e+00 - val_loss: 0.6111\n",
            "Epoch 9/100\n",
            "\u001b[1m63/63\u001b[0m \u001b[32m━━━━━━━━━━━━━━━━━━━━\u001b[0m\u001b[37m\u001b[0m \u001b[1m0s\u001b[0m 4ms/step - accuracy: 0.8376 - auc: 0.9036 - loss: 0.7092 - val_accuracy: 0.8160 - val_auc: 0.0000e+00 - val_loss: 0.5852\n",
            "Epoch 10/100\n",
            "\u001b[1m63/63\u001b[0m \u001b[32m━━━━━━━━━━━━━━━━━━━━\u001b[0m\u001b[37m\u001b[0m \u001b[1m0s\u001b[0m 4ms/step - accuracy: 0.8510 - auc: 0.9177 - loss: 0.6720 - val_accuracy: 0.8200 - val_auc: 0.0000e+00 - val_loss: 0.5565\n",
            "Epoch 11/100\n",
            "\u001b[1m63/63\u001b[0m \u001b[32m━━━━━━━━━━━━━━━━━━━━\u001b[0m\u001b[37m\u001b[0m \u001b[1m0s\u001b[0m 4ms/step - accuracy: 0.8643 - auc: 0.9227 - loss: 0.6413 - val_accuracy: 0.8320 - val_auc: 0.0000e+00 - val_loss: 0.5384\n",
            "Epoch 12/100\n",
            "\u001b[1m63/63\u001b[0m \u001b[32m━━━━━━━━━━━━━━━━━━━━\u001b[0m\u001b[37m\u001b[0m \u001b[1m0s\u001b[0m 5ms/step - accuracy: 0.8691 - auc: 0.9279 - loss: 0.6162 - val_accuracy: 0.8480 - val_auc: 0.0000e+00 - val_loss: 0.5214\n",
            "Epoch 13/100\n",
            "\u001b[1m63/63\u001b[0m \u001b[32m━━━━━━━━━━━━━━━━━━━━\u001b[0m\u001b[37m\u001b[0m \u001b[1m1s\u001b[0m 4ms/step - accuracy: 0.8712 - auc: 0.9333 - loss: 0.5952 - val_accuracy: 0.8520 - val_auc: 0.0000e+00 - val_loss: 0.5091\n",
            "Epoch 14/100\n",
            "\u001b[1m63/63\u001b[0m \u001b[32m━━━━━━━━━━━━━━━━━━━━\u001b[0m\u001b[37m\u001b[0m \u001b[1m0s\u001b[0m 4ms/step - accuracy: 0.8743 - auc: 0.9342 - loss: 0.5775 - val_accuracy: 0.8520 - val_auc: 0.0000e+00 - val_loss: 0.5007\n",
            "Epoch 15/100\n",
            "\u001b[1m63/63\u001b[0m \u001b[32m━━━━━━━━━━━━━━━━━━━━\u001b[0m\u001b[37m\u001b[0m \u001b[1m0s\u001b[0m 4ms/step - accuracy: 0.8708 - auc: 0.9353 - loss: 0.5624 - val_accuracy: 0.8440 - val_auc: 0.0000e+00 - val_loss: 0.4944\n",
            "Epoch 16/100\n",
            "\u001b[1m63/63\u001b[0m \u001b[32m━━━━━━━━━━━━━━━━━━━━\u001b[0m\u001b[37m\u001b[0m \u001b[1m0s\u001b[0m 4ms/step - accuracy: 0.8748 - auc: 0.9371 - loss: 0.5495 - val_accuracy: 0.8440 - val_auc: 0.0000e+00 - val_loss: 0.4900\n",
            "Epoch 17/100\n",
            "\u001b[1m63/63\u001b[0m \u001b[32m━━━━━━━━━━━━━━━━━━━━\u001b[0m\u001b[37m\u001b[0m \u001b[1m0s\u001b[0m 4ms/step - accuracy: 0.8750 - auc: 0.9363 - loss: 0.5384 - val_accuracy: 0.8440 - val_auc: 0.0000e+00 - val_loss: 0.4866\n",
            "Epoch 18/100\n",
            "\u001b[1m63/63\u001b[0m \u001b[32m━━━━━━━━━━━━━━━━━━━━\u001b[0m\u001b[37m\u001b[0m \u001b[1m0s\u001b[0m 4ms/step - accuracy: 0.8729 - auc: 0.9371 - loss: 0.5288 - val_accuracy: 0.8480 - val_auc: 0.0000e+00 - val_loss: 0.4837\n",
            "Epoch 19/100\n",
            "\u001b[1m63/63\u001b[0m \u001b[32m━━━━━━━━━━━━━━━━━━━━\u001b[0m\u001b[37m\u001b[0m \u001b[1m0s\u001b[0m 5ms/step - accuracy: 0.8716 - auc: 0.9369 - loss: 0.5203 - val_accuracy: 0.8440 - val_auc: 0.0000e+00 - val_loss: 0.4827\n",
            "Epoch 20/100\n",
            "\u001b[1m63/63\u001b[0m \u001b[32m━━━━━━━━━━━━━━━━━━━━\u001b[0m\u001b[37m\u001b[0m \u001b[1m0s\u001b[0m 4ms/step - accuracy: 0.8719 - auc: 0.9385 - loss: 0.5129 - val_accuracy: 0.8440 - val_auc: 0.0000e+00 - val_loss: 0.4823\n",
            "Epoch 21/100\n",
            "\u001b[1m63/63\u001b[0m \u001b[32m━━━━━━━━━━━━━━━━━━━━\u001b[0m\u001b[37m\u001b[0m \u001b[1m0s\u001b[0m 4ms/step - accuracy: 0.8722 - auc: 0.9379 - loss: 0.5065 - val_accuracy: 0.8480 - val_auc: 0.0000e+00 - val_loss: 0.4797\n",
            "Epoch 22/100\n",
            "\u001b[1m63/63\u001b[0m \u001b[32m━━━━━━━━━━━━━━━━━━━━\u001b[0m\u001b[37m\u001b[0m \u001b[1m0s\u001b[0m 5ms/step - accuracy: 0.8702 - auc: 0.9387 - loss: 0.5007 - val_accuracy: 0.8480 - val_auc: 0.0000e+00 - val_loss: 0.4794\n",
            "Epoch 23/100\n",
            "\u001b[1m63/63\u001b[0m \u001b[32m━━━━━━━━━━━━━━━━━━━━\u001b[0m\u001b[37m\u001b[0m \u001b[1m1s\u001b[0m 7ms/step - accuracy: 0.8704 - auc: 0.9379 - loss: 0.4956 - val_accuracy: 0.8480 - val_auc: 0.0000e+00 - val_loss: 0.4794\n",
            "Epoch 24/100\n",
            "\u001b[1m63/63\u001b[0m \u001b[32m━━━━━━━━━━━━━━━━━━━━\u001b[0m\u001b[37m\u001b[0m \u001b[1m1s\u001b[0m 6ms/step - accuracy: 0.8700 - auc: 0.9365 - loss: 0.4911 - val_accuracy: 0.8480 - val_auc: 0.0000e+00 - val_loss: 0.4800\n",
            "Epoch 25/100\n",
            "\u001b[1m63/63\u001b[0m \u001b[32m━━━━━━━━━━━━━━━━━━━━\u001b[0m\u001b[37m\u001b[0m \u001b[1m1s\u001b[0m 8ms/step - accuracy: 0.8709 - auc: 0.9379 - loss: 0.4871 - val_accuracy: 0.8440 - val_auc: 0.0000e+00 - val_loss: 0.4806\n",
            "Epoch 26/100\n",
            "\u001b[1m63/63\u001b[0m \u001b[32m━━━━━━━━━━━━━━━━━━━━\u001b[0m\u001b[37m\u001b[0m \u001b[1m1s\u001b[0m 6ms/step - accuracy: 0.8717 - auc: 0.9380 - loss: 0.4835 - val_accuracy: 0.8400 - val_auc: 0.0000e+00 - val_loss: 0.4815\n",
            "Epoch 27/100\n",
            "\u001b[1m63/63\u001b[0m \u001b[32m━━━━━━━━━━━━━━━━━━━━\u001b[0m\u001b[37m\u001b[0m \u001b[1m0s\u001b[0m 4ms/step - accuracy: 0.8709 - auc: 0.9372 - loss: 0.4802 - val_accuracy: 0.8400 - val_auc: 0.0000e+00 - val_loss: 0.4821\n",
            "Epoch 28/100\n",
            "\u001b[1m63/63\u001b[0m \u001b[32m━━━━━━━━━━━━━━━━━━━━\u001b[0m\u001b[37m\u001b[0m \u001b[1m0s\u001b[0m 5ms/step - accuracy: 0.8708 - auc: 0.9379 - loss: 0.4773 - val_accuracy: 0.8400 - val_auc: 0.0000e+00 - val_loss: 0.4827\n",
            "Epoch 29/100\n",
            "\u001b[1m63/63\u001b[0m \u001b[32m━━━━━━━━━━━━━━━━━━━━\u001b[0m\u001b[37m\u001b[0m \u001b[1m0s\u001b[0m 5ms/step - accuracy: 0.8707 - auc: 0.9382 - loss: 0.4746 - val_accuracy: 0.8400 - val_auc: 0.0000e+00 - val_loss: 0.4839\n",
            "Epoch 30/100\n",
            "\u001b[1m63/63\u001b[0m \u001b[32m━━━━━━━━━━━━━━━━━━━━\u001b[0m\u001b[37m\u001b[0m \u001b[1m0s\u001b[0m 4ms/step - accuracy: 0.8704 - auc: 0.9380 - loss: 0.4722 - val_accuracy: 0.8440 - val_auc: 0.0000e+00 - val_loss: 0.4846\n",
            "Epoch 31/100\n",
            "\u001b[1m63/63\u001b[0m \u001b[32m━━━━━━━━━━━━━━━━━━━━\u001b[0m\u001b[37m\u001b[0m \u001b[1m0s\u001b[0m 5ms/step - accuracy: 0.8704 - auc: 0.9379 - loss: 0.4701 - val_accuracy: 0.8360 - val_auc: 0.0000e+00 - val_loss: 0.4862\n",
            "Epoch 32/100\n",
            "\u001b[1m63/63\u001b[0m \u001b[32m━━━━━━━━━━━━━━━━━━━━\u001b[0m\u001b[37m\u001b[0m \u001b[1m0s\u001b[0m 5ms/step - accuracy: 0.8709 - auc: 0.9383 - loss: 0.4681 - val_accuracy: 0.8400 - val_auc: 0.0000e+00 - val_loss: 0.4859\n",
            "Epoch 33/100\n",
            "\u001b[1m63/63\u001b[0m \u001b[32m━━━━━━━━━━━━━━━━━━━━\u001b[0m\u001b[37m\u001b[0m \u001b[1m0s\u001b[0m 4ms/step - accuracy: 0.8706 - auc: 0.9383 - loss: 0.4662 - val_accuracy: 0.8400 - val_auc: 0.0000e+00 - val_loss: 0.4868\n",
            "Epoch 34/100\n",
            "\u001b[1m63/63\u001b[0m \u001b[32m━━━━━━━━━━━━━━━━━━━━\u001b[0m\u001b[37m\u001b[0m \u001b[1m0s\u001b[0m 5ms/step - accuracy: 0.8712 - auc: 0.9384 - loss: 0.4645 - val_accuracy: 0.8400 - val_auc: 0.0000e+00 - val_loss: 0.4881\n",
            "Epoch 35/100\n",
            "\u001b[1m63/63\u001b[0m \u001b[32m━━━━━━━━━━━━━━━━━━━━\u001b[0m\u001b[37m\u001b[0m \u001b[1m0s\u001b[0m 4ms/step - accuracy: 0.8708 - auc: 0.9383 - loss: 0.4630 - val_accuracy: 0.8400 - val_auc: 0.0000e+00 - val_loss: 0.4890\n",
            "Epoch 36/100\n",
            "\u001b[1m63/63\u001b[0m \u001b[32m━━━━━━━━━━━━━━━━━━━━\u001b[0m\u001b[37m\u001b[0m \u001b[1m0s\u001b[0m 4ms/step - accuracy: 0.8709 - auc: 0.9374 - loss: 0.4616 - val_accuracy: 0.8440 - val_auc: 0.0000e+00 - val_loss: 0.4893\n",
            "Epoch 37/100\n",
            "\u001b[1m63/63\u001b[0m \u001b[32m━━━━━━━━━━━━━━━━━━━━\u001b[0m\u001b[37m\u001b[0m \u001b[1m1s\u001b[0m 4ms/step - accuracy: 0.8704 - auc: 0.9390 - loss: 0.4602 - val_accuracy: 0.8400 - val_auc: 0.0000e+00 - val_loss: 0.4907\n",
            "Epoch 38/100\n",
            "\u001b[1m63/63\u001b[0m \u001b[32m━━━━━━━━━━━━━━━━━━━━\u001b[0m\u001b[37m\u001b[0m \u001b[1m0s\u001b[0m 5ms/step - accuracy: 0.8704 - auc: 0.9386 - loss: 0.4591 - val_accuracy: 0.8400 - val_auc: 0.0000e+00 - val_loss: 0.4916\n",
            "Epoch 39/100\n",
            "\u001b[1m63/63\u001b[0m \u001b[32m━━━━━━━━━━━━━━━━━━━━\u001b[0m\u001b[37m\u001b[0m \u001b[1m1s\u001b[0m 4ms/step - accuracy: 0.8703 - auc: 0.9384 - loss: 0.4579 - val_accuracy: 0.8400 - val_auc: 0.0000e+00 - val_loss: 0.4923\n",
            "Epoch 40/100\n",
            "\u001b[1m63/63\u001b[0m \u001b[32m━━━━━━━━━━━━━━━━━━━━\u001b[0m\u001b[37m\u001b[0m \u001b[1m0s\u001b[0m 4ms/step - accuracy: 0.8701 - auc: 0.9391 - loss: 0.4569 - val_accuracy: 0.8400 - val_auc: 0.0000e+00 - val_loss: 0.4931\n",
            "Epoch 41/100\n",
            "\u001b[1m63/63\u001b[0m \u001b[32m━━━━━━━━━━━━━━━━━━━━\u001b[0m\u001b[37m\u001b[0m \u001b[1m1s\u001b[0m 4ms/step - accuracy: 0.8703 - auc: 0.9389 - loss: 0.4559 - val_accuracy: 0.8400 - val_auc: 0.0000e+00 - val_loss: 0.4941\n",
            "Epoch 42/100\n",
            "\u001b[1m63/63\u001b[0m \u001b[32m━━━━━━━━━━━━━━━━━━━━\u001b[0m\u001b[37m\u001b[0m \u001b[1m0s\u001b[0m 5ms/step - accuracy: 0.8693 - auc: 0.9388 - loss: 0.4550 - val_accuracy: 0.8400 - val_auc: 0.0000e+00 - val_loss: 0.4949\n",
            "Epoch 43/100\n",
            "\u001b[1m63/63\u001b[0m \u001b[32m━━━━━━━━━━━━━━━━━━━━\u001b[0m\u001b[37m\u001b[0m \u001b[1m1s\u001b[0m 5ms/step - accuracy: 0.8700 - auc: 0.9387 - loss: 0.4542 - val_accuracy: 0.8400 - val_auc: 0.0000e+00 - val_loss: 0.4959\n",
            "Epoch 44/100\n",
            "\u001b[1m63/63\u001b[0m \u001b[32m━━━━━━━━━━━━━━━━━━━━\u001b[0m\u001b[37m\u001b[0m \u001b[1m0s\u001b[0m 4ms/step - accuracy: 0.8701 - auc: 0.9388 - loss: 0.4534 - val_accuracy: 0.8400 - val_auc: 0.0000e+00 - val_loss: 0.4966\n",
            "Epoch 45/100\n",
            "\u001b[1m63/63\u001b[0m \u001b[32m━━━━━━━━━━━━━━━━━━━━\u001b[0m\u001b[37m\u001b[0m \u001b[1m0s\u001b[0m 4ms/step - accuracy: 0.8701 - auc: 0.9387 - loss: 0.4527 - val_accuracy: 0.8400 - val_auc: 0.0000e+00 - val_loss: 0.4977\n",
            "Epoch 46/100\n",
            "\u001b[1m63/63\u001b[0m \u001b[32m━━━━━━━━━━━━━━━━━━━━\u001b[0m\u001b[37m\u001b[0m \u001b[1m0s\u001b[0m 4ms/step - accuracy: 0.8694 - auc: 0.9388 - loss: 0.4520 - val_accuracy: 0.8400 - val_auc: 0.0000e+00 - val_loss: 0.4983\n",
            "Epoch 47/100\n",
            "\u001b[1m63/63\u001b[0m \u001b[32m━━━━━━━━━━━━━━━━━━━━\u001b[0m\u001b[37m\u001b[0m \u001b[1m1s\u001b[0m 5ms/step - accuracy: 0.8705 - auc: 0.9389 - loss: 0.4513 - val_accuracy: 0.8400 - val_auc: 0.0000e+00 - val_loss: 0.4987\n",
            "Epoch 48/100\n",
            "\u001b[1m63/63\u001b[0m \u001b[32m━━━━━━━━━━━━━━━━━━━━\u001b[0m\u001b[37m\u001b[0m \u001b[1m1s\u001b[0m 4ms/step - accuracy: 0.8700 - auc: 0.9394 - loss: 0.4507 - val_accuracy: 0.8440 - val_auc: 0.0000e+00 - val_loss: 0.4982\n",
            "Epoch 49/100\n",
            "\u001b[1m63/63\u001b[0m \u001b[32m━━━━━━━━━━━━━━━━━━━━\u001b[0m\u001b[37m\u001b[0m \u001b[1m0s\u001b[0m 5ms/step - accuracy: 0.8697 - auc: 0.9401 - loss: 0.4500 - val_accuracy: 0.8440 - val_auc: 0.0000e+00 - val_loss: 0.4982\n",
            "Epoch 50/100\n",
            "\u001b[1m63/63\u001b[0m \u001b[32m━━━━━━━━━━━━━━━━━━━━\u001b[0m\u001b[37m\u001b[0m \u001b[1m1s\u001b[0m 4ms/step - accuracy: 0.8695 - auc: 0.9405 - loss: 0.4494 - val_accuracy: 0.8400 - val_auc: 0.0000e+00 - val_loss: 0.4994\n",
            "Epoch 51/100\n",
            "\u001b[1m63/63\u001b[0m \u001b[32m━━━━━━━━━━━━━━━━━━━━\u001b[0m\u001b[37m\u001b[0m \u001b[1m1s\u001b[0m 6ms/step - accuracy: 0.8695 - auc: 0.9406 - loss: 0.4489 - val_accuracy: 0.8400 - val_auc: 0.0000e+00 - val_loss: 0.4999\n",
            "Epoch 52/100\n",
            "\u001b[1m63/63\u001b[0m \u001b[32m━━━━━━━━━━━━━━━━━━━━\u001b[0m\u001b[37m\u001b[0m \u001b[1m1s\u001b[0m 7ms/step - accuracy: 0.8697 - auc: 0.9403 - loss: 0.4484 - val_accuracy: 0.8400 - val_auc: 0.0000e+00 - val_loss: 0.5006\n",
            "Epoch 53/100\n",
            "\u001b[1m63/63\u001b[0m \u001b[32m━━━━━━━━━━━━━━━━━━━━\u001b[0m\u001b[37m\u001b[0m \u001b[1m1s\u001b[0m 7ms/step - accuracy: 0.8697 - auc: 0.9404 - loss: 0.4480 - val_accuracy: 0.8400 - val_auc: 0.0000e+00 - val_loss: 0.5012\n",
            "Epoch 54/100\n",
            "\u001b[1m63/63\u001b[0m \u001b[32m━━━━━━━━━━━━━━━━━━━━\u001b[0m\u001b[37m\u001b[0m \u001b[1m1s\u001b[0m 6ms/step - accuracy: 0.8697 - auc: 0.9405 - loss: 0.4475 - val_accuracy: 0.8400 - val_auc: 0.0000e+00 - val_loss: 0.5017\n",
            "Epoch 55/100\n",
            "\u001b[1m63/63\u001b[0m \u001b[32m━━━━━━━━━━━━━━━━━━━━\u001b[0m\u001b[37m\u001b[0m \u001b[1m0s\u001b[0m 4ms/step - accuracy: 0.8697 - auc: 0.9402 - loss: 0.4471 - val_accuracy: 0.8400 - val_auc: 0.0000e+00 - val_loss: 0.5024\n",
            "Epoch 56/100\n",
            "\u001b[1m63/63\u001b[0m \u001b[32m━━━━━━━━━━━━━━━━━━━━\u001b[0m\u001b[37m\u001b[0m \u001b[1m0s\u001b[0m 4ms/step - accuracy: 0.8698 - auc: 0.9404 - loss: 0.4467 - val_accuracy: 0.8440 - val_auc: 0.0000e+00 - val_loss: 0.5031\n",
            "Epoch 57/100\n",
            "\u001b[1m63/63\u001b[0m \u001b[32m━━━━━━━━━━━━━━━━━━━━\u001b[0m\u001b[37m\u001b[0m \u001b[1m0s\u001b[0m 4ms/step - accuracy: 0.8698 - auc: 0.9406 - loss: 0.4464 - val_accuracy: 0.8440 - val_auc: 0.0000e+00 - val_loss: 0.5034\n",
            "Epoch 58/100\n",
            "\u001b[1m63/63\u001b[0m \u001b[32m━━━━━━━━━━━━━━━━━━━━\u001b[0m\u001b[37m\u001b[0m \u001b[1m0s\u001b[0m 4ms/step - accuracy: 0.8698 - auc: 0.9407 - loss: 0.4460 - val_accuracy: 0.8440 - val_auc: 0.0000e+00 - val_loss: 0.5040\n",
            "Epoch 59/100\n",
            "\u001b[1m63/63\u001b[0m \u001b[32m━━━━━━━━━━━━━━━━━━━━\u001b[0m\u001b[37m\u001b[0m \u001b[1m0s\u001b[0m 5ms/step - accuracy: 0.8709 - auc: 0.9403 - loss: 0.4457 - val_accuracy: 0.8440 - val_auc: 0.0000e+00 - val_loss: 0.5042\n",
            "Epoch 60/100\n",
            "\u001b[1m63/63\u001b[0m \u001b[32m━━━━━━━━━━━━━━━━━━━━\u001b[0m\u001b[37m\u001b[0m \u001b[1m0s\u001b[0m 5ms/step - accuracy: 0.8709 - auc: 0.9404 - loss: 0.4454 - val_accuracy: 0.8440 - val_auc: 0.0000e+00 - val_loss: 0.5046\n",
            "Epoch 61/100\n",
            "\u001b[1m63/63\u001b[0m \u001b[32m━━━━━━━━━━━━━━━━━━━━\u001b[0m\u001b[37m\u001b[0m \u001b[1m0s\u001b[0m 4ms/step - accuracy: 0.8709 - auc: 0.9406 - loss: 0.4451 - val_accuracy: 0.8440 - val_auc: 0.0000e+00 - val_loss: 0.5049\n",
            "Epoch 62/100\n",
            "\u001b[1m63/63\u001b[0m \u001b[32m━━━━━━━━━━━━━━━━━━━━\u001b[0m\u001b[37m\u001b[0m \u001b[1m0s\u001b[0m 4ms/step - accuracy: 0.8709 - auc: 0.9400 - loss: 0.4448 - val_accuracy: 0.8440 - val_auc: 0.0000e+00 - val_loss: 0.5053\n",
            "Epoch 63/100\n",
            "\u001b[1m63/63\u001b[0m \u001b[32m━━━━━━━━━━━━━━━━━━━━\u001b[0m\u001b[37m\u001b[0m \u001b[1m1s\u001b[0m 4ms/step - accuracy: 0.8716 - auc: 0.9402 - loss: 0.4445 - val_accuracy: 0.8440 - val_auc: 0.0000e+00 - val_loss: 0.5057\n",
            "Epoch 64/100\n",
            "\u001b[1m63/63\u001b[0m \u001b[32m━━━━━━━━━━━━━━━━━━━━\u001b[0m\u001b[37m\u001b[0m \u001b[1m1s\u001b[0m 5ms/step - accuracy: 0.8716 - auc: 0.9403 - loss: 0.4442 - val_accuracy: 0.8440 - val_auc: 0.0000e+00 - val_loss: 0.5060\n",
            "Epoch 65/100\n",
            "\u001b[1m63/63\u001b[0m \u001b[32m━━━━━━━━━━━━━━━━━━━━\u001b[0m\u001b[37m\u001b[0m \u001b[1m0s\u001b[0m 4ms/step - accuracy: 0.8716 - auc: 0.9405 - loss: 0.4440 - val_accuracy: 0.8440 - val_auc: 0.0000e+00 - val_loss: 0.5064\n",
            "Epoch 66/100\n",
            "\u001b[1m63/63\u001b[0m \u001b[32m━━━━━━━━━━━━━━━━━━━━\u001b[0m\u001b[37m\u001b[0m \u001b[1m0s\u001b[0m 4ms/step - accuracy: 0.8712 - auc: 0.9405 - loss: 0.4437 - val_accuracy: 0.8440 - val_auc: 0.0000e+00 - val_loss: 0.5069\n",
            "Epoch 67/100\n",
            "\u001b[1m63/63\u001b[0m \u001b[32m━━━━━━━━━━━━━━━━━━━━\u001b[0m\u001b[37m\u001b[0m \u001b[1m1s\u001b[0m 4ms/step - accuracy: 0.8712 - auc: 0.9402 - loss: 0.4435 - val_accuracy: 0.8440 - val_auc: 0.0000e+00 - val_loss: 0.5072\n",
            "Epoch 68/100\n",
            "\u001b[1m63/63\u001b[0m \u001b[32m━━━━━━━━━━━━━━━━━━━━\u001b[0m\u001b[37m\u001b[0m \u001b[1m0s\u001b[0m 4ms/step - accuracy: 0.8712 - auc: 0.9402 - loss: 0.4433 - val_accuracy: 0.8440 - val_auc: 0.0000e+00 - val_loss: 0.5077\n",
            "Epoch 69/100\n",
            "\u001b[1m63/63\u001b[0m \u001b[32m━━━━━━━━━━━━━━━━━━━━\u001b[0m\u001b[37m\u001b[0m \u001b[1m0s\u001b[0m 4ms/step - accuracy: 0.8712 - auc: 0.9403 - loss: 0.4430 - val_accuracy: 0.8440 - val_auc: 0.0000e+00 - val_loss: 0.5070\n",
            "Epoch 70/100\n",
            "\u001b[1m63/63\u001b[0m \u001b[32m━━━━━━━━━━━━━━━━━━━━\u001b[0m\u001b[37m\u001b[0m \u001b[1m0s\u001b[0m 4ms/step - accuracy: 0.8711 - auc: 0.9403 - loss: 0.4428 - val_accuracy: 0.8440 - val_auc: 0.0000e+00 - val_loss: 0.5071\n",
            "Epoch 71/100\n",
            "\u001b[1m63/63\u001b[0m \u001b[32m━━━━━━━━━━━━━━━━━━━━\u001b[0m\u001b[37m\u001b[0m \u001b[1m0s\u001b[0m 4ms/step - accuracy: 0.8713 - auc: 0.9404 - loss: 0.4427 - val_accuracy: 0.8440 - val_auc: 0.0000e+00 - val_loss: 0.5071\n",
            "Epoch 72/100\n",
            "\u001b[1m63/63\u001b[0m \u001b[32m━━━━━━━━━━━━━━━━━━━━\u001b[0m\u001b[37m\u001b[0m \u001b[1m0s\u001b[0m 4ms/step - accuracy: 0.8710 - auc: 0.9404 - loss: 0.4425 - val_accuracy: 0.8440 - val_auc: 0.0000e+00 - val_loss: 0.5072\n",
            "Epoch 73/100\n",
            "\u001b[1m63/63\u001b[0m \u001b[32m━━━━━━━━━━━━━━━━━━━━\u001b[0m\u001b[37m\u001b[0m \u001b[1m0s\u001b[0m 4ms/step - accuracy: 0.8706 - auc: 0.9404 - loss: 0.4423 - val_accuracy: 0.8480 - val_auc: 0.0000e+00 - val_loss: 0.5070\n",
            "Epoch 74/100\n",
            "\u001b[1m63/63\u001b[0m \u001b[32m━━━━━━━━━━━━━━━━━━━━\u001b[0m\u001b[37m\u001b[0m \u001b[1m0s\u001b[0m 4ms/step - accuracy: 0.8705 - auc: 0.9404 - loss: 0.4421 - val_accuracy: 0.8480 - val_auc: 0.0000e+00 - val_loss: 0.5073\n",
            "Epoch 75/100\n",
            "\u001b[1m63/63\u001b[0m \u001b[32m━━━━━━━━━━━━━━━━━━━━\u001b[0m\u001b[37m\u001b[0m \u001b[1m0s\u001b[0m 4ms/step - accuracy: 0.8715 - auc: 0.9405 - loss: 0.4419 - val_accuracy: 0.8480 - val_auc: 0.0000e+00 - val_loss: 0.5074\n",
            "Epoch 76/100\n",
            "\u001b[1m63/63\u001b[0m \u001b[32m━━━━━━━━━━━━━━━━━━━━\u001b[0m\u001b[37m\u001b[0m \u001b[1m0s\u001b[0m 5ms/step - accuracy: 0.8715 - auc: 0.9407 - loss: 0.4417 - val_accuracy: 0.8480 - val_auc: 0.0000e+00 - val_loss: 0.5078\n",
            "Epoch 77/100\n",
            "\u001b[1m63/63\u001b[0m \u001b[32m━━━━━━━━━━━━━━━━━━━━\u001b[0m\u001b[37m\u001b[0m \u001b[1m0s\u001b[0m 4ms/step - accuracy: 0.8715 - auc: 0.9408 - loss: 0.4415 - val_accuracy: 0.8480 - val_auc: 0.0000e+00 - val_loss: 0.5077\n",
            "Epoch 78/100\n",
            "\u001b[1m63/63\u001b[0m \u001b[32m━━━━━━━━━━━━━━━━━━━━\u001b[0m\u001b[37m\u001b[0m \u001b[1m0s\u001b[0m 4ms/step - accuracy: 0.8715 - auc: 0.9409 - loss: 0.4413 - val_accuracy: 0.8480 - val_auc: 0.0000e+00 - val_loss: 0.5080\n",
            "Epoch 79/100\n",
            "\u001b[1m63/63\u001b[0m \u001b[32m━━━━━━━━━━━━━━━━━━━━\u001b[0m\u001b[37m\u001b[0m \u001b[1m0s\u001b[0m 4ms/step - accuracy: 0.8716 - auc: 0.9409 - loss: 0.4412 - val_accuracy: 0.8480 - val_auc: 0.0000e+00 - val_loss: 0.5079\n",
            "Epoch 80/100\n",
            "\u001b[1m63/63\u001b[0m \u001b[32m━━━━━━━━━━━━━━━━━━━━\u001b[0m\u001b[37m\u001b[0m \u001b[1m0s\u001b[0m 4ms/step - accuracy: 0.8716 - auc: 0.9410 - loss: 0.4410 - val_accuracy: 0.8480 - val_auc: 0.0000e+00 - val_loss: 0.5079\n",
            "Epoch 81/100\n",
            "\u001b[1m63/63\u001b[0m \u001b[32m━━━━━━━━━━━━━━━━━━━━\u001b[0m\u001b[37m\u001b[0m \u001b[1m0s\u001b[0m 4ms/step - accuracy: 0.8716 - auc: 0.9412 - loss: 0.4408 - val_accuracy: 0.8480 - val_auc: 0.0000e+00 - val_loss: 0.5081\n",
            "Epoch 82/100\n",
            "\u001b[1m63/63\u001b[0m \u001b[32m━━━━━━━━━━━━━━━━━━━━\u001b[0m\u001b[37m\u001b[0m \u001b[1m0s\u001b[0m 5ms/step - accuracy: 0.8716 - auc: 0.9404 - loss: 0.4407 - val_accuracy: 0.8480 - val_auc: 0.0000e+00 - val_loss: 0.5080\n",
            "Epoch 83/100\n",
            "\u001b[1m63/63\u001b[0m \u001b[32m━━━━━━━━━━━━━━━━━━━━\u001b[0m\u001b[37m\u001b[0m \u001b[1m1s\u001b[0m 7ms/step - accuracy: 0.8716 - auc: 0.9404 - loss: 0.4405 - val_accuracy: 0.8480 - val_auc: 0.0000e+00 - val_loss: 0.5082\n",
            "Epoch 84/100\n",
            "\u001b[1m63/63\u001b[0m \u001b[32m━━━━━━━━━━━━━━━━━━━━\u001b[0m\u001b[37m\u001b[0m \u001b[1m0s\u001b[0m 6ms/step - accuracy: 0.8707 - auc: 0.9404 - loss: 0.4404 - val_accuracy: 0.8480 - val_auc: 0.0000e+00 - val_loss: 0.5084\n",
            "Epoch 85/100\n",
            "\u001b[1m63/63\u001b[0m \u001b[32m━━━━━━━━━━━━━━━━━━━━\u001b[0m\u001b[37m\u001b[0m \u001b[1m1s\u001b[0m 6ms/step - accuracy: 0.8707 - auc: 0.9405 - loss: 0.4402 - val_accuracy: 0.8480 - val_auc: 0.0000e+00 - val_loss: 0.5085\n",
            "Epoch 86/100\n",
            "\u001b[1m63/63\u001b[0m \u001b[32m━━━━━━━━━━━━━━━━━━━━\u001b[0m\u001b[37m\u001b[0m \u001b[1m1s\u001b[0m 7ms/step - accuracy: 0.8707 - auc: 0.9405 - loss: 0.4401 - val_accuracy: 0.8480 - val_auc: 0.0000e+00 - val_loss: 0.5086\n",
            "Epoch 87/100\n",
            "\u001b[1m63/63\u001b[0m \u001b[32m━━━━━━━━━━━━━━━━━━━━\u001b[0m\u001b[37m\u001b[0m \u001b[1m0s\u001b[0m 4ms/step - accuracy: 0.8709 - auc: 0.9407 - loss: 0.4399 - val_accuracy: 0.8480 - val_auc: 0.0000e+00 - val_loss: 0.5088\n",
            "Epoch 88/100\n",
            "\u001b[1m63/63\u001b[0m \u001b[32m━━━━━━━━━━━━━━━━━━━━\u001b[0m\u001b[37m\u001b[0m \u001b[1m1s\u001b[0m 5ms/step - accuracy: 0.8721 - auc: 0.9407 - loss: 0.4398 - val_accuracy: 0.8480 - val_auc: 0.0000e+00 - val_loss: 0.5085\n",
            "Epoch 89/100\n",
            "\u001b[1m63/63\u001b[0m \u001b[32m━━━━━━━━━━━━━━━━━━━━\u001b[0m\u001b[37m\u001b[0m \u001b[1m0s\u001b[0m 4ms/step - accuracy: 0.8721 - auc: 0.9407 - loss: 0.4396 - val_accuracy: 0.8480 - val_auc: 0.0000e+00 - val_loss: 0.5090\n",
            "Epoch 90/100\n",
            "\u001b[1m63/63\u001b[0m \u001b[32m━━━━━━━━━━━━━━━━━━━━\u001b[0m\u001b[37m\u001b[0m \u001b[1m1s\u001b[0m 5ms/step - accuracy: 0.8721 - auc: 0.9410 - loss: 0.4395 - val_accuracy: 0.8480 - val_auc: 0.0000e+00 - val_loss: 0.5087\n",
            "Epoch 91/100\n",
            "\u001b[1m63/63\u001b[0m \u001b[32m━━━━━━━━━━━━━━━━━━━━\u001b[0m\u001b[37m\u001b[0m \u001b[1m0s\u001b[0m 5ms/step - accuracy: 0.8719 - auc: 0.9410 - loss: 0.4393 - val_accuracy: 0.8480 - val_auc: 0.0000e+00 - val_loss: 0.5088\n",
            "Epoch 92/100\n",
            "\u001b[1m63/63\u001b[0m \u001b[32m━━━━━━━━━━━━━━━━━━━━\u001b[0m\u001b[37m\u001b[0m \u001b[1m0s\u001b[0m 4ms/step - accuracy: 0.8721 - auc: 0.9410 - loss: 0.4392 - val_accuracy: 0.8480 - val_auc: 0.0000e+00 - val_loss: 0.5088\n",
            "Epoch 93/100\n",
            "\u001b[1m63/63\u001b[0m \u001b[32m━━━━━━━━━━━━━━━━━━━━\u001b[0m\u001b[37m\u001b[0m \u001b[1m0s\u001b[0m 5ms/step - accuracy: 0.8721 - auc: 0.9410 - loss: 0.4391 - val_accuracy: 0.8480 - val_auc: 0.0000e+00 - val_loss: 0.5085\n",
            "Epoch 94/100\n",
            "\u001b[1m63/63\u001b[0m \u001b[32m━━━━━━━━━━━━━━━━━━━━\u001b[0m\u001b[37m\u001b[0m \u001b[1m1s\u001b[0m 4ms/step - accuracy: 0.8721 - auc: 0.9410 - loss: 0.4389 - val_accuracy: 0.8480 - val_auc: 0.0000e+00 - val_loss: 0.5089\n",
            "Epoch 95/100\n",
            "\u001b[1m63/63\u001b[0m \u001b[32m━━━━━━━━━━━━━━━━━━━━\u001b[0m\u001b[37m\u001b[0m \u001b[1m0s\u001b[0m 4ms/step - accuracy: 0.8721 - auc: 0.9411 - loss: 0.4388 - val_accuracy: 0.8480 - val_auc: 0.0000e+00 - val_loss: 0.5083\n",
            "Epoch 96/100\n",
            "\u001b[1m63/63\u001b[0m \u001b[32m━━━━━━━━━━━━━━━━━━━━\u001b[0m\u001b[37m\u001b[0m \u001b[1m0s\u001b[0m 5ms/step - accuracy: 0.8719 - auc: 0.9412 - loss: 0.4387 - val_accuracy: 0.8480 - val_auc: 0.0000e+00 - val_loss: 0.5086\n",
            "Epoch 97/100\n",
            "\u001b[1m63/63\u001b[0m \u001b[32m━━━━━━━━━━━━━━━━━━━━\u001b[0m\u001b[37m\u001b[0m \u001b[1m0s\u001b[0m 4ms/step - accuracy: 0.8719 - auc: 0.9406 - loss: 0.4386 - val_accuracy: 0.8480 - val_auc: 0.0000e+00 - val_loss: 0.5086\n",
            "Epoch 98/100\n",
            "\u001b[1m63/63\u001b[0m \u001b[32m━━━━━━━━━━━━━━━━━━━━\u001b[0m\u001b[37m\u001b[0m \u001b[1m1s\u001b[0m 5ms/step - accuracy: 0.8720 - auc: 0.9406 - loss: 0.4384 - val_accuracy: 0.8480 - val_auc: 0.0000e+00 - val_loss: 0.5082\n",
            "Epoch 99/100\n",
            "\u001b[1m63/63\u001b[0m \u001b[32m━━━━━━━━━━━━━━━━━━━━\u001b[0m\u001b[37m\u001b[0m \u001b[1m0s\u001b[0m 5ms/step - accuracy: 0.8719 - auc: 0.9406 - loss: 0.4383 - val_accuracy: 0.8480 - val_auc: 0.0000e+00 - val_loss: 0.5083\n",
            "Epoch 100/100\n",
            "\u001b[1m63/63\u001b[0m \u001b[32m━━━━━━━━━━━━━━━━━━━━\u001b[0m\u001b[37m\u001b[0m \u001b[1m0s\u001b[0m 4ms/step - accuracy: 0.8719 - auc: 0.9406 - loss: 0.4382 - val_accuracy: 0.8480 - val_auc: 0.0000e+00 - val_loss: 0.5084\n"
          ]
        }
      ]
    },
    {
      "cell_type": "code",
      "source": [
        "ypos = final_ann_model.predict(x_test)[:,0]  # Probability of positive class\n",
        "result_df, fancy_df = threshold_results(np.round(np.arange(0.0, 1.01, .05), 2), y_test, ypos)\n",
        "fancy_df"
      ],
      "metadata": {
        "colab": {
          "base_uri": "https://localhost:8080/",
          "height": 745
        },
        "id": "mzTtuEXn9wNv",
        "outputId": "37d5507f-4eb7-4483-d205-0adc152387b8"
      },
      "execution_count": 92,
      "outputs": [
        {
          "output_type": "stream",
          "name": "stdout",
          "text": [
            "\u001b[1m5/5\u001b[0m \u001b[32m━━━━━━━━━━━━━━━━━━━━\u001b[0m\u001b[37m\u001b[0m \u001b[1m0s\u001b[0m 23ms/step\n"
          ]
        },
        {
          "output_type": "execute_result",
          "data": {
            "text/plain": [
              "<pandas.io.formats.style.Styler at 0x794ad26494d0>"
            ],
            "text/html": [
              "<style type=\"text/css\">\n",
              "#T_53f95 th:not(.index_name) {\n",
              "  background-color: #800000;\n",
              "  color: white;\n",
              "  text-align: center;\n",
              "}\n",
              "#T_53f95_row0_col0, #T_53f95_row0_col1, #T_53f95_row0_col3, #T_53f95_row0_col5, #T_53f95_row1_col0, #T_53f95_row1_col1, #T_53f95_row1_col3, #T_53f95_row1_col5, #T_53f95_row2_col0, #T_53f95_row2_col1, #T_53f95_row2_col3, #T_53f95_row2_col5, #T_53f95_row3_col0, #T_53f95_row3_col1, #T_53f95_row3_col2, #T_53f95_row3_col3, #T_53f95_row3_col5, #T_53f95_row4_col0, #T_53f95_row4_col1, #T_53f95_row4_col2, #T_53f95_row4_col3, #T_53f95_row5_col0, #T_53f95_row5_col1, #T_53f95_row5_col2, #T_53f95_row5_col3, #T_53f95_row6_col0, #T_53f95_row6_col1, #T_53f95_row6_col2, #T_53f95_row6_col3, #T_53f95_row7_col0, #T_53f95_row7_col1, #T_53f95_row7_col2, #T_53f95_row8_col0, #T_53f95_row8_col1, #T_53f95_row8_col2, #T_53f95_row9_col0, #T_53f95_row9_col1, #T_53f95_row9_col2, #T_53f95_row9_col3, #T_53f95_row9_col5, #T_53f95_row10_col0, #T_53f95_row10_col1, #T_53f95_row10_col2, #T_53f95_row10_col3, #T_53f95_row11_col0, #T_53f95_row11_col1, #T_53f95_row11_col2, #T_53f95_row11_col3, #T_53f95_row11_col5, #T_53f95_row12_col0, #T_53f95_row12_col1, #T_53f95_row12_col2, #T_53f95_row12_col3, #T_53f95_row12_col5, #T_53f95_row13_col0, #T_53f95_row13_col1, #T_53f95_row13_col2, #T_53f95_row13_col3, #T_53f95_row13_col5, #T_53f95_row14_col0, #T_53f95_row14_col1, #T_53f95_row14_col2, #T_53f95_row14_col3, #T_53f95_row14_col5, #T_53f95_row15_col0, #T_53f95_row15_col1, #T_53f95_row15_col2, #T_53f95_row15_col3, #T_53f95_row15_col5, #T_53f95_row16_col0, #T_53f95_row16_col2, #T_53f95_row16_col3, #T_53f95_row16_col5, #T_53f95_row17_col0, #T_53f95_row17_col2, #T_53f95_row17_col3, #T_53f95_row17_col5, #T_53f95_row18_col0, #T_53f95_row18_col2, #T_53f95_row18_col3, #T_53f95_row18_col5, #T_53f95_row19_col0, #T_53f95_row19_col2, #T_53f95_row19_col3, #T_53f95_row19_col5, #T_53f95_row20_col1, #T_53f95_row20_col2, #T_53f95_row20_col3, #T_53f95_row20_col5 {\n",
              "  border: 1px solid black;\n",
              "  width: 65px;\n",
              "  text-align: center;\n",
              "}\n",
              "#T_53f95_row0_col2, #T_53f95_row0_col4, #T_53f95_row1_col2, #T_53f95_row1_col4, #T_53f95_row2_col2, #T_53f95_row2_col4, #T_53f95_row3_col4, #T_53f95_row4_col4, #T_53f95_row4_col5, #T_53f95_row5_col4, #T_53f95_row5_col5, #T_53f95_row6_col4, #T_53f95_row6_col5, #T_53f95_row7_col3, #T_53f95_row7_col4, #T_53f95_row7_col5, #T_53f95_row8_col3, #T_53f95_row8_col4, #T_53f95_row8_col5, #T_53f95_row9_col4, #T_53f95_row10_col4, #T_53f95_row10_col5, #T_53f95_row11_col4, #T_53f95_row12_col4, #T_53f95_row13_col4, #T_53f95_row14_col4, #T_53f95_row15_col4, #T_53f95_row16_col1, #T_53f95_row16_col4, #T_53f95_row17_col1, #T_53f95_row17_col4, #T_53f95_row18_col1, #T_53f95_row18_col4, #T_53f95_row19_col1, #T_53f95_row19_col4, #T_53f95_row20_col0, #T_53f95_row20_col4 {\n",
              "  background-color: pink;\n",
              "  border: 1px solid black;\n",
              "  width: 65px;\n",
              "  text-align: center;\n",
              "}\n",
              "</style>\n",
              "<table id=\"T_53f95\" class=\"dataframe\">\n",
              "  <thead>\n",
              "    <tr>\n",
              "      <th class=\"blank level0\" >&nbsp;</th>\n",
              "      <th id=\"T_53f95_level0_col0\" class=\"col_heading level0 col0\" >threshold</th>\n",
              "      <th id=\"T_53f95_level0_col1\" class=\"col_heading level0 col1\" >precision</th>\n",
              "      <th id=\"T_53f95_level0_col2\" class=\"col_heading level0 col2\" >recall</th>\n",
              "      <th id=\"T_53f95_level0_col3\" class=\"col_heading level0 col3\" >f1</th>\n",
              "      <th id=\"T_53f95_level0_col4\" class=\"col_heading level0 col4\" >auc</th>\n",
              "      <th id=\"T_53f95_level0_col5\" class=\"col_heading level0 col5\" >accuracy</th>\n",
              "    </tr>\n",
              "  </thead>\n",
              "  <tbody>\n",
              "    <tr>\n",
              "      <th id=\"T_53f95_level0_row0\" class=\"row_heading level0 row0\" >0</th>\n",
              "      <td id=\"T_53f95_row0_col0\" class=\"data row0 col0\" >0.00</td>\n",
              "      <td id=\"T_53f95_row0_col1\" class=\"data row0 col1\" >0.44</td>\n",
              "      <td id=\"T_53f95_row0_col2\" class=\"data row0 col2\" >1.00</td>\n",
              "      <td id=\"T_53f95_row0_col3\" class=\"data row0 col3\" >0.61</td>\n",
              "      <td id=\"T_53f95_row0_col4\" class=\"data row0 col4\" >0.92</td>\n",
              "      <td id=\"T_53f95_row0_col5\" class=\"data row0 col5\" >0.44</td>\n",
              "    </tr>\n",
              "    <tr>\n",
              "      <th id=\"T_53f95_level0_row1\" class=\"row_heading level0 row1\" >1</th>\n",
              "      <td id=\"T_53f95_row1_col0\" class=\"data row1 col0\" >0.05</td>\n",
              "      <td id=\"T_53f95_row1_col1\" class=\"data row1 col1\" >0.44</td>\n",
              "      <td id=\"T_53f95_row1_col2\" class=\"data row1 col2\" >1.00</td>\n",
              "      <td id=\"T_53f95_row1_col3\" class=\"data row1 col3\" >0.61</td>\n",
              "      <td id=\"T_53f95_row1_col4\" class=\"data row1 col4\" >0.92</td>\n",
              "      <td id=\"T_53f95_row1_col5\" class=\"data row1 col5\" >0.44</td>\n",
              "    </tr>\n",
              "    <tr>\n",
              "      <th id=\"T_53f95_level0_row2\" class=\"row_heading level0 row2\" >2</th>\n",
              "      <td id=\"T_53f95_row2_col0\" class=\"data row2 col0\" >0.10</td>\n",
              "      <td id=\"T_53f95_row2_col1\" class=\"data row2 col1\" >0.44</td>\n",
              "      <td id=\"T_53f95_row2_col2\" class=\"data row2 col2\" >1.00</td>\n",
              "      <td id=\"T_53f95_row2_col3\" class=\"data row2 col3\" >0.61</td>\n",
              "      <td id=\"T_53f95_row2_col4\" class=\"data row2 col4\" >0.92</td>\n",
              "      <td id=\"T_53f95_row2_col5\" class=\"data row2 col5\" >0.44</td>\n",
              "    </tr>\n",
              "    <tr>\n",
              "      <th id=\"T_53f95_level0_row3\" class=\"row_heading level0 row3\" >3</th>\n",
              "      <td id=\"T_53f95_row3_col0\" class=\"data row3 col0\" >0.15</td>\n",
              "      <td id=\"T_53f95_row3_col1\" class=\"data row3 col1\" >0.77</td>\n",
              "      <td id=\"T_53f95_row3_col2\" class=\"data row3 col2\" >0.93</td>\n",
              "      <td id=\"T_53f95_row3_col3\" class=\"data row3 col3\" >0.84</td>\n",
              "      <td id=\"T_53f95_row3_col4\" class=\"data row3 col4\" >0.92</td>\n",
              "      <td id=\"T_53f95_row3_col5\" class=\"data row3 col5\" >0.85</td>\n",
              "    </tr>\n",
              "    <tr>\n",
              "      <th id=\"T_53f95_level0_row4\" class=\"row_heading level0 row4\" >4</th>\n",
              "      <td id=\"T_53f95_row4_col0\" class=\"data row4 col0\" >0.20</td>\n",
              "      <td id=\"T_53f95_row4_col1\" class=\"data row4 col1\" >0.78</td>\n",
              "      <td id=\"T_53f95_row4_col2\" class=\"data row4 col2\" >0.93</td>\n",
              "      <td id=\"T_53f95_row4_col3\" class=\"data row4 col3\" >0.85</td>\n",
              "      <td id=\"T_53f95_row4_col4\" class=\"data row4 col4\" >0.92</td>\n",
              "      <td id=\"T_53f95_row4_col5\" class=\"data row4 col5\" >0.86</td>\n",
              "    </tr>\n",
              "    <tr>\n",
              "      <th id=\"T_53f95_level0_row5\" class=\"row_heading level0 row5\" >5</th>\n",
              "      <td id=\"T_53f95_row5_col0\" class=\"data row5 col0\" >0.25</td>\n",
              "      <td id=\"T_53f95_row5_col1\" class=\"data row5 col1\" >0.78</td>\n",
              "      <td id=\"T_53f95_row5_col2\" class=\"data row5 col2\" >0.93</td>\n",
              "      <td id=\"T_53f95_row5_col3\" class=\"data row5 col3\" >0.85</td>\n",
              "      <td id=\"T_53f95_row5_col4\" class=\"data row5 col4\" >0.92</td>\n",
              "      <td id=\"T_53f95_row5_col5\" class=\"data row5 col5\" >0.86</td>\n",
              "    </tr>\n",
              "    <tr>\n",
              "      <th id=\"T_53f95_level0_row6\" class=\"row_heading level0 row6\" >6</th>\n",
              "      <td id=\"T_53f95_row6_col0\" class=\"data row6 col0\" >0.30</td>\n",
              "      <td id=\"T_53f95_row6_col1\" class=\"data row6 col1\" >0.78</td>\n",
              "      <td id=\"T_53f95_row6_col2\" class=\"data row6 col2\" >0.93</td>\n",
              "      <td id=\"T_53f95_row6_col3\" class=\"data row6 col3\" >0.85</td>\n",
              "      <td id=\"T_53f95_row6_col4\" class=\"data row6 col4\" >0.92</td>\n",
              "      <td id=\"T_53f95_row6_col5\" class=\"data row6 col5\" >0.86</td>\n",
              "    </tr>\n",
              "    <tr>\n",
              "      <th id=\"T_53f95_level0_row7\" class=\"row_heading level0 row7\" >7</th>\n",
              "      <td id=\"T_53f95_row7_col0\" class=\"data row7 col0\" >0.35</td>\n",
              "      <td id=\"T_53f95_row7_col1\" class=\"data row7 col1\" >0.79</td>\n",
              "      <td id=\"T_53f95_row7_col2\" class=\"data row7 col2\" >0.93</td>\n",
              "      <td id=\"T_53f95_row7_col3\" class=\"data row7 col3\" >0.86</td>\n",
              "      <td id=\"T_53f95_row7_col4\" class=\"data row7 col4\" >0.92</td>\n",
              "      <td id=\"T_53f95_row7_col5\" class=\"data row7 col5\" >0.86</td>\n",
              "    </tr>\n",
              "    <tr>\n",
              "      <th id=\"T_53f95_level0_row8\" class=\"row_heading level0 row8\" >8</th>\n",
              "      <td id=\"T_53f95_row8_col0\" class=\"data row8 col0\" >0.40</td>\n",
              "      <td id=\"T_53f95_row8_col1\" class=\"data row8 col1\" >0.79</td>\n",
              "      <td id=\"T_53f95_row8_col2\" class=\"data row8 col2\" >0.93</td>\n",
              "      <td id=\"T_53f95_row8_col3\" class=\"data row8 col3\" >0.86</td>\n",
              "      <td id=\"T_53f95_row8_col4\" class=\"data row8 col4\" >0.92</td>\n",
              "      <td id=\"T_53f95_row8_col5\" class=\"data row8 col5\" >0.86</td>\n",
              "    </tr>\n",
              "    <tr>\n",
              "      <th id=\"T_53f95_level0_row9\" class=\"row_heading level0 row9\" >9</th>\n",
              "      <td id=\"T_53f95_row9_col0\" class=\"data row9 col0\" >0.45</td>\n",
              "      <td id=\"T_53f95_row9_col1\" class=\"data row9 col1\" >0.79</td>\n",
              "      <td id=\"T_53f95_row9_col2\" class=\"data row9 col2\" >0.89</td>\n",
              "      <td id=\"T_53f95_row9_col3\" class=\"data row9 col3\" >0.84</td>\n",
              "      <td id=\"T_53f95_row9_col4\" class=\"data row9 col4\" >0.92</td>\n",
              "      <td id=\"T_53f95_row9_col5\" class=\"data row9 col5\" >0.85</td>\n",
              "    </tr>\n",
              "    <tr>\n",
              "      <th id=\"T_53f95_level0_row10\" class=\"row_heading level0 row10\" >10</th>\n",
              "      <td id=\"T_53f95_row10_col0\" class=\"data row10 col0\" >0.50</td>\n",
              "      <td id=\"T_53f95_row10_col1\" class=\"data row10 col1\" >0.82</td>\n",
              "      <td id=\"T_53f95_row10_col2\" class=\"data row10 col2\" >0.87</td>\n",
              "      <td id=\"T_53f95_row10_col3\" class=\"data row10 col3\" >0.84</td>\n",
              "      <td id=\"T_53f95_row10_col4\" class=\"data row10 col4\" >0.92</td>\n",
              "      <td id=\"T_53f95_row10_col5\" class=\"data row10 col5\" >0.86</td>\n",
              "    </tr>\n",
              "    <tr>\n",
              "      <th id=\"T_53f95_level0_row11\" class=\"row_heading level0 row11\" >11</th>\n",
              "      <td id=\"T_53f95_row11_col0\" class=\"data row11 col0\" >0.55</td>\n",
              "      <td id=\"T_53f95_row11_col1\" class=\"data row11 col1\" >0.82</td>\n",
              "      <td id=\"T_53f95_row11_col2\" class=\"data row11 col2\" >0.80</td>\n",
              "      <td id=\"T_53f95_row11_col3\" class=\"data row11 col3\" >0.81</td>\n",
              "      <td id=\"T_53f95_row11_col4\" class=\"data row11 col4\" >0.92</td>\n",
              "      <td id=\"T_53f95_row11_col5\" class=\"data row11 col5\" >0.83</td>\n",
              "    </tr>\n",
              "    <tr>\n",
              "      <th id=\"T_53f95_level0_row12\" class=\"row_heading level0 row12\" >12</th>\n",
              "      <td id=\"T_53f95_row12_col0\" class=\"data row12 col0\" >0.60</td>\n",
              "      <td id=\"T_53f95_row12_col1\" class=\"data row12 col1\" >0.81</td>\n",
              "      <td id=\"T_53f95_row12_col2\" class=\"data row12 col2\" >0.79</td>\n",
              "      <td id=\"T_53f95_row12_col3\" class=\"data row12 col3\" >0.80</td>\n",
              "      <td id=\"T_53f95_row12_col4\" class=\"data row12 col4\" >0.92</td>\n",
              "      <td id=\"T_53f95_row12_col5\" class=\"data row12 col5\" >0.83</td>\n",
              "    </tr>\n",
              "    <tr>\n",
              "      <th id=\"T_53f95_level0_row13\" class=\"row_heading level0 row13\" >13</th>\n",
              "      <td id=\"T_53f95_row13_col0\" class=\"data row13 col0\" >0.65</td>\n",
              "      <td id=\"T_53f95_row13_col1\" class=\"data row13 col1\" >0.85</td>\n",
              "      <td id=\"T_53f95_row13_col2\" class=\"data row13 col2\" >0.75</td>\n",
              "      <td id=\"T_53f95_row13_col3\" class=\"data row13 col3\" >0.80</td>\n",
              "      <td id=\"T_53f95_row13_col4\" class=\"data row13 col4\" >0.92</td>\n",
              "      <td id=\"T_53f95_row13_col5\" class=\"data row13 col5\" >0.83</td>\n",
              "    </tr>\n",
              "    <tr>\n",
              "      <th id=\"T_53f95_level0_row14\" class=\"row_heading level0 row14\" >14</th>\n",
              "      <td id=\"T_53f95_row14_col0\" class=\"data row14 col0\" >0.70</td>\n",
              "      <td id=\"T_53f95_row14_col1\" class=\"data row14 col1\" >0.86</td>\n",
              "      <td id=\"T_53f95_row14_col2\" class=\"data row14 col2\" >0.70</td>\n",
              "      <td id=\"T_53f95_row14_col3\" class=\"data row14 col3\" >0.77</td>\n",
              "      <td id=\"T_53f95_row14_col4\" class=\"data row14 col4\" >0.92</td>\n",
              "      <td id=\"T_53f95_row14_col5\" class=\"data row14 col5\" >0.82</td>\n",
              "    </tr>\n",
              "    <tr>\n",
              "      <th id=\"T_53f95_level0_row15\" class=\"row_heading level0 row15\" >15</th>\n",
              "      <td id=\"T_53f95_row15_col0\" class=\"data row15 col0\" >0.75</td>\n",
              "      <td id=\"T_53f95_row15_col1\" class=\"data row15 col1\" >0.93</td>\n",
              "      <td id=\"T_53f95_row15_col2\" class=\"data row15 col2\" >0.64</td>\n",
              "      <td id=\"T_53f95_row15_col3\" class=\"data row15 col3\" >0.76</td>\n",
              "      <td id=\"T_53f95_row15_col4\" class=\"data row15 col4\" >0.92</td>\n",
              "      <td id=\"T_53f95_row15_col5\" class=\"data row15 col5\" >0.82</td>\n",
              "    </tr>\n",
              "    <tr>\n",
              "      <th id=\"T_53f95_level0_row16\" class=\"row_heading level0 row16\" >16</th>\n",
              "      <td id=\"T_53f95_row16_col0\" class=\"data row16 col0\" >0.80</td>\n",
              "      <td id=\"T_53f95_row16_col1\" class=\"data row16 col1\" >1.00</td>\n",
              "      <td id=\"T_53f95_row16_col2\" class=\"data row16 col2\" >0.51</td>\n",
              "      <td id=\"T_53f95_row16_col3\" class=\"data row16 col3\" >0.67</td>\n",
              "      <td id=\"T_53f95_row16_col4\" class=\"data row16 col4\" >0.92</td>\n",
              "      <td id=\"T_53f95_row16_col5\" class=\"data row16 col5\" >0.78</td>\n",
              "    </tr>\n",
              "    <tr>\n",
              "      <th id=\"T_53f95_level0_row17\" class=\"row_heading level0 row17\" >17</th>\n",
              "      <td id=\"T_53f95_row17_col0\" class=\"data row17 col0\" >0.85</td>\n",
              "      <td id=\"T_53f95_row17_col1\" class=\"data row17 col1\" >1.00</td>\n",
              "      <td id=\"T_53f95_row17_col2\" class=\"data row17 col2\" >0.39</td>\n",
              "      <td id=\"T_53f95_row17_col3\" class=\"data row17 col3\" >0.56</td>\n",
              "      <td id=\"T_53f95_row17_col4\" class=\"data row17 col4\" >0.92</td>\n",
              "      <td id=\"T_53f95_row17_col5\" class=\"data row17 col5\" >0.73</td>\n",
              "    </tr>\n",
              "    <tr>\n",
              "      <th id=\"T_53f95_level0_row18\" class=\"row_heading level0 row18\" >18</th>\n",
              "      <td id=\"T_53f95_row18_col0\" class=\"data row18 col0\" >0.90</td>\n",
              "      <td id=\"T_53f95_row18_col1\" class=\"data row18 col1\" >1.00</td>\n",
              "      <td id=\"T_53f95_row18_col2\" class=\"data row18 col2\" >0.26</td>\n",
              "      <td id=\"T_53f95_row18_col3\" class=\"data row18 col3\" >0.42</td>\n",
              "      <td id=\"T_53f95_row18_col4\" class=\"data row18 col4\" >0.92</td>\n",
              "      <td id=\"T_53f95_row18_col5\" class=\"data row18 col5\" >0.67</td>\n",
              "    </tr>\n",
              "    <tr>\n",
              "      <th id=\"T_53f95_level0_row19\" class=\"row_heading level0 row19\" >19</th>\n",
              "      <td id=\"T_53f95_row19_col0\" class=\"data row19 col0\" >0.95</td>\n",
              "      <td id=\"T_53f95_row19_col1\" class=\"data row19 col1\" >1.00</td>\n",
              "      <td id=\"T_53f95_row19_col2\" class=\"data row19 col2\" >0.11</td>\n",
              "      <td id=\"T_53f95_row19_col3\" class=\"data row19 col3\" >0.21</td>\n",
              "      <td id=\"T_53f95_row19_col4\" class=\"data row19 col4\" >0.92</td>\n",
              "      <td id=\"T_53f95_row19_col5\" class=\"data row19 col5\" >0.61</td>\n",
              "    </tr>\n",
              "    <tr>\n",
              "      <th id=\"T_53f95_level0_row20\" class=\"row_heading level0 row20\" >20</th>\n",
              "      <td id=\"T_53f95_row20_col0\" class=\"data row20 col0\" >1.00</td>\n",
              "      <td id=\"T_53f95_row20_col1\" class=\"data row20 col1\" >0.00</td>\n",
              "      <td id=\"T_53f95_row20_col2\" class=\"data row20 col2\" >0.00</td>\n",
              "      <td id=\"T_53f95_row20_col3\" class=\"data row20 col3\" >0.00</td>\n",
              "      <td id=\"T_53f95_row20_col4\" class=\"data row20 col4\" >0.92</td>\n",
              "      <td id=\"T_53f95_row20_col5\" class=\"data row20 col5\" >0.56</td>\n",
              "    </tr>\n",
              "  </tbody>\n",
              "</table>\n"
            ]
          },
          "metadata": {},
          "execution_count": 92
        }
      ]
    },
    {
      "cell_type": "code",
      "source": [
        "result_df.to_csv('s25_final_ann_thresholds.csv', index=False)\n",
        "from tensorflow import keras\n",
        "final_ann_model.save('s25_final_ann_model.keras')"
      ],
      "metadata": {
        "id": "LO1YO7LZ9xWU"
      },
      "execution_count": 93,
      "outputs": []
    },
    {
      "cell_type": "markdown",
      "metadata": {
        "id": "SXGHYrCpjLXl"
      },
      "source": [
        "# You should eventually have these files on GitHub\n",
        "\n",
        "* LIME explainer\n",
        "* tuned KNN model and associated threshold table\n",
        "* tuned logistic regression model and associated threshold table\n",
        "* tuned light boosting model and associated threshold table\n",
        "* tuned ANN model and associated threshold table"
      ]
    },
    {
      "cell_type": "markdown",
      "metadata": {
        "id": "88r30GauhPsI"
      },
      "source": [
        "# Optional make-up: Random Forest model\n",
        "\n",
        "I will give you credit for one homework assignment in terms of points if you elect to take on this problem.\n",
        "\n",
        "You will need to do two things: (1) tune and save your threshold table and model below, and (2) add the model to your production notebook (your last notebook that is part of final.) The latter is the most tricky given you will actually have to change several places in the code I handed you for server. But it is doable if you get an early jump on it."
      ]
    },
    {
      "cell_type": "code",
      "execution_count": null,
      "metadata": {
        "id": "Py2eUMQKT3ga"
      },
      "outputs": [],
      "source": [
        "# From chapter 12\n",
        "from sklearn.ensemble import RandomForestClassifier"
      ]
    },
    {
      "cell_type": "markdown",
      "metadata": {
        "id": "7s_e216IBMoE"
      },
      "source": [
        "### Follow the steps"
      ]
    },
    {
      "cell_type": "code",
      "execution_count": null,
      "metadata": {
        "id": "1fy5NQYMBMoE"
      },
      "outputs": [],
      "source": []
    },
    {
      "cell_type": "markdown",
      "metadata": {
        "id": "PM7WXZLzOgKr"
      },
      "source": [
        "## You still need to change the production notebook\n",
        "\n",
        "Find the places where you are loading models and thresholds and add the RF results. Find places where you are doing predictions and add RF prediction. Find place where you are showing prediction results in html and add RF prediction. Also add threshold table.\n",
        "\n",
        "This should not take long but will require you to pay attention to what you are doing to avoid screwing up what is already there."
      ]
    },
    {
      "cell_type": "markdown",
      "metadata": {
        "id": "G4bM31Y3BdM4"
      },
      "source": [
        "# Just for your interest\n",
        "\n",
        "There are several ways to combine the results of multiple models, four models in our case. We are using one of the ways in the server, but wanted to show you other options."
      ]
    },
    {
      "cell_type": "markdown",
      "metadata": {
        "id": "H5CR8tBBRJ9h"
      },
      "source": [
        "# IX. Voting - averaging binary\n",
        "\n",
        "There are two ways I can see of voting when have 4 models producing results. The first is to convert their output to binary. Then simply look for majority of either 0s or 1s. I added a twist that I fall back on probabilities for ties."
      ]
    },
    {
      "cell_type": "code",
      "execution_count": 95,
      "metadata": {
        "id": "jb9Q5LN635__",
        "colab": {
          "base_uri": "https://localhost:8080/"
        },
        "outputId": "43a3a55c-7943-42e3-e942-c6cef62ddf1e"
      },
      "outputs": [
        {
          "output_type": "stream",
          "name": "stdout",
          "text": [
            "\u001b[1m5/5\u001b[0m \u001b[32m━━━━━━━━━━━━━━━━━━━━\u001b[0m\u001b[37m\u001b[0m \u001b[1m0s\u001b[0m 9ms/step \n"
          ]
        },
        {
          "output_type": "stream",
          "name": "stderr",
          "text": [
            "/usr/local/lib/python3.11/dist-packages/sklearn/utils/deprecation.py:151: FutureWarning: 'force_all_finite' was renamed to 'ensure_all_finite' in 1.6 and will be removed in 1.8.\n",
            "  warnings.warn(\n"
          ]
        }
      ],
      "source": [
        "lgb_raw = lgb_best_model.predict_proba(x_test)[:,1]\n",
        "knn_raw = knn_best_model.predict_proba(x_test)[:,1]\n",
        "logreg_raw = best_logreg_model.predict_proba(x_test)[:,1]\n",
        "ann_raw = final_ann_model.predict(x_test)[:,0]"
      ]
    },
    {
      "cell_type": "code",
      "execution_count": 96,
      "metadata": {
        "id": "rbMmM9nWRW6z"
      },
      "outputs": [],
      "source": [
        "yvotes = []\n",
        "for i in range(len(y_test)):\n",
        "  the_vote = (lgb_raw[i]>=.5+logreg_raw[i]>=.5+knn_raw[i]>=.5+ann_raw[i]>=.5)\n",
        "  if the_vote==2:\n",
        "    #tie breaker - go to probabilities\n",
        "    prob = (knn_yraw[i]+logreg_yraw[i]+xgb_yraw[i]+ann_yraw[i])/4\n",
        "    the_winner = 1 if prob>=.5 else 0\n",
        "  else:\n",
        "    the_winner = 1 if the_vote>2 else 0\n",
        "  yvotes.append(the_winner)"
      ]
    },
    {
      "cell_type": "code",
      "execution_count": 97,
      "metadata": {
        "id": "pZLERg9TVnMx",
        "colab": {
          "base_uri": "https://localhost:8080/"
        },
        "outputId": "b2527a8c-16ef-4a2d-a225-2bece5dc154c"
      },
      "outputs": [
        {
          "output_type": "execute_result",
          "data": {
            "text/plain": [
              "0.47101449275362317"
            ]
          },
          "metadata": {},
          "execution_count": 97
        }
      ],
      "source": [
        "sum([1 if p>=.5 else 0 for p in ann_raw])/len(x_test)"
      ]
    },
    {
      "cell_type": "code",
      "execution_count": 98,
      "metadata": {
        "id": "bA7UhZX_-tan",
        "colab": {
          "base_uri": "https://localhost:8080/"
        },
        "outputId": "c19563be-27e8-4cd3-b1be-d48040895230"
      },
      "outputs": [
        {
          "output_type": "stream",
          "name": "stdout",
          "text": [
            "[[77  0]\n",
            " [61  0]]\n"
          ]
        }
      ],
      "source": [
        "from sklearn.metrics import confusion_matrix\n",
        "cm = confusion_matrix(y_test, yvotes)\n",
        "print(cm)\n"
      ]
    },
    {
      "cell_type": "code",
      "execution_count": 99,
      "metadata": {
        "id": "Sl0yYW2Z-tao",
        "colab": {
          "base_uri": "https://localhost:8080/"
        },
        "outputId": "89c03ff3-630f-4b10-bda4-ebc7e3c87112"
      },
      "outputs": [
        {
          "output_type": "execute_result",
          "data": {
            "text/plain": [
              "np.float64(0.5579710144927537)"
            ]
          },
          "metadata": {},
          "execution_count": 99
        }
      ],
      "source": [
        "(cm[0,0]+cm[1,1])/len(y_test)  #accuracy 0.5665399239543726"
      ]
    },
    {
      "cell_type": "markdown",
      "metadata": {
        "id": "A4uJuY39c0WY"
      },
      "source": [
        "Can now use it to compute precision and recall."
      ]
    },
    {
      "cell_type": "code",
      "execution_count": 100,
      "metadata": {
        "id": "WnM0Ht9k-tao",
        "colab": {
          "base_uri": "https://localhost:8080/"
        },
        "outputId": "d4f2cc51-72bd-4523-80f6-50f4d27ae7ec"
      },
      "outputs": [
        {
          "output_type": "stream",
          "name": "stdout",
          "text": [
            "Precision: 1.0 Recall 0.5579710144927537\n"
          ]
        }
      ],
      "source": [
        "def precision_recall(y_test, y_pred):\n",
        "    cm = confusion_matrix(y_test, y_pred)\n",
        "    tp = cm[0,0]\n",
        "    fp = cm[0,1]\n",
        "    fn = cm[1,0]\n",
        "    prec = tp / (tp+fp)\n",
        "    rec = tp / (tp+fn)\n",
        "    return prec, rec\n",
        "\n",
        "precision, recall = precision_recall(y_test, yvotes)\n",
        "print(f'Precision: {precision} Recall {recall}')"
      ]
    },
    {
      "cell_type": "code",
      "execution_count": 101,
      "metadata": {
        "id": "cuFw_hPFZ-Jf",
        "colab": {
          "base_uri": "https://localhost:8080/"
        },
        "outputId": "edd88d1c-25d2-4103-ef2e-51cfdb5f8c82"
      },
      "outputs": [
        {
          "output_type": "execute_result",
          "data": {
            "text/plain": [
              "np.float64(0.7162790697674419)"
            ]
          },
          "metadata": {},
          "execution_count": 101
        }
      ],
      "source": [
        "f1 = 2*(precision*recall)/(precision+recall)\n",
        "f1"
      ]
    },
    {
      "cell_type": "markdown",
      "metadata": {
        "id": "feVTGvRT18qn"
      },
      "source": [
        "# X. Prob averaging\n",
        "\n",
        "The second voting approach is not actually voting. Instead, take average of 4 raw probabilities and use result as final probability. Can then run that through threshold table.\n",
        "\n",
        "This is what the server is doing to get the \"Ensemble\" value."
      ]
    },
    {
      "cell_type": "code",
      "execution_count": 102,
      "metadata": {
        "id": "GfJSw7AS1A4Q"
      },
      "outputs": [],
      "source": [
        "avg_yraw = []\n",
        "for i in range(len(y_test)):\n",
        "  prob = (knn_raw[i]+logreg_raw[i]+lgb_raw[i]+ann_raw[i])/4\n",
        "  avg_yraw.append(prob)"
      ]
    },
    {
      "cell_type": "code",
      "execution_count": 103,
      "metadata": {
        "id": "Iw_BS19r1dFC"
      },
      "outputs": [],
      "source": [
        "result_df, fancy_df = threshold_results(np.linspace(0,1,19,endpoint=True), y_test, avg_yraw)"
      ]
    },
    {
      "cell_type": "markdown",
      "metadata": {
        "id": "oUh2Bh6T0acf"
      },
      "source": [
        "# XI. Stacking\n",
        "\n",
        "This is interesting in that it builds a whole separate model (a meta model) that takes the output of other base models, three in example below, and uses that as a row. So a row of 3 feature values, one from each of the base models.\n",
        "\n",
        "I kind of like it. The meta model learns how to combine the outputs of base models, e.g., when to weight KNN higher than LGB, etc.\n"
      ]
    },
    {
      "cell_type": "code",
      "execution_count": 104,
      "metadata": {
        "id": "dMtgikB00cdL"
      },
      "outputs": [],
      "source": [
        "from sklearn.ensemble import StackingClassifier\n",
        "\n",
        "estimators = [\n",
        "     ('knn', KNeighborsClassifier(15, algorithm='ball_tree', p=1, weights='distance')),\n",
        "    ('logreg', LogisticRegressionCV(Cs= 5, class_weight= None, cv= 5, max_iter= 500, solver= 'saga', penalty='l1', random_state=1234)),\n",
        "    ('lgb', LGBMClassifier(boosting_type= 'gbdt',\n",
        "                          class_weight= 'balanced',\n",
        "                          learning_rate= 0.3,\n",
        "                          max_depth= 5,\n",
        "                          min_child_samples= 10,\n",
        "                          n_estimators= 10,\n",
        "                          num_leaves= 7,\n",
        "                          random_state=1234),\n",
        "    )\n",
        "]\n",
        "final_estimator = LogisticRegressionCV(random_state=1234)   #this is choice for meta model\n",
        "clf = StackingClassifier(estimators=estimators, final_estimator=final_estimator)"
      ]
    },
    {
      "cell_type": "code",
      "execution_count": 105,
      "metadata": {
        "id": "WeVYuX2K3vaZ"
      },
      "outputs": [],
      "source": [
        "%%capture\n",
        "clf.fit(x_train, y_train)"
      ]
    },
    {
      "cell_type": "code",
      "execution_count": 106,
      "metadata": {
        "id": "ctgU56kc39bh",
        "colab": {
          "base_uri": "https://localhost:8080/",
          "height": 755
        },
        "outputId": "acba349a-a834-4d00-fd60-8fa4d18b66b5"
      },
      "outputs": [
        {
          "output_type": "stream",
          "name": "stderr",
          "text": [
            "/usr/local/lib/python3.11/dist-packages/sklearn/utils/deprecation.py:151: FutureWarning: 'force_all_finite' was renamed to 'ensure_all_finite' in 1.6 and will be removed in 1.8.\n",
            "  warnings.warn(\n",
            "/usr/local/lib/python3.11/dist-packages/sklearn/utils/validation.py:2732: UserWarning: X has feature names, but LogisticRegressionCV was fitted without feature names\n",
            "  warnings.warn(\n"
          ]
        },
        {
          "output_type": "execute_result",
          "data": {
            "text/plain": [
              "<pandas.io.formats.style.Styler at 0x794ad28494d0>"
            ],
            "text/html": [
              "<style type=\"text/css\">\n",
              "#T_71de4 th:not(.index_name) {\n",
              "  background-color: #800000;\n",
              "  color: white;\n",
              "  text-align: center;\n",
              "}\n",
              "#T_71de4_row0_col0, #T_71de4_row0_col1, #T_71de4_row0_col3, #T_71de4_row0_col5, #T_71de4_row1_col0, #T_71de4_row1_col1, #T_71de4_row1_col2, #T_71de4_row1_col3, #T_71de4_row1_col5, #T_71de4_row2_col0, #T_71de4_row2_col1, #T_71de4_row2_col2, #T_71de4_row2_col3, #T_71de4_row2_col5, #T_71de4_row3_col0, #T_71de4_row3_col1, #T_71de4_row3_col2, #T_71de4_row3_col3, #T_71de4_row3_col5, #T_71de4_row4_col0, #T_71de4_row4_col1, #T_71de4_row4_col2, #T_71de4_row4_col3, #T_71de4_row4_col5, #T_71de4_row5_col0, #T_71de4_row5_col1, #T_71de4_row5_col2, #T_71de4_row5_col3, #T_71de4_row5_col5, #T_71de4_row6_col0, #T_71de4_row6_col1, #T_71de4_row6_col2, #T_71de4_row6_col3, #T_71de4_row6_col5, #T_71de4_row7_col0, #T_71de4_row7_col1, #T_71de4_row7_col2, #T_71de4_row7_col3, #T_71de4_row7_col5, #T_71de4_row8_col0, #T_71de4_row8_col1, #T_71de4_row8_col2, #T_71de4_row8_col3, #T_71de4_row8_col5, #T_71de4_row9_col0, #T_71de4_row9_col1, #T_71de4_row9_col2, #T_71de4_row9_col3, #T_71de4_row9_col5, #T_71de4_row10_col0, #T_71de4_row10_col1, #T_71de4_row10_col2, #T_71de4_row10_col3, #T_71de4_row10_col5, #T_71de4_row11_col0, #T_71de4_row11_col1, #T_71de4_row11_col2, #T_71de4_row12_col0, #T_71de4_row12_col1, #T_71de4_row12_col2, #T_71de4_row12_col3, #T_71de4_row12_col5, #T_71de4_row13_col0, #T_71de4_row13_col1, #T_71de4_row13_col2, #T_71de4_row13_col3, #T_71de4_row13_col5, #T_71de4_row14_col0, #T_71de4_row14_col1, #T_71de4_row14_col2, #T_71de4_row14_col3, #T_71de4_row14_col5, #T_71de4_row15_col0, #T_71de4_row15_col1, #T_71de4_row15_col2, #T_71de4_row15_col3, #T_71de4_row15_col5, #T_71de4_row16_col0, #T_71de4_row16_col1, #T_71de4_row16_col2, #T_71de4_row16_col3, #T_71de4_row16_col5, #T_71de4_row17_col0, #T_71de4_row17_col2, #T_71de4_row17_col3, #T_71de4_row17_col5, #T_71de4_row18_col1, #T_71de4_row18_col2, #T_71de4_row18_col3, #T_71de4_row18_col5 {\n",
              "  border: 1px solid black;\n",
              "  width: 65px;\n",
              "  text-align: center;\n",
              "}\n",
              "#T_71de4_row0_col2, #T_71de4_row0_col4, #T_71de4_row1_col4, #T_71de4_row2_col4, #T_71de4_row3_col4, #T_71de4_row4_col4, #T_71de4_row5_col4, #T_71de4_row6_col4, #T_71de4_row7_col4, #T_71de4_row8_col4, #T_71de4_row9_col4, #T_71de4_row10_col4, #T_71de4_row11_col3, #T_71de4_row11_col4, #T_71de4_row11_col5, #T_71de4_row12_col4, #T_71de4_row13_col4, #T_71de4_row14_col4, #T_71de4_row15_col4, #T_71de4_row16_col4, #T_71de4_row17_col1, #T_71de4_row17_col4, #T_71de4_row18_col0, #T_71de4_row18_col4 {\n",
              "  background-color: pink;\n",
              "  border: 1px solid black;\n",
              "  width: 65px;\n",
              "  text-align: center;\n",
              "}\n",
              "</style>\n",
              "<table id=\"T_71de4\" class=\"dataframe\">\n",
              "  <thead>\n",
              "    <tr>\n",
              "      <th class=\"blank level0\" >&nbsp;</th>\n",
              "      <th id=\"T_71de4_level0_col0\" class=\"col_heading level0 col0\" >threshold</th>\n",
              "      <th id=\"T_71de4_level0_col1\" class=\"col_heading level0 col1\" >precision</th>\n",
              "      <th id=\"T_71de4_level0_col2\" class=\"col_heading level0 col2\" >recall</th>\n",
              "      <th id=\"T_71de4_level0_col3\" class=\"col_heading level0 col3\" >f1</th>\n",
              "      <th id=\"T_71de4_level0_col4\" class=\"col_heading level0 col4\" >auc</th>\n",
              "      <th id=\"T_71de4_level0_col5\" class=\"col_heading level0 col5\" >accuracy</th>\n",
              "    </tr>\n",
              "  </thead>\n",
              "  <tbody>\n",
              "    <tr>\n",
              "      <th id=\"T_71de4_level0_row0\" class=\"row_heading level0 row0\" >0</th>\n",
              "      <td id=\"T_71de4_row0_col0\" class=\"data row0 col0\" >0.00</td>\n",
              "      <td id=\"T_71de4_row0_col1\" class=\"data row0 col1\" >0.44</td>\n",
              "      <td id=\"T_71de4_row0_col2\" class=\"data row0 col2\" >1.00</td>\n",
              "      <td id=\"T_71de4_row0_col3\" class=\"data row0 col3\" >0.61</td>\n",
              "      <td id=\"T_71de4_row0_col4\" class=\"data row0 col4\" >0.86</td>\n",
              "      <td id=\"T_71de4_row0_col5\" class=\"data row0 col5\" >0.44</td>\n",
              "    </tr>\n",
              "    <tr>\n",
              "      <th id=\"T_71de4_level0_row1\" class=\"row_heading level0 row1\" >1</th>\n",
              "      <td id=\"T_71de4_row1_col0\" class=\"data row1 col0\" >0.06</td>\n",
              "      <td id=\"T_71de4_row1_col1\" class=\"data row1 col1\" >0.63</td>\n",
              "      <td id=\"T_71de4_row1_col2\" class=\"data row1 col2\" >0.85</td>\n",
              "      <td id=\"T_71de4_row1_col3\" class=\"data row1 col3\" >0.73</td>\n",
              "      <td id=\"T_71de4_row1_col4\" class=\"data row1 col4\" >0.86</td>\n",
              "      <td id=\"T_71de4_row1_col5\" class=\"data row1 col5\" >0.72</td>\n",
              "    </tr>\n",
              "    <tr>\n",
              "      <th id=\"T_71de4_level0_row2\" class=\"row_heading level0 row2\" >2</th>\n",
              "      <td id=\"T_71de4_row2_col0\" class=\"data row2 col0\" >0.11</td>\n",
              "      <td id=\"T_71de4_row2_col1\" class=\"data row2 col1\" >0.70</td>\n",
              "      <td id=\"T_71de4_row2_col2\" class=\"data row2 col2\" >0.84</td>\n",
              "      <td id=\"T_71de4_row2_col3\" class=\"data row2 col3\" >0.76</td>\n",
              "      <td id=\"T_71de4_row2_col4\" class=\"data row2 col4\" >0.86</td>\n",
              "      <td id=\"T_71de4_row2_col5\" class=\"data row2 col5\" >0.77</td>\n",
              "    </tr>\n",
              "    <tr>\n",
              "      <th id=\"T_71de4_level0_row3\" class=\"row_heading level0 row3\" >3</th>\n",
              "      <td id=\"T_71de4_row3_col0\" class=\"data row3 col0\" >0.17</td>\n",
              "      <td id=\"T_71de4_row3_col1\" class=\"data row3 col1\" >0.72</td>\n",
              "      <td id=\"T_71de4_row3_col2\" class=\"data row3 col2\" >0.82</td>\n",
              "      <td id=\"T_71de4_row3_col3\" class=\"data row3 col3\" >0.77</td>\n",
              "      <td id=\"T_71de4_row3_col4\" class=\"data row3 col4\" >0.86</td>\n",
              "      <td id=\"T_71de4_row3_col5\" class=\"data row3 col5\" >0.78</td>\n",
              "    </tr>\n",
              "    <tr>\n",
              "      <th id=\"T_71de4_level0_row4\" class=\"row_heading level0 row4\" >4</th>\n",
              "      <td id=\"T_71de4_row4_col0\" class=\"data row4 col0\" >0.22</td>\n",
              "      <td id=\"T_71de4_row4_col1\" class=\"data row4 col1\" >0.75</td>\n",
              "      <td id=\"T_71de4_row4_col2\" class=\"data row4 col2\" >0.79</td>\n",
              "      <td id=\"T_71de4_row4_col3\" class=\"data row4 col3\" >0.77</td>\n",
              "      <td id=\"T_71de4_row4_col4\" class=\"data row4 col4\" >0.86</td>\n",
              "      <td id=\"T_71de4_row4_col5\" class=\"data row4 col5\" >0.79</td>\n",
              "    </tr>\n",
              "    <tr>\n",
              "      <th id=\"T_71de4_level0_row5\" class=\"row_heading level0 row5\" >5</th>\n",
              "      <td id=\"T_71de4_row5_col0\" class=\"data row5 col0\" >0.28</td>\n",
              "      <td id=\"T_71de4_row5_col1\" class=\"data row5 col1\" >0.76</td>\n",
              "      <td id=\"T_71de4_row5_col2\" class=\"data row5 col2\" >0.79</td>\n",
              "      <td id=\"T_71de4_row5_col3\" class=\"data row5 col3\" >0.77</td>\n",
              "      <td id=\"T_71de4_row5_col4\" class=\"data row5 col4\" >0.86</td>\n",
              "      <td id=\"T_71de4_row5_col5\" class=\"data row5 col5\" >0.80</td>\n",
              "    </tr>\n",
              "    <tr>\n",
              "      <th id=\"T_71de4_level0_row6\" class=\"row_heading level0 row6\" >6</th>\n",
              "      <td id=\"T_71de4_row6_col0\" class=\"data row6 col0\" >0.33</td>\n",
              "      <td id=\"T_71de4_row6_col1\" class=\"data row6 col1\" >0.76</td>\n",
              "      <td id=\"T_71de4_row6_col2\" class=\"data row6 col2\" >0.79</td>\n",
              "      <td id=\"T_71de4_row6_col3\" class=\"data row6 col3\" >0.77</td>\n",
              "      <td id=\"T_71de4_row6_col4\" class=\"data row6 col4\" >0.86</td>\n",
              "      <td id=\"T_71de4_row6_col5\" class=\"data row6 col5\" >0.80</td>\n",
              "    </tr>\n",
              "    <tr>\n",
              "      <th id=\"T_71de4_level0_row7\" class=\"row_heading level0 row7\" >7</th>\n",
              "      <td id=\"T_71de4_row7_col0\" class=\"data row7 col0\" >0.39</td>\n",
              "      <td id=\"T_71de4_row7_col1\" class=\"data row7 col1\" >0.75</td>\n",
              "      <td id=\"T_71de4_row7_col2\" class=\"data row7 col2\" >0.75</td>\n",
              "      <td id=\"T_71de4_row7_col3\" class=\"data row7 col3\" >0.75</td>\n",
              "      <td id=\"T_71de4_row7_col4\" class=\"data row7 col4\" >0.86</td>\n",
              "      <td id=\"T_71de4_row7_col5\" class=\"data row7 col5\" >0.78</td>\n",
              "    </tr>\n",
              "    <tr>\n",
              "      <th id=\"T_71de4_level0_row8\" class=\"row_heading level0 row8\" >8</th>\n",
              "      <td id=\"T_71de4_row8_col0\" class=\"data row8 col0\" >0.44</td>\n",
              "      <td id=\"T_71de4_row8_col1\" class=\"data row8 col1\" >0.79</td>\n",
              "      <td id=\"T_71de4_row8_col2\" class=\"data row8 col2\" >0.75</td>\n",
              "      <td id=\"T_71de4_row8_col3\" class=\"data row8 col3\" >0.77</td>\n",
              "      <td id=\"T_71de4_row8_col4\" class=\"data row8 col4\" >0.86</td>\n",
              "      <td id=\"T_71de4_row8_col5\" class=\"data row8 col5\" >0.80</td>\n",
              "    </tr>\n",
              "    <tr>\n",
              "      <th id=\"T_71de4_level0_row9\" class=\"row_heading level0 row9\" >9</th>\n",
              "      <td id=\"T_71de4_row9_col0\" class=\"data row9 col0\" >0.50</td>\n",
              "      <td id=\"T_71de4_row9_col1\" class=\"data row9 col1\" >0.79</td>\n",
              "      <td id=\"T_71de4_row9_col2\" class=\"data row9 col2\" >0.75</td>\n",
              "      <td id=\"T_71de4_row9_col3\" class=\"data row9 col3\" >0.77</td>\n",
              "      <td id=\"T_71de4_row9_col4\" class=\"data row9 col4\" >0.86</td>\n",
              "      <td id=\"T_71de4_row9_col5\" class=\"data row9 col5\" >0.80</td>\n",
              "    </tr>\n",
              "    <tr>\n",
              "      <th id=\"T_71de4_level0_row10\" class=\"row_heading level0 row10\" >10</th>\n",
              "      <td id=\"T_71de4_row10_col0\" class=\"data row10 col0\" >0.56</td>\n",
              "      <td id=\"T_71de4_row10_col1\" class=\"data row10 col1\" >0.79</td>\n",
              "      <td id=\"T_71de4_row10_col2\" class=\"data row10 col2\" >0.75</td>\n",
              "      <td id=\"T_71de4_row10_col3\" class=\"data row10 col3\" >0.77</td>\n",
              "      <td id=\"T_71de4_row10_col4\" class=\"data row10 col4\" >0.86</td>\n",
              "      <td id=\"T_71de4_row10_col5\" class=\"data row10 col5\" >0.80</td>\n",
              "    </tr>\n",
              "    <tr>\n",
              "      <th id=\"T_71de4_level0_row11\" class=\"row_heading level0 row11\" >11</th>\n",
              "      <td id=\"T_71de4_row11_col0\" class=\"data row11 col0\" >0.61</td>\n",
              "      <td id=\"T_71de4_row11_col1\" class=\"data row11 col1\" >0.82</td>\n",
              "      <td id=\"T_71de4_row11_col2\" class=\"data row11 col2\" >0.75</td>\n",
              "      <td id=\"T_71de4_row11_col3\" class=\"data row11 col3\" >0.79</td>\n",
              "      <td id=\"T_71de4_row11_col4\" class=\"data row11 col4\" >0.86</td>\n",
              "      <td id=\"T_71de4_row11_col5\" class=\"data row11 col5\" >0.82</td>\n",
              "    </tr>\n",
              "    <tr>\n",
              "      <th id=\"T_71de4_level0_row12\" class=\"row_heading level0 row12\" >12</th>\n",
              "      <td id=\"T_71de4_row12_col0\" class=\"data row12 col0\" >0.67</td>\n",
              "      <td id=\"T_71de4_row12_col1\" class=\"data row12 col1\" >0.82</td>\n",
              "      <td id=\"T_71de4_row12_col2\" class=\"data row12 col2\" >0.74</td>\n",
              "      <td id=\"T_71de4_row12_col3\" class=\"data row12 col3\" >0.78</td>\n",
              "      <td id=\"T_71de4_row12_col4\" class=\"data row12 col4\" >0.86</td>\n",
              "      <td id=\"T_71de4_row12_col5\" class=\"data row12 col5\" >0.81</td>\n",
              "    </tr>\n",
              "    <tr>\n",
              "      <th id=\"T_71de4_level0_row13\" class=\"row_heading level0 row13\" >13</th>\n",
              "      <td id=\"T_71de4_row13_col0\" class=\"data row13 col0\" >0.72</td>\n",
              "      <td id=\"T_71de4_row13_col1\" class=\"data row13 col1\" >0.81</td>\n",
              "      <td id=\"T_71de4_row13_col2\" class=\"data row13 col2\" >0.70</td>\n",
              "      <td id=\"T_71de4_row13_col3\" class=\"data row13 col3\" >0.75</td>\n",
              "      <td id=\"T_71de4_row13_col4\" class=\"data row13 col4\" >0.86</td>\n",
              "      <td id=\"T_71de4_row13_col5\" class=\"data row13 col5\" >0.80</td>\n",
              "    </tr>\n",
              "    <tr>\n",
              "      <th id=\"T_71de4_level0_row14\" class=\"row_heading level0 row14\" >14</th>\n",
              "      <td id=\"T_71de4_row14_col0\" class=\"data row14 col0\" >0.78</td>\n",
              "      <td id=\"T_71de4_row14_col1\" class=\"data row14 col1\" >0.84</td>\n",
              "      <td id=\"T_71de4_row14_col2\" class=\"data row14 col2\" >0.69</td>\n",
              "      <td id=\"T_71de4_row14_col3\" class=\"data row14 col3\" >0.76</td>\n",
              "      <td id=\"T_71de4_row14_col4\" class=\"data row14 col4\" >0.86</td>\n",
              "      <td id=\"T_71de4_row14_col5\" class=\"data row14 col5\" >0.80</td>\n",
              "    </tr>\n",
              "    <tr>\n",
              "      <th id=\"T_71de4_level0_row15\" class=\"row_heading level0 row15\" >15</th>\n",
              "      <td id=\"T_71de4_row15_col0\" class=\"data row15 col0\" >0.83</td>\n",
              "      <td id=\"T_71de4_row15_col1\" class=\"data row15 col1\" >0.84</td>\n",
              "      <td id=\"T_71de4_row15_col2\" class=\"data row15 col2\" >0.67</td>\n",
              "      <td id=\"T_71de4_row15_col3\" class=\"data row15 col3\" >0.75</td>\n",
              "      <td id=\"T_71de4_row15_col4\" class=\"data row15 col4\" >0.86</td>\n",
              "      <td id=\"T_71de4_row15_col5\" class=\"data row15 col5\" >0.80</td>\n",
              "    </tr>\n",
              "    <tr>\n",
              "      <th id=\"T_71de4_level0_row16\" class=\"row_heading level0 row16\" >16</th>\n",
              "      <td id=\"T_71de4_row16_col0\" class=\"data row16 col0\" >0.89</td>\n",
              "      <td id=\"T_71de4_row16_col1\" class=\"data row16 col1\" >0.85</td>\n",
              "      <td id=\"T_71de4_row16_col2\" class=\"data row16 col2\" >0.66</td>\n",
              "      <td id=\"T_71de4_row16_col3\" class=\"data row16 col3\" >0.74</td>\n",
              "      <td id=\"T_71de4_row16_col4\" class=\"data row16 col4\" >0.86</td>\n",
              "      <td id=\"T_71de4_row16_col5\" class=\"data row16 col5\" >0.80</td>\n",
              "    </tr>\n",
              "    <tr>\n",
              "      <th id=\"T_71de4_level0_row17\" class=\"row_heading level0 row17\" >17</th>\n",
              "      <td id=\"T_71de4_row17_col0\" class=\"data row17 col0\" >0.94</td>\n",
              "      <td id=\"T_71de4_row17_col1\" class=\"data row17 col1\" >0.86</td>\n",
              "      <td id=\"T_71de4_row17_col2\" class=\"data row17 col2\" >0.59</td>\n",
              "      <td id=\"T_71de4_row17_col3\" class=\"data row17 col3\" >0.70</td>\n",
              "      <td id=\"T_71de4_row17_col4\" class=\"data row17 col4\" >0.86</td>\n",
              "      <td id=\"T_71de4_row17_col5\" class=\"data row17 col5\" >0.78</td>\n",
              "    </tr>\n",
              "    <tr>\n",
              "      <th id=\"T_71de4_level0_row18\" class=\"row_heading level0 row18\" >18</th>\n",
              "      <td id=\"T_71de4_row18_col0\" class=\"data row18 col0\" >1.00</td>\n",
              "      <td id=\"T_71de4_row18_col1\" class=\"data row18 col1\" >0.00</td>\n",
              "      <td id=\"T_71de4_row18_col2\" class=\"data row18 col2\" >0.00</td>\n",
              "      <td id=\"T_71de4_row18_col3\" class=\"data row18 col3\" >0.00</td>\n",
              "      <td id=\"T_71de4_row18_col4\" class=\"data row18 col4\" >0.86</td>\n",
              "      <td id=\"T_71de4_row18_col5\" class=\"data row18 col5\" >0.56</td>\n",
              "    </tr>\n",
              "  </tbody>\n",
              "</table>\n"
            ]
          },
          "metadata": {},
          "execution_count": 106
        }
      ],
      "source": [
        "yraw = clf.predict_proba(x_test)[:,1]\n",
        "result_df, fancy_df = threshold_results(np.linspace(0,1,19,endpoint=True), y_test, yraw)\n",
        "fancy_df"
      ]
    },
    {
      "cell_type": "markdown",
      "metadata": {
        "id": "1dPcoUS7R1nV"
      },
      "source": [
        "<img src='https://www.dropbox.com/scl/fi/zilmy2diy1lg1tva9vurx/Screenshot-2025-02-07-at-8.38.53-AM.png?rlkey=006szbv5t0daha005eotxt9k2&raw=1' height=400>"
      ]
    }
  ],
  "metadata": {
    "colab": {
      "collapsed_sections": [
        "SXGHYrCpjLXl"
      ],
      "provenance": []
    },
    "kernelspec": {
      "display_name": "cs523",
      "language": "python",
      "name": "python3"
    },
    "language_info": {
      "codemirror_mode": {
        "name": "ipython",
        "version": 3
      },
      "file_extension": ".py",
      "mimetype": "text/x-python",
      "name": "python",
      "nbconvert_exporter": "python",
      "pygments_lexer": "ipython3",
      "version": "3.12.11"
    }
  },
  "nbformat": 4,
  "nbformat_minor": 0
}