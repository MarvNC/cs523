{
  "cells": [
    {
      "cell_type": "markdown",
      "metadata": {
        "id": "IkkU_68T1yAa"
      },
      "source": [
        "# Announcement\n",
        "\n",
        "As with wrangling, I switched this notebook over to use the Titanic dataset for consistency. The video uses the Pima dataset.\n",
        "\n",
        "The video ends rather abuptly. I hope the notebook is clear and what you need to do.\n",
        "\n",
        "One thing I introduce is Upsampling. I promised I would do this way back in Chapter 2. I do not expect you to use it but thought it was worth demonstrating.\n",
        "\n",
        "I also provide an optional make-up problem for you to get points back.\n",
        "\n",
        "At the end of the notebook, I explore several ways of combining the four models. The most sophisticated is something called stacking. In essence we build a meta-model that we train with the output of the existing models. So this meta-model attempts to learn how to interpret the existing models' output."
      ]
    },
    {
      "cell_type": "markdown",
      "metadata": {
        "id": "bzDiYMkiYgRS"
      },
      "source": [
        "<center>\n",
        "<h1>Training and Tuning</h1>\n",
        "</center>\n",
        "\n",
        "<hr>\n",
        "\n",
        "Once you are done here, you are ready to start playing with your server. Cool."
      ]
    },
    {
      "cell_type": "markdown",
      "metadata": {
        "id": "v_cK-F4Az4XG"
      },
      "source": [
        "# How long does it take?\n",
        "\n",
        "I think tuning time is the biggest issue for you now.\n",
        "Using Pima data (training set = 614 rows) and what I consider an ok set of parameters to tune, this notebook takes me roughly 3 hours.\n",
        "\n",
        "Take away is that as you tune each model, be aware that you might need to leave it running while you do something else.\n",
        "\n",
        "The good news is that each model-tuning step is independent. Once you tune model X and save to GitHub, you are done with model X and can move on to model Y. The bad news is that if your dataset is larger, e.g., 5K rows, you can expect an increase in my times.\n",
        "\n",
        "The further bad news is that there is not an easy way to get a progress bar with HalvingSearch. So if you wait 30 minutes, you don't know if you are almost done or will take another 4 hours.\n",
        "\n",
        "Here are some strategies to consider:\n",
        "\n",
        "1. Use incremental tuning. Tune some subset of params. Get best values and fix them. Then take on new subset using fixed values from past. You can use this strategy with both halving search and keras tuner.\n",
        "\n",
        "2. I have factor=3. You could increase it to reduce wait time. But my experimentation tells me you may not gain that much.\n",
        "\n",
        "3. For keras_tuner, it's easier. You can play around with `max_trials`. Set it small to start, e.g., 5. You can count on linearity here. If 5 trials takes 10 minutes, 50 likely to take 100 minutes."
      ]
    },
    {
      "cell_type": "markdown",
      "metadata": {
        "id": "bZiquu_S3vZG"
      },
      "source": [
        "## Set-up\n",
        "\n",
        "First bring in your library."
      ]
    },
    {
      "cell_type": "code",
      "execution_count": 1,
      "metadata": {
        "colab": {
          "base_uri": "https://localhost:8080/"
        },
        "id": "AZ6MOQmuVewi",
        "outputId": "4289e391-1db7-4aca-fbc9-aa1513176a0b"
      },
      "outputs": [],
      "source": [
        "github_name = 'marvnc'\n",
        "repo_name = 'cs523'\n",
        "source_file = 'library.py'\n",
        "url = f'https://raw.githubusercontent.com/{github_name}/{repo_name}/main/{source_file}'\n",
        "# !rm $source_file\n",
        "# !wget $url\n",
        "# %run -i $source_file\n",
        "from library import *"
      ]
    },
    {
      "cell_type": "markdown",
      "metadata": {
        "id": "wXWcOKJN4y82"
      },
      "source": [
        "## You need to change this url to point to your own dataset\n",
        "\n",
        "And good idea to rename variables using \"titanic\" to something closer to your dataset."
      ]
    },
    {
      "cell_type": "code",
      "execution_count": 2,
      "metadata": {
        "colab": {
          "base_uri": "https://localhost:8080/",
          "height": 206
        },
        "id": "ZVTLBYampYbo",
        "outputId": "abc0776f-62a8-4bbc-ec1a-c960a345d33d"
      },
      "outputs": [
        {
          "data": {
            "text/html": [
              "<div>\n",
              "<style scoped>\n",
              "    .dataframe tbody tr th:only-of-type {\n",
              "        vertical-align: middle;\n",
              "    }\n",
              "\n",
              "    .dataframe tbody tr th {\n",
              "        vertical-align: top;\n",
              "    }\n",
              "\n",
              "    .dataframe thead th {\n",
              "        text-align: right;\n",
              "    }\n",
              "</style>\n",
              "<table border=\"1\" class=\"dataframe\">\n",
              "  <thead>\n",
              "    <tr style=\"text-align: right;\">\n",
              "      <th></th>\n",
              "      <th>Gender</th>\n",
              "      <th>Age</th>\n",
              "      <th>Debt</th>\n",
              "      <th>YearsEmployed</th>\n",
              "      <th>PriorDefault</th>\n",
              "      <th>Employed</th>\n",
              "      <th>CreditScore</th>\n",
              "      <th>DriversLicense</th>\n",
              "      <th>Income</th>\n",
              "      <th>Approved</th>\n",
              "    </tr>\n",
              "  </thead>\n",
              "  <tbody>\n",
              "    <tr>\n",
              "      <th>0</th>\n",
              "      <td>1</td>\n",
              "      <td>30.83</td>\n",
              "      <td>0.000</td>\n",
              "      <td>1.25</td>\n",
              "      <td>1</td>\n",
              "      <td>1</td>\n",
              "      <td>1</td>\n",
              "      <td>0</td>\n",
              "      <td>0</td>\n",
              "      <td>1</td>\n",
              "    </tr>\n",
              "    <tr>\n",
              "      <th>1</th>\n",
              "      <td>0</td>\n",
              "      <td>58.67</td>\n",
              "      <td>4.460</td>\n",
              "      <td>3.04</td>\n",
              "      <td>1</td>\n",
              "      <td>1</td>\n",
              "      <td>6</td>\n",
              "      <td>0</td>\n",
              "      <td>560</td>\n",
              "      <td>1</td>\n",
              "    </tr>\n",
              "    <tr>\n",
              "      <th>2</th>\n",
              "      <td>0</td>\n",
              "      <td>24.50</td>\n",
              "      <td>0.500</td>\n",
              "      <td>1.50</td>\n",
              "      <td>1</td>\n",
              "      <td>0</td>\n",
              "      <td>0</td>\n",
              "      <td>0</td>\n",
              "      <td>824</td>\n",
              "      <td>1</td>\n",
              "    </tr>\n",
              "    <tr>\n",
              "      <th>3</th>\n",
              "      <td>1</td>\n",
              "      <td>27.83</td>\n",
              "      <td>1.540</td>\n",
              "      <td>3.75</td>\n",
              "      <td>1</td>\n",
              "      <td>1</td>\n",
              "      <td>5</td>\n",
              "      <td>1</td>\n",
              "      <td>3</td>\n",
              "      <td>1</td>\n",
              "    </tr>\n",
              "    <tr>\n",
              "      <th>4</th>\n",
              "      <td>1</td>\n",
              "      <td>20.17</td>\n",
              "      <td>5.625</td>\n",
              "      <td>1.71</td>\n",
              "      <td>1</td>\n",
              "      <td>0</td>\n",
              "      <td>0</td>\n",
              "      <td>0</td>\n",
              "      <td>0</td>\n",
              "      <td>1</td>\n",
              "    </tr>\n",
              "  </tbody>\n",
              "</table>\n",
              "</div>"
            ],
            "text/plain": [
              "   Gender    Age   Debt  YearsEmployed  PriorDefault  Employed  CreditScore  \\\n",
              "0       1  30.83  0.000           1.25             1         1            1   \n",
              "1       0  58.67  4.460           3.04             1         1            6   \n",
              "2       0  24.50  0.500           1.50             1         0            0   \n",
              "3       1  27.83  1.540           3.75             1         1            5   \n",
              "4       1  20.17  5.625           1.71             1         0            0   \n",
              "\n",
              "   DriversLicense  Income  Approved  \n",
              "0               0       0         1  \n",
              "1               0     560         1  \n",
              "2               0     824         1  \n",
              "3               1       3         1  \n",
              "4               0       0         1  "
            ]
          },
          "execution_count": 2,
          "metadata": {},
          "output_type": "execute_result"
        }
      ],
      "source": [
        "# url = 'https://raw.githubusercontent.com/fickas/asynch_models/main/datasets/titanic_trimmed.csv'  #trimmed version\n",
        "url = 'https://raw.githubusercontent.com/MarvNC/cs523/refs/heads/main/s25_final_cc_approvals_reduced.csv'\n",
        "\n",
        "approvals_trimmed = pd.read_csv(url)\n",
        "approvals_trimmed.head()\n"
      ]
    },
    {
      "cell_type": "code",
      "execution_count": 3,
      "metadata": {
        "colab": {
          "base_uri": "https://localhost:8080/"
        },
        "id": "YvZy9mwFVrGf",
        "outputId": "39a8b77c-54f5-4590-c519-65d06499b413"
      },
      "outputs": [
        {
          "data": {
            "text/plain": [
              "690"
            ]
          },
          "execution_count": 3,
          "metadata": {},
          "output_type": "execute_result"
        }
      ],
      "source": [
        "len(approvals_trimmed)"
      ]
    },
    {
      "cell_type": "markdown",
      "metadata": {
        "id": "zIHq9aUHNcxo"
      },
      "source": [
        "# Break out into features and labels\n",
        "\n"
      ]
    },
    {
      "cell_type": "code",
      "execution_count": 4,
      "metadata": {
        "id": "nH0g0IVGauIa"
      },
      "outputs": [],
      "source": [
        "target_col = 'Approved'\n",
        "\n",
        "approvals_features = approvals_trimmed.drop(columns=target_col)\n",
        "labels = approvals_trimmed[target_col].to_list()"
      ]
    },
    {
      "cell_type": "code",
      "execution_count": 5,
      "metadata": {
        "colab": {
          "base_uri": "https://localhost:8080/"
        },
        "id": "sdQPZk3nU9cY",
        "outputId": "44b6d5c3-0900-4a89-caf6-4e6366f9b86f"
      },
      "outputs": [
        {
          "data": {
            "text/plain": [
              "0.4449275362318841"
            ]
          },
          "execution_count": 5,
          "metadata": {},
          "output_type": "execute_result"
        }
      ],
      "source": [
        "labels.count(1)/len(labels)"
      ]
    },
    {
      "cell_type": "markdown",
      "metadata": {
        "id": "2kXjRgNa2gnR"
      },
      "source": [
        "## Load pipeline from Wrangling notebook\n",
        "\n",
        "You will be doing this exact same thing in the server."
      ]
    },
    {
      "cell_type": "code",
      "execution_count": 6,
      "metadata": {
        "colab": {
          "base_uri": "https://localhost:8080/"
        },
        "id": "kauuG1GQ7au-",
        "outputId": "f04ef87f-3880-41ef-d1ea-4a52819bbb73"
      },
      "outputs": [
        {
          "name": "stdout",
          "output_type": "stream",
          "text": [
            "--2025-06-05 22:09:38--  https://github.com/MarvNC/cs523/raw/refs/heads/main/s25_final_fully_fitted_pipeline.pkl\n",
            "Resolving github.com (github.com)... 140.82.116.4\n",
            "Connecting to github.com (github.com)|140.82.116.4|:443... connected.\n",
            "HTTP request sent, awaiting response... 302 Found\n",
            "Location: https://raw.githubusercontent.com/MarvNC/cs523/refs/heads/main/s25_final_fully_fitted_pipeline.pkl [following]\n",
            "--2025-06-05 22:09:39--  https://raw.githubusercontent.com/MarvNC/cs523/refs/heads/main/s25_final_fully_fitted_pipeline.pkl\n",
            "Resolving raw.githubusercontent.com (raw.githubusercontent.com)... 185.199.108.133, 185.199.109.133, 185.199.110.133, ...\n",
            "Connecting to raw.githubusercontent.com (raw.githubusercontent.com)|185.199.108.133|:443... connected.\n",
            "HTTP request sent, awaiting response... 200 OK\n",
            "Length: 1327 (1.3K) [application/octet-stream]\n",
            "Saving to: ‘s25_final_fully_fitted_pipeline.pkl’\n",
            "\n",
            "s25_final_fully_fit 100%[===================>]   1.30K  --.-KB/s    in 0s      \n",
            "\n",
            "2025-06-05 22:09:39 (154 MB/s) - ‘s25_final_fully_fitted_pipeline.pkl’ saved [1327/1327]\n",
            "\n"
          ]
        }
      ],
      "source": [
        "import joblib\n",
        "\n",
        "# model_path = 'MarvNC/cs523/s25_'\n",
        "full_path = f'https://github.com/MarvNC/cs523/raw/refs/heads/main/s25_final_fully_fitted_pipeline.pkl'\n",
        "!rm 's25_final_fully_fitted_pipeline.pkl'\n",
        "!wget $full_path\n",
        "titanic_transformer = joblib.load(\"s25_final_fully_fitted_pipeline.pkl\")\n"
      ]
    },
    {
      "cell_type": "markdown",
      "metadata": {
        "id": "MElaQCi6qhnZ"
      },
      "source": [
        "# Step I. Break into numpy datasets"
      ]
    },
    {
      "cell_type": "code",
      "execution_count": 7,
      "metadata": {
        "id": "g5XN6ImKT1qn"
      },
      "outputs": [],
      "source": [
        "%%capture\n",
        "# rs = 74 #what you computed in wrangling notebook\n",
        "rs = approvals_variance_based_split\n",
        "# label_column = 'Survived'  #change to name of your label column\n",
        "label_column = target_col\n",
        "\n",
        "x_train,  x_test, y_train,  y_test = dataset_setup(approvals_trimmed, label_column, titanic_transformer, rs=rs)"
      ]
    },
    {
      "cell_type": "code",
      "execution_count": 8,
      "metadata": {
        "colab": {
          "base_uri": "https://localhost:8080/"
        },
        "id": "ML3-iCwB0aHy",
        "outputId": "2d8cfbc8-8c58-4c7f-f3d5-1bd014ff6456"
      },
      "outputs": [
        {
          "data": {
            "text/plain": [
              "552"
            ]
          },
          "execution_count": 8,
          "metadata": {},
          "output_type": "execute_result"
        }
      ],
      "source": [
        "len(x_train)"
      ]
    },
    {
      "cell_type": "markdown",
      "metadata": {
        "id": "v7gaAYxB0ElV"
      },
      "source": [
        "# II. Upsampling\n",
        "\n",
        "In Chapter 2 I removed duplicates, giving us unique rows. However, it did shrink the table down to roughly 1000. I noted I would show you a way to build the table back up. I am going to use a popular method called SMOTE (Synthetic Minority Over-sampling Technique). I'll show you how to use it even though I do not expect you will need it here. But could come in handy later in your career.\n",
        "\n",
        "Note that I am only applying it to the training data. I'd like to keep the test data pure: augment training, let test data stand.\n",
        "\n",
        "You can find plenty of tutorials on SMOTE. Briefly, it generates new rows by\n",
        "using existing rows as starting places and then interpolating values. So it\n",
        "does not duplicate rows but tries to give you similar rows."
      ]
    },
    {
      "cell_type": "code",
      "execution_count": 10,
      "metadata": {
        "colab": {
          "base_uri": "https://localhost:8080/"
        },
        "id": "jC-dGcVF0zz0",
        "outputId": "5287c0a4-b9f6-4f85-b92b-d2924696275c"
      },
      "outputs": [
        {
          "name": "stdout",
          "output_type": "stream",
          "text": [
            "New class distribution:\n",
            "Class 0: 1108 (55.43%)\n",
            "Class 1: 891 (44.57%)\n",
            "Total samples: 1999\n"
          ]
        }
      ],
      "source": [
        "from imblearn.over_sampling import SMOTE\n",
        "\n",
        "# Calculate target numbers for 3000 total samples\n",
        "target_total = 2000\n",
        "pos_count = np.sum(y_train == 1)/len(y_train)\n",
        "neg_count = np.sum(y_train == 0)/len(y_train)\n",
        "target_0 = int(neg_count * target_total)  # 1950 samples\n",
        "target_1 = int(pos_count * target_total)  # 1050 samples\n",
        "\n",
        "# Create SMOTE instance with specified sampling strategy\n",
        "smote = SMOTE(sampling_strategy={0: target_0, 1: target_1}, random_state=42)\n",
        "x_resampled, y_resampled = smote.fit_resample(x_train, y_train)  #requires transformed data - cannot handle categorical columns\n",
        "\n",
        "# Verify the new distribution\n",
        "print(\"New class distribution:\")\n",
        "print(f\"Class 0: {sum(y_resampled == 0)} ({sum(y_resampled == 0)/len(y_resampled):.2%})\")\n",
        "print(f\"Class 1: {sum(y_resampled == 1)} ({sum(y_resampled == 1)/len(y_resampled):.2%})\")\n",
        "print(f\"Total samples: {len(y_resampled)}\")"
      ]
    },
    {
      "cell_type": "code",
      "execution_count": 11,
      "metadata": {
        "id": "wZTVewpE4qBi"
      },
      "outputs": [],
      "source": [
        "#Uncomment if you want to use upsampled data\n",
        "\n",
        "x_train= x_resampled\n",
        "y_train = y_resampled\n",
        "\n",
        "# Prof said to upsample to 2k"
      ]
    },
    {
      "cell_type": "markdown",
      "metadata": {
        "id": "9Afm0d0Cp4XN"
      },
      "source": [
        "# III. Setup Lime\n",
        "\n",
        "Reminder: Lime will help us explain to the user why we come up with the predictions we do."
      ]
    },
    {
      "cell_type": "code",
      "execution_count": 13,
      "metadata": {
        "id": "3S-Te5VSvMgV"
      },
      "outputs": [],
      "source": [
        "%%capture\n",
        "# !pip install lime"
      ]
    },
    {
      "cell_type": "code",
      "execution_count": 14,
      "metadata": {
        "id": "6tcUkahpax_Y"
      },
      "outputs": [],
      "source": [
        "import lime\n",
        "from lime import lime_tabular"
      ]
    },
    {
      "cell_type": "code",
      "execution_count": 15,
      "metadata": {
        "colab": {
          "base_uri": "https://localhost:8080/"
        },
        "id": "-zZk9bCU5OqU",
        "outputId": "0537bfd8-8383-4049-e324-e80f96e7e603"
      },
      "outputs": [
        {
          "name": "stdout",
          "output_type": "stream",
          "text": [
            "['Gender', 'Age', 'Debt', 'YearsEmployed', 'PriorDefault', 'Employed', 'CreditScore', 'DriversLicense', 'Income']\n"
          ]
        }
      ],
      "source": [
        "feature_names = approvals_features.columns.to_list()\n",
        "print(feature_names)"
      ]
    },
    {
      "cell_type": "markdown",
      "metadata": {
        "id": "Q68oGAkzHwFp"
      },
      "source": [
        "### Set up the explainer before using"
      ]
    },
    {
      "cell_type": "code",
      "execution_count": 16,
      "metadata": {
        "id": "7W0wZRRJWP7t"
      },
      "outputs": [],
      "source": [
        "explainer = lime.lime_tabular.LimeTabularExplainer(x_train,\n",
        "                    feature_names=feature_names,\n",
        "                    training_labels=y_train,\n",
        "                    class_names=[0,1], #label values\n",
        "                    verbose=True,\n",
        "                    mode='classification')\n",
        "\n"
      ]
    },
    {
      "cell_type": "markdown",
      "metadata": {
        "id": "jGVwZoX6rBMr"
      },
      "source": [
        "# IV. Write out to file\n",
        "\n",
        "And move to GitHub."
      ]
    },
    {
      "cell_type": "code",
      "execution_count": null,
      "metadata": {
        "colab": {
          "base_uri": "https://localhost:8080/"
        },
        "id": "sVkCBYW69d0_",
        "outputId": "55a5bfa6-875a-47ad-ba7d-430d1b1cfa4e"
      },
      "outputs": [
        {
          "name": "stdout",
          "output_type": "stream",
          "text": [
            "Collecting dill\n",
            "  Downloading dill-0.4.0-py3-none-any.whl.metadata (10 kB)\n",
            "Downloading dill-0.4.0-py3-none-any.whl (119 kB)\n",
            "Installing collected packages: dill\n",
            "Successfully installed dill-0.4.0\n"
          ]
        }
      ],
      "source": [
        "# !pip install dill\n",
        "import dill as pickle\n",
        "with open('lime_explainer.pkl', 'wb') as file:\n",
        "    pickle.dump(explainer, file)\n",
        "\n",
        "#read it back in just as a test\n",
        "with open('lime_explainer.pkl', 'rb') as file:   #this will be in your webserver\n",
        "    explainer2 = pickle.load(file)"
      ]
    },
    {
      "cell_type": "markdown",
      "metadata": {
        "id": "mYoYsSCO9wso"
      },
      "source": [
        "# Minimal help from me with remainder of notebook\n",
        "\n",
        "I can remind you of the steps you need for each model's tuning:\n",
        "\n",
        "1. If using halving search, set up grid. If using Optuna, then set up model builder with hp code. With Optuna, will also need to define a validation set.\n",
        "\n",
        "2. Get the best model found by tuning.\n",
        "\n",
        "3. Run it on test set.\n",
        "\n",
        "4. Produce threshold table.\n",
        "\n",
        "5. Save both best model and threshold table out to GitHub so can load them back in with server.\n",
        "\n",
        "I would avoid Run All here. Each notebook can be tuned separately, really in any order. But once you finish steps above for one model, you don't want to waste time and repeat them."
      ]
    },
    {
      "cell_type": "markdown",
      "metadata": {
        "id": "GGD6ssbwd-DF"
      },
      "source": [
        "# V. KNN tuning\n",
        "\n"
      ]
    },
    {
      "cell_type": "code",
      "execution_count": 18,
      "metadata": {
        "id": "VkYLeNXHz9Gx"
      },
      "outputs": [],
      "source": [
        "from sklearn.neighbors import KNeighborsClassifier\n",
        "from sklearn.metrics import roc_auc_score"
      ]
    },
    {
      "cell_type": "markdown",
      "metadata": {
        "id": "HxOsVk-yrslG"
      },
      "source": [
        "### Follow the steps"
      ]
    },
    {
      "cell_type": "code",
      "execution_count": 29,
      "metadata": {
        "id": "R4qOZb8O_bfR"
      },
      "outputs": [
        {
          "data": {
            "text/plain": [
              "{'algorithm': ['auto', 'ball_tree', 'brute', 'kd_tree'],\n",
              " 'n_neighbors': [5, 15, 25, 35, 45],\n",
              " 'p': [1, 2],\n",
              " 'weights': ['distance', 'uniform']}"
            ]
          },
          "execution_count": 29,
          "metadata": {},
          "output_type": "execute_result"
        }
      ],
      "source": [
        "knn_grid_raw = dict(n_neighbors=range(5,50,10),\n",
        "                weights=('distance', 'uniform'),\n",
        "                algorithm=('brute', 'kd_tree', 'ball_tree', 'auto'),\n",
        "                p=(2,1)  #When p=1, manhattan_distance, when p=2 euclidean_distance.\n",
        ")\n",
        "\n",
        "#sorts both keys and values\n",
        "\n",
        "def sort_grid(grid):\n",
        "  sorted_grid = grid.copy()\n",
        "\n",
        "  #sort values - note that this will expand range for you\n",
        "  for k,v in sorted_grid.items():\n",
        "    sorted_grid[k] = sorted(sorted_grid[k], key=lambda x: (x is None, x))  #handles cases where None is an alternative value\n",
        "\n",
        "  #sort keys\n",
        "  sorted_grid = dict(sorted(sorted_grid.items()))\n",
        "\n",
        "  return sorted_grid\n",
        "\n",
        "knn_grid = sort_grid(knn_grid_raw)\n",
        "knn_grid"
      ]
    },
    {
      "cell_type": "code",
      "execution_count": 30,
      "metadata": {},
      "outputs": [
        {
          "data": {
            "text/plain": [
              "80"
            ]
          },
          "execution_count": 30,
          "metadata": {},
          "output_type": "execute_result"
        }
      ],
      "source": [
        "from sklearn.model_selection import ParameterGrid\n",
        "\n",
        "param_grid = ParameterGrid(knn_grid)  #a list of dictionaries, one for each combo\n",
        "len(param_grid)  #160"
      ]
    },
    {
      "cell_type": "code",
      "execution_count": 31,
      "metadata": {},
      "outputs": [],
      "source": [
        "from sklearn.experimental import enable_halving_search_cv\n",
        "from sklearn.model_selection import HalvingGridSearchCV\n",
        "knn_model = KNeighborsClassifier()"
      ]
    },
    {
      "cell_type": "code",
      "execution_count": 32,
      "metadata": {},
      "outputs": [],
      "source": [
        "%%capture\n",
        "knn_grid_result = halving_search(knn_model,knn_grid,x_train,y_train)\n",
        "knn_best_model = knn_grid_result.best_estimator_"
      ]
    },
    {
      "cell_type": "code",
      "execution_count": 34,
      "metadata": {},
      "outputs": [
        {
          "data": {
            "text/plain": [
              "{'algorithm': 'ball_tree', 'n_neighbors': 35, 'p': 1, 'weights': 'distance'}"
            ]
          },
          "execution_count": 34,
          "metadata": {},
          "output_type": "execute_result"
        }
      ],
      "source": [
        "knn_grid_result.best_params_"
      ]
    },
    {
      "cell_type": "code",
      "execution_count": 35,
      "metadata": {},
      "outputs": [
        {
          "data": {
            "text/plain": [
              "0.8115942028985508"
            ]
          },
          "execution_count": 35,
          "metadata": {},
          "output_type": "execute_result"
        }
      ],
      "source": [
        "knn_best_model.score(x_test, y_test)"
      ]
    },
    {
      "cell_type": "markdown",
      "metadata": {},
      "source": [
        "## Build Threshold Table"
      ]
    },
    {
      "cell_type": "code",
      "execution_count": 42,
      "metadata": {},
      "outputs": [],
      "source": [
        "ypos = knn_best_model.predict_proba(x_test)[:,1]  #probability of positive class"
      ]
    },
    {
      "cell_type": "code",
      "execution_count": 44,
      "metadata": {},
      "outputs": [
        {
          "data": {
            "text/html": [
              "<style type=\"text/css\">\n",
              "#T_d3347 th:not(.index_name) {\n",
              "  background-color: #800000;\n",
              "  color: white;\n",
              "  text-align: center;\n",
              "}\n",
              "#T_d3347_row0_col0, #T_d3347_row0_col1, #T_d3347_row0_col3, #T_d3347_row0_col5, #T_d3347_row1_col0, #T_d3347_row1_col1, #T_d3347_row1_col2, #T_d3347_row1_col3, #T_d3347_row1_col5, #T_d3347_row2_col0, #T_d3347_row2_col1, #T_d3347_row2_col2, #T_d3347_row2_col3, #T_d3347_row2_col5, #T_d3347_row3_col0, #T_d3347_row3_col1, #T_d3347_row3_col2, #T_d3347_row3_col3, #T_d3347_row3_col5, #T_d3347_row4_col0, #T_d3347_row4_col1, #T_d3347_row4_col2, #T_d3347_row4_col5, #T_d3347_row5_col0, #T_d3347_row5_col1, #T_d3347_row5_col2, #T_d3347_row5_col3, #T_d3347_row5_col5, #T_d3347_row6_col0, #T_d3347_row6_col1, #T_d3347_row6_col2, #T_d3347_row6_col3, #T_d3347_row6_col5, #T_d3347_row7_col0, #T_d3347_row7_col1, #T_d3347_row7_col2, #T_d3347_row7_col3, #T_d3347_row7_col5, #T_d3347_row8_col0, #T_d3347_row8_col1, #T_d3347_row8_col2, #T_d3347_row8_col3, #T_d3347_row9_col0, #T_d3347_row9_col1, #T_d3347_row9_col2, #T_d3347_row9_col3, #T_d3347_row9_col5, #T_d3347_row10_col0, #T_d3347_row10_col1, #T_d3347_row10_col2, #T_d3347_row10_col3, #T_d3347_row10_col5, #T_d3347_row11_col0, #T_d3347_row11_col1, #T_d3347_row11_col2, #T_d3347_row11_col3, #T_d3347_row11_col5, #T_d3347_row12_col0, #T_d3347_row12_col1, #T_d3347_row12_col2, #T_d3347_row12_col3, #T_d3347_row12_col5, #T_d3347_row13_col0, #T_d3347_row13_col1, #T_d3347_row13_col2, #T_d3347_row13_col3, #T_d3347_row13_col5, #T_d3347_row14_col0, #T_d3347_row14_col1, #T_d3347_row14_col2, #T_d3347_row14_col3, #T_d3347_row14_col5, #T_d3347_row15_col0, #T_d3347_row15_col1, #T_d3347_row15_col2, #T_d3347_row15_col3, #T_d3347_row15_col5, #T_d3347_row16_col0, #T_d3347_row16_col1, #T_d3347_row16_col2, #T_d3347_row16_col3, #T_d3347_row16_col5, #T_d3347_row17_col0, #T_d3347_row17_col1, #T_d3347_row17_col2, #T_d3347_row17_col3, #T_d3347_row17_col5, #T_d3347_row18_col0, #T_d3347_row18_col1, #T_d3347_row18_col2, #T_d3347_row18_col3, #T_d3347_row18_col5, #T_d3347_row19_col0, #T_d3347_row19_col1, #T_d3347_row19_col2, #T_d3347_row19_col3, #T_d3347_row19_col5, #T_d3347_row20_col2, #T_d3347_row20_col3, #T_d3347_row20_col5 {\n",
              "  border: 1px solid black;\n",
              "  width: 65px;\n",
              "  text-align: center;\n",
              "}\n",
              "#T_d3347_row0_col2, #T_d3347_row0_col4, #T_d3347_row1_col4, #T_d3347_row2_col4, #T_d3347_row3_col4, #T_d3347_row4_col3, #T_d3347_row4_col4, #T_d3347_row5_col4, #T_d3347_row6_col4, #T_d3347_row7_col4, #T_d3347_row8_col4, #T_d3347_row8_col5, #T_d3347_row9_col4, #T_d3347_row10_col4, #T_d3347_row11_col4, #T_d3347_row12_col4, #T_d3347_row13_col4, #T_d3347_row14_col4, #T_d3347_row15_col4, #T_d3347_row16_col4, #T_d3347_row17_col4, #T_d3347_row18_col4, #T_d3347_row19_col4, #T_d3347_row20_col0, #T_d3347_row20_col1, #T_d3347_row20_col4 {\n",
              "  background-color: pink;\n",
              "  border: 1px solid black;\n",
              "  width: 65px;\n",
              "  text-align: center;\n",
              "}\n",
              "</style>\n",
              "<table id=\"T_d3347\">\n",
              "  <thead>\n",
              "    <tr>\n",
              "      <th class=\"blank level0\" >&nbsp;</th>\n",
              "      <th id=\"T_d3347_level0_col0\" class=\"col_heading level0 col0\" >threshold</th>\n",
              "      <th id=\"T_d3347_level0_col1\" class=\"col_heading level0 col1\" >precision</th>\n",
              "      <th id=\"T_d3347_level0_col2\" class=\"col_heading level0 col2\" >recall</th>\n",
              "      <th id=\"T_d3347_level0_col3\" class=\"col_heading level0 col3\" >f1</th>\n",
              "      <th id=\"T_d3347_level0_col4\" class=\"col_heading level0 col4\" >auc</th>\n",
              "      <th id=\"T_d3347_level0_col5\" class=\"col_heading level0 col5\" >accuracy</th>\n",
              "    </tr>\n",
              "  </thead>\n",
              "  <tbody>\n",
              "    <tr>\n",
              "      <th id=\"T_d3347_level0_row0\" class=\"row_heading level0 row0\" >0</th>\n",
              "      <td id=\"T_d3347_row0_col0\" class=\"data row0 col0\" >0.00</td>\n",
              "      <td id=\"T_d3347_row0_col1\" class=\"data row0 col1\" >0.44</td>\n",
              "      <td id=\"T_d3347_row0_col2\" class=\"data row0 col2\" >1.00</td>\n",
              "      <td id=\"T_d3347_row0_col3\" class=\"data row0 col3\" >0.61</td>\n",
              "      <td id=\"T_d3347_row0_col4\" class=\"data row0 col4\" >0.90</td>\n",
              "      <td id=\"T_d3347_row0_col5\" class=\"data row0 col5\" >0.44</td>\n",
              "    </tr>\n",
              "    <tr>\n",
              "      <th id=\"T_d3347_level0_row1\" class=\"row_heading level0 row1\" >1</th>\n",
              "      <td id=\"T_d3347_row1_col0\" class=\"data row1 col0\" >0.05</td>\n",
              "      <td id=\"T_d3347_row1_col1\" class=\"data row1 col1\" >0.57</td>\n",
              "      <td id=\"T_d3347_row1_col2\" class=\"data row1 col2\" >0.97</td>\n",
              "      <td id=\"T_d3347_row1_col3\" class=\"data row1 col3\" >0.72</td>\n",
              "      <td id=\"T_d3347_row1_col4\" class=\"data row1 col4\" >0.90</td>\n",
              "      <td id=\"T_d3347_row1_col5\" class=\"data row1 col5\" >0.67</td>\n",
              "    </tr>\n",
              "    <tr>\n",
              "      <th id=\"T_d3347_level0_row2\" class=\"row_heading level0 row2\" >2</th>\n",
              "      <td id=\"T_d3347_row2_col0\" class=\"data row2 col0\" >0.10</td>\n",
              "      <td id=\"T_d3347_row2_col1\" class=\"data row2 col1\" >0.63</td>\n",
              "      <td id=\"T_d3347_row2_col2\" class=\"data row2 col2\" >0.95</td>\n",
              "      <td id=\"T_d3347_row2_col3\" class=\"data row2 col3\" >0.76</td>\n",
              "      <td id=\"T_d3347_row2_col4\" class=\"data row2 col4\" >0.90</td>\n",
              "      <td id=\"T_d3347_row2_col5\" class=\"data row2 col5\" >0.73</td>\n",
              "    </tr>\n",
              "    <tr>\n",
              "      <th id=\"T_d3347_level0_row3\" class=\"row_heading level0 row3\" >3</th>\n",
              "      <td id=\"T_d3347_row3_col0\" class=\"data row3 col0\" >0.15</td>\n",
              "      <td id=\"T_d3347_row3_col1\" class=\"data row3 col1\" >0.71</td>\n",
              "      <td id=\"T_d3347_row3_col2\" class=\"data row3 col2\" >0.92</td>\n",
              "      <td id=\"T_d3347_row3_col3\" class=\"data row3 col3\" >0.80</td>\n",
              "      <td id=\"T_d3347_row3_col4\" class=\"data row3 col4\" >0.90</td>\n",
              "      <td id=\"T_d3347_row3_col5\" class=\"data row3 col5\" >0.80</td>\n",
              "    </tr>\n",
              "    <tr>\n",
              "      <th id=\"T_d3347_level0_row4\" class=\"row_heading level0 row4\" >4</th>\n",
              "      <td id=\"T_d3347_row4_col0\" class=\"data row4 col0\" >0.20</td>\n",
              "      <td id=\"T_d3347_row4_col1\" class=\"data row4 col1\" >0.77</td>\n",
              "      <td id=\"T_d3347_row4_col2\" class=\"data row4 col2\" >0.92</td>\n",
              "      <td id=\"T_d3347_row4_col3\" class=\"data row4 col3\" >0.84</td>\n",
              "      <td id=\"T_d3347_row4_col4\" class=\"data row4 col4\" >0.90</td>\n",
              "      <td id=\"T_d3347_row4_col5\" class=\"data row4 col5\" >0.84</td>\n",
              "    </tr>\n",
              "    <tr>\n",
              "      <th id=\"T_d3347_level0_row5\" class=\"row_heading level0 row5\" >5</th>\n",
              "      <td id=\"T_d3347_row5_col0\" class=\"data row5 col0\" >0.25</td>\n",
              "      <td id=\"T_d3347_row5_col1\" class=\"data row5 col1\" >0.79</td>\n",
              "      <td id=\"T_d3347_row5_col2\" class=\"data row5 col2\" >0.87</td>\n",
              "      <td id=\"T_d3347_row5_col3\" class=\"data row5 col3\" >0.83</td>\n",
              "      <td id=\"T_d3347_row5_col4\" class=\"data row5 col4\" >0.90</td>\n",
              "      <td id=\"T_d3347_row5_col5\" class=\"data row5 col5\" >0.84</td>\n",
              "    </tr>\n",
              "    <tr>\n",
              "      <th id=\"T_d3347_level0_row6\" class=\"row_heading level0 row6\" >6</th>\n",
              "      <td id=\"T_d3347_row6_col0\" class=\"data row6 col0\" >0.30</td>\n",
              "      <td id=\"T_d3347_row6_col1\" class=\"data row6 col1\" >0.79</td>\n",
              "      <td id=\"T_d3347_row6_col2\" class=\"data row6 col2\" >0.85</td>\n",
              "      <td id=\"T_d3347_row6_col3\" class=\"data row6 col3\" >0.82</td>\n",
              "      <td id=\"T_d3347_row6_col4\" class=\"data row6 col4\" >0.90</td>\n",
              "      <td id=\"T_d3347_row6_col5\" class=\"data row6 col5\" >0.83</td>\n",
              "    </tr>\n",
              "    <tr>\n",
              "      <th id=\"T_d3347_level0_row7\" class=\"row_heading level0 row7\" >7</th>\n",
              "      <td id=\"T_d3347_row7_col0\" class=\"data row7 col0\" >0.35</td>\n",
              "      <td id=\"T_d3347_row7_col1\" class=\"data row7 col1\" >0.82</td>\n",
              "      <td id=\"T_d3347_row7_col2\" class=\"data row7 col2\" >0.82</td>\n",
              "      <td id=\"T_d3347_row7_col3\" class=\"data row7 col3\" >0.82</td>\n",
              "      <td id=\"T_d3347_row7_col4\" class=\"data row7 col4\" >0.90</td>\n",
              "      <td id=\"T_d3347_row7_col5\" class=\"data row7 col5\" >0.84</td>\n",
              "    </tr>\n",
              "    <tr>\n",
              "      <th id=\"T_d3347_level0_row8\" class=\"row_heading level0 row8\" >8</th>\n",
              "      <td id=\"T_d3347_row8_col0\" class=\"data row8 col0\" >0.40</td>\n",
              "      <td id=\"T_d3347_row8_col1\" class=\"data row8 col1\" >0.83</td>\n",
              "      <td id=\"T_d3347_row8_col2\" class=\"data row8 col2\" >0.82</td>\n",
              "      <td id=\"T_d3347_row8_col3\" class=\"data row8 col3\" >0.83</td>\n",
              "      <td id=\"T_d3347_row8_col4\" class=\"data row8 col4\" >0.90</td>\n",
              "      <td id=\"T_d3347_row8_col5\" class=\"data row8 col5\" >0.85</td>\n",
              "    </tr>\n",
              "    <tr>\n",
              "      <th id=\"T_d3347_level0_row9\" class=\"row_heading level0 row9\" >9</th>\n",
              "      <td id=\"T_d3347_row9_col0\" class=\"data row9 col0\" >0.45</td>\n",
              "      <td id=\"T_d3347_row9_col1\" class=\"data row9 col1\" >0.83</td>\n",
              "      <td id=\"T_d3347_row9_col2\" class=\"data row9 col2\" >0.80</td>\n",
              "      <td id=\"T_d3347_row9_col3\" class=\"data row9 col3\" >0.82</td>\n",
              "      <td id=\"T_d3347_row9_col4\" class=\"data row9 col4\" >0.90</td>\n",
              "      <td id=\"T_d3347_row9_col5\" class=\"data row9 col5\" >0.84</td>\n",
              "    </tr>\n",
              "    <tr>\n",
              "      <th id=\"T_d3347_level0_row10\" class=\"row_heading level0 row10\" >10</th>\n",
              "      <td id=\"T_d3347_row10_col0\" class=\"data row10 col0\" >0.50</td>\n",
              "      <td id=\"T_d3347_row10_col1\" class=\"data row10 col1\" >0.83</td>\n",
              "      <td id=\"T_d3347_row10_col2\" class=\"data row10 col2\" >0.72</td>\n",
              "      <td id=\"T_d3347_row10_col3\" class=\"data row10 col3\" >0.77</td>\n",
              "      <td id=\"T_d3347_row10_col4\" class=\"data row10 col4\" >0.90</td>\n",
              "      <td id=\"T_d3347_row10_col5\" class=\"data row10 col5\" >0.81</td>\n",
              "    </tr>\n",
              "    <tr>\n",
              "      <th id=\"T_d3347_level0_row11\" class=\"row_heading level0 row11\" >11</th>\n",
              "      <td id=\"T_d3347_row11_col0\" class=\"data row11 col0\" >0.55</td>\n",
              "      <td id=\"T_d3347_row11_col1\" class=\"data row11 col1\" >0.83</td>\n",
              "      <td id=\"T_d3347_row11_col2\" class=\"data row11 col2\" >0.66</td>\n",
              "      <td id=\"T_d3347_row11_col3\" class=\"data row11 col3\" >0.73</td>\n",
              "      <td id=\"T_d3347_row11_col4\" class=\"data row11 col4\" >0.90</td>\n",
              "      <td id=\"T_d3347_row11_col5\" class=\"data row11 col5\" >0.79</td>\n",
              "    </tr>\n",
              "    <tr>\n",
              "      <th id=\"T_d3347_level0_row12\" class=\"row_heading level0 row12\" >12</th>\n",
              "      <td id=\"T_d3347_row12_col0\" class=\"data row12 col0\" >0.60</td>\n",
              "      <td id=\"T_d3347_row12_col1\" class=\"data row12 col1\" >0.85</td>\n",
              "      <td id=\"T_d3347_row12_col2\" class=\"data row12 col2\" >0.66</td>\n",
              "      <td id=\"T_d3347_row12_col3\" class=\"data row12 col3\" >0.74</td>\n",
              "      <td id=\"T_d3347_row12_col4\" class=\"data row12 col4\" >0.90</td>\n",
              "      <td id=\"T_d3347_row12_col5\" class=\"data row12 col5\" >0.80</td>\n",
              "    </tr>\n",
              "    <tr>\n",
              "      <th id=\"T_d3347_level0_row13\" class=\"row_heading level0 row13\" >13</th>\n",
              "      <td id=\"T_d3347_row13_col0\" class=\"data row13 col0\" >0.65</td>\n",
              "      <td id=\"T_d3347_row13_col1\" class=\"data row13 col1\" >0.89</td>\n",
              "      <td id=\"T_d3347_row13_col2\" class=\"data row13 col2\" >0.64</td>\n",
              "      <td id=\"T_d3347_row13_col3\" class=\"data row13 col3\" >0.74</td>\n",
              "      <td id=\"T_d3347_row13_col4\" class=\"data row13 col4\" >0.90</td>\n",
              "      <td id=\"T_d3347_row13_col5\" class=\"data row13 col5\" >0.80</td>\n",
              "    </tr>\n",
              "    <tr>\n",
              "      <th id=\"T_d3347_level0_row14\" class=\"row_heading level0 row14\" >14</th>\n",
              "      <td id=\"T_d3347_row14_col0\" class=\"data row14 col0\" >0.70</td>\n",
              "      <td id=\"T_d3347_row14_col1\" class=\"data row14 col1\" >0.88</td>\n",
              "      <td id=\"T_d3347_row14_col2\" class=\"data row14 col2\" >0.59</td>\n",
              "      <td id=\"T_d3347_row14_col3\" class=\"data row14 col3\" >0.71</td>\n",
              "      <td id=\"T_d3347_row14_col4\" class=\"data row14 col4\" >0.90</td>\n",
              "      <td id=\"T_d3347_row14_col5\" class=\"data row14 col5\" >0.78</td>\n",
              "    </tr>\n",
              "    <tr>\n",
              "      <th id=\"T_d3347_level0_row15\" class=\"row_heading level0 row15\" >15</th>\n",
              "      <td id=\"T_d3347_row15_col0\" class=\"data row15 col0\" >0.75</td>\n",
              "      <td id=\"T_d3347_row15_col1\" class=\"data row15 col1\" >0.92</td>\n",
              "      <td id=\"T_d3347_row15_col2\" class=\"data row15 col2\" >0.56</td>\n",
              "      <td id=\"T_d3347_row15_col3\" class=\"data row15 col3\" >0.69</td>\n",
              "      <td id=\"T_d3347_row15_col4\" class=\"data row15 col4\" >0.90</td>\n",
              "      <td id=\"T_d3347_row15_col5\" class=\"data row15 col5\" >0.78</td>\n",
              "    </tr>\n",
              "    <tr>\n",
              "      <th id=\"T_d3347_level0_row16\" class=\"row_heading level0 row16\" >16</th>\n",
              "      <td id=\"T_d3347_row16_col0\" class=\"data row16 col0\" >0.80</td>\n",
              "      <td id=\"T_d3347_row16_col1\" class=\"data row16 col1\" >0.97</td>\n",
              "      <td id=\"T_d3347_row16_col2\" class=\"data row16 col2\" >0.52</td>\n",
              "      <td id=\"T_d3347_row16_col3\" class=\"data row16 col3\" >0.68</td>\n",
              "      <td id=\"T_d3347_row16_col4\" class=\"data row16 col4\" >0.90</td>\n",
              "      <td id=\"T_d3347_row16_col5\" class=\"data row16 col5\" >0.78</td>\n",
              "    </tr>\n",
              "    <tr>\n",
              "      <th id=\"T_d3347_level0_row17\" class=\"row_heading level0 row17\" >17</th>\n",
              "      <td id=\"T_d3347_row17_col0\" class=\"data row17 col0\" >0.85</td>\n",
              "      <td id=\"T_d3347_row17_col1\" class=\"data row17 col1\" >0.97</td>\n",
              "      <td id=\"T_d3347_row17_col2\" class=\"data row17 col2\" >0.46</td>\n",
              "      <td id=\"T_d3347_row17_col3\" class=\"data row17 col3\" >0.62</td>\n",
              "      <td id=\"T_d3347_row17_col4\" class=\"data row17 col4\" >0.90</td>\n",
              "      <td id=\"T_d3347_row17_col5\" class=\"data row17 col5\" >0.75</td>\n",
              "    </tr>\n",
              "    <tr>\n",
              "      <th id=\"T_d3347_level0_row18\" class=\"row_heading level0 row18\" >18</th>\n",
              "      <td id=\"T_d3347_row18_col0\" class=\"data row18 col0\" >0.90</td>\n",
              "      <td id=\"T_d3347_row18_col1\" class=\"data row18 col1\" >0.96</td>\n",
              "      <td id=\"T_d3347_row18_col2\" class=\"data row18 col2\" >0.41</td>\n",
              "      <td id=\"T_d3347_row18_col3\" class=\"data row18 col3\" >0.57</td>\n",
              "      <td id=\"T_d3347_row18_col4\" class=\"data row18 col4\" >0.90</td>\n",
              "      <td id=\"T_d3347_row18_col5\" class=\"data row18 col5\" >0.73</td>\n",
              "    </tr>\n",
              "    <tr>\n",
              "      <th id=\"T_d3347_level0_row19\" class=\"row_heading level0 row19\" >19</th>\n",
              "      <td id=\"T_d3347_row19_col0\" class=\"data row19 col0\" >0.95</td>\n",
              "      <td id=\"T_d3347_row19_col1\" class=\"data row19 col1\" >0.96</td>\n",
              "      <td id=\"T_d3347_row19_col2\" class=\"data row19 col2\" >0.38</td>\n",
              "      <td id=\"T_d3347_row19_col3\" class=\"data row19 col3\" >0.54</td>\n",
              "      <td id=\"T_d3347_row19_col4\" class=\"data row19 col4\" >0.90</td>\n",
              "      <td id=\"T_d3347_row19_col5\" class=\"data row19 col5\" >0.72</td>\n",
              "    </tr>\n",
              "    <tr>\n",
              "      <th id=\"T_d3347_level0_row20\" class=\"row_heading level0 row20\" >20</th>\n",
              "      <td id=\"T_d3347_row20_col0\" class=\"data row20 col0\" >1.00</td>\n",
              "      <td id=\"T_d3347_row20_col1\" class=\"data row20 col1\" >1.00</td>\n",
              "      <td id=\"T_d3347_row20_col2\" class=\"data row20 col2\" >0.21</td>\n",
              "      <td id=\"T_d3347_row20_col3\" class=\"data row20 col3\" >0.35</td>\n",
              "      <td id=\"T_d3347_row20_col4\" class=\"data row20 col4\" >0.90</td>\n",
              "      <td id=\"T_d3347_row20_col5\" class=\"data row20 col5\" >0.65</td>\n",
              "    </tr>\n",
              "  </tbody>\n",
              "</table>\n"
            ],
            "text/plain": [
              "<pandas.io.formats.style.Styler at 0x7fe434cd0a40>"
            ]
          },
          "execution_count": 44,
          "metadata": {},
          "output_type": "execute_result"
        }
      ],
      "source": [
        "result_df, fancy_df = threshold_results(np.round(np.arange(0.0, 1.01, .05), 2), y_test, ypos)\n",
        "fancy_df"
      ]
    },
    {
      "cell_type": "code",
      "execution_count": 45,
      "metadata": {},
      "outputs": [
        {
          "data": {
            "text/html": [
              "<div>\n",
              "<style scoped>\n",
              "    .dataframe tbody tr th:only-of-type {\n",
              "        vertical-align: middle;\n",
              "    }\n",
              "\n",
              "    .dataframe tbody tr th {\n",
              "        vertical-align: top;\n",
              "    }\n",
              "\n",
              "    .dataframe thead th {\n",
              "        text-align: right;\n",
              "    }\n",
              "</style>\n",
              "<table border=\"1\" class=\"dataframe\">\n",
              "  <thead>\n",
              "    <tr style=\"text-align: right;\">\n",
              "      <th></th>\n",
              "      <th>threshold</th>\n",
              "      <th>precision</th>\n",
              "      <th>recall</th>\n",
              "      <th>f1</th>\n",
              "      <th>auc</th>\n",
              "      <th>accuracy</th>\n",
              "    </tr>\n",
              "  </thead>\n",
              "  <tbody>\n",
              "    <tr>\n",
              "      <th>0</th>\n",
              "      <td>0.00</td>\n",
              "      <td>0.44</td>\n",
              "      <td>1.00</td>\n",
              "      <td>0.61</td>\n",
              "      <td>0.9</td>\n",
              "      <td>0.44</td>\n",
              "    </tr>\n",
              "    <tr>\n",
              "      <th>1</th>\n",
              "      <td>0.05</td>\n",
              "      <td>0.57</td>\n",
              "      <td>0.97</td>\n",
              "      <td>0.72</td>\n",
              "      <td>0.9</td>\n",
              "      <td>0.67</td>\n",
              "    </tr>\n",
              "    <tr>\n",
              "      <th>2</th>\n",
              "      <td>0.10</td>\n",
              "      <td>0.63</td>\n",
              "      <td>0.95</td>\n",
              "      <td>0.76</td>\n",
              "      <td>0.9</td>\n",
              "      <td>0.73</td>\n",
              "    </tr>\n",
              "    <tr>\n",
              "      <th>3</th>\n",
              "      <td>0.15</td>\n",
              "      <td>0.71</td>\n",
              "      <td>0.92</td>\n",
              "      <td>0.80</td>\n",
              "      <td>0.9</td>\n",
              "      <td>0.80</td>\n",
              "    </tr>\n",
              "    <tr>\n",
              "      <th>4</th>\n",
              "      <td>0.20</td>\n",
              "      <td>0.77</td>\n",
              "      <td>0.92</td>\n",
              "      <td>0.84</td>\n",
              "      <td>0.9</td>\n",
              "      <td>0.84</td>\n",
              "    </tr>\n",
              "    <tr>\n",
              "      <th>5</th>\n",
              "      <td>0.25</td>\n",
              "      <td>0.79</td>\n",
              "      <td>0.87</td>\n",
              "      <td>0.83</td>\n",
              "      <td>0.9</td>\n",
              "      <td>0.84</td>\n",
              "    </tr>\n",
              "    <tr>\n",
              "      <th>6</th>\n",
              "      <td>0.30</td>\n",
              "      <td>0.79</td>\n",
              "      <td>0.85</td>\n",
              "      <td>0.82</td>\n",
              "      <td>0.9</td>\n",
              "      <td>0.83</td>\n",
              "    </tr>\n",
              "    <tr>\n",
              "      <th>7</th>\n",
              "      <td>0.35</td>\n",
              "      <td>0.82</td>\n",
              "      <td>0.82</td>\n",
              "      <td>0.82</td>\n",
              "      <td>0.9</td>\n",
              "      <td>0.84</td>\n",
              "    </tr>\n",
              "    <tr>\n",
              "      <th>8</th>\n",
              "      <td>0.40</td>\n",
              "      <td>0.83</td>\n",
              "      <td>0.82</td>\n",
              "      <td>0.83</td>\n",
              "      <td>0.9</td>\n",
              "      <td>0.85</td>\n",
              "    </tr>\n",
              "    <tr>\n",
              "      <th>9</th>\n",
              "      <td>0.45</td>\n",
              "      <td>0.83</td>\n",
              "      <td>0.80</td>\n",
              "      <td>0.82</td>\n",
              "      <td>0.9</td>\n",
              "      <td>0.84</td>\n",
              "    </tr>\n",
              "    <tr>\n",
              "      <th>10</th>\n",
              "      <td>0.50</td>\n",
              "      <td>0.83</td>\n",
              "      <td>0.72</td>\n",
              "      <td>0.77</td>\n",
              "      <td>0.9</td>\n",
              "      <td>0.81</td>\n",
              "    </tr>\n",
              "    <tr>\n",
              "      <th>11</th>\n",
              "      <td>0.55</td>\n",
              "      <td>0.83</td>\n",
              "      <td>0.66</td>\n",
              "      <td>0.73</td>\n",
              "      <td>0.9</td>\n",
              "      <td>0.79</td>\n",
              "    </tr>\n",
              "    <tr>\n",
              "      <th>12</th>\n",
              "      <td>0.60</td>\n",
              "      <td>0.85</td>\n",
              "      <td>0.66</td>\n",
              "      <td>0.74</td>\n",
              "      <td>0.9</td>\n",
              "      <td>0.80</td>\n",
              "    </tr>\n",
              "    <tr>\n",
              "      <th>13</th>\n",
              "      <td>0.65</td>\n",
              "      <td>0.89</td>\n",
              "      <td>0.64</td>\n",
              "      <td>0.74</td>\n",
              "      <td>0.9</td>\n",
              "      <td>0.80</td>\n",
              "    </tr>\n",
              "    <tr>\n",
              "      <th>14</th>\n",
              "      <td>0.70</td>\n",
              "      <td>0.88</td>\n",
              "      <td>0.59</td>\n",
              "      <td>0.71</td>\n",
              "      <td>0.9</td>\n",
              "      <td>0.78</td>\n",
              "    </tr>\n",
              "    <tr>\n",
              "      <th>15</th>\n",
              "      <td>0.75</td>\n",
              "      <td>0.92</td>\n",
              "      <td>0.56</td>\n",
              "      <td>0.69</td>\n",
              "      <td>0.9</td>\n",
              "      <td>0.78</td>\n",
              "    </tr>\n",
              "    <tr>\n",
              "      <th>16</th>\n",
              "      <td>0.80</td>\n",
              "      <td>0.97</td>\n",
              "      <td>0.52</td>\n",
              "      <td>0.68</td>\n",
              "      <td>0.9</td>\n",
              "      <td>0.78</td>\n",
              "    </tr>\n",
              "    <tr>\n",
              "      <th>17</th>\n",
              "      <td>0.85</td>\n",
              "      <td>0.97</td>\n",
              "      <td>0.46</td>\n",
              "      <td>0.62</td>\n",
              "      <td>0.9</td>\n",
              "      <td>0.75</td>\n",
              "    </tr>\n",
              "    <tr>\n",
              "      <th>18</th>\n",
              "      <td>0.90</td>\n",
              "      <td>0.96</td>\n",
              "      <td>0.41</td>\n",
              "      <td>0.57</td>\n",
              "      <td>0.9</td>\n",
              "      <td>0.73</td>\n",
              "    </tr>\n",
              "    <tr>\n",
              "      <th>19</th>\n",
              "      <td>0.95</td>\n",
              "      <td>0.96</td>\n",
              "      <td>0.38</td>\n",
              "      <td>0.54</td>\n",
              "      <td>0.9</td>\n",
              "      <td>0.72</td>\n",
              "    </tr>\n",
              "    <tr>\n",
              "      <th>20</th>\n",
              "      <td>1.00</td>\n",
              "      <td>1.00</td>\n",
              "      <td>0.21</td>\n",
              "      <td>0.35</td>\n",
              "      <td>0.9</td>\n",
              "      <td>0.65</td>\n",
              "    </tr>\n",
              "  </tbody>\n",
              "</table>\n",
              "</div>"
            ],
            "text/plain": [
              "    threshold  precision  recall    f1  auc  accuracy\n",
              "0        0.00       0.44    1.00  0.61  0.9      0.44\n",
              "1        0.05       0.57    0.97  0.72  0.9      0.67\n",
              "2        0.10       0.63    0.95  0.76  0.9      0.73\n",
              "3        0.15       0.71    0.92  0.80  0.9      0.80\n",
              "4        0.20       0.77    0.92  0.84  0.9      0.84\n",
              "5        0.25       0.79    0.87  0.83  0.9      0.84\n",
              "6        0.30       0.79    0.85  0.82  0.9      0.83\n",
              "7        0.35       0.82    0.82  0.82  0.9      0.84\n",
              "8        0.40       0.83    0.82  0.83  0.9      0.85\n",
              "9        0.45       0.83    0.80  0.82  0.9      0.84\n",
              "10       0.50       0.83    0.72  0.77  0.9      0.81\n",
              "11       0.55       0.83    0.66  0.73  0.9      0.79\n",
              "12       0.60       0.85    0.66  0.74  0.9      0.80\n",
              "13       0.65       0.89    0.64  0.74  0.9      0.80\n",
              "14       0.70       0.88    0.59  0.71  0.9      0.78\n",
              "15       0.75       0.92    0.56  0.69  0.9      0.78\n",
              "16       0.80       0.97    0.52  0.68  0.9      0.78\n",
              "17       0.85       0.97    0.46  0.62  0.9      0.75\n",
              "18       0.90       0.96    0.41  0.57  0.9      0.73\n",
              "19       0.95       0.96    0.38  0.54  0.9      0.72\n",
              "20       1.00       1.00    0.21  0.35  0.9      0.65"
            ]
          },
          "execution_count": 45,
          "metadata": {},
          "output_type": "execute_result"
        }
      ],
      "source": [
        "result_df"
      ]
    },
    {
      "cell_type": "markdown",
      "metadata": {},
      "source": [
        "## Save Results"
      ]
    },
    {
      "cell_type": "code",
      "execution_count": 47,
      "metadata": {},
      "outputs": [],
      "source": [
        "result_df.to_csv('s25_final_knn_thresholds.csv', index=False)"
      ]
    },
    {
      "cell_type": "code",
      "execution_count": 49,
      "metadata": {},
      "outputs": [
        {
          "data": {
            "text/plain": [
              "['s25_final_knn_model.joblib']"
            ]
          },
          "execution_count": 49,
          "metadata": {},
          "output_type": "execute_result"
        }
      ],
      "source": [
        "from joblib import dump\n",
        "dump(knn_best_model, 's25_final_knn_model.joblib')"
      ]
    },
    {
      "cell_type": "markdown",
      "metadata": {
        "id": "rNjvW2ZVhN6A"
      },
      "source": [
        "# VI. Logistic Regression tuning\n",
        "\n"
      ]
    },
    {
      "cell_type": "code",
      "execution_count": null,
      "metadata": {
        "id": "MX3iQcLFhiHB"
      },
      "outputs": [],
      "source": [
        "from sklearn.linear_model import LogisticRegressionCV"
      ]
    },
    {
      "cell_type": "markdown",
      "metadata": {
        "id": "sUx64rqs_skH"
      },
      "source": [
        "### Follow the steps"
      ]
    },
    {
      "cell_type": "code",
      "execution_count": null,
      "metadata": {
        "id": "xhIvRXj5_skI"
      },
      "outputs": [],
      "source": []
    },
    {
      "cell_type": "markdown",
      "metadata": {
        "id": "dxe6XuYciUY-"
      },
      "source": [
        "# VII. LGB tuning\n",
        "\n"
      ]
    },
    {
      "cell_type": "code",
      "execution_count": null,
      "metadata": {
        "id": "-wwjo5E4_436"
      },
      "outputs": [],
      "source": [
        "from lightgbm import LGBMClassifier"
      ]
    },
    {
      "cell_type": "markdown",
      "metadata": {
        "id": "BeqVdrL4_5hW"
      },
      "source": [
        "### Follow the steps"
      ]
    },
    {
      "cell_type": "code",
      "execution_count": null,
      "metadata": {
        "id": "-cjrLNnB_5hW"
      },
      "outputs": [],
      "source": []
    },
    {
      "cell_type": "markdown",
      "metadata": {
        "id": "eZFyuP1TjHih"
      },
      "source": [
        "# VIII. ANN tuning\n",
        "\n"
      ]
    },
    {
      "cell_type": "code",
      "execution_count": null,
      "metadata": {
        "id": "qo-LXsWhV-YN"
      },
      "outputs": [],
      "source": [
        "!pip install keras-tuner -q\n",
        "import keras_tuner"
      ]
    },
    {
      "cell_type": "code",
      "execution_count": null,
      "metadata": {
        "id": "FpnZFnTOv2Mx"
      },
      "outputs": [],
      "source": [
        "from tensorflow.keras import Sequential\n",
        "from tensorflow.keras.layers import Dense, Activation, Dropout, Input\n",
        "import tensorflow as tf\n",
        "from tensorflow import keras"
      ]
    },
    {
      "cell_type": "code",
      "execution_count": null,
      "metadata": {
        "id": "9UH8coL34r2q"
      },
      "outputs": [],
      "source": [
        "tf.keras.utils.set_random_seed(1234)  #need this for replication\n",
        "tf.config.experimental.enable_op_determinism()  #ditto - https://www.tensorflow.org/api_docs/python/tf/config/experimental/enable_op_determinism\n",
        "tf.config.threading.set_inter_op_parallelism_threads(1)\n",
        "tf.config.threading.set_intra_op_parallelism_threads(1)"
      ]
    },
    {
      "cell_type": "code",
      "execution_count": null,
      "metadata": {
        "id": "_7GwTsJOTrQq"
      },
      "outputs": [],
      "source": [
        "import hashlib\n",
        "\n",
        "def string_to_seed(string):\n",
        "    # Create a hash of the string using SHA-256\n",
        "    hash_object = hashlib.sha256(string.encode())\n",
        "    # Convert first 8 bytes of hash to integer\n",
        "    hash_int = int.from_bytes(hash_object.digest()[:8], 'big')\n",
        "    return hash_int % (2**32 - 1)"
      ]
    },
    {
      "cell_type": "code",
      "execution_count": null,
      "metadata": {
        "id": "Rw8Xrev5vehN"
      },
      "outputs": [],
      "source": [
        "early_stop_cb = tf.keras.callbacks.EarlyStopping(\n",
        "    monitor='loss',\n",
        "    min_delta=0,\n",
        "    patience=10,\n",
        "    verbose=0\n",
        ")"
      ]
    },
    {
      "cell_type": "markdown",
      "metadata": {
        "id": "wE4_DJ-4Ab71"
      },
      "source": [
        "### Follow the steps"
      ]
    },
    {
      "cell_type": "code",
      "execution_count": null,
      "metadata": {
        "id": "J2k5AoJnAb72"
      },
      "outputs": [],
      "source": []
    },
    {
      "cell_type": "markdown",
      "metadata": {
        "id": "SXGHYrCpjLXl"
      },
      "source": [
        "# You should eventually have these files on GitHub\n",
        "\n",
        "* LIME explainer\n",
        "* tuned KNN model and associated threshold table\n",
        "* tuned logistic regression model and associated threshold table\n",
        "* tuned light boosting model and associated threshold table\n",
        "* tuned ANN model and associated threshold table"
      ]
    },
    {
      "cell_type": "markdown",
      "metadata": {
        "id": "88r30GauhPsI"
      },
      "source": [
        "# Optional make-up: Random Forest model\n",
        "\n",
        "I will give you credit for one homework assignment in terms of points if you elect to take on this problem.\n",
        "\n",
        "You will need to do two things: (1) tune and save your threshold table and model below, and (2) add the model to your production notebook (your last notebook that is part of final.) The latter is the most tricky given you will actually have to change several places in the code I handed you for server. But it is doable if you get an early jump on it."
      ]
    },
    {
      "cell_type": "code",
      "execution_count": null,
      "metadata": {
        "id": "Py2eUMQKT3ga"
      },
      "outputs": [],
      "source": [
        "#From chapter 12\n",
        "from sklearn.ensemble import RandomForestClassifier"
      ]
    },
    {
      "cell_type": "markdown",
      "metadata": {
        "id": "7s_e216IBMoE"
      },
      "source": [
        "### Follow the steps"
      ]
    },
    {
      "cell_type": "code",
      "execution_count": null,
      "metadata": {
        "id": "1fy5NQYMBMoE"
      },
      "outputs": [],
      "source": []
    },
    {
      "cell_type": "markdown",
      "metadata": {
        "id": "PM7WXZLzOgKr"
      },
      "source": [
        "## You still need to change the production notebook\n",
        "\n",
        "Find the places where you are loading models and thresholds and add the RF results. Find places where you are doing predictions and add RF prediction. Find place where you are showing prediction results in html and add RF prediction. Also add threshold table.\n",
        "\n",
        "This should not take long but will require you to pay attention to what you are doing to avoid screwing up what is already there."
      ]
    },
    {
      "cell_type": "markdown",
      "metadata": {
        "id": "G4bM31Y3BdM4"
      },
      "source": [
        "# Just for your interest\n",
        "\n",
        "There are several ways to combine the results of multiple models, four models in our case. We are using one of the ways in the server, but wanted to show you other options."
      ]
    },
    {
      "cell_type": "markdown",
      "metadata": {
        "id": "H5CR8tBBRJ9h"
      },
      "source": [
        "# IX. Voting - averaging binary\n",
        "\n",
        "There are two ways I can see of voting when have 4 models producing results. The first is to convert their output to binary. Then simply look for majority of either 0s or 1s. I added a twist that I fall back on probabilities for ties."
      ]
    },
    {
      "cell_type": "code",
      "execution_count": null,
      "metadata": {
        "id": "jb9Q5LN635__"
      },
      "outputs": [],
      "source": [
        "lgb_raw = final_lgb_model.predict_proba(x_test)[:,1]\n",
        "knn_raw = final_knn_model.predict_proba(x_test)[:,1]\n",
        "logreg_raw = final_logreg_model.predict_proba(x_test)[:,1]\n",
        "ann_raw = final_ann_model.predict(x_test)[:,0]"
      ]
    },
    {
      "cell_type": "code",
      "execution_count": null,
      "metadata": {
        "id": "rbMmM9nWRW6z"
      },
      "outputs": [],
      "source": [
        "yvotes = []\n",
        "for i in range(len(y_test)):\n",
        "  the_vote = (lgb_raw[i]>=.5+logreg_raw[i]>=.5+knn_raw[i]>=.5+ann_raw[i]>=.5)\n",
        "  if the_vote==2:\n",
        "    #tie breaker - go to probabilities\n",
        "    prob = (knn_yraw[i]+logreg_yraw[i]+xgb_yraw[i]+ann_yraw[i])/4\n",
        "    the_winner = 1 if prob>=.5 else 0\n",
        "  else:\n",
        "    the_winner = 1 if the_vote>2 else 0\n",
        "  yvotes.append(the_winner)"
      ]
    },
    {
      "cell_type": "code",
      "execution_count": null,
      "metadata": {
        "id": "pZLERg9TVnMx"
      },
      "outputs": [],
      "source": [
        "sum([1 if p>=.5 else 0 for p in ann_raw])/len(x_test)"
      ]
    },
    {
      "cell_type": "code",
      "execution_count": null,
      "metadata": {
        "id": "bA7UhZX_-tan"
      },
      "outputs": [],
      "source": [
        "from sklearn.metrics import confusion_matrix\n",
        "cm = confusion_matrix(y_test, yvotes)\n",
        "print(cm)\n"
      ]
    },
    {
      "cell_type": "code",
      "execution_count": null,
      "metadata": {
        "id": "Sl0yYW2Z-tao"
      },
      "outputs": [],
      "source": [
        "(cm[0,0]+cm[1,1])/len(y_test)  #accuracy 0.5665399239543726"
      ]
    },
    {
      "cell_type": "markdown",
      "metadata": {
        "id": "A4uJuY39c0WY"
      },
      "source": [
        "Can now use it to compute precision and recall."
      ]
    },
    {
      "cell_type": "code",
      "execution_count": null,
      "metadata": {
        "id": "WnM0Ht9k-tao"
      },
      "outputs": [],
      "source": [
        "def precision_recall(y_test, y_pred):\n",
        "    cm = confusion_matrix(y_test, y_pred)\n",
        "    tp = cm[0,0]\n",
        "    fp = cm[0,1]\n",
        "    fn = cm[1,0]\n",
        "    prec = tp / (tp+fp)\n",
        "    rec = tp / (tp+fn)\n",
        "    return prec, rec\n",
        "\n",
        "precision, recall = precision_recall(y_test, yvotes)\n",
        "print(f'Precision: {precision} Recall {recall}')"
      ]
    },
    {
      "cell_type": "code",
      "execution_count": null,
      "metadata": {
        "id": "cuFw_hPFZ-Jf"
      },
      "outputs": [],
      "source": [
        "f1 = 2*(precision*recall)/(precision+recall)\n",
        "f1"
      ]
    },
    {
      "cell_type": "markdown",
      "metadata": {
        "id": "feVTGvRT18qn"
      },
      "source": [
        "# X. Prob averaging\n",
        "\n",
        "The second voting approach is not actually voting. Instead, take average of 4 raw probabilities and use result as final probability. Can then run that through threshold table.\n",
        "\n",
        "This is what the server is doing to get the \"Ensemble\" value."
      ]
    },
    {
      "cell_type": "code",
      "execution_count": null,
      "metadata": {
        "id": "GfJSw7AS1A4Q"
      },
      "outputs": [],
      "source": [
        "avg_yraw = []\n",
        "for i in range(len(y_test)):\n",
        "  prob = (knn_raw[i]+logreg_raw[i]+lgb_raw[i]+ann_raw[i])/4\n",
        "  avg_yraw.append(prob)"
      ]
    },
    {
      "cell_type": "code",
      "execution_count": null,
      "metadata": {
        "id": "Iw_BS19r1dFC"
      },
      "outputs": [],
      "source": [
        "result_df, fancy_df = threshold_results(np.linspace(0,1,19,endpoint=True), y_test, avg_yraw)"
      ]
    },
    {
      "cell_type": "markdown",
      "metadata": {
        "id": "oUh2Bh6T0acf"
      },
      "source": [
        "# XI. Stacking\n",
        "\n",
        "This is interesting in that it builds a whole separate model (a meta model) that takes the output of other base models, three in example below, and uses that as a row. So a row of 3 feature values, one from each of the base models.\n",
        "\n",
        "I kind of like it. The meta model learns how to combine the outputs of base models, e.g., when to weight KNN higher than LGB, etc.\n"
      ]
    },
    {
      "cell_type": "code",
      "execution_count": null,
      "metadata": {
        "id": "dMtgikB00cdL"
      },
      "outputs": [],
      "source": [
        "from sklearn.ensemble import StackingClassifier\n",
        "\n",
        "estimators = [\n",
        "     ('knn', KNeighborsClassifier(15, algorithm='ball_tree', p=1, weights='distance')),\n",
        "    ('logreg', LogisticRegressionCV(Cs= 5, class_weight= None, cv= 5, max_iter= 500, solver= 'saga', penalty='l1', random_state=1234)),\n",
        "    ('lgb', LGBMClassifier(boosting_type= 'gbdt',\n",
        "                          class_weight= 'balanced',\n",
        "                          learning_rate= 0.3,\n",
        "                          max_depth= 5,\n",
        "                          min_child_samples= 10,\n",
        "                          n_estimators= 10,\n",
        "                          num_leaves= 7,\n",
        "                          random_state=1234),\n",
        "    )\n",
        "]\n",
        "final_estimator = LogisticRegressionCV(random_state=1234)   #this is choice for meta model\n",
        "clf = StackingClassifier(estimators=estimators, final_estimator=final_estimator)"
      ]
    },
    {
      "cell_type": "code",
      "execution_count": null,
      "metadata": {
        "id": "WeVYuX2K3vaZ"
      },
      "outputs": [],
      "source": [
        "%%capture\n",
        "clf.fit(x_train, y_train)"
      ]
    },
    {
      "cell_type": "code",
      "execution_count": null,
      "metadata": {
        "id": "ctgU56kc39bh"
      },
      "outputs": [],
      "source": [
        "yraw = clf.predict_proba(x_test)[:,1]\n",
        "result_df, fancy_df = threshold_results(np.linspace(0,1,19,endpoint=True), y_test, yraw)\n",
        "fancy_df"
      ]
    },
    {
      "cell_type": "markdown",
      "metadata": {
        "id": "1dPcoUS7R1nV"
      },
      "source": [
        "<img src='https://www.dropbox.com/scl/fi/zilmy2diy1lg1tva9vurx/Screenshot-2025-02-07-at-8.38.53-AM.png?rlkey=006szbv5t0daha005eotxt9k2&raw=1' height=400>"
      ]
    }
  ],
  "metadata": {
    "colab": {
      "collapsed_sections": [
        "SXGHYrCpjLXl"
      ],
      "provenance": []
    },
    "kernelspec": {
      "display_name": "cs523",
      "language": "python",
      "name": "python3"
    },
    "language_info": {
      "codemirror_mode": {
        "name": "ipython",
        "version": 3
      },
      "file_extension": ".py",
      "mimetype": "text/x-python",
      "name": "python",
      "nbconvert_exporter": "python",
      "pygments_lexer": "ipython3",
      "version": "3.12.11"
    }
  },
  "nbformat": 4,
  "nbformat_minor": 0
}
