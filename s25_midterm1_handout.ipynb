{
  "cells": [
    {
      "cell_type": "markdown",
      "metadata": {
        "colab_type": "text",
        "id": "view-in-github"
      },
      "source": [
        "<a href=\"https://colab.research.google.com/github/MarvNC/cs523/blob/main/s25_midterm1_handout.ipynb\" target=\"_parent\"><img src=\"https://colab.research.google.com/assets/colab-badge.svg\" alt=\"Open In Colab\"/></a>"
      ]
    },
    {
      "cell_type": "markdown",
      "metadata": {
        "id": "bzDiYMkiYgRS"
      },
      "source": [
        "<center>\n",
        "<h1>Midterm 1</h1>\n",
        "</center>\n",
        "\n",
        "<hr>\n",
        "\n",
        "Please work solo on this midterm. No outside human help."
      ]
    },
    {
      "cell_type": "markdown",
      "metadata": {
        "id": "widN1HBZos9m"
      },
      "source": [
        "### You need to complete Chapter 7 before this midterm"
      ]
    },
    {
      "cell_type": "markdown",
      "metadata": {
        "id": "bZiquu_S3vZG"
      },
      "source": [
        "## Set-up\n",
        "\n",
        "First bring in your library."
      ]
    },
    {
      "cell_type": "code",
      "execution_count": null,
      "metadata": {
        "id": "AZ6MOQmuVewi"
      },
      "outputs": [],
      "source": [
        "github_name = 'smith'\n",
        "repo_name = 'cis423'\n",
        "source_file = 'library.py'\n",
        "url = f'https://raw.githubusercontent.com/{github_name}/{repo_name}/main/{source_file}'\n",
        "!rm $source_file\n",
        "!wget $url\n",
        "%run -i $source_file"
      ]
    },
    {
      "cell_type": "markdown",
      "metadata": {
        "id": "CfdayQezyI8p"
      },
      "source": [
        "## Here is a new dataset\n",
        "\n",
        "It is a dataset that looks at various medical tests and shows the `Outcome` of getting Diabetes within 5 years. So the `Outcome` column is the label column (similar to `Survived` being the label column for the Titanic dataset)."
      ]
    },
    {
      "cell_type": "code",
      "execution_count": null,
      "metadata": {
        "id": "NlV1a4YvvZkx"
      },
      "outputs": [],
      "source": [
        "url = 'https://www.dropbox.com/s/lq431y13g3zc6lr/w22_pima_midterm1.csv?raw=1'\n",
        "pima_df = pd.read_csv(url)\n",
        "pima_df"
      ]
    },
    {
      "cell_type": "markdown",
      "metadata": {
        "id": "zIHq9aUHNcxo"
      },
      "source": [
        "# Break out into features and labels\n",
        "\n",
        "I did some work for you by changing the label column into binary."
      ]
    },
    {
      "cell_type": "code",
      "execution_count": null,
      "metadata": {
        "id": "vRVQIzKRYZin"
      },
      "outputs": [],
      "source": [
        "pima_features = pima_df.drop(columns='Outcome')\n",
        "labels = pima_df['Outcome'].replace({'Yes':1, 'No':0}).to_list()\n",
        "labels[:5]"
      ]
    },
    {
      "cell_type": "markdown",
      "metadata": {
        "id": "_5cttx1Qyw51"
      },
      "source": [
        "# Challenge 1\n",
        "\n",
        "The `Outcome` column is the label or target column, the one we are trying to predict.\n",
        "\n",
        "Go ahead and wrangle the feature columns as follows:\n",
        "\n",
        "1. All the columns carry potentially useful information. Decide how to deal with categorical columns. Use `ce.TargetEncoder` if need it for nominal column, e.g., Region.\n",
        "\n",
        "2. For the Tukey transformation, focus on numerical (non-categorical) columns and the `outer` fence.\n",
        "\n",
        "4. Do scaling on numerical columns.\n",
        "\n",
        "5. Do imputation as usual.\n",
        "\n",
        "Put things together in a pipeline and use it. Hint: I ended up with 17 steps.\n",
        "\n"
      ]
    },
    {
      "cell_type": "code",
      "execution_count": null,
      "metadata": {
        "id": "PC3UL45mYZin"
      },
      "outputs": [],
      "source": [
        "#fill in your steps\n",
        "pima_transformer = Pipeline(steps=[\n",
        "\n"
      ]
    },
    {
      "cell_type": "code",
      "execution_count": null,
      "metadata": {
        "id": "bNTsKca8YZin"
      },
      "outputs": [],
      "source": [
        "pima_transformed_df = pima_transformer.fit_transform(pima_features, labels)"
      ]
    },
    {
      "cell_type": "markdown",
      "metadata": {
        "id": "9w0qPiyzqliu"
      },
      "source": [
        "## Match my results"
      ]
    },
    {
      "cell_type": "code",
      "execution_count": null,
      "metadata": {
        "id": "hvzNC5bPPtyV"
      },
      "outputs": [],
      "source": [
        "pima_transformed_df.describe().T.round(2)"
      ]
    },
    {
      "cell_type": "markdown",
      "metadata": {
        "id": "PnR9DaTzP7HF"
      },
      "source": [
        "## My table\n",
        "\n",
        "|index|count|mean|std|min|25%|50%|75%|max|\n",
        "|---|---|---|---|---|---|---|---|---|\n",
        "|Pregnancies|768\\.0|0\\.17|0\\.69|-0\\.6|-0\\.4|0\\.0|0\\.6|3\\.4|\n",
        "|Glucose|768\\.0|0\\.11|0\\.73|-1\\.74|-0\\.42|0\\.0|0\\.55|1\\.95|\n",
        "|BloodPressure|768\\.0|1\\.01|0\\.66|0\\.0|1\\.0|1\\.0|1\\.0|2\\.0|\n",
        "|SkinThickness|768\\.0|0\\.01|0\\.66|-1\\.57|-0\\.43|0\\.0|0\\.43|3\\.5|\n",
        "|Insulin|768\\.0|0\\.23|0\\.8|-0\\.98|-0\\.33|0\\.05|0\\.57|3\\.57|\n",
        "|BMI|768\\.0|0\\.01|0\\.75|-1\\.55|-0\\.53|-0\\.01|0\\.47|3\\.47|\n",
        "|DiabetesPedigreeFunction|768\\.0|0\\.26|0\\.83|-0\\.76|-0\\.33|0\\.01|0\\.67|3\\.67|\n",
        "|Age|768\\.0|0\\.25|0\\.69|-0\\.47|-0\\.29|0\\.0|0\\.71|3\\.06|\n",
        "|Region|768\\.0|0\\.35|0\\.02|0\\.33|0\\.33|0\\.34|0\\.36|0\\.37|"
      ]
    },
    {
      "cell_type": "code",
      "execution_count": null,
      "metadata": {
        "id": "uzeY6slfZ1AD"
      },
      "outputs": [],
      "source": [
        "pima_transformed_df.round(2).head()"
      ]
    },
    {
      "cell_type": "markdown",
      "metadata": {
        "id": "DWLB7dEupO8d"
      },
      "source": [
        "### My results\n",
        "\n",
        "|index|Pregnancies|Glucose|BloodPressure|SkinThickness|Insulin|BMI|DiabetesPedigreeFunction|Age|Region|\n",
        "|---|---|---|---|---|---|---|---|---|---|\n",
        "|0|0\\.6|0\\.74|1\\.0|0\\.43|0\\.6|0\\.14|0\\.67|1\\.24|0\\.36|\n",
        "|1|-0\\.4|-0\\.76|1\\.0|0\\.0|-0\\.47|-0\\.63|-0\\.05|0\\.12|0\\.37|\n",
        "|2|1\\.0|1\\.57|1\\.0|-0\\.01|0\\.57|-0\\.99|0\\.56|0\\.18|0\\.34|\n",
        "|3|-0\\.4|-0\\.67|1\\.0|-0\\.43|-0\\.27|-0\\.46|-0\\.53|-0\\.47|0\\.37|\n",
        "|4|-0\\.6|0\\.48|0\\.0|0\\.43|0\\.38|1\\.19|3\\.67|0\\.24|0\\.37|"
      ]
    },
    {
      "cell_type": "markdown",
      "metadata": {
        "id": "O8zeQ0qM06DQ"
      },
      "source": [
        "# Challenge 2\n",
        "\n",
        "Use your `find_random_state` function to compute the best value to use for splitting your transformed table.\n"
      ]
    },
    {
      "cell_type": "code",
      "execution_count": null,
      "metadata": {
        "id": "86fBb9mFYT5H"
      },
      "outputs": [],
      "source": [
        "%%capture\n",
        "rs, _ = find_random_state(pima_features, labels, pima_transformer)\n"
      ]
    },
    {
      "cell_type": "code",
      "execution_count": null,
      "metadata": {
        "id": "wYE3LT4hCIsO"
      },
      "outputs": [],
      "source": [
        "rs  #188"
      ]
    },
    {
      "cell_type": "markdown",
      "metadata": {
        "id": "8NhY3YQxLjxy"
      },
      "source": [
        "## Caveat: I'd use 188 going forward\n",
        "\n",
        "Even if you get a different number, if you want to match my results, use 188."
      ]
    },
    {
      "cell_type": "markdown",
      "metadata": {
        "id": "pc5DgK-33R4k"
      },
      "source": [
        "# Challenge 3\n",
        "\n",
        "Go ahead and do stratified split into train and test.\n"
      ]
    },
    {
      "cell_type": "code",
      "execution_count": null,
      "metadata": {
        "id": "g5XN6ImKT1qn"
      },
      "outputs": [],
      "source": [
        "from sklearn.model_selection import train_test_split\n",
        "\n",
        "x_train, x_test, y_train, y_test ="
      ]
    },
    {
      "cell_type": "code",
      "execution_count": null,
      "metadata": {
        "id": "zvBqpkUbyiM4"
      },
      "outputs": [],
      "source": [
        "x_train[:5]"
      ]
    },
    {
      "cell_type": "markdown",
      "metadata": {
        "id": "OAgygdJEy29d"
      },
      "source": [
        "|index|Pregnancies|Glucose|BloodPressure|SkinThickness|Insulin|BMI|DiabetesPedigreeFunction|Age|Region|\n",
        "|---|---|---|---|---|---|---|---|---|---|\n",
        "|762|9|89\\.0|low|NaN|NaN|22\\.5|0\\.142|33|B|\n",
        "|743|9|140\\.0|high|NaN|NaN|32\\.7|0\\.734|45|C|\n",
        "|284|2|108\\.0|medium|NaN|NaN|27\\.0|0\\.259|52|B|\n",
        "|47|2|71\\.0|medium|27\\.0|NaN|28\\.0|0\\.586|22|D|\n",
        "|657|1|120\\.0|medium|48\\.0|200\\.0|38\\.9|1\\.162|41|C|"
      ]
    },
    {
      "cell_type": "markdown",
      "metadata": {
        "id": "I-t6GwstdTQf"
      },
      "source": [
        "# Challenge 4\n",
        "\n",
        "Now run pipeline:\n",
        "\n",
        "* fit_transform on x_train, y_train\n",
        "* transform x_test"
      ]
    },
    {
      "cell_type": "code",
      "execution_count": null,
      "metadata": {
        "id": "twUfYgrp0nNT"
      },
      "outputs": [],
      "source": [
        "pima_train_df ="
      ]
    },
    {
      "cell_type": "code",
      "execution_count": null,
      "metadata": {
        "id": "8579HIbFeexn"
      },
      "outputs": [],
      "source": [
        "pima_test_df ="
      ]
    },
    {
      "cell_type": "code",
      "execution_count": null,
      "metadata": {
        "id": "AeVZgxqvQGOG"
      },
      "outputs": [],
      "source": [
        "pima_train_df.describe().T.round(2)"
      ]
    },
    {
      "cell_type": "markdown",
      "metadata": {
        "id": "nddmPJQ8Cfbw"
      },
      "source": [
        "\n",
        "###`pima_train_df`\n",
        "\n",
        "|index|count|mean|std|min|25%|50%|75%|max|\n",
        "|---|---|---|---|---|---|---|---|---|\n",
        "|Pregnancies|614\\.0|0\\.17|0\\.7|-0\\.6|-0\\.4|0\\.0|0\\.6|3\\.4|\n",
        "|Glucose|614\\.0|0\\.11|0\\.73|-1\\.74|-0\\.4|0\\.0|0\\.6|1\\.95|\n",
        "|BloodPressure|614\\.0|1\\.02|0\\.66|0\\.0|1\\.0|1\\.0|1\\.0|2\\.0|\n",
        "|SkinThickness|614\\.0|0\\.02|0\\.63|-1\\.47|-0\\.4|0\\.0|0\\.43|3\\.53|\n",
        "|Insulin|614\\.0|0\\.24|0\\.81|-1\\.0|-0\\.32|0\\.05|0\\.59|3\\.57|\n",
        "|BMI|614\\.0|0\\.02|0\\.75|-1\\.56|-0\\.51|0\\.0|0\\.48|3\\.48|\n",
        "|DiabetesPedigreeFunction|614\\.0|0\\.27|0\\.83|-0\\.73|-0\\.32|0\\.0|0\\.69|3\\.68|\n",
        "|Age|614\\.0|0\\.25|0\\.69|-0\\.47|-0\\.29|0\\.0|0\\.71|2\\.53|\n",
        "|Region|614\\.0|0\\.35|0\\.02|0\\.33|0\\.33|0\\.35|0\\.35|0\\.37|\n"
      ]
    },
    {
      "cell_type": "code",
      "execution_count": null,
      "metadata": {
        "id": "SWVpPh1LQK0A"
      },
      "outputs": [],
      "source": [
        "pima_test_df.describe().T.round(2)"
      ]
    },
    {
      "cell_type": "markdown",
      "metadata": {
        "id": "Bln3q_8JMqzb"
      },
      "source": [
        "\n",
        "###`pima_test_df`\n",
        "\n",
        "|index|count|mean|std|min|25%|50%|75%|max|\n",
        "|---|---|---|---|---|---|---|---|---|\n",
        "|Pregnancies|154\\.0|0\\.18|0\\.65|-0\\.6|-0\\.4|0\\.0|0\\.6|2\\.0|\n",
        "|Glucose|154\\.0|0\\.1|0\\.71|-1\\.17|-0\\.43|0\\.0|0\\.49|1\\.9|\n",
        "|BloodPressure|154\\.0|0\\.95|0\\.64|0\\.0|1\\.0|1\\.0|1\\.0|2\\.0|\n",
        "|SkinThickness|154\\.0|-0\\.05|0\\.59|-1\\.47|-0\\.47|0\\.0|0\\.33|1\\.4|\n",
        "|Insulin|154\\.0|0\\.24|0\\.83|-0\\.97|-0\\.35|0\\.07|0\\.53|3\\.57|\n",
        "|BMI|154\\.0|-0\\.05|0\\.78|-1\\.54|-0\\.65|-0\\.07|0\\.41|2\\.74|\n",
        "|DiabetesPedigreeFunction|154\\.0|0\\.31|0\\.79|-0\\.67|-0\\.27|0\\.09|0\\.61|3\\.68|\n",
        "|Age|154\\.0|0\\.23|0\\.71|-0\\.47|-0\\.35|0\\.0|0\\.65|3\\.06|\n",
        "|Region|154\\.0|0\\.35|0\\.02|0\\.33|0\\.33|0\\.35|0\\.35|0\\.37|"
      ]
    },
    {
      "cell_type": "markdown",
      "metadata": {
        "id": "gka_hJk_DtX_"
      },
      "source": [
        "# Challenge 5\n",
        "\n",
        "I used the f1score in chapter 7 but did not really define it. I'll ask you to do that here.\n",
        "\n",
        "I'll start with 2 random binary numpy arrays of 1000 each. I'll pretend one is y (ground truth) and one is yhat (what we predicted)."
      ]
    },
    {
      "cell_type": "code",
      "execution_count": null,
      "metadata": {
        "id": "xWos4A30I5K2"
      },
      "outputs": [],
      "source": [
        "np.random.seed(1234)\n",
        "yhat = np.random.choice([0, 1], size=(1000,))  #predicted\n",
        "y = np.random.choice([0, 1], size=(1000,))     #actual"
      ]
    },
    {
      "cell_type": "code",
      "execution_count": null,
      "metadata": {
        "id": "zj2FkSJYJl4r"
      },
      "outputs": [],
      "source": [
        "print(yhat[:20])  #[1 1 0 1 0 0 0 1 1 1 1 1 0 0 1 0 0 0 0 0]\n",
        "print(y[:20])     #[1 1 1 0 1 1 1 1 1 0 0 0 1 1 0 0 1 1 1 1]"
      ]
    },
    {
      "cell_type": "markdown",
      "metadata": {
        "id": "eIKdv_-QUtBP"
      },
      "source": [
        "### Here is formula for F1\n",
        "\n",
        "Sorry, the \"p\" got lopped off **precision**.\n",
        "\n",
        "<img src='https://www.dropbox.com/s/kk6p6izjztehdsc/Screen%20Shot%202022-10-17%20at%2012.19.14%20PM.png?raw=1' height=200>"
      ]
    },
    {
      "cell_type": "markdown",
      "metadata": {
        "id": "JChSneRHNIZw"
      },
      "source": [
        "## There are 4 cases\n",
        "\n",
        "When looking at 2 lists of binary numbers, we are interested on how they match up. Let's assume we look at each pair separately. So y[0] and yhat[0], as example. There are 4 cases to consider, and each has a name.\n",
        "\n",
        "1. The value in yhat[0] is 1 and the value in y[0] is 1. This is called true positive. It is a correct prediction.\n",
        "\n",
        "2. The value in yhat[0] is 0 and the value in y[0] is 1. This is called false negative. It is an incorrect prediction.\n",
        "\n",
        "3. The value in yhat[0] is 0 and the value in y[0] is 0. This is called true negative. It is a correct prediction.\n",
        "\n",
        "4. The value in yhat[0] is 1 and the value in y[0] is 0. This is called false\n",
        "positive.  It is an incorrect prediction.\n",
        "\n",
        "We are interested in counting up how many times each occurs when looking item by item in the two lists.\n",
        "\n",
        "You will need to compute counts of 3 of these cases to define the f1score function: they will be the body of the function.\n",
        "\n",
        "I'll first ask you to get some counts using our 2 random binary lists.\n",
        "\n",
        "Please use list comprehensions."
      ]
    },
    {
      "cell_type": "code",
      "execution_count": null,
      "metadata": {
        "id": "QcmvJKD_LBKv"
      },
      "outputs": [],
      "source": [
        "#compute true positive  Tp count given yhat and y. Please use list comprehension.\n",
        "\n",
        "tp =\n",
        "tp  #260 cases found in the lists"
      ]
    },
    {
      "cell_type": "code",
      "execution_count": null,
      "metadata": {
        "id": "Y4kFnfQFLg24"
      },
      "outputs": [],
      "source": [
        "#compute false negative  Fn count given yhat and y. Please use list comprehension.\n",
        "\n",
        "fn =\n",
        "fn  #263 cases found in the lists"
      ]
    },
    {
      "cell_type": "code",
      "execution_count": null,
      "metadata": {
        "id": "_T31X9aiNi8d"
      },
      "outputs": [],
      "source": [
        "#compute false positive  Fp count given yhat and y.  Please use list comprehension.\n",
        "\n",
        "fp =\n",
        "fp  #265 cases found in the lists"
      ]
    },
    {
      "cell_type": "markdown",
      "metadata": {
        "id": "w4uCk-h21bca"
      },
      "source": [
        "### You now have enough to compute precision and recall\n",
        "\n",
        "Look again at the formula above.\n",
        "\n",
        "And once you have precision and recall, you can compute the F1 score. Cool."
      ]
    },
    {
      "cell_type": "markdown",
      "metadata": {
        "id": "KFo6oHqZzALH"
      },
      "source": [
        "## Problem with zero-divide\n",
        "\n",
        "It can be the case that one or both of precision and recall have a 0 in their denominator. Please catch this and just return 0 as the function value."
      ]
    },
    {
      "cell_type": "code",
      "execution_count": null,
      "metadata": {
        "id": "aUv4UTiwHvmi"
      },
      "outputs": [],
      "source": [
        "#your f1score function defined below. Copy list comprehensions and look out for 0 divide\n",
        "\n",
        "def f1score(y, yhat):\n",
        "\n"
      ]
    },
    {
      "cell_type": "markdown",
      "metadata": {
        "id": "gVrzmYttN9Dg"
      },
      "source": [
        "### Test"
      ]
    },
    {
      "cell_type": "code",
      "execution_count": null,
      "metadata": {
        "id": "mydp0RT7N7lk"
      },
      "outputs": [],
      "source": [
        "f1score(y,yhat)  #0.4961832061068703"
      ]
    },
    {
      "cell_type": "code",
      "execution_count": null,
      "metadata": {
        "id": "D7i2N6plxspK"
      },
      "outputs": [],
      "source": [
        "f1score([0,0,0], [1,1,1])  #0"
      ]
    },
    {
      "cell_type": "code",
      "execution_count": null,
      "metadata": {
        "id": "fUhKjzjfyqXe"
      },
      "outputs": [],
      "source": [
        "f1score([1,1,1], [0,0,0])  #0"
      ]
    },
    {
      "cell_type": "markdown",
      "metadata": {
        "id": "nblwMoYvOIki"
      },
      "source": [
        "The oracle."
      ]
    },
    {
      "cell_type": "code",
      "execution_count": null,
      "metadata": {
        "id": "ww4N5mPvOMGk"
      },
      "outputs": [],
      "source": [
        "from sklearn.metrics import f1_score\n",
        "f1_score(y,yhat)  #0.4961832061068703"
      ]
    }
  ],
  "metadata": {
    "colab": {
      "include_colab_link": true,
      "machine_shape": "hm",
      "provenance": []
    },
    "kernelspec": {
      "display_name": "Python 3",
      "language": "python",
      "name": "python3"
    },
    "language_info": {
      "codemirror_mode": {
        "name": "ipython",
        "version": 3
      },
      "file_extension": ".py",
      "mimetype": "text/x-python",
      "name": "python",
      "nbconvert_exporter": "python",
      "pygments_lexer": "ipython3",
      "version": "3.7.3"
    }
  },
  "nbformat": 4,
  "nbformat_minor": 0
}
