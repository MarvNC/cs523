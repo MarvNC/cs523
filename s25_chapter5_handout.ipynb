{
  "cells": [
    {
      "cell_type": "markdown",
      "metadata": {
        "colab_type": "text",
        "id": "view-in-github"
      },
      "source": [
        "<a href=\"https://colab.research.google.com/github/MarvNC/cs523/blob/master/s25_chapter5_handout.ipynb\" target=\"_parent\"><img src=\"https://colab.research.google.com/assets/colab-badge.svg\" alt=\"Open In Colab\"/></a>"
      ]
    },
    {
      "cell_type": "markdown",
      "metadata": {
        "id": "zf6-j3ghE3hM"
      },
      "source": [
        "# Preface\n",
        "\n",
        "Update from the video: I introduce sklearn's built-in scalers, `MinMaxScaler` and `StandardScaler`, mostly as motivation for why we will want to write our own custom scaler."
      ]
    },
    {
      "cell_type": "markdown",
      "metadata": {
        "id": "bzDiYMkiYgRS"
      },
      "source": [
        "<center>\n",
        "<h1>Chapter Five</h1>\n",
        "</center>\n",
        "\n",
        "<hr>\n",
        "\n",
        "## LEARNING OBJECTIVES:\n",
        "- Look at next wrangling step up, scaling. Introduce several alternatives.\n",
        "- Capture final choice, RobustScaler, in a custom Transformer.\n",
        "- Place it correctly in Pipeline."
      ]
    },
    {
      "cell_type": "markdown",
      "metadata": {
        "id": "Npa06nZLAvs-"
      },
      "source": [
        "# I. Scaling\n",
        "\n",
        "In this chapter I would like to look at the next step in our pipeline, scaling. The general idea is to try to \"smooth\" out our data so it is in the same \"ballpark\". As one example, the Fare column ranges from 0 to 500+. The Gender column ranges from 0 to 1. Quite a disparity! We will look at methods to deal with this.\n"
      ]
    },
    {
      "cell_type": "markdown",
      "metadata": {
        "id": "bZiquu_S3vZG"
      },
      "source": [
        "## Set-up\n",
        "\n",
        "First bring in your library."
      ]
    },
    {
      "cell_type": "code",
      "execution_count": null,
      "metadata": {
        "id": "AZ6MOQmuVewi"
      },
      "outputs": [
        {
          "data": {
            "text/plain": [
              "'https://raw.githubusercontent.com/MarvNC/cs523/main/library.py'"
            ]
          },
          "execution_count": 142,
          "metadata": {},
          "output_type": "execute_result"
        }
      ],
      "source": [
        "github_name = 'MarvNC'\n",
        "repo_name = 'cs523'\n",
        "source_file = 'library.py'\n",
        "url = f'https://raw.githubusercontent.com/{github_name}/{repo_name}/main/{source_file}'\n",
        "# !rm $source_file\n",
        "# !wget $url\n",
        "# %run -i $source_file\n",
        "from library import *"
      ]
    },
    {
      "cell_type": "markdown",
      "metadata": {
        "id": "5ZqcJSxA6v1y"
      },
      "source": [
        "## Make sure transformers from chapter 4 are in your library"
      ]
    },
    {
      "cell_type": "code",
      "execution_count": 2,
      "metadata": {
        "id": "QcGlW7YoSBbi"
      },
      "outputs": [
        {
          "data": {
            "text/html": [
              "<style>#sk-container-id-1 {\n",
              "  /* Definition of color scheme common for light and dark mode */\n",
              "  --sklearn-color-text: #000;\n",
              "  --sklearn-color-text-muted: #666;\n",
              "  --sklearn-color-line: gray;\n",
              "  /* Definition of color scheme for unfitted estimators */\n",
              "  --sklearn-color-unfitted-level-0: #fff5e6;\n",
              "  --sklearn-color-unfitted-level-1: #f6e4d2;\n",
              "  --sklearn-color-unfitted-level-2: #ffe0b3;\n",
              "  --sklearn-color-unfitted-level-3: chocolate;\n",
              "  /* Definition of color scheme for fitted estimators */\n",
              "  --sklearn-color-fitted-level-0: #f0f8ff;\n",
              "  --sklearn-color-fitted-level-1: #d4ebff;\n",
              "  --sklearn-color-fitted-level-2: #b3dbfd;\n",
              "  --sklearn-color-fitted-level-3: cornflowerblue;\n",
              "\n",
              "  /* Specific color for light theme */\n",
              "  --sklearn-color-text-on-default-background: var(--sg-text-color, var(--theme-code-foreground, var(--jp-content-font-color1, black)));\n",
              "  --sklearn-color-background: var(--sg-background-color, var(--theme-background, var(--jp-layout-color0, white)));\n",
              "  --sklearn-color-border-box: var(--sg-text-color, var(--theme-code-foreground, var(--jp-content-font-color1, black)));\n",
              "  --sklearn-color-icon: #696969;\n",
              "\n",
              "  @media (prefers-color-scheme: dark) {\n",
              "    /* Redefinition of color scheme for dark theme */\n",
              "    --sklearn-color-text-on-default-background: var(--sg-text-color, var(--theme-code-foreground, var(--jp-content-font-color1, white)));\n",
              "    --sklearn-color-background: var(--sg-background-color, var(--theme-background, var(--jp-layout-color0, #111)));\n",
              "    --sklearn-color-border-box: var(--sg-text-color, var(--theme-code-foreground, var(--jp-content-font-color1, white)));\n",
              "    --sklearn-color-icon: #878787;\n",
              "  }\n",
              "}\n",
              "\n",
              "#sk-container-id-1 {\n",
              "  color: var(--sklearn-color-text);\n",
              "}\n",
              "\n",
              "#sk-container-id-1 pre {\n",
              "  padding: 0;\n",
              "}\n",
              "\n",
              "#sk-container-id-1 input.sk-hidden--visually {\n",
              "  border: 0;\n",
              "  clip: rect(1px 1px 1px 1px);\n",
              "  clip: rect(1px, 1px, 1px, 1px);\n",
              "  height: 1px;\n",
              "  margin: -1px;\n",
              "  overflow: hidden;\n",
              "  padding: 0;\n",
              "  position: absolute;\n",
              "  width: 1px;\n",
              "}\n",
              "\n",
              "#sk-container-id-1 div.sk-dashed-wrapped {\n",
              "  border: 1px dashed var(--sklearn-color-line);\n",
              "  margin: 0 0.4em 0.5em 0.4em;\n",
              "  box-sizing: border-box;\n",
              "  padding-bottom: 0.4em;\n",
              "  background-color: var(--sklearn-color-background);\n",
              "}\n",
              "\n",
              "#sk-container-id-1 div.sk-container {\n",
              "  /* jupyter's `normalize.less` sets `[hidden] { display: none; }`\n",
              "     but bootstrap.min.css set `[hidden] { display: none !important; }`\n",
              "     so we also need the `!important` here to be able to override the\n",
              "     default hidden behavior on the sphinx rendered scikit-learn.org.\n",
              "     See: https://github.com/scikit-learn/scikit-learn/issues/21755 */\n",
              "  display: inline-block !important;\n",
              "  position: relative;\n",
              "}\n",
              "\n",
              "#sk-container-id-1 div.sk-text-repr-fallback {\n",
              "  display: none;\n",
              "}\n",
              "\n",
              "div.sk-parallel-item,\n",
              "div.sk-serial,\n",
              "div.sk-item {\n",
              "  /* draw centered vertical line to link estimators */\n",
              "  background-image: linear-gradient(var(--sklearn-color-text-on-default-background), var(--sklearn-color-text-on-default-background));\n",
              "  background-size: 2px 100%;\n",
              "  background-repeat: no-repeat;\n",
              "  background-position: center center;\n",
              "}\n",
              "\n",
              "/* Parallel-specific style estimator block */\n",
              "\n",
              "#sk-container-id-1 div.sk-parallel-item::after {\n",
              "  content: \"\";\n",
              "  width: 100%;\n",
              "  border-bottom: 2px solid var(--sklearn-color-text-on-default-background);\n",
              "  flex-grow: 1;\n",
              "}\n",
              "\n",
              "#sk-container-id-1 div.sk-parallel {\n",
              "  display: flex;\n",
              "  align-items: stretch;\n",
              "  justify-content: center;\n",
              "  background-color: var(--sklearn-color-background);\n",
              "  position: relative;\n",
              "}\n",
              "\n",
              "#sk-container-id-1 div.sk-parallel-item {\n",
              "  display: flex;\n",
              "  flex-direction: column;\n",
              "}\n",
              "\n",
              "#sk-container-id-1 div.sk-parallel-item:first-child::after {\n",
              "  align-self: flex-end;\n",
              "  width: 50%;\n",
              "}\n",
              "\n",
              "#sk-container-id-1 div.sk-parallel-item:last-child::after {\n",
              "  align-self: flex-start;\n",
              "  width: 50%;\n",
              "}\n",
              "\n",
              "#sk-container-id-1 div.sk-parallel-item:only-child::after {\n",
              "  width: 0;\n",
              "}\n",
              "\n",
              "/* Serial-specific style estimator block */\n",
              "\n",
              "#sk-container-id-1 div.sk-serial {\n",
              "  display: flex;\n",
              "  flex-direction: column;\n",
              "  align-items: center;\n",
              "  background-color: var(--sklearn-color-background);\n",
              "  padding-right: 1em;\n",
              "  padding-left: 1em;\n",
              "}\n",
              "\n",
              "\n",
              "/* Toggleable style: style used for estimator/Pipeline/ColumnTransformer box that is\n",
              "clickable and can be expanded/collapsed.\n",
              "- Pipeline and ColumnTransformer use this feature and define the default style\n",
              "- Estimators will overwrite some part of the style using the `sk-estimator` class\n",
              "*/\n",
              "\n",
              "/* Pipeline and ColumnTransformer style (default) */\n",
              "\n",
              "#sk-container-id-1 div.sk-toggleable {\n",
              "  /* Default theme specific background. It is overwritten whether we have a\n",
              "  specific estimator or a Pipeline/ColumnTransformer */\n",
              "  background-color: var(--sklearn-color-background);\n",
              "}\n",
              "\n",
              "/* Toggleable label */\n",
              "#sk-container-id-1 label.sk-toggleable__label {\n",
              "  cursor: pointer;\n",
              "  display: flex;\n",
              "  width: 100%;\n",
              "  margin-bottom: 0;\n",
              "  padding: 0.5em;\n",
              "  box-sizing: border-box;\n",
              "  text-align: center;\n",
              "  align-items: start;\n",
              "  justify-content: space-between;\n",
              "  gap: 0.5em;\n",
              "}\n",
              "\n",
              "#sk-container-id-1 label.sk-toggleable__label .caption {\n",
              "  font-size: 0.6rem;\n",
              "  font-weight: lighter;\n",
              "  color: var(--sklearn-color-text-muted);\n",
              "}\n",
              "\n",
              "#sk-container-id-1 label.sk-toggleable__label-arrow:before {\n",
              "  /* Arrow on the left of the label */\n",
              "  content: \"▸\";\n",
              "  float: left;\n",
              "  margin-right: 0.25em;\n",
              "  color: var(--sklearn-color-icon);\n",
              "}\n",
              "\n",
              "#sk-container-id-1 label.sk-toggleable__label-arrow:hover:before {\n",
              "  color: var(--sklearn-color-text);\n",
              "}\n",
              "\n",
              "/* Toggleable content - dropdown */\n",
              "\n",
              "#sk-container-id-1 div.sk-toggleable__content {\n",
              "  max-height: 0;\n",
              "  max-width: 0;\n",
              "  overflow: hidden;\n",
              "  text-align: left;\n",
              "  /* unfitted */\n",
              "  background-color: var(--sklearn-color-unfitted-level-0);\n",
              "}\n",
              "\n",
              "#sk-container-id-1 div.sk-toggleable__content.fitted {\n",
              "  /* fitted */\n",
              "  background-color: var(--sklearn-color-fitted-level-0);\n",
              "}\n",
              "\n",
              "#sk-container-id-1 div.sk-toggleable__content pre {\n",
              "  margin: 0.2em;\n",
              "  border-radius: 0.25em;\n",
              "  color: var(--sklearn-color-text);\n",
              "  /* unfitted */\n",
              "  background-color: var(--sklearn-color-unfitted-level-0);\n",
              "}\n",
              "\n",
              "#sk-container-id-1 div.sk-toggleable__content.fitted pre {\n",
              "  /* unfitted */\n",
              "  background-color: var(--sklearn-color-fitted-level-0);\n",
              "}\n",
              "\n",
              "#sk-container-id-1 input.sk-toggleable__control:checked~div.sk-toggleable__content {\n",
              "  /* Expand drop-down */\n",
              "  max-height: 200px;\n",
              "  max-width: 100%;\n",
              "  overflow: auto;\n",
              "}\n",
              "\n",
              "#sk-container-id-1 input.sk-toggleable__control:checked~label.sk-toggleable__label-arrow:before {\n",
              "  content: \"▾\";\n",
              "}\n",
              "\n",
              "/* Pipeline/ColumnTransformer-specific style */\n",
              "\n",
              "#sk-container-id-1 div.sk-label input.sk-toggleable__control:checked~label.sk-toggleable__label {\n",
              "  color: var(--sklearn-color-text);\n",
              "  background-color: var(--sklearn-color-unfitted-level-2);\n",
              "}\n",
              "\n",
              "#sk-container-id-1 div.sk-label.fitted input.sk-toggleable__control:checked~label.sk-toggleable__label {\n",
              "  background-color: var(--sklearn-color-fitted-level-2);\n",
              "}\n",
              "\n",
              "/* Estimator-specific style */\n",
              "\n",
              "/* Colorize estimator box */\n",
              "#sk-container-id-1 div.sk-estimator input.sk-toggleable__control:checked~label.sk-toggleable__label {\n",
              "  /* unfitted */\n",
              "  background-color: var(--sklearn-color-unfitted-level-2);\n",
              "}\n",
              "\n",
              "#sk-container-id-1 div.sk-estimator.fitted input.sk-toggleable__control:checked~label.sk-toggleable__label {\n",
              "  /* fitted */\n",
              "  background-color: var(--sklearn-color-fitted-level-2);\n",
              "}\n",
              "\n",
              "#sk-container-id-1 div.sk-label label.sk-toggleable__label,\n",
              "#sk-container-id-1 div.sk-label label {\n",
              "  /* The background is the default theme color */\n",
              "  color: var(--sklearn-color-text-on-default-background);\n",
              "}\n",
              "\n",
              "/* On hover, darken the color of the background */\n",
              "#sk-container-id-1 div.sk-label:hover label.sk-toggleable__label {\n",
              "  color: var(--sklearn-color-text);\n",
              "  background-color: var(--sklearn-color-unfitted-level-2);\n",
              "}\n",
              "\n",
              "/* Label box, darken color on hover, fitted */\n",
              "#sk-container-id-1 div.sk-label.fitted:hover label.sk-toggleable__label.fitted {\n",
              "  color: var(--sklearn-color-text);\n",
              "  background-color: var(--sklearn-color-fitted-level-2);\n",
              "}\n",
              "\n",
              "/* Estimator label */\n",
              "\n",
              "#sk-container-id-1 div.sk-label label {\n",
              "  font-family: monospace;\n",
              "  font-weight: bold;\n",
              "  display: inline-block;\n",
              "  line-height: 1.2em;\n",
              "}\n",
              "\n",
              "#sk-container-id-1 div.sk-label-container {\n",
              "  text-align: center;\n",
              "}\n",
              "\n",
              "/* Estimator-specific */\n",
              "#sk-container-id-1 div.sk-estimator {\n",
              "  font-family: monospace;\n",
              "  border: 1px dotted var(--sklearn-color-border-box);\n",
              "  border-radius: 0.25em;\n",
              "  box-sizing: border-box;\n",
              "  margin-bottom: 0.5em;\n",
              "  /* unfitted */\n",
              "  background-color: var(--sklearn-color-unfitted-level-0);\n",
              "}\n",
              "\n",
              "#sk-container-id-1 div.sk-estimator.fitted {\n",
              "  /* fitted */\n",
              "  background-color: var(--sklearn-color-fitted-level-0);\n",
              "}\n",
              "\n",
              "/* on hover */\n",
              "#sk-container-id-1 div.sk-estimator:hover {\n",
              "  /* unfitted */\n",
              "  background-color: var(--sklearn-color-unfitted-level-2);\n",
              "}\n",
              "\n",
              "#sk-container-id-1 div.sk-estimator.fitted:hover {\n",
              "  /* fitted */\n",
              "  background-color: var(--sklearn-color-fitted-level-2);\n",
              "}\n",
              "\n",
              "/* Specification for estimator info (e.g. \"i\" and \"?\") */\n",
              "\n",
              "/* Common style for \"i\" and \"?\" */\n",
              "\n",
              ".sk-estimator-doc-link,\n",
              "a:link.sk-estimator-doc-link,\n",
              "a:visited.sk-estimator-doc-link {\n",
              "  float: right;\n",
              "  font-size: smaller;\n",
              "  line-height: 1em;\n",
              "  font-family: monospace;\n",
              "  background-color: var(--sklearn-color-background);\n",
              "  border-radius: 1em;\n",
              "  height: 1em;\n",
              "  width: 1em;\n",
              "  text-decoration: none !important;\n",
              "  margin-left: 0.5em;\n",
              "  text-align: center;\n",
              "  /* unfitted */\n",
              "  border: var(--sklearn-color-unfitted-level-1) 1pt solid;\n",
              "  color: var(--sklearn-color-unfitted-level-1);\n",
              "}\n",
              "\n",
              ".sk-estimator-doc-link.fitted,\n",
              "a:link.sk-estimator-doc-link.fitted,\n",
              "a:visited.sk-estimator-doc-link.fitted {\n",
              "  /* fitted */\n",
              "  border: var(--sklearn-color-fitted-level-1) 1pt solid;\n",
              "  color: var(--sklearn-color-fitted-level-1);\n",
              "}\n",
              "\n",
              "/* On hover */\n",
              "div.sk-estimator:hover .sk-estimator-doc-link:hover,\n",
              ".sk-estimator-doc-link:hover,\n",
              "div.sk-label-container:hover .sk-estimator-doc-link:hover,\n",
              ".sk-estimator-doc-link:hover {\n",
              "  /* unfitted */\n",
              "  background-color: var(--sklearn-color-unfitted-level-3);\n",
              "  color: var(--sklearn-color-background);\n",
              "  text-decoration: none;\n",
              "}\n",
              "\n",
              "div.sk-estimator.fitted:hover .sk-estimator-doc-link.fitted:hover,\n",
              ".sk-estimator-doc-link.fitted:hover,\n",
              "div.sk-label-container:hover .sk-estimator-doc-link.fitted:hover,\n",
              ".sk-estimator-doc-link.fitted:hover {\n",
              "  /* fitted */\n",
              "  background-color: var(--sklearn-color-fitted-level-3);\n",
              "  color: var(--sklearn-color-background);\n",
              "  text-decoration: none;\n",
              "}\n",
              "\n",
              "/* Span, style for the box shown on hovering the info icon */\n",
              ".sk-estimator-doc-link span {\n",
              "  display: none;\n",
              "  z-index: 9999;\n",
              "  position: relative;\n",
              "  font-weight: normal;\n",
              "  right: .2ex;\n",
              "  padding: .5ex;\n",
              "  margin: .5ex;\n",
              "  width: min-content;\n",
              "  min-width: 20ex;\n",
              "  max-width: 50ex;\n",
              "  color: var(--sklearn-color-text);\n",
              "  box-shadow: 2pt 2pt 4pt #999;\n",
              "  /* unfitted */\n",
              "  background: var(--sklearn-color-unfitted-level-0);\n",
              "  border: .5pt solid var(--sklearn-color-unfitted-level-3);\n",
              "}\n",
              "\n",
              ".sk-estimator-doc-link.fitted span {\n",
              "  /* fitted */\n",
              "  background: var(--sklearn-color-fitted-level-0);\n",
              "  border: var(--sklearn-color-fitted-level-3);\n",
              "}\n",
              "\n",
              ".sk-estimator-doc-link:hover span {\n",
              "  display: block;\n",
              "}\n",
              "\n",
              "/* \"?\"-specific style due to the `<a>` HTML tag */\n",
              "\n",
              "#sk-container-id-1 a.estimator_doc_link {\n",
              "  float: right;\n",
              "  font-size: 1rem;\n",
              "  line-height: 1em;\n",
              "  font-family: monospace;\n",
              "  background-color: var(--sklearn-color-background);\n",
              "  border-radius: 1rem;\n",
              "  height: 1rem;\n",
              "  width: 1rem;\n",
              "  text-decoration: none;\n",
              "  /* unfitted */\n",
              "  color: var(--sklearn-color-unfitted-level-1);\n",
              "  border: var(--sklearn-color-unfitted-level-1) 1pt solid;\n",
              "}\n",
              "\n",
              "#sk-container-id-1 a.estimator_doc_link.fitted {\n",
              "  /* fitted */\n",
              "  border: var(--sklearn-color-fitted-level-1) 1pt solid;\n",
              "  color: var(--sklearn-color-fitted-level-1);\n",
              "}\n",
              "\n",
              "/* On hover */\n",
              "#sk-container-id-1 a.estimator_doc_link:hover {\n",
              "  /* unfitted */\n",
              "  background-color: var(--sklearn-color-unfitted-level-3);\n",
              "  color: var(--sklearn-color-background);\n",
              "  text-decoration: none;\n",
              "}\n",
              "\n",
              "#sk-container-id-1 a.estimator_doc_link.fitted:hover {\n",
              "  /* fitted */\n",
              "  background-color: var(--sklearn-color-fitted-level-3);\n",
              "}\n",
              "</style><div id=\"sk-container-id-1\" class=\"sk-top-container\"><div class=\"sk-text-repr-fallback\"><pre>Pipeline(steps=[(&#x27;drop&#x27;, CustomDropColumnsTransformer(column_list=[&#x27;ID&#x27;])),\n",
              "                (&#x27;gender&#x27;,\n",
              "                 CustomMappingTransformer(mapping_column=&#x27;Gender&#x27;,\n",
              "                                          mapping_dict={&#x27;Female&#x27;: 1,\n",
              "                                                        &#x27;Male&#x27;: 0})),\n",
              "                (&#x27;experience_level&#x27;,\n",
              "                 CustomMappingTransformer(mapping_column=&#x27;Experience Level&#x27;,\n",
              "                                          mapping_dict={&#x27;high&#x27;: 2, &#x27;low&#x27;: 0,\n",
              "                                                        &#x27;medium&#x27;: 1})),\n",
              "                (&#x27;os&#x27;, CustomOHETransformer(target_column=&#x27;OS&#x27;)),\n",
              "                (&#x27;isp&#x27;, CustomOHETransformer(target_column=&#x27;ISP&#x27;)),\n",
              "                (&#x27;time spent&#x27;,\n",
              "                 CustomTukeyTransformer(fence=&#x27;inner&#x27;,\n",
              "                                        target_column=&#x27;Time Spent&#x27;))],\n",
              "         verbose=True)</pre><b>In a Jupyter environment, please rerun this cell to show the HTML representation or trust the notebook. <br />On GitHub, the HTML representation is unable to render, please try loading this page with nbviewer.org.</b></div><div class=\"sk-container\" hidden><div class=\"sk-item sk-dashed-wrapped\"><div class=\"sk-label-container\"><div class=\"sk-label  sk-toggleable\"><input class=\"sk-toggleable__control sk-hidden--visually\" id=\"sk-estimator-id-1\" type=\"checkbox\" ><label for=\"sk-estimator-id-1\" class=\"sk-toggleable__label  sk-toggleable__label-arrow\"><div><div>Pipeline</div></div><div><a class=\"sk-estimator-doc-link \" rel=\"noreferrer\" target=\"_blank\" href=\"https://scikit-learn.org/1.6/modules/generated/sklearn.pipeline.Pipeline.html\">?<span>Documentation for Pipeline</span></a><span class=\"sk-estimator-doc-link \">i<span>Not fitted</span></span></div></label><div class=\"sk-toggleable__content \"><pre>Pipeline(steps=[(&#x27;drop&#x27;, CustomDropColumnsTransformer(column_list=[&#x27;ID&#x27;])),\n",
              "                (&#x27;gender&#x27;,\n",
              "                 CustomMappingTransformer(mapping_column=&#x27;Gender&#x27;,\n",
              "                                          mapping_dict={&#x27;Female&#x27;: 1,\n",
              "                                                        &#x27;Male&#x27;: 0})),\n",
              "                (&#x27;experience_level&#x27;,\n",
              "                 CustomMappingTransformer(mapping_column=&#x27;Experience Level&#x27;,\n",
              "                                          mapping_dict={&#x27;high&#x27;: 2, &#x27;low&#x27;: 0,\n",
              "                                                        &#x27;medium&#x27;: 1})),\n",
              "                (&#x27;os&#x27;, CustomOHETransformer(target_column=&#x27;OS&#x27;)),\n",
              "                (&#x27;isp&#x27;, CustomOHETransformer(target_column=&#x27;ISP&#x27;)),\n",
              "                (&#x27;time spent&#x27;,\n",
              "                 CustomTukeyTransformer(fence=&#x27;inner&#x27;,\n",
              "                                        target_column=&#x27;Time Spent&#x27;))],\n",
              "         verbose=True)</pre></div> </div></div><div class=\"sk-serial\"><div class=\"sk-item\"><div class=\"sk-estimator  sk-toggleable\"><input class=\"sk-toggleable__control sk-hidden--visually\" id=\"sk-estimator-id-2\" type=\"checkbox\" ><label for=\"sk-estimator-id-2\" class=\"sk-toggleable__label  sk-toggleable__label-arrow\"><div><div>CustomDropColumnsTransformer</div></div></label><div class=\"sk-toggleable__content \"><pre>CustomDropColumnsTransformer(column_list=[&#x27;ID&#x27;])</pre></div> </div></div><div class=\"sk-item\"><div class=\"sk-estimator  sk-toggleable\"><input class=\"sk-toggleable__control sk-hidden--visually\" id=\"sk-estimator-id-3\" type=\"checkbox\" ><label for=\"sk-estimator-id-3\" class=\"sk-toggleable__label  sk-toggleable__label-arrow\"><div><div>CustomMappingTransformer</div></div></label><div class=\"sk-toggleable__content \"><pre>CustomMappingTransformer(mapping_column=&#x27;Gender&#x27;,\n",
              "                         mapping_dict={&#x27;Female&#x27;: 1, &#x27;Male&#x27;: 0})</pre></div> </div></div><div class=\"sk-item\"><div class=\"sk-estimator  sk-toggleable\"><input class=\"sk-toggleable__control sk-hidden--visually\" id=\"sk-estimator-id-4\" type=\"checkbox\" ><label for=\"sk-estimator-id-4\" class=\"sk-toggleable__label  sk-toggleable__label-arrow\"><div><div>CustomMappingTransformer</div></div></label><div class=\"sk-toggleable__content \"><pre>CustomMappingTransformer(mapping_column=&#x27;Experience Level&#x27;,\n",
              "                         mapping_dict={&#x27;high&#x27;: 2, &#x27;low&#x27;: 0, &#x27;medium&#x27;: 1})</pre></div> </div></div><div class=\"sk-item\"><div class=\"sk-estimator  sk-toggleable\"><input class=\"sk-toggleable__control sk-hidden--visually\" id=\"sk-estimator-id-5\" type=\"checkbox\" ><label for=\"sk-estimator-id-5\" class=\"sk-toggleable__label  sk-toggleable__label-arrow\"><div><div>CustomOHETransformer</div></div></label><div class=\"sk-toggleable__content \"><pre>CustomOHETransformer(target_column=&#x27;OS&#x27;)</pre></div> </div></div><div class=\"sk-item\"><div class=\"sk-estimator  sk-toggleable\"><input class=\"sk-toggleable__control sk-hidden--visually\" id=\"sk-estimator-id-6\" type=\"checkbox\" ><label for=\"sk-estimator-id-6\" class=\"sk-toggleable__label  sk-toggleable__label-arrow\"><div><div>CustomOHETransformer</div></div></label><div class=\"sk-toggleable__content \"><pre>CustomOHETransformer(target_column=&#x27;ISP&#x27;)</pre></div> </div></div><div class=\"sk-item\"><div class=\"sk-estimator  sk-toggleable\"><input class=\"sk-toggleable__control sk-hidden--visually\" id=\"sk-estimator-id-7\" type=\"checkbox\" ><label for=\"sk-estimator-id-7\" class=\"sk-toggleable__label  sk-toggleable__label-arrow\"><div><div>CustomTukeyTransformer</div></div></label><div class=\"sk-toggleable__content \"><pre>CustomTukeyTransformer(fence=&#x27;inner&#x27;, target_column=&#x27;Time Spent&#x27;)</pre></div> </div></div></div></div></div></div>"
            ],
            "text/plain": [
              "Pipeline(steps=[('drop', CustomDropColumnsTransformer(column_list=['ID'])),\n",
              "                ('gender',\n",
              "                 CustomMappingTransformer(mapping_column='Gender',\n",
              "                                          mapping_dict={'Female': 1,\n",
              "                                                        'Male': 0})),\n",
              "                ('experience_level',\n",
              "                 CustomMappingTransformer(mapping_column='Experience Level',\n",
              "                                          mapping_dict={'high': 2, 'low': 0,\n",
              "                                                        'medium': 1})),\n",
              "                ('os', CustomOHETransformer(target_column='OS')),\n",
              "                ('isp', CustomOHETransformer(target_column='ISP')),\n",
              "                ('time spent',\n",
              "                 CustomTukeyTransformer(fence='inner',\n",
              "                                        target_column='Time Spent'))],\n",
              "         verbose=True)"
            ]
          },
          "execution_count": 2,
          "metadata": {},
          "output_type": "execute_result"
        }
      ],
      "source": [
        "customer_transformer  #6 steps"
      ]
    },
    {
      "cell_type": "code",
      "execution_count": 3,
      "metadata": {
        "id": "AAUvxVCo5bta"
      },
      "outputs": [
        {
          "data": {
            "text/html": [
              "<style>#sk-container-id-2 {\n",
              "  /* Definition of color scheme common for light and dark mode */\n",
              "  --sklearn-color-text: #000;\n",
              "  --sklearn-color-text-muted: #666;\n",
              "  --sklearn-color-line: gray;\n",
              "  /* Definition of color scheme for unfitted estimators */\n",
              "  --sklearn-color-unfitted-level-0: #fff5e6;\n",
              "  --sklearn-color-unfitted-level-1: #f6e4d2;\n",
              "  --sklearn-color-unfitted-level-2: #ffe0b3;\n",
              "  --sklearn-color-unfitted-level-3: chocolate;\n",
              "  /* Definition of color scheme for fitted estimators */\n",
              "  --sklearn-color-fitted-level-0: #f0f8ff;\n",
              "  --sklearn-color-fitted-level-1: #d4ebff;\n",
              "  --sklearn-color-fitted-level-2: #b3dbfd;\n",
              "  --sklearn-color-fitted-level-3: cornflowerblue;\n",
              "\n",
              "  /* Specific color for light theme */\n",
              "  --sklearn-color-text-on-default-background: var(--sg-text-color, var(--theme-code-foreground, var(--jp-content-font-color1, black)));\n",
              "  --sklearn-color-background: var(--sg-background-color, var(--theme-background, var(--jp-layout-color0, white)));\n",
              "  --sklearn-color-border-box: var(--sg-text-color, var(--theme-code-foreground, var(--jp-content-font-color1, black)));\n",
              "  --sklearn-color-icon: #696969;\n",
              "\n",
              "  @media (prefers-color-scheme: dark) {\n",
              "    /* Redefinition of color scheme for dark theme */\n",
              "    --sklearn-color-text-on-default-background: var(--sg-text-color, var(--theme-code-foreground, var(--jp-content-font-color1, white)));\n",
              "    --sklearn-color-background: var(--sg-background-color, var(--theme-background, var(--jp-layout-color0, #111)));\n",
              "    --sklearn-color-border-box: var(--sg-text-color, var(--theme-code-foreground, var(--jp-content-font-color1, white)));\n",
              "    --sklearn-color-icon: #878787;\n",
              "  }\n",
              "}\n",
              "\n",
              "#sk-container-id-2 {\n",
              "  color: var(--sklearn-color-text);\n",
              "}\n",
              "\n",
              "#sk-container-id-2 pre {\n",
              "  padding: 0;\n",
              "}\n",
              "\n",
              "#sk-container-id-2 input.sk-hidden--visually {\n",
              "  border: 0;\n",
              "  clip: rect(1px 1px 1px 1px);\n",
              "  clip: rect(1px, 1px, 1px, 1px);\n",
              "  height: 1px;\n",
              "  margin: -1px;\n",
              "  overflow: hidden;\n",
              "  padding: 0;\n",
              "  position: absolute;\n",
              "  width: 1px;\n",
              "}\n",
              "\n",
              "#sk-container-id-2 div.sk-dashed-wrapped {\n",
              "  border: 1px dashed var(--sklearn-color-line);\n",
              "  margin: 0 0.4em 0.5em 0.4em;\n",
              "  box-sizing: border-box;\n",
              "  padding-bottom: 0.4em;\n",
              "  background-color: var(--sklearn-color-background);\n",
              "}\n",
              "\n",
              "#sk-container-id-2 div.sk-container {\n",
              "  /* jupyter's `normalize.less` sets `[hidden] { display: none; }`\n",
              "     but bootstrap.min.css set `[hidden] { display: none !important; }`\n",
              "     so we also need the `!important` here to be able to override the\n",
              "     default hidden behavior on the sphinx rendered scikit-learn.org.\n",
              "     See: https://github.com/scikit-learn/scikit-learn/issues/21755 */\n",
              "  display: inline-block !important;\n",
              "  position: relative;\n",
              "}\n",
              "\n",
              "#sk-container-id-2 div.sk-text-repr-fallback {\n",
              "  display: none;\n",
              "}\n",
              "\n",
              "div.sk-parallel-item,\n",
              "div.sk-serial,\n",
              "div.sk-item {\n",
              "  /* draw centered vertical line to link estimators */\n",
              "  background-image: linear-gradient(var(--sklearn-color-text-on-default-background), var(--sklearn-color-text-on-default-background));\n",
              "  background-size: 2px 100%;\n",
              "  background-repeat: no-repeat;\n",
              "  background-position: center center;\n",
              "}\n",
              "\n",
              "/* Parallel-specific style estimator block */\n",
              "\n",
              "#sk-container-id-2 div.sk-parallel-item::after {\n",
              "  content: \"\";\n",
              "  width: 100%;\n",
              "  border-bottom: 2px solid var(--sklearn-color-text-on-default-background);\n",
              "  flex-grow: 1;\n",
              "}\n",
              "\n",
              "#sk-container-id-2 div.sk-parallel {\n",
              "  display: flex;\n",
              "  align-items: stretch;\n",
              "  justify-content: center;\n",
              "  background-color: var(--sklearn-color-background);\n",
              "  position: relative;\n",
              "}\n",
              "\n",
              "#sk-container-id-2 div.sk-parallel-item {\n",
              "  display: flex;\n",
              "  flex-direction: column;\n",
              "}\n",
              "\n",
              "#sk-container-id-2 div.sk-parallel-item:first-child::after {\n",
              "  align-self: flex-end;\n",
              "  width: 50%;\n",
              "}\n",
              "\n",
              "#sk-container-id-2 div.sk-parallel-item:last-child::after {\n",
              "  align-self: flex-start;\n",
              "  width: 50%;\n",
              "}\n",
              "\n",
              "#sk-container-id-2 div.sk-parallel-item:only-child::after {\n",
              "  width: 0;\n",
              "}\n",
              "\n",
              "/* Serial-specific style estimator block */\n",
              "\n",
              "#sk-container-id-2 div.sk-serial {\n",
              "  display: flex;\n",
              "  flex-direction: column;\n",
              "  align-items: center;\n",
              "  background-color: var(--sklearn-color-background);\n",
              "  padding-right: 1em;\n",
              "  padding-left: 1em;\n",
              "}\n",
              "\n",
              "\n",
              "/* Toggleable style: style used for estimator/Pipeline/ColumnTransformer box that is\n",
              "clickable and can be expanded/collapsed.\n",
              "- Pipeline and ColumnTransformer use this feature and define the default style\n",
              "- Estimators will overwrite some part of the style using the `sk-estimator` class\n",
              "*/\n",
              "\n",
              "/* Pipeline and ColumnTransformer style (default) */\n",
              "\n",
              "#sk-container-id-2 div.sk-toggleable {\n",
              "  /* Default theme specific background. It is overwritten whether we have a\n",
              "  specific estimator or a Pipeline/ColumnTransformer */\n",
              "  background-color: var(--sklearn-color-background);\n",
              "}\n",
              "\n",
              "/* Toggleable label */\n",
              "#sk-container-id-2 label.sk-toggleable__label {\n",
              "  cursor: pointer;\n",
              "  display: flex;\n",
              "  width: 100%;\n",
              "  margin-bottom: 0;\n",
              "  padding: 0.5em;\n",
              "  box-sizing: border-box;\n",
              "  text-align: center;\n",
              "  align-items: start;\n",
              "  justify-content: space-between;\n",
              "  gap: 0.5em;\n",
              "}\n",
              "\n",
              "#sk-container-id-2 label.sk-toggleable__label .caption {\n",
              "  font-size: 0.6rem;\n",
              "  font-weight: lighter;\n",
              "  color: var(--sklearn-color-text-muted);\n",
              "}\n",
              "\n",
              "#sk-container-id-2 label.sk-toggleable__label-arrow:before {\n",
              "  /* Arrow on the left of the label */\n",
              "  content: \"▸\";\n",
              "  float: left;\n",
              "  margin-right: 0.25em;\n",
              "  color: var(--sklearn-color-icon);\n",
              "}\n",
              "\n",
              "#sk-container-id-2 label.sk-toggleable__label-arrow:hover:before {\n",
              "  color: var(--sklearn-color-text);\n",
              "}\n",
              "\n",
              "/* Toggleable content - dropdown */\n",
              "\n",
              "#sk-container-id-2 div.sk-toggleable__content {\n",
              "  max-height: 0;\n",
              "  max-width: 0;\n",
              "  overflow: hidden;\n",
              "  text-align: left;\n",
              "  /* unfitted */\n",
              "  background-color: var(--sklearn-color-unfitted-level-0);\n",
              "}\n",
              "\n",
              "#sk-container-id-2 div.sk-toggleable__content.fitted {\n",
              "  /* fitted */\n",
              "  background-color: var(--sklearn-color-fitted-level-0);\n",
              "}\n",
              "\n",
              "#sk-container-id-2 div.sk-toggleable__content pre {\n",
              "  margin: 0.2em;\n",
              "  border-radius: 0.25em;\n",
              "  color: var(--sklearn-color-text);\n",
              "  /* unfitted */\n",
              "  background-color: var(--sklearn-color-unfitted-level-0);\n",
              "}\n",
              "\n",
              "#sk-container-id-2 div.sk-toggleable__content.fitted pre {\n",
              "  /* unfitted */\n",
              "  background-color: var(--sklearn-color-fitted-level-0);\n",
              "}\n",
              "\n",
              "#sk-container-id-2 input.sk-toggleable__control:checked~div.sk-toggleable__content {\n",
              "  /* Expand drop-down */\n",
              "  max-height: 200px;\n",
              "  max-width: 100%;\n",
              "  overflow: auto;\n",
              "}\n",
              "\n",
              "#sk-container-id-2 input.sk-toggleable__control:checked~label.sk-toggleable__label-arrow:before {\n",
              "  content: \"▾\";\n",
              "}\n",
              "\n",
              "/* Pipeline/ColumnTransformer-specific style */\n",
              "\n",
              "#sk-container-id-2 div.sk-label input.sk-toggleable__control:checked~label.sk-toggleable__label {\n",
              "  color: var(--sklearn-color-text);\n",
              "  background-color: var(--sklearn-color-unfitted-level-2);\n",
              "}\n",
              "\n",
              "#sk-container-id-2 div.sk-label.fitted input.sk-toggleable__control:checked~label.sk-toggleable__label {\n",
              "  background-color: var(--sklearn-color-fitted-level-2);\n",
              "}\n",
              "\n",
              "/* Estimator-specific style */\n",
              "\n",
              "/* Colorize estimator box */\n",
              "#sk-container-id-2 div.sk-estimator input.sk-toggleable__control:checked~label.sk-toggleable__label {\n",
              "  /* unfitted */\n",
              "  background-color: var(--sklearn-color-unfitted-level-2);\n",
              "}\n",
              "\n",
              "#sk-container-id-2 div.sk-estimator.fitted input.sk-toggleable__control:checked~label.sk-toggleable__label {\n",
              "  /* fitted */\n",
              "  background-color: var(--sklearn-color-fitted-level-2);\n",
              "}\n",
              "\n",
              "#sk-container-id-2 div.sk-label label.sk-toggleable__label,\n",
              "#sk-container-id-2 div.sk-label label {\n",
              "  /* The background is the default theme color */\n",
              "  color: var(--sklearn-color-text-on-default-background);\n",
              "}\n",
              "\n",
              "/* On hover, darken the color of the background */\n",
              "#sk-container-id-2 div.sk-label:hover label.sk-toggleable__label {\n",
              "  color: var(--sklearn-color-text);\n",
              "  background-color: var(--sklearn-color-unfitted-level-2);\n",
              "}\n",
              "\n",
              "/* Label box, darken color on hover, fitted */\n",
              "#sk-container-id-2 div.sk-label.fitted:hover label.sk-toggleable__label.fitted {\n",
              "  color: var(--sklearn-color-text);\n",
              "  background-color: var(--sklearn-color-fitted-level-2);\n",
              "}\n",
              "\n",
              "/* Estimator label */\n",
              "\n",
              "#sk-container-id-2 div.sk-label label {\n",
              "  font-family: monospace;\n",
              "  font-weight: bold;\n",
              "  display: inline-block;\n",
              "  line-height: 1.2em;\n",
              "}\n",
              "\n",
              "#sk-container-id-2 div.sk-label-container {\n",
              "  text-align: center;\n",
              "}\n",
              "\n",
              "/* Estimator-specific */\n",
              "#sk-container-id-2 div.sk-estimator {\n",
              "  font-family: monospace;\n",
              "  border: 1px dotted var(--sklearn-color-border-box);\n",
              "  border-radius: 0.25em;\n",
              "  box-sizing: border-box;\n",
              "  margin-bottom: 0.5em;\n",
              "  /* unfitted */\n",
              "  background-color: var(--sklearn-color-unfitted-level-0);\n",
              "}\n",
              "\n",
              "#sk-container-id-2 div.sk-estimator.fitted {\n",
              "  /* fitted */\n",
              "  background-color: var(--sklearn-color-fitted-level-0);\n",
              "}\n",
              "\n",
              "/* on hover */\n",
              "#sk-container-id-2 div.sk-estimator:hover {\n",
              "  /* unfitted */\n",
              "  background-color: var(--sklearn-color-unfitted-level-2);\n",
              "}\n",
              "\n",
              "#sk-container-id-2 div.sk-estimator.fitted:hover {\n",
              "  /* fitted */\n",
              "  background-color: var(--sklearn-color-fitted-level-2);\n",
              "}\n",
              "\n",
              "/* Specification for estimator info (e.g. \"i\" and \"?\") */\n",
              "\n",
              "/* Common style for \"i\" and \"?\" */\n",
              "\n",
              ".sk-estimator-doc-link,\n",
              "a:link.sk-estimator-doc-link,\n",
              "a:visited.sk-estimator-doc-link {\n",
              "  float: right;\n",
              "  font-size: smaller;\n",
              "  line-height: 1em;\n",
              "  font-family: monospace;\n",
              "  background-color: var(--sklearn-color-background);\n",
              "  border-radius: 1em;\n",
              "  height: 1em;\n",
              "  width: 1em;\n",
              "  text-decoration: none !important;\n",
              "  margin-left: 0.5em;\n",
              "  text-align: center;\n",
              "  /* unfitted */\n",
              "  border: var(--sklearn-color-unfitted-level-1) 1pt solid;\n",
              "  color: var(--sklearn-color-unfitted-level-1);\n",
              "}\n",
              "\n",
              ".sk-estimator-doc-link.fitted,\n",
              "a:link.sk-estimator-doc-link.fitted,\n",
              "a:visited.sk-estimator-doc-link.fitted {\n",
              "  /* fitted */\n",
              "  border: var(--sklearn-color-fitted-level-1) 1pt solid;\n",
              "  color: var(--sklearn-color-fitted-level-1);\n",
              "}\n",
              "\n",
              "/* On hover */\n",
              "div.sk-estimator:hover .sk-estimator-doc-link:hover,\n",
              ".sk-estimator-doc-link:hover,\n",
              "div.sk-label-container:hover .sk-estimator-doc-link:hover,\n",
              ".sk-estimator-doc-link:hover {\n",
              "  /* unfitted */\n",
              "  background-color: var(--sklearn-color-unfitted-level-3);\n",
              "  color: var(--sklearn-color-background);\n",
              "  text-decoration: none;\n",
              "}\n",
              "\n",
              "div.sk-estimator.fitted:hover .sk-estimator-doc-link.fitted:hover,\n",
              ".sk-estimator-doc-link.fitted:hover,\n",
              "div.sk-label-container:hover .sk-estimator-doc-link.fitted:hover,\n",
              ".sk-estimator-doc-link.fitted:hover {\n",
              "  /* fitted */\n",
              "  background-color: var(--sklearn-color-fitted-level-3);\n",
              "  color: var(--sklearn-color-background);\n",
              "  text-decoration: none;\n",
              "}\n",
              "\n",
              "/* Span, style for the box shown on hovering the info icon */\n",
              ".sk-estimator-doc-link span {\n",
              "  display: none;\n",
              "  z-index: 9999;\n",
              "  position: relative;\n",
              "  font-weight: normal;\n",
              "  right: .2ex;\n",
              "  padding: .5ex;\n",
              "  margin: .5ex;\n",
              "  width: min-content;\n",
              "  min-width: 20ex;\n",
              "  max-width: 50ex;\n",
              "  color: var(--sklearn-color-text);\n",
              "  box-shadow: 2pt 2pt 4pt #999;\n",
              "  /* unfitted */\n",
              "  background: var(--sklearn-color-unfitted-level-0);\n",
              "  border: .5pt solid var(--sklearn-color-unfitted-level-3);\n",
              "}\n",
              "\n",
              ".sk-estimator-doc-link.fitted span {\n",
              "  /* fitted */\n",
              "  background: var(--sklearn-color-fitted-level-0);\n",
              "  border: var(--sklearn-color-fitted-level-3);\n",
              "}\n",
              "\n",
              ".sk-estimator-doc-link:hover span {\n",
              "  display: block;\n",
              "}\n",
              "\n",
              "/* \"?\"-specific style due to the `<a>` HTML tag */\n",
              "\n",
              "#sk-container-id-2 a.estimator_doc_link {\n",
              "  float: right;\n",
              "  font-size: 1rem;\n",
              "  line-height: 1em;\n",
              "  font-family: monospace;\n",
              "  background-color: var(--sklearn-color-background);\n",
              "  border-radius: 1rem;\n",
              "  height: 1rem;\n",
              "  width: 1rem;\n",
              "  text-decoration: none;\n",
              "  /* unfitted */\n",
              "  color: var(--sklearn-color-unfitted-level-1);\n",
              "  border: var(--sklearn-color-unfitted-level-1) 1pt solid;\n",
              "}\n",
              "\n",
              "#sk-container-id-2 a.estimator_doc_link.fitted {\n",
              "  /* fitted */\n",
              "  border: var(--sklearn-color-fitted-level-1) 1pt solid;\n",
              "  color: var(--sklearn-color-fitted-level-1);\n",
              "}\n",
              "\n",
              "/* On hover */\n",
              "#sk-container-id-2 a.estimator_doc_link:hover {\n",
              "  /* unfitted */\n",
              "  background-color: var(--sklearn-color-unfitted-level-3);\n",
              "  color: var(--sklearn-color-background);\n",
              "  text-decoration: none;\n",
              "}\n",
              "\n",
              "#sk-container-id-2 a.estimator_doc_link.fitted:hover {\n",
              "  /* fitted */\n",
              "  background-color: var(--sklearn-color-fitted-level-3);\n",
              "}\n",
              "</style><div id=\"sk-container-id-2\" class=\"sk-top-container\"><div class=\"sk-text-repr-fallback\"><pre>Pipeline(steps=[(&#x27;gender&#x27;,\n",
              "                 CustomMappingTransformer(mapping_column=&#x27;Gender&#x27;,\n",
              "                                          mapping_dict={&#x27;Female&#x27;: 1,\n",
              "                                                        &#x27;Male&#x27;: 0})),\n",
              "                (&#x27;class&#x27;,\n",
              "                 CustomMappingTransformer(mapping_column=&#x27;Class&#x27;,\n",
              "                                          mapping_dict={&#x27;C1&#x27;: 3, &#x27;C2&#x27;: 2,\n",
              "                                                        &#x27;C3&#x27;: 1, &#x27;Crew&#x27;: 0})),\n",
              "                (&#x27;joined&#x27;, CustomOHETransformer(target_column=&#x27;Joined&#x27;)),\n",
              "                (&#x27;fare&#x27;, CustomTukeyTransformer(target_column=&#x27;Fare&#x27;))],\n",
              "         verbose=True)</pre><b>In a Jupyter environment, please rerun this cell to show the HTML representation or trust the notebook. <br />On GitHub, the HTML representation is unable to render, please try loading this page with nbviewer.org.</b></div><div class=\"sk-container\" hidden><div class=\"sk-item sk-dashed-wrapped\"><div class=\"sk-label-container\"><div class=\"sk-label  sk-toggleable\"><input class=\"sk-toggleable__control sk-hidden--visually\" id=\"sk-estimator-id-8\" type=\"checkbox\" ><label for=\"sk-estimator-id-8\" class=\"sk-toggleable__label  sk-toggleable__label-arrow\"><div><div>Pipeline</div></div><div><a class=\"sk-estimator-doc-link \" rel=\"noreferrer\" target=\"_blank\" href=\"https://scikit-learn.org/1.6/modules/generated/sklearn.pipeline.Pipeline.html\">?<span>Documentation for Pipeline</span></a><span class=\"sk-estimator-doc-link \">i<span>Not fitted</span></span></div></label><div class=\"sk-toggleable__content \"><pre>Pipeline(steps=[(&#x27;gender&#x27;,\n",
              "                 CustomMappingTransformer(mapping_column=&#x27;Gender&#x27;,\n",
              "                                          mapping_dict={&#x27;Female&#x27;: 1,\n",
              "                                                        &#x27;Male&#x27;: 0})),\n",
              "                (&#x27;class&#x27;,\n",
              "                 CustomMappingTransformer(mapping_column=&#x27;Class&#x27;,\n",
              "                                          mapping_dict={&#x27;C1&#x27;: 3, &#x27;C2&#x27;: 2,\n",
              "                                                        &#x27;C3&#x27;: 1, &#x27;Crew&#x27;: 0})),\n",
              "                (&#x27;joined&#x27;, CustomOHETransformer(target_column=&#x27;Joined&#x27;)),\n",
              "                (&#x27;fare&#x27;, CustomTukeyTransformer(target_column=&#x27;Fare&#x27;))],\n",
              "         verbose=True)</pre></div> </div></div><div class=\"sk-serial\"><div class=\"sk-item\"><div class=\"sk-estimator  sk-toggleable\"><input class=\"sk-toggleable__control sk-hidden--visually\" id=\"sk-estimator-id-9\" type=\"checkbox\" ><label for=\"sk-estimator-id-9\" class=\"sk-toggleable__label  sk-toggleable__label-arrow\"><div><div>CustomMappingTransformer</div></div></label><div class=\"sk-toggleable__content \"><pre>CustomMappingTransformer(mapping_column=&#x27;Gender&#x27;,\n",
              "                         mapping_dict={&#x27;Female&#x27;: 1, &#x27;Male&#x27;: 0})</pre></div> </div></div><div class=\"sk-item\"><div class=\"sk-estimator  sk-toggleable\"><input class=\"sk-toggleable__control sk-hidden--visually\" id=\"sk-estimator-id-10\" type=\"checkbox\" ><label for=\"sk-estimator-id-10\" class=\"sk-toggleable__label  sk-toggleable__label-arrow\"><div><div>CustomMappingTransformer</div></div></label><div class=\"sk-toggleable__content \"><pre>CustomMappingTransformer(mapping_column=&#x27;Class&#x27;,\n",
              "                         mapping_dict={&#x27;C1&#x27;: 3, &#x27;C2&#x27;: 2, &#x27;C3&#x27;: 1, &#x27;Crew&#x27;: 0})</pre></div> </div></div><div class=\"sk-item\"><div class=\"sk-estimator  sk-toggleable\"><input class=\"sk-toggleable__control sk-hidden--visually\" id=\"sk-estimator-id-11\" type=\"checkbox\" ><label for=\"sk-estimator-id-11\" class=\"sk-toggleable__label  sk-toggleable__label-arrow\"><div><div>CustomOHETransformer</div></div></label><div class=\"sk-toggleable__content \"><pre>CustomOHETransformer(target_column=&#x27;Joined&#x27;)</pre></div> </div></div><div class=\"sk-item\"><div class=\"sk-estimator  sk-toggleable\"><input class=\"sk-toggleable__control sk-hidden--visually\" id=\"sk-estimator-id-12\" type=\"checkbox\" ><label for=\"sk-estimator-id-12\" class=\"sk-toggleable__label  sk-toggleable__label-arrow\"><div><div>CustomTukeyTransformer</div></div></label><div class=\"sk-toggleable__content \"><pre>CustomTukeyTransformer(target_column=&#x27;Fare&#x27;)</pre></div> </div></div></div></div></div></div>"
            ],
            "text/plain": [
              "Pipeline(steps=[('gender',\n",
              "                 CustomMappingTransformer(mapping_column='Gender',\n",
              "                                          mapping_dict={'Female': 1,\n",
              "                                                        'Male': 0})),\n",
              "                ('class',\n",
              "                 CustomMappingTransformer(mapping_column='Class',\n",
              "                                          mapping_dict={'C1': 3, 'C2': 2,\n",
              "                                                        'C3': 1, 'Crew': 0})),\n",
              "                ('joined', CustomOHETransformer(target_column='Joined')),\n",
              "                ('fare', CustomTukeyTransformer(target_column='Fare'))],\n",
              "         verbose=True)"
            ]
          },
          "execution_count": 3,
          "metadata": {},
          "output_type": "execute_result"
        }
      ],
      "source": [
        "titanic_transformer  #4 steps"
      ]
    },
    {
      "cell_type": "code",
      "execution_count": 108,
      "metadata": {
        "id": "Wl6YCVfp1uyT"
      },
      "outputs": [],
      "source": [
        "url = 'https://raw.githubusercontent.com/fickas/asynch_models/refs/heads/main/datasets/titanic_trimmed.csv'\n",
        "titanic_table = pd.read_csv(url)  #using our new package to read in an entire dataset - the coolest"
      ]
    },
    {
      "cell_type": "code",
      "execution_count": 109,
      "metadata": {
        "id": "BoSy4udQ1uyT"
      },
      "outputs": [
        {
          "data": {
            "text/html": [
              "<div>\n",
              "<style scoped>\n",
              "    .dataframe tbody tr th:only-of-type {\n",
              "        vertical-align: middle;\n",
              "    }\n",
              "\n",
              "    .dataframe tbody tr th {\n",
              "        vertical-align: top;\n",
              "    }\n",
              "\n",
              "    .dataframe thead th {\n",
              "        text-align: right;\n",
              "    }\n",
              "</style>\n",
              "<table border=\"1\" class=\"dataframe\">\n",
              "  <thead>\n",
              "    <tr style=\"text-align: right;\">\n",
              "      <th></th>\n",
              "      <th>Age</th>\n",
              "      <th>Gender</th>\n",
              "      <th>Class</th>\n",
              "      <th>Joined</th>\n",
              "      <th>Married</th>\n",
              "      <th>Fare</th>\n",
              "      <th>Survived</th>\n",
              "    </tr>\n",
              "  </thead>\n",
              "  <tbody>\n",
              "    <tr>\n",
              "      <th>0</th>\n",
              "      <td>41.0</td>\n",
              "      <td>Male</td>\n",
              "      <td>C3</td>\n",
              "      <td>Southampton</td>\n",
              "      <td>0.0</td>\n",
              "      <td>7.0</td>\n",
              "      <td>0</td>\n",
              "    </tr>\n",
              "    <tr>\n",
              "      <th>1</th>\n",
              "      <td>21.0</td>\n",
              "      <td>Male</td>\n",
              "      <td>Crew</td>\n",
              "      <td>Southampton</td>\n",
              "      <td>0.0</td>\n",
              "      <td>0.0</td>\n",
              "      <td>0</td>\n",
              "    </tr>\n",
              "    <tr>\n",
              "      <th>2</th>\n",
              "      <td>13.0</td>\n",
              "      <td>Male</td>\n",
              "      <td>C3</td>\n",
              "      <td>Southampton</td>\n",
              "      <td>NaN</td>\n",
              "      <td>20.0</td>\n",
              "      <td>0</td>\n",
              "    </tr>\n",
              "    <tr>\n",
              "      <th>3</th>\n",
              "      <td>16.0</td>\n",
              "      <td>Male</td>\n",
              "      <td>C3</td>\n",
              "      <td>Southampton</td>\n",
              "      <td>0.0</td>\n",
              "      <td>NaN</td>\n",
              "      <td>0</td>\n",
              "    </tr>\n",
              "    <tr>\n",
              "      <th>4</th>\n",
              "      <td>NaN</td>\n",
              "      <td>Male</td>\n",
              "      <td>C2</td>\n",
              "      <td>Cherbourg</td>\n",
              "      <td>0.0</td>\n",
              "      <td>24.0</td>\n",
              "      <td>0</td>\n",
              "    </tr>\n",
              "  </tbody>\n",
              "</table>\n",
              "</div>"
            ],
            "text/plain": [
              "    Age Gender Class       Joined  Married  Fare  Survived\n",
              "0  41.0   Male    C3  Southampton      0.0   7.0         0\n",
              "1  21.0   Male  Crew  Southampton      0.0   0.0         0\n",
              "2  13.0   Male    C3  Southampton      NaN  20.0         0\n",
              "3  16.0   Male    C3  Southampton      0.0   NaN         0\n",
              "4   NaN   Male    C2    Cherbourg      0.0  24.0         0"
            ]
          },
          "execution_count": 109,
          "metadata": {},
          "output_type": "execute_result"
        }
      ],
      "source": [
        "titanic_table.head()  #print first 5 rows of the table"
      ]
    },
    {
      "cell_type": "code",
      "execution_count": 110,
      "metadata": {
        "id": "6-jtHSkd33ks"
      },
      "outputs": [],
      "source": [
        "titanic_features = titanic_table.drop(columns='Survived')"
      ]
    },
    {
      "cell_type": "markdown",
      "metadata": {
        "id": "GJHlx2tTBNNq"
      },
      "source": [
        "## Wrangle using your pipeline\n",
        "\n",
        "I added a Tukey check on `Fare`.  I am using the outer fence, meaning I am only interested in \"probables\".\n",
        "\n",
        "If you are still working on the `TukeyTransformer` from last chapter, you can leave it off for now."
      ]
    },
    {
      "cell_type": "code",
      "execution_count": 111,
      "metadata": {
        "id": "R-eO6gReCT-8"
      },
      "outputs": [
        {
          "name": "stdout",
          "output_type": "stream",
          "text": [
            "[Pipeline] ............ (step 1 of 4) Processing gender, total=   0.0s\n",
            "\n",
            "Warning: CustomMappingTransformer[Class] does not contain keys for these values {nan}\n",
            "\n",
            "[Pipeline] ............. (step 2 of 4) Processing class, total=   0.0s\n",
            "[Pipeline] ............ (step 3 of 4) Processing joined, total=   0.0s\n",
            "[Pipeline] .............. (step 4 of 4) Processing fare, total=   0.0s\n"
          ]
        }
      ],
      "source": [
        "transformed_df: pd.DataFrame = titanic_transformer.fit_transform(titanic_features)"
      ]
    },
    {
      "cell_type": "code",
      "execution_count": 112,
      "metadata": {
        "id": "ZR2eIY3VUx86"
      },
      "outputs": [
        {
          "data": {
            "text/html": [
              "<div>\n",
              "<style scoped>\n",
              "    .dataframe tbody tr th:only-of-type {\n",
              "        vertical-align: middle;\n",
              "    }\n",
              "\n",
              "    .dataframe tbody tr th {\n",
              "        vertical-align: top;\n",
              "    }\n",
              "\n",
              "    .dataframe thead th {\n",
              "        text-align: right;\n",
              "    }\n",
              "</style>\n",
              "<table border=\"1\" class=\"dataframe\">\n",
              "  <thead>\n",
              "    <tr style=\"text-align: right;\">\n",
              "      <th></th>\n",
              "      <th>Age</th>\n",
              "      <th>Gender</th>\n",
              "      <th>Class</th>\n",
              "      <th>Married</th>\n",
              "      <th>Fare</th>\n",
              "      <th>Joined_Belfast</th>\n",
              "      <th>Joined_Cherbourg</th>\n",
              "      <th>Joined_Queenstown</th>\n",
              "      <th>Joined_Southampton</th>\n",
              "    </tr>\n",
              "  </thead>\n",
              "  <tbody>\n",
              "    <tr>\n",
              "      <th>0</th>\n",
              "      <td>41.0</td>\n",
              "      <td>0</td>\n",
              "      <td>1.0</td>\n",
              "      <td>0.0</td>\n",
              "      <td>7.0</td>\n",
              "      <td>0</td>\n",
              "      <td>0</td>\n",
              "      <td>0</td>\n",
              "      <td>1</td>\n",
              "    </tr>\n",
              "    <tr>\n",
              "      <th>1</th>\n",
              "      <td>21.0</td>\n",
              "      <td>0</td>\n",
              "      <td>0.0</td>\n",
              "      <td>0.0</td>\n",
              "      <td>0.0</td>\n",
              "      <td>0</td>\n",
              "      <td>0</td>\n",
              "      <td>0</td>\n",
              "      <td>1</td>\n",
              "    </tr>\n",
              "    <tr>\n",
              "      <th>2</th>\n",
              "      <td>13.0</td>\n",
              "      <td>0</td>\n",
              "      <td>1.0</td>\n",
              "      <td>NaN</td>\n",
              "      <td>20.0</td>\n",
              "      <td>0</td>\n",
              "      <td>0</td>\n",
              "      <td>0</td>\n",
              "      <td>1</td>\n",
              "    </tr>\n",
              "    <tr>\n",
              "      <th>3</th>\n",
              "      <td>16.0</td>\n",
              "      <td>0</td>\n",
              "      <td>1.0</td>\n",
              "      <td>0.0</td>\n",
              "      <td>NaN</td>\n",
              "      <td>0</td>\n",
              "      <td>0</td>\n",
              "      <td>0</td>\n",
              "      <td>1</td>\n",
              "    </tr>\n",
              "    <tr>\n",
              "      <th>4</th>\n",
              "      <td>NaN</td>\n",
              "      <td>0</td>\n",
              "      <td>2.0</td>\n",
              "      <td>0.0</td>\n",
              "      <td>24.0</td>\n",
              "      <td>0</td>\n",
              "      <td>1</td>\n",
              "      <td>0</td>\n",
              "      <td>0</td>\n",
              "    </tr>\n",
              "  </tbody>\n",
              "</table>\n",
              "</div>"
            ],
            "text/plain": [
              "    Age  Gender  Class  Married  Fare  Joined_Belfast  Joined_Cherbourg  \\\n",
              "0  41.0       0    1.0      0.0   7.0               0                 0   \n",
              "1  21.0       0    0.0      0.0   0.0               0                 0   \n",
              "2  13.0       0    1.0      NaN  20.0               0                 0   \n",
              "3  16.0       0    1.0      0.0   NaN               0                 0   \n",
              "4   NaN       0    2.0      0.0  24.0               0                 1   \n",
              "\n",
              "   Joined_Queenstown  Joined_Southampton  \n",
              "0                  0                   1  \n",
              "1                  0                   1  \n",
              "2                  0                   1  \n",
              "3                  0                   1  \n",
              "4                  0                   0  "
            ]
          },
          "execution_count": 112,
          "metadata": {},
          "output_type": "execute_result"
        }
      ],
      "source": [
        "transformed_df.head()"
      ]
    },
    {
      "cell_type": "code",
      "execution_count": 9,
      "metadata": {
        "id": "3YN4g2GQtqbN"
      },
      "outputs": [
        {
          "data": {
            "text/plain": [
              "Age                   float64\n",
              "Gender                  int64\n",
              "Class                 float64\n",
              "Married               float64\n",
              "Fare                  float64\n",
              "Joined_Belfast          int64\n",
              "Joined_Cherbourg        int64\n",
              "Joined_Queenstown       int64\n",
              "Joined_Southampton      int64\n",
              "dtype: object"
            ]
          },
          "execution_count": 9,
          "metadata": {},
          "output_type": "execute_result"
        }
      ],
      "source": [
        "transformed_df.dtypes  #all numeric"
      ]
    },
    {
      "cell_type": "code",
      "execution_count": 10,
      "metadata": {
        "id": "au2AMeD0SaQG"
      },
      "outputs": [
        {
          "data": {
            "text/plain": [
              "(0.0, 101.0)"
            ]
          },
          "execution_count": 10,
          "metadata": {},
          "output_type": "execute_result"
        }
      ],
      "source": [
        "#making sure you have run Fare through Tukey\n",
        "transformed_df['Fare'].min(), transformed_df['Fare'].max()  #(0.0, 101.0)"
      ]
    },
    {
      "cell_type": "markdown",
      "metadata": {
        "id": "5Y1huouejzY5"
      },
      "source": [
        "# II. Transforming columns as apples to apples\n",
        "<img src='https://www.dropbox.com/s/9fcc1crlxp19ijt/major_section.png?raw=1' width='300'>\n",
        "\n",
        "Looking ahead, I know some of the machine learning algorithms we will look at are sensitive to large range discrepencies between columns. As an example, look at the first 2 rows. If we calculate the difference between these 2 rows, we will get a difference of 20 for `Age` but a difference of 1 for `Class`. If we use something like Euclidean distance, treating each row as a point, we will use this formula to get the difference between the rows:\n",
        "\n",
        "<img src='https://www.dropbox.com/s/y2pucqx4e8uokj6/Screen%20Shot%202021-09-01%20at%201.09.02%20PM.png?raw=1'>\n",
        "\n",
        "I hope you see that the `Age` difference (now squared to get to 400!) will swamp the `Class` difference (1 squared). We might as well drop all the columns with small values and just keep `Age` and `Fare`.\n",
        "\n",
        "But I want the other columns! They may carry valuable information. The solution is to get their ranges all in same ballpark."
      ]
    },
    {
      "cell_type": "markdown",
      "metadata": {
        "id": "8p_LKOQWWwcy"
      },
      "source": [
        "## Build a test table\n",
        "\n",
        "I'll use this for demo purposes. There are only 2 columns we need to worry about, `Age` and `Fare`. The remaining columns are binary or close to binary. So `Age` and `Fare` are the problems."
      ]
    },
    {
      "cell_type": "code",
      "execution_count": 15,
      "metadata": {
        "id": "hXmt0SpiW3A0"
      },
      "outputs": [
        {
          "data": {
            "text/html": [
              "<div>\n",
              "<style scoped>\n",
              "    .dataframe tbody tr th:only-of-type {\n",
              "        vertical-align: middle;\n",
              "    }\n",
              "\n",
              "    .dataframe tbody tr th {\n",
              "        vertical-align: top;\n",
              "    }\n",
              "\n",
              "    .dataframe thead th {\n",
              "        text-align: right;\n",
              "    }\n",
              "</style>\n",
              "<table border=\"1\" class=\"dataframe\">\n",
              "  <thead>\n",
              "    <tr style=\"text-align: right;\">\n",
              "      <th></th>\n",
              "      <th>count</th>\n",
              "      <th>mean</th>\n",
              "      <th>std</th>\n",
              "      <th>min</th>\n",
              "      <th>25%</th>\n",
              "      <th>50%</th>\n",
              "      <th>75%</th>\n",
              "      <th>max</th>\n",
              "    </tr>\n",
              "  </thead>\n",
              "  <tbody>\n",
              "    <tr>\n",
              "      <th>Age</th>\n",
              "      <td>1304.0</td>\n",
              "      <td>31.574387</td>\n",
              "      <td>14.346945</td>\n",
              "      <td>1.0</td>\n",
              "      <td>22.0</td>\n",
              "      <td>30.5</td>\n",
              "      <td>41.0</td>\n",
              "      <td>74.0</td>\n",
              "    </tr>\n",
              "    <tr>\n",
              "      <th>Fare</th>\n",
              "      <td>1311.0</td>\n",
              "      <td>25.253074</td>\n",
              "      <td>28.750343</td>\n",
              "      <td>0.0</td>\n",
              "      <td>7.0</td>\n",
              "      <td>13.0</td>\n",
              "      <td>30.5</td>\n",
              "      <td>101.0</td>\n",
              "    </tr>\n",
              "  </tbody>\n",
              "</table>\n",
              "</div>"
            ],
            "text/plain": [
              "       count       mean        std  min   25%   50%   75%    max\n",
              "Age   1304.0  31.574387  14.346945  1.0  22.0  30.5  41.0   74.0\n",
              "Fare  1311.0  25.253074  28.750343  0.0   7.0  13.0  30.5  101.0"
            ]
          },
          "execution_count": 15,
          "metadata": {},
          "output_type": "execute_result"
        }
      ],
      "source": [
        "demo_df = transformed_df[['Age', 'Fare']]\n",
        "demo_df.describe(include='all').T  # different than video"
      ]
    },
    {
      "cell_type": "markdown",
      "metadata": {
        "id": "TkH5dbKhS8X-"
      },
      "source": [
        "<pre>\n",
        "\n",
        "count\tmean\tstd\tmin\t25%\t50%\t75%\tmax\n",
        "Age\t1304.0\t31.574387\t14.346945\t1.0\t22.0\t30.5\t41.0\t74.0\n",
        "Fare\t1311.0\t25.253074\t28.750343\t0.0\t7.0\t13.0\t30.5\t101.0\n",
        "</pre>"
      ]
    },
    {
      "cell_type": "markdown",
      "metadata": {
        "id": "x29N4kIy6COG"
      },
      "source": [
        "## Reminder of what we have before scaling"
      ]
    },
    {
      "cell_type": "code",
      "execution_count": 16,
      "metadata": {
        "id": "c26cWUZ-52ir"
      },
      "outputs": [
        {
          "data": {
            "text/plain": [
              "<Axes: ylabel='Frequency'>"
            ]
          },
          "execution_count": 16,
          "metadata": {},
          "output_type": "execute_result"
        },
        {
          "data": {
            "image/png": "[encoded data removed]",
            "text/plain": [
              "<Figure size 640x480 with 1 Axes>"
            ]
          },
          "metadata": {},
          "output_type": "display_data"
        }
      ],
      "source": [
        "transformed_df['Age'].plot(kind='hist')"
      ]
    },
    {
      "cell_type": "code",
      "execution_count": 17,
      "metadata": {
        "id": "5yJnCieu5_zP"
      },
      "outputs": [
        {
          "data": {
            "text/plain": [
              "<Axes: ylabel='Frequency'>"
            ]
          },
          "execution_count": 17,
          "metadata": {},
          "output_type": "execute_result"
        },
        {
          "data": {
            "image/png": "[encoded data removed]",
            "text/plain": [
              "<Figure size 640x480 with 1 Axes>"
            ]
          },
          "metadata": {},
          "output_type": "display_data"
        }
      ],
      "source": [
        "transformed_df['Fare'].plot(kind='hist')"
      ]
    },
    {
      "cell_type": "markdown",
      "metadata": {
        "id": "Gl7J-ZPU-4xj"
      },
      "source": [
        "# III. Min-Max scaling\n",
        "\n",
        "A very standard approach is to place each column in the range between 0 and 1 (inclusive). The formula for this is:\n",
        "\n",
        "<img src='https://www.dropbox.com/s/j4j2jhkmuweej1s/Screen%20Shot%202021-09-01%20at%201.16.27%20PM.png?raw=1'>\n",
        "\n",
        "A little confusing. Read it as (a) take the min of the column, (b) take the max of the column, (c) take each value and scale as shown to get new value. This will give you a range of 0 to 1 for entire column."
      ]
    },
    {
      "cell_type": "markdown",
      "metadata": {
        "id": "pUV3oBwgClFw"
      },
      "source": [
        "<img src='https://www.dropbox.com/s/8x575mvbi1xumje/cash_line.png?raw=1' height=3 width=500><br>\n",
        "<img src='https://www.gannett-cdn.com/-mm-/56cbeec8287997813f287995de67747ba5e101d5/c=9-0-1280-718/local/-/media/2018/02/15/Phoenix/Phoenix/636542954131413889-image.jpg'\n",
        "height=50 align=center>\n",
        "\n",
        "Go ahead and test the formula above for the `Age` column. Apply the formula above to the column. See what the resulting min and max are. Should be 0 and 1.\n",
        "\n",
        "You should be able to use pandas methods to do what you want.\n",
        "\n",
        "BTW: I want the scaled Age in a new dataframe, `demo2`.\n",
        "\n",
        "\n"
      ]
    },
    {
      "cell_type": "code",
      "execution_count": 18,
      "metadata": {
        "id": "u8cqCF9zQzny"
      },
      "outputs": [],
      "source": [
        "demo2 = demo_df.copy()\n",
        "#your code below. You will need min and max of Age. Then use formula to scale the Age column. Note I needed no loops or comprehensions by using built-in pandas operators.\n",
        "\n",
        "age_min = demo_df['Age'].min()\n",
        "age_max = demo_df['Age'].max()\n",
        "demo2['Age'] = (demo_df['Age'] - age_min) / (age_max - age_min)\n"
      ]
    },
    {
      "cell_type": "code",
      "execution_count": 19,
      "metadata": {
        "id": "MnlUB_klvYJc"
      },
      "outputs": [
        {
          "data": {
            "text/plain": [
              "(0.0, 1.0)"
            ]
          },
          "execution_count": 19,
          "metadata": {},
          "output_type": "execute_result"
        }
      ],
      "source": [
        "(demo2['Age'].min(), demo2['Age'].max())  #(0.0, 1.0)"
      ]
    },
    {
      "cell_type": "code",
      "execution_count": 20,
      "metadata": {
        "id": "-403nxhniXLl"
      },
      "outputs": [
        {
          "data": {
            "text/plain": [
              "<Axes: ylabel='Frequency'>"
            ]
          },
          "execution_count": 20,
          "metadata": {},
          "output_type": "execute_result"
        },
        {
          "data": {
            "image/png": "[encoded data removed]",
            "text/plain": [
              "<Figure size 640x480 with 1 Axes>"
            ]
          },
          "metadata": {},
          "output_type": "display_data"
        }
      ],
      "source": [
        "demo2['Age'].plot(kind='hist')  #shape has not changed, just scale of x-axis"
      ]
    },
    {
      "cell_type": "markdown",
      "metadata": {
        "id": "_J7LPiIBh-qO"
      },
      "source": [
        "Now do same for Fare column. Use demo2 as starting point."
      ]
    },
    {
      "cell_type": "code",
      "execution_count": 21,
      "metadata": {
        "id": "o_LwwC_Ph9qO"
      },
      "outputs": [],
      "source": [
        "#your code below\n",
        "\n",
        "fare_min = demo_df['Fare'].min()\n",
        "fare_max = demo_df['Fare'].max()\n",
        "demo2['Fare'] = (demo_df['Fare'] - fare_min) / (fare_max - fare_min)\n"
      ]
    },
    {
      "cell_type": "code",
      "execution_count": 22,
      "metadata": {
        "id": "01Q-v1jVh9qP"
      },
      "outputs": [
        {
          "data": {
            "text/plain": [
              "(0.0, 1.0)"
            ]
          },
          "execution_count": 22,
          "metadata": {},
          "output_type": "execute_result"
        }
      ],
      "source": [
        "(demo2['Fare'].min(), demo2['Fare'].max())  #(0.0, 1.0)"
      ]
    },
    {
      "cell_type": "code",
      "execution_count": 23,
      "metadata": {
        "id": "qBEwg3kMihZK"
      },
      "outputs": [
        {
          "data": {
            "text/plain": [
              "<Axes: ylabel='Frequency'>"
            ]
          },
          "execution_count": 23,
          "metadata": {},
          "output_type": "execute_result"
        },
        {
          "data": {
            "image/png": "[encoded data removed]",
            "text/plain": [
              "<Figure size 640x480 with 1 Axes>"
            ]
          },
          "metadata": {},
          "output_type": "display_data"
        }
      ],
      "source": [
        "demo2['Fare'].plot(kind='hist')  #ditto - no change to shape just to scale"
      ]
    },
    {
      "cell_type": "markdown",
      "metadata": {
        "id": "ab6Y4fxhinHQ"
      },
      "source": [
        "### You can see distribution has not changed\n",
        "\n",
        "`Age` still semi-normal.\n",
        "\n",
        "`Fare` still right-skewed."
      ]
    },
    {
      "cell_type": "markdown",
      "metadata": {
        "id": "PLModKyPWlDC"
      },
      "source": [
        "### sklearn has a transformer\n",
        "\n",
        "<pre>\n",
        "from sklearn.preprocessing import MinMaxScaler\n",
        "scaler = MinMaxScaler()\n",
        "scaler.fit_transform(data)\n",
        "</pre>\n",
        "I hope you can see that this scaler  will give uniform ranges (between 0 and 1) to every column/feature. So apples to apples.\n",
        "\n",
        "Also note that this transformer is set up to work on the entire table, feature by feature. So you don't name a column/feature as target. The target is all the columns. But that is part of the problem. I may want to apply different scalers to different columns depending on their distributions. More later."
      ]
    },
    {
      "cell_type": "code",
      "execution_count": 24,
      "metadata": {
        "id": "KEyu3z1DXFXG"
      },
      "outputs": [
        {
          "data": {
            "text/html": [
              "<div>\n",
              "<style scoped>\n",
              "    .dataframe tbody tr th:only-of-type {\n",
              "        vertical-align: middle;\n",
              "    }\n",
              "\n",
              "    .dataframe tbody tr th {\n",
              "        vertical-align: top;\n",
              "    }\n",
              "\n",
              "    .dataframe thead th {\n",
              "        text-align: right;\n",
              "    }\n",
              "</style>\n",
              "<table border=\"1\" class=\"dataframe\">\n",
              "  <thead>\n",
              "    <tr style=\"text-align: right;\">\n",
              "      <th></th>\n",
              "      <th>count</th>\n",
              "      <th>mean</th>\n",
              "      <th>std</th>\n",
              "      <th>min</th>\n",
              "      <th>25%</th>\n",
              "      <th>50%</th>\n",
              "      <th>75%</th>\n",
              "      <th>max</th>\n",
              "    </tr>\n",
              "  </thead>\n",
              "  <tbody>\n",
              "    <tr>\n",
              "      <th>Age</th>\n",
              "      <td>1304.0</td>\n",
              "      <td>0.418827</td>\n",
              "      <td>0.196533</td>\n",
              "      <td>0.0</td>\n",
              "      <td>0.287671</td>\n",
              "      <td>0.404110</td>\n",
              "      <td>0.547945</td>\n",
              "      <td>1.0</td>\n",
              "    </tr>\n",
              "    <tr>\n",
              "      <th>Fare</th>\n",
              "      <td>1311.0</td>\n",
              "      <td>0.250030</td>\n",
              "      <td>0.284657</td>\n",
              "      <td>0.0</td>\n",
              "      <td>0.069307</td>\n",
              "      <td>0.128713</td>\n",
              "      <td>0.301980</td>\n",
              "      <td>1.0</td>\n",
              "    </tr>\n",
              "  </tbody>\n",
              "</table>\n",
              "</div>"
            ],
            "text/plain": [
              "       count      mean       std  min       25%       50%       75%  max\n",
              "Age   1304.0  0.418827  0.196533  0.0  0.287671  0.404110  0.547945  1.0\n",
              "Fare  1311.0  0.250030  0.284657  0.0  0.069307  0.128713  0.301980  1.0"
            ]
          },
          "execution_count": 24,
          "metadata": {},
          "output_type": "execute_result"
        }
      ],
      "source": [
        "from sklearn.preprocessing import MinMaxScaler\n",
        "scaler =  MinMaxScaler()\n",
        "numpy_result = scaler.fit_transform(demo_df)  #does not return a dataframe!\n",
        "new_df = pd.DataFrame(numpy_result, columns=['Age', 'Fare'])  #turn it back into a dataframe\n",
        "new_df.describe(include='all').T"
      ]
    },
    {
      "cell_type": "code",
      "execution_count": 25,
      "metadata": {
        "id": "McJoiDE8eBmX"
      },
      "outputs": [
        {
          "data": {
            "text/plain": [
              "<Axes: ylabel='Frequency'>"
            ]
          },
          "execution_count": 25,
          "metadata": {},
          "output_type": "execute_result"
        },
        {
          "data": {
            "image/png": "[encoded data removed]",
            "text/plain": [
              "<Figure size 640x480 with 1 Axes>"
            ]
          },
          "metadata": {},
          "output_type": "display_data"
        }
      ],
      "source": [
        "new_df['Age'].plot(kind='hist')"
      ]
    },
    {
      "cell_type": "code",
      "execution_count": 26,
      "metadata": {
        "id": "eL61lKT9eBmX"
      },
      "outputs": [
        {
          "data": {
            "text/plain": [
              "<Axes: ylabel='Frequency'>"
            ]
          },
          "execution_count": 26,
          "metadata": {},
          "output_type": "execute_result"
        },
        {
          "data": {
            "image/png": "[encoded data removed]",
            "text/plain": [
              "<Figure size 640x480 with 1 Axes>"
            ]
          },
          "metadata": {},
          "output_type": "display_data"
        }
      ],
      "source": [
        "new_df['Fare'].plot(kind='hist')"
      ]
    },
    {
      "cell_type": "markdown",
      "metadata": {
        "id": "TRn47VsvJh4E"
      },
      "source": [
        "# VI. Standardization (Z-score Normalization) Apples to Pears\n",
        "\n",
        "This is a slightly different approach that is less senstive to outliers.\n",
        "\n",
        "<img src='https://www.dropbox.com/s/bg7r231qrhfiiir/Screen%20Shot%202021-09-01%20at%201.56.09%20PM.png?raw=1'>\n",
        "\n",
        "We subtract the mean of the column and divide by the standard deviation (sigma) of the column.  In essence, use the old column to calculate how many sigmas a value is from the mean."
      ]
    },
    {
      "cell_type": "markdown",
      "metadata": {
        "id": "ksDu7F8KYa3p"
      },
      "source": [
        "<img src='https://www.dropbox.com/s/8x575mvbi1xumje/cash_line.png?raw=1' height=3 width=500><br>\n",
        "<img src='https://www.gannett-cdn.com/-mm-/56cbeec8287997813f287995de67747ba5e101d5/c=9-0-1280-718/local/-/media/2018/02/15/Phoenix/Phoenix/636542954131413889-image.jpg'\n",
        "height=50 align=center>\n",
        "\n",
        "\n",
        " Apply the formula above to the `Fare` column. See what the resulting min and max are. Are they 0 and 1?\n",
        "\n",
        "Remember that pandas has methods for mean and standard deviation.\n",
        "\n",
        "\n"
      ]
    },
    {
      "cell_type": "code",
      "execution_count": 27,
      "metadata": {
        "id": "OmvZzhdGRwgd"
      },
      "outputs": [],
      "source": [
        "demo2 = demo_df.copy()\n",
        "#your code below\n",
        "\n",
        "fare_stddev = demo_df['Fare'].std()\n",
        "fare_mean = demo_df['Fare'].mean()\n",
        "demo2['Fare'] = (demo_df['Fare'] - fare_mean) / fare_stddev"
      ]
    },
    {
      "cell_type": "code",
      "execution_count": 28,
      "metadata": {
        "id": "dTVZbGdw9Yoc"
      },
      "outputs": [
        {
          "data": {
            "text/plain": [
              "(-0.8783573098490415, 2.6346442491796966)"
            ]
          },
          "execution_count": 28,
          "metadata": {},
          "output_type": "execute_result"
        }
      ],
      "source": [
        "(demo2['Fare'].min(), demo2['Fare'].max())  #(-0.8783573098490415, 2.6346442491796966)"
      ]
    },
    {
      "cell_type": "markdown",
      "metadata": {
        "id": "0nLHAGdw-R5d"
      },
      "source": [
        "### Still mostly apples to apples\n",
        "\n",
        "Ranges from `-.87` to `2.63`. Seems ok."
      ]
    },
    {
      "cell_type": "markdown",
      "metadata": {
        "id": "lrsWnZ8ynPfh"
      },
      "source": [
        "### pandas handles NaN values gracefully\n",
        "\n",
        "There are NaN values in both Fare and Age. Let's see what happens if we decide to do our own thing without pandas methods."
      ]
    },
    {
      "cell_type": "code",
      "execution_count": 30,
      "metadata": {
        "id": "zq07Gv5w0EFy"
      },
      "outputs": [
        {
          "data": {
            "text/plain": [
              "nan"
            ]
          },
          "execution_count": 30,
          "metadata": {},
          "output_type": "execute_result"
        }
      ],
      "source": [
        "from statistics import mean, stdev\n",
        "fares = demo_df['Fare'].to_list()\n",
        "me = mean(fares)\n",
        "me"
      ]
    },
    {
      "cell_type": "markdown",
      "metadata": {
        "id": "tvpYdCzNn-1u"
      },
      "source": [
        "The takehome message is to use pandas methods whenever you can - they know about NaN and deal with them gracefully."
      ]
    },
    {
      "cell_type": "markdown",
      "metadata": {
        "id": "e5nkLejdYZwW"
      },
      "source": [
        "### There is a transformer for Z-score normalization\n",
        "\n",
        "<pre>\n",
        "from sklearn.preprocessing import StandardScaler\n",
        "scaler = StandardScaler()\n",
        "scaler.fit_transform(data)\n",
        "</pre>\n",
        "\n",
        "Note that this will not give you the same range across columns."
      ]
    },
    {
      "cell_type": "code",
      "execution_count": 31,
      "metadata": {
        "id": "SeOjCy0ZYCbZ"
      },
      "outputs": [
        {
          "data": {
            "text/html": [
              "<div>\n",
              "<style scoped>\n",
              "    .dataframe tbody tr th:only-of-type {\n",
              "        vertical-align: middle;\n",
              "    }\n",
              "\n",
              "    .dataframe tbody tr th {\n",
              "        vertical-align: top;\n",
              "    }\n",
              "\n",
              "    .dataframe thead th {\n",
              "        text-align: right;\n",
              "    }\n",
              "</style>\n",
              "<table border=\"1\" class=\"dataframe\">\n",
              "  <thead>\n",
              "    <tr style=\"text-align: right;\">\n",
              "      <th></th>\n",
              "      <th>count</th>\n",
              "      <th>mean</th>\n",
              "      <th>std</th>\n",
              "      <th>min</th>\n",
              "      <th>25%</th>\n",
              "      <th>50%</th>\n",
              "      <th>75%</th>\n",
              "      <th>max</th>\n",
              "    </tr>\n",
              "  </thead>\n",
              "  <tbody>\n",
              "    <tr>\n",
              "      <th>Age</th>\n",
              "      <td>1304.0</td>\n",
              "      <td>1.008055e-16</td>\n",
              "      <td>1.000384</td>\n",
              "      <td>-2.131891</td>\n",
              "      <td>-0.667603</td>\n",
              "      <td>-0.074915</td>\n",
              "      <td>0.657229</td>\n",
              "      <td>2.958253</td>\n",
              "    </tr>\n",
              "    <tr>\n",
              "      <th>Fare</th>\n",
              "      <td>1311.0</td>\n",
              "      <td>1.083971e-16</td>\n",
              "      <td>1.000382</td>\n",
              "      <td>-0.878692</td>\n",
              "      <td>-0.635124</td>\n",
              "      <td>-0.426351</td>\n",
              "      <td>0.182569</td>\n",
              "      <td>2.635650</td>\n",
              "    </tr>\n",
              "  </tbody>\n",
              "</table>\n",
              "</div>"
            ],
            "text/plain": [
              "       count          mean       std       min       25%       50%       75%  \\\n",
              "Age   1304.0  1.008055e-16  1.000384 -2.131891 -0.667603 -0.074915  0.657229   \n",
              "Fare  1311.0  1.083971e-16  1.000382 -0.878692 -0.635124 -0.426351  0.182569   \n",
              "\n",
              "           max  \n",
              "Age   2.958253  \n",
              "Fare  2.635650  "
            ]
          },
          "execution_count": 31,
          "metadata": {},
          "output_type": "execute_result"
        }
      ],
      "source": [
        "from sklearn.preprocessing import StandardScaler\n",
        "scaler = StandardScaler()\n",
        "new_df = pd.DataFrame(scaler.fit_transform(demo_df), columns=['Age', 'Fare'])\n",
        "new_df.describe(include='all').T"
      ]
    },
    {
      "cell_type": "markdown",
      "metadata": {
        "id": "Rk4yAAtJo0Hu"
      },
      "source": [
        "### Distribution roughly the same"
      ]
    },
    {
      "cell_type": "code",
      "execution_count": 32,
      "metadata": {
        "id": "1VXXI1SseEC0"
      },
      "outputs": [
        {
          "data": {
            "text/plain": [
              "<Axes: ylabel='Frequency'>"
            ]
          },
          "execution_count": 32,
          "metadata": {},
          "output_type": "execute_result"
        },
        {
          "data": {
            "image/png": "[encoded data removed]",
            "text/plain": [
              "<Figure size 640x480 with 1 Axes>"
            ]
          },
          "metadata": {},
          "output_type": "display_data"
        }
      ],
      "source": [
        "new_df['Age'].plot(kind='hist')"
      ]
    },
    {
      "cell_type": "code",
      "execution_count": 33,
      "metadata": {
        "id": "tVSAbCzs4yYN"
      },
      "outputs": [
        {
          "data": {
            "text/plain": [
              "<Axes: ylabel='Frequency'>"
            ]
          },
          "execution_count": 33,
          "metadata": {},
          "output_type": "execute_result"
        },
        {
          "data": {
            "image/png": "[encoded data removed]",
            "text/plain": [
              "<Figure size 640x480 with 1 Axes>"
            ]
          },
          "metadata": {},
          "output_type": "display_data"
        }
      ],
      "source": [
        "new_df['Fare'].plot(kind='hist')"
      ]
    },
    {
      "cell_type": "markdown",
      "metadata": {
        "id": "f4qnf6P-osEG"
      },
      "source": [
        "But again, it only operates on the entire table and that may not be what we want."
      ]
    },
    {
      "cell_type": "markdown",
      "metadata": {
        "id": "MPfgv21vZEcq"
      },
      "source": [
        "# V. Robust Scaler\n",
        "\n",
        "As we saw in chapter 4, any method that uses the mean and standard deviation has issues with outlier values. Outliers can skew a probability distribution and make data scaling using standardization difficult as the calculated mean and standard deviation will be skewed by the presence of the outliers.\n",
        "\n",
        "We also saw in chapter 4 that switching from mean and sigma to the use of quartiles could help with outliers. There is a scaler that uses the idea: the Robust Scaler.\n",
        "\n",
        "Here is the formula:\n",
        "\n",
        "`value_new = (value – median) / iqr #iqr = q3-q1`\n",
        "\n",
        "The resulting values have (approximately) a zero mean and median and a standard deviation of 1. If you want a more detailed discussion of this, see [Robust Scaler tutorial](https://proclusacademy.com/blog/robust-scaler-outliers/).\n"
      ]
    },
    {
      "cell_type": "markdown",
      "metadata": {
        "id": "P85bilcEZpZt"
      },
      "source": [
        "\n",
        "And as usual, sklearn has this transformer defined.\n",
        "\n",
        "<pre>\n",
        "from sklearn.preprocessing import RobustScaler\n",
        "scaler = RobustScaler()\n",
        "scaler.fit_transform(data)\n",
        "</pre>"
      ]
    },
    {
      "cell_type": "code",
      "execution_count": 34,
      "metadata": {
        "id": "qLX8owaFZfvg"
      },
      "outputs": [
        {
          "data": {
            "text/html": [
              "<div>\n",
              "<style scoped>\n",
              "    .dataframe tbody tr th:only-of-type {\n",
              "        vertical-align: middle;\n",
              "    }\n",
              "\n",
              "    .dataframe tbody tr th {\n",
              "        vertical-align: top;\n",
              "    }\n",
              "\n",
              "    .dataframe thead th {\n",
              "        text-align: right;\n",
              "    }\n",
              "</style>\n",
              "<table border=\"1\" class=\"dataframe\">\n",
              "  <thead>\n",
              "    <tr style=\"text-align: right;\">\n",
              "      <th></th>\n",
              "      <th>count</th>\n",
              "      <th>mean</th>\n",
              "      <th>std</th>\n",
              "      <th>min</th>\n",
              "      <th>25%</th>\n",
              "      <th>50%</th>\n",
              "      <th>75%</th>\n",
              "      <th>max</th>\n",
              "    </tr>\n",
              "  </thead>\n",
              "  <tbody>\n",
              "    <tr>\n",
              "      <th>Age</th>\n",
              "      <td>1304.0</td>\n",
              "      <td>0.056547</td>\n",
              "      <td>0.755102</td>\n",
              "      <td>-1.552632</td>\n",
              "      <td>-0.447368</td>\n",
              "      <td>0.0</td>\n",
              "      <td>0.552632</td>\n",
              "      <td>2.289474</td>\n",
              "    </tr>\n",
              "    <tr>\n",
              "      <th>Fare</th>\n",
              "      <td>1311.0</td>\n",
              "      <td>0.521407</td>\n",
              "      <td>1.223419</td>\n",
              "      <td>-0.553191</td>\n",
              "      <td>-0.255319</td>\n",
              "      <td>0.0</td>\n",
              "      <td>0.744681</td>\n",
              "      <td>3.744681</td>\n",
              "    </tr>\n",
              "  </tbody>\n",
              "</table>\n",
              "</div>"
            ],
            "text/plain": [
              "       count      mean       std       min       25%  50%       75%       max\n",
              "Age   1304.0  0.056547  0.755102 -1.552632 -0.447368  0.0  0.552632  2.289474\n",
              "Fare  1311.0  0.521407  1.223419 -0.553191 -0.255319  0.0  0.744681  3.744681"
            ]
          },
          "execution_count": 34,
          "metadata": {},
          "output_type": "execute_result"
        }
      ],
      "source": [
        "from sklearn.preprocessing import RobustScaler\n",
        "scaler = RobustScaler()\n",
        "new_df = pd.DataFrame(scaler.fit_transform(demo_df), columns=['Age', 'Fare'])\n",
        "new_df.describe(include='all').T"
      ]
    },
    {
      "cell_type": "markdown",
      "metadata": {
        "id": "kvQpACyh38ip"
      },
      "source": [
        "## Still looking pretty good\n",
        "\n",
        "Both columns are in the apples to apples range. Note that if we had not applied Tukey to Fare, this would not be the case. When I tried RobustScaler without Tukey, I go a max of 35, which is too large."
      ]
    },
    {
      "cell_type": "code",
      "execution_count": 35,
      "metadata": {
        "id": "emKcIn50eGIu"
      },
      "outputs": [
        {
          "data": {
            "text/plain": [
              "<Axes: ylabel='Frequency'>"
            ]
          },
          "execution_count": 35,
          "metadata": {},
          "output_type": "execute_result"
        },
        {
          "data": {
            "image/png": "[encoded data removed]",
            "text/plain": [
              "<Figure size 640x480 with 1 Axes>"
            ]
          },
          "metadata": {},
          "output_type": "display_data"
        }
      ],
      "source": [
        "new_df['Age'].plot(kind='hist')"
      ]
    },
    {
      "cell_type": "code",
      "execution_count": 36,
      "metadata": {
        "id": "rY47DuPO42s7"
      },
      "outputs": [
        {
          "data": {
            "text/plain": [
              "<Axes: ylabel='Frequency'>"
            ]
          },
          "execution_count": 36,
          "metadata": {},
          "output_type": "execute_result"
        },
        {
          "data": {
            "image/png": "[encoded data removed]",
            "text/plain": [
              "<Figure size 640x480 with 1 Axes>"
            ]
          },
          "metadata": {},
          "output_type": "display_data"
        }
      ],
      "source": [
        "new_df['Fare'].plot(kind='hist')"
      ]
    },
    {
      "cell_type": "markdown",
      "metadata": {
        "id": "NL220o760IFI"
      },
      "source": [
        "# VI. Box Cox normalizer\n",
        "\n",
        "Up until know, we have been looking at transforms that use linear methods. The next set we look at will attempt to normalize the dataset by unskewing it if necessary. This involves non-linear transformations that can be a bit murky in terms of interpretability. The first is a method called Box Cox. It takes a column of values in and does an exhaustive search on a parameter called lambda using this equation:\n",
        "\n",
        "<img src='https://www.dropbox.com/s/esqhkw8cgyh4nya/Screen%20Shot%202022-09-22%20at%2010.09.45%20AM.png?raw=1' height=100>\n",
        "\n",
        "or simplified\n",
        "\n",
        "<img src='https://www.dropbox.com/s/xj6wxava4ofhgf4/Screen%20Shot%202022-09-22%20at%2010.10.24%20AM.png?raw=1' height=75>\n",
        "\n",
        "The old column values are `yi`. The new values are `yi(λ)`. A search is done over lambda between -5 to +5. The lambda value that gives the closest to a normal distribution of `yi(λ)` is chosen. See [Fit goodness paper](https://arxiv.org/pdf/1401.3812.pdf).\n",
        "\n",
        "Note the limit of Yi to the lambda minus 1 over lambda, as lambda approaches 0, is log yi. That covers the lambda=0 case.\n",
        "\n",
        "**The values `yi` must be strictly positive.**"
      ]
    },
    {
      "cell_type": "markdown",
      "metadata": {
        "id": "alEFW3sa_ZK9"
      },
      "source": [
        "<img src='https://capture.dropbox.com/NqYhzu3P2muKakkM?raw=1'>"
      ]
    },
    {
      "cell_type": "code",
      "execution_count": 37,
      "metadata": {
        "id": "jmXEafybaUJc"
      },
      "outputs": [
        {
          "name": "stderr",
          "output_type": "stream",
          "text": [
            "/tmp/ipykernel_49993/4188931768.py:1: SettingWithCopyWarning: \n",
            "A value is trying to be set on a copy of a slice from a DataFrame.\n",
            "Try using .loc[row_indexer,col_indexer] = value instead\n",
            "\n",
            "See the caveats in the documentation: https://pandas.pydata.org/pandas-docs/stable/user_guide/indexing.html#returning-a-view-versus-a-copy\n",
            "  demo_df['Fare'] += .00001  #to make all values positive\n",
            "/tmp/ipykernel_49993/4188931768.py:2: SettingWithCopyWarning: \n",
            "A value is trying to be set on a copy of a slice from a DataFrame.\n",
            "Try using .loc[row_indexer,col_indexer] = value instead\n",
            "\n",
            "See the caveats in the documentation: https://pandas.pydata.org/pandas-docs/stable/user_guide/indexing.html#returning-a-view-versus-a-copy\n",
            "  demo_df['Age'] += .00001  #to make all values positive\n"
          ]
        }
      ],
      "source": [
        "demo_df['Fare'] += .00001  #to make all values positive\n",
        "demo_df['Age'] += .00001  #to make all values positive"
      ]
    },
    {
      "cell_type": "code",
      "execution_count": 40,
      "metadata": {
        "id": "__5rcErmuQO2"
      },
      "outputs": [
        {
          "data": {
            "text/plain": [
              "1e-05"
            ]
          },
          "execution_count": 40,
          "metadata": {},
          "output_type": "execute_result"
        }
      ],
      "source": [
        "demo_df['Fare'].min()  #was 0 now slightly positive"
      ]
    },
    {
      "cell_type": "markdown",
      "metadata": {
        "id": "75mCT8GoY1aH"
      },
      "source": [
        "### Using another built-in sklearn transformer\n",
        "\n",
        "Which again operates on all columns: you cannot select column to work on."
      ]
    },
    {
      "cell_type": "code",
      "execution_count": 41,
      "metadata": {
        "id": "cyi8QmRW0Ksi"
      },
      "outputs": [
        {
          "data": {
            "text/html": [
              "<div>\n",
              "<style scoped>\n",
              "    .dataframe tbody tr th:only-of-type {\n",
              "        vertical-align: middle;\n",
              "    }\n",
              "\n",
              "    .dataframe tbody tr th {\n",
              "        vertical-align: top;\n",
              "    }\n",
              "\n",
              "    .dataframe thead th {\n",
              "        text-align: right;\n",
              "    }\n",
              "</style>\n",
              "<table border=\"1\" class=\"dataframe\">\n",
              "  <thead>\n",
              "    <tr style=\"text-align: right;\">\n",
              "      <th></th>\n",
              "      <th>count</th>\n",
              "      <th>mean</th>\n",
              "      <th>std</th>\n",
              "      <th>min</th>\n",
              "      <th>25%</th>\n",
              "      <th>50%</th>\n",
              "      <th>75%</th>\n",
              "      <th>max</th>\n",
              "    </tr>\n",
              "  </thead>\n",
              "  <tbody>\n",
              "    <tr>\n",
              "      <th>Age</th>\n",
              "      <td>1304.0</td>\n",
              "      <td>1.743663e-16</td>\n",
              "      <td>1.000384</td>\n",
              "      <td>-2.367236</td>\n",
              "      <td>-0.632676</td>\n",
              "      <td>-0.034756</td>\n",
              "      <td>0.670255</td>\n",
              "      <td>2.736505</td>\n",
              "    </tr>\n",
              "    <tr>\n",
              "      <th>Fare</th>\n",
              "      <td>1311.0</td>\n",
              "      <td>-1.083971e-16</td>\n",
              "      <td>1.000382</td>\n",
              "      <td>-1.876567</td>\n",
              "      <td>-0.176358</td>\n",
              "      <td>0.111551</td>\n",
              "      <td>0.586490</td>\n",
              "      <td>1.444463</td>\n",
              "    </tr>\n",
              "  </tbody>\n",
              "</table>\n",
              "</div>"
            ],
            "text/plain": [
              "       count          mean       std       min       25%       50%       75%  \\\n",
              "Age   1304.0  1.743663e-16  1.000384 -2.367236 -0.632676 -0.034756  0.670255   \n",
              "Fare  1311.0 -1.083971e-16  1.000382 -1.876567 -0.176358  0.111551  0.586490   \n",
              "\n",
              "           max  \n",
              "Age   2.736505  \n",
              "Fare  1.444463  "
            ]
          },
          "execution_count": 41,
          "metadata": {},
          "output_type": "execute_result"
        }
      ],
      "source": [
        "from sklearn.preprocessing import PowerTransformer\n",
        "scaler = PowerTransformer(method='box-cox')\n",
        "new_df = pd.DataFrame(scaler.fit_transform(demo_df), columns=['Age', 'Fare'])\n",
        "new_df.describe(include='all').T # different than video\n"
      ]
    },
    {
      "cell_type": "markdown",
      "metadata": {
        "id": "gRxYpHAsZHk8"
      },
      "source": [
        "### Mostly apples to apples\n",
        "\n",
        "`Age` ranges from -2.75 to 3.23. `Fare` from -1.18 to 1.16. I'd say this is acceptable."
      ]
    },
    {
      "cell_type": "code",
      "execution_count": 42,
      "metadata": {
        "id": "KzRQl8_RbFCb"
      },
      "outputs": [
        {
          "data": {
            "text/plain": [
              "<Axes: ylabel='Frequency'>"
            ]
          },
          "execution_count": 42,
          "metadata": {},
          "output_type": "execute_result"
        },
        {
          "data": {
            "image/png": "[encoded data removed]",
            "text/plain": [
              "<Figure size 640x480 with 1 Axes>"
            ]
          },
          "metadata": {},
          "output_type": "display_data"
        }
      ],
      "source": [
        "new_df['Age'].plot(kind='hist')"
      ]
    },
    {
      "cell_type": "code",
      "execution_count": 43,
      "metadata": {
        "id": "oCw6qUQQdz25"
      },
      "outputs": [
        {
          "data": {
            "text/plain": [
              "<Axes: ylabel='Frequency'>"
            ]
          },
          "execution_count": 43,
          "metadata": {},
          "output_type": "execute_result"
        },
        {
          "data": {
            "image/png": "[encoded data removed]",
            "text/plain": [
              "<Figure size 640x480 with 1 Axes>"
            ]
          },
          "metadata": {},
          "output_type": "display_data"
        }
      ],
      "source": [
        "new_df['Fare'].plot(kind='hist')"
      ]
    },
    {
      "cell_type": "code",
      "execution_count": 44,
      "metadata": {
        "id": "1lAHqaXIv-uj"
      },
      "outputs": [
        {
          "data": {
            "text/plain": [
              "-0.7805798311296728"
            ]
          },
          "execution_count": 44,
          "metadata": {},
          "output_type": "execute_result"
        }
      ],
      "source": [
        "new_df['Fare'].skew()  #-0.7805798491257958"
      ]
    },
    {
      "cell_type": "markdown",
      "metadata": {
        "id": "SLLgtBdUm6m7"
      },
      "source": [
        "# VII. Yeo Johnson\n",
        "\n",
        "A modifiction of Box Cox that removes the restriction of positive numbers is the Yeo-Johnson transform:\n",
        "\n",
        "<img src='https://www.dropbox.com/s/jgx6tc04jf3wvd8/Screen%20Shot%202021-09-02%20at%2010.43.07%20AM.png?raw=1' height=100>\n",
        "\n",
        "Like Box-Cox, a search is done over lambda to find the value that most closely produces a normal distribution."
      ]
    },
    {
      "cell_type": "code",
      "execution_count": 45,
      "metadata": {
        "id": "0AF_l_sEdzAg"
      },
      "outputs": [
        {
          "data": {
            "text/html": [
              "<div>\n",
              "<style scoped>\n",
              "    .dataframe tbody tr th:only-of-type {\n",
              "        vertical-align: middle;\n",
              "    }\n",
              "\n",
              "    .dataframe tbody tr th {\n",
              "        vertical-align: top;\n",
              "    }\n",
              "\n",
              "    .dataframe thead th {\n",
              "        text-align: right;\n",
              "    }\n",
              "</style>\n",
              "<table border=\"1\" class=\"dataframe\">\n",
              "  <thead>\n",
              "    <tr style=\"text-align: right;\">\n",
              "      <th></th>\n",
              "      <th>count</th>\n",
              "      <th>mean</th>\n",
              "      <th>std</th>\n",
              "      <th>min</th>\n",
              "      <th>25%</th>\n",
              "      <th>50%</th>\n",
              "      <th>75%</th>\n",
              "      <th>max</th>\n",
              "    </tr>\n",
              "  </thead>\n",
              "  <tbody>\n",
              "    <tr>\n",
              "      <th>Age</th>\n",
              "      <td>1304.0</td>\n",
              "      <td>-1.280503e-16</td>\n",
              "      <td>1.000384</td>\n",
              "      <td>-2.337992</td>\n",
              "      <td>-0.636649</td>\n",
              "      <td>-0.037996</td>\n",
              "      <td>0.669986</td>\n",
              "      <td>2.752743</td>\n",
              "    </tr>\n",
              "    <tr>\n",
              "      <th>Fare</th>\n",
              "      <td>1311.0</td>\n",
              "      <td>-9.755736e-17</td>\n",
              "      <td>1.000382</td>\n",
              "      <td>-1.609583</td>\n",
              "      <td>-0.460467</td>\n",
              "      <td>-0.061823</td>\n",
              "      <td>0.599782</td>\n",
              "      <td>1.767552</td>\n",
              "    </tr>\n",
              "  </tbody>\n",
              "</table>\n",
              "</div>"
            ],
            "text/plain": [
              "       count          mean       std       min       25%       50%       75%  \\\n",
              "Age   1304.0 -1.280503e-16  1.000384 -2.337992 -0.636649 -0.037996  0.669986   \n",
              "Fare  1311.0 -9.755736e-17  1.000382 -1.609583 -0.460467 -0.061823  0.599782   \n",
              "\n",
              "           max  \n",
              "Age   2.752743  \n",
              "Fare  1.767552  "
            ]
          },
          "execution_count": 45,
          "metadata": {},
          "output_type": "execute_result"
        }
      ],
      "source": [
        "scaler = PowerTransformer(method='yeo-johnson')\n",
        "new_df = pd.DataFrame(scaler.fit_transform(demo_df), columns=['Age', 'Fare'])\n",
        "new_df.describe(include='all').T  #different than video"
      ]
    },
    {
      "cell_type": "markdown",
      "metadata": {
        "id": "UVFoM3uAZf7E"
      },
      "source": [
        "### Again, mostly apples to apples"
      ]
    },
    {
      "cell_type": "code",
      "execution_count": 46,
      "metadata": {
        "id": "H2l_NCr_e6_s"
      },
      "outputs": [
        {
          "data": {
            "text/plain": [
              "<Axes: ylabel='Frequency'>"
            ]
          },
          "execution_count": 46,
          "metadata": {},
          "output_type": "execute_result"
        },
        {
          "data": {
            "image/png": "[encoded data removed]",
            "text/plain": [
              "<Figure size 640x480 with 1 Axes>"
            ]
          },
          "metadata": {},
          "output_type": "display_data"
        }
      ],
      "source": [
        "new_df['Age'].plot(kind='hist')"
      ]
    },
    {
      "cell_type": "code",
      "execution_count": 47,
      "metadata": {
        "id": "qnJvhmQle6_t"
      },
      "outputs": [
        {
          "data": {
            "text/plain": [
              "<Axes: ylabel='Frequency'>"
            ]
          },
          "execution_count": 47,
          "metadata": {},
          "output_type": "execute_result"
        },
        {
          "data": {
            "image/png": "[encoded data removed]",
            "text/plain": [
              "<Figure size 640x480 with 1 Axes>"
            ]
          },
          "metadata": {},
          "output_type": "display_data"
        }
      ],
      "source": [
        "new_df['Fare'].plot(kind='hist') # different than video"
      ]
    },
    {
      "cell_type": "code",
      "execution_count": 48,
      "metadata": {
        "id": "GeA5V0qJwuEo"
      },
      "outputs": [
        {
          "data": {
            "text/plain": [
              "-0.07294022105966637"
            ]
          },
          "execution_count": 48,
          "metadata": {},
          "output_type": "execute_result"
        }
      ],
      "source": [
        "new_df['Fare'].skew()  #-0.07294022105966637"
      ]
    },
    {
      "cell_type": "markdown",
      "metadata": {
        "id": "tGEJpcfpkTR8"
      },
      "source": [
        "# X. So which to choose?\n",
        "\n",
        "I see 3 questions we need to ask:\n",
        "\n",
        "1. Do the machine learning algorithms we will use care about skewness? Do they prefer a normal distribution? Related, are they sensitive to outliers?\n",
        "\n",
        "2. Does apples-to-apples matter? Should all columns be in roughly the same range?\n",
        "\n",
        "3. Do we care about interpretability, i.e., explaining what we did to a human in an understandable way?\n",
        "\n",
        "* The answer to 1 is \"some do care\". We will end up looking at more than one algorithm and some may care and some not. Note that we have done outlier clipping at least on the `Fare` column before we get to here. That can remove outliers but can still leave a skewed set of data.\n",
        "\n",
        "* The answer to 2 is \"most algorithms care\" and in at least one case it is critical.\n",
        "\n",
        "* The answer to 3 is yes, we will care about explaintability. We will be presenting results to an end user through a web site. I want to pay attention to being able to explain the analysis we do.\n",
        "\n",
        "My choice: Robust Scaler. It gives us  similar ranges and an extra benefit is that it is explainable.\n",
        "\n"
      ]
    },
    {
      "cell_type": "markdown",
      "metadata": {
        "id": "w1obJeubv8xp"
      },
      "source": [
        "# Challenge 1\n",
        "<img src='https://www.dropbox.com/s/3uyvp722kp5to2r/assignment.png?raw=1' width='300'>\n",
        "\n",
        "<img src='https://www.dropbox.com/s/esqhkw8cgyh4nya/Screen%20Shot%202022-09-22%20at%2010.09.45%20AM.png?raw=1' height=100>\n",
        "\n",
        "Try your hand at the Box-Cox scaler. I know we have seen it is built-in to the PowerTransformer. But I would like you to see if you can code it yourself. Here is what I would like you to do:\n",
        "\n",
        "1. Use `demo_df['Fare']` after you make it positive - no 0s allowed. We did that by adding a small positive constant. I'd like you to use the full column, not just the last 100.\n",
        "\n",
        "2. There may be a way to do this all within pandas, but I decided to pull the column out into a Python list and work with that. So do that. Rest of steps assume you are working with a Python list - no pandas involved.\n",
        "\n",
        "3. Run through lambda values between integers -5 and +5. Warning: `lambda` is a reserved word so don't name your variables with it.\n",
        "\n",
        "4. Compute the box-cox formula on the `Fare` list to give you a new set of scaled values. **Big warning**: you will have to skip over `NaN` values in the list. So the scaled list you come up with will be smaller than full column.\n",
        "\n",
        "4. I will actually give you a skew function to use as a \"goodness\" measure. Record the skew along with lambda value.\n",
        "\n",
        "5. Choose the lambda value that gets you closest to 0 skew. Use the Python `sorted` method to do this.\n",
        "\n",
        "6. Use that lambda value to compute final scaled new values. Warning: it will not match up with sklearn transformer but that's ok. You should end up with a new list that is scaled.\n",
        "\n",
        "I'll give you my results to match against.\n",
        "\n"
      ]
    },
    {
      "cell_type": "code",
      "execution_count": null,
      "metadata": {},
      "outputs": [],
      "source": [
        "from typing import List, Union\n",
        "\n",
        "def compute_box_cox(data: List[float], lambda_val: Union[int, float]) -> List[float]:\n",
        "    \"\"\"\n",
        "    Applies the Box-Cox transformation to a list of positive numbers.\n",
        "\n",
        "    Parameters\n",
        "    ----------\n",
        "    data : List[float]\n",
        "        A list of strictly positive floating-point numbers.\n",
        "    lambda_val : Union[int, float]\n",
        "        The lambda parameter for the Box-Cox transformation.\n",
        "\n",
        "    Returns\n",
        "    -------\n",
        "    List[float]\n",
        "        The list containing the transformed values.\n",
        "    \"\"\"\n",
        "    if lambda_val == 0:\n",
        "        return [math.log(x) for x in data]\n",
        "    else:\n",
        "        return [((x ** lambda_val) - 1) / lambda_val for x in data]"
      ]
    },
    {
      "cell_type": "code",
      "execution_count": 70,
      "metadata": {
        "id": "wHIOPdrwooYW"
      },
      "outputs": [
        {
          "name": "stdout",
          "output_type": "stream",
          "text": [
            "(1e-05, 101.00001)\n"
          ]
        }
      ],
      "source": [
        "#I'll give you the imports I used so you can match against my results\n",
        "import math\n",
        "\n",
        "from scipy.stats import skew\n",
        "\n",
        "#code to compute skew values (11 of them: -5...0...5)\n",
        "\n",
        "boxcoxdf = transformed_df['Fare'].copy()\n",
        "# remove nan\n",
        "boxcoxdf = boxcoxdf.dropna()\n",
        "# make positive\n",
        "boxcoxdf += .00001\n",
        "fare_list = boxcoxdf.to_list()\n",
        "print((boxcoxdf.min(), boxcoxdf.max()))\n",
        "\n",
        "skew_values = []\n",
        "for test_lambda in range (-5, 6):\n",
        "    boxcox_list = compute_box_cox(fare_list, test_lambda)\n",
        "    col_skew = skew(boxcox_list)\n",
        "    skew_values.append((test_lambda, col_skew))"
      ]
    },
    {
      "cell_type": "code",
      "execution_count": 71,
      "metadata": {
        "id": "QUGPXi8BDh2v"
      },
      "outputs": [
        {
          "data": {
            "text/plain": [
              "[(-5, -1.665718952729915),\n",
              " (-4, -1.6657189527299139),\n",
              " (-3, -1.6657189527299143),\n",
              " (-2, -1.6657189527299139),\n",
              " (-1, -1.6657189527245735),\n",
              " (0, -1.5861097748492758),\n",
              " (1, 1.4799936335977462),\n",
              " (2, 2.259382730322621),\n",
              " (3, 2.6588580482287707),\n",
              " (4, 2.9168228215178744),\n",
              " (5, 3.092549932345237)]"
            ]
          },
          "execution_count": 71,
          "metadata": {},
          "output_type": "execute_result"
        }
      ],
      "source": [
        "skew_values  #see my answer below"
      ]
    },
    {
      "cell_type": "markdown",
      "metadata": {
        "id": "Fm3d-K-Px0jQ"
      },
      "source": [
        "My skew values:\n",
        "\n",
        "<pre>\n",
        "[(-5, -1.665718952729915),\n",
        " (-4, -1.6657189527299139),\n",
        " (-3, -1.6657189527299143),\n",
        " (-2, -1.6657189527299139),\n",
        " (-1, -1.6657189527245735),\n",
        " (0, -1.5861097748492763),\n",
        " (1, 1.4799936335977462),\n",
        " (2, 2.259382730322621),\n",
        " (3, 2.6588580482287707),\n",
        " (4, 2.9168228215178744),\n",
        " (5, 3.092549932345237)]\n",
        " </pre>"
      ]
    },
    {
      "cell_type": "code",
      "execution_count": 66,
      "metadata": {
        "id": "fFc21BqsrTEr"
      },
      "outputs": [
        {
          "data": {
            "text/plain": [
              "1"
            ]
          },
          "execution_count": 66,
          "metadata": {},
          "output_type": "execute_result"
        }
      ],
      "source": [
        "#use sorted function on skew_values to find skew closest to 0\n",
        "final_l = sorted(skew_values, key=lambda x: abs(x[1]))[0][0]\n",
        "final_l  #1 (value for lambda that gives result closest to 0)"
      ]
    },
    {
      "cell_type": "code",
      "execution_count": 72,
      "metadata": {
        "id": "Fz_SNaOsueST"
      },
      "outputs": [],
      "source": [
        "#compute final set of scaled values using final_l, i.e., best lambda value you found.\n",
        "#I used list comprehension. Remember to skip NaN values.\n",
        "\n",
        "final_fare = compute_box_cox(fare_list, final_l)"
      ]
    },
    {
      "cell_type": "code",
      "execution_count": 73,
      "metadata": {
        "id": "keaUOUFu7A6I"
      },
      "outputs": [
        {
          "name": "stdout",
          "output_type": "stream",
          "text": [
            "[7.00001, 1e-05, 20.00001, 24.00001, 1e-05, 7.00001, 7.00001, 8.00001, 1e-05, 1e-05]\n"
          ]
        }
      ],
      "source": [
        "#before scaling\n",
        "\n",
        "print(fare_list[:10])  #[7.00001, 1e-05, 20.00001, nan, 24.00001, 1e-05, 7.00001, 7.00001, 8.00001, 1e-05]"
      ]
    },
    {
      "cell_type": "code",
      "execution_count": 74,
      "metadata": {
        "id": "qTsMCoNbCSrz"
      },
      "outputs": [
        {
          "name": "stdout",
          "output_type": "stream",
          "text": [
            "[6.00001, -0.99999, 19.00001, 23.00001, -0.99999, 6.00001, 6.00001, 7.00001, -0.99999, -0.99999]\n"
          ]
        }
      ],
      "source": [
        "#after scaling\n",
        "\n",
        "print(final_fare[:10])  #[6.00001, -0.99999, 19.00001, 23.00001, -0.99999, 6.00001, 6.00001, 7.00001, -0.99999, -0.99999]"
      ]
    },
    {
      "cell_type": "code",
      "execution_count": 75,
      "metadata": {
        "id": "RBAef0sXvACq"
      },
      "outputs": [
        {
          "data": {
            "text/plain": [
              "(-0.99999, 100.00001)"
            ]
          },
          "execution_count": 75,
          "metadata": {},
          "output_type": "execute_result"
        }
      ],
      "source": [
        "(min(final_fare), max(final_fare))  #(-0.99999, 100.00001)"
      ]
    },
    {
      "cell_type": "markdown",
      "metadata": {
        "id": "wJGn0De5vl4p"
      },
      "source": [
        "# Challenge 2\n",
        "<img src='https://www.dropbox.com/s/3uyvp722kp5to2r/assignment.png?raw=1' width='300'>\n",
        "\n",
        "Build a custom RobustScaler, one that accepts a specific column to operate on. In this way, we can apply it to selected columns but not necessarily the entire table.\n",
        "\n",
        "The transformer you build should compute the iqr and median in the fit method. Then apply them in the transform method.\n",
        "\n",
        "I can see two ways of attacking this problem:\n",
        "\n",
        "1. Do it from scratch. Given pandas methods for doing most of the work, this seems the easiest to me. However, be careful with binary columns. They can give you zero values for `iqr` and `median` during `fit`. If so, want to skip doing any changes in `transform` method.\n",
        "\n",
        "2. Use sklearn's RobustScaler. To do this, you will have to create a new table with just the selected column, fit the new table then transform based on the fitted scaler instance. This has the benefit of using a built-in transformer. But it seems more complex to code.\n",
        "\n",
        "I'll accept either approach.\n",
        "\n"
      ]
    },
    {
      "cell_type": "code",
      "execution_count": null,
      "metadata": {
        "id": "BO9RiYibv-XD"
      },
      "outputs": [],
      "source": [
        "# from scratch option\n",
        "\n",
        "\n",
        "class CustomRobustTransformer(BaseEstimator, TransformerMixin):\n",
        "    \"\"\"Applies robust scaling to a specified column in a pandas DataFrame.\n",
        "    This transformer calculates the interquartile range (IQR) and median\n",
        "    during the `fit` method and then uses these values to scale the\n",
        "    target column in the `transform` method.\n",
        "\n",
        "    Parameters\n",
        "    ----------\n",
        "    column : str\n",
        "        The name of the column to be scaled.\n",
        "\n",
        "    Attributes\n",
        "    ----------\n",
        "    target_column : str\n",
        "        The name of the column to be scaled.\n",
        "    iqr : float\n",
        "        The interquartile range of the target column.\n",
        "    med : float\n",
        "        The median of the target column.\n",
        "    \"\"\"\n",
        "\n",
        "    def __init__(self, target_column: str):\n",
        "        \"\"\"Initializes the CustomRobustTransformer.\n",
        "\n",
        "        Parameters\n",
        "        ----------\n",
        "        target_column : str\n",
        "            The name of the column to apply the robust scaling to.\n",
        "        \"\"\"\n",
        "        self.target_column = target_column\n",
        "        self.iqr = None\n",
        "        self.med = None\n",
        "\n",
        "    def fit(self, X: pd.DataFrame, y: pd.Series = None) -> Self:\n",
        "        \"\"\"Compute the median and interquartile range for scaling.\n",
        "\n",
        "        Parameters\n",
        "        ----------\n",
        "        X : pd.DataFrame\n",
        "            The input DataFrame containing the target column.\n",
        "        y : pd.Series, optional\n",
        "            Ignored. Present for compatibility with scikit-learn pipelines.\n",
        "\n",
        "        Returns\n",
        "        -------\n",
        "        Self\n",
        "            The fitted transformer instance.\n",
        "\n",
        "        Raises\n",
        "        ------\n",
        "        TypeError\n",
        "            If X is not a pandas DataFrame.\n",
        "        ValueError\n",
        "            If the target_column is not found in X.\n",
        "        \"\"\"\n",
        "\n",
        "        assert isinstance(X, pd.DataFrame), \"Input must be a pandas DataFrame\"\n",
        "        assert (\n",
        "            self.target_column in X.columns\n",
        "        ), f\"Unrecognized column: {self.target_column}\"\n",
        "        self.iqr = X[self.target_column].quantile(0.75) - X[\n",
        "            self.target_column\n",
        "        ].quantile(0.25)\n",
        "        # avoid division by zero\n",
        "        if (self.iqr == 0):\n",
        "            self.iqr = 1\n",
        "        self.med = X[self.target_column].median()\n",
        "        return self\n",
        "\n",
        "    def transform(self, X: pd.DataFrame) -> pd.DataFrame:\n",
        "        \"\"\"Scale the target column using the computed median and IQR.\n",
        "\n",
        "        Parameters\n",
        "        ----------\n",
        "        X : pd.DataFrame\n",
        "            The input DataFrame to transform.\n",
        "\n",
        "        Returns\n",
        "        -------\n",
        "        pd.DataFrame\n",
        "            A copy of the input DataFrame with the target column scaled.\n",
        "            If the IQR calculated during fit was 0, returns the original\n",
        "            DataFrame without scaling the column.\n",
        "\n",
        "        Raises\n",
        "        ------\n",
        "        TypeError\n",
        "            If the transformer has not been fitted yet (iqr_ is None).\n",
        "        \"\"\"\n",
        "        assert (\n",
        "            self.iqr is not None\n",
        "        ), 'This CustomRobustTransformer instance is not fitted yet. Call \"fit\" with appropriate arguments before using this estimator.'\n",
        "        X_ = X.copy()\n",
        "        X_[self.target_column] = (X_[self.target_column] - self.med) / self.iqr\n",
        "        return X_"
      ]
    },
    {
      "cell_type": "code",
      "execution_count": null,
      "metadata": {
        "id": "DU_Tcia_1IkO"
      },
      "outputs": [],
      "source": [
        "#wrapping RobustScaler option\n",
        "\n",
        "from sklearn.preprocessing import RobustScaler\n",
        "\n",
        "class CustomRobustTransformer_wrapped(BaseEstimator, TransformerMixin):\n",
        "    \"\"\"Applies robust scaling to a specified column using sklearn's RobustScaler.\n",
        "\n",
        "    This transformer wraps the sklearn RobustScaler to apply it to a single\n",
        "    column of a pandas DataFrame. It calculates the interquartile range (IQR)\n",
        "    and median during the `fit` method and then uses these values to scale the\n",
        "    target column in the `transform` method.\n",
        "\n",
        "    Parameters\n",
        "    ----------\n",
        "    column : str\n",
        "        The name of the column to be scaled.\n",
        "\n",
        "    Attributes\n",
        "    ----------\n",
        "    target_column : str\n",
        "        The name of the column to be scaled.\n",
        "    scaler : sklearn.preprocessing.RobustScaler\n",
        "        The underlying RobustScaler instance.\n",
        "    \"\"\"\n",
        "\n"
      ]
    },
    {
      "cell_type": "markdown",
      "metadata": {
        "id": "wQZ224PTv-XK"
      },
      "source": [
        "## Here are test cases\n",
        "\n",
        "Please do not change them. I give you the results I expect."
      ]
    },
    {
      "cell_type": "markdown",
      "metadata": {
        "id": "jlFCbZXP9tat"
      },
      "source": [
        "### Errors first"
      ]
    },
    {
      "cell_type": "code",
      "execution_count": 93,
      "metadata": {
        "id": "ZWtUH8dB0fbK"
      },
      "outputs": [
        {
          "ename": "AssertionError",
          "evalue": "This CustomRobustTransformer instance is not fitted yet. Call \"fit\" with appropriate arguments before using this estimator.",
          "output_type": "error",
          "traceback": [
            "\u001b[31m---------------------------------------------------------------------------\u001b[39m",
            "\u001b[31mAssertionError\u001b[39m                            Traceback (most recent call last)",
            "\u001b[36mCell\u001b[39m\u001b[36m \u001b[39m\u001b[32mIn[93]\u001b[39m\u001b[32m, line 1\u001b[39m\n\u001b[32m----> \u001b[39m\u001b[32m1\u001b[39m \u001b[43mCustomRobustTransformer\u001b[49m\u001b[43m(\u001b[49m\u001b[33;43m'\u001b[39;49m\u001b[33;43mFare\u001b[39;49m\u001b[33;43m'\u001b[39;49m\u001b[43m)\u001b[49m\u001b[43m.\u001b[49m\u001b[43mtransform\u001b[49m\u001b[43m(\u001b[49m\u001b[43mtransformed_df\u001b[49m\u001b[43m)\u001b[49m  \u001b[38;5;66;03m#AssertionError: NotFittedError: This CustomRobustTransformer instance is not fitted yet. Call \"fit\" with appropriate arguments before using this estimator.\u001b[39;00m\n",
            "\u001b[36mFile \u001b[39m\u001b[32m~/miniconda3/envs/cs523/lib/python3.12/site-packages/sklearn/utils/_set_output.py:319\u001b[39m, in \u001b[36m_wrap_method_output.<locals>.wrapped\u001b[39m\u001b[34m(self, X, *args, **kwargs)\u001b[39m\n\u001b[32m    317\u001b[39m \u001b[38;5;129m@wraps\u001b[39m(f)\n\u001b[32m    318\u001b[39m \u001b[38;5;28;01mdef\u001b[39;00m\u001b[38;5;250m \u001b[39m\u001b[34mwrapped\u001b[39m(\u001b[38;5;28mself\u001b[39m, X, *args, **kwargs):\n\u001b[32m--> \u001b[39m\u001b[32m319\u001b[39m     data_to_wrap = \u001b[43mf\u001b[49m\u001b[43m(\u001b[49m\u001b[38;5;28;43mself\u001b[39;49m\u001b[43m,\u001b[49m\u001b[43m \u001b[49m\u001b[43mX\u001b[49m\u001b[43m,\u001b[49m\u001b[43m \u001b[49m\u001b[43m*\u001b[49m\u001b[43margs\u001b[49m\u001b[43m,\u001b[49m\u001b[43m \u001b[49m\u001b[43m*\u001b[49m\u001b[43m*\u001b[49m\u001b[43mkwargs\u001b[49m\u001b[43m)\u001b[49m\n\u001b[32m    320\u001b[39m     \u001b[38;5;28;01mif\u001b[39;00m \u001b[38;5;28misinstance\u001b[39m(data_to_wrap, \u001b[38;5;28mtuple\u001b[39m):\n\u001b[32m    321\u001b[39m         \u001b[38;5;66;03m# only wrap the first output for cross decomposition\u001b[39;00m\n\u001b[32m    322\u001b[39m         return_tuple = (\n\u001b[32m    323\u001b[39m             _wrap_data_with_container(method, data_to_wrap[\u001b[32m0\u001b[39m], X, \u001b[38;5;28mself\u001b[39m),\n\u001b[32m    324\u001b[39m             *data_to_wrap[\u001b[32m1\u001b[39m:],\n\u001b[32m    325\u001b[39m         )\n",
            "\u001b[36mCell\u001b[39m\u001b[36m \u001b[39m\u001b[32mIn[91]\u001b[39m\u001b[32m, line 91\u001b[39m, in \u001b[36mCustomRobustTransformer.transform\u001b[39m\u001b[34m(self, X)\u001b[39m\n\u001b[32m     70\u001b[39m \u001b[38;5;28;01mdef\u001b[39;00m\u001b[38;5;250m \u001b[39m\u001b[34mtransform\u001b[39m(\u001b[38;5;28mself\u001b[39m, X: pd.DataFrame) -> pd.DataFrame:\n\u001b[32m     71\u001b[39m \u001b[38;5;250m    \u001b[39m\u001b[33;03m\"\"\"Scale the target column using the computed median and IQR.\u001b[39;00m\n\u001b[32m     72\u001b[39m \n\u001b[32m     73\u001b[39m \u001b[33;03m    Parameters\u001b[39;00m\n\u001b[32m   (...)\u001b[39m\u001b[32m     88\u001b[39m \u001b[33;03m        If the transformer has not been fitted yet (iqr_ is None).\u001b[39;00m\n\u001b[32m     89\u001b[39m \u001b[33;03m    \"\"\"\u001b[39;00m\n\u001b[32m     90\u001b[39m     \u001b[38;5;28;01massert\u001b[39;00m (\n\u001b[32m---> \u001b[39m\u001b[32m91\u001b[39m         \u001b[38;5;28mself\u001b[39m.iqr \u001b[38;5;129;01mis\u001b[39;00m \u001b[38;5;129;01mnot\u001b[39;00m \u001b[38;5;28;01mNone\u001b[39;00m\n\u001b[32m     92\u001b[39m     ), \u001b[33m'\u001b[39m\u001b[33mThis CustomRobustTransformer instance is not fitted yet. Call \u001b[39m\u001b[33m\"\u001b[39m\u001b[33mfit\u001b[39m\u001b[33m\"\u001b[39m\u001b[33m with appropriate arguments before using this estimator.\u001b[39m\u001b[33m'\u001b[39m\n\u001b[32m     93\u001b[39m     X_ = X.copy()\n\u001b[32m     94\u001b[39m     X_[\u001b[38;5;28mself\u001b[39m.target_column] = (X_[\u001b[38;5;28mself\u001b[39m.target_column] - \u001b[38;5;28mself\u001b[39m.med) / \u001b[38;5;28mself\u001b[39m.iqr\n",
            "\u001b[31mAssertionError\u001b[39m: This CustomRobustTransformer instance is not fitted yet. Call \"fit\" with appropriate arguments before using this estimator."
          ]
        }
      ],
      "source": [
        "CustomRobustTransformer('Fare').transform(transformed_df)  #AssertionError: NotFittedError: This CustomRobustTransformer instance is not fitted yet. Call \"fit\" with appropriate arguments before using this estimator."
      ]
    },
    {
      "cell_type": "code",
      "execution_count": null,
      "metadata": {
        "id": "X7eLOY3k0uHx"
      },
      "outputs": [
        {
          "ename": "AssertionError",
          "evalue": "Unrecognized column: fare",
          "output_type": "error",
          "traceback": [
            "\u001b[31m---------------------------------------------------------------------------\u001b[39m",
            "\u001b[31mAssertionError\u001b[39m                            Traceback (most recent call last)",
            "\u001b[36mCell\u001b[39m\u001b[36m \u001b[39m\u001b[32mIn[79]\u001b[39m\u001b[32m, line 1\u001b[39m\n\u001b[32m----> \u001b[39m\u001b[32m1\u001b[39m \u001b[43mCustomRobustTransformer\u001b[49m\u001b[43m(\u001b[49m\u001b[33;43m'\u001b[39;49m\u001b[33;43mfare\u001b[39;49m\u001b[33;43m'\u001b[39;49m\u001b[43m)\u001b[49m\u001b[43m.\u001b[49m\u001b[43mfit\u001b[49m\u001b[43m(\u001b[49m\u001b[43mtransformed_df\u001b[49m\u001b[43m)\u001b[49m  \u001b[38;5;66;03m#AssertionError: CustomRobustTransformer.fit unrecognizable column fare.\u001b[39;00m\n",
            "\u001b[36mCell\u001b[39m\u001b[36m \u001b[39m\u001b[32mIn[77]\u001b[39m\u001b[32m, line 62\u001b[39m, in \u001b[36mCustomRobustTransformer.fit\u001b[39m\u001b[34m(self, X, y)\u001b[39m\n\u001b[32m     38\u001b[39m \u001b[38;5;250m\u001b[39m\u001b[33;03m\"\"\"Compute the median and interquartile range for scaling.\u001b[39;00m\n\u001b[32m     39\u001b[39m \n\u001b[32m     40\u001b[39m \u001b[33;03mParameters\u001b[39;00m\n\u001b[32m   (...)\u001b[39m\u001b[32m     57\u001b[39m \u001b[33;03m    If the target_column is not found in X.\u001b[39;00m\n\u001b[32m     58\u001b[39m \u001b[33;03m\"\"\"\u001b[39;00m\n\u001b[32m     60\u001b[39m \u001b[38;5;28;01massert\u001b[39;00m \u001b[38;5;28misinstance\u001b[39m(X, pd.DataFrame), \u001b[33m\"\u001b[39m\u001b[33mInput must be a pandas DataFrame\u001b[39m\u001b[33m\"\u001b[39m\n\u001b[32m     61\u001b[39m \u001b[38;5;28;01massert\u001b[39;00m (\n\u001b[32m---> \u001b[39m\u001b[32m62\u001b[39m     \u001b[38;5;28mself\u001b[39m.target_column \u001b[38;5;129;01min\u001b[39;00m X.columns\n\u001b[32m     63\u001b[39m ), \u001b[33mf\u001b[39m\u001b[33m\"\u001b[39m\u001b[33mUnrecognized column: \u001b[39m\u001b[38;5;132;01m{\u001b[39;00m\u001b[38;5;28mself\u001b[39m.target_column\u001b[38;5;132;01m}\u001b[39;00m\u001b[33m\"\u001b[39m\n\u001b[32m     64\u001b[39m \u001b[38;5;28mself\u001b[39m.iqr = X[\u001b[38;5;28mself\u001b[39m.target_column].quantile(\u001b[32m0.75\u001b[39m) - X[\n\u001b[32m     65\u001b[39m     \u001b[38;5;28mself\u001b[39m.target_column\n\u001b[32m     66\u001b[39m ].quantile(\u001b[32m0.25\u001b[39m)\n\u001b[32m     67\u001b[39m \u001b[38;5;28mself\u001b[39m.med = X[\u001b[38;5;28mself\u001b[39m.target_column].median()\n",
            "\u001b[31mAssertionError\u001b[39m: Unrecognized column: fare"
          ]
        }
      ],
      "source": [
        "CustomRobustTransformer('fare').fit(transformed_df)  #AssertionError: CustomRobustTransformer.fit unrecognizable column fare."
      ]
    },
    {
      "cell_type": "markdown",
      "metadata": {
        "id": "_HV7MsQL9yWw"
      },
      "source": [
        "### Match my results on simple dfs"
      ]
    },
    {
      "cell_type": "code",
      "execution_count": 94,
      "metadata": {
        "id": "M4Mzv9Tgv-XL"
      },
      "outputs": [
        {
          "data": {
            "text/html": [
              "<div>\n",
              "<style scoped>\n",
              "    .dataframe tbody tr th:only-of-type {\n",
              "        vertical-align: middle;\n",
              "    }\n",
              "\n",
              "    .dataframe tbody tr th {\n",
              "        vertical-align: top;\n",
              "    }\n",
              "\n",
              "    .dataframe thead th {\n",
              "        text-align: right;\n",
              "    }\n",
              "</style>\n",
              "<table border=\"1\" class=\"dataframe\">\n",
              "  <thead>\n",
              "    <tr style=\"text-align: right;\">\n",
              "      <th></th>\n",
              "      <th>a</th>\n",
              "      <th>b</th>\n",
              "      <th>c</th>\n",
              "      <th>d</th>\n",
              "      <th>e</th>\n",
              "    </tr>\n",
              "  </thead>\n",
              "  <tbody>\n",
              "    <tr>\n",
              "      <th>0</th>\n",
              "      <td>1</td>\n",
              "      <td>2</td>\n",
              "      <td>3</td>\n",
              "      <td>4</td>\n",
              "      <td>5</td>\n",
              "    </tr>\n",
              "    <tr>\n",
              "      <th>1</th>\n",
              "      <td>6</td>\n",
              "      <td>7</td>\n",
              "      <td>8</td>\n",
              "      <td>9</td>\n",
              "      <td>10</td>\n",
              "    </tr>\n",
              "    <tr>\n",
              "      <th>2</th>\n",
              "      <td>11</td>\n",
              "      <td>12</td>\n",
              "      <td>13</td>\n",
              "      <td>14</td>\n",
              "      <td>15</td>\n",
              "    </tr>\n",
              "  </tbody>\n",
              "</table>\n",
              "</div>"
            ],
            "text/plain": [
              "    a   b   c   d   e\n",
              "0   1   2   3   4   5\n",
              "1   6   7   8   9  10\n",
              "2  11  12  13  14  15"
            ]
          },
          "execution_count": 94,
          "metadata": {},
          "output_type": "execute_result"
        }
      ],
      "source": [
        "training_data = [[1,2,3,4,5],\n",
        "                 [6,7,8,9,10],\n",
        "                 [11,12,13,14,15]]\n",
        "training_df = pd.DataFrame(training_data, columns=['a','b','c','d','e'])\n",
        "training_df"
      ]
    },
    {
      "cell_type": "code",
      "execution_count": 95,
      "metadata": {
        "id": "3PNeoaJ4v-XL"
      },
      "outputs": [],
      "source": [
        "scalers_for_columns = [(col, CustomRobustTransformer(col)) for col in training_df.columns]  #build separate scaler for each col"
      ]
    },
    {
      "cell_type": "code",
      "execution_count": 96,
      "metadata": {
        "id": "9OEBQXDLv-XL"
      },
      "outputs": [
        {
          "data": {
            "text/html": [
              "<div>\n",
              "<style scoped>\n",
              "    .dataframe tbody tr th:only-of-type {\n",
              "        vertical-align: middle;\n",
              "    }\n",
              "\n",
              "    .dataframe tbody tr th {\n",
              "        vertical-align: top;\n",
              "    }\n",
              "\n",
              "    .dataframe thead th {\n",
              "        text-align: right;\n",
              "    }\n",
              "</style>\n",
              "<table border=\"1\" class=\"dataframe\">\n",
              "  <thead>\n",
              "    <tr style=\"text-align: right;\">\n",
              "      <th></th>\n",
              "      <th>a</th>\n",
              "      <th>b</th>\n",
              "      <th>c</th>\n",
              "      <th>d</th>\n",
              "      <th>e</th>\n",
              "    </tr>\n",
              "  </thead>\n",
              "  <tbody>\n",
              "    <tr>\n",
              "      <th>0</th>\n",
              "      <td>-1.0</td>\n",
              "      <td>-1.0</td>\n",
              "      <td>-1.0</td>\n",
              "      <td>-1.0</td>\n",
              "      <td>-1.0</td>\n",
              "    </tr>\n",
              "    <tr>\n",
              "      <th>1</th>\n",
              "      <td>0.0</td>\n",
              "      <td>0.0</td>\n",
              "      <td>0.0</td>\n",
              "      <td>0.0</td>\n",
              "      <td>0.0</td>\n",
              "    </tr>\n",
              "    <tr>\n",
              "      <th>2</th>\n",
              "      <td>1.0</td>\n",
              "      <td>1.0</td>\n",
              "      <td>1.0</td>\n",
              "      <td>1.0</td>\n",
              "      <td>1.0</td>\n",
              "    </tr>\n",
              "  </tbody>\n",
              "</table>\n",
              "</div>"
            ],
            "text/plain": [
              "     a    b    c    d    e\n",
              "0 -1.0 -1.0 -1.0 -1.0 -1.0\n",
              "1  0.0  0.0  0.0  0.0  0.0\n",
              "2  1.0  1.0  1.0  1.0  1.0"
            ]
          },
          "execution_count": 96,
          "metadata": {},
          "output_type": "execute_result"
        }
      ],
      "source": [
        "scaled_df = training_df\n",
        "for col,scaler in scalers_for_columns:\n",
        "  scaler.fit(scaled_df)  #broke out on separate line - this should do most of the work\n",
        "  scaled_df = scaler.transform(scaled_df)\n",
        "\n",
        "scaled_df"
      ]
    },
    {
      "cell_type": "markdown",
      "metadata": {
        "id": "230jNoKp-Cym"
      },
      "source": [
        "|index|a|b|c|d|e|\n",
        "|---|---|---|---|---|---|\n",
        "|0|-1\\.0|-1\\.0|-1\\.0|-1\\.0|-1\\.0|\n",
        "|1|0\\.0|0\\.0|0\\.0|0\\.0|0\\.0|\n",
        "|2|1\\.0|1\\.0|1\\.0|1\\.0|1\\.0|"
      ]
    },
    {
      "cell_type": "markdown",
      "metadata": {
        "id": "9SL3Tm8Rv-XO"
      },
      "source": [
        "<img src='' height=100>"
      ]
    },
    {
      "cell_type": "code",
      "execution_count": 97,
      "metadata": {
        "id": "8Qd1Xt_jzD-a"
      },
      "outputs": [
        {
          "data": {
            "text/html": [
              "<div>\n",
              "<style scoped>\n",
              "    .dataframe tbody tr th:only-of-type {\n",
              "        vertical-align: middle;\n",
              "    }\n",
              "\n",
              "    .dataframe tbody tr th {\n",
              "        vertical-align: top;\n",
              "    }\n",
              "\n",
              "    .dataframe thead th {\n",
              "        text-align: right;\n",
              "    }\n",
              "</style>\n",
              "<table border=\"1\" class=\"dataframe\">\n",
              "  <thead>\n",
              "    <tr style=\"text-align: right;\">\n",
              "      <th></th>\n",
              "      <th>a</th>\n",
              "      <th>b</th>\n",
              "      <th>c</th>\n",
              "      <th>d</th>\n",
              "      <th>e</th>\n",
              "    </tr>\n",
              "  </thead>\n",
              "  <tbody>\n",
              "    <tr>\n",
              "      <th>0</th>\n",
              "      <td>-1.0</td>\n",
              "      <td>-1.0</td>\n",
              "      <td>-1.0</td>\n",
              "      <td>-1.0</td>\n",
              "      <td>-1.0</td>\n",
              "    </tr>\n",
              "    <tr>\n",
              "      <th>1</th>\n",
              "      <td>0.0</td>\n",
              "      <td>0.0</td>\n",
              "      <td>0.0</td>\n",
              "      <td>0.0</td>\n",
              "      <td>0.0</td>\n",
              "    </tr>\n",
              "    <tr>\n",
              "      <th>2</th>\n",
              "      <td>1.0</td>\n",
              "      <td>1.0</td>\n",
              "      <td>1.0</td>\n",
              "      <td>1.0</td>\n",
              "      <td>1.0</td>\n",
              "    </tr>\n",
              "  </tbody>\n",
              "</table>\n",
              "</div>"
            ],
            "text/plain": [
              "     a    b    c    d    e\n",
              "0 -1.0 -1.0 -1.0 -1.0 -1.0\n",
              "1  0.0  0.0  0.0  0.0  0.0\n",
              "2  1.0  1.0  1.0  1.0  1.0"
            ]
          },
          "execution_count": 97,
          "metadata": {},
          "output_type": "execute_result"
        }
      ],
      "source": [
        "#Oracle\n",
        "robust_scaler = RobustScaler()\n",
        "robust_scaler.fit_transform(training_df)"
      ]
    },
    {
      "cell_type": "code",
      "execution_count": 99,
      "metadata": {
        "id": "_y4iCBmVv-XO"
      },
      "outputs": [
        {
          "data": {
            "text/html": [
              "<div>\n",
              "<style scoped>\n",
              "    .dataframe tbody tr th:only-of-type {\n",
              "        vertical-align: middle;\n",
              "    }\n",
              "\n",
              "    .dataframe tbody tr th {\n",
              "        vertical-align: top;\n",
              "    }\n",
              "\n",
              "    .dataframe thead th {\n",
              "        text-align: right;\n",
              "    }\n",
              "</style>\n",
              "<table border=\"1\" class=\"dataframe\">\n",
              "  <thead>\n",
              "    <tr style=\"text-align: right;\">\n",
              "      <th></th>\n",
              "      <th>b</th>\n",
              "      <th>c</th>\n",
              "      <th>f</th>\n",
              "    </tr>\n",
              "  </thead>\n",
              "  <tbody>\n",
              "    <tr>\n",
              "      <th>0</th>\n",
              "      <td>2</td>\n",
              "      <td>3.0</td>\n",
              "      <td>10</td>\n",
              "    </tr>\n",
              "    <tr>\n",
              "      <th>1</th>\n",
              "      <td>7</td>\n",
              "      <td>8.0</td>\n",
              "      <td>11</td>\n",
              "    </tr>\n",
              "    <tr>\n",
              "      <th>2</th>\n",
              "      <td>12</td>\n",
              "      <td>NaN</td>\n",
              "      <td>12</td>\n",
              "    </tr>\n",
              "  </tbody>\n",
              "</table>\n",
              "</div>"
            ],
            "text/plain": [
              "    b    c   f\n",
              "0   2  3.0  10\n",
              "1   7  8.0  11\n",
              "2  12  NaN  12"
            ]
          },
          "execution_count": 99,
          "metadata": {},
          "output_type": "execute_result"
        }
      ],
      "source": [
        "test_data2 = [[2,3,10],\n",
        "              [7,8,11],\n",
        "              [12,np.nan,12]]\n",
        "test2_df = pd.DataFrame(test_data2, columns=['b','c','f'])\n",
        "test2_df"
      ]
    },
    {
      "cell_type": "code",
      "execution_count": 100,
      "metadata": {
        "id": "GRSthk4nJDbM"
      },
      "outputs": [],
      "source": [
        "scalers_for_columns = [(col, CustomRobustTransformer(col)) for col in test2_df.columns]  #build separate scaler for each col"
      ]
    },
    {
      "cell_type": "code",
      "execution_count": 101,
      "metadata": {
        "id": "_HjRZ5H6JDbY"
      },
      "outputs": [
        {
          "data": {
            "text/html": [
              "<div>\n",
              "<style scoped>\n",
              "    .dataframe tbody tr th:only-of-type {\n",
              "        vertical-align: middle;\n",
              "    }\n",
              "\n",
              "    .dataframe tbody tr th {\n",
              "        vertical-align: top;\n",
              "    }\n",
              "\n",
              "    .dataframe thead th {\n",
              "        text-align: right;\n",
              "    }\n",
              "</style>\n",
              "<table border=\"1\" class=\"dataframe\">\n",
              "  <thead>\n",
              "    <tr style=\"text-align: right;\">\n",
              "      <th></th>\n",
              "      <th>b</th>\n",
              "      <th>c</th>\n",
              "      <th>f</th>\n",
              "    </tr>\n",
              "  </thead>\n",
              "  <tbody>\n",
              "    <tr>\n",
              "      <th>0</th>\n",
              "      <td>-1.0</td>\n",
              "      <td>-1.0</td>\n",
              "      <td>-1.0</td>\n",
              "    </tr>\n",
              "    <tr>\n",
              "      <th>1</th>\n",
              "      <td>0.0</td>\n",
              "      <td>1.0</td>\n",
              "      <td>0.0</td>\n",
              "    </tr>\n",
              "    <tr>\n",
              "      <th>2</th>\n",
              "      <td>1.0</td>\n",
              "      <td>NaN</td>\n",
              "      <td>1.0</td>\n",
              "    </tr>\n",
              "  </tbody>\n",
              "</table>\n",
              "</div>"
            ],
            "text/plain": [
              "     b    c    f\n",
              "0 -1.0 -1.0 -1.0\n",
              "1  0.0  1.0  0.0\n",
              "2  1.0  NaN  1.0"
            ]
          },
          "execution_count": 101,
          "metadata": {},
          "output_type": "execute_result"
        }
      ],
      "source": [
        "scaled_df = test2_df\n",
        "for col,scaler in scalers_for_columns:\n",
        "  scaler.fit(scaled_df)\n",
        "  scaled_df = scaler.transform(scaled_df)\n",
        "\n",
        "scaled_df"
      ]
    },
    {
      "cell_type": "markdown",
      "metadata": {
        "id": "Ed15Kw9H-UZA"
      },
      "source": [
        "|index|b|c|f|\n",
        "|---|---|---|---|\n",
        "|0|-1\\.0|-1\\.0|-1\\.0|\n",
        "|1|0\\.0|1\\.0|0\\.0|\n",
        "|2|1\\.0|NaN|1\\.0|"
      ]
    },
    {
      "cell_type": "code",
      "execution_count": 102,
      "metadata": {
        "id": "V7ce2mWuzb2T"
      },
      "outputs": [
        {
          "data": {
            "text/html": [
              "<div>\n",
              "<style scoped>\n",
              "    .dataframe tbody tr th:only-of-type {\n",
              "        vertical-align: middle;\n",
              "    }\n",
              "\n",
              "    .dataframe tbody tr th {\n",
              "        vertical-align: top;\n",
              "    }\n",
              "\n",
              "    .dataframe thead th {\n",
              "        text-align: right;\n",
              "    }\n",
              "</style>\n",
              "<table border=\"1\" class=\"dataframe\">\n",
              "  <thead>\n",
              "    <tr style=\"text-align: right;\">\n",
              "      <th></th>\n",
              "      <th>b</th>\n",
              "      <th>c</th>\n",
              "      <th>f</th>\n",
              "    </tr>\n",
              "  </thead>\n",
              "  <tbody>\n",
              "    <tr>\n",
              "      <th>0</th>\n",
              "      <td>-1.0</td>\n",
              "      <td>-1.0</td>\n",
              "      <td>-1.0</td>\n",
              "    </tr>\n",
              "    <tr>\n",
              "      <th>1</th>\n",
              "      <td>0.0</td>\n",
              "      <td>1.0</td>\n",
              "      <td>0.0</td>\n",
              "    </tr>\n",
              "    <tr>\n",
              "      <th>2</th>\n",
              "      <td>1.0</td>\n",
              "      <td>NaN</td>\n",
              "      <td>1.0</td>\n",
              "    </tr>\n",
              "  </tbody>\n",
              "</table>\n",
              "</div>"
            ],
            "text/plain": [
              "     b    c    f\n",
              "0 -1.0 -1.0 -1.0\n",
              "1  0.0  1.0  0.0\n",
              "2  1.0  NaN  1.0"
            ]
          },
          "execution_count": 102,
          "metadata": {},
          "output_type": "execute_result"
        }
      ],
      "source": [
        "#Oracle\n",
        "robust_scaler = RobustScaler()\n",
        "robust_scaler.fit_transform(test2_df)"
      ]
    },
    {
      "cell_type": "markdown",
      "metadata": {
        "id": "RgNyvFtX-aQP"
      },
      "source": [
        "### Notice the NaN value is left alone\n",
        "\n",
        "That is good. We will deal with it later."
      ]
    },
    {
      "cell_type": "markdown",
      "metadata": {
        "id": "lCBZo1s6nbHA"
      },
      "source": [
        "# Challenge 3\n",
        "<img src='https://www.dropbox.com/s/3uyvp722kp5to2r/assignment.png?raw=1' width='300'>\n",
        "\n",
        "Go ahead and try it on `transformed_df`."
      ]
    },
    {
      "cell_type": "code",
      "execution_count": 120,
      "metadata": {
        "id": "YifR7dTe_gKX"
      },
      "outputs": [],
      "source": [
        "# your code\n",
        "\n",
        "scaled_df = transformed_df.copy()\n",
        "scalers_for_columns = [\n",
        "    (col, CustomRobustTransformer(col)) for col in scaled_df.columns\n",
        "]  # build separate scaler for each col\n",
        "for col, scaler in scalers_for_columns:\n",
        "    scaler.fit(scaled_df)\n",
        "    scaled_df = scaler.transform(scaled_df)"
      ]
    },
    {
      "cell_type": "code",
      "execution_count": 121,
      "metadata": {
        "id": "Iama7d-gi-6-"
      },
      "outputs": [
        {
          "data": {
            "text/html": [
              "<div>\n",
              "<style scoped>\n",
              "    .dataframe tbody tr th:only-of-type {\n",
              "        vertical-align: middle;\n",
              "    }\n",
              "\n",
              "    .dataframe tbody tr th {\n",
              "        vertical-align: top;\n",
              "    }\n",
              "\n",
              "    .dataframe thead th {\n",
              "        text-align: right;\n",
              "    }\n",
              "</style>\n",
              "<table border=\"1\" class=\"dataframe\">\n",
              "  <thead>\n",
              "    <tr style=\"text-align: right;\">\n",
              "      <th></th>\n",
              "      <th>count</th>\n",
              "      <th>mean</th>\n",
              "      <th>std</th>\n",
              "      <th>min</th>\n",
              "      <th>25%</th>\n",
              "      <th>50%</th>\n",
              "      <th>75%</th>\n",
              "      <th>max</th>\n",
              "    </tr>\n",
              "  </thead>\n",
              "  <tbody>\n",
              "    <tr>\n",
              "      <th>Age</th>\n",
              "      <td>1304.0</td>\n",
              "      <td>0.056547</td>\n",
              "      <td>0.755102</td>\n",
              "      <td>-1.552632</td>\n",
              "      <td>-0.447368</td>\n",
              "      <td>0.0</td>\n",
              "      <td>0.552632</td>\n",
              "      <td>2.289474</td>\n",
              "    </tr>\n",
              "    <tr>\n",
              "      <th>Gender</th>\n",
              "      <td>1313.0</td>\n",
              "      <td>0.348819</td>\n",
              "      <td>0.476778</td>\n",
              "      <td>0.000000</td>\n",
              "      <td>0.000000</td>\n",
              "      <td>0.0</td>\n",
              "      <td>1.000000</td>\n",
              "      <td>1.000000</td>\n",
              "    </tr>\n",
              "    <tr>\n",
              "      <th>Class</th>\n",
              "      <td>1312.0</td>\n",
              "      <td>0.397866</td>\n",
              "      <td>1.043053</td>\n",
              "      <td>-1.000000</td>\n",
              "      <td>0.000000</td>\n",
              "      <td>0.0</td>\n",
              "      <td>1.000000</td>\n",
              "      <td>2.000000</td>\n",
              "    </tr>\n",
              "    <tr>\n",
              "      <th>Married</th>\n",
              "      <td>1312.0</td>\n",
              "      <td>0.343750</td>\n",
              "      <td>0.475140</td>\n",
              "      <td>0.000000</td>\n",
              "      <td>0.000000</td>\n",
              "      <td>0.0</td>\n",
              "      <td>1.000000</td>\n",
              "      <td>1.000000</td>\n",
              "    </tr>\n",
              "    <tr>\n",
              "      <th>Fare</th>\n",
              "      <td>1311.0</td>\n",
              "      <td>0.521407</td>\n",
              "      <td>1.223419</td>\n",
              "      <td>-0.553191</td>\n",
              "      <td>-0.255319</td>\n",
              "      <td>0.0</td>\n",
              "      <td>0.744681</td>\n",
              "      <td>3.744681</td>\n",
              "    </tr>\n",
              "    <tr>\n",
              "      <th>Joined_Belfast</th>\n",
              "      <td>1313.0</td>\n",
              "      <td>0.064737</td>\n",
              "      <td>0.246155</td>\n",
              "      <td>0.000000</td>\n",
              "      <td>0.000000</td>\n",
              "      <td>0.0</td>\n",
              "      <td>0.000000</td>\n",
              "      <td>1.000000</td>\n",
              "    </tr>\n",
              "    <tr>\n",
              "      <th>Joined_Cherbourg</th>\n",
              "      <td>1313.0</td>\n",
              "      <td>0.192688</td>\n",
              "      <td>0.394561</td>\n",
              "      <td>0.000000</td>\n",
              "      <td>0.000000</td>\n",
              "      <td>0.0</td>\n",
              "      <td>0.000000</td>\n",
              "      <td>1.000000</td>\n",
              "    </tr>\n",
              "    <tr>\n",
              "      <th>Joined_Queenstown</th>\n",
              "      <td>1313.0</td>\n",
              "      <td>0.069307</td>\n",
              "      <td>0.254072</td>\n",
              "      <td>0.000000</td>\n",
              "      <td>0.000000</td>\n",
              "      <td>0.0</td>\n",
              "      <td>0.000000</td>\n",
              "      <td>1.000000</td>\n",
              "    </tr>\n",
              "    <tr>\n",
              "      <th>Joined_Southampton</th>\n",
              "      <td>1313.0</td>\n",
              "      <td>-0.326733</td>\n",
              "      <td>0.469197</td>\n",
              "      <td>-1.000000</td>\n",
              "      <td>-1.000000</td>\n",
              "      <td>0.0</td>\n",
              "      <td>0.000000</td>\n",
              "      <td>0.000000</td>\n",
              "    </tr>\n",
              "  </tbody>\n",
              "</table>\n",
              "</div>"
            ],
            "text/plain": [
              "                     count      mean       std       min       25%  50%  \\\n",
              "Age                 1304.0  0.056547  0.755102 -1.552632 -0.447368  0.0   \n",
              "Gender              1313.0  0.348819  0.476778  0.000000  0.000000  0.0   \n",
              "Class               1312.0  0.397866  1.043053 -1.000000  0.000000  0.0   \n",
              "Married             1312.0  0.343750  0.475140  0.000000  0.000000  0.0   \n",
              "Fare                1311.0  0.521407  1.223419 -0.553191 -0.255319  0.0   \n",
              "Joined_Belfast      1313.0  0.064737  0.246155  0.000000  0.000000  0.0   \n",
              "Joined_Cherbourg    1313.0  0.192688  0.394561  0.000000  0.000000  0.0   \n",
              "Joined_Queenstown   1313.0  0.069307  0.254072  0.000000  0.000000  0.0   \n",
              "Joined_Southampton  1313.0 -0.326733  0.469197 -1.000000 -1.000000  0.0   \n",
              "\n",
              "                         75%       max  \n",
              "Age                 0.552632  2.289474  \n",
              "Gender              1.000000  1.000000  \n",
              "Class               1.000000  2.000000  \n",
              "Married             1.000000  1.000000  \n",
              "Fare                0.744681  3.744681  \n",
              "Joined_Belfast      0.000000  1.000000  \n",
              "Joined_Cherbourg    0.000000  1.000000  \n",
              "Joined_Queenstown   0.000000  1.000000  \n",
              "Joined_Southampton  0.000000  0.000000  "
            ]
          },
          "execution_count": 121,
          "metadata": {},
          "output_type": "execute_result"
        }
      ],
      "source": [
        "# transformed_df.describe(include='all').T\n",
        "scaled_df.describe(include='all').T"
      ]
    },
    {
      "cell_type": "markdown",
      "metadata": {
        "id": "tWAhk9ovoL2Y"
      },
      "source": [
        "### Apples to apples\n",
        "\n",
        "All columns roughly in 0 to 1 range.\n",
        "\n",
        "|index|count|mean|std|min|25%|50%|75%|max|\n",
        "|---|---|---|---|---|---|---|---|---|\n",
        "|Age|1304\\.0|0\\.0565466580561834|0\\.7551023683278205|-1\\.5526315789473684|-0\\.4473684210526316|0\\.0|0\\.5526315789473685|2\\.289473684210526|\n",
        "|Gender|1313\\.0|0\\.3488194973343488|0\\.47677833844440637|0\\.0|0\\.0|0\\.0|1\\.0|1\\.0|\n",
        "|Class|1312\\.0|0\\.3978658536585366|1\\.0430526490417245|-1\\.0|0\\.0|0\\.0|1\\.0|2\\.0|\n",
        "|Married|1312\\.0|0\\.34375|0\\.4751399890067327|0\\.0|0\\.0|0\\.0|1\\.0|1\\.0|\n",
        "|Fare|1311\\.0|0\\.5214074038008991|1\\.2234188537091832|-0\\.5531914893617021|-0\\.2553191489361702|0\\.0|0\\.7446808510638299|3\\.74468085106383|\n",
        "|Joined\\_Belfast|1313\\.0|0\\.06473724295506474|0\\.24615539898364328|0\\.0|0\\.0|0\\.0|0\\.0|1\\.0|\n",
        "|Joined\\_Cherbourg|1313\\.0|0\\.19268849961919268|0\\.3945607792644899|0\\.0|0\\.0|0\\.0|0\\.0|1\\.0|\n",
        "|Joined\\_Queenstown|1313\\.0|0\\.06930693069306931|0\\.2540721241868543|0\\.0|0\\.0|0\\.0|0\\.0|1\\.0|\n",
        "|Joined\\_Southampton|1313\\.0|-0\\.32673267326732675|0\\.46919729323158754|-1\\.0|-1\\.0|0\\.0|0\\.0|0\\.0|"
      ]
    },
    {
      "cell_type": "markdown",
      "metadata": {
        "id": "C2tISPgUoVnU"
      },
      "source": [
        "# Challenge 4\n",
        "<img src='https://www.dropbox.com/s/3uyvp722kp5to2r/assignment.png?raw=1' width='300'>\n",
        "\n",
        "Try it on the cable customer dataset. Add it to the pipeline as the last step. Only need it for `'Time Spent'`."
      ]
    },
    {
      "cell_type": "code",
      "execution_count": 122,
      "metadata": {
        "id": "0mV_4aTzo1Bi"
      },
      "outputs": [],
      "source": [
        "url = 'https://docs.google.com/spreadsheets/d/e/2PACX-1vQPM6PqZXgmAHfRYTcDZseyALRyVwkBtKEo_rtaKq_C7T0jycWxH6QVEzTzJCRA0m8Vz0k68eM9tDm-/pub?output=csv'"
      ]
    },
    {
      "cell_type": "code",
      "execution_count": 123,
      "metadata": {
        "id": "XEQwkk2Co1Bi"
      },
      "outputs": [
        {
          "data": {
            "text/html": [
              "<div>\n",
              "<style scoped>\n",
              "    .dataframe tbody tr th:only-of-type {\n",
              "        vertical-align: middle;\n",
              "    }\n",
              "\n",
              "    .dataframe tbody tr th {\n",
              "        vertical-align: top;\n",
              "    }\n",
              "\n",
              "    .dataframe thead th {\n",
              "        text-align: right;\n",
              "    }\n",
              "</style>\n",
              "<table border=\"1\" class=\"dataframe\">\n",
              "  <thead>\n",
              "    <tr style=\"text-align: right;\">\n",
              "      <th></th>\n",
              "      <th>ID</th>\n",
              "      <th>Gender</th>\n",
              "      <th>Experience Level</th>\n",
              "      <th>Time Spent</th>\n",
              "      <th>OS</th>\n",
              "      <th>ISP</th>\n",
              "      <th>Age</th>\n",
              "      <th>Rating</th>\n",
              "    </tr>\n",
              "  </thead>\n",
              "  <tbody>\n",
              "    <tr>\n",
              "      <th>0</th>\n",
              "      <td>3</td>\n",
              "      <td>Female</td>\n",
              "      <td>medium</td>\n",
              "      <td>NaN</td>\n",
              "      <td>iOS</td>\n",
              "      <td>Xfinity</td>\n",
              "      <td>NaN</td>\n",
              "      <td>0</td>\n",
              "    </tr>\n",
              "    <tr>\n",
              "      <th>1</th>\n",
              "      <td>27</td>\n",
              "      <td>Male</td>\n",
              "      <td>medium</td>\n",
              "      <td>71.97</td>\n",
              "      <td>Android</td>\n",
              "      <td>Cox</td>\n",
              "      <td>50.0</td>\n",
              "      <td>0</td>\n",
              "    </tr>\n",
              "    <tr>\n",
              "      <th>2</th>\n",
              "      <td>30</td>\n",
              "      <td>Female</td>\n",
              "      <td>medium</td>\n",
              "      <td>101.81</td>\n",
              "      <td>NaN</td>\n",
              "      <td>Cox</td>\n",
              "      <td>49.0</td>\n",
              "      <td>1</td>\n",
              "    </tr>\n",
              "    <tr>\n",
              "      <th>3</th>\n",
              "      <td>40</td>\n",
              "      <td>Female</td>\n",
              "      <td>medium</td>\n",
              "      <td>86.37</td>\n",
              "      <td>Android</td>\n",
              "      <td>Xfinity</td>\n",
              "      <td>53.0</td>\n",
              "      <td>0</td>\n",
              "    </tr>\n",
              "    <tr>\n",
              "      <th>4</th>\n",
              "      <td>52</td>\n",
              "      <td>Female</td>\n",
              "      <td>medium</td>\n",
              "      <td>103.97</td>\n",
              "      <td>iOS</td>\n",
              "      <td>Xfinity</td>\n",
              "      <td>58.0</td>\n",
              "      <td>0</td>\n",
              "    </tr>\n",
              "  </tbody>\n",
              "</table>\n",
              "</div>"
            ],
            "text/plain": [
              "   ID  Gender Experience Level  Time Spent       OS      ISP   Age  Rating\n",
              "0   3  Female           medium         NaN      iOS  Xfinity   NaN       0\n",
              "1  27    Male           medium       71.97  Android      Cox  50.0       0\n",
              "2  30  Female           medium      101.81      NaN      Cox  49.0       1\n",
              "3  40  Female           medium       86.37  Android  Xfinity  53.0       0\n",
              "4  52  Female           medium      103.97      iOS  Xfinity  58.0       0"
            ]
          },
          "execution_count": 123,
          "metadata": {},
          "output_type": "execute_result"
        }
      ],
      "source": [
        "customers_df = pd.read_csv(url)\n",
        "customers_df.head()"
      ]
    },
    {
      "cell_type": "code",
      "execution_count": 134,
      "metadata": {
        "id": "EpJZr_rj-p7J"
      },
      "outputs": [],
      "source": [
        "customer_features = customers_df.drop(columns='Rating')"
      ]
    },
    {
      "cell_type": "code",
      "execution_count": 137,
      "metadata": {
        "id": "sYxtig9qo1Bj"
      },
      "outputs": [],
      "source": [
        "customer_transformer = Pipeline(\n",
        "    steps=[\n",
        "        # fill in the steps on your own\n",
        "        # Drop ID\n",
        "        (\"drop\", CustomDropColumnsTransformer([\"ID\"], \"drop\")),\n",
        "        # Map gender\n",
        "        (\"gender\", CustomMappingTransformer(\"Gender\", {\"Male\": 0, \"Female\": 1})),\n",
        "        # Map experience level\n",
        "        (\n",
        "            \"experience_level\",\n",
        "            CustomMappingTransformer(\n",
        "                \"Experience Level\", {\"low\": 0, \"medium\": 1, \"high\": 2}\n",
        "            ),\n",
        "        ),\n",
        "        # One hot encode OS\n",
        "        (\"os\", CustomOHETransformer(\"OS\")),\n",
        "        # One hot encode ISP\n",
        "        (\"isp\", CustomOHETransformer(\"ISP\")),\n",
        "        (\"time spent\", CustomTukeyTransformer(\"Time Spent\", \"inner\")),\n",
        "        (\"robust scaler time spent\", CustomRobustTransformer(\"Time Spent\")),\n",
        "        (\"robust scaler age\", CustomRobustTransformer(\"Age\")),\n",
        "    ],\n",
        "    verbose=True,\n",
        ")"
      ]
    },
    {
      "cell_type": "code",
      "execution_count": 138,
      "metadata": {
        "id": "sKykDlLCo1Bj"
      },
      "outputs": [
        {
          "name": "stdout",
          "output_type": "stream",
          "text": [
            "[Pipeline] .............. (step 1 of 8) Processing drop, total=   0.0s\n",
            "\n",
            "Warning: CustomMappingTransformer[Gender] does not contain keys for these values {nan}\n",
            "\n",
            "[Pipeline] ............ (step 2 of 8) Processing gender, total=   0.0s\n",
            "\n",
            "Warning: CustomMappingTransformer[Experience Level] does not contain keys for these values {nan}\n",
            "\n",
            "[Pipeline] .. (step 3 of 8) Processing experience_level, total=   0.0s\n",
            "[Pipeline] ................ (step 4 of 8) Processing os, total=   0.0s\n",
            "[Pipeline] ............... (step 5 of 8) Processing isp, total=   0.0s\n",
            "[Pipeline] ........ (step 6 of 8) Processing time spent, total=   0.0s\n",
            "[Pipeline]  (step 7 of 8) Processing robust scaler time spent, total=   0.0s\n",
            "[Pipeline] . (step 8 of 8) Processing robust scaler age, total=   0.0s\n"
          ]
        },
        {
          "data": {
            "text/html": [
              "<div>\n",
              "<style scoped>\n",
              "    .dataframe tbody tr th:only-of-type {\n",
              "        vertical-align: middle;\n",
              "    }\n",
              "\n",
              "    .dataframe tbody tr th {\n",
              "        vertical-align: top;\n",
              "    }\n",
              "\n",
              "    .dataframe thead th {\n",
              "        text-align: right;\n",
              "    }\n",
              "</style>\n",
              "<table border=\"1\" class=\"dataframe\">\n",
              "  <thead>\n",
              "    <tr style=\"text-align: right;\">\n",
              "      <th></th>\n",
              "      <th>Gender</th>\n",
              "      <th>Experience Level</th>\n",
              "      <th>Time Spent</th>\n",
              "      <th>Age</th>\n",
              "      <th>OS_Android</th>\n",
              "      <th>OS_iOS</th>\n",
              "      <th>ISP_AT&amp;T</th>\n",
              "      <th>ISP_Cox</th>\n",
              "      <th>ISP_HughesNet</th>\n",
              "      <th>ISP_Xfinity</th>\n",
              "    </tr>\n",
              "  </thead>\n",
              "  <tbody>\n",
              "    <tr>\n",
              "      <th>0</th>\n",
              "      <td>1.0</td>\n",
              "      <td>1.0</td>\n",
              "      <td>NaN</td>\n",
              "      <td>NaN</td>\n",
              "      <td>0</td>\n",
              "      <td>1</td>\n",
              "      <td>0</td>\n",
              "      <td>0</td>\n",
              "      <td>0</td>\n",
              "      <td>1</td>\n",
              "    </tr>\n",
              "    <tr>\n",
              "      <th>1</th>\n",
              "      <td>0.0</td>\n",
              "      <td>1.0</td>\n",
              "      <td>-1.605744</td>\n",
              "      <td>-0.689655</td>\n",
              "      <td>1</td>\n",
              "      <td>0</td>\n",
              "      <td>0</td>\n",
              "      <td>1</td>\n",
              "      <td>0</td>\n",
              "      <td>0</td>\n",
              "    </tr>\n",
              "    <tr>\n",
              "      <th>2</th>\n",
              "      <td>1.0</td>\n",
              "      <td>1.0</td>\n",
              "      <td>0.620291</td>\n",
              "      <td>-0.758621</td>\n",
              "      <td>0</td>\n",
              "      <td>0</td>\n",
              "      <td>0</td>\n",
              "      <td>1</td>\n",
              "      <td>0</td>\n",
              "      <td>0</td>\n",
              "    </tr>\n",
              "    <tr>\n",
              "      <th>3</th>\n",
              "      <td>1.0</td>\n",
              "      <td>1.0</td>\n",
              "      <td>-0.531518</td>\n",
              "      <td>-0.482759</td>\n",
              "      <td>1</td>\n",
              "      <td>0</td>\n",
              "      <td>0</td>\n",
              "      <td>0</td>\n",
              "      <td>0</td>\n",
              "      <td>1</td>\n",
              "    </tr>\n",
              "    <tr>\n",
              "      <th>4</th>\n",
              "      <td>1.0</td>\n",
              "      <td>1.0</td>\n",
              "      <td>0.781425</td>\n",
              "      <td>-0.137931</td>\n",
              "      <td>0</td>\n",
              "      <td>1</td>\n",
              "      <td>0</td>\n",
              "      <td>0</td>\n",
              "      <td>0</td>\n",
              "      <td>1</td>\n",
              "    </tr>\n",
              "  </tbody>\n",
              "</table>\n",
              "</div>"
            ],
            "text/plain": [
              "   Gender  Experience Level  Time Spent       Age  OS_Android  OS_iOS  \\\n",
              "0     1.0               1.0         NaN       NaN           0       1   \n",
              "1     0.0               1.0   -1.605744 -0.689655           1       0   \n",
              "2     1.0               1.0    0.620291 -0.758621           0       0   \n",
              "3     1.0               1.0   -0.531518 -0.482759           1       0   \n",
              "4     1.0               1.0    0.781425 -0.137931           0       1   \n",
              "\n",
              "   ISP_AT&T  ISP_Cox  ISP_HughesNet  ISP_Xfinity  \n",
              "0         0        0              0            1  \n",
              "1         0        1              0            0  \n",
              "2         0        1              0            0  \n",
              "3         0        0              0            1  \n",
              "4         0        0              0            1  "
            ]
          },
          "execution_count": 138,
          "metadata": {},
          "output_type": "execute_result"
        }
      ],
      "source": [
        "transformed_customer_df = customer_transformer.fit_transform(customer_features)\n",
        "transformed_customer_df.head()"
      ]
    },
    {
      "cell_type": "markdown",
      "metadata": {
        "id": "EfCY0RsNo1Bo"
      },
      "source": [
        "### What I see\n",
        "\n",
        "|index|ID|Gender|Experience Level|Time Spent|OS|Age|ISP\\_AT&amp;T|ISP\\_Cox|ISP\\_HughesNet|ISP\\_Xfinity|\n",
        "|---|---|---|---|---|---|---|---|---|---|---|\n",
        "|0|3|1\\.0|1\\.0|NaN|1\\.0|NaN|0|0|0|1|\n",
        "|1|27|0\\.0|1\\.0|-1\\.6057441253263711|0\\.0|-0\\.6896551724137931|0|1|0|0|\n",
        "|2|30|1\\.0|1\\.0|0\\.6202909362178289|NaN|-0\\.7586206896551724|0|1|0|0|\n",
        "|3|40|1\\.0|1\\.0|-0\\.5315180902648265|0\\.0|-0\\.4827586206896552|0|0|0|1|\n",
        "|4|52|1\\.0|1\\.0|0\\.7814248414770603|1\\.0|-0\\.13793103448275862|0|0|0|1|"
      ]
    },
    {
      "cell_type": "markdown",
      "metadata": {
        "id": "w7ayicj3o1Bo"
      },
      "source": [
        "# Challenge 5\n",
        "<img src='https://www.dropbox.com/s/3uyvp722kp5to2r/assignment.png?raw=1' width='300'>\n",
        "\n",
        "Add `CustomRobustTransformer` to your GitHub library.\n",
        "\n",
        "\n",
        "As a preprocessing step, I'd recommend asking Gemini to do full documentation and type hints on it and add that to your library."
      ]
    }
  ],
  "metadata": {
    "colab": {
      "include_colab_link": true,
      "provenance": []
    },
    "kernelspec": {
      "display_name": "cs523",
      "language": "python",
      "name": "python3"
    },
    "language_info": {
      "codemirror_mode": {
        "name": "ipython",
        "version": 3
      },
      "file_extension": ".py",
      "mimetype": "text/x-python",
      "name": "python",
      "nbconvert_exporter": "python",
      "pygments_lexer": "ipython3",
      "version": "3.12.9"
    }
  },
  "nbformat": 4,
  "nbformat_minor": 0
}
