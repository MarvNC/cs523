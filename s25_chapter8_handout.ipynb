{
  "cells": [
    {
      "cell_type": "markdown",
      "metadata": {
        "id": "bzDiYMkiYgRS"
      },
      "source": [
        "<center>\n",
        "<h1>Chapter Eight</h1>\n",
        "</center>\n",
        "\n",
        "<hr>"
      ]
    },
    {
      "cell_type": "markdown",
      "metadata": {
        "id": "bZiquu_S3vZG"
      },
      "source": [
        "## Set-up\n",
        "\n",
        "First bring in your library."
      ]
    },
    {
      "cell_type": "code",
      "execution_count": 1,
      "metadata": {
        "id": "AZ6MOQmuVewi",
        "colab": {
          "base_uri": "https://localhost:8080/"
        },
        "outputId": "233cd45c-e9f2-4fee-f211-498e59cace0c"
      },
      "outputs": [
        {
          "output_type": "stream",
          "name": "stdout",
          "text": [
            "rm: cannot remove 'library.py': No such file or directory\n",
            "--2025-05-11 22:34:51--  https://raw.githubusercontent.com/MarvNC/cs523/main/library.py\n",
            "Resolving raw.githubusercontent.com (raw.githubusercontent.com)... 185.199.110.133, 185.199.111.133, 185.199.109.133, ...\n",
            "Connecting to raw.githubusercontent.com (raw.githubusercontent.com)|185.199.110.133|:443... connected.\n",
            "HTTP request sent, awaiting response... 200 OK\n",
            "Length: 44282 (43K) [text/plain]\n",
            "Saving to: ‘library.py’\n",
            "\n",
            "library.py          100%[===================>]  43.24K  --.-KB/s    in 0.01s   \n",
            "\n",
            "2025-05-11 22:34:51 (3.69 MB/s) - ‘library.py’ saved [44282/44282]\n",
            "\n"
          ]
        }
      ],
      "source": [
        "github_name = 'MarvNC'\n",
        "repo_name = 'cs523'\n",
        "source_file = 'library.py'\n",
        "url = f'https://raw.githubusercontent.com/{github_name}/{repo_name}/main/{source_file}'\n",
        "!rm $source_file\n",
        "!wget $url\n",
        "%run -i $source_file\n",
        "# from library import *"
      ]
    },
    {
      "cell_type": "code",
      "execution_count": 2,
      "metadata": {
        "id": "AAUvxVCo5bta",
        "colab": {
          "base_uri": "https://localhost:8080/"
        },
        "outputId": "f2ac9fb7-0a3e-4c7e-b4b6-6f91acdfdcb8"
      },
      "outputs": [
        {
          "output_type": "execute_result",
          "data": {
            "text/plain": [
              "(function, sklearn.pipeline.Pipeline)"
            ]
          },
          "metadata": {},
          "execution_count": 2
        }
      ],
      "source": [
        "type(find_random_state), type(titanic_transformer)"
      ]
    },
    {
      "cell_type": "code",
      "execution_count": 3,
      "metadata": {
        "id": "PGZzPA8QkCua",
        "colab": {
          "base_uri": "https://localhost:8080/"
        },
        "outputId": "268a538b-02e0-446e-c434-533986b55e46"
      },
      "outputs": [
        {
          "output_type": "execute_result",
          "data": {
            "text/plain": [
              "(107, 113)"
            ]
          },
          "metadata": {},
          "execution_count": 3
        }
      ],
      "source": [
        "titanic_variance_based_split, customer_variance_based_split  #(107, 113)"
      ]
    },
    {
      "cell_type": "code",
      "execution_count": 4,
      "metadata": {
        "id": "Hje9GNDR5bvs"
      },
      "outputs": [],
      "source": [
        "#just to be sure you match mine\n",
        "\n",
        "titanic_variance_based_split = 107\n",
        "customer_variance_based_split = 113"
      ]
    },
    {
      "cell_type": "markdown",
      "metadata": {
        "id": "Npa06nZLAvs-"
      },
      "source": [
        "# I. Our first machine learning algorithm: linear regression\n",
        "\n",
        "In this chapter we will start the second part of the course, exploring machine learning models to predict (AKA classify). I know I said we would concentrate on binary classification, and we will. But it is a little easier to start with an algorithm called linear regression, which can be used to predict numerical values in general, e.g., Age, price of stock, etc."
      ]
    },
    {
      "cell_type": "code",
      "execution_count": 5,
      "metadata": {
        "id": "xpc1PfunSdiv"
      },
      "outputs": [],
      "source": [
        "url = 'https://raw.githubusercontent.com/fickas/asynch_models/refs/heads/main/datasets/titanic_trimmed.csv'\n",
        "titanic_trimmed = pd.read_csv(url)"
      ]
    },
    {
      "cell_type": "code",
      "execution_count": 6,
      "metadata": {
        "id": "7JXOj2s9VXHC",
        "colab": {
          "base_uri": "https://localhost:8080/",
          "height": 206
        },
        "outputId": "56b5612f-9454-419f-8404-6530edcda425"
      },
      "outputs": [
        {
          "output_type": "execute_result",
          "data": {
            "text/plain": [
              "    Age Gender Class       Joined  Married  Fare\n",
              "0  41.0   Male    C3  Southampton      0.0   7.0\n",
              "1  21.0   Male  Crew  Southampton      0.0   0.0\n",
              "2  13.0   Male    C3  Southampton      NaN  20.0\n",
              "3  16.0   Male    C3  Southampton      0.0   NaN\n",
              "4   NaN   Male    C2    Cherbourg      0.0  24.0"
            ],
            "text/html": [
              "\n",
              "  <div id=\"df-2f6ccdff-4468-428a-8dcb-eeea3809d414\" class=\"colab-df-container\">\n",
              "    <div>\n",
              "<style scoped>\n",
              "    .dataframe tbody tr th:only-of-type {\n",
              "        vertical-align: middle;\n",
              "    }\n",
              "\n",
              "    .dataframe tbody tr th {\n",
              "        vertical-align: top;\n",
              "    }\n",
              "\n",
              "    .dataframe thead th {\n",
              "        text-align: right;\n",
              "    }\n",
              "</style>\n",
              "<table border=\"1\" class=\"dataframe\">\n",
              "  <thead>\n",
              "    <tr style=\"text-align: right;\">\n",
              "      <th></th>\n",
              "      <th>Age</th>\n",
              "      <th>Gender</th>\n",
              "      <th>Class</th>\n",
              "      <th>Joined</th>\n",
              "      <th>Married</th>\n",
              "      <th>Fare</th>\n",
              "    </tr>\n",
              "  </thead>\n",
              "  <tbody>\n",
              "    <tr>\n",
              "      <th>0</th>\n",
              "      <td>41.0</td>\n",
              "      <td>Male</td>\n",
              "      <td>C3</td>\n",
              "      <td>Southampton</td>\n",
              "      <td>0.0</td>\n",
              "      <td>7.0</td>\n",
              "    </tr>\n",
              "    <tr>\n",
              "      <th>1</th>\n",
              "      <td>21.0</td>\n",
              "      <td>Male</td>\n",
              "      <td>Crew</td>\n",
              "      <td>Southampton</td>\n",
              "      <td>0.0</td>\n",
              "      <td>0.0</td>\n",
              "    </tr>\n",
              "    <tr>\n",
              "      <th>2</th>\n",
              "      <td>13.0</td>\n",
              "      <td>Male</td>\n",
              "      <td>C3</td>\n",
              "      <td>Southampton</td>\n",
              "      <td>NaN</td>\n",
              "      <td>20.0</td>\n",
              "    </tr>\n",
              "    <tr>\n",
              "      <th>3</th>\n",
              "      <td>16.0</td>\n",
              "      <td>Male</td>\n",
              "      <td>C3</td>\n",
              "      <td>Southampton</td>\n",
              "      <td>0.0</td>\n",
              "      <td>NaN</td>\n",
              "    </tr>\n",
              "    <tr>\n",
              "      <th>4</th>\n",
              "      <td>NaN</td>\n",
              "      <td>Male</td>\n",
              "      <td>C2</td>\n",
              "      <td>Cherbourg</td>\n",
              "      <td>0.0</td>\n",
              "      <td>24.0</td>\n",
              "    </tr>\n",
              "  </tbody>\n",
              "</table>\n",
              "</div>\n",
              "    <div class=\"colab-df-buttons\">\n",
              "\n",
              "  <div class=\"colab-df-container\">\n",
              "    <button class=\"colab-df-convert\" onclick=\"convertToInteractive('df-2f6ccdff-4468-428a-8dcb-eeea3809d414')\"\n",
              "            title=\"Convert this dataframe to an interactive table.\"\n",
              "            style=\"display:none;\">\n",
              "\n",
              "  <svg xmlns=\"http://www.w3.org/2000/svg\" height=\"24px\" viewBox=\"0 -960 960 960\">\n",
              "    <path d=\"M120-120v-720h720v720H120Zm60-500h600v-160H180v160Zm220 220h160v-160H400v160Zm0 220h160v-160H400v160ZM180-400h160v-160H180v160Zm440 0h160v-160H620v160ZM180-180h160v-160H180v160Zm440 0h160v-160H620v160Z\"/>\n",
              "  </svg>\n",
              "    </button>\n",
              "\n",
              "  <style>\n",
              "    .colab-df-container {\n",
              "      display:flex;\n",
              "      gap: 12px;\n",
              "    }\n",
              "\n",
              "    .colab-df-convert {\n",
              "      background-color: #E8F0FE;\n",
              "      border: none;\n",
              "      border-radius: 50%;\n",
              "      cursor: pointer;\n",
              "      display: none;\n",
              "      fill: #1967D2;\n",
              "      height: 32px;\n",
              "      padding: 0 0 0 0;\n",
              "      width: 32px;\n",
              "    }\n",
              "\n",
              "    .colab-df-convert:hover {\n",
              "      background-color: #E2EBFA;\n",
              "      box-shadow: 0px 1px 2px rgba(60, 64, 67, 0.3), 0px 1px 3px 1px rgba(60, 64, 67, 0.15);\n",
              "      fill: #174EA6;\n",
              "    }\n",
              "\n",
              "    .colab-df-buttons div {\n",
              "      margin-bottom: 4px;\n",
              "    }\n",
              "\n",
              "    [theme=dark] .colab-df-convert {\n",
              "      background-color: #3B4455;\n",
              "      fill: #D2E3FC;\n",
              "    }\n",
              "\n",
              "    [theme=dark] .colab-df-convert:hover {\n",
              "      background-color: #434B5C;\n",
              "      box-shadow: 0px 1px 3px 1px rgba(0, 0, 0, 0.15);\n",
              "      filter: drop-shadow(0px 1px 2px rgba(0, 0, 0, 0.3));\n",
              "      fill: #FFFFFF;\n",
              "    }\n",
              "  </style>\n",
              "\n",
              "    <script>\n",
              "      const buttonEl =\n",
              "        document.querySelector('#df-2f6ccdff-4468-428a-8dcb-eeea3809d414 button.colab-df-convert');\n",
              "      buttonEl.style.display =\n",
              "        google.colab.kernel.accessAllowed ? 'block' : 'none';\n",
              "\n",
              "      async function convertToInteractive(key) {\n",
              "        const element = document.querySelector('#df-2f6ccdff-4468-428a-8dcb-eeea3809d414');\n",
              "        const dataTable =\n",
              "          await google.colab.kernel.invokeFunction('convertToInteractive',\n",
              "                                                    [key], {});\n",
              "        if (!dataTable) return;\n",
              "\n",
              "        const docLinkHtml = 'Like what you see? Visit the ' +\n",
              "          '<a target=\"_blank\" href=https://colab.research.google.com/notebooks/data_table.ipynb>data table notebook</a>'\n",
              "          + ' to learn more about interactive tables.';\n",
              "        element.innerHTML = '';\n",
              "        dataTable['output_type'] = 'display_data';\n",
              "        await google.colab.output.renderOutput(dataTable, element);\n",
              "        const docLink = document.createElement('div');\n",
              "        docLink.innerHTML = docLinkHtml;\n",
              "        element.appendChild(docLink);\n",
              "      }\n",
              "    </script>\n",
              "  </div>\n",
              "\n",
              "\n",
              "    <div id=\"df-9b9c9d08-e64f-42b8-8699-787d3a060ff5\">\n",
              "      <button class=\"colab-df-quickchart\" onclick=\"quickchart('df-9b9c9d08-e64f-42b8-8699-787d3a060ff5')\"\n",
              "                title=\"Suggest charts\"\n",
              "                style=\"display:none;\">\n",
              "\n",
              "<svg xmlns=\"http://www.w3.org/2000/svg\" height=\"24px\"viewBox=\"0 0 24 24\"\n",
              "     width=\"24px\">\n",
              "    <g>\n",
              "        <path d=\"M19 3H5c-1.1 0-2 .9-2 2v14c0 1.1.9 2 2 2h14c1.1 0 2-.9 2-2V5c0-1.1-.9-2-2-2zM9 17H7v-7h2v7zm4 0h-2V7h2v10zm4 0h-2v-4h2v4z\"/>\n",
              "    </g>\n",
              "</svg>\n",
              "      </button>\n",
              "\n",
              "<style>\n",
              "  .colab-df-quickchart {\n",
              "      --bg-color: #E8F0FE;\n",
              "      --fill-color: #1967D2;\n",
              "      --hover-bg-color: #E2EBFA;\n",
              "      --hover-fill-color: #174EA6;\n",
              "      --disabled-fill-color: #AAA;\n",
              "      --disabled-bg-color: #DDD;\n",
              "  }\n",
              "\n",
              "  [theme=dark] .colab-df-quickchart {\n",
              "      --bg-color: #3B4455;\n",
              "      --fill-color: #D2E3FC;\n",
              "      --hover-bg-color: #434B5C;\n",
              "      --hover-fill-color: #FFFFFF;\n",
              "      --disabled-bg-color: #3B4455;\n",
              "      --disabled-fill-color: #666;\n",
              "  }\n",
              "\n",
              "  .colab-df-quickchart {\n",
              "    background-color: var(--bg-color);\n",
              "    border: none;\n",
              "    border-radius: 50%;\n",
              "    cursor: pointer;\n",
              "    display: none;\n",
              "    fill: var(--fill-color);\n",
              "    height: 32px;\n",
              "    padding: 0;\n",
              "    width: 32px;\n",
              "  }\n",
              "\n",
              "  .colab-df-quickchart:hover {\n",
              "    background-color: var(--hover-bg-color);\n",
              "    box-shadow: 0 1px 2px rgba(60, 64, 67, 0.3), 0 1px 3px 1px rgba(60, 64, 67, 0.15);\n",
              "    fill: var(--button-hover-fill-color);\n",
              "  }\n",
              "\n",
              "  .colab-df-quickchart-complete:disabled,\n",
              "  .colab-df-quickchart-complete:disabled:hover {\n",
              "    background-color: var(--disabled-bg-color);\n",
              "    fill: var(--disabled-fill-color);\n",
              "    box-shadow: none;\n",
              "  }\n",
              "\n",
              "  .colab-df-spinner {\n",
              "    border: 2px solid var(--fill-color);\n",
              "    border-color: transparent;\n",
              "    border-bottom-color: var(--fill-color);\n",
              "    animation:\n",
              "      spin 1s steps(1) infinite;\n",
              "  }\n",
              "\n",
              "  @keyframes spin {\n",
              "    0% {\n",
              "      border-color: transparent;\n",
              "      border-bottom-color: var(--fill-color);\n",
              "      border-left-color: var(--fill-color);\n",
              "    }\n",
              "    20% {\n",
              "      border-color: transparent;\n",
              "      border-left-color: var(--fill-color);\n",
              "      border-top-color: var(--fill-color);\n",
              "    }\n",
              "    30% {\n",
              "      border-color: transparent;\n",
              "      border-left-color: var(--fill-color);\n",
              "      border-top-color: var(--fill-color);\n",
              "      border-right-color: var(--fill-color);\n",
              "    }\n",
              "    40% {\n",
              "      border-color: transparent;\n",
              "      border-right-color: var(--fill-color);\n",
              "      border-top-color: var(--fill-color);\n",
              "    }\n",
              "    60% {\n",
              "      border-color: transparent;\n",
              "      border-right-color: var(--fill-color);\n",
              "    }\n",
              "    80% {\n",
              "      border-color: transparent;\n",
              "      border-right-color: var(--fill-color);\n",
              "      border-bottom-color: var(--fill-color);\n",
              "    }\n",
              "    90% {\n",
              "      border-color: transparent;\n",
              "      border-bottom-color: var(--fill-color);\n",
              "    }\n",
              "  }\n",
              "</style>\n",
              "\n",
              "      <script>\n",
              "        async function quickchart(key) {\n",
              "          const quickchartButtonEl =\n",
              "            document.querySelector('#' + key + ' button');\n",
              "          quickchartButtonEl.disabled = true;  // To prevent multiple clicks.\n",
              "          quickchartButtonEl.classList.add('colab-df-spinner');\n",
              "          try {\n",
              "            const charts = await google.colab.kernel.invokeFunction(\n",
              "                'suggestCharts', [key], {});\n",
              "          } catch (error) {\n",
              "            console.error('Error during call to suggestCharts:', error);\n",
              "          }\n",
              "          quickchartButtonEl.classList.remove('colab-df-spinner');\n",
              "          quickchartButtonEl.classList.add('colab-df-quickchart-complete');\n",
              "        }\n",
              "        (() => {\n",
              "          let quickchartButtonEl =\n",
              "            document.querySelector('#df-9b9c9d08-e64f-42b8-8699-787d3a060ff5 button');\n",
              "          quickchartButtonEl.style.display =\n",
              "            google.colab.kernel.accessAllowed ? 'block' : 'none';\n",
              "        })();\n",
              "      </script>\n",
              "    </div>\n",
              "\n",
              "    </div>\n",
              "  </div>\n"
            ],
            "application/vnd.google.colaboratory.intrinsic+json": {
              "type": "dataframe",
              "variable_name": "titanic_features",
              "summary": "{\n  \"name\": \"titanic_features\",\n  \"rows\": 1313,\n  \"fields\": [\n    {\n      \"column\": \"Age\",\n      \"properties\": {\n        \"dtype\": \"number\",\n        \"std\": 14.346944998228604,\n        \"min\": 1.0,\n        \"max\": 74.0,\n        \"num_unique_values\": 71,\n        \"samples\": [\n          4.0,\n          41.0,\n          60.0\n        ],\n        \"semantic_type\": \"\",\n        \"description\": \"\"\n      }\n    },\n    {\n      \"column\": \"Gender\",\n      \"properties\": {\n        \"dtype\": \"category\",\n        \"num_unique_values\": 2,\n        \"samples\": [\n          \"Female\",\n          \"Male\"\n        ],\n        \"semantic_type\": \"\",\n        \"description\": \"\"\n      }\n    },\n    {\n      \"column\": \"Class\",\n      \"properties\": {\n        \"dtype\": \"category\",\n        \"num_unique_values\": 4,\n        \"samples\": [\n          \"Crew\",\n          \"C1\"\n        ],\n        \"semantic_type\": \"\",\n        \"description\": \"\"\n      }\n    },\n    {\n      \"column\": \"Joined\",\n      \"properties\": {\n        \"dtype\": \"category\",\n        \"num_unique_values\": 4,\n        \"samples\": [\n          \"Cherbourg\",\n          \"Queenstown\"\n        ],\n        \"semantic_type\": \"\",\n        \"description\": \"\"\n      }\n    },\n    {\n      \"column\": \"Married\",\n      \"properties\": {\n        \"dtype\": \"number\",\n        \"std\": 0.4751399890067327,\n        \"min\": 0.0,\n        \"max\": 1.0,\n        \"num_unique_values\": 2,\n        \"samples\": [\n          1.0,\n          0.0\n        ],\n        \"semantic_type\": \"\",\n        \"description\": \"\"\n      }\n    },\n    {\n      \"column\": \"Fare\",\n      \"properties\": {\n        \"dtype\": \"number\",\n        \"std\": 52.58480450638799,\n        \"min\": 0.0,\n        \"max\": 512.0,\n        \"num_unique_values\": 96,\n        \"samples\": [\n          19.0,\n          110.0\n        ],\n        \"semantic_type\": \"\",\n        \"description\": \"\"\n      }\n    }\n  ]\n}"
            }
          },
          "metadata": {},
          "execution_count": 6
        }
      ],
      "source": [
        "titanic_features = titanic_trimmed.drop(columns='Survived')\n",
        "titanic_features.head()  #print first 5 rows of the table"
      ]
    },
    {
      "cell_type": "code",
      "execution_count": 7,
      "metadata": {
        "id": "s50JGZMKcCUF"
      },
      "outputs": [],
      "source": [
        "labels = titanic_trimmed['Survived'].to_list()"
      ]
    },
    {
      "cell_type": "markdown",
      "metadata": {
        "id": "FuVMbHSMiQvS"
      },
      "source": [
        "And split using the `random_state` value we found last chapter."
      ]
    },
    {
      "cell_type": "code",
      "execution_count": 8,
      "metadata": {
        "id": "IzJJ_RornLXy"
      },
      "outputs": [],
      "source": [
        "X_train, X_test, y_train, y_test = train_test_split(titanic_features, labels, test_size=0.2, shuffle=True,\n",
        "                                                    random_state=titanic_variance_based_split, stratify=labels)"
      ]
    },
    {
      "cell_type": "code",
      "execution_count": 9,
      "metadata": {
        "id": "WwGhOZdaoc0m",
        "colab": {
          "base_uri": "https://localhost:8080/",
          "height": 206
        },
        "outputId": "a7a631b3-9712-48ba-e603-5bf4099b98a1"
      },
      "outputs": [
        {
          "output_type": "execute_result",
          "data": {
            "text/plain": [
              "      Age  Gender Class       Joined  Married   Fare\n",
              "460  45.0  Female    C3  Southampton      0.0    7.0\n",
              "643   5.0    Male    C3  Southampton      0.0   27.0\n",
              "802  31.0  Female  Crew  Southampton      0.0  221.0\n",
              "788  22.0  Female    C2  Southampton      0.0   26.0\n",
              "582  36.0    Male    C2  Southampton      0.0   10.0"
            ],
            "text/html": [
              "\n",
              "  <div id=\"df-72188bf6-a09d-4460-a212-55563ea712d1\" class=\"colab-df-container\">\n",
              "    <div>\n",
              "<style scoped>\n",
              "    .dataframe tbody tr th:only-of-type {\n",
              "        vertical-align: middle;\n",
              "    }\n",
              "\n",
              "    .dataframe tbody tr th {\n",
              "        vertical-align: top;\n",
              "    }\n",
              "\n",
              "    .dataframe thead th {\n",
              "        text-align: right;\n",
              "    }\n",
              "</style>\n",
              "<table border=\"1\" class=\"dataframe\">\n",
              "  <thead>\n",
              "    <tr style=\"text-align: right;\">\n",
              "      <th></th>\n",
              "      <th>Age</th>\n",
              "      <th>Gender</th>\n",
              "      <th>Class</th>\n",
              "      <th>Joined</th>\n",
              "      <th>Married</th>\n",
              "      <th>Fare</th>\n",
              "    </tr>\n",
              "  </thead>\n",
              "  <tbody>\n",
              "    <tr>\n",
              "      <th>460</th>\n",
              "      <td>45.0</td>\n",
              "      <td>Female</td>\n",
              "      <td>C3</td>\n",
              "      <td>Southampton</td>\n",
              "      <td>0.0</td>\n",
              "      <td>7.0</td>\n",
              "    </tr>\n",
              "    <tr>\n",
              "      <th>643</th>\n",
              "      <td>5.0</td>\n",
              "      <td>Male</td>\n",
              "      <td>C3</td>\n",
              "      <td>Southampton</td>\n",
              "      <td>0.0</td>\n",
              "      <td>27.0</td>\n",
              "    </tr>\n",
              "    <tr>\n",
              "      <th>802</th>\n",
              "      <td>31.0</td>\n",
              "      <td>Female</td>\n",
              "      <td>Crew</td>\n",
              "      <td>Southampton</td>\n",
              "      <td>0.0</td>\n",
              "      <td>221.0</td>\n",
              "    </tr>\n",
              "    <tr>\n",
              "      <th>788</th>\n",
              "      <td>22.0</td>\n",
              "      <td>Female</td>\n",
              "      <td>C2</td>\n",
              "      <td>Southampton</td>\n",
              "      <td>0.0</td>\n",
              "      <td>26.0</td>\n",
              "    </tr>\n",
              "    <tr>\n",
              "      <th>582</th>\n",
              "      <td>36.0</td>\n",
              "      <td>Male</td>\n",
              "      <td>C2</td>\n",
              "      <td>Southampton</td>\n",
              "      <td>0.0</td>\n",
              "      <td>10.0</td>\n",
              "    </tr>\n",
              "  </tbody>\n",
              "</table>\n",
              "</div>\n",
              "    <div class=\"colab-df-buttons\">\n",
              "\n",
              "  <div class=\"colab-df-container\">\n",
              "    <button class=\"colab-df-convert\" onclick=\"convertToInteractive('df-72188bf6-a09d-4460-a212-55563ea712d1')\"\n",
              "            title=\"Convert this dataframe to an interactive table.\"\n",
              "            style=\"display:none;\">\n",
              "\n",
              "  <svg xmlns=\"http://www.w3.org/2000/svg\" height=\"24px\" viewBox=\"0 -960 960 960\">\n",
              "    <path d=\"M120-120v-720h720v720H120Zm60-500h600v-160H180v160Zm220 220h160v-160H400v160Zm0 220h160v-160H400v160ZM180-400h160v-160H180v160Zm440 0h160v-160H620v160ZM180-180h160v-160H180v160Zm440 0h160v-160H620v160Z\"/>\n",
              "  </svg>\n",
              "    </button>\n",
              "\n",
              "  <style>\n",
              "    .colab-df-container {\n",
              "      display:flex;\n",
              "      gap: 12px;\n",
              "    }\n",
              "\n",
              "    .colab-df-convert {\n",
              "      background-color: #E8F0FE;\n",
              "      border: none;\n",
              "      border-radius: 50%;\n",
              "      cursor: pointer;\n",
              "      display: none;\n",
              "      fill: #1967D2;\n",
              "      height: 32px;\n",
              "      padding: 0 0 0 0;\n",
              "      width: 32px;\n",
              "    }\n",
              "\n",
              "    .colab-df-convert:hover {\n",
              "      background-color: #E2EBFA;\n",
              "      box-shadow: 0px 1px 2px rgba(60, 64, 67, 0.3), 0px 1px 3px 1px rgba(60, 64, 67, 0.15);\n",
              "      fill: #174EA6;\n",
              "    }\n",
              "\n",
              "    .colab-df-buttons div {\n",
              "      margin-bottom: 4px;\n",
              "    }\n",
              "\n",
              "    [theme=dark] .colab-df-convert {\n",
              "      background-color: #3B4455;\n",
              "      fill: #D2E3FC;\n",
              "    }\n",
              "\n",
              "    [theme=dark] .colab-df-convert:hover {\n",
              "      background-color: #434B5C;\n",
              "      box-shadow: 0px 1px 3px 1px rgba(0, 0, 0, 0.15);\n",
              "      filter: drop-shadow(0px 1px 2px rgba(0, 0, 0, 0.3));\n",
              "      fill: #FFFFFF;\n",
              "    }\n",
              "  </style>\n",
              "\n",
              "    <script>\n",
              "      const buttonEl =\n",
              "        document.querySelector('#df-72188bf6-a09d-4460-a212-55563ea712d1 button.colab-df-convert');\n",
              "      buttonEl.style.display =\n",
              "        google.colab.kernel.accessAllowed ? 'block' : 'none';\n",
              "\n",
              "      async function convertToInteractive(key) {\n",
              "        const element = document.querySelector('#df-72188bf6-a09d-4460-a212-55563ea712d1');\n",
              "        const dataTable =\n",
              "          await google.colab.kernel.invokeFunction('convertToInteractive',\n",
              "                                                    [key], {});\n",
              "        if (!dataTable) return;\n",
              "\n",
              "        const docLinkHtml = 'Like what you see? Visit the ' +\n",
              "          '<a target=\"_blank\" href=https://colab.research.google.com/notebooks/data_table.ipynb>data table notebook</a>'\n",
              "          + ' to learn more about interactive tables.';\n",
              "        element.innerHTML = '';\n",
              "        dataTable['output_type'] = 'display_data';\n",
              "        await google.colab.output.renderOutput(dataTable, element);\n",
              "        const docLink = document.createElement('div');\n",
              "        docLink.innerHTML = docLinkHtml;\n",
              "        element.appendChild(docLink);\n",
              "      }\n",
              "    </script>\n",
              "  </div>\n",
              "\n",
              "\n",
              "    <div id=\"df-16528d2e-b6bb-4c33-bba4-332f7e503a48\">\n",
              "      <button class=\"colab-df-quickchart\" onclick=\"quickchart('df-16528d2e-b6bb-4c33-bba4-332f7e503a48')\"\n",
              "                title=\"Suggest charts\"\n",
              "                style=\"display:none;\">\n",
              "\n",
              "<svg xmlns=\"http://www.w3.org/2000/svg\" height=\"24px\"viewBox=\"0 0 24 24\"\n",
              "     width=\"24px\">\n",
              "    <g>\n",
              "        <path d=\"M19 3H5c-1.1 0-2 .9-2 2v14c0 1.1.9 2 2 2h14c1.1 0 2-.9 2-2V5c0-1.1-.9-2-2-2zM9 17H7v-7h2v7zm4 0h-2V7h2v10zm4 0h-2v-4h2v4z\"/>\n",
              "    </g>\n",
              "</svg>\n",
              "      </button>\n",
              "\n",
              "<style>\n",
              "  .colab-df-quickchart {\n",
              "      --bg-color: #E8F0FE;\n",
              "      --fill-color: #1967D2;\n",
              "      --hover-bg-color: #E2EBFA;\n",
              "      --hover-fill-color: #174EA6;\n",
              "      --disabled-fill-color: #AAA;\n",
              "      --disabled-bg-color: #DDD;\n",
              "  }\n",
              "\n",
              "  [theme=dark] .colab-df-quickchart {\n",
              "      --bg-color: #3B4455;\n",
              "      --fill-color: #D2E3FC;\n",
              "      --hover-bg-color: #434B5C;\n",
              "      --hover-fill-color: #FFFFFF;\n",
              "      --disabled-bg-color: #3B4455;\n",
              "      --disabled-fill-color: #666;\n",
              "  }\n",
              "\n",
              "  .colab-df-quickchart {\n",
              "    background-color: var(--bg-color);\n",
              "    border: none;\n",
              "    border-radius: 50%;\n",
              "    cursor: pointer;\n",
              "    display: none;\n",
              "    fill: var(--fill-color);\n",
              "    height: 32px;\n",
              "    padding: 0;\n",
              "    width: 32px;\n",
              "  }\n",
              "\n",
              "  .colab-df-quickchart:hover {\n",
              "    background-color: var(--hover-bg-color);\n",
              "    box-shadow: 0 1px 2px rgba(60, 64, 67, 0.3), 0 1px 3px 1px rgba(60, 64, 67, 0.15);\n",
              "    fill: var(--button-hover-fill-color);\n",
              "  }\n",
              "\n",
              "  .colab-df-quickchart-complete:disabled,\n",
              "  .colab-df-quickchart-complete:disabled:hover {\n",
              "    background-color: var(--disabled-bg-color);\n",
              "    fill: var(--disabled-fill-color);\n",
              "    box-shadow: none;\n",
              "  }\n",
              "\n",
              "  .colab-df-spinner {\n",
              "    border: 2px solid var(--fill-color);\n",
              "    border-color: transparent;\n",
              "    border-bottom-color: var(--fill-color);\n",
              "    animation:\n",
              "      spin 1s steps(1) infinite;\n",
              "  }\n",
              "\n",
              "  @keyframes spin {\n",
              "    0% {\n",
              "      border-color: transparent;\n",
              "      border-bottom-color: var(--fill-color);\n",
              "      border-left-color: var(--fill-color);\n",
              "    }\n",
              "    20% {\n",
              "      border-color: transparent;\n",
              "      border-left-color: var(--fill-color);\n",
              "      border-top-color: var(--fill-color);\n",
              "    }\n",
              "    30% {\n",
              "      border-color: transparent;\n",
              "      border-left-color: var(--fill-color);\n",
              "      border-top-color: var(--fill-color);\n",
              "      border-right-color: var(--fill-color);\n",
              "    }\n",
              "    40% {\n",
              "      border-color: transparent;\n",
              "      border-right-color: var(--fill-color);\n",
              "      border-top-color: var(--fill-color);\n",
              "    }\n",
              "    60% {\n",
              "      border-color: transparent;\n",
              "      border-right-color: var(--fill-color);\n",
              "    }\n",
              "    80% {\n",
              "      border-color: transparent;\n",
              "      border-right-color: var(--fill-color);\n",
              "      border-bottom-color: var(--fill-color);\n",
              "    }\n",
              "    90% {\n",
              "      border-color: transparent;\n",
              "      border-bottom-color: var(--fill-color);\n",
              "    }\n",
              "  }\n",
              "</style>\n",
              "\n",
              "      <script>\n",
              "        async function quickchart(key) {\n",
              "          const quickchartButtonEl =\n",
              "            document.querySelector('#' + key + ' button');\n",
              "          quickchartButtonEl.disabled = true;  // To prevent multiple clicks.\n",
              "          quickchartButtonEl.classList.add('colab-df-spinner');\n",
              "          try {\n",
              "            const charts = await google.colab.kernel.invokeFunction(\n",
              "                'suggestCharts', [key], {});\n",
              "          } catch (error) {\n",
              "            console.error('Error during call to suggestCharts:', error);\n",
              "          }\n",
              "          quickchartButtonEl.classList.remove('colab-df-spinner');\n",
              "          quickchartButtonEl.classList.add('colab-df-quickchart-complete');\n",
              "        }\n",
              "        (() => {\n",
              "          let quickchartButtonEl =\n",
              "            document.querySelector('#df-16528d2e-b6bb-4c33-bba4-332f7e503a48 button');\n",
              "          quickchartButtonEl.style.display =\n",
              "            google.colab.kernel.accessAllowed ? 'block' : 'none';\n",
              "        })();\n",
              "      </script>\n",
              "    </div>\n",
              "\n",
              "    </div>\n",
              "  </div>\n"
            ],
            "application/vnd.google.colaboratory.intrinsic+json": {
              "type": "dataframe",
              "variable_name": "X_train",
              "summary": "{\n  \"name\": \"X_train\",\n  \"rows\": 1050,\n  \"fields\": [\n    {\n      \"column\": \"Age\",\n      \"properties\": {\n        \"dtype\": \"number\",\n        \"std\": 14.347291859638435,\n        \"min\": 1.0,\n        \"max\": 74.0,\n        \"num_unique_values\": 71,\n        \"samples\": [\n          2.0,\n          45.0,\n          59.0\n        ],\n        \"semantic_type\": \"\",\n        \"description\": \"\"\n      }\n    },\n    {\n      \"column\": \"Gender\",\n      \"properties\": {\n        \"dtype\": \"category\",\n        \"num_unique_values\": 2,\n        \"samples\": [\n          \"Male\",\n          \"Female\"\n        ],\n        \"semantic_type\": \"\",\n        \"description\": \"\"\n      }\n    },\n    {\n      \"column\": \"Class\",\n      \"properties\": {\n        \"dtype\": \"category\",\n        \"num_unique_values\": 4,\n        \"samples\": [\n          \"Crew\",\n          \"C1\"\n        ],\n        \"semantic_type\": \"\",\n        \"description\": \"\"\n      }\n    },\n    {\n      \"column\": \"Joined\",\n      \"properties\": {\n        \"dtype\": \"category\",\n        \"num_unique_values\": 4,\n        \"samples\": [\n          \"Cherbourg\",\n          \"Queenstown\"\n        ],\n        \"semantic_type\": \"\",\n        \"description\": \"\"\n      }\n    },\n    {\n      \"column\": \"Married\",\n      \"properties\": {\n        \"dtype\": \"number\",\n        \"std\": 0.47654739259353973,\n        \"min\": 0.0,\n        \"max\": 1.0,\n        \"num_unique_values\": 2,\n        \"samples\": [\n          1.0,\n          0.0\n        ],\n        \"semantic_type\": \"\",\n        \"description\": \"\"\n      }\n    },\n    {\n      \"column\": \"Fare\",\n      \"properties\": {\n        \"dtype\": \"number\",\n        \"std\": 54.25850773357145,\n        \"min\": 0.0,\n        \"max\": 512.0,\n        \"num_unique_values\": 96,\n        \"samples\": [\n          47.0,\n          38.0\n        ],\n        \"semantic_type\": \"\",\n        \"description\": \"\"\n      }\n    }\n  ]\n}"
            }
          },
          "metadata": {},
          "execution_count": 9
        }
      ],
      "source": [
        "X_train.head()"
      ]
    },
    {
      "cell_type": "code",
      "execution_count": 10,
      "metadata": {
        "id": "_6rHzNYJuN4B",
        "colab": {
          "base_uri": "https://localhost:8080/"
        },
        "outputId": "b5213376-5c2b-4a90-d62e-d3227d77c23d"
      },
      "outputs": [
        {
          "output_type": "execute_result",
          "data": {
            "text/plain": [
              "[0, 0, 1, 1, 0, 1, 0, 1, 1, 0]"
            ]
          },
          "metadata": {},
          "execution_count": 10
        }
      ],
      "source": [
        "y_train[:10]"
      ]
    },
    {
      "cell_type": "markdown",
      "metadata": {
        "id": "8MxQkbcQi59k"
      },
      "source": [
        "# X. Run the pipeline."
      ]
    },
    {
      "cell_type": "markdown",
      "metadata": {
        "id": "Ds9lMStb0f1H"
      },
      "source": [
        "## Remember want to transform train and test separately\n",
        "\n",
        "To avoid data leakage."
      ]
    },
    {
      "cell_type": "code",
      "execution_count": 11,
      "metadata": {
        "id": "tl_YHIhK0TLW",
        "colab": {
          "base_uri": "https://localhost:8080/"
        },
        "outputId": "f292add6-5fc0-4cfd-dd69-bc97c13ad2e8"
      },
      "outputs": [
        {
          "output_type": "stream",
          "name": "stdout",
          "text": [
            "[Pipeline] ........ (step 1 of 9) Processing map_gender, total=   0.0s\n",
            "\n",
            "Warning: CustomMappingTransformer[Class] does not contain keys for these values {nan}\n",
            "\n",
            "[Pipeline] ......... (step 2 of 9) Processing map_class, total=   0.0s\n",
            "[Pipeline] ..... (step 3 of 9) Processing target_joined, total=   0.0s\n",
            "[Pipeline] ......... (step 4 of 9) Processing tukey_age, total=   0.0s\n",
            "[Pipeline] ........ (step 5 of 9) Processing tukey_fare, total=   0.0s\n",
            "[Pipeline] ......... (step 6 of 9) Processing scale_age, total=   0.0s\n",
            "[Pipeline] ........ (step 7 of 9) Processing scale_fare, total=   0.0s\n",
            "[Pipeline] ............ (step 8 of 9) Processing impute, total=   0.1s\n",
            "[Pipeline] ....... (step 9 of 9) Processing passthrough, total=   0.0s\n"
          ]
        },
        {
          "output_type": "stream",
          "name": "stderr",
          "text": [
            "/content/library.py:1117: SettingWithCopyWarning: \n",
            "A value is trying to be set on a copy of a slice from a DataFrame.\n",
            "Try using .loc[row_indexer,col_indexer] = value instead\n",
            "\n",
            "See the caveats in the documentation: https://pandas.pydata.org/pandas-docs/stable/user_guide/indexing.html#returning-a-view-versus-a-copy\n",
            "  X_[target] = y\n"
          ]
        }
      ],
      "source": [
        "X_train_transformed = titanic_transformer.fit_transform(X_train, y_train)  #fit with train"
      ]
    },
    {
      "cell_type": "code",
      "execution_count": 12,
      "metadata": {
        "id": "xBZJCM0I1X0O",
        "colab": {
          "base_uri": "https://localhost:8080/",
          "height": 206
        },
        "outputId": "f8442ca2-ca69-4602-f1c6-6a4f50fa3aa5"
      },
      "outputs": [
        {
          "output_type": "execute_result",
          "data": {
            "text/plain": [
              "      Age  Gender  Class  Joined  Married  Fare\n",
              "460  0.79     1.0    1.0     0.4      0.0 -0.26\n",
              "643 -1.32     0.0    1.0     0.4      0.0  0.61\n",
              "802  0.05     1.0    0.0     0.4      0.0  3.74\n",
              "788 -0.42     1.0    2.0     0.4      0.0  0.57\n",
              "582  0.32     0.0    2.0     0.4      0.0 -0.13"
            ],
            "text/html": [
              "\n",
              "  <div id=\"df-9f9ce4c4-0d5a-4596-8387-f63545affa0f\" class=\"colab-df-container\">\n",
              "    <div>\n",
              "<style scoped>\n",
              "    .dataframe tbody tr th:only-of-type {\n",
              "        vertical-align: middle;\n",
              "    }\n",
              "\n",
              "    .dataframe tbody tr th {\n",
              "        vertical-align: top;\n",
              "    }\n",
              "\n",
              "    .dataframe thead th {\n",
              "        text-align: right;\n",
              "    }\n",
              "</style>\n",
              "<table border=\"1\" class=\"dataframe\">\n",
              "  <thead>\n",
              "    <tr style=\"text-align: right;\">\n",
              "      <th></th>\n",
              "      <th>Age</th>\n",
              "      <th>Gender</th>\n",
              "      <th>Class</th>\n",
              "      <th>Joined</th>\n",
              "      <th>Married</th>\n",
              "      <th>Fare</th>\n",
              "    </tr>\n",
              "  </thead>\n",
              "  <tbody>\n",
              "    <tr>\n",
              "      <th>460</th>\n",
              "      <td>0.79</td>\n",
              "      <td>1.0</td>\n",
              "      <td>1.0</td>\n",
              "      <td>0.4</td>\n",
              "      <td>0.0</td>\n",
              "      <td>-0.26</td>\n",
              "    </tr>\n",
              "    <tr>\n",
              "      <th>643</th>\n",
              "      <td>-1.32</td>\n",
              "      <td>0.0</td>\n",
              "      <td>1.0</td>\n",
              "      <td>0.4</td>\n",
              "      <td>0.0</td>\n",
              "      <td>0.61</td>\n",
              "    </tr>\n",
              "    <tr>\n",
              "      <th>802</th>\n",
              "      <td>0.05</td>\n",
              "      <td>1.0</td>\n",
              "      <td>0.0</td>\n",
              "      <td>0.4</td>\n",
              "      <td>0.0</td>\n",
              "      <td>3.74</td>\n",
              "    </tr>\n",
              "    <tr>\n",
              "      <th>788</th>\n",
              "      <td>-0.42</td>\n",
              "      <td>1.0</td>\n",
              "      <td>2.0</td>\n",
              "      <td>0.4</td>\n",
              "      <td>0.0</td>\n",
              "      <td>0.57</td>\n",
              "    </tr>\n",
              "    <tr>\n",
              "      <th>582</th>\n",
              "      <td>0.32</td>\n",
              "      <td>0.0</td>\n",
              "      <td>2.0</td>\n",
              "      <td>0.4</td>\n",
              "      <td>0.0</td>\n",
              "      <td>-0.13</td>\n",
              "    </tr>\n",
              "  </tbody>\n",
              "</table>\n",
              "</div>\n",
              "    <div class=\"colab-df-buttons\">\n",
              "\n",
              "  <div class=\"colab-df-container\">\n",
              "    <button class=\"colab-df-convert\" onclick=\"convertToInteractive('df-9f9ce4c4-0d5a-4596-8387-f63545affa0f')\"\n",
              "            title=\"Convert this dataframe to an interactive table.\"\n",
              "            style=\"display:none;\">\n",
              "\n",
              "  <svg xmlns=\"http://www.w3.org/2000/svg\" height=\"24px\" viewBox=\"0 -960 960 960\">\n",
              "    <path d=\"M120-120v-720h720v720H120Zm60-500h600v-160H180v160Zm220 220h160v-160H400v160Zm0 220h160v-160H400v160ZM180-400h160v-160H180v160Zm440 0h160v-160H620v160ZM180-180h160v-160H180v160Zm440 0h160v-160H620v160Z\"/>\n",
              "  </svg>\n",
              "    </button>\n",
              "\n",
              "  <style>\n",
              "    .colab-df-container {\n",
              "      display:flex;\n",
              "      gap: 12px;\n",
              "    }\n",
              "\n",
              "    .colab-df-convert {\n",
              "      background-color: #E8F0FE;\n",
              "      border: none;\n",
              "      border-radius: 50%;\n",
              "      cursor: pointer;\n",
              "      display: none;\n",
              "      fill: #1967D2;\n",
              "      height: 32px;\n",
              "      padding: 0 0 0 0;\n",
              "      width: 32px;\n",
              "    }\n",
              "\n",
              "    .colab-df-convert:hover {\n",
              "      background-color: #E2EBFA;\n",
              "      box-shadow: 0px 1px 2px rgba(60, 64, 67, 0.3), 0px 1px 3px 1px rgba(60, 64, 67, 0.15);\n",
              "      fill: #174EA6;\n",
              "    }\n",
              "\n",
              "    .colab-df-buttons div {\n",
              "      margin-bottom: 4px;\n",
              "    }\n",
              "\n",
              "    [theme=dark] .colab-df-convert {\n",
              "      background-color: #3B4455;\n",
              "      fill: #D2E3FC;\n",
              "    }\n",
              "\n",
              "    [theme=dark] .colab-df-convert:hover {\n",
              "      background-color: #434B5C;\n",
              "      box-shadow: 0px 1px 3px 1px rgba(0, 0, 0, 0.15);\n",
              "      filter: drop-shadow(0px 1px 2px rgba(0, 0, 0, 0.3));\n",
              "      fill: #FFFFFF;\n",
              "    }\n",
              "  </style>\n",
              "\n",
              "    <script>\n",
              "      const buttonEl =\n",
              "        document.querySelector('#df-9f9ce4c4-0d5a-4596-8387-f63545affa0f button.colab-df-convert');\n",
              "      buttonEl.style.display =\n",
              "        google.colab.kernel.accessAllowed ? 'block' : 'none';\n",
              "\n",
              "      async function convertToInteractive(key) {\n",
              "        const element = document.querySelector('#df-9f9ce4c4-0d5a-4596-8387-f63545affa0f');\n",
              "        const dataTable =\n",
              "          await google.colab.kernel.invokeFunction('convertToInteractive',\n",
              "                                                    [key], {});\n",
              "        if (!dataTable) return;\n",
              "\n",
              "        const docLinkHtml = 'Like what you see? Visit the ' +\n",
              "          '<a target=\"_blank\" href=https://colab.research.google.com/notebooks/data_table.ipynb>data table notebook</a>'\n",
              "          + ' to learn more about interactive tables.';\n",
              "        element.innerHTML = '';\n",
              "        dataTable['output_type'] = 'display_data';\n",
              "        await google.colab.output.renderOutput(dataTable, element);\n",
              "        const docLink = document.createElement('div');\n",
              "        docLink.innerHTML = docLinkHtml;\n",
              "        element.appendChild(docLink);\n",
              "      }\n",
              "    </script>\n",
              "  </div>\n",
              "\n",
              "\n",
              "    <div id=\"df-440aeb25-3feb-4093-9003-68e665f0d088\">\n",
              "      <button class=\"colab-df-quickchart\" onclick=\"quickchart('df-440aeb25-3feb-4093-9003-68e665f0d088')\"\n",
              "                title=\"Suggest charts\"\n",
              "                style=\"display:none;\">\n",
              "\n",
              "<svg xmlns=\"http://www.w3.org/2000/svg\" height=\"24px\"viewBox=\"0 0 24 24\"\n",
              "     width=\"24px\">\n",
              "    <g>\n",
              "        <path d=\"M19 3H5c-1.1 0-2 .9-2 2v14c0 1.1.9 2 2 2h14c1.1 0 2-.9 2-2V5c0-1.1-.9-2-2-2zM9 17H7v-7h2v7zm4 0h-2V7h2v10zm4 0h-2v-4h2v4z\"/>\n",
              "    </g>\n",
              "</svg>\n",
              "      </button>\n",
              "\n",
              "<style>\n",
              "  .colab-df-quickchart {\n",
              "      --bg-color: #E8F0FE;\n",
              "      --fill-color: #1967D2;\n",
              "      --hover-bg-color: #E2EBFA;\n",
              "      --hover-fill-color: #174EA6;\n",
              "      --disabled-fill-color: #AAA;\n",
              "      --disabled-bg-color: #DDD;\n",
              "  }\n",
              "\n",
              "  [theme=dark] .colab-df-quickchart {\n",
              "      --bg-color: #3B4455;\n",
              "      --fill-color: #D2E3FC;\n",
              "      --hover-bg-color: #434B5C;\n",
              "      --hover-fill-color: #FFFFFF;\n",
              "      --disabled-bg-color: #3B4455;\n",
              "      --disabled-fill-color: #666;\n",
              "  }\n",
              "\n",
              "  .colab-df-quickchart {\n",
              "    background-color: var(--bg-color);\n",
              "    border: none;\n",
              "    border-radius: 50%;\n",
              "    cursor: pointer;\n",
              "    display: none;\n",
              "    fill: var(--fill-color);\n",
              "    height: 32px;\n",
              "    padding: 0;\n",
              "    width: 32px;\n",
              "  }\n",
              "\n",
              "  .colab-df-quickchart:hover {\n",
              "    background-color: var(--hover-bg-color);\n",
              "    box-shadow: 0 1px 2px rgba(60, 64, 67, 0.3), 0 1px 3px 1px rgba(60, 64, 67, 0.15);\n",
              "    fill: var(--button-hover-fill-color);\n",
              "  }\n",
              "\n",
              "  .colab-df-quickchart-complete:disabled,\n",
              "  .colab-df-quickchart-complete:disabled:hover {\n",
              "    background-color: var(--disabled-bg-color);\n",
              "    fill: var(--disabled-fill-color);\n",
              "    box-shadow: none;\n",
              "  }\n",
              "\n",
              "  .colab-df-spinner {\n",
              "    border: 2px solid var(--fill-color);\n",
              "    border-color: transparent;\n",
              "    border-bottom-color: var(--fill-color);\n",
              "    animation:\n",
              "      spin 1s steps(1) infinite;\n",
              "  }\n",
              "\n",
              "  @keyframes spin {\n",
              "    0% {\n",
              "      border-color: transparent;\n",
              "      border-bottom-color: var(--fill-color);\n",
              "      border-left-color: var(--fill-color);\n",
              "    }\n",
              "    20% {\n",
              "      border-color: transparent;\n",
              "      border-left-color: var(--fill-color);\n",
              "      border-top-color: var(--fill-color);\n",
              "    }\n",
              "    30% {\n",
              "      border-color: transparent;\n",
              "      border-left-color: var(--fill-color);\n",
              "      border-top-color: var(--fill-color);\n",
              "      border-right-color: var(--fill-color);\n",
              "    }\n",
              "    40% {\n",
              "      border-color: transparent;\n",
              "      border-right-color: var(--fill-color);\n",
              "      border-top-color: var(--fill-color);\n",
              "    }\n",
              "    60% {\n",
              "      border-color: transparent;\n",
              "      border-right-color: var(--fill-color);\n",
              "    }\n",
              "    80% {\n",
              "      border-color: transparent;\n",
              "      border-right-color: var(--fill-color);\n",
              "      border-bottom-color: var(--fill-color);\n",
              "    }\n",
              "    90% {\n",
              "      border-color: transparent;\n",
              "      border-bottom-color: var(--fill-color);\n",
              "    }\n",
              "  }\n",
              "</style>\n",
              "\n",
              "      <script>\n",
              "        async function quickchart(key) {\n",
              "          const quickchartButtonEl =\n",
              "            document.querySelector('#' + key + ' button');\n",
              "          quickchartButtonEl.disabled = true;  // To prevent multiple clicks.\n",
              "          quickchartButtonEl.classList.add('colab-df-spinner');\n",
              "          try {\n",
              "            const charts = await google.colab.kernel.invokeFunction(\n",
              "                'suggestCharts', [key], {});\n",
              "          } catch (error) {\n",
              "            console.error('Error during call to suggestCharts:', error);\n",
              "          }\n",
              "          quickchartButtonEl.classList.remove('colab-df-spinner');\n",
              "          quickchartButtonEl.classList.add('colab-df-quickchart-complete');\n",
              "        }\n",
              "        (() => {\n",
              "          let quickchartButtonEl =\n",
              "            document.querySelector('#df-440aeb25-3feb-4093-9003-68e665f0d088 button');\n",
              "          quickchartButtonEl.style.display =\n",
              "            google.colab.kernel.accessAllowed ? 'block' : 'none';\n",
              "        })();\n",
              "      </script>\n",
              "    </div>\n",
              "\n",
              "    </div>\n",
              "  </div>\n"
            ],
            "application/vnd.google.colaboratory.intrinsic+json": {
              "type": "dataframe",
              "variable_name": "X_train_transformed",
              "summary": "{\n  \"name\": \"X_train_transformed\",\n  \"rows\": 1050,\n  \"fields\": [\n    {\n      \"column\": \"Age\",\n      \"properties\": {\n        \"dtype\": \"number\",\n        \"std\": 0.7536902638414694,\n        \"min\": -1.5263157894736843,\n        \"max\": 2.3157894736842106,\n        \"num_unique_values\": 77,\n        \"samples\": [\n          0.3157894736842105,\n          0.42105263157894735,\n          0.3684210526315789\n        ],\n        \"semantic_type\": \"\",\n        \"description\": \"\"\n      }\n    },\n    {\n      \"column\": \"Gender\",\n      \"properties\": {\n        \"dtype\": \"number\",\n        \"std\": 0.47764402061755745,\n        \"min\": 0.0,\n        \"max\": 1.0,\n        \"num_unique_values\": 2,\n        \"samples\": [\n          0.0,\n          1.0\n        ],\n        \"semantic_type\": \"\",\n        \"description\": \"\"\n      }\n    },\n    {\n      \"column\": \"Class\",\n      \"properties\": {\n        \"dtype\": \"number\",\n        \"std\": 1.0363975922065833,\n        \"min\": 0.0,\n        \"max\": 3.0,\n        \"num_unique_values\": 5,\n        \"samples\": [\n          0.0,\n          0.6\n        ],\n        \"semantic_type\": \"\",\n        \"description\": \"\"\n      }\n    },\n    {\n      \"column\": \"Joined\",\n      \"properties\": {\n        \"dtype\": \"number\",\n        \"std\": 0.08732889997948186,\n        \"min\": 0.34876847290640395,\n        \"max\": 0.6101078167115903,\n        \"num_unique_values\": 4,\n        \"samples\": [\n          0.6101078167115903,\n          0.34876847290640395\n        ],\n        \"semantic_type\": \"\",\n        \"description\": \"\"\n      }\n    },\n    {\n      \"column\": \"Married\",\n      \"properties\": {\n        \"dtype\": \"number\",\n        \"std\": 0.4763420776427807,\n        \"min\": 0.0,\n        \"max\": 1.0,\n        \"num_unique_values\": 3,\n        \"samples\": [\n          0.0,\n          1.0\n        ],\n        \"semantic_type\": \"\",\n        \"description\": \"\"\n      }\n    },\n    {\n      \"column\": \"Fare\",\n      \"properties\": {\n        \"dtype\": \"number\",\n        \"std\": 1.2321626303912507,\n        \"min\": -0.5652173913043478,\n        \"max\": 3.739130434782609,\n        \"num_unique_values\": 78,\n        \"samples\": [\n          1.6956521739130435,\n          -0.2608695652173913\n        ],\n        \"semantic_type\": \"\",\n        \"description\": \"\"\n      }\n    }\n  ]\n}"
            }
          },
          "metadata": {},
          "execution_count": 12
        }
      ],
      "source": [
        "X_train_transformed.head().round(2)"
      ]
    },
    {
      "cell_type": "markdown",
      "metadata": {
        "id": "cKoleWOQQQ73"
      },
      "source": [
        "|index|Age|Gender|Class|Joined|Married|Fare|\n",
        "|---|---|---|---|---|---|---|\n",
        "|460|0\\.79|1\\.0|1\\.0|0\\.4|0\\.0|-0\\.26|\n",
        "|643|-1\\.32|0\\.0|1\\.0|0\\.4|0\\.0|0\\.61|\n",
        "|802|0\\.05|1\\.0|0\\.0|0\\.4|0\\.0|3\\.74|\n",
        "|788|-0\\.42|1\\.0|2\\.0|0\\.4|0\\.0|0\\.57|\n",
        "|582|0\\.32|0\\.0|2\\.0|0\\.4|0\\.0|-0\\.13|"
      ]
    },
    {
      "cell_type": "code",
      "execution_count": 13,
      "metadata": {
        "id": "VlD7cdqlfK2A"
      },
      "outputs": [],
      "source": [
        "X_test_transformed = titanic_transformer.transform(X_test)"
      ]
    },
    {
      "cell_type": "code",
      "execution_count": 14,
      "metadata": {
        "id": "DK9BeNXPfK2B",
        "colab": {
          "base_uri": "https://localhost:8080/",
          "height": 206
        },
        "outputId": "3acb7a03-83b9-4feb-d1b4-e3ae0d89d6bc"
      },
      "outputs": [
        {
          "output_type": "execute_result",
          "data": {
            "text/plain": [
              "       Age  Gender  Class  Joined  Married  Fare\n",
              "1105 -0.05     1.0    1.0    0.35      0.0  0.43\n",
              "791  -0.95     1.0    2.0    0.40      0.0  1.13\n",
              "984   1.00     1.0    3.0    0.61      1.0  2.74\n",
              "418   0.21     0.0    2.0    0.40      0.0  0.57\n",
              "103  -0.37     0.0    2.0    0.40      0.0  0.00"
            ],
            "text/html": [
              "\n",
              "  <div id=\"df-53ec280a-860d-46cd-a7f3-9fcf78bce417\" class=\"colab-df-container\">\n",
              "    <div>\n",
              "<style scoped>\n",
              "    .dataframe tbody tr th:only-of-type {\n",
              "        vertical-align: middle;\n",
              "    }\n",
              "\n",
              "    .dataframe tbody tr th {\n",
              "        vertical-align: top;\n",
              "    }\n",
              "\n",
              "    .dataframe thead th {\n",
              "        text-align: right;\n",
              "    }\n",
              "</style>\n",
              "<table border=\"1\" class=\"dataframe\">\n",
              "  <thead>\n",
              "    <tr style=\"text-align: right;\">\n",
              "      <th></th>\n",
              "      <th>Age</th>\n",
              "      <th>Gender</th>\n",
              "      <th>Class</th>\n",
              "      <th>Joined</th>\n",
              "      <th>Married</th>\n",
              "      <th>Fare</th>\n",
              "    </tr>\n",
              "  </thead>\n",
              "  <tbody>\n",
              "    <tr>\n",
              "      <th>1105</th>\n",
              "      <td>-0.05</td>\n",
              "      <td>1.0</td>\n",
              "      <td>1.0</td>\n",
              "      <td>0.35</td>\n",
              "      <td>0.0</td>\n",
              "      <td>0.43</td>\n",
              "    </tr>\n",
              "    <tr>\n",
              "      <th>791</th>\n",
              "      <td>-0.95</td>\n",
              "      <td>1.0</td>\n",
              "      <td>2.0</td>\n",
              "      <td>0.40</td>\n",
              "      <td>0.0</td>\n",
              "      <td>1.13</td>\n",
              "    </tr>\n",
              "    <tr>\n",
              "      <th>984</th>\n",
              "      <td>1.00</td>\n",
              "      <td>1.0</td>\n",
              "      <td>3.0</td>\n",
              "      <td>0.61</td>\n",
              "      <td>1.0</td>\n",
              "      <td>2.74</td>\n",
              "    </tr>\n",
              "    <tr>\n",
              "      <th>418</th>\n",
              "      <td>0.21</td>\n",
              "      <td>0.0</td>\n",
              "      <td>2.0</td>\n",
              "      <td>0.40</td>\n",
              "      <td>0.0</td>\n",
              "      <td>0.57</td>\n",
              "    </tr>\n",
              "    <tr>\n",
              "      <th>103</th>\n",
              "      <td>-0.37</td>\n",
              "      <td>0.0</td>\n",
              "      <td>2.0</td>\n",
              "      <td>0.40</td>\n",
              "      <td>0.0</td>\n",
              "      <td>0.00</td>\n",
              "    </tr>\n",
              "  </tbody>\n",
              "</table>\n",
              "</div>\n",
              "    <div class=\"colab-df-buttons\">\n",
              "\n",
              "  <div class=\"colab-df-container\">\n",
              "    <button class=\"colab-df-convert\" onclick=\"convertToInteractive('df-53ec280a-860d-46cd-a7f3-9fcf78bce417')\"\n",
              "            title=\"Convert this dataframe to an interactive table.\"\n",
              "            style=\"display:none;\">\n",
              "\n",
              "  <svg xmlns=\"http://www.w3.org/2000/svg\" height=\"24px\" viewBox=\"0 -960 960 960\">\n",
              "    <path d=\"M120-120v-720h720v720H120Zm60-500h600v-160H180v160Zm220 220h160v-160H400v160Zm0 220h160v-160H400v160ZM180-400h160v-160H180v160Zm440 0h160v-160H620v160ZM180-180h160v-160H180v160Zm440 0h160v-160H620v160Z\"/>\n",
              "  </svg>\n",
              "    </button>\n",
              "\n",
              "  <style>\n",
              "    .colab-df-container {\n",
              "      display:flex;\n",
              "      gap: 12px;\n",
              "    }\n",
              "\n",
              "    .colab-df-convert {\n",
              "      background-color: #E8F0FE;\n",
              "      border: none;\n",
              "      border-radius: 50%;\n",
              "      cursor: pointer;\n",
              "      display: none;\n",
              "      fill: #1967D2;\n",
              "      height: 32px;\n",
              "      padding: 0 0 0 0;\n",
              "      width: 32px;\n",
              "    }\n",
              "\n",
              "    .colab-df-convert:hover {\n",
              "      background-color: #E2EBFA;\n",
              "      box-shadow: 0px 1px 2px rgba(60, 64, 67, 0.3), 0px 1px 3px 1px rgba(60, 64, 67, 0.15);\n",
              "      fill: #174EA6;\n",
              "    }\n",
              "\n",
              "    .colab-df-buttons div {\n",
              "      margin-bottom: 4px;\n",
              "    }\n",
              "\n",
              "    [theme=dark] .colab-df-convert {\n",
              "      background-color: #3B4455;\n",
              "      fill: #D2E3FC;\n",
              "    }\n",
              "\n",
              "    [theme=dark] .colab-df-convert:hover {\n",
              "      background-color: #434B5C;\n",
              "      box-shadow: 0px 1px 3px 1px rgba(0, 0, 0, 0.15);\n",
              "      filter: drop-shadow(0px 1px 2px rgba(0, 0, 0, 0.3));\n",
              "      fill: #FFFFFF;\n",
              "    }\n",
              "  </style>\n",
              "\n",
              "    <script>\n",
              "      const buttonEl =\n",
              "        document.querySelector('#df-53ec280a-860d-46cd-a7f3-9fcf78bce417 button.colab-df-convert');\n",
              "      buttonEl.style.display =\n",
              "        google.colab.kernel.accessAllowed ? 'block' : 'none';\n",
              "\n",
              "      async function convertToInteractive(key) {\n",
              "        const element = document.querySelector('#df-53ec280a-860d-46cd-a7f3-9fcf78bce417');\n",
              "        const dataTable =\n",
              "          await google.colab.kernel.invokeFunction('convertToInteractive',\n",
              "                                                    [key], {});\n",
              "        if (!dataTable) return;\n",
              "\n",
              "        const docLinkHtml = 'Like what you see? Visit the ' +\n",
              "          '<a target=\"_blank\" href=https://colab.research.google.com/notebooks/data_table.ipynb>data table notebook</a>'\n",
              "          + ' to learn more about interactive tables.';\n",
              "        element.innerHTML = '';\n",
              "        dataTable['output_type'] = 'display_data';\n",
              "        await google.colab.output.renderOutput(dataTable, element);\n",
              "        const docLink = document.createElement('div');\n",
              "        docLink.innerHTML = docLinkHtml;\n",
              "        element.appendChild(docLink);\n",
              "      }\n",
              "    </script>\n",
              "  </div>\n",
              "\n",
              "\n",
              "    <div id=\"df-6bbc77fc-8945-4b3b-8548-6a702f129f75\">\n",
              "      <button class=\"colab-df-quickchart\" onclick=\"quickchart('df-6bbc77fc-8945-4b3b-8548-6a702f129f75')\"\n",
              "                title=\"Suggest charts\"\n",
              "                style=\"display:none;\">\n",
              "\n",
              "<svg xmlns=\"http://www.w3.org/2000/svg\" height=\"24px\"viewBox=\"0 0 24 24\"\n",
              "     width=\"24px\">\n",
              "    <g>\n",
              "        <path d=\"M19 3H5c-1.1 0-2 .9-2 2v14c0 1.1.9 2 2 2h14c1.1 0 2-.9 2-2V5c0-1.1-.9-2-2-2zM9 17H7v-7h2v7zm4 0h-2V7h2v10zm4 0h-2v-4h2v4z\"/>\n",
              "    </g>\n",
              "</svg>\n",
              "      </button>\n",
              "\n",
              "<style>\n",
              "  .colab-df-quickchart {\n",
              "      --bg-color: #E8F0FE;\n",
              "      --fill-color: #1967D2;\n",
              "      --hover-bg-color: #E2EBFA;\n",
              "      --hover-fill-color: #174EA6;\n",
              "      --disabled-fill-color: #AAA;\n",
              "      --disabled-bg-color: #DDD;\n",
              "  }\n",
              "\n",
              "  [theme=dark] .colab-df-quickchart {\n",
              "      --bg-color: #3B4455;\n",
              "      --fill-color: #D2E3FC;\n",
              "      --hover-bg-color: #434B5C;\n",
              "      --hover-fill-color: #FFFFFF;\n",
              "      --disabled-bg-color: #3B4455;\n",
              "      --disabled-fill-color: #666;\n",
              "  }\n",
              "\n",
              "  .colab-df-quickchart {\n",
              "    background-color: var(--bg-color);\n",
              "    border: none;\n",
              "    border-radius: 50%;\n",
              "    cursor: pointer;\n",
              "    display: none;\n",
              "    fill: var(--fill-color);\n",
              "    height: 32px;\n",
              "    padding: 0;\n",
              "    width: 32px;\n",
              "  }\n",
              "\n",
              "  .colab-df-quickchart:hover {\n",
              "    background-color: var(--hover-bg-color);\n",
              "    box-shadow: 0 1px 2px rgba(60, 64, 67, 0.3), 0 1px 3px 1px rgba(60, 64, 67, 0.15);\n",
              "    fill: var(--button-hover-fill-color);\n",
              "  }\n",
              "\n",
              "  .colab-df-quickchart-complete:disabled,\n",
              "  .colab-df-quickchart-complete:disabled:hover {\n",
              "    background-color: var(--disabled-bg-color);\n",
              "    fill: var(--disabled-fill-color);\n",
              "    box-shadow: none;\n",
              "  }\n",
              "\n",
              "  .colab-df-spinner {\n",
              "    border: 2px solid var(--fill-color);\n",
              "    border-color: transparent;\n",
              "    border-bottom-color: var(--fill-color);\n",
              "    animation:\n",
              "      spin 1s steps(1) infinite;\n",
              "  }\n",
              "\n",
              "  @keyframes spin {\n",
              "    0% {\n",
              "      border-color: transparent;\n",
              "      border-bottom-color: var(--fill-color);\n",
              "      border-left-color: var(--fill-color);\n",
              "    }\n",
              "    20% {\n",
              "      border-color: transparent;\n",
              "      border-left-color: var(--fill-color);\n",
              "      border-top-color: var(--fill-color);\n",
              "    }\n",
              "    30% {\n",
              "      border-color: transparent;\n",
              "      border-left-color: var(--fill-color);\n",
              "      border-top-color: var(--fill-color);\n",
              "      border-right-color: var(--fill-color);\n",
              "    }\n",
              "    40% {\n",
              "      border-color: transparent;\n",
              "      border-right-color: var(--fill-color);\n",
              "      border-top-color: var(--fill-color);\n",
              "    }\n",
              "    60% {\n",
              "      border-color: transparent;\n",
              "      border-right-color: var(--fill-color);\n",
              "    }\n",
              "    80% {\n",
              "      border-color: transparent;\n",
              "      border-right-color: var(--fill-color);\n",
              "      border-bottom-color: var(--fill-color);\n",
              "    }\n",
              "    90% {\n",
              "      border-color: transparent;\n",
              "      border-bottom-color: var(--fill-color);\n",
              "    }\n",
              "  }\n",
              "</style>\n",
              "\n",
              "      <script>\n",
              "        async function quickchart(key) {\n",
              "          const quickchartButtonEl =\n",
              "            document.querySelector('#' + key + ' button');\n",
              "          quickchartButtonEl.disabled = true;  // To prevent multiple clicks.\n",
              "          quickchartButtonEl.classList.add('colab-df-spinner');\n",
              "          try {\n",
              "            const charts = await google.colab.kernel.invokeFunction(\n",
              "                'suggestCharts', [key], {});\n",
              "          } catch (error) {\n",
              "            console.error('Error during call to suggestCharts:', error);\n",
              "          }\n",
              "          quickchartButtonEl.classList.remove('colab-df-spinner');\n",
              "          quickchartButtonEl.classList.add('colab-df-quickchart-complete');\n",
              "        }\n",
              "        (() => {\n",
              "          let quickchartButtonEl =\n",
              "            document.querySelector('#df-6bbc77fc-8945-4b3b-8548-6a702f129f75 button');\n",
              "          quickchartButtonEl.style.display =\n",
              "            google.colab.kernel.accessAllowed ? 'block' : 'none';\n",
              "        })();\n",
              "      </script>\n",
              "    </div>\n",
              "\n",
              "    </div>\n",
              "  </div>\n"
            ],
            "application/vnd.google.colaboratory.intrinsic+json": {
              "type": "dataframe",
              "variable_name": "X_test_transformed",
              "summary": "{\n  \"name\": \"X_test_transformed\",\n  \"rows\": 263,\n  \"fields\": [\n    {\n      \"column\": \"Age\",\n      \"properties\": {\n        \"dtype\": \"number\",\n        \"std\": 0.7511572793397959,\n        \"min\": -1.5263157894736843,\n        \"max\": 2.1578947368421053,\n        \"num_unique_values\": 62,\n        \"samples\": [\n          1.5263157894736843,\n          -1.368421052631579,\n          -0.05263157894736842\n        ],\n        \"semantic_type\": \"\",\n        \"description\": \"\"\n      }\n    },\n    {\n      \"column\": \"Gender\",\n      \"properties\": {\n        \"dtype\": \"number\",\n        \"std\": 0.47406850922740484,\n        \"min\": 0.0,\n        \"max\": 1.0,\n        \"num_unique_values\": 2,\n        \"samples\": [\n          0.0,\n          1.0\n        ],\n        \"semantic_type\": \"\",\n        \"description\": \"\"\n      }\n    },\n    {\n      \"column\": \"Class\",\n      \"properties\": {\n        \"dtype\": \"number\",\n        \"std\": 1.0686395733988854,\n        \"min\": 0.0,\n        \"max\": 3.0,\n        \"num_unique_values\": 4,\n        \"samples\": [\n          2.0,\n          0.0\n        ],\n        \"semantic_type\": \"\",\n        \"description\": \"\"\n      }\n    },\n    {\n      \"column\": \"Joined\",\n      \"properties\": {\n        \"dtype\": \"number\",\n        \"std\": 0.0883477028380027,\n        \"min\": 0.34876847290640395,\n        \"max\": 0.6101078167115903,\n        \"num_unique_values\": 4,\n        \"samples\": [\n          0.40075187969924814,\n          0.3527950310559006\n        ],\n        \"semantic_type\": \"\",\n        \"description\": \"\"\n      }\n    },\n    {\n      \"column\": \"Married\",\n      \"properties\": {\n        \"dtype\": \"number\",\n        \"std\": 0.4700102605514638,\n        \"min\": 0.0,\n        \"max\": 1.0,\n        \"num_unique_values\": 2,\n        \"samples\": [\n          1.0,\n          0.0\n        ],\n        \"semantic_type\": \"\",\n        \"description\": \"\"\n      }\n    },\n    {\n      \"column\": \"Fare\",\n      \"properties\": {\n        \"dtype\": \"number\",\n        \"std\": 1.250541993307475,\n        \"min\": -0.5652173913043478,\n        \"max\": 3.739130434782609,\n        \"num_unique_values\": 55,\n        \"samples\": [\n          0.2608695652173913,\n          -0.2608695652173913\n        ],\n        \"semantic_type\": \"\",\n        \"description\": \"\"\n      }\n    }\n  ]\n}"
            }
          },
          "metadata": {},
          "execution_count": 14
        }
      ],
      "source": [
        "X_test_transformed.head().round(2)"
      ]
    },
    {
      "cell_type": "markdown",
      "metadata": {
        "id": "BawArin-QaCw"
      },
      "source": [
        "|index|Age|Gender|Class|Joined|Married|Fare|\n",
        "|---|---|---|---|---|---|---|\n",
        "|1105|-0\\.05|1\\.0|1\\.0|0\\.35|0\\.0|0\\.43|\n",
        "|791|-0\\.95|1\\.0|2\\.0|0\\.4|0\\.0|1\\.13|\n",
        "|984|1\\.0|1\\.0|3\\.0|0\\.61|1\\.0|2\\.74|\n",
        "|418|0\\.21|0\\.0|2\\.0|0\\.4|0\\.0|0\\.57|\n",
        "|103|-0\\.37|0\\.0|2\\.0|0\\.4|0\\.0|0\\.0|"
      ]
    },
    {
      "cell_type": "markdown",
      "metadata": {
        "id": "QZThyDCWjUuc"
      },
      "source": [
        "# II. Simple linear regression\n",
        "\n",
        "We can (and will shortly) use linear regression with multiple feature columns and one label column. But I am going to simplify the problem by assuming we have a table with only one feature column. Let's assume it is the `Age` column.\n",
        "\n",
        "And I assume our label column will be `Fare`. So our goal is to build an algorithm that can predict `Fare` given `Age`. Linear regression would be a good place to start with this problem.\n",
        "\n",
        "Here is our algorithm: pretty simple, right?\n",
        "\n",
        "<img src='https://www.dropbox.com/s/uxq0lu4nu4n0ads/Screen%20Shot%202021-09-17%20at%202.07.06%20PM.png?raw=1' height=100>\n",
        "\n",
        "`y-hat` is the fare we predict given an age of `x`. The values of `m` and `b` are values we have to discover, i.e., learn. The general idea is to keep trying values of `m` and `b` until we find ones that give us good predictions."
      ]
    },
    {
      "cell_type": "markdown",
      "metadata": {
        "id": "jqhoan4qmRwd"
      },
      "source": [
        "## What is a good prediction?\n",
        "\n",
        "On the surface, it is how far off our predicted fares are from the real fares. Remember this is a supervised learning problem. We know the real values of the fares.\n",
        "\n",
        "The general approach is to compute an \"error\" (sometimes called loss) that is the square of the difference between what we predict (the y-hat) and the actual value (y without the hat). If we have 1000 samples, then we will get 1000 squared differences. We take the mean of those to get something called the Mean Squared Error or MSE.\n",
        "\n",
        "<img src='https://www.dropbox.com/s/5xgxywc6wo18qx2/Screen%20Shot%202021-09-17%20at%202.36.53%20PM.png?raw=1' height=100>\n",
        "\n",
        "Note there are other error or loss functions possible and we may see them in future, i.e., the error function is not cast in stone to be MSE."
      ]
    },
    {
      "cell_type": "markdown",
      "metadata": {
        "id": "JBGvkYWDeMut"
      },
      "source": [
        "### Let's do some computation to see how it works"
      ]
    },
    {
      "cell_type": "code",
      "execution_count": 15,
      "metadata": {
        "id": "DAwbptr0dsAn"
      },
      "outputs": [],
      "source": [
        "ages = X_train_transformed['Age'].to_list()\n",
        "fare_labels = X_train_transformed['Fare'].to_list()  #the yi values"
      ]
    },
    {
      "cell_type": "code",
      "execution_count": 16,
      "metadata": {
        "id": "UU4lwgwsl2Z4",
        "colab": {
          "base_uri": "https://localhost:8080/",
          "height": 430
        },
        "outputId": "fe93bf28-52f2-4c66-8c3d-8bbad5a8f687"
      },
      "outputs": [
        {
          "output_type": "display_data",
          "data": {
            "text/plain": [
              "<Figure size 640x480 with 1 Axes>"
            ],
            "image/png": "[encoded data removed]"
          },
          "metadata": {}
        }
      ],
      "source": [
        "import matplotlib.pyplot as plt\n",
        "\n",
        "plt.scatter(ages,fare_labels)\n",
        "plt.show()"
      ]
    },
    {
      "cell_type": "markdown",
      "metadata": {
        "id": "70omeFYmpUfa"
      },
      "source": [
        "## Good luck with that!\n",
        "\n",
        "We are looking for a line that is close to most points. Nice if all the points were grouped together. Kind of like this.\n",
        "\n",
        "<img src='https://www.dropbox.com/s/0xrcgiafl4hm1z1/Screen%20Shot%202022-10-19%20at%202.57.36%20PM.png?raw=1' height=200>\n",
        "\n",
        "But let's give it a go anyway.\n",
        "\n",
        "And notice I switched notation on you a bit, from `(yi-yhat)**2` to `(yhat-yi)**2`. I did it to be more consistent with next set of formulas we will look at.\n",
        "\n",
        "Also, I'll start calling `m` as `w` instead to match formulas below."
      ]
    },
    {
      "cell_type": "code",
      "execution_count": 17,
      "metadata": {
        "id": "2gk7Y7P2eS0_",
        "colab": {
          "base_uri": "https://localhost:8080/"
        },
        "outputId": "33f2b688-28d8-4ba3-c7f0-0754276b13a2"
      },
      "outputs": [
        {
          "output_type": "execute_result",
          "data": {
            "text/plain": [
              "1.7513294373063293"
            ]
          },
          "metadata": {},
          "execution_count": 17
        }
      ],
      "source": [
        "w = .5   #total guess\n",
        "b = .05  #total guess\n",
        "predictions = [age*w+b for age in ages]\n",
        "errors_squared = [(yhat-yi)**2 for yhat,yi in zip(predictions, fare_labels)]\n",
        "mse = sum(errors_squared)/len(errors_squared)\n",
        "mse"
      ]
    },
    {
      "cell_type": "code",
      "execution_count": 18,
      "metadata": {
        "id": "8pmA6N55nsOn",
        "colab": {
          "base_uri": "https://localhost:8080/",
          "height": 449
        },
        "outputId": "f5bee3df-8319-4c2f-9e75-d0f2784de248"
      },
      "outputs": [
        {
          "output_type": "display_data",
          "data": {
            "text/plain": [
              "<Figure size 640x480 with 1 Axes>"
            ],
            "image/png": "[encoded data removed]"
          },
          "metadata": {}
        }
      ],
      "source": [
        "ax = plt.axes()\n",
        "ax.scatter(ages, fare_labels)\n",
        "ax.plot(ages, predictions, 'ro')\n",
        "\n",
        "ax.set_xlabel('Ages')\n",
        "ax.set_ylabel('Fares')\n",
        "\n",
        "plt.show()"
      ]
    },
    {
      "cell_type": "markdown",
      "metadata": {
        "id": "H_12uzwvnqsJ"
      },
      "source": [
        "## We have a goal: minimize MSE\n",
        "\n",
        "Choose values for `w` and `b`, our parameters, that minimize the MSE.\n",
        "\n",
        "Let's try increasing the weight."
      ]
    },
    {
      "cell_type": "code",
      "execution_count": 19,
      "metadata": {
        "id": "aMuUZ932qRmS",
        "colab": {
          "base_uri": "https://localhost:8080/"
        },
        "outputId": "b674091c-637e-4168-8b49-984171bbdfe5"
      },
      "outputs": [
        {
          "output_type": "execute_result",
          "data": {
            "text/plain": [
              "1.7866489493587712"
            ]
          },
          "metadata": {},
          "execution_count": 19
        }
      ],
      "source": [
        "w = .6   #increase\n",
        "b = .05  #stays same\n",
        "predictions = [age*w+b for age in ages]\n",
        "errors_squared = [(yhat-yi)**2 for yhat,yi in zip(predictions, fare_labels)]\n",
        "mse = sum(errors_squared)/len(errors_squared)\n",
        "mse"
      ]
    },
    {
      "cell_type": "markdown",
      "metadata": {
        "id": "rsJi-epMqckF"
      },
      "source": [
        "That was worse than 1.7513294373063293. Let's try the other way."
      ]
    },
    {
      "cell_type": "code",
      "execution_count": 20,
      "metadata": {
        "id": "MuIixMoRqhXv",
        "colab": {
          "base_uri": "https://localhost:8080/"
        },
        "outputId": "5aa926b3-10a3-426c-dc48-ae818618d69f"
      },
      "outputs": [
        {
          "output_type": "execute_result",
          "data": {
            "text/plain": [
              "1.7274442795607066"
            ]
          },
          "metadata": {},
          "execution_count": 20
        }
      ],
      "source": [
        "w = .4   #decrease\n",
        "b = .05  #stays same\n",
        "predictions = [age*w+b for age in ages]\n",
        "errors_squared = [(yhat-yi)**2 for yhat,yi in zip(predictions, fare_labels)]\n",
        "mse = sum(errors_squared)/len(errors_squared)\n",
        "mse"
      ]
    },
    {
      "cell_type": "markdown",
      "metadata": {
        "id": "xlztv58Ck2pE"
      },
      "source": [
        "Better."
      ]
    },
    {
      "cell_type": "markdown",
      "metadata": {
        "id": "U4v1Hs7GgTPE"
      },
      "source": [
        "## Let's see if we can get a picture of the curve\n",
        "\n",
        "I'll generate a list of weights and keep b constant."
      ]
    },
    {
      "cell_type": "code",
      "execution_count": 21,
      "metadata": {
        "id": "c0TcJ9i3Es-Z"
      },
      "outputs": [],
      "source": [
        "wi = np.arange(-5, 5, 0.001)  #a bunch of guesses for the weight\n",
        "b = .5  #another guess"
      ]
    },
    {
      "cell_type": "code",
      "execution_count": 22,
      "metadata": {
        "id": "LOFXw4nsgEg0",
        "colab": {
          "base_uri": "https://localhost:8080/"
        },
        "outputId": "600f1c0f-92f2-4f62-c59c-d4bafa38ee58"
      },
      "outputs": [
        {
          "output_type": "execute_result",
          "data": {
            "text/plain": [
              "array([-5.   , -4.999, -4.998, ...,  4.997,  4.998,  4.999])"
            ]
          },
          "metadata": {},
          "execution_count": 22
        }
      ],
      "source": [
        "wi"
      ]
    },
    {
      "cell_type": "markdown",
      "metadata": {
        "id": "-wFQeSnZghQb"
      },
      "source": [
        "### A couple helper functions\n",
        "\n",
        "`X` is the feature values, ages in our case.\n",
        "\n",
        "`Y` is the label values, fares in our case."
      ]
    },
    {
      "cell_type": "code",
      "execution_count": 23,
      "metadata": {
        "id": "_LOEU4bxF7ZD"
      },
      "outputs": [],
      "source": [
        "def predict(X, w, b):\n",
        "  yhat = [(x*w+b) for x in X]\n",
        "  return yhat\n",
        "\n",
        "def MSE(Y, Yhat):\n",
        "  sdiffs = [(yhat-y)**2 for y,yhat in zip(Y,Yhat)]\n",
        "  mse = sum(sdiffs)/len(sdiffs)\n",
        "  return mse"
      ]
    },
    {
      "cell_type": "markdown",
      "metadata": {
        "id": "dPujXfDdgoRT"
      },
      "source": [
        "### Compute yhat and mse for different weights in wi"
      ]
    },
    {
      "cell_type": "code",
      "execution_count": 24,
      "metadata": {
        "id": "Xk7ja5pMGEA5"
      },
      "outputs": [],
      "source": [
        "pairs = []\n",
        "for w in wi:\n",
        "  yhat = predict(ages, w, b)\n",
        "  mse = MSE(fare_labels, yhat)\n",
        "  pairs.append((w, mse))"
      ]
    },
    {
      "cell_type": "code",
      "execution_count": 25,
      "metadata": {
        "id": "G3eYtazarvZe",
        "colab": {
          "base_uri": "https://localhost:8080/"
        },
        "outputId": "7356c211-1986-496a-99d1-bf72efea2fa0"
      },
      "outputs": [
        {
          "output_type": "execute_result",
          "data": {
            "text/plain": [
              "(np.float64(0.19000000000173323), np.float64(1.4969734144207418))"
            ]
          },
          "metadata": {},
          "execution_count": 25
        }
      ],
      "source": [
        "min(pairs, key=lambda pair: pair[1])"
      ]
    },
    {
      "cell_type": "markdown",
      "metadata": {
        "id": "_8C9QOIWRRFC"
      },
      "source": [
        "So with a weight of .19 we got an mse of 1.5, which was the minimum mse out of all the weights we tried."
      ]
    },
    {
      "cell_type": "markdown",
      "metadata": {
        "id": "7iEAOwWUguAC"
      },
      "source": [
        "### Plot"
      ]
    },
    {
      "cell_type": "code",
      "execution_count": 26,
      "metadata": {
        "id": "UtnyS-woG8XU",
        "colab": {
          "base_uri": "https://localhost:8080/",
          "height": 449
        },
        "outputId": "7ce2b22b-9abd-4c6d-eff4-ab361914b434"
      },
      "outputs": [
        {
          "output_type": "display_data",
          "data": {
            "text/plain": [
              "<Figure size 640x480 with 1 Axes>"
            ],
            "image/png": "[encoded data removed]"
          },
          "metadata": {}
        }
      ],
      "source": [
        "ax = plt.axes()\n",
        "ax.plot([w for w,_ in pairs], [m for _,m in pairs])\n",
        "ax.set_xlabel('w')\n",
        "ax.set_ylabel('mse')\n",
        "plt.show()"
      ]
    },
    {
      "cell_type": "markdown",
      "metadata": {
        "id": "8rWJGpMuhEbR"
      },
      "source": [
        "## Looks good so what's the problem?\n",
        "\n",
        "We can just try a list of weights and find the one with the least MSE. Choose it.\n",
        "\n",
        "The problem is that we really have 2 values to find, weight and bias.\n",
        "\n",
        "You say, so? Write nested for loops that try all combinations and find best MSE.\n",
        "\n",
        "<pre>\n",
        "for w in wi:\n",
        "   for b in bi:\n",
        "      ...\n",
        "</pre>"
      ]
    },
    {
      "cell_type": "markdown",
      "metadata": {
        "id": "EPUhxPaFiKOo"
      },
      "source": [
        "## The problem is we have a whole row to predict Fare\n",
        "\n",
        "Why just use Age? (Simple Linear Regression) Why not use all the values in the row (Multiple Linear Regression)?\n",
        "\n",
        "<img src='https://miro.medium.com/max/2210/1*iz5-6i0TG23UxeExvT3qeg.png' height=200>\n",
        "\n",
        "Each value will have its own weight. So if we have 7 columns to predict Fare, we will have 7 different weights to contend with.\n",
        "\n",
        "Large numbers of nested loops is getting a bit much. I think there is a better way that works with both Simple and Multiple Linear Regression.\n",
        "\n",
        "Instead of blindly searching, we will try to learn. Big switch!"
      ]
    },
    {
      "cell_type": "markdown",
      "metadata": {
        "id": "OYhAYa3oWx_J"
      },
      "source": [
        "# The foundations of learning: gradient descent\n",
        "\n",
        "I think it is worth going into some detail about this now given it will crop up again later. We are looking for a principled way to learn from our mistakes. Our mistakes are called errors or loss. MSE is a means to quantify our mistakes.\n",
        "\n",
        "## But how do we learn from our mistakes????\n",
        "\n",
        "I want to switch focus to learning from individual mistakes. So don't compute all the errors first before considering how to change. Instead, look at individual errors, on a single row, and try to adjust weight and bias from the single error.\n",
        "\n",
        "### Here's a plot that may help.\n",
        "\n",
        "<img src='https://www.dropbox.com/scl/fi/gq7mmcr3yyoscmxce1mbi/Loss-MSE-function-Gradient-Descent-using-Backpropagation-with-respect-to-each-Weight.png?rlkey=viuvkpz8n4zhzo3tgmi71j0k3&raw=1' height=300>\n",
        "\n",
        "I have a separate plot for the weight and bias. Let's focus on the weight for now:\n",
        "\n",
        "* The x axis represents different weights we can try.\n",
        "\n",
        "* The y axis represensts the squared error for the weights.\n",
        "\n",
        "* The curve is unknown to us. Shown as a nice bell curve here. But could be any type of convex curve.\n",
        "\n",
        "* The minimum value `m` (the minimum error we can achieve) is unknown to us.\n",
        "\n",
        "## Let's think about point pi\n",
        "\n",
        "We chose some weight, computed yhat, took the difference with actual y, and squared to get an error value. So the weight and error give us point pi.\n",
        "\n",
        "### Question: looking at the plot, should we increase or decrease w, given we are at point pi?\n",
        "\n",
        "## Let's think about point pi+j on other side\n",
        "\n",
        "We chose some weight, computed yhat, took the difference with actual y, and squared to get an error value.\n",
        "\n",
        "### Question: looking at the plot, should we increase or decrease w given at pi+j?\n",
        "\n",
        "The problem is you don't get to see this plot. Without the curve, you can't tell me whether to increase or decrease given some arbitrary point, right?\n"
      ]
    },
    {
      "cell_type": "markdown",
      "metadata": {
        "id": "SOeLpwnwu0kg"
      },
      "source": [
        "## Diffie-Q to the rescue!"
      ]
    },
    {
      "cell_type": "markdown",
      "metadata": {
        "id": "8Gyan-16uy6f"
      },
      "source": [
        "\n",
        "Here is my idea. We can get the slope (using the derivative) at any point on the curve using differential equations. And that slope will be either negative or positive.\n",
        "\n",
        "* If it is negative (like line on left) then we want to increase the weight. We are moving down the left hand side of the curve.\n",
        "\n",
        "* If it is positive (like line on right), then we want to decrease the weight. We are moving down the right hand side of the curve.\n",
        "\n",
        "Furthermore, the steepness of the slope tells us how far to move.\n",
        "\n",
        "<img src='https://miro.medium.com/max/1400/1*N5WjbzwsCFse-KPjBWZZ6g.jpeg' height=150>\n",
        "\n",
        "So win-win. We know direction to move and how much to move in that direction!"
      ]
    },
    {
      "cell_type": "markdown",
      "metadata": {
        "id": "-frqKaNg2H_D"
      },
      "source": [
        "## What we are left with is computing the slope (gradient)\n",
        "\n",
        "Choosing a row with a specific set of values `xi` (an age), `yi` (actual fare), `w` (weight), `b` (bias), compute the slope at the point (w,se), where `se = (yhat-yi)**2 = ((w * xi + b) - yi )**2`.\n",
        "\n",
        "We can use differential equations to get the slope at this point. It's a little bit complicated given we actually have (a) nested functions, and (b) 2 parameters to vary, `w` and `b`. For the nested functions problem, we will have to use the chain rule. For the 2 parameter problem, we will have to use partial differential equations and look at each separately.\n",
        "\n",
        "As a reminder of the chain rule, it looks like this:\n",
        "\n",
        "<img src='https://www.dropbox.com/s/slqxz32445m7gya/Screen%20Shot%202021-09-23%20at%202.59.03%20PM.png?raw=1' height=200>\n",
        "\n",
        "In our case `f` is `(yhat-yi)**2` and `g` is `yhat` which is `((xi*w+b))`.\n",
        "\n",
        "We have 2 parameters to worry about, `w` and `b`. Let's focus on the value of `b`. So we are after the slope, using derivates, for point (b,se) where we hold w constant. In terms of partial differential equations and the chain rule, it looks like this, where L is se (squared error).\n",
        "\n",
        "<img src='https://www.dropbox.com/s/igvgqm7tuq8zqm7/Screen%20Shot%202021-09-23%20at%2011.22.56%20AM.png?raw=1' height=50>.\n",
        "\n",
        "In words, the derivate of the loss L with respect to b (i.e., the slope at point (b,se)) is equal to (i) the derivate of L with respect to yhat (the outer function f) times (ii) the derivate of yhat with respect to b (the inner function).\n",
        "\n",
        "Now we need to compute the 2 derivates on the right of the equation. Using the power rule, the outer part (i.e., `(yhat-yi)**2`) is given by:\n",
        "\n",
        "<img src='https://www.dropbox.com/s/nx1w7ksmh4awrsw/Screen%20Shot%202021-09-23%20at%2011.28.53%20AM.png?raw=1' height=50>\n",
        "\n",
        "The inner part, where `yhat = w*xi+b`, is simply:\n",
        "\n",
        "<img src='https://www.dropbox.com/s/ex6qem7zahu7mvp/Screen%20Shot%202021-09-23%20at%2012.03.18%20PM.png?raw=1' height=50>\n",
        "\n",
        "Why 1? Because I can ignore `w*xi` - it has no term involving `b`. I'm left with `1*b` whose derivative is `1`.\n",
        "\n",
        "So the derivate with respect to b is given by `2*(yhat-yi)*1`. Once we plug in values to get yhat, we get the slope or gradient at (b,se).\n",
        "\n",
        "### How about derivate for w?\n",
        "\n",
        "It is similar when looking at derivate of other parameter `w` (view `w1` as plain `w`):\n",
        "\n",
        "<img src='https://www.dropbox.com/s/2nxl57gy2cf0fer/Screen%20Shot%202021-09-23%20at%2012.06.17%20PM.png?raw=1' height=50>\n",
        "\n",
        "Outer is still `2*(yhat-yi)`. But inner has changed. Reminder that inner function is `(w * xi + b)`. We can ignore the b term. So left with derivate of `w*xi`. It is just `xi`.\n",
        "\n",
        "<img src = 'https://www.dropbox.com/s/urtjgv6cn974kq4/Screen%20Shot%202021-09-23%20at%2012.02.19%20PM.png?raw=1' height=50>\n",
        "\n",
        "In code terms, we have:\n",
        "<pre>\n",
        "outer_yhat = 2*(yhat-yi)  #same for both b and w\n",
        "inner_w = xi\n",
        "inner_b = 1\n",
        "gradient_w = outer_yhat * inner_w #chain rule\n",
        "gradient_b = outer_yhat * inner_b #chain rule\n",
        "</pre>\n"
      ]
    },
    {
      "cell_type": "markdown",
      "metadata": {
        "id": "ld5U6hqJgKzk"
      },
      "source": [
        "<img src='https://www.dropbox.com/s/8x575mvbi1xumje/cash_line.png?raw=1' height=3 width=500><br>\n",
        "<img src='https://www.gannett-cdn.com/-mm-/56cbeec8287997813f287995de67747ba5e101d5/c=9-0-1280-718/local/-/media/2018/02/15/Phoenix/Phoenix/636542954131413889-image.jpg'\n",
        "height=50 align=center>\n",
        "\n",
        "\n",
        "Let's check out the gradient at a specific point. Fill in below.\n",
        "\n"
      ]
    },
    {
      "cell_type": "code",
      "execution_count": 27,
      "metadata": {
        "id": "y0uYGvhdqzeb",
        "colab": {
          "base_uri": "https://localhost:8080/"
        },
        "outputId": "8d535b9e-4de7-424a-84e9-72d3b0a38c59"
      },
      "outputs": [
        {
          "output_type": "stream",
          "name": "stdout",
          "text": [
            "0.36578947368421055 -0.2608695652173913 0.39270155103707927\n"
          ]
        }
      ],
      "source": [
        "xi = ages[0]  #using this to predict Fare\n",
        "w = .4\n",
        "b = .05\n",
        "yi = fare_labels[0]  #the actual value of Fare we can check against\n",
        "yhat = (w*xi+b)\n",
        "se = (yhat - yi)**2\n",
        "print(yhat, yi, se)  #0.36578947368421055 -0.2608695652173913 0.39270155103707927"
      ]
    },
    {
      "cell_type": "code",
      "execution_count": 28,
      "metadata": {
        "id": "RpsH4Nv1Tw9r"
      },
      "outputs": [],
      "source": [
        "\n",
        "#your code below - copy and paste above should do it\n",
        "\n",
        "outer_yhat =  2*(yhat - yi) #same for both b and w\n",
        "inner_w = xi\n",
        "inner_b = 1\n",
        "gradient_w = outer_yhat * inner_w #chain rule\n",
        "gradient_b = outer_yhat * inner_b #chain rule\n"
      ]
    },
    {
      "cell_type": "code",
      "execution_count": 29,
      "metadata": {
        "id": "FmUSWhjNG1WO",
        "colab": {
          "base_uri": "https://localhost:8080/"
        },
        "outputId": "9f9c3b9f-d024-4707-a162-78901eff776b"
      },
      "outputs": [
        {
          "output_type": "execute_result",
          "data": {
            "text/plain": [
              "(0.9894616403709502, 1.2533180778032036)"
            ]
          },
          "metadata": {},
          "execution_count": 29
        }
      ],
      "source": [
        "(gradient_w, gradient_b)  #(0.9894616403709502, 1.2533180778032036)\n"
      ]
    },
    {
      "cell_type": "markdown",
      "metadata": {
        "id": "7S6qHpTngJZD"
      },
      "source": [
        "\n",
        "Next question: should we add or subtract these gradients to move loss closer to 0? From the x-y plot above, we can see the point on the right has a positive slope and we want to decrease `w` and `b` to move to left. So if we subtract we will get a negative and actually subtract the gradients. That is what we want. And vice versa for point on left. So what we want is this:\n",
        "<pre>\n",
        "w = w - lr * gradient_w\n",
        "b = b - lr * gradient_b\n",
        "</pre>\n",
        "Cool. We will now move in the correct direction and by the correct magnitude. But what's up with that `lr`?"
      ]
    },
    {
      "cell_type": "markdown",
      "metadata": {
        "id": "nlk2hFY-E-eZ"
      },
      "source": [
        "## The learning rate\n",
        "\n",
        "It is typical to tamp down weight changes. The problem is that raw gradients will swing you all over the place. The bottom shows this graphically. The top shows what happens when use small learning rate and bottom with large (i.e., close to 1.0) learning rate.\n",
        "\n",
        "<img src='https://www.dropbox.com/s/hqcpkam704j58yk/Screen%20Shot%202021-09-23%20at%2012.15.20%20PM.png?raw=1' height=200>\n",
        "\n",
        "The choice for the learning rate is up to you. I will use `lr=.001` but it is something you can experiment with.\n",
        "\n"
      ]
    },
    {
      "cell_type": "markdown",
      "metadata": {
        "id": "z_WezcFi4hCm"
      },
      "source": [
        "## We can now compute new w and b\n",
        "\n",
        "Notice both slopes are positive so we will decrease both w and b. And from our prior messing around, that looked like a winning move at least for w."
      ]
    },
    {
      "cell_type": "code",
      "execution_count": 30,
      "metadata": {
        "id": "k83FUoK14mEL",
        "colab": {
          "base_uri": "https://localhost:8080/"
        },
        "outputId": "284cfeae-b0b6-4d10-b99c-f203c4bf04db"
      },
      "outputs": [
        {
          "output_type": "execute_result",
          "data": {
            "text/plain": [
              "0.39015584957150207"
            ]
          },
          "metadata": {},
          "execution_count": 30
        }
      ],
      "source": [
        "lr = .001\n",
        "w = w - lr*gradient_w  #will decrease w in our case\n",
        "b = b - lr*gradient_b  #will decrease b in our case\n",
        "yhat = ages[0]*w+b\n",
        "error_squared = (yhat - yi)**2\n",
        "error_squared  #0.39015584957150207 (prior 0.39270155103707927)"
      ]
    },
    {
      "cell_type": "markdown",
      "metadata": {
        "id": "qobUcTCY6PTK"
      },
      "source": [
        "## Whew!\n",
        "\n",
        "Looks like we are on right track. We did decrease the error."
      ]
    },
    {
      "cell_type": "markdown",
      "metadata": {
        "id": "lGwwfoDl3STD"
      },
      "source": [
        "# II. Stochastic Gradient Descent (SGD)\n",
        "\n",
        "Using the SGD method for getting to the right w and b values means adjusting w and b after every row. So we don't wait to compute MSE at end, we actually adjust after every row. Here is a function that does this for us."
      ]
    },
    {
      "cell_type": "code",
      "execution_count": 31,
      "metadata": {
        "id": "1VkEENfCdgEU"
      },
      "outputs": [],
      "source": [
        "#X is list of ages, Y is list of fare_labels, w is starting weight, b is stating bias, lr is learning rate\n",
        "\n",
        "def sgd(X,Y,w,b,lr=.001):\n",
        "  for i in range(len(X)):\n",
        "    #get values for rowi\n",
        "    xi = X[i]  #e.g., age on rowi\n",
        "    yi = Y[i]  #e.g., actual fare on rowi\n",
        "\n",
        "    yhat = w*xi+b  #prediction\n",
        "\n",
        "    #loss = (yhat - yi)**2 = ((w*xi+b) - yi)**2, i.e., f(g(x,w,b),yi)\n",
        "    #dloss/dw = dl/dyhat * dyhat/dw by the chain rule\n",
        "    #dloss/dyhat = 2*(yhat - yi) by the power rule (first part of chain)\n",
        "    #dyhat/dw = d((w*xi+b) - yi)/dw = xi (second part of chain)\n",
        "\n",
        "    gradient_w = 2*(yhat-yi)*xi  #take the partial derivative wrt w to get slope\n",
        "\n",
        "    #for b same first part of chain but then #dyhat/db = d((w*xi+b) - yi)/db = 1 for second part of chain\n",
        "\n",
        "    gradient_b = 2*(yhat-yi)*1   #take the partial derivative wrt b to get slope\n",
        "\n",
        "    w = w - lr*gradient_w  #if len(X) is 2000, will change 2000 times\n",
        "    b = b - lr*gradient_b\n",
        "\n",
        "  #return the last w and b of the loop\n",
        "  return w,b\n"
      ]
    },
    {
      "cell_type": "markdown",
      "metadata": {
        "id": "wDnG8D8x8KZP"
      },
      "source": [
        "## This function will give us final values for w and b\n",
        "\n",
        "After it runs through all rows. So it will do many adjustments to w and b."
      ]
    },
    {
      "cell_type": "code",
      "execution_count": 32,
      "metadata": {
        "id": "yMXa7lRI8hl1",
        "colab": {
          "base_uri": "https://localhost:8080/"
        },
        "outputId": "ff99d3ef-73c1-4d43-c204-f6d64ac7cf61"
      },
      "outputs": [
        {
          "output_type": "stream",
          "name": "stdout",
          "text": [
            "0.2969981644235462 0.5251904935413089\n"
          ]
        }
      ],
      "source": [
        "w1,b1 = sgd(ages, fare_labels, .5, .5)  #could also just choose random starting values for w and b\n",
        "print(w1,b1)  #0.2989362264334249 0.52546747073015"
      ]
    },
    {
      "cell_type": "markdown",
      "metadata": {
        "id": "Y2bp4hcddwTW"
      },
      "source": [
        "### Compute MSE"
      ]
    },
    {
      "cell_type": "code",
      "execution_count": 33,
      "metadata": {
        "id": "qfxLR2hx8Db_",
        "colab": {
          "base_uri": "https://localhost:8080/"
        },
        "outputId": "1efabc83-5652-4722-a208-7537266e9792"
      },
      "outputs": [
        {
          "output_type": "execute_result",
          "data": {
            "text/plain": [
              "1.5036565968131235"
            ]
          },
          "metadata": {},
          "execution_count": 33
        }
      ],
      "source": [
        "yhats = predict(ages, w1, b1)  #using w1 and b1 we got from sgd\n",
        "MSE(fare_labels, yhats)  #1.5033350952606843"
      ]
    },
    {
      "cell_type": "markdown",
      "metadata": {
        "id": "xr7MV_ud9N6c"
      },
      "source": [
        "## Big question: can we do better?\n",
        "\n",
        "We have an MSE of 1.5 (rounded). Is there a way to reduce that?\n",
        "\n",
        "### Big idea: keep running SGD function.\n",
        "\n",
        "So don't stop with just one go-through of rows. Do it again and again. But start each new call with the w and b from previous call."
      ]
    },
    {
      "cell_type": "markdown",
      "metadata": {
        "id": "JfjYqEBlGqgv"
      },
      "source": [
        "# Idea of epoch\n",
        "\n",
        "Each time we run through the entire set of rows is called an epoch. And we don't re-initialize `w` and `b`! We pass on the values from epoch1 to epoch2. You typically need many epochs to get good results.\n",
        "\n",
        "But how do you know if you have enough epochs? If you choose 100 maybe 200 would give you even better results.\n",
        "\n",
        "You can use the MSE as a measure. If the MSE is not going down very much (or at all), then you are likely good to go.\n",
        "\n",
        "I'll try 100 epochs. And I will keep track of the MSE for each epoch."
      ]
    },
    {
      "cell_type": "markdown",
      "metadata": {
        "id": "Y_2fz0e5DUXG"
      },
      "source": [
        "### Video note\n",
        "\n",
        "Values below will be slightly different than video. However, the main points raised in the video still hold true. Let me know if confused."
      ]
    },
    {
      "cell_type": "code",
      "execution_count": 34,
      "metadata": {
        "id": "gK4jIEgas8EK"
      },
      "outputs": [],
      "source": [
        "w = .5\n",
        "b = .5\n",
        "mse = []\n",
        "epochs = 100\n",
        "for i in range(epochs):\n",
        "  w,b = sgd(ages, fare_labels, w, b)  #note start with w and b from past epoch\n",
        "  yhats = predict(ages, w, b)\n",
        "  mse.append(MSE(fare_labels, yhats))"
      ]
    },
    {
      "cell_type": "code",
      "execution_count": 35,
      "metadata": {
        "id": "GKEbcyxRySsW",
        "colab": {
          "base_uri": "https://localhost:8080/"
        },
        "outputId": "c96c937d-3626-487a-9d2c-e5d8b1c93663"
      },
      "outputs": [
        {
          "output_type": "execute_result",
          "data": {
            "text/plain": [
              "1.4973830317612864"
            ]
          },
          "metadata": {},
          "execution_count": 35
        }
      ],
      "source": [
        "min(mse)  #1.4972186612188838"
      ]
    },
    {
      "cell_type": "code",
      "execution_count": 36,
      "metadata": {
        "id": "P1z7Fbk7ybsp",
        "colab": {
          "base_uri": "https://localhost:8080/"
        },
        "outputId": "9232db41-ab06-4c0f-814d-06f1d78ceed4"
      },
      "outputs": [
        {
          "output_type": "execute_result",
          "data": {
            "text/plain": [
              "np.int64(27)"
            ]
          },
          "metadata": {},
          "execution_count": 36
        }
      ],
      "source": [
        "np.argmin(mse)  #so we got the least error at epoch 27"
      ]
    },
    {
      "cell_type": "code",
      "execution_count": 37,
      "metadata": {
        "id": "D-55LGGuIr3o",
        "colab": {
          "base_uri": "https://localhost:8080/"
        },
        "outputId": "6f9623dd-7ef4-46c2-825b-d07347cd4aa4"
      },
      "outputs": [
        {
          "output_type": "execute_result",
          "data": {
            "text/plain": [
              "[1.4973830317612868,\n",
              " 1.4973830317612868,\n",
              " 1.4973830317612868,\n",
              " 1.4973830317612868,\n",
              " 1.4973830317612868,\n",
              " 1.4973830317612868,\n",
              " 1.4973830317612868,\n",
              " 1.4973830317612868,\n",
              " 1.4973830317612868,\n",
              " 1.4973830317612868]"
            ]
          },
          "metadata": {},
          "execution_count": 37
        }
      ],
      "source": [
        "#look at last 10\n",
        "\n",
        "mse[-10:]  #holding steady - just slightly worse than best"
      ]
    },
    {
      "cell_type": "code",
      "execution_count": 38,
      "metadata": {
        "id": "gSWfAPXHpnB-",
        "colab": {
          "base_uri": "https://localhost:8080/",
          "height": 430
        },
        "outputId": "d7a5d1af-3340-4663-c427-436285aef65e"
      },
      "outputs": [
        {
          "output_type": "display_data",
          "data": {
            "text/plain": [
              "<Figure size 640x480 with 1 Axes>"
            ],
            "image/png": "[encoded data removed]"
          },
          "metadata": {}
        }
      ],
      "source": [
        "import matplotlib.pyplot as plt\n",
        "plt.plot(mse, scaley=True)\n",
        "plt.show()"
      ]
    },
    {
      "cell_type": "markdown",
      "metadata": {
        "id": "DwUL4GDSHkWN"
      },
      "source": [
        "### Flattens out quickly\n",
        "\n",
        "This agrees with where we found the min."
      ]
    },
    {
      "cell_type": "markdown",
      "metadata": {
        "id": "j92_ri5xHzWI"
      },
      "source": [
        "# Last step: testing\n",
        "\n",
        "So we trained our model, i.e., computed what look like good values for `w` and `b`. Let's try those on the data we held out in the test set."
      ]
    },
    {
      "cell_type": "code",
      "execution_count": 39,
      "metadata": {
        "id": "omdUlDDAIBhk",
        "colab": {
          "base_uri": "https://localhost:8080/"
        },
        "outputId": "da9405f6-fd53-4a0d-fbe6-6aeaefddd2c1"
      },
      "outputs": [
        {
          "output_type": "execute_result",
          "data": {
            "text/plain": [
              "(0.20755603099245457, 0.5373887976208882)"
            ]
          },
          "metadata": {},
          "execution_count": 39
        }
      ],
      "source": [
        "(w,b)  #last values computed in training - (w,b)  (0.20755603099245457, 0.5373887976208882)"
      ]
    },
    {
      "cell_type": "code",
      "execution_count": 40,
      "metadata": {
        "id": "Uvbn5uLhIMzl",
        "colab": {
          "base_uri": "https://localhost:8080/"
        },
        "outputId": "35da22a7-e964-47d5-8175-82eee633a3e0"
      },
      "outputs": [
        {
          "output_type": "execute_result",
          "data": {
            "text/plain": [
              "1.5755483777709391"
            ]
          },
          "metadata": {},
          "execution_count": 40
        }
      ],
      "source": [
        "X = X_test_transformed['Age'].to_list()  #notice using test data not training data\n",
        "Y = X_test_transformed['Fare'].to_list()\n",
        "Yhat = predict(X, w, b)\n",
        "MSE(Y, Yhat)  #1.5755483777709391, best from training: 1.4973830317612864"
      ]
    },
    {
      "cell_type": "markdown",
      "metadata": {
        "id": "ZdEo90rvI6-G"
      },
      "source": [
        "Worse on testing. Very typical."
      ]
    },
    {
      "cell_type": "markdown",
      "metadata": {
        "id": "w5ewxadunefB"
      },
      "source": [
        "<img src='https://www.dropbox.com/s/8x575mvbi1xumje/cash_line.png?raw=1' height=3 width=500><br>\n",
        "<img src='https://www.gannett-cdn.com/-mm-/56cbeec8287997813f287995de67747ba5e101d5/c=9-0-1280-718/local/-/media/2018/02/15/Phoenix/Phoenix/636542954131413889-image.jpg'\n",
        "height=50 align=center>\n",
        "\n",
        "We looked at predicting fare from age. Let's try the reverse: predict age from fare. You might think you will get roughly the same MSE. But don't be too sure :)\n",
        "\n",
        "Hint: you should be able to copy code from above and just edit to try on this new problem.\n",
        "\n"
      ]
    },
    {
      "cell_type": "code",
      "execution_count": 41,
      "metadata": {
        "id": "zSxtPvldjBQh"
      },
      "outputs": [],
      "source": [
        "w = .5\n",
        "b = .5\n",
        "epochs = 100"
      ]
    },
    {
      "cell_type": "code",
      "execution_count": 42,
      "metadata": {
        "id": "gYnyae9AoFVD"
      },
      "outputs": [],
      "source": [
        "#your code\n",
        "mse = []\n",
        "\n",
        "for i in range(epochs):\n",
        "  w, b = sgd(fare_labels, ages, w, b)\n",
        "  yhats = predict(fare_labels, w, b)\n",
        "  mse.append(MSE(ages, yhats))"
      ]
    },
    {
      "cell_type": "code",
      "execution_count": 43,
      "metadata": {
        "id": "PBYyGUqNzvNZ",
        "colab": {
          "base_uri": "https://localhost:8080/"
        },
        "outputId": "911f88b4-9f02-4323-c914-01e36651406f"
      },
      "outputs": [
        {
          "output_type": "execute_result",
          "data": {
            "text/plain": [
              "(0.5601494980426618, np.int64(1))"
            ]
          },
          "metadata": {},
          "execution_count": 43
        }
      ],
      "source": [
        "min(mse), np.argmin(mse)  #(0.5601494980426618, 1) - found on 2nd epoch so remaining 98 did no better"
      ]
    },
    {
      "cell_type": "code",
      "execution_count": 44,
      "metadata": {
        "id": "Svp0vSEOkRSN",
        "colab": {
          "base_uri": "https://localhost:8080/"
        },
        "outputId": "563a35a9-00bd-4bb2-8746-88f500340aaf"
      },
      "outputs": [
        {
          "output_type": "execute_result",
          "data": {
            "text/plain": [
              "[0.5602262156087735,\n",
              " 0.5602262156087735,\n",
              " 0.5602262156087735,\n",
              " 0.5602262156087735,\n",
              " 0.5602262156087735,\n",
              " 0.5602262156087735,\n",
              " 0.5602262156087735,\n",
              " 0.5602262156087735,\n",
              " 0.5602262156087735,\n",
              " 0.5602262156087735]"
            ]
          },
          "metadata": {},
          "execution_count": 44
        }
      ],
      "source": [
        "mse[-10:]  #worse - [0.5602262156087735, ..."
      ]
    },
    {
      "cell_type": "markdown",
      "metadata": {
        "id": "an8YVZK5lEws"
      },
      "source": [
        "Kind of interesting. Best we got trying to predict fare from age was `1.4973830317612864\n",
        "`. Going other way, a lot better."
      ]
    },
    {
      "cell_type": "markdown",
      "metadata": {
        "id": "N9X5l26VeGDJ"
      },
      "source": [
        "## Note: you have enough now to work on challenges 1 and 2\n",
        "\n",
        "If you want to pause the video here and work on those 2, no problem."
      ]
    },
    {
      "cell_type": "markdown",
      "metadata": {
        "id": "jvNpqK-p48O0"
      },
      "source": [
        "# Idea of batch\n",
        "\n",
        "Within a single epoch, the concept of batch crops up. It says how many rows do we want to look at before actually changing `w` and `b`. With stochastic gradient descent, we have a batch size of 1: we change weights after every row. Let's look at the other extreme: we change weights only once, after we have seen all rows, i.e., we do one change per epoch.\n",
        "\n",
        "Notice what we are doing. We are collecting changes but not making them. We average the changes and use it to update."
      ]
    },
    {
      "cell_type": "code",
      "execution_count": 45,
      "metadata": {
        "id": "yUSJyO2Q48O0"
      },
      "outputs": [],
      "source": [
        "def full_batch(X,Y,w,b,lr=.001):\n",
        "  gw = []\n",
        "  gb = []\n",
        "  for i in range(len(X)):\n",
        "    xi = X[i]\n",
        "    yi = Y[i]\n",
        "    yhat = w*xi+b  #prediction\n",
        "    gradient_w = 2*(yhat-yi)*xi\n",
        "    gradient_b = 2*(yhat-yi)*1\n",
        "    gw.append(gradient_w)  #just collect change, don't make it\n",
        "    gb.append(gradient_b)\n",
        "  w = w - lr*sum(gw)/len(gw)  #Now average and make the change.\n",
        "  b = b - lr*sum(gb)/len(gb)\n",
        "  return w,b"
      ]
    },
    {
      "cell_type": "markdown",
      "metadata": {
        "id": "u9vWXHNkl-1N"
      },
      "source": [
        "### Try full-batch for 100 epochs"
      ]
    },
    {
      "cell_type": "code",
      "execution_count": 46,
      "metadata": {
        "id": "8nk3Gw_KpCBC"
      },
      "outputs": [],
      "source": [
        "X = X_train_transformed['Age'].to_list()\n",
        "Y = X_train_transformed['Fare'].to_list()"
      ]
    },
    {
      "cell_type": "code",
      "execution_count": 47,
      "metadata": {
        "id": "kgksptB348O0"
      },
      "outputs": [],
      "source": [
        "w = .5\n",
        "b = .05\n",
        "mse = []\n",
        "epochs = 100\n",
        "for i in range(epochs):\n",
        "  w,b = full_batch(X, Y, w, b)\n",
        "  Yhat = predict(X, w, b)\n",
        "  mse.append(MSE(Y, Yhat))"
      ]
    },
    {
      "cell_type": "code",
      "execution_count": 48,
      "metadata": {
        "id": "K1sZcaDyPQrD",
        "colab": {
          "base_uri": "https://localhost:8080/",
          "height": 430
        },
        "outputId": "8a7410d6-6028-4071-f6b3-7fded264c1ef"
      },
      "outputs": [
        {
          "output_type": "display_data",
          "data": {
            "text/plain": [
              "<Figure size 640x480 with 1 Axes>"
            ],
            "image/png": "[encoded data removed]"
          },
          "metadata": {}
        }
      ],
      "source": [
        "import matplotlib.pyplot as plt\n",
        "plt.plot(mse, scaley=True)\n",
        "plt.show()"
      ]
    },
    {
      "cell_type": "code",
      "execution_count": 49,
      "metadata": {
        "id": "ZpXxdMxDlpg7",
        "colab": {
          "base_uri": "https://localhost:8080/"
        },
        "outputId": "406b83ae-57a7-47b5-ab3c-202af2e71e96"
      },
      "outputs": [
        {
          "output_type": "execute_result",
          "data": {
            "text/plain": [
              "(np.int64(99), 1.6771229326649262)"
            ]
          },
          "metadata": {},
          "execution_count": 49
        }
      ],
      "source": [
        "np.argmin(mse), min(mse)  #from last epoch so looks like still going down - add more epochs?"
      ]
    },
    {
      "cell_type": "code",
      "execution_count": 50,
      "metadata": {
        "id": "gsv999kK48O0",
        "colab": {
          "base_uri": "https://localhost:8080/"
        },
        "outputId": "32d20577-b513-43f7-d63d-9b44408134d1"
      },
      "outputs": [
        {
          "output_type": "execute_result",
          "data": {
            "text/plain": [
              "[1.6827498511668981,\n",
              " 1.6821155275587054,\n",
              " 1.6814835017029766,\n",
              " 1.6808537649170012,\n",
              " 1.6802263085517835,\n",
              " 1.679601123991893,\n",
              " 1.6789782026553515,\n",
              " 1.6783575359934941,\n",
              " 1.6777391154908297,\n",
              " 1.6771229326649262]"
            ]
          },
          "metadata": {},
          "execution_count": 50
        }
      ],
      "source": [
        "mse[-10:]  #best from 100 x sgd:  1.4973830317612864"
      ]
    },
    {
      "cell_type": "markdown",
      "metadata": {
        "id": "mkUb8IOV5tGj"
      },
      "source": [
        "### Still going down\n",
        "\n",
        "Let's increase epochs and see if it levels out."
      ]
    },
    {
      "cell_type": "code",
      "execution_count": 51,
      "metadata": {
        "id": "Y909tv2N5PBw",
        "colab": {
          "base_uri": "https://localhost:8080/"
        },
        "outputId": "5c5b7e21-124b-4d57-ca48-85ed434469c6"
      },
      "outputs": [
        {
          "output_type": "execute_result",
          "data": {
            "text/plain": [
              "(0.30111912586554634, 0.44435517974799066)"
            ]
          },
          "metadata": {},
          "execution_count": 51
        }
      ],
      "source": [
        "w = .5\n",
        "b = .05\n",
        "mse = []\n",
        "epochs = 1000\n",
        "for i in range(epochs):\n",
        "  w,b = full_batch(X, Y, w, b)\n",
        "  Yhat = predict(X, w, b)\n",
        "  mse.append(MSE(Y, Yhat))\n",
        "(w,b)"
      ]
    },
    {
      "cell_type": "code",
      "execution_count": 52,
      "metadata": {
        "id": "S48Hb8tnHxJS",
        "colab": {
          "base_uri": "https://localhost:8080/"
        },
        "outputId": "a2b1cfb8-82dc-460b-c38c-b362ec07de47"
      },
      "outputs": [
        {
          "output_type": "execute_result",
          "data": {
            "text/plain": [
              "(np.int64(999), 1.5081800105509628)"
            ]
          },
          "metadata": {},
          "execution_count": 52
        }
      ],
      "source": [
        "np.argmin(mse), min(mse)"
      ]
    },
    {
      "cell_type": "code",
      "execution_count": 53,
      "metadata": {
        "id": "q7T0Lu-l5PBx",
        "colab": {
          "base_uri": "https://localhost:8080/"
        },
        "outputId": "a098d360-5d19-4ae8-87de-8f4955719834"
      },
      "outputs": [
        {
          "output_type": "execute_result",
          "data": {
            "text/plain": [
              "[1.5084658946963228,\n",
              " 1.5084337519574071,\n",
              " 1.5084017043882139,\n",
              " 1.5083697516823285,\n",
              " 1.5083378935344116,\n",
              " 1.5083061296401714,\n",
              " 1.5082744596963704,\n",
              " 1.5082428834008152,\n",
              " 1.508211400452384,\n",
              " 1.5081800105509628]"
            ]
          },
          "metadata": {},
          "execution_count": 53
        }
      ],
      "source": [
        "mse[-10:]  #still going down!"
      ]
    },
    {
      "cell_type": "code",
      "execution_count": 54,
      "metadata": {
        "id": "dZBNZobH5rU6",
        "colab": {
          "base_uri": "https://localhost:8080/",
          "height": 430
        },
        "outputId": "8280ad39-bfc6-426f-981a-bf50ecea050d"
      },
      "outputs": [
        {
          "output_type": "display_data",
          "data": {
            "text/plain": [
              "<Figure size 640x480 with 1 Axes>"
            ],
            "image/png": "[encoded data removed]"
          },
          "metadata": {}
        }
      ],
      "source": [
        "import matplotlib.pyplot as plt\n",
        "plt.plot(mse, scaley=True)\n",
        "plt.show()"
      ]
    },
    {
      "cell_type": "markdown",
      "metadata": {
        "id": "kbkmR-Kh53Ji"
      },
      "source": [
        "100 x SGD still better than 1000 x full-batch.\n"
      ]
    },
    {
      "cell_type": "markdown",
      "metadata": {
        "id": "HiNuTus048O1"
      },
      "source": [
        "# Last step: testing\n",
        "\n",
        "So we trained our model, i.e., computed what look like good values for w and b. Let's try those on the data we held out in the test set."
      ]
    },
    {
      "cell_type": "code",
      "execution_count": 55,
      "metadata": {
        "id": "NesuNq0b48O1",
        "colab": {
          "base_uri": "https://localhost:8080/"
        },
        "outputId": "6d092429-485d-4672-cb5c-4525e277546a"
      },
      "outputs": [
        {
          "output_type": "execute_result",
          "data": {
            "text/plain": [
              "(0.30111912586554634, 0.44435517974799066)"
            ]
          },
          "metadata": {},
          "execution_count": 55
        }
      ],
      "source": [
        "(w,b)  #last values computed from full-batch at 1000 epochs"
      ]
    },
    {
      "cell_type": "code",
      "execution_count": 56,
      "metadata": {
        "id": "xKIaVYat48O1",
        "colab": {
          "base_uri": "https://localhost:8080/"
        },
        "outputId": "8ce05bbb-c021-4119-9aef-75b35491b573"
      },
      "outputs": [
        {
          "output_type": "execute_result",
          "data": {
            "text/plain": [
              "1.5971286308679484"
            ]
          },
          "metadata": {},
          "execution_count": 56
        }
      ],
      "source": [
        "X = X_test_transformed['Age'].to_list()\n",
        "Y = X_test_transformed['Fare'].to_list()\n",
        "Yhat = predict(X, w, b)\n",
        "MSE(Y, Yhat)  #1.5976846580111859 - best from training: 1.5081800105509628\n"
      ]
    },
    {
      "cell_type": "markdown",
      "metadata": {
        "id": "OM9M2csbnCVO"
      },
      "source": [
        "### Again, training better\n",
        "\n",
        "Typical."
      ]
    },
    {
      "cell_type": "markdown",
      "metadata": {
        "id": "DcXLznhj48O1"
      },
      "source": [
        "### Discussion\n",
        "\n",
        "Full batch has the benefit of avoiding updating the weights constantly. And it might have a smoothing effect and not jump all over the place: it averages all the gradients to get one change.\n",
        "\n",
        "It has the problem of potentially taking many more epochs than plain sgd so it all might average out.\n",
        "\n",
        "There is a compromise called mini-batch. It says take k rows before doing update. If k=1 you have SGD. If k=all rows then you have full batch. You can choose other values between. Mini-batch is the typical way people train their models. The tough part is choosing k.\n",
        "\n",
        "Also note that there are alternatives to gradient descent. Here is one recent idea based on [Direct Feedback Alignment](https://arxiv.org/abs/2011.12428). No derivatives involved!"
      ]
    },
    {
      "cell_type": "markdown",
      "metadata": {
        "id": "q_1KMg53y_Yh"
      },
      "source": [
        "<img src='https://www.dropbox.com/s/8x575mvbi1xumje/cash_line.png?raw=1' height=3 width=500><br>\n",
        "<img src='https://www.gannett-cdn.com/-mm-/56cbeec8287997813f287995de67747ba5e101d5/c=9-0-1280-718/local/-/media/2018/02/15/Phoenix/Phoenix/636542954131413889-image.jpg'\n",
        "height=50 align=center>\n",
        "\n",
        "This tests out your Gemini skills. See if you can find the linear regression model in sklearn and then train it using `X` and `y` below.\n",
        "\n",
        "Notice the hoops I had to jump through with reshaping to get data in shape for the sklearn model. Kind of a pain.\n",
        "\n",
        "<pre>\n",
        "a = np.array([ 1.,  2.,  3.,  4.,  5.,  6.])\n",
        "a.reshape(-1,1)\n",
        "array([[ 1.],\n",
        "       [ 2.],\n",
        "       [ 3.],\n",
        "       [ 4.],\n",
        "       [ 5.],\n",
        "       [ 6.]])\n",
        "</pre>\n",
        "But it kind of makes sense. Normally each row would have 6 features, not just 1. So we need an array to hold each row.\n",
        "\n"
      ]
    },
    {
      "cell_type": "code",
      "execution_count": 57,
      "metadata": {
        "id": "pvt4ev_VDz5s"
      },
      "outputs": [],
      "source": [
        "X = X_train_transformed['Age'].to_numpy().reshape(-1, 1)  #see example above for reshape action\n",
        "y = X_train_transformed['Fare'].to_numpy().reshape(-1, 1)"
      ]
    },
    {
      "cell_type": "code",
      "execution_count": 58,
      "metadata": {
        "id": "J6XXN6vtDnJR",
        "colab": {
          "base_uri": "https://localhost:8080/",
          "height": 80
        },
        "outputId": "e29da077-b8b1-454f-cdeb-cabdf07b7288"
      },
      "outputs": [
        {
          "output_type": "execute_result",
          "data": {
            "text/plain": [
              "LinearRegression()"
            ],
            "text/html": [
              "<style>#sk-container-id-1 {\n",
              "  /* Definition of color scheme common for light and dark mode */\n",
              "  --sklearn-color-text: #000;\n",
              "  --sklearn-color-text-muted: #666;\n",
              "  --sklearn-color-line: gray;\n",
              "  /* Definition of color scheme for unfitted estimators */\n",
              "  --sklearn-color-unfitted-level-0: #fff5e6;\n",
              "  --sklearn-color-unfitted-level-1: #f6e4d2;\n",
              "  --sklearn-color-unfitted-level-2: #ffe0b3;\n",
              "  --sklearn-color-unfitted-level-3: chocolate;\n",
              "  /* Definition of color scheme for fitted estimators */\n",
              "  --sklearn-color-fitted-level-0: #f0f8ff;\n",
              "  --sklearn-color-fitted-level-1: #d4ebff;\n",
              "  --sklearn-color-fitted-level-2: #b3dbfd;\n",
              "  --sklearn-color-fitted-level-3: cornflowerblue;\n",
              "\n",
              "  /* Specific color for light theme */\n",
              "  --sklearn-color-text-on-default-background: var(--sg-text-color, var(--theme-code-foreground, var(--jp-content-font-color1, black)));\n",
              "  --sklearn-color-background: var(--sg-background-color, var(--theme-background, var(--jp-layout-color0, white)));\n",
              "  --sklearn-color-border-box: var(--sg-text-color, var(--theme-code-foreground, var(--jp-content-font-color1, black)));\n",
              "  --sklearn-color-icon: #696969;\n",
              "\n",
              "  @media (prefers-color-scheme: dark) {\n",
              "    /* Redefinition of color scheme for dark theme */\n",
              "    --sklearn-color-text-on-default-background: var(--sg-text-color, var(--theme-code-foreground, var(--jp-content-font-color1, white)));\n",
              "    --sklearn-color-background: var(--sg-background-color, var(--theme-background, var(--jp-layout-color0, #111)));\n",
              "    --sklearn-color-border-box: var(--sg-text-color, var(--theme-code-foreground, var(--jp-content-font-color1, white)));\n",
              "    --sklearn-color-icon: #878787;\n",
              "  }\n",
              "}\n",
              "\n",
              "#sk-container-id-1 {\n",
              "  color: var(--sklearn-color-text);\n",
              "}\n",
              "\n",
              "#sk-container-id-1 pre {\n",
              "  padding: 0;\n",
              "}\n",
              "\n",
              "#sk-container-id-1 input.sk-hidden--visually {\n",
              "  border: 0;\n",
              "  clip: rect(1px 1px 1px 1px);\n",
              "  clip: rect(1px, 1px, 1px, 1px);\n",
              "  height: 1px;\n",
              "  margin: -1px;\n",
              "  overflow: hidden;\n",
              "  padding: 0;\n",
              "  position: absolute;\n",
              "  width: 1px;\n",
              "}\n",
              "\n",
              "#sk-container-id-1 div.sk-dashed-wrapped {\n",
              "  border: 1px dashed var(--sklearn-color-line);\n",
              "  margin: 0 0.4em 0.5em 0.4em;\n",
              "  box-sizing: border-box;\n",
              "  padding-bottom: 0.4em;\n",
              "  background-color: var(--sklearn-color-background);\n",
              "}\n",
              "\n",
              "#sk-container-id-1 div.sk-container {\n",
              "  /* jupyter's `normalize.less` sets `[hidden] { display: none; }`\n",
              "     but bootstrap.min.css set `[hidden] { display: none !important; }`\n",
              "     so we also need the `!important` here to be able to override the\n",
              "     default hidden behavior on the sphinx rendered scikit-learn.org.\n",
              "     See: https://github.com/scikit-learn/scikit-learn/issues/21755 */\n",
              "  display: inline-block !important;\n",
              "  position: relative;\n",
              "}\n",
              "\n",
              "#sk-container-id-1 div.sk-text-repr-fallback {\n",
              "  display: none;\n",
              "}\n",
              "\n",
              "div.sk-parallel-item,\n",
              "div.sk-serial,\n",
              "div.sk-item {\n",
              "  /* draw centered vertical line to link estimators */\n",
              "  background-image: linear-gradient(var(--sklearn-color-text-on-default-background), var(--sklearn-color-text-on-default-background));\n",
              "  background-size: 2px 100%;\n",
              "  background-repeat: no-repeat;\n",
              "  background-position: center center;\n",
              "}\n",
              "\n",
              "/* Parallel-specific style estimator block */\n",
              "\n",
              "#sk-container-id-1 div.sk-parallel-item::after {\n",
              "  content: \"\";\n",
              "  width: 100%;\n",
              "  border-bottom: 2px solid var(--sklearn-color-text-on-default-background);\n",
              "  flex-grow: 1;\n",
              "}\n",
              "\n",
              "#sk-container-id-1 div.sk-parallel {\n",
              "  display: flex;\n",
              "  align-items: stretch;\n",
              "  justify-content: center;\n",
              "  background-color: var(--sklearn-color-background);\n",
              "  position: relative;\n",
              "}\n",
              "\n",
              "#sk-container-id-1 div.sk-parallel-item {\n",
              "  display: flex;\n",
              "  flex-direction: column;\n",
              "}\n",
              "\n",
              "#sk-container-id-1 div.sk-parallel-item:first-child::after {\n",
              "  align-self: flex-end;\n",
              "  width: 50%;\n",
              "}\n",
              "\n",
              "#sk-container-id-1 div.sk-parallel-item:last-child::after {\n",
              "  align-self: flex-start;\n",
              "  width: 50%;\n",
              "}\n",
              "\n",
              "#sk-container-id-1 div.sk-parallel-item:only-child::after {\n",
              "  width: 0;\n",
              "}\n",
              "\n",
              "/* Serial-specific style estimator block */\n",
              "\n",
              "#sk-container-id-1 div.sk-serial {\n",
              "  display: flex;\n",
              "  flex-direction: column;\n",
              "  align-items: center;\n",
              "  background-color: var(--sklearn-color-background);\n",
              "  padding-right: 1em;\n",
              "  padding-left: 1em;\n",
              "}\n",
              "\n",
              "\n",
              "/* Toggleable style: style used for estimator/Pipeline/ColumnTransformer box that is\n",
              "clickable and can be expanded/collapsed.\n",
              "- Pipeline and ColumnTransformer use this feature and define the default style\n",
              "- Estimators will overwrite some part of the style using the `sk-estimator` class\n",
              "*/\n",
              "\n",
              "/* Pipeline and ColumnTransformer style (default) */\n",
              "\n",
              "#sk-container-id-1 div.sk-toggleable {\n",
              "  /* Default theme specific background. It is overwritten whether we have a\n",
              "  specific estimator or a Pipeline/ColumnTransformer */\n",
              "  background-color: var(--sklearn-color-background);\n",
              "}\n",
              "\n",
              "/* Toggleable label */\n",
              "#sk-container-id-1 label.sk-toggleable__label {\n",
              "  cursor: pointer;\n",
              "  display: flex;\n",
              "  width: 100%;\n",
              "  margin-bottom: 0;\n",
              "  padding: 0.5em;\n",
              "  box-sizing: border-box;\n",
              "  text-align: center;\n",
              "  align-items: start;\n",
              "  justify-content: space-between;\n",
              "  gap: 0.5em;\n",
              "}\n",
              "\n",
              "#sk-container-id-1 label.sk-toggleable__label .caption {\n",
              "  font-size: 0.6rem;\n",
              "  font-weight: lighter;\n",
              "  color: var(--sklearn-color-text-muted);\n",
              "}\n",
              "\n",
              "#sk-container-id-1 label.sk-toggleable__label-arrow:before {\n",
              "  /* Arrow on the left of the label */\n",
              "  content: \"▸\";\n",
              "  float: left;\n",
              "  margin-right: 0.25em;\n",
              "  color: var(--sklearn-color-icon);\n",
              "}\n",
              "\n",
              "#sk-container-id-1 label.sk-toggleable__label-arrow:hover:before {\n",
              "  color: var(--sklearn-color-text);\n",
              "}\n",
              "\n",
              "/* Toggleable content - dropdown */\n",
              "\n",
              "#sk-container-id-1 div.sk-toggleable__content {\n",
              "  max-height: 0;\n",
              "  max-width: 0;\n",
              "  overflow: hidden;\n",
              "  text-align: left;\n",
              "  /* unfitted */\n",
              "  background-color: var(--sklearn-color-unfitted-level-0);\n",
              "}\n",
              "\n",
              "#sk-container-id-1 div.sk-toggleable__content.fitted {\n",
              "  /* fitted */\n",
              "  background-color: var(--sklearn-color-fitted-level-0);\n",
              "}\n",
              "\n",
              "#sk-container-id-1 div.sk-toggleable__content pre {\n",
              "  margin: 0.2em;\n",
              "  border-radius: 0.25em;\n",
              "  color: var(--sklearn-color-text);\n",
              "  /* unfitted */\n",
              "  background-color: var(--sklearn-color-unfitted-level-0);\n",
              "}\n",
              "\n",
              "#sk-container-id-1 div.sk-toggleable__content.fitted pre {\n",
              "  /* unfitted */\n",
              "  background-color: var(--sklearn-color-fitted-level-0);\n",
              "}\n",
              "\n",
              "#sk-container-id-1 input.sk-toggleable__control:checked~div.sk-toggleable__content {\n",
              "  /* Expand drop-down */\n",
              "  max-height: 200px;\n",
              "  max-width: 100%;\n",
              "  overflow: auto;\n",
              "}\n",
              "\n",
              "#sk-container-id-1 input.sk-toggleable__control:checked~label.sk-toggleable__label-arrow:before {\n",
              "  content: \"▾\";\n",
              "}\n",
              "\n",
              "/* Pipeline/ColumnTransformer-specific style */\n",
              "\n",
              "#sk-container-id-1 div.sk-label input.sk-toggleable__control:checked~label.sk-toggleable__label {\n",
              "  color: var(--sklearn-color-text);\n",
              "  background-color: var(--sklearn-color-unfitted-level-2);\n",
              "}\n",
              "\n",
              "#sk-container-id-1 div.sk-label.fitted input.sk-toggleable__control:checked~label.sk-toggleable__label {\n",
              "  background-color: var(--sklearn-color-fitted-level-2);\n",
              "}\n",
              "\n",
              "/* Estimator-specific style */\n",
              "\n",
              "/* Colorize estimator box */\n",
              "#sk-container-id-1 div.sk-estimator input.sk-toggleable__control:checked~label.sk-toggleable__label {\n",
              "  /* unfitted */\n",
              "  background-color: var(--sklearn-color-unfitted-level-2);\n",
              "}\n",
              "\n",
              "#sk-container-id-1 div.sk-estimator.fitted input.sk-toggleable__control:checked~label.sk-toggleable__label {\n",
              "  /* fitted */\n",
              "  background-color: var(--sklearn-color-fitted-level-2);\n",
              "}\n",
              "\n",
              "#sk-container-id-1 div.sk-label label.sk-toggleable__label,\n",
              "#sk-container-id-1 div.sk-label label {\n",
              "  /* The background is the default theme color */\n",
              "  color: var(--sklearn-color-text-on-default-background);\n",
              "}\n",
              "\n",
              "/* On hover, darken the color of the background */\n",
              "#sk-container-id-1 div.sk-label:hover label.sk-toggleable__label {\n",
              "  color: var(--sklearn-color-text);\n",
              "  background-color: var(--sklearn-color-unfitted-level-2);\n",
              "}\n",
              "\n",
              "/* Label box, darken color on hover, fitted */\n",
              "#sk-container-id-1 div.sk-label.fitted:hover label.sk-toggleable__label.fitted {\n",
              "  color: var(--sklearn-color-text);\n",
              "  background-color: var(--sklearn-color-fitted-level-2);\n",
              "}\n",
              "\n",
              "/* Estimator label */\n",
              "\n",
              "#sk-container-id-1 div.sk-label label {\n",
              "  font-family: monospace;\n",
              "  font-weight: bold;\n",
              "  display: inline-block;\n",
              "  line-height: 1.2em;\n",
              "}\n",
              "\n",
              "#sk-container-id-1 div.sk-label-container {\n",
              "  text-align: center;\n",
              "}\n",
              "\n",
              "/* Estimator-specific */\n",
              "#sk-container-id-1 div.sk-estimator {\n",
              "  font-family: monospace;\n",
              "  border: 1px dotted var(--sklearn-color-border-box);\n",
              "  border-radius: 0.25em;\n",
              "  box-sizing: border-box;\n",
              "  margin-bottom: 0.5em;\n",
              "  /* unfitted */\n",
              "  background-color: var(--sklearn-color-unfitted-level-0);\n",
              "}\n",
              "\n",
              "#sk-container-id-1 div.sk-estimator.fitted {\n",
              "  /* fitted */\n",
              "  background-color: var(--sklearn-color-fitted-level-0);\n",
              "}\n",
              "\n",
              "/* on hover */\n",
              "#sk-container-id-1 div.sk-estimator:hover {\n",
              "  /* unfitted */\n",
              "  background-color: var(--sklearn-color-unfitted-level-2);\n",
              "}\n",
              "\n",
              "#sk-container-id-1 div.sk-estimator.fitted:hover {\n",
              "  /* fitted */\n",
              "  background-color: var(--sklearn-color-fitted-level-2);\n",
              "}\n",
              "\n",
              "/* Specification for estimator info (e.g. \"i\" and \"?\") */\n",
              "\n",
              "/* Common style for \"i\" and \"?\" */\n",
              "\n",
              ".sk-estimator-doc-link,\n",
              "a:link.sk-estimator-doc-link,\n",
              "a:visited.sk-estimator-doc-link {\n",
              "  float: right;\n",
              "  font-size: smaller;\n",
              "  line-height: 1em;\n",
              "  font-family: monospace;\n",
              "  background-color: var(--sklearn-color-background);\n",
              "  border-radius: 1em;\n",
              "  height: 1em;\n",
              "  width: 1em;\n",
              "  text-decoration: none !important;\n",
              "  margin-left: 0.5em;\n",
              "  text-align: center;\n",
              "  /* unfitted */\n",
              "  border: var(--sklearn-color-unfitted-level-1) 1pt solid;\n",
              "  color: var(--sklearn-color-unfitted-level-1);\n",
              "}\n",
              "\n",
              ".sk-estimator-doc-link.fitted,\n",
              "a:link.sk-estimator-doc-link.fitted,\n",
              "a:visited.sk-estimator-doc-link.fitted {\n",
              "  /* fitted */\n",
              "  border: var(--sklearn-color-fitted-level-1) 1pt solid;\n",
              "  color: var(--sklearn-color-fitted-level-1);\n",
              "}\n",
              "\n",
              "/* On hover */\n",
              "div.sk-estimator:hover .sk-estimator-doc-link:hover,\n",
              ".sk-estimator-doc-link:hover,\n",
              "div.sk-label-container:hover .sk-estimator-doc-link:hover,\n",
              ".sk-estimator-doc-link:hover {\n",
              "  /* unfitted */\n",
              "  background-color: var(--sklearn-color-unfitted-level-3);\n",
              "  color: var(--sklearn-color-background);\n",
              "  text-decoration: none;\n",
              "}\n",
              "\n",
              "div.sk-estimator.fitted:hover .sk-estimator-doc-link.fitted:hover,\n",
              ".sk-estimator-doc-link.fitted:hover,\n",
              "div.sk-label-container:hover .sk-estimator-doc-link.fitted:hover,\n",
              ".sk-estimator-doc-link.fitted:hover {\n",
              "  /* fitted */\n",
              "  background-color: var(--sklearn-color-fitted-level-3);\n",
              "  color: var(--sklearn-color-background);\n",
              "  text-decoration: none;\n",
              "}\n",
              "\n",
              "/* Span, style for the box shown on hovering the info icon */\n",
              ".sk-estimator-doc-link span {\n",
              "  display: none;\n",
              "  z-index: 9999;\n",
              "  position: relative;\n",
              "  font-weight: normal;\n",
              "  right: .2ex;\n",
              "  padding: .5ex;\n",
              "  margin: .5ex;\n",
              "  width: min-content;\n",
              "  min-width: 20ex;\n",
              "  max-width: 50ex;\n",
              "  color: var(--sklearn-color-text);\n",
              "  box-shadow: 2pt 2pt 4pt #999;\n",
              "  /* unfitted */\n",
              "  background: var(--sklearn-color-unfitted-level-0);\n",
              "  border: .5pt solid var(--sklearn-color-unfitted-level-3);\n",
              "}\n",
              "\n",
              ".sk-estimator-doc-link.fitted span {\n",
              "  /* fitted */\n",
              "  background: var(--sklearn-color-fitted-level-0);\n",
              "  border: var(--sklearn-color-fitted-level-3);\n",
              "}\n",
              "\n",
              ".sk-estimator-doc-link:hover span {\n",
              "  display: block;\n",
              "}\n",
              "\n",
              "/* \"?\"-specific style due to the `<a>` HTML tag */\n",
              "\n",
              "#sk-container-id-1 a.estimator_doc_link {\n",
              "  float: right;\n",
              "  font-size: 1rem;\n",
              "  line-height: 1em;\n",
              "  font-family: monospace;\n",
              "  background-color: var(--sklearn-color-background);\n",
              "  border-radius: 1rem;\n",
              "  height: 1rem;\n",
              "  width: 1rem;\n",
              "  text-decoration: none;\n",
              "  /* unfitted */\n",
              "  color: var(--sklearn-color-unfitted-level-1);\n",
              "  border: var(--sklearn-color-unfitted-level-1) 1pt solid;\n",
              "}\n",
              "\n",
              "#sk-container-id-1 a.estimator_doc_link.fitted {\n",
              "  /* fitted */\n",
              "  border: var(--sklearn-color-fitted-level-1) 1pt solid;\n",
              "  color: var(--sklearn-color-fitted-level-1);\n",
              "}\n",
              "\n",
              "/* On hover */\n",
              "#sk-container-id-1 a.estimator_doc_link:hover {\n",
              "  /* unfitted */\n",
              "  background-color: var(--sklearn-color-unfitted-level-3);\n",
              "  color: var(--sklearn-color-background);\n",
              "  text-decoration: none;\n",
              "}\n",
              "\n",
              "#sk-container-id-1 a.estimator_doc_link.fitted:hover {\n",
              "  /* fitted */\n",
              "  background-color: var(--sklearn-color-fitted-level-3);\n",
              "}\n",
              "</style><div id=\"sk-container-id-1\" class=\"sk-top-container\"><div class=\"sk-text-repr-fallback\"><pre>LinearRegression()</pre><b>In a Jupyter environment, please rerun this cell to show the HTML representation or trust the notebook. <br />On GitHub, the HTML representation is unable to render, please try loading this page with nbviewer.org.</b></div><div class=\"sk-container\" hidden><div class=\"sk-item\"><div class=\"sk-estimator fitted sk-toggleable\"><input class=\"sk-toggleable__control sk-hidden--visually\" id=\"sk-estimator-id-1\" type=\"checkbox\" checked><label for=\"sk-estimator-id-1\" class=\"sk-toggleable__label fitted sk-toggleable__label-arrow\"><div><div>LinearRegression</div></div><div><a class=\"sk-estimator-doc-link fitted\" rel=\"noreferrer\" target=\"_blank\" href=\"https://scikit-learn.org/1.6/modules/generated/sklearn.linear_model.LinearRegression.html\">?<span>Documentation for LinearRegression</span></a><span class=\"sk-estimator-doc-link fitted\">i<span>Fitted</span></span></div></label><div class=\"sk-toggleable__content fitted\"><pre>LinearRegression()</pre></div> </div></div></div></div>"
            ]
          },
          "metadata": {},
          "execution_count": 58
        }
      ],
      "source": [
        "#Find the model to import then train it using X and y (ages and fares)\n",
        "\n",
        "from sklearn.linear_model import LinearRegression\n",
        "\n",
        "model = LinearRegression()\n",
        "model.fit(X, y)  #fit the model to the data"
      ]
    },
    {
      "cell_type": "code",
      "execution_count": 59,
      "metadata": {
        "id": "QNFishy7xa5g",
        "colab": {
          "base_uri": "https://localhost:8080/"
        },
        "outputId": "9ffa78a7-eee8-45e3-cea1-6a718951c273"
      },
      "outputs": [
        {
          "output_type": "stream",
          "name": "stdout",
          "text": [
            "[[0.18813259]] [0.51682211]\n"
          ]
        }
      ],
      "source": [
        "#This is way we can get w and b from the trained model\n",
        "\n",
        "print(model.coef_, model.intercept_)  #[[0.18813259]] [0.51682211] - I am getting different results here on different runs. Unclear why.\n",
        "\n"
      ]
    },
    {
      "cell_type": "markdown",
      "metadata": {
        "id": "bMUCbN8p1oJL"
      },
      "source": [
        "<img src='https://www.dropbox.com/s/8x575mvbi1xumje/cash_line.png?raw=1' height=3 width=500><br>\n",
        "<img src='https://www.gannett-cdn.com/-mm-/56cbeec8287997813f287995de67747ba5e101d5/c=9-0-1280-718/local/-/media/2018/02/15/Phoenix/Phoenix/636542954131413889-image.jpg'\n",
        "height=50 align=center>\n",
        "\n",
        "Go ahead and get predictions. Remember that reshaping issue.\n",
        "\n",
        "And remember you are predicting on the test set not the training set.\n",
        "\n"
      ]
    },
    {
      "cell_type": "code",
      "execution_count": 60,
      "metadata": {
        "id": "q3tlQMcZwt6c"
      },
      "outputs": [],
      "source": [
        "#google for method that will give you predictions from a model\n",
        "predictions = model.predict(X_test_transformed['Age'].to_numpy().reshape(-1, 1))"
      ]
    },
    {
      "cell_type": "code",
      "execution_count": 61,
      "metadata": {
        "id": "rP6OfVvbyr96",
        "colab": {
          "base_uri": "https://localhost:8080/"
        },
        "outputId": "e9119511-a702-4699-eab1-3291519adf79"
      },
      "outputs": [
        {
          "output_type": "stream",
          "name": "stdout",
          "text": [
            "[[0.5069204 ]\n",
            " [0.33859124]\n",
            " [0.7049547 ]\n",
            " [0.55642898]\n",
            " [0.44751011]]\n"
          ]
        }
      ],
      "source": [
        "print(predictions[:5])"
      ]
    },
    {
      "cell_type": "markdown",
      "metadata": {
        "id": "JZOFGM5ic2iD"
      },
      "source": [
        "<pre>\n",
        "[[0.5069204 ]\n",
        " [0.33859124]\n",
        " [0.7049547 ]\n",
        " [0.55642898]\n",
        " [0.44751011]]\n",
        " </pre>"
      ]
    },
    {
      "cell_type": "markdown",
      "metadata": {
        "id": "k4hLvlPX294L"
      },
      "source": [
        "<img src='https://www.dropbox.com/s/8x575mvbi1xumje/cash_line.png?raw=1' height=3 width=500><br>\n",
        "<img src='https://www.gannett-cdn.com/-mm-/56cbeec8287997813f287995de67747ba5e101d5/c=9-0-1280-718/local/-/media/2018/02/15/Phoenix/Phoenix/636542954131413889-image.jpg'\n",
        "height=50 align=center>\n",
        "\n",
        "Last step. Ask Gemini about sklearn and mean square error function. Apply it to `predictions` you have. You will see that sklearn out did us. Has lower mse.\n",
        "\n"
      ]
    },
    {
      "cell_type": "code",
      "execution_count": 62,
      "metadata": {
        "id": "_Z9lFR0B2HTw"
      },
      "outputs": [],
      "source": [
        "from sklearn.metrics import mean_squared_error\n",
        "mse = mean_squared_error(X_test_transformed['Fare'].to_numpy().reshape(-1, 1), predictions)"
      ]
    },
    {
      "cell_type": "code",
      "execution_count": 63,
      "metadata": {
        "id": "qGGQ5f4qzYbd",
        "colab": {
          "base_uri": "https://localhost:8080/"
        },
        "outputId": "1787ecdf-470c-452e-f709-51ebd0a064d8"
      },
      "outputs": [
        {
          "output_type": "stream",
          "name": "stdout",
          "text": [
            "1.5703918246214141\n"
          ]
        }
      ],
      "source": [
        "print(mse)  #1.5703918246214141 vs home grown 1.5971286308679484"
      ]
    },
    {
      "cell_type": "markdown",
      "metadata": {
        "id": "rx2eF2Zfjq6s"
      },
      "source": [
        "### Looks like sklearn beating our home-grown!"
      ]
    },
    {
      "cell_type": "markdown",
      "metadata": {
        "id": "Zki_T9X7dfrd"
      },
      "source": [
        "# X. Logistic Regression\n",
        "\n",
        "We have been looking at linear regression, where our target column is continuous (as opposed to categorical or binary). We can modify linear regression to get to a new algorithm that is good for binary prediction in particular, e.g., the `Survived` column. The new algorithm is called Logistic Regression. All it does is add another step to computing yhat. So we still do this:\n",
        "<pre>\n",
        "yraw = xi*w+b\n",
        "</pre>\n",
        "But we now add:\n",
        "<pre>\n",
        "yhat = sigmoid(yraw)  #value between 0 and 1 inclusive\n",
        "</pre>\n",
        "I'll give you a brief rundown of the sigmoid function (also called the logistic function). Its definition is below.\n",
        "<pre>\n",
        "S(x) = 1/(1 + e**-x)\n",
        "</pre>\n",
        "Here is its plot:\n",
        "\n",
        "<img src='https://www.dropbox.com/s/o49viq5kz4lgm15/Screen%20Shot%202021-09-24%20at%208.49.07%20AM.png?raw=1' height=200>\n",
        "\n",
        "So the x axis is the raw output from `xi*w+b`. That gets mapped to values between 0 and 1 on the y axis.\n"
      ]
    },
    {
      "cell_type": "markdown",
      "metadata": {
        "id": "aRUSIdF4hUcp"
      },
      "source": [
        "## New loss/cost function\n",
        "\n",
        "The typical loss function used with logistic regression is as follows (fancy name is *cross-entropy loss*):\n",
        "\n",
        "<img src='https://www.dropbox.com/s/2mwvgbp0mfxwkgs/Screen%20Shot%202021-09-24%20at%208.57.36%20AM.png?raw=1' height=75>\n",
        "\n",
        "Where `hθ(x)` is `x*w+b` which is the raw output of linear regression. And `y` is the actual value, i.e., the binary label.\n",
        "\n",
        "This new cost function is not exactly intuitive. I am going to point you to a good tutorial if you want to dig deeper: https://towardsdatascience.com/understanding-binary-cross-entropy-log-loss-a-visual-explanation-a3ac6025181a.\n"
      ]
    },
    {
      "cell_type": "markdown",
      "metadata": {
        "id": "JdJJra11ko1_"
      },
      "source": [
        "## New functions mean expanding chain rule\n",
        "\n",
        "Gradient descent does not change. It just gets a bit more complicated. Before we were computing partial derivatives for MSE. Now we have cross-entropy loss. And further complicating things, we have added the sigmoid function into the mix. So now we have something like f(g(h(x))), i.e., 3 nested functions where f is loss, g is sigmoid and h is raw linear. But good news, the chain rule still works. And all 3 functions have derivatives. I'll skip the details but give you a place to follow along if interested."
      ]
    },
    {
      "cell_type": "markdown",
      "metadata": {
        "id": "vUKx6bJlsTgI"
      },
      "source": [
        "### But just for giggles, derivate of sigmoid\n",
        "\n",
        "<pre>\n",
        "S(x) = 1/(1 + e**-x)\n",
        "\n",
        "dS(x)/dx = S(x)*(1 - S(x))\n",
        "</pre>\n",
        "\n",
        "[Here is derivation in long hand](https://hausetutorials.netlify.app/posts/2019-12-01-neural-networks-deriving-the-sigmoid-derivative/)."
      ]
    },
    {
      "cell_type": "markdown",
      "metadata": {
        "id": "odU2k9XujgRy"
      },
      "source": [
        "### Further reading\n",
        "\n",
        "I found [this paper](https://web.stanford.edu/~jurafsky/slp3/5.pdf) a good intro with examples of the various aspects of logistic regression.\n",
        "\n",
        "We will put the logistic regression algorithm to use in the next chapter."
      ]
    },
    {
      "cell_type": "markdown",
      "metadata": {
        "id": "t9EIoEra4NA9"
      },
      "source": [
        "# III. Summary\n",
        "\n",
        "We introduced concepts that we will see over and over. The idea of training on one set then testing on another. The idea of gradient descent to accomplish \"learning\". The use of a learning rate to moderate changes. The ideas of batch and epochs used during training.\n",
        "\n",
        "We saw that we need a cost or loss function. For linear regression that is typically MSE. For logistic regression that is typically cross-entropy loss.\n",
        "\n",
        "One reason I like starting with the relatively simple examples of linear and logistic regression is because they have many of the features found in the highly touted concept of deep learning. We will get to deep learning later in the course, and can look back at concepts here as a grounding."
      ]
    },
    {
      "cell_type": "markdown",
      "metadata": {
        "id": "8CkFUuwPyFjg"
      },
      "source": [
        "# Challenge 1\n",
        "\n",
        "Compute `gradient_w` and `gradient_b` for xi = `ages[1]`. Use given weight values to start with.\n",
        "\n",
        "Use `(yhat - yi)**2` as squared error function.\n"
      ]
    },
    {
      "cell_type": "code",
      "execution_count": 64,
      "metadata": {
        "id": "cwP-wCQrnYmZ"
      },
      "outputs": [],
      "source": [
        "ages = X_train_transformed['Age'].to_list()\n",
        "fare_labels = X_train_transformed['Fare'].to_list()  #the yi values"
      ]
    },
    {
      "cell_type": "code",
      "execution_count": 65,
      "metadata": {
        "id": "o0bjKipQX8oL",
        "colab": {
          "base_uri": "https://localhost:8080/"
        },
        "outputId": "5608d788-cdbb-4175-dcda-36d9c6ec73e1"
      },
      "outputs": [
        {
          "output_type": "execute_result",
          "data": {
            "text/plain": [
              "[0.7894736842105263,\n",
              " -1.3157894736842106,\n",
              " 0.05263157894736842,\n",
              " -0.42105263157894735,\n",
              " 0.3157894736842105,\n",
              " 0.10526315789473684,\n",
              " 0.631578947368421,\n",
              " 0.47368421052631576,\n",
              " 0.47368421052631576,\n",
              " -0.2631578947368421]"
            ]
          },
          "metadata": {},
          "execution_count": 65
        }
      ],
      "source": [
        "ages[:10]  #Reminder what in ages"
      ]
    },
    {
      "cell_type": "code",
      "execution_count": 66,
      "metadata": {
        "id": "H587jb3AYCzL",
        "colab": {
          "base_uri": "https://localhost:8080/"
        },
        "outputId": "9dc5f7b6-b357-4978-eb2a-c7f204b62271"
      },
      "outputs": [
        {
          "output_type": "execute_result",
          "data": {
            "text/plain": [
              "[-0.2608695652173913,\n",
              " 0.6086956521739131,\n",
              " 3.739130434782609,\n",
              " 0.5652173913043478,\n",
              " -0.13043478260869565,\n",
              " -0.5652173913043478,\n",
              " 0.5652173913043478,\n",
              " 0.0,\n",
              " -0.5652173913043478,\n",
              " -0.2608695652173913]"
            ]
          },
          "metadata": {},
          "execution_count": 66
        }
      ],
      "source": [
        "fare_labels[:10]  #Reminder what in fares (what we are tring to predict)"
      ]
    },
    {
      "cell_type": "code",
      "execution_count": 67,
      "metadata": {
        "id": "TCTHK7dsx-Pb"
      },
      "outputs": [],
      "source": [
        "#starting values\n",
        "\n",
        "xi = ages[1]\n",
        "w,b = (0.4587647933330355, 0.002021042256967478)\n",
        "lr = .001"
      ]
    },
    {
      "cell_type": "code",
      "execution_count": 68,
      "metadata": {
        "id": "2exDuwJW3yJw"
      },
      "outputs": [],
      "source": [
        "#your code below to compute 2 gradients\n",
        "yi = fare_labels[1]\n",
        "yhat = w * xi + b\n",
        "gradient_w = 2*(yhat - yi) * xi\n",
        "gradient_b = 2*(yhat - yi) * 1"
      ]
    },
    {
      "cell_type": "code",
      "execution_count": 69,
      "metadata": {
        "id": "9ag81TjOY8VY",
        "colab": {
          "base_uri": "https://localhost:8080/"
        },
        "outputId": "c0476b86-0438-4a3b-c39e-43003052e030"
      },
      "outputs": [
        {
          "output_type": "execute_result",
          "data": {
            "text/plain": [
              "(3.185032883898595, -2.420624991762932)"
            ]
          },
          "metadata": {},
          "execution_count": 69
        }
      ],
      "source": [
        "(gradient_w, gradient_b)  #(3.185032883898595, -2.420624991762932)"
      ]
    },
    {
      "cell_type": "markdown",
      "metadata": {
        "id": "wZXyXqzD4ehQ"
      },
      "source": [
        "### Notice positive slope\n",
        "\n",
        "So on right hand side of curve. Need to move left, i.e., decrease weights."
      ]
    },
    {
      "cell_type": "markdown",
      "metadata": {
        "id": "2mGgdSTD4IJd"
      },
      "source": [
        "### Compute new weight values\n"
      ]
    },
    {
      "cell_type": "code",
      "execution_count": 70,
      "metadata": {
        "id": "Llm7CAHO4ZN8"
      },
      "outputs": [],
      "source": [
        "#your code below\n",
        "w = w - lr*gradient_w\n",
        "b = b - lr*gradient_b\n"
      ]
    },
    {
      "cell_type": "code",
      "execution_count": 71,
      "metadata": {
        "id": "SxMKpRD-ZFre",
        "colab": {
          "base_uri": "https://localhost:8080/"
        },
        "outputId": "a78090fe-5fc5-4b3c-f8f7-78fc962649e1"
      },
      "outputs": [
        {
          "output_type": "execute_result",
          "data": {
            "text/plain": [
              "(0.4555797604491369, 0.004441667248730409)"
            ]
          },
          "metadata": {},
          "execution_count": 71
        }
      ],
      "source": [
        "(w,b)  #new: (0.4555797604491369, 0.004441667248730409), old: (0.4587647933330355, 0.002021042256967478)"
      ]
    },
    {
      "cell_type": "markdown",
      "metadata": {
        "id": "tO830Kj844n1"
      },
      "source": [
        "They are smaller. That's what we expect."
      ]
    },
    {
      "cell_type": "markdown",
      "metadata": {
        "id": "6aFJ_9BT5Wfz"
      },
      "source": [
        "# Challenge 2\n",
        "\n",
        "Bring in customer database.\n",
        "\n",
        "Then follow steps below.\n"
      ]
    },
    {
      "cell_type": "markdown",
      "metadata": {
        "id": "fjCxL2AQ5r7e"
      },
      "source": [
        "## Step 1.\n",
        "\n",
        "Split then pipeline both pieces. You should have value of `random_state` from prior notebook.\n"
      ]
    },
    {
      "cell_type": "code",
      "execution_count": 72,
      "metadata": {
        "id": "0mV_4aTzo1Bi"
      },
      "outputs": [],
      "source": [
        "url = 'https://docs.google.com/spreadsheets/d/e/2PACX-1vQPM6PqZXgmAHfRYTcDZseyALRyVwkBtKEo_rtaKq_C7T0jycWxH6QVEzTzJCRA0m8Vz0k68eM9tDm-/pub?output=csv'"
      ]
    },
    {
      "cell_type": "code",
      "execution_count": 73,
      "metadata": {
        "id": "XEQwkk2Co1Bi",
        "colab": {
          "base_uri": "https://localhost:8080/",
          "height": 206
        },
        "outputId": "a2be7d38-5d32-477c-b573-3def0437c969"
      },
      "outputs": [
        {
          "output_type": "execute_result",
          "data": {
            "text/plain": [
              "   Gender Experience Level  Time Spent       OS      ISP   Age  Rating\n",
              "0  Female           medium         NaN      iOS  Xfinity   NaN       0\n",
              "1    Male           medium       71.97  Android      Cox  50.0       0\n",
              "2  Female           medium      101.81      NaN      Cox  49.0       1\n",
              "3  Female           medium       86.37  Android  Xfinity  53.0       0\n",
              "4  Female           medium      103.97      iOS  Xfinity  58.0       0"
            ],
            "text/html": [
              "\n",
              "  <div id=\"df-4e14cb36-cce0-4c90-9bf0-9e0f3c224326\" class=\"colab-df-container\">\n",
              "    <div>\n",
              "<style scoped>\n",
              "    .dataframe tbody tr th:only-of-type {\n",
              "        vertical-align: middle;\n",
              "    }\n",
              "\n",
              "    .dataframe tbody tr th {\n",
              "        vertical-align: top;\n",
              "    }\n",
              "\n",
              "    .dataframe thead th {\n",
              "        text-align: right;\n",
              "    }\n",
              "</style>\n",
              "<table border=\"1\" class=\"dataframe\">\n",
              "  <thead>\n",
              "    <tr style=\"text-align: right;\">\n",
              "      <th></th>\n",
              "      <th>Gender</th>\n",
              "      <th>Experience Level</th>\n",
              "      <th>Time Spent</th>\n",
              "      <th>OS</th>\n",
              "      <th>ISP</th>\n",
              "      <th>Age</th>\n",
              "      <th>Rating</th>\n",
              "    </tr>\n",
              "  </thead>\n",
              "  <tbody>\n",
              "    <tr>\n",
              "      <th>0</th>\n",
              "      <td>Female</td>\n",
              "      <td>medium</td>\n",
              "      <td>NaN</td>\n",
              "      <td>iOS</td>\n",
              "      <td>Xfinity</td>\n",
              "      <td>NaN</td>\n",
              "      <td>0</td>\n",
              "    </tr>\n",
              "    <tr>\n",
              "      <th>1</th>\n",
              "      <td>Male</td>\n",
              "      <td>medium</td>\n",
              "      <td>71.97</td>\n",
              "      <td>Android</td>\n",
              "      <td>Cox</td>\n",
              "      <td>50.0</td>\n",
              "      <td>0</td>\n",
              "    </tr>\n",
              "    <tr>\n",
              "      <th>2</th>\n",
              "      <td>Female</td>\n",
              "      <td>medium</td>\n",
              "      <td>101.81</td>\n",
              "      <td>NaN</td>\n",
              "      <td>Cox</td>\n",
              "      <td>49.0</td>\n",
              "      <td>1</td>\n",
              "    </tr>\n",
              "    <tr>\n",
              "      <th>3</th>\n",
              "      <td>Female</td>\n",
              "      <td>medium</td>\n",
              "      <td>86.37</td>\n",
              "      <td>Android</td>\n",
              "      <td>Xfinity</td>\n",
              "      <td>53.0</td>\n",
              "      <td>0</td>\n",
              "    </tr>\n",
              "    <tr>\n",
              "      <th>4</th>\n",
              "      <td>Female</td>\n",
              "      <td>medium</td>\n",
              "      <td>103.97</td>\n",
              "      <td>iOS</td>\n",
              "      <td>Xfinity</td>\n",
              "      <td>58.0</td>\n",
              "      <td>0</td>\n",
              "    </tr>\n",
              "  </tbody>\n",
              "</table>\n",
              "</div>\n",
              "    <div class=\"colab-df-buttons\">\n",
              "\n",
              "  <div class=\"colab-df-container\">\n",
              "    <button class=\"colab-df-convert\" onclick=\"convertToInteractive('df-4e14cb36-cce0-4c90-9bf0-9e0f3c224326')\"\n",
              "            title=\"Convert this dataframe to an interactive table.\"\n",
              "            style=\"display:none;\">\n",
              "\n",
              "  <svg xmlns=\"http://www.w3.org/2000/svg\" height=\"24px\" viewBox=\"0 -960 960 960\">\n",
              "    <path d=\"M120-120v-720h720v720H120Zm60-500h600v-160H180v160Zm220 220h160v-160H400v160Zm0 220h160v-160H400v160ZM180-400h160v-160H180v160Zm440 0h160v-160H620v160ZM180-180h160v-160H180v160Zm440 0h160v-160H620v160Z\"/>\n",
              "  </svg>\n",
              "    </button>\n",
              "\n",
              "  <style>\n",
              "    .colab-df-container {\n",
              "      display:flex;\n",
              "      gap: 12px;\n",
              "    }\n",
              "\n",
              "    .colab-df-convert {\n",
              "      background-color: #E8F0FE;\n",
              "      border: none;\n",
              "      border-radius: 50%;\n",
              "      cursor: pointer;\n",
              "      display: none;\n",
              "      fill: #1967D2;\n",
              "      height: 32px;\n",
              "      padding: 0 0 0 0;\n",
              "      width: 32px;\n",
              "    }\n",
              "\n",
              "    .colab-df-convert:hover {\n",
              "      background-color: #E2EBFA;\n",
              "      box-shadow: 0px 1px 2px rgba(60, 64, 67, 0.3), 0px 1px 3px 1px rgba(60, 64, 67, 0.15);\n",
              "      fill: #174EA6;\n",
              "    }\n",
              "\n",
              "    .colab-df-buttons div {\n",
              "      margin-bottom: 4px;\n",
              "    }\n",
              "\n",
              "    [theme=dark] .colab-df-convert {\n",
              "      background-color: #3B4455;\n",
              "      fill: #D2E3FC;\n",
              "    }\n",
              "\n",
              "    [theme=dark] .colab-df-convert:hover {\n",
              "      background-color: #434B5C;\n",
              "      box-shadow: 0px 1px 3px 1px rgba(0, 0, 0, 0.15);\n",
              "      filter: drop-shadow(0px 1px 2px rgba(0, 0, 0, 0.3));\n",
              "      fill: #FFFFFF;\n",
              "    }\n",
              "  </style>\n",
              "\n",
              "    <script>\n",
              "      const buttonEl =\n",
              "        document.querySelector('#df-4e14cb36-cce0-4c90-9bf0-9e0f3c224326 button.colab-df-convert');\n",
              "      buttonEl.style.display =\n",
              "        google.colab.kernel.accessAllowed ? 'block' : 'none';\n",
              "\n",
              "      async function convertToInteractive(key) {\n",
              "        const element = document.querySelector('#df-4e14cb36-cce0-4c90-9bf0-9e0f3c224326');\n",
              "        const dataTable =\n",
              "          await google.colab.kernel.invokeFunction('convertToInteractive',\n",
              "                                                    [key], {});\n",
              "        if (!dataTable) return;\n",
              "\n",
              "        const docLinkHtml = 'Like what you see? Visit the ' +\n",
              "          '<a target=\"_blank\" href=https://colab.research.google.com/notebooks/data_table.ipynb>data table notebook</a>'\n",
              "          + ' to learn more about interactive tables.';\n",
              "        element.innerHTML = '';\n",
              "        dataTable['output_type'] = 'display_data';\n",
              "        await google.colab.output.renderOutput(dataTable, element);\n",
              "        const docLink = document.createElement('div');\n",
              "        docLink.innerHTML = docLinkHtml;\n",
              "        element.appendChild(docLink);\n",
              "      }\n",
              "    </script>\n",
              "  </div>\n",
              "\n",
              "\n",
              "    <div id=\"df-906dc5ad-0378-4707-82ed-20e9db1a3ac6\">\n",
              "      <button class=\"colab-df-quickchart\" onclick=\"quickchart('df-906dc5ad-0378-4707-82ed-20e9db1a3ac6')\"\n",
              "                title=\"Suggest charts\"\n",
              "                style=\"display:none;\">\n",
              "\n",
              "<svg xmlns=\"http://www.w3.org/2000/svg\" height=\"24px\"viewBox=\"0 0 24 24\"\n",
              "     width=\"24px\">\n",
              "    <g>\n",
              "        <path d=\"M19 3H5c-1.1 0-2 .9-2 2v14c0 1.1.9 2 2 2h14c1.1 0 2-.9 2-2V5c0-1.1-.9-2-2-2zM9 17H7v-7h2v7zm4 0h-2V7h2v10zm4 0h-2v-4h2v4z\"/>\n",
              "    </g>\n",
              "</svg>\n",
              "      </button>\n",
              "\n",
              "<style>\n",
              "  .colab-df-quickchart {\n",
              "      --bg-color: #E8F0FE;\n",
              "      --fill-color: #1967D2;\n",
              "      --hover-bg-color: #E2EBFA;\n",
              "      --hover-fill-color: #174EA6;\n",
              "      --disabled-fill-color: #AAA;\n",
              "      --disabled-bg-color: #DDD;\n",
              "  }\n",
              "\n",
              "  [theme=dark] .colab-df-quickchart {\n",
              "      --bg-color: #3B4455;\n",
              "      --fill-color: #D2E3FC;\n",
              "      --hover-bg-color: #434B5C;\n",
              "      --hover-fill-color: #FFFFFF;\n",
              "      --disabled-bg-color: #3B4455;\n",
              "      --disabled-fill-color: #666;\n",
              "  }\n",
              "\n",
              "  .colab-df-quickchart {\n",
              "    background-color: var(--bg-color);\n",
              "    border: none;\n",
              "    border-radius: 50%;\n",
              "    cursor: pointer;\n",
              "    display: none;\n",
              "    fill: var(--fill-color);\n",
              "    height: 32px;\n",
              "    padding: 0;\n",
              "    width: 32px;\n",
              "  }\n",
              "\n",
              "  .colab-df-quickchart:hover {\n",
              "    background-color: var(--hover-bg-color);\n",
              "    box-shadow: 0 1px 2px rgba(60, 64, 67, 0.3), 0 1px 3px 1px rgba(60, 64, 67, 0.15);\n",
              "    fill: var(--button-hover-fill-color);\n",
              "  }\n",
              "\n",
              "  .colab-df-quickchart-complete:disabled,\n",
              "  .colab-df-quickchart-complete:disabled:hover {\n",
              "    background-color: var(--disabled-bg-color);\n",
              "    fill: var(--disabled-fill-color);\n",
              "    box-shadow: none;\n",
              "  }\n",
              "\n",
              "  .colab-df-spinner {\n",
              "    border: 2px solid var(--fill-color);\n",
              "    border-color: transparent;\n",
              "    border-bottom-color: var(--fill-color);\n",
              "    animation:\n",
              "      spin 1s steps(1) infinite;\n",
              "  }\n",
              "\n",
              "  @keyframes spin {\n",
              "    0% {\n",
              "      border-color: transparent;\n",
              "      border-bottom-color: var(--fill-color);\n",
              "      border-left-color: var(--fill-color);\n",
              "    }\n",
              "    20% {\n",
              "      border-color: transparent;\n",
              "      border-left-color: var(--fill-color);\n",
              "      border-top-color: var(--fill-color);\n",
              "    }\n",
              "    30% {\n",
              "      border-color: transparent;\n",
              "      border-left-color: var(--fill-color);\n",
              "      border-top-color: var(--fill-color);\n",
              "      border-right-color: var(--fill-color);\n",
              "    }\n",
              "    40% {\n",
              "      border-color: transparent;\n",
              "      border-right-color: var(--fill-color);\n",
              "      border-top-color: var(--fill-color);\n",
              "    }\n",
              "    60% {\n",
              "      border-color: transparent;\n",
              "      border-right-color: var(--fill-color);\n",
              "    }\n",
              "    80% {\n",
              "      border-color: transparent;\n",
              "      border-right-color: var(--fill-color);\n",
              "      border-bottom-color: var(--fill-color);\n",
              "    }\n",
              "    90% {\n",
              "      border-color: transparent;\n",
              "      border-bottom-color: var(--fill-color);\n",
              "    }\n",
              "  }\n",
              "</style>\n",
              "\n",
              "      <script>\n",
              "        async function quickchart(key) {\n",
              "          const quickchartButtonEl =\n",
              "            document.querySelector('#' + key + ' button');\n",
              "          quickchartButtonEl.disabled = true;  // To prevent multiple clicks.\n",
              "          quickchartButtonEl.classList.add('colab-df-spinner');\n",
              "          try {\n",
              "            const charts = await google.colab.kernel.invokeFunction(\n",
              "                'suggestCharts', [key], {});\n",
              "          } catch (error) {\n",
              "            console.error('Error during call to suggestCharts:', error);\n",
              "          }\n",
              "          quickchartButtonEl.classList.remove('colab-df-spinner');\n",
              "          quickchartButtonEl.classList.add('colab-df-quickchart-complete');\n",
              "        }\n",
              "        (() => {\n",
              "          let quickchartButtonEl =\n",
              "            document.querySelector('#df-906dc5ad-0378-4707-82ed-20e9db1a3ac6 button');\n",
              "          quickchartButtonEl.style.display =\n",
              "            google.colab.kernel.accessAllowed ? 'block' : 'none';\n",
              "        })();\n",
              "      </script>\n",
              "    </div>\n",
              "\n",
              "    </div>\n",
              "  </div>\n"
            ],
            "application/vnd.google.colaboratory.intrinsic+json": {
              "type": "dataframe",
              "variable_name": "customers_trimmed",
              "summary": "{\n  \"name\": \"customers_trimmed\",\n  \"rows\": 977,\n  \"fields\": [\n    {\n      \"column\": \"Gender\",\n      \"properties\": {\n        \"dtype\": \"category\",\n        \"num_unique_values\": 2,\n        \"samples\": [\n          \"Male\",\n          \"Female\"\n        ],\n        \"semantic_type\": \"\",\n        \"description\": \"\"\n      }\n    },\n    {\n      \"column\": \"Experience Level\",\n      \"properties\": {\n        \"dtype\": \"category\",\n        \"num_unique_values\": 3,\n        \"samples\": [\n          \"medium\",\n          \"low\"\n        ],\n        \"semantic_type\": \"\",\n        \"description\": \"\"\n      }\n    },\n    {\n      \"column\": \"Time Spent\",\n      \"properties\": {\n        \"dtype\": \"number\",\n        \"std\": 11.236693297839539,\n        \"min\": 62.43,\n        \"max\": 144.95,\n        \"num_unique_values\": 738,\n        \"samples\": [\n          107.36,\n          71.67\n        ],\n        \"semantic_type\": \"\",\n        \"description\": \"\"\n      }\n    },\n    {\n      \"column\": \"OS\",\n      \"properties\": {\n        \"dtype\": \"category\",\n        \"num_unique_values\": 2,\n        \"samples\": [\n          \"Android\",\n          \"iOS\"\n        ],\n        \"semantic_type\": \"\",\n        \"description\": \"\"\n      }\n    },\n    {\n      \"column\": \"ISP\",\n      \"properties\": {\n        \"dtype\": \"category\",\n        \"num_unique_values\": 4,\n        \"samples\": [\n          \"Cox\",\n          \"AT&T\"\n        ],\n        \"semantic_type\": \"\",\n        \"description\": \"\"\n      }\n    },\n    {\n      \"column\": \"Age\",\n      \"properties\": {\n        \"dtype\": \"number\",\n        \"std\": 10.652659220442612,\n        \"min\": 18.0,\n        \"max\": 75.0,\n        \"num_unique_values\": 56,\n        \"samples\": [\n          50.0,\n          64.0\n        ],\n        \"semantic_type\": \"\",\n        \"description\": \"\"\n      }\n    },\n    {\n      \"column\": \"Rating\",\n      \"properties\": {\n        \"dtype\": \"number\",\n        \"std\": 0,\n        \"min\": 0,\n        \"max\": 1,\n        \"num_unique_values\": 2,\n        \"samples\": [\n          1,\n          0\n        ],\n        \"semantic_type\": \"\",\n        \"description\": \"\"\n      }\n    }\n  ]\n}"
            }
          },
          "metadata": {},
          "execution_count": 73
        }
      ],
      "source": [
        "customers_df = pd.read_csv(url)\n",
        "customers_trimmed = customers_df.drop(columns='ID')  #this is a useless column which we will drop early\n",
        "customers_trimmed = customers_trimmed.drop_duplicates(ignore_index=True)  #get rid of any duplicates\n",
        "customers_trimmed.head()"
      ]
    },
    {
      "cell_type": "code",
      "execution_count": 74,
      "metadata": {
        "id": "DFw3ajT5fN_d"
      },
      "outputs": [],
      "source": [
        "customers_features = customers_trimmed.drop(columns=['Rating'])\n",
        "labels = customers_trimmed['Rating'].to_list()"
      ]
    },
    {
      "cell_type": "code",
      "execution_count": 75,
      "metadata": {
        "id": "g5XN6ImKT1qn"
      },
      "outputs": [],
      "source": [
        "# remember to use the random seed that you found earlier\n",
        "X_train, X_test, y_train, y_test = train_test_split(\n",
        "    customers_trimmed,\n",
        "    labels,\n",
        "    test_size=0.2,\n",
        "    shuffle=True,\n",
        "    random_state=customer_variance_based_split,\n",
        "    stratify=labels,\n",
        ")"
      ]
    },
    {
      "cell_type": "code",
      "execution_count": 76,
      "metadata": {
        "id": "XfRlmAznfBeA"
      },
      "outputs": [],
      "source": [
        "def customer_transformer_check():\n",
        "    global X_train, y_train\n",
        "    print(\"X_train:\")\n",
        "    print(X_train.describe().T.round(2))\n",
        "    print(\"===========================\")\n",
        "    # tukey\n",
        "    X_train2 = CustomTukeyTransformer(target_column=\"Age\", fence=\"inner\").fit_transform(\n",
        "        X_train, y_train\n",
        "    )\n",
        "    assert not X_train2 is X_train\n",
        "    print(\"tukey age:\")\n",
        "    print(X_train2.describe().T.round(2))\n",
        "    print(\"===========================\")\n",
        "    X_train3 = CustomTukeyTransformer(\n",
        "        target_column=\"Time Spent\", fence=\"inner\"\n",
        "    ).fit_transform(X_train2, y_train)\n",
        "    assert not X_train3 is X_train2\n",
        "    print(\"tukey time spent:\")\n",
        "    print(X_train3.describe().T.round(2))\n",
        "    print(\"===========================\")\n",
        "    # robust\n",
        "    X_train4 = CustomRobustTransformer(target_column=\"Age\").fit_transform(\n",
        "        X_train3, y_train\n",
        "    )\n",
        "    assert not X_train4 is X_train3\n",
        "    print(\"robust age:\")\n",
        "    print(X_train4.describe().T.round(2))\n",
        "    print(\"===========================\")\n",
        "    X_train5 = CustomRobustTransformer(target_column=\"Time Spent\").fit_transform(\n",
        "        X_train4, y_train\n",
        "    )\n",
        "    assert not X_train5 is X_train4\n",
        "    print(\"robust time spent:\")\n",
        "    print(X_train5.describe().T.round(2))\n",
        "    print(\"===========================\")\n",
        "    print(\"X_train_full:\")\n",
        "    X_train_full = customer_transformer.fit_transform(X_train, y_train)\n",
        "    assert not X_train_full is X_train\n",
        "    print(X_train_full.describe().T.round(2))"
      ]
    },
    {
      "cell_type": "markdown",
      "metadata": {
        "id": "P8G9VTEna75R"
      },
      "source": [
        "### Apply pipeline to X_train and X_test"
      ]
    },
    {
      "cell_type": "code",
      "execution_count": 77,
      "metadata": {
        "colab": {
          "base_uri": "https://localhost:8080/"
        },
        "id": "UeX9YgbvfBeB",
        "outputId": "22d19f7d-2d6c-4ba0-e266-1d3c2a281667"
      },
      "outputs": [
        {
          "output_type": "stream",
          "name": "stdout",
          "text": [
            "X_train:\n",
            "            count   mean    std    min    25%   50%    75%     max\n",
            "Time Spent  640.0  94.43  11.36  62.43  87.05  93.6  100.6  144.95\n",
            "Age         635.0  58.14  10.42  18.00  52.00  60.0   67.0   75.00\n",
            "Rating      781.0   0.32   0.47   0.00   0.00   0.0    1.0    1.00\n",
            "===========================\n",
            "tukey age:\n",
            "            count   mean    std    min    25%   50%    75%     max\n",
            "Time Spent  640.0  94.43  11.36  62.43  87.05  93.6  100.6  144.95\n",
            "Age         635.0  58.20  10.21  29.50  52.00  60.0   67.0   75.00\n",
            "Rating      781.0   0.32   0.47   0.00   0.00   0.0    1.0    1.00\n",
            "===========================\n",
            "tukey time spent:\n",
            "            count   mean    std    min    25%   50%    75%     max\n",
            "Time Spent  640.0  94.29  10.91  66.73  87.05  93.6  100.6  120.93\n",
            "Age         635.0  58.20  10.21  29.50  52.00  60.0   67.0   75.00\n",
            "Rating      781.0   0.32   0.47   0.00   0.00   0.0    1.0    1.00\n",
            "===========================\n",
            "robust age:\n",
            "            count   mean    std    min    25%   50%     75%     max\n",
            "Time Spent  640.0  94.29  10.91  66.73  87.05  93.6  100.60  120.93\n",
            "Age         635.0  -0.12   0.68  -2.03  -0.53   0.0    0.47    1.00\n",
            "Rating      781.0   0.32   0.47   0.00   0.00   0.0    1.00    1.00\n",
            "===========================\n",
            "robust time spent:\n",
            "            count  mean   std   min   25%  50%   75%   max\n",
            "Time Spent  640.0  0.05  0.80 -1.98 -0.48  0.0  0.52  2.02\n",
            "Age         635.0 -0.12  0.68 -2.03 -0.53  0.0  0.47  1.00\n",
            "Rating      781.0  0.32  0.47  0.00  0.00  0.0  1.00  1.00\n",
            "===========================\n",
            "X_train_full:\n",
            "\n",
            "Warning: CustomMappingTransformer[OS] does not contain keys for these values {nan}\n",
            "\n",
            "[Pipeline] ........... (step 1 of 10) Processing map_os, total=   0.0s\n",
            "[Pipeline] ....... (step 2 of 10) Processing target_isp, total=   0.0s\n",
            "\n",
            "Warning: CustomMappingTransformer[Experience Level] does not contain keys for these values {nan}\n",
            "\n",
            "[Pipeline] ........ (step 3 of 10) Processing map_level, total=   0.0s\n",
            "\n",
            "Warning: CustomMappingTransformer[Gender] does not contain keys for these values {nan}\n",
            "\n",
            "[Pipeline] ....... (step 4 of 10) Processing map_gender, total=   0.0s\n",
            "[Pipeline] ........ (step 5 of 10) Processing tukey_age, total=   0.0s\n",
            "[Pipeline] . (step 6 of 10) Processing tukey_time spent, total=   0.0s\n",
            "[Pipeline] ........ (step 7 of 10) Processing scale_age, total=   0.0s\n",
            "[Pipeline] . (step 8 of 10) Processing scale_time spent, total=   0.0s\n",
            "[Pipeline] ........... (step 9 of 10) Processing impute, total=   0.1s\n",
            "[Pipeline] ..... (step 10 of 10) Processing passthrough, total=   0.0s\n",
            "                  count  mean   std   min   25%   50%   75%   max\n",
            "Gender            781.0  0.58  0.46  0.00  0.00  0.80  1.00  1.00\n",
            "Experience Level  781.0  0.77  0.45  0.00  0.40  1.00  1.00  2.00\n",
            "Time Spent        781.0  0.03  0.76 -1.98 -0.45 -0.04  0.45  2.02\n",
            "OS                781.0  0.59  0.46  0.00  0.00  0.80  1.00  1.00\n",
            "ISP               781.0  0.33  0.05  0.24  0.28  0.32  0.38  0.38\n",
            "Age               781.0 -0.13  0.63 -2.03 -0.51 -0.07  0.33  1.00\n",
            "Rating            781.0  0.32  0.47  0.00  0.00  0.00  1.00  1.00\n"
          ]
        },
        {
          "output_type": "stream",
          "name": "stderr",
          "text": [
            "/content/library.py:1117: SettingWithCopyWarning: \n",
            "A value is trying to be set on a copy of a slice from a DataFrame.\n",
            "Try using .loc[row_indexer,col_indexer] = value instead\n",
            "\n",
            "See the caveats in the documentation: https://pandas.pydata.org/pandas-docs/stable/user_guide/indexing.html#returning-a-view-versus-a-copy\n",
            "  X_[target] = y\n"
          ]
        }
      ],
      "source": [
        "customer_transformer_check()"
      ]
    },
    {
      "cell_type": "code",
      "execution_count": 78,
      "metadata": {
        "id": "YpryVIeA647F",
        "colab": {
          "base_uri": "https://localhost:8080/"
        },
        "outputId": "1a581ed4-f885-43b1-a416-daa5e7d14e37"
      },
      "outputs": [
        {
          "output_type": "stream",
          "name": "stdout",
          "text": [
            "\n",
            "Warning: CustomMappingTransformer[OS] does not contain keys for these values {nan}\n",
            "\n",
            "[Pipeline] ........... (step 1 of 10) Processing map_os, total=   0.0s\n",
            "[Pipeline] ....... (step 2 of 10) Processing target_isp, total=   0.0s\n",
            "\n",
            "Warning: CustomMappingTransformer[Experience Level] does not contain keys for these values {nan}\n",
            "\n",
            "[Pipeline] ........ (step 3 of 10) Processing map_level, total=   0.0s\n",
            "\n",
            "Warning: CustomMappingTransformer[Gender] does not contain keys for these values {nan}\n",
            "\n",
            "[Pipeline] ....... (step 4 of 10) Processing map_gender, total=   0.0s\n",
            "[Pipeline] ........ (step 5 of 10) Processing tukey_age, total=   0.0s\n",
            "[Pipeline] . (step 6 of 10) Processing tukey_time spent, total=   0.0s\n",
            "[Pipeline] ........ (step 7 of 10) Processing scale_age, total=   0.0s\n",
            "[Pipeline] . (step 8 of 10) Processing scale_time spent, total=   0.0s\n",
            "[Pipeline] ........... (step 9 of 10) Processing impute, total=   0.1s\n",
            "[Pipeline] ..... (step 10 of 10) Processing passthrough, total=   0.0s\n"
          ]
        },
        {
          "output_type": "stream",
          "name": "stderr",
          "text": [
            "/content/library.py:1117: SettingWithCopyWarning: \n",
            "A value is trying to be set on a copy of a slice from a DataFrame.\n",
            "Try using .loc[row_indexer,col_indexer] = value instead\n",
            "\n",
            "See the caveats in the documentation: https://pandas.pydata.org/pandas-docs/stable/user_guide/indexing.html#returning-a-view-versus-a-copy\n",
            "  X_[target] = y\n"
          ]
        }
      ],
      "source": [
        "X_train_transformed = customer_transformer.fit_transform(X_train, y_train)"
      ]
    },
    {
      "cell_type": "code",
      "execution_count": 79,
      "metadata": {
        "id": "JlWY9x_9647F",
        "colab": {
          "base_uri": "https://localhost:8080/",
          "height": 206
        },
        "outputId": "c3c3dbee-886b-4e84-c859-d7e15271e72a"
      },
      "outputs": [
        {
          "output_type": "execute_result",
          "data": {
            "text/plain": [
              "     Gender  Experience Level  Time Spent   OS   ISP   Age  Rating\n",
              "586     0.6               1.0        0.50  0.0  0.26 -0.36     0.0\n",
              "590     0.0               1.0       -0.50  1.0  0.28 -0.60     0.0\n",
              "137     0.0               0.8       -0.83  0.2  0.28  0.00     0.0\n",
              "900     1.0               1.0        0.69  0.6  0.38 -0.19     1.0\n",
              "967     1.0               0.0        0.62  1.0  0.38  0.07     1.0"
            ],
            "text/html": [
              "\n",
              "  <div id=\"df-e78b0a2d-d6ba-4afe-ae3f-afbcb049ef0a\" class=\"colab-df-container\">\n",
              "    <div>\n",
              "<style scoped>\n",
              "    .dataframe tbody tr th:only-of-type {\n",
              "        vertical-align: middle;\n",
              "    }\n",
              "\n",
              "    .dataframe tbody tr th {\n",
              "        vertical-align: top;\n",
              "    }\n",
              "\n",
              "    .dataframe thead th {\n",
              "        text-align: right;\n",
              "    }\n",
              "</style>\n",
              "<table border=\"1\" class=\"dataframe\">\n",
              "  <thead>\n",
              "    <tr style=\"text-align: right;\">\n",
              "      <th></th>\n",
              "      <th>Gender</th>\n",
              "      <th>Experience Level</th>\n",
              "      <th>Time Spent</th>\n",
              "      <th>OS</th>\n",
              "      <th>ISP</th>\n",
              "      <th>Age</th>\n",
              "      <th>Rating</th>\n",
              "    </tr>\n",
              "  </thead>\n",
              "  <tbody>\n",
              "    <tr>\n",
              "      <th>586</th>\n",
              "      <td>0.6</td>\n",
              "      <td>1.0</td>\n",
              "      <td>0.50</td>\n",
              "      <td>0.0</td>\n",
              "      <td>0.26</td>\n",
              "      <td>-0.36</td>\n",
              "      <td>0.0</td>\n",
              "    </tr>\n",
              "    <tr>\n",
              "      <th>590</th>\n",
              "      <td>0.0</td>\n",
              "      <td>1.0</td>\n",
              "      <td>-0.50</td>\n",
              "      <td>1.0</td>\n",
              "      <td>0.28</td>\n",
              "      <td>-0.60</td>\n",
              "      <td>0.0</td>\n",
              "    </tr>\n",
              "    <tr>\n",
              "      <th>137</th>\n",
              "      <td>0.0</td>\n",
              "      <td>0.8</td>\n",
              "      <td>-0.83</td>\n",
              "      <td>0.2</td>\n",
              "      <td>0.28</td>\n",
              "      <td>0.00</td>\n",
              "      <td>0.0</td>\n",
              "    </tr>\n",
              "    <tr>\n",
              "      <th>900</th>\n",
              "      <td>1.0</td>\n",
              "      <td>1.0</td>\n",
              "      <td>0.69</td>\n",
              "      <td>0.6</td>\n",
              "      <td>0.38</td>\n",
              "      <td>-0.19</td>\n",
              "      <td>1.0</td>\n",
              "    </tr>\n",
              "    <tr>\n",
              "      <th>967</th>\n",
              "      <td>1.0</td>\n",
              "      <td>0.0</td>\n",
              "      <td>0.62</td>\n",
              "      <td>1.0</td>\n",
              "      <td>0.38</td>\n",
              "      <td>0.07</td>\n",
              "      <td>1.0</td>\n",
              "    </tr>\n",
              "  </tbody>\n",
              "</table>\n",
              "</div>\n",
              "    <div class=\"colab-df-buttons\">\n",
              "\n",
              "  <div class=\"colab-df-container\">\n",
              "    <button class=\"colab-df-convert\" onclick=\"convertToInteractive('df-e78b0a2d-d6ba-4afe-ae3f-afbcb049ef0a')\"\n",
              "            title=\"Convert this dataframe to an interactive table.\"\n",
              "            style=\"display:none;\">\n",
              "\n",
              "  <svg xmlns=\"http://www.w3.org/2000/svg\" height=\"24px\" viewBox=\"0 -960 960 960\">\n",
              "    <path d=\"M120-120v-720h720v720H120Zm60-500h600v-160H180v160Zm220 220h160v-160H400v160Zm0 220h160v-160H400v160ZM180-400h160v-160H180v160Zm440 0h160v-160H620v160ZM180-180h160v-160H180v160Zm440 0h160v-160H620v160Z\"/>\n",
              "  </svg>\n",
              "    </button>\n",
              "\n",
              "  <style>\n",
              "    .colab-df-container {\n",
              "      display:flex;\n",
              "      gap: 12px;\n",
              "    }\n",
              "\n",
              "    .colab-df-convert {\n",
              "      background-color: #E8F0FE;\n",
              "      border: none;\n",
              "      border-radius: 50%;\n",
              "      cursor: pointer;\n",
              "      display: none;\n",
              "      fill: #1967D2;\n",
              "      height: 32px;\n",
              "      padding: 0 0 0 0;\n",
              "      width: 32px;\n",
              "    }\n",
              "\n",
              "    .colab-df-convert:hover {\n",
              "      background-color: #E2EBFA;\n",
              "      box-shadow: 0px 1px 2px rgba(60, 64, 67, 0.3), 0px 1px 3px 1px rgba(60, 64, 67, 0.15);\n",
              "      fill: #174EA6;\n",
              "    }\n",
              "\n",
              "    .colab-df-buttons div {\n",
              "      margin-bottom: 4px;\n",
              "    }\n",
              "\n",
              "    [theme=dark] .colab-df-convert {\n",
              "      background-color: #3B4455;\n",
              "      fill: #D2E3FC;\n",
              "    }\n",
              "\n",
              "    [theme=dark] .colab-df-convert:hover {\n",
              "      background-color: #434B5C;\n",
              "      box-shadow: 0px 1px 3px 1px rgba(0, 0, 0, 0.15);\n",
              "      filter: drop-shadow(0px 1px 2px rgba(0, 0, 0, 0.3));\n",
              "      fill: #FFFFFF;\n",
              "    }\n",
              "  </style>\n",
              "\n",
              "    <script>\n",
              "      const buttonEl =\n",
              "        document.querySelector('#df-e78b0a2d-d6ba-4afe-ae3f-afbcb049ef0a button.colab-df-convert');\n",
              "      buttonEl.style.display =\n",
              "        google.colab.kernel.accessAllowed ? 'block' : 'none';\n",
              "\n",
              "      async function convertToInteractive(key) {\n",
              "        const element = document.querySelector('#df-e78b0a2d-d6ba-4afe-ae3f-afbcb049ef0a');\n",
              "        const dataTable =\n",
              "          await google.colab.kernel.invokeFunction('convertToInteractive',\n",
              "                                                    [key], {});\n",
              "        if (!dataTable) return;\n",
              "\n",
              "        const docLinkHtml = 'Like what you see? Visit the ' +\n",
              "          '<a target=\"_blank\" href=https://colab.research.google.com/notebooks/data_table.ipynb>data table notebook</a>'\n",
              "          + ' to learn more about interactive tables.';\n",
              "        element.innerHTML = '';\n",
              "        dataTable['output_type'] = 'display_data';\n",
              "        await google.colab.output.renderOutput(dataTable, element);\n",
              "        const docLink = document.createElement('div');\n",
              "        docLink.innerHTML = docLinkHtml;\n",
              "        element.appendChild(docLink);\n",
              "      }\n",
              "    </script>\n",
              "  </div>\n",
              "\n",
              "\n",
              "    <div id=\"df-5dd2b6ff-bcf0-4e4a-a04e-0fe80161b244\">\n",
              "      <button class=\"colab-df-quickchart\" onclick=\"quickchart('df-5dd2b6ff-bcf0-4e4a-a04e-0fe80161b244')\"\n",
              "                title=\"Suggest charts\"\n",
              "                style=\"display:none;\">\n",
              "\n",
              "<svg xmlns=\"http://www.w3.org/2000/svg\" height=\"24px\"viewBox=\"0 0 24 24\"\n",
              "     width=\"24px\">\n",
              "    <g>\n",
              "        <path d=\"M19 3H5c-1.1 0-2 .9-2 2v14c0 1.1.9 2 2 2h14c1.1 0 2-.9 2-2V5c0-1.1-.9-2-2-2zM9 17H7v-7h2v7zm4 0h-2V7h2v10zm4 0h-2v-4h2v4z\"/>\n",
              "    </g>\n",
              "</svg>\n",
              "      </button>\n",
              "\n",
              "<style>\n",
              "  .colab-df-quickchart {\n",
              "      --bg-color: #E8F0FE;\n",
              "      --fill-color: #1967D2;\n",
              "      --hover-bg-color: #E2EBFA;\n",
              "      --hover-fill-color: #174EA6;\n",
              "      --disabled-fill-color: #AAA;\n",
              "      --disabled-bg-color: #DDD;\n",
              "  }\n",
              "\n",
              "  [theme=dark] .colab-df-quickchart {\n",
              "      --bg-color: #3B4455;\n",
              "      --fill-color: #D2E3FC;\n",
              "      --hover-bg-color: #434B5C;\n",
              "      --hover-fill-color: #FFFFFF;\n",
              "      --disabled-bg-color: #3B4455;\n",
              "      --disabled-fill-color: #666;\n",
              "  }\n",
              "\n",
              "  .colab-df-quickchart {\n",
              "    background-color: var(--bg-color);\n",
              "    border: none;\n",
              "    border-radius: 50%;\n",
              "    cursor: pointer;\n",
              "    display: none;\n",
              "    fill: var(--fill-color);\n",
              "    height: 32px;\n",
              "    padding: 0;\n",
              "    width: 32px;\n",
              "  }\n",
              "\n",
              "  .colab-df-quickchart:hover {\n",
              "    background-color: var(--hover-bg-color);\n",
              "    box-shadow: 0 1px 2px rgba(60, 64, 67, 0.3), 0 1px 3px 1px rgba(60, 64, 67, 0.15);\n",
              "    fill: var(--button-hover-fill-color);\n",
              "  }\n",
              "\n",
              "  .colab-df-quickchart-complete:disabled,\n",
              "  .colab-df-quickchart-complete:disabled:hover {\n",
              "    background-color: var(--disabled-bg-color);\n",
              "    fill: var(--disabled-fill-color);\n",
              "    box-shadow: none;\n",
              "  }\n",
              "\n",
              "  .colab-df-spinner {\n",
              "    border: 2px solid var(--fill-color);\n",
              "    border-color: transparent;\n",
              "    border-bottom-color: var(--fill-color);\n",
              "    animation:\n",
              "      spin 1s steps(1) infinite;\n",
              "  }\n",
              "\n",
              "  @keyframes spin {\n",
              "    0% {\n",
              "      border-color: transparent;\n",
              "      border-bottom-color: var(--fill-color);\n",
              "      border-left-color: var(--fill-color);\n",
              "    }\n",
              "    20% {\n",
              "      border-color: transparent;\n",
              "      border-left-color: var(--fill-color);\n",
              "      border-top-color: var(--fill-color);\n",
              "    }\n",
              "    30% {\n",
              "      border-color: transparent;\n",
              "      border-left-color: var(--fill-color);\n",
              "      border-top-color: var(--fill-color);\n",
              "      border-right-color: var(--fill-color);\n",
              "    }\n",
              "    40% {\n",
              "      border-color: transparent;\n",
              "      border-right-color: var(--fill-color);\n",
              "      border-top-color: var(--fill-color);\n",
              "    }\n",
              "    60% {\n",
              "      border-color: transparent;\n",
              "      border-right-color: var(--fill-color);\n",
              "    }\n",
              "    80% {\n",
              "      border-color: transparent;\n",
              "      border-right-color: var(--fill-color);\n",
              "      border-bottom-color: var(--fill-color);\n",
              "    }\n",
              "    90% {\n",
              "      border-color: transparent;\n",
              "      border-bottom-color: var(--fill-color);\n",
              "    }\n",
              "  }\n",
              "</style>\n",
              "\n",
              "      <script>\n",
              "        async function quickchart(key) {\n",
              "          const quickchartButtonEl =\n",
              "            document.querySelector('#' + key + ' button');\n",
              "          quickchartButtonEl.disabled = true;  // To prevent multiple clicks.\n",
              "          quickchartButtonEl.classList.add('colab-df-spinner');\n",
              "          try {\n",
              "            const charts = await google.colab.kernel.invokeFunction(\n",
              "                'suggestCharts', [key], {});\n",
              "          } catch (error) {\n",
              "            console.error('Error during call to suggestCharts:', error);\n",
              "          }\n",
              "          quickchartButtonEl.classList.remove('colab-df-spinner');\n",
              "          quickchartButtonEl.classList.add('colab-df-quickchart-complete');\n",
              "        }\n",
              "        (() => {\n",
              "          let quickchartButtonEl =\n",
              "            document.querySelector('#df-5dd2b6ff-bcf0-4e4a-a04e-0fe80161b244 button');\n",
              "          quickchartButtonEl.style.display =\n",
              "            google.colab.kernel.accessAllowed ? 'block' : 'none';\n",
              "        })();\n",
              "      </script>\n",
              "    </div>\n",
              "\n",
              "    </div>\n",
              "  </div>\n"
            ],
            "application/vnd.google.colaboratory.intrinsic+json": {
              "type": "dataframe",
              "variable_name": "X_train_transformed",
              "summary": "{\n  \"name\": \"X_train_transformed\",\n  \"rows\": 781,\n  \"fields\": [\n    {\n      \"column\": \"Gender\",\n      \"properties\": {\n        \"dtype\": \"number\",\n        \"std\": 0.4592177996953535,\n        \"min\": 0.0,\n        \"max\": 1.0,\n        \"num_unique_values\": 6,\n        \"samples\": [\n          0.6,\n          0.0,\n          0.2\n        ],\n        \"semantic_type\": \"\",\n        \"description\": \"\"\n      }\n    },\n    {\n      \"column\": \"Experience Level\",\n      \"properties\": {\n        \"dtype\": \"number\",\n        \"std\": 0.4523322724692098,\n        \"min\": 0.0,\n        \"max\": 2.0,\n        \"num_unique_values\": 8,\n        \"samples\": [\n          0.8,\n          0.6,\n          1.0\n        ],\n        \"semantic_type\": \"\",\n        \"description\": \"\"\n      }\n    },\n    {\n      \"column\": \"Time Spent\",\n      \"properties\": {\n        \"dtype\": \"number\",\n        \"std\": 0.7553825866617486,\n        \"min\": -1.982841328413284,\n        \"max\": 2.017158671586716,\n        \"num_unique_values\": 722,\n        \"samples\": [\n          -0.06664206642066409,\n          -0.7560885608856102,\n          -0.4818450184501847\n        ],\n        \"semantic_type\": \"\",\n        \"description\": \"\"\n      }\n    },\n    {\n      \"column\": \"OS\",\n      \"properties\": {\n        \"dtype\": \"number\",\n        \"std\": 0.4572407563794607,\n        \"min\": 0.0,\n        \"max\": 1.0,\n        \"num_unique_values\": 6,\n        \"samples\": [\n          0.0,\n          1.0,\n          0.4\n        ],\n        \"semantic_type\": \"\",\n        \"description\": \"\"\n      }\n    },\n    {\n      \"column\": \"ISP\",\n      \"properties\": {\n        \"dtype\": \"number\",\n        \"std\": 0.049901989593659525,\n        \"min\": 0.24048422768013036,\n        \"max\": 0.3774685000649483,\n        \"num_unique_values\": 36,\n        \"samples\": [\n          0.2787564767218574,\n          0.26979080364540187,\n          0.2981042295000726\n        ],\n        \"semantic_type\": \"\",\n        \"description\": \"\"\n      }\n    },\n    {\n      \"column\": \"Age\",\n      \"properties\": {\n        \"dtype\": \"number\",\n        \"std\": 0.6294775820714167,\n        \"min\": -2.033333333333333,\n        \"max\": 1.0,\n        \"num_unique_values\": 145,\n        \"samples\": [\n          -0.24,\n          0.14666666666666667,\n          0.6666666666666666\n        ],\n        \"semantic_type\": \"\",\n        \"description\": \"\"\n      }\n    },\n    {\n      \"column\": \"Rating\",\n      \"properties\": {\n        \"dtype\": \"number\",\n        \"std\": 0.46779469038564203,\n        \"min\": 0.0,\n        \"max\": 1.0,\n        \"num_unique_values\": 2,\n        \"samples\": [\n          1.0,\n          0.0\n        ],\n        \"semantic_type\": \"\",\n        \"description\": \"\"\n      }\n    }\n  ]\n}"
            }
          },
          "metadata": {},
          "execution_count": 79
        }
      ],
      "source": [
        "X_train_transformed.head().round(2)"
      ]
    },
    {
      "cell_type": "markdown",
      "metadata": {
        "id": "ajI-9Bk-TkQX"
      },
      "source": [
        "|index|Gender|Experience Level|Time Spent|OS|ISP|Age|Rating|\n",
        "|---|---|---|---|---|---|---|---|\n",
        "|586|0\\.6|1\\.0|0\\.5|0\\.0|0\\.26|-0\\.36|0\\.0|\n",
        "|590|0\\.0|1\\.0|-0\\.5|1\\.0|0\\.28|-0\\.6|0\\.0|\n",
        "|137|0\\.0|0\\.8|-0\\.83|0\\.2|0\\.28|0\\.0|0\\.0|\n",
        "|900|1\\.0|1\\.0|0\\.69|0\\.6|0\\.38|-0\\.19|1\\.0|\n",
        "|967|1\\.0|0\\.0|0\\.62|1\\.0|0\\.38|0\\.07|1\\.0|"
      ]
    },
    {
      "cell_type": "code",
      "execution_count": 80,
      "metadata": {
        "id": "wcy7RyRU647F",
        "colab": {
          "base_uri": "https://localhost:8080/"
        },
        "outputId": "c6b7f057-767f-488d-c486-7a65b34f8d7d"
      },
      "outputs": [
        {
          "output_type": "stream",
          "name": "stdout",
          "text": [
            "\n",
            "Warning: CustomMappingTransformer[OS] does not contain keys for these values {nan}\n",
            "\n",
            "\n",
            "Warning: CustomMappingTransformer[Experience Level] does not contain keys for these values {nan}\n",
            "\n",
            "\n",
            "Warning: CustomMappingTransformer[Gender] does not contain keys for these values {nan}\n",
            "\n"
          ]
        }
      ],
      "source": [
        "X_test_transformed = customer_transformer.transform(X_test)"
      ]
    },
    {
      "cell_type": "code",
      "execution_count": 81,
      "metadata": {
        "id": "KWNQQYI5647F",
        "colab": {
          "base_uri": "https://localhost:8080/",
          "height": 206
        },
        "outputId": "a5155230-2e55-4a44-b076-001e04fca085"
      },
      "outputs": [
        {
          "output_type": "execute_result",
          "data": {
            "text/plain": [
              "     Gender  Experience Level  Time Spent   OS   ISP   Age  Rating\n",
              "329     0.0               1.0       -0.39  0.0  0.38 -0.40     0.0\n",
              "175     0.6               1.0       -0.16  1.0  0.34 -0.20     0.0\n",
              "756     0.0               2.0       -0.25  0.0  0.38 -0.16     0.0\n",
              "936     0.0               0.0       -1.64  0.0  0.28 -0.07     1.0\n",
              "360     1.0               1.0        0.83  1.0  0.38 -0.53     1.0"
            ],
            "text/html": [
              "\n",
              "  <div id=\"df-44e5185b-1387-4dcc-b406-6d9d36c903d1\" class=\"colab-df-container\">\n",
              "    <div>\n",
              "<style scoped>\n",
              "    .dataframe tbody tr th:only-of-type {\n",
              "        vertical-align: middle;\n",
              "    }\n",
              "\n",
              "    .dataframe tbody tr th {\n",
              "        vertical-align: top;\n",
              "    }\n",
              "\n",
              "    .dataframe thead th {\n",
              "        text-align: right;\n",
              "    }\n",
              "</style>\n",
              "<table border=\"1\" class=\"dataframe\">\n",
              "  <thead>\n",
              "    <tr style=\"text-align: right;\">\n",
              "      <th></th>\n",
              "      <th>Gender</th>\n",
              "      <th>Experience Level</th>\n",
              "      <th>Time Spent</th>\n",
              "      <th>OS</th>\n",
              "      <th>ISP</th>\n",
              "      <th>Age</th>\n",
              "      <th>Rating</th>\n",
              "    </tr>\n",
              "  </thead>\n",
              "  <tbody>\n",
              "    <tr>\n",
              "      <th>329</th>\n",
              "      <td>0.0</td>\n",
              "      <td>1.0</td>\n",
              "      <td>-0.39</td>\n",
              "      <td>0.0</td>\n",
              "      <td>0.38</td>\n",
              "      <td>-0.40</td>\n",
              "      <td>0.0</td>\n",
              "    </tr>\n",
              "    <tr>\n",
              "      <th>175</th>\n",
              "      <td>0.6</td>\n",
              "      <td>1.0</td>\n",
              "      <td>-0.16</td>\n",
              "      <td>1.0</td>\n",
              "      <td>0.34</td>\n",
              "      <td>-0.20</td>\n",
              "      <td>0.0</td>\n",
              "    </tr>\n",
              "    <tr>\n",
              "      <th>756</th>\n",
              "      <td>0.0</td>\n",
              "      <td>2.0</td>\n",
              "      <td>-0.25</td>\n",
              "      <td>0.0</td>\n",
              "      <td>0.38</td>\n",
              "      <td>-0.16</td>\n",
              "      <td>0.0</td>\n",
              "    </tr>\n",
              "    <tr>\n",
              "      <th>936</th>\n",
              "      <td>0.0</td>\n",
              "      <td>0.0</td>\n",
              "      <td>-1.64</td>\n",
              "      <td>0.0</td>\n",
              "      <td>0.28</td>\n",
              "      <td>-0.07</td>\n",
              "      <td>1.0</td>\n",
              "    </tr>\n",
              "    <tr>\n",
              "      <th>360</th>\n",
              "      <td>1.0</td>\n",
              "      <td>1.0</td>\n",
              "      <td>0.83</td>\n",
              "      <td>1.0</td>\n",
              "      <td>0.38</td>\n",
              "      <td>-0.53</td>\n",
              "      <td>1.0</td>\n",
              "    </tr>\n",
              "  </tbody>\n",
              "</table>\n",
              "</div>\n",
              "    <div class=\"colab-df-buttons\">\n",
              "\n",
              "  <div class=\"colab-df-container\">\n",
              "    <button class=\"colab-df-convert\" onclick=\"convertToInteractive('df-44e5185b-1387-4dcc-b406-6d9d36c903d1')\"\n",
              "            title=\"Convert this dataframe to an interactive table.\"\n",
              "            style=\"display:none;\">\n",
              "\n",
              "  <svg xmlns=\"http://www.w3.org/2000/svg\" height=\"24px\" viewBox=\"0 -960 960 960\">\n",
              "    <path d=\"M120-120v-720h720v720H120Zm60-500h600v-160H180v160Zm220 220h160v-160H400v160Zm0 220h160v-160H400v160ZM180-400h160v-160H180v160Zm440 0h160v-160H620v160ZM180-180h160v-160H180v160Zm440 0h160v-160H620v160Z\"/>\n",
              "  </svg>\n",
              "    </button>\n",
              "\n",
              "  <style>\n",
              "    .colab-df-container {\n",
              "      display:flex;\n",
              "      gap: 12px;\n",
              "    }\n",
              "\n",
              "    .colab-df-convert {\n",
              "      background-color: #E8F0FE;\n",
              "      border: none;\n",
              "      border-radius: 50%;\n",
              "      cursor: pointer;\n",
              "      display: none;\n",
              "      fill: #1967D2;\n",
              "      height: 32px;\n",
              "      padding: 0 0 0 0;\n",
              "      width: 32px;\n",
              "    }\n",
              "\n",
              "    .colab-df-convert:hover {\n",
              "      background-color: #E2EBFA;\n",
              "      box-shadow: 0px 1px 2px rgba(60, 64, 67, 0.3), 0px 1px 3px 1px rgba(60, 64, 67, 0.15);\n",
              "      fill: #174EA6;\n",
              "    }\n",
              "\n",
              "    .colab-df-buttons div {\n",
              "      margin-bottom: 4px;\n",
              "    }\n",
              "\n",
              "    [theme=dark] .colab-df-convert {\n",
              "      background-color: #3B4455;\n",
              "      fill: #D2E3FC;\n",
              "    }\n",
              "\n",
              "    [theme=dark] .colab-df-convert:hover {\n",
              "      background-color: #434B5C;\n",
              "      box-shadow: 0px 1px 3px 1px rgba(0, 0, 0, 0.15);\n",
              "      filter: drop-shadow(0px 1px 2px rgba(0, 0, 0, 0.3));\n",
              "      fill: #FFFFFF;\n",
              "    }\n",
              "  </style>\n",
              "\n",
              "    <script>\n",
              "      const buttonEl =\n",
              "        document.querySelector('#df-44e5185b-1387-4dcc-b406-6d9d36c903d1 button.colab-df-convert');\n",
              "      buttonEl.style.display =\n",
              "        google.colab.kernel.accessAllowed ? 'block' : 'none';\n",
              "\n",
              "      async function convertToInteractive(key) {\n",
              "        const element = document.querySelector('#df-44e5185b-1387-4dcc-b406-6d9d36c903d1');\n",
              "        const dataTable =\n",
              "          await google.colab.kernel.invokeFunction('convertToInteractive',\n",
              "                                                    [key], {});\n",
              "        if (!dataTable) return;\n",
              "\n",
              "        const docLinkHtml = 'Like what you see? Visit the ' +\n",
              "          '<a target=\"_blank\" href=https://colab.research.google.com/notebooks/data_table.ipynb>data table notebook</a>'\n",
              "          + ' to learn more about interactive tables.';\n",
              "        element.innerHTML = '';\n",
              "        dataTable['output_type'] = 'display_data';\n",
              "        await google.colab.output.renderOutput(dataTable, element);\n",
              "        const docLink = document.createElement('div');\n",
              "        docLink.innerHTML = docLinkHtml;\n",
              "        element.appendChild(docLink);\n",
              "      }\n",
              "    </script>\n",
              "  </div>\n",
              "\n",
              "\n",
              "    <div id=\"df-b83ab8c4-3b01-45ad-8a24-e728967124b8\">\n",
              "      <button class=\"colab-df-quickchart\" onclick=\"quickchart('df-b83ab8c4-3b01-45ad-8a24-e728967124b8')\"\n",
              "                title=\"Suggest charts\"\n",
              "                style=\"display:none;\">\n",
              "\n",
              "<svg xmlns=\"http://www.w3.org/2000/svg\" height=\"24px\"viewBox=\"0 0 24 24\"\n",
              "     width=\"24px\">\n",
              "    <g>\n",
              "        <path d=\"M19 3H5c-1.1 0-2 .9-2 2v14c0 1.1.9 2 2 2h14c1.1 0 2-.9 2-2V5c0-1.1-.9-2-2-2zM9 17H7v-7h2v7zm4 0h-2V7h2v10zm4 0h-2v-4h2v4z\"/>\n",
              "    </g>\n",
              "</svg>\n",
              "      </button>\n",
              "\n",
              "<style>\n",
              "  .colab-df-quickchart {\n",
              "      --bg-color: #E8F0FE;\n",
              "      --fill-color: #1967D2;\n",
              "      --hover-bg-color: #E2EBFA;\n",
              "      --hover-fill-color: #174EA6;\n",
              "      --disabled-fill-color: #AAA;\n",
              "      --disabled-bg-color: #DDD;\n",
              "  }\n",
              "\n",
              "  [theme=dark] .colab-df-quickchart {\n",
              "      --bg-color: #3B4455;\n",
              "      --fill-color: #D2E3FC;\n",
              "      --hover-bg-color: #434B5C;\n",
              "      --hover-fill-color: #FFFFFF;\n",
              "      --disabled-bg-color: #3B4455;\n",
              "      --disabled-fill-color: #666;\n",
              "  }\n",
              "\n",
              "  .colab-df-quickchart {\n",
              "    background-color: var(--bg-color);\n",
              "    border: none;\n",
              "    border-radius: 50%;\n",
              "    cursor: pointer;\n",
              "    display: none;\n",
              "    fill: var(--fill-color);\n",
              "    height: 32px;\n",
              "    padding: 0;\n",
              "    width: 32px;\n",
              "  }\n",
              "\n",
              "  .colab-df-quickchart:hover {\n",
              "    background-color: var(--hover-bg-color);\n",
              "    box-shadow: 0 1px 2px rgba(60, 64, 67, 0.3), 0 1px 3px 1px rgba(60, 64, 67, 0.15);\n",
              "    fill: var(--button-hover-fill-color);\n",
              "  }\n",
              "\n",
              "  .colab-df-quickchart-complete:disabled,\n",
              "  .colab-df-quickchart-complete:disabled:hover {\n",
              "    background-color: var(--disabled-bg-color);\n",
              "    fill: var(--disabled-fill-color);\n",
              "    box-shadow: none;\n",
              "  }\n",
              "\n",
              "  .colab-df-spinner {\n",
              "    border: 2px solid var(--fill-color);\n",
              "    border-color: transparent;\n",
              "    border-bottom-color: var(--fill-color);\n",
              "    animation:\n",
              "      spin 1s steps(1) infinite;\n",
              "  }\n",
              "\n",
              "  @keyframes spin {\n",
              "    0% {\n",
              "      border-color: transparent;\n",
              "      border-bottom-color: var(--fill-color);\n",
              "      border-left-color: var(--fill-color);\n",
              "    }\n",
              "    20% {\n",
              "      border-color: transparent;\n",
              "      border-left-color: var(--fill-color);\n",
              "      border-top-color: var(--fill-color);\n",
              "    }\n",
              "    30% {\n",
              "      border-color: transparent;\n",
              "      border-left-color: var(--fill-color);\n",
              "      border-top-color: var(--fill-color);\n",
              "      border-right-color: var(--fill-color);\n",
              "    }\n",
              "    40% {\n",
              "      border-color: transparent;\n",
              "      border-right-color: var(--fill-color);\n",
              "      border-top-color: var(--fill-color);\n",
              "    }\n",
              "    60% {\n",
              "      border-color: transparent;\n",
              "      border-right-color: var(--fill-color);\n",
              "    }\n",
              "    80% {\n",
              "      border-color: transparent;\n",
              "      border-right-color: var(--fill-color);\n",
              "      border-bottom-color: var(--fill-color);\n",
              "    }\n",
              "    90% {\n",
              "      border-color: transparent;\n",
              "      border-bottom-color: var(--fill-color);\n",
              "    }\n",
              "  }\n",
              "</style>\n",
              "\n",
              "      <script>\n",
              "        async function quickchart(key) {\n",
              "          const quickchartButtonEl =\n",
              "            document.querySelector('#' + key + ' button');\n",
              "          quickchartButtonEl.disabled = true;  // To prevent multiple clicks.\n",
              "          quickchartButtonEl.classList.add('colab-df-spinner');\n",
              "          try {\n",
              "            const charts = await google.colab.kernel.invokeFunction(\n",
              "                'suggestCharts', [key], {});\n",
              "          } catch (error) {\n",
              "            console.error('Error during call to suggestCharts:', error);\n",
              "          }\n",
              "          quickchartButtonEl.classList.remove('colab-df-spinner');\n",
              "          quickchartButtonEl.classList.add('colab-df-quickchart-complete');\n",
              "        }\n",
              "        (() => {\n",
              "          let quickchartButtonEl =\n",
              "            document.querySelector('#df-b83ab8c4-3b01-45ad-8a24-e728967124b8 button');\n",
              "          quickchartButtonEl.style.display =\n",
              "            google.colab.kernel.accessAllowed ? 'block' : 'none';\n",
              "        })();\n",
              "      </script>\n",
              "    </div>\n",
              "\n",
              "    </div>\n",
              "  </div>\n"
            ],
            "application/vnd.google.colaboratory.intrinsic+json": {
              "type": "dataframe",
              "variable_name": "X_test_transformed",
              "summary": "{\n  \"name\": \"X_test_transformed\",\n  \"rows\": 196,\n  \"fields\": [\n    {\n      \"column\": \"Gender\",\n      \"properties\": {\n        \"dtype\": \"number\",\n        \"std\": 0.4557889750132067,\n        \"min\": 0.0,\n        \"max\": 1.0,\n        \"num_unique_values\": 6,\n        \"samples\": [\n          0.0,\n          0.6,\n          0.2\n        ],\n        \"semantic_type\": \"\",\n        \"description\": \"\"\n      }\n    },\n    {\n      \"column\": \"Experience Level\",\n      \"properties\": {\n        \"dtype\": \"number\",\n        \"std\": 0.45927501853228236,\n        \"min\": 0.0,\n        \"max\": 2.0,\n        \"num_unique_values\": 8,\n        \"samples\": [\n          2.0,\n          0.8,\n          1.0\n        ],\n        \"semantic_type\": \"\",\n        \"description\": \"\"\n      }\n    },\n    {\n      \"column\": \"Time Spent\",\n      \"properties\": {\n        \"dtype\": \"number\",\n        \"std\": 0.7416775374060698,\n        \"min\": -1.982841328413284,\n        \"max\": 1.937638376383766,\n        \"num_unique_values\": 194,\n        \"samples\": [\n          0.8099630996309969,\n          -0.1720295202952032,\n          -0.1684870848708488\n        ],\n        \"semantic_type\": \"\",\n        \"description\": \"\"\n      }\n    },\n    {\n      \"column\": \"OS\",\n      \"properties\": {\n        \"dtype\": \"number\",\n        \"std\": 0.45626633000173156,\n        \"min\": 0.0,\n        \"max\": 1.0,\n        \"num_unique_values\": 6,\n        \"samples\": [\n          0.0,\n          1.0,\n          0.2\n        ],\n        \"semantic_type\": \"\",\n        \"description\": \"\"\n      }\n    },\n    {\n      \"column\": \"ISP\",\n      \"properties\": {\n        \"dtype\": \"number\",\n        \"std\": 0.05233419235357334,\n        \"min\": 0.24048422768013036,\n        \"max\": 0.3774685000649483,\n        \"num_unique_values\": 22,\n        \"samples\": [\n          0.3774685000649483,\n          0.3377863647825105,\n          0.2981042295000726\n        ],\n        \"semantic_type\": \"\",\n        \"description\": \"\"\n      }\n    },\n    {\n      \"column\": \"Age\",\n      \"properties\": {\n        \"dtype\": \"number\",\n        \"std\": 0.6805600644169065,\n        \"min\": -2.033333333333333,\n        \"max\": 0.9333333333333333,\n        \"num_unique_values\": 63,\n        \"samples\": [\n          0.20000000000000004,\n          -0.7666666666666664,\n          -0.4\n        ],\n        \"semantic_type\": \"\",\n        \"description\": \"\"\n      }\n    },\n    {\n      \"column\": \"Rating\",\n      \"properties\": {\n        \"dtype\": \"number\",\n        \"std\": 0.46822085518563666,\n        \"min\": 0.0,\n        \"max\": 1.0,\n        \"num_unique_values\": 2,\n        \"samples\": [\n          1.0,\n          0.0\n        ],\n        \"semantic_type\": \"\",\n        \"description\": \"\"\n      }\n    }\n  ]\n}"
            }
          },
          "metadata": {},
          "execution_count": 81
        }
      ],
      "source": [
        "X_test_transformed.head().round(2)"
      ]
    },
    {
      "cell_type": "markdown",
      "metadata": {
        "id": "JvJqUAuxTpHy"
      },
      "source": [
        "|index|Gender|Experience Level|Time Spent|OS|ISP|Age|Rating|\n",
        "|---|---|---|---|---|---|---|---|\n",
        "|329|0\\.0|1\\.0|-0\\.39|0\\.0|0\\.38|-0\\.4|0\\.0|\n",
        "|175|0\\.6|1\\.0|-0\\.16|1\\.0|0\\.34|-0\\.2|0\\.0|\n",
        "|756|0\\.0|2\\.0|-0\\.25|0\\.0|0\\.38|-0\\.16|0\\.0|\n",
        "|936|0\\.0|0\\.0|-1\\.64|0\\.0|0\\.28|-0\\.07|1\\.0|\n",
        "|360|1\\.0|1\\.0|0\\.83|1\\.0|0\\.38|-0\\.53|1\\.0|"
      ]
    },
    {
      "cell_type": "markdown",
      "metadata": {
        "id": "OVwcCK8E526p"
      },
      "source": [
        "## Step 2.\n",
        "\n",
        "Plot `Age` (x axis) against `Time Spent`."
      ]
    },
    {
      "cell_type": "code",
      "execution_count": 82,
      "metadata": {
        "id": "syrIzjya750Q"
      },
      "outputs": [],
      "source": [
        "ages = X_train_transformed['Age'].to_list()\n",
        "time_labels = X_train_transformed['Time Spent'].to_list()  #the yi values"
      ]
    },
    {
      "cell_type": "code",
      "execution_count": 83,
      "metadata": {
        "id": "BPz0O0oU750Q",
        "colab": {
          "base_uri": "https://localhost:8080/",
          "height": 430
        },
        "outputId": "601b73df-8fa5-426d-98ed-671783388c0d"
      },
      "outputs": [
        {
          "output_type": "display_data",
          "data": {
            "text/plain": [
              "<Figure size 640x480 with 1 Axes>"
            ],
            "image/png": "[encoded data removed]"
          },
          "metadata": {}
        }
      ],
      "source": [
        "import matplotlib.pyplot as plt\n",
        "\n",
        "plt.scatter(ages,time_labels)\n",
        "plt.show()"
      ]
    },
    {
      "cell_type": "markdown",
      "metadata": {
        "id": "Pf1FSyEaTvw9"
      },
      "source": [
        "<img src='https://www.dropbox.com/scl/fi/gs991l1qw6lawc0q845xt/Screenshot-2023-09-08-at-5.20.25-PM.png?rlkey=98qn0xlj5qlrpawk4lajrpmwh&raw=1' height=300>"
      ]
    },
    {
      "cell_type": "markdown",
      "metadata": {
        "id": "ZzPN3q9b8Ue5"
      },
      "source": [
        "### It looks better than titanic plot for sure\n",
        "\n",
        "Points more clustered.\n"
      ]
    },
    {
      "cell_type": "markdown",
      "metadata": {
        "id": "QclNOgYk8ckI"
      },
      "source": [
        "## Step 3.\n",
        "\n",
        "We are trying to predict `Time Spent` from `Age`. Run `sgd` with 500 epochs. Start with `w=.5` and `b=.5`. Use the default `lr` of `sgd`.\n",
        "\n",
        "Record MSE for each epoch."
      ]
    },
    {
      "cell_type": "code",
      "execution_count": 84,
      "metadata": {
        "id": "EE7c9h9f88dt"
      },
      "outputs": [],
      "source": [
        "#your code\n",
        "w = 0.5\n",
        "b = 0.5\n",
        "mse = []\n",
        "epochs = 500\n",
        "for i in range(epochs):\n",
        "  w,b = sgd(ages, time_labels, w, b)\n",
        "  yhats = predict(ages, w, b)\n",
        "  mse.append(MSE(time_labels, yhats))"
      ]
    },
    {
      "cell_type": "code",
      "execution_count": 85,
      "metadata": {
        "id": "zkRSBrOwGrzq",
        "colab": {
          "base_uri": "https://localhost:8080/"
        },
        "outputId": "ba30cbfe-d4fc-499c-ed3e-45921e512ebb"
      },
      "outputs": [
        {
          "output_type": "execute_result",
          "data": {
            "text/plain": [
              "(np.int64(55), 0.5700791544738669)"
            ]
          },
          "metadata": {},
          "execution_count": 85
        }
      ],
      "source": [
        "np.argmin(mse), min(mse)  #(np.int64(55), 0.5700791544738669)"
      ]
    },
    {
      "cell_type": "code",
      "execution_count": 86,
      "metadata": {
        "id": "6yzECpY488dt",
        "colab": {
          "base_uri": "https://localhost:8080/"
        },
        "outputId": "20e14b0e-90eb-4ab8-a11e-238862b5d4bd"
      },
      "outputs": [
        {
          "output_type": "execute_result",
          "data": {
            "text/plain": [
              "[0.570079154473867,\n",
              " 0.570079154473867,\n",
              " 0.570079154473867,\n",
              " 0.570079154473867,\n",
              " 0.570079154473867,\n",
              " 0.570079154473867,\n",
              " 0.570079154473867,\n",
              " 0.570079154473867,\n",
              " 0.570079154473867,\n",
              " 0.570079154473867]"
            ]
          },
          "metadata": {},
          "execution_count": 86
        }
      ],
      "source": [
        "#look at last 10\n",
        "\n",
        "mse[-10:]  #slightly worse than min!"
      ]
    },
    {
      "cell_type": "markdown",
      "metadata": {
        "id": "YAxgwWfe9o59"
      },
      "source": [
        "## Step 4.\n",
        "\n",
        "Plot epochs (x axis) against MSE values per epoch."
      ]
    },
    {
      "cell_type": "code",
      "execution_count": 87,
      "metadata": {
        "id": "3R59TLBc88du",
        "colab": {
          "base_uri": "https://localhost:8080/",
          "height": 435
        },
        "outputId": "f43480de-1943-4620-f165-d60d06d53b75"
      },
      "outputs": [
        {
          "output_type": "display_data",
          "data": {
            "text/plain": [
              "<Figure size 640x480 with 1 Axes>"
            ],
            "image/png": "[encoded data removed]"
          },
          "metadata": {}
        }
      ],
      "source": [
        "import matplotlib.pyplot as plt\n",
        "plt.plot(mse, scaley=True)\n",
        "plt.show()"
      ]
    },
    {
      "cell_type": "markdown",
      "metadata": {
        "id": "ROo_Lm_0-LF2"
      },
      "source": [
        "## Step 5.\n",
        "\n",
        "Remember best epoch. I'll do this step for you."
      ]
    },
    {
      "cell_type": "code",
      "execution_count": 88,
      "metadata": {
        "id": "GhfapmLh-fNx",
        "colab": {
          "base_uri": "https://localhost:8080/"
        },
        "outputId": "b6e21380-dae3-4e55-eaf5-f6c9a288976c"
      },
      "outputs": [
        {
          "output_type": "execute_result",
          "data": {
            "text/plain": [
              "np.int64(55)"
            ]
          },
          "metadata": {},
          "execution_count": 88
        }
      ],
      "source": [
        "best_epoch = np.argmin(mse)\n",
        "best_epoch  #55"
      ]
    },
    {
      "cell_type": "markdown",
      "metadata": {
        "id": "rPvkOb3B_l20"
      },
      "source": [
        "## Step 6.\n",
        "\n",
        "We need the w and b that go with the best epoch. Run the loop again but now only for best number of epochs."
      ]
    },
    {
      "cell_type": "code",
      "execution_count": 89,
      "metadata": {
        "id": "yLj59CeztI9I"
      },
      "outputs": [],
      "source": [
        "#your code\n"
      ]
    },
    {
      "cell_type": "code",
      "execution_count": 90,
      "metadata": {
        "id": "fvrPiB-Gb1Ag",
        "colab": {
          "base_uri": "https://localhost:8080/"
        },
        "outputId": "fa2dcade-9aee-42a3-dc5d-e953d4e057ad"
      },
      "outputs": [
        {
          "output_type": "execute_result",
          "data": {
            "text/plain": [
              "(-0.002657121483288383, 0.046704409344518825)"
            ]
          },
          "metadata": {},
          "execution_count": 90
        }
      ],
      "source": [
        "(w,b)  #(-0.002657121483286056, 0.046704409344519374)"
      ]
    },
    {
      "cell_type": "markdown",
      "metadata": {
        "id": "r0GiRvbga6dY"
      },
      "source": [
        "## Step 7.\n",
        "\n",
        "Use best w,b to get error using `X_test_transformed`.\n",
        "\n",
        "No need for loops. We are done training and think we have best values for w and b. Time to test."
      ]
    },
    {
      "cell_type": "code",
      "execution_count": 91,
      "metadata": {
        "id": "OXHS5muZ_f6O"
      },
      "outputs": [],
      "source": [
        "#your code\n",
        "\n",
        "X = X_test_transformed['Age'].to_list()\n",
        "Y = X_test_transformed['Time Spent'].to_list()\n",
        "Yhat = predict(X, w, b)\n",
        "mse = MSE(Y, Yhat)"
      ]
    },
    {
      "cell_type": "code",
      "execution_count": 92,
      "metadata": {
        "id": "D1HAEJpnc_z6",
        "colab": {
          "base_uri": "https://localhost:8080/"
        },
        "outputId": "e0d4802a-2eb5-4dd3-d90b-152e58caf68e"
      },
      "outputs": [
        {
          "output_type": "execute_result",
          "data": {
            "text/plain": [
              "0.5505493458871744"
            ]
          },
          "metadata": {},
          "execution_count": 92
        }
      ],
      "source": [
        "mse  #0.5505493458871747 compared with best from training of 0.5700791544738669"
      ]
    },
    {
      "cell_type": "markdown",
      "metadata": {
        "id": "1AIEqufuda0L"
      },
      "source": [
        "So we are doing better on testing. This is atypical."
      ]
    },
    {
      "cell_type": "markdown",
      "metadata": {
        "id": "3nYFUYnvdntl"
      },
      "source": [
        "# Challenge 3\n",
        "\n",
        "There is another algorithm called mini-batch where you get to set that batch size between SGD (batch=1) and full batch. Let's say you set batch=10. Then you accumulate for 10 rows then adjust weights, acculate next 10 rows then adjust weights, etc.\n",
        "\n",
        "Build a new function mini_batch that allows you to choose batch size. As reminder, here is the full batch code:\n",
        "\n",
        "<pre>\n",
        "def full_batch(X,Y,w,b,lr=.001):\n",
        "  gw = []\n",
        "  gb = []\n",
        "  for i in range(len(X)):\n",
        "    xi = X[i]\n",
        "    yi = Y[i]\n",
        "    yhat = w*xi+b  #prediction\n",
        "    gradient_w = 2*(yhat-yi)*xi\n",
        "    gradient_b = 2*(yhat-yi)*1\n",
        "    gw.append(gradient_w)\n",
        "    gb.append(gradient_b)\n",
        "  w = w - lr*sum(gw)/len(gw)\n",
        "  b = b - lr*sum(gb)/len(gb)\n",
        "  return w,b\n",
        "</pre>"
      ]
    },
    {
      "cell_type": "markdown",
      "metadata": {
        "id": "kSkZ4Zx1pLR2"
      },
      "source": [
        "One tricky part is that when you choose a value of k as your mini-batch value, k may not divide evenly into n (the length of full dataset). In that case, take the residue and average it and update weights."
      ]
    },
    {
      "cell_type": "code",
      "execution_count": 103,
      "metadata": {
        "id": "SjPttUBPfIlm"
      },
      "outputs": [],
      "source": [
        "#fill it out\n",
        "\n",
        "def mini_batch(X,Y,w,b,batch=1,lr=.001):\n",
        "  assert batch>=1\n",
        "  assert batch<=len(X)\n",
        "\n",
        "  for i in range(0,len(X),batch):\n",
        "    xi = X[i:i+batch]\n",
        "    yi = Y[i:i+batch]\n",
        "    batchgw = 0\n",
        "    batchgb = 0\n",
        "    for j in range(len(xi)):\n",
        "      xj = xi[j]\n",
        "      yj = yi[j]\n",
        "      yhat = w*xj + b\n",
        "\n",
        "      gradient_w = 2*(yhat-yj)*xj\n",
        "      gradient_b = 2*(yhat-yj)*1\n",
        "      batchgw += gradient_w\n",
        "      batchgb += gradient_b\n",
        "    w = w - lr*batchgw/len(xi)\n",
        "    b = b - lr*batchgb/len(xi)\n",
        "  return w,b"
      ]
    },
    {
      "cell_type": "code",
      "execution_count": 104,
      "metadata": {
        "id": "VagOPwDdjXx-"
      },
      "outputs": [],
      "source": [
        "X = X_train_transformed['Age'].to_list()\n",
        "Y = X_train_transformed['Time Spent'].to_list()"
      ]
    },
    {
      "cell_type": "code",
      "execution_count": 105,
      "metadata": {
        "id": "zP-wxVVlDifl",
        "colab": {
          "base_uri": "https://localhost:8080/"
        },
        "outputId": "f3586122-2583-45b5-ca3c-08dc41163f21"
      },
      "outputs": [
        {
          "output_type": "execute_result",
          "data": {
            "text/plain": [
              "781"
            ]
          },
          "metadata": {},
          "execution_count": 105
        }
      ],
      "source": [
        "len(X)  #781"
      ]
    },
    {
      "cell_type": "markdown",
      "metadata": {
        "id": "jOJcJCOR6MJt"
      },
      "source": [
        "## Let's see if we can show that mini_batch covers all bases"
      ]
    },
    {
      "cell_type": "code",
      "execution_count": 106,
      "metadata": {
        "id": "qTVf-jzX5nqH",
        "colab": {
          "base_uri": "https://localhost:8080/"
        },
        "outputId": "455aa178-8d90-4abd-9fdd-b4f6ca950561"
      },
      "outputs": [
        {
          "output_type": "execute_result",
          "data": {
            "text/plain": [
              "((0.49958844946297865, 0.0500973053438601),\n",
              " (0.49958844946297865, 0.0500973053438601))"
            ]
          },
          "metadata": {},
          "execution_count": 106
        }
      ],
      "source": [
        "w = .5\n",
        "b = .05\n",
        "(full_batch(X,Y,w,b), mini_batch(X,Y,w,b,batch=len(X)))  #mini-batch can simulate full-batch"
      ]
    },
    {
      "cell_type": "markdown",
      "metadata": {
        "id": "KDokwx-DUlki"
      },
      "source": [
        "<pre>\n",
        "((0.49958844946297865, 0.0500973053438601),\n",
        " (np.float64(0.49958844946297865), np.float64(0.0500973053438601)))\n",
        " </pre>"
      ]
    },
    {
      "cell_type": "code",
      "execution_count": 107,
      "metadata": {
        "id": "b7JSXu1w59m4",
        "colab": {
          "base_uri": "https://localhost:8080/"
        },
        "outputId": "452392de-2d21-4a7a-b7e9-e35f422b9adb"
      },
      "outputs": [
        {
          "output_type": "execute_result",
          "data": {
            "text/plain": [
              "((0.26499131362527334, 0.08688112174484347),\n",
              " (0.26499131362527334, 0.08688112174484347))"
            ]
          },
          "metadata": {},
          "execution_count": 107
        }
      ],
      "source": [
        "w = .5\n",
        "b = .05\n",
        "sgd(X,Y,w,b), mini_batch(X,Y,w,b,batch=1)  #mini-batch can simulate sgd"
      ]
    },
    {
      "cell_type": "markdown",
      "metadata": {
        "id": "2xfrem6hUrhy"
      },
      "source": [
        "<pre>\n",
        "((0.26499131362527334, 0.08688112174484347),\n",
        " (np.float64(0.26499131362527334), np.float64(0.08688112174484347)))\n",
        " </pre>"
      ]
    },
    {
      "cell_type": "markdown",
      "metadata": {
        "id": "jRJ5YBRF6Zlz"
      },
      "source": [
        "## Try it on intermediate value"
      ]
    },
    {
      "cell_type": "code",
      "execution_count": 108,
      "metadata": {
        "id": "YEuliYROfPDQ"
      },
      "outputs": [],
      "source": [
        "w = 0\n",
        "b = .05\n",
        "mse = []\n",
        "batch = int(.05*len(X))  #39\n",
        "epochs = 1000\n",
        "for i in range(epochs):\n",
        "  w,b = mini_batch(X, Y, w, b, batch=batch)\n",
        "  Yhat = predict(X, w, b)\n",
        "  mse.append(MSE(Y, Yhat))"
      ]
    },
    {
      "cell_type": "code",
      "execution_count": 109,
      "metadata": {
        "id": "dvEukWiQnL3W",
        "colab": {
          "base_uri": "https://localhost:8080/"
        },
        "outputId": "d84ab36a-f941-4fe1-b00e-11502967d843"
      },
      "outputs": [
        {
          "output_type": "execute_result",
          "data": {
            "text/plain": [
              "39"
            ]
          },
          "metadata": {},
          "execution_count": 109
        }
      ],
      "source": [
        "batch  #39"
      ]
    },
    {
      "cell_type": "code",
      "execution_count": 110,
      "metadata": {
        "id": "4H0HT9cno2nj",
        "colab": {
          "base_uri": "https://localhost:8080/"
        },
        "outputId": "f6328660-a952-49a6-e5fc-253f827a7a2a"
      },
      "outputs": [
        {
          "output_type": "execute_result",
          "data": {
            "text/plain": [
              "(0.003088599904098308, 0.019853134271679146)"
            ]
          },
          "metadata": {},
          "execution_count": 110
        }
      ],
      "source": [
        "(w,b)  #(np.float64(0.0030885999040983106), np.float64(0.019853134271679156))"
      ]
    },
    {
      "cell_type": "code",
      "execution_count": 111,
      "metadata": {
        "id": "Rpd784TvvSLT",
        "colab": {
          "base_uri": "https://localhost:8080/"
        },
        "outputId": "5208d4b2-1c1f-45c3-a289-22c25c0839e9"
      },
      "outputs": [
        {
          "output_type": "execute_result",
          "data": {
            "text/plain": [
              "(np.int64(18), 0.5698837838326896)"
            ]
          },
          "metadata": {},
          "execution_count": 111
        }
      ],
      "source": [
        "best_epoch = np.argmin(mse)\n",
        "(best_epoch, mse[best_epoch])  #(np.int64(18), np.float64(0.5698837838326896))"
      ]
    },
    {
      "cell_type": "code",
      "execution_count": 112,
      "metadata": {
        "id": "WeVB8uY2n1LZ",
        "colab": {
          "base_uri": "https://localhost:8080/"
        },
        "outputId": "f3806085-6ed4-4f6e-9e24-3e92cfa75e87"
      },
      "outputs": [
        {
          "output_type": "execute_result",
          "data": {
            "text/plain": [
              "[0.5700555056408864,\n",
              " 0.5700555056408505,\n",
              " 0.5700555056408148,\n",
              " 0.57005550564078,\n",
              " 0.5700555056407456,\n",
              " 0.5700555056407125,\n",
              " 0.5700555056406799,\n",
              " 0.570055505640647,\n",
              " 0.5700555056406141,\n",
              " 0.570055505640583]"
            ]
          },
          "metadata": {},
          "execution_count": 112
        }
      ],
      "source": [
        "mse[-10:]  #worse"
      ]
    },
    {
      "cell_type": "markdown",
      "metadata": {
        "id": "Qnm6rN0wIc3O"
      },
      "source": [
        "<pre>\n",
        "[np.float64(0.5700555056408864),\n",
        " np.float64(0.5700555056408505),\n",
        " np.float64(0.5700555056408148),\n",
        " np.float64(0.57005550564078),\n",
        " np.float64(0.5700555056407456),\n",
        " np.float64(0.5700555056407125),\n",
        " np.float64(0.5700555056406799),\n",
        " np.float64(0.570055505640647),\n",
        " np.float64(0.5700555056406141),\n",
        " np.float64(0.570055505640583)]\n",
        " </pre>"
      ]
    },
    {
      "cell_type": "code",
      "execution_count": 113,
      "metadata": {
        "id": "Bb41Rwz0wqT5",
        "colab": {
          "base_uri": "https://localhost:8080/",
          "height": 430
        },
        "outputId": "27096753-57e1-45a5-fad8-232666503173"
      },
      "outputs": [
        {
          "output_type": "display_data",
          "data": {
            "text/plain": [
              "<Figure size 640x480 with 1 Axes>"
            ],
            "image/png": "[encoded data removed]"
          },
          "metadata": {}
        }
      ],
      "source": [
        "import matplotlib.pyplot as plt\n",
        "plt.plot(mse, scaley=True)\n",
        "plt.show()"
      ]
    },
    {
      "cell_type": "markdown",
      "metadata": {
        "id": "7Eqj9E-_wC4I"
      },
      "source": [
        "### Big drop then levels off\n",
        "\n",
        "<img src='https://www.dropbox.com/scl/fi/e93kkstk0a0fgxdz45041/Screenshot-2025-04-23-at-10.01.18-AM.png?rlkey=7xttflj6nzwrntgt9d66zc4mv&raw=1'>\n",
        "\n",
        "So 18 is the bottom (best) point.\n",
        "\n",
        "\n"
      ]
    },
    {
      "cell_type": "markdown",
      "metadata": {
        "id": "NaoVGfyvp8Jm"
      },
      "source": [
        "### Testing\n",
        "\n",
        "Re-train with best epoch, get the w and b values and plug in to get MSE for test set."
      ]
    },
    {
      "cell_type": "code",
      "execution_count": 114,
      "metadata": {
        "id": "6OLICSXh3nbI"
      },
      "outputs": [],
      "source": [
        "X = X_train_transformed['Age'].to_list()\n",
        "Y = X_train_transformed['Time Spent'].to_list()"
      ]
    },
    {
      "cell_type": "code",
      "execution_count": 115,
      "metadata": {
        "id": "3hGL4vn9VpPH"
      },
      "outputs": [],
      "source": [
        "#your code\n",
        "w = 0\n",
        "b = .05\n",
        "mse = []\n",
        "batch = int(.05*len(X))  #39\n",
        "epochs = best_epoch\n",
        "for i in range(epochs):\n",
        "  w,b = mini_batch(X, Y, w, b, batch=batch)\n",
        "  Yhat = predict(X, w, b)\n",
        "  mse.append(MSE(Y, Yhat))"
      ]
    },
    {
      "cell_type": "code",
      "execution_count": 116,
      "metadata": {
        "id": "oe60Hl7U22tK",
        "colab": {
          "base_uri": "https://localhost:8080/"
        },
        "outputId": "dc203a9d-701d-4a43-9844-eddba87654d8"
      },
      "outputs": [
        {
          "output_type": "execute_result",
          "data": {
            "text/plain": [
              "0.5488488521821334"
            ]
          },
          "metadata": {},
          "execution_count": 116
        }
      ],
      "source": [
        "Yhat = predict(X_test_transformed['Age'].to_list(), w, b)\n",
        "MSE(X_test_transformed['Time Spent'].to_list(), Yhat)  #0.5488488521821334, best from training: 0.5698837838326896"
      ]
    },
    {
      "cell_type": "markdown",
      "metadata": {
        "id": "PLNh9nDb7Vx2"
      },
      "source": [
        "## Better than training\n",
        "\n",
        "Atypical.\n"
      ]
    }
  ],
  "metadata": {
    "colab": {
      "provenance": []
    },
    "kernelspec": {
      "display_name": "cs523",
      "language": "python",
      "name": "python3"
    },
    "language_info": {
      "codemirror_mode": {
        "name": "ipython",
        "version": 3
      },
      "file_extension": ".py",
      "mimetype": "text/x-python",
      "name": "python",
      "nbconvert_exporter": "python",
      "pygments_lexer": "ipython3",
      "version": "3.12.9"
    }
  },
  "nbformat": 4,
  "nbformat_minor": 0
}