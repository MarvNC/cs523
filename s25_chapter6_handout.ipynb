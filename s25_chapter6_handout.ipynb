{
  "cells": [
    {
      "cell_type": "markdown",
      "metadata": {
        "colab_type": "text",
        "id": "view-in-github"
      },
      "source": [
        "<a href=\"https://colab.research.google.com/github/MarvNC/cs523/blob/master/s25_chapter6_handout.ipynb\" target=\"_parent\"><img src=\"https://colab.research.google.com/assets/colab-badge.svg\" alt=\"Open In Colab\"/></a>\n"
      ]
    },
    {
      "cell_type": "markdown",
      "metadata": {
        "id": "mESqPOkEL3oQ"
      },
      "source": [
        "# Preface\n",
        "\n",
        "I changed challenge 2. The video suggests you just plug-in `KNNImputer`. I am now asking you to write a custom class that wraps `KNNImputer`. So you will need to add it, and some auxiliary code (e.g., `set_config`) that goes with it.\n"
      ]
    },
    {
      "cell_type": "markdown",
      "metadata": {
        "id": "bzDiYMkiYgRS"
      },
      "source": [
        "<center>\n",
        "<h1>Chapter Six</h1>\n",
        "</center>\n",
        "\n",
        "<hr>\n",
        "\n",
        "## LEARNING OBJECTIVES:\n",
        "\n",
        "- Look at final wrangling step, imputation. Introduce several alternatives.\n",
        "- Test processing time for alternatives. Becomes important in production system.\n",
        "- Capture final choice, KNNImputer, in a custom Transformer.\n",
        "- Place it correctly in Pipeline.\n"
      ]
    },
    {
      "cell_type": "markdown",
      "metadata": {
        "id": "Npa06nZLAvs-"
      },
      "source": [
        "# I. Imputation\n",
        "\n",
        "The last thing I would like to consider in our pipeline is dealing with those NaN values. Most machine learning algorithms will choke on them. So we need to replace them with numbers. The process is called imputation.\n"
      ]
    },
    {
      "cell_type": "markdown",
      "metadata": {
        "id": "bZiquu_S3vZG"
      },
      "source": [
        "## Set-up\n",
        "\n",
        "First bring in your library.\n"
      ]
    },
    {
      "cell_type": "code",
      "execution_count": null,
      "metadata": {
        "id": "AZ6MOQmuVewi"
      },
      "outputs": [],
      "source": [
        "github_name = \"MarvNC\"\n",
        "repo_name = \"cs523\"\n",
        "source_file = \"library.py\"\n",
        "url = f\"https://raw.githubusercontent.com/{github_name}/{repo_name}/main/{source_file}\"\n",
        "# !rm $source_file\n",
        "# !wget $url\n",
        "# %run -i $source_file\n",
        "from library import *"
      ]
    },
    {
      "cell_type": "code",
      "execution_count": 2,
      "metadata": {
        "id": "4HoABkzXubqy"
      },
      "outputs": [
        {
          "data": {
            "text/plain": [
              "type"
            ]
          },
          "execution_count": 2,
          "metadata": {},
          "output_type": "execute_result"
        }
      ],
      "source": [
        "type(CustomRobustTransformer)"
      ]
    },
    {
      "cell_type": "code",
      "execution_count": null,
      "metadata": {
        "id": "Wl6YCVfp1uyT"
      },
      "outputs": [],
      "source": [
        "url = \"https://raw.githubusercontent.com/fickas/asynch_models/refs/heads/main/datasets/titanic_trimmed.csv\"\n",
        "titanic_table = pd.read_csv(\n",
        "    url\n",
        ")  # using our new package to read in an entire dataset - the coolest"
      ]
    },
    {
      "cell_type": "code",
      "execution_count": null,
      "metadata": {
        "id": "BoSy4udQ1uyT"
      },
      "outputs": [
        {
          "data": {
            "text/html": [
              "<div>\n",
              "<style scoped>\n",
              "    .dataframe tbody tr th:only-of-type {\n",
              "        vertical-align: middle;\n",
              "    }\n",
              "\n",
              "    .dataframe tbody tr th {\n",
              "        vertical-align: top;\n",
              "    }\n",
              "\n",
              "    .dataframe thead th {\n",
              "        text-align: right;\n",
              "    }\n",
              "</style>\n",
              "<table border=\"1\" class=\"dataframe\">\n",
              "  <thead>\n",
              "    <tr style=\"text-align: right;\">\n",
              "      <th></th>\n",
              "      <th>Age</th>\n",
              "      <th>Gender</th>\n",
              "      <th>Class</th>\n",
              "      <th>Joined</th>\n",
              "      <th>Married</th>\n",
              "      <th>Fare</th>\n",
              "      <th>Survived</th>\n",
              "    </tr>\n",
              "  </thead>\n",
              "  <tbody>\n",
              "    <tr>\n",
              "      <th>0</th>\n",
              "      <td>41.0</td>\n",
              "      <td>Male</td>\n",
              "      <td>C3</td>\n",
              "      <td>Southampton</td>\n",
              "      <td>0.0</td>\n",
              "      <td>7.0</td>\n",
              "      <td>0</td>\n",
              "    </tr>\n",
              "    <tr>\n",
              "      <th>1</th>\n",
              "      <td>21.0</td>\n",
              "      <td>Male</td>\n",
              "      <td>Crew</td>\n",
              "      <td>Southampton</td>\n",
              "      <td>0.0</td>\n",
              "      <td>0.0</td>\n",
              "      <td>0</td>\n",
              "    </tr>\n",
              "    <tr>\n",
              "      <th>2</th>\n",
              "      <td>13.0</td>\n",
              "      <td>Male</td>\n",
              "      <td>C3</td>\n",
              "      <td>Southampton</td>\n",
              "      <td>NaN</td>\n",
              "      <td>20.0</td>\n",
              "      <td>0</td>\n",
              "    </tr>\n",
              "    <tr>\n",
              "      <th>3</th>\n",
              "      <td>16.0</td>\n",
              "      <td>Male</td>\n",
              "      <td>C3</td>\n",
              "      <td>Southampton</td>\n",
              "      <td>0.0</td>\n",
              "      <td>NaN</td>\n",
              "      <td>0</td>\n",
              "    </tr>\n",
              "    <tr>\n",
              "      <th>4</th>\n",
              "      <td>NaN</td>\n",
              "      <td>Male</td>\n",
              "      <td>C2</td>\n",
              "      <td>Cherbourg</td>\n",
              "      <td>0.0</td>\n",
              "      <td>24.0</td>\n",
              "      <td>0</td>\n",
              "    </tr>\n",
              "  </tbody>\n",
              "</table>\n",
              "</div>"
            ],
            "text/plain": [
              "    Age Gender Class       Joined  Married  Fare  Survived\n",
              "0  41.0   Male    C3  Southampton      0.0   7.0         0\n",
              "1  21.0   Male  Crew  Southampton      0.0   0.0         0\n",
              "2  13.0   Male    C3  Southampton      NaN  20.0         0\n",
              "3  16.0   Male    C3  Southampton      0.0   NaN         0\n",
              "4   NaN   Male    C2    Cherbourg      0.0  24.0         0"
            ]
          },
          "execution_count": 4,
          "metadata": {},
          "output_type": "execute_result"
        }
      ],
      "source": [
        "titanic_table.head()  # print first 5 rows of the table"
      ]
    },
    {
      "cell_type": "code",
      "execution_count": null,
      "metadata": {
        "id": "SNDkOpZ3Yg3D"
      },
      "outputs": [],
      "source": [
        "titanic_features = titanic_table.drop(columns=\"Survived\")"
      ]
    },
    {
      "cell_type": "markdown",
      "metadata": {
        "id": "GJHlx2tTBNNq"
      },
      "source": [
        "## Wrangle using your pipeline\n",
        "\n",
        "I added a Tukey check on `Age`. As we know from the last chapter, this does not cause any clipping with Titanic data. However, we may see new data so want it in place. I am using the outer fence, meaning I am only interested in \"probables\".\n",
        "\n",
        "If you are still working on the `TukeyTransformer` from last chapter, you can leave it off for now.\n"
      ]
    },
    {
      "cell_type": "code",
      "execution_count": 6,
      "metadata": {
        "id": "tGEsWzCTVBrc"
      },
      "outputs": [],
      "source": [
        "from sklearn.pipeline import Pipeline"
      ]
    },
    {
      "cell_type": "markdown",
      "metadata": {
        "id": "2A6SchrlVqh2"
      },
      "source": [
        "## I'm going to add Tukey to Age and Fare\n"
      ]
    },
    {
      "cell_type": "code",
      "execution_count": 7,
      "metadata": {
        "id": "R-eO6gReCT-8"
      },
      "outputs": [
        {
          "name": "stdout",
          "output_type": "stream",
          "text": [
            "[Pipeline] ........ (step 1 of 6) Processing gender Map, total=   0.0s\n",
            "\n",
            "Warning: CustomMappingTransformer[Class] does not contain keys for these values {nan}\n",
            "\n",
            "[Pipeline] ......... (step 2 of 6) Processing class Map, total=   0.0s\n",
            "[Pipeline] ....... (step 3 of 6) Processing joined OHET, total=   0.0s\n",
            "[Pipeline] ........ (step 4 of 6) Processing fare Tukey, total=   0.0s\n",
            "[Pipeline] ........ (step 5 of 6) Processing Age robust, total=   0.0s\n",
            "[Pipeline] ....... (step 6 of 6) Processing Fare robust, total=   0.0s\n"
          ]
        }
      ],
      "source": [
        "# don't change this code - it loads from your library\n",
        "\n",
        "transformed_df = titanic_transformer.fit_transform(titanic_features)"
      ]
    },
    {
      "cell_type": "code",
      "execution_count": 8,
      "metadata": {
        "id": "ZR2eIY3VUx86"
      },
      "outputs": [
        {
          "data": {
            "text/html": [
              "<div>\n",
              "<style scoped>\n",
              "    .dataframe tbody tr th:only-of-type {\n",
              "        vertical-align: middle;\n",
              "    }\n",
              "\n",
              "    .dataframe tbody tr th {\n",
              "        vertical-align: top;\n",
              "    }\n",
              "\n",
              "    .dataframe thead th {\n",
              "        text-align: right;\n",
              "    }\n",
              "</style>\n",
              "<table border=\"1\" class=\"dataframe\">\n",
              "  <thead>\n",
              "    <tr style=\"text-align: right;\">\n",
              "      <th></th>\n",
              "      <th>Age</th>\n",
              "      <th>Gender</th>\n",
              "      <th>Class</th>\n",
              "      <th>Married</th>\n",
              "      <th>Fare</th>\n",
              "      <th>Joined_Belfast</th>\n",
              "      <th>Joined_Cherbourg</th>\n",
              "      <th>Joined_Queenstown</th>\n",
              "      <th>Joined_Southampton</th>\n",
              "    </tr>\n",
              "  </thead>\n",
              "  <tbody>\n",
              "    <tr>\n",
              "      <th>0</th>\n",
              "      <td>0.552632</td>\n",
              "      <td>0</td>\n",
              "      <td>1.0</td>\n",
              "      <td>0.0</td>\n",
              "      <td>-0.255319</td>\n",
              "      <td>0</td>\n",
              "      <td>0</td>\n",
              "      <td>0</td>\n",
              "      <td>1</td>\n",
              "    </tr>\n",
              "    <tr>\n",
              "      <th>1</th>\n",
              "      <td>-0.500000</td>\n",
              "      <td>0</td>\n",
              "      <td>0.0</td>\n",
              "      <td>0.0</td>\n",
              "      <td>-0.553191</td>\n",
              "      <td>0</td>\n",
              "      <td>0</td>\n",
              "      <td>0</td>\n",
              "      <td>1</td>\n",
              "    </tr>\n",
              "    <tr>\n",
              "      <th>2</th>\n",
              "      <td>-0.921053</td>\n",
              "      <td>0</td>\n",
              "      <td>1.0</td>\n",
              "      <td>NaN</td>\n",
              "      <td>0.297872</td>\n",
              "      <td>0</td>\n",
              "      <td>0</td>\n",
              "      <td>0</td>\n",
              "      <td>1</td>\n",
              "    </tr>\n",
              "    <tr>\n",
              "      <th>3</th>\n",
              "      <td>-0.763158</td>\n",
              "      <td>0</td>\n",
              "      <td>1.0</td>\n",
              "      <td>0.0</td>\n",
              "      <td>NaN</td>\n",
              "      <td>0</td>\n",
              "      <td>0</td>\n",
              "      <td>0</td>\n",
              "      <td>1</td>\n",
              "    </tr>\n",
              "    <tr>\n",
              "      <th>4</th>\n",
              "      <td>NaN</td>\n",
              "      <td>0</td>\n",
              "      <td>2.0</td>\n",
              "      <td>0.0</td>\n",
              "      <td>0.468085</td>\n",
              "      <td>0</td>\n",
              "      <td>1</td>\n",
              "      <td>0</td>\n",
              "      <td>0</td>\n",
              "    </tr>\n",
              "    <tr>\n",
              "      <th>5</th>\n",
              "      <td>0.184211</td>\n",
              "      <td>0</td>\n",
              "      <td>NaN</td>\n",
              "      <td>1.0</td>\n",
              "      <td>-0.553191</td>\n",
              "      <td>0</td>\n",
              "      <td>0</td>\n",
              "      <td>0</td>\n",
              "      <td>1</td>\n",
              "    </tr>\n",
              "    <tr>\n",
              "      <th>6</th>\n",
              "      <td>0.763158</td>\n",
              "      <td>0</td>\n",
              "      <td>1.0</td>\n",
              "      <td>0.0</td>\n",
              "      <td>-0.255319</td>\n",
              "      <td>0</td>\n",
              "      <td>1</td>\n",
              "      <td>0</td>\n",
              "      <td>0</td>\n",
              "    </tr>\n",
              "    <tr>\n",
              "      <th>7</th>\n",
              "      <td>-0.605263</td>\n",
              "      <td>0</td>\n",
              "      <td>1.0</td>\n",
              "      <td>0.0</td>\n",
              "      <td>-0.255319</td>\n",
              "      <td>0</td>\n",
              "      <td>1</td>\n",
              "      <td>0</td>\n",
              "      <td>0</td>\n",
              "    </tr>\n",
              "    <tr>\n",
              "      <th>8</th>\n",
              "      <td>-0.236842</td>\n",
              "      <td>0</td>\n",
              "      <td>1.0</td>\n",
              "      <td>0.0</td>\n",
              "      <td>-0.212766</td>\n",
              "      <td>0</td>\n",
              "      <td>0</td>\n",
              "      <td>0</td>\n",
              "      <td>1</td>\n",
              "    </tr>\n",
              "    <tr>\n",
              "      <th>9</th>\n",
              "      <td>-0.236842</td>\n",
              "      <td>0</td>\n",
              "      <td>0.0</td>\n",
              "      <td>0.0</td>\n",
              "      <td>-0.553191</td>\n",
              "      <td>0</td>\n",
              "      <td>0</td>\n",
              "      <td>0</td>\n",
              "      <td>1</td>\n",
              "    </tr>\n",
              "  </tbody>\n",
              "</table>\n",
              "</div>"
            ],
            "text/plain": [
              "        Age  Gender  Class  Married      Fare  Joined_Belfast  \\\n",
              "0  0.552632       0    1.0      0.0 -0.255319               0   \n",
              "1 -0.500000       0    0.0      0.0 -0.553191               0   \n",
              "2 -0.921053       0    1.0      NaN  0.297872               0   \n",
              "3 -0.763158       0    1.0      0.0       NaN               0   \n",
              "4       NaN       0    2.0      0.0  0.468085               0   \n",
              "5  0.184211       0    NaN      1.0 -0.553191               0   \n",
              "6  0.763158       0    1.0      0.0 -0.255319               0   \n",
              "7 -0.605263       0    1.0      0.0 -0.255319               0   \n",
              "8 -0.236842       0    1.0      0.0 -0.212766               0   \n",
              "9 -0.236842       0    0.0      0.0 -0.553191               0   \n",
              "\n",
              "   Joined_Cherbourg  Joined_Queenstown  Joined_Southampton  \n",
              "0                 0                  0                   1  \n",
              "1                 0                  0                   1  \n",
              "2                 0                  0                   1  \n",
              "3                 0                  0                   1  \n",
              "4                 1                  0                   0  \n",
              "5                 0                  0                   1  \n",
              "6                 1                  0                   0  \n",
              "7                 1                  0                   0  \n",
              "8                 0                  0                   1  \n",
              "9                 0                  0                   1  "
            ]
          },
          "execution_count": 8,
          "metadata": {},
          "output_type": "execute_result"
        }
      ],
      "source": [
        "transformed_df.head(10)"
      ]
    },
    {
      "cell_type": "markdown",
      "metadata": {
        "id": "Erzita4sNHly"
      },
      "source": [
        "| index | Age                   | Gender | Class | Married | Fare                 | Joined_Belfast | Joined_Cherbourg | Joined_Queenstown | Joined_Southampton |\n",
        "| ----- | --------------------- | ------ | ----- | ------- | -------------------- | -------------- | ---------------- | ----------------- | ------------------ |\n",
        "| 0     | 0\\.5526315789473685   | 0      | 1\\.0  | 0\\.0    | -0\\.2553191489361702 | 0              | 0                | 0                 | 1                  |\n",
        "| 1     | -0\\.5                 | 0      | 0\\.0  | 0\\.0    | -0\\.5531914893617021 | 0              | 0                | 0                 | 1                  |\n",
        "| 2     | -0\\.9210526315789473  | 0      | 1\\.0  | NaN     | 0\\.2978723404255319  | 0              | 0                | 0                 | 1                  |\n",
        "| 3     | -0\\.7631578947368421  | 0      | 1\\.0  | 0\\.0    | NaN                  | 0              | 0                | 0                 | 1                  |\n",
        "| 4     | NaN                   | 0      | 2\\.0  | 0\\.0    | 0\\.46808510638297873 | 0              | 1                | 0                 | 0                  |\n",
        "| 5     | 0\\.18421052631578946  | 0      | NaN   | 1\\.0    | -0\\.5531914893617021 | 0              | 0                | 0                 | 1                  |\n",
        "| 6     | 0\\.7631578947368421   | 0      | 1\\.0  | 0\\.0    | -0\\.2553191489361702 | 0              | 1                | 0                 | 0                  |\n",
        "| 7     | -0\\.6052631578947368  | 0      | 1\\.0  | 0\\.0    | -0\\.2553191489361702 | 0              | 1                | 0                 | 0                  |\n",
        "| 8     | -0\\.23684210526315788 | 0      | 1\\.0  | 0\\.0    | -0\\.2127659574468085 | 0              | 0                | 0                 | 1                  |\n",
        "| 9     | -0\\.23684210526315788 | 0      | 0\\.0  | 0\\.0    | -0\\.5531914893617021 | 0              | 0                | 0                 | 1                  |\n"
      ]
    },
    {
      "cell_type": "markdown",
      "metadata": {
        "id": "OSESSeTbVJK1"
      },
      "source": [
        "# II. Not all NaNs the same\n",
        "\n",
        "The question is how did the NaN end up there in the first place? Here is a general classification.\n",
        "\n",
        "- Missing completely at random (MCAR). Cannot be tied to any known variable or event. Perhaps random data entry error. Contains no interesting information.\n",
        "\n",
        "- Missing at random (MAR). A bit of a misnomer, the missing value is linked to a known cause. Perhaps one of the ship staff was bad at filling in data. So there is a cause: careless staff. But we have lost that information by this time.\n",
        "\n",
        "- Not missing at random (NMAR). Maybe some passengers did not want to give their nationality because of fear of discrimination. So certain nationalities go missing. We might be able to infer a value from other columns, e.g., Fare, Class.\n",
        "\n",
        "The question is whether we can detect these 3 cases? If we have a NaN in the Age column, can I differentiate among these 3?\n",
        "\n",
        "We will end up doing a bit of NMAR: try to infer values using other columns. But first let's look at a few simpler approaches.\n"
      ]
    },
    {
      "cell_type": "markdown",
      "metadata": {
        "id": "1Kc8-e8hgPFz"
      },
      "source": [
        "# III. Simplest approach: deletion\n",
        "\n",
        "We could simply delete all rows that have a NaN in any column. Could do it with one line of pandas:\n",
        "\n",
        "<pre>\n",
        "dropped_table = titanic_features.dropna(axis=0)  #axis=0 says rows\n",
        "</pre>\n",
        "\n",
        "But I don't like doing that. Especially with smallish datasets. It loses information. I'd rather try to repair such rows.\n"
      ]
    },
    {
      "cell_type": "markdown",
      "metadata": {
        "id": "Nhh40b19fTnw"
      },
      "source": [
        "# IV. Use stats to replace NaNs\n",
        "\n",
        "I'll cover 2 general ways to impute a value for a NaN. The first is to use descriptive statistics for each column. So if we have NaNs in the `Age` column, compute the mean of the column and use it to replace the NaNs. Could also use the median or the mode.\n",
        "\n",
        "The code is simple:\n",
        "\n",
        "<pre>\n",
        "transformed_df['Fare'] = transformed_df['Fare'].fillna(value=transformed_df['Fare'].mean())\n",
        "</pre>\n",
        "\n",
        "And here is the good news. We can use one of our existing transformers to do it!\n"
      ]
    },
    {
      "cell_type": "code",
      "execution_count": null,
      "metadata": {
        "id": "V_16QPW2idAR"
      },
      "outputs": [
        {
          "name": "stdout",
          "output_type": "stream",
          "text": [
            "\n",
            "Warning: CustomMappingTransformer[Fare] does not contain these keys as values {nan}\n",
            "\n",
            "\n",
            "Warning: CustomMappingTransformer[Fare] does not contain keys for these values {0.46808510638297873, 0.2978723404255319, 0.0, 3.74468085106383, 1.5319148936170213, 0.7659574468085106, 2.6382978723404253, 3.404255319148936, 2.25531914893617, 2.382978723404255, 2.0, 2.127659574468085, 3.276595744680851, 0.5106382978723404, 1.0212765957446808, -0.0851063829787234, 1.7872340425531914, 2.0425531914893615, 2.765957446808511, 0.5531914893617021, 0.8085106382978723, -0.1702127659574468, 0.1276595744680851, 0.2127659574468085, 1.0638297872340425, 2.5531914893617023, 2.8085106382978724, 3.3191489361702127, 1.574468085106383, 1.8297872340425532, 0.5957446808510638, 0.851063829787234, 2.851063829787234, 3.106382978723404, 0.0425531914893617, 1.1063829787234043, 1.6170212765957446, 1.3617021276595744, -0.3829787234042553, 0.2553191489361702, -0.3404255319148936, 0.425531914893617, 0.2782978723404255, -0.2553191489361702, 0.3404255319148936, -0.425531914893617, 1.872340425531915, 0.3829787234042553, -0.0425531914893617, 0.6382978723404256, 0.8936170212765957, 1.6595744680851063, 1.148936170212766, 1.4042553191489362, 2.893617021276596, 0.6808510638297872, -0.2127659574468085, 0.1702127659574468, -0.1276595744680851, 0.9361702127659575, 1.1914893617021276, -0.5531914893617021, 2.6808510638297873, 2.9361702127659575, 3.702127659574468, -0.2978723404255319, 1.702127659574468, 1.446808510638298, 1.9574468085106382, 0.0851063829787234, nan, 0.723404255319149, 2.2127659574468086, 2.723404255319149, 0.9787234042553191, 2.978723404255319, 2.4680851063829787, 3.234042553191489, 1.2340425531914894}\n",
            "\n",
            "2 0\n"
          ]
        }
      ],
      "source": [
        "scaler = CustomMappingTransformer(\n",
        "    \"Fare\", {np.nan: transformed_df[\"Fare\"].mean()}\n",
        ")  # need np.nan to match a NaN in table\n",
        "new_df = scaler.fit_transform(transformed_df)\n",
        "print(transformed_df[\"Fare\"].isna().sum(), new_df[\"Fare\"].isna().sum())"
      ]
    },
    {
      "cell_type": "code",
      "execution_count": 10,
      "metadata": {
        "id": "YEPge1IplmtF"
      },
      "outputs": [
        {
          "data": {
            "text/html": [
              "<div>\n",
              "<style scoped>\n",
              "    .dataframe tbody tr th:only-of-type {\n",
              "        vertical-align: middle;\n",
              "    }\n",
              "\n",
              "    .dataframe tbody tr th {\n",
              "        vertical-align: top;\n",
              "    }\n",
              "\n",
              "    .dataframe thead th {\n",
              "        text-align: right;\n",
              "    }\n",
              "</style>\n",
              "<table border=\"1\" class=\"dataframe\">\n",
              "  <thead>\n",
              "    <tr style=\"text-align: right;\">\n",
              "      <th></th>\n",
              "      <th>Age</th>\n",
              "      <th>Gender</th>\n",
              "      <th>Class</th>\n",
              "      <th>Married</th>\n",
              "      <th>Fare</th>\n",
              "      <th>Joined_Belfast</th>\n",
              "      <th>Joined_Cherbourg</th>\n",
              "      <th>Joined_Queenstown</th>\n",
              "      <th>Joined_Southampton</th>\n",
              "    </tr>\n",
              "  </thead>\n",
              "  <tbody>\n",
              "    <tr>\n",
              "      <th>0</th>\n",
              "      <td>0.552632</td>\n",
              "      <td>0</td>\n",
              "      <td>1.0</td>\n",
              "      <td>0.0</td>\n",
              "      <td>-0.255319</td>\n",
              "      <td>0</td>\n",
              "      <td>0</td>\n",
              "      <td>0</td>\n",
              "      <td>1</td>\n",
              "    </tr>\n",
              "    <tr>\n",
              "      <th>1</th>\n",
              "      <td>-0.500000</td>\n",
              "      <td>0</td>\n",
              "      <td>0.0</td>\n",
              "      <td>0.0</td>\n",
              "      <td>-0.553191</td>\n",
              "      <td>0</td>\n",
              "      <td>0</td>\n",
              "      <td>0</td>\n",
              "      <td>1</td>\n",
              "    </tr>\n",
              "    <tr>\n",
              "      <th>2</th>\n",
              "      <td>-0.921053</td>\n",
              "      <td>0</td>\n",
              "      <td>1.0</td>\n",
              "      <td>NaN</td>\n",
              "      <td>0.297872</td>\n",
              "      <td>0</td>\n",
              "      <td>0</td>\n",
              "      <td>0</td>\n",
              "      <td>1</td>\n",
              "    </tr>\n",
              "    <tr>\n",
              "      <th>3</th>\n",
              "      <td>-0.763158</td>\n",
              "      <td>0</td>\n",
              "      <td>1.0</td>\n",
              "      <td>0.0</td>\n",
              "      <td>0.521407</td>\n",
              "      <td>0</td>\n",
              "      <td>0</td>\n",
              "      <td>0</td>\n",
              "      <td>1</td>\n",
              "    </tr>\n",
              "    <tr>\n",
              "      <th>4</th>\n",
              "      <td>NaN</td>\n",
              "      <td>0</td>\n",
              "      <td>2.0</td>\n",
              "      <td>0.0</td>\n",
              "      <td>0.468085</td>\n",
              "      <td>0</td>\n",
              "      <td>1</td>\n",
              "      <td>0</td>\n",
              "      <td>0</td>\n",
              "    </tr>\n",
              "  </tbody>\n",
              "</table>\n",
              "</div>"
            ],
            "text/plain": [
              "        Age  Gender  Class  Married      Fare  Joined_Belfast  \\\n",
              "0  0.552632       0    1.0      0.0 -0.255319               0   \n",
              "1 -0.500000       0    0.0      0.0 -0.553191               0   \n",
              "2 -0.921053       0    1.0      NaN  0.297872               0   \n",
              "3 -0.763158       0    1.0      0.0  0.521407               0   \n",
              "4       NaN       0    2.0      0.0  0.468085               0   \n",
              "\n",
              "   Joined_Cherbourg  Joined_Queenstown  Joined_Southampton  \n",
              "0                 0                  0                   1  \n",
              "1                 0                  0                   1  \n",
              "2                 0                  0                   1  \n",
              "3                 0                  0                   1  \n",
              "4                 1                  0                   0  "
            ]
          },
          "execution_count": 10,
          "metadata": {},
          "output_type": "execute_result"
        }
      ],
      "source": [
        "new_df.head()"
      ]
    },
    {
      "cell_type": "markdown",
      "metadata": {
        "id": "voB09RLPj3PR"
      },
      "source": [
        "## sklearn has mean transformer built-in\n",
        "\n",
        "It will compute the means for all the columns and fill in NaN values for us in one fell swoop. Cool.\n",
        "\n",
        "<pre>\n",
        "means = MeanImputerTransformer()\n",
        "new_df = means.fit_transform(transformed_df)\n",
        "</pre>\n",
        "\n",
        "I won't give this as a challenge, but I hope you feel confident you could write it if you needed to.\n"
      ]
    },
    {
      "cell_type": "markdown",
      "metadata": {
        "id": "yam-NuWI-h26"
      },
      "source": [
        "## The problem\n",
        "\n",
        "Using things like the mean assumes a normal distribution. That may be true of the `Age` column, but not the `Fare`. I think I have a better way.\n",
        "\n",
        "The new way will look at rows instead of columns.\n"
      ]
    },
    {
      "cell_type": "markdown",
      "metadata": {
        "id": "IvPhqDTWtuLe"
      },
      "source": [
        "# V. Use crowd sourcing to replace NaNs\n",
        "\n",
        "In essence, if we have a NaN in a row, use the other rows to infer the value. So if we have a NaN for the age of Mr. Smith, look at all the other rows. See if we can find characteristics from these other rows that will allow us to fill in a value for Smith. For instance, if Smith is in first class, married and paid 50 pounds for his ticket, find other males who were in first class, married, and paid a similar amount. Get their ages. Maybe average to get Smith's age.\n"
      ]
    },
    {
      "cell_type": "markdown",
      "metadata": {
        "id": "h-RsT5vqmlp3"
      },
      "source": [
        "## K Nearest Neighbors (KNN)\n",
        "\n",
        "The good news is that there is a well-known technique for doing what I described: finding the rows closest to Smith and then averaging results. It is called KNN. And sklearn has an imputer built on it. Hurray.\n",
        "\n",
        "I'll give you a brief intro to KNN and then see it in action.\n"
      ]
    },
    {
      "cell_type": "markdown",
      "metadata": {
        "id": "S_r_2g62d3KM"
      },
      "source": [
        "## First insight: recast as a Geometry problem\n",
        "\n",
        "<img src='https://www.dropbox.com/s/9fcc1crlxp19ijt/major_section.png?raw=1' width='300'>\n"
      ]
    },
    {
      "cell_type": "markdown",
      "metadata": {
        "id": "RhtR4U9h3ehW"
      },
      "source": [
        "Our goal is to compute how \"similar\" 2 rows (2 lists of numbers) are.\n",
        "Let's take the view that each list of numbers is actually a point in 8-dimension space. Sounds kind of scary already! Let me give you the intuition pretending we only have 2 numbers in each list. Call the two lists A and B. We can view each list as a point on a 2D plot as shown below. Ignore the angle theta for now.\n",
        "\n",
        "<img src='https://www.dropbox.com/s/7rtuzw37hgl1oi8/ed_vs_cos.png?raw=1' height=300>\n",
        "\n",
        "We can use the distance d as a measure of their similarity. The smaller the distance, the closer they are. If the distance is 0, they are the same point.\n"
      ]
    },
    {
      "cell_type": "markdown",
      "metadata": {
        "id": "Os8rW0ZcxJjD"
      },
      "source": [
        "### Good news!\n",
        "\n",
        "<img src='https://www.sapaviva.com/wp-content/uploads/2017/06/6S.-Euclid-of-Alexandria-ca.320-275-BC-225x225.jpg' height='100'>\n",
        "\n",
        "Euclid (circa 300BC) figured it out for us. He came up with a formula for computing d. It defines the \"Euclidean distance\" between 2 points (here called p and q instead of A and B) as follows.\n",
        "\n",
        "  <p>\n",
        "<img src='https://www.dropbox.com/s/9wao0kf3u32i3e9/euclidian.png?raw=1'>\n",
        "\n",
        "Linking our plot above into this:\n",
        "\n",
        "- n = 2. We have 2 values in each list.\n",
        "- q1 is the same as x1, p1 is the same as x2.\n",
        "- q2 is the same as y1, p2 is the same as y2.\n",
        "\n",
        "The capital (Greek) letter sigma represents summation. I'll write the code out long hand for you.\n"
      ]
    },
    {
      "cell_type": "code",
      "execution_count": null,
      "metadata": {
        "id": "2V-JJvuH_dxL"
      },
      "outputs": [],
      "source": [
        "p = [1, 3]  # just guessing from the plot\n",
        "q = [3, 2]  # ditto\n",
        "n = 2"
      ]
    },
    {
      "cell_type": "code",
      "execution_count": null,
      "metadata": {
        "id": "wwcaAry6_vxN"
      },
      "outputs": [
        {
          "data": {
            "text/plain": [
              "5"
            ]
          },
          "execution_count": 12,
          "metadata": {},
          "output_type": "execute_result"
        }
      ],
      "source": [
        "greek_sigma = (p[0] - q[0]) ** 2 + (p[1] - q[1]) ** 2\n",
        "greek_sigma"
      ]
    },
    {
      "cell_type": "code",
      "execution_count": null,
      "metadata": {
        "id": "JJsjxmdlAT92"
      },
      "outputs": [
        {
          "data": {
            "text/plain": [
              "2.23606797749979"
            ]
          },
          "execution_count": 13,
          "metadata": {},
          "output_type": "execute_result"
        }
      ],
      "source": [
        "d = greek_sigma**0.5\n",
        "d"
      ]
    },
    {
      "cell_type": "markdown",
      "metadata": {
        "id": "xGtnHTdhoURe"
      },
      "source": [
        "<img src='https://www.dropbox.com/s/8x575mvbi1xumje/cash_line.png?raw=1' height=3 width=500><br>\n",
        "<img src='https://www.gannett-cdn.com/-mm-/56cbeec8287997813f287995de67747ba5e101d5/c=9-0-1280-718/local/-/media/2018/02/15/Phoenix/Phoenix/636542954131413889-image.jpg'\n",
        "height=50 align=center>\n",
        "\n",
        "Rewrite code above to use a list comprehension that will compute distance for any 2 lists of numbers p and q.\n",
        "\n",
        "Answer: 2.23606797749979 for p and q above.\n"
      ]
    },
    {
      "cell_type": "code",
      "execution_count": null,
      "metadata": {
        "id": "hyJuiIM1on8W"
      },
      "outputs": [
        {
          "data": {
            "text/plain": [
              "2.23606797749979"
            ]
          },
          "execution_count": 14,
          "metadata": {},
          "output_type": "execute_result"
        }
      ],
      "source": [
        "# I did it in one line by summing list comprehension than taking square root.\n",
        "# Answer: 2.23606797749979\n",
        "\n",
        "\n",
        "def euclidian(a: List[int], b: List[int], n: int) -> int:\n",
        "    return sum([(a[i] - b[i]) ** 2 for i in range(n)]) ** 0.5\n",
        "\n",
        "\n",
        "euclidian(p, q, n)"
      ]
    },
    {
      "cell_type": "markdown",
      "metadata": {
        "id": "j9WxonxxBHtc"
      },
      "source": [
        "### Does 2.23606797749979 mean the 2 points are close?\n",
        "\n",
        "Euclidean distance just gives you the distance. Makes no value judgement. We do know that a distance of 0 says the points are exactly the same. So that is the min value. But there is no limit on the upper value.\n"
      ]
    },
    {
      "cell_type": "markdown",
      "metadata": {
        "id": "ksDu7F8KYa3p"
      },
      "source": [
        "<img src='https://www.dropbox.com/s/8x575mvbi1xumje/cash_line.png?raw=1' height=3 width=500><br>\n",
        "<img src='https://www.gannett-cdn.com/-mm-/56cbeec8287997813f287995de67747ba5e101d5/c=9-0-1280-718/local/-/media/2018/02/15/Phoenix/Phoenix/636542954131413889-image.jpg'\n",
        "height=50 align=center>\n",
        "\n",
        "Go ahead and try your solution on the first 2 rows from transformed_df.\n",
        "\n",
        "### My answer: 1.4821474866516537\n"
      ]
    },
    {
      "cell_type": "code",
      "execution_count": null,
      "metadata": {
        "id": "BDpPQJvO3gEW"
      },
      "outputs": [
        {
          "name": "stdout",
          "output_type": "stream",
          "text": [
            "[0.5526315789473685, 0.0, 1.0, 0.0, -0.2553191489361702, 0.0, 0.0, 0.0, 1.0]\n",
            "[-0.5, 0.0, 0.0, 0.0, -0.5531914893617021, 0.0, 0.0, 0.0, 1.0]\n"
          ]
        }
      ],
      "source": [
        "row1 = transformed_df.loc[0].to_list()\n",
        "row2 = transformed_df.loc[1].to_list()\n",
        "print(\n",
        "    row1\n",
        ")  # [0.5526315789473685, 0.0, 1.0, 0.0, -0.2553191489361702, 0.0, 0.0, 0.0, 1.0]\n",
        "print(row2)  # [-0.5, 0.0, 0.0, 0.0, -0.5531914893617021, 0.0, 0.0, 0.0, 1.0]"
      ]
    },
    {
      "cell_type": "code",
      "execution_count": null,
      "metadata": {
        "id": "lSnkVoY3eRPU"
      },
      "outputs": [
        {
          "data": {
            "text/plain": [
              "1.4821474866516537"
            ]
          },
          "execution_count": 16,
          "metadata": {},
          "output_type": "execute_result"
        }
      ],
      "source": [
        "# you can use your solution from above here.\n",
        "# Answer: #1.4821474866516537\n",
        "\n",
        "euclidian(row1, row2, len(row1))"
      ]
    },
    {
      "cell_type": "markdown",
      "metadata": {
        "id": "DsEQYYMNz8D6"
      },
      "source": [
        "## We have a similarity!\n",
        "\n",
        "We checked a person (row1) with another person (row2) and found they had similarity score of `1.6`. But wait. Is that good? I'm going to punt on that question for now. What I want to do with KNN is find the Euclidean distance between row1 and every other row. So if there are 2000 people/rows , I will come up with a list of 1999 distances. I then choose the ones with the smallest distance. These become my experts.\n",
        "\n",
        "Let's pretend that we are dubious of the `Married` column in row1. We want the experts opinion on what the married value should be for row1.\n",
        "The next step is to have the experts vote on the `Married` value. If most of the experts have a 0 (actually a value <.5) in `Married`, then the voting result is 0. If most have 1 (a value >=.5), then voting result is 1. I take the vote result and that is my prediction.\n",
        "\n",
        "I was a bit vague with this: choose the ones with the smallest distance. How many should I choose? That is where the K in KNN comes in. I choose the top K. You get to choose the value of K. A typical value is 5. But it could easily be the case that 11 or even higher will give better results. With binary columns like `Married`, I like to use an odd number to avoid ties.\n"
      ]
    },
    {
      "cell_type": "markdown",
      "metadata": {
        "id": "Qtw7NK4bpumR"
      },
      "source": [
        "<img src='https://www.dropbox.com/s/8x575mvbi1xumje/cash_line.png?raw=1' height=3 width=500><br>\n",
        "<img src='https://www.gannett-cdn.com/-mm-/56cbeec8287997813f287995de67747ba5e101d5/c=9-0-1280-718/local/-/media/2018/02/15/Phoenix/Phoenix/636542954131413889-image.jpg'\n",
        "height=50 align=center>\n",
        "\n",
        "Among the 4 rows with indices 6 through 9, find the 4 distances to row1.\n"
      ]
    },
    {
      "cell_type": "code",
      "execution_count": null,
      "metadata": {
        "id": "KVR7GbH3qEQm"
      },
      "outputs": [
        {
          "data": {
            "text/html": [
              "<div>\n",
              "<style scoped>\n",
              "    .dataframe tbody tr th:only-of-type {\n",
              "        vertical-align: middle;\n",
              "    }\n",
              "\n",
              "    .dataframe tbody tr th {\n",
              "        vertical-align: top;\n",
              "    }\n",
              "\n",
              "    .dataframe thead th {\n",
              "        text-align: right;\n",
              "    }\n",
              "</style>\n",
              "<table border=\"1\" class=\"dataframe\">\n",
              "  <thead>\n",
              "    <tr style=\"text-align: right;\">\n",
              "      <th></th>\n",
              "      <th>Age</th>\n",
              "      <th>Gender</th>\n",
              "      <th>Class</th>\n",
              "      <th>Married</th>\n",
              "      <th>Fare</th>\n",
              "      <th>Joined_Belfast</th>\n",
              "      <th>Joined_Cherbourg</th>\n",
              "      <th>Joined_Queenstown</th>\n",
              "      <th>Joined_Southampton</th>\n",
              "    </tr>\n",
              "  </thead>\n",
              "  <tbody>\n",
              "    <tr>\n",
              "      <th>6</th>\n",
              "      <td>0.763158</td>\n",
              "      <td>0</td>\n",
              "      <td>1.0</td>\n",
              "      <td>0.0</td>\n",
              "      <td>-0.255319</td>\n",
              "      <td>0</td>\n",
              "      <td>1</td>\n",
              "      <td>0</td>\n",
              "      <td>0</td>\n",
              "    </tr>\n",
              "    <tr>\n",
              "      <th>7</th>\n",
              "      <td>-0.605263</td>\n",
              "      <td>0</td>\n",
              "      <td>1.0</td>\n",
              "      <td>0.0</td>\n",
              "      <td>-0.255319</td>\n",
              "      <td>0</td>\n",
              "      <td>1</td>\n",
              "      <td>0</td>\n",
              "      <td>0</td>\n",
              "    </tr>\n",
              "    <tr>\n",
              "      <th>8</th>\n",
              "      <td>-0.236842</td>\n",
              "      <td>0</td>\n",
              "      <td>1.0</td>\n",
              "      <td>0.0</td>\n",
              "      <td>-0.212766</td>\n",
              "      <td>0</td>\n",
              "      <td>0</td>\n",
              "      <td>0</td>\n",
              "      <td>1</td>\n",
              "    </tr>\n",
              "    <tr>\n",
              "      <th>9</th>\n",
              "      <td>-0.236842</td>\n",
              "      <td>0</td>\n",
              "      <td>0.0</td>\n",
              "      <td>0.0</td>\n",
              "      <td>-0.553191</td>\n",
              "      <td>0</td>\n",
              "      <td>0</td>\n",
              "      <td>0</td>\n",
              "      <td>1</td>\n",
              "    </tr>\n",
              "  </tbody>\n",
              "</table>\n",
              "</div>"
            ],
            "text/plain": [
              "        Age  Gender  Class  Married      Fare  Joined_Belfast  \\\n",
              "6  0.763158       0    1.0      0.0 -0.255319               0   \n",
              "7 -0.605263       0    1.0      0.0 -0.255319               0   \n",
              "8 -0.236842       0    1.0      0.0 -0.212766               0   \n",
              "9 -0.236842       0    0.0      0.0 -0.553191               0   \n",
              "\n",
              "   Joined_Cherbourg  Joined_Queenstown  Joined_Southampton  \n",
              "6                 1                  0                   0  \n",
              "7                 1                  0                   0  \n",
              "8                 0                  0                   1  \n",
              "9                 0                  0                   1  "
            ]
          },
          "execution_count": 17,
          "metadata": {},
          "output_type": "execute_result"
        }
      ],
      "source": [
        "row1 = transformed_df.loc[0].to_list()  # row at indice 0\n",
        "transformed_df[6:10]  # here are the 4 rows we will compare (differs from video)"
      ]
    },
    {
      "cell_type": "markdown",
      "metadata": {
        "id": "XBcPQGGjSVHN"
      },
      "source": [
        "I used a combo of a for loop and list comprehension to create `diffs` (list of pairs).\n"
      ]
    },
    {
      "cell_type": "code",
      "execution_count": null,
      "metadata": {
        "id": "eIpkoRcGqvv5"
      },
      "outputs": [],
      "source": [
        "# your code\n",
        "diffs = []\n",
        "for i in range(6, 10):\n",
        "    diffs.append((i, euclidian(row1, transformed_df.loc[i].to_list(), len(row1))))"
      ]
    },
    {
      "cell_type": "code",
      "execution_count": null,
      "metadata": {
        "id": "_fqUM_ptSQ2L"
      },
      "outputs": [
        {
          "name": "stdout",
          "output_type": "stream",
          "text": [
            "[(6, 1.4297976533901184), (7, 1.8277637214931934), (8, 0.7906196760559859), (9, 1.3084328906182103)]\n"
          ]
        }
      ],
      "source": [
        "print(\n",
        "    diffs\n",
        ")  # [(6, 1.4297976533901184), (7, 1.8277637214931934), (8, 0.7906196760559859), (9, 1.3084328906182103)]"
      ]
    },
    {
      "cell_type": "markdown",
      "metadata": {
        "id": "JajGfXtlrriH"
      },
      "source": [
        "<img src='https://www.dropbox.com/s/8x575mvbi1xumje/cash_line.png?raw=1' height=3 width=500><br>\n",
        "<img src='https://www.gannett-cdn.com/-mm-/56cbeec8287997813f287995de67747ba5e101d5/c=9-0-1280-718/local/-/media/2018/02/15/Phoenix/Phoenix/636542954131413889-image.jpg'\n",
        "height=50 align=center>\n",
        "\n",
        "Ok, use the `sorted` function to sort on distances.\n"
      ]
    },
    {
      "cell_type": "code",
      "execution_count": null,
      "metadata": {
        "id": "6WH5ybDWrwu9"
      },
      "outputs": [],
      "source": [
        "# here is answer from last quiz in case you did not get it.\n",
        "\n",
        "diffs = [\n",
        "    (6, 1.4297976533901184),\n",
        "    (7, 1.8277637214931934),\n",
        "    (8, 0.7906196760559859),\n",
        "    (9, 1.3084328906182103),\n",
        "]"
      ]
    },
    {
      "cell_type": "code",
      "execution_count": null,
      "metadata": {
        "id": "WPwy3r5hr8nF"
      },
      "outputs": [],
      "source": [
        "# sort on distance (2nd item). Reminder: sorted function takes a key argument so you can sort on 2nd item in pair\n",
        "\n",
        "sdist = sorted(diffs, key=lambda x: x[1])"
      ]
    },
    {
      "cell_type": "code",
      "execution_count": null,
      "metadata": {
        "id": "cdsiSy7pS0Eq"
      },
      "outputs": [
        {
          "name": "stdout",
          "output_type": "stream",
          "text": [
            "[(8, 0.7906196760559859), (9, 1.3084328906182103), (6, 1.4297976533901184), (7, 1.8277637214931934)]\n"
          ]
        }
      ],
      "source": [
        "print(\n",
        "    sdist\n",
        ")  # [(8, 0.7906196760559859), (9, 1.3084328906182103), (6, 1.4297976533901184), (7, 1.8277637214931934)]"
      ]
    },
    {
      "cell_type": "markdown",
      "metadata": {
        "id": "SSmFreDnp5jd"
      },
      "source": [
        "<img src='https://www.dropbox.com/s/8x575mvbi1xumje/cash_line.png?raw=1' height=3 width=500><br>\n",
        "<img src='https://www.gannett-cdn.com/-mm-/56cbeec8287997813f287995de67747ba5e101d5/c=9-0-1280-718/local/-/media/2018/02/15/Phoenix/Phoenix/636542954131413889-image.jpg'\n",
        "height=50 align=center>\n",
        "\n",
        "Pull off top k rows, i.e., just their indices. I came up with the list `[8, 9, 6]`.\n"
      ]
    },
    {
      "cell_type": "code",
      "execution_count": null,
      "metadata": {
        "id": "RJJpHNElsuVv"
      },
      "outputs": [],
      "source": [
        "# now get indices of top k rows in terms of closeness to row 1\n",
        "k = 3\n",
        "# your code below\n",
        "\n",
        "knn_row_indices = [x[0] for x in sdist[:k]]"
      ]
    },
    {
      "cell_type": "code",
      "execution_count": null,
      "metadata": {
        "id": "iNu6PkklS31A"
      },
      "outputs": [
        {
          "data": {
            "text/plain": [
              "[8, 9, 6]"
            ]
          },
          "execution_count": 24,
          "metadata": {},
          "output_type": "execute_result"
        }
      ],
      "source": [
        "knn_row_indices  # [8, 9, 6]"
      ]
    },
    {
      "cell_type": "markdown",
      "metadata": {
        "id": "iUcJRM8n7iPN"
      },
      "source": [
        "## Let's say we did not know the marital status of row1\n",
        "\n",
        "Let our top 3 rows vote!\n"
      ]
    },
    {
      "cell_type": "code",
      "execution_count": null,
      "metadata": {
        "id": "XBkVO_i57sjq"
      },
      "outputs": [],
      "source": [
        "the_votes = [transformed_df.loc[i, \"Married\"] for i in knn_row_indices]\n",
        "married_average = sum(the_votes) / len(the_votes)"
      ]
    },
    {
      "cell_type": "code",
      "execution_count": 26,
      "metadata": {
        "id": "NEAC11X_THWm"
      },
      "outputs": [
        {
          "data": {
            "text/plain": [
              "([0.0, 0.0, 0.0], 0.0)"
            ]
          },
          "execution_count": 26,
          "metadata": {},
          "output_type": "execute_result"
        }
      ],
      "source": [
        "(the_votes, married_average)"
      ]
    },
    {
      "cell_type": "markdown",
      "metadata": {
        "id": "afmv-qnqqp0g"
      },
      "source": [
        "## Votes correct?\n"
      ]
    },
    {
      "cell_type": "code",
      "execution_count": null,
      "metadata": {
        "id": "lvabD29yqsw5"
      },
      "outputs": [
        {
          "data": {
            "text/plain": [
              "0.0"
            ]
          },
          "execution_count": 27,
          "metadata": {},
          "output_type": "execute_result"
        }
      ],
      "source": [
        "transformed_df.loc[0, \"Married\"]  # real answer"
      ]
    },
    {
      "cell_type": "markdown",
      "metadata": {
        "id": "wVLXL7ByqX_E"
      },
      "source": [
        "## I hope you see I only have to compute `sdist` once\n",
        "\n",
        "Then I can choose how many to pull off the top (i.e., k) to vote.\n"
      ]
    },
    {
      "cell_type": "markdown",
      "metadata": {
        "id": "vcsXB01v3G5l"
      },
      "source": [
        "## cosine similarity\n",
        "\n",
        "<img src='https://www.dropbox.com/s/9fcc1crlxp19ijt/major_section.png?raw=1' width='300'>\n",
        "\n",
        "We have been using Euclidean Distance to measure the similarity of 2 lists of numbers. Are there alternatives? Yes. One fairly common measure is _cosine similarity_. Let's look at this diagram again.\n",
        "\n",
        "<img src='https://www.dropbox.com/s/7rtuzw37hgl1oi8/ed_vs_cos.png?raw=1' height=300>\n",
        "\n",
        "We know that d represents the euclidean distance. But you also see the greek letter theta that measures an angle. We got the angle by drawing 2 lines both starting at (0,0). One line goes to A and the other line goes to B. What I want to do is measure the cosine of the angle (theta) that I get when I draw these lines.\n",
        "\n",
        "Cosine, residing in both Geometry and Trigonometry, brings new jargon. The lines are called _vectors_. I find it all kind of interesting. Nothing has really changed on our side. We have 2 lists of numbers. But we can take different mathematical perspectives (distance versus angle) to get more abstract views. And this gives us mathematical tools we can use. Cool.\n",
        "\n",
        "I know you probably have the formula for the cosine of theta sribbled somewhere from your math courses. But just in case, I'll give it to you below.\n",
        "\n",
        "<img src='https://www.dropbox.com/s/oi1ttx99hf0uejn/cosine.png?raw=1'>\n",
        "\n",
        "**What are A and B in this formula?** They are 2 lists of values, one from a row in `nan_table` and one from a row in `crowd_table`.\n",
        "\n",
        "Looking at the right-hand side of the formula, **what are A-sub-i and B-sub-i**? In Python, they would be A[i] and B[i].\n",
        "\n",
        "**What is the greek letter sigma?** We have seen it before. It is summation.\n",
        "There is one tricky part. You can see that on the sigmas they have i=1, meaning they assume that the lists are indexed 1,2,3, etc. As any sane person would do it. But you know in Python land, you have to have i=0.\n",
        "\n",
        "The official description of the left-hand version of the formula is for the **numerator** we are taking the _dot-product_ of 2 vectors and for the **denominator** we are multiplying the _L2 norms_ of the 2 vectors (parallel bars around A and B). The formula is nice because you can see how the jargony terms translate into algebra and things we know how to do in pure Python. I can also tell you that `numpy` knows how to deal with the dot-product and L2 norms directly. So when you import numpy, you bring in another abstraction level, one that knows about _linear algebra_.\n",
        "\n",
        "One nice thing about the cosine is that it is bounded between -1 and 1. A 1 means the same point.\n"
      ]
    },
    {
      "cell_type": "markdown",
      "metadata": {
        "id": "SFNKsVsd_f_g"
      },
      "source": [
        "# VIII. The KNNImputer\n",
        "\n",
        "The folks at sklearn have built-in a transformer that will impute all the NaN values in our table using KNN. And get this - it even works if a row has more than one NaN value! Nice.\n"
      ]
    },
    {
      "cell_type": "code",
      "execution_count": null,
      "metadata": {
        "id": "ZmMdP-Z9p98z"
      },
      "outputs": [],
      "source": [
        "from sklearn.impute import KNNImputer\n",
        "\n",
        "imputer = KNNImputer(\n",
        "    n_neighbors=5,  # a rough guess\n",
        "    weights=\"uniform\",  # could alternatively have distance factor in\n",
        "    add_indicator=False,\n",
        ")  # do not add extra column for NaN\n",
        "\n",
        "imputed_data = imputer.fit_transform(transformed_df)  # instantiate"
      ]
    },
    {
      "cell_type": "markdown",
      "metadata": {
        "id": "mqb-JH2qWRRZ"
      },
      "source": [
        "### Did we get them all?\n"
      ]
    },
    {
      "cell_type": "code",
      "execution_count": 29,
      "metadata": {
        "id": "tqRicVn3V9UR"
      },
      "outputs": [
        {
          "data": {
            "text/html": [
              "<div>\n",
              "<style scoped>\n",
              "    .dataframe tbody tr th:only-of-type {\n",
              "        vertical-align: middle;\n",
              "    }\n",
              "\n",
              "    .dataframe tbody tr th {\n",
              "        vertical-align: top;\n",
              "    }\n",
              "\n",
              "    .dataframe thead th {\n",
              "        text-align: right;\n",
              "    }\n",
              "</style>\n",
              "<table border=\"1\" class=\"dataframe\">\n",
              "  <thead>\n",
              "    <tr style=\"text-align: right;\">\n",
              "      <th></th>\n",
              "      <th>Age</th>\n",
              "      <th>Gender</th>\n",
              "      <th>Class</th>\n",
              "      <th>Married</th>\n",
              "      <th>Fare</th>\n",
              "      <th>Joined_Belfast</th>\n",
              "      <th>Joined_Cherbourg</th>\n",
              "      <th>Joined_Queenstown</th>\n",
              "      <th>Joined_Southampton</th>\n",
              "    </tr>\n",
              "  </thead>\n",
              "  <tbody>\n",
              "    <tr>\n",
              "      <th>0</th>\n",
              "      <td>False</td>\n",
              "      <td>False</td>\n",
              "      <td>False</td>\n",
              "      <td>False</td>\n",
              "      <td>False</td>\n",
              "      <td>False</td>\n",
              "      <td>False</td>\n",
              "      <td>False</td>\n",
              "      <td>False</td>\n",
              "    </tr>\n",
              "    <tr>\n",
              "      <th>1</th>\n",
              "      <td>False</td>\n",
              "      <td>False</td>\n",
              "      <td>False</td>\n",
              "      <td>False</td>\n",
              "      <td>False</td>\n",
              "      <td>False</td>\n",
              "      <td>False</td>\n",
              "      <td>False</td>\n",
              "      <td>False</td>\n",
              "    </tr>\n",
              "    <tr>\n",
              "      <th>2</th>\n",
              "      <td>False</td>\n",
              "      <td>False</td>\n",
              "      <td>False</td>\n",
              "      <td>False</td>\n",
              "      <td>False</td>\n",
              "      <td>False</td>\n",
              "      <td>False</td>\n",
              "      <td>False</td>\n",
              "      <td>False</td>\n",
              "    </tr>\n",
              "    <tr>\n",
              "      <th>3</th>\n",
              "      <td>False</td>\n",
              "      <td>False</td>\n",
              "      <td>False</td>\n",
              "      <td>False</td>\n",
              "      <td>False</td>\n",
              "      <td>False</td>\n",
              "      <td>False</td>\n",
              "      <td>False</td>\n",
              "      <td>False</td>\n",
              "    </tr>\n",
              "    <tr>\n",
              "      <th>4</th>\n",
              "      <td>False</td>\n",
              "      <td>False</td>\n",
              "      <td>False</td>\n",
              "      <td>False</td>\n",
              "      <td>False</td>\n",
              "      <td>False</td>\n",
              "      <td>False</td>\n",
              "      <td>False</td>\n",
              "      <td>False</td>\n",
              "    </tr>\n",
              "    <tr>\n",
              "      <th>...</th>\n",
              "      <td>...</td>\n",
              "      <td>...</td>\n",
              "      <td>...</td>\n",
              "      <td>...</td>\n",
              "      <td>...</td>\n",
              "      <td>...</td>\n",
              "      <td>...</td>\n",
              "      <td>...</td>\n",
              "      <td>...</td>\n",
              "    </tr>\n",
              "    <tr>\n",
              "      <th>1308</th>\n",
              "      <td>False</td>\n",
              "      <td>False</td>\n",
              "      <td>False</td>\n",
              "      <td>False</td>\n",
              "      <td>False</td>\n",
              "      <td>False</td>\n",
              "      <td>False</td>\n",
              "      <td>False</td>\n",
              "      <td>False</td>\n",
              "    </tr>\n",
              "    <tr>\n",
              "      <th>1309</th>\n",
              "      <td>False</td>\n",
              "      <td>False</td>\n",
              "      <td>False</td>\n",
              "      <td>False</td>\n",
              "      <td>False</td>\n",
              "      <td>False</td>\n",
              "      <td>False</td>\n",
              "      <td>False</td>\n",
              "      <td>False</td>\n",
              "    </tr>\n",
              "    <tr>\n",
              "      <th>1310</th>\n",
              "      <td>False</td>\n",
              "      <td>False</td>\n",
              "      <td>False</td>\n",
              "      <td>False</td>\n",
              "      <td>False</td>\n",
              "      <td>False</td>\n",
              "      <td>False</td>\n",
              "      <td>False</td>\n",
              "      <td>False</td>\n",
              "    </tr>\n",
              "    <tr>\n",
              "      <th>1311</th>\n",
              "      <td>False</td>\n",
              "      <td>False</td>\n",
              "      <td>False</td>\n",
              "      <td>False</td>\n",
              "      <td>False</td>\n",
              "      <td>False</td>\n",
              "      <td>False</td>\n",
              "      <td>False</td>\n",
              "      <td>False</td>\n",
              "    </tr>\n",
              "    <tr>\n",
              "      <th>1312</th>\n",
              "      <td>False</td>\n",
              "      <td>False</td>\n",
              "      <td>False</td>\n",
              "      <td>False</td>\n",
              "      <td>False</td>\n",
              "      <td>False</td>\n",
              "      <td>False</td>\n",
              "      <td>False</td>\n",
              "      <td>False</td>\n",
              "    </tr>\n",
              "  </tbody>\n",
              "</table>\n",
              "<p>1313 rows × 9 columns</p>\n",
              "</div>"
            ],
            "text/plain": [
              "        Age  Gender  Class  Married   Fare  Joined_Belfast  Joined_Cherbourg  \\\n",
              "0     False   False  False    False  False           False             False   \n",
              "1     False   False  False    False  False           False             False   \n",
              "2     False   False  False    False  False           False             False   \n",
              "3     False   False  False    False  False           False             False   \n",
              "4     False   False  False    False  False           False             False   \n",
              "...     ...     ...    ...      ...    ...             ...               ...   \n",
              "1308  False   False  False    False  False           False             False   \n",
              "1309  False   False  False    False  False           False             False   \n",
              "1310  False   False  False    False  False           False             False   \n",
              "1311  False   False  False    False  False           False             False   \n",
              "1312  False   False  False    False  False           False             False   \n",
              "\n",
              "      Joined_Queenstown  Joined_Southampton  \n",
              "0                 False               False  \n",
              "1                 False               False  \n",
              "2                 False               False  \n",
              "3                 False               False  \n",
              "4                 False               False  \n",
              "...                 ...                 ...  \n",
              "1308              False               False  \n",
              "1309              False               False  \n",
              "1310              False               False  \n",
              "1311              False               False  \n",
              "1312              False               False  \n",
              "\n",
              "[1313 rows x 9 columns]"
            ]
          },
          "execution_count": 29,
          "metadata": {},
          "output_type": "execute_result"
        }
      ],
      "source": [
        "np.isnan(imputed_data)"
      ]
    },
    {
      "cell_type": "code",
      "execution_count": null,
      "metadata": {
        "id": "ngJAl8jxWFL7"
      },
      "outputs": [
        {
          "data": {
            "text/plain": [
              "Age                   False\n",
              "Gender                False\n",
              "Class                 False\n",
              "Married               False\n",
              "Fare                  False\n",
              "Joined_Belfast        False\n",
              "Joined_Cherbourg      False\n",
              "Joined_Queenstown     False\n",
              "Joined_Southampton    False\n",
              "dtype: bool"
            ]
          },
          "execution_count": 30,
          "metadata": {},
          "output_type": "execute_result"
        }
      ],
      "source": [
        "np.isnan(imputed_data).any()  # Any Trues in there?"
      ]
    },
    {
      "cell_type": "markdown",
      "metadata": {
        "id": "TV-2gQD-kMFg"
      },
      "source": [
        "I used 3 parameters in above code. Let's look at the larger parameter list (and the defaults).\n",
        "\n",
        "- `n_neighbors`, default=`5`.\n",
        "  Number of neighboring rows to use for imputation. If the available rows is less than this value, then what is available is used.\n",
        "\n",
        "- `weights`, default=`’uniform’`. All columns treated the same with uniform. It is possible to weight certain columns to make them more important.\n",
        "\n",
        "- `metric`, default=`’nan_euclidean’`.\n",
        "  Distance metric for searching neighbors. If we want cosine instead, it is possible to write our own function and pass it as a value here. Have to be careful that our function can deal with NaN values. Since I omitted it, I get default.\n",
        "\n",
        "- `add_indicator`, default=`False`. This will add new binary columns to indicate a cell with a imputed value. See discussion below.\n"
      ]
    },
    {
      "cell_type": "markdown",
      "metadata": {
        "id": "-XjunLygBvJ0"
      },
      "source": [
        "## Problem is we have numpy matrix as output\n",
        "\n",
        "Even though we can take dataframe as input, cannot get anything but numpy matrix as output. I'll ask you to fix that in a challenge by wrapping KNNImputer in your own class. This should be kind of standard by now.\n"
      ]
    },
    {
      "cell_type": "markdown",
      "metadata": {
        "id": "nTDUwlxgCDs1"
      },
      "source": [
        "## Important note on `add_indicator`\n",
        "\n",
        "If `add_indicator` is set to True, it will create a whole new column for each column that has at least one NaN. Might be easiest to look at example. Here is table that has NaNs in first 3 columns but not in 4th.\n"
      ]
    },
    {
      "cell_type": "code",
      "execution_count": 31,
      "metadata": {
        "id": "grIGLsCOxpps"
      },
      "outputs": [
        {
          "data": {
            "text/html": [
              "<div>\n",
              "<style scoped>\n",
              "    .dataframe tbody tr th:only-of-type {\n",
              "        vertical-align: middle;\n",
              "    }\n",
              "\n",
              "    .dataframe tbody tr th {\n",
              "        vertical-align: top;\n",
              "    }\n",
              "\n",
              "    .dataframe thead th {\n",
              "        text-align: right;\n",
              "    }\n",
              "</style>\n",
              "<table border=\"1\" class=\"dataframe\">\n",
              "  <thead>\n",
              "    <tr style=\"text-align: right;\">\n",
              "      <th></th>\n",
              "      <th>a</th>\n",
              "      <th>b</th>\n",
              "      <th>c</th>\n",
              "      <th>d</th>\n",
              "    </tr>\n",
              "  </thead>\n",
              "  <tbody>\n",
              "    <tr>\n",
              "      <th>0</th>\n",
              "      <td>1.0</td>\n",
              "      <td>2.0</td>\n",
              "      <td>NaN</td>\n",
              "      <td>10</td>\n",
              "    </tr>\n",
              "    <tr>\n",
              "      <th>1</th>\n",
              "      <td>NaN</td>\n",
              "      <td>3.0</td>\n",
              "      <td>NaN</td>\n",
              "      <td>10</td>\n",
              "    </tr>\n",
              "    <tr>\n",
              "      <th>2</th>\n",
              "      <td>5.0</td>\n",
              "      <td>NaN</td>\n",
              "      <td>6.0</td>\n",
              "      <td>10</td>\n",
              "    </tr>\n",
              "    <tr>\n",
              "      <th>3</th>\n",
              "      <td>7.0</td>\n",
              "      <td>8.0</td>\n",
              "      <td>9.0</td>\n",
              "      <td>10</td>\n",
              "    </tr>\n",
              "  </tbody>\n",
              "</table>\n",
              "</div>"
            ],
            "text/plain": [
              "     a    b    c   d\n",
              "0  1.0  2.0  NaN  10\n",
              "1  NaN  3.0  NaN  10\n",
              "2  5.0  NaN  6.0  10\n",
              "3  7.0  8.0  9.0  10"
            ]
          },
          "execution_count": 31,
          "metadata": {},
          "output_type": "execute_result"
        }
      ],
      "source": [
        "data = [[1, 2, np.nan, 10], [np.nan, 3, np.nan, 10], [5, np.nan, 6, 10], [7, 8, 9, 10]]\n",
        "test_df = pd.DataFrame(data, columns=[\"a\", \"b\", \"c\", \"d\"])\n",
        "test_df"
      ]
    },
    {
      "cell_type": "code",
      "execution_count": 32,
      "metadata": {
        "id": "U3sWmNG72ynO"
      },
      "outputs": [
        {
          "data": {
            "text/html": [
              "<div>\n",
              "<style scoped>\n",
              "    .dataframe tbody tr th:only-of-type {\n",
              "        vertical-align: middle;\n",
              "    }\n",
              "\n",
              "    .dataframe tbody tr th {\n",
              "        vertical-align: top;\n",
              "    }\n",
              "\n",
              "    .dataframe thead th {\n",
              "        text-align: right;\n",
              "    }\n",
              "</style>\n",
              "<table border=\"1\" class=\"dataframe\">\n",
              "  <thead>\n",
              "    <tr style=\"text-align: right;\">\n",
              "      <th></th>\n",
              "      <th>a</th>\n",
              "      <th>b</th>\n",
              "      <th>c</th>\n",
              "      <th>d</th>\n",
              "      <th>missingindicator_a</th>\n",
              "      <th>missingindicator_b</th>\n",
              "      <th>missingindicator_c</th>\n",
              "    </tr>\n",
              "  </thead>\n",
              "  <tbody>\n",
              "    <tr>\n",
              "      <th>0</th>\n",
              "      <td>1.000000</td>\n",
              "      <td>2.000000</td>\n",
              "      <td>7.5</td>\n",
              "      <td>10.0</td>\n",
              "      <td>0.0</td>\n",
              "      <td>0.0</td>\n",
              "      <td>1.0</td>\n",
              "    </tr>\n",
              "    <tr>\n",
              "      <th>1</th>\n",
              "      <td>4.333333</td>\n",
              "      <td>3.000000</td>\n",
              "      <td>7.5</td>\n",
              "      <td>10.0</td>\n",
              "      <td>1.0</td>\n",
              "      <td>0.0</td>\n",
              "      <td>1.0</td>\n",
              "    </tr>\n",
              "    <tr>\n",
              "      <th>2</th>\n",
              "      <td>5.000000</td>\n",
              "      <td>4.333333</td>\n",
              "      <td>6.0</td>\n",
              "      <td>10.0</td>\n",
              "      <td>0.0</td>\n",
              "      <td>1.0</td>\n",
              "      <td>0.0</td>\n",
              "    </tr>\n",
              "    <tr>\n",
              "      <th>3</th>\n",
              "      <td>7.000000</td>\n",
              "      <td>8.000000</td>\n",
              "      <td>9.0</td>\n",
              "      <td>10.0</td>\n",
              "      <td>0.0</td>\n",
              "      <td>0.0</td>\n",
              "      <td>0.0</td>\n",
              "    </tr>\n",
              "  </tbody>\n",
              "</table>\n",
              "</div>"
            ],
            "text/plain": [
              "          a         b    c     d  missingindicator_a  missingindicator_b  \\\n",
              "0  1.000000  2.000000  7.5  10.0                 0.0                 0.0   \n",
              "1  4.333333  3.000000  7.5  10.0                 1.0                 0.0   \n",
              "2  5.000000  4.333333  6.0  10.0                 0.0                 1.0   \n",
              "3  7.000000  8.000000  9.0  10.0                 0.0                 0.0   \n",
              "\n",
              "   missingindicator_c  \n",
              "0                 1.0  \n",
              "1                 1.0  \n",
              "2                 0.0  \n",
              "3                 0.0  "
            ]
          },
          "execution_count": 32,
          "metadata": {},
          "output_type": "execute_result"
        }
      ],
      "source": [
        "imputer = KNNImputer(add_indicator=True)\n",
        "data = imputer.fit_transform(test_df)\n",
        "data\n",
        "# pd.DataFrame(data, columns=['a','b','c','d','nan_a', 'nan_b', 'nan_c'])"
      ]
    },
    {
      "cell_type": "markdown",
      "metadata": {
        "id": "CwLO-4gezpW4"
      },
      "source": [
        "As you can see, 3 new columns that mark whether a row had a NaN in a column. There are two reasons I don't like this.\n",
        "\n",
        "1. I said we were going to treat NaNs as carrying no information. So we do not need to mark them specially. I hope you see if they did carry information, then the new columns would carry that forward even after the NaNs replaced, i.e., a machine learning algorithm might be able to make use of the new columns.\n",
        "\n",
        "2. I don't like adding new columns like this. We may end up with different sized tables between exploration and production. That would be bad.\n",
        "\n",
        "So bottomline is to set `add_indicator=False`.\n"
      ]
    },
    {
      "cell_type": "markdown",
      "metadata": {
        "id": "V0VQk_bSr5kH"
      },
      "source": [
        "## I'm going to time it because that will become important later\n"
      ]
    },
    {
      "cell_type": "code",
      "execution_count": null,
      "metadata": {
        "id": "sdO3lYVbZKjK"
      },
      "outputs": [
        {
          "data": {
            "text/html": [
              "<div>\n",
              "<style scoped>\n",
              "    .dataframe tbody tr th:only-of-type {\n",
              "        vertical-align: middle;\n",
              "    }\n",
              "\n",
              "    .dataframe tbody tr th {\n",
              "        vertical-align: top;\n",
              "    }\n",
              "\n",
              "    .dataframe thead th {\n",
              "        text-align: right;\n",
              "    }\n",
              "</style>\n",
              "<table border=\"1\" class=\"dataframe\">\n",
              "  <thead>\n",
              "    <tr style=\"text-align: right;\">\n",
              "      <th></th>\n",
              "      <th>a</th>\n",
              "      <th>b</th>\n",
              "      <th>c</th>\n",
              "      <th>d</th>\n",
              "    </tr>\n",
              "  </thead>\n",
              "  <tbody>\n",
              "    <tr>\n",
              "      <th>0</th>\n",
              "      <td>1.0</td>\n",
              "      <td>2.0</td>\n",
              "      <td>NaN</td>\n",
              "      <td>10</td>\n",
              "    </tr>\n",
              "    <tr>\n",
              "      <th>1</th>\n",
              "      <td>NaN</td>\n",
              "      <td>3.0</td>\n",
              "      <td>NaN</td>\n",
              "      <td>10</td>\n",
              "    </tr>\n",
              "    <tr>\n",
              "      <th>2</th>\n",
              "      <td>5.0</td>\n",
              "      <td>NaN</td>\n",
              "      <td>6.0</td>\n",
              "      <td>10</td>\n",
              "    </tr>\n",
              "    <tr>\n",
              "      <th>3</th>\n",
              "      <td>7.0</td>\n",
              "      <td>8.0</td>\n",
              "      <td>9.0</td>\n",
              "      <td>10</td>\n",
              "    </tr>\n",
              "  </tbody>\n",
              "</table>\n",
              "</div>"
            ],
            "text/plain": [
              "     a    b    c   d\n",
              "0  1.0  2.0  NaN  10\n",
              "1  NaN  3.0  NaN  10\n",
              "2  5.0  NaN  6.0  10\n",
              "3  7.0  8.0  9.0  10"
            ]
          },
          "execution_count": 33,
          "metadata": {},
          "output_type": "execute_result"
        }
      ],
      "source": [
        "test_df  # has NaN values!"
      ]
    },
    {
      "cell_type": "code",
      "execution_count": 34,
      "metadata": {
        "id": "btEMAHsl71kj"
      },
      "outputs": [
        {
          "name": "stdout",
          "output_type": "stream",
          "text": [
            "CPU times: user 45.8 ms, sys: 4.83 ms, total: 50.6 ms\n",
            "Wall time: 5.04 ms\n"
          ]
        },
        {
          "data": {
            "text/html": [
              "<div>\n",
              "<style scoped>\n",
              "    .dataframe tbody tr th:only-of-type {\n",
              "        vertical-align: middle;\n",
              "    }\n",
              "\n",
              "    .dataframe tbody tr th {\n",
              "        vertical-align: top;\n",
              "    }\n",
              "\n",
              "    .dataframe thead th {\n",
              "        text-align: right;\n",
              "    }\n",
              "</style>\n",
              "<table border=\"1\" class=\"dataframe\">\n",
              "  <thead>\n",
              "    <tr style=\"text-align: right;\">\n",
              "      <th></th>\n",
              "      <th>a</th>\n",
              "      <th>b</th>\n",
              "      <th>c</th>\n",
              "      <th>d</th>\n",
              "    </tr>\n",
              "  </thead>\n",
              "  <tbody>\n",
              "    <tr>\n",
              "      <th>0</th>\n",
              "      <td>1.000000</td>\n",
              "      <td>2.000000</td>\n",
              "      <td>7.5</td>\n",
              "      <td>10.0</td>\n",
              "    </tr>\n",
              "    <tr>\n",
              "      <th>1</th>\n",
              "      <td>4.333333</td>\n",
              "      <td>3.000000</td>\n",
              "      <td>7.5</td>\n",
              "      <td>10.0</td>\n",
              "    </tr>\n",
              "    <tr>\n",
              "      <th>2</th>\n",
              "      <td>5.000000</td>\n",
              "      <td>4.333333</td>\n",
              "      <td>6.0</td>\n",
              "      <td>10.0</td>\n",
              "    </tr>\n",
              "    <tr>\n",
              "      <th>3</th>\n",
              "      <td>7.000000</td>\n",
              "      <td>8.000000</td>\n",
              "      <td>9.0</td>\n",
              "      <td>10.0</td>\n",
              "    </tr>\n",
              "  </tbody>\n",
              "</table>\n",
              "</div>"
            ],
            "text/plain": [
              "          a         b    c     d\n",
              "0  1.000000  2.000000  7.5  10.0\n",
              "1  4.333333  3.000000  7.5  10.0\n",
              "2  5.000000  4.333333  6.0  10.0\n",
              "3  7.000000  8.000000  9.0  10.0"
            ]
          },
          "execution_count": 34,
          "metadata": {},
          "output_type": "execute_result"
        }
      ],
      "source": [
        "%%time\n",
        "imputer = KNNImputer(add_indicator=False)\n",
        "data = imputer.fit_transform(test_df)\n",
        "data  #NaNs imputed"
      ]
    },
    {
      "cell_type": "code",
      "execution_count": 35,
      "metadata": {
        "id": "XCPWqbdYMzaD"
      },
      "outputs": [
        {
          "name": "stdout",
          "output_type": "stream",
          "text": [
            "CPU times: user 67 ms, sys: 0 ns, total: 67 ms\n",
            "Wall time: 6.65 ms\n"
          ]
        }
      ],
      "source": [
        "%%time\n",
        "data = imputer.fit_transform(transformed_df)"
      ]
    },
    {
      "cell_type": "markdown",
      "metadata": {
        "id": "yqvOJntMWCT4"
      },
      "source": [
        "### Roughly `5ms` for entire table\n",
        "\n",
        ".005 of a second.\n"
      ]
    },
    {
      "cell_type": "markdown",
      "metadata": {
        "id": "mPrYK83tDhC8"
      },
      "source": [
        "# IX. Using the `IterativeImputer`\n",
        "\n",
        "I like this imputer quite a bit. It is really a framework or workflow for a more base predictor; you have to pass the base predictor you want as an argument to the imputer. What it then does is finds the first feature/column that has one or more NaNs. It treats this column as the target/label column y. It uses all the other features/columns to predict NaN values in this column.\n",
        "\n",
        "When it is done with one column, i.e., has predicted values for all the NaNs in that column, it moves on to the next. In this way it iterates through all the columns with NaNs and predicts values for each NaN.\n",
        "\n",
        "There are more details, but I would rather put them off for a subsequent chapter. Here is general use:\n",
        "\n",
        "<pre>\n",
        "from sklearn... import some_predictor\n",
        "from sklearn.experimental import enable_iterative_imputer\n",
        "from sklearn.impute import IterativeImputer\n",
        "ii_imp = IterativeImputer(\n",
        "    estimator=some_predictor(), max_iter=10, random_state=1234)\n",
        "\n",
        "numpy_matrix = ii_imp.fit_transform(old_df)\n",
        "</pre>\n",
        "\n",
        "What is missing is \"`some_predictor`\". We have to choose what predictor to use. Let's try a few on our small test table.\n"
      ]
    },
    {
      "cell_type": "code",
      "execution_count": 36,
      "metadata": {
        "id": "xDhDCRE4hh9X"
      },
      "outputs": [],
      "source": [
        "from sklearn.experimental import enable_iterative_imputer\n",
        "from sklearn.impute import IterativeImputer\n",
        "\n",
        "# 3 different choices for \"some_predictor\"\n",
        "from sklearn.tree import DecisionTreeRegressor  # alternative 1\n",
        "from sklearn.ensemble import ExtraTreesRegressor  # alternative 2\n",
        "from sklearn.linear_model import BayesianRidge  # alternative 3"
      ]
    },
    {
      "cell_type": "markdown",
      "metadata": {
        "id": "gX9q_-3T1sfG"
      },
      "source": [
        "So I've imported 3 candidates to try for `some_predictor`. We will try each one in turn, first in simple 4 row table then the full Titanic table.\n"
      ]
    },
    {
      "cell_type": "markdown",
      "metadata": {
        "id": "MSpj2h4GyVq4"
      },
      "source": [
        "### Note: wall time is what we focus on\n",
        "\n",
        "This would be the time your end-user would have to wait for an answer.\n",
        "\n",
        "**Caveat**: wall time is machine dependent. If you are running on a machine with multiple cores (like Colab) then your wall time could easily be (much) smaller than CPU time given parallelism is in play.\n"
      ]
    },
    {
      "cell_type": "markdown",
      "metadata": {
        "id": "pft1S_ugilsF"
      },
      "source": [
        "## Start with `DecisionTreeRegressor`\n",
        "\n",
        "A plain decision tree is used. We will discuss decision trees in more detail later in the course.\n",
        "\n",
        "[Docs](https://scikit-learn.org/stable/modules/generated/sklearn.tree.DecisionTreeRegressor.html).\n"
      ]
    },
    {
      "cell_type": "code",
      "execution_count": 37,
      "metadata": {
        "id": "EomUF5HSY4PB"
      },
      "outputs": [
        {
          "data": {
            "text/html": [
              "<div>\n",
              "<style scoped>\n",
              "    .dataframe tbody tr th:only-of-type {\n",
              "        vertical-align: middle;\n",
              "    }\n",
              "\n",
              "    .dataframe tbody tr th {\n",
              "        vertical-align: top;\n",
              "    }\n",
              "\n",
              "    .dataframe thead th {\n",
              "        text-align: right;\n",
              "    }\n",
              "</style>\n",
              "<table border=\"1\" class=\"dataframe\">\n",
              "  <thead>\n",
              "    <tr style=\"text-align: right;\">\n",
              "      <th></th>\n",
              "      <th>a</th>\n",
              "      <th>b</th>\n",
              "      <th>c</th>\n",
              "      <th>d</th>\n",
              "    </tr>\n",
              "  </thead>\n",
              "  <tbody>\n",
              "    <tr>\n",
              "      <th>0</th>\n",
              "      <td>1.0</td>\n",
              "      <td>2.0</td>\n",
              "      <td>NaN</td>\n",
              "      <td>10</td>\n",
              "    </tr>\n",
              "    <tr>\n",
              "      <th>1</th>\n",
              "      <td>NaN</td>\n",
              "      <td>3.0</td>\n",
              "      <td>NaN</td>\n",
              "      <td>10</td>\n",
              "    </tr>\n",
              "    <tr>\n",
              "      <th>2</th>\n",
              "      <td>5.0</td>\n",
              "      <td>NaN</td>\n",
              "      <td>6.0</td>\n",
              "      <td>10</td>\n",
              "    </tr>\n",
              "    <tr>\n",
              "      <th>3</th>\n",
              "      <td>7.0</td>\n",
              "      <td>8.0</td>\n",
              "      <td>9.0</td>\n",
              "      <td>10</td>\n",
              "    </tr>\n",
              "  </tbody>\n",
              "</table>\n",
              "</div>"
            ],
            "text/plain": [
              "     a    b    c   d\n",
              "0  1.0  2.0  NaN  10\n",
              "1  NaN  3.0  NaN  10\n",
              "2  5.0  NaN  6.0  10\n",
              "3  7.0  8.0  9.0  10"
            ]
          },
          "execution_count": 37,
          "metadata": {},
          "output_type": "execute_result"
        }
      ],
      "source": [
        "test_df"
      ]
    },
    {
      "cell_type": "code",
      "execution_count": 38,
      "metadata": {
        "id": "PqvIh9mKgUAv"
      },
      "outputs": [
        {
          "name": "stdout",
          "output_type": "stream",
          "text": [
            "CPU times: user 105 ms, sys: 156 μs, total: 105 ms\n",
            "Wall time: 10.4 ms\n"
          ]
        },
        {
          "data": {
            "text/html": [
              "<div>\n",
              "<style scoped>\n",
              "    .dataframe tbody tr th:only-of-type {\n",
              "        vertical-align: middle;\n",
              "    }\n",
              "\n",
              "    .dataframe tbody tr th {\n",
              "        vertical-align: top;\n",
              "    }\n",
              "\n",
              "    .dataframe thead th {\n",
              "        text-align: right;\n",
              "    }\n",
              "</style>\n",
              "<table border=\"1\" class=\"dataframe\">\n",
              "  <thead>\n",
              "    <tr style=\"text-align: right;\">\n",
              "      <th></th>\n",
              "      <th>a</th>\n",
              "      <th>b</th>\n",
              "      <th>c</th>\n",
              "      <th>d</th>\n",
              "    </tr>\n",
              "  </thead>\n",
              "  <tbody>\n",
              "    <tr>\n",
              "      <th>0</th>\n",
              "      <td>1.0</td>\n",
              "      <td>2.0</td>\n",
              "      <td>6.0</td>\n",
              "      <td>10.0</td>\n",
              "    </tr>\n",
              "    <tr>\n",
              "      <th>1</th>\n",
              "      <td>1.0</td>\n",
              "      <td>3.0</td>\n",
              "      <td>6.0</td>\n",
              "      <td>10.0</td>\n",
              "    </tr>\n",
              "    <tr>\n",
              "      <th>2</th>\n",
              "      <td>5.0</td>\n",
              "      <td>8.0</td>\n",
              "      <td>6.0</td>\n",
              "      <td>10.0</td>\n",
              "    </tr>\n",
              "    <tr>\n",
              "      <th>3</th>\n",
              "      <td>7.0</td>\n",
              "      <td>8.0</td>\n",
              "      <td>9.0</td>\n",
              "      <td>10.0</td>\n",
              "    </tr>\n",
              "  </tbody>\n",
              "</table>\n",
              "</div>"
            ],
            "text/plain": [
              "     a    b    c     d\n",
              "0  1.0  2.0  6.0  10.0\n",
              "1  1.0  3.0  6.0  10.0\n",
              "2  5.0  8.0  6.0  10.0\n",
              "3  7.0  8.0  9.0  10.0"
            ]
          },
          "execution_count": 38,
          "metadata": {},
          "output_type": "execute_result"
        }
      ],
      "source": [
        "%%time\n",
        "estimator = DecisionTreeRegressor()  #instantiate predictor\n",
        "ii_imp = IterativeImputer(estimator=estimator, max_iter=10, random_state=1234)  #instantiate imputer\n",
        "\n",
        "data = ii_imp.fit_transform(test_df)\n",
        "data"
      ]
    },
    {
      "cell_type": "code",
      "execution_count": 39,
      "metadata": {
        "id": "KVmIJmOkLTKL"
      },
      "outputs": [
        {
          "name": "stdout",
          "output_type": "stream",
          "text": [
            "CPU times: user 355 ms, sys: 0 ns, total: 355 ms\n",
            "Wall time: 35.4 ms\n"
          ]
        }
      ],
      "source": [
        "%%time\n",
        "data = ii_imp.fit_transform(transformed_df)  #4.5 times slower than knn (differs from video)"
      ]
    },
    {
      "cell_type": "markdown",
      "metadata": {
        "id": "XG6OXTJ6fCFy"
      },
      "source": [
        "## Next up is `ExtraTreesRegressor`\n",
        "\n",
        "Briefly, it uses a \"forest\" of decision trees to make predictions. Each tree gets a vote. It is a twiddle on something you may have heard: Random Forests. It generally outshines plain decision trees.\n",
        "\n",
        "[Docs](https://scikit-learn.org/stable/modules/generated/sklearn.ensemble.ExtraTreesRegressor.html).\n"
      ]
    },
    {
      "cell_type": "code",
      "execution_count": 40,
      "metadata": {
        "id": "fC8goyeffS2s"
      },
      "outputs": [
        {
          "data": {
            "text/html": [
              "<div>\n",
              "<style scoped>\n",
              "    .dataframe tbody tr th:only-of-type {\n",
              "        vertical-align: middle;\n",
              "    }\n",
              "\n",
              "    .dataframe tbody tr th {\n",
              "        vertical-align: top;\n",
              "    }\n",
              "\n",
              "    .dataframe thead th {\n",
              "        text-align: right;\n",
              "    }\n",
              "</style>\n",
              "<table border=\"1\" class=\"dataframe\">\n",
              "  <thead>\n",
              "    <tr style=\"text-align: right;\">\n",
              "      <th></th>\n",
              "      <th>a</th>\n",
              "      <th>b</th>\n",
              "      <th>c</th>\n",
              "      <th>d</th>\n",
              "    </tr>\n",
              "  </thead>\n",
              "  <tbody>\n",
              "    <tr>\n",
              "      <th>0</th>\n",
              "      <td>1.0</td>\n",
              "      <td>2.0</td>\n",
              "      <td>NaN</td>\n",
              "      <td>10</td>\n",
              "    </tr>\n",
              "    <tr>\n",
              "      <th>1</th>\n",
              "      <td>NaN</td>\n",
              "      <td>3.0</td>\n",
              "      <td>NaN</td>\n",
              "      <td>10</td>\n",
              "    </tr>\n",
              "    <tr>\n",
              "      <th>2</th>\n",
              "      <td>5.0</td>\n",
              "      <td>NaN</td>\n",
              "      <td>6.0</td>\n",
              "      <td>10</td>\n",
              "    </tr>\n",
              "    <tr>\n",
              "      <th>3</th>\n",
              "      <td>7.0</td>\n",
              "      <td>8.0</td>\n",
              "      <td>9.0</td>\n",
              "      <td>10</td>\n",
              "    </tr>\n",
              "  </tbody>\n",
              "</table>\n",
              "</div>"
            ],
            "text/plain": [
              "     a    b    c   d\n",
              "0  1.0  2.0  NaN  10\n",
              "1  NaN  3.0  NaN  10\n",
              "2  5.0  NaN  6.0  10\n",
              "3  7.0  8.0  9.0  10"
            ]
          },
          "execution_count": 40,
          "metadata": {},
          "output_type": "execute_result"
        }
      ],
      "source": [
        "test_df"
      ]
    },
    {
      "cell_type": "code",
      "execution_count": 41,
      "metadata": {
        "id": "okMFUGilfwvo"
      },
      "outputs": [
        {
          "name": "stdout",
          "output_type": "stream",
          "text": [
            "CPU times: user 1.22 s, sys: 14.8 ms, total: 1.23 s\n",
            "Wall time: 1.23 s\n"
          ]
        },
        {
          "name": "stderr",
          "output_type": "stream",
          "text": [
            "/home/default/miniconda3/envs/cs523/lib/python3.12/site-packages/sklearn/impute/_iterative.py:895: ConvergenceWarning: [IterativeImputer] Early stopping criterion not reached.\n",
            "  warnings.warn(\n"
          ]
        },
        {
          "data": {
            "text/html": [
              "<div>\n",
              "<style scoped>\n",
              "    .dataframe tbody tr th:only-of-type {\n",
              "        vertical-align: middle;\n",
              "    }\n",
              "\n",
              "    .dataframe tbody tr th {\n",
              "        vertical-align: top;\n",
              "    }\n",
              "\n",
              "    .dataframe thead th {\n",
              "        text-align: right;\n",
              "    }\n",
              "</style>\n",
              "<table border=\"1\" class=\"dataframe\">\n",
              "  <thead>\n",
              "    <tr style=\"text-align: right;\">\n",
              "      <th></th>\n",
              "      <th>a</th>\n",
              "      <th>b</th>\n",
              "      <th>c</th>\n",
              "      <th>d</th>\n",
              "    </tr>\n",
              "  </thead>\n",
              "  <tbody>\n",
              "    <tr>\n",
              "      <th>0</th>\n",
              "      <td>1.00</td>\n",
              "      <td>2.00</td>\n",
              "      <td>6.0</td>\n",
              "      <td>10.0</td>\n",
              "    </tr>\n",
              "    <tr>\n",
              "      <th>1</th>\n",
              "      <td>3.32</td>\n",
              "      <td>3.00</td>\n",
              "      <td>6.0</td>\n",
              "      <td>10.0</td>\n",
              "    </tr>\n",
              "    <tr>\n",
              "      <th>2</th>\n",
              "      <td>5.00</td>\n",
              "      <td>3.75</td>\n",
              "      <td>6.0</td>\n",
              "      <td>10.0</td>\n",
              "    </tr>\n",
              "    <tr>\n",
              "      <th>3</th>\n",
              "      <td>7.00</td>\n",
              "      <td>8.00</td>\n",
              "      <td>9.0</td>\n",
              "      <td>10.0</td>\n",
              "    </tr>\n",
              "  </tbody>\n",
              "</table>\n",
              "</div>"
            ],
            "text/plain": [
              "      a     b    c     d\n",
              "0  1.00  2.00  6.0  10.0\n",
              "1  3.32  3.00  6.0  10.0\n",
              "2  5.00  3.75  6.0  10.0\n",
              "3  7.00  8.00  9.0  10.0"
            ]
          },
          "execution_count": 41,
          "metadata": {},
          "output_type": "execute_result"
        }
      ],
      "source": [
        "%%time\n",
        "ii_imp = IterativeImputer(estimator=ExtraTreesRegressor(), max_iter=10, random_state=1234)\n",
        "\n",
        "data = ii_imp.fit_transform(test_df)\n",
        "data"
      ]
    },
    {
      "cell_type": "code",
      "execution_count": 42,
      "metadata": {
        "id": "XLtn7ui-MOEt"
      },
      "outputs": [
        {
          "name": "stdout",
          "output_type": "stream",
          "text": [
            "CPU times: user 6.34 s, sys: 219 ms, total: 6.56 s\n",
            "Wall time: 6.56 s\n"
          ]
        },
        {
          "name": "stderr",
          "output_type": "stream",
          "text": [
            "/home/default/miniconda3/envs/cs523/lib/python3.12/site-packages/sklearn/impute/_iterative.py:895: ConvergenceWarning: [IterativeImputer] Early stopping criterion not reached.\n",
            "  warnings.warn(\n"
          ]
        }
      ],
      "source": [
        "%%time\n",
        "data = ii_imp.fit_transform(transformed_df)   #11.8K vs 10\n"
      ]
    },
    {
      "cell_type": "markdown",
      "metadata": {
        "id": "TR8cb9_khz-f"
      },
      "source": [
        "## Finally we have `BayesianRidge`\n",
        "\n",
        "This is a fancy form of regression. And yes, I am putting it off and regression until a later chapter. I mostly want to illustrate that you can try different methods using the `IterativeImputer`. We first looked at trees. Now switching to (fancy) regression.\n",
        "\n",
        "[Docs](https://scikit-learn.org/stable/modules/generated/sklearn.linear_model.BayesianRidge.html)\n",
        "\n",
        "If you just can't wait until later, here is a [good tutorial](https://www.analyticsvidhya.com/blog/2016/01/ridge-lasso-regression-python-complete-tutorial/) on Ridge Regression (and Lasso as well). And a [tutorial on Bayesian regression](https://towardsdatascience.com/introduction-to-bayesian-linear-regression-e66e60791ea7).\n"
      ]
    },
    {
      "cell_type": "code",
      "execution_count": 43,
      "metadata": {
        "id": "LZCPHiknf7sR"
      },
      "outputs": [
        {
          "name": "stdout",
          "output_type": "stream",
          "text": [
            "CPU times: user 49.3 ms, sys: 0 ns, total: 49.3 ms\n",
            "Wall time: 48.2 ms\n"
          ]
        },
        {
          "data": {
            "text/html": [
              "<div>\n",
              "<style scoped>\n",
              "    .dataframe tbody tr th:only-of-type {\n",
              "        vertical-align: middle;\n",
              "    }\n",
              "\n",
              "    .dataframe tbody tr th {\n",
              "        vertical-align: top;\n",
              "    }\n",
              "\n",
              "    .dataframe thead th {\n",
              "        text-align: right;\n",
              "    }\n",
              "</style>\n",
              "<table border=\"1\" class=\"dataframe\">\n",
              "  <thead>\n",
              "    <tr style=\"text-align: right;\">\n",
              "      <th></th>\n",
              "      <th>a</th>\n",
              "      <th>b</th>\n",
              "      <th>c</th>\n",
              "      <th>d</th>\n",
              "    </tr>\n",
              "  </thead>\n",
              "  <tbody>\n",
              "    <tr>\n",
              "      <th>0</th>\n",
              "      <td>1.000000</td>\n",
              "      <td>2.000000</td>\n",
              "      <td>2.652577</td>\n",
              "      <td>10.0</td>\n",
              "    </tr>\n",
              "    <tr>\n",
              "      <th>1</th>\n",
              "      <td>2.491537</td>\n",
              "      <td>3.000000</td>\n",
              "      <td>3.905355</td>\n",
              "      <td>10.0</td>\n",
              "    </tr>\n",
              "    <tr>\n",
              "      <th>2</th>\n",
              "      <td>5.000000</td>\n",
              "      <td>4.663242</td>\n",
              "      <td>6.000000</td>\n",
              "      <td>10.0</td>\n",
              "    </tr>\n",
              "    <tr>\n",
              "      <th>3</th>\n",
              "      <td>7.000000</td>\n",
              "      <td>8.000000</td>\n",
              "      <td>9.000000</td>\n",
              "      <td>10.0</td>\n",
              "    </tr>\n",
              "  </tbody>\n",
              "</table>\n",
              "</div>"
            ],
            "text/plain": [
              "          a         b         c     d\n",
              "0  1.000000  2.000000  2.652577  10.0\n",
              "1  2.491537  3.000000  3.905355  10.0\n",
              "2  5.000000  4.663242  6.000000  10.0\n",
              "3  7.000000  8.000000  9.000000  10.0"
            ]
          },
          "execution_count": 43,
          "metadata": {},
          "output_type": "execute_result"
        }
      ],
      "source": [
        "%%time\n",
        "ii_imp = IterativeImputer(estimator=BayesianRidge(), max_iter=10, random_state=1234)\n",
        "\n",
        "data = ii_imp.fit_transform(test_df)\n",
        "data"
      ]
    },
    {
      "cell_type": "code",
      "execution_count": 44,
      "metadata": {
        "id": "_cpUqPTONpna"
      },
      "outputs": [
        {
          "name": "stdout",
          "output_type": "stream",
          "text": [
            "CPU times: user 338 ms, sys: 3.21 ms, total: 341 ms\n",
            "Wall time: 40.1 ms\n"
          ]
        }
      ],
      "source": [
        "%%time\n",
        "data = ii_imp.fit_transform(transformed_df)   #slower (note parallelism in play by comparing to CPU time)\n"
      ]
    },
    {
      "cell_type": "markdown",
      "metadata": {
        "id": "6ZZmw_mRjNV-"
      },
      "source": [
        "# X. Which is best?\n",
        "\n",
        "My gut reaction is that the `IterativeImputer` with `ExtraTreesRegressor` is the best. I'd have to do a more sophisticated analysis to back that up, e.g., place some synthetic NaN values in the table but remember their actual value and compare with imputation.\n",
        "\n",
        "The problem is the time the best takes. When I ran it on the actual Titanic data (a very small dataset), it was taking 2 seconds. That may be too slow if we are running a web-site where a user is waiting for a response. Because of this I am going to push ahead with the `KNNImputer`. It is the fastest.\n"
      ]
    },
    {
      "cell_type": "markdown",
      "metadata": {
        "id": "2PYA9mw6mcvV"
      },
      "source": [
        "# Challenge 1\n",
        "\n",
        "<img src='https://www.dropbox.com/s/3uyvp722kp5to2r/assignment.png?raw=1' width='300'>\n",
        "\n",
        "<img src='https://www.dropbox.com/s/oi1ttx99hf0uejn/cosine.png?raw=1'>\n",
        "\n",
        "Please compute the cosine similarity between the first 2 rows in `transformed_df`. If you are good at reading linear algebra notation, then know that numpy supplies:\n",
        "\n",
        "- A method for doing dot product.\n",
        "\n",
        "- A method for computing L2 norm.\n",
        "\n",
        "If you are shaky on the notation, you can resort to using 3 list comprehensions for the 3 sums.\n"
      ]
    },
    {
      "cell_type": "code",
      "execution_count": 45,
      "metadata": {
        "id": "MCe3qbFWlRsD"
      },
      "outputs": [],
      "source": [
        "row1 = transformed_df.loc[0].to_list()\n",
        "row2 = transformed_df.loc[1].to_list()"
      ]
    },
    {
      "cell_type": "code",
      "execution_count": 46,
      "metadata": {},
      "outputs": [
        {
          "data": {
            "text/plain": [
              "[-0.5, 0.0, 0.0, 0.0, -0.5531914893617021, 0.0, 0.0, 0.0, 1.0]"
            ]
          },
          "execution_count": 46,
          "metadata": {},
          "output_type": "execute_result"
        }
      ],
      "source": [
        "row2"
      ]
    },
    {
      "cell_type": "code",
      "execution_count": null,
      "metadata": {
        "id": "wqWgzMHB7PQ0"
      },
      "outputs": [],
      "source": [
        "# compute and place answer in r1r2_cosine_similarity\n",
        "\n",
        "\n",
        "def cosine_similarity(row1: List[int], row2: List[int]) -> int:\n",
        "    return np.dot(row1, row2) / (np.linalg.norm(row1) * np.linalg.norm(row2))\n",
        "\n",
        "\n",
        "r1r2_cosine_similarity = cosine_similarity(row1, row2)"
      ]
    },
    {
      "cell_type": "code",
      "execution_count": null,
      "metadata": {
        "id": "hT96Z7h3YJ28"
      },
      "outputs": [
        {
          "data": {
            "text/plain": [
              "0.4503419058458462"
            ]
          },
          "execution_count": 48,
          "metadata": {},
          "output_type": "execute_result"
        }
      ],
      "source": [
        "r1r2_cosine_similarity  # 0.4503419058458463"
      ]
    },
    {
      "cell_type": "markdown",
      "metadata": {
        "id": "gxLPt_j89PPw"
      },
      "source": [
        "Here is an oracle, although a little complicated in its details.\n"
      ]
    },
    {
      "cell_type": "code",
      "execution_count": null,
      "metadata": {
        "id": "HgB267yn8xHe"
      },
      "outputs": [
        {
          "data": {
            "text/plain": [
              "0.4503419058458463"
            ]
          },
          "execution_count": 49,
          "metadata": {},
          "output_type": "execute_result"
        }
      ],
      "source": [
        "from sklearn.metrics.pairwise import cosine_similarity\n",
        "\n",
        "cosine_similarity(np.array(row1).reshape(1, -1), np.array(row2).reshape(1, -1))[0][0]"
      ]
    },
    {
      "cell_type": "markdown",
      "metadata": {
        "id": "QVQ1bAu84ZiE"
      },
      "source": [
        "### Can we use the `cosine_similarity` function with KNNImputer?\n",
        "\n",
        "Yes and no. Yes, we could pass it in as a parameter when we instantiate. No, it won't work because it does not handle NaN values well.\n",
        "\n",
        "We could write our own `nan_cosine_similarity` function that does handle NaN values and then pass it in, but I won't ask you to do it.\n"
      ]
    },
    {
      "cell_type": "markdown",
      "metadata": {
        "id": "wJGn0De5vl4p"
      },
      "source": [
        "# Challenge 2\n",
        "\n",
        "<img src='https://www.dropbox.com/s/3uyvp722kp5to2r/assignment.png?raw=1' width='300'>\n",
        "\n",
        "Can we just plug the `KNNImputer` into our pipepline? One problem is that it does not return a dataframe but a numpy array. But there is a way around that. I can use `set_config` to tell sklearn that I want all its built-in transformers to input and output dataframes. Cool, check it out.\n"
      ]
    },
    {
      "cell_type": "code",
      "execution_count": null,
      "metadata": {
        "id": "Mtu9p1Crhor8"
      },
      "outputs": [],
      "source": [
        "from sklearn import (\n",
        "    set_config,\n",
        ")  # add both of these to your library before you define any transformers\n",
        "\n",
        "set_config(\n",
        "    transform_output=\"pandas\"\n",
        ")  # have all transformers (including KNNImputer) now deal in dataframes versus numpy arrays"
      ]
    },
    {
      "cell_type": "markdown",
      "metadata": {
        "id": "9kb9iITXJB6O"
      },
      "source": [
        "So that problem is solved. However, there is one more issue. I do not want `add_indicator` to be settable to `True`. It will totally mess up our data later. So I am still going to ask you to write a custom transformer that basically wraps `KNNImputer` and hard-codes `add_indicator` to be set to `False`. For those of you who have taken an FP class, this is in the flavor of a currying operation, albeit in OOP land versus FP land.\n",
        "\n",
        "Note that you will need to import `KNNImputer` before defining the class; you will need to create an instance of it in the `__init__` method. So make sure this import (and all the imports you see in our notebooks) end up in your library.\n"
      ]
    },
    {
      "cell_type": "markdown",
      "metadata": {
        "id": "1YmWc1rc6TWt"
      },
      "source": [
        "### One other constraint\n",
        "\n",
        "`KNNImputer` is set up to have a `fit` method: it will cause an error if `transform` is called before `fit`. Make sure your class is set up the same. Your `fit` method should simply call the `KNNImputer` `fit` method.\n"
      ]
    },
    {
      "cell_type": "markdown",
      "metadata": {
        "id": "OOGipcEfWNqu"
      },
      "source": [
        "### A fancy type hint\n",
        "\n",
        "Trying to ensure n_neighbors positive.\n"
      ]
    },
    {
      "cell_type": "code",
      "execution_count": 51,
      "metadata": {
        "id": "M5osTJufU-jc"
      },
      "outputs": [],
      "source": [
        "from typing import Annotated\n",
        "\n",
        "PositiveInta = Annotated[int, lambda x: x > 0]"
      ]
    },
    {
      "cell_type": "code",
      "execution_count": 52,
      "metadata": {
        "id": "DSXxaVDmVyjq"
      },
      "outputs": [],
      "source": [
        "from annotated_types import Gt\n",
        "\n",
        "PositiveIntb = Annotated[int, Gt(0)]"
      ]
    },
    {
      "cell_type": "code",
      "execution_count": null,
      "metadata": {
        "id": "cRJxQODdVHpY"
      },
      "outputs": [],
      "source": [
        "def foo(x: PositiveIntb):\n",
        "    print(x)"
      ]
    },
    {
      "cell_type": "code",
      "execution_count": 99,
      "metadata": {
        "id": "cLfWEs3eV7WX"
      },
      "outputs": [
        {
          "name": "stdout",
          "output_type": "stream",
          "text": [
            "0\n",
            "0.4\n"
          ]
        }
      ],
      "source": [
        "foo(0)  # should warn with red line but does not - hmmmmm\n",
        "foo(0.4)  # should warn with red line and does"
      ]
    },
    {
      "cell_type": "code",
      "execution_count": 55,
      "metadata": {
        "id": "J7zhdIJ8VD02"
      },
      "outputs": [],
      "source": [
        "from sklearn.impute import KNNImputer"
      ]
    },
    {
      "cell_type": "code",
      "execution_count": null,
      "metadata": {
        "id": "RLXmdqaiWs8K"
      },
      "outputs": [
        {
          "ename": "SyntaxError",
          "evalue": "invalid syntax (702460814.py, line 67)",
          "output_type": "error",
          "traceback": [
            "  \u001b[36mCell\u001b[39m\u001b[36m \u001b[39m\u001b[32mIn[105]\u001b[39m\u001b[32m, line 67\u001b[39m\n\u001b[31m    \u001b[39m\u001b[31massert isinstance(X: pd.DataFrame), \"Input must be a pandas dataframe.\"\u001b[39m\n                       ^\n\u001b[31mSyntaxError\u001b[39m\u001b[31m:\u001b[39m invalid syntax\n"
          ]
        }
      ],
      "source": [
        "class CustomKNNTransformer(BaseEstimator, TransformerMixin):\n",
        "    \"\"\"Imputes missing values using KNN.\n",
        "\n",
        "    This transformer wraps the KNNImputer from scikit-learn and hard-codes\n",
        "    add_indicator to be False. It also ensures that the input and output\n",
        "    are pandas DataFrames.\n",
        "\n",
        "    Parameters\n",
        "    ----------\n",
        "    n_neighbors : int, default=5\n",
        "        Number of neighboring samples to use for imputation.\n",
        "    weights : {'uniform', 'distance'}, default='uniform'\n",
        "        Weight function used in prediction. Possible values:\n",
        "        \"uniform\" : uniform weights. All points in each neighborhood\n",
        "        are weighted equally.\n",
        "        \"distance\" : weight points by the inverse of their distance.\n",
        "        in this case, closer neighbors of a query point will have a\n",
        "        greater influence than neighbors which are further away.\n",
        "    \"\"\"\n",
        "\n",
        "    # your code below\n",
        "    def __init__(\n",
        "        self,\n",
        "        n_neighbors: PositiveIntb = 5,\n",
        "        weights: Literal[\"uniform\", \"distance\"] = \"uniform\",\n",
        "    ) -> None:\n",
        "        \"\"\"Initializes the CustomKNNTransformer.\n",
        "\n",
        "        Args:\n",
        "            n_neighbors : int, default=5\n",
        "                Number of neighboring samples to use for imputation. Must be > 0.\n",
        "            weights : {'uniform', 'distance'}, default='uniform'\n",
        "                Weight function used in prediction.\n",
        "        \"\"\"\n",
        "        if not isinstance(n_neighbors, int) or n_neighbors <= 0:\n",
        "            raise ValueError(\"n_neighbors must be a positive integer.\")\n",
        "\n",
        "        self.n_neighbors = n_neighbors\n",
        "        self.weights = weights\n",
        "        self.KNNImputer = KNNImputer(\n",
        "            n_neighbors=n_neighbors, weights=weights, add_indicator=False\n",
        "        )\n",
        "        self.fitted = False\n",
        "\n",
        "    def fit(self, X: pd.DataFrame) -> Self:\n",
        "        \"\"\"Fit the imputer on the provided data X.\n",
        "\n",
        "        Checks if the input is a DataFrame and if n_neighbors is feasible.\n",
        "        Fits the underlying KNNImputer.\n",
        "\n",
        "        Args:\n",
        "            X : pd.DataFrame\n",
        "                Input data with potential missing values. Features are columns,\n",
        "                samples are rows.\n",
        "            y : None\n",
        "                Ignored. This parameter exists for compatibility with scikit-learn\n",
        "                pipelines.\n",
        "\n",
        "        Returns:\n",
        "            Self\n",
        "                The fitted transformer instance.\n",
        "\n",
        "        Raises:\n",
        "            AssertionError: If X is not a pandas DataFrame.\n",
        "            UserWarning: If n_neighbors > number of samples in X.\n",
        "        \"\"\"\n",
        "        assert isinstance(X, pd.DataFrame), \"Input must be a pandas dataframe.\"\n",
        "        if self.n_neighbors > len(X):\n",
        "            warnings.warn(\n",
        "                f\"n_neighbors of {self.n_neighbors} larger than dataframe length of {len(X)}\"\n",
        "            )\n",
        "        self.fitted = True\n",
        "        self.KNNImputer.fit(X)\n",
        "        return self\n",
        "\n",
        "    def transform(self, X: pd.DataFrame) -> pd.DataFrame:\n",
        "        \"\"\"Impute all missing values in X.\n",
        "\n",
        "        Ensures the transformer has been fitted before transforming.\n",
        "        Uses the fitted KNNImputer to perform the transformation.\n",
        "\n",
        "        Args:\n",
        "            X : pd.DataFrame\n",
        "                The data to impute. Must have the same number of features as the\n",
        "                data used in `fit`.\n",
        "\n",
        "        Returns:\n",
        "            pd.DataFrame\n",
        "                DataFrame with imputed values.\n",
        "\n",
        "        Raises:\n",
        "            AssertionError: If called before `fit`.\n",
        "            AssertionError: If X is not a pandas DataFrame.\n",
        "            ValueError: If the number of features in X differs from fit.\n",
        "        \"\"\"\n",
        "        assert (\n",
        "            self.fitted == True\n",
        "        ), 'NotFittedError: This CustomKNNTransformer instance is not fitted yet. Call \"fit\" with appropriate arguments before using this estimator.'\n",
        "\n",
        "        return self.KNNImputer.transform(X)"
      ]
    },
    {
      "cell_type": "code",
      "execution_count": 102,
      "metadata": {
        "id": "h5oJXrNi7aVD"
      },
      "outputs": [
        {
          "data": {
            "text/html": [
              "<div>\n",
              "<style scoped>\n",
              "    .dataframe tbody tr th:only-of-type {\n",
              "        vertical-align: middle;\n",
              "    }\n",
              "\n",
              "    .dataframe tbody tr th {\n",
              "        vertical-align: top;\n",
              "    }\n",
              "\n",
              "    .dataframe thead th {\n",
              "        text-align: right;\n",
              "    }\n",
              "</style>\n",
              "<table border=\"1\" class=\"dataframe\">\n",
              "  <thead>\n",
              "    <tr style=\"text-align: right;\">\n",
              "      <th></th>\n",
              "      <th>a</th>\n",
              "      <th>b</th>\n",
              "      <th>c</th>\n",
              "      <th>d</th>\n",
              "    </tr>\n",
              "  </thead>\n",
              "  <tbody>\n",
              "    <tr>\n",
              "      <th>0</th>\n",
              "      <td>1.0</td>\n",
              "      <td>2.0</td>\n",
              "      <td>NaN</td>\n",
              "      <td>10</td>\n",
              "    </tr>\n",
              "    <tr>\n",
              "      <th>1</th>\n",
              "      <td>NaN</td>\n",
              "      <td>3.0</td>\n",
              "      <td>NaN</td>\n",
              "      <td>10</td>\n",
              "    </tr>\n",
              "    <tr>\n",
              "      <th>2</th>\n",
              "      <td>5.0</td>\n",
              "      <td>NaN</td>\n",
              "      <td>6.0</td>\n",
              "      <td>10</td>\n",
              "    </tr>\n",
              "    <tr>\n",
              "      <th>3</th>\n",
              "      <td>7.0</td>\n",
              "      <td>8.0</td>\n",
              "      <td>9.0</td>\n",
              "      <td>10</td>\n",
              "    </tr>\n",
              "  </tbody>\n",
              "</table>\n",
              "</div>"
            ],
            "text/plain": [
              "     a    b    c   d\n",
              "0  1.0  2.0  NaN  10\n",
              "1  NaN  3.0  NaN  10\n",
              "2  5.0  NaN  6.0  10\n",
              "3  7.0  8.0  9.0  10"
            ]
          },
          "execution_count": 102,
          "metadata": {},
          "output_type": "execute_result"
        }
      ],
      "source": [
        "test_df"
      ]
    },
    {
      "cell_type": "markdown",
      "metadata": {
        "id": "H4qMP1Ib86CA"
      },
      "source": [
        "### Make sure `fit` called before `transform`\n"
      ]
    },
    {
      "cell_type": "code",
      "execution_count": 103,
      "metadata": {
        "id": "LM33RpY8Qd0y"
      },
      "outputs": [
        {
          "ename": "AssertionError",
          "evalue": "NotFittedError: This CustomKNNTransformer instance is not fitted yet. Call \"fit\" with appropriate arguments before using this estimator.",
          "output_type": "error",
          "traceback": [
            "\u001b[31m---------------------------------------------------------------------------\u001b[39m",
            "\u001b[31mAssertionError\u001b[39m                            Traceback (most recent call last)",
            "\u001b[36mCell\u001b[39m\u001b[36m \u001b[39m\u001b[32mIn[103]\u001b[39m\u001b[32m, line 4\u001b[39m\n\u001b[32m      1\u001b[39m \u001b[38;5;66;03m# Hint: see attributes of KNNImputer that are set after fitting. Can check with hasattr function.\u001b[39;00m\n\u001b[32m      3\u001b[39m my_knn_imputer = CustomKNNTransformer()\n\u001b[32m----> \u001b[39m\u001b[32m4\u001b[39m new_df = \u001b[43mmy_knn_imputer\u001b[49m\u001b[43m.\u001b[49m\u001b[43mtransform\u001b[49m\u001b[43m(\u001b[49m\n\u001b[32m      5\u001b[39m \u001b[43m    \u001b[49m\u001b[43mtest_df\u001b[49m\n\u001b[32m      6\u001b[39m \u001b[43m)\u001b[49m  \u001b[38;5;66;03m# AssertionError: NotFittedError: This CustomKNNTransformer instance is not fitted yet. Call \"fit\" with appropriate arguments before using this estimator.\u001b[39;00m\n\u001b[32m      7\u001b[39m new_df\n",
            "\u001b[36mFile \u001b[39m\u001b[32m~/miniconda3/envs/cs523/lib/python3.12/site-packages/sklearn/utils/_set_output.py:319\u001b[39m, in \u001b[36m_wrap_method_output.<locals>.wrapped\u001b[39m\u001b[34m(self, X, *args, **kwargs)\u001b[39m\n\u001b[32m    317\u001b[39m \u001b[38;5;129m@wraps\u001b[39m(f)\n\u001b[32m    318\u001b[39m \u001b[38;5;28;01mdef\u001b[39;00m\u001b[38;5;250m \u001b[39m\u001b[34mwrapped\u001b[39m(\u001b[38;5;28mself\u001b[39m, X, *args, **kwargs):\n\u001b[32m--> \u001b[39m\u001b[32m319\u001b[39m     data_to_wrap = \u001b[43mf\u001b[49m\u001b[43m(\u001b[49m\u001b[38;5;28;43mself\u001b[39;49m\u001b[43m,\u001b[49m\u001b[43m \u001b[49m\u001b[43mX\u001b[49m\u001b[43m,\u001b[49m\u001b[43m \u001b[49m\u001b[43m*\u001b[49m\u001b[43margs\u001b[49m\u001b[43m,\u001b[49m\u001b[43m \u001b[49m\u001b[43m*\u001b[49m\u001b[43m*\u001b[49m\u001b[43mkwargs\u001b[49m\u001b[43m)\u001b[49m\n\u001b[32m    320\u001b[39m     \u001b[38;5;28;01mif\u001b[39;00m \u001b[38;5;28misinstance\u001b[39m(data_to_wrap, \u001b[38;5;28mtuple\u001b[39m):\n\u001b[32m    321\u001b[39m         \u001b[38;5;66;03m# only wrap the first output for cross decomposition\u001b[39;00m\n\u001b[32m    322\u001b[39m         return_tuple = (\n\u001b[32m    323\u001b[39m             _wrap_data_with_container(method, data_to_wrap[\u001b[32m0\u001b[39m], X, \u001b[38;5;28mself\u001b[39m),\n\u001b[32m    324\u001b[39m             *data_to_wrap[\u001b[32m1\u001b[39m:],\n\u001b[32m    325\u001b[39m         )\n",
            "\u001b[36mCell\u001b[39m\u001b[36m \u001b[39m\u001b[32mIn[101]\u001b[39m\u001b[32m, line 97\u001b[39m, in \u001b[36mCustomKNNTransformer.transform\u001b[39m\u001b[34m(self, X)\u001b[39m\n\u001b[32m     76\u001b[39m \u001b[38;5;28;01mdef\u001b[39;00m\u001b[38;5;250m \u001b[39m\u001b[34mtransform\u001b[39m(\u001b[38;5;28mself\u001b[39m, X: pd.DataFrame) -> pd.DataFrame:\n\u001b[32m     77\u001b[39m \u001b[38;5;250m    \u001b[39m\u001b[33;03m\"\"\"Impute all missing values in X.\u001b[39;00m\n\u001b[32m     78\u001b[39m \n\u001b[32m     79\u001b[39m \u001b[33;03m    Ensures the transformer has been fitted before transforming.\u001b[39;00m\n\u001b[32m   (...)\u001b[39m\u001b[32m     94\u001b[39m \u001b[33;03m        ValueError: If the number of features in X differs from fit.\u001b[39;00m\n\u001b[32m     95\u001b[39m \u001b[33;03m    \"\"\"\u001b[39;00m\n\u001b[32m     96\u001b[39m     \u001b[38;5;28;01massert\u001b[39;00m (\n\u001b[32m---> \u001b[39m\u001b[32m97\u001b[39m         \u001b[38;5;28mself\u001b[39m.fitted == \u001b[38;5;28;01mTrue\u001b[39;00m\n\u001b[32m     98\u001b[39m     ), \u001b[33m'\u001b[39m\u001b[33mNotFittedError: This CustomKNNTransformer instance is not fitted yet. Call \u001b[39m\u001b[33m\"\u001b[39m\u001b[33mfit\u001b[39m\u001b[33m\"\u001b[39m\u001b[33m with appropriate arguments before using this estimator.\u001b[39m\u001b[33m'\u001b[39m\n\u001b[32m    100\u001b[39m     \u001b[38;5;28;01mreturn\u001b[39;00m \u001b[38;5;28mself\u001b[39m.KNNImputer.transform(X)\n",
            "\u001b[31mAssertionError\u001b[39m: NotFittedError: This CustomKNNTransformer instance is not fitted yet. Call \"fit\" with appropriate arguments before using this estimator."
          ]
        }
      ],
      "source": [
        "# Hint: see attributes of KNNImputer that are set after fitting. Can check with hasattr function.\n",
        "\n",
        "my_knn_imputer = CustomKNNTransformer()\n",
        "new_df = my_knn_imputer.transform(\n",
        "    test_df\n",
        ")  # AssertionError: NotFittedError: This CustomKNNTransformer instance is not fitted yet. Call \"fit\" with appropriate arguments before using this estimator.\n",
        "new_df"
      ]
    },
    {
      "cell_type": "markdown",
      "metadata": {
        "id": "6jT4OODJZhWT"
      },
      "source": [
        "### Check K>samples\n"
      ]
    },
    {
      "cell_type": "code",
      "execution_count": 104,
      "metadata": {
        "id": "fv-VG5ECZhWU"
      },
      "outputs": [
        {
          "name": "stderr",
          "output_type": "stream",
          "text": [
            "/tmp/ipykernel_484203/4171623518.py:69: UserWarning: n_neighbors of 5 larger than dataframe length of 4\n",
            "  warnings.warn(\n"
          ]
        },
        {
          "data": {
            "text/html": [
              "<style>#sk-container-id-1 {\n",
              "  /* Definition of color scheme common for light and dark mode */\n",
              "  --sklearn-color-text: #000;\n",
              "  --sklearn-color-text-muted: #666;\n",
              "  --sklearn-color-line: gray;\n",
              "  /* Definition of color scheme for unfitted estimators */\n",
              "  --sklearn-color-unfitted-level-0: #fff5e6;\n",
              "  --sklearn-color-unfitted-level-1: #f6e4d2;\n",
              "  --sklearn-color-unfitted-level-2: #ffe0b3;\n",
              "  --sklearn-color-unfitted-level-3: chocolate;\n",
              "  /* Definition of color scheme for fitted estimators */\n",
              "  --sklearn-color-fitted-level-0: #f0f8ff;\n",
              "  --sklearn-color-fitted-level-1: #d4ebff;\n",
              "  --sklearn-color-fitted-level-2: #b3dbfd;\n",
              "  --sklearn-color-fitted-level-3: cornflowerblue;\n",
              "\n",
              "  /* Specific color for light theme */\n",
              "  --sklearn-color-text-on-default-background: var(--sg-text-color, var(--theme-code-foreground, var(--jp-content-font-color1, black)));\n",
              "  --sklearn-color-background: var(--sg-background-color, var(--theme-background, var(--jp-layout-color0, white)));\n",
              "  --sklearn-color-border-box: var(--sg-text-color, var(--theme-code-foreground, var(--jp-content-font-color1, black)));\n",
              "  --sklearn-color-icon: #696969;\n",
              "\n",
              "  @media (prefers-color-scheme: dark) {\n",
              "    /* Redefinition of color scheme for dark theme */\n",
              "    --sklearn-color-text-on-default-background: var(--sg-text-color, var(--theme-code-foreground, var(--jp-content-font-color1, white)));\n",
              "    --sklearn-color-background: var(--sg-background-color, var(--theme-background, var(--jp-layout-color0, #111)));\n",
              "    --sklearn-color-border-box: var(--sg-text-color, var(--theme-code-foreground, var(--jp-content-font-color1, white)));\n",
              "    --sklearn-color-icon: #878787;\n",
              "  }\n",
              "}\n",
              "\n",
              "#sk-container-id-1 {\n",
              "  color: var(--sklearn-color-text);\n",
              "}\n",
              "\n",
              "#sk-container-id-1 pre {\n",
              "  padding: 0;\n",
              "}\n",
              "\n",
              "#sk-container-id-1 input.sk-hidden--visually {\n",
              "  border: 0;\n",
              "  clip: rect(1px 1px 1px 1px);\n",
              "  clip: rect(1px, 1px, 1px, 1px);\n",
              "  height: 1px;\n",
              "  margin: -1px;\n",
              "  overflow: hidden;\n",
              "  padding: 0;\n",
              "  position: absolute;\n",
              "  width: 1px;\n",
              "}\n",
              "\n",
              "#sk-container-id-1 div.sk-dashed-wrapped {\n",
              "  border: 1px dashed var(--sklearn-color-line);\n",
              "  margin: 0 0.4em 0.5em 0.4em;\n",
              "  box-sizing: border-box;\n",
              "  padding-bottom: 0.4em;\n",
              "  background-color: var(--sklearn-color-background);\n",
              "}\n",
              "\n",
              "#sk-container-id-1 div.sk-container {\n",
              "  /* jupyter's `normalize.less` sets `[hidden] { display: none; }`\n",
              "     but bootstrap.min.css set `[hidden] { display: none !important; }`\n",
              "     so we also need the `!important` here to be able to override the\n",
              "     default hidden behavior on the sphinx rendered scikit-learn.org.\n",
              "     See: https://github.com/scikit-learn/scikit-learn/issues/21755 */\n",
              "  display: inline-block !important;\n",
              "  position: relative;\n",
              "}\n",
              "\n",
              "#sk-container-id-1 div.sk-text-repr-fallback {\n",
              "  display: none;\n",
              "}\n",
              "\n",
              "div.sk-parallel-item,\n",
              "div.sk-serial,\n",
              "div.sk-item {\n",
              "  /* draw centered vertical line to link estimators */\n",
              "  background-image: linear-gradient(var(--sklearn-color-text-on-default-background), var(--sklearn-color-text-on-default-background));\n",
              "  background-size: 2px 100%;\n",
              "  background-repeat: no-repeat;\n",
              "  background-position: center center;\n",
              "}\n",
              "\n",
              "/* Parallel-specific style estimator block */\n",
              "\n",
              "#sk-container-id-1 div.sk-parallel-item::after {\n",
              "  content: \"\";\n",
              "  width: 100%;\n",
              "  border-bottom: 2px solid var(--sklearn-color-text-on-default-background);\n",
              "  flex-grow: 1;\n",
              "}\n",
              "\n",
              "#sk-container-id-1 div.sk-parallel {\n",
              "  display: flex;\n",
              "  align-items: stretch;\n",
              "  justify-content: center;\n",
              "  background-color: var(--sklearn-color-background);\n",
              "  position: relative;\n",
              "}\n",
              "\n",
              "#sk-container-id-1 div.sk-parallel-item {\n",
              "  display: flex;\n",
              "  flex-direction: column;\n",
              "}\n",
              "\n",
              "#sk-container-id-1 div.sk-parallel-item:first-child::after {\n",
              "  align-self: flex-end;\n",
              "  width: 50%;\n",
              "}\n",
              "\n",
              "#sk-container-id-1 div.sk-parallel-item:last-child::after {\n",
              "  align-self: flex-start;\n",
              "  width: 50%;\n",
              "}\n",
              "\n",
              "#sk-container-id-1 div.sk-parallel-item:only-child::after {\n",
              "  width: 0;\n",
              "}\n",
              "\n",
              "/* Serial-specific style estimator block */\n",
              "\n",
              "#sk-container-id-1 div.sk-serial {\n",
              "  display: flex;\n",
              "  flex-direction: column;\n",
              "  align-items: center;\n",
              "  background-color: var(--sklearn-color-background);\n",
              "  padding-right: 1em;\n",
              "  padding-left: 1em;\n",
              "}\n",
              "\n",
              "\n",
              "/* Toggleable style: style used for estimator/Pipeline/ColumnTransformer box that is\n",
              "clickable and can be expanded/collapsed.\n",
              "- Pipeline and ColumnTransformer use this feature and define the default style\n",
              "- Estimators will overwrite some part of the style using the `sk-estimator` class\n",
              "*/\n",
              "\n",
              "/* Pipeline and ColumnTransformer style (default) */\n",
              "\n",
              "#sk-container-id-1 div.sk-toggleable {\n",
              "  /* Default theme specific background. It is overwritten whether we have a\n",
              "  specific estimator or a Pipeline/ColumnTransformer */\n",
              "  background-color: var(--sklearn-color-background);\n",
              "}\n",
              "\n",
              "/* Toggleable label */\n",
              "#sk-container-id-1 label.sk-toggleable__label {\n",
              "  cursor: pointer;\n",
              "  display: flex;\n",
              "  width: 100%;\n",
              "  margin-bottom: 0;\n",
              "  padding: 0.5em;\n",
              "  box-sizing: border-box;\n",
              "  text-align: center;\n",
              "  align-items: start;\n",
              "  justify-content: space-between;\n",
              "  gap: 0.5em;\n",
              "}\n",
              "\n",
              "#sk-container-id-1 label.sk-toggleable__label .caption {\n",
              "  font-size: 0.6rem;\n",
              "  font-weight: lighter;\n",
              "  color: var(--sklearn-color-text-muted);\n",
              "}\n",
              "\n",
              "#sk-container-id-1 label.sk-toggleable__label-arrow:before {\n",
              "  /* Arrow on the left of the label */\n",
              "  content: \"▸\";\n",
              "  float: left;\n",
              "  margin-right: 0.25em;\n",
              "  color: var(--sklearn-color-icon);\n",
              "}\n",
              "\n",
              "#sk-container-id-1 label.sk-toggleable__label-arrow:hover:before {\n",
              "  color: var(--sklearn-color-text);\n",
              "}\n",
              "\n",
              "/* Toggleable content - dropdown */\n",
              "\n",
              "#sk-container-id-1 div.sk-toggleable__content {\n",
              "  max-height: 0;\n",
              "  max-width: 0;\n",
              "  overflow: hidden;\n",
              "  text-align: left;\n",
              "  /* unfitted */\n",
              "  background-color: var(--sklearn-color-unfitted-level-0);\n",
              "}\n",
              "\n",
              "#sk-container-id-1 div.sk-toggleable__content.fitted {\n",
              "  /* fitted */\n",
              "  background-color: var(--sklearn-color-fitted-level-0);\n",
              "}\n",
              "\n",
              "#sk-container-id-1 div.sk-toggleable__content pre {\n",
              "  margin: 0.2em;\n",
              "  border-radius: 0.25em;\n",
              "  color: var(--sklearn-color-text);\n",
              "  /* unfitted */\n",
              "  background-color: var(--sklearn-color-unfitted-level-0);\n",
              "}\n",
              "\n",
              "#sk-container-id-1 div.sk-toggleable__content.fitted pre {\n",
              "  /* unfitted */\n",
              "  background-color: var(--sklearn-color-fitted-level-0);\n",
              "}\n",
              "\n",
              "#sk-container-id-1 input.sk-toggleable__control:checked~div.sk-toggleable__content {\n",
              "  /* Expand drop-down */\n",
              "  max-height: 200px;\n",
              "  max-width: 100%;\n",
              "  overflow: auto;\n",
              "}\n",
              "\n",
              "#sk-container-id-1 input.sk-toggleable__control:checked~label.sk-toggleable__label-arrow:before {\n",
              "  content: \"▾\";\n",
              "}\n",
              "\n",
              "/* Pipeline/ColumnTransformer-specific style */\n",
              "\n",
              "#sk-container-id-1 div.sk-label input.sk-toggleable__control:checked~label.sk-toggleable__label {\n",
              "  color: var(--sklearn-color-text);\n",
              "  background-color: var(--sklearn-color-unfitted-level-2);\n",
              "}\n",
              "\n",
              "#sk-container-id-1 div.sk-label.fitted input.sk-toggleable__control:checked~label.sk-toggleable__label {\n",
              "  background-color: var(--sklearn-color-fitted-level-2);\n",
              "}\n",
              "\n",
              "/* Estimator-specific style */\n",
              "\n",
              "/* Colorize estimator box */\n",
              "#sk-container-id-1 div.sk-estimator input.sk-toggleable__control:checked~label.sk-toggleable__label {\n",
              "  /* unfitted */\n",
              "  background-color: var(--sklearn-color-unfitted-level-2);\n",
              "}\n",
              "\n",
              "#sk-container-id-1 div.sk-estimator.fitted input.sk-toggleable__control:checked~label.sk-toggleable__label {\n",
              "  /* fitted */\n",
              "  background-color: var(--sklearn-color-fitted-level-2);\n",
              "}\n",
              "\n",
              "#sk-container-id-1 div.sk-label label.sk-toggleable__label,\n",
              "#sk-container-id-1 div.sk-label label {\n",
              "  /* The background is the default theme color */\n",
              "  color: var(--sklearn-color-text-on-default-background);\n",
              "}\n",
              "\n",
              "/* On hover, darken the color of the background */\n",
              "#sk-container-id-1 div.sk-label:hover label.sk-toggleable__label {\n",
              "  color: var(--sklearn-color-text);\n",
              "  background-color: var(--sklearn-color-unfitted-level-2);\n",
              "}\n",
              "\n",
              "/* Label box, darken color on hover, fitted */\n",
              "#sk-container-id-1 div.sk-label.fitted:hover label.sk-toggleable__label.fitted {\n",
              "  color: var(--sklearn-color-text);\n",
              "  background-color: var(--sklearn-color-fitted-level-2);\n",
              "}\n",
              "\n",
              "/* Estimator label */\n",
              "\n",
              "#sk-container-id-1 div.sk-label label {\n",
              "  font-family: monospace;\n",
              "  font-weight: bold;\n",
              "  display: inline-block;\n",
              "  line-height: 1.2em;\n",
              "}\n",
              "\n",
              "#sk-container-id-1 div.sk-label-container {\n",
              "  text-align: center;\n",
              "}\n",
              "\n",
              "/* Estimator-specific */\n",
              "#sk-container-id-1 div.sk-estimator {\n",
              "  font-family: monospace;\n",
              "  border: 1px dotted var(--sklearn-color-border-box);\n",
              "  border-radius: 0.25em;\n",
              "  box-sizing: border-box;\n",
              "  margin-bottom: 0.5em;\n",
              "  /* unfitted */\n",
              "  background-color: var(--sklearn-color-unfitted-level-0);\n",
              "}\n",
              "\n",
              "#sk-container-id-1 div.sk-estimator.fitted {\n",
              "  /* fitted */\n",
              "  background-color: var(--sklearn-color-fitted-level-0);\n",
              "}\n",
              "\n",
              "/* on hover */\n",
              "#sk-container-id-1 div.sk-estimator:hover {\n",
              "  /* unfitted */\n",
              "  background-color: var(--sklearn-color-unfitted-level-2);\n",
              "}\n",
              "\n",
              "#sk-container-id-1 div.sk-estimator.fitted:hover {\n",
              "  /* fitted */\n",
              "  background-color: var(--sklearn-color-fitted-level-2);\n",
              "}\n",
              "\n",
              "/* Specification for estimator info (e.g. \"i\" and \"?\") */\n",
              "\n",
              "/* Common style for \"i\" and \"?\" */\n",
              "\n",
              ".sk-estimator-doc-link,\n",
              "a:link.sk-estimator-doc-link,\n",
              "a:visited.sk-estimator-doc-link {\n",
              "  float: right;\n",
              "  font-size: smaller;\n",
              "  line-height: 1em;\n",
              "  font-family: monospace;\n",
              "  background-color: var(--sklearn-color-background);\n",
              "  border-radius: 1em;\n",
              "  height: 1em;\n",
              "  width: 1em;\n",
              "  text-decoration: none !important;\n",
              "  margin-left: 0.5em;\n",
              "  text-align: center;\n",
              "  /* unfitted */\n",
              "  border: var(--sklearn-color-unfitted-level-1) 1pt solid;\n",
              "  color: var(--sklearn-color-unfitted-level-1);\n",
              "}\n",
              "\n",
              ".sk-estimator-doc-link.fitted,\n",
              "a:link.sk-estimator-doc-link.fitted,\n",
              "a:visited.sk-estimator-doc-link.fitted {\n",
              "  /* fitted */\n",
              "  border: var(--sklearn-color-fitted-level-1) 1pt solid;\n",
              "  color: var(--sklearn-color-fitted-level-1);\n",
              "}\n",
              "\n",
              "/* On hover */\n",
              "div.sk-estimator:hover .sk-estimator-doc-link:hover,\n",
              ".sk-estimator-doc-link:hover,\n",
              "div.sk-label-container:hover .sk-estimator-doc-link:hover,\n",
              ".sk-estimator-doc-link:hover {\n",
              "  /* unfitted */\n",
              "  background-color: var(--sklearn-color-unfitted-level-3);\n",
              "  color: var(--sklearn-color-background);\n",
              "  text-decoration: none;\n",
              "}\n",
              "\n",
              "div.sk-estimator.fitted:hover .sk-estimator-doc-link.fitted:hover,\n",
              ".sk-estimator-doc-link.fitted:hover,\n",
              "div.sk-label-container:hover .sk-estimator-doc-link.fitted:hover,\n",
              ".sk-estimator-doc-link.fitted:hover {\n",
              "  /* fitted */\n",
              "  background-color: var(--sklearn-color-fitted-level-3);\n",
              "  color: var(--sklearn-color-background);\n",
              "  text-decoration: none;\n",
              "}\n",
              "\n",
              "/* Span, style for the box shown on hovering the info icon */\n",
              ".sk-estimator-doc-link span {\n",
              "  display: none;\n",
              "  z-index: 9999;\n",
              "  position: relative;\n",
              "  font-weight: normal;\n",
              "  right: .2ex;\n",
              "  padding: .5ex;\n",
              "  margin: .5ex;\n",
              "  width: min-content;\n",
              "  min-width: 20ex;\n",
              "  max-width: 50ex;\n",
              "  color: var(--sklearn-color-text);\n",
              "  box-shadow: 2pt 2pt 4pt #999;\n",
              "  /* unfitted */\n",
              "  background: var(--sklearn-color-unfitted-level-0);\n",
              "  border: .5pt solid var(--sklearn-color-unfitted-level-3);\n",
              "}\n",
              "\n",
              ".sk-estimator-doc-link.fitted span {\n",
              "  /* fitted */\n",
              "  background: var(--sklearn-color-fitted-level-0);\n",
              "  border: var(--sklearn-color-fitted-level-3);\n",
              "}\n",
              "\n",
              ".sk-estimator-doc-link:hover span {\n",
              "  display: block;\n",
              "}\n",
              "\n",
              "/* \"?\"-specific style due to the `<a>` HTML tag */\n",
              "\n",
              "#sk-container-id-1 a.estimator_doc_link {\n",
              "  float: right;\n",
              "  font-size: 1rem;\n",
              "  line-height: 1em;\n",
              "  font-family: monospace;\n",
              "  background-color: var(--sklearn-color-background);\n",
              "  border-radius: 1rem;\n",
              "  height: 1rem;\n",
              "  width: 1rem;\n",
              "  text-decoration: none;\n",
              "  /* unfitted */\n",
              "  color: var(--sklearn-color-unfitted-level-1);\n",
              "  border: var(--sklearn-color-unfitted-level-1) 1pt solid;\n",
              "}\n",
              "\n",
              "#sk-container-id-1 a.estimator_doc_link.fitted {\n",
              "  /* fitted */\n",
              "  border: var(--sklearn-color-fitted-level-1) 1pt solid;\n",
              "  color: var(--sklearn-color-fitted-level-1);\n",
              "}\n",
              "\n",
              "/* On hover */\n",
              "#sk-container-id-1 a.estimator_doc_link:hover {\n",
              "  /* unfitted */\n",
              "  background-color: var(--sklearn-color-unfitted-level-3);\n",
              "  color: var(--sklearn-color-background);\n",
              "  text-decoration: none;\n",
              "}\n",
              "\n",
              "#sk-container-id-1 a.estimator_doc_link.fitted:hover {\n",
              "  /* fitted */\n",
              "  background-color: var(--sklearn-color-fitted-level-3);\n",
              "}\n",
              "</style><div id=\"sk-container-id-1\" class=\"sk-top-container\"><div class=\"sk-text-repr-fallback\"><pre>CustomKNNTransformer()</pre><b>In a Jupyter environment, please rerun this cell to show the HTML representation or trust the notebook. <br />On GitHub, the HTML representation is unable to render, please try loading this page with nbviewer.org.</b></div><div class=\"sk-container\" hidden><div class=\"sk-item\"><div class=\"sk-estimator  sk-toggleable\"><input class=\"sk-toggleable__control sk-hidden--visually\" id=\"sk-estimator-id-1\" type=\"checkbox\" checked><label for=\"sk-estimator-id-1\" class=\"sk-toggleable__label  sk-toggleable__label-arrow\"><div><div>CustomKNNTransformer</div></div><div><span class=\"sk-estimator-doc-link \">i<span>Not fitted</span></span></div></label><div class=\"sk-toggleable__content \"><pre>CustomKNNTransformer()</pre></div> </div></div></div></div>"
            ],
            "text/plain": [
              "CustomKNNTransformer()"
            ]
          },
          "execution_count": 104,
          "metadata": {},
          "output_type": "execute_result"
        }
      ],
      "source": [
        "my_knn_imputer = CustomKNNTransformer(n_neighbors=len(test_df) + 1)\n",
        "my_knn_imputer.fit(test_df)  # Warning"
      ]
    },
    {
      "cell_type": "markdown",
      "metadata": {
        "id": "dFeGQmDhX7aS"
      },
      "source": [
        "### Check fit versus transform columns mismatch\n"
      ]
    },
    {
      "cell_type": "code",
      "execution_count": 74,
      "metadata": {
        "id": "Aags8rJPYHqw"
      },
      "outputs": [
        {
          "ename": "ValueError",
          "evalue": "The feature names should match those that were passed during fit.\nFeature names seen at fit time, yet now missing:\n- c\n",
          "output_type": "error",
          "traceback": [
            "\u001b[31m---------------------------------------------------------------------------\u001b[39m",
            "\u001b[31mValueError\u001b[39m                                Traceback (most recent call last)",
            "\u001b[36mCell\u001b[39m\u001b[36m \u001b[39m\u001b[32mIn[74]\u001b[39m\u001b[32m, line 3\u001b[39m\n\u001b[32m      1\u001b[39m my_knn_imputer = CustomKNNTransformer()\n\u001b[32m      2\u001b[39m my_knn_imputer.fit(test_df)\n\u001b[32m----> \u001b[39m\u001b[32m3\u001b[39m \u001b[43mmy_knn_imputer\u001b[49m\u001b[43m.\u001b[49m\u001b[43mtransform\u001b[49m\u001b[43m(\u001b[49m\n\u001b[32m      4\u001b[39m \u001b[43m    \u001b[49m\u001b[43mtest_df\u001b[49m\u001b[43m.\u001b[49m\u001b[43mdrop\u001b[49m\u001b[43m(\u001b[49m\u001b[43mcolumns\u001b[49m\u001b[43m=\u001b[49m\u001b[33;43m\"\u001b[39;49m\u001b[33;43mc\u001b[39;49m\u001b[33;43m\"\u001b[39;49m\u001b[43m)\u001b[49m\n\u001b[32m      5\u001b[39m \u001b[43m)\u001b[49m  \u001b[38;5;66;03m# Warning and Column names mismatch error\u001b[39;00m\n\u001b[32m      6\u001b[39m new_df\n",
            "\u001b[36mFile \u001b[39m\u001b[32m~/miniconda3/envs/cs523/lib/python3.12/site-packages/sklearn/utils/_set_output.py:319\u001b[39m, in \u001b[36m_wrap_method_output.<locals>.wrapped\u001b[39m\u001b[34m(self, X, *args, **kwargs)\u001b[39m\n\u001b[32m    317\u001b[39m \u001b[38;5;129m@wraps\u001b[39m(f)\n\u001b[32m    318\u001b[39m \u001b[38;5;28;01mdef\u001b[39;00m\u001b[38;5;250m \u001b[39m\u001b[34mwrapped\u001b[39m(\u001b[38;5;28mself\u001b[39m, X, *args, **kwargs):\n\u001b[32m--> \u001b[39m\u001b[32m319\u001b[39m     data_to_wrap = \u001b[43mf\u001b[49m\u001b[43m(\u001b[49m\u001b[38;5;28;43mself\u001b[39;49m\u001b[43m,\u001b[49m\u001b[43m \u001b[49m\u001b[43mX\u001b[49m\u001b[43m,\u001b[49m\u001b[43m \u001b[49m\u001b[43m*\u001b[49m\u001b[43margs\u001b[49m\u001b[43m,\u001b[49m\u001b[43m \u001b[49m\u001b[43m*\u001b[49m\u001b[43m*\u001b[49m\u001b[43mkwargs\u001b[49m\u001b[43m)\u001b[49m\n\u001b[32m    320\u001b[39m     \u001b[38;5;28;01mif\u001b[39;00m \u001b[38;5;28misinstance\u001b[39m(data_to_wrap, \u001b[38;5;28mtuple\u001b[39m):\n\u001b[32m    321\u001b[39m         \u001b[38;5;66;03m# only wrap the first output for cross decomposition\u001b[39;00m\n\u001b[32m    322\u001b[39m         return_tuple = (\n\u001b[32m    323\u001b[39m             _wrap_data_with_container(method, data_to_wrap[\u001b[32m0\u001b[39m], X, \u001b[38;5;28mself\u001b[39m),\n\u001b[32m    324\u001b[39m             *data_to_wrap[\u001b[32m1\u001b[39m:],\n\u001b[32m    325\u001b[39m         )\n",
            "\u001b[36mCell\u001b[39m\u001b[36m \u001b[39m\u001b[32mIn[71]\u001b[39m\u001b[32m, line 40\u001b[39m, in \u001b[36mCustomKNNTransformer.transform\u001b[39m\u001b[34m(self, X)\u001b[39m\n\u001b[32m     35\u001b[39m \u001b[38;5;28;01mdef\u001b[39;00m\u001b[38;5;250m \u001b[39m\u001b[34mtransform\u001b[39m(\u001b[38;5;28mself\u001b[39m, X: pd.DataFrame) -> pd.DataFrame:\n\u001b[32m     36\u001b[39m     \u001b[38;5;28;01massert\u001b[39;00m (\n\u001b[32m     37\u001b[39m         \u001b[38;5;28mself\u001b[39m.fitted == \u001b[38;5;28;01mTrue\u001b[39;00m\n\u001b[32m     38\u001b[39m     ), \u001b[33m'\u001b[39m\u001b[33mNotFittedError: This CustomKNNTransformer instance is not fitted yet. Call \u001b[39m\u001b[33m\"\u001b[39m\u001b[33mfit\u001b[39m\u001b[33m\"\u001b[39m\u001b[33m with appropriate arguments before using this estimator.\u001b[39m\u001b[33m'\u001b[39m\n\u001b[32m---> \u001b[39m\u001b[32m40\u001b[39m     \u001b[38;5;28;01mreturn\u001b[39;00m \u001b[38;5;28;43mself\u001b[39;49m\u001b[43m.\u001b[49m\u001b[43mKNNImputer\u001b[49m\u001b[43m.\u001b[49m\u001b[43mtransform\u001b[49m\u001b[43m(\u001b[49m\u001b[43mX\u001b[49m\u001b[43m)\u001b[49m\n",
            "\u001b[36mFile \u001b[39m\u001b[32m~/miniconda3/envs/cs523/lib/python3.12/site-packages/sklearn/utils/_set_output.py:319\u001b[39m, in \u001b[36m_wrap_method_output.<locals>.wrapped\u001b[39m\u001b[34m(self, X, *args, **kwargs)\u001b[39m\n\u001b[32m    317\u001b[39m \u001b[38;5;129m@wraps\u001b[39m(f)\n\u001b[32m    318\u001b[39m \u001b[38;5;28;01mdef\u001b[39;00m\u001b[38;5;250m \u001b[39m\u001b[34mwrapped\u001b[39m(\u001b[38;5;28mself\u001b[39m, X, *args, **kwargs):\n\u001b[32m--> \u001b[39m\u001b[32m319\u001b[39m     data_to_wrap = \u001b[43mf\u001b[49m\u001b[43m(\u001b[49m\u001b[38;5;28;43mself\u001b[39;49m\u001b[43m,\u001b[49m\u001b[43m \u001b[49m\u001b[43mX\u001b[49m\u001b[43m,\u001b[49m\u001b[43m \u001b[49m\u001b[43m*\u001b[49m\u001b[43margs\u001b[49m\u001b[43m,\u001b[49m\u001b[43m \u001b[49m\u001b[43m*\u001b[49m\u001b[43m*\u001b[49m\u001b[43mkwargs\u001b[49m\u001b[43m)\u001b[49m\n\u001b[32m    320\u001b[39m     \u001b[38;5;28;01mif\u001b[39;00m \u001b[38;5;28misinstance\u001b[39m(data_to_wrap, \u001b[38;5;28mtuple\u001b[39m):\n\u001b[32m    321\u001b[39m         \u001b[38;5;66;03m# only wrap the first output for cross decomposition\u001b[39;00m\n\u001b[32m    322\u001b[39m         return_tuple = (\n\u001b[32m    323\u001b[39m             _wrap_data_with_container(method, data_to_wrap[\u001b[32m0\u001b[39m], X, \u001b[38;5;28mself\u001b[39m),\n\u001b[32m    324\u001b[39m             *data_to_wrap[\u001b[32m1\u001b[39m:],\n\u001b[32m    325\u001b[39m         )\n",
            "\u001b[36mFile \u001b[39m\u001b[32m~/miniconda3/envs/cs523/lib/python3.12/site-packages/sklearn/impute/_knn.py:274\u001b[39m, in \u001b[36mKNNImputer.transform\u001b[39m\u001b[34m(self, X)\u001b[39m\n\u001b[32m    272\u001b[39m \u001b[38;5;28;01melse\u001b[39;00m:\n\u001b[32m    273\u001b[39m     ensure_all_finite = \u001b[33m\"\u001b[39m\u001b[33mallow-nan\u001b[39m\u001b[33m\"\u001b[39m\n\u001b[32m--> \u001b[39m\u001b[32m274\u001b[39m X = \u001b[43mvalidate_data\u001b[49m\u001b[43m(\u001b[49m\n\u001b[32m    275\u001b[39m \u001b[43m    \u001b[49m\u001b[38;5;28;43mself\u001b[39;49m\u001b[43m,\u001b[49m\n\u001b[32m    276\u001b[39m \u001b[43m    \u001b[49m\u001b[43mX\u001b[49m\u001b[43m,\u001b[49m\n\u001b[32m    277\u001b[39m \u001b[43m    \u001b[49m\u001b[43maccept_sparse\u001b[49m\u001b[43m=\u001b[49m\u001b[38;5;28;43;01mFalse\u001b[39;49;00m\u001b[43m,\u001b[49m\n\u001b[32m    278\u001b[39m \u001b[43m    \u001b[49m\u001b[43mdtype\u001b[49m\u001b[43m=\u001b[49m\u001b[43mFLOAT_DTYPES\u001b[49m\u001b[43m,\u001b[49m\n\u001b[32m    279\u001b[39m \u001b[43m    \u001b[49m\u001b[43mforce_writeable\u001b[49m\u001b[43m=\u001b[49m\u001b[38;5;28;43;01mTrue\u001b[39;49;00m\u001b[43m,\u001b[49m\n\u001b[32m    280\u001b[39m \u001b[43m    \u001b[49m\u001b[43mensure_all_finite\u001b[49m\u001b[43m=\u001b[49m\u001b[43mensure_all_finite\u001b[49m\u001b[43m,\u001b[49m\n\u001b[32m    281\u001b[39m \u001b[43m    \u001b[49m\u001b[43mcopy\u001b[49m\u001b[43m=\u001b[49m\u001b[38;5;28;43mself\u001b[39;49m\u001b[43m.\u001b[49m\u001b[43mcopy\u001b[49m\u001b[43m,\u001b[49m\n\u001b[32m    282\u001b[39m \u001b[43m    \u001b[49m\u001b[43mreset\u001b[49m\u001b[43m=\u001b[49m\u001b[38;5;28;43;01mFalse\u001b[39;49;00m\u001b[43m,\u001b[49m\n\u001b[32m    283\u001b[39m \u001b[43m\u001b[49m\u001b[43m)\u001b[49m\n\u001b[32m    285\u001b[39m mask = _get_mask(X, \u001b[38;5;28mself\u001b[39m.missing_values)\n\u001b[32m    286\u001b[39m mask_fit_X = \u001b[38;5;28mself\u001b[39m._mask_fit_X\n",
            "\u001b[36mFile \u001b[39m\u001b[32m~/miniconda3/envs/cs523/lib/python3.12/site-packages/sklearn/utils/validation.py:2919\u001b[39m, in \u001b[36mvalidate_data\u001b[39m\u001b[34m(_estimator, X, y, reset, validate_separately, skip_check_array, **check_params)\u001b[39m\n\u001b[32m   2835\u001b[39m \u001b[38;5;28;01mdef\u001b[39;00m\u001b[38;5;250m \u001b[39m\u001b[34mvalidate_data\u001b[39m(\n\u001b[32m   2836\u001b[39m     _estimator,\n\u001b[32m   2837\u001b[39m     /,\n\u001b[32m   (...)\u001b[39m\u001b[32m   2843\u001b[39m     **check_params,\n\u001b[32m   2844\u001b[39m ):\n\u001b[32m   2845\u001b[39m \u001b[38;5;250m    \u001b[39m\u001b[33;03m\"\"\"Validate input data and set or check feature names and counts of the input.\u001b[39;00m\n\u001b[32m   2846\u001b[39m \n\u001b[32m   2847\u001b[39m \u001b[33;03m    This helper function should be used in an estimator that requires input\u001b[39;00m\n\u001b[32m   (...)\u001b[39m\u001b[32m   2917\u001b[39m \u001b[33;03m        validated.\u001b[39;00m\n\u001b[32m   2918\u001b[39m \u001b[33;03m    \"\"\"\u001b[39;00m\n\u001b[32m-> \u001b[39m\u001b[32m2919\u001b[39m     \u001b[43m_check_feature_names\u001b[49m\u001b[43m(\u001b[49m\u001b[43m_estimator\u001b[49m\u001b[43m,\u001b[49m\u001b[43m \u001b[49m\u001b[43mX\u001b[49m\u001b[43m,\u001b[49m\u001b[43m \u001b[49m\u001b[43mreset\u001b[49m\u001b[43m=\u001b[49m\u001b[43mreset\u001b[49m\u001b[43m)\u001b[49m\n\u001b[32m   2920\u001b[39m     tags = get_tags(_estimator)\n\u001b[32m   2921\u001b[39m     \u001b[38;5;28;01mif\u001b[39;00m y \u001b[38;5;129;01mis\u001b[39;00m \u001b[38;5;28;01mNone\u001b[39;00m \u001b[38;5;129;01mand\u001b[39;00m tags.target_tags.required:\n",
            "\u001b[36mFile \u001b[39m\u001b[32m~/miniconda3/envs/cs523/lib/python3.12/site-packages/sklearn/utils/validation.py:2777\u001b[39m, in \u001b[36m_check_feature_names\u001b[39m\u001b[34m(estimator, X, reset)\u001b[39m\n\u001b[32m   2774\u001b[39m \u001b[38;5;28;01mif\u001b[39;00m \u001b[38;5;129;01mnot\u001b[39;00m missing_names \u001b[38;5;129;01mand\u001b[39;00m \u001b[38;5;129;01mnot\u001b[39;00m unexpected_names:\n\u001b[32m   2775\u001b[39m     message += \u001b[33m\"\u001b[39m\u001b[33mFeature names must be in the same order as they were in fit.\u001b[39m\u001b[38;5;130;01m\\n\u001b[39;00m\u001b[33m\"\u001b[39m\n\u001b[32m-> \u001b[39m\u001b[32m2777\u001b[39m \u001b[38;5;28;01mraise\u001b[39;00m \u001b[38;5;167;01mValueError\u001b[39;00m(message)\n",
            "\u001b[31mValueError\u001b[39m: The feature names should match those that were passed during fit.\nFeature names seen at fit time, yet now missing:\n- c\n"
          ]
        }
      ],
      "source": [
        "my_knn_imputer = CustomKNNTransformer()\n",
        "my_knn_imputer.fit(test_df)\n",
        "my_knn_imputer.transform(\n",
        "    test_df.drop(columns=\"c\")\n",
        ")  # Warning and Column names mismatch error\n",
        "new_df"
      ]
    },
    {
      "cell_type": "markdown",
      "metadata": {
        "id": "pbtNiJm3aFwZ"
      },
      "source": [
        "### Normal test\n"
      ]
    },
    {
      "cell_type": "code",
      "execution_count": 106,
      "metadata": {
        "id": "5Wwc0nk7635V"
      },
      "outputs": [
        {
          "name": "stderr",
          "output_type": "stream",
          "text": [
            "/tmp/ipykernel_484203/4171623518.py:69: UserWarning: n_neighbors of 5 larger than dataframe length of 4\n",
            "  warnings.warn(\n"
          ]
        },
        {
          "data": {
            "text/html": [
              "<div>\n",
              "<style scoped>\n",
              "    .dataframe tbody tr th:only-of-type {\n",
              "        vertical-align: middle;\n",
              "    }\n",
              "\n",
              "    .dataframe tbody tr th {\n",
              "        vertical-align: top;\n",
              "    }\n",
              "\n",
              "    .dataframe thead th {\n",
              "        text-align: right;\n",
              "    }\n",
              "</style>\n",
              "<table border=\"1\" class=\"dataframe\">\n",
              "  <thead>\n",
              "    <tr style=\"text-align: right;\">\n",
              "      <th></th>\n",
              "      <th>a</th>\n",
              "      <th>b</th>\n",
              "      <th>c</th>\n",
              "      <th>d</th>\n",
              "    </tr>\n",
              "  </thead>\n",
              "  <tbody>\n",
              "    <tr>\n",
              "      <th>0</th>\n",
              "      <td>1.000000</td>\n",
              "      <td>2.000000</td>\n",
              "      <td>7.5</td>\n",
              "      <td>10.0</td>\n",
              "    </tr>\n",
              "    <tr>\n",
              "      <th>1</th>\n",
              "      <td>4.333333</td>\n",
              "      <td>3.000000</td>\n",
              "      <td>7.5</td>\n",
              "      <td>10.0</td>\n",
              "    </tr>\n",
              "    <tr>\n",
              "      <th>2</th>\n",
              "      <td>5.000000</td>\n",
              "      <td>4.333333</td>\n",
              "      <td>6.0</td>\n",
              "      <td>10.0</td>\n",
              "    </tr>\n",
              "    <tr>\n",
              "      <th>3</th>\n",
              "      <td>7.000000</td>\n",
              "      <td>8.000000</td>\n",
              "      <td>9.0</td>\n",
              "      <td>10.0</td>\n",
              "    </tr>\n",
              "  </tbody>\n",
              "</table>\n",
              "</div>"
            ],
            "text/plain": [
              "          a         b    c     d\n",
              "0  1.000000  2.000000  7.5  10.0\n",
              "1  4.333333  3.000000  7.5  10.0\n",
              "2  5.000000  4.333333  6.0  10.0\n",
              "3  7.000000  8.000000  9.0  10.0"
            ]
          },
          "execution_count": 106,
          "metadata": {},
          "output_type": "execute_result"
        }
      ],
      "source": [
        "my_knn_imputer = CustomKNNTransformer()\n",
        "new_df = my_knn_imputer.fit_transform(test_df)\n",
        "new_df"
      ]
    },
    {
      "cell_type": "markdown",
      "metadata": {
        "id": "f58EURv8tpyi"
      },
      "source": [
        "<img src='https://www.dropbox.com/s/q54k7qetwarr5mz/Screen%20Shot%202022-01-20%20at%202.58.28%20PM.png?raw=1' height=150>\n"
      ]
    },
    {
      "cell_type": "markdown",
      "metadata": {
        "id": "BKYlqj_0aEfN"
      },
      "source": [
        "### A few more tests\n"
      ]
    },
    {
      "cell_type": "code",
      "execution_count": 107,
      "metadata": {
        "id": "rw18MkshaImV"
      },
      "outputs": [
        {
          "data": {
            "text/html": [
              "<div>\n",
              "<style scoped>\n",
              "    .dataframe tbody tr th:only-of-type {\n",
              "        vertical-align: middle;\n",
              "    }\n",
              "\n",
              "    .dataframe tbody tr th {\n",
              "        vertical-align: top;\n",
              "    }\n",
              "\n",
              "    .dataframe thead th {\n",
              "        text-align: right;\n",
              "    }\n",
              "</style>\n",
              "<table border=\"1\" class=\"dataframe\">\n",
              "  <thead>\n",
              "    <tr style=\"text-align: right;\">\n",
              "      <th></th>\n",
              "      <th>a</th>\n",
              "      <th>b</th>\n",
              "      <th>c</th>\n",
              "      <th>d</th>\n",
              "    </tr>\n",
              "  </thead>\n",
              "  <tbody>\n",
              "    <tr>\n",
              "      <th>0</th>\n",
              "      <td>1.0</td>\n",
              "      <td>2.0</td>\n",
              "      <td>7.5</td>\n",
              "      <td>10.0</td>\n",
              "    </tr>\n",
              "    <tr>\n",
              "      <th>1</th>\n",
              "      <td>3.0</td>\n",
              "      <td>3.0</td>\n",
              "      <td>7.5</td>\n",
              "      <td>10.0</td>\n",
              "    </tr>\n",
              "    <tr>\n",
              "      <th>2</th>\n",
              "      <td>5.0</td>\n",
              "      <td>5.5</td>\n",
              "      <td>6.0</td>\n",
              "      <td>10.0</td>\n",
              "    </tr>\n",
              "    <tr>\n",
              "      <th>3</th>\n",
              "      <td>7.0</td>\n",
              "      <td>8.0</td>\n",
              "      <td>9.0</td>\n",
              "      <td>10.0</td>\n",
              "    </tr>\n",
              "  </tbody>\n",
              "</table>\n",
              "</div>"
            ],
            "text/plain": [
              "     a    b    c     d\n",
              "0  1.0  2.0  7.5  10.0\n",
              "1  3.0  3.0  7.5  10.0\n",
              "2  5.0  5.5  6.0  10.0\n",
              "3  7.0  8.0  9.0  10.0"
            ]
          },
          "execution_count": 107,
          "metadata": {},
          "output_type": "execute_result"
        }
      ],
      "source": [
        "my_knn_imputer2 = CustomKNNTransformer(n_neighbors=2)\n",
        "new_df = my_knn_imputer2.fit_transform(test_df)\n",
        "new_df"
      ]
    },
    {
      "cell_type": "markdown",
      "metadata": {
        "id": "S3hLDuv-cGUs"
      },
      "source": [
        "<pre>\n",
        "\n",
        "a\tb\tc\td\n",
        "0\t1.0\t2.0\t7.5\t10.0\n",
        "1\t3.0\t3.0\t7.5\t10.0\n",
        "2\t5.0\t5.5\t6.0\t10.0\n",
        "3\t7.0\t8.0\t9.0\t10.0\n",
        "</pre>\n"
      ]
    },
    {
      "cell_type": "code",
      "execution_count": 108,
      "metadata": {
        "id": "6GKheGOYaVVM"
      },
      "outputs": [
        {
          "data": {
            "text/html": [
              "<div>\n",
              "<style scoped>\n",
              "    .dataframe tbody tr th:only-of-type {\n",
              "        vertical-align: middle;\n",
              "    }\n",
              "\n",
              "    .dataframe tbody tr th {\n",
              "        vertical-align: top;\n",
              "    }\n",
              "\n",
              "    .dataframe thead th {\n",
              "        text-align: right;\n",
              "    }\n",
              "</style>\n",
              "<table border=\"1\" class=\"dataframe\">\n",
              "  <thead>\n",
              "    <tr style=\"text-align: right;\">\n",
              "      <th></th>\n",
              "      <th>a</th>\n",
              "      <th>b</th>\n",
              "      <th>c</th>\n",
              "      <th>d</th>\n",
              "    </tr>\n",
              "  </thead>\n",
              "  <tbody>\n",
              "    <tr>\n",
              "      <th>0</th>\n",
              "      <td>1.0</td>\n",
              "      <td>2.0</td>\n",
              "      <td>7.098076</td>\n",
              "      <td>10.0</td>\n",
              "    </tr>\n",
              "    <tr>\n",
              "      <th>1</th>\n",
              "      <td>5.0</td>\n",
              "      <td>3.0</td>\n",
              "      <td>6.000000</td>\n",
              "      <td>10.0</td>\n",
              "    </tr>\n",
              "    <tr>\n",
              "      <th>2</th>\n",
              "      <td>5.0</td>\n",
              "      <td>3.0</td>\n",
              "      <td>6.000000</td>\n",
              "      <td>10.0</td>\n",
              "    </tr>\n",
              "    <tr>\n",
              "      <th>3</th>\n",
              "      <td>7.0</td>\n",
              "      <td>8.0</td>\n",
              "      <td>9.000000</td>\n",
              "      <td>10.0</td>\n",
              "    </tr>\n",
              "  </tbody>\n",
              "</table>\n",
              "</div>"
            ],
            "text/plain": [
              "     a    b         c     d\n",
              "0  1.0  2.0  7.098076  10.0\n",
              "1  5.0  3.0  6.000000  10.0\n",
              "2  5.0  3.0  6.000000  10.0\n",
              "3  7.0  8.0  9.000000  10.0"
            ]
          },
          "execution_count": 108,
          "metadata": {},
          "output_type": "execute_result"
        }
      ],
      "source": [
        "my_knn_imputer3 = CustomKNNTransformer(n_neighbors=2, weights=\"distance\")\n",
        "new_df = my_knn_imputer3.fit_transform(test_df)\n",
        "new_df"
      ]
    },
    {
      "cell_type": "markdown",
      "metadata": {
        "id": "SrnE9oZVcNDH"
      },
      "source": [
        "| index | a    | b    | c                  | d     |\n",
        "| ----- | ---- | ---- | ------------------ | ----- |\n",
        "| 0     | 1\\.0 | 2\\.0 | 7\\.098076211353315 | 10\\.0 |\n",
        "| 1     | 5\\.0 | 3\\.0 | 6\\.0               | 10\\.0 |\n",
        "| 2     | 5\\.0 | 3\\.0 | 6\\.0               | 10\\.0 |\n",
        "| 3     | 7\\.0 | 8\\.0 | 9\\.0               | 10\\.0 |\n"
      ]
    },
    {
      "cell_type": "code",
      "execution_count": 109,
      "metadata": {
        "id": "0XGp7PJEadMC"
      },
      "outputs": [
        {
          "data": {
            "text/html": [
              "<div>\n",
              "<style scoped>\n",
              "    .dataframe tbody tr th:only-of-type {\n",
              "        vertical-align: middle;\n",
              "    }\n",
              "\n",
              "    .dataframe tbody tr th {\n",
              "        vertical-align: top;\n",
              "    }\n",
              "\n",
              "    .dataframe thead th {\n",
              "        text-align: right;\n",
              "    }\n",
              "</style>\n",
              "<table border=\"1\" class=\"dataframe\">\n",
              "  <thead>\n",
              "    <tr style=\"text-align: right;\">\n",
              "      <th></th>\n",
              "      <th>a</th>\n",
              "      <th>b</th>\n",
              "      <th>c</th>\n",
              "      <th>d</th>\n",
              "    </tr>\n",
              "  </thead>\n",
              "  <tbody>\n",
              "    <tr>\n",
              "      <th>0</th>\n",
              "      <td>1.0</td>\n",
              "      <td>2.0</td>\n",
              "      <td>6.0</td>\n",
              "      <td>10.0</td>\n",
              "    </tr>\n",
              "    <tr>\n",
              "      <th>1</th>\n",
              "      <td>5.0</td>\n",
              "      <td>3.0</td>\n",
              "      <td>6.0</td>\n",
              "      <td>10.0</td>\n",
              "    </tr>\n",
              "    <tr>\n",
              "      <th>2</th>\n",
              "      <td>5.0</td>\n",
              "      <td>3.0</td>\n",
              "      <td>6.0</td>\n",
              "      <td>10.0</td>\n",
              "    </tr>\n",
              "    <tr>\n",
              "      <th>3</th>\n",
              "      <td>7.0</td>\n",
              "      <td>8.0</td>\n",
              "      <td>9.0</td>\n",
              "      <td>10.0</td>\n",
              "    </tr>\n",
              "  </tbody>\n",
              "</table>\n",
              "</div>"
            ],
            "text/plain": [
              "     a    b    c     d\n",
              "0  1.0  2.0  6.0  10.0\n",
              "1  5.0  3.0  6.0  10.0\n",
              "2  5.0  3.0  6.0  10.0\n",
              "3  7.0  8.0  9.0  10.0"
            ]
          },
          "execution_count": 109,
          "metadata": {},
          "output_type": "execute_result"
        }
      ],
      "source": [
        "my_knn_imputer4 = CustomKNNTransformer(n_neighbors=1, weights=\"distance\")\n",
        "new_df = my_knn_imputer4.fit_transform(test_df)\n",
        "new_df"
      ]
    },
    {
      "cell_type": "markdown",
      "metadata": {
        "id": "Z2EMgC_tASuW"
      },
      "source": [
        "| index | a    | b    | c    | d     |\n",
        "| ----- | ---- | ---- | ---- | ----- |\n",
        "| 0     | 1\\.0 | 2\\.0 | 6\\.0 | 10\\.0 |\n",
        "| 1     | 5\\.0 | 3\\.0 | 6\\.0 | 10\\.0 |\n",
        "| 2     | 5\\.0 | 3\\.0 | 6\\.0 | 10\\.0 |\n",
        "| 3     | 7\\.0 | 8\\.0 | 9\\.0 | 10\\.0 |\n"
      ]
    },
    {
      "cell_type": "markdown",
      "metadata": {
        "id": "lCBZo1s6nbHA"
      },
      "source": [
        "Go ahead and try it on `transformed_df`.\n"
      ]
    },
    {
      "cell_type": "code",
      "execution_count": 110,
      "metadata": {
        "id": "h_NIyGDvg8at"
      },
      "outputs": [
        {
          "name": "stdout",
          "output_type": "stream",
          "text": [
            "CPU times: user 67.2 ms, sys: 0 ns, total: 67.2 ms\n",
            "Wall time: 11.4 ms\n"
          ]
        }
      ],
      "source": [
        "%%time\n",
        "new_df = my_knn_imputer.fit_transform(transformed_df)\n"
      ]
    },
    {
      "cell_type": "code",
      "execution_count": 111,
      "metadata": {
        "id": "wxjBtpJv5Mic"
      },
      "outputs": [
        {
          "data": {
            "text/html": [
              "<div>\n",
              "<style scoped>\n",
              "    .dataframe tbody tr th:only-of-type {\n",
              "        vertical-align: middle;\n",
              "    }\n",
              "\n",
              "    .dataframe tbody tr th {\n",
              "        vertical-align: top;\n",
              "    }\n",
              "\n",
              "    .dataframe thead th {\n",
              "        text-align: right;\n",
              "    }\n",
              "</style>\n",
              "<table border=\"1\" class=\"dataframe\">\n",
              "  <thead>\n",
              "    <tr style=\"text-align: right;\">\n",
              "      <th></th>\n",
              "      <th>count</th>\n",
              "      <th>mean</th>\n",
              "      <th>std</th>\n",
              "      <th>min</th>\n",
              "      <th>25%</th>\n",
              "      <th>50%</th>\n",
              "      <th>75%</th>\n",
              "      <th>max</th>\n",
              "    </tr>\n",
              "  </thead>\n",
              "  <tbody>\n",
              "    <tr>\n",
              "      <th>Age</th>\n",
              "      <td>1313.0</td>\n",
              "      <td>0.057879</td>\n",
              "      <td>0.753051</td>\n",
              "      <td>-1.552632</td>\n",
              "      <td>-0.447368</td>\n",
              "      <td>0.026316</td>\n",
              "      <td>0.552632</td>\n",
              "      <td>2.289474</td>\n",
              "    </tr>\n",
              "    <tr>\n",
              "      <th>Gender</th>\n",
              "      <td>1313.0</td>\n",
              "      <td>0.348819</td>\n",
              "      <td>0.476778</td>\n",
              "      <td>0.000000</td>\n",
              "      <td>0.000000</td>\n",
              "      <td>0.000000</td>\n",
              "      <td>1.000000</td>\n",
              "      <td>1.000000</td>\n",
              "    </tr>\n",
              "    <tr>\n",
              "      <th>Class</th>\n",
              "      <td>1313.0</td>\n",
              "      <td>1.397258</td>\n",
              "      <td>1.042888</td>\n",
              "      <td>0.000000</td>\n",
              "      <td>1.000000</td>\n",
              "      <td>1.000000</td>\n",
              "      <td>2.000000</td>\n",
              "      <td>3.000000</td>\n",
              "    </tr>\n",
              "    <tr>\n",
              "      <th>Married</th>\n",
              "      <td>1313.0</td>\n",
              "      <td>0.343641</td>\n",
              "      <td>0.474975</td>\n",
              "      <td>0.000000</td>\n",
              "      <td>0.000000</td>\n",
              "      <td>0.000000</td>\n",
              "      <td>1.000000</td>\n",
              "      <td>1.000000</td>\n",
              "    </tr>\n",
              "    <tr>\n",
              "      <th>Fare</th>\n",
              "      <td>1313.0</td>\n",
              "      <td>0.522159</td>\n",
              "      <td>1.222958</td>\n",
              "      <td>-0.553191</td>\n",
              "      <td>-0.255319</td>\n",
              "      <td>0.000000</td>\n",
              "      <td>0.765957</td>\n",
              "      <td>3.744681</td>\n",
              "    </tr>\n",
              "    <tr>\n",
              "      <th>Joined_Belfast</th>\n",
              "      <td>1313.0</td>\n",
              "      <td>0.064737</td>\n",
              "      <td>0.246155</td>\n",
              "      <td>0.000000</td>\n",
              "      <td>0.000000</td>\n",
              "      <td>0.000000</td>\n",
              "      <td>0.000000</td>\n",
              "      <td>1.000000</td>\n",
              "    </tr>\n",
              "    <tr>\n",
              "      <th>Joined_Cherbourg</th>\n",
              "      <td>1313.0</td>\n",
              "      <td>0.192688</td>\n",
              "      <td>0.394561</td>\n",
              "      <td>0.000000</td>\n",
              "      <td>0.000000</td>\n",
              "      <td>0.000000</td>\n",
              "      <td>0.000000</td>\n",
              "      <td>1.000000</td>\n",
              "    </tr>\n",
              "    <tr>\n",
              "      <th>Joined_Queenstown</th>\n",
              "      <td>1313.0</td>\n",
              "      <td>0.069307</td>\n",
              "      <td>0.254072</td>\n",
              "      <td>0.000000</td>\n",
              "      <td>0.000000</td>\n",
              "      <td>0.000000</td>\n",
              "      <td>0.000000</td>\n",
              "      <td>1.000000</td>\n",
              "    </tr>\n",
              "    <tr>\n",
              "      <th>Joined_Southampton</th>\n",
              "      <td>1313.0</td>\n",
              "      <td>0.673267</td>\n",
              "      <td>0.469197</td>\n",
              "      <td>0.000000</td>\n",
              "      <td>0.000000</td>\n",
              "      <td>1.000000</td>\n",
              "      <td>1.000000</td>\n",
              "      <td>1.000000</td>\n",
              "    </tr>\n",
              "  </tbody>\n",
              "</table>\n",
              "</div>"
            ],
            "text/plain": [
              "                     count      mean       std       min       25%       50%  \\\n",
              "Age                 1313.0  0.057879  0.753051 -1.552632 -0.447368  0.026316   \n",
              "Gender              1313.0  0.348819  0.476778  0.000000  0.000000  0.000000   \n",
              "Class               1313.0  1.397258  1.042888  0.000000  1.000000  1.000000   \n",
              "Married             1313.0  0.343641  0.474975  0.000000  0.000000  0.000000   \n",
              "Fare                1313.0  0.522159  1.222958 -0.553191 -0.255319  0.000000   \n",
              "Joined_Belfast      1313.0  0.064737  0.246155  0.000000  0.000000  0.000000   \n",
              "Joined_Cherbourg    1313.0  0.192688  0.394561  0.000000  0.000000  0.000000   \n",
              "Joined_Queenstown   1313.0  0.069307  0.254072  0.000000  0.000000  0.000000   \n",
              "Joined_Southampton  1313.0  0.673267  0.469197  0.000000  0.000000  1.000000   \n",
              "\n",
              "                         75%       max  \n",
              "Age                 0.552632  2.289474  \n",
              "Gender              1.000000  1.000000  \n",
              "Class               2.000000  3.000000  \n",
              "Married             1.000000  1.000000  \n",
              "Fare                0.765957  3.744681  \n",
              "Joined_Belfast      0.000000  1.000000  \n",
              "Joined_Cherbourg    0.000000  1.000000  \n",
              "Joined_Queenstown   0.000000  1.000000  \n",
              "Joined_Southampton  1.000000  1.000000  "
            ]
          },
          "execution_count": 111,
          "metadata": {},
          "output_type": "execute_result"
        }
      ],
      "source": [
        "new_df.describe(include=\"all\").T"
      ]
    },
    {
      "cell_type": "markdown",
      "metadata": {
        "id": "oZzEbG3woEZR"
      },
      "source": [
        "| index              | count   | mean                 | std                  | min                  | 25%                  | 50%                  | 75%                 | max                |\n",
        "| ------------------ | ------- | -------------------- | -------------------- | -------------------- | -------------------- | -------------------- | ------------------- | ------------------ |\n",
        "| Age                | 1313\\.0 | 0\\.05787870285004208 | 0\\.753051356322997   | -1\\.5526315789473684 | -0\\.4473684210526316 | 0\\.02631578947368421 | 0\\.5526315789473685 | 2\\.289473684210526 |\n",
        "| Gender             | 1313\\.0 | 0\\.3488194973343488  | 0\\.47677833844440637 | 0\\.0                 | 0\\.0                 | 0\\.0                 | 1\\.0                | 1\\.0               |\n",
        "| Class              | 1313\\.0 | 1\\.3972581873571972  | 1\\.0428875432917633  | 0\\.0                 | 1\\.0                 | 1\\.0                 | 2\\.0                | 3\\.0               |\n",
        "| Married            | 1313\\.0 | 0\\.34364051789794364 | 0\\.4749754473150905  | 0\\.0                 | 0\\.0                 | 0\\.0                 | 1\\.0                | 1\\.0               |\n",
        "| Fare               | 1313\\.0 | 0\\.5221593557064381  | 1\\.222958326660415   | -0\\.5531914893617021 | -0\\.2553191489361702 | 0\\.0                 | 0\\.7659574468085106 | 3\\.74468085106383  |\n",
        "| Joined_Belfast     | 1313\\.0 | 0\\.06473724295506474 | 0\\.24615539898364328 | 0\\.0                 | 0\\.0                 | 0\\.0                 | 0\\.0                | 1\\.0               |\n",
        "| Joined_Cherbourg   | 1313\\.0 | 0\\.19268849961919268 | 0\\.3945607792644899  | 0\\.0                 | 0\\.0                 | 0\\.0                 | 0\\.0                | 1\\.0               |\n",
        "| Joined_Queenstown  | 1313\\.0 | 0\\.06930693069306931 | 0\\.2540721241868543  | 0\\.0                 | 0\\.0                 | 0\\.0                 | 0\\.0                | 1\\.0               |\n",
        "| Joined_Southampton | 1313\\.0 | 0\\.6732673267326733  | 0\\.4691972932315876  | 0\\.0                 | 0\\.0                 | 1\\.0                 | 1\\.0                | 1\\.0               |\n"
      ]
    },
    {
      "cell_type": "markdown",
      "metadata": {
        "id": "tWAhk9ovoL2Y"
      },
      "source": [
        "### Looks good\n",
        "\n",
        "No NaNs remaining (`count` is `1313` for all columns).\n"
      ]
    },
    {
      "cell_type": "markdown",
      "metadata": {
        "id": "9oel0fTVBlpD"
      },
      "source": [
        "# Challenge 3\n",
        "\n",
        "<img src='https://www.dropbox.com/s/3uyvp722kp5to2r/assignment.png?raw=1' width='300'>\n",
        "\n",
        "Try it on customer data.\n"
      ]
    },
    {
      "cell_type": "code",
      "execution_count": 112,
      "metadata": {
        "id": "0mV_4aTzo1Bi"
      },
      "outputs": [],
      "source": [
        "url = \"https://docs.google.com/spreadsheets/d/e/2PACX-1vQPM6PqZXgmAHfRYTcDZseyALRyVwkBtKEo_rtaKq_C7T0jycWxH6QVEzTzJCRA0m8Vz0k68eM9tDm-/pub?output=csv\""
      ]
    },
    {
      "cell_type": "code",
      "execution_count": 113,
      "metadata": {
        "id": "XEQwkk2Co1Bi"
      },
      "outputs": [
        {
          "data": {
            "text/html": [
              "<div>\n",
              "<style scoped>\n",
              "    .dataframe tbody tr th:only-of-type {\n",
              "        vertical-align: middle;\n",
              "    }\n",
              "\n",
              "    .dataframe tbody tr th {\n",
              "        vertical-align: top;\n",
              "    }\n",
              "\n",
              "    .dataframe thead th {\n",
              "        text-align: right;\n",
              "    }\n",
              "</style>\n",
              "<table border=\"1\" class=\"dataframe\">\n",
              "  <thead>\n",
              "    <tr style=\"text-align: right;\">\n",
              "      <th></th>\n",
              "      <th>ID</th>\n",
              "      <th>Gender</th>\n",
              "      <th>Experience Level</th>\n",
              "      <th>Time Spent</th>\n",
              "      <th>OS</th>\n",
              "      <th>ISP</th>\n",
              "      <th>Age</th>\n",
              "      <th>Rating</th>\n",
              "    </tr>\n",
              "  </thead>\n",
              "  <tbody>\n",
              "    <tr>\n",
              "      <th>0</th>\n",
              "      <td>3</td>\n",
              "      <td>Female</td>\n",
              "      <td>medium</td>\n",
              "      <td>NaN</td>\n",
              "      <td>iOS</td>\n",
              "      <td>Xfinity</td>\n",
              "      <td>NaN</td>\n",
              "      <td>0</td>\n",
              "    </tr>\n",
              "    <tr>\n",
              "      <th>1</th>\n",
              "      <td>27</td>\n",
              "      <td>Male</td>\n",
              "      <td>medium</td>\n",
              "      <td>71.97</td>\n",
              "      <td>Android</td>\n",
              "      <td>Cox</td>\n",
              "      <td>50.0</td>\n",
              "      <td>0</td>\n",
              "    </tr>\n",
              "    <tr>\n",
              "      <th>2</th>\n",
              "      <td>30</td>\n",
              "      <td>Female</td>\n",
              "      <td>medium</td>\n",
              "      <td>101.81</td>\n",
              "      <td>NaN</td>\n",
              "      <td>Cox</td>\n",
              "      <td>49.0</td>\n",
              "      <td>1</td>\n",
              "    </tr>\n",
              "    <tr>\n",
              "      <th>3</th>\n",
              "      <td>40</td>\n",
              "      <td>Female</td>\n",
              "      <td>medium</td>\n",
              "      <td>86.37</td>\n",
              "      <td>Android</td>\n",
              "      <td>Xfinity</td>\n",
              "      <td>53.0</td>\n",
              "      <td>0</td>\n",
              "    </tr>\n",
              "    <tr>\n",
              "      <th>4</th>\n",
              "      <td>52</td>\n",
              "      <td>Female</td>\n",
              "      <td>medium</td>\n",
              "      <td>103.97</td>\n",
              "      <td>iOS</td>\n",
              "      <td>Xfinity</td>\n",
              "      <td>58.0</td>\n",
              "      <td>0</td>\n",
              "    </tr>\n",
              "  </tbody>\n",
              "</table>\n",
              "</div>"
            ],
            "text/plain": [
              "   ID  Gender Experience Level  Time Spent       OS      ISP   Age  Rating\n",
              "0   3  Female           medium         NaN      iOS  Xfinity   NaN       0\n",
              "1  27    Male           medium       71.97  Android      Cox  50.0       0\n",
              "2  30  Female           medium      101.81      NaN      Cox  49.0       1\n",
              "3  40  Female           medium       86.37  Android  Xfinity  53.0       0\n",
              "4  52  Female           medium      103.97      iOS  Xfinity  58.0       0"
            ]
          },
          "execution_count": 113,
          "metadata": {},
          "output_type": "execute_result"
        }
      ],
      "source": [
        "customers_df = pd.read_csv(url)\n",
        "customers_df.head()"
      ]
    },
    {
      "cell_type": "code",
      "execution_count": 114,
      "metadata": {
        "id": "53sJ-STTZUDl"
      },
      "outputs": [],
      "source": [
        "customers_features = customers_df.drop(columns=\"Rating\")"
      ]
    },
    {
      "cell_type": "markdown",
      "metadata": {
        "id": "rmcc1oHxrGsE"
      },
      "source": [
        "## Step 1. Build pipeline and add imputer\n",
        "\n",
        "I count 8 steps.\n"
      ]
    },
    {
      "cell_type": "code",
      "execution_count": null,
      "metadata": {
        "id": "sYxtig9qo1Bj"
      },
      "outputs": [],
      "source": [
        "# Build pipeline and include scalers from last chapter and imputer from this\n",
        "customer_transformer = Pipeline(\n",
        "    steps=[\n",
        "        # fill in the steps on your own\n",
        "        # Drop ID\n",
        "        (\"drop\", CustomDropColumnsTransformer([\"ID\"], \"drop\")),\n",
        "        # Map gender\n",
        "        (\"gender\", CustomMappingTransformer(\"Gender\", {\"Male\": 0, \"Female\": 1})),\n",
        "        # Map experience level\n",
        "        (\n",
        "            \"experience_level\",\n",
        "            CustomMappingTransformer(\n",
        "                \"Experience Level\", {\"low\": 0, \"medium\": 1, \"high\": 2}\n",
        "            ),\n",
        "        ),\n",
        "        # One hot encode OS\n",
        "        (\"os\", CustomOHETransformer(\"OS\")),\n",
        "        # One hot encode ISP\n",
        "        (\"isp\", CustomOHETransformer(\"ISP\")),\n",
        "        (\"time spent\", CustomTukeyTransformer(\"Time Spent\", \"inner\")),\n",
        "        (\"imputer\", CustomKNNTransformer())\n",
        "    ],\n",
        "    verbose=True,\n",
        ")"
      ]
    },
    {
      "cell_type": "markdown",
      "metadata": {
        "id": "2oyzgUkprMbP"
      },
      "source": [
        "## Step 2. Test out `KNNTransformer`\n"
      ]
    },
    {
      "cell_type": "code",
      "execution_count": 119,
      "metadata": {
        "id": "zNzpsDllB_s0"
      },
      "outputs": [
        {
          "name": "stdout",
          "output_type": "stream",
          "text": [
            "[Pipeline] .............. (step 1 of 6) Processing drop, total=   0.0s\n",
            "\n",
            "Warning: CustomMappingTransformer[Gender] does not contain keys for these values {nan}\n",
            "\n",
            "[Pipeline] ............ (step 2 of 6) Processing gender, total=   0.0s\n",
            "\n",
            "Warning: CustomMappingTransformer[Experience Level] does not contain keys for these values {nan}\n",
            "\n",
            "[Pipeline] .. (step 3 of 6) Processing experience_level, total=   0.0s\n",
            "[Pipeline] ................ (step 4 of 6) Processing os, total=   0.0s\n",
            "[Pipeline] ............... (step 5 of 6) Processing isp, total=   0.0s\n",
            "[Pipeline] ........... (step 6 of 6) Processing imputer, total=   0.0s\n"
          ]
        }
      ],
      "source": [
        "transformed_customer_df = customer_transformer.fit_transform(customers_features)"
      ]
    },
    {
      "cell_type": "code",
      "execution_count": 120,
      "metadata": {
        "id": "UMNP5Sg4qtKA"
      },
      "outputs": [
        {
          "data": {
            "text/html": [
              "<div>\n",
              "<style scoped>\n",
              "    .dataframe tbody tr th:only-of-type {\n",
              "        vertical-align: middle;\n",
              "    }\n",
              "\n",
              "    .dataframe tbody tr th {\n",
              "        vertical-align: top;\n",
              "    }\n",
              "\n",
              "    .dataframe thead th {\n",
              "        text-align: right;\n",
              "    }\n",
              "</style>\n",
              "<table border=\"1\" class=\"dataframe\">\n",
              "  <thead>\n",
              "    <tr style=\"text-align: right;\">\n",
              "      <th></th>\n",
              "      <th>Gender</th>\n",
              "      <th>Experience Level</th>\n",
              "      <th>Time Spent</th>\n",
              "      <th>Age</th>\n",
              "      <th>OS_Android</th>\n",
              "      <th>OS_iOS</th>\n",
              "      <th>ISP_AT&amp;T</th>\n",
              "      <th>ISP_Cox</th>\n",
              "      <th>ISP_HughesNet</th>\n",
              "      <th>ISP_Xfinity</th>\n",
              "    </tr>\n",
              "  </thead>\n",
              "  <tbody>\n",
              "    <tr>\n",
              "      <th>0</th>\n",
              "      <td>1.0</td>\n",
              "      <td>1.0</td>\n",
              "      <td>96.614</td>\n",
              "      <td>56.6</td>\n",
              "      <td>0.0</td>\n",
              "      <td>1.0</td>\n",
              "      <td>0.0</td>\n",
              "      <td>0.0</td>\n",
              "      <td>0.0</td>\n",
              "      <td>1.0</td>\n",
              "    </tr>\n",
              "    <tr>\n",
              "      <th>1</th>\n",
              "      <td>0.0</td>\n",
              "      <td>1.0</td>\n",
              "      <td>71.970</td>\n",
              "      <td>50.0</td>\n",
              "      <td>1.0</td>\n",
              "      <td>0.0</td>\n",
              "      <td>0.0</td>\n",
              "      <td>1.0</td>\n",
              "      <td>0.0</td>\n",
              "      <td>0.0</td>\n",
              "    </tr>\n",
              "    <tr>\n",
              "      <th>2</th>\n",
              "      <td>1.0</td>\n",
              "      <td>1.0</td>\n",
              "      <td>101.810</td>\n",
              "      <td>49.0</td>\n",
              "      <td>0.0</td>\n",
              "      <td>0.0</td>\n",
              "      <td>0.0</td>\n",
              "      <td>1.0</td>\n",
              "      <td>0.0</td>\n",
              "      <td>0.0</td>\n",
              "    </tr>\n",
              "    <tr>\n",
              "      <th>3</th>\n",
              "      <td>1.0</td>\n",
              "      <td>1.0</td>\n",
              "      <td>86.370</td>\n",
              "      <td>53.0</td>\n",
              "      <td>1.0</td>\n",
              "      <td>0.0</td>\n",
              "      <td>0.0</td>\n",
              "      <td>0.0</td>\n",
              "      <td>0.0</td>\n",
              "      <td>1.0</td>\n",
              "    </tr>\n",
              "    <tr>\n",
              "      <th>4</th>\n",
              "      <td>1.0</td>\n",
              "      <td>1.0</td>\n",
              "      <td>103.970</td>\n",
              "      <td>58.0</td>\n",
              "      <td>0.0</td>\n",
              "      <td>1.0</td>\n",
              "      <td>0.0</td>\n",
              "      <td>0.0</td>\n",
              "      <td>0.0</td>\n",
              "      <td>1.0</td>\n",
              "    </tr>\n",
              "  </tbody>\n",
              "</table>\n",
              "</div>"
            ],
            "text/plain": [
              "   Gender  Experience Level  Time Spent   Age  OS_Android  OS_iOS  ISP_AT&T  \\\n",
              "0     1.0               1.0      96.614  56.6         0.0     1.0       0.0   \n",
              "1     0.0               1.0      71.970  50.0         1.0     0.0       0.0   \n",
              "2     1.0               1.0     101.810  49.0         0.0     0.0       0.0   \n",
              "3     1.0               1.0      86.370  53.0         1.0     0.0       0.0   \n",
              "4     1.0               1.0     103.970  58.0         0.0     1.0       0.0   \n",
              "\n",
              "   ISP_Cox  ISP_HughesNet  ISP_Xfinity  \n",
              "0      0.0            0.0          1.0  \n",
              "1      1.0            0.0          0.0  \n",
              "2      1.0            0.0          0.0  \n",
              "3      0.0            0.0          1.0  \n",
              "4      0.0            0.0          1.0  "
            ]
          },
          "execution_count": 120,
          "metadata": {},
          "output_type": "execute_result"
        }
      ],
      "source": [
        "transformed_customer_df.head()"
      ]
    },
    {
      "cell_type": "markdown",
      "metadata": {
        "id": "7n0JMOYwMPOS"
      },
      "source": [
        "| index | Gender | Experience Level | Time Spent           | Age                    | OS_Android | OS_iOS | ISP_AT&amp;T | ISP_Cox | ISP_HughesNet | ISP_Xfinity |\n",
        "| ----- | ------ | ---------------- | -------------------- | ---------------------- | ---------- | ------ | ------------ | ------- | ------------- | ----------- |\n",
        "| 0     | 1\\.0   | 1\\.0             | 0\\.7184632599776198  | -0\\.041379310344827586 | 0\\.0       | 1\\.0   | 0\\.0         | 0\\.0    | 0\\.0          | 1\\.0        |\n",
        "| 1     | 0\\.0   | 1\\.0             | -1\\.6057441253263711 | -0\\.6896551724137931   | 1\\.0       | 0\\.0   | 0\\.0         | 1\\.0    | 0\\.0          | 0\\.0        |\n",
        "| 2     | 1\\.0   | 1\\.0             | 0\\.6202909362178289  | -0\\.7586206896551724   | 0\\.0       | 0\\.0   | 0\\.0         | 1\\.0    | 0\\.0          | 0\\.0        |\n",
        "| 3     | 1\\.0   | 1\\.0             | -0\\.5315180902648265 | -0\\.4827586206896552   | 1\\.0       | 0\\.0   | 0\\.0         | 0\\.0    | 0\\.0          | 1\\.0        |\n",
        "| 4     | 1\\.0   | 1\\.0             | 0\\.7814248414770603  | -0\\.13793103448275862  | 0\\.0       | 1\\.0   | 0\\.0         | 0\\.0    | 0\\.0          | 1\\.0        |\n"
      ]
    },
    {
      "cell_type": "markdown",
      "metadata": {
        "id": "w7ayicj3o1Bo"
      },
      "source": [
        "# Challenge 4\n",
        "\n",
        "<img src='https://www.dropbox.com/s/3uyvp722kp5to2r/assignment.png?raw=1' width='300'>\n",
        "\n",
        "Add `CustomKNNTransformer` to your library. It is what we will use in our pipeline to do imputation.\n",
        "\n",
        "As a preprocessing step, I'd recommend asking Gemini to do full documentation and type hints on it and add that to your library.\n",
        "\n",
        "Also update your pipeline.\n"
      ]
    }
  ],
  "metadata": {
    "colab": {
      "include_colab_link": true,
      "machine_shape": "hm",
      "provenance": []
    },
    "kernelspec": {
      "display_name": "cs523",
      "language": "python",
      "name": "python3"
    },
    "language_info": {
      "codemirror_mode": {
        "name": "ipython",
        "version": 3
      },
      "file_extension": ".py",
      "mimetype": "text/x-python",
      "name": "python",
      "nbconvert_exporter": "python",
      "pygments_lexer": "ipython3",
      "version": "3.12.9"
    }
  },
  "nbformat": 4,
  "nbformat_minor": 0
}
