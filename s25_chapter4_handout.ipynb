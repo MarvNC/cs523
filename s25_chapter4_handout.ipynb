{
  "cells": [
    {
      "cell_type": "markdown",
      "metadata": {
        "id": "PX_AHUIIpBrz"
      },
      "source": [
        "# Preface\n",
        "\n",
        "I updated the challenges slightly."
      ]
    },
    {
      "cell_type": "markdown",
      "metadata": {
        "id": "bzDiYMkiYgRS"
      },
      "source": [
        "<center>\n",
        "<h1>Chapter Four</h1>\n",
        "</center>\n",
        "\n",
        "<hr>\n",
        "\n",
        "## LEARNING OBJECTIVES:\n",
        "- Semi-deep dive into the wrangling of outliers in your data. Introduce a set of alternative methods to consider.\n",
        "- Capture several in custom Transformers.\n",
        "- Place them correctly in Pipeline."
      ]
    },
    {
      "cell_type": "markdown",
      "metadata": {
        "id": "Npa06nZLAvs-"
      },
      "source": [
        "# I. Outliers\n",
        "\n",
        "We will look at both identifying and handling outliers in a column. I'll introduce 2 different (but related) identification methods. For handling, we will use the same simple method.\n",
        "\n",
        "Be aware we could also look for entire rows as outliers: [Sample outliers](https://scikit-learn.org/stable/modules/generated/sklearn.neighbors.LocalOutlierFactor.html#sklearn.neighbors.LocalOutlierFactor). Interesting, but we will focus on outliers in a single cell in a column."
      ]
    },
    {
      "cell_type": "markdown",
      "metadata": {
        "id": "ztVnEk6C1pPb"
      },
      "source": [
        "## Set-up\n",
        "\n",
        "First bring in your library."
      ]
    },
    {
      "cell_type": "code",
      "execution_count": 58,
      "metadata": {
        "id": "AZ6MOQmuVewi"
      },
      "outputs": [],
      "source": [
        "github_name = 'smith'\n",
        "repo_name = 'mlops'\n",
        "source_file = 'library.py'\n",
        "url = f'https://raw.githubusercontent.com/{github_name}/{repo_name}/main/{source_file}'\n",
        "# !rm $source_file\n",
        "# !wget $url\n",
        "# %run -i $source_file\n",
        "from library import *"
      ]
    },
    {
      "cell_type": "markdown",
      "metadata": {
        "id": "5ZqcJSxA6v1y"
      },
      "source": [
        "## Make sure transformers from chapter 3 are in your library"
      ]
    },
    {
      "cell_type": "code",
      "execution_count": 59,
      "metadata": {
        "id": "AAUvxVCo5bta"
      },
      "outputs": [
        {
          "data": {
            "text/plain": [
              "(type, type)"
            ]
          },
          "execution_count": 59,
          "metadata": {},
          "output_type": "execute_result"
        }
      ],
      "source": [
        "type(CustomMappingTransformer), type(CustomOHETransformer)  #(type, type)"
      ]
    },
    {
      "cell_type": "markdown",
      "metadata": {
        "id": "uxXGgriLK4Pl"
      },
      "source": [
        "## Now titanic dataset"
      ]
    },
    {
      "cell_type": "code",
      "execution_count": 60,
      "metadata": {
        "id": "Wl6YCVfp1uyT"
      },
      "outputs": [],
      "source": [
        "\n",
        "url = 'https://raw.githubusercontent.com/fickas/asynch_models/refs/heads/main/datasets/titanic_trimmed.csv'\n",
        "\n",
        "titanic_table = pd.read_csv(url)  #using our new package to read in an entire dataset - the coolest"
      ]
    },
    {
      "cell_type": "code",
      "execution_count": 61,
      "metadata": {
        "id": "BoSy4udQ1uyT"
      },
      "outputs": [
        {
          "data": {
            "text/html": [
              "<div>\n",
              "<style scoped>\n",
              "    .dataframe tbody tr th:only-of-type {\n",
              "        vertical-align: middle;\n",
              "    }\n",
              "\n",
              "    .dataframe tbody tr th {\n",
              "        vertical-align: top;\n",
              "    }\n",
              "\n",
              "    .dataframe thead th {\n",
              "        text-align: right;\n",
              "    }\n",
              "</style>\n",
              "<table border=\"1\" class=\"dataframe\">\n",
              "  <thead>\n",
              "    <tr style=\"text-align: right;\">\n",
              "      <th></th>\n",
              "      <th>Age</th>\n",
              "      <th>Gender</th>\n",
              "      <th>Class</th>\n",
              "      <th>Joined</th>\n",
              "      <th>Married</th>\n",
              "      <th>Fare</th>\n",
              "      <th>Survived</th>\n",
              "    </tr>\n",
              "  </thead>\n",
              "  <tbody>\n",
              "    <tr>\n",
              "      <th>0</th>\n",
              "      <td>41.0</td>\n",
              "      <td>Male</td>\n",
              "      <td>C3</td>\n",
              "      <td>Southampton</td>\n",
              "      <td>0.0</td>\n",
              "      <td>7.0</td>\n",
              "      <td>0</td>\n",
              "    </tr>\n",
              "    <tr>\n",
              "      <th>1</th>\n",
              "      <td>21.0</td>\n",
              "      <td>Male</td>\n",
              "      <td>Crew</td>\n",
              "      <td>Southampton</td>\n",
              "      <td>0.0</td>\n",
              "      <td>0.0</td>\n",
              "      <td>0</td>\n",
              "    </tr>\n",
              "    <tr>\n",
              "      <th>2</th>\n",
              "      <td>13.0</td>\n",
              "      <td>Male</td>\n",
              "      <td>C3</td>\n",
              "      <td>Southampton</td>\n",
              "      <td>NaN</td>\n",
              "      <td>20.0</td>\n",
              "      <td>0</td>\n",
              "    </tr>\n",
              "    <tr>\n",
              "      <th>3</th>\n",
              "      <td>16.0</td>\n",
              "      <td>Male</td>\n",
              "      <td>C3</td>\n",
              "      <td>Southampton</td>\n",
              "      <td>0.0</td>\n",
              "      <td>NaN</td>\n",
              "      <td>0</td>\n",
              "    </tr>\n",
              "    <tr>\n",
              "      <th>4</th>\n",
              "      <td>NaN</td>\n",
              "      <td>Male</td>\n",
              "      <td>C2</td>\n",
              "      <td>Cherbourg</td>\n",
              "      <td>0.0</td>\n",
              "      <td>24.0</td>\n",
              "      <td>0</td>\n",
              "    </tr>\n",
              "  </tbody>\n",
              "</table>\n",
              "</div>"
            ],
            "text/plain": [
              "    Age Gender Class       Joined  Married  Fare  Survived\n",
              "0  41.0   Male    C3  Southampton      0.0   7.0         0\n",
              "1  21.0   Male  Crew  Southampton      0.0   0.0         0\n",
              "2  13.0   Male    C3  Southampton      NaN  20.0         0\n",
              "3  16.0   Male    C3  Southampton      0.0   NaN         0\n",
              "4   NaN   Male    C2    Cherbourg      0.0  24.0         0"
            ]
          },
          "execution_count": 61,
          "metadata": {},
          "output_type": "execute_result"
        }
      ],
      "source": [
        "titanic_table.head()  #print first 5 rows of the table"
      ]
    },
    {
      "cell_type": "markdown",
      "metadata": {
        "id": "5hM3yv_gNjiv"
      },
      "source": [
        "## Remove label column"
      ]
    },
    {
      "cell_type": "code",
      "execution_count": 62,
      "metadata": {
        "id": "QDzt6jKTNoAo"
      },
      "outputs": [],
      "source": [
        "titanic_features = titanic_table.drop(columns='Survived')"
      ]
    },
    {
      "cell_type": "markdown",
      "metadata": {
        "id": "GJHlx2tTBNNq"
      },
      "source": [
        "## Wrangle using your pipeline\n",
        "\n",
        "Should be in your library."
      ]
    },
    {
      "cell_type": "code",
      "execution_count": 63,
      "metadata": {
        "id": "R-eO6gReCT-8"
      },
      "outputs": [
        {
          "name": "stdout",
          "output_type": "stream",
          "text": [
            "[Pipeline] ............ (step 1 of 3) Processing gender, total=   0.0s\n",
            "\n",
            "Warning: CustomMappingTransformer[Class] does not contain keys for these values {nan}\n",
            "\n",
            "[Pipeline] ............. (step 2 of 3) Processing class, total=   0.0s\n",
            "[Pipeline] ............ (step 3 of 3) Processing joined, total=   0.0s\n"
          ]
        }
      ],
      "source": [
        "transformed_df = titanic_transformer.fit_transform(titanic_features)"
      ]
    },
    {
      "cell_type": "code",
      "execution_count": 64,
      "metadata": {
        "id": "ZR2eIY3VUx86"
      },
      "outputs": [
        {
          "data": {
            "text/html": [
              "<div>\n",
              "<style scoped>\n",
              "    .dataframe tbody tr th:only-of-type {\n",
              "        vertical-align: middle;\n",
              "    }\n",
              "\n",
              "    .dataframe tbody tr th {\n",
              "        vertical-align: top;\n",
              "    }\n",
              "\n",
              "    .dataframe thead th {\n",
              "        text-align: right;\n",
              "    }\n",
              "</style>\n",
              "<table border=\"1\" class=\"dataframe\">\n",
              "  <thead>\n",
              "    <tr style=\"text-align: right;\">\n",
              "      <th></th>\n",
              "      <th>Age</th>\n",
              "      <th>Gender</th>\n",
              "      <th>Class</th>\n",
              "      <th>Married</th>\n",
              "      <th>Fare</th>\n",
              "      <th>Joined_Belfast</th>\n",
              "      <th>Joined_Cherbourg</th>\n",
              "      <th>Joined_Queenstown</th>\n",
              "      <th>Joined_Southampton</th>\n",
              "    </tr>\n",
              "  </thead>\n",
              "  <tbody>\n",
              "    <tr>\n",
              "      <th>0</th>\n",
              "      <td>41.0</td>\n",
              "      <td>0</td>\n",
              "      <td>1.0</td>\n",
              "      <td>0.0</td>\n",
              "      <td>7.0</td>\n",
              "      <td>0</td>\n",
              "      <td>0</td>\n",
              "      <td>0</td>\n",
              "      <td>1</td>\n",
              "    </tr>\n",
              "    <tr>\n",
              "      <th>1</th>\n",
              "      <td>21.0</td>\n",
              "      <td>0</td>\n",
              "      <td>0.0</td>\n",
              "      <td>0.0</td>\n",
              "      <td>0.0</td>\n",
              "      <td>0</td>\n",
              "      <td>0</td>\n",
              "      <td>0</td>\n",
              "      <td>1</td>\n",
              "    </tr>\n",
              "    <tr>\n",
              "      <th>2</th>\n",
              "      <td>13.0</td>\n",
              "      <td>0</td>\n",
              "      <td>1.0</td>\n",
              "      <td>NaN</td>\n",
              "      <td>20.0</td>\n",
              "      <td>0</td>\n",
              "      <td>0</td>\n",
              "      <td>0</td>\n",
              "      <td>1</td>\n",
              "    </tr>\n",
              "    <tr>\n",
              "      <th>3</th>\n",
              "      <td>16.0</td>\n",
              "      <td>0</td>\n",
              "      <td>1.0</td>\n",
              "      <td>0.0</td>\n",
              "      <td>NaN</td>\n",
              "      <td>0</td>\n",
              "      <td>0</td>\n",
              "      <td>0</td>\n",
              "      <td>1</td>\n",
              "    </tr>\n",
              "    <tr>\n",
              "      <th>4</th>\n",
              "      <td>NaN</td>\n",
              "      <td>0</td>\n",
              "      <td>2.0</td>\n",
              "      <td>0.0</td>\n",
              "      <td>24.0</td>\n",
              "      <td>0</td>\n",
              "      <td>1</td>\n",
              "      <td>0</td>\n",
              "      <td>0</td>\n",
              "    </tr>\n",
              "  </tbody>\n",
              "</table>\n",
              "</div>"
            ],
            "text/plain": [
              "    Age  Gender  Class  Married  Fare  Joined_Belfast  Joined_Cherbourg  \\\n",
              "0  41.0       0    1.0      0.0   7.0               0                 0   \n",
              "1  21.0       0    0.0      0.0   0.0               0                 0   \n",
              "2  13.0       0    1.0      NaN  20.0               0                 0   \n",
              "3  16.0       0    1.0      0.0   NaN               0                 0   \n",
              "4   NaN       0    2.0      0.0  24.0               0                 1   \n",
              "\n",
              "   Joined_Queenstown  Joined_Southampton  \n",
              "0                  0                   1  \n",
              "1                  0                   1  \n",
              "2                  0                   1  \n",
              "3                  0                   1  \n",
              "4                  0                   0  "
            ]
          },
          "execution_count": 64,
          "metadata": {},
          "output_type": "execute_result"
        }
      ],
      "source": [
        "transformed_df.head()"
      ]
    },
    {
      "cell_type": "markdown",
      "metadata": {
        "id": "5Y1huouejzY5"
      },
      "source": [
        "# II. Wrangle outliers\n",
        "<img src='https://www.dropbox.com/s/9fcc1crlxp19ijt/major_section.png?raw=1' width='300'>\n",
        "\n",
        "We spent last week wrangling our string columns into numeric form. In this chapter, we will focus on the numeric columns and look at outliers in those columns."
      ]
    },
    {
      "cell_type": "markdown",
      "metadata": {
        "id": "Gl7J-ZPU-4xj"
      },
      "source": [
        "## The outlier problem\n",
        "\n",
        "Outliers are data values that are extreme, either on high end or on low end. What is meant by \"extreme\" depends on the outlier-detection methods we use. We will explore two.\n",
        "\n",
        "The problem  with outliers are twofold:\n",
        "\n",
        "1. They may be mistakes. When data was being entered, a typo was made. Looking at the Titanic data, there is a fare of 512. Perhaps that should have been 51.2 but a typo was made. So an outlier might not be a legitimate value.\n",
        "\n",
        "2. Even if they are legit,\n",
        "outliers can screw up our prediction models. Some machine learning models will give too much credence to outliers and skew results.\n",
        "\n",
        "Our goal is to (a) identify outliers, and then (b) transform outliers into a more acceptable form. I am going to use two standard identification approaches called the 3Sigma rule and the Tukey (\"two key\") rule. However, there are  others to choose from. Here is a start if you are interested: [Variety of outlier methods](https://towardsdatascience.com/detecting-and-treating-outliers-in-python-part-1-4ece5098b755). Here are a few more sophisticated approaches: [More sophisticated outlier methods](https://medium.com/swlh/top-five-methods-to-identify-outliers-in-data-2777a87dd7fe)."
      ]
    },
    {
      "cell_type": "markdown",
      "metadata": {
        "id": "tGEJpcfpkTR8"
      },
      "source": [
        "# III. The 3 Sigma rule\n",
        "\n",
        "The first outlier identification we will look at is called 3 Sigma, where Sigma stands for standard deviation. It's relatively simple. Given a column like Fare, find the mean and standard deviation. Set boundaries as follows: low boundary is `mean - 3 * sigma`; the high boundary is `mean + 3 * sigma`.\n",
        "Values beyond that boundary wall may be considered outliers. So we add, to the mean, 3 times the standard deviation to get the upper boundary and minus 3 times the standard deviation to get the lower boundary.\n",
        "The lowercase Greek letter mu (µ) represents the mean.\n",
        "\n",
        "<img src='https://www.dropbox.com/scl/fi/t6ja1id9ybmnol3t0zblb/Screenshot-2025-01-03-at-9.25.18-AM.png?rlkey=t8n52kfd4b015yb6o6h7au587&raw=1' height=300>"
      ]
    },
    {
      "cell_type": "markdown",
      "metadata": {
        "id": "pUV3oBwgClFw"
      },
      "source": [
        "<img src='https://www.dropbox.com/s/8x575mvbi1xumje/cash_line.png?raw=1' height=3 width=500><br>\n",
        "<img src='https://www.gannett-cdn.com/-mm-/56cbeec8287997813f287995de67747ba5e101d5/c=9-0-1280-718/local/-/media/2018/02/15/Phoenix/Phoenix/636542954131413889-image.jpg'\n",
        "height=50 align=center>\n",
        "\n",
        "\n",
        "Let's write a function that will compute the low and high boundaries of a column.\n",
        "\n",
        "Return a tuple of low boundary and high boundary.\n",
        "\n",
        "Hint: no loops needed if can find correct pandas methods.\n",
        "\n"
      ]
    },
    {
      "cell_type": "code",
      "execution_count": 65,
      "metadata": {
        "id": "F5U_ctpzi-FI"
      },
      "outputs": [],
      "source": [
        "# I'll get us started\n",
        "\n",
        "def compute_3sigma_boundaries(df: pd.DataFrame, column_name: str) -> Tuple[float, float]:\n",
        "  \"\"\"Computes the low and high boundaries of a column using the 3 Sigma rule.\n",
        "  Given a column like Fare, find the mean and standard deviation. Set boundaries as follows:\n",
        "  low boundary is `mean - 3 * sigma`; the high boundary is `mean + 3 * sigma`.\n",
        "  Values beyond that boundary wall may be considered outliers.\n",
        "  The lowercase Greek letter mu (µ) represents the mean.\n",
        "\n",
        "  Args:\n",
        "    df: The input DataFrame.\n",
        "    column_name: The name of the column to compute boundaries for.\n",
        "\n",
        "  Returns:\n",
        "    A tuple containing the low and high boundaries.\n",
        "  \"\"\"\n",
        "  assert isinstance(df, pd.core.frame.DataFrame), f'expected Dataframe but got {type(df)} instead.'\n",
        "  assert column_name in df.columns.to_list(), f'unknown column {column_name}'\n",
        "  assert pd.api.types.is_numeric_dtype(df[column_name]), f'expected int or float in column {column_name}'\n",
        "\n",
        "\n",
        "  #your code below\n",
        "\n",
        "  # Compute the mean and standard deviation of the column\n",
        "  mean = df[column_name].mean()\n",
        "  sigma = df[column_name].std()\n",
        "\n",
        "  # Compute the low and high boundaries\n",
        "  upper = mean + 3 * sigma\n",
        "  lower = mean - 3 * sigma\n",
        "\n",
        "  # Return the boundaries\n",
        "  return (lower, upper)"
      ]
    },
    {
      "cell_type": "markdown",
      "metadata": {
        "id": "e-ihcGWSFHE8"
      },
      "source": [
        "## Test on the Fare column"
      ]
    },
    {
      "cell_type": "code",
      "execution_count": 66,
      "metadata": {
        "id": "7L_65G3kFLKo"
      },
      "outputs": [
        {
          "data": {
            "text/plain": [
              "(-126.58295661603658, 188.92587042229135)"
            ]
          },
          "execution_count": 66,
          "metadata": {},
          "output_type": "execute_result"
        }
      ],
      "source": [
        "s3min, s3max = compute_3sigma_boundaries(transformed_df, 'Fare')\n",
        "(s3min,s3max)  #(-126.58295661603658, 188.92587042229135)"
      ]
    },
    {
      "cell_type": "code",
      "execution_count": 67,
      "metadata": {
        "id": "iZc--i91Gi-B"
      },
      "outputs": [
        {
          "data": {
            "text/plain": [
              "(0.0, 512.0)"
            ]
          },
          "execution_count": 67,
          "metadata": {},
          "output_type": "execute_result"
        }
      ],
      "source": [
        "(transformed_df['Fare'].min(), transformed_df['Fare'].max())  #(0.0, 512.0)"
      ]
    },
    {
      "cell_type": "markdown",
      "metadata": {
        "id": "X_9NpZHPGxQM"
      },
      "source": [
        "### High outliers\n",
        "\n",
        "Nothing below -126 in fare, but some fares over 189. Let's plot it."
      ]
    },
    {
      "cell_type": "code",
      "execution_count": 68,
      "metadata": {
        "id": "TbDYfssS_KKi"
      },
      "outputs": [
        {
          "data": {
            "text/plain": [
              "<matplotlib.lines.Line2D at 0x7fc7ae98d370>"
            ]
          },
          "execution_count": 68,
          "metadata": {},
          "output_type": "execute_result"
        },
        {
          "data": {
            "image/png": "[encoded data removed]",
            "text/plain": [
              "<Figure size 1000x800 with 1 Axes>"
            ]
          },
          "metadata": {},
          "output_type": "display_data"
        }
      ],
      "source": [
        "ax = transformed_df['Fare'].plot(kind='hist', figsize=(10,8), grid=True, logy=True)  #what we have seen before\n",
        "ax.axvline(x=s3min, ymin=0, ymax=1, color='r', linestyle='--', lw=2)  #low fence\n",
        "ax.axvline(x=s3max, ymin=0, ymax=1, color='r', linestyle='--', lw=2)  #high fence"
      ]
    },
    {
      "cell_type": "markdown",
      "metadata": {
        "id": "fth7-PGeBHIo"
      },
      "source": [
        "We can double-check what we see with a couple of pandas methods. For more see here: [skew and kurtosis](https://medium.com/@atanudan/kurtosis-skew-function-in-pandas-aa63d72e20de)."
      ]
    },
    {
      "cell_type": "code",
      "execution_count": 69,
      "metadata": {
        "id": "DQ2DbU_JArJF"
      },
      "outputs": [
        {
          "data": {
            "text/plain": [
              "4.2823355053978585"
            ]
          },
          "execution_count": 69,
          "metadata": {},
          "output_type": "execute_result"
        }
      ],
      "source": [
        "transformed_df['Fare'].skew()  #4.2823355053978585 greater than 1 highly skewed right"
      ]
    },
    {
      "cell_type": "code",
      "execution_count": 70,
      "metadata": {
        "id": "LNj6f7cLAzMI"
      },
      "outputs": [
        {
          "data": {
            "text/plain": [
              "26.020798741121023"
            ]
          },
          "execution_count": 70,
          "metadata": {},
          "output_type": "execute_result"
        }
      ],
      "source": [
        "transformed_df['Fare'].kurtosis()  #26.020798741121023 greater than 0 = \"heavy tails/outliers\""
      ]
    },
    {
      "cell_type": "markdown",
      "metadata": {
        "id": "SQvIZTetAf0v"
      },
      "source": [
        "It is skewed. And has a heavy tail, meaning lots of values near extremes. I am going to plow ahead with using 3sigma but in reality might be better off  \"unskewing\" the column before employing 3Sigma, e.g., [skew handling](https://towardsdatascience.com/top-3-methods-for-handling-skewed-data-1334e0debf45)."
      ]
    },
    {
      "cell_type": "markdown",
      "metadata": {
        "id": "CLVZQtW-LYcJ"
      },
      "source": [
        "### Let's try Age"
      ]
    },
    {
      "cell_type": "code",
      "execution_count": 71,
      "metadata": {
        "id": "oJ1rU6dPLhVm"
      },
      "outputs": [
        {
          "data": {
            "text/plain": [
              "(-11.466448491618326, 74.6152214977533)"
            ]
          },
          "execution_count": 71,
          "metadata": {},
          "output_type": "execute_result"
        }
      ],
      "source": [
        "s3min, s3max = compute_3sigma_boundaries(transformed_df, 'Age')\n",
        "(s3min,s3max)  #(-11.466448491618326, 74.6152214977533)"
      ]
    },
    {
      "cell_type": "code",
      "execution_count": 72,
      "metadata": {
        "id": "mWCmzNDbLcim"
      },
      "outputs": [
        {
          "data": {
            "text/plain": [
              "<matplotlib.lines.Line2D at 0x7fc7ae1c5f40>"
            ]
          },
          "execution_count": 72,
          "metadata": {},
          "output_type": "execute_result"
        },
        {
          "data": {
            "image/png": "[encoded data removed]",
            "text/plain": [
              "<Figure size 1000x800 with 1 Axes>"
            ]
          },
          "metadata": {},
          "output_type": "display_data"
        }
      ],
      "source": [
        "ax = transformed_df['Age'].plot(kind='hist', figsize=(10,8), grid=True, logy=True)\n",
        "ax.axvline(x=s3min, ymin=0, ymax=1, color='r', linestyle='--', lw=2)  #low fence\n",
        "ax.axvline(x=s3max, ymin=0, ymax=1, color='r', linestyle='--', lw=2)  #high fence"
      ]
    },
    {
      "cell_type": "code",
      "execution_count": 73,
      "metadata": {
        "id": "jpUfH1zTM3nM"
      },
      "outputs": [
        {
          "data": {
            "text/plain": [
              "0.14808832680399128"
            ]
          },
          "execution_count": 73,
          "metadata": {},
          "output_type": "execute_result"
        }
      ],
      "source": [
        "# Skewness - see skew method doc for more info\n",
        "\n",
        "transformed_df['Age'].skew()  #0.14808832680399128 less than 1 much less skew"
      ]
    },
    {
      "cell_type": "code",
      "execution_count": 74,
      "metadata": {
        "id": "m0PcWo34M3nN"
      },
      "outputs": [
        {
          "data": {
            "text/plain": [
              "-0.1815192902344882"
            ]
          },
          "execution_count": 74,
          "metadata": {},
          "output_type": "execute_result"
        }
      ],
      "source": [
        "# Kurtosis - see kurtosis method doc for more info\n",
        "\n",
        "transformed_df['Age'].kurtosis()  #-0.1815192902344882 close to normal if 0"
      ]
    },
    {
      "cell_type": "markdown",
      "metadata": {
        "id": "6BUf6rYoOgTS"
      },
      "source": [
        "# Clip outliers\n",
        "\n",
        "Ok, we found outliers. Now what? How can we deal with them? I am going to suggest a very easy fix. Move the outliers to the boundary.\n",
        "\n",
        "pandas has a method `clip` that is handy for what we want to do: move outliers to their boundaries. Check it out."
      ]
    },
    {
      "cell_type": "code",
      "execution_count": 75,
      "metadata": {
        "id": "jEDV-C0lPAZS"
      },
      "outputs": [],
      "source": [
        "minb, maxb = compute_3sigma_boundaries(transformed_df, 'Fare')\n",
        "transformed_df['Clipped_Fare'] = transformed_df['Fare'].clip(lower=minb, upper=maxb)\n"
      ]
    },
    {
      "cell_type": "code",
      "execution_count": 76,
      "metadata": {
        "id": "2Pxzmzd1N1mJ"
      },
      "outputs": [
        {
          "data": {
            "text/plain": [
              "<matplotlib.lines.Line2D at 0x7fc7adeecad0>"
            ]
          },
          "execution_count": 76,
          "metadata": {},
          "output_type": "execute_result"
        },
        {
          "data": {
            "image/png": "[encoded data removed]",
            "text/plain": [
              "<Figure size 1000x800 with 1 Axes>"
            ]
          },
          "metadata": {},
          "output_type": "display_data"
        }
      ],
      "source": [
        "s3min, s3max = compute_3sigma_boundaries(transformed_df, 'Fare')\n",
        "ax = transformed_df['Clipped_Fare'].plot(kind='hist', figsize=(10,8), grid=True, logy=True)\n",
        "ax.axvline(x=s3min, ymin=0, ymax=1, color='r', linestyle='--', lw=2)  #low fence\n",
        "ax.axvline(x=s3max, ymin=0, ymax=1, color='r', linestyle='--', lw=2)  #high fence"
      ]
    },
    {
      "cell_type": "markdown",
      "metadata": {
        "id": "b2MN4jL0EAkf"
      },
      "source": [
        "# IV. The Tukey (two key) method and the boxplot\n",
        "\n",
        "Let's assume we do not like the 3Sigma method and want to try an alternative.\n",
        "In a box plot, introduced by John Tukey in 1970, the data is divided into quartiles. It usually shows a rectangular box representing 25%-75% of a sample’s observations, extended by so-called whiskers that provide a measure of outlierness. Observations shown outside of the whiskers are outliers (explained in more detail below).\n",
        "\n",
        "What is interesting about Tukey is that he decided to define 2 walls/fences on either side. Items between the fences were viewed as \"possible\" outliers; items beyond the outer fence were viewed as \"probable\" outliers. Of course this all depends on the subjective meaning of possible and probable.\n",
        "\n",
        "## The quartiles (25%, 50%, 75%)\n",
        "\n",
        "These can be useful for determining the distribution of a column. And also looking for outliers. Let's say I sort the `Age` column into an ascending list. The 25% quartile tells me where I would have to set the value to get 25% of the data below that value (or on the left of the list). There is a pandas method for giving us the values for the quartiles."
      ]
    },
    {
      "cell_type": "code",
      "execution_count": 77,
      "metadata": {
        "id": "nue2RmK9TITf"
      },
      "outputs": [
        {
          "data": {
            "text/plain": [
              "count    1304.000000\n",
              "mean       31.574387\n",
              "std        14.346945\n",
              "min         1.000000\n",
              "25%        22.000000\n",
              "50%        30.500000\n",
              "75%        41.000000\n",
              "max        74.000000\n",
              "Name: Age, dtype: float64"
            ]
          },
          "execution_count": 77,
          "metadata": {},
          "output_type": "execute_result"
        }
      ],
      "source": [
        "transformed_df['Age'].describe()"
      ]
    },
    {
      "cell_type": "markdown",
      "metadata": {
        "id": "MIN-f28DlK5y"
      },
      "source": [
        "## The boxplot (with modifications)\n",
        "\n",
        "There is a pandas method, `boxplot`, for plotting some of the Tukey info we need. In particlar, it will give us the inner fences (called whiskers) of Tukey. What we need to add are the outer fences. Then everything between inner and outer is possible outliers and everything beyond outer is probable outliers."
      ]
    },
    {
      "cell_type": "code",
      "execution_count": 78,
      "metadata": {
        "id": "XgqIQrrta5rE"
      },
      "outputs": [
        {
          "name": "stderr",
          "output_type": "stream",
          "text": [
            "/tmp/ipykernel_198066/3752157709.py:15: UserWarning: FigureCanvasAgg is non-interactive, and thus cannot be shown\n",
            "  fig.show()\n"
          ]
        },
        {
          "data": {
            "image/png": "[encoded data removed]",
            "text/plain": [
              "<Figure size 300x900 with 1 Axes>"
            ]
          },
          "metadata": {},
          "output_type": "display_data"
        }
      ],
      "source": [
        "import matplotlib.pyplot as plt\n",
        "column='Age'\n",
        "fig, ax = plt.subplots(1,1, figsize=(3,9))\n",
        "transformed_df.boxplot(column, vert=True, ax=ax, grid=True)  #normal boxplot\n",
        "#now add on outer fences\n",
        "q1 = transformed_df[column].quantile(0.25)\n",
        "q3 = transformed_df[column].quantile(0.75)\n",
        "iqr = q3-q1\n",
        "outer_low = q1-3*iqr\n",
        "outer_high = q3+3*iqr\n",
        "ax.scatter(1, outer_low, c='red', label='outer_low', marker=\"D\", linewidths=5)\n",
        "ax.text(1.1,  outer_low, \"Outer fence\")\n",
        "ax.scatter(1, outer_high, c='red', label='outer_high', marker=\"D\", linewidths=5)\n",
        "ax.text(1.1,  outer_high, \"Outer fence\")\n",
        "fig.show()"
      ]
    },
    {
      "cell_type": "markdown",
      "metadata": {
        "id": "7jNLytjAUIsQ"
      },
      "source": [
        "### Rotating 90\n",
        "\n",
        "<img src='https://miro.medium.com/max/1400/1*2c21SkzJMf3frPXPAR_gZA.png' height=200>"
      ]
    },
    {
      "cell_type": "markdown",
      "metadata": {
        "id": "GbLj4uJIQh7p"
      },
      "source": [
        "### No probables for `Age`\n",
        "\n",
        "We have a set of possible points, but nothing beyond outer fences. Let's check out `Fare`."
      ]
    },
    {
      "cell_type": "code",
      "execution_count": 79,
      "metadata": {
        "id": "wR_Pjvn4RGle"
      },
      "outputs": [
        {
          "name": "stderr",
          "output_type": "stream",
          "text": [
            "/tmp/ipykernel_198066/1363532992.py:15: UserWarning: FigureCanvasAgg is non-interactive, and thus cannot be shown\n",
            "  fig.show()\n"
          ]
        },
        {
          "data": {
            "image/png": "[encoded data removed]",
            "text/plain": [
              "<Figure size 300x900 with 1 Axes>"
            ]
          },
          "metadata": {},
          "output_type": "display_data"
        }
      ],
      "source": [
        "import matplotlib.pyplot as plt\n",
        "column='Fare'\n",
        "fig, ax = plt.subplots(1,1, figsize=(3,9))\n",
        "transformed_df.boxplot(column, vert=True, ax=ax, grid=True)  #normal boxplot\n",
        "# now add on outer fences\n",
        "q1 = transformed_df[column].quantile(0.25)\n",
        "q3 = transformed_df[column].quantile(0.75)\n",
        "iqr = q3-q1\n",
        "outer_low = q1-3*iqr\n",
        "outer_high = q3+3*iqr\n",
        "ax.scatter(1, outer_low, c='red', label='outer_low', marker=\"D\", linewidths=5)\n",
        "ax.text(1.1,  outer_low, \"Outer fence\")\n",
        "ax.scatter(1, outer_high, c='red', label='outer_high', marker=\"D\", linewidths=5)\n",
        "ax.text(1.1,  outer_high, \"Outer fence\")\n",
        "fig.show()"
      ]
    },
    {
      "cell_type": "markdown",
      "metadata": {
        "id": "X1cC-uHWRMIp"
      },
      "source": [
        "### Lots of probables for `Fare`"
      ]
    },
    {
      "cell_type": "markdown",
      "metadata": {
        "id": "8zDsVnhKstZE"
      },
      "source": [
        "# Challenge 1\n",
        "\n",
        "Another way to deal with outliers is to remove any row that has an outlier value. Out of sight, out of mind.\n",
        "\n",
        "Let's say we want to remove all rows who have a value in the `Fare` column that is greater than `outer_high`. I'll create a new dataframe called `clean_titanic` where this is the case.\n",
        "\n",
        "\n",
        "\n",
        "\n"
      ]
    },
    {
      "cell_type": "markdown",
      "metadata": {
        "id": "AlXChwgsrD_V"
      },
      "source": [
        "## Step 1. Create a new table with rows with high **probables** removed\n",
        "\n",
        "Pandas `query` method should be all you need.\n",
        "\n",
        "**But important note**: the `query` method will also drop rows with `NaN` values. If you use something other than `query` to drop (e.g., the `drop` method), this may not be the case and you could end up with results slightly different than 1229 - there are two `NaN` values in the `Fare` column so you could get 1231. That's ok too."
      ]
    },
    {
      "cell_type": "markdown",
      "metadata": {
        "id": "bflAkbFg6pNw"
      },
      "source": [
        "### remove\n",
        "<pre>\n",
        "clean_titanic = transformed_df.drop(transformed_df[transformed_df.Fare > outer_high].index).reset_index(drop=True)  #1231\n",
        "</pre>\n",
        "\n",
        "Here is an alternative solution (you could also use `@outer_high` without f string):\n",
        "\n",
        "<pre>\n",
        "clean2_titanic = transformed_df.query(f'Fare <= {outer_high}').reset_index(drop=True)  #2093\n",
        "</pre>\n",
        "\n",
        "So it appears that the query method drops the two NaN columns while the drop method retains them. Interesting! I believe most of you were using `.loc` instead of `.query` but getting same results.\n",
        "\n",
        "For future reference, I would prefer not to drop the rows with NaN values. So when working with rows, use `drop`.\n",
        "</pre>"
      ]
    },
    {
      "cell_type": "code",
      "execution_count": 80,
      "metadata": {
        "id": "q2aY7R1eXpmZ"
      },
      "outputs": [
        {
          "data": {
            "text/plain": [
              "2"
            ]
          },
          "execution_count": 80,
          "metadata": {},
          "output_type": "execute_result"
        }
      ],
      "source": [
        "transformed_df['Fare'].isna().sum()  #2 NaNs in the column"
      ]
    },
    {
      "cell_type": "code",
      "execution_count": 81,
      "metadata": {
        "id": "xgLbC67HrqVd"
      },
      "outputs": [
        {
          "data": {
            "text/plain": [
              "1229"
            ]
          },
          "execution_count": 81,
          "metadata": {},
          "output_type": "execute_result"
        }
      ],
      "source": [
        "cleaned_titanic = transformed_df.query(f'Fare <= {outer_high}')  #or transformed_df.query('Fare <= @outer_high')\n",
        "len(cleaned_titanic)   #1229"
      ]
    },
    {
      "cell_type": "code",
      "execution_count": 82,
      "metadata": {
        "id": "17EPezGir03p"
      },
      "outputs": [
        {
          "data": {
            "text/html": [
              "<div>\n",
              "<style scoped>\n",
              "    .dataframe tbody tr th:only-of-type {\n",
              "        vertical-align: middle;\n",
              "    }\n",
              "\n",
              "    .dataframe tbody tr th {\n",
              "        vertical-align: top;\n",
              "    }\n",
              "\n",
              "    .dataframe thead th {\n",
              "        text-align: right;\n",
              "    }\n",
              "</style>\n",
              "<table border=\"1\" class=\"dataframe\">\n",
              "  <thead>\n",
              "    <tr style=\"text-align: right;\">\n",
              "      <th></th>\n",
              "      <th>Age</th>\n",
              "      <th>Gender</th>\n",
              "      <th>Class</th>\n",
              "      <th>Married</th>\n",
              "      <th>Fare</th>\n",
              "      <th>Joined_Belfast</th>\n",
              "      <th>Joined_Cherbourg</th>\n",
              "      <th>Joined_Queenstown</th>\n",
              "      <th>Joined_Southampton</th>\n",
              "      <th>Clipped_Fare</th>\n",
              "    </tr>\n",
              "  </thead>\n",
              "  <tbody>\n",
              "    <tr>\n",
              "      <th>1308</th>\n",
              "      <td>4.0</td>\n",
              "      <td>0</td>\n",
              "      <td>1.0</td>\n",
              "      <td>0.0</td>\n",
              "      <td>22.0</td>\n",
              "      <td>0</td>\n",
              "      <td>1</td>\n",
              "      <td>0</td>\n",
              "      <td>0</td>\n",
              "      <td>22.0</td>\n",
              "    </tr>\n",
              "    <tr>\n",
              "      <th>1309</th>\n",
              "      <td>2.0</td>\n",
              "      <td>1</td>\n",
              "      <td>1.0</td>\n",
              "      <td>0.0</td>\n",
              "      <td>22.0</td>\n",
              "      <td>0</td>\n",
              "      <td>1</td>\n",
              "      <td>0</td>\n",
              "      <td>0</td>\n",
              "      <td>22.0</td>\n",
              "    </tr>\n",
              "    <tr>\n",
              "      <th>1310</th>\n",
              "      <td>23.0</td>\n",
              "      <td>1</td>\n",
              "      <td>1.0</td>\n",
              "      <td>1.0</td>\n",
              "      <td>22.0</td>\n",
              "      <td>0</td>\n",
              "      <td>1</td>\n",
              "      <td>0</td>\n",
              "      <td>0</td>\n",
              "      <td>22.0</td>\n",
              "    </tr>\n",
              "    <tr>\n",
              "      <th>1311</th>\n",
              "      <td>22.0</td>\n",
              "      <td>1</td>\n",
              "      <td>3.0</td>\n",
              "      <td>0.0</td>\n",
              "      <td>61.0</td>\n",
              "      <td>0</td>\n",
              "      <td>0</td>\n",
              "      <td>0</td>\n",
              "      <td>1</td>\n",
              "      <td>61.0</td>\n",
              "    </tr>\n",
              "    <tr>\n",
              "      <th>1312</th>\n",
              "      <td>27.0</td>\n",
              "      <td>0</td>\n",
              "      <td>1.0</td>\n",
              "      <td>0.0</td>\n",
              "      <td>7.0</td>\n",
              "      <td>0</td>\n",
              "      <td>1</td>\n",
              "      <td>0</td>\n",
              "      <td>0</td>\n",
              "      <td>7.0</td>\n",
              "    </tr>\n",
              "  </tbody>\n",
              "</table>\n",
              "</div>"
            ],
            "text/plain": [
              "       Age  Gender  Class  Married  Fare  Joined_Belfast  Joined_Cherbourg  \\\n",
              "1308   4.0       0    1.0      0.0  22.0               0                 1   \n",
              "1309   2.0       1    1.0      0.0  22.0               0                 1   \n",
              "1310  23.0       1    1.0      1.0  22.0               0                 1   \n",
              "1311  22.0       1    3.0      0.0  61.0               0                 0   \n",
              "1312  27.0       0    1.0      0.0   7.0               0                 1   \n",
              "\n",
              "      Joined_Queenstown  Joined_Southampton  Clipped_Fare  \n",
              "1308                  0                   0          22.0  \n",
              "1309                  0                   0          22.0  \n",
              "1310                  0                   0          22.0  \n",
              "1311                  0                   1          61.0  \n",
              "1312                  0                   0           7.0  "
            ]
          },
          "execution_count": 82,
          "metadata": {},
          "output_type": "execute_result"
        }
      ],
      "source": [
        "cleaned_titanic.tail()"
      ]
    },
    {
      "cell_type": "markdown",
      "metadata": {
        "id": "7FIe0j2wwNom"
      },
      "source": [
        "## Step 2. Reset index so no gaps\n",
        "\n"
      ]
    },
    {
      "cell_type": "code",
      "execution_count": 83,
      "metadata": {
        "id": "evcE6-O6sHW4"
      },
      "outputs": [
        {
          "data": {
            "text/plain": [
              "1229"
            ]
          },
          "execution_count": 83,
          "metadata": {},
          "output_type": "execute_result"
        }
      ],
      "source": [
        "clean2_titanic = cleaned_titanic.reset_index(drop=True)\n",
        "len(clean2_titanic)  #1229"
      ]
    },
    {
      "cell_type": "code",
      "execution_count": 84,
      "metadata": {
        "id": "QxLbA0c6sUa1"
      },
      "outputs": [
        {
          "data": {
            "text/html": [
              "<div>\n",
              "<style scoped>\n",
              "    .dataframe tbody tr th:only-of-type {\n",
              "        vertical-align: middle;\n",
              "    }\n",
              "\n",
              "    .dataframe tbody tr th {\n",
              "        vertical-align: top;\n",
              "    }\n",
              "\n",
              "    .dataframe thead th {\n",
              "        text-align: right;\n",
              "    }\n",
              "</style>\n",
              "<table border=\"1\" class=\"dataframe\">\n",
              "  <thead>\n",
              "    <tr style=\"text-align: right;\">\n",
              "      <th></th>\n",
              "      <th>Age</th>\n",
              "      <th>Gender</th>\n",
              "      <th>Class</th>\n",
              "      <th>Married</th>\n",
              "      <th>Fare</th>\n",
              "      <th>Joined_Belfast</th>\n",
              "      <th>Joined_Cherbourg</th>\n",
              "      <th>Joined_Queenstown</th>\n",
              "      <th>Joined_Southampton</th>\n",
              "      <th>Clipped_Fare</th>\n",
              "    </tr>\n",
              "  </thead>\n",
              "  <tbody>\n",
              "    <tr>\n",
              "      <th>1224</th>\n",
              "      <td>4.0</td>\n",
              "      <td>0</td>\n",
              "      <td>1.0</td>\n",
              "      <td>0.0</td>\n",
              "      <td>22.0</td>\n",
              "      <td>0</td>\n",
              "      <td>1</td>\n",
              "      <td>0</td>\n",
              "      <td>0</td>\n",
              "      <td>22.0</td>\n",
              "    </tr>\n",
              "    <tr>\n",
              "      <th>1225</th>\n",
              "      <td>2.0</td>\n",
              "      <td>1</td>\n",
              "      <td>1.0</td>\n",
              "      <td>0.0</td>\n",
              "      <td>22.0</td>\n",
              "      <td>0</td>\n",
              "      <td>1</td>\n",
              "      <td>0</td>\n",
              "      <td>0</td>\n",
              "      <td>22.0</td>\n",
              "    </tr>\n",
              "    <tr>\n",
              "      <th>1226</th>\n",
              "      <td>23.0</td>\n",
              "      <td>1</td>\n",
              "      <td>1.0</td>\n",
              "      <td>1.0</td>\n",
              "      <td>22.0</td>\n",
              "      <td>0</td>\n",
              "      <td>1</td>\n",
              "      <td>0</td>\n",
              "      <td>0</td>\n",
              "      <td>22.0</td>\n",
              "    </tr>\n",
              "    <tr>\n",
              "      <th>1227</th>\n",
              "      <td>22.0</td>\n",
              "      <td>1</td>\n",
              "      <td>3.0</td>\n",
              "      <td>0.0</td>\n",
              "      <td>61.0</td>\n",
              "      <td>0</td>\n",
              "      <td>0</td>\n",
              "      <td>0</td>\n",
              "      <td>1</td>\n",
              "      <td>61.0</td>\n",
              "    </tr>\n",
              "    <tr>\n",
              "      <th>1228</th>\n",
              "      <td>27.0</td>\n",
              "      <td>0</td>\n",
              "      <td>1.0</td>\n",
              "      <td>0.0</td>\n",
              "      <td>7.0</td>\n",
              "      <td>0</td>\n",
              "      <td>1</td>\n",
              "      <td>0</td>\n",
              "      <td>0</td>\n",
              "      <td>7.0</td>\n",
              "    </tr>\n",
              "  </tbody>\n",
              "</table>\n",
              "</div>"
            ],
            "text/plain": [
              "       Age  Gender  Class  Married  Fare  Joined_Belfast  Joined_Cherbourg  \\\n",
              "1224   4.0       0    1.0      0.0  22.0               0                 1   \n",
              "1225   2.0       1    1.0      0.0  22.0               0                 1   \n",
              "1226  23.0       1    1.0      1.0  22.0               0                 1   \n",
              "1227  22.0       1    3.0      0.0  61.0               0                 0   \n",
              "1228  27.0       0    1.0      0.0   7.0               0                 1   \n",
              "\n",
              "      Joined_Queenstown  Joined_Southampton  Clipped_Fare  \n",
              "1224                  0                   0          22.0  \n",
              "1225                  0                   0          22.0  \n",
              "1226                  0                   0          22.0  \n",
              "1227                  0                   1          61.0  \n",
              "1228                  0                   0           7.0  "
            ]
          },
          "execution_count": 84,
          "metadata": {},
          "output_type": "execute_result"
        }
      ],
      "source": [
        "clean2_titanic.tail()"
      ]
    },
    {
      "cell_type": "markdown",
      "metadata": {
        "id": "0n-BeczUsvM3"
      },
      "source": [
        "### What I see\n",
        "\n",
        "|index|Age|Gender|Class|Married|Fare|Joined\\_Belfast|Joined\\_Cherbourg|Joined\\_Queenstown|Joined\\_Southampton|Clipped\\_Fare|\n",
        "|---|---|---|---|---|---|---|---|---|---|---|\n",
        "|1224|4\\.0|0|1\\.0|0\\.0|22\\.0|0|1|0|0|22\\.0|\n",
        "|1225|2\\.0|1|1\\.0|0\\.0|22\\.0|0|1|0|0|22\\.0|\n",
        "|1226|23\\.0|1|1\\.0|1\\.0|22\\.0|0|1|0|0|22\\.0|\n",
        "|1227|22\\.0|1|3\\.0|0\\.0|61\\.0|0|0|0|1|61\\.0|\n",
        "|1228|27\\.0|0|1\\.0|0\\.0|7\\.0|0|1|0|0|7\\.0|"
      ]
    },
    {
      "cell_type": "markdown",
      "metadata": {
        "id": "0-0eVC_5LxBX"
      },
      "source": [
        "# Challenge 2\n",
        "\n",
        "Build a CustomSigma3Transformer and add it to your library. Test it out below. Use `clip` to do transformation on named column.\n",
        "\n",
        "As with `CustomPearsonTransformer`, the main work should be done by the `fit` method, which computes the two walls. The `transform` method simply clips and resets index."
      ]
    },
    {
      "cell_type": "markdown",
      "metadata": {
        "id": "p5jm6YoGQiYP"
      },
      "source": [
        "### First define it in notebook and test"
      ]
    },
    {
      "cell_type": "code",
      "execution_count": 85,
      "metadata": {
        "id": "PWYYs9m3L455"
      },
      "outputs": [],
      "source": [
        "class CustomSigma3Transformer(BaseEstimator, TransformerMixin):\n",
        "    \"\"\"\n",
        "    A transformer that applies 3-sigma clipping to a specified column in a pandas DataFrame.\n",
        "\n",
        "    This transformer follows the scikit-learn transformer interface and can be used in\n",
        "    a scikit-learn pipeline. It clips values in the target column to be within three standard\n",
        "    deviations from the mean.\n",
        "\n",
        "    Parameters\n",
        "    ----------\n",
        "    target_column : Hashable\n",
        "        The name of the column to apply 3-sigma clipping on.\n",
        "\n",
        "    Attributes\n",
        "    ----------\n",
        "    high_wall : Optional[float]\n",
        "        The upper bound for clipping, computed as mean + 3 * standard deviation.\n",
        "    low_wall : Optional[float]\n",
        "        The lower bound for clipping, computed as mean - 3 * standard deviation.\n",
        "    \"\"\"\n",
        "    def __init__(self, target_column: Hashable):\n",
        "        self.target_column = target_column\n",
        "        self.high_wall = None\n",
        "        self.low_wall = None\n",
        "    \n",
        "    def fit(self, X: pd.DataFrame, y: Optional[Iterable] = None) -> Self:\n",
        "        \"\"\"\n",
        "        Fits the transformer by calculating the mean and standard deviation of the target column.\n",
        "\n",
        "        Parameters\n",
        "        ----------\n",
        "        X : pd.DataFrame\n",
        "            The input DataFrame.\n",
        "        y : array-like, default=None\n",
        "            Ignored. Present for compatibility with scikit-learn interface.\n",
        "\n",
        "        Returns\n",
        "        -------\n",
        "        self : CustomSigma3Transformer\n",
        "            Fitted transformer.\n",
        "\n",
        "        Raises\n",
        "        ------\n",
        "        AssertionError\n",
        "            If the input DataFrame is not of type pd.DataFrame or if the target column is not in the DataFrame.\n",
        "            If the target column is not numeric.\n",
        "        \"\"\"\n",
        "        assert isinstance(X, pd.DataFrame), f'expected Dataframe but got {type(X)} instead.'\n",
        "        assert self.target_column in X.columns.to_list(), f'unknown column {self.target_column}'\n",
        "        assert pd.api.types.is_numeric_dtype(X[self.target_column]), f'expected int or float in column {self.target_column}'\n",
        "\n",
        "        mean = X[self.target_column].mean()\n",
        "        sigma = X[self.target_column].std()\n",
        "\n",
        "        self.high_wall = mean + 3 * sigma\n",
        "        self.low_wall = mean - 3 * sigma\n",
        "\n",
        "        return self\n",
        "\n",
        "    def transform(self, X: pd.DataFrame) -> pd.DataFrame:\n",
        "        \"\"\"\n",
        "        Transforms the input DataFrame by clipping the target column to be within the high and low walls.\n",
        "\n",
        "        Parameters\n",
        "        ----------\n",
        "        X : pd.DataFrame\n",
        "            The input DataFrame to transform.\n",
        "\n",
        "        Returns\n",
        "        -------\n",
        "        X : pd.DataFrame\n",
        "            The transformed DataFrame with the target column clipped.\n",
        "\n",
        "        Raises\n",
        "        ------\n",
        "        AssertionError\n",
        "            If the transform method is called before fit.\n",
        "        \"\"\"\n",
        "        assert self.high_wall is not None and self.low_wall is not None, \"Transformer has not been fitted yet.\"\n",
        "        X[self.target_column] = X[self.target_column].clip(lower=self.low_wall, upper=self.high_wall)\n",
        "        return X"
      ]
    },
    {
      "cell_type": "markdown",
      "metadata": {
        "id": "6i8v8nYGvfuo"
      },
      "source": [
        "### Testing"
      ]
    },
    {
      "cell_type": "code",
      "execution_count": 87,
      "metadata": {
        "id": "TkMYV83zyN1H"
      },
      "outputs": [
        {
          "ename": "AssertionError",
          "evalue": "unknown column fare",
          "output_type": "error",
          "traceback": [
            "\u001b[31m---------------------------------------------------------------------------\u001b[39m",
            "\u001b[31mAssertionError\u001b[39m                            Traceback (most recent call last)",
            "\u001b[36mCell\u001b[39m\u001b[36m \u001b[39m\u001b[32mIn[87]\u001b[39m\u001b[32m, line 2\u001b[39m\n\u001b[32m      1\u001b[39m sigma3_transformer = CustomSigma3Transformer(\u001b[33m'\u001b[39m\u001b[33mfare\u001b[39m\u001b[33m'\u001b[39m)\n\u001b[32m----> \u001b[39m\u001b[32m2\u001b[39m new_df1 = \u001b[43msigma3_transformer\u001b[49m\u001b[43m.\u001b[49m\u001b[43mfit_transform\u001b[49m\u001b[43m(\u001b[49m\u001b[43mtransformed_df\u001b[49m\u001b[43m)\u001b[49m  \u001b[38;5;66;03m#AssertionError: unknown column fare\u001b[39;00m\n",
            "\u001b[36mFile \u001b[39m\u001b[32m~/miniconda3/envs/cs523/lib/python3.12/site-packages/sklearn/utils/_set_output.py:319\u001b[39m, in \u001b[36m_wrap_method_output.<locals>.wrapped\u001b[39m\u001b[34m(self, X, *args, **kwargs)\u001b[39m\n\u001b[32m    317\u001b[39m \u001b[38;5;129m@wraps\u001b[39m(f)\n\u001b[32m    318\u001b[39m \u001b[38;5;28;01mdef\u001b[39;00m\u001b[38;5;250m \u001b[39m\u001b[34mwrapped\u001b[39m(\u001b[38;5;28mself\u001b[39m, X, *args, **kwargs):\n\u001b[32m--> \u001b[39m\u001b[32m319\u001b[39m     data_to_wrap = \u001b[43mf\u001b[49m\u001b[43m(\u001b[49m\u001b[38;5;28;43mself\u001b[39;49m\u001b[43m,\u001b[49m\u001b[43m \u001b[49m\u001b[43mX\u001b[49m\u001b[43m,\u001b[49m\u001b[43m \u001b[49m\u001b[43m*\u001b[49m\u001b[43margs\u001b[49m\u001b[43m,\u001b[49m\u001b[43m \u001b[49m\u001b[43m*\u001b[49m\u001b[43m*\u001b[49m\u001b[43mkwargs\u001b[49m\u001b[43m)\u001b[49m\n\u001b[32m    320\u001b[39m     \u001b[38;5;28;01mif\u001b[39;00m \u001b[38;5;28misinstance\u001b[39m(data_to_wrap, \u001b[38;5;28mtuple\u001b[39m):\n\u001b[32m    321\u001b[39m         \u001b[38;5;66;03m# only wrap the first output for cross decomposition\u001b[39;00m\n\u001b[32m    322\u001b[39m         return_tuple = (\n\u001b[32m    323\u001b[39m             _wrap_data_with_container(method, data_to_wrap[\u001b[32m0\u001b[39m], X, \u001b[38;5;28mself\u001b[39m),\n\u001b[32m    324\u001b[39m             *data_to_wrap[\u001b[32m1\u001b[39m:],\n\u001b[32m    325\u001b[39m         )\n",
            "\u001b[36mFile \u001b[39m\u001b[32m~/miniconda3/envs/cs523/lib/python3.12/site-packages/sklearn/base.py:918\u001b[39m, in \u001b[36mTransformerMixin.fit_transform\u001b[39m\u001b[34m(self, X, y, **fit_params)\u001b[39m\n\u001b[32m    903\u001b[39m         warnings.warn(\n\u001b[32m    904\u001b[39m             (\n\u001b[32m    905\u001b[39m                 \u001b[33mf\u001b[39m\u001b[33m\"\u001b[39m\u001b[33mThis object (\u001b[39m\u001b[38;5;132;01m{\u001b[39;00m\u001b[38;5;28mself\u001b[39m.\u001b[34m__class__\u001b[39m.\u001b[34m__name__\u001b[39m\u001b[38;5;132;01m}\u001b[39;00m\u001b[33m) has a `transform`\u001b[39m\u001b[33m\"\u001b[39m\n\u001b[32m   (...)\u001b[39m\u001b[32m    913\u001b[39m             \u001b[38;5;167;01mUserWarning\u001b[39;00m,\n\u001b[32m    914\u001b[39m         )\n\u001b[32m    916\u001b[39m \u001b[38;5;28;01mif\u001b[39;00m y \u001b[38;5;129;01mis\u001b[39;00m \u001b[38;5;28;01mNone\u001b[39;00m:\n\u001b[32m    917\u001b[39m     \u001b[38;5;66;03m# fit method of arity 1 (unsupervised transformation)\u001b[39;00m\n\u001b[32m--> \u001b[39m\u001b[32m918\u001b[39m     \u001b[38;5;28;01mreturn\u001b[39;00m \u001b[38;5;28;43mself\u001b[39;49m\u001b[43m.\u001b[49m\u001b[43mfit\u001b[49m\u001b[43m(\u001b[49m\u001b[43mX\u001b[49m\u001b[43m,\u001b[49m\u001b[43m \u001b[49m\u001b[43m*\u001b[49m\u001b[43m*\u001b[49m\u001b[43mfit_params\u001b[49m\u001b[43m)\u001b[49m.transform(X)\n\u001b[32m    919\u001b[39m \u001b[38;5;28;01melse\u001b[39;00m:\n\u001b[32m    920\u001b[39m     \u001b[38;5;66;03m# fit method of arity 2 (supervised transformation)\u001b[39;00m\n\u001b[32m    921\u001b[39m     \u001b[38;5;28;01mreturn\u001b[39;00m \u001b[38;5;28mself\u001b[39m.fit(X, y, **fit_params).transform(X)\n",
            "\u001b[36mCell\u001b[39m\u001b[36m \u001b[39m\u001b[32mIn[85]\u001b[39m\u001b[32m, line 49\u001b[39m, in \u001b[36mCustomSigma3Transformer.fit\u001b[39m\u001b[34m(self, X, y)\u001b[39m\n\u001b[32m     27\u001b[39m \u001b[38;5;250m\u001b[39m\u001b[33;03m\"\"\"\u001b[39;00m\n\u001b[32m     28\u001b[39m \u001b[33;03mFits the transformer by calculating the mean and standard deviation of the target column.\u001b[39;00m\n\u001b[32m     29\u001b[39m \n\u001b[32m   (...)\u001b[39m\u001b[32m     46\u001b[39m \u001b[33;03m    If the target column is not numeric.\u001b[39;00m\n\u001b[32m     47\u001b[39m \u001b[33;03m\"\"\"\u001b[39;00m\n\u001b[32m     48\u001b[39m \u001b[38;5;28;01massert\u001b[39;00m \u001b[38;5;28misinstance\u001b[39m(X, pd.DataFrame), \u001b[33mf\u001b[39m\u001b[33m'\u001b[39m\u001b[33mexpected Dataframe but got \u001b[39m\u001b[38;5;132;01m{\u001b[39;00m\u001b[38;5;28mtype\u001b[39m(X)\u001b[38;5;132;01m}\u001b[39;00m\u001b[33m instead.\u001b[39m\u001b[33m'\u001b[39m\n\u001b[32m---> \u001b[39m\u001b[32m49\u001b[39m \u001b[38;5;28;01massert\u001b[39;00m \u001b[38;5;28mself\u001b[39m.target_column \u001b[38;5;129;01min\u001b[39;00m X.columns.to_list(), \u001b[33mf\u001b[39m\u001b[33m'\u001b[39m\u001b[33munknown column \u001b[39m\u001b[38;5;132;01m{\u001b[39;00m\u001b[38;5;28mself\u001b[39m.target_column\u001b[38;5;132;01m}\u001b[39;00m\u001b[33m'\u001b[39m\n\u001b[32m     50\u001b[39m \u001b[38;5;28;01massert\u001b[39;00m pd.api.types.is_numeric_dtype(X[\u001b[38;5;28mself\u001b[39m.target_column]), \u001b[33mf\u001b[39m\u001b[33m'\u001b[39m\u001b[33mexpected int or float in column \u001b[39m\u001b[38;5;132;01m{\u001b[39;00m\u001b[38;5;28mself\u001b[39m.target_column\u001b[38;5;132;01m}\u001b[39;00m\u001b[33m'\u001b[39m\n\u001b[32m     52\u001b[39m mean = X[\u001b[38;5;28mself\u001b[39m.target_column].mean()\n",
            "\u001b[31mAssertionError\u001b[39m: unknown column fare"
          ]
        }
      ],
      "source": [
        "sigma3_transformer = CustomSigma3Transformer('fare')\n",
        "new_df1 = sigma3_transformer.fit_transform(transformed_df)  #AssertionError: unknown column fare"
      ]
    },
    {
      "cell_type": "code",
      "execution_count": 88,
      "metadata": {
        "id": "WXWsEHVzvclU"
      },
      "outputs": [],
      "source": [
        "sigma3_transformer = CustomSigma3Transformer('Fare')"
      ]
    },
    {
      "cell_type": "code",
      "execution_count": 89,
      "metadata": {
        "id": "duSehWe_vk8N"
      },
      "outputs": [
        {
          "ename": "AssertionError",
          "evalue": "Transformer has not been fitted yet.",
          "output_type": "error",
          "traceback": [
            "\u001b[31m---------------------------------------------------------------------------\u001b[39m",
            "\u001b[31mAssertionError\u001b[39m                            Traceback (most recent call last)",
            "\u001b[36mCell\u001b[39m\u001b[36m \u001b[39m\u001b[32mIn[89]\u001b[39m\u001b[32m, line 1\u001b[39m\n\u001b[32m----> \u001b[39m\u001b[32m1\u001b[39m new_df1 = \u001b[43msigma3_transformer\u001b[49m\u001b[43m.\u001b[49m\u001b[43mtransform\u001b[49m\u001b[43m(\u001b[49m\u001b[43mtransformed_df\u001b[49m\u001b[43m)\u001b[49m  \u001b[38;5;66;03m#AssertionError: Sigma3Transformer.fit has not been called.\u001b[39;00m\n",
            "\u001b[36mFile \u001b[39m\u001b[32m~/miniconda3/envs/cs523/lib/python3.12/site-packages/sklearn/utils/_set_output.py:319\u001b[39m, in \u001b[36m_wrap_method_output.<locals>.wrapped\u001b[39m\u001b[34m(self, X, *args, **kwargs)\u001b[39m\n\u001b[32m    317\u001b[39m \u001b[38;5;129m@wraps\u001b[39m(f)\n\u001b[32m    318\u001b[39m \u001b[38;5;28;01mdef\u001b[39;00m\u001b[38;5;250m \u001b[39m\u001b[34mwrapped\u001b[39m(\u001b[38;5;28mself\u001b[39m, X, *args, **kwargs):\n\u001b[32m--> \u001b[39m\u001b[32m319\u001b[39m     data_to_wrap = \u001b[43mf\u001b[49m\u001b[43m(\u001b[49m\u001b[38;5;28;43mself\u001b[39;49m\u001b[43m,\u001b[49m\u001b[43m \u001b[49m\u001b[43mX\u001b[49m\u001b[43m,\u001b[49m\u001b[43m \u001b[49m\u001b[43m*\u001b[49m\u001b[43margs\u001b[49m\u001b[43m,\u001b[49m\u001b[43m \u001b[49m\u001b[43m*\u001b[49m\u001b[43m*\u001b[49m\u001b[43mkwargs\u001b[49m\u001b[43m)\u001b[49m\n\u001b[32m    320\u001b[39m     \u001b[38;5;28;01mif\u001b[39;00m \u001b[38;5;28misinstance\u001b[39m(data_to_wrap, \u001b[38;5;28mtuple\u001b[39m):\n\u001b[32m    321\u001b[39m         \u001b[38;5;66;03m# only wrap the first output for cross decomposition\u001b[39;00m\n\u001b[32m    322\u001b[39m         return_tuple = (\n\u001b[32m    323\u001b[39m             _wrap_data_with_container(method, data_to_wrap[\u001b[32m0\u001b[39m], X, \u001b[38;5;28mself\u001b[39m),\n\u001b[32m    324\u001b[39m             *data_to_wrap[\u001b[32m1\u001b[39m:],\n\u001b[32m    325\u001b[39m         )\n",
            "\u001b[36mCell\u001b[39m\u001b[36m \u001b[39m\u001b[32mIn[85]\u001b[39m\u001b[32m, line 79\u001b[39m, in \u001b[36mCustomSigma3Transformer.transform\u001b[39m\u001b[34m(self, X)\u001b[39m\n\u001b[32m     60\u001b[39m \u001b[38;5;28;01mdef\u001b[39;00m\u001b[38;5;250m \u001b[39m\u001b[34mtransform\u001b[39m(\u001b[38;5;28mself\u001b[39m, X: pd.DataFrame) -> pd.DataFrame:\n\u001b[32m     61\u001b[39m \u001b[38;5;250m    \u001b[39m\u001b[33;03m\"\"\"\u001b[39;00m\n\u001b[32m     62\u001b[39m \u001b[33;03m    Transforms the input DataFrame by clipping the target column to be within the high and low walls.\u001b[39;00m\n\u001b[32m     63\u001b[39m \n\u001b[32m   (...)\u001b[39m\u001b[32m     77\u001b[39m \u001b[33;03m        If the transform method is called before fit.\u001b[39;00m\n\u001b[32m     78\u001b[39m \u001b[33;03m    \"\"\"\u001b[39;00m\n\u001b[32m---> \u001b[39m\u001b[32m79\u001b[39m     \u001b[38;5;28;01massert\u001b[39;00m \u001b[38;5;28mself\u001b[39m.high_wall \u001b[38;5;129;01mis\u001b[39;00m \u001b[38;5;129;01mnot\u001b[39;00m \u001b[38;5;28;01mNone\u001b[39;00m \u001b[38;5;129;01mand\u001b[39;00m \u001b[38;5;28mself\u001b[39m.low_wall \u001b[38;5;129;01mis\u001b[39;00m \u001b[38;5;129;01mnot\u001b[39;00m \u001b[38;5;28;01mNone\u001b[39;00m, \u001b[33m\"\u001b[39m\u001b[33mTransformer has not been fitted yet.\u001b[39m\u001b[33m\"\u001b[39m\n\u001b[32m     80\u001b[39m     X[\u001b[38;5;28mself\u001b[39m.target_column] = X[\u001b[38;5;28mself\u001b[39m.target_column].clip(lower=\u001b[38;5;28mself\u001b[39m.low_wall, upper=\u001b[38;5;28mself\u001b[39m.high_wall)\n\u001b[32m     81\u001b[39m     \u001b[38;5;28;01mreturn\u001b[39;00m X\n",
            "\u001b[31mAssertionError\u001b[39m: Transformer has not been fitted yet."
          ]
        }
      ],
      "source": [
        "new_df1 = sigma3_transformer.transform(transformed_df)  #AssertionError: Sigma3Transformer.fit has not been called."
      ]
    },
    {
      "cell_type": "code",
      "execution_count": 90,
      "metadata": {
        "id": "abVo7CtpL5kT"
      },
      "outputs": [
        {
          "data": {
            "text/plain": [
              "(0.0, 188.92587042229135)"
            ]
          },
          "execution_count": 90,
          "metadata": {},
          "output_type": "execute_result"
        }
      ],
      "source": [
        "new_df1 = sigma3_transformer.fit_transform(transformed_df)\n",
        "(new_df1['Fare'].min(), new_df1['Fare'].max())  #(0.0, 188.92587042229135)"
      ]
    },
    {
      "cell_type": "markdown",
      "metadata": {
        "id": "8eZc1ZySMRG9"
      },
      "source": [
        "### Now add to your library."
      ]
    },
    {
      "cell_type": "markdown",
      "metadata": {
        "id": "cFRwz1IwUvj0"
      },
      "source": [
        "# Challenge 3\n",
        "\n",
        "Build a `CustomTukeyTransformer` and add it to your library. Test it out below. Use `clip` to do transformation on named column.\n",
        "\n",
        "Note that Tukey gives us more options for parameters. In particular, it defines inner and outer fences. Add that. BTW: this is another reason for keeping the 2 transformers separate. It gets messy defining parameters that only make sense for one set of options.\n",
        "\n",
        "Follow same scheme as with 3sigma: have the `fit` method compute the walls and the `transform` method simply clips and resets index."
      ]
    },
    {
      "cell_type": "markdown",
      "metadata": {
        "id": "5hFJB8i5Uvj0"
      },
      "source": [
        "### First define it in notebook and test"
      ]
    },
    {
      "cell_type": "code",
      "execution_count": 99,
      "metadata": {
        "id": "3fLJzUelUvj0"
      },
      "outputs": [],
      "source": [
        "class CustomTukeyTransformer(BaseEstimator, TransformerMixin):\n",
        "    \"\"\"\n",
        "    A transformer that applies Tukey's fences (inner or outer) to a specified column in a pandas DataFrame.\n",
        "\n",
        "    This transformer follows the scikit-learn transformer interface and can be used in a scikit-learn pipeline.\n",
        "    It clips values in the target column based on Tukey's inner or outer fences.\n",
        "\n",
        "    Parameters\n",
        "    ----------\n",
        "    target_column : Hashable\n",
        "        The name of the column to apply Tukey's fences on.\n",
        "    fence : Literal['inner', 'outer'], default='outer'\n",
        "        Determines whether to use the inner fence (1.5 * IQR) or the outer fence (3.0 * IQR).\n",
        "\n",
        "    Attributes\n",
        "    ----------\n",
        "    inner_low : Optional[float]\n",
        "        The lower bound for clipping using the inner fence (Q1 - 1.5 * IQR).\n",
        "    outer_low : Optional[float]\n",
        "        The lower bound for clipping using the outer fence (Q1 - 3.0 * IQR).\n",
        "    inner_high : Optional[float]\n",
        "        The upper bound for clipping using the inner fence (Q3 + 1.5 * IQR).\n",
        "    outer_high : Optional[float]\n",
        "        The upper bound for clipping using the outer fence (Q3 + 3.0 * IQR).\n",
        "\n",
        "    Examples\n",
        "    --------\n",
        "    >>> import pandas as pd\n",
        "    >>> df = pd.DataFrame({'values': [10, 15, 14, 20, 100, 5, 7]})\n",
        "    >>> tukey_transformer = CustomTukeyTransformer(target_column='values', fence='inner')\n",
        "    >>> transformed_df = tukey_transformer.fit_transform(df)\n",
        "    >>> transformed_df\n",
        "    \"\"\"\n",
        "    def __init__(self, target_column: Hashable, fence: Literal['inner', 'outer'] = 'outer'):\n",
        "        self.target_column = target_column\n",
        "        self.fence = fence\n",
        "        self.inner_low = None\n",
        "        self.outer_low = None\n",
        "        self.inner_high = None\n",
        "        self.outer_high = None\n",
        "\n",
        "    def fit(self, X: pd.DataFrame, y: Optional[Iterable] = None) -> Self:\n",
        "        \"\"\"\n",
        "        Fits the transformer by calculating the quartiles and IQR of the target column.\n",
        "\n",
        "        Parameters\n",
        "        ----------\n",
        "        X : pd.DataFrame\n",
        "            The input DataFrame.\n",
        "        y : array-like, default=None\n",
        "            Ignored. Present for compatibility with scikit-learn interface.\n",
        "\n",
        "        Returns\n",
        "        -------\n",
        "        self : CustomTukeyTransformer\n",
        "            Fitted transformer.\n",
        "\n",
        "        Raises\n",
        "        ------\n",
        "        AssertionError\n",
        "            If the input DataFrame is not of type pd.DataFrame or if the target column is not in the DataFrame.\n",
        "            If the target column is not numeric.\n",
        "        \"\"\"\n",
        "        assert isinstance(X, pd.DataFrame), f'expected Dataframe but got {type(X)} instead.'\n",
        "        assert self.target_column in X.columns.to_list(), f'unknown column {self.target_column}'\n",
        "        assert pd.api.types.is_numeric_dtype(X[self.target_column]), f'expected int or float in column {self.target_column}'\n",
        "\n",
        "        q1 = X[self.target_column].quantile(0.25)\n",
        "        q3 = X[self.target_column].quantile(0.75)\n",
        "        iqr = q3 - q1\n",
        "\n",
        "        self.inner_low = q1 - 1.5 * iqr\n",
        "        self.outer_low = q1 - 3.0 * iqr\n",
        "        self.inner_high = q3 + 1.5 * iqr\n",
        "        self.outer_high = q3 + 3.0 * iqr\n",
        "        return self\n",
        "    def transform(self, X: pd.DataFrame) -> pd.DataFrame:\n",
        "        \"\"\"\n",
        "        Transforms the input DataFrame by clipping the target column based on the specified fence.\n",
        "\n",
        "        Parameters\n",
        "        ----------\n",
        "        X : pd.DataFrame\n",
        "            The input DataFrame to transform.\n",
        "\n",
        "        Returns\n",
        "        -------\n",
        "        X_ : pd.DataFrame\n",
        "            The transformed DataFrame with the target column clipped according to the chosen fence.\n",
        "\n",
        "        Raises\n",
        "        ------\n",
        "        AssertionError\n",
        "            If the transform method is called before fit.\n",
        "            If the fence type specified during initialization is invalid.\n",
        "        \"\"\"\n",
        "        assert self.inner_low is not None and self.inner_high is not None and \\\n",
        "               self.outer_low is not None and self.outer_high is not None, \\\n",
        "               \"TukeyTransformer.fit has not been called.\"\n",
        "\n",
        "        X_ = X.copy()\n",
        "\n",
        "        if self.fence == 'inner':\n",
        "            lower_bound = self.inner_low\n",
        "            upper_bound = self.inner_high\n",
        "        elif self.fence == 'outer':\n",
        "            lower_bound = self.outer_low\n",
        "            upper_bound = self.outer_high\n",
        "\n",
        "        X_[self.target_column] = X_[self.target_column].clip(lower=lower_bound, upper=upper_bound)\n",
        "        return X_"
      ]
    },
    {
      "cell_type": "markdown",
      "metadata": {
        "id": "QwSScroFxTlK"
      },
      "source": [
        "### Testing"
      ]
    },
    {
      "cell_type": "code",
      "execution_count": 100,
      "metadata": {
        "id": "Tq3kgJU-zFWN"
      },
      "outputs": [
        {
          "ename": "AssertionError",
          "evalue": "unknown column age",
          "output_type": "error",
          "traceback": [
            "\u001b[31m---------------------------------------------------------------------------\u001b[39m",
            "\u001b[31mAssertionError\u001b[39m                            Traceback (most recent call last)",
            "\u001b[36mCell\u001b[39m\u001b[36m \u001b[39m\u001b[32mIn[100]\u001b[39m\u001b[32m, line 2\u001b[39m\n\u001b[32m      1\u001b[39m tukey_transformer = CustomTukeyTransformer(\u001b[33m'\u001b[39m\u001b[33mage\u001b[39m\u001b[33m'\u001b[39m, \u001b[33m'\u001b[39m\u001b[33minner\u001b[39m\u001b[33m'\u001b[39m)\n\u001b[32m----> \u001b[39m\u001b[32m2\u001b[39m new_df1 = \u001b[43mtukey_transformer\u001b[49m\u001b[43m.\u001b[49m\u001b[43mfit_transform\u001b[49m\u001b[43m(\u001b[49m\u001b[43mtransformed_df\u001b[49m\u001b[43m)\u001b[49m  \u001b[38;5;66;03m#AssertionError: TukeyTransformer: unknown column age\u001b[39;00m\n",
            "\u001b[36mFile \u001b[39m\u001b[32m~/miniconda3/envs/cs523/lib/python3.12/site-packages/sklearn/utils/_set_output.py:319\u001b[39m, in \u001b[36m_wrap_method_output.<locals>.wrapped\u001b[39m\u001b[34m(self, X, *args, **kwargs)\u001b[39m\n\u001b[32m    317\u001b[39m \u001b[38;5;129m@wraps\u001b[39m(f)\n\u001b[32m    318\u001b[39m \u001b[38;5;28;01mdef\u001b[39;00m\u001b[38;5;250m \u001b[39m\u001b[34mwrapped\u001b[39m(\u001b[38;5;28mself\u001b[39m, X, *args, **kwargs):\n\u001b[32m--> \u001b[39m\u001b[32m319\u001b[39m     data_to_wrap = \u001b[43mf\u001b[49m\u001b[43m(\u001b[49m\u001b[38;5;28;43mself\u001b[39;49m\u001b[43m,\u001b[49m\u001b[43m \u001b[49m\u001b[43mX\u001b[49m\u001b[43m,\u001b[49m\u001b[43m \u001b[49m\u001b[43m*\u001b[49m\u001b[43margs\u001b[49m\u001b[43m,\u001b[49m\u001b[43m \u001b[49m\u001b[43m*\u001b[49m\u001b[43m*\u001b[49m\u001b[43mkwargs\u001b[49m\u001b[43m)\u001b[49m\n\u001b[32m    320\u001b[39m     \u001b[38;5;28;01mif\u001b[39;00m \u001b[38;5;28misinstance\u001b[39m(data_to_wrap, \u001b[38;5;28mtuple\u001b[39m):\n\u001b[32m    321\u001b[39m         \u001b[38;5;66;03m# only wrap the first output for cross decomposition\u001b[39;00m\n\u001b[32m    322\u001b[39m         return_tuple = (\n\u001b[32m    323\u001b[39m             _wrap_data_with_container(method, data_to_wrap[\u001b[32m0\u001b[39m], X, \u001b[38;5;28mself\u001b[39m),\n\u001b[32m    324\u001b[39m             *data_to_wrap[\u001b[32m1\u001b[39m:],\n\u001b[32m    325\u001b[39m         )\n",
            "\u001b[36mFile \u001b[39m\u001b[32m~/miniconda3/envs/cs523/lib/python3.12/site-packages/sklearn/base.py:918\u001b[39m, in \u001b[36mTransformerMixin.fit_transform\u001b[39m\u001b[34m(self, X, y, **fit_params)\u001b[39m\n\u001b[32m    903\u001b[39m         warnings.warn(\n\u001b[32m    904\u001b[39m             (\n\u001b[32m    905\u001b[39m                 \u001b[33mf\u001b[39m\u001b[33m\"\u001b[39m\u001b[33mThis object (\u001b[39m\u001b[38;5;132;01m{\u001b[39;00m\u001b[38;5;28mself\u001b[39m.\u001b[34m__class__\u001b[39m.\u001b[34m__name__\u001b[39m\u001b[38;5;132;01m}\u001b[39;00m\u001b[33m) has a `transform`\u001b[39m\u001b[33m\"\u001b[39m\n\u001b[32m   (...)\u001b[39m\u001b[32m    913\u001b[39m             \u001b[38;5;167;01mUserWarning\u001b[39;00m,\n\u001b[32m    914\u001b[39m         )\n\u001b[32m    916\u001b[39m \u001b[38;5;28;01mif\u001b[39;00m y \u001b[38;5;129;01mis\u001b[39;00m \u001b[38;5;28;01mNone\u001b[39;00m:\n\u001b[32m    917\u001b[39m     \u001b[38;5;66;03m# fit method of arity 1 (unsupervised transformation)\u001b[39;00m\n\u001b[32m--> \u001b[39m\u001b[32m918\u001b[39m     \u001b[38;5;28;01mreturn\u001b[39;00m \u001b[38;5;28;43mself\u001b[39;49m\u001b[43m.\u001b[49m\u001b[43mfit\u001b[49m\u001b[43m(\u001b[49m\u001b[43mX\u001b[49m\u001b[43m,\u001b[49m\u001b[43m \u001b[49m\u001b[43m*\u001b[49m\u001b[43m*\u001b[49m\u001b[43mfit_params\u001b[49m\u001b[43m)\u001b[49m.transform(X)\n\u001b[32m    919\u001b[39m \u001b[38;5;28;01melse\u001b[39;00m:\n\u001b[32m    920\u001b[39m     \u001b[38;5;66;03m# fit method of arity 2 (supervised transformation)\u001b[39;00m\n\u001b[32m    921\u001b[39m     \u001b[38;5;28;01mreturn\u001b[39;00m \u001b[38;5;28mself\u001b[39m.fit(X, y, **fit_params).transform(X)\n",
            "\u001b[36mCell\u001b[39m\u001b[36m \u001b[39m\u001b[32mIn[99]\u001b[39m\u001b[32m, line 65\u001b[39m, in \u001b[36mCustomTukeyTransformer.fit\u001b[39m\u001b[34m(self, X, y)\u001b[39m\n\u001b[32m     43\u001b[39m \u001b[38;5;250m\u001b[39m\u001b[33;03m\"\"\"\u001b[39;00m\n\u001b[32m     44\u001b[39m \u001b[33;03mFits the transformer by calculating the quartiles and IQR of the target column.\u001b[39;00m\n\u001b[32m     45\u001b[39m \n\u001b[32m   (...)\u001b[39m\u001b[32m     62\u001b[39m \u001b[33;03m    If the target column is not numeric.\u001b[39;00m\n\u001b[32m     63\u001b[39m \u001b[33;03m\"\"\"\u001b[39;00m\n\u001b[32m     64\u001b[39m \u001b[38;5;28;01massert\u001b[39;00m \u001b[38;5;28misinstance\u001b[39m(X, pd.DataFrame), \u001b[33mf\u001b[39m\u001b[33m'\u001b[39m\u001b[33mexpected Dataframe but got \u001b[39m\u001b[38;5;132;01m{\u001b[39;00m\u001b[38;5;28mtype\u001b[39m(X)\u001b[38;5;132;01m}\u001b[39;00m\u001b[33m instead.\u001b[39m\u001b[33m'\u001b[39m\n\u001b[32m---> \u001b[39m\u001b[32m65\u001b[39m \u001b[38;5;28;01massert\u001b[39;00m \u001b[38;5;28mself\u001b[39m.target_column \u001b[38;5;129;01min\u001b[39;00m X.columns.to_list(), \u001b[33mf\u001b[39m\u001b[33m'\u001b[39m\u001b[33munknown column \u001b[39m\u001b[38;5;132;01m{\u001b[39;00m\u001b[38;5;28mself\u001b[39m.target_column\u001b[38;5;132;01m}\u001b[39;00m\u001b[33m'\u001b[39m\n\u001b[32m     66\u001b[39m \u001b[38;5;28;01massert\u001b[39;00m pd.api.types.is_numeric_dtype(X[\u001b[38;5;28mself\u001b[39m.target_column]), \u001b[33mf\u001b[39m\u001b[33m'\u001b[39m\u001b[33mexpected int or float in column \u001b[39m\u001b[38;5;132;01m{\u001b[39;00m\u001b[38;5;28mself\u001b[39m.target_column\u001b[38;5;132;01m}\u001b[39;00m\u001b[33m'\u001b[39m\n\u001b[32m     68\u001b[39m q1 = X[\u001b[38;5;28mself\u001b[39m.target_column].quantile(\u001b[32m0.25\u001b[39m)\n",
            "\u001b[31mAssertionError\u001b[39m: unknown column age"
          ]
        }
      ],
      "source": [
        "tukey_transformer = CustomTukeyTransformer('age', 'inner')\n",
        "new_df1 = tukey_transformer.fit_transform(transformed_df)  #AssertionError: TukeyTransformer: unknown column age"
      ]
    },
    {
      "cell_type": "code",
      "execution_count": 101,
      "metadata": {
        "id": "JDpITFsos0EM"
      },
      "outputs": [],
      "source": [
        "tukey_transformer = CustomTukeyTransformer('Age', 'inner')"
      ]
    },
    {
      "cell_type": "code",
      "execution_count": 102,
      "metadata": {
        "id": "YuLx2ELRxab6"
      },
      "outputs": [
        {
          "ename": "AssertionError",
          "evalue": "TukeyTransformer.fit has not been called.",
          "output_type": "error",
          "traceback": [
            "\u001b[31m---------------------------------------------------------------------------\u001b[39m",
            "\u001b[31mAssertionError\u001b[39m                            Traceback (most recent call last)",
            "\u001b[36mCell\u001b[39m\u001b[36m \u001b[39m\u001b[32mIn[102]\u001b[39m\u001b[32m, line 1\u001b[39m\n\u001b[32m----> \u001b[39m\u001b[32m1\u001b[39m new_df1 = \u001b[43mtukey_transformer\u001b[49m\u001b[43m.\u001b[49m\u001b[43mtransform\u001b[49m\u001b[43m(\u001b[49m\u001b[43mtransformed_df\u001b[49m\u001b[43m)\u001b[49m  \u001b[38;5;66;03m#AssertionError: TukeyTransformer.fit has not been called.\u001b[39;00m\n",
            "\u001b[36mFile \u001b[39m\u001b[32m~/miniconda3/envs/cs523/lib/python3.12/site-packages/sklearn/utils/_set_output.py:319\u001b[39m, in \u001b[36m_wrap_method_output.<locals>.wrapped\u001b[39m\u001b[34m(self, X, *args, **kwargs)\u001b[39m\n\u001b[32m    317\u001b[39m \u001b[38;5;129m@wraps\u001b[39m(f)\n\u001b[32m    318\u001b[39m \u001b[38;5;28;01mdef\u001b[39;00m\u001b[38;5;250m \u001b[39m\u001b[34mwrapped\u001b[39m(\u001b[38;5;28mself\u001b[39m, X, *args, **kwargs):\n\u001b[32m--> \u001b[39m\u001b[32m319\u001b[39m     data_to_wrap = \u001b[43mf\u001b[49m\u001b[43m(\u001b[49m\u001b[38;5;28;43mself\u001b[39;49m\u001b[43m,\u001b[49m\u001b[43m \u001b[49m\u001b[43mX\u001b[49m\u001b[43m,\u001b[49m\u001b[43m \u001b[49m\u001b[43m*\u001b[49m\u001b[43margs\u001b[49m\u001b[43m,\u001b[49m\u001b[43m \u001b[49m\u001b[43m*\u001b[49m\u001b[43m*\u001b[49m\u001b[43mkwargs\u001b[49m\u001b[43m)\u001b[49m\n\u001b[32m    320\u001b[39m     \u001b[38;5;28;01mif\u001b[39;00m \u001b[38;5;28misinstance\u001b[39m(data_to_wrap, \u001b[38;5;28mtuple\u001b[39m):\n\u001b[32m    321\u001b[39m         \u001b[38;5;66;03m# only wrap the first output for cross decomposition\u001b[39;00m\n\u001b[32m    322\u001b[39m         return_tuple = (\n\u001b[32m    323\u001b[39m             _wrap_data_with_container(method, data_to_wrap[\u001b[32m0\u001b[39m], X, \u001b[38;5;28mself\u001b[39m),\n\u001b[32m    324\u001b[39m             *data_to_wrap[\u001b[32m1\u001b[39m:],\n\u001b[32m    325\u001b[39m         )\n",
            "\u001b[36mCell\u001b[39m\u001b[36m \u001b[39m\u001b[32mIn[99]\u001b[39m\u001b[32m, line 97\u001b[39m, in \u001b[36mCustomTukeyTransformer.transform\u001b[39m\u001b[34m(self, X)\u001b[39m\n\u001b[32m     77\u001b[39m \u001b[38;5;28;01mdef\u001b[39;00m\u001b[38;5;250m \u001b[39m\u001b[34mtransform\u001b[39m(\u001b[38;5;28mself\u001b[39m, X: pd.DataFrame) -> pd.DataFrame:\n\u001b[32m     78\u001b[39m \u001b[38;5;250m    \u001b[39m\u001b[33;03m\"\"\"\u001b[39;00m\n\u001b[32m     79\u001b[39m \u001b[33;03m    Transforms the input DataFrame by clipping the target column based on the specified fence.\u001b[39;00m\n\u001b[32m     80\u001b[39m \n\u001b[32m   (...)\u001b[39m\u001b[32m     95\u001b[39m \u001b[33;03m        If the fence type specified during initialization is invalid.\u001b[39;00m\n\u001b[32m     96\u001b[39m \u001b[33;03m    \"\"\"\u001b[39;00m\n\u001b[32m---> \u001b[39m\u001b[32m97\u001b[39m     \u001b[38;5;28;01massert\u001b[39;00m \u001b[38;5;28mself\u001b[39m.inner_low \u001b[38;5;129;01mis\u001b[39;00m \u001b[38;5;129;01mnot\u001b[39;00m \u001b[38;5;28;01mNone\u001b[39;00m \u001b[38;5;129;01mand\u001b[39;00m \u001b[38;5;28mself\u001b[39m.inner_high \u001b[38;5;129;01mis\u001b[39;00m \u001b[38;5;129;01mnot\u001b[39;00m \u001b[38;5;28;01mNone\u001b[39;00m \u001b[38;5;129;01mand\u001b[39;00m \\\n\u001b[32m     98\u001b[39m            \u001b[38;5;28mself\u001b[39m.outer_low \u001b[38;5;129;01mis\u001b[39;00m \u001b[38;5;129;01mnot\u001b[39;00m \u001b[38;5;28;01mNone\u001b[39;00m \u001b[38;5;129;01mand\u001b[39;00m \u001b[38;5;28mself\u001b[39m.outer_high \u001b[38;5;129;01mis\u001b[39;00m \u001b[38;5;129;01mnot\u001b[39;00m \u001b[38;5;28;01mNone\u001b[39;00m, \\\n\u001b[32m     99\u001b[39m            \u001b[33m\"\u001b[39m\u001b[33mTukeyTransformer.fit has not been called.\u001b[39m\u001b[33m\"\u001b[39m\n\u001b[32m    101\u001b[39m     X_ = X.copy()\n\u001b[32m    103\u001b[39m     \u001b[38;5;28;01mif\u001b[39;00m \u001b[38;5;28mself\u001b[39m.fence == \u001b[33m'\u001b[39m\u001b[33minner\u001b[39m\u001b[33m'\u001b[39m:\n",
            "\u001b[31mAssertionError\u001b[39m: TukeyTransformer.fit has not been called."
          ]
        }
      ],
      "source": [
        "new_df1 = tukey_transformer.transform(transformed_df)  #AssertionError: TukeyTransformer.fit has not been called."
      ]
    },
    {
      "cell_type": "code",
      "execution_count": 103,
      "metadata": {
        "id": "xKqh3pDHxWx3"
      },
      "outputs": [
        {
          "data": {
            "text/plain": [
              "(1.0, 69.5)"
            ]
          },
          "execution_count": 103,
          "metadata": {},
          "output_type": "execute_result"
        }
      ],
      "source": [
        "new_df1 = tukey_transformer.fit_transform(transformed_df)\n",
        "(new_df1['Age'].min(), new_df1['Age'].max())  #(1.0, 69.5)"
      ]
    },
    {
      "cell_type": "code",
      "execution_count": 97,
      "metadata": {
        "id": "nIWkZIXjUvj1"
      },
      "outputs": [
        {
          "data": {
            "text/plain": [
              "(0.0, 65.75)"
            ]
          },
          "execution_count": 97,
          "metadata": {},
          "output_type": "execute_result"
        }
      ],
      "source": [
        "tukey_transformer = CustomTukeyTransformer('Fare', 'inner')\n",
        "new_df1 = tukey_transformer.fit_transform(transformed_df)\n",
        "(new_df1['Fare'].min(), new_df1['Fare'].max())  #(0.0, 65.75)"
      ]
    },
    {
      "cell_type": "code",
      "execution_count": 98,
      "metadata": {
        "id": "IMeUidF2dQOr"
      },
      "outputs": [
        {
          "data": {
            "text/plain": [
              "(0.0, 101.0)"
            ]
          },
          "execution_count": 98,
          "metadata": {},
          "output_type": "execute_result"
        }
      ],
      "source": [
        "tukey_transformer = CustomTukeyTransformer('Fare', 'outer')\n",
        "new_df1 = tukey_transformer.fit_transform(transformed_df)\n",
        "(new_df1['Fare'].min(), new_df1['Fare'].max())  #(0.0, 101.0)"
      ]
    },
    {
      "cell_type": "markdown",
      "metadata": {
        "id": "njMzszizUvj1"
      },
      "source": [
        "### Now add to your library ."
      ]
    },
    {
      "cell_type": "markdown",
      "metadata": {
        "id": "QKd68AjRFkeZ"
      },
      "source": [
        "# Challenge 4\n",
        "\n",
        "Add a new last step to your titanic pipeline in your library:\n",
        "\n",
        "<pre>\n",
        "    ('fare', CustomTukeyTransformer(target_column='Fare', fence='outer')),\n",
        "</pre>"
      ]
    },
    {
      "cell_type": "markdown",
      "metadata": {
        "id": "mEux6UXVe33q"
      },
      "source": [
        "# Challenge 5\n",
        "\n",
        "Try it out on the customers dataset."
      ]
    },
    {
      "cell_type": "code",
      "execution_count": 145,
      "metadata": {
        "id": "lsYnVwe0PFWP"
      },
      "outputs": [],
      "source": [
        "url = 'https://docs.google.com/spreadsheets/d/e/2PACX-1vQPM6PqZXgmAHfRYTcDZseyALRyVwkBtKEo_rtaKq_C7T0jycWxH6QVEzTzJCRA0m8Vz0k68eM9tDm-/pub?output=csv'"
      ]
    },
    {
      "cell_type": "code",
      "execution_count": 146,
      "metadata": {
        "id": "ifwDyZPoQiuc"
      },
      "outputs": [
        {
          "data": {
            "text/html": [
              "<div>\n",
              "<style scoped>\n",
              "    .dataframe tbody tr th:only-of-type {\n",
              "        vertical-align: middle;\n",
              "    }\n",
              "\n",
              "    .dataframe tbody tr th {\n",
              "        vertical-align: top;\n",
              "    }\n",
              "\n",
              "    .dataframe thead th {\n",
              "        text-align: right;\n",
              "    }\n",
              "</style>\n",
              "<table border=\"1\" class=\"dataframe\">\n",
              "  <thead>\n",
              "    <tr style=\"text-align: right;\">\n",
              "      <th></th>\n",
              "      <th>ID</th>\n",
              "      <th>Gender</th>\n",
              "      <th>Experience Level</th>\n",
              "      <th>Time Spent</th>\n",
              "      <th>OS</th>\n",
              "      <th>ISP</th>\n",
              "      <th>Age</th>\n",
              "      <th>Rating</th>\n",
              "    </tr>\n",
              "  </thead>\n",
              "  <tbody>\n",
              "    <tr>\n",
              "      <th>0</th>\n",
              "      <td>3</td>\n",
              "      <td>Female</td>\n",
              "      <td>medium</td>\n",
              "      <td>NaN</td>\n",
              "      <td>iOS</td>\n",
              "      <td>Xfinity</td>\n",
              "      <td>NaN</td>\n",
              "      <td>0</td>\n",
              "    </tr>\n",
              "    <tr>\n",
              "      <th>1</th>\n",
              "      <td>27</td>\n",
              "      <td>Male</td>\n",
              "      <td>medium</td>\n",
              "      <td>71.97</td>\n",
              "      <td>Android</td>\n",
              "      <td>Cox</td>\n",
              "      <td>50.0</td>\n",
              "      <td>0</td>\n",
              "    </tr>\n",
              "    <tr>\n",
              "      <th>2</th>\n",
              "      <td>30</td>\n",
              "      <td>Female</td>\n",
              "      <td>medium</td>\n",
              "      <td>101.81</td>\n",
              "      <td>NaN</td>\n",
              "      <td>Cox</td>\n",
              "      <td>49.0</td>\n",
              "      <td>1</td>\n",
              "    </tr>\n",
              "    <tr>\n",
              "      <th>3</th>\n",
              "      <td>40</td>\n",
              "      <td>Female</td>\n",
              "      <td>medium</td>\n",
              "      <td>86.37</td>\n",
              "      <td>Android</td>\n",
              "      <td>Xfinity</td>\n",
              "      <td>53.0</td>\n",
              "      <td>0</td>\n",
              "    </tr>\n",
              "    <tr>\n",
              "      <th>4</th>\n",
              "      <td>52</td>\n",
              "      <td>Female</td>\n",
              "      <td>medium</td>\n",
              "      <td>103.97</td>\n",
              "      <td>iOS</td>\n",
              "      <td>Xfinity</td>\n",
              "      <td>58.0</td>\n",
              "      <td>0</td>\n",
              "    </tr>\n",
              "  </tbody>\n",
              "</table>\n",
              "</div>"
            ],
            "text/plain": [
              "   ID  Gender Experience Level  Time Spent       OS      ISP   Age  Rating\n",
              "0   3  Female           medium         NaN      iOS  Xfinity   NaN       0\n",
              "1  27    Male           medium       71.97  Android      Cox  50.0       0\n",
              "2  30  Female           medium      101.81      NaN      Cox  49.0       1\n",
              "3  40  Female           medium       86.37  Android  Xfinity  53.0       0\n",
              "4  52  Female           medium      103.97      iOS  Xfinity  58.0       0"
            ]
          },
          "execution_count": 146,
          "metadata": {},
          "output_type": "execute_result"
        }
      ],
      "source": [
        "customers_df = pd.read_csv(url)\n",
        "customers_df.head()"
      ]
    },
    {
      "cell_type": "code",
      "execution_count": 147,
      "metadata": {
        "id": "RZhaahqBx72q"
      },
      "outputs": [],
      "source": [
        "customer_features = customers_df.drop(columns='Rating')"
      ]
    },
    {
      "cell_type": "markdown",
      "metadata": {
        "id": "g65WbXM_Av9r"
      },
      "source": [
        "### First copy your pipeline code from Chapter 2"
      ]
    },
    {
      "cell_type": "code",
      "execution_count": 148,
      "metadata": {
        "id": "HjuCjQURWh92"
      },
      "outputs": [],
      "source": [
        "# Chapter 2 pipeline for customer\n",
        "customer_transformer = Pipeline(steps=[\n",
        "    #fill in the steps on your own\n",
        "    # Drop ID\n",
        "    ('drop', CustomDropColumnsTransformer(['ID'], 'drop')),\n",
        "    # Map gender\n",
        "    ('gender', CustomMappingTransformer('Gender', {'Male': 0, 'Female': 1})),\n",
        "    # Map experience level\n",
        "    ('experience_level', CustomMappingTransformer('Experience Level', {'low': 0, 'medium': 1, 'high': 2})),\n",
        "    # One hot encode OS\n",
        "    ('os', CustomOHETransformer('OS')),\n",
        "    # One hot encode ISP\n",
        "    ('isp', CustomOHETransformer('ISP'))\n",
        "    ], verbose=True)"
      ]
    },
    {
      "cell_type": "code",
      "execution_count": 149,
      "metadata": {
        "id": "RdVgjFc4eU6L"
      },
      "outputs": [
        {
          "name": "stdout",
          "output_type": "stream",
          "text": [
            "[Pipeline] .............. (step 1 of 5) Processing drop, total=   0.0s\n",
            "\n",
            "Warning: CustomMappingTransformer[Gender] does not contain keys for these values {nan}\n",
            "\n",
            "[Pipeline] ............ (step 2 of 5) Processing gender, total=   0.0s\n",
            "\n",
            "Warning: CustomMappingTransformer[Experience Level] does not contain keys for these values {nan}\n",
            "\n",
            "[Pipeline] .. (step 3 of 5) Processing experience_level, total=   0.0s\n",
            "[Pipeline] ................ (step 4 of 5) Processing os, total=   0.0s\n",
            "[Pipeline] ............... (step 5 of 5) Processing isp, total=   0.0s\n"
          ]
        },
        {
          "data": {
            "text/html": [
              "<div>\n",
              "<style scoped>\n",
              "    .dataframe tbody tr th:only-of-type {\n",
              "        vertical-align: middle;\n",
              "    }\n",
              "\n",
              "    .dataframe tbody tr th {\n",
              "        vertical-align: top;\n",
              "    }\n",
              "\n",
              "    .dataframe thead th {\n",
              "        text-align: right;\n",
              "    }\n",
              "</style>\n",
              "<table border=\"1\" class=\"dataframe\">\n",
              "  <thead>\n",
              "    <tr style=\"text-align: right;\">\n",
              "      <th></th>\n",
              "      <th>Gender</th>\n",
              "      <th>Experience Level</th>\n",
              "      <th>Time Spent</th>\n",
              "      <th>Age</th>\n",
              "      <th>OS_Android</th>\n",
              "      <th>OS_iOS</th>\n",
              "      <th>ISP_AT&amp;T</th>\n",
              "      <th>ISP_Cox</th>\n",
              "      <th>ISP_HughesNet</th>\n",
              "      <th>ISP_Xfinity</th>\n",
              "    </tr>\n",
              "  </thead>\n",
              "  <tbody>\n",
              "    <tr>\n",
              "      <th>0</th>\n",
              "      <td>1.0</td>\n",
              "      <td>1.0</td>\n",
              "      <td>NaN</td>\n",
              "      <td>NaN</td>\n",
              "      <td>0</td>\n",
              "      <td>1</td>\n",
              "      <td>0</td>\n",
              "      <td>0</td>\n",
              "      <td>0</td>\n",
              "      <td>1</td>\n",
              "    </tr>\n",
              "    <tr>\n",
              "      <th>1</th>\n",
              "      <td>0.0</td>\n",
              "      <td>1.0</td>\n",
              "      <td>71.97</td>\n",
              "      <td>50.0</td>\n",
              "      <td>1</td>\n",
              "      <td>0</td>\n",
              "      <td>0</td>\n",
              "      <td>1</td>\n",
              "      <td>0</td>\n",
              "      <td>0</td>\n",
              "    </tr>\n",
              "    <tr>\n",
              "      <th>2</th>\n",
              "      <td>1.0</td>\n",
              "      <td>1.0</td>\n",
              "      <td>101.81</td>\n",
              "      <td>49.0</td>\n",
              "      <td>0</td>\n",
              "      <td>0</td>\n",
              "      <td>0</td>\n",
              "      <td>1</td>\n",
              "      <td>0</td>\n",
              "      <td>0</td>\n",
              "    </tr>\n",
              "    <tr>\n",
              "      <th>3</th>\n",
              "      <td>1.0</td>\n",
              "      <td>1.0</td>\n",
              "      <td>86.37</td>\n",
              "      <td>53.0</td>\n",
              "      <td>1</td>\n",
              "      <td>0</td>\n",
              "      <td>0</td>\n",
              "      <td>0</td>\n",
              "      <td>0</td>\n",
              "      <td>1</td>\n",
              "    </tr>\n",
              "    <tr>\n",
              "      <th>4</th>\n",
              "      <td>1.0</td>\n",
              "      <td>1.0</td>\n",
              "      <td>103.97</td>\n",
              "      <td>58.0</td>\n",
              "      <td>0</td>\n",
              "      <td>1</td>\n",
              "      <td>0</td>\n",
              "      <td>0</td>\n",
              "      <td>0</td>\n",
              "      <td>1</td>\n",
              "    </tr>\n",
              "  </tbody>\n",
              "</table>\n",
              "</div>"
            ],
            "text/plain": [
              "   Gender  Experience Level  Time Spent   Age  OS_Android  OS_iOS  ISP_AT&T  \\\n",
              "0     1.0               1.0         NaN   NaN           0       1         0   \n",
              "1     0.0               1.0       71.97  50.0           1       0         0   \n",
              "2     1.0               1.0      101.81  49.0           0       0         0   \n",
              "3     1.0               1.0       86.37  53.0           1       0         0   \n",
              "4     1.0               1.0      103.97  58.0           0       1         0   \n",
              "\n",
              "   ISP_Cox  ISP_HughesNet  ISP_Xfinity  \n",
              "0        0              0            1  \n",
              "1        1              0            0  \n",
              "2        1              0            0  \n",
              "3        0              0            1  \n",
              "4        0              0            1  "
            ]
          },
          "execution_count": 149,
          "metadata": {},
          "output_type": "execute_result"
        }
      ],
      "source": [
        "transformed_customer_df = customer_transformer.fit_transform(customer_features)\n",
        "transformed_customer_df.head()"
      ]
    },
    {
      "cell_type": "markdown",
      "metadata": {
        "id": "3NlZ9nLouajZ"
      },
      "source": [
        "### What I see\n",
        "\n",
        "<img src='https://www.dropbox.com/s/2n3papl1ujdhysa/Screen%20Shot%202022-10-06%20at%201.59.13%20PM.png?raw=1' height=300>"
      ]
    },
    {
      "cell_type": "markdown",
      "metadata": {
        "id": "XXhWq665yfx1"
      },
      "source": [
        "## Step 5.1 Try Tukey on `Time Spent`"
      ]
    },
    {
      "cell_type": "code",
      "execution_count": 150,
      "metadata": {
        "id": "VH0KsXt9yuL-"
      },
      "outputs": [
        {
          "data": {
            "text/plain": [
              "(62.43, 144.95)"
            ]
          },
          "execution_count": 150,
          "metadata": {},
          "output_type": "execute_result"
        }
      ],
      "source": [
        "(transformed_customer_df['Time Spent'].min(), transformed_customer_df['Time Spent'].max())  #(62.43, 144.95)\n"
      ]
    },
    {
      "cell_type": "code",
      "execution_count": 151,
      "metadata": {
        "id": "B6v-GoSLy-Ge"
      },
      "outputs": [
        {
          "data": {
            "text/plain": [
              "(66.97, 120.59)"
            ]
          },
          "execution_count": 151,
          "metadata": {},
          "output_type": "execute_result"
        }
      ],
      "source": [
        "tukey_transformer = CustomTukeyTransformer('Time Spent', 'inner')\n",
        "new_df1 = tukey_transformer.fit_transform(transformed_customer_df)\n",
        "(new_df1['Time Spent'].min(), new_df1['Time Spent'].max())  #(66.97, 120.59)"
      ]
    },
    {
      "cell_type": "markdown",
      "metadata": {
        "id": "VfJjT6w60vuM"
      },
      "source": [
        "Looks like values clipped on either side."
      ]
    },
    {
      "cell_type": "markdown",
      "metadata": {
        "id": "OZC4L76l0Wv8"
      },
      "source": [
        "## Step 5.2 Try Sigma3 on `Time Spent`"
      ]
    },
    {
      "cell_type": "code",
      "execution_count": 152,
      "metadata": {
        "id": "7vqbSM9J0WwF"
      },
      "outputs": [
        {
          "data": {
            "text/plain": [
              "(62.43, 144.95)"
            ]
          },
          "execution_count": 152,
          "metadata": {},
          "output_type": "execute_result"
        }
      ],
      "source": [
        "(transformed_customer_df['Time Spent'].min(), transformed_customer_df['Time Spent'].max())  #(62.43, 144.95)\n"
      ]
    },
    {
      "cell_type": "code",
      "execution_count": 153,
      "metadata": {
        "id": "DuKpd7xN0WwF"
      },
      "outputs": [
        {
          "data": {
            "text/plain": [
              "(62.43, 127.97660489351861)"
            ]
          },
          "execution_count": 153,
          "metadata": {},
          "output_type": "execute_result"
        }
      ],
      "source": [
        "sima3_transformer = CustomSigma3Transformer('Time Spent')\n",
        "new_df1 = sima3_transformer.fit_transform(transformed_customer_df)\n",
        "(new_df1['Time Spent'].min(), new_df1['Time Spent'].max())  #(62.43, 127.97660489351867)"
      ]
    },
    {
      "cell_type": "markdown",
      "metadata": {
        "id": "VwCB3l0y001Q"
      },
      "source": [
        "Looks like only clipped on high side."
      ]
    },
    {
      "cell_type": "markdown",
      "metadata": {
        "id": "EyOmvLQx1EtX"
      },
      "source": [
        "### Reminder\n",
        "\n",
        "Save both your clipping transformers to your library so we can use them next chapter."
      ]
    },
    {
      "cell_type": "markdown",
      "metadata": {
        "id": "bldI87pbTu1u"
      },
      "source": [
        "# Challenge 6\n",
        "\n",
        "Go ahead and add this as last step in your customer pipeline:\n",
        "\n",
        "<pre>\n",
        "    ('time spent', CustomTukeyTransformer('Time Spent', 'inner')),\n",
        "</pre>\n",
        "\n",
        "Edit your GitHub library then reload it."
      ]
    },
    {
      "cell_type": "code",
      "execution_count": 154,
      "metadata": {
        "id": "8Pc7cbIyDzgz"
      },
      "outputs": [],
      "source": [
        "# url = f'https://raw.githubusercontent.com/{github_name}/{repo_name}/main/{source_file}'\n",
        "# !rm $source_file\n",
        "# !wget $url\n",
        "%run -i $source_file"
      ]
    },
    {
      "cell_type": "code",
      "execution_count": 155,
      "metadata": {
        "id": "2GqdIMs8UA7f"
      },
      "outputs": [
        {
          "name": "stdout",
          "output_type": "stream",
          "text": [
            "[Pipeline] .............. (step 1 of 6) Processing drop, total=   0.0s\n",
            "\n",
            "Warning: CustomMappingTransformer[Gender] does not contain keys for these values {nan}\n",
            "\n",
            "[Pipeline] ............ (step 2 of 6) Processing gender, total=   0.0s\n",
            "\n",
            "Warning: CustomMappingTransformer[Experience Level] does not contain keys for these values {nan}\n",
            "\n",
            "[Pipeline] .. (step 3 of 6) Processing experience_level, total=   0.0s\n",
            "[Pipeline] ................ (step 4 of 6) Processing os, total=   0.0s\n",
            "[Pipeline] ............... (step 5 of 6) Processing isp, total=   0.0s\n",
            "[Pipeline] ........ (step 6 of 6) Processing time spent, total=   0.0s\n"
          ]
        },
        {
          "data": {
            "text/html": [
              "<div>\n",
              "<style scoped>\n",
              "    .dataframe tbody tr th:only-of-type {\n",
              "        vertical-align: middle;\n",
              "    }\n",
              "\n",
              "    .dataframe tbody tr th {\n",
              "        vertical-align: top;\n",
              "    }\n",
              "\n",
              "    .dataframe thead th {\n",
              "        text-align: right;\n",
              "    }\n",
              "</style>\n",
              "<table border=\"1\" class=\"dataframe\">\n",
              "  <thead>\n",
              "    <tr style=\"text-align: right;\">\n",
              "      <th></th>\n",
              "      <th>Gender</th>\n",
              "      <th>Experience Level</th>\n",
              "      <th>Time Spent</th>\n",
              "      <th>Age</th>\n",
              "      <th>OS_Android</th>\n",
              "      <th>OS_iOS</th>\n",
              "      <th>ISP_AT&amp;T</th>\n",
              "      <th>ISP_Cox</th>\n",
              "      <th>ISP_HughesNet</th>\n",
              "      <th>ISP_Xfinity</th>\n",
              "    </tr>\n",
              "  </thead>\n",
              "  <tbody>\n",
              "    <tr>\n",
              "      <th>0</th>\n",
              "      <td>1.0</td>\n",
              "      <td>1.0</td>\n",
              "      <td>NaN</td>\n",
              "      <td>NaN</td>\n",
              "      <td>0</td>\n",
              "      <td>1</td>\n",
              "      <td>0</td>\n",
              "      <td>0</td>\n",
              "      <td>0</td>\n",
              "      <td>1</td>\n",
              "    </tr>\n",
              "    <tr>\n",
              "      <th>1</th>\n",
              "      <td>0.0</td>\n",
              "      <td>1.0</td>\n",
              "      <td>71.97</td>\n",
              "      <td>50.0</td>\n",
              "      <td>1</td>\n",
              "      <td>0</td>\n",
              "      <td>0</td>\n",
              "      <td>1</td>\n",
              "      <td>0</td>\n",
              "      <td>0</td>\n",
              "    </tr>\n",
              "    <tr>\n",
              "      <th>2</th>\n",
              "      <td>1.0</td>\n",
              "      <td>1.0</td>\n",
              "      <td>101.81</td>\n",
              "      <td>49.0</td>\n",
              "      <td>0</td>\n",
              "      <td>0</td>\n",
              "      <td>0</td>\n",
              "      <td>1</td>\n",
              "      <td>0</td>\n",
              "      <td>0</td>\n",
              "    </tr>\n",
              "    <tr>\n",
              "      <th>3</th>\n",
              "      <td>1.0</td>\n",
              "      <td>1.0</td>\n",
              "      <td>86.37</td>\n",
              "      <td>53.0</td>\n",
              "      <td>1</td>\n",
              "      <td>0</td>\n",
              "      <td>0</td>\n",
              "      <td>0</td>\n",
              "      <td>0</td>\n",
              "      <td>1</td>\n",
              "    </tr>\n",
              "    <tr>\n",
              "      <th>4</th>\n",
              "      <td>1.0</td>\n",
              "      <td>1.0</td>\n",
              "      <td>103.97</td>\n",
              "      <td>58.0</td>\n",
              "      <td>0</td>\n",
              "      <td>1</td>\n",
              "      <td>0</td>\n",
              "      <td>0</td>\n",
              "      <td>0</td>\n",
              "      <td>1</td>\n",
              "    </tr>\n",
              "  </tbody>\n",
              "</table>\n",
              "</div>"
            ],
            "text/plain": [
              "   Gender  Experience Level  Time Spent   Age  OS_Android  OS_iOS  ISP_AT&T  \\\n",
              "0     1.0               1.0         NaN   NaN           0       1         0   \n",
              "1     0.0               1.0       71.97  50.0           1       0         0   \n",
              "2     1.0               1.0      101.81  49.0           0       0         0   \n",
              "3     1.0               1.0       86.37  53.0           1       0         0   \n",
              "4     1.0               1.0      103.97  58.0           0       1         0   \n",
              "\n",
              "   ISP_Cox  ISP_HughesNet  ISP_Xfinity  \n",
              "0        0              0            1  \n",
              "1        1              0            0  \n",
              "2        1              0            0  \n",
              "3        0              0            1  \n",
              "4        0              0            1  "
            ]
          },
          "execution_count": 155,
          "metadata": {},
          "output_type": "execute_result"
        }
      ],
      "source": [
        "transformed_customer_df = customer_transformer.fit_transform(customer_features)\n",
        "transformed_customer_df.head()"
      ]
    },
    {
      "cell_type": "markdown",
      "metadata": {
        "id": "zA_Vl9mVy-vE"
      },
      "source": [
        "|index|Gender|Experience Level|Time Spent|Age|OS\\_Android|OS\\_iOS|ISP\\_AT&amp;T|ISP\\_Cox|ISP\\_HughesNet|ISP\\_Xfinity|\n",
        "|---|---|---|---|---|---|---|---|---|---|---|\n",
        "|0|1\\.0|1\\.0|NaN|NaN|0|1|0|0|0|1|\n",
        "|1|0\\.0|1\\.0|71\\.97|50\\.0|1|0|0|1|0|0|\n",
        "|2|1\\.0|1\\.0|101\\.81|49\\.0|0|0|0|1|0|0|\n",
        "|3|1\\.0|1\\.0|86\\.37|53\\.0|1|0|0|0|0|1|\n",
        "|4|1\\.0|1\\.0|103\\.97|58\\.0|0|1|0|0|0|1|"
      ]
    },
    {
      "cell_type": "code",
      "execution_count": 156,
      "metadata": {
        "id": "NgEYHqpAEEe7"
      },
      "outputs": [
        {
          "data": {
            "text/plain": [
              "(66.97, 120.59)"
            ]
          },
          "execution_count": 156,
          "metadata": {},
          "output_type": "execute_result"
        }
      ],
      "source": [
        "# Note difference after adding Tukey step\n",
        "\n",
        "(transformed_customer_df['Time Spent'].min(), transformed_customer_df['Time Spent'].max())  #(66.97, 120.59)\n"
      ]
    }
  ],
  "metadata": {
    "colab": {
      "provenance": []
    },
    "kernelspec": {
      "display_name": "cs523",
      "language": "python",
      "name": "python3"
    },
    "language_info": {
      "codemirror_mode": {
        "name": "ipython",
        "version": 3
      },
      "file_extension": ".py",
      "mimetype": "text/x-python",
      "name": "python",
      "nbconvert_exporter": "python",
      "pygments_lexer": "ipython3",
      "version": "3.12.9"
    }
  },
  "nbformat": 4,
  "nbformat_minor": 0
}
