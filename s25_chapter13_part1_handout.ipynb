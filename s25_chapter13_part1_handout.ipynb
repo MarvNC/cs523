{
  "nbformat": 4,
  "nbformat_minor": 0,
  "metadata": {
    "colab": {
      "provenance": [],
      "toc_visible": true
    },
    "kernelspec": {
      "name": "python3",
      "display_name": "Python 3"
    },
    "language_info": {
      "name": "python"
    }
  },
  "cells": [
    {
      "cell_type": "markdown",
      "source": [
        "#Announcement\n",
        "\n",
        "I made a choice this quarter to value replicability over performance. It is not an easy choice! And when you get on a real project, you will have to make the same choice.\n",
        "\n",
        "This notebook (and subsequent notebooks that deal with ANNs) differs from the video in this choice. I have changed up the ANN architecture to guarantee your results match mine. This will also pay dividends in the next chapter when we get to tuning.\n",
        "\n",
        "I had to do this because the latest version of Tensorflow has introduced a new version of Dropout (discussed in more detail later) that has uncontrolled nondeterminism. In essence, setting seeds does no good: the new Dropout implementation has randomness not under your control. This is a known issue (bug?) to the Tensorflow developers but we have to deal with it until they fix it. Only choice I saw was to stop using Dropout if I wanted replicability.\n",
        "\n",
        "I have also changed the ANN compile-step, simplifying it in some ways but making it slightly more complex in others. I thought these changes better suited the relatively simple datasets we are working with. The video shows a more complex compile-step.\n",
        "\n",
        "There are other minor changes that I have made that try to modernize the code when I can. All of these changes give me different results than shown in the video. As always, your goal is to match the notebook, not the video."
      ],
      "metadata": {
        "id": "79WDBQoQndcL"
      }
    },
    {
      "cell_type": "markdown",
      "metadata": {
        "id": "bzDiYMkiYgRS"
      },
      "source": [
        "<center>\n",
        "<h1>Chapter 13 - Part 1</h1>\n",
        "</center>\n",
        "\n",
        "<hr>\n",
        "\n",
        "Our next machine learning model has various names, Artificial Neural Net (ANN), Deep Learning model. I'll stick with ANN.\n",
        "\n",
        "Before we get started, let's bring in the data we need."
      ]
    },
    {
      "cell_type": "markdown",
      "metadata": {
        "id": "bZiquu_S3vZG"
      },
      "source": [
        "##Set-up\n",
        "\n",
        "First bring in your library."
      ]
    },
    {
      "cell_type": "code",
      "source": [
        "github_name = 'marvnc'\n",
        "repo_name = 'cs523'\n",
        "source_file = 'library.py'\n",
        "url = f'https://raw.githubusercontent.com/{github_name}/{repo_name}/main/{source_file}'\n",
        "!rm $source_file\n",
        "!wget $url\n",
        "%run -i $source_file"
      ],
      "metadata": {
        "colab": {
          "base_uri": "https://localhost:8080/"
        },
        "id": "cYlq4xs-P7c9",
        "outputId": "059dd4a2-a8df-46e4-8cdd-13aec66ad7aa"
      },
      "execution_count": null,
      "outputs": [
        {
          "output_type": "stream",
          "name": "stdout",
          "text": [
            "rm: cannot remove 'library.py': No such file or directory\n",
            "--2025-05-28 00:16:59--  https://raw.githubusercontent.com/marvnc/cs523/main/library.py\n",
            "Resolving raw.githubusercontent.com (raw.githubusercontent.com)... 185.199.108.133, 185.199.109.133, 185.199.110.133, ...\n",
            "Connecting to raw.githubusercontent.com (raw.githubusercontent.com)|185.199.108.133|:443... connected.\n",
            "HTTP request sent, awaiting response... 200 OK\n",
            "Length: 48297 (47K) [text/plain]\n",
            "Saving to: ‘library.py’\n",
            "\n",
            "library.py          100%[===================>]  47.17K  --.-KB/s    in 0.001s  \n",
            "\n",
            "2025-05-28 00:16:59 (50.4 MB/s) - ‘library.py’ saved [48297/48297]\n",
            "\n"
          ]
        }
      ]
    },
    {
      "cell_type": "code",
      "source": [
        "#cmd-m y to turn this into code cell, cmd-m m to go other way\n",
        "%%capture\n",
        "!pip install uo-puddles\n",
        "from uo_puddles.cis423 import *"
      ],
      "metadata": {
        "id": "v7XXG-E16ZxB"
      },
      "execution_count": null,
      "outputs": []
    },
    {
      "cell_type": "code",
      "execution_count": null,
      "metadata": {
        "id": "ZVTLBYampYbo"
      },
      "outputs": [],
      "source": [
        "url = 'https://raw.githubusercontent.com/fickas/asynch_models/main/datasets/titanic_trimmed.csv'  #trimmed version\n",
        "\n",
        "titanic_trimmed = pd.read_csv(url)"
      ]
    },
    {
      "cell_type": "code",
      "source": [
        "len(titanic_trimmed)"
      ],
      "metadata": {
        "id": "CXKa0e52V4-v",
        "colab": {
          "base_uri": "https://localhost:8080/"
        },
        "outputId": "a42dd14c-7554-42f6-9d00-71c69ca0b963"
      },
      "execution_count": null,
      "outputs": [
        {
          "output_type": "execute_result",
          "data": {
            "text/plain": [
              "1313"
            ]
          },
          "metadata": {},
          "execution_count": 5
        }
      ]
    },
    {
      "cell_type": "code",
      "execution_count": null,
      "metadata": {
        "id": "GZZf7BkZpYbw",
        "colab": {
          "base_uri": "https://localhost:8080/",
          "height": 206
        },
        "outputId": "0148273d-f423-49f7-f90b-14b4abed43f7"
      },
      "outputs": [
        {
          "output_type": "execute_result",
          "data": {
            "text/plain": [
              "    Age Gender Class       Joined  Married  Fare\n",
              "0  41.0   Male    C3  Southampton      0.0   7.0\n",
              "1  21.0   Male  Crew  Southampton      0.0   0.0\n",
              "2  13.0   Male    C3  Southampton      NaN  20.0\n",
              "3  16.0   Male    C3  Southampton      0.0   NaN\n",
              "4   NaN   Male    C2    Cherbourg      0.0  24.0"
            ],
            "text/html": [
              "\n",
              "  <div id=\"df-852f41c9-a0bb-40f1-a414-4e7b7e015bda\" class=\"colab-df-container\">\n",
              "    <div>\n",
              "<style scoped>\n",
              "    .dataframe tbody tr th:only-of-type {\n",
              "        vertical-align: middle;\n",
              "    }\n",
              "\n",
              "    .dataframe tbody tr th {\n",
              "        vertical-align: top;\n",
              "    }\n",
              "\n",
              "    .dataframe thead th {\n",
              "        text-align: right;\n",
              "    }\n",
              "</style>\n",
              "<table border=\"1\" class=\"dataframe\">\n",
              "  <thead>\n",
              "    <tr style=\"text-align: right;\">\n",
              "      <th></th>\n",
              "      <th>Age</th>\n",
              "      <th>Gender</th>\n",
              "      <th>Class</th>\n",
              "      <th>Joined</th>\n",
              "      <th>Married</th>\n",
              "      <th>Fare</th>\n",
              "    </tr>\n",
              "  </thead>\n",
              "  <tbody>\n",
              "    <tr>\n",
              "      <th>0</th>\n",
              "      <td>41.0</td>\n",
              "      <td>Male</td>\n",
              "      <td>C3</td>\n",
              "      <td>Southampton</td>\n",
              "      <td>0.0</td>\n",
              "      <td>7.0</td>\n",
              "    </tr>\n",
              "    <tr>\n",
              "      <th>1</th>\n",
              "      <td>21.0</td>\n",
              "      <td>Male</td>\n",
              "      <td>Crew</td>\n",
              "      <td>Southampton</td>\n",
              "      <td>0.0</td>\n",
              "      <td>0.0</td>\n",
              "    </tr>\n",
              "    <tr>\n",
              "      <th>2</th>\n",
              "      <td>13.0</td>\n",
              "      <td>Male</td>\n",
              "      <td>C3</td>\n",
              "      <td>Southampton</td>\n",
              "      <td>NaN</td>\n",
              "      <td>20.0</td>\n",
              "    </tr>\n",
              "    <tr>\n",
              "      <th>3</th>\n",
              "      <td>16.0</td>\n",
              "      <td>Male</td>\n",
              "      <td>C3</td>\n",
              "      <td>Southampton</td>\n",
              "      <td>0.0</td>\n",
              "      <td>NaN</td>\n",
              "    </tr>\n",
              "    <tr>\n",
              "      <th>4</th>\n",
              "      <td>NaN</td>\n",
              "      <td>Male</td>\n",
              "      <td>C2</td>\n",
              "      <td>Cherbourg</td>\n",
              "      <td>0.0</td>\n",
              "      <td>24.0</td>\n",
              "    </tr>\n",
              "  </tbody>\n",
              "</table>\n",
              "</div>\n",
              "    <div class=\"colab-df-buttons\">\n",
              "\n",
              "  <div class=\"colab-df-container\">\n",
              "    <button class=\"colab-df-convert\" onclick=\"convertToInteractive('df-852f41c9-a0bb-40f1-a414-4e7b7e015bda')\"\n",
              "            title=\"Convert this dataframe to an interactive table.\"\n",
              "            style=\"display:none;\">\n",
              "\n",
              "  <svg xmlns=\"http://www.w3.org/2000/svg\" height=\"24px\" viewBox=\"0 -960 960 960\">\n",
              "    <path d=\"M120-120v-720h720v720H120Zm60-500h600v-160H180v160Zm220 220h160v-160H400v160Zm0 220h160v-160H400v160ZM180-400h160v-160H180v160Zm440 0h160v-160H620v160ZM180-180h160v-160H180v160Zm440 0h160v-160H620v160Z\"/>\n",
              "  </svg>\n",
              "    </button>\n",
              "\n",
              "  <style>\n",
              "    .colab-df-container {\n",
              "      display:flex;\n",
              "      gap: 12px;\n",
              "    }\n",
              "\n",
              "    .colab-df-convert {\n",
              "      background-color: #E8F0FE;\n",
              "      border: none;\n",
              "      border-radius: 50%;\n",
              "      cursor: pointer;\n",
              "      display: none;\n",
              "      fill: #1967D2;\n",
              "      height: 32px;\n",
              "      padding: 0 0 0 0;\n",
              "      width: 32px;\n",
              "    }\n",
              "\n",
              "    .colab-df-convert:hover {\n",
              "      background-color: #E2EBFA;\n",
              "      box-shadow: 0px 1px 2px rgba(60, 64, 67, 0.3), 0px 1px 3px 1px rgba(60, 64, 67, 0.15);\n",
              "      fill: #174EA6;\n",
              "    }\n",
              "\n",
              "    .colab-df-buttons div {\n",
              "      margin-bottom: 4px;\n",
              "    }\n",
              "\n",
              "    [theme=dark] .colab-df-convert {\n",
              "      background-color: #3B4455;\n",
              "      fill: #D2E3FC;\n",
              "    }\n",
              "\n",
              "    [theme=dark] .colab-df-convert:hover {\n",
              "      background-color: #434B5C;\n",
              "      box-shadow: 0px 1px 3px 1px rgba(0, 0, 0, 0.15);\n",
              "      filter: drop-shadow(0px 1px 2px rgba(0, 0, 0, 0.3));\n",
              "      fill: #FFFFFF;\n",
              "    }\n",
              "  </style>\n",
              "\n",
              "    <script>\n",
              "      const buttonEl =\n",
              "        document.querySelector('#df-852f41c9-a0bb-40f1-a414-4e7b7e015bda button.colab-df-convert');\n",
              "      buttonEl.style.display =\n",
              "        google.colab.kernel.accessAllowed ? 'block' : 'none';\n",
              "\n",
              "      async function convertToInteractive(key) {\n",
              "        const element = document.querySelector('#df-852f41c9-a0bb-40f1-a414-4e7b7e015bda');\n",
              "        const dataTable =\n",
              "          await google.colab.kernel.invokeFunction('convertToInteractive',\n",
              "                                                    [key], {});\n",
              "        if (!dataTable) return;\n",
              "\n",
              "        const docLinkHtml = 'Like what you see? Visit the ' +\n",
              "          '<a target=\"_blank\" href=https://colab.research.google.com/notebooks/data_table.ipynb>data table notebook</a>'\n",
              "          + ' to learn more about interactive tables.';\n",
              "        element.innerHTML = '';\n",
              "        dataTable['output_type'] = 'display_data';\n",
              "        await google.colab.output.renderOutput(dataTable, element);\n",
              "        const docLink = document.createElement('div');\n",
              "        docLink.innerHTML = docLinkHtml;\n",
              "        element.appendChild(docLink);\n",
              "      }\n",
              "    </script>\n",
              "  </div>\n",
              "\n",
              "\n",
              "    <div id=\"df-0ab831ab-dcc6-4612-be7e-0a1b6bd56036\">\n",
              "      <button class=\"colab-df-quickchart\" onclick=\"quickchart('df-0ab831ab-dcc6-4612-be7e-0a1b6bd56036')\"\n",
              "                title=\"Suggest charts\"\n",
              "                style=\"display:none;\">\n",
              "\n",
              "<svg xmlns=\"http://www.w3.org/2000/svg\" height=\"24px\"viewBox=\"0 0 24 24\"\n",
              "     width=\"24px\">\n",
              "    <g>\n",
              "        <path d=\"M19 3H5c-1.1 0-2 .9-2 2v14c0 1.1.9 2 2 2h14c1.1 0 2-.9 2-2V5c0-1.1-.9-2-2-2zM9 17H7v-7h2v7zm4 0h-2V7h2v10zm4 0h-2v-4h2v4z\"/>\n",
              "    </g>\n",
              "</svg>\n",
              "      </button>\n",
              "\n",
              "<style>\n",
              "  .colab-df-quickchart {\n",
              "      --bg-color: #E8F0FE;\n",
              "      --fill-color: #1967D2;\n",
              "      --hover-bg-color: #E2EBFA;\n",
              "      --hover-fill-color: #174EA6;\n",
              "      --disabled-fill-color: #AAA;\n",
              "      --disabled-bg-color: #DDD;\n",
              "  }\n",
              "\n",
              "  [theme=dark] .colab-df-quickchart {\n",
              "      --bg-color: #3B4455;\n",
              "      --fill-color: #D2E3FC;\n",
              "      --hover-bg-color: #434B5C;\n",
              "      --hover-fill-color: #FFFFFF;\n",
              "      --disabled-bg-color: #3B4455;\n",
              "      --disabled-fill-color: #666;\n",
              "  }\n",
              "\n",
              "  .colab-df-quickchart {\n",
              "    background-color: var(--bg-color);\n",
              "    border: none;\n",
              "    border-radius: 50%;\n",
              "    cursor: pointer;\n",
              "    display: none;\n",
              "    fill: var(--fill-color);\n",
              "    height: 32px;\n",
              "    padding: 0;\n",
              "    width: 32px;\n",
              "  }\n",
              "\n",
              "  .colab-df-quickchart:hover {\n",
              "    background-color: var(--hover-bg-color);\n",
              "    box-shadow: 0 1px 2px rgba(60, 64, 67, 0.3), 0 1px 3px 1px rgba(60, 64, 67, 0.15);\n",
              "    fill: var(--button-hover-fill-color);\n",
              "  }\n",
              "\n",
              "  .colab-df-quickchart-complete:disabled,\n",
              "  .colab-df-quickchart-complete:disabled:hover {\n",
              "    background-color: var(--disabled-bg-color);\n",
              "    fill: var(--disabled-fill-color);\n",
              "    box-shadow: none;\n",
              "  }\n",
              "\n",
              "  .colab-df-spinner {\n",
              "    border: 2px solid var(--fill-color);\n",
              "    border-color: transparent;\n",
              "    border-bottom-color: var(--fill-color);\n",
              "    animation:\n",
              "      spin 1s steps(1) infinite;\n",
              "  }\n",
              "\n",
              "  @keyframes spin {\n",
              "    0% {\n",
              "      border-color: transparent;\n",
              "      border-bottom-color: var(--fill-color);\n",
              "      border-left-color: var(--fill-color);\n",
              "    }\n",
              "    20% {\n",
              "      border-color: transparent;\n",
              "      border-left-color: var(--fill-color);\n",
              "      border-top-color: var(--fill-color);\n",
              "    }\n",
              "    30% {\n",
              "      border-color: transparent;\n",
              "      border-left-color: var(--fill-color);\n",
              "      border-top-color: var(--fill-color);\n",
              "      border-right-color: var(--fill-color);\n",
              "    }\n",
              "    40% {\n",
              "      border-color: transparent;\n",
              "      border-right-color: var(--fill-color);\n",
              "      border-top-color: var(--fill-color);\n",
              "    }\n",
              "    60% {\n",
              "      border-color: transparent;\n",
              "      border-right-color: var(--fill-color);\n",
              "    }\n",
              "    80% {\n",
              "      border-color: transparent;\n",
              "      border-right-color: var(--fill-color);\n",
              "      border-bottom-color: var(--fill-color);\n",
              "    }\n",
              "    90% {\n",
              "      border-color: transparent;\n",
              "      border-bottom-color: var(--fill-color);\n",
              "    }\n",
              "  }\n",
              "</style>\n",
              "\n",
              "      <script>\n",
              "        async function quickchart(key) {\n",
              "          const quickchartButtonEl =\n",
              "            document.querySelector('#' + key + ' button');\n",
              "          quickchartButtonEl.disabled = true;  // To prevent multiple clicks.\n",
              "          quickchartButtonEl.classList.add('colab-df-spinner');\n",
              "          try {\n",
              "            const charts = await google.colab.kernel.invokeFunction(\n",
              "                'suggestCharts', [key], {});\n",
              "          } catch (error) {\n",
              "            console.error('Error during call to suggestCharts:', error);\n",
              "          }\n",
              "          quickchartButtonEl.classList.remove('colab-df-spinner');\n",
              "          quickchartButtonEl.classList.add('colab-df-quickchart-complete');\n",
              "        }\n",
              "        (() => {\n",
              "          let quickchartButtonEl =\n",
              "            document.querySelector('#df-0ab831ab-dcc6-4612-be7e-0a1b6bd56036 button');\n",
              "          quickchartButtonEl.style.display =\n",
              "            google.colab.kernel.accessAllowed ? 'block' : 'none';\n",
              "        })();\n",
              "      </script>\n",
              "    </div>\n",
              "\n",
              "    </div>\n",
              "  </div>\n"
            ],
            "application/vnd.google.colaboratory.intrinsic+json": {
              "type": "dataframe",
              "variable_name": "titanic_features",
              "summary": "{\n  \"name\": \"titanic_features\",\n  \"rows\": 1313,\n  \"fields\": [\n    {\n      \"column\": \"Age\",\n      \"properties\": {\n        \"dtype\": \"number\",\n        \"std\": 14.346944998228604,\n        \"min\": 1.0,\n        \"max\": 74.0,\n        \"num_unique_values\": 71,\n        \"samples\": [\n          4.0,\n          41.0,\n          60.0\n        ],\n        \"semantic_type\": \"\",\n        \"description\": \"\"\n      }\n    },\n    {\n      \"column\": \"Gender\",\n      \"properties\": {\n        \"dtype\": \"category\",\n        \"num_unique_values\": 2,\n        \"samples\": [\n          \"Female\",\n          \"Male\"\n        ],\n        \"semantic_type\": \"\",\n        \"description\": \"\"\n      }\n    },\n    {\n      \"column\": \"Class\",\n      \"properties\": {\n        \"dtype\": \"category\",\n        \"num_unique_values\": 4,\n        \"samples\": [\n          \"Crew\",\n          \"C1\"\n        ],\n        \"semantic_type\": \"\",\n        \"description\": \"\"\n      }\n    },\n    {\n      \"column\": \"Joined\",\n      \"properties\": {\n        \"dtype\": \"category\",\n        \"num_unique_values\": 4,\n        \"samples\": [\n          \"Cherbourg\",\n          \"Queenstown\"\n        ],\n        \"semantic_type\": \"\",\n        \"description\": \"\"\n      }\n    },\n    {\n      \"column\": \"Married\",\n      \"properties\": {\n        \"dtype\": \"number\",\n        \"std\": 0.4751399890067327,\n        \"min\": 0.0,\n        \"max\": 1.0,\n        \"num_unique_values\": 2,\n        \"samples\": [\n          1.0,\n          0.0\n        ],\n        \"semantic_type\": \"\",\n        \"description\": \"\"\n      }\n    },\n    {\n      \"column\": \"Fare\",\n      \"properties\": {\n        \"dtype\": \"number\",\n        \"std\": 52.58480450638799,\n        \"min\": 0.0,\n        \"max\": 512.0,\n        \"num_unique_values\": 96,\n        \"samples\": [\n          19.0,\n          110.0\n        ],\n        \"semantic_type\": \"\",\n        \"description\": \"\"\n      }\n    }\n  ]\n}"
            }
          },
          "metadata": {},
          "execution_count": 6
        }
      ],
      "source": [
        "titanic_features = titanic_trimmed.drop(columns='Survived')\n",
        "titanic_features.head()  #print first 5 rows of the table"
      ]
    },
    {
      "cell_type": "code",
      "metadata": {
        "id": "b2_3TbldpYbw"
      },
      "source": [
        "labels = titanic_trimmed['Survived'].to_list()"
      ],
      "execution_count": null,
      "outputs": []
    },
    {
      "cell_type": "code",
      "source": [
        "%%capture\n",
        "x_train, x_test, y_train, y_test = titanic_setup(titanic_trimmed)"
      ],
      "metadata": {
        "id": "Bhhik6PZM9Tx"
      },
      "execution_count": null,
      "outputs": []
    },
    {
      "cell_type": "code",
      "source": [
        "x_train.std(axis=0)  #array([0.75333128, 0.47741652, 1.03590395, 0.0872873 , 0.47611519, 1.23157575])"
      ],
      "metadata": {
        "id": "UOcwOfoy16KD",
        "colab": {
          "base_uri": "https://localhost:8080/"
        },
        "outputId": "13d37d12-3fec-4fd8-ebc3-af9dc3a87689"
      },
      "execution_count": null,
      "outputs": [
        {
          "output_type": "execute_result",
          "data": {
            "text/plain": [
              "array([0.75333128, 0.47741652, 1.03590395, 0.0872873 , 0.47611519,\n",
              "       1.23157575])"
            ]
          },
          "metadata": {},
          "execution_count": 9
        }
      ]
    },
    {
      "cell_type": "code",
      "source": [
        "x_train[:1]  #[[ 0.78947368,  1.        ,  1.        ,  0.40075188,  0.        ,-0.26086957]]"
      ],
      "metadata": {
        "id": "dAaszQUlQ95l",
        "colab": {
          "base_uri": "https://localhost:8080/"
        },
        "outputId": "ffa381c4-54ff-4584-f461-6cf6b9561c46"
      },
      "execution_count": null,
      "outputs": [
        {
          "output_type": "execute_result",
          "data": {
            "text/plain": [
              "array([[ 0.78947368,  1.        ,  1.        ,  0.40075188,  0.        ,\n",
              "        -0.26086957]])"
            ]
          },
          "metadata": {},
          "execution_count": 10
        }
      ]
    },
    {
      "cell_type": "code",
      "source": [
        "y_train[:1]"
      ],
      "metadata": {
        "id": "sdsIiE9lRDZz",
        "colab": {
          "base_uri": "https://localhost:8080/"
        },
        "outputId": "9ce62536-553e-40a8-ed42-ad106d5de6d6"
      },
      "execution_count": null,
      "outputs": [
        {
          "output_type": "execute_result",
          "data": {
            "text/plain": [
              "array([0])"
            ]
          },
          "metadata": {},
          "execution_count": 11
        }
      ]
    },
    {
      "cell_type": "markdown",
      "metadata": {
        "id": "4bCGalueu_H8"
      },
      "source": [
        "#I. Neural networks were inspired by nature\n",
        "<img src='https://www.dropbox.com/s/9fcc1crlxp19ijt/major_section.png?raw=1' width='300'>\n",
        "\n",
        "In their 1943 paper, McCulloch and Pitts proposed a theoretical model that described the nervous system as a “net of neurons.” As a whole, the network is capable of extremely complex computations, but each individual neuron is inherently very simple. Instead of being connected to every single neuron in the entire network, each neuron is only connected to its neighbor neurons via “synapses.” By studying mappings of the human brain (see image below), we can see that neurons are often organized in consecutive “layers.”\n",
        "\n",
        "<img src='https://www.dropbox.com/s/93xj4iyvcav7b05/Screenshot%202020-04-28%2010.02.39.png?raw=1'>\n",
        "\n",
        "\n",
        "The gist of all of this is that each neuron has an input and an output and neurons are organized in layers. Let’s see how artificial neural networks in machine learning draw inspiration from this architecture we observe in nature."
      ]
    },
    {
      "cell_type": "markdown",
      "metadata": {
        "id": "rTGltGvbyrFk"
      },
      "source": [
        "#II. First neural nets were simple\n",
        "<img src='https://www.dropbox.com/s/9fcc1crlxp19ijt/major_section.png?raw=1' width='300'>\n",
        "\n",
        "<img src='https://miro.medium.com/max/1032/1*WswH2fPx0bf_JFRMm8V-HA.gif'>\n",
        "\n",
        "They had an input layer and an output layer. You can think of the input layer as accepting a vector. Each item in the vector gets placed on one of the nodes. These node/items are shown as X0, X1, X2, X3 in the figure. If we were working with our tweet data, we would have 29 input nodes, one for each value in the 29-element vector.\n",
        "\n",
        "There are a corresponding vector of weights for the input nodes. These are shown as W0, W1, W2, and W3 in above figure.\n",
        "\n",
        "There is one node in the ouput layer. It produces a result that sums the inputs times the weights. Yp shows this. BTW: in linear algebra terms, we are taking the dot product of the X vector and the weight vector.\n",
        "\n",
        "That's it! But the story does not end there. What someone noticed is that the equation for calculating Yp looks exactly like a linear regression problem. We discussed linear regression in an earlier chapter. As reminder, in a linear regression problem we are trying to find weight values that give us a linear transformation of the inputs, Xi, to the output Yp. In the case of a 2D problem, this will give us a line that will separate our data with minimal error (we hope optimistically).\n",
        "\n",
        "<img src='http://www.practicalai.io/wp-content/uploads/2017/06/admission-data-linear.png'  height=200>\n",
        "\n",
        "In the end, critics said that this neural net is just a hyped up version for linear regression which has been around forever. Unfortunately, they were right.\n"
      ]
    },
    {
      "cell_type": "markdown",
      "metadata": {
        "id": "0du_FsyEWWaR"
      },
      "source": [
        "##Everyone was dissapointed\n",
        "\n",
        "The hope was that the perceptron could solve non-linear problems. Maybe with data that looks closer to this:\n",
        "\n",
        "<img src='https://www.dropbox.com/s/o27b5nagw1modc0/Screen%20Shot%202021-05-07%20at%208.03.21%20AM.png?raw=1' height=100>\n"
      ]
    },
    {
      "cell_type": "markdown",
      "metadata": {
        "id": "2EV5L7VoWUaj"
      },
      "source": [
        "\n",
        "To answer, some said we need to add more layers. Check this out.\n",
        "\n",
        "<img src='https://miro.medium.com/max/1028/1*cMlfLORZWxtK7fZBLx4DsQ.gif'>\n",
        "\n",
        "But have we really changed anything? We have made our linear equation more complex by splitting a single weight into smaller component weights. But it remains a linear transformation nevertheless.\n",
        "\n",
        "<img src='https://miro.medium.com/max/1016/1*g2HHjCkxeemizfLQC-BaAg.gif'>\n",
        "\n",
        "You may have noticed I slipped in a function `A` above. For the early simple nets, this was simply the identity function `A(x) = x`. More on this in a bit."
      ]
    },
    {
      "cell_type": "markdown",
      "metadata": {
        "id": "J7QOkczCFWt8"
      },
      "source": [
        "#III. Artificial Neural Nets (ANNs) allow us to study non-linear problems\n",
        "<img src='https://www.dropbox.com/s/9fcc1crlxp19ijt/major_section.png?raw=1' width='300'>\n",
        "\n",
        "\n",
        "The big jump in Neural Nets came from observing biological neurons a little more closely. We can see summation of inputs happening in the cell body. We can see values being transferred to the outputs.\n",
        "<img src='https://upload.wikimedia.org/wikipedia/commons/4/44/Neuron3.png' height=150>\n",
        "\n",
        "But within the cell body, we can also see a threshold.\n",
        "\n",
        "<img src='https://www.dropbox.com/s/eq5f44y8g3q9v6f/Screen%20Shot%202021-05-05%20at%207.38.36%20AM.png?raw=1' height=200>\n",
        "\n",
        "We will see in a minute this thresholding idea has been renamed an activation function. And it forms the basis for the first big advance in ANNs."
      ]
    },
    {
      "cell_type": "markdown",
      "metadata": {
        "id": "IqouBELweOE6"
      },
      "source": [
        "#Picture of a simple ANN\n",
        "\n",
        "Check out the picture below.\n",
        "\n",
        "<img src='https://www.dropbox.com/s/zdv3sjzssiewwf3/Screenshot%202020-02-18%2010.30.12.png?raw=1'>\n",
        "\n",
        "###Overview\n",
        "\n",
        "* The Input layer is simply a row from one of our tables, e.g., Titanic, ISP Customer. It's a row tilted on its side. So that 0.44 would be first number in our row, .33 the second, and so forth. It assumes numeric values and best if they have been scaled between 0 and 1.\n",
        "\n",
        "* Each input node (circle) is connected to every node (circle) in the hidden layer.\n",
        "\n",
        "* Each line between 2 nodes has a weight associated with it. Let's say there are 20 input nodes and 5 hidden nodes. We will 20*5=100 lines and hence 100 weights. These weights are not shown in the figure.\n",
        "\n",
        "* Each hidden node is connected to all output nodes. We only have one output node above.\n",
        "\n",
        "* There is nothing hidden about the hidden layer. A better term would be middle layer. But there you go.\n",
        "\n",
        "* We will have 5 lines between hidden and output and hence 5 more weights.\n",
        "\n",
        "* The whole net has 105 weights. And it is called dense because all nodes between layers are fully connected.\n",
        "\n",
        "* The output node shows a 0 or 1 output, but more accurately is a value between 0 and 1 where we use a decision rule to map it to binary.\n",
        "\n",
        "\n",
        "\n",
        "\n",
        "\n",
        "\n",
        "\n",
        "\n"
      ]
    },
    {
      "cell_type": "markdown",
      "metadata": {
        "id": "51EmSu0iYABR"
      },
      "source": [
        "##Yeah, so what?\n",
        "\n",
        "It looks like the example earlier. Just adding more layers does not give us any more power. And that is true!\n",
        "\n",
        "To see the big advance, we have to look inside a node."
      ]
    },
    {
      "cell_type": "markdown",
      "metadata": {
        "id": "B5JFdmXaefwC"
      },
      "source": [
        "##A node\n",
        "\n",
        "What are in the circles (i.e., nodes) on the diagram above? Each node has k input lines. The exceptions are the input nodes which have just 1 input line and no weights. They just pass through the value from the sample/row to the first hidden layer. Check out the diagram below for what the nodes look like in hidden layers and the output layer. (Notice someone needs to use a spelling corrector on their images. Fonction?)\n",
        "\n",
        "<img src='https://www.dropbox.com/scl/fi/96cj2pu8zxol05xf6pdk4/Screenshot-2025-01-22-at-4.31.41-PM.png?rlkey=wfd7x6uqkbzogdculk73qyafo&raw=1' height=300>\n",
        "\n",
        "Let's check out that `I-sub-j` summation piece in code."
      ]
    },
    {
      "cell_type": "code",
      "metadata": {
        "id": "XHf1quw_Amii",
        "colab": {
          "base_uri": "https://localhost:8080/"
        },
        "outputId": "a1677802-b3e2-42af-e8b4-bb8838607b02"
      },
      "source": [
        "output_list = [1,2,3,4]          #collect outputs O0, O1, ... into a list\n",
        "weight_list = [.3, .1, 0., -.1]  #collect weights into a list\n",
        "i_sub_j = np.dot(output_list, weight_list)  #result typically called z\n",
        "i_sub_j"
      ],
      "execution_count": null,
      "outputs": [
        {
          "output_type": "execute_result",
          "data": {
            "text/plain": [
              "np.float64(0.09999999999999998)"
            ]
          },
          "metadata": {},
          "execution_count": 13
        }
      ]
    },
    {
      "cell_type": "markdown",
      "metadata": {
        "id": "6tIYJ7irAjpk"
      },
      "source": [
        "\n",
        "It is a bit confusing given the diagram labels the node's input as O for output. This is meant to show the input is coming from output on layer on left. The values of the outputs are floats. Each input line has its own weight W (another float). The operation of the first part of the node is simple. If you view the outputs as in one vector and the weights in a separate vector, take the dot product of the 2 vectors. You can see that in the function computing I-sub-j, where j is the node number.\n"
      ]
    },
    {
      "cell_type": "markdown",
      "metadata": {
        "id": "7pLOcvBWYs7K"
      },
      "source": [
        "##Still don't see the big deal\n",
        "\n",
        "Taking the dot product is exactly what happens with the earlier perceptron. It gives us linear regression."
      ]
    },
    {
      "cell_type": "markdown",
      "metadata": {
        "id": "-C_8ibmsYgB_"
      },
      "source": [
        "\n",
        "The more interesting part is what is called the Activation Function *f*. I showed this as the function `A` in an earlier diagram. It takes the result of the dot-product (typically called `Z`) and produces the actual output of the node. If you choose a linear activation function, e.g., `f(x) = cx`, you will end up with a network that computes a linear function no matter how many layers and nodes you have.\n",
        "\n",
        "The problems I typically want to study do not have a linear solution. Someone asked what if we used a non-linear activation function? Would that help? Uh, big yes. It was the breakthrough in ANNs.\n"
      ]
    },
    {
      "cell_type": "markdown",
      "metadata": {
        "id": "6z2mze0taNaP"
      },
      "source": [
        "#VI. Activation functions\n",
        "<img src='https://www.dropbox.com/s/9fcc1crlxp19ijt/major_section.png?raw=1' width='300'>\n"
      ]
    },
    {
      "cell_type": "markdown",
      "metadata": {
        "id": "Jqu7cnReaKcI"
      },
      "source": [
        "\n",
        "Here are a couple non-linear functions that have become popular. They could be the `f` in above diagram.\n",
        "\n",
        "##RELU\n",
        "\n",
        " The rectified linear activation function is a piecewise linear function that will output the input directly if it is positive, otherwise, it will output zero. Its implementation is trivial: `max(0,x)`.\n",
        "\n",
        "<img src='https://cdn-images-1.medium.com/freeze/max/1000/1*aIgTWE1223EGTqmi8lYBlA.png?q=20' height=200>\n",
        "\n",
        "To me it is the closest to mimic a biological neuron that waits for some threshold to be reached before activating.\n"
      ]
    },
    {
      "cell_type": "markdown",
      "metadata": {
        "id": "8M7BQ2uKiCYq"
      },
      "source": [
        "\n",
        "##Sigmoid\n",
        "\n",
        "We have seen this function when discussing Logistic Regression. Same function. It produces a sigmoid or \"S\" curve:\n",
        "\n",
        "<img src='https://www.dropbox.com/s/58hr9e4iusnmapc/Screenshot%202020-02-18%2014.02.06.png?raw=1'>\n",
        "\n",
        "<img src='https://www.dropbox.com/s/wdqdl22m2l7jruo/Screenshot%202020-02-18%2014.02.21.png?raw=1'>\n",
        "\n",
        "\n",
        "##Others\n",
        "\n",
        "\n",
        "See https://medium.com/@himanshuxd/activation-functions-sigmoid-relu-leaky-relu-and-softmax-basics-for-neural-networks-and-deep-8d9c70eed91e for a nice table of activation functions you have to choose from. We will use RELU and SIGMOID for our examples to keep it simple. But RELU in particular is getting kind of worn around the edges at this point."
      ]
    },
    {
      "cell_type": "markdown",
      "metadata": {
        "id": "LVbWDytiQBd8"
      },
      "source": [
        "#V. Using an ANN is truly an exploration process\n",
        "<img src='https://www.dropbox.com/s/9fcc1crlxp19ijt/major_section.png?raw=1' width='300'>\n",
        "\n",
        "This is a hyperparameter-rich environment. So many choices! It is hard to think of anything that we have discussed so far that is not a choice you can make. Activation functions for sure. But also:\n",
        "\n",
        "* The number of hidden layers and the number of nodes in each layer.\n",
        "\n",
        "* How to choose the initial weights is a choice.\n",
        "\n",
        "* The feedforward mechanism itself has variations.\n",
        "\n",
        "* Computing the error has different methods you can choose.\n",
        "\n",
        "* How slight to make weight changes is a choice.\n",
        "\n",
        "* Even back propogation has variants.\n"
      ]
    },
    {
      "cell_type": "markdown",
      "metadata": {
        "id": "7us3Q4Ncvna1"
      },
      "source": [
        "##Let's get set-up to build a model\n",
        "\n",
        "I'll use the tensorflow package from Google although pytorch is a popular alternative."
      ]
    },
    {
      "cell_type": "code",
      "metadata": {
        "id": "FpnZFnTOv2Mx"
      },
      "source": [
        "from tensorflow.keras import Sequential\n",
        "from tensorflow.keras.layers import Dense, Activation, Dropout, Input\n",
        "import tensorflow as tf\n",
        "from tensorflow import keras\n",
        "import random"
      ],
      "execution_count": null,
      "outputs": []
    },
    {
      "cell_type": "markdown",
      "metadata": {
        "id": "6E5_fO5F-_Iu"
      },
      "source": [
        "#VI. Build an ANN\n",
        "\n",
        "I'll build an ANN then discuss. I'll go into more detail in the next chapter. Here I am just trying to get something up and running quickly.\n",
        "\n",
        "Briefly, I am going to build up a net, one layer at a time:\n",
        "\n",
        "* The Input layer will have 6 nodes (called units here) for 6 features.\n",
        "* The first hidden layer will have 4 nodes. Just a guess.\n",
        "* The second hidden layer will have 2 nodes. Another guess.\n",
        "* The Output layer will have 1 node given this is a binary classification problem. It could have more if needed.\n",
        "* I'll discuss Dropout nodes a little later.\n",
        "\n",
        "The code looks semi-complicated because I am doing all in my power to manage randomness. I want your code to match mine and for that we need to be using the same random starting point, i.e., seeds. And we want different seeds for different layers so we don't always get the same random numbers for every layer. I am converting the layer name (unique string) to an int seed to guarantee this.\n",
        "\n",
        "Another benefit of managing randomness is that you should get the same results if you rerun the code. This is way useful when we get to tuning.\n"
      ]
    },
    {
      "cell_type": "code",
      "source": [
        "act_fn = 'relu'  #many others possible\n",
        "feature_n = len(x_train[0])  #or x_train.shape[1] - how many features are we using?\n",
        "feature_n"
      ],
      "metadata": {
        "id": "ZZUbnIekz23X",
        "colab": {
          "base_uri": "https://localhost:8080/"
        },
        "outputId": "4be86ab3-5739-475c-8788-3e2d30fc39a1"
      },
      "execution_count": null,
      "outputs": [
        {
          "output_type": "execute_result",
          "data": {
            "text/plain": [
              "6"
            ]
          },
          "metadata": {},
          "execution_count": 15
        }
      ]
    },
    {
      "cell_type": "markdown",
      "source": [
        "###Now Jump through some hoops to get replicable results\n",
        "\n",
        "Even with setting all the random seeds, you need the `enable_op_determinism` to get replicable results.\n",
        "\n",
        "And bad news: that still might be enough. Stay tuned."
      ],
      "metadata": {
        "id": "ivBo351kjx1w"
      }
    },
    {
      "cell_type": "code",
      "source": [
        "#update from video to add more replication control\n",
        "\n",
        "tf.keras.utils.set_random_seed(1234)  #need this for replication - sets multiple seeds\n",
        "tf.config.experimental.enable_op_determinism()  #ditto - https://www.tensorflow.org/api_docs/python/tf/config/experimental/enable_op_determinism\n",
        "tf.config.threading.set_inter_op_parallelism_threads(1)\n",
        "tf.config.threading.set_intra_op_parallelism_threads(1)"
      ],
      "metadata": {
        "id": "9UH8coL34r2q"
      },
      "execution_count": null,
      "outputs": []
    },
    {
      "cell_type": "code",
      "source": [
        "import hashlib  #will need this below to set seeds\n",
        "\n",
        "def string_to_seed(string):\n",
        "    # Create a hash of the string using SHA-256\n",
        "    hash_object = hashlib.sha256(string.encode())\n",
        "    # Convert first 8 bytes of hash to integer\n",
        "    hash_int = int.from_bytes(hash_object.digest()[:8], 'big')\n",
        "    return hash_int % (2**32 - 1)"
      ],
      "metadata": {
        "id": "EjB5COVHStgr"
      },
      "execution_count": null,
      "outputs": []
    },
    {
      "cell_type": "code",
      "source": [
        "#Note several things that differ from video:\n",
        "# * use of regularizer\n",
        "# * weight initialization\n",
        "# * Dropout not used (commented out)\n",
        "\n",
        "ann_model = Sequential()\n",
        "\n",
        "# Input layer - a more modern way to deal with Input layer than shown in video\n",
        "ann_model.add(Input(shape=(feature_n,), name=\"input_layer\"))\n",
        "#could add Dropout here\n",
        "\n",
        "#hidden layer 1\n",
        "layer_name = \"hidden_layer_1\"\n",
        "ann_model.add(Dense(units=8,\n",
        "                   activation=act_fn,\n",
        "                   name=layer_name+'_dense',\n",
        "                   kernel_regularizer=tf.keras.regularizers.l2(0.01),\n",
        "                   kernel_initializer=tf.keras.initializers.HeNormal(seed=string_to_seed(layer_name+'_dense'))\n",
        "))\n",
        "#ann_model.add(Dropout(.2, name=layer_name+'_dropout', seed=string_to_seed(layer_name+'_dropout')))  #Setting seed still does not control nondeterminism in latest version\n",
        "\n",
        "#hidden layer 2\n",
        "layer_name = \"hidden_layer_2\"\n",
        "ann_model.add(Dense(units=4,\n",
        "                   activation=act_fn,\n",
        "                   name=layer_name+'_dense',\n",
        "                   kernel_regularizer=tf.keras.regularizers.l2(0.01),\n",
        "                   kernel_initializer=tf.keras.initializers.HeNormal(seed=string_to_seed(layer_name+'_dense'))\n",
        "))\n",
        "#ann_model.add(Dropout(.2, name=layer_name+'_dropout', seed=string_to_seed(layer_name+'_dropout')))\n",
        "\n",
        "#could add more hidden layers if you wanted.\n",
        "\n",
        "#hidden layer 3\n",
        "\n",
        "#hidden layer 4\n",
        "\n",
        "#etc\n",
        "\n",
        "#output layer for binary classification\n",
        "ann_model.add(Dense(units=1, name='output', activation='sigmoid'))  #only 1 node and using sigmoid (just like with logistic regression!)\n"
      ],
      "metadata": {
        "id": "My4-o5wwzyYM"
      },
      "execution_count": null,
      "outputs": []
    },
    {
      "cell_type": "markdown",
      "source": [
        "##I am making a tradeoff with the model above\n",
        "\n",
        "I was not getting replicable results. I traced the problem to the `Dropout` layer. Even with seeds set, TF's `Dropout` implementation relies on underlying hardware random number generators that TF's seeding mechanisms may not fully control. On a CPU, especially, the hardware RNG implementation can introduce non-determinism that persists despite software-level seeds. This is a known issue in TF's CPU operations.\n",
        "\n",
        "On the plus side, both Dropout and L2 regularization combat overfitting. So in place of `Dropout`, I chose *L2 regularization*, the same thing we saw when looking at logistic regression (see chapter 9). I included this in each `Dense` layer. It will **not** introduce new nondeterminism. And given the small size of our dataset in terms of features and rows, we don't need both `Dropout` and `L2`. I chose to comment out `Dropout`. In a real setting (e.g., when you are working with a large dataset on your own project), you may need to experiment and make your own choice here. And by that time, the Tensorflow folks may have figured out how to eliminate the uncontrolled nondeterminism in Dropout as a sticking point in replication.\n"
      ],
      "metadata": {
        "id": "ksaskvo5G1py"
      }
    },
    {
      "cell_type": "markdown",
      "source": [
        "###Compile step\n",
        "\n",
        "At this point the ANN is configured.\n",
        "We now need to get it ready for training. That requires a compilation step. I'll discuss this step in more detail in the next chapter. But briefly, I need to specify:\n",
        "\n",
        "* a loss function. We saw the need for this back when looking at logistic regression. Same idea: compute how far off our prediction is from actual label. BinaryCrossEntropy is standard for binary classification. I'll talk about smoothing later.\n",
        "* an optimizer. Several choices here but Adam perhaps most standard.\n",
        "* metrics to track during training. A history of these values will be kept per epoch. We can then plot them later. The 'loss' metric is automatically included."
      ],
      "metadata": {
        "id": "804T4w3wPOST"
      }
    },
    {
      "cell_type": "code",
      "source": [
        "ann_model.compile(loss=tf.keras.losses.BinaryCrossentropy(label_smoothing=.1),  #Differs from video\n",
        "                  optimizer = tf.keras.optimizers.Adam(learning_rate=0.001),    #Differs from video\n",
        "                  metrics=['auc', 'accuracy']\n",
        ")"
      ],
      "metadata": {
        "id": "EXR6sEQBPLhQ"
      },
      "execution_count": null,
      "outputs": []
    },
    {
      "cell_type": "markdown",
      "source": [
        "###Code to test if we have replicable results\n",
        "\n",
        "Differs from the video showing my paranoia about replicability.\n",
        "You might want to remember this code for when you get to your own projects after the course."
      ],
      "metadata": {
        "id": "luHQ_EMnsl9V"
      }
    },
    {
      "cell_type": "code",
      "source": [
        "x_batch = x_train[:32]\n",
        "y_batch = y_train[:32].reshape(-1, 1)\n",
        "\n",
        "with tf.GradientTape() as tape:\n",
        "    pred1 = ann_model(x_batch, training=True)\n",
        "    loss1 = tf.keras.losses.binary_crossentropy(y_batch, pred1)\n",
        "grads1 = tape.gradient(loss1, ann_model.trainable_variables)\n",
        "\n",
        "with tf.GradientTape() as tape:\n",
        "    pred2 = ann_model(x_batch, training=True)\n",
        "    loss2 = tf.keras.losses.binary_crossentropy(y_batch, pred2)\n",
        "grads2 = tape.gradient(loss2, ann_model.trainable_variables)\n",
        "\n",
        "print(\"Gradients match:\", all(np.array_equal(g1, g2) for g1, g2 in zip(grads1, grads2)))  #should be True if replicable"
      ],
      "metadata": {
        "id": "pcHqBe9AjgN9",
        "colab": {
          "base_uri": "https://localhost:8080/"
        },
        "outputId": "99bcc91a-aed8-4758-f068-5cab93ba425e"
      },
      "execution_count": null,
      "outputs": [
        {
          "output_type": "stream",
          "name": "stdout",
          "text": [
            "Gradients match: True\n"
          ]
        }
      ]
    },
    {
      "cell_type": "markdown",
      "metadata": {
        "id": "5aH5oWWxDi72"
      },
      "source": [
        "#VII. Train an ANN\n",
        "\n",
        "Note that training an ANN is very similar to training a Linear Regression model. We keep trying different values of weights and try to minimize a loss function. And we use differential equations and the chain-rule to change weights to do loss-minimization. And we can do L2 Regularization of the weights, just like with Linear Regression.\n",
        "\n",
        "We also have the same notion of batch and epochs. Really the only thing that has changed is the non-linear activation function. And I suppose the added layers."
      ]
    },
    {
      "cell_type": "markdown",
      "metadata": {
        "id": "DrudgWPiv2M0"
      },
      "source": [
        "##Set-up a callback\n",
        "\n",
        "You can control runtime aspects of training with callbacks. Here is an [overview article on callbacks](https://www.analyticsvidhya.com/blog/2021/08/quick-start-with-tensorflow-callbacks). Let's use one now just to see how it works."
      ]
    },
    {
      "cell_type": "markdown",
      "metadata": {
        "id": "Lj81PHG3v2M1"
      },
      "source": [
        "###EarlyStopping callback\n",
        "\n",
        "When we are training our models, we can look at the loss in order to monitor how well the model is performing. Usually, if we see a loss that is not improving (often getting worse) over k epochs, we may conclude that our model is as good as it is going to get and any more training may lead to overfitting.\n",
        "The EarlyStopping callback allows us to monitor for this occurence. It is called after each epoch ends.\n",
        "\n",
        "<pre>\n",
        "early_stop_cb = tf.keras.callbacks.EarlyStopping(monitor='loss',\n",
        "                                patience=15,\n",
        "                                verbose=0,\n",
        "                                restore_best_weights=True)\n",
        "</pre>\n",
        "* `monitor`: The metric you want to monitor while training. In this case, loss.\n",
        "\n",
        "* `patience`: The number of epochs to wait for the metric to improve. Else, stop the training.\n",
        "\n",
        "* `verbose` : 0: don’t print anything, 1: show a progress bar, 2: print only epoch number\n",
        "\n",
        "* `restore_best_weights`: remember the epoch with smallest loss and keep it as final fitted model.\n"
      ]
    },
    {
      "cell_type": "code",
      "metadata": {
        "id": "kYoX6JDRv2M7"
      },
      "source": [
        "early_stop_cb = tf.keras.callbacks.EarlyStopping(monitor='loss',\n",
        "                                patience=15,\n",
        "                                verbose=0,\n",
        "                                restore_best_weights=True)  #if early stop, will set model weights to best found so far"
      ],
      "execution_count": null,
      "outputs": []
    },
    {
      "cell_type": "markdown",
      "source": [
        "###Roughly 20 seconds"
      ],
      "metadata": {
        "id": "lcQbjNUdIfVZ"
      }
    },
    {
      "cell_type": "code",
      "metadata": {
        "id": "yUfp0WGwDnCK",
        "colab": {
          "base_uri": "https://localhost:8080/"
        },
        "outputId": "48508058-ccda-4837-8764-965c618562b3"
      },
      "source": [
        "%%time\n",
        "\n",
        "batch = 32   #typical\n",
        "epochs = 100  #guess\n",
        "training = ann_model.fit(x=x_train,\n",
        "                        y=y_train,\n",
        "                         batch_size=batch,\n",
        "                         epochs=epochs,\n",
        "                         verbose=0,\n",
        "                         shuffle=True,  #shuffles the training set after each epoch\n",
        "                         callbacks=[early_stop_cb])"
      ],
      "execution_count": null,
      "outputs": [
        {
          "output_type": "stream",
          "name": "stdout",
          "text": [
            "CPU times: user 13 s, sys: 497 ms, total: 13.5 s\n",
            "Wall time: 15.4 s\n"
          ]
        }
      ]
    },
    {
      "cell_type": "code",
      "source": [
        "len(training.history['loss'])  #100 - I did not stop early"
      ],
      "metadata": {
        "id": "m_vzLLH_nI-j",
        "colab": {
          "base_uri": "https://localhost:8080/"
        },
        "outputId": "d0f8c72a-6ae0-4405-93ce-3d8e7b00f690"
      },
      "execution_count": null,
      "outputs": [
        {
          "output_type": "execute_result",
          "data": {
            "text/plain": [
              "100"
            ]
          },
          "metadata": {},
          "execution_count": 23
        }
      ]
    },
    {
      "cell_type": "code",
      "metadata": {
        "id": "EIUZ1u74FcvY",
        "colab": {
          "base_uri": "https://localhost:8080/",
          "height": 472
        },
        "outputId": "107a16c6-40f0-4c40-99d3-dea659399e64"
      },
      "source": [
        "import matplotlib.pyplot as plt\n",
        "\n",
        "plt.plot(training.history['auc'])\n",
        "plt.plot(training.history['loss'])\n",
        "plt.title('model performance')\n",
        "plt.ylabel('auc')\n",
        "plt.xlabel('epoch')\n",
        "plt.legend(['auc', 'loss'], loc='upper left')\n",
        "plt.show()"
      ],
      "execution_count": null,
      "outputs": [
        {
          "output_type": "display_data",
          "data": {
            "text/plain": [
              "<Figure size 640x480 with 1 Axes>"
            ],
            "image/png": "[encoded data removed]"
          },
          "metadata": {}
        }
      ]
    },
    {
      "cell_type": "markdown",
      "source": [
        "###My results\n",
        "\n",
        "<img src='' height=300>"
      ],
      "metadata": {
        "id": "A8e-Ezi1r9B3"
      }
    },
    {
      "cell_type": "code",
      "source": [
        "max(training.history['auc']), min(training.history['loss'])  #(0.8047691583633423, 0.5954418182373047)"
      ],
      "metadata": {
        "id": "WKTreYhzY0Be",
        "colab": {
          "base_uri": "https://localhost:8080/"
        },
        "outputId": "36731458-a689-46c6-875d-a91ca16ec13d"
      },
      "execution_count": null,
      "outputs": [
        {
          "output_type": "execute_result",
          "data": {
            "text/plain": [
              "(0.8047691583633423, 0.5954418182373047)"
            ]
          },
          "metadata": {},
          "execution_count": 25
        }
      ]
    },
    {
      "cell_type": "code",
      "metadata": {
        "id": "vdiWtaxvJ8Br",
        "colab": {
          "base_uri": "https://localhost:8080/"
        },
        "outputId": "2b88388f-f173-4ff0-cdd0-0a7ae57342b7"
      },
      "source": [
        "training.history['auc'][-20:]"
      ],
      "execution_count": null,
      "outputs": [
        {
          "output_type": "execute_result",
          "data": {
            "text/plain": [
              "[0.8028106093406677,\n",
              " 0.8032148480415344,\n",
              " 0.8035212755203247,\n",
              " 0.8035858869552612,\n",
              " 0.8037409782409668,\n",
              " 0.803877592086792,\n",
              " 0.8038018941879272,\n",
              " 0.8037317395210266,\n",
              " 0.8037077784538269,\n",
              " 0.8039089441299438,\n",
              " 0.8038609623908997,\n",
              " 0.8037742376327515,\n",
              " 0.8038665056228638,\n",
              " 0.8043925762176514,\n",
              " 0.80446457862854,\n",
              " 0.80442214012146,\n",
              " 0.8046971559524536,\n",
              " 0.80467689037323,\n",
              " 0.8045679330825806,\n",
              " 0.8047691583633423]"
            ]
          },
          "metadata": {},
          "execution_count": 26
        }
      ]
    },
    {
      "cell_type": "markdown",
      "source": [
        "###My results\n",
        "\n",
        "<pre>\n",
        "[0.8028106093406677,\n",
        " 0.8032148480415344,\n",
        " 0.8035212755203247,\n",
        " 0.8035858869552612,\n",
        " 0.8037409782409668,\n",
        " 0.803877592086792,\n",
        " 0.8038018941879272,\n",
        " 0.8037317395210266,\n",
        " 0.8037077784538269,\n",
        " 0.8039089441299438,\n",
        " 0.8038609623908997,\n",
        " 0.8037742376327515,\n",
        " 0.8038665056228638,\n",
        " 0.8043925762176514,\n",
        " 0.80446457862854,\n",
        " 0.80442214012146,\n",
        " 0.8046971559524536,\n",
        " 0.80467689037323,\n",
        " 0.8045679330825806,\n",
        " 0.8047691583633423]\n",
        " </pre>"
      ],
      "metadata": {
        "id": "WYFF26RqrjTS"
      }
    },
    {
      "cell_type": "code",
      "metadata": {
        "id": "0NcPtOmfKFcg",
        "colab": {
          "base_uri": "https://localhost:8080/"
        },
        "outputId": "77676a1b-0d45-4360-e7c0-bdd359de1531"
      },
      "source": [
        "training.history['loss'][-20:]"
      ],
      "execution_count": null,
      "outputs": [
        {
          "output_type": "execute_result",
          "data": {
            "text/plain": [
              "[0.5996474027633667,\n",
              " 0.5993703603744507,\n",
              " 0.5991257429122925,\n",
              " 0.5988380312919617,\n",
              " 0.5985915064811707,\n",
              " 0.5983326435089111,\n",
              " 0.5981044769287109,\n",
              " 0.597854733467102,\n",
              " 0.5976247191429138,\n",
              " 0.5973939895629883,\n",
              " 0.597191333770752,\n",
              " 0.5969778299331665,\n",
              " 0.5967769026756287,\n",
              " 0.5965700149536133,\n",
              " 0.5963735580444336,\n",
              " 0.5961760878562927,\n",
              " 0.5959934592247009,\n",
              " 0.59579998254776,\n",
              " 0.5956194996833801,\n",
              " 0.5954418182373047]"
            ]
          },
          "metadata": {},
          "execution_count": 27
        }
      ]
    },
    {
      "cell_type": "markdown",
      "source": [
        "###How to inperpret all this\n",
        "\n",
        "Early stopping did not kick in. That might imply that we should add more epochs. But I am going to stop at this point given very marginal gains.\n",
        "\n",
        "That said, there is another callback that often goes with early stopping, one that also watches validation results: `ReduceLROnPlateau`. If it sees lack of improvement, it will try to adjust training parameters on the fly to improve things. Kind of cool: adapt as you go. I am not sure we will have time to get to it."
      ],
      "metadata": {
        "id": "AMzztpH0UCrM"
      }
    },
    {
      "cell_type": "markdown",
      "source": [
        "##Evaluate on test set\n",
        "\n",
        "There is no `score` method. And `predict_proba` has been replaced with just `predict`. And `predict` just gives you probabilities of 1 (positive case).\n",
        "\n",
        "And remember our `ann_model` is not from the last epoch, but the one with the smallest loss as found by early stopping."
      ],
      "metadata": {
        "id": "Icr1yxgRNjZU"
      }
    },
    {
      "cell_type": "code",
      "source": [
        "ypos = ann_model.predict(x_test)[:,0]  #replaces predict_proba but only pos case (each value wrapped in array so need of [:,0])\n",
        "ypos[:5]  #[0.60781306, 0.7760794 , 0.8345735 , 0.24593781, 0.28484714]"
      ],
      "metadata": {
        "id": "zPQpadYUKgLR",
        "colab": {
          "base_uri": "https://localhost:8080/"
        },
        "outputId": "a720e16b-e9fb-4366-ab5b-4bcd1734a87f"
      },
      "execution_count": null,
      "outputs": [
        {
          "output_type": "stream",
          "name": "stdout",
          "text": [
            "\u001b[1m9/9\u001b[0m \u001b[32m━━━━━━━━━━━━━━━━━━━━\u001b[0m\u001b[37m\u001b[0m \u001b[1m0s\u001b[0m 10ms/step\n"
          ]
        },
        {
          "output_type": "execute_result",
          "data": {
            "text/plain": [
              "array([0.60781306, 0.7760794 , 0.8345735 , 0.24593781, 0.28484714],\n",
              "      dtype=float32)"
            ]
          },
          "metadata": {},
          "execution_count": 28
        }
      ]
    },
    {
      "cell_type": "code",
      "source": [
        "result_df, fancy_df = threshold_results(np.round(np.arange(0.0,1.01,.05), 2), y_test, ypos)\n",
        "fancy_df"
      ],
      "metadata": {
        "id": "AzuVWryTM71o",
        "colab": {
          "base_uri": "https://localhost:8080/",
          "height": 720
        },
        "outputId": "6bd589fa-bebf-4238-cc8c-6c923cf35b47"
      },
      "execution_count": null,
      "outputs": [
        {
          "output_type": "execute_result",
          "data": {
            "text/plain": [
              "<pandas.io.formats.style.Styler at 0x788281bad290>"
            ],
            "text/html": [
              "<style type=\"text/css\">\n",
              "#T_a9dd8 th:not(.index_name) {\n",
              "  background-color: #800000;\n",
              "  color: white;\n",
              "  text-align: center;\n",
              "}\n",
              "#T_a9dd8_row0_col0, #T_a9dd8_row0_col1, #T_a9dd8_row0_col3, #T_a9dd8_row0_col4, #T_a9dd8_row1_col0, #T_a9dd8_row1_col1, #T_a9dd8_row1_col3, #T_a9dd8_row1_col4, #T_a9dd8_row2_col0, #T_a9dd8_row2_col1, #T_a9dd8_row2_col3, #T_a9dd8_row2_col4, #T_a9dd8_row3_col0, #T_a9dd8_row3_col1, #T_a9dd8_row3_col2, #T_a9dd8_row3_col3, #T_a9dd8_row3_col4, #T_a9dd8_row4_col0, #T_a9dd8_row4_col1, #T_a9dd8_row4_col2, #T_a9dd8_row4_col3, #T_a9dd8_row4_col4, #T_a9dd8_row5_col0, #T_a9dd8_row5_col1, #T_a9dd8_row5_col2, #T_a9dd8_row5_col3, #T_a9dd8_row5_col4, #T_a9dd8_row6_col0, #T_a9dd8_row6_col1, #T_a9dd8_row6_col2, #T_a9dd8_row6_col3, #T_a9dd8_row6_col4, #T_a9dd8_row7_col0, #T_a9dd8_row7_col1, #T_a9dd8_row7_col2, #T_a9dd8_row7_col4, #T_a9dd8_row8_col0, #T_a9dd8_row8_col1, #T_a9dd8_row8_col2, #T_a9dd8_row8_col3, #T_a9dd8_row8_col4, #T_a9dd8_row9_col0, #T_a9dd8_row9_col1, #T_a9dd8_row9_col2, #T_a9dd8_row9_col3, #T_a9dd8_row10_col0, #T_a9dd8_row10_col1, #T_a9dd8_row10_col2, #T_a9dd8_row10_col3, #T_a9dd8_row10_col4, #T_a9dd8_row11_col0, #T_a9dd8_row11_col1, #T_a9dd8_row11_col2, #T_a9dd8_row11_col3, #T_a9dd8_row11_col4, #T_a9dd8_row12_col0, #T_a9dd8_row12_col1, #T_a9dd8_row12_col2, #T_a9dd8_row12_col3, #T_a9dd8_row13_col0, #T_a9dd8_row13_col1, #T_a9dd8_row13_col2, #T_a9dd8_row13_col3, #T_a9dd8_row13_col4, #T_a9dd8_row14_col0, #T_a9dd8_row14_col1, #T_a9dd8_row14_col2, #T_a9dd8_row14_col3, #T_a9dd8_row14_col4, #T_a9dd8_row15_col0, #T_a9dd8_row15_col1, #T_a9dd8_row15_col2, #T_a9dd8_row15_col3, #T_a9dd8_row15_col4, #T_a9dd8_row16_col0, #T_a9dd8_row16_col2, #T_a9dd8_row16_col3, #T_a9dd8_row16_col4, #T_a9dd8_row17_col0, #T_a9dd8_row17_col1, #T_a9dd8_row17_col2, #T_a9dd8_row17_col3, #T_a9dd8_row17_col4, #T_a9dd8_row18_col0, #T_a9dd8_row18_col1, #T_a9dd8_row18_col2, #T_a9dd8_row18_col3, #T_a9dd8_row18_col4, #T_a9dd8_row19_col0, #T_a9dd8_row19_col1, #T_a9dd8_row19_col2, #T_a9dd8_row19_col3, #T_a9dd8_row19_col4, #T_a9dd8_row20_col1, #T_a9dd8_row20_col2, #T_a9dd8_row20_col3, #T_a9dd8_row20_col4 {\n",
              "  border: 1px solid black;\n",
              "  width: 65px;\n",
              "  text-align: center;\n",
              "}\n",
              "#T_a9dd8_row0_col2, #T_a9dd8_row0_col5, #T_a9dd8_row1_col2, #T_a9dd8_row1_col5, #T_a9dd8_row2_col2, #T_a9dd8_row2_col5, #T_a9dd8_row3_col5, #T_a9dd8_row4_col5, #T_a9dd8_row5_col5, #T_a9dd8_row6_col5, #T_a9dd8_row7_col3, #T_a9dd8_row7_col5, #T_a9dd8_row8_col5, #T_a9dd8_row9_col4, #T_a9dd8_row9_col5, #T_a9dd8_row10_col5, #T_a9dd8_row11_col5, #T_a9dd8_row12_col4, #T_a9dd8_row12_col5, #T_a9dd8_row13_col5, #T_a9dd8_row14_col5, #T_a9dd8_row15_col5, #T_a9dd8_row16_col1, #T_a9dd8_row16_col5, #T_a9dd8_row17_col5, #T_a9dd8_row18_col5, #T_a9dd8_row19_col5, #T_a9dd8_row20_col0, #T_a9dd8_row20_col5 {\n",
              "  background-color: pink;\n",
              "  border: 1px solid black;\n",
              "  width: 65px;\n",
              "  text-align: center;\n",
              "}\n",
              "</style>\n",
              "<table id=\"T_a9dd8\" class=\"dataframe\">\n",
              "  <thead>\n",
              "    <tr>\n",
              "      <th class=\"blank level0\" >&nbsp;</th>\n",
              "      <th id=\"T_a9dd8_level0_col0\" class=\"col_heading level0 col0\" >threshold</th>\n",
              "      <th id=\"T_a9dd8_level0_col1\" class=\"col_heading level0 col1\" >precision</th>\n",
              "      <th id=\"T_a9dd8_level0_col2\" class=\"col_heading level0 col2\" >recall</th>\n",
              "      <th id=\"T_a9dd8_level0_col3\" class=\"col_heading level0 col3\" >f1</th>\n",
              "      <th id=\"T_a9dd8_level0_col4\" class=\"col_heading level0 col4\" >accuracy</th>\n",
              "      <th id=\"T_a9dd8_level0_col5\" class=\"col_heading level0 col5\" >auc</th>\n",
              "    </tr>\n",
              "  </thead>\n",
              "  <tbody>\n",
              "    <tr>\n",
              "      <th id=\"T_a9dd8_level0_row0\" class=\"row_heading level0 row0\" >0</th>\n",
              "      <td id=\"T_a9dd8_row0_col0\" class=\"data row0 col0\" >0.00</td>\n",
              "      <td id=\"T_a9dd8_row0_col1\" class=\"data row0 col1\" >0.43</td>\n",
              "      <td id=\"T_a9dd8_row0_col2\" class=\"data row0 col2\" >1.00</td>\n",
              "      <td id=\"T_a9dd8_row0_col3\" class=\"data row0 col3\" >0.60</td>\n",
              "      <td id=\"T_a9dd8_row0_col4\" class=\"data row0 col4\" >0.43</td>\n",
              "      <td id=\"T_a9dd8_row0_col5\" class=\"data row0 col5\" >0.78</td>\n",
              "    </tr>\n",
              "    <tr>\n",
              "      <th id=\"T_a9dd8_level0_row1\" class=\"row_heading level0 row1\" >1</th>\n",
              "      <td id=\"T_a9dd8_row1_col0\" class=\"data row1 col0\" >0.05</td>\n",
              "      <td id=\"T_a9dd8_row1_col1\" class=\"data row1 col1\" >0.43</td>\n",
              "      <td id=\"T_a9dd8_row1_col2\" class=\"data row1 col2\" >1.00</td>\n",
              "      <td id=\"T_a9dd8_row1_col3\" class=\"data row1 col3\" >0.60</td>\n",
              "      <td id=\"T_a9dd8_row1_col4\" class=\"data row1 col4\" >0.43</td>\n",
              "      <td id=\"T_a9dd8_row1_col5\" class=\"data row1 col5\" >0.78</td>\n",
              "    </tr>\n",
              "    <tr>\n",
              "      <th id=\"T_a9dd8_level0_row2\" class=\"row_heading level0 row2\" >2</th>\n",
              "      <td id=\"T_a9dd8_row2_col0\" class=\"data row2 col0\" >0.10</td>\n",
              "      <td id=\"T_a9dd8_row2_col1\" class=\"data row2 col1\" >0.43</td>\n",
              "      <td id=\"T_a9dd8_row2_col2\" class=\"data row2 col2\" >1.00</td>\n",
              "      <td id=\"T_a9dd8_row2_col3\" class=\"data row2 col3\" >0.60</td>\n",
              "      <td id=\"T_a9dd8_row2_col4\" class=\"data row2 col4\" >0.43</td>\n",
              "      <td id=\"T_a9dd8_row2_col5\" class=\"data row2 col5\" >0.78</td>\n",
              "    </tr>\n",
              "    <tr>\n",
              "      <th id=\"T_a9dd8_level0_row3\" class=\"row_heading level0 row3\" >3</th>\n",
              "      <td id=\"T_a9dd8_row3_col0\" class=\"data row3 col0\" >0.15</td>\n",
              "      <td id=\"T_a9dd8_row3_col1\" class=\"data row3 col1\" >0.44</td>\n",
              "      <td id=\"T_a9dd8_row3_col2\" class=\"data row3 col2\" >0.99</td>\n",
              "      <td id=\"T_a9dd8_row3_col3\" class=\"data row3 col3\" >0.61</td>\n",
              "      <td id=\"T_a9dd8_row3_col4\" class=\"data row3 col4\" >0.44</td>\n",
              "      <td id=\"T_a9dd8_row3_col5\" class=\"data row3 col5\" >0.78</td>\n",
              "    </tr>\n",
              "    <tr>\n",
              "      <th id=\"T_a9dd8_level0_row4\" class=\"row_heading level0 row4\" >4</th>\n",
              "      <td id=\"T_a9dd8_row4_col0\" class=\"data row4 col0\" >0.20</td>\n",
              "      <td id=\"T_a9dd8_row4_col1\" class=\"data row4 col1\" >0.46</td>\n",
              "      <td id=\"T_a9dd8_row4_col2\" class=\"data row4 col2\" >0.97</td>\n",
              "      <td id=\"T_a9dd8_row4_col3\" class=\"data row4 col3\" >0.62</td>\n",
              "      <td id=\"T_a9dd8_row4_col4\" class=\"data row4 col4\" >0.49</td>\n",
              "      <td id=\"T_a9dd8_row4_col5\" class=\"data row4 col5\" >0.78</td>\n",
              "    </tr>\n",
              "    <tr>\n",
              "      <th id=\"T_a9dd8_level0_row5\" class=\"row_heading level0 row5\" >5</th>\n",
              "      <td id=\"T_a9dd8_row5_col0\" class=\"data row5 col0\" >0.25</td>\n",
              "      <td id=\"T_a9dd8_row5_col1\" class=\"data row5 col1\" >0.50</td>\n",
              "      <td id=\"T_a9dd8_row5_col2\" class=\"data row5 col2\" >0.93</td>\n",
              "      <td id=\"T_a9dd8_row5_col3\" class=\"data row5 col3\" >0.65</td>\n",
              "      <td id=\"T_a9dd8_row5_col4\" class=\"data row5 col4\" >0.57</td>\n",
              "      <td id=\"T_a9dd8_row5_col5\" class=\"data row5 col5\" >0.78</td>\n",
              "    </tr>\n",
              "    <tr>\n",
              "      <th id=\"T_a9dd8_level0_row6\" class=\"row_heading level0 row6\" >6</th>\n",
              "      <td id=\"T_a9dd8_row6_col0\" class=\"data row6 col0\" >0.30</td>\n",
              "      <td id=\"T_a9dd8_row6_col1\" class=\"data row6 col1\" >0.56</td>\n",
              "      <td id=\"T_a9dd8_row6_col2\" class=\"data row6 col2\" >0.82</td>\n",
              "      <td id=\"T_a9dd8_row6_col3\" class=\"data row6 col3\" >0.66</td>\n",
              "      <td id=\"T_a9dd8_row6_col4\" class=\"data row6 col4\" >0.64</td>\n",
              "      <td id=\"T_a9dd8_row6_col5\" class=\"data row6 col5\" >0.78</td>\n",
              "    </tr>\n",
              "    <tr>\n",
              "      <th id=\"T_a9dd8_level0_row7\" class=\"row_heading level0 row7\" >7</th>\n",
              "      <td id=\"T_a9dd8_row7_col0\" class=\"data row7 col0\" >0.35</td>\n",
              "      <td id=\"T_a9dd8_row7_col1\" class=\"data row7 col1\" >0.62</td>\n",
              "      <td id=\"T_a9dd8_row7_col2\" class=\"data row7 col2\" >0.75</td>\n",
              "      <td id=\"T_a9dd8_row7_col3\" class=\"data row7 col3\" >0.68</td>\n",
              "      <td id=\"T_a9dd8_row7_col4\" class=\"data row7 col4\" >0.69</td>\n",
              "      <td id=\"T_a9dd8_row7_col5\" class=\"data row7 col5\" >0.78</td>\n",
              "    </tr>\n",
              "    <tr>\n",
              "      <th id=\"T_a9dd8_level0_row8\" class=\"row_heading level0 row8\" >8</th>\n",
              "      <td id=\"T_a9dd8_row8_col0\" class=\"data row8 col0\" >0.40</td>\n",
              "      <td id=\"T_a9dd8_row8_col1\" class=\"data row8 col1\" >0.66</td>\n",
              "      <td id=\"T_a9dd8_row8_col2\" class=\"data row8 col2\" >0.65</td>\n",
              "      <td id=\"T_a9dd8_row8_col3\" class=\"data row8 col3\" >0.65</td>\n",
              "      <td id=\"T_a9dd8_row8_col4\" class=\"data row8 col4\" >0.70</td>\n",
              "      <td id=\"T_a9dd8_row8_col5\" class=\"data row8 col5\" >0.78</td>\n",
              "    </tr>\n",
              "    <tr>\n",
              "      <th id=\"T_a9dd8_level0_row9\" class=\"row_heading level0 row9\" >9</th>\n",
              "      <td id=\"T_a9dd8_row9_col0\" class=\"data row9 col0\" >0.45</td>\n",
              "      <td id=\"T_a9dd8_row9_col1\" class=\"data row9 col1\" >0.72</td>\n",
              "      <td id=\"T_a9dd8_row9_col2\" class=\"data row9 col2\" >0.59</td>\n",
              "      <td id=\"T_a9dd8_row9_col3\" class=\"data row9 col3\" >0.65</td>\n",
              "      <td id=\"T_a9dd8_row9_col4\" class=\"data row9 col4\" >0.72</td>\n",
              "      <td id=\"T_a9dd8_row9_col5\" class=\"data row9 col5\" >0.78</td>\n",
              "    </tr>\n",
              "    <tr>\n",
              "      <th id=\"T_a9dd8_level0_row10\" class=\"row_heading level0 row10\" >10</th>\n",
              "      <td id=\"T_a9dd8_row10_col0\" class=\"data row10 col0\" >0.50</td>\n",
              "      <td id=\"T_a9dd8_row10_col1\" class=\"data row10 col1\" >0.71</td>\n",
              "      <td id=\"T_a9dd8_row10_col2\" class=\"data row10 col2\" >0.57</td>\n",
              "      <td id=\"T_a9dd8_row10_col3\" class=\"data row10 col3\" >0.63</td>\n",
              "      <td id=\"T_a9dd8_row10_col4\" class=\"data row10 col4\" >0.71</td>\n",
              "      <td id=\"T_a9dd8_row10_col5\" class=\"data row10 col5\" >0.78</td>\n",
              "    </tr>\n",
              "    <tr>\n",
              "      <th id=\"T_a9dd8_level0_row11\" class=\"row_heading level0 row11\" >11</th>\n",
              "      <td id=\"T_a9dd8_row11_col0\" class=\"data row11 col0\" >0.55</td>\n",
              "      <td id=\"T_a9dd8_row11_col1\" class=\"data row11 col1\" >0.72</td>\n",
              "      <td id=\"T_a9dd8_row11_col2\" class=\"data row11 col2\" >0.50</td>\n",
              "      <td id=\"T_a9dd8_row11_col3\" class=\"data row11 col3\" >0.59</td>\n",
              "      <td id=\"T_a9dd8_row11_col4\" class=\"data row11 col4\" >0.70</td>\n",
              "      <td id=\"T_a9dd8_row11_col5\" class=\"data row11 col5\" >0.78</td>\n",
              "    </tr>\n",
              "    <tr>\n",
              "      <th id=\"T_a9dd8_level0_row12\" class=\"row_heading level0 row12\" >12</th>\n",
              "      <td id=\"T_a9dd8_row12_col0\" class=\"data row12 col0\" >0.60</td>\n",
              "      <td id=\"T_a9dd8_row12_col1\" class=\"data row12 col1\" >0.84</td>\n",
              "      <td id=\"T_a9dd8_row12_col2\" class=\"data row12 col2\" >0.43</td>\n",
              "      <td id=\"T_a9dd8_row12_col3\" class=\"data row12 col3\" >0.57</td>\n",
              "      <td id=\"T_a9dd8_row12_col4\" class=\"data row12 col4\" >0.72</td>\n",
              "      <td id=\"T_a9dd8_row12_col5\" class=\"data row12 col5\" >0.78</td>\n",
              "    </tr>\n",
              "    <tr>\n",
              "      <th id=\"T_a9dd8_level0_row13\" class=\"row_heading level0 row13\" >13</th>\n",
              "      <td id=\"T_a9dd8_row13_col0\" class=\"data row13 col0\" >0.65</td>\n",
              "      <td id=\"T_a9dd8_row13_col1\" class=\"data row13 col1\" >0.91</td>\n",
              "      <td id=\"T_a9dd8_row13_col2\" class=\"data row13 col2\" >0.35</td>\n",
              "      <td id=\"T_a9dd8_row13_col3\" class=\"data row13 col3\" >0.51</td>\n",
              "      <td id=\"T_a9dd8_row13_col4\" class=\"data row13 col4\" >0.70</td>\n",
              "      <td id=\"T_a9dd8_row13_col5\" class=\"data row13 col5\" >0.78</td>\n",
              "    </tr>\n",
              "    <tr>\n",
              "      <th id=\"T_a9dd8_level0_row14\" class=\"row_heading level0 row14\" >14</th>\n",
              "      <td id=\"T_a9dd8_row14_col0\" class=\"data row14 col0\" >0.70</td>\n",
              "      <td id=\"T_a9dd8_row14_col1\" class=\"data row14 col1\" >0.90</td>\n",
              "      <td id=\"T_a9dd8_row14_col2\" class=\"data row14 col2\" >0.32</td>\n",
              "      <td id=\"T_a9dd8_row14_col3\" class=\"data row14 col3\" >0.47</td>\n",
              "      <td id=\"T_a9dd8_row14_col4\" class=\"data row14 col4\" >0.69</td>\n",
              "      <td id=\"T_a9dd8_row14_col5\" class=\"data row14 col5\" >0.78</td>\n",
              "    </tr>\n",
              "    <tr>\n",
              "      <th id=\"T_a9dd8_level0_row15\" class=\"row_heading level0 row15\" >15</th>\n",
              "      <td id=\"T_a9dd8_row15_col0\" class=\"data row15 col0\" >0.75</td>\n",
              "      <td id=\"T_a9dd8_row15_col1\" class=\"data row15 col1\" >0.94</td>\n",
              "      <td id=\"T_a9dd8_row15_col2\" class=\"data row15 col2\" >0.26</td>\n",
              "      <td id=\"T_a9dd8_row15_col3\" class=\"data row15 col3\" >0.41</td>\n",
              "      <td id=\"T_a9dd8_row15_col4\" class=\"data row15 col4\" >0.67</td>\n",
              "      <td id=\"T_a9dd8_row15_col5\" class=\"data row15 col5\" >0.78</td>\n",
              "    </tr>\n",
              "    <tr>\n",
              "      <th id=\"T_a9dd8_level0_row16\" class=\"row_heading level0 row16\" >16</th>\n",
              "      <td id=\"T_a9dd8_row16_col0\" class=\"data row16 col0\" >0.80</td>\n",
              "      <td id=\"T_a9dd8_row16_col1\" class=\"data row16 col1\" >0.96</td>\n",
              "      <td id=\"T_a9dd8_row16_col2\" class=\"data row16 col2\" >0.19</td>\n",
              "      <td id=\"T_a9dd8_row16_col3\" class=\"data row16 col3\" >0.32</td>\n",
              "      <td id=\"T_a9dd8_row16_col4\" class=\"data row16 col4\" >0.65</td>\n",
              "      <td id=\"T_a9dd8_row16_col5\" class=\"data row16 col5\" >0.78</td>\n",
              "    </tr>\n",
              "    <tr>\n",
              "      <th id=\"T_a9dd8_level0_row17\" class=\"row_heading level0 row17\" >17</th>\n",
              "      <td id=\"T_a9dd8_row17_col0\" class=\"data row17 col0\" >0.85</td>\n",
              "      <td id=\"T_a9dd8_row17_col1\" class=\"data row17 col1\" >0.94</td>\n",
              "      <td id=\"T_a9dd8_row17_col2\" class=\"data row17 col2\" >0.14</td>\n",
              "      <td id=\"T_a9dd8_row17_col3\" class=\"data row17 col3\" >0.24</td>\n",
              "      <td id=\"T_a9dd8_row17_col4\" class=\"data row17 col4\" >0.62</td>\n",
              "      <td id=\"T_a9dd8_row17_col5\" class=\"data row17 col5\" >0.78</td>\n",
              "    </tr>\n",
              "    <tr>\n",
              "      <th id=\"T_a9dd8_level0_row18\" class=\"row_heading level0 row18\" >18</th>\n",
              "      <td id=\"T_a9dd8_row18_col0\" class=\"data row18 col0\" >0.90</td>\n",
              "      <td id=\"T_a9dd8_row18_col1\" class=\"data row18 col1\" >0.83</td>\n",
              "      <td id=\"T_a9dd8_row18_col2\" class=\"data row18 col2\" >0.04</td>\n",
              "      <td id=\"T_a9dd8_row18_col3\" class=\"data row18 col3\" >0.08</td>\n",
              "      <td id=\"T_a9dd8_row18_col4\" class=\"data row18 col4\" >0.58</td>\n",
              "      <td id=\"T_a9dd8_row18_col5\" class=\"data row18 col5\" >0.78</td>\n",
              "    </tr>\n",
              "    <tr>\n",
              "      <th id=\"T_a9dd8_level0_row19\" class=\"row_heading level0 row19\" >19</th>\n",
              "      <td id=\"T_a9dd8_row19_col0\" class=\"data row19 col0\" >0.95</td>\n",
              "      <td id=\"T_a9dd8_row19_col1\" class=\"data row19 col1\" >0.00</td>\n",
              "      <td id=\"T_a9dd8_row19_col2\" class=\"data row19 col2\" >0.00</td>\n",
              "      <td id=\"T_a9dd8_row19_col3\" class=\"data row19 col3\" >0.00</td>\n",
              "      <td id=\"T_a9dd8_row19_col4\" class=\"data row19 col4\" >0.57</td>\n",
              "      <td id=\"T_a9dd8_row19_col5\" class=\"data row19 col5\" >0.78</td>\n",
              "    </tr>\n",
              "    <tr>\n",
              "      <th id=\"T_a9dd8_level0_row20\" class=\"row_heading level0 row20\" >20</th>\n",
              "      <td id=\"T_a9dd8_row20_col0\" class=\"data row20 col0\" >1.00</td>\n",
              "      <td id=\"T_a9dd8_row20_col1\" class=\"data row20 col1\" >0.00</td>\n",
              "      <td id=\"T_a9dd8_row20_col2\" class=\"data row20 col2\" >0.00</td>\n",
              "      <td id=\"T_a9dd8_row20_col3\" class=\"data row20 col3\" >0.00</td>\n",
              "      <td id=\"T_a9dd8_row20_col4\" class=\"data row20 col4\" >0.57</td>\n",
              "      <td id=\"T_a9dd8_row20_col5\" class=\"data row20 col5\" >0.78</td>\n",
              "    </tr>\n",
              "  </tbody>\n",
              "</table>\n"
            ]
          },
          "metadata": {},
          "execution_count": 29
        }
      ]
    },
    {
      "cell_type": "code",
      "source": [
        "result_df"
      ],
      "metadata": {
        "id": "8gybdaCBJW9p",
        "colab": {
          "base_uri": "https://localhost:8080/",
          "height": 707
        },
        "outputId": "3fb6bce6-7afd-4967-daf7-1ce2df6b5c40"
      },
      "execution_count": null,
      "outputs": [
        {
          "output_type": "execute_result",
          "data": {
            "text/plain": [
              "    threshold  precision  recall    f1  accuracy   auc\n",
              "0        0.00       0.43    1.00  0.60      0.43  0.78\n",
              "1        0.05       0.43    1.00  0.60      0.43  0.78\n",
              "2        0.10       0.43    1.00  0.60      0.43  0.78\n",
              "3        0.15       0.44    0.99  0.61      0.44  0.78\n",
              "4        0.20       0.46    0.97  0.62      0.49  0.78\n",
              "5        0.25       0.50    0.93  0.65      0.57  0.78\n",
              "6        0.30       0.56    0.82  0.66      0.64  0.78\n",
              "7        0.35       0.62    0.75  0.68      0.69  0.78\n",
              "8        0.40       0.66    0.65  0.65      0.70  0.78\n",
              "9        0.45       0.72    0.59  0.65      0.72  0.78\n",
              "10       0.50       0.71    0.57  0.63      0.71  0.78\n",
              "11       0.55       0.72    0.50  0.59      0.70  0.78\n",
              "12       0.60       0.84    0.43  0.57      0.72  0.78\n",
              "13       0.65       0.91    0.35  0.51      0.70  0.78\n",
              "14       0.70       0.90    0.32  0.47      0.69  0.78\n",
              "15       0.75       0.94    0.26  0.41      0.67  0.78\n",
              "16       0.80       0.96    0.19  0.32      0.65  0.78\n",
              "17       0.85       0.94    0.14  0.24      0.62  0.78\n",
              "18       0.90       0.83    0.04  0.08      0.58  0.78\n",
              "19       0.95       0.00    0.00  0.00      0.57  0.78\n",
              "20       1.00       0.00    0.00  0.00      0.57  0.78"
            ],
            "text/html": [
              "\n",
              "  <div id=\"df-f3b4149b-5775-4cf4-a232-9b997f7add2f\" class=\"colab-df-container\">\n",
              "    <div>\n",
              "<style scoped>\n",
              "    .dataframe tbody tr th:only-of-type {\n",
              "        vertical-align: middle;\n",
              "    }\n",
              "\n",
              "    .dataframe tbody tr th {\n",
              "        vertical-align: top;\n",
              "    }\n",
              "\n",
              "    .dataframe thead th {\n",
              "        text-align: right;\n",
              "    }\n",
              "</style>\n",
              "<table border=\"1\" class=\"dataframe\">\n",
              "  <thead>\n",
              "    <tr style=\"text-align: right;\">\n",
              "      <th></th>\n",
              "      <th>threshold</th>\n",
              "      <th>precision</th>\n",
              "      <th>recall</th>\n",
              "      <th>f1</th>\n",
              "      <th>accuracy</th>\n",
              "      <th>auc</th>\n",
              "    </tr>\n",
              "  </thead>\n",
              "  <tbody>\n",
              "    <tr>\n",
              "      <th>0</th>\n",
              "      <td>0.00</td>\n",
              "      <td>0.43</td>\n",
              "      <td>1.00</td>\n",
              "      <td>0.60</td>\n",
              "      <td>0.43</td>\n",
              "      <td>0.78</td>\n",
              "    </tr>\n",
              "    <tr>\n",
              "      <th>1</th>\n",
              "      <td>0.05</td>\n",
              "      <td>0.43</td>\n",
              "      <td>1.00</td>\n",
              "      <td>0.60</td>\n",
              "      <td>0.43</td>\n",
              "      <td>0.78</td>\n",
              "    </tr>\n",
              "    <tr>\n",
              "      <th>2</th>\n",
              "      <td>0.10</td>\n",
              "      <td>0.43</td>\n",
              "      <td>1.00</td>\n",
              "      <td>0.60</td>\n",
              "      <td>0.43</td>\n",
              "      <td>0.78</td>\n",
              "    </tr>\n",
              "    <tr>\n",
              "      <th>3</th>\n",
              "      <td>0.15</td>\n",
              "      <td>0.44</td>\n",
              "      <td>0.99</td>\n",
              "      <td>0.61</td>\n",
              "      <td>0.44</td>\n",
              "      <td>0.78</td>\n",
              "    </tr>\n",
              "    <tr>\n",
              "      <th>4</th>\n",
              "      <td>0.20</td>\n",
              "      <td>0.46</td>\n",
              "      <td>0.97</td>\n",
              "      <td>0.62</td>\n",
              "      <td>0.49</td>\n",
              "      <td>0.78</td>\n",
              "    </tr>\n",
              "    <tr>\n",
              "      <th>5</th>\n",
              "      <td>0.25</td>\n",
              "      <td>0.50</td>\n",
              "      <td>0.93</td>\n",
              "      <td>0.65</td>\n",
              "      <td>0.57</td>\n",
              "      <td>0.78</td>\n",
              "    </tr>\n",
              "    <tr>\n",
              "      <th>6</th>\n",
              "      <td>0.30</td>\n",
              "      <td>0.56</td>\n",
              "      <td>0.82</td>\n",
              "      <td>0.66</td>\n",
              "      <td>0.64</td>\n",
              "      <td>0.78</td>\n",
              "    </tr>\n",
              "    <tr>\n",
              "      <th>7</th>\n",
              "      <td>0.35</td>\n",
              "      <td>0.62</td>\n",
              "      <td>0.75</td>\n",
              "      <td>0.68</td>\n",
              "      <td>0.69</td>\n",
              "      <td>0.78</td>\n",
              "    </tr>\n",
              "    <tr>\n",
              "      <th>8</th>\n",
              "      <td>0.40</td>\n",
              "      <td>0.66</td>\n",
              "      <td>0.65</td>\n",
              "      <td>0.65</td>\n",
              "      <td>0.70</td>\n",
              "      <td>0.78</td>\n",
              "    </tr>\n",
              "    <tr>\n",
              "      <th>9</th>\n",
              "      <td>0.45</td>\n",
              "      <td>0.72</td>\n",
              "      <td>0.59</td>\n",
              "      <td>0.65</td>\n",
              "      <td>0.72</td>\n",
              "      <td>0.78</td>\n",
              "    </tr>\n",
              "    <tr>\n",
              "      <th>10</th>\n",
              "      <td>0.50</td>\n",
              "      <td>0.71</td>\n",
              "      <td>0.57</td>\n",
              "      <td>0.63</td>\n",
              "      <td>0.71</td>\n",
              "      <td>0.78</td>\n",
              "    </tr>\n",
              "    <tr>\n",
              "      <th>11</th>\n",
              "      <td>0.55</td>\n",
              "      <td>0.72</td>\n",
              "      <td>0.50</td>\n",
              "      <td>0.59</td>\n",
              "      <td>0.70</td>\n",
              "      <td>0.78</td>\n",
              "    </tr>\n",
              "    <tr>\n",
              "      <th>12</th>\n",
              "      <td>0.60</td>\n",
              "      <td>0.84</td>\n",
              "      <td>0.43</td>\n",
              "      <td>0.57</td>\n",
              "      <td>0.72</td>\n",
              "      <td>0.78</td>\n",
              "    </tr>\n",
              "    <tr>\n",
              "      <th>13</th>\n",
              "      <td>0.65</td>\n",
              "      <td>0.91</td>\n",
              "      <td>0.35</td>\n",
              "      <td>0.51</td>\n",
              "      <td>0.70</td>\n",
              "      <td>0.78</td>\n",
              "    </tr>\n",
              "    <tr>\n",
              "      <th>14</th>\n",
              "      <td>0.70</td>\n",
              "      <td>0.90</td>\n",
              "      <td>0.32</td>\n",
              "      <td>0.47</td>\n",
              "      <td>0.69</td>\n",
              "      <td>0.78</td>\n",
              "    </tr>\n",
              "    <tr>\n",
              "      <th>15</th>\n",
              "      <td>0.75</td>\n",
              "      <td>0.94</td>\n",
              "      <td>0.26</td>\n",
              "      <td>0.41</td>\n",
              "      <td>0.67</td>\n",
              "      <td>0.78</td>\n",
              "    </tr>\n",
              "    <tr>\n",
              "      <th>16</th>\n",
              "      <td>0.80</td>\n",
              "      <td>0.96</td>\n",
              "      <td>0.19</td>\n",
              "      <td>0.32</td>\n",
              "      <td>0.65</td>\n",
              "      <td>0.78</td>\n",
              "    </tr>\n",
              "    <tr>\n",
              "      <th>17</th>\n",
              "      <td>0.85</td>\n",
              "      <td>0.94</td>\n",
              "      <td>0.14</td>\n",
              "      <td>0.24</td>\n",
              "      <td>0.62</td>\n",
              "      <td>0.78</td>\n",
              "    </tr>\n",
              "    <tr>\n",
              "      <th>18</th>\n",
              "      <td>0.90</td>\n",
              "      <td>0.83</td>\n",
              "      <td>0.04</td>\n",
              "      <td>0.08</td>\n",
              "      <td>0.58</td>\n",
              "      <td>0.78</td>\n",
              "    </tr>\n",
              "    <tr>\n",
              "      <th>19</th>\n",
              "      <td>0.95</td>\n",
              "      <td>0.00</td>\n",
              "      <td>0.00</td>\n",
              "      <td>0.00</td>\n",
              "      <td>0.57</td>\n",
              "      <td>0.78</td>\n",
              "    </tr>\n",
              "    <tr>\n",
              "      <th>20</th>\n",
              "      <td>1.00</td>\n",
              "      <td>0.00</td>\n",
              "      <td>0.00</td>\n",
              "      <td>0.00</td>\n",
              "      <td>0.57</td>\n",
              "      <td>0.78</td>\n",
              "    </tr>\n",
              "  </tbody>\n",
              "</table>\n",
              "</div>\n",
              "    <div class=\"colab-df-buttons\">\n",
              "\n",
              "  <div class=\"colab-df-container\">\n",
              "    <button class=\"colab-df-convert\" onclick=\"convertToInteractive('df-f3b4149b-5775-4cf4-a232-9b997f7add2f')\"\n",
              "            title=\"Convert this dataframe to an interactive table.\"\n",
              "            style=\"display:none;\">\n",
              "\n",
              "  <svg xmlns=\"http://www.w3.org/2000/svg\" height=\"24px\" viewBox=\"0 -960 960 960\">\n",
              "    <path d=\"M120-120v-720h720v720H120Zm60-500h600v-160H180v160Zm220 220h160v-160H400v160Zm0 220h160v-160H400v160ZM180-400h160v-160H180v160Zm440 0h160v-160H620v160ZM180-180h160v-160H180v160Zm440 0h160v-160H620v160Z\"/>\n",
              "  </svg>\n",
              "    </button>\n",
              "\n",
              "  <style>\n",
              "    .colab-df-container {\n",
              "      display:flex;\n",
              "      gap: 12px;\n",
              "    }\n",
              "\n",
              "    .colab-df-convert {\n",
              "      background-color: #E8F0FE;\n",
              "      border: none;\n",
              "      border-radius: 50%;\n",
              "      cursor: pointer;\n",
              "      display: none;\n",
              "      fill: #1967D2;\n",
              "      height: 32px;\n",
              "      padding: 0 0 0 0;\n",
              "      width: 32px;\n",
              "    }\n",
              "\n",
              "    .colab-df-convert:hover {\n",
              "      background-color: #E2EBFA;\n",
              "      box-shadow: 0px 1px 2px rgba(60, 64, 67, 0.3), 0px 1px 3px 1px rgba(60, 64, 67, 0.15);\n",
              "      fill: #174EA6;\n",
              "    }\n",
              "\n",
              "    .colab-df-buttons div {\n",
              "      margin-bottom: 4px;\n",
              "    }\n",
              "\n",
              "    [theme=dark] .colab-df-convert {\n",
              "      background-color: #3B4455;\n",
              "      fill: #D2E3FC;\n",
              "    }\n",
              "\n",
              "    [theme=dark] .colab-df-convert:hover {\n",
              "      background-color: #434B5C;\n",
              "      box-shadow: 0px 1px 3px 1px rgba(0, 0, 0, 0.15);\n",
              "      filter: drop-shadow(0px 1px 2px rgba(0, 0, 0, 0.3));\n",
              "      fill: #FFFFFF;\n",
              "    }\n",
              "  </style>\n",
              "\n",
              "    <script>\n",
              "      const buttonEl =\n",
              "        document.querySelector('#df-f3b4149b-5775-4cf4-a232-9b997f7add2f button.colab-df-convert');\n",
              "      buttonEl.style.display =\n",
              "        google.colab.kernel.accessAllowed ? 'block' : 'none';\n",
              "\n",
              "      async function convertToInteractive(key) {\n",
              "        const element = document.querySelector('#df-f3b4149b-5775-4cf4-a232-9b997f7add2f');\n",
              "        const dataTable =\n",
              "          await google.colab.kernel.invokeFunction('convertToInteractive',\n",
              "                                                    [key], {});\n",
              "        if (!dataTable) return;\n",
              "\n",
              "        const docLinkHtml = 'Like what you see? Visit the ' +\n",
              "          '<a target=\"_blank\" href=https://colab.research.google.com/notebooks/data_table.ipynb>data table notebook</a>'\n",
              "          + ' to learn more about interactive tables.';\n",
              "        element.innerHTML = '';\n",
              "        dataTable['output_type'] = 'display_data';\n",
              "        await google.colab.output.renderOutput(dataTable, element);\n",
              "        const docLink = document.createElement('div');\n",
              "        docLink.innerHTML = docLinkHtml;\n",
              "        element.appendChild(docLink);\n",
              "      }\n",
              "    </script>\n",
              "  </div>\n",
              "\n",
              "\n",
              "    <div id=\"df-e0ffe51c-1dea-4ea2-bbe7-25507f721c9e\">\n",
              "      <button class=\"colab-df-quickchart\" onclick=\"quickchart('df-e0ffe51c-1dea-4ea2-bbe7-25507f721c9e')\"\n",
              "                title=\"Suggest charts\"\n",
              "                style=\"display:none;\">\n",
              "\n",
              "<svg xmlns=\"http://www.w3.org/2000/svg\" height=\"24px\"viewBox=\"0 0 24 24\"\n",
              "     width=\"24px\">\n",
              "    <g>\n",
              "        <path d=\"M19 3H5c-1.1 0-2 .9-2 2v14c0 1.1.9 2 2 2h14c1.1 0 2-.9 2-2V5c0-1.1-.9-2-2-2zM9 17H7v-7h2v7zm4 0h-2V7h2v10zm4 0h-2v-4h2v4z\"/>\n",
              "    </g>\n",
              "</svg>\n",
              "      </button>\n",
              "\n",
              "<style>\n",
              "  .colab-df-quickchart {\n",
              "      --bg-color: #E8F0FE;\n",
              "      --fill-color: #1967D2;\n",
              "      --hover-bg-color: #E2EBFA;\n",
              "      --hover-fill-color: #174EA6;\n",
              "      --disabled-fill-color: #AAA;\n",
              "      --disabled-bg-color: #DDD;\n",
              "  }\n",
              "\n",
              "  [theme=dark] .colab-df-quickchart {\n",
              "      --bg-color: #3B4455;\n",
              "      --fill-color: #D2E3FC;\n",
              "      --hover-bg-color: #434B5C;\n",
              "      --hover-fill-color: #FFFFFF;\n",
              "      --disabled-bg-color: #3B4455;\n",
              "      --disabled-fill-color: #666;\n",
              "  }\n",
              "\n",
              "  .colab-df-quickchart {\n",
              "    background-color: var(--bg-color);\n",
              "    border: none;\n",
              "    border-radius: 50%;\n",
              "    cursor: pointer;\n",
              "    display: none;\n",
              "    fill: var(--fill-color);\n",
              "    height: 32px;\n",
              "    padding: 0;\n",
              "    width: 32px;\n",
              "  }\n",
              "\n",
              "  .colab-df-quickchart:hover {\n",
              "    background-color: var(--hover-bg-color);\n",
              "    box-shadow: 0 1px 2px rgba(60, 64, 67, 0.3), 0 1px 3px 1px rgba(60, 64, 67, 0.15);\n",
              "    fill: var(--button-hover-fill-color);\n",
              "  }\n",
              "\n",
              "  .colab-df-quickchart-complete:disabled,\n",
              "  .colab-df-quickchart-complete:disabled:hover {\n",
              "    background-color: var(--disabled-bg-color);\n",
              "    fill: var(--disabled-fill-color);\n",
              "    box-shadow: none;\n",
              "  }\n",
              "\n",
              "  .colab-df-spinner {\n",
              "    border: 2px solid var(--fill-color);\n",
              "    border-color: transparent;\n",
              "    border-bottom-color: var(--fill-color);\n",
              "    animation:\n",
              "      spin 1s steps(1) infinite;\n",
              "  }\n",
              "\n",
              "  @keyframes spin {\n",
              "    0% {\n",
              "      border-color: transparent;\n",
              "      border-bottom-color: var(--fill-color);\n",
              "      border-left-color: var(--fill-color);\n",
              "    }\n",
              "    20% {\n",
              "      border-color: transparent;\n",
              "      border-left-color: var(--fill-color);\n",
              "      border-top-color: var(--fill-color);\n",
              "    }\n",
              "    30% {\n",
              "      border-color: transparent;\n",
              "      border-left-color: var(--fill-color);\n",
              "      border-top-color: var(--fill-color);\n",
              "      border-right-color: var(--fill-color);\n",
              "    }\n",
              "    40% {\n",
              "      border-color: transparent;\n",
              "      border-right-color: var(--fill-color);\n",
              "      border-top-color: var(--fill-color);\n",
              "    }\n",
              "    60% {\n",
              "      border-color: transparent;\n",
              "      border-right-color: var(--fill-color);\n",
              "    }\n",
              "    80% {\n",
              "      border-color: transparent;\n",
              "      border-right-color: var(--fill-color);\n",
              "      border-bottom-color: var(--fill-color);\n",
              "    }\n",
              "    90% {\n",
              "      border-color: transparent;\n",
              "      border-bottom-color: var(--fill-color);\n",
              "    }\n",
              "  }\n",
              "</style>\n",
              "\n",
              "      <script>\n",
              "        async function quickchart(key) {\n",
              "          const quickchartButtonEl =\n",
              "            document.querySelector('#' + key + ' button');\n",
              "          quickchartButtonEl.disabled = true;  // To prevent multiple clicks.\n",
              "          quickchartButtonEl.classList.add('colab-df-spinner');\n",
              "          try {\n",
              "            const charts = await google.colab.kernel.invokeFunction(\n",
              "                'suggestCharts', [key], {});\n",
              "          } catch (error) {\n",
              "            console.error('Error during call to suggestCharts:', error);\n",
              "          }\n",
              "          quickchartButtonEl.classList.remove('colab-df-spinner');\n",
              "          quickchartButtonEl.classList.add('colab-df-quickchart-complete');\n",
              "        }\n",
              "        (() => {\n",
              "          let quickchartButtonEl =\n",
              "            document.querySelector('#df-e0ffe51c-1dea-4ea2-bbe7-25507f721c9e button');\n",
              "          quickchartButtonEl.style.display =\n",
              "            google.colab.kernel.accessAllowed ? 'block' : 'none';\n",
              "        })();\n",
              "      </script>\n",
              "    </div>\n",
              "\n",
              "  <div id=\"id_0ade9bca-aaae-48a1-acc6-3953233f9b3a\">\n",
              "    <style>\n",
              "      .colab-df-generate {\n",
              "        background-color: #E8F0FE;\n",
              "        border: none;\n",
              "        border-radius: 50%;\n",
              "        cursor: pointer;\n",
              "        display: none;\n",
              "        fill: #1967D2;\n",
              "        height: 32px;\n",
              "        padding: 0 0 0 0;\n",
              "        width: 32px;\n",
              "      }\n",
              "\n",
              "      .colab-df-generate:hover {\n",
              "        background-color: #E2EBFA;\n",
              "        box-shadow: 0px 1px 2px rgba(60, 64, 67, 0.3), 0px 1px 3px 1px rgba(60, 64, 67, 0.15);\n",
              "        fill: #174EA6;\n",
              "      }\n",
              "\n",
              "      [theme=dark] .colab-df-generate {\n",
              "        background-color: #3B4455;\n",
              "        fill: #D2E3FC;\n",
              "      }\n",
              "\n",
              "      [theme=dark] .colab-df-generate:hover {\n",
              "        background-color: #434B5C;\n",
              "        box-shadow: 0px 1px 3px 1px rgba(0, 0, 0, 0.15);\n",
              "        filter: drop-shadow(0px 1px 2px rgba(0, 0, 0, 0.3));\n",
              "        fill: #FFFFFF;\n",
              "      }\n",
              "    </style>\n",
              "    <button class=\"colab-df-generate\" onclick=\"generateWithVariable('result_df')\"\n",
              "            title=\"Generate code using this dataframe.\"\n",
              "            style=\"display:none;\">\n",
              "\n",
              "  <svg xmlns=\"http://www.w3.org/2000/svg\" height=\"24px\"viewBox=\"0 0 24 24\"\n",
              "       width=\"24px\">\n",
              "    <path d=\"M7,19H8.4L18.45,9,17,7.55,7,17.6ZM5,21V16.75L18.45,3.32a2,2,0,0,1,2.83,0l1.4,1.43a1.91,1.91,0,0,1,.58,1.4,1.91,1.91,0,0,1-.58,1.4L9.25,21ZM18.45,9,17,7.55Zm-12,3A5.31,5.31,0,0,0,4.9,8.1,5.31,5.31,0,0,0,1,6.5,5.31,5.31,0,0,0,4.9,4.9,5.31,5.31,0,0,0,6.5,1,5.31,5.31,0,0,0,8.1,4.9,5.31,5.31,0,0,0,12,6.5,5.46,5.46,0,0,0,6.5,12Z\"/>\n",
              "  </svg>\n",
              "    </button>\n",
              "    <script>\n",
              "      (() => {\n",
              "      const buttonEl =\n",
              "        document.querySelector('#id_0ade9bca-aaae-48a1-acc6-3953233f9b3a button.colab-df-generate');\n",
              "      buttonEl.style.display =\n",
              "        google.colab.kernel.accessAllowed ? 'block' : 'none';\n",
              "\n",
              "      buttonEl.onclick = () => {\n",
              "        google.colab.notebook.generateWithVariable('result_df');\n",
              "      }\n",
              "      })();\n",
              "    </script>\n",
              "  </div>\n",
              "\n",
              "    </div>\n",
              "  </div>\n"
            ],
            "application/vnd.google.colaboratory.intrinsic+json": {
              "type": "dataframe",
              "variable_name": "result_df",
              "summary": "{\n  \"name\": \"result_df\",\n  \"rows\": 21,\n  \"fields\": [\n    {\n      \"column\": \"threshold\",\n      \"properties\": {\n        \"dtype\": \"number\",\n        \"std\": 0.3102418411497714,\n        \"min\": 0.0,\n        \"max\": 1.0,\n        \"num_unique_values\": 21,\n        \"samples\": [\n          0.0,\n          0.85,\n          0.75\n        ],\n        \"semantic_type\": \"\",\n        \"description\": \"\"\n      }\n    },\n    {\n      \"column\": \"precision\",\n      \"properties\": {\n        \"dtype\": \"number\",\n        \"std\": 0.27912192249812195,\n        \"min\": 0.0,\n        \"max\": 0.96,\n        \"num_unique_values\": 16,\n        \"samples\": [\n          0.43,\n          0.44,\n          0.62\n        ],\n        \"semantic_type\": \"\",\n        \"description\": \"\"\n      }\n    },\n    {\n      \"column\": \"recall\",\n      \"properties\": {\n        \"dtype\": \"number\",\n        \"std\": 0.3607894782543521,\n        \"min\": 0.0,\n        \"max\": 1.0,\n        \"num_unique_values\": 18,\n        \"samples\": [\n          1.0,\n          0.99,\n          0.57\n        ],\n        \"semantic_type\": \"\",\n        \"description\": \"\"\n      }\n    },\n    {\n      \"column\": \"f1\",\n      \"properties\": {\n        \"dtype\": \"number\",\n        \"std\": 0.22262396225794873,\n        \"min\": 0.0,\n        \"max\": 0.68,\n        \"num_unique_values\": 16,\n        \"samples\": [\n          0.6,\n          0.61,\n          0.68\n        ],\n        \"semantic_type\": \"\",\n        \"description\": \"\"\n      }\n    },\n    {\n      \"column\": \"accuracy\",\n      \"properties\": {\n        \"dtype\": \"number\",\n        \"std\": 0.10566794351038675,\n        \"min\": 0.43,\n        \"max\": 0.72,\n        \"num_unique_values\": 13,\n        \"samples\": [\n          0.62,\n          0.67,\n          0.43\n        ],\n        \"semantic_type\": \"\",\n        \"description\": \"\"\n      }\n    },\n    {\n      \"column\": \"auc\",\n      \"properties\": {\n        \"dtype\": \"number\",\n        \"std\": 2.275280134513746e-16,\n        \"min\": 0.78,\n        \"max\": 0.78,\n        \"num_unique_values\": 1,\n        \"samples\": [\n          0.78\n        ],\n        \"semantic_type\": \"\",\n        \"description\": \"\"\n      }\n    }\n  ]\n}"
            }
          },
          "metadata": {},
          "execution_count": 30
        }
      ]
    },
    {
      "cell_type": "markdown",
      "source": [
        "###My results\n",
        "\n",
        "Not great compared to last chapter. But really need to tune to get better picture. We will do that in next chapter.\n",
        "\n",
        "<img src='' height=400>"
      ],
      "metadata": {
        "id": "YLwmhIaRr2yc"
      }
    },
    {
      "cell_type": "markdown",
      "source": [
        "##Saving and loading for future reference\n",
        "\n",
        "Code below is just to show you you can  save and load your ANN models. Next chapter will do it for real."
      ],
      "metadata": {
        "id": "nRGALg3WSgyp"
      }
    },
    {
      "cell_type": "code",
      "source": [
        "ann_model.save('my_model.keras')\n",
        "\n",
        "model2 = tf.keras.models.load_model('my_model.keras') #load back in"
      ],
      "metadata": {
        "id": "0b9TFiAwLktf"
      },
      "execution_count": null,
      "outputs": []
    },
    {
      "cell_type": "code",
      "source": [
        "ypos = model2.predict(x_test)[:,0]\n",
        "ypos[:5]  #[0.60781306, 0.7760794 , 0.8345735 , 0.24593781, 0.28484714] - matches original"
      ],
      "metadata": {
        "id": "IyNskcElX3Fr",
        "colab": {
          "base_uri": "https://localhost:8080/"
        },
        "outputId": "bd7cdab1-836b-4573-e4f4-b80690ff9c93"
      },
      "execution_count": null,
      "outputs": [
        {
          "output_type": "stream",
          "name": "stdout",
          "text": [
            "\u001b[1m9/9\u001b[0m \u001b[32m━━━━━━━━━━━━━━━━━━━━\u001b[0m\u001b[37m\u001b[0m \u001b[1m0s\u001b[0m 7ms/step \n"
          ]
        },
        {
          "output_type": "execute_result",
          "data": {
            "text/plain": [
              "array([0.60781306, 0.7760794 , 0.8345735 , 0.24593781, 0.28484714],\n",
              "      dtype=float32)"
            ]
          },
          "metadata": {},
          "execution_count": 32
        }
      ]
    },
    {
      "cell_type": "markdown",
      "metadata": {
        "id": "P49357M2GqES"
      },
      "source": [
        "#VIII. Dropout\n",
        "\n",
        "Even though I commented it out, it is an interesting idea. In an attempt to avoid a network overfitting, and making it more resilient, you can add a layer that  randomly \"turns off\" some percentage of nodes in the upstream layer (!) Check this out:\n",
        "\n",
        "<img src='https://miro.medium.com/max/518/0*EY8R7nS10y5kQzOx'>\n",
        "\n",
        "The consequence is that by turning off the output of a node (shown as red), we in essence come up with a new network missing that node. This is taken care of behind the scenes. The result is we train N separate networks. Kind of wild.\n",
        "\n",
        "Notice I can also turn off input nodes. So eliminating a feature in a row. Maybe this is the most obvious case of resiliency. The network cannot rely solely on one or two features of a row; they may be dropped out. It has to adapt to use all the features. I decided not to do this given our already small set of features: 6.\n",
        "\n",
        "When training is over, actual testing removes the dropout layers so you get the full model back.\n",
        "\n",
        "This has proven quite powerful. It forces the network to be resilient.\n",
        "\n",
        "###Relation to neuroscience\n",
        "\n",
        "I've seen at least one paper that claims to find the use of dropout in an ANN as similar to results from brain study: https://www.frontiersin.org/articles/10.3389/fnagi.2020.00273/full.\n",
        "\n",
        "###Problems in Tensorflow\n",
        "\n",
        "It introduces uncontrollable nondeterminism. Hence, you cannot get replicable results on repeated runs. I see no real barrier to the Tensorflow developers fixing this. They just have not yet."
      ]
    },
    {
      "cell_type": "markdown",
      "source": [
        "#Challenges\n",
        "\n",
        "I'm going to give you a set of challenges to build a feedforward network then try it out on a couple of examples.\n",
        "\n",
        "Here is test network to play with.\n",
        "\n",
        "<img src='https://codingvision.net/imgs/posts/c-backpropagation-tutorial-xor/1.png'>"
      ],
      "metadata": {
        "id": "OadUMIk4J4gA"
      }
    },
    {
      "cell_type": "markdown",
      "source": [
        "##Just as an aside\n",
        "\n",
        "We can train this model to learn the XOR function.\n",
        "\n",
        "<img src='https://www.dropbox.com/s/oeud4lstd84l88d/Screenshot%202020-02-21%2013.27.25.png?raw=1' height=300>\n",
        "\n",
        "You can see that no linear solution is going to work. I think it is kind of cool that a simple net like this can learn XOR."
      ],
      "metadata": {
        "id": "nkOJglKo11hi"
      }
    },
    {
      "cell_type": "markdown",
      "source": [
        "###Let's add some weights\n",
        "\n",
        "Note that I am using a uniform random distribution to set weights. In the next chapter, we will see there are more sophisticated algorithms for initializing the weights."
      ],
      "metadata": {
        "id": "ZIKvYFJe3AyK"
      }
    },
    {
      "cell_type": "code",
      "source": [
        "np.random.seed(seed=1234)  #so we will get same random numbers\n",
        "hidden1 = list(np.random.uniform(-1,1,2))  #create list of 2 random items with uniform distribution between -1 and 1\n",
        "hidden2 = list(np.random.uniform(-1,1,2))  #ditto\n",
        "output = list(np.random.uniform(-1,1,2))   #ditto"
      ],
      "metadata": {
        "id": "WGj2NO4TL_eL"
      },
      "execution_count": null,
      "outputs": []
    },
    {
      "cell_type": "code",
      "metadata": {
        "id": "6l7ig1OTMcuC",
        "colab": {
          "base_uri": "https://localhost:8080/"
        },
        "outputId": "1a9afb97-640c-4beb-aac5-52431036f5e1"
      },
      "source": [
        "hidden1  #W11 and W21  [-0.6169610992422154, 0.24421754207966373]"
      ],
      "execution_count": null,
      "outputs": [
        {
          "output_type": "execute_result",
          "data": {
            "text/plain": [
              "[np.float64(-0.6169610992422154), np.float64(0.24421754207966373)]"
            ]
          },
          "metadata": {},
          "execution_count": 34
        }
      ]
    },
    {
      "cell_type": "code",
      "metadata": {
        "id": "Z7iy24loMcuD",
        "colab": {
          "base_uri": "https://localhost:8080/"
        },
        "outputId": "2c569c43-2555-4fb3-f222-42af8aeed888"
      },
      "source": [
        "hidden2  #W12 and W22  [-0.12454452198577104, 0.5707171674275384]"
      ],
      "execution_count": null,
      "outputs": [
        {
          "output_type": "execute_result",
          "data": {
            "text/plain": [
              "[np.float64(-0.12454452198577104), np.float64(0.5707171674275384)]"
            ]
          },
          "metadata": {},
          "execution_count": 35
        }
      ]
    },
    {
      "cell_type": "code",
      "source": [
        "output  #w13 and w23  [0.559951616237607, -0.45481478943471676]"
      ],
      "metadata": {
        "id": "oWEXQkJMMq0P",
        "colab": {
          "base_uri": "https://localhost:8080/"
        },
        "outputId": "ad169e75-8983-4957-baaf-434c4a856595"
      },
      "execution_count": null,
      "outputs": [
        {
          "output_type": "execute_result",
          "data": {
            "text/plain": [
              "[np.float64(0.559951616237607), np.float64(-0.45481478943471676)]"
            ]
          },
          "metadata": {},
          "execution_count": 36
        }
      ]
    },
    {
      "cell_type": "code",
      "metadata": {
        "id": "qwGcKwuPNFrW"
      },
      "source": [
        "test_network = [\n",
        "    # hidden layer\n",
        "    [hidden1, # weights for hidden node 1 = [w11,w21]\n",
        "     hidden2], # weights for hidden node 2 = [w12,w22]\n",
        "   # output layer\n",
        "   [output]]  # w13 and w23 - notice not output but [output], i.e., a list\n"
      ],
      "execution_count": null,
      "outputs": []
    },
    {
      "cell_type": "markdown",
      "metadata": {
        "id": "hj5vnvirNFrX"
      },
      "source": [
        "###Why is `output` a list?\n",
        "\n",
        "The output layer only has one node. Why put it in a list, i.e., `[output]`?\n",
        "\n",
        "Because the output layer can have one **or more** nodes. If you are classifying 3 things, it might have 3 nodes."
      ]
    },
    {
      "cell_type": "code",
      "metadata": {
        "id": "XwYR3ci1NFrX",
        "colab": {
          "base_uri": "https://localhost:8080/"
        },
        "outputId": "c7e2c0fb-8baf-445c-f49d-f54468904699"
      },
      "source": [
        "len(test_network)  #2 and not 3. Hidden layers are in their own nested list"
      ],
      "execution_count": null,
      "outputs": [
        {
          "output_type": "execute_result",
          "data": {
            "text/plain": [
              "2"
            ]
          },
          "metadata": {},
          "execution_count": 38
        }
      ]
    },
    {
      "cell_type": "code",
      "metadata": {
        "id": "BIBXiQpDNFrX",
        "colab": {
          "base_uri": "https://localhost:8080/"
        },
        "outputId": "9300c0b3-9f26-44ee-ca8b-b2da68d0219e"
      },
      "source": [
        "test_network"
      ],
      "execution_count": null,
      "outputs": [
        {
          "output_type": "execute_result",
          "data": {
            "text/plain": [
              "[[[np.float64(-0.6169610992422154), np.float64(0.24421754207966373)],\n",
              "  [np.float64(-0.12454452198577104), np.float64(0.5707171674275384)]],\n",
              " [[np.float64(0.559951616237607), np.float64(-0.45481478943471676)]]]"
            ]
          },
          "metadata": {},
          "execution_count": 39
        }
      ]
    },
    {
      "cell_type": "markdown",
      "metadata": {
        "id": "uKYNHAcTNFrX"
      },
      "source": [
        "Here it is in relation to our diagram.\n",
        "\n",
        "<img src='https://www.dropbox.com/s/a8s43c314op5qg8/Screenshot%202020-05-13%2015.11.06.png?raw=1' height=500>"
      ]
    },
    {
      "cell_type": "markdown",
      "metadata": {
        "id": "YPMRqFnFNFrX"
      },
      "source": [
        "##Did you notice anything interesting?\n",
        "\n",
        "The entire network is now represented as a list of lists. No nodes. No lines. Just lists of weights."
      ]
    },
    {
      "cell_type": "markdown",
      "metadata": {
        "id": "Gp4w4plKnWbj"
      },
      "source": [
        "#Challenge 1\n",
        "\n",
        "Define `sigmoid` and `relu` functions."
      ]
    },
    {
      "cell_type": "code",
      "metadata": {
        "id": "rSiFpUSDnZnG"
      },
      "source": [
        "import math\n",
        "def sigmoid(z):\n",
        "  return 1 / (1 + math.exp(-z))"
      ],
      "execution_count": null,
      "outputs": []
    },
    {
      "cell_type": "code",
      "metadata": {
        "id": "ld_dZAc3nZnG"
      },
      "source": [
        "assert sigmoid(-0.155) == 0.46132739479349205"
      ],
      "execution_count": null,
      "outputs": []
    },
    {
      "cell_type": "code",
      "metadata": {
        "id": "zJh6rnbonZnH"
      },
      "source": [
        "def relu(z):\n",
        "  return max(0,z)"
      ],
      "execution_count": null,
      "outputs": []
    },
    {
      "cell_type": "code",
      "metadata": {
        "id": "RX4_QBZLnjQr"
      },
      "source": [
        "assert relu(-.002) == 0.0"
      ],
      "execution_count": null,
      "outputs": []
    },
    {
      "cell_type": "code",
      "source": [
        "assert relu(.002)  == 0.002"
      ],
      "metadata": {
        "id": "bC0o1gcTE3kA"
      },
      "execution_count": null,
      "outputs": []
    },
    {
      "cell_type": "markdown",
      "metadata": {
        "id": "FkdgcKIJOgUx"
      },
      "source": [
        "#Challenge 2\n",
        "\n",
        "Define a function that implements a neuron.\n",
        "\n",
        "Note that I am requiring all parameters to be keyword by adding `*` in front."
      ]
    },
    {
      "cell_type": "code",
      "metadata": {
        "id": "34vgK1uPp5-5"
      },
      "source": [
        "def neuron_output(*, inputs, weights, af=relu):\n",
        "  assert isinstance(weights, list), f'weights should be a list but is instead a {type(weights)}'\n",
        "  assert isinstance(inputs, list), f'inputs should be a list but is instead a {type(inputs)}'\n",
        "  assert len(weights) == len(inputs), f'weights and inputs should be the same length, but are {len(weights)} and {len(inputs)}'\n",
        "  assert callable(af), f'af must be a function but is instead {type(af)}'\n",
        "  return af(np.dot(inputs, weights))\n"
      ],
      "execution_count": null,
      "outputs": []
    },
    {
      "cell_type": "markdown",
      "source": [
        "##Test"
      ],
      "metadata": {
        "id": "lxlkh3RwGKiM"
      }
    },
    {
      "cell_type": "code",
      "source": [
        "assert neuron_output(inputs=[1,1], weights=hidden1)  == 0.0"
      ],
      "metadata": {
        "id": "Kj3zw3UAFEr1"
      },
      "execution_count": null,
      "outputs": []
    },
    {
      "cell_type": "code",
      "source": [
        "assert neuron_output(inputs=[1,3], weights=hidden1)  == 0.11569152699677576"
      ],
      "metadata": {
        "id": "v-vVFPP7GDid"
      },
      "execution_count": null,
      "outputs": []
    },
    {
      "cell_type": "code",
      "source": [
        "assert neuron_output(inputs=[1,1], weights=hidden2)  == 0.4461726454417674\n"
      ],
      "metadata": {
        "id": "U4Tp2Z97F60d"
      },
      "execution_count": null,
      "outputs": []
    },
    {
      "cell_type": "markdown",
      "metadata": {
        "id": "Y5m3-0BZzNNF"
      },
      "source": [
        "#Challenge 3\n",
        "\n",
        "We already have the `neuron_output` function. So use it to get the values for all the nodes in a layer and put them in a list. That list is the layer output, a value for each node in the layer."
      ]
    },
    {
      "cell_type": "code",
      "metadata": {
        "id": "2SGCyT1GjNPO"
      },
      "source": [
        " def layer_output(*, inputs, layer, af=relu):\n",
        "  assert isinstance(layer, list), f'layer must be a list but is a {type(layer)}'\n",
        "  assert all([isinstance(item, list) for item in layer]), f'layer must be a list of lists'\n",
        "  assert isinstance(inputs, list), f'inputs must be a list but is a {type(inputs)}'\n",
        "  assert callable(af)\n",
        "\n",
        "  #get the value for each node in layer and put in new list - use list comprehension\n",
        "  return [neuron_output(inputs=inputs, weights=node, af=af) for node in layer]"
      ],
      "execution_count": null,
      "outputs": []
    },
    {
      "cell_type": "markdown",
      "source": [
        "##Test"
      ],
      "metadata": {
        "id": "iu38loKlHZIR"
      }
    },
    {
      "cell_type": "code",
      "metadata": {
        "id": "-ccxl6lylGpA",
        "colab": {
          "base_uri": "https://localhost:8080/"
        },
        "outputId": "6b8caa8c-3c77-4730-e9c0-dc9169de90ac"
      },
      "source": [
        "layer1 = test_network[0]  #first hidden layer\n",
        "layer1"
      ],
      "execution_count": null,
      "outputs": [
        {
          "output_type": "execute_result",
          "data": {
            "text/plain": [
              "[[np.float64(-0.6169610992422154), np.float64(0.24421754207966373)],\n",
              " [np.float64(-0.12454452198577104), np.float64(0.5707171674275384)]]"
            ]
          },
          "metadata": {},
          "execution_count": 108
        }
      ]
    },
    {
      "cell_type": "markdown",
      "source": [
        "<pre>\n",
        "[[-0.6169610992422154, 0.24421754207966373],\n",
        " [-0.12454452198577104, 0.5707171674275384]]\n",
        " </pre>"
      ],
      "metadata": {
        "id": "Y4iG3VpW30Mf"
      }
    },
    {
      "cell_type": "markdown",
      "metadata": {
        "id": "WJ6cx5hqPq1k"
      },
      "source": [
        "So layer has list of 2 weights for hidden1 and list of 2 weights for hidden2. They are the 2 nodes in the layer."
      ]
    },
    {
      "cell_type": "markdown",
      "metadata": {
        "id": "9SPy-pPN0LzE"
      },
      "source": [
        "Now produce the output for the first layer."
      ]
    },
    {
      "cell_type": "code",
      "metadata": {
        "id": "C0Gs2c-lkjg8",
        "colab": {
          "base_uri": "https://localhost:8080/"
        },
        "outputId": "07eb88d2-4baa-4d48-b9a8-f9cd1e2534cb"
      },
      "source": [
        "hidden1_output = layer_output(inputs=[1,3], layer=layer1)\n",
        "hidden1_output  #[0.11569152699677576, 1.5876069802968442]"
      ],
      "execution_count": null,
      "outputs": [
        {
          "output_type": "execute_result",
          "data": {
            "text/plain": [
              "[np.float64(0.11569152699677576), np.float64(1.5876069802968442)]"
            ]
          },
          "metadata": {},
          "execution_count": 109
        }
      ]
    },
    {
      "cell_type": "markdown",
      "metadata": {
        "id": "iLgQJXHq0R9h"
      },
      "source": [
        "There are 2 nodes in the hidden layer so we get an output from each. Here is a picture.\n",
        "\n",
        "<img src='https://www.dropbox.com/s/mbnbw3s3sdp4tnj/Screen%20Shot%202021-05-05%20at%208.20.00%20AM.png?raw=1' height=200>\n",
        "\n",
        "Now here is the cool part. We take the output and make it the input to the 2nd layer, i.e., the output layer.\n",
        "\n",
        "<img src='https://www.dropbox.com/s/6tvf33ezo2g7k6i/Screen%20Shot%202021-05-05%20at%208.23.11%20AM.png?raw=1' height=200>"
      ]
    },
    {
      "cell_type": "code",
      "metadata": {
        "id": "vsJa0JFTmFh3",
        "colab": {
          "base_uri": "https://localhost:8080/"
        },
        "outputId": "08eea81c-71a4-4d6e-9aec-1cac2473f7be"
      },
      "source": [
        "input_vector = hidden1_output  #tricky - taking output and making it new input!\n",
        "layer2 = test_network[1]  #next layer, i.e., output layer\n",
        "layer2  #[[0.559951616237607, -0.45481478943471676]]"
      ],
      "execution_count": null,
      "outputs": [
        {
          "output_type": "execute_result",
          "data": {
            "text/plain": [
              "[[np.float64(0.559951616237607), np.float64(-0.45481478943471676)]]"
            ]
          },
          "metadata": {},
          "execution_count": 110
        }
      ]
    },
    {
      "cell_type": "markdown",
      "metadata": {
        "id": "iqWxrb9o1Mos"
      },
      "source": [
        "Now ready to produce next output, which is the actual output of the entire network!"
      ]
    },
    {
      "cell_type": "code",
      "metadata": {
        "id": "hUOxIUBKlsKN",
        "colab": {
          "base_uri": "https://localhost:8080/"
        },
        "outputId": "e39f856d-8a22-4475-bd00-28d64b57b906"
      },
      "source": [
        "output = layer_output(inputs=input_vector, layer=layer2, af=sigmoid)\n",
        "output  #[0.34134965486093866]"
      ],
      "execution_count": null,
      "outputs": [
        {
          "output_type": "execute_result",
          "data": {
            "text/plain": [
              "[0.34134965486093866]"
            ]
          },
          "metadata": {},
          "execution_count": 111
        }
      ]
    },
    {
      "cell_type": "markdown",
      "metadata": {
        "id": "SmvUgoIlJM8G"
      },
      "source": [
        "#Challenge 4\n",
        "\n",
        "Create the full feedforward function. Should only need calls on `layer_output` at this point.\n",
        "\n",
        "I needed one non-nested loop."
      ]
    },
    {
      "cell_type": "code",
      "metadata": {
        "id": "8gweFMWkpQe0"
      },
      "source": [
        "def feed_forward(*, neural_network, input_vector):\n",
        "  # process hidden layer(s) one layer at a time\n",
        "  # slide left to right\n",
        "\n",
        "  for layer in neural_network[:-1]:  #all but last layer\n",
        "    input_vector = layer_output(inputs=input_vector, layer=layer)\n",
        "\n",
        "  #output layer is last layer and uses sigmoid\n",
        "  output_layer = neural_network[-1]\n",
        "  return layer_output(inputs=input_vector, layer=output_layer, af=sigmoid)\n"
      ],
      "execution_count": null,
      "outputs": []
    },
    {
      "cell_type": "markdown",
      "metadata": {
        "id": "NodWkqoV2WbN"
      },
      "source": [
        "Try it out."
      ]
    },
    {
      "cell_type": "code",
      "metadata": {
        "id": "VsbSc85H2Ypa",
        "colab": {
          "base_uri": "https://localhost:8080/"
        },
        "outputId": "e2f707b6-3c20-4b61-ef8e-9c90716ec11b"
      },
      "source": [
        "raw_prediction = feed_forward(neural_network=test_network, input_vector=[1,3])\n",
        "raw_prediction  #[0.34134965486093866] - same as in challenge 3\n"
      ],
      "execution_count": null,
      "outputs": [
        {
          "output_type": "execute_result",
          "data": {
            "text/plain": [
              "[0.34134965486093866]"
            ]
          },
          "metadata": {},
          "execution_count": 121
        }
      ]
    },
    {
      "cell_type": "code",
      "metadata": {
        "id": "YRMdl5goJYGk",
        "colab": {
          "base_uri": "https://localhost:8080/"
        },
        "outputId": "c152f633-0b6e-4daf-bb87-c5bde4fc4839"
      },
      "source": [
        "raw_prediction = feed_forward(neural_network=test_network, input_vector=[0,0])\n",
        "raw_prediction  #[0.5]\n"
      ],
      "execution_count": null,
      "outputs": [
        {
          "output_type": "execute_result",
          "data": {
            "text/plain": [
              "[0.5]"
            ]
          },
          "metadata": {},
          "execution_count": 122
        }
      ]
    },
    {
      "cell_type": "markdown",
      "source": [
        "#Challenge 5\n",
        "\n",
        "Try it out on a new network."
      ],
      "metadata": {
        "id": "bvn1VGgzPuFQ"
      }
    },
    {
      "cell_type": "code",
      "source": [
        "np.random.seed(seed=1234)\n",
        "#hidden layer 1\n",
        "hidden1_1 = list(np.random.uniform(-1,1,2))  #create list of 2 random items with uniform distribution between -1 and 1\n",
        "hidden1_2 = list(np.random.uniform(-1,1,2))  #ditto\n",
        "hidden1_3 = list(np.random.uniform(-1,1,2))  #ditto\n",
        "#hidden layer 2\n",
        "hidden2_1 = list(np.random.uniform(-1,1,3))  #create list of 3 random items with uniform distribution between -1 and 1\n",
        "hidden2_2 = list(np.random.uniform(-1,1,3))  #ditto\n",
        "#output\n",
        "output = list(np.random.uniform(-1,1,2))   #back to 2 random items"
      ],
      "metadata": {
        "id": "DM912haeP5pF"
      },
      "execution_count": null,
      "outputs": []
    },
    {
      "cell_type": "code",
      "metadata": {
        "id": "MgnEaLDUP5pG"
      },
      "source": [
        "test_network2 = [\n",
        "    # hidden layer 1 with 3 nodes\n",
        "    [hidden1_1, hidden1_2, hidden1_3],\n",
        "    # hidden layer 2 with 2 nodes\n",
        "    [hidden2_1, hidden2_2],\n",
        "   # output layer\n",
        "   [output]]\n"
      ],
      "execution_count": null,
      "outputs": []
    },
    {
      "cell_type": "code",
      "metadata": {
        "id": "uXpBSOolRbl_",
        "colab": {
          "base_uri": "https://localhost:8080/"
        },
        "outputId": "9dcaf66c-ec93-4b4d-dff9-9abd889ff653"
      },
      "source": [
        "raw_prediction = feed_forward(neural_network=test_network2, input_vector=[1,3])\n",
        "raw_prediction  #[0.5824218686667751]\n"
      ],
      "execution_count": null,
      "outputs": [
        {
          "output_type": "execute_result",
          "data": {
            "text/plain": [
              "[0.5824218686667751]"
            ]
          },
          "metadata": {},
          "execution_count": 125
        }
      ]
    },
    {
      "cell_type": "code",
      "metadata": {
        "id": "i1hmUGFNJQVl",
        "colab": {
          "base_uri": "https://localhost:8080/"
        },
        "outputId": "9e555019-fd61-4f6c-fdeb-0b5841eaa344"
      },
      "source": [
        "raw_prediction = feed_forward(neural_network=test_network2, input_vector=[0,0])\n",
        "raw_prediction  #[0.5]\n"
      ],
      "execution_count": null,
      "outputs": [
        {
          "output_type": "execute_result",
          "data": {
            "text/plain": [
              "[0.5]"
            ]
          },
          "metadata": {},
          "execution_count": 126
        }
      ]
    }
  ]
}