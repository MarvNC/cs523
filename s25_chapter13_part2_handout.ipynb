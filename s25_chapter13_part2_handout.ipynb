{
  "cells": [
    {
      "cell_type": "markdown",
      "metadata": {
        "id": "i3jHBphnsfYh"
      },
      "source": [
        "#Announcement\n",
        "\n",
        "I will carry over changes made in Part 1 that differ from video. I believe this will lead to replicable results but they will not match video given changes made.\n",
        "\n",
        "Also note changes to Challenges."
      ]
    },
    {
      "cell_type": "markdown",
      "metadata": {
        "id": "bzDiYMkiYgRS"
      },
      "source": [
        "<center>\n",
        "<h1>Chapter 13 - Part 2</h1>\n",
        "</center>\n",
        "\n",
        "<hr>\n",
        "\n",
        "Using the tensorflow library to build and tune ANNs. A complicated chapter that we will cover mostly at surface level. I'll try to give you links to deeper discussion."
      ]
    },
    {
      "cell_type": "markdown",
      "metadata": {
        "id": "bZiquu_S3vZG"
      },
      "source": [
        "##Set-up\n",
        "\n",
        "First bring in your library."
      ]
    },
    {
      "cell_type": "code",
      "execution_count": 1,
      "metadata": {
        "colab": {
          "base_uri": "https://localhost:8080/"
        },
        "id": "VJ1mf3Sm6ZxA",
        "outputId": "b421a373-5b51-49b1-c935-83116e5225d1"
      },
      "outputs": [
        {
          "output_type": "stream",
          "name": "stdout",
          "text": [
            "rm: cannot remove 'library.py': No such file or directory\n",
            "--2025-05-28 17:02:38--  https://raw.githubusercontent.com/marvnc/cs523/main/library.py\n",
            "Resolving raw.githubusercontent.com (raw.githubusercontent.com)... 185.199.108.133, 185.199.109.133, 185.199.110.133, ...\n",
            "Connecting to raw.githubusercontent.com (raw.githubusercontent.com)|185.199.108.133|:443... connected.\n",
            "HTTP request sent, awaiting response... 200 OK\n",
            "Length: 48297 (47K) [text/plain]\n",
            "Saving to: ‘library.py’\n",
            "\n",
            "library.py          100%[===================>]  47.17K  --.-KB/s    in 0.01s   \n",
            "\n",
            "2025-05-28 17:02:39 (3.12 MB/s) - ‘library.py’ saved [48297/48297]\n",
            "\n"
          ]
        }
      ],
      "source": [
        "github_name = 'marvnc'\n",
        "repo_name = 'cs523'\n",
        "source_file = 'library.py'\n",
        "url = f'https://raw.githubusercontent.com/{github_name}/{repo_name}/main/{source_file}'\n",
        "!rm $source_file\n",
        "!wget $url\n",
        "%run -i $source_file"
      ]
    },
    {
      "cell_type": "code",
      "execution_count": 2,
      "metadata": {
        "colab": {
          "base_uri": "https://localhost:8080/",
          "height": 206
        },
        "id": "ZVTLBYampYbo",
        "outputId": "1579763f-eb38-4b45-d6e2-fedb61c2f33a"
      },
      "outputs": [
        {
          "output_type": "execute_result",
          "data": {
            "text/plain": [
              "    Age Gender Class       Joined  Married  Fare  Survived\n",
              "0  41.0   Male    C3  Southampton      0.0   7.0         0\n",
              "1  21.0   Male  Crew  Southampton      0.0   0.0         0\n",
              "2  13.0   Male    C3  Southampton      NaN  20.0         0\n",
              "3  16.0   Male    C3  Southampton      0.0   NaN         0\n",
              "4   NaN   Male    C2    Cherbourg      0.0  24.0         0"
            ],
            "text/html": [
              "\n",
              "  <div id=\"df-b85fc1d8-fa32-4a66-b5c7-be6e29b5a72d\" class=\"colab-df-container\">\n",
              "    <div>\n",
              "<style scoped>\n",
              "    .dataframe tbody tr th:only-of-type {\n",
              "        vertical-align: middle;\n",
              "    }\n",
              "\n",
              "    .dataframe tbody tr th {\n",
              "        vertical-align: top;\n",
              "    }\n",
              "\n",
              "    .dataframe thead th {\n",
              "        text-align: right;\n",
              "    }\n",
              "</style>\n",
              "<table border=\"1\" class=\"dataframe\">\n",
              "  <thead>\n",
              "    <tr style=\"text-align: right;\">\n",
              "      <th></th>\n",
              "      <th>Age</th>\n",
              "      <th>Gender</th>\n",
              "      <th>Class</th>\n",
              "      <th>Joined</th>\n",
              "      <th>Married</th>\n",
              "      <th>Fare</th>\n",
              "      <th>Survived</th>\n",
              "    </tr>\n",
              "  </thead>\n",
              "  <tbody>\n",
              "    <tr>\n",
              "      <th>0</th>\n",
              "      <td>41.0</td>\n",
              "      <td>Male</td>\n",
              "      <td>C3</td>\n",
              "      <td>Southampton</td>\n",
              "      <td>0.0</td>\n",
              "      <td>7.0</td>\n",
              "      <td>0</td>\n",
              "    </tr>\n",
              "    <tr>\n",
              "      <th>1</th>\n",
              "      <td>21.0</td>\n",
              "      <td>Male</td>\n",
              "      <td>Crew</td>\n",
              "      <td>Southampton</td>\n",
              "      <td>0.0</td>\n",
              "      <td>0.0</td>\n",
              "      <td>0</td>\n",
              "    </tr>\n",
              "    <tr>\n",
              "      <th>2</th>\n",
              "      <td>13.0</td>\n",
              "      <td>Male</td>\n",
              "      <td>C3</td>\n",
              "      <td>Southampton</td>\n",
              "      <td>NaN</td>\n",
              "      <td>20.0</td>\n",
              "      <td>0</td>\n",
              "    </tr>\n",
              "    <tr>\n",
              "      <th>3</th>\n",
              "      <td>16.0</td>\n",
              "      <td>Male</td>\n",
              "      <td>C3</td>\n",
              "      <td>Southampton</td>\n",
              "      <td>0.0</td>\n",
              "      <td>NaN</td>\n",
              "      <td>0</td>\n",
              "    </tr>\n",
              "    <tr>\n",
              "      <th>4</th>\n",
              "      <td>NaN</td>\n",
              "      <td>Male</td>\n",
              "      <td>C2</td>\n",
              "      <td>Cherbourg</td>\n",
              "      <td>0.0</td>\n",
              "      <td>24.0</td>\n",
              "      <td>0</td>\n",
              "    </tr>\n",
              "  </tbody>\n",
              "</table>\n",
              "</div>\n",
              "    <div class=\"colab-df-buttons\">\n",
              "\n",
              "  <div class=\"colab-df-container\">\n",
              "    <button class=\"colab-df-convert\" onclick=\"convertToInteractive('df-b85fc1d8-fa32-4a66-b5c7-be6e29b5a72d')\"\n",
              "            title=\"Convert this dataframe to an interactive table.\"\n",
              "            style=\"display:none;\">\n",
              "\n",
              "  <svg xmlns=\"http://www.w3.org/2000/svg\" height=\"24px\" viewBox=\"0 -960 960 960\">\n",
              "    <path d=\"M120-120v-720h720v720H120Zm60-500h600v-160H180v160Zm220 220h160v-160H400v160Zm0 220h160v-160H400v160ZM180-400h160v-160H180v160Zm440 0h160v-160H620v160ZM180-180h160v-160H180v160Zm440 0h160v-160H620v160Z\"/>\n",
              "  </svg>\n",
              "    </button>\n",
              "\n",
              "  <style>\n",
              "    .colab-df-container {\n",
              "      display:flex;\n",
              "      gap: 12px;\n",
              "    }\n",
              "\n",
              "    .colab-df-convert {\n",
              "      background-color: #E8F0FE;\n",
              "      border: none;\n",
              "      border-radius: 50%;\n",
              "      cursor: pointer;\n",
              "      display: none;\n",
              "      fill: #1967D2;\n",
              "      height: 32px;\n",
              "      padding: 0 0 0 0;\n",
              "      width: 32px;\n",
              "    }\n",
              "\n",
              "    .colab-df-convert:hover {\n",
              "      background-color: #E2EBFA;\n",
              "      box-shadow: 0px 1px 2px rgba(60, 64, 67, 0.3), 0px 1px 3px 1px rgba(60, 64, 67, 0.15);\n",
              "      fill: #174EA6;\n",
              "    }\n",
              "\n",
              "    .colab-df-buttons div {\n",
              "      margin-bottom: 4px;\n",
              "    }\n",
              "\n",
              "    [theme=dark] .colab-df-convert {\n",
              "      background-color: #3B4455;\n",
              "      fill: #D2E3FC;\n",
              "    }\n",
              "\n",
              "    [theme=dark] .colab-df-convert:hover {\n",
              "      background-color: #434B5C;\n",
              "      box-shadow: 0px 1px 3px 1px rgba(0, 0, 0, 0.15);\n",
              "      filter: drop-shadow(0px 1px 2px rgba(0, 0, 0, 0.3));\n",
              "      fill: #FFFFFF;\n",
              "    }\n",
              "  </style>\n",
              "\n",
              "    <script>\n",
              "      const buttonEl =\n",
              "        document.querySelector('#df-b85fc1d8-fa32-4a66-b5c7-be6e29b5a72d button.colab-df-convert');\n",
              "      buttonEl.style.display =\n",
              "        google.colab.kernel.accessAllowed ? 'block' : 'none';\n",
              "\n",
              "      async function convertToInteractive(key) {\n",
              "        const element = document.querySelector('#df-b85fc1d8-fa32-4a66-b5c7-be6e29b5a72d');\n",
              "        const dataTable =\n",
              "          await google.colab.kernel.invokeFunction('convertToInteractive',\n",
              "                                                    [key], {});\n",
              "        if (!dataTable) return;\n",
              "\n",
              "        const docLinkHtml = 'Like what you see? Visit the ' +\n",
              "          '<a target=\"_blank\" href=https://colab.research.google.com/notebooks/data_table.ipynb>data table notebook</a>'\n",
              "          + ' to learn more about interactive tables.';\n",
              "        element.innerHTML = '';\n",
              "        dataTable['output_type'] = 'display_data';\n",
              "        await google.colab.output.renderOutput(dataTable, element);\n",
              "        const docLink = document.createElement('div');\n",
              "        docLink.innerHTML = docLinkHtml;\n",
              "        element.appendChild(docLink);\n",
              "      }\n",
              "    </script>\n",
              "  </div>\n",
              "\n",
              "\n",
              "    <div id=\"df-54882611-0949-40f3-b942-b885e0c5e4fe\">\n",
              "      <button class=\"colab-df-quickchart\" onclick=\"quickchart('df-54882611-0949-40f3-b942-b885e0c5e4fe')\"\n",
              "                title=\"Suggest charts\"\n",
              "                style=\"display:none;\">\n",
              "\n",
              "<svg xmlns=\"http://www.w3.org/2000/svg\" height=\"24px\"viewBox=\"0 0 24 24\"\n",
              "     width=\"24px\">\n",
              "    <g>\n",
              "        <path d=\"M19 3H5c-1.1 0-2 .9-2 2v14c0 1.1.9 2 2 2h14c1.1 0 2-.9 2-2V5c0-1.1-.9-2-2-2zM9 17H7v-7h2v7zm4 0h-2V7h2v10zm4 0h-2v-4h2v4z\"/>\n",
              "    </g>\n",
              "</svg>\n",
              "      </button>\n",
              "\n",
              "<style>\n",
              "  .colab-df-quickchart {\n",
              "      --bg-color: #E8F0FE;\n",
              "      --fill-color: #1967D2;\n",
              "      --hover-bg-color: #E2EBFA;\n",
              "      --hover-fill-color: #174EA6;\n",
              "      --disabled-fill-color: #AAA;\n",
              "      --disabled-bg-color: #DDD;\n",
              "  }\n",
              "\n",
              "  [theme=dark] .colab-df-quickchart {\n",
              "      --bg-color: #3B4455;\n",
              "      --fill-color: #D2E3FC;\n",
              "      --hover-bg-color: #434B5C;\n",
              "      --hover-fill-color: #FFFFFF;\n",
              "      --disabled-bg-color: #3B4455;\n",
              "      --disabled-fill-color: #666;\n",
              "  }\n",
              "\n",
              "  .colab-df-quickchart {\n",
              "    background-color: var(--bg-color);\n",
              "    border: none;\n",
              "    border-radius: 50%;\n",
              "    cursor: pointer;\n",
              "    display: none;\n",
              "    fill: var(--fill-color);\n",
              "    height: 32px;\n",
              "    padding: 0;\n",
              "    width: 32px;\n",
              "  }\n",
              "\n",
              "  .colab-df-quickchart:hover {\n",
              "    background-color: var(--hover-bg-color);\n",
              "    box-shadow: 0 1px 2px rgba(60, 64, 67, 0.3), 0 1px 3px 1px rgba(60, 64, 67, 0.15);\n",
              "    fill: var(--button-hover-fill-color);\n",
              "  }\n",
              "\n",
              "  .colab-df-quickchart-complete:disabled,\n",
              "  .colab-df-quickchart-complete:disabled:hover {\n",
              "    background-color: var(--disabled-bg-color);\n",
              "    fill: var(--disabled-fill-color);\n",
              "    box-shadow: none;\n",
              "  }\n",
              "\n",
              "  .colab-df-spinner {\n",
              "    border: 2px solid var(--fill-color);\n",
              "    border-color: transparent;\n",
              "    border-bottom-color: var(--fill-color);\n",
              "    animation:\n",
              "      spin 1s steps(1) infinite;\n",
              "  }\n",
              "\n",
              "  @keyframes spin {\n",
              "    0% {\n",
              "      border-color: transparent;\n",
              "      border-bottom-color: var(--fill-color);\n",
              "      border-left-color: var(--fill-color);\n",
              "    }\n",
              "    20% {\n",
              "      border-color: transparent;\n",
              "      border-left-color: var(--fill-color);\n",
              "      border-top-color: var(--fill-color);\n",
              "    }\n",
              "    30% {\n",
              "      border-color: transparent;\n",
              "      border-left-color: var(--fill-color);\n",
              "      border-top-color: var(--fill-color);\n",
              "      border-right-color: var(--fill-color);\n",
              "    }\n",
              "    40% {\n",
              "      border-color: transparent;\n",
              "      border-right-color: var(--fill-color);\n",
              "      border-top-color: var(--fill-color);\n",
              "    }\n",
              "    60% {\n",
              "      border-color: transparent;\n",
              "      border-right-color: var(--fill-color);\n",
              "    }\n",
              "    80% {\n",
              "      border-color: transparent;\n",
              "      border-right-color: var(--fill-color);\n",
              "      border-bottom-color: var(--fill-color);\n",
              "    }\n",
              "    90% {\n",
              "      border-color: transparent;\n",
              "      border-bottom-color: var(--fill-color);\n",
              "    }\n",
              "  }\n",
              "</style>\n",
              "\n",
              "      <script>\n",
              "        async function quickchart(key) {\n",
              "          const quickchartButtonEl =\n",
              "            document.querySelector('#' + key + ' button');\n",
              "          quickchartButtonEl.disabled = true;  // To prevent multiple clicks.\n",
              "          quickchartButtonEl.classList.add('colab-df-spinner');\n",
              "          try {\n",
              "            const charts = await google.colab.kernel.invokeFunction(\n",
              "                'suggestCharts', [key], {});\n",
              "          } catch (error) {\n",
              "            console.error('Error during call to suggestCharts:', error);\n",
              "          }\n",
              "          quickchartButtonEl.classList.remove('colab-df-spinner');\n",
              "          quickchartButtonEl.classList.add('colab-df-quickchart-complete');\n",
              "        }\n",
              "        (() => {\n",
              "          let quickchartButtonEl =\n",
              "            document.querySelector('#df-54882611-0949-40f3-b942-b885e0c5e4fe button');\n",
              "          quickchartButtonEl.style.display =\n",
              "            google.colab.kernel.accessAllowed ? 'block' : 'none';\n",
              "        })();\n",
              "      </script>\n",
              "    </div>\n",
              "\n",
              "    </div>\n",
              "  </div>\n"
            ],
            "application/vnd.google.colaboratory.intrinsic+json": {
              "type": "dataframe",
              "variable_name": "titanic_trimmed",
              "summary": "{\n  \"name\": \"titanic_trimmed\",\n  \"rows\": 1313,\n  \"fields\": [\n    {\n      \"column\": \"Age\",\n      \"properties\": {\n        \"dtype\": \"number\",\n        \"std\": 14.346944998228604,\n        \"min\": 1.0,\n        \"max\": 74.0,\n        \"num_unique_values\": 71,\n        \"samples\": [\n          4.0,\n          41.0,\n          60.0\n        ],\n        \"semantic_type\": \"\",\n        \"description\": \"\"\n      }\n    },\n    {\n      \"column\": \"Gender\",\n      \"properties\": {\n        \"dtype\": \"category\",\n        \"num_unique_values\": 2,\n        \"samples\": [\n          \"Female\",\n          \"Male\"\n        ],\n        \"semantic_type\": \"\",\n        \"description\": \"\"\n      }\n    },\n    {\n      \"column\": \"Class\",\n      \"properties\": {\n        \"dtype\": \"category\",\n        \"num_unique_values\": 4,\n        \"samples\": [\n          \"Crew\",\n          \"C1\"\n        ],\n        \"semantic_type\": \"\",\n        \"description\": \"\"\n      }\n    },\n    {\n      \"column\": \"Joined\",\n      \"properties\": {\n        \"dtype\": \"category\",\n        \"num_unique_values\": 4,\n        \"samples\": [\n          \"Cherbourg\",\n          \"Queenstown\"\n        ],\n        \"semantic_type\": \"\",\n        \"description\": \"\"\n      }\n    },\n    {\n      \"column\": \"Married\",\n      \"properties\": {\n        \"dtype\": \"number\",\n        \"std\": 0.4751399890067327,\n        \"min\": 0.0,\n        \"max\": 1.0,\n        \"num_unique_values\": 2,\n        \"samples\": [\n          1.0,\n          0.0\n        ],\n        \"semantic_type\": \"\",\n        \"description\": \"\"\n      }\n    },\n    {\n      \"column\": \"Fare\",\n      \"properties\": {\n        \"dtype\": \"number\",\n        \"std\": 52.58480450638799,\n        \"min\": 0.0,\n        \"max\": 512.0,\n        \"num_unique_values\": 96,\n        \"samples\": [\n          19.0,\n          110.0\n        ],\n        \"semantic_type\": \"\",\n        \"description\": \"\"\n      }\n    },\n    {\n      \"column\": \"Survived\",\n      \"properties\": {\n        \"dtype\": \"number\",\n        \"std\": 0,\n        \"min\": 0,\n        \"max\": 1,\n        \"num_unique_values\": 2,\n        \"samples\": [\n          1,\n          0\n        ],\n        \"semantic_type\": \"\",\n        \"description\": \"\"\n      }\n    }\n  ]\n}"
            }
          },
          "metadata": {},
          "execution_count": 2
        }
      ],
      "source": [
        "url = 'https://raw.githubusercontent.com/fickas/asynch_models/main/datasets/titanic_trimmed.csv'  #trimmed version\n",
        "\n",
        "titanic_trimmed = pd.read_csv(url)\n",
        "titanic_trimmed.head()\n"
      ]
    },
    {
      "cell_type": "code",
      "execution_count": 3,
      "metadata": {
        "colab": {
          "base_uri": "https://localhost:8080/"
        },
        "id": "YvZy9mwFVrGf",
        "outputId": "73a76ab7-3adb-4058-c420-9d3075a0bcb9"
      },
      "outputs": [
        {
          "output_type": "execute_result",
          "data": {
            "text/plain": [
              "1313"
            ]
          },
          "metadata": {},
          "execution_count": 3
        }
      ],
      "source": [
        "len(titanic_trimmed)"
      ]
    },
    {
      "cell_type": "code",
      "execution_count": 4,
      "metadata": {
        "id": "FVECbpjaNUkq"
      },
      "outputs": [],
      "source": [
        "%%capture\n",
        "x_train, x_test, y_train, y_test = titanic_setup(titanic_trimmed)"
      ]
    },
    {
      "cell_type": "code",
      "execution_count": 5,
      "metadata": {
        "colab": {
          "base_uri": "https://localhost:8080/"
        },
        "id": "dAaszQUlQ95l",
        "outputId": "3629a5f7-b026-4c0a-bfdc-9dbe94024835"
      },
      "outputs": [
        {
          "output_type": "execute_result",
          "data": {
            "text/plain": [
              "array([[ 0.78947368,  1.        ,  1.        ,  0.40075188,  0.        ,\n",
              "        -0.26086957]])"
            ]
          },
          "metadata": {},
          "execution_count": 5
        }
      ],
      "source": [
        "x_train[:1]  #[[ 0.78947368,  1.        ,  1.        ,  0.40075188,  0.        ,-0.26086957]]"
      ]
    },
    {
      "cell_type": "code",
      "execution_count": 6,
      "metadata": {
        "colab": {
          "base_uri": "https://localhost:8080/"
        },
        "id": "sdsIiE9lRDZz",
        "outputId": "3df28e88-45d8-4370-c5df-76212748d0a2"
      },
      "outputs": [
        {
          "output_type": "execute_result",
          "data": {
            "text/plain": [
              "array([0])"
            ]
          },
          "metadata": {},
          "execution_count": 6
        }
      ],
      "source": [
        "y_train[:1]"
      ]
    },
    {
      "cell_type": "markdown",
      "metadata": {
        "id": "nEACCFSodbEy"
      },
      "source": [
        "#I. Review chapters\n",
        "\n",
        "We will be running into concepts we have seen in past chapters. In particular, I would recommend reviewing these:\n",
        "\n",
        "* Chapter 8 for gradient descent, learning rate, batch, epochs\n",
        "\n",
        "* Chapter 9 for weight regularization"
      ]
    },
    {
      "cell_type": "markdown",
      "metadata": {
        "id": "8zVtPEjMvN3X"
      },
      "source": [
        "#II. We will use the tensorflow library to build (and tune) our ANNs\n",
        "\n",
        "We began to explore tensorflow in the last chapter and noted a\n",
        "major alternative would be PyTorch. I have not really used it but I have had students who say they like it. Concepts are same but syntax and methods different.\n",
        "\n",
        "We will also use a sub-package of tensorflow called keras, which claims to add an easier front-end. I mostly agree, it does."
      ]
    },
    {
      "cell_type": "code",
      "execution_count": 7,
      "metadata": {
        "id": "FFIVRVZJvIPq"
      },
      "outputs": [],
      "source": [
        "from tensorflow.keras import Sequential\n",
        "from tensorflow.keras.layers import Dense, Activation, Dropout, Input\n",
        "import tensorflow as tf\n",
        "from tensorflow import keras\n",
        "from sklearn.metrics import roc_auc_score"
      ]
    },
    {
      "cell_type": "markdown",
      "metadata": {
        "id": "ivBo351kjx1w"
      },
      "source": [
        "###Now Jump through some hoops to get replicable results\n",
        "\n",
        "I'm a little worried about this. Normally it works with straight ahead tensorflow. However we are introducing a tuning library later where I am concerned. If your results don't match up with mine, let me know. They should in theory."
      ]
    },
    {
      "cell_type": "code",
      "execution_count": 8,
      "metadata": {
        "id": "9UH8coL34r2q"
      },
      "outputs": [],
      "source": [
        "tf.keras.utils.set_random_seed(1234)  #need this for replication\n",
        "tf.config.experimental.enable_op_determinism()  #ditto - https://www.tensorflow.org/api_docs/python/tf/config/experimental/enable_op_determinism\n",
        "tf.config.threading.set_inter_op_parallelism_threads(1)\n",
        "tf.config.threading.set_intra_op_parallelism_threads(1)"
      ]
    },
    {
      "cell_type": "markdown",
      "metadata": {
        "id": "2-OpV8mt0JTr"
      },
      "source": [
        "##Ready to build an ANN\n",
        "\n",
        "I am going to somewhat randomly chose to build an ANN that has two hidden layers. The first layer has 16 nodes and the second layer has 8 nodes. Other than that, it pretty much matches what we saw in the last chapter."
      ]
    },
    {
      "cell_type": "markdown",
      "metadata": {
        "id": "MJNGHDKNEMxo"
      },
      "source": [
        "###I'm using a weight initializer\n",
        "\n",
        "Again, I am skimming this topic but can point you to a [pretty good tutorial](https://towardsdatascience.com/weight-initialization-and-activation-functions-in-deep-learning-50aac05c3533). It discusses why we might want to use the `HeNormal` initializer to set the initial values of our weights on a layer.\n",
        "\n",
        "<pre>\n",
        "he_initializer = tf.keras.initializers.HeNormal(seed=1234)  #works well with our activation functions\n",
        "</pre>"
      ]
    },
    {
      "cell_type": "markdown",
      "metadata": {
        "id": "Q-Yc6OkHaTbT"
      },
      "source": [
        "###I'm using a weight regularizer.\n",
        "\n",
        " We saw the need for this when looking at gradient descent and logistic regression (Chapter 9).\n",
        "Remember that it penalizes weights that grow too large. The `L2` says we square the weights, i.e., really punish the large ones.\n",
        "\n",
        "<pre>\n",
        "l2_regu = tf.keras.regularizers.L2(0.01)  #weight regularization - tune the (reverse) lambda parameter\n",
        "</pre>"
      ]
    },
    {
      "cell_type": "markdown",
      "metadata": {
        "id": "S1USFC7G0SCG"
      },
      "source": [
        "###I'll chose `Relu` from last chapter as our activation function\n",
        "\n",
        "Note I can use the string `'relu'`. Tensorflow has string short-cuts for some activation functions but not all. Depends if they have parameters or not. Relu does not."
      ]
    },
    {
      "cell_type": "code",
      "execution_count": 9,
      "metadata": {
        "id": "c_E_N8pm0csI"
      },
      "outputs": [],
      "source": [
        "act_fn = 'relu'  #long version: tf.keras.activations.relu()"
      ]
    },
    {
      "cell_type": "markdown",
      "metadata": {
        "id": "I1_lhmHRzZj2"
      },
      "source": [
        "###Not using Dropout to avoid nondeterminism"
      ]
    },
    {
      "cell_type": "code",
      "execution_count": 10,
      "metadata": {
        "colab": {
          "base_uri": "https://localhost:8080/"
        },
        "id": "3K-KI_y0z6_Q",
        "outputId": "e922658a-7ed4-4ca8-acc3-87d1559755ad"
      },
      "outputs": [
        {
          "output_type": "execute_result",
          "data": {
            "text/plain": [
              "6"
            ]
          },
          "metadata": {},
          "execution_count": 10
        }
      ],
      "source": [
        "feature_n = x_train.shape[1]\n",
        "feature_n"
      ]
    },
    {
      "cell_type": "markdown",
      "metadata": {
        "id": "W6t8Wu-I4axX"
      },
      "source": [
        "###We will need a way to turn strings into ints to use as seeds"
      ]
    },
    {
      "cell_type": "code",
      "execution_count": 11,
      "metadata": {
        "id": "rn274Bbm0JzQ"
      },
      "outputs": [],
      "source": [
        "import hashlib\n",
        "\n",
        "def string_to_seed(string):\n",
        "    # Create a hash of the string using SHA-256\n",
        "    hash_object = hashlib.sha256(string.encode())\n",
        "    # Convert first 8 bytes of hash to integer\n",
        "    hash_int = int.from_bytes(hash_object.digest()[:8], 'big')\n",
        "    return hash_int % (2**32 - 1)"
      ]
    },
    {
      "cell_type": "markdown",
      "metadata": {
        "id": "Qdr2C6w04miU"
      },
      "source": [
        "###Build the model"
      ]
    },
    {
      "cell_type": "code",
      "execution_count": 12,
      "metadata": {
        "id": "IWOK4bAVvehF"
      },
      "outputs": [],
      "source": [
        "ann_model = Sequential()\n",
        "\n",
        "# Input layer\n",
        "ann_model.add(Input(shape=(feature_n,), name=\"input_layer\"))\n",
        "#could add Dropout here but too few features to start with so bad idea\n",
        "\n",
        "#hidden layer 1\n",
        "layer_name = \"hidden_layer_1\"  #unique to each layer\n",
        "ann_model.add(Dense(units=16,\n",
        "                   activation=act_fn,\n",
        "                   name=layer_name+'_dense',\n",
        "                   kernel_regularizer=tf.keras.regularizers.l2(0.01),\n",
        "                   kernel_initializer=tf.keras.initializers.HeNormal(seed=string_to_seed(layer_name+'_dense'))\n",
        "))\n",
        "#ann_model.add(Dropout(.2, name='dropout1', seed=string_to_seed('dropout1')))  #Dropout currently causes non-replicalbe results :(\n",
        "\n",
        "#hidden layer 2\n",
        "layer_name = \"hidden_layer_2\"\n",
        "ann_model.add(Dense(units=8,\n",
        "                   activation=act_fn,\n",
        "                   name=layer_name+'_dense',\n",
        "                   kernel_regularizer=tf.keras.regularizers.l2(0.01),\n",
        "                   kernel_initializer=tf.keras.initializers.HeNormal(seed=string_to_seed(layer_name+'_dense'))\n",
        "))\n",
        "#ann_model.add(Dropout(.2, name='dropout2', seed=string_to_seed('dropout2')))\n",
        "\n",
        "#could add more hidden layers if you wanted.\n",
        "\n",
        "#hidden layer 3\n",
        "\n",
        "#hidden layer 4\n",
        "\n",
        "#etc\n",
        "\n",
        "#output layer for binary classification\n",
        "ann_model.add(Dense(units=1, name='output', activation='sigmoid'))  #only 1 node and using sigmoid (just like with logistic regression!)\n",
        "\n"
      ]
    },
    {
      "cell_type": "markdown",
      "metadata": {
        "id": "CTi0RZrT26yE"
      },
      "source": [
        "##The model is now structured but not built\n",
        "\n",
        "We have to compile it and provide some parameters:\n",
        "\n",
        "* I'm going to continue to use `roc_auc` for scoring. This is consistent with what we have been using for other models.\n",
        "\n",
        "* I considered using a special optimizer:\n",
        "<pre>\n",
        "lr_schedule = tf.keras.optimizers.schedules.ExponentialDecay(initial_learning_rate=0.001, decay_steps=10000, decay_rate=0.9)\n",
        "ann_model.compile(loss=tf.keras.losses.BinaryCrossentropy(label_smoothing=.1),\n",
        "                  optimizer=tf.keras.optimizers.Adam(learning_rate=lr_schedule),\n",
        "</pre>\n",
        "The optimizer is a special version of Stochastic Gradient Descent. If you remember, we used partial differential equations to update the weights in Logistic Regression. Well, we do the same here! Do you remember the learning rate that was part of the weight-update formula? The twist I am adding here are several mechanisms that focus on that rate. They adjust it as epochs roll by. They look at how loss is changing. A simple example is they may increase the rate if they think we are in a divot (false minimum) to claw our way out. If they believe we are getting close to the minimum, they may decrease the rate. This is an open area of research. I'll give you a [discussion of the `Adam/ExponentialDecay` combo](https://stats.stackexchange.com/questions/200063/adam-optimizer-with-exponential-decay). Many others possible. But in end I thought it was overly complicated for our simple data so omitted it.\n",
        "\n",
        "* For loss, Binary Crossentropy is the standard for binary classification problems. [Here is a pretty dang good tutorial](https://towardsdatascience.com/understanding-binary-cross-entropy-log-loss-a-visual-explanation-a3ac6025181a). I am using something called smoothing. I'll give you examples with and without:\n",
        "<pre>\n",
        "BCE = -[y * log(ŷ) + (1-y) * log(1-ŷ)]  #without smoothing\n",
        "</pre>\n",
        "where:\n",
        "  - y is the true label (0 or 1)\n",
        "  - ŷ is the model's prediction (between 0 and 1)\n",
        "\n",
        " With Label Smoothing (α):\n",
        "<pre>\n",
        "BCE = -[(y * (1-α) + α/2) * log(ŷ) + ((1-y) * (1-α) + α/2) * log(1-ŷ)]  #with smoothing\n",
        "</pre>\n",
        "where:\n",
        "  - α is the smoothing parameter (like 0.1)\n",
        "  - y is original label (0 or 1)\n",
        "  - ŷ is model's prediction\n",
        "\n",
        " Example with α = 0.1:\n",
        "  - For y = 1: (1 * 0.9 + 0.05) = 0.95\n",
        "  - For y = 0: (0 * 0.9 + 0.05) = 0.05\n",
        "\n",
        " This smooths the labels from {0,1} to {0.05, 0.95}. This helps because:\n",
        "\n",
        "  - It prevents the model from being overconfident\n",
        "  - Makes training more stable since the model doesn't try to predict exact 0s and 1s\n",
        "  - Can improve generalization by adding a small amount of uncertainty\n"
      ]
    },
    {
      "cell_type": "code",
      "execution_count": 13,
      "metadata": {
        "id": "6trvpc-m22uU"
      },
      "outputs": [],
      "source": [
        "ann_model.compile(loss=tf.keras.losses.BinaryCrossentropy(label_smoothing=.1),\n",
        "                  optimizer=tf.keras.optimizers.Adam(learning_rate=.001),\n",
        "                  metrics=['auc', 'accuracy']\n",
        ")"
      ]
    },
    {
      "cell_type": "markdown",
      "metadata": {
        "id": "luHQ_EMnsl9V"
      },
      "source": [
        "###Code to test if we have replicable results\n",
        "\n"
      ]
    },
    {
      "cell_type": "code",
      "execution_count": 14,
      "metadata": {
        "colab": {
          "base_uri": "https://localhost:8080/"
        },
        "id": "pcHqBe9AjgN9",
        "outputId": "fa5f7b04-bf6c-4b7c-a415-cb3e5041a296"
      },
      "outputs": [
        {
          "output_type": "stream",
          "name": "stdout",
          "text": [
            "Gradients match: True\n"
          ]
        }
      ],
      "source": [
        "x_batch = x_train[:32]\n",
        "y_batch = y_train[:32].reshape(-1, 1)\n",
        "\n",
        "with tf.GradientTape() as tape:\n",
        "    pred1 = ann_model(x_batch, training=True)\n",
        "    loss1 = tf.keras.losses.binary_crossentropy(y_batch, pred1)\n",
        "grads1 = tape.gradient(loss1, ann_model.trainable_variables)\n",
        "\n",
        "with tf.GradientTape() as tape:\n",
        "    pred2 = ann_model(x_batch, training=True)\n",
        "    loss2 = tf.keras.losses.binary_crossentropy(y_batch, pred2)\n",
        "grads2 = tape.gradient(loss2, ann_model.trainable_variables)\n",
        "\n",
        "print(\"Gradients match:\", all(np.array_equal(g1, g2) for g1, g2 in zip(grads1, grads2)))  #should be True if replicable"
      ]
    },
    {
      "cell_type": "markdown",
      "metadata": {
        "id": "GCdeBUmHvehF"
      },
      "source": [
        "## Train an ANN\n",
        "\n",
        "Ok, we now have a compiled model ready for training. We still have to decide on the batch size and the number of epochs. I am also going to use the callback we saw in last chapter. This allows me to set the epochs to a fairly large size knowing early stopping will cut things off if necessary.\n"
      ]
    },
    {
      "cell_type": "code",
      "execution_count": 15,
      "metadata": {
        "id": "Rw8Xrev5vehN"
      },
      "outputs": [],
      "source": [
        "early_stop_cb = tf.keras.callbacks.EarlyStopping(\n",
        "    monitor='auc',\n",
        "    mode='max',\n",
        "    min_delta=0,\n",
        "    patience=15,  #Wait 15 epochs for loss to improve - if no decrease, stop\n",
        "    verbose=0\n",
        ")"
      ]
    },
    {
      "cell_type": "code",
      "execution_count": 16,
      "metadata": {
        "id": "lCtARN1VvehN"
      },
      "outputs": [],
      "source": [
        "batch = 32  #https://ai.stackexchange.com/questions/8560/how-do-i-choose-the-optimal-batch-size\n",
        "epochs = 100  #mostly a guess\n",
        "training = ann_model.fit(x=x_train,\n",
        "                        y=y_train,\n",
        "                         batch_size=batch,\n",
        "                         epochs=epochs,\n",
        "                         verbose=0,\n",
        "                         callbacks=[early_stop_cb])"
      ]
    },
    {
      "cell_type": "markdown",
      "metadata": {
        "id": "dp2CxEJ_E4a_"
      },
      "source": [
        "###Did we stop early?"
      ]
    },
    {
      "cell_type": "code",
      "execution_count": 17,
      "metadata": {
        "colab": {
          "base_uri": "https://localhost:8080/"
        },
        "id": "7nuDpPM1E7B2",
        "outputId": "a574b774-ff52-416c-fbd1-817825546698"
      },
      "outputs": [
        {
          "output_type": "execute_result",
          "data": {
            "text/plain": [
              "(32, 100)"
            ]
          },
          "metadata": {},
          "execution_count": 17
        }
      ],
      "source": [
        "batch, len(training.history['auc'])  #looks like no"
      ]
    },
    {
      "cell_type": "code",
      "execution_count": 18,
      "metadata": {
        "colab": {
          "base_uri": "https://localhost:8080/"
        },
        "id": "JPuD0SWPUGp7",
        "outputId": "c0578f79-209f-40df-9943-b3d82673122d"
      },
      "outputs": [
        {
          "output_type": "execute_result",
          "data": {
            "text/plain": [
              "0.8187116384506226"
            ]
          },
          "metadata": {},
          "execution_count": 18
        }
      ],
      "source": [
        "training.history['auc'][-1]  #0.8187116384506226"
      ]
    },
    {
      "cell_type": "code",
      "execution_count": 19,
      "metadata": {
        "colab": {
          "base_uri": "https://localhost:8080/",
          "height": 472
        },
        "id": "aVAt4hIQvehN",
        "outputId": "3c951ed6-d8a5-4672-ec08-37c74dd408e0"
      },
      "outputs": [
        {
          "output_type": "display_data",
          "data": {
            "text/plain": [
              "<Figure size 640x480 with 1 Axes>"
            ],
            "image/png": "[encoded data removed]"
          },
          "metadata": {}
        }
      ],
      "source": [
        "import matplotlib.pyplot as plt\n",
        "\n",
        "plt.plot(training.history['auc'])\n",
        "plt.plot(training.history['loss'])\n",
        "plt.title('ROC AUC')\n",
        "plt.xlabel('epoch')\n",
        "plt.legend(['ROC AUC', 'loss'], loc='upper left')\n",
        "plt.show()"
      ]
    },
    {
      "cell_type": "markdown",
      "metadata": {
        "id": "AmRziSOO4Jlm"
      },
      "source": [
        "##Evaluate on train set\n"
      ]
    },
    {
      "cell_type": "markdown",
      "metadata": {
        "id": "WqhDsbwKIvmB"
      },
      "source": [
        "###`predict` gives list of lists"
      ]
    },
    {
      "cell_type": "code",
      "execution_count": 20,
      "metadata": {
        "colab": {
          "base_uri": "https://localhost:8080/"
        },
        "id": "vCoX4hcp4Jlm",
        "outputId": "7aa7936f-b4a5-4429-93cf-17ecefc25fde"
      },
      "outputs": [
        {
          "output_type": "stream",
          "name": "stdout",
          "text": [
            "\u001b[1m33/33\u001b[0m \u001b[32m━━━━━━━━━━━━━━━━━━━━\u001b[0m\u001b[37m\u001b[0m \u001b[1m0s\u001b[0m 3ms/step\n"
          ]
        },
        {
          "output_type": "execute_result",
          "data": {
            "text/plain": [
              "array([0.47342908, 0.31570902, 0.7469393 , 0.76173514, 0.21468766],\n",
              "      dtype=float32)"
            ]
          },
          "metadata": {},
          "execution_count": 20
        }
      ],
      "source": [
        "yraw = ann_model.predict(x_train)[:,0]  #pull out prob of 1\n",
        "yraw[:5]  #array([0.47342908, 0.31570902, 0.7469393 , 0.76173514, 0.21468766], dtype=float32)"
      ]
    },
    {
      "cell_type": "code",
      "execution_count": 21,
      "metadata": {
        "colab": {
          "base_uri": "https://localhost:8080/"
        },
        "id": "JHs7ZYcQ4Jlm",
        "outputId": "70104580-4d51-47c3-abca-c188d6a0e6b0"
      },
      "outputs": [
        {
          "output_type": "execute_result",
          "data": {
            "text/plain": [
              "np.float64(0.7438095238095238)"
            ]
          },
          "metadata": {},
          "execution_count": 21
        }
      ],
      "source": [
        "binary = [1 if y>.5 else 0 for y in yraw]  #use normal threshold of .5\n",
        "sum([x==y for x,y in zip(binary,y_train)])/len(binary)  #0.7438095238095238 accuracy on training set"
      ]
    },
    {
      "cell_type": "markdown",
      "metadata": {
        "id": "Icr1yxgRNjZU"
      },
      "source": [
        "##Evaluate on test set\n",
        "\n",
        "There is no `score` method. And `predict_proba` has been replaced with just `predict`. And `predict` just gives you probabilities of 1 (positive case)."
      ]
    },
    {
      "cell_type": "code",
      "execution_count": 22,
      "metadata": {
        "colab": {
          "base_uri": "https://localhost:8080/"
        },
        "id": "zPQpadYUKgLR",
        "outputId": "3038bd98-69eb-476c-86fc-9053e9303a55"
      },
      "outputs": [
        {
          "output_type": "stream",
          "name": "stdout",
          "text": [
            "\u001b[1m9/9\u001b[0m \u001b[32m━━━━━━━━━━━━━━━━━━━━\u001b[0m\u001b[37m\u001b[0m \u001b[1m0s\u001b[0m 6ms/step \n"
          ]
        },
        {
          "output_type": "execute_result",
          "data": {
            "text/plain": [
              "array([0.5388105 , 0.7720659 , 0.8347173 , 0.22516692, 0.3030476 ],\n",
              "      dtype=float32)"
            ]
          },
          "metadata": {},
          "execution_count": 22
        }
      ],
      "source": [
        "yraw = ann_model.predict(x_test)[:,0]  #replaces predict_proba\n",
        "yraw[:5]  #[0.5388105 , 0.7720659 , 0.8347173 , 0.22516692, 0.3030476 ]"
      ]
    },
    {
      "cell_type": "code",
      "execution_count": 23,
      "metadata": {
        "colab": {
          "base_uri": "https://localhost:8080/",
          "height": 726
        },
        "id": "AZveEpdV5o-j",
        "outputId": "8a114edd-fac1-489c-fc3f-b16134fdc032"
      },
      "outputs": [
        {
          "output_type": "execute_result",
          "data": {
            "text/plain": [
              "<pandas.io.formats.style.Styler at 0x7927902f0810>"
            ],
            "text/html": [
              "<style type=\"text/css\">\n",
              "#T_de9f5 th:not(.index_name) {\n",
              "  background-color: #800000;\n",
              "  color: white;\n",
              "  text-align: center;\n",
              "}\n",
              "#T_de9f5_row0_col0, #T_de9f5_row0_col1, #T_de9f5_row0_col3, #T_de9f5_row0_col5, #T_de9f5_row1_col0, #T_de9f5_row1_col1, #T_de9f5_row1_col3, #T_de9f5_row1_col5, #T_de9f5_row2_col0, #T_de9f5_row2_col1, #T_de9f5_row2_col3, #T_de9f5_row2_col5, #T_de9f5_row3_col0, #T_de9f5_row3_col1, #T_de9f5_row3_col2, #T_de9f5_row3_col3, #T_de9f5_row3_col5, #T_de9f5_row4_col0, #T_de9f5_row4_col1, #T_de9f5_row4_col2, #T_de9f5_row4_col3, #T_de9f5_row4_col5, #T_de9f5_row5_col0, #T_de9f5_row5_col1, #T_de9f5_row5_col2, #T_de9f5_row5_col3, #T_de9f5_row5_col5, #T_de9f5_row6_col0, #T_de9f5_row6_col1, #T_de9f5_row6_col2, #T_de9f5_row6_col5, #T_de9f5_row7_col0, #T_de9f5_row7_col1, #T_de9f5_row7_col2, #T_de9f5_row7_col3, #T_de9f5_row7_col5, #T_de9f5_row8_col0, #T_de9f5_row8_col1, #T_de9f5_row8_col2, #T_de9f5_row8_col3, #T_de9f5_row8_col5, #T_de9f5_row9_col0, #T_de9f5_row9_col1, #T_de9f5_row9_col2, #T_de9f5_row9_col3, #T_de9f5_row9_col5, #T_de9f5_row10_col0, #T_de9f5_row10_col1, #T_de9f5_row10_col2, #T_de9f5_row10_col3, #T_de9f5_row10_col5, #T_de9f5_row11_col0, #T_de9f5_row11_col1, #T_de9f5_row11_col2, #T_de9f5_row11_col3, #T_de9f5_row11_col5, #T_de9f5_row12_col0, #T_de9f5_row12_col1, #T_de9f5_row12_col2, #T_de9f5_row12_col3, #T_de9f5_row13_col0, #T_de9f5_row13_col1, #T_de9f5_row13_col2, #T_de9f5_row13_col3, #T_de9f5_row13_col5, #T_de9f5_row14_col0, #T_de9f5_row14_col1, #T_de9f5_row14_col2, #T_de9f5_row14_col3, #T_de9f5_row14_col5, #T_de9f5_row15_col0, #T_de9f5_row15_col1, #T_de9f5_row15_col2, #T_de9f5_row15_col3, #T_de9f5_row15_col5, #T_de9f5_row16_col0, #T_de9f5_row16_col2, #T_de9f5_row16_col3, #T_de9f5_row16_col5, #T_de9f5_row17_col0, #T_de9f5_row17_col1, #T_de9f5_row17_col2, #T_de9f5_row17_col3, #T_de9f5_row17_col5, #T_de9f5_row18_col0, #T_de9f5_row18_col1, #T_de9f5_row18_col2, #T_de9f5_row18_col3, #T_de9f5_row18_col5, #T_de9f5_row19_col0, #T_de9f5_row19_col1, #T_de9f5_row19_col2, #T_de9f5_row19_col3, #T_de9f5_row19_col5, #T_de9f5_row20_col1, #T_de9f5_row20_col2, #T_de9f5_row20_col3, #T_de9f5_row20_col5 {\n",
              "  border: 1px solid black;\n",
              "  width: 65px;\n",
              "  text-align: center;\n",
              "}\n",
              "#T_de9f5_row0_col2, #T_de9f5_row0_col4, #T_de9f5_row1_col2, #T_de9f5_row1_col4, #T_de9f5_row2_col2, #T_de9f5_row2_col4, #T_de9f5_row3_col4, #T_de9f5_row4_col4, #T_de9f5_row5_col4, #T_de9f5_row6_col3, #T_de9f5_row6_col4, #T_de9f5_row7_col4, #T_de9f5_row8_col4, #T_de9f5_row9_col4, #T_de9f5_row10_col4, #T_de9f5_row11_col4, #T_de9f5_row12_col4, #T_de9f5_row12_col5, #T_de9f5_row13_col4, #T_de9f5_row14_col4, #T_de9f5_row15_col4, #T_de9f5_row16_col1, #T_de9f5_row16_col4, #T_de9f5_row17_col4, #T_de9f5_row18_col4, #T_de9f5_row19_col4, #T_de9f5_row20_col0, #T_de9f5_row20_col4 {\n",
              "  background-color: pink;\n",
              "  border: 1px solid black;\n",
              "  width: 65px;\n",
              "  text-align: center;\n",
              "}\n",
              "</style>\n",
              "<table id=\"T_de9f5\" class=\"dataframe\">\n",
              "  <thead>\n",
              "    <tr>\n",
              "      <th class=\"blank level0\" >&nbsp;</th>\n",
              "      <th id=\"T_de9f5_level0_col0\" class=\"col_heading level0 col0\" >threshold</th>\n",
              "      <th id=\"T_de9f5_level0_col1\" class=\"col_heading level0 col1\" >precision</th>\n",
              "      <th id=\"T_de9f5_level0_col2\" class=\"col_heading level0 col2\" >recall</th>\n",
              "      <th id=\"T_de9f5_level0_col3\" class=\"col_heading level0 col3\" >f1</th>\n",
              "      <th id=\"T_de9f5_level0_col4\" class=\"col_heading level0 col4\" >auc</th>\n",
              "      <th id=\"T_de9f5_level0_col5\" class=\"col_heading level0 col5\" >accuracy</th>\n",
              "    </tr>\n",
              "  </thead>\n",
              "  <tbody>\n",
              "    <tr>\n",
              "      <th id=\"T_de9f5_level0_row0\" class=\"row_heading level0 row0\" >0</th>\n",
              "      <td id=\"T_de9f5_row0_col0\" class=\"data row0 col0\" >0.00</td>\n",
              "      <td id=\"T_de9f5_row0_col1\" class=\"data row0 col1\" >0.43</td>\n",
              "      <td id=\"T_de9f5_row0_col2\" class=\"data row0 col2\" >1.00</td>\n",
              "      <td id=\"T_de9f5_row0_col3\" class=\"data row0 col3\" >0.60</td>\n",
              "      <td id=\"T_de9f5_row0_col4\" class=\"data row0 col4\" >0.79</td>\n",
              "      <td id=\"T_de9f5_row0_col5\" class=\"data row0 col5\" >0.43</td>\n",
              "    </tr>\n",
              "    <tr>\n",
              "      <th id=\"T_de9f5_level0_row1\" class=\"row_heading level0 row1\" >1</th>\n",
              "      <td id=\"T_de9f5_row1_col0\" class=\"data row1 col0\" >0.05</td>\n",
              "      <td id=\"T_de9f5_row1_col1\" class=\"data row1 col1\" >0.43</td>\n",
              "      <td id=\"T_de9f5_row1_col2\" class=\"data row1 col2\" >1.00</td>\n",
              "      <td id=\"T_de9f5_row1_col3\" class=\"data row1 col3\" >0.60</td>\n",
              "      <td id=\"T_de9f5_row1_col4\" class=\"data row1 col4\" >0.79</td>\n",
              "      <td id=\"T_de9f5_row1_col5\" class=\"data row1 col5\" >0.43</td>\n",
              "    </tr>\n",
              "    <tr>\n",
              "      <th id=\"T_de9f5_level0_row2\" class=\"row_heading level0 row2\" >2</th>\n",
              "      <td id=\"T_de9f5_row2_col0\" class=\"data row2 col0\" >0.10</td>\n",
              "      <td id=\"T_de9f5_row2_col1\" class=\"data row2 col1\" >0.43</td>\n",
              "      <td id=\"T_de9f5_row2_col2\" class=\"data row2 col2\" >1.00</td>\n",
              "      <td id=\"T_de9f5_row2_col3\" class=\"data row2 col3\" >0.60</td>\n",
              "      <td id=\"T_de9f5_row2_col4\" class=\"data row2 col4\" >0.79</td>\n",
              "      <td id=\"T_de9f5_row2_col5\" class=\"data row2 col5\" >0.43</td>\n",
              "    </tr>\n",
              "    <tr>\n",
              "      <th id=\"T_de9f5_level0_row3\" class=\"row_heading level0 row3\" >3</th>\n",
              "      <td id=\"T_de9f5_row3_col0\" class=\"data row3 col0\" >0.15</td>\n",
              "      <td id=\"T_de9f5_row3_col1\" class=\"data row3 col1\" >0.45</td>\n",
              "      <td id=\"T_de9f5_row3_col2\" class=\"data row3 col2\" >0.99</td>\n",
              "      <td id=\"T_de9f5_row3_col3\" class=\"data row3 col3\" >0.62</td>\n",
              "      <td id=\"T_de9f5_row3_col4\" class=\"data row3 col4\" >0.79</td>\n",
              "      <td id=\"T_de9f5_row3_col5\" class=\"data row3 col5\" >0.47</td>\n",
              "    </tr>\n",
              "    <tr>\n",
              "      <th id=\"T_de9f5_level0_row4\" class=\"row_heading level0 row4\" >4</th>\n",
              "      <td id=\"T_de9f5_row4_col0\" class=\"data row4 col0\" >0.20</td>\n",
              "      <td id=\"T_de9f5_row4_col1\" class=\"data row4 col1\" >0.47</td>\n",
              "      <td id=\"T_de9f5_row4_col2\" class=\"data row4 col2\" >0.94</td>\n",
              "      <td id=\"T_de9f5_row4_col3\" class=\"data row4 col3\" >0.62</td>\n",
              "      <td id=\"T_de9f5_row4_col4\" class=\"data row4 col4\" >0.79</td>\n",
              "      <td id=\"T_de9f5_row4_col5\" class=\"data row4 col5\" >0.51</td>\n",
              "    </tr>\n",
              "    <tr>\n",
              "      <th id=\"T_de9f5_level0_row5\" class=\"row_heading level0 row5\" >5</th>\n",
              "      <td id=\"T_de9f5_row5_col0\" class=\"data row5 col0\" >0.25</td>\n",
              "      <td id=\"T_de9f5_row5_col1\" class=\"data row5 col1\" >0.51</td>\n",
              "      <td id=\"T_de9f5_row5_col2\" class=\"data row5 col2\" >0.91</td>\n",
              "      <td id=\"T_de9f5_row5_col3\" class=\"data row5 col3\" >0.66</td>\n",
              "      <td id=\"T_de9f5_row5_col4\" class=\"data row5 col4\" >0.79</td>\n",
              "      <td id=\"T_de9f5_row5_col5\" class=\"data row5 col5\" >0.59</td>\n",
              "    </tr>\n",
              "    <tr>\n",
              "      <th id=\"T_de9f5_level0_row6\" class=\"row_heading level0 row6\" >6</th>\n",
              "      <td id=\"T_de9f5_row6_col0\" class=\"data row6 col0\" >0.30</td>\n",
              "      <td id=\"T_de9f5_row6_col1\" class=\"data row6 col1\" >0.59</td>\n",
              "      <td id=\"T_de9f5_row6_col2\" class=\"data row6 col2\" >0.87</td>\n",
              "      <td id=\"T_de9f5_row6_col3\" class=\"data row6 col3\" >0.70</td>\n",
              "      <td id=\"T_de9f5_row6_col4\" class=\"data row6 col4\" >0.79</td>\n",
              "      <td id=\"T_de9f5_row6_col5\" class=\"data row6 col5\" >0.68</td>\n",
              "    </tr>\n",
              "    <tr>\n",
              "      <th id=\"T_de9f5_level0_row7\" class=\"row_heading level0 row7\" >7</th>\n",
              "      <td id=\"T_de9f5_row7_col0\" class=\"data row7 col0\" >0.35</td>\n",
              "      <td id=\"T_de9f5_row7_col1\" class=\"data row7 col1\" >0.62</td>\n",
              "      <td id=\"T_de9f5_row7_col2\" class=\"data row7 col2\" >0.79</td>\n",
              "      <td id=\"T_de9f5_row7_col3\" class=\"data row7 col3\" >0.69</td>\n",
              "      <td id=\"T_de9f5_row7_col4\" class=\"data row7 col4\" >0.79</td>\n",
              "      <td id=\"T_de9f5_row7_col5\" class=\"data row7 col5\" >0.70</td>\n",
              "    </tr>\n",
              "    <tr>\n",
              "      <th id=\"T_de9f5_level0_row8\" class=\"row_heading level0 row8\" >8</th>\n",
              "      <td id=\"T_de9f5_row8_col0\" class=\"data row8 col0\" >0.40</td>\n",
              "      <td id=\"T_de9f5_row8_col1\" class=\"data row8 col1\" >0.66</td>\n",
              "      <td id=\"T_de9f5_row8_col2\" class=\"data row8 col2\" >0.71</td>\n",
              "      <td id=\"T_de9f5_row8_col3\" class=\"data row8 col3\" >0.68</td>\n",
              "      <td id=\"T_de9f5_row8_col4\" class=\"data row8 col4\" >0.79</td>\n",
              "      <td id=\"T_de9f5_row8_col5\" class=\"data row8 col5\" >0.71</td>\n",
              "    </tr>\n",
              "    <tr>\n",
              "      <th id=\"T_de9f5_level0_row9\" class=\"row_heading level0 row9\" >9</th>\n",
              "      <td id=\"T_de9f5_row9_col0\" class=\"data row9 col0\" >0.45</td>\n",
              "      <td id=\"T_de9f5_row9_col1\" class=\"data row9 col1\" >0.70</td>\n",
              "      <td id=\"T_de9f5_row9_col2\" class=\"data row9 col2\" >0.61</td>\n",
              "      <td id=\"T_de9f5_row9_col3\" class=\"data row9 col3\" >0.65</td>\n",
              "      <td id=\"T_de9f5_row9_col4\" class=\"data row9 col4\" >0.79</td>\n",
              "      <td id=\"T_de9f5_row9_col5\" class=\"data row9 col5\" >0.71</td>\n",
              "    </tr>\n",
              "    <tr>\n",
              "      <th id=\"T_de9f5_level0_row10\" class=\"row_heading level0 row10\" >10</th>\n",
              "      <td id=\"T_de9f5_row10_col0\" class=\"data row10 col0\" >0.50</td>\n",
              "      <td id=\"T_de9f5_row10_col1\" class=\"data row10 col1\" >0.72</td>\n",
              "      <td id=\"T_de9f5_row10_col2\" class=\"data row10 col2\" >0.55</td>\n",
              "      <td id=\"T_de9f5_row10_col3\" class=\"data row10 col3\" >0.62</td>\n",
              "      <td id=\"T_de9f5_row10_col4\" class=\"data row10 col4\" >0.79</td>\n",
              "      <td id=\"T_de9f5_row10_col5\" class=\"data row10 col5\" >0.71</td>\n",
              "    </tr>\n",
              "    <tr>\n",
              "      <th id=\"T_de9f5_level0_row11\" class=\"row_heading level0 row11\" >11</th>\n",
              "      <td id=\"T_de9f5_row11_col0\" class=\"data row11 col0\" >0.55</td>\n",
              "      <td id=\"T_de9f5_row11_col1\" class=\"data row11 col1\" >0.76</td>\n",
              "      <td id=\"T_de9f5_row11_col2\" class=\"data row11 col2\" >0.52</td>\n",
              "      <td id=\"T_de9f5_row11_col3\" class=\"data row11 col3\" >0.61</td>\n",
              "      <td id=\"T_de9f5_row11_col4\" class=\"data row11 col4\" >0.79</td>\n",
              "      <td id=\"T_de9f5_row11_col5\" class=\"data row11 col5\" >0.72</td>\n",
              "    </tr>\n",
              "    <tr>\n",
              "      <th id=\"T_de9f5_level0_row12\" class=\"row_heading level0 row12\" >12</th>\n",
              "      <td id=\"T_de9f5_row12_col0\" class=\"data row12 col0\" >0.60</td>\n",
              "      <td id=\"T_de9f5_row12_col1\" class=\"data row12 col1\" >0.91</td>\n",
              "      <td id=\"T_de9f5_row12_col2\" class=\"data row12 col2\" >0.44</td>\n",
              "      <td id=\"T_de9f5_row12_col3\" class=\"data row12 col3\" >0.59</td>\n",
              "      <td id=\"T_de9f5_row12_col4\" class=\"data row12 col4\" >0.79</td>\n",
              "      <td id=\"T_de9f5_row12_col5\" class=\"data row12 col5\" >0.74</td>\n",
              "    </tr>\n",
              "    <tr>\n",
              "      <th id=\"T_de9f5_level0_row13\" class=\"row_heading level0 row13\" >13</th>\n",
              "      <td id=\"T_de9f5_row13_col0\" class=\"data row13 col0\" >0.65</td>\n",
              "      <td id=\"T_de9f5_row13_col1\" class=\"data row13 col1\" >0.92</td>\n",
              "      <td id=\"T_de9f5_row13_col2\" class=\"data row13 col2\" >0.39</td>\n",
              "      <td id=\"T_de9f5_row13_col3\" class=\"data row13 col3\" >0.54</td>\n",
              "      <td id=\"T_de9f5_row13_col4\" class=\"data row13 col4\" >0.79</td>\n",
              "      <td id=\"T_de9f5_row13_col5\" class=\"data row13 col5\" >0.72</td>\n",
              "    </tr>\n",
              "    <tr>\n",
              "      <th id=\"T_de9f5_level0_row14\" class=\"row_heading level0 row14\" >14</th>\n",
              "      <td id=\"T_de9f5_row14_col0\" class=\"data row14 col0\" >0.70</td>\n",
              "      <td id=\"T_de9f5_row14_col1\" class=\"data row14 col1\" >0.91</td>\n",
              "      <td id=\"T_de9f5_row14_col2\" class=\"data row14 col2\" >0.37</td>\n",
              "      <td id=\"T_de9f5_row14_col3\" class=\"data row14 col3\" >0.52</td>\n",
              "      <td id=\"T_de9f5_row14_col4\" class=\"data row14 col4\" >0.79</td>\n",
              "      <td id=\"T_de9f5_row14_col5\" class=\"data row14 col5\" >0.71</td>\n",
              "    </tr>\n",
              "    <tr>\n",
              "      <th id=\"T_de9f5_level0_row15\" class=\"row_heading level0 row15\" >15</th>\n",
              "      <td id=\"T_de9f5_row15_col0\" class=\"data row15 col0\" >0.75</td>\n",
              "      <td id=\"T_de9f5_row15_col1\" class=\"data row15 col1\" >0.92</td>\n",
              "      <td id=\"T_de9f5_row15_col2\" class=\"data row15 col2\" >0.32</td>\n",
              "      <td id=\"T_de9f5_row15_col3\" class=\"data row15 col3\" >0.47</td>\n",
              "      <td id=\"T_de9f5_row15_col4\" class=\"data row15 col4\" >0.79</td>\n",
              "      <td id=\"T_de9f5_row15_col5\" class=\"data row15 col5\" >0.69</td>\n",
              "    </tr>\n",
              "    <tr>\n",
              "      <th id=\"T_de9f5_level0_row16\" class=\"row_heading level0 row16\" >16</th>\n",
              "      <td id=\"T_de9f5_row16_col0\" class=\"data row16 col0\" >0.80</td>\n",
              "      <td id=\"T_de9f5_row16_col1\" class=\"data row16 col1\" >0.96</td>\n",
              "      <td id=\"T_de9f5_row16_col2\" class=\"data row16 col2\" >0.21</td>\n",
              "      <td id=\"T_de9f5_row16_col3\" class=\"data row16 col3\" >0.35</td>\n",
              "      <td id=\"T_de9f5_row16_col4\" class=\"data row16 col4\" >0.79</td>\n",
              "      <td id=\"T_de9f5_row16_col5\" class=\"data row16 col5\" >0.65</td>\n",
              "    </tr>\n",
              "    <tr>\n",
              "      <th id=\"T_de9f5_level0_row17\" class=\"row_heading level0 row17\" >17</th>\n",
              "      <td id=\"T_de9f5_row17_col0\" class=\"data row17 col0\" >0.85</td>\n",
              "      <td id=\"T_de9f5_row17_col1\" class=\"data row17 col1\" >0.93</td>\n",
              "      <td id=\"T_de9f5_row17_col2\" class=\"data row17 col2\" >0.11</td>\n",
              "      <td id=\"T_de9f5_row17_col3\" class=\"data row17 col3\" >0.20</td>\n",
              "      <td id=\"T_de9f5_row17_col4\" class=\"data row17 col4\" >0.79</td>\n",
              "      <td id=\"T_de9f5_row17_col5\" class=\"data row17 col5\" >0.61</td>\n",
              "    </tr>\n",
              "    <tr>\n",
              "      <th id=\"T_de9f5_level0_row18\" class=\"row_heading level0 row18\" >18</th>\n",
              "      <td id=\"T_de9f5_row18_col0\" class=\"data row18 col0\" >0.90</td>\n",
              "      <td id=\"T_de9f5_row18_col1\" class=\"data row18 col1\" >0.50</td>\n",
              "      <td id=\"T_de9f5_row18_col2\" class=\"data row18 col2\" >0.01</td>\n",
              "      <td id=\"T_de9f5_row18_col3\" class=\"data row18 col3\" >0.02</td>\n",
              "      <td id=\"T_de9f5_row18_col4\" class=\"data row18 col4\" >0.79</td>\n",
              "      <td id=\"T_de9f5_row18_col5\" class=\"data row18 col5\" >0.57</td>\n",
              "    </tr>\n",
              "    <tr>\n",
              "      <th id=\"T_de9f5_level0_row19\" class=\"row_heading level0 row19\" >19</th>\n",
              "      <td id=\"T_de9f5_row19_col0\" class=\"data row19 col0\" >0.95</td>\n",
              "      <td id=\"T_de9f5_row19_col1\" class=\"data row19 col1\" >0.00</td>\n",
              "      <td id=\"T_de9f5_row19_col2\" class=\"data row19 col2\" >0.00</td>\n",
              "      <td id=\"T_de9f5_row19_col3\" class=\"data row19 col3\" >0.00</td>\n",
              "      <td id=\"T_de9f5_row19_col4\" class=\"data row19 col4\" >0.79</td>\n",
              "      <td id=\"T_de9f5_row19_col5\" class=\"data row19 col5\" >0.57</td>\n",
              "    </tr>\n",
              "    <tr>\n",
              "      <th id=\"T_de9f5_level0_row20\" class=\"row_heading level0 row20\" >20</th>\n",
              "      <td id=\"T_de9f5_row20_col0\" class=\"data row20 col0\" >1.00</td>\n",
              "      <td id=\"T_de9f5_row20_col1\" class=\"data row20 col1\" >0.00</td>\n",
              "      <td id=\"T_de9f5_row20_col2\" class=\"data row20 col2\" >0.00</td>\n",
              "      <td id=\"T_de9f5_row20_col3\" class=\"data row20 col3\" >0.00</td>\n",
              "      <td id=\"T_de9f5_row20_col4\" class=\"data row20 col4\" >0.79</td>\n",
              "      <td id=\"T_de9f5_row20_col5\" class=\"data row20 col5\" >0.57</td>\n",
              "    </tr>\n",
              "  </tbody>\n",
              "</table>\n"
            ]
          },
          "metadata": {},
          "execution_count": 23
        }
      ],
      "source": [
        "result_df, fancy_df = threshold_results(np.round(np.arange(0.0,1.01,.05), 2), y_test, yraw)\n",
        "fancy_df"
      ]
    },
    {
      "cell_type": "markdown",
      "metadata": {
        "id": "agVPpWkS4nlt"
      },
      "source": [
        "#II. Getting ready for tuning\n",
        "\n",
        "We cannot use sklearn HalvingSearchCV here, at least not directly.\n",
        "\n",
        "It is more complicated, sigh.\n"
      ]
    },
    {
      "cell_type": "markdown",
      "metadata": {
        "id": "eOSl-q_r_JKL"
      },
      "source": [
        "##We need to package up ANN building\n",
        "\n",
        "There are two approaches to tuning an ANN. One involves sklearn. The good news is that we should be able to use the same tuning method, halving search. The bad news is that tensorflow and sklearn are two different libraries. So we would have to employ yet a 3rd library to get them to talk together:\n",
        "\n",
        "<pre>\n",
        "try:\n",
        "    import scikeras\n",
        "except ImportError:\n",
        "    !python -m pip install scikeras\n",
        "</pre>\n",
        "\n",
        "I find this library confusing. Too many moving parts to glue things together. As an alternative, tensorflow has a tuner built just for it. The good news is we do not have to glue libraries together. The bad news it is still complicated to use. But I still find it slighly easier to use than `scikeras`."
      ]
    },
    {
      "cell_type": "code",
      "execution_count": 24,
      "metadata": {
        "colab": {
          "base_uri": "https://localhost:8080/"
        },
        "id": "qgWauy1Ne50o",
        "outputId": "02a76461-2dd6-4bb5-a687-da22256cc109"
      },
      "outputs": [
        {
          "output_type": "stream",
          "name": "stdout",
          "text": [
            "\u001b[?25l   \u001b[90m━━━━━━━━━━━━━━━━━━━━━━━━━━━━━━━━━━━━━━━━\u001b[0m \u001b[32m0.0/129.1 kB\u001b[0m \u001b[31m?\u001b[0m eta \u001b[36m-:--:--\u001b[0m\r\u001b[2K   \u001b[91m━━━━━━━━━━━━━━━━━━━━━━━━━━━━━━━\u001b[0m\u001b[91m╸\u001b[0m\u001b[90m━━━━━━━━\u001b[0m \u001b[32m102.4/129.1 kB\u001b[0m \u001b[31m2.8 MB/s\u001b[0m eta \u001b[36m0:00:01\u001b[0m\r\u001b[2K   \u001b[90m━━━━━━━━━━━━━━━━━━━━━━━━━━━━━━━━━━━━━━━━\u001b[0m \u001b[32m129.1/129.1 kB\u001b[0m \u001b[31m2.5 MB/s\u001b[0m eta \u001b[36m0:00:00\u001b[0m\n",
            "\u001b[?25h"
          ]
        }
      ],
      "source": [
        "#tuner library we will use\n",
        "!pip install keras-tuner -q\n",
        "import keras_tuner"
      ]
    },
    {
      "cell_type": "markdown",
      "metadata": {
        "id": "E2ya2Vlo75WH"
      },
      "source": [
        "###If we are going to tune we need choices\n",
        "\n",
        "The obvious choices are how many layers and for each layer, how many nodes.\n",
        "The one new choice I will add is for the activation function. I will do tuning on both relu (seen in last chapter) and leaky-relu. You can see below that the \"leak\" is for negative values - it does not map them automatically to 0 but gives them a small, scaled, negative contribution. This addresses a problem with relu, which has a tendency to eventually map all weights to 0, AKA the vanishing gradient. You cannot do learning with weights of 0.\n",
        "\n",
        "<pre>\n",
        "def leakyrelu(A,x):\n",
        "  return A*x if x<0 else x\n",
        "</pre>"
      ]
    },
    {
      "cell_type": "markdown",
      "metadata": {
        "id": "PLLRL3w42y2a"
      },
      "source": [
        "###Add a new choice for activation function\n",
        "\n",
        "<img src='https://www.dropbox.com/scl/fi/zbosbh712w3zd9daqbzj2/Screenshot-2023-09-26-at-4.38.30-PM.png?rlkey=cqjzxengplxm10ctog7jp82zw&raw=1'>\n",
        "\n",
        "\n",
        "[More discussion on these choices among others](https://www.deeplearningwizard.com/deep_learning/boosting_models_pytorch/weight_initialization_activation_functions/#case-3-leaky-relu)."
      ]
    },
    {
      "cell_type": "markdown",
      "metadata": {
        "id": "pq7vNxim9VH6"
      },
      "source": [
        "##Ok, here is where you need to buckle up\n",
        "\n",
        "We need to define a function that will construct, compile and return an ANN model. The trick is, we will parameterize model building within the function body (as opposed to passing in a large parameter list).\n",
        "\n",
        "The class `hp` comes with `keras_tuner` and stands for hyperparameters. What it gives us is a set of methods for laying out alternative choices. In essence, it replaces the `param_grid` we have been using up until now.\n",
        "\n",
        "I think it is more confusing than the `param_grid`, but it is what is built-in to `keras_tuner`.\n",
        "\n",
        "Let me show you a few things we will use in our new function:\n",
        "\n",
        "<pre>\n",
        "units=hp.Int(f\"hidden_units{i}\", min_value=min_units, max_value=max_units, step=step_units)\n",
        "</pre>\n",
        "This is the `Int` method. It allows you to set up choices. I suppose it would be a bit like using `range` in `param_grid` to set up choices. Notice I have to give it a name, i.e., \"hidden_units{i}\". The name has to be unique, hence I added the `{i}`. Here is the confusing part, at least to me: you cannot read it as literal code. You read it as when we are tuning, we will try various combinations of values. `Int` will give a different random value each time we take a tuning step (called a trial). So it is like `build` will be called over and over again, once for each tuning step. And we will get a random value each time it is called from this line of code."
      ]
    },
    {
      "cell_type": "markdown",
      "metadata": {
        "id": "TX4jb1v0OvgA"
      },
      "source": [
        "##Need to build a class\n",
        "\n",
        "The main workhorse is the `build` method. The constructor is used to set up bounds on our choices. Note that differs from video. Here, I am passing in bounds, whereas in the video, I had them hard-coded.\n",
        "\n",
        "Notice that each layer is basically the same format with slight changes so I can use a loop to build them."
      ]
    },
    {
      "cell_type": "code",
      "execution_count": 25,
      "metadata": {
        "id": "EY1AbKB7JeV_"
      },
      "outputs": [],
      "source": [
        "class MyHyperModel(keras_tuner.HyperModel):\n",
        "  def __init__(self, n=6, metrics='auc',\n",
        "                      layers=(1,5,1),   #1 to 5 by 1\n",
        "                      units=(2,16,1),   #2 to 16 by 1\n",
        "                      afn_list=('relu', 'leaky_relu')):\n",
        "    self.n = n #number of features\n",
        "    self.metrics = metrics\n",
        "    self.units = units\n",
        "    self.layers = layers\n",
        "    self.afn_list = afn_list\n",
        "\n",
        "  def build(self, hp):\n",
        "\n",
        "    n = self.n\n",
        "    metrics = self.metrics\n",
        "    min_units = self.units[0]\n",
        "    max_units = self.units[1]\n",
        "    step_units = self.units[2]\n",
        "\n",
        "    min_layers = self.layers[0]\n",
        "    max_layers = self.layers[1]\n",
        "    step_layers = self.layers[2]\n",
        "\n",
        "    n_afns = len(self.afn_list)\n",
        "\n",
        "    ann_model = Sequential()\n",
        "\n",
        "    # Input layer\n",
        "    ann_model.add(Input(shape=(n,), name=\"input_layer\"))\n",
        "\n",
        "    #add one or more new hidden layers\n",
        "    layers = hp.Int(\"layers\", min_value=min_layers, max_value=max_layers, step=step_layers)\n",
        "    for i in range(layers):\n",
        "      layer_name = f\"hidden_layer_{i}\"\n",
        "      ann_model.add(Dense(\n",
        "                  name=layer_name+'_dense',\n",
        "                  kernel_regularizer=tf.keras.regularizers.l2(0.01),  #fixed but could be tuned\n",
        "                  kernel_initializer=tf.keras.initializers.HeNormal(seed=string_to_seed(layer_name+'_dense')),\n",
        "\n",
        "                  # Tune number of units.\n",
        "                  units=hp.Int(f\"hidden_units{i}\", min_value=min_units, max_value=max_units, step=step_units),\n",
        "\n",
        "                  # Tune the activation function to use.\n",
        "                  activation= self.afn_list[hp.Int(f'afn{i}', min_value=0, max_value=n_afns-1, step=1)],\n",
        "      ))\n",
        "\n",
        "    #now output layer\n",
        "    ann_model.add(Dense(units=1, activation='sigmoid'))\n",
        "\n",
        "    ann_model.compile(loss=tf.keras.losses.BinaryCrossentropy(label_smoothing=.1),  #fixed but could be tuned\n",
        "                  optimizer=tf.keras.optimizers.Adam(learning_rate=.001),           #fixed but could be tuned\n",
        "                  metrics=['auc', 'accuracy']\n",
        ")\n",
        "    return ann_model"
      ]
    },
    {
      "cell_type": "markdown",
      "metadata": {
        "id": "xfOttFoZPAsg"
      },
      "source": [
        "##Discussion\n",
        "\n",
        "In essence, the build method is called for each new trial, i.e., each new choice from the configurations. The hp choice methods randomly choose values.\n",
        "\n",
        "I hope you can see where I am making choices by looking for the hp methods. Could I have made more choices? Sure. I could have chosen the  (reverse) lambda value. So up to you to decide how much you want to tune."
      ]
    },
    {
      "cell_type": "markdown",
      "metadata": {
        "id": "tRO1gVqFTkBe"
      },
      "source": [
        "###Search space\n",
        "\n",
        "I was trying roughly calculate how many unique configurations are possible with the build method above. My notes:\n",
        "\n",
        "* Each layer has `15x2=30` configurations.\n",
        "\n",
        "* There are 5 layers possible.\n",
        "\n",
        "* I came up with `30**5=24,300,000`. Caveat: it is really more given I should be summing `30**1 + 30**2 + 30**3 + ...30**5` given the `layers` choice.\n",
        "\n",
        "Yikes! That's a big space."
      ]
    },
    {
      "cell_type": "markdown",
      "metadata": {
        "id": "_UZNJfBf7Ka0"
      },
      "source": [
        "#Choice of search algorithm\n",
        "\n",
        "Ok, we now have our model generator set up with choice points. So this is similar to having `param_grid` set up in prior chapters. The next question is how we want to search this space for best combos.\n",
        "`keras_tuner` offers us 3 alternatives and one of them is similar to halving search: Hyperband. But I thought I would change things up a bit, and try a new search algorithm, random search. It's fairly simple. It randomly samples from all possible configurations. You tell it how many times to sample. It records the configuration that gives best results. If you say sample them all, then you have, in essence, grid search (24 million combinations).\n",
        "\n",
        "The tradeoff is between how many to sample and how long you want to wait: the more you sample, the longer you wait.\n",
        "\n",
        "I am choosing 40, which ends up about 10 minutes. Given 10 minutes is really not that long, I probably could have increased to a higher number. And if you were doing this for real, with this large a search space, you would tell your boss it's going to take days and she better give you extra computing power!\n",
        "\n",
        "For a discussion that includes another available search algorithm provided by keras_tuner (described in the video), [see here](https://mikulskibartosz.name/using-hyperband-for-tensorflow-hyperparameter-tuning-with-keras-tuner)."
      ]
    },
    {
      "cell_type": "code",
      "execution_count": 26,
      "metadata": {
        "id": "1mwoyTcAJ9Jh"
      },
      "outputs": [],
      "source": [
        "tf.keras.utils.set_random_seed(1234)  #need this for replication\n",
        "\n",
        "max_trials = 40 #a tough choice - larger is better but takes more time\n",
        "\n",
        "hyper_tuner = keras_tuner.RandomSearch(\n",
        "    hypermodel=MyHyperModel(),\n",
        "    objective=keras_tuner.Objective('auc', 'max'),\n",
        "    max_trials=max_trials,  #how many models to build, i.e., how many different configs to try\n",
        "    executions_per_trial=1,  #given we have eliminated nondeterminism, can keep this at 1\n",
        "    overwrite=True,\n",
        "    #directory=\"ann/tb\",  #for use by TensorBoard - discussed below\n",
        "    seed=1234,\n",
        ")"
      ]
    },
    {
      "cell_type": "markdown",
      "metadata": {
        "id": "hvrMiV8Ap9aw"
      },
      "source": [
        "###An alternative to cross-validation\n",
        "\n",
        "We cannot use cross-validation as with sklearn. We have to define our own folds and it can only be one fold! It is called the validation set. I am semi-arbitrarily carving off 250 rows from training to act as this validation set. The validation set is evaluated after every epoch. View it as a mini-test set but used during training."
      ]
    },
    {
      "cell_type": "code",
      "execution_count": 27,
      "metadata": {
        "id": "O3OtnACwL4xL"
      },
      "outputs": [],
      "source": [
        "x_train_tune = x_train[:-250]  #250/1050 roughly 20% - notice neither random nor stratified, kind of bad\n",
        "x_train_val = x_train[-250:]\n",
        "y_train_tune = y_train[:-250]\n",
        "y_train_val = y_train[-250:]"
      ]
    },
    {
      "cell_type": "markdown",
      "metadata": {
        "id": "V9q5rVEqTfPk"
      },
      "source": [
        "If I was being more diligent about this, I would use `train_test_split` twice, once to carve out test set and then again to carve out validation set. Why is this better than what I have above? It will randomly sample and will stratify."
      ]
    },
    {
      "cell_type": "code",
      "execution_count": 28,
      "metadata": {
        "id": "235C1vLmCFFI"
      },
      "outputs": [],
      "source": [
        "# Then add callbacks when calling search\n",
        "callbacks = [\n",
        "        tf.keras.callbacks.EarlyStopping(\n",
        "            monitor='val_auc',              #auc during validation\n",
        "            mode='max',\n",
        "            patience=5,\n",
        "            restore_best_weights=True),\n",
        "        #keras.callbacks.TensorBoard(\"mlops/tb_logs\"),  #for use by TensorBoard but slow!\n",
        "    ]"
      ]
    },
    {
      "cell_type": "markdown",
      "metadata": {
        "id": "c08Lq3iHT9w-"
      },
      "source": [
        "Notice I changed metrics to monitor validation auc. This is standard practice. The validation set gives you a good picture of how you are doing."
      ]
    },
    {
      "cell_type": "markdown",
      "metadata": {
        "id": "FRV8dq1MwkR_"
      },
      "source": [
        "##Under 10 minutes"
      ]
    },
    {
      "cell_type": "code",
      "execution_count": 29,
      "metadata": {
        "id": "7U5nCuB6K-ji"
      },
      "outputs": [],
      "source": [
        "%%capture\n",
        "hyper_tuner.search(x_train_tune, y_train_tune,\n",
        "                   epochs=100, batch_size=100,\n",
        "                   validation_data=(x_train_val, y_train_val),\n",
        "                   callbacks=callbacks,\n",
        "                   )\n",
        "tf.keras.backend.clear_session()  #get rid of unused models created during search"
      ]
    },
    {
      "cell_type": "code",
      "execution_count": 30,
      "metadata": {
        "colab": {
          "base_uri": "https://localhost:8080/"
        },
        "id": "cZ61nl65LT1m",
        "outputId": "750e5649-b0ec-40a1-84bb-86d005d0d14d"
      },
      "outputs": [
        {
          "output_type": "execute_result",
          "data": {
            "text/plain": [
              "{'layers': 3,\n",
              " 'hidden_units0': 13,\n",
              " 'afn0': 1,\n",
              " 'hidden_units1': 15,\n",
              " 'afn1': 1,\n",
              " 'hidden_units2': 13,\n",
              " 'afn2': 0,\n",
              " 'hidden_units3': 13,\n",
              " 'afn3': 1,\n",
              " 'hidden_units4': 16,\n",
              " 'afn4': 1}"
            ]
          },
          "metadata": {},
          "execution_count": 30
        }
      ],
      "source": [
        "best_hp = hyper_tuner.get_best_hyperparameters()[0]\n",
        "best_hp.values\n"
      ]
    },
    {
      "cell_type": "markdown",
      "metadata": {
        "id": "tzbpO6ejvXmo"
      },
      "source": [
        "###My results\n",
        "\n",
        "<pre>\n",
        "{'layers': 3,\n",
        " 'hidden_units0': 13,\n",
        " 'afn0': 1,\n",
        " 'hidden_units1': 15,\n",
        " 'afn1': 1,\n",
        " 'hidden_units2': 13,\n",
        " 'afn2': 0,\n",
        " 'hidden_units3': 13,\n",
        " 'afn3': 1,\n",
        " 'hidden_units4': 16,\n",
        " 'afn4': 1}\n",
        " </pre>"
      ]
    },
    {
      "cell_type": "markdown",
      "metadata": {
        "id": "Hh-nEm6EvcX2"
      },
      "source": [
        "###Head scratcher\n",
        "\n",
        "I read the above as finding 3 layers as the best. Yet we show unit results for 5 layers. It is one of the quirks of the keras tuner. It will actually generate a random selection for each `Int` generator before the loop even starts! I have read this decision is based on performance. It is faster to generate all random numbers possibly needed up front than do it incrementally. So we can ignore everything at `hidden_units3` and beyond."
      ]
    },
    {
      "cell_type": "markdown",
      "metadata": {
        "id": "Bu1FHwjBZGu4"
      },
      "source": [
        "###Video gives more details\n",
        "\n",
        "Around minute 52 of the video I go into more detail on how keras tuner works behind the scenes, if you want a bit more on the rationale for this odd behavior."
      ]
    },
    {
      "cell_type": "markdown",
      "metadata": {
        "id": "YbrONuL-ZfqL"
      },
      "source": [
        "##Train best model\n",
        "\n",
        "We now have the best configuration out of the 40 we tried. It's relatively easy to now train a model using this configuration."
      ]
    },
    {
      "cell_type": "code",
      "execution_count": 31,
      "metadata": {
        "colab": {
          "base_uri": "https://localhost:8080/"
        },
        "collapsed": true,
        "id": "dRJNQT6mMTns",
        "outputId": "f4ed0150-0173-48fc-8b27-be069740499f"
      },
      "outputs": [
        {
          "output_type": "stream",
          "name": "stdout",
          "text": [
            "Epoch 1/100\n",
            "\u001b[1m33/33\u001b[0m \u001b[32m━━━━━━━━━━━━━━━━━━━━\u001b[0m\u001b[37m\u001b[0m \u001b[1m5s\u001b[0m 41ms/step - accuracy: 0.5575 - auc: 0.4671 - loss: 1.7010 - val_accuracy: 0.5480 - val_auc: 0.5265 - val_loss: 1.5061\n",
            "Epoch 2/100\n",
            "\u001b[1m33/33\u001b[0m \u001b[32m━━━━━━━━━━━━━━━━━━━━\u001b[0m\u001b[37m\u001b[0m \u001b[1m2s\u001b[0m 15ms/step - accuracy: 0.5651 - auc: 0.5121 - loss: 1.4924 - val_accuracy: 0.5480 - val_auc: 0.5428 - val_loss: 1.4047\n",
            "Epoch 3/100\n",
            "\u001b[1m33/33\u001b[0m \u001b[32m━━━━━━━━━━━━━━━━━━━━\u001b[0m\u001b[37m\u001b[0m \u001b[1m1s\u001b[0m 18ms/step - accuracy: 0.5560 - auc: 0.5254 - loss: 1.3977 - val_accuracy: 0.5760 - val_auc: 0.5726 - val_loss: 1.3317\n",
            "Epoch 4/100\n",
            "\u001b[1m33/33\u001b[0m \u001b[32m━━━━━━━━━━━━━━━━━━━━\u001b[0m\u001b[37m\u001b[0m \u001b[1m1s\u001b[0m 12ms/step - accuracy: 0.5760 - auc: 0.5559 - loss: 1.3251 - val_accuracy: 0.6200 - val_auc: 0.6030 - val_loss: 1.2697\n",
            "Epoch 5/100\n",
            "\u001b[1m33/33\u001b[0m \u001b[32m━━━━━━━━━━━━━━━━━━━━\u001b[0m\u001b[37m\u001b[0m \u001b[1m1s\u001b[0m 13ms/step - accuracy: 0.6043 - auc: 0.5930 - loss: 1.2621 - val_accuracy: 0.6360 - val_auc: 0.6315 - val_loss: 1.2148\n",
            "Epoch 6/100\n",
            "\u001b[1m33/33\u001b[0m \u001b[32m━━━━━━━━━━━━━━━━━━━━\u001b[0m\u001b[37m\u001b[0m \u001b[1m0s\u001b[0m 7ms/step - accuracy: 0.6463 - auc: 0.6301 - loss: 1.2056 - val_accuracy: 0.6320 - val_auc: 0.6646 - val_loss: 1.1645\n",
            "Epoch 7/100\n",
            "\u001b[1m33/33\u001b[0m \u001b[32m━━━━━━━━━━━━━━━━━━━━\u001b[0m\u001b[37m\u001b[0m \u001b[1m0s\u001b[0m 7ms/step - accuracy: 0.6508 - auc: 0.6725 - loss: 1.1533 - val_accuracy: 0.6360 - val_auc: 0.6908 - val_loss: 1.1200\n",
            "Epoch 8/100\n",
            "\u001b[1m33/33\u001b[0m \u001b[32m━━━━━━━━━━━━━━━━━━━━\u001b[0m\u001b[37m\u001b[0m \u001b[1m0s\u001b[0m 8ms/step - accuracy: 0.6719 - auc: 0.7044 - loss: 1.1067 - val_accuracy: 0.6480 - val_auc: 0.7095 - val_loss: 1.0806\n",
            "Epoch 9/100\n",
            "\u001b[1m33/33\u001b[0m \u001b[32m━━━━━━━━━━━━━━━━━━━━\u001b[0m\u001b[37m\u001b[0m \u001b[1m0s\u001b[0m 8ms/step - accuracy: 0.6633 - auc: 0.7222 - loss: 1.0659 - val_accuracy: 0.6320 - val_auc: 0.7197 - val_loss: 1.0460\n",
            "Epoch 10/100\n",
            "\u001b[1m33/33\u001b[0m \u001b[32m━━━━━━━━━━━━━━━━━━━━\u001b[0m\u001b[37m\u001b[0m \u001b[1m1s\u001b[0m 8ms/step - accuracy: 0.6739 - auc: 0.7328 - loss: 1.0298 - val_accuracy: 0.6280 - val_auc: 0.7252 - val_loss: 1.0150\n",
            "Epoch 11/100\n",
            "\u001b[1m33/33\u001b[0m \u001b[32m━━━━━━━━━━━━━━━━━━━━\u001b[0m\u001b[37m\u001b[0m \u001b[1m1s\u001b[0m 7ms/step - accuracy: 0.6746 - auc: 0.7419 - loss: 0.9972 - val_accuracy: 0.6280 - val_auc: 0.7279 - val_loss: 0.9862\n",
            "Epoch 12/100\n",
            "\u001b[1m33/33\u001b[0m \u001b[32m━━━━━━━━━━━━━━━━━━━━\u001b[0m\u001b[37m\u001b[0m \u001b[1m0s\u001b[0m 5ms/step - accuracy: 0.6818 - auc: 0.7502 - loss: 0.9669 - val_accuracy: 0.6560 - val_auc: 0.7360 - val_loss: 0.9597\n",
            "Epoch 13/100\n",
            "\u001b[1m33/33\u001b[0m \u001b[32m━━━━━━━━━━━━━━━━━━━━\u001b[0m\u001b[37m\u001b[0m \u001b[1m0s\u001b[0m 5ms/step - accuracy: 0.6817 - auc: 0.7585 - loss: 0.9403 - val_accuracy: 0.6680 - val_auc: 0.7396 - val_loss: 0.9357\n",
            "Epoch 14/100\n",
            "\u001b[1m33/33\u001b[0m \u001b[32m━━━━━━━━━━━━━━━━━━━━\u001b[0m\u001b[37m\u001b[0m \u001b[1m0s\u001b[0m 5ms/step - accuracy: 0.6893 - auc: 0.7624 - loss: 0.9160 - val_accuracy: 0.6800 - val_auc: 0.7427 - val_loss: 0.9146\n",
            "Epoch 15/100\n",
            "\u001b[1m33/33\u001b[0m \u001b[32m━━━━━━━━━━━━━━━━━━━━\u001b[0m\u001b[37m\u001b[0m \u001b[1m0s\u001b[0m 6ms/step - accuracy: 0.6997 - auc: 0.7680 - loss: 0.8940 - val_accuracy: 0.6800 - val_auc: 0.7457 - val_loss: 0.8957\n",
            "Epoch 16/100\n",
            "\u001b[1m33/33\u001b[0m \u001b[32m━━━━━━━━━━━━━━━━━━━━\u001b[0m\u001b[37m\u001b[0m \u001b[1m0s\u001b[0m 6ms/step - accuracy: 0.7029 - auc: 0.7723 - loss: 0.8738 - val_accuracy: 0.6880 - val_auc: 0.7462 - val_loss: 0.8776\n",
            "Epoch 17/100\n",
            "\u001b[1m33/33\u001b[0m \u001b[32m━━━━━━━━━━━━━━━━━━━━\u001b[0m\u001b[37m\u001b[0m \u001b[1m0s\u001b[0m 5ms/step - accuracy: 0.7030 - auc: 0.7756 - loss: 0.8555 - val_accuracy: 0.6800 - val_auc: 0.7469 - val_loss: 0.8615\n",
            "Epoch 18/100\n",
            "\u001b[1m33/33\u001b[0m \u001b[32m━━━━━━━━━━━━━━━━━━━━\u001b[0m\u001b[37m\u001b[0m \u001b[1m0s\u001b[0m 6ms/step - accuracy: 0.7032 - auc: 0.7783 - loss: 0.8389 - val_accuracy: 0.6800 - val_auc: 0.7490 - val_loss: 0.8468\n",
            "Epoch 19/100\n",
            "\u001b[1m33/33\u001b[0m \u001b[32m━━━━━━━━━━━━━━━━━━━━\u001b[0m\u001b[37m\u001b[0m \u001b[1m0s\u001b[0m 5ms/step - accuracy: 0.7031 - auc: 0.7804 - loss: 0.8235 - val_accuracy: 0.6800 - val_auc: 0.7504 - val_loss: 0.8329\n",
            "Epoch 20/100\n",
            "\u001b[1m33/33\u001b[0m \u001b[32m━━━━━━━━━━━━━━━━━━━━\u001b[0m\u001b[37m\u001b[0m \u001b[1m0s\u001b[0m 5ms/step - accuracy: 0.7037 - auc: 0.7824 - loss: 0.8092 - val_accuracy: 0.6840 - val_auc: 0.7509 - val_loss: 0.8198\n",
            "Epoch 21/100\n",
            "\u001b[1m33/33\u001b[0m \u001b[32m━━━━━━━━━━━━━━━━━━━━\u001b[0m\u001b[37m\u001b[0m \u001b[1m0s\u001b[0m 6ms/step - accuracy: 0.7125 - auc: 0.7851 - loss: 0.7959 - val_accuracy: 0.6960 - val_auc: 0.7538 - val_loss: 0.8078\n",
            "Epoch 22/100\n",
            "\u001b[1m33/33\u001b[0m \u001b[32m━━━━━━━━━━━━━━━━━━━━\u001b[0m\u001b[37m\u001b[0m \u001b[1m0s\u001b[0m 5ms/step - accuracy: 0.7175 - auc: 0.7882 - loss: 0.7836 - val_accuracy: 0.6920 - val_auc: 0.7572 - val_loss: 0.7965\n",
            "Epoch 23/100\n",
            "\u001b[1m33/33\u001b[0m \u001b[32m━━━━━━━━━━━━━━━━━━━━\u001b[0m\u001b[37m\u001b[0m \u001b[1m0s\u001b[0m 5ms/step - accuracy: 0.7187 - auc: 0.7901 - loss: 0.7723 - val_accuracy: 0.6840 - val_auc: 0.7576 - val_loss: 0.7863\n",
            "Epoch 24/100\n",
            "\u001b[1m33/33\u001b[0m \u001b[32m━━━━━━━━━━━━━━━━━━━━\u001b[0m\u001b[37m\u001b[0m \u001b[1m0s\u001b[0m 6ms/step - accuracy: 0.7182 - auc: 0.7918 - loss: 0.7621 - val_accuracy: 0.6880 - val_auc: 0.7602 - val_loss: 0.7769\n",
            "Epoch 25/100\n",
            "\u001b[1m33/33\u001b[0m \u001b[32m━━━━━━━━━━━━━━━━━━━━\u001b[0m\u001b[37m\u001b[0m \u001b[1m0s\u001b[0m 5ms/step - accuracy: 0.7161 - auc: 0.7926 - loss: 0.7528 - val_accuracy: 0.6920 - val_auc: 0.7605 - val_loss: 0.7680\n",
            "Epoch 26/100\n",
            "\u001b[1m33/33\u001b[0m \u001b[32m━━━━━━━━━━━━━━━━━━━━\u001b[0m\u001b[37m\u001b[0m \u001b[1m0s\u001b[0m 6ms/step - accuracy: 0.7182 - auc: 0.7927 - loss: 0.7441 - val_accuracy: 0.6920 - val_auc: 0.7619 - val_loss: 0.7599\n",
            "Epoch 27/100\n",
            "\u001b[1m33/33\u001b[0m \u001b[32m━━━━━━━━━━━━━━━━━━━━\u001b[0m\u001b[37m\u001b[0m \u001b[1m0s\u001b[0m 6ms/step - accuracy: 0.7195 - auc: 0.7936 - loss: 0.7361 - val_accuracy: 0.6920 - val_auc: 0.7625 - val_loss: 0.7523\n",
            "Epoch 28/100\n",
            "\u001b[1m33/33\u001b[0m \u001b[32m━━━━━━━━━━━━━━━━━━━━\u001b[0m\u001b[37m\u001b[0m \u001b[1m0s\u001b[0m 7ms/step - accuracy: 0.7195 - auc: 0.7946 - loss: 0.7288 - val_accuracy: 0.6920 - val_auc: 0.7635 - val_loss: 0.7454\n",
            "Epoch 29/100\n",
            "\u001b[1m33/33\u001b[0m \u001b[32m━━━━━━━━━━━━━━━━━━━━\u001b[0m\u001b[37m\u001b[0m \u001b[1m0s\u001b[0m 5ms/step - accuracy: 0.7195 - auc: 0.7958 - loss: 0.7221 - val_accuracy: 0.6920 - val_auc: 0.7661 - val_loss: 0.7388\n",
            "Epoch 30/100\n",
            "\u001b[1m33/33\u001b[0m \u001b[32m━━━━━━━━━━━━━━━━━━━━\u001b[0m\u001b[37m\u001b[0m \u001b[1m0s\u001b[0m 5ms/step - accuracy: 0.7193 - auc: 0.7966 - loss: 0.7158 - val_accuracy: 0.6920 - val_auc: 0.7667 - val_loss: 0.7326\n",
            "Epoch 31/100\n",
            "\u001b[1m33/33\u001b[0m \u001b[32m━━━━━━━━━━━━━━━━━━━━\u001b[0m\u001b[37m\u001b[0m \u001b[1m0s\u001b[0m 5ms/step - accuracy: 0.7193 - auc: 0.7972 - loss: 0.7100 - val_accuracy: 0.6920 - val_auc: 0.7684 - val_loss: 0.7269\n",
            "Epoch 32/100\n",
            "\u001b[1m33/33\u001b[0m \u001b[32m━━━━━━━━━━━━━━━━━━━━\u001b[0m\u001b[37m\u001b[0m \u001b[1m0s\u001b[0m 6ms/step - accuracy: 0.7193 - auc: 0.7975 - loss: 0.7046 - val_accuracy: 0.6920 - val_auc: 0.7688 - val_loss: 0.7217\n",
            "Epoch 33/100\n",
            "\u001b[1m33/33\u001b[0m \u001b[32m━━━━━━━━━━━━━━━━━━━━\u001b[0m\u001b[37m\u001b[0m \u001b[1m0s\u001b[0m 6ms/step - accuracy: 0.7193 - auc: 0.7974 - loss: 0.6997 - val_accuracy: 0.6920 - val_auc: 0.7697 - val_loss: 0.7169\n",
            "Epoch 34/100\n",
            "\u001b[1m33/33\u001b[0m \u001b[32m━━━━━━━━━━━━━━━━━━━━\u001b[0m\u001b[37m\u001b[0m \u001b[1m0s\u001b[0m 5ms/step - accuracy: 0.7193 - auc: 0.7976 - loss: 0.6950 - val_accuracy: 0.6920 - val_auc: 0.7708 - val_loss: 0.7125\n",
            "Epoch 35/100\n",
            "\u001b[1m33/33\u001b[0m \u001b[32m━━━━━━━━━━━━━━━━━━━━\u001b[0m\u001b[37m\u001b[0m \u001b[1m0s\u001b[0m 5ms/step - accuracy: 0.7193 - auc: 0.7974 - loss: 0.6907 - val_accuracy: 0.6920 - val_auc: 0.7713 - val_loss: 0.7083\n",
            "Epoch 36/100\n",
            "\u001b[1m33/33\u001b[0m \u001b[32m━━━━━━━━━━━━━━━━━━━━\u001b[0m\u001b[37m\u001b[0m \u001b[1m0s\u001b[0m 5ms/step - accuracy: 0.7193 - auc: 0.7977 - loss: 0.6866 - val_accuracy: 0.6920 - val_auc: 0.7714 - val_loss: 0.7046\n",
            "Epoch 37/100\n",
            "\u001b[1m33/33\u001b[0m \u001b[32m━━━━━━━━━━━━━━━━━━━━\u001b[0m\u001b[37m\u001b[0m \u001b[1m0s\u001b[0m 6ms/step - accuracy: 0.7193 - auc: 0.7986 - loss: 0.6828 - val_accuracy: 0.6920 - val_auc: 0.7719 - val_loss: 0.7010\n",
            "Epoch 38/100\n",
            "\u001b[1m33/33\u001b[0m \u001b[32m━━━━━━━━━━━━━━━━━━━━\u001b[0m\u001b[37m\u001b[0m \u001b[1m0s\u001b[0m 6ms/step - accuracy: 0.7193 - auc: 0.7987 - loss: 0.6793 - val_accuracy: 0.6920 - val_auc: 0.7721 - val_loss: 0.6977\n",
            "Epoch 39/100\n",
            "\u001b[1m33/33\u001b[0m \u001b[32m━━━━━━━━━━━━━━━━━━━━\u001b[0m\u001b[37m\u001b[0m \u001b[1m0s\u001b[0m 6ms/step - accuracy: 0.7193 - auc: 0.7983 - loss: 0.6760 - val_accuracy: 0.6920 - val_auc: 0.7732 - val_loss: 0.6945\n",
            "Epoch 40/100\n",
            "\u001b[1m33/33\u001b[0m \u001b[32m━━━━━━━━━━━━━━━━━━━━\u001b[0m\u001b[37m\u001b[0m \u001b[1m0s\u001b[0m 6ms/step - accuracy: 0.7193 - auc: 0.7981 - loss: 0.6729 - val_accuracy: 0.6920 - val_auc: 0.7739 - val_loss: 0.6916\n",
            "Epoch 41/100\n",
            "\u001b[1m33/33\u001b[0m \u001b[32m━━━━━━━━━━━━━━━━━━━━\u001b[0m\u001b[37m\u001b[0m \u001b[1m0s\u001b[0m 5ms/step - accuracy: 0.7193 - auc: 0.7985 - loss: 0.6700 - val_accuracy: 0.6920 - val_auc: 0.7747 - val_loss: 0.6890\n",
            "Epoch 42/100\n",
            "\u001b[1m33/33\u001b[0m \u001b[32m━━━━━━━━━━━━━━━━━━━━\u001b[0m\u001b[37m\u001b[0m \u001b[1m0s\u001b[0m 5ms/step - accuracy: 0.7193 - auc: 0.7986 - loss: 0.6673 - val_accuracy: 0.6920 - val_auc: 0.7748 - val_loss: 0.6863\n",
            "Epoch 43/100\n",
            "\u001b[1m33/33\u001b[0m \u001b[32m━━━━━━━━━━━━━━━━━━━━\u001b[0m\u001b[37m\u001b[0m \u001b[1m0s\u001b[0m 6ms/step - accuracy: 0.7192 - auc: 0.7988 - loss: 0.6648 - val_accuracy: 0.6920 - val_auc: 0.7743 - val_loss: 0.6839\n",
            "Epoch 44/100\n",
            "\u001b[1m33/33\u001b[0m \u001b[32m━━━━━━━━━━━━━━━━━━━━\u001b[0m\u001b[37m\u001b[0m \u001b[1m0s\u001b[0m 6ms/step - accuracy: 0.7196 - auc: 0.7988 - loss: 0.6624 - val_accuracy: 0.6920 - val_auc: 0.7756 - val_loss: 0.6815\n",
            "Epoch 45/100\n",
            "\u001b[1m33/33\u001b[0m \u001b[32m━━━━━━━━━━━━━━━━━━━━\u001b[0m\u001b[37m\u001b[0m \u001b[1m0s\u001b[0m 7ms/step - accuracy: 0.7196 - auc: 0.7986 - loss: 0.6601 - val_accuracy: 0.6920 - val_auc: 0.7746 - val_loss: 0.6792\n",
            "Epoch 46/100\n",
            "\u001b[1m33/33\u001b[0m \u001b[32m━━━━━━━━━━━━━━━━━━━━\u001b[0m\u001b[37m\u001b[0m \u001b[1m0s\u001b[0m 8ms/step - accuracy: 0.7192 - auc: 0.7984 - loss: 0.6579 - val_accuracy: 0.6920 - val_auc: 0.7750 - val_loss: 0.6770\n",
            "Epoch 47/100\n",
            "\u001b[1m33/33\u001b[0m \u001b[32m━━━━━━━━━━━━━━━━━━━━\u001b[0m\u001b[37m\u001b[0m \u001b[1m0s\u001b[0m 8ms/step - accuracy: 0.7187 - auc: 0.7987 - loss: 0.6559 - val_accuracy: 0.6920 - val_auc: 0.7746 - val_loss: 0.6749\n",
            "Epoch 48/100\n",
            "\u001b[1m33/33\u001b[0m \u001b[32m━━━━━━━━━━━━━━━━━━━━\u001b[0m\u001b[37m\u001b[0m \u001b[1m0s\u001b[0m 8ms/step - accuracy: 0.7190 - auc: 0.7993 - loss: 0.6539 - val_accuracy: 0.6920 - val_auc: 0.7744 - val_loss: 0.6731\n",
            "Epoch 49/100\n",
            "\u001b[1m33/33\u001b[0m \u001b[32m━━━━━━━━━━━━━━━━━━━━\u001b[0m\u001b[37m\u001b[0m \u001b[1m0s\u001b[0m 8ms/step - accuracy: 0.7187 - auc: 0.7987 - loss: 0.6521 - val_accuracy: 0.6920 - val_auc: 0.7748 - val_loss: 0.6713\n",
            "Epoch 50/100\n",
            "\u001b[1m33/33\u001b[0m \u001b[32m━━━━━━━━━━━━━━━━━━━━\u001b[0m\u001b[37m\u001b[0m \u001b[1m0s\u001b[0m 11ms/step - accuracy: 0.7187 - auc: 0.7987 - loss: 0.6504 - val_accuracy: 0.6920 - val_auc: 0.7747 - val_loss: 0.6696\n",
            "Epoch 51/100\n",
            "\u001b[1m33/33\u001b[0m \u001b[32m━━━━━━━━━━━━━━━━━━━━\u001b[0m\u001b[37m\u001b[0m \u001b[1m1s\u001b[0m 8ms/step - accuracy: 0.7187 - auc: 0.7980 - loss: 0.6487 - val_accuracy: 0.6920 - val_auc: 0.7752 - val_loss: 0.6679\n",
            "Epoch 52/100\n",
            "\u001b[1m33/33\u001b[0m \u001b[32m━━━━━━━━━━━━━━━━━━━━\u001b[0m\u001b[37m\u001b[0m \u001b[1m0s\u001b[0m 6ms/step - accuracy: 0.7187 - auc: 0.7991 - loss: 0.6470 - val_accuracy: 0.6920 - val_auc: 0.7757 - val_loss: 0.6663\n",
            "Epoch 53/100\n",
            "\u001b[1m33/33\u001b[0m \u001b[32m━━━━━━━━━━━━━━━━━━━━\u001b[0m\u001b[37m\u001b[0m \u001b[1m0s\u001b[0m 6ms/step - accuracy: 0.7187 - auc: 0.7999 - loss: 0.6455 - val_accuracy: 0.6920 - val_auc: 0.7749 - val_loss: 0.6647\n",
            "Epoch 54/100\n",
            "\u001b[1m33/33\u001b[0m \u001b[32m━━━━━━━━━━━━━━━━━━━━\u001b[0m\u001b[37m\u001b[0m \u001b[1m0s\u001b[0m 5ms/step - accuracy: 0.7187 - auc: 0.7995 - loss: 0.6440 - val_accuracy: 0.6920 - val_auc: 0.7756 - val_loss: 0.6632\n",
            "Epoch 55/100\n",
            "\u001b[1m33/33\u001b[0m \u001b[32m━━━━━━━━━━━━━━━━━━━━\u001b[0m\u001b[37m\u001b[0m \u001b[1m0s\u001b[0m 5ms/step - accuracy: 0.7187 - auc: 0.7990 - loss: 0.6426 - val_accuracy: 0.6920 - val_auc: 0.7757 - val_loss: 0.6618\n",
            "Epoch 56/100\n",
            "\u001b[1m33/33\u001b[0m \u001b[32m━━━━━━━━━━━━━━━━━━━━\u001b[0m\u001b[37m\u001b[0m \u001b[1m0s\u001b[0m 6ms/step - accuracy: 0.7187 - auc: 0.7997 - loss: 0.6413 - val_accuracy: 0.6920 - val_auc: 0.7754 - val_loss: 0.6606\n",
            "Epoch 57/100\n",
            "\u001b[1m33/33\u001b[0m \u001b[32m━━━━━━━━━━━━━━━━━━━━\u001b[0m\u001b[37m\u001b[0m \u001b[1m0s\u001b[0m 5ms/step - accuracy: 0.7187 - auc: 0.7999 - loss: 0.6401 - val_accuracy: 0.6920 - val_auc: 0.7756 - val_loss: 0.6593\n",
            "Epoch 58/100\n",
            "\u001b[1m33/33\u001b[0m \u001b[32m━━━━━━━━━━━━━━━━━━━━\u001b[0m\u001b[37m\u001b[0m \u001b[1m0s\u001b[0m 5ms/step - accuracy: 0.7187 - auc: 0.7999 - loss: 0.6390 - val_accuracy: 0.6920 - val_auc: 0.7755 - val_loss: 0.6581\n",
            "Epoch 59/100\n",
            "\u001b[1m33/33\u001b[0m \u001b[32m━━━━━━━━━━━━━━━━━━━━\u001b[0m\u001b[37m\u001b[0m \u001b[1m0s\u001b[0m 5ms/step - accuracy: 0.7187 - auc: 0.8002 - loss: 0.6379 - val_accuracy: 0.6920 - val_auc: 0.7761 - val_loss: 0.6570\n",
            "Epoch 60/100\n",
            "\u001b[1m33/33\u001b[0m \u001b[32m━━━━━━━━━━━━━━━━━━━━\u001b[0m\u001b[37m\u001b[0m \u001b[1m0s\u001b[0m 5ms/step - accuracy: 0.7187 - auc: 0.7999 - loss: 0.6368 - val_accuracy: 0.6920 - val_auc: 0.7766 - val_loss: 0.6559\n",
            "Epoch 61/100\n",
            "\u001b[1m33/33\u001b[0m \u001b[32m━━━━━━━━━━━━━━━━━━━━\u001b[0m\u001b[37m\u001b[0m \u001b[1m0s\u001b[0m 5ms/step - accuracy: 0.7225 - auc: 0.8004 - loss: 0.6358 - val_accuracy: 0.6920 - val_auc: 0.7759 - val_loss: 0.6550\n",
            "Epoch 62/100\n",
            "\u001b[1m33/33\u001b[0m \u001b[32m━━━━━━━━━━━━━━━━━━━━\u001b[0m\u001b[37m\u001b[0m \u001b[1m0s\u001b[0m 5ms/step - accuracy: 0.7225 - auc: 0.8002 - loss: 0.6349 - val_accuracy: 0.6920 - val_auc: 0.7755 - val_loss: 0.6540\n",
            "Epoch 63/100\n",
            "\u001b[1m33/33\u001b[0m \u001b[32m━━━━━━━━━━━━━━━━━━━━\u001b[0m\u001b[37m\u001b[0m \u001b[1m0s\u001b[0m 5ms/step - accuracy: 0.7242 - auc: 0.8007 - loss: 0.6340 - val_accuracy: 0.6920 - val_auc: 0.7764 - val_loss: 0.6530\n",
            "Epoch 64/100\n",
            "\u001b[1m33/33\u001b[0m \u001b[32m━━━━━━━━━━━━━━━━━━━━\u001b[0m\u001b[37m\u001b[0m \u001b[1m0s\u001b[0m 5ms/step - accuracy: 0.7242 - auc: 0.8007 - loss: 0.6331 - val_accuracy: 0.6920 - val_auc: 0.7761 - val_loss: 0.6521\n",
            "Epoch 65/100\n",
            "\u001b[1m33/33\u001b[0m \u001b[32m━━━━━━━━━━━━━━━━━━━━\u001b[0m\u001b[37m\u001b[0m \u001b[1m0s\u001b[0m 5ms/step - accuracy: 0.7242 - auc: 0.8005 - loss: 0.6323 - val_accuracy: 0.6920 - val_auc: 0.7759 - val_loss: 0.6512\n",
            "Epoch 66/100\n",
            "\u001b[1m33/33\u001b[0m \u001b[32m━━━━━━━━━━━━━━━━━━━━\u001b[0m\u001b[37m\u001b[0m \u001b[1m0s\u001b[0m 5ms/step - accuracy: 0.7242 - auc: 0.8009 - loss: 0.6315 - val_accuracy: 0.6920 - val_auc: 0.7755 - val_loss: 0.6504\n",
            "Epoch 67/100\n",
            "\u001b[1m33/33\u001b[0m \u001b[32m━━━━━━━━━━━━━━━━━━━━\u001b[0m\u001b[37m\u001b[0m \u001b[1m0s\u001b[0m 6ms/step - accuracy: 0.7248 - auc: 0.8012 - loss: 0.6307 - val_accuracy: 0.6920 - val_auc: 0.7760 - val_loss: 0.6496\n",
            "Epoch 68/100\n",
            "\u001b[1m33/33\u001b[0m \u001b[32m━━━━━━━━━━━━━━━━━━━━\u001b[0m\u001b[37m\u001b[0m \u001b[1m0s\u001b[0m 5ms/step - accuracy: 0.7248 - auc: 0.8013 - loss: 0.6300 - val_accuracy: 0.6920 - val_auc: 0.7762 - val_loss: 0.6488\n",
            "Epoch 69/100\n",
            "\u001b[1m33/33\u001b[0m \u001b[32m━━━━━━━━━━━━━━━━━━━━\u001b[0m\u001b[37m\u001b[0m \u001b[1m0s\u001b[0m 5ms/step - accuracy: 0.7248 - auc: 0.8011 - loss: 0.6294 - val_accuracy: 0.6920 - val_auc: 0.7765 - val_loss: 0.6480\n",
            "Epoch 70/100\n",
            "\u001b[1m33/33\u001b[0m \u001b[32m━━━━━━━━━━━━━━━━━━━━\u001b[0m\u001b[37m\u001b[0m \u001b[1m0s\u001b[0m 5ms/step - accuracy: 0.7248 - auc: 0.8008 - loss: 0.6286 - val_accuracy: 0.6920 - val_auc: 0.7766 - val_loss: 0.6472\n",
            "Epoch 71/100\n",
            "\u001b[1m33/33\u001b[0m \u001b[32m━━━━━━━━━━━━━━━━━━━━\u001b[0m\u001b[37m\u001b[0m \u001b[1m0s\u001b[0m 6ms/step - accuracy: 0.7248 - auc: 0.8009 - loss: 0.6280 - val_accuracy: 0.6920 - val_auc: 0.7774 - val_loss: 0.6465\n",
            "Epoch 72/100\n",
            "\u001b[1m33/33\u001b[0m \u001b[32m━━━━━━━━━━━━━━━━━━━━\u001b[0m\u001b[37m\u001b[0m \u001b[1m0s\u001b[0m 5ms/step - accuracy: 0.7248 - auc: 0.8012 - loss: 0.6273 - val_accuracy: 0.6920 - val_auc: 0.7775 - val_loss: 0.6458\n",
            "Epoch 73/100\n",
            "\u001b[1m33/33\u001b[0m \u001b[32m━━━━━━━━━━━━━━━━━━━━\u001b[0m\u001b[37m\u001b[0m \u001b[1m0s\u001b[0m 6ms/step - accuracy: 0.7248 - auc: 0.8024 - loss: 0.6267 - val_accuracy: 0.6920 - val_auc: 0.7774 - val_loss: 0.6452\n",
            "Epoch 74/100\n",
            "\u001b[1m33/33\u001b[0m \u001b[32m━━━━━━━━━━━━━━━━━━━━\u001b[0m\u001b[37m\u001b[0m \u001b[1m0s\u001b[0m 5ms/step - accuracy: 0.7248 - auc: 0.8020 - loss: 0.6261 - val_accuracy: 0.6920 - val_auc: 0.7768 - val_loss: 0.6445\n",
            "Epoch 75/100\n",
            "\u001b[1m33/33\u001b[0m \u001b[32m━━━━━━━━━━━━━━━━━━━━\u001b[0m\u001b[37m\u001b[0m \u001b[1m0s\u001b[0m 6ms/step - accuracy: 0.7248 - auc: 0.8016 - loss: 0.6255 - val_accuracy: 0.6920 - val_auc: 0.7773 - val_loss: 0.6439\n",
            "Epoch 76/100\n",
            "\u001b[1m33/33\u001b[0m \u001b[32m━━━━━━━━━━━━━━━━━━━━\u001b[0m\u001b[37m\u001b[0m \u001b[1m0s\u001b[0m 5ms/step - accuracy: 0.7248 - auc: 0.8019 - loss: 0.6249 - val_accuracy: 0.6920 - val_auc: 0.7771 - val_loss: 0.6433\n",
            "Epoch 77/100\n",
            "\u001b[1m33/33\u001b[0m \u001b[32m━━━━━━━━━━━━━━━━━━━━\u001b[0m\u001b[37m\u001b[0m \u001b[1m0s\u001b[0m 6ms/step - accuracy: 0.7248 - auc: 0.8025 - loss: 0.6244 - val_accuracy: 0.6920 - val_auc: 0.7773 - val_loss: 0.6428\n",
            "Epoch 78/100\n",
            "\u001b[1m33/33\u001b[0m \u001b[32m━━━━━━━━━━━━━━━━━━━━\u001b[0m\u001b[37m\u001b[0m \u001b[1m0s\u001b[0m 6ms/step - accuracy: 0.7248 - auc: 0.8020 - loss: 0.6239 - val_accuracy: 0.6920 - val_auc: 0.7777 - val_loss: 0.6422\n",
            "Epoch 79/100\n",
            "\u001b[1m33/33\u001b[0m \u001b[32m━━━━━━━━━━━━━━━━━━━━\u001b[0m\u001b[37m\u001b[0m \u001b[1m0s\u001b[0m 6ms/step - accuracy: 0.7248 - auc: 0.8028 - loss: 0.6234 - val_accuracy: 0.6920 - val_auc: 0.7778 - val_loss: 0.6417\n",
            "Epoch 80/100\n",
            "\u001b[1m33/33\u001b[0m \u001b[32m━━━━━━━━━━━━━━━━━━━━\u001b[0m\u001b[37m\u001b[0m \u001b[1m0s\u001b[0m 5ms/step - accuracy: 0.7248 - auc: 0.8029 - loss: 0.6229 - val_accuracy: 0.6920 - val_auc: 0.7776 - val_loss: 0.6412\n",
            "Epoch 81/100\n",
            "\u001b[1m33/33\u001b[0m \u001b[32m━━━━━━━━━━━━━━━━━━━━\u001b[0m\u001b[37m\u001b[0m \u001b[1m0s\u001b[0m 6ms/step - accuracy: 0.7241 - auc: 0.8025 - loss: 0.6224 - val_accuracy: 0.6920 - val_auc: 0.7779 - val_loss: 0.6407\n",
            "Epoch 82/100\n",
            "\u001b[1m33/33\u001b[0m \u001b[32m━━━━━━━━━━━━━━━━━━━━\u001b[0m\u001b[37m\u001b[0m \u001b[1m0s\u001b[0m 6ms/step - accuracy: 0.7241 - auc: 0.8029 - loss: 0.6219 - val_accuracy: 0.6920 - val_auc: 0.7781 - val_loss: 0.6402\n",
            "Epoch 83/100\n",
            "\u001b[1m33/33\u001b[0m \u001b[32m━━━━━━━━━━━━━━━━━━━━\u001b[0m\u001b[37m\u001b[0m \u001b[1m0s\u001b[0m 6ms/step - accuracy: 0.7226 - auc: 0.8030 - loss: 0.6215 - val_accuracy: 0.6920 - val_auc: 0.7784 - val_loss: 0.6397\n",
            "Epoch 84/100\n",
            "\u001b[1m33/33\u001b[0m \u001b[32m━━━━━━━━━━━━━━━━━━━━\u001b[0m\u001b[37m\u001b[0m \u001b[1m0s\u001b[0m 6ms/step - accuracy: 0.7244 - auc: 0.8033 - loss: 0.6211 - val_accuracy: 0.6920 - val_auc: 0.7784 - val_loss: 0.6393\n",
            "Epoch 85/100\n",
            "\u001b[1m33/33\u001b[0m \u001b[32m━━━━━━━━━━━━━━━━━━━━\u001b[0m\u001b[37m\u001b[0m \u001b[1m0s\u001b[0m 5ms/step - accuracy: 0.7246 - auc: 0.8030 - loss: 0.6207 - val_accuracy: 0.6920 - val_auc: 0.7785 - val_loss: 0.6389\n",
            "Epoch 86/100\n",
            "\u001b[1m33/33\u001b[0m \u001b[32m━━━━━━━━━━━━━━━━━━━━\u001b[0m\u001b[37m\u001b[0m \u001b[1m0s\u001b[0m 6ms/step - accuracy: 0.7232 - auc: 0.8030 - loss: 0.6203 - val_accuracy: 0.6920 - val_auc: 0.7790 - val_loss: 0.6384\n",
            "Epoch 87/100\n",
            "\u001b[1m33/33\u001b[0m \u001b[32m━━━━━━━━━━━━━━━━━━━━\u001b[0m\u001b[37m\u001b[0m \u001b[1m0s\u001b[0m 6ms/step - accuracy: 0.7232 - auc: 0.8028 - loss: 0.6199 - val_accuracy: 0.6880 - val_auc: 0.7791 - val_loss: 0.6380\n",
            "Epoch 88/100\n",
            "\u001b[1m33/33\u001b[0m \u001b[32m━━━━━━━━━━━━━━━━━━━━\u001b[0m\u001b[37m\u001b[0m \u001b[1m0s\u001b[0m 8ms/step - accuracy: 0.7232 - auc: 0.8028 - loss: 0.6195 - val_accuracy: 0.6880 - val_auc: 0.7784 - val_loss: 0.6376\n",
            "Epoch 89/100\n",
            "\u001b[1m33/33\u001b[0m \u001b[32m━━━━━━━━━━━━━━━━━━━━\u001b[0m\u001b[37m\u001b[0m \u001b[1m0s\u001b[0m 8ms/step - accuracy: 0.7250 - auc: 0.8030 - loss: 0.6191 - val_accuracy: 0.6880 - val_auc: 0.7787 - val_loss: 0.6372\n",
            "Epoch 90/100\n",
            "\u001b[1m33/33\u001b[0m \u001b[32m━━━━━━━━━━━━━━━━━━━━\u001b[0m\u001b[37m\u001b[0m \u001b[1m0s\u001b[0m 9ms/step - accuracy: 0.7250 - auc: 0.8029 - loss: 0.6187 - val_accuracy: 0.6880 - val_auc: 0.7785 - val_loss: 0.6368\n",
            "Epoch 91/100\n",
            "\u001b[1m33/33\u001b[0m \u001b[32m━━━━━━━━━━━━━━━━━━━━\u001b[0m\u001b[37m\u001b[0m \u001b[1m1s\u001b[0m 8ms/step - accuracy: 0.7237 - auc: 0.8024 - loss: 0.6184 - val_accuracy: 0.6880 - val_auc: 0.7789 - val_loss: 0.6364\n",
            "Epoch 92/100\n",
            "\u001b[1m33/33\u001b[0m \u001b[32m━━━━━━━━━━━━━━━━━━━━\u001b[0m\u001b[37m\u001b[0m \u001b[1m0s\u001b[0m 11ms/step - accuracy: 0.7263 - auc: 0.8030 - loss: 0.6180 - val_accuracy: 0.6920 - val_auc: 0.7794 - val_loss: 0.6361\n",
            "Epoch 93/100\n",
            "\u001b[1m33/33\u001b[0m \u001b[32m━━━━━━━━━━━━━━━━━━━━\u001b[0m\u001b[37m\u001b[0m \u001b[1m1s\u001b[0m 8ms/step - accuracy: 0.7270 - auc: 0.8030 - loss: 0.6177 - val_accuracy: 0.6920 - val_auc: 0.7794 - val_loss: 0.6357\n",
            "Epoch 94/100\n",
            "\u001b[1m33/33\u001b[0m \u001b[32m━━━━━━━━━━━━━━━━━━━━\u001b[0m\u001b[37m\u001b[0m \u001b[1m0s\u001b[0m 6ms/step - accuracy: 0.7279 - auc: 0.8032 - loss: 0.6173 - val_accuracy: 0.6920 - val_auc: 0.7798 - val_loss: 0.6353\n",
            "Epoch 95/100\n",
            "\u001b[1m33/33\u001b[0m \u001b[32m━━━━━━━━━━━━━━━━━━━━\u001b[0m\u001b[37m\u001b[0m \u001b[1m0s\u001b[0m 7ms/step - accuracy: 0.7279 - auc: 0.8034 - loss: 0.6170 - val_accuracy: 0.6960 - val_auc: 0.7802 - val_loss: 0.6350\n",
            "Epoch 96/100\n",
            "\u001b[1m33/33\u001b[0m \u001b[32m━━━━━━━━━━━━━━━━━━━━\u001b[0m\u001b[37m\u001b[0m \u001b[1m0s\u001b[0m 5ms/step - accuracy: 0.7265 - auc: 0.8040 - loss: 0.6167 - val_accuracy: 0.6960 - val_auc: 0.7802 - val_loss: 0.6346\n",
            "Epoch 97/100\n",
            "\u001b[1m33/33\u001b[0m \u001b[32m━━━━━━━━━━━━━━━━━━━━\u001b[0m\u001b[37m\u001b[0m \u001b[1m0s\u001b[0m 5ms/step - accuracy: 0.7282 - auc: 0.8040 - loss: 0.6164 - val_accuracy: 0.6960 - val_auc: 0.7801 - val_loss: 0.6343\n",
            "Epoch 98/100\n",
            "\u001b[1m33/33\u001b[0m \u001b[32m━━━━━━━━━━━━━━━━━━━━\u001b[0m\u001b[37m\u001b[0m \u001b[1m0s\u001b[0m 5ms/step - accuracy: 0.7282 - auc: 0.8037 - loss: 0.6160 - val_accuracy: 0.6960 - val_auc: 0.7807 - val_loss: 0.6340\n",
            "Epoch 99/100\n",
            "\u001b[1m33/33\u001b[0m \u001b[32m━━━━━━━━━━━━━━━━━━━━\u001b[0m\u001b[37m\u001b[0m \u001b[1m0s\u001b[0m 5ms/step - accuracy: 0.7282 - auc: 0.8038 - loss: 0.6157 - val_accuracy: 0.6960 - val_auc: 0.7810 - val_loss: 0.6336\n",
            "Epoch 100/100\n",
            "\u001b[1m33/33\u001b[0m \u001b[32m━━━━━━━━━━━━━━━━━━━━\u001b[0m\u001b[37m\u001b[0m \u001b[1m0s\u001b[0m 6ms/step - accuracy: 0.7282 - auc: 0.8038 - loss: 0.6154 - val_accuracy: 0.7000 - val_auc: 0.7810 - val_loss: 0.6333\n"
          ]
        }
      ],
      "source": [
        "hypermodel = MyHyperModel()\n",
        "model = hypermodel.build(best_hp)\n",
        "training = model.fit(x_train, y_train, epochs=100, validation_data=(x_train_val, y_train_val),\n",
        "                    callbacks=[tf.keras.callbacks.EarlyStopping(\n",
        "                                      monitor='val_auc',\n",
        "                                      mode='max',\n",
        "                                      patience=15,\n",
        "                                      restore_best_weights=True)\n",
        "                   ])"
      ]
    },
    {
      "cell_type": "markdown",
      "metadata": {
        "id": "qXwRdkwixocf"
      },
      "source": [
        "###I did not turn off verbose on purpose\n",
        "\n",
        "I wanted to show you there is some value in watching epochs unfold. In particular, you should track training metrics (accuracy, auc, loss) with validation metrics (val_accuracy, val_auc, val_loss). The more they diverge, the more likely you are overfitting. For this run, I am quite pleased. Here is the last epoch:\n",
        "\n",
        "<pre>\n",
        "Epoch 100/100\n",
        "accuracy: 0.7282 - auc: 0.8038 - loss: 0.6154 - val_accuracy: 0.7000 - val_auc: 0.7810 - val_loss: 0.6333\n",
        "</pre>\n",
        "It is almost always the case that validation metrics are worse than training. However, they are quite close here. I would be worried if validation was twice as bad or even worse. In that case, you would have to think about modifying your model to combat overfitting."
      ]
    },
    {
      "cell_type": "markdown",
      "metadata": {
        "id": "GF-_ZEnZ5B5N"
      },
      "source": [
        "###We can check to make sure\n",
        "\n",
        "From below, it does match up with what we expect at least in terms of `layers=3` and units."
      ]
    },
    {
      "cell_type": "code",
      "execution_count": 32,
      "metadata": {
        "colab": {
          "base_uri": "https://localhost:8080/",
          "height": 279
        },
        "id": "A9Qrq6Sc4DHf",
        "outputId": "36005d28-b148-4141-9c29-3a361029667d"
      },
      "outputs": [
        {
          "output_type": "display_data",
          "data": {
            "text/plain": [
              "\u001b[1mModel: \"sequential\"\u001b[0m\n"
            ],
            "text/html": [
              "<pre style=\"white-space:pre;overflow-x:auto;line-height:normal;font-family:Menlo,'DejaVu Sans Mono',consolas,'Courier New',monospace\"><span style=\"font-weight: bold\">Model: \"sequential\"</span>\n",
              "</pre>\n"
            ]
          },
          "metadata": {}
        },
        {
          "output_type": "display_data",
          "data": {
            "text/plain": [
              "┏━━━━━━━━━━━━━━━━━━━━━━━━━━━━━━━━━┳━━━━━━━━━━━━━━━━━━━━━━━━┳━━━━━━━━━━━━━━━┓\n",
              "┃\u001b[1m \u001b[0m\u001b[1mLayer (type)                   \u001b[0m\u001b[1m \u001b[0m┃\u001b[1m \u001b[0m\u001b[1mOutput Shape          \u001b[0m\u001b[1m \u001b[0m┃\u001b[1m \u001b[0m\u001b[1m      Param #\u001b[0m\u001b[1m \u001b[0m┃\n",
              "┡━━━━━━━━━━━━━━━━━━━━━━━━━━━━━━━━━╇━━━━━━━━━━━━━━━━━━━━━━━━╇━━━━━━━━━━━━━━━┩\n",
              "│ hidden_layer_0_dense (\u001b[38;5;33mDense\u001b[0m)    │ (\u001b[38;5;45mNone\u001b[0m, \u001b[38;5;34m13\u001b[0m)             │            \u001b[38;5;34m91\u001b[0m │\n",
              "├─────────────────────────────────┼────────────────────────┼───────────────┤\n",
              "│ hidden_layer_1_dense (\u001b[38;5;33mDense\u001b[0m)    │ (\u001b[38;5;45mNone\u001b[0m, \u001b[38;5;34m15\u001b[0m)             │           \u001b[38;5;34m210\u001b[0m │\n",
              "├─────────────────────────────────┼────────────────────────┼───────────────┤\n",
              "│ hidden_layer_2_dense (\u001b[38;5;33mDense\u001b[0m)    │ (\u001b[38;5;45mNone\u001b[0m, \u001b[38;5;34m13\u001b[0m)             │           \u001b[38;5;34m208\u001b[0m │\n",
              "├─────────────────────────────────┼────────────────────────┼───────────────┤\n",
              "│ dense (\u001b[38;5;33mDense\u001b[0m)                   │ (\u001b[38;5;45mNone\u001b[0m, \u001b[38;5;34m1\u001b[0m)              │            \u001b[38;5;34m14\u001b[0m │\n",
              "└─────────────────────────────────┴────────────────────────┴───────────────┘\n"
            ],
            "text/html": [
              "<pre style=\"white-space:pre;overflow-x:auto;line-height:normal;font-family:Menlo,'DejaVu Sans Mono',consolas,'Courier New',monospace\">┏━━━━━━━━━━━━━━━━━━━━━━━━━━━━━━━━━┳━━━━━━━━━━━━━━━━━━━━━━━━┳━━━━━━━━━━━━━━━┓\n",
              "┃<span style=\"font-weight: bold\"> Layer (type)                    </span>┃<span style=\"font-weight: bold\"> Output Shape           </span>┃<span style=\"font-weight: bold\">       Param # </span>┃\n",
              "┡━━━━━━━━━━━━━━━━━━━━━━━━━━━━━━━━━╇━━━━━━━━━━━━━━━━━━━━━━━━╇━━━━━━━━━━━━━━━┩\n",
              "│ hidden_layer_0_dense (<span style=\"color: #0087ff; text-decoration-color: #0087ff\">Dense</span>)    │ (<span style=\"color: #00d7ff; text-decoration-color: #00d7ff\">None</span>, <span style=\"color: #00af00; text-decoration-color: #00af00\">13</span>)             │            <span style=\"color: #00af00; text-decoration-color: #00af00\">91</span> │\n",
              "├─────────────────────────────────┼────────────────────────┼───────────────┤\n",
              "│ hidden_layer_1_dense (<span style=\"color: #0087ff; text-decoration-color: #0087ff\">Dense</span>)    │ (<span style=\"color: #00d7ff; text-decoration-color: #00d7ff\">None</span>, <span style=\"color: #00af00; text-decoration-color: #00af00\">15</span>)             │           <span style=\"color: #00af00; text-decoration-color: #00af00\">210</span> │\n",
              "├─────────────────────────────────┼────────────────────────┼───────────────┤\n",
              "│ hidden_layer_2_dense (<span style=\"color: #0087ff; text-decoration-color: #0087ff\">Dense</span>)    │ (<span style=\"color: #00d7ff; text-decoration-color: #00d7ff\">None</span>, <span style=\"color: #00af00; text-decoration-color: #00af00\">13</span>)             │           <span style=\"color: #00af00; text-decoration-color: #00af00\">208</span> │\n",
              "├─────────────────────────────────┼────────────────────────┼───────────────┤\n",
              "│ dense (<span style=\"color: #0087ff; text-decoration-color: #0087ff\">Dense</span>)                   │ (<span style=\"color: #00d7ff; text-decoration-color: #00d7ff\">None</span>, <span style=\"color: #00af00; text-decoration-color: #00af00\">1</span>)              │            <span style=\"color: #00af00; text-decoration-color: #00af00\">14</span> │\n",
              "└─────────────────────────────────┴────────────────────────┴───────────────┘\n",
              "</pre>\n"
            ]
          },
          "metadata": {}
        },
        {
          "output_type": "display_data",
          "data": {
            "text/plain": [
              "\u001b[1m Total params: \u001b[0m\u001b[38;5;34m1,571\u001b[0m (6.14 KB)\n"
            ],
            "text/html": [
              "<pre style=\"white-space:pre;overflow-x:auto;line-height:normal;font-family:Menlo,'DejaVu Sans Mono',consolas,'Courier New',monospace\"><span style=\"font-weight: bold\"> Total params: </span><span style=\"color: #00af00; text-decoration-color: #00af00\">1,571</span> (6.14 KB)\n",
              "</pre>\n"
            ]
          },
          "metadata": {}
        },
        {
          "output_type": "display_data",
          "data": {
            "text/plain": [
              "\u001b[1m Trainable params: \u001b[0m\u001b[38;5;34m523\u001b[0m (2.04 KB)\n"
            ],
            "text/html": [
              "<pre style=\"white-space:pre;overflow-x:auto;line-height:normal;font-family:Menlo,'DejaVu Sans Mono',consolas,'Courier New',monospace\"><span style=\"font-weight: bold\"> Trainable params: </span><span style=\"color: #00af00; text-decoration-color: #00af00\">523</span> (2.04 KB)\n",
              "</pre>\n"
            ]
          },
          "metadata": {}
        },
        {
          "output_type": "display_data",
          "data": {
            "text/plain": [
              "\u001b[1m Non-trainable params: \u001b[0m\u001b[38;5;34m0\u001b[0m (0.00 B)\n"
            ],
            "text/html": [
              "<pre style=\"white-space:pre;overflow-x:auto;line-height:normal;font-family:Menlo,'DejaVu Sans Mono',consolas,'Courier New',monospace\"><span style=\"font-weight: bold\"> Non-trainable params: </span><span style=\"color: #00af00; text-decoration-color: #00af00\">0</span> (0.00 B)\n",
              "</pre>\n"
            ]
          },
          "metadata": {}
        },
        {
          "output_type": "display_data",
          "data": {
            "text/plain": [
              "\u001b[1m Optimizer params: \u001b[0m\u001b[38;5;34m1,048\u001b[0m (4.10 KB)\n"
            ],
            "text/html": [
              "<pre style=\"white-space:pre;overflow-x:auto;line-height:normal;font-family:Menlo,'DejaVu Sans Mono',consolas,'Courier New',monospace\"><span style=\"font-weight: bold\"> Optimizer params: </span><span style=\"color: #00af00; text-decoration-color: #00af00\">1,048</span> (4.10 KB)\n",
              "</pre>\n"
            ]
          },
          "metadata": {}
        }
      ],
      "source": [
        "model.summary()"
      ]
    },
    {
      "cell_type": "code",
      "execution_count": 33,
      "metadata": {
        "colab": {
          "base_uri": "https://localhost:8080/"
        },
        "id": "Hf3al6PJmMYo",
        "outputId": "3a268120-6cf9-4aad-e7f2-7fcb72d83761"
      },
      "outputs": [
        {
          "output_type": "execute_result",
          "data": {
            "text/plain": [
              "100"
            ]
          },
          "metadata": {},
          "execution_count": 33
        }
      ],
      "source": [
        "len(training.history['auc'])  #100 - no early stopping"
      ]
    },
    {
      "cell_type": "code",
      "execution_count": 34,
      "metadata": {
        "colab": {
          "base_uri": "https://localhost:8080/"
        },
        "id": "74X4PYDOmMYp",
        "outputId": "90c85076-5a23-4623-e846-34833f9d779d"
      },
      "outputs": [
        {
          "output_type": "execute_result",
          "data": {
            "text/plain": [
              "0.8026094436645508"
            ]
          },
          "metadata": {},
          "execution_count": 34
        }
      ],
      "source": [
        "training.history['auc'][-1]  #0.8026094436645508"
      ]
    },
    {
      "cell_type": "code",
      "execution_count": 35,
      "metadata": {
        "colab": {
          "base_uri": "https://localhost:8080/",
          "height": 472
        },
        "id": "Mj-pFez2mNvn",
        "outputId": "9f186dda-ccf1-4848-99c8-e28db9a0b891"
      },
      "outputs": [
        {
          "output_type": "display_data",
          "data": {
            "text/plain": [
              "<Figure size 640x480 with 1 Axes>"
            ],
            "image/png": "[encoded data removed]"
          },
          "metadata": {}
        }
      ],
      "source": [
        "import matplotlib.pyplot as plt\n",
        "\n",
        "plt.plot(training.history['auc'])\n",
        "plt.plot(training.history['loss'])\n",
        "plt.title('ROC AUC')\n",
        "plt.xlabel('epoch')\n",
        "plt.legend(['ROC AUC', 'loss'], loc='upper left')\n",
        "plt.show()"
      ]
    },
    {
      "cell_type": "markdown",
      "metadata": {
        "id": "m4usNP5lOUcl"
      },
      "source": [
        "###Check on test dataset"
      ]
    },
    {
      "cell_type": "code",
      "execution_count": 36,
      "metadata": {
        "colab": {
          "base_uri": "https://localhost:8080/"
        },
        "id": "ZCwy0buFNfTN",
        "outputId": "0ad3b5c3-f83a-44f9-fb1b-6a0df85522a1"
      },
      "outputs": [
        {
          "output_type": "stream",
          "name": "stdout",
          "text": [
            "\u001b[1m9/9\u001b[0m \u001b[32m━━━━━━━━━━━━━━━━━━━━\u001b[0m\u001b[37m\u001b[0m \u001b[1m0s\u001b[0m 8ms/step \n"
          ]
        },
        {
          "output_type": "execute_result",
          "data": {
            "text/plain": [
              "array([0.6162435 , 0.7569884 , 0.8081401 , 0.21723291, 0.26127705],\n",
              "      dtype=float32)"
            ]
          },
          "metadata": {},
          "execution_count": 36
        }
      ],
      "source": [
        "yraw = model.predict(x_test)[:,0]\n",
        "\n",
        "yraw[:5]  #[0.6162435 , 0.7569884 , 0.8081401 , 0.21723291, 0.26127705]\n"
      ]
    },
    {
      "cell_type": "code",
      "execution_count": 37,
      "metadata": {
        "colab": {
          "base_uri": "https://localhost:8080/",
          "height": 726
        },
        "id": "wf5DyFcvtY8R",
        "outputId": "fb7e84b2-623c-44dd-8f96-3aec23f8b102"
      },
      "outputs": [
        {
          "output_type": "execute_result",
          "data": {
            "text/plain": [
              "<pandas.io.formats.style.Styler at 0x7927855258d0>"
            ],
            "text/html": [
              "<style type=\"text/css\">\n",
              "#T_dc5a5 th:not(.index_name) {\n",
              "  background-color: #800000;\n",
              "  color: white;\n",
              "  text-align: center;\n",
              "}\n",
              "#T_dc5a5_row0_col0, #T_dc5a5_row0_col1, #T_dc5a5_row0_col3, #T_dc5a5_row0_col5, #T_dc5a5_row1_col0, #T_dc5a5_row1_col1, #T_dc5a5_row1_col3, #T_dc5a5_row1_col5, #T_dc5a5_row2_col0, #T_dc5a5_row2_col1, #T_dc5a5_row2_col2, #T_dc5a5_row2_col3, #T_dc5a5_row2_col5, #T_dc5a5_row3_col0, #T_dc5a5_row3_col1, #T_dc5a5_row3_col2, #T_dc5a5_row3_col3, #T_dc5a5_row3_col5, #T_dc5a5_row4_col0, #T_dc5a5_row4_col1, #T_dc5a5_row4_col2, #T_dc5a5_row4_col3, #T_dc5a5_row4_col5, #T_dc5a5_row5_col0, #T_dc5a5_row5_col1, #T_dc5a5_row5_col2, #T_dc5a5_row5_col3, #T_dc5a5_row5_col5, #T_dc5a5_row6_col0, #T_dc5a5_row6_col1, #T_dc5a5_row6_col2, #T_dc5a5_row6_col5, #T_dc5a5_row7_col0, #T_dc5a5_row7_col1, #T_dc5a5_row7_col2, #T_dc5a5_row7_col3, #T_dc5a5_row7_col5, #T_dc5a5_row8_col0, #T_dc5a5_row8_col1, #T_dc5a5_row8_col2, #T_dc5a5_row8_col3, #T_dc5a5_row8_col5, #T_dc5a5_row9_col0, #T_dc5a5_row9_col1, #T_dc5a5_row9_col2, #T_dc5a5_row9_col3, #T_dc5a5_row10_col0, #T_dc5a5_row10_col1, #T_dc5a5_row10_col2, #T_dc5a5_row10_col3, #T_dc5a5_row10_col5, #T_dc5a5_row11_col0, #T_dc5a5_row11_col1, #T_dc5a5_row11_col2, #T_dc5a5_row11_col3, #T_dc5a5_row11_col5, #T_dc5a5_row12_col0, #T_dc5a5_row12_col1, #T_dc5a5_row12_col2, #T_dc5a5_row12_col3, #T_dc5a5_row12_col5, #T_dc5a5_row13_col0, #T_dc5a5_row13_col1, #T_dc5a5_row13_col2, #T_dc5a5_row13_col3, #T_dc5a5_row13_col5, #T_dc5a5_row14_col0, #T_dc5a5_row14_col1, #T_dc5a5_row14_col2, #T_dc5a5_row14_col3, #T_dc5a5_row14_col5, #T_dc5a5_row15_col0, #T_dc5a5_row15_col2, #T_dc5a5_row15_col3, #T_dc5a5_row15_col5, #T_dc5a5_row16_col0, #T_dc5a5_row16_col1, #T_dc5a5_row16_col2, #T_dc5a5_row16_col3, #T_dc5a5_row16_col5, #T_dc5a5_row17_col0, #T_dc5a5_row17_col1, #T_dc5a5_row17_col2, #T_dc5a5_row17_col3, #T_dc5a5_row17_col5, #T_dc5a5_row18_col0, #T_dc5a5_row18_col1, #T_dc5a5_row18_col2, #T_dc5a5_row18_col3, #T_dc5a5_row18_col5, #T_dc5a5_row19_col0, #T_dc5a5_row19_col1, #T_dc5a5_row19_col2, #T_dc5a5_row19_col3, #T_dc5a5_row19_col5, #T_dc5a5_row20_col1, #T_dc5a5_row20_col2, #T_dc5a5_row20_col3, #T_dc5a5_row20_col5 {\n",
              "  border: 1px solid black;\n",
              "  width: 65px;\n",
              "  text-align: center;\n",
              "}\n",
              "#T_dc5a5_row0_col2, #T_dc5a5_row0_col4, #T_dc5a5_row1_col2, #T_dc5a5_row1_col4, #T_dc5a5_row2_col4, #T_dc5a5_row3_col4, #T_dc5a5_row4_col4, #T_dc5a5_row5_col4, #T_dc5a5_row6_col3, #T_dc5a5_row6_col4, #T_dc5a5_row7_col4, #T_dc5a5_row8_col4, #T_dc5a5_row9_col4, #T_dc5a5_row9_col5, #T_dc5a5_row10_col4, #T_dc5a5_row11_col4, #T_dc5a5_row12_col4, #T_dc5a5_row13_col4, #T_dc5a5_row14_col4, #T_dc5a5_row15_col1, #T_dc5a5_row15_col4, #T_dc5a5_row16_col4, #T_dc5a5_row17_col4, #T_dc5a5_row18_col4, #T_dc5a5_row19_col4, #T_dc5a5_row20_col0, #T_dc5a5_row20_col4 {\n",
              "  background-color: pink;\n",
              "  border: 1px solid black;\n",
              "  width: 65px;\n",
              "  text-align: center;\n",
              "}\n",
              "</style>\n",
              "<table id=\"T_dc5a5\" class=\"dataframe\">\n",
              "  <thead>\n",
              "    <tr>\n",
              "      <th class=\"blank level0\" >&nbsp;</th>\n",
              "      <th id=\"T_dc5a5_level0_col0\" class=\"col_heading level0 col0\" >threshold</th>\n",
              "      <th id=\"T_dc5a5_level0_col1\" class=\"col_heading level0 col1\" >precision</th>\n",
              "      <th id=\"T_dc5a5_level0_col2\" class=\"col_heading level0 col2\" >recall</th>\n",
              "      <th id=\"T_dc5a5_level0_col3\" class=\"col_heading level0 col3\" >f1</th>\n",
              "      <th id=\"T_dc5a5_level0_col4\" class=\"col_heading level0 col4\" >auc</th>\n",
              "      <th id=\"T_dc5a5_level0_col5\" class=\"col_heading level0 col5\" >accuracy</th>\n",
              "    </tr>\n",
              "  </thead>\n",
              "  <tbody>\n",
              "    <tr>\n",
              "      <th id=\"T_dc5a5_level0_row0\" class=\"row_heading level0 row0\" >0</th>\n",
              "      <td id=\"T_dc5a5_row0_col0\" class=\"data row0 col0\" >0.00</td>\n",
              "      <td id=\"T_dc5a5_row0_col1\" class=\"data row0 col1\" >0.43</td>\n",
              "      <td id=\"T_dc5a5_row0_col2\" class=\"data row0 col2\" >1.00</td>\n",
              "      <td id=\"T_dc5a5_row0_col3\" class=\"data row0 col3\" >0.60</td>\n",
              "      <td id=\"T_dc5a5_row0_col4\" class=\"data row0 col4\" >0.78</td>\n",
              "      <td id=\"T_dc5a5_row0_col5\" class=\"data row0 col5\" >0.43</td>\n",
              "    </tr>\n",
              "    <tr>\n",
              "      <th id=\"T_dc5a5_level0_row1\" class=\"row_heading level0 row1\" >1</th>\n",
              "      <td id=\"T_dc5a5_row1_col0\" class=\"data row1 col0\" >0.05</td>\n",
              "      <td id=\"T_dc5a5_row1_col1\" class=\"data row1 col1\" >0.43</td>\n",
              "      <td id=\"T_dc5a5_row1_col2\" class=\"data row1 col2\" >1.00</td>\n",
              "      <td id=\"T_dc5a5_row1_col3\" class=\"data row1 col3\" >0.60</td>\n",
              "      <td id=\"T_dc5a5_row1_col4\" class=\"data row1 col4\" >0.78</td>\n",
              "      <td id=\"T_dc5a5_row1_col5\" class=\"data row1 col5\" >0.43</td>\n",
              "    </tr>\n",
              "    <tr>\n",
              "      <th id=\"T_dc5a5_level0_row2\" class=\"row_heading level0 row2\" >2</th>\n",
              "      <td id=\"T_dc5a5_row2_col0\" class=\"data row2 col0\" >0.10</td>\n",
              "      <td id=\"T_dc5a5_row2_col1\" class=\"data row2 col1\" >0.43</td>\n",
              "      <td id=\"T_dc5a5_row2_col2\" class=\"data row2 col2\" >0.99</td>\n",
              "      <td id=\"T_dc5a5_row2_col3\" class=\"data row2 col3\" >0.60</td>\n",
              "      <td id=\"T_dc5a5_row2_col4\" class=\"data row2 col4\" >0.78</td>\n",
              "      <td id=\"T_dc5a5_row2_col5\" class=\"data row2 col5\" >0.43</td>\n",
              "    </tr>\n",
              "    <tr>\n",
              "      <th id=\"T_dc5a5_level0_row3\" class=\"row_heading level0 row3\" >3</th>\n",
              "      <td id=\"T_dc5a5_row3_col0\" class=\"data row3 col0\" >0.15</td>\n",
              "      <td id=\"T_dc5a5_row3_col1\" class=\"data row3 col1\" >0.44</td>\n",
              "      <td id=\"T_dc5a5_row3_col2\" class=\"data row3 col2\" >0.99</td>\n",
              "      <td id=\"T_dc5a5_row3_col3\" class=\"data row3 col3\" >0.61</td>\n",
              "      <td id=\"T_dc5a5_row3_col4\" class=\"data row3 col4\" >0.78</td>\n",
              "      <td id=\"T_dc5a5_row3_col5\" class=\"data row3 col5\" >0.46</td>\n",
              "    </tr>\n",
              "    <tr>\n",
              "      <th id=\"T_dc5a5_level0_row4\" class=\"row_heading level0 row4\" >4</th>\n",
              "      <td id=\"T_dc5a5_row4_col0\" class=\"data row4 col0\" >0.20</td>\n",
              "      <td id=\"T_dc5a5_row4_col1\" class=\"data row4 col1\" >0.46</td>\n",
              "      <td id=\"T_dc5a5_row4_col2\" class=\"data row4 col2\" >0.96</td>\n",
              "      <td id=\"T_dc5a5_row4_col3\" class=\"data row4 col3\" >0.62</td>\n",
              "      <td id=\"T_dc5a5_row4_col4\" class=\"data row4 col4\" >0.78</td>\n",
              "      <td id=\"T_dc5a5_row4_col5\" class=\"data row4 col5\" >0.50</td>\n",
              "    </tr>\n",
              "    <tr>\n",
              "      <th id=\"T_dc5a5_level0_row5\" class=\"row_heading level0 row5\" >5</th>\n",
              "      <td id=\"T_dc5a5_row5_col0\" class=\"data row5 col0\" >0.25</td>\n",
              "      <td id=\"T_dc5a5_row5_col1\" class=\"data row5 col1\" >0.51</td>\n",
              "      <td id=\"T_dc5a5_row5_col2\" class=\"data row5 col2\" >0.91</td>\n",
              "      <td id=\"T_dc5a5_row5_col3\" class=\"data row5 col3\" >0.65</td>\n",
              "      <td id=\"T_dc5a5_row5_col4\" class=\"data row5 col4\" >0.78</td>\n",
              "      <td id=\"T_dc5a5_row5_col5\" class=\"data row5 col5\" >0.58</td>\n",
              "    </tr>\n",
              "    <tr>\n",
              "      <th id=\"T_dc5a5_level0_row6\" class=\"row_heading level0 row6\" >6</th>\n",
              "      <td id=\"T_dc5a5_row6_col0\" class=\"data row6 col0\" >0.30</td>\n",
              "      <td id=\"T_dc5a5_row6_col1\" class=\"data row6 col1\" >0.59</td>\n",
              "      <td id=\"T_dc5a5_row6_col2\" class=\"data row6 col2\" >0.82</td>\n",
              "      <td id=\"T_dc5a5_row6_col3\" class=\"data row6 col3\" >0.69</td>\n",
              "      <td id=\"T_dc5a5_row6_col4\" class=\"data row6 col4\" >0.78</td>\n",
              "      <td id=\"T_dc5a5_row6_col5\" class=\"data row6 col5\" >0.67</td>\n",
              "    </tr>\n",
              "    <tr>\n",
              "      <th id=\"T_dc5a5_level0_row7\" class=\"row_heading level0 row7\" >7</th>\n",
              "      <td id=\"T_dc5a5_row7_col0\" class=\"data row7 col0\" >0.35</td>\n",
              "      <td id=\"T_dc5a5_row7_col1\" class=\"data row7 col1\" >0.62</td>\n",
              "      <td id=\"T_dc5a5_row7_col2\" class=\"data row7 col2\" >0.70</td>\n",
              "      <td id=\"T_dc5a5_row7_col3\" class=\"data row7 col3\" >0.66</td>\n",
              "      <td id=\"T_dc5a5_row7_col4\" class=\"data row7 col4\" >0.78</td>\n",
              "      <td id=\"T_dc5a5_row7_col5\" class=\"data row7 col5\" >0.69</td>\n",
              "    </tr>\n",
              "    <tr>\n",
              "      <th id=\"T_dc5a5_level0_row8\" class=\"row_heading level0 row8\" >8</th>\n",
              "      <td id=\"T_dc5a5_row8_col0\" class=\"data row8 col0\" >0.40</td>\n",
              "      <td id=\"T_dc5a5_row8_col1\" class=\"data row8 col1\" >0.70</td>\n",
              "      <td id=\"T_dc5a5_row8_col2\" class=\"data row8 col2\" >0.61</td>\n",
              "      <td id=\"T_dc5a5_row8_col3\" class=\"data row8 col3\" >0.65</td>\n",
              "      <td id=\"T_dc5a5_row8_col4\" class=\"data row8 col4\" >0.78</td>\n",
              "      <td id=\"T_dc5a5_row8_col5\" class=\"data row8 col5\" >0.71</td>\n",
              "    </tr>\n",
              "    <tr>\n",
              "      <th id=\"T_dc5a5_level0_row9\" class=\"row_heading level0 row9\" >9</th>\n",
              "      <td id=\"T_dc5a5_row9_col0\" class=\"data row9 col0\" >0.45</td>\n",
              "      <td id=\"T_dc5a5_row9_col1\" class=\"data row9 col1\" >0.72</td>\n",
              "      <td id=\"T_dc5a5_row9_col2\" class=\"data row9 col2\" >0.58</td>\n",
              "      <td id=\"T_dc5a5_row9_col3\" class=\"data row9 col3\" >0.64</td>\n",
              "      <td id=\"T_dc5a5_row9_col4\" class=\"data row9 col4\" >0.78</td>\n",
              "      <td id=\"T_dc5a5_row9_col5\" class=\"data row9 col5\" >0.72</td>\n",
              "    </tr>\n",
              "    <tr>\n",
              "      <th id=\"T_dc5a5_level0_row10\" class=\"row_heading level0 row10\" >10</th>\n",
              "      <td id=\"T_dc5a5_row10_col0\" class=\"data row10 col0\" >0.50</td>\n",
              "      <td id=\"T_dc5a5_row10_col1\" class=\"data row10 col1\" >0.73</td>\n",
              "      <td id=\"T_dc5a5_row10_col2\" class=\"data row10 col2\" >0.54</td>\n",
              "      <td id=\"T_dc5a5_row10_col3\" class=\"data row10 col3\" >0.62</td>\n",
              "      <td id=\"T_dc5a5_row10_col4\" class=\"data row10 col4\" >0.78</td>\n",
              "      <td id=\"T_dc5a5_row10_col5\" class=\"data row10 col5\" >0.71</td>\n",
              "    </tr>\n",
              "    <tr>\n",
              "      <th id=\"T_dc5a5_level0_row11\" class=\"row_heading level0 row11\" >11</th>\n",
              "      <td id=\"T_dc5a5_row11_col0\" class=\"data row11 col0\" >0.55</td>\n",
              "      <td id=\"T_dc5a5_row11_col1\" class=\"data row11 col1\" >0.75</td>\n",
              "      <td id=\"T_dc5a5_row11_col2\" class=\"data row11 col2\" >0.49</td>\n",
              "      <td id=\"T_dc5a5_row11_col3\" class=\"data row11 col3\" >0.59</td>\n",
              "      <td id=\"T_dc5a5_row11_col4\" class=\"data row11 col4\" >0.78</td>\n",
              "      <td id=\"T_dc5a5_row11_col5\" class=\"data row11 col5\" >0.71</td>\n",
              "    </tr>\n",
              "    <tr>\n",
              "      <th id=\"T_dc5a5_level0_row12\" class=\"row_heading level0 row12\" >12</th>\n",
              "      <td id=\"T_dc5a5_row12_col0\" class=\"data row12 col0\" >0.60</td>\n",
              "      <td id=\"T_dc5a5_row12_col1\" class=\"data row12 col1\" >0.80</td>\n",
              "      <td id=\"T_dc5a5_row12_col2\" class=\"data row12 col2\" >0.43</td>\n",
              "      <td id=\"T_dc5a5_row12_col3\" class=\"data row12 col3\" >0.56</td>\n",
              "      <td id=\"T_dc5a5_row12_col4\" class=\"data row12 col4\" >0.78</td>\n",
              "      <td id=\"T_dc5a5_row12_col5\" class=\"data row12 col5\" >0.71</td>\n",
              "    </tr>\n",
              "    <tr>\n",
              "      <th id=\"T_dc5a5_level0_row13\" class=\"row_heading level0 row13\" >13</th>\n",
              "      <td id=\"T_dc5a5_row13_col0\" class=\"data row13 col0\" >0.65</td>\n",
              "      <td id=\"T_dc5a5_row13_col1\" class=\"data row13 col1\" >0.87</td>\n",
              "      <td id=\"T_dc5a5_row13_col2\" class=\"data row13 col2\" >0.34</td>\n",
              "      <td id=\"T_dc5a5_row13_col3\" class=\"data row13 col3\" >0.49</td>\n",
              "      <td id=\"T_dc5a5_row13_col4\" class=\"data row13 col4\" >0.78</td>\n",
              "      <td id=\"T_dc5a5_row13_col5\" class=\"data row13 col5\" >0.69</td>\n",
              "    </tr>\n",
              "    <tr>\n",
              "      <th id=\"T_dc5a5_level0_row14\" class=\"row_heading level0 row14\" >14</th>\n",
              "      <td id=\"T_dc5a5_row14_col0\" class=\"data row14 col0\" >0.70</td>\n",
              "      <td id=\"T_dc5a5_row14_col1\" class=\"data row14 col1\" >0.89</td>\n",
              "      <td id=\"T_dc5a5_row14_col2\" class=\"data row14 col2\" >0.30</td>\n",
              "      <td id=\"T_dc5a5_row14_col3\" class=\"data row14 col3\" >0.45</td>\n",
              "      <td id=\"T_dc5a5_row14_col4\" class=\"data row14 col4\" >0.78</td>\n",
              "      <td id=\"T_dc5a5_row14_col5\" class=\"data row14 col5\" >0.68</td>\n",
              "    </tr>\n",
              "    <tr>\n",
              "      <th id=\"T_dc5a5_level0_row15\" class=\"row_heading level0 row15\" >15</th>\n",
              "      <td id=\"T_dc5a5_row15_col0\" class=\"data row15 col0\" >0.75</td>\n",
              "      <td id=\"T_dc5a5_row15_col1\" class=\"data row15 col1\" >0.96</td>\n",
              "      <td id=\"T_dc5a5_row15_col2\" class=\"data row15 col2\" >0.23</td>\n",
              "      <td id=\"T_dc5a5_row15_col3\" class=\"data row15 col3\" >0.37</td>\n",
              "      <td id=\"T_dc5a5_row15_col4\" class=\"data row15 col4\" >0.78</td>\n",
              "      <td id=\"T_dc5a5_row15_col5\" class=\"data row15 col5\" >0.66</td>\n",
              "    </tr>\n",
              "    <tr>\n",
              "      <th id=\"T_dc5a5_level0_row16\" class=\"row_heading level0 row16\" >16</th>\n",
              "      <td id=\"T_dc5a5_row16_col0\" class=\"data row16 col0\" >0.80</td>\n",
              "      <td id=\"T_dc5a5_row16_col1\" class=\"data row16 col1\" >0.95</td>\n",
              "      <td id=\"T_dc5a5_row16_col2\" class=\"data row16 col2\" >0.16</td>\n",
              "      <td id=\"T_dc5a5_row16_col3\" class=\"data row16 col3\" >0.27</td>\n",
              "      <td id=\"T_dc5a5_row16_col4\" class=\"data row16 col4\" >0.78</td>\n",
              "      <td id=\"T_dc5a5_row16_col5\" class=\"data row16 col5\" >0.63</td>\n",
              "    </tr>\n",
              "    <tr>\n",
              "      <th id=\"T_dc5a5_level0_row17\" class=\"row_heading level0 row17\" >17</th>\n",
              "      <td id=\"T_dc5a5_row17_col0\" class=\"data row17 col0\" >0.85</td>\n",
              "      <td id=\"T_dc5a5_row17_col1\" class=\"data row17 col1\" >0.88</td>\n",
              "      <td id=\"T_dc5a5_row17_col2\" class=\"data row17 col2\" >0.06</td>\n",
              "      <td id=\"T_dc5a5_row17_col3\" class=\"data row17 col3\" >0.11</td>\n",
              "      <td id=\"T_dc5a5_row17_col4\" class=\"data row17 col4\" >0.78</td>\n",
              "      <td id=\"T_dc5a5_row17_col5\" class=\"data row17 col5\" >0.59</td>\n",
              "    </tr>\n",
              "    <tr>\n",
              "      <th id=\"T_dc5a5_level0_row18\" class=\"row_heading level0 row18\" >18</th>\n",
              "      <td id=\"T_dc5a5_row18_col0\" class=\"data row18 col0\" >0.90</td>\n",
              "      <td id=\"T_dc5a5_row18_col1\" class=\"data row18 col1\" >0.00</td>\n",
              "      <td id=\"T_dc5a5_row18_col2\" class=\"data row18 col2\" >0.00</td>\n",
              "      <td id=\"T_dc5a5_row18_col3\" class=\"data row18 col3\" >0.00</td>\n",
              "      <td id=\"T_dc5a5_row18_col4\" class=\"data row18 col4\" >0.78</td>\n",
              "      <td id=\"T_dc5a5_row18_col5\" class=\"data row18 col5\" >0.57</td>\n",
              "    </tr>\n",
              "    <tr>\n",
              "      <th id=\"T_dc5a5_level0_row19\" class=\"row_heading level0 row19\" >19</th>\n",
              "      <td id=\"T_dc5a5_row19_col0\" class=\"data row19 col0\" >0.95</td>\n",
              "      <td id=\"T_dc5a5_row19_col1\" class=\"data row19 col1\" >0.00</td>\n",
              "      <td id=\"T_dc5a5_row19_col2\" class=\"data row19 col2\" >0.00</td>\n",
              "      <td id=\"T_dc5a5_row19_col3\" class=\"data row19 col3\" >0.00</td>\n",
              "      <td id=\"T_dc5a5_row19_col4\" class=\"data row19 col4\" >0.78</td>\n",
              "      <td id=\"T_dc5a5_row19_col5\" class=\"data row19 col5\" >0.57</td>\n",
              "    </tr>\n",
              "    <tr>\n",
              "      <th id=\"T_dc5a5_level0_row20\" class=\"row_heading level0 row20\" >20</th>\n",
              "      <td id=\"T_dc5a5_row20_col0\" class=\"data row20 col0\" >1.00</td>\n",
              "      <td id=\"T_dc5a5_row20_col1\" class=\"data row20 col1\" >0.00</td>\n",
              "      <td id=\"T_dc5a5_row20_col2\" class=\"data row20 col2\" >0.00</td>\n",
              "      <td id=\"T_dc5a5_row20_col3\" class=\"data row20 col3\" >0.00</td>\n",
              "      <td id=\"T_dc5a5_row20_col4\" class=\"data row20 col4\" >0.78</td>\n",
              "      <td id=\"T_dc5a5_row20_col5\" class=\"data row20 col5\" >0.57</td>\n",
              "    </tr>\n",
              "  </tbody>\n",
              "</table>\n"
            ]
          },
          "metadata": {},
          "execution_count": 37
        }
      ],
      "source": [
        "result_df, fancy_df = threshold_results(np.round(np.arange(0.0,1.01,.05), 2), y_test, yraw)\n",
        "fancy_df"
      ]
    },
    {
      "cell_type": "markdown",
      "metadata": {
        "id": "OAYmv0UqF7CN"
      },
      "source": [
        "#TensorBoard\n",
        "\n",
        "TensorBoard is a fancy way to visualize training and tuning. I have in essence shut it off by commenting out this line in tuning:\n",
        "\n",
        "<pre>\n",
        "#callbacks=[keras.callbacks.TensorBoard(\"mlops/tb_logs\")]  #for use by TensorBoard\n",
        "</pre>\n",
        "\n",
        "Why? Because it seems to double the time tuning takes and we won't be using TensorBoard.\n",
        "\n",
        "Why? I felt this chapter is already jam-packed with new libraries and did not want to stop and go over yet another.\n",
        "\n",
        "That said, you can uncomment the line and then run the commands below to bring TensorBoard up if you want to play with it yourself.\n",
        "\n",
        "Note you will get a \"can't find folder\" error for `%tensorboard` unless you uncomment my line.\n",
        "\n",
        "More on use of [keras_tuner and TensorBoard](https://keras.io/guides/keras_tuner/visualize_tuning/)."
      ]
    },
    {
      "cell_type": "code",
      "execution_count": 38,
      "metadata": {
        "id": "HBOQ08kFF9Od"
      },
      "outputs": [],
      "source": [
        "#%load_ext tensorboard"
      ]
    },
    {
      "cell_type": "code",
      "execution_count": 39,
      "metadata": {
        "id": "6o4uSaSaGGF0"
      },
      "outputs": [],
      "source": [
        "#%tensorboard --logdir ann/tb_logs"
      ]
    },
    {
      "cell_type": "markdown",
      "metadata": {
        "id": "a-EgecPIj9PD"
      },
      "source": [
        "#Challenge 1\n",
        "\n",
        "Tune an ANN for customer dataset."
      ]
    },
    {
      "cell_type": "markdown",
      "metadata": {
        "id": "cdnjf2WN-Jva"
      },
      "source": [
        "##Step 1.1 Bring in cable data\n",
        "\n",
        "Divide out into features and labels."
      ]
    },
    {
      "cell_type": "code",
      "execution_count": 40,
      "metadata": {
        "id": "_aiYvxcbIBEe"
      },
      "outputs": [],
      "source": [
        "url = 'https://docs.google.com/spreadsheets/d/e/2PACX-1vQPM6PqZXgmAHfRYTcDZseyALRyVwkBtKEo_rtaKq_C7T0jycWxH6QVEzTzJCRA0m8Vz0k68eM9tDm-/pub?output=csv'"
      ]
    },
    {
      "cell_type": "code",
      "execution_count": 41,
      "metadata": {
        "colab": {
          "base_uri": "https://localhost:8080/",
          "height": 206
        },
        "id": "-aLzw63jIBEr",
        "outputId": "f2ccb455-d5ce-4399-c5cd-99984b4993a0"
      },
      "outputs": [
        {
          "output_type": "execute_result",
          "data": {
            "text/plain": [
              "   Gender Experience Level  Time Spent       OS      ISP   Age  Rating\n",
              "0  Female           medium         NaN      iOS  Xfinity   NaN       0\n",
              "1    Male           medium       71.97  Android      Cox  50.0       0\n",
              "2  Female           medium      101.81      NaN      Cox  49.0       1\n",
              "3  Female           medium       86.37  Android  Xfinity  53.0       0\n",
              "4  Female           medium      103.97      iOS  Xfinity  58.0       0"
            ],
            "text/html": [
              "\n",
              "  <div id=\"df-c785668b-57b6-4636-acfb-3965f8152b70\" class=\"colab-df-container\">\n",
              "    <div>\n",
              "<style scoped>\n",
              "    .dataframe tbody tr th:only-of-type {\n",
              "        vertical-align: middle;\n",
              "    }\n",
              "\n",
              "    .dataframe tbody tr th {\n",
              "        vertical-align: top;\n",
              "    }\n",
              "\n",
              "    .dataframe thead th {\n",
              "        text-align: right;\n",
              "    }\n",
              "</style>\n",
              "<table border=\"1\" class=\"dataframe\">\n",
              "  <thead>\n",
              "    <tr style=\"text-align: right;\">\n",
              "      <th></th>\n",
              "      <th>Gender</th>\n",
              "      <th>Experience Level</th>\n",
              "      <th>Time Spent</th>\n",
              "      <th>OS</th>\n",
              "      <th>ISP</th>\n",
              "      <th>Age</th>\n",
              "      <th>Rating</th>\n",
              "    </tr>\n",
              "  </thead>\n",
              "  <tbody>\n",
              "    <tr>\n",
              "      <th>0</th>\n",
              "      <td>Female</td>\n",
              "      <td>medium</td>\n",
              "      <td>NaN</td>\n",
              "      <td>iOS</td>\n",
              "      <td>Xfinity</td>\n",
              "      <td>NaN</td>\n",
              "      <td>0</td>\n",
              "    </tr>\n",
              "    <tr>\n",
              "      <th>1</th>\n",
              "      <td>Male</td>\n",
              "      <td>medium</td>\n",
              "      <td>71.97</td>\n",
              "      <td>Android</td>\n",
              "      <td>Cox</td>\n",
              "      <td>50.0</td>\n",
              "      <td>0</td>\n",
              "    </tr>\n",
              "    <tr>\n",
              "      <th>2</th>\n",
              "      <td>Female</td>\n",
              "      <td>medium</td>\n",
              "      <td>101.81</td>\n",
              "      <td>NaN</td>\n",
              "      <td>Cox</td>\n",
              "      <td>49.0</td>\n",
              "      <td>1</td>\n",
              "    </tr>\n",
              "    <tr>\n",
              "      <th>3</th>\n",
              "      <td>Female</td>\n",
              "      <td>medium</td>\n",
              "      <td>86.37</td>\n",
              "      <td>Android</td>\n",
              "      <td>Xfinity</td>\n",
              "      <td>53.0</td>\n",
              "      <td>0</td>\n",
              "    </tr>\n",
              "    <tr>\n",
              "      <th>4</th>\n",
              "      <td>Female</td>\n",
              "      <td>medium</td>\n",
              "      <td>103.97</td>\n",
              "      <td>iOS</td>\n",
              "      <td>Xfinity</td>\n",
              "      <td>58.0</td>\n",
              "      <td>0</td>\n",
              "    </tr>\n",
              "  </tbody>\n",
              "</table>\n",
              "</div>\n",
              "    <div class=\"colab-df-buttons\">\n",
              "\n",
              "  <div class=\"colab-df-container\">\n",
              "    <button class=\"colab-df-convert\" onclick=\"convertToInteractive('df-c785668b-57b6-4636-acfb-3965f8152b70')\"\n",
              "            title=\"Convert this dataframe to an interactive table.\"\n",
              "            style=\"display:none;\">\n",
              "\n",
              "  <svg xmlns=\"http://www.w3.org/2000/svg\" height=\"24px\" viewBox=\"0 -960 960 960\">\n",
              "    <path d=\"M120-120v-720h720v720H120Zm60-500h600v-160H180v160Zm220 220h160v-160H400v160Zm0 220h160v-160H400v160ZM180-400h160v-160H180v160Zm440 0h160v-160H620v160ZM180-180h160v-160H180v160Zm440 0h160v-160H620v160Z\"/>\n",
              "  </svg>\n",
              "    </button>\n",
              "\n",
              "  <style>\n",
              "    .colab-df-container {\n",
              "      display:flex;\n",
              "      gap: 12px;\n",
              "    }\n",
              "\n",
              "    .colab-df-convert {\n",
              "      background-color: #E8F0FE;\n",
              "      border: none;\n",
              "      border-radius: 50%;\n",
              "      cursor: pointer;\n",
              "      display: none;\n",
              "      fill: #1967D2;\n",
              "      height: 32px;\n",
              "      padding: 0 0 0 0;\n",
              "      width: 32px;\n",
              "    }\n",
              "\n",
              "    .colab-df-convert:hover {\n",
              "      background-color: #E2EBFA;\n",
              "      box-shadow: 0px 1px 2px rgba(60, 64, 67, 0.3), 0px 1px 3px 1px rgba(60, 64, 67, 0.15);\n",
              "      fill: #174EA6;\n",
              "    }\n",
              "\n",
              "    .colab-df-buttons div {\n",
              "      margin-bottom: 4px;\n",
              "    }\n",
              "\n",
              "    [theme=dark] .colab-df-convert {\n",
              "      background-color: #3B4455;\n",
              "      fill: #D2E3FC;\n",
              "    }\n",
              "\n",
              "    [theme=dark] .colab-df-convert:hover {\n",
              "      background-color: #434B5C;\n",
              "      box-shadow: 0px 1px 3px 1px rgba(0, 0, 0, 0.15);\n",
              "      filter: drop-shadow(0px 1px 2px rgba(0, 0, 0, 0.3));\n",
              "      fill: #FFFFFF;\n",
              "    }\n",
              "  </style>\n",
              "\n",
              "    <script>\n",
              "      const buttonEl =\n",
              "        document.querySelector('#df-c785668b-57b6-4636-acfb-3965f8152b70 button.colab-df-convert');\n",
              "      buttonEl.style.display =\n",
              "        google.colab.kernel.accessAllowed ? 'block' : 'none';\n",
              "\n",
              "      async function convertToInteractive(key) {\n",
              "        const element = document.querySelector('#df-c785668b-57b6-4636-acfb-3965f8152b70');\n",
              "        const dataTable =\n",
              "          await google.colab.kernel.invokeFunction('convertToInteractive',\n",
              "                                                    [key], {});\n",
              "        if (!dataTable) return;\n",
              "\n",
              "        const docLinkHtml = 'Like what you see? Visit the ' +\n",
              "          '<a target=\"_blank\" href=https://colab.research.google.com/notebooks/data_table.ipynb>data table notebook</a>'\n",
              "          + ' to learn more about interactive tables.';\n",
              "        element.innerHTML = '';\n",
              "        dataTable['output_type'] = 'display_data';\n",
              "        await google.colab.output.renderOutput(dataTable, element);\n",
              "        const docLink = document.createElement('div');\n",
              "        docLink.innerHTML = docLinkHtml;\n",
              "        element.appendChild(docLink);\n",
              "      }\n",
              "    </script>\n",
              "  </div>\n",
              "\n",
              "\n",
              "    <div id=\"df-a5474008-0bae-4711-b8e4-ae71d87ef389\">\n",
              "      <button class=\"colab-df-quickchart\" onclick=\"quickchart('df-a5474008-0bae-4711-b8e4-ae71d87ef389')\"\n",
              "                title=\"Suggest charts\"\n",
              "                style=\"display:none;\">\n",
              "\n",
              "<svg xmlns=\"http://www.w3.org/2000/svg\" height=\"24px\"viewBox=\"0 0 24 24\"\n",
              "     width=\"24px\">\n",
              "    <g>\n",
              "        <path d=\"M19 3H5c-1.1 0-2 .9-2 2v14c0 1.1.9 2 2 2h14c1.1 0 2-.9 2-2V5c0-1.1-.9-2-2-2zM9 17H7v-7h2v7zm4 0h-2V7h2v10zm4 0h-2v-4h2v4z\"/>\n",
              "    </g>\n",
              "</svg>\n",
              "      </button>\n",
              "\n",
              "<style>\n",
              "  .colab-df-quickchart {\n",
              "      --bg-color: #E8F0FE;\n",
              "      --fill-color: #1967D2;\n",
              "      --hover-bg-color: #E2EBFA;\n",
              "      --hover-fill-color: #174EA6;\n",
              "      --disabled-fill-color: #AAA;\n",
              "      --disabled-bg-color: #DDD;\n",
              "  }\n",
              "\n",
              "  [theme=dark] .colab-df-quickchart {\n",
              "      --bg-color: #3B4455;\n",
              "      --fill-color: #D2E3FC;\n",
              "      --hover-bg-color: #434B5C;\n",
              "      --hover-fill-color: #FFFFFF;\n",
              "      --disabled-bg-color: #3B4455;\n",
              "      --disabled-fill-color: #666;\n",
              "  }\n",
              "\n",
              "  .colab-df-quickchart {\n",
              "    background-color: var(--bg-color);\n",
              "    border: none;\n",
              "    border-radius: 50%;\n",
              "    cursor: pointer;\n",
              "    display: none;\n",
              "    fill: var(--fill-color);\n",
              "    height: 32px;\n",
              "    padding: 0;\n",
              "    width: 32px;\n",
              "  }\n",
              "\n",
              "  .colab-df-quickchart:hover {\n",
              "    background-color: var(--hover-bg-color);\n",
              "    box-shadow: 0 1px 2px rgba(60, 64, 67, 0.3), 0 1px 3px 1px rgba(60, 64, 67, 0.15);\n",
              "    fill: var(--button-hover-fill-color);\n",
              "  }\n",
              "\n",
              "  .colab-df-quickchart-complete:disabled,\n",
              "  .colab-df-quickchart-complete:disabled:hover {\n",
              "    background-color: var(--disabled-bg-color);\n",
              "    fill: var(--disabled-fill-color);\n",
              "    box-shadow: none;\n",
              "  }\n",
              "\n",
              "  .colab-df-spinner {\n",
              "    border: 2px solid var(--fill-color);\n",
              "    border-color: transparent;\n",
              "    border-bottom-color: var(--fill-color);\n",
              "    animation:\n",
              "      spin 1s steps(1) infinite;\n",
              "  }\n",
              "\n",
              "  @keyframes spin {\n",
              "    0% {\n",
              "      border-color: transparent;\n",
              "      border-bottom-color: var(--fill-color);\n",
              "      border-left-color: var(--fill-color);\n",
              "    }\n",
              "    20% {\n",
              "      border-color: transparent;\n",
              "      border-left-color: var(--fill-color);\n",
              "      border-top-color: var(--fill-color);\n",
              "    }\n",
              "    30% {\n",
              "      border-color: transparent;\n",
              "      border-left-color: var(--fill-color);\n",
              "      border-top-color: var(--fill-color);\n",
              "      border-right-color: var(--fill-color);\n",
              "    }\n",
              "    40% {\n",
              "      border-color: transparent;\n",
              "      border-right-color: var(--fill-color);\n",
              "      border-top-color: var(--fill-color);\n",
              "    }\n",
              "    60% {\n",
              "      border-color: transparent;\n",
              "      border-right-color: var(--fill-color);\n",
              "    }\n",
              "    80% {\n",
              "      border-color: transparent;\n",
              "      border-right-color: var(--fill-color);\n",
              "      border-bottom-color: var(--fill-color);\n",
              "    }\n",
              "    90% {\n",
              "      border-color: transparent;\n",
              "      border-bottom-color: var(--fill-color);\n",
              "    }\n",
              "  }\n",
              "</style>\n",
              "\n",
              "      <script>\n",
              "        async function quickchart(key) {\n",
              "          const quickchartButtonEl =\n",
              "            document.querySelector('#' + key + ' button');\n",
              "          quickchartButtonEl.disabled = true;  // To prevent multiple clicks.\n",
              "          quickchartButtonEl.classList.add('colab-df-spinner');\n",
              "          try {\n",
              "            const charts = await google.colab.kernel.invokeFunction(\n",
              "                'suggestCharts', [key], {});\n",
              "          } catch (error) {\n",
              "            console.error('Error during call to suggestCharts:', error);\n",
              "          }\n",
              "          quickchartButtonEl.classList.remove('colab-df-spinner');\n",
              "          quickchartButtonEl.classList.add('colab-df-quickchart-complete');\n",
              "        }\n",
              "        (() => {\n",
              "          let quickchartButtonEl =\n",
              "            document.querySelector('#df-a5474008-0bae-4711-b8e4-ae71d87ef389 button');\n",
              "          quickchartButtonEl.style.display =\n",
              "            google.colab.kernel.accessAllowed ? 'block' : 'none';\n",
              "        })();\n",
              "      </script>\n",
              "    </div>\n",
              "\n",
              "    </div>\n",
              "  </div>\n"
            ],
            "application/vnd.google.colaboratory.intrinsic+json": {
              "type": "dataframe",
              "variable_name": "customers_trimmed",
              "summary": "{\n  \"name\": \"customers_trimmed\",\n  \"rows\": 977,\n  \"fields\": [\n    {\n      \"column\": \"Gender\",\n      \"properties\": {\n        \"dtype\": \"category\",\n        \"num_unique_values\": 2,\n        \"samples\": [\n          \"Male\",\n          \"Female\"\n        ],\n        \"semantic_type\": \"\",\n        \"description\": \"\"\n      }\n    },\n    {\n      \"column\": \"Experience Level\",\n      \"properties\": {\n        \"dtype\": \"category\",\n        \"num_unique_values\": 3,\n        \"samples\": [\n          \"medium\",\n          \"low\"\n        ],\n        \"semantic_type\": \"\",\n        \"description\": \"\"\n      }\n    },\n    {\n      \"column\": \"Time Spent\",\n      \"properties\": {\n        \"dtype\": \"number\",\n        \"std\": 11.236693297839539,\n        \"min\": 62.43,\n        \"max\": 144.95,\n        \"num_unique_values\": 738,\n        \"samples\": [\n          107.36,\n          71.67\n        ],\n        \"semantic_type\": \"\",\n        \"description\": \"\"\n      }\n    },\n    {\n      \"column\": \"OS\",\n      \"properties\": {\n        \"dtype\": \"category\",\n        \"num_unique_values\": 2,\n        \"samples\": [\n          \"Android\",\n          \"iOS\"\n        ],\n        \"semantic_type\": \"\",\n        \"description\": \"\"\n      }\n    },\n    {\n      \"column\": \"ISP\",\n      \"properties\": {\n        \"dtype\": \"category\",\n        \"num_unique_values\": 4,\n        \"samples\": [\n          \"Cox\",\n          \"AT&T\"\n        ],\n        \"semantic_type\": \"\",\n        \"description\": \"\"\n      }\n    },\n    {\n      \"column\": \"Age\",\n      \"properties\": {\n        \"dtype\": \"number\",\n        \"std\": 10.652659220442612,\n        \"min\": 18.0,\n        \"max\": 75.0,\n        \"num_unique_values\": 56,\n        \"samples\": [\n          50.0,\n          64.0\n        ],\n        \"semantic_type\": \"\",\n        \"description\": \"\"\n      }\n    },\n    {\n      \"column\": \"Rating\",\n      \"properties\": {\n        \"dtype\": \"number\",\n        \"std\": 0,\n        \"min\": 0,\n        \"max\": 1,\n        \"num_unique_values\": 2,\n        \"samples\": [\n          1,\n          0\n        ],\n        \"semantic_type\": \"\",\n        \"description\": \"\"\n      }\n    }\n  ]\n}"
            }
          },
          "metadata": {},
          "execution_count": 41
        }
      ],
      "source": [
        "customers_df = pd.read_csv(url)\n",
        "customers_trimmed = customers_df.drop(columns='ID')  #this is a useless column which we will drop early\n",
        "customers_trimmed = customers_trimmed.drop_duplicates(ignore_index=True)  #get rid of any duplicates\n",
        "customers_trimmed.head()"
      ]
    },
    {
      "cell_type": "code",
      "execution_count": 42,
      "metadata": {
        "id": "fO3Dc8CSHtfV"
      },
      "outputs": [],
      "source": [
        "%%capture\n",
        "x_train_cust, x_test_cust, y_train_cust,  y_test_cust = customer_setup(customers_trimmed)"
      ]
    },
    {
      "cell_type": "code",
      "execution_count": 43,
      "metadata": {
        "colab": {
          "base_uri": "https://localhost:8080/"
        },
        "id": "hQazuv2oW9qC",
        "outputId": "cd75eb8c-f688-4ce0-a084-03c558516341"
      },
      "outputs": [
        {
          "output_type": "execute_result",
          "data": {
            "text/plain": [
              "array([0.45875063, 0.43511254, 0.75411243, 0.45929552, 0.04987596,\n",
              "       0.62993528])"
            ]
          },
          "metadata": {},
          "execution_count": 43
        }
      ],
      "source": [
        "x_train_cust.std(axis=0)  #[0.45875063, 0.43511254, 0.75411243, 0.45929552, 0.04987596, 0.62993528]"
      ]
    },
    {
      "cell_type": "markdown",
      "metadata": {
        "id": "3tbq-R2wKkWk"
      },
      "source": [
        "##Step 1.2 Set up model builder\n",
        "\n",
        "Parameterize `loss=tf.keras.losses.BinaryCrossentropy(label_smoothing=.1)`. Include choices for `label_smoothing` `.1, .2, .3`."
      ]
    },
    {
      "cell_type": "markdown",
      "metadata": {
        "id": "B7P2GQqvX5TX"
      },
      "source": [
        "###Here is original as a starting place"
      ]
    },
    {
      "cell_type": "code",
      "execution_count": 44,
      "metadata": {
        "id": "COdi-PzYqxgc"
      },
      "outputs": [],
      "source": [
        "class MyHyperModel(keras_tuner.HyperModel):\n",
        "  def __init__(self, n=6, metrics='auc',\n",
        "                      layers=(1,5,1),\n",
        "                      units=(2,16,1),\n",
        "                      afn_list=('relu', 'leaky_relu')):\n",
        "    self.n = n #number of features\n",
        "    self.metrics = metrics\n",
        "    self.units = units\n",
        "    self.layers = layers\n",
        "    self.afn_list = afn_list\n",
        "\n",
        "  def build(self, hp):\n",
        "\n",
        "    n = self.n\n",
        "    metrics = self.metrics\n",
        "    min_units = self.units[0]\n",
        "    max_units = self.units[1]\n",
        "    step_units = self.units[2]\n",
        "\n",
        "    min_layers = self.layers[0]\n",
        "    max_layers = self.layers[1]\n",
        "    step_layers = self.layers[2]\n",
        "\n",
        "    n_afns = len(self.afn_list)\n",
        "\n",
        "    ann_model = Sequential()\n",
        "\n",
        "    # Input layer\n",
        "    ann_model.add(Input(shape=(n,), name=\"input_layer\"))\n",
        "\n",
        "    #add one or more new hidden layers\n",
        "    layers = hp.Int(\"layers\", min_value=min_layers, max_value=max_layers, step=step_layers)\n",
        "    for i in range(layers):\n",
        "      layer_name = f\"hidden_layer_{i}\"\n",
        "      ann_model.add(Dense(\n",
        "                  name=layer_name+'_dense',\n",
        "                  kernel_regularizer=tf.keras.regularizers.l2(0.01),  #fixed but could be tuned\n",
        "                  kernel_initializer=tf.keras.initializers.HeNormal(seed=string_to_seed(layer_name+'_dense')),\n",
        "\n",
        "                  # Tune number of units.\n",
        "                  units=hp.Int(f\"hidden_units{i}\", min_value=min_units, max_value=max_units, step=step_units),\n",
        "\n",
        "                  # Tune the activation function to use.\n",
        "                  activation= self.afn_list[hp.Int(f'afn{i}', min_value=0, max_value=n_afns-1, step=1)],\n",
        "      ))\n",
        "\n",
        "    #now output layer\n",
        "    ann_model.add(Dense(units=1, activation='sigmoid'))\n",
        "\n",
        "    ann_model.compile(loss=tf.keras.losses.BinaryCrossentropy(label_smoothing=.1),  #fixed but could be tuned\n",
        "                  optimizer=tf.keras.optimizers.Adam(learning_rate=.001),           #fixed but could be tuned\n",
        "                  metrics=['auc', 'accuracy']\n",
        ")\n",
        "    return ann_model"
      ]
    },
    {
      "cell_type": "markdown",
      "metadata": {
        "id": "AkTvAUuyT_0g"
      },
      "source": [
        "###Now your new one"
      ]
    },
    {
      "cell_type": "code",
      "execution_count": 45,
      "metadata": {
        "id": "jvE4cWELs-B5"
      },
      "outputs": [],
      "source": [
        "class CustomerHyperModel(keras_tuner.HyperModel):\n",
        "  def __init__(self, n=6, metrics='auc',\n",
        "                      layers=(1,5,1),\n",
        "                      units=(2,16,1),\n",
        "                      afn_list=('relu', 'leaky_relu'),\n",
        "                      smoothing_list=(.1, .2, 0.3)\n",
        "               ):\n",
        "    self.n = n #number of features\n",
        "    self.metrics = metrics\n",
        "    self.units = units\n",
        "    self.layers = layers\n",
        "    self.afn_list = afn_list\n",
        "    self.smoothing_list = smoothing_list\n",
        "\n",
        "  def build(self, hp):\n",
        "\n",
        "    n = self.n\n",
        "    metrics = self.metrics\n",
        "    min_units = self.units[0]\n",
        "    max_units = self.units[1]\n",
        "    step_units = self.units[2]\n",
        "\n",
        "    min_layers = self.layers[0]\n",
        "    max_layers = self.layers[1]\n",
        "    step_layers = self.layers[2]\n",
        "\n",
        "    n_afns = len(self.afn_list)\n",
        "\n",
        "    ann_model = Sequential()\n",
        "\n",
        "    # Input layer\n",
        "    ann_model.add(Input(shape=(n,), name=\"input_layer\"))\n",
        "\n",
        "    #add one or more new hidden layers\n",
        "    layers = hp.Int(\"layers\", min_value=min_layers, max_value=max_layers, step=step_layers)\n",
        "    for i in range(layers):\n",
        "      layer_name = f\"hidden_layer_{i}\"\n",
        "      ann_model.add(Dense(\n",
        "                  name=layer_name+'_dense',\n",
        "                  kernel_regularizer=tf.keras.regularizers.l2(0.01),  #fixed but could be tuned\n",
        "                  kernel_initializer=tf.keras.initializers.HeNormal(seed=string_to_seed(layer_name+'_dense')),\n",
        "\n",
        "                  # Tune number of units.\n",
        "                  units=hp.Int(f\"hidden_units{i}\", min_value=min_units, max_value=max_units, step=step_units),\n",
        "\n",
        "                  # Tune the activation function to use.\n",
        "                  activation= self.afn_list[hp.Int(f'afn{i}', min_value=0, max_value=n_afns-1, step=1)],\n",
        "      ))\n",
        "\n",
        "    #now output layer\n",
        "    ann_model.add(Dense(units=1, activation='sigmoid'))\n",
        "\n",
        "    # Parameterize label smoothing\n",
        "\n",
        "    smoothing = hp.Choice('smoothing', values=self.smoothing_list)\n",
        "\n",
        "    ann_model.compile(loss=tf.keras.losses.BinaryCrossentropy(label_smoothing=smoothing),\n",
        "                  optimizer=tf.keras.optimizers.Adam(learning_rate=.001),           #fixed but could be tuned\n",
        "                  metrics=['auc', 'accuracy']\n",
        ")\n",
        "    return ann_model"
      ]
    },
    {
      "cell_type": "markdown",
      "metadata": {
        "id": "2bbpTb2xsbI7"
      },
      "source": [
        "##Step 2.2 Set up search\n",
        "\n",
        "But bump trials to 50."
      ]
    },
    {
      "cell_type": "code",
      "execution_count": 46,
      "metadata": {
        "id": "ViKFu8jPsbI7"
      },
      "outputs": [],
      "source": [
        "tf.keras.utils.set_random_seed(1234)  #need this for replication\n",
        "\n",
        "max_trials = 50\n",
        "\n",
        "hyper_tuner = keras_tuner.RandomSearch(\n",
        "    hypermodel=CustomerHyperModel(),\n",
        "    objective=keras_tuner.Objective('auc', 'max'),  #cannot use auc object as previously defined - have to use instance of keras_tuner.Objective class instead\n",
        "    max_trials=max_trials,  #how many models to build, i.e., how many different configs to try\n",
        "    executions_per_trial=1,  #given we have eliminated nondeterminism, can keep this at 1\n",
        "    overwrite=True,\n",
        "    #directory=\"ann/tb\",  #for use by TensorBoard - discussed below\n",
        "    seed=1234,\n",
        ")"
      ]
    },
    {
      "cell_type": "markdown",
      "metadata": {
        "id": "tJt0li41sbI8"
      },
      "source": [
        "##Step 2.3 Create validation set\n",
        "\n",
        "See how we did this for Titanic earlier in the notebook."
      ]
    },
    {
      "cell_type": "code",
      "execution_count": 47,
      "metadata": {
        "colab": {
          "base_uri": "https://localhost:8080/"
        },
        "id": "9lt2JTBjvoQM",
        "outputId": "548a7dc8-3b0c-49c0-ee77-e550ac361b2f"
      },
      "outputs": [
        {
          "output_type": "execute_result",
          "data": {
            "text/plain": [
              "781"
            ]
          },
          "metadata": {},
          "execution_count": 47
        }
      ],
      "source": [
        "len(x_train_cust)"
      ]
    },
    {
      "cell_type": "code",
      "execution_count": 48,
      "metadata": {
        "id": "KND0qXNcuz-J"
      },
      "outputs": [],
      "source": [
        "x_train_tune_cust = x_train_cust[:-150]  #150/1050 roughly 20% - notice not stratified\n",
        "x_train_val_cust = x_train_cust[-150:]\n",
        "y_train_tune_cust = y_train_cust[:-150]\n",
        "y_train_val_cust = y_train_cust[-150:]"
      ]
    },
    {
      "cell_type": "code",
      "execution_count": 49,
      "metadata": {
        "colab": {
          "base_uri": "https://localhost:8080/"
        },
        "id": "lM_a6arksbI8",
        "outputId": "f0b34bfb-b66f-4969-fa25-8ee6d9baef88"
      },
      "outputs": [
        {
          "output_type": "execute_result",
          "data": {
            "text/plain": [
              "150"
            ]
          },
          "metadata": {},
          "execution_count": 49
        }
      ],
      "source": [
        "len(x_train_val_cust)  #150"
      ]
    },
    {
      "cell_type": "markdown",
      "metadata": {
        "id": "Rd8zkkAlsbI8"
      },
      "source": [
        "##Step 2.4 Do the search\n",
        "\n",
        "Get some coffee. Took me 28 minutes."
      ]
    },
    {
      "cell_type": "code",
      "execution_count": 50,
      "metadata": {
        "id": "MiLWourmqUWJ"
      },
      "outputs": [],
      "source": [
        "import datetime"
      ]
    },
    {
      "cell_type": "code",
      "execution_count": 51,
      "metadata": {
        "id": "SgPA-CAasbI8"
      },
      "outputs": [],
      "source": [
        "%%capture\n",
        "start = datetime.datetime.now()\n",
        "\n",
        "hyper_tuner.search(x_train_tune_cust, y_train_tune_cust,\n",
        "                   epochs=100, batch_size=32,\n",
        "                   validation_data=(x_train_val_cust, y_train_val_cust),\n",
        "                   #callbacks=[keras.callbacks.TensorBoard(\"mlops/tb_logs\")]  #for use by TensorBoard\n",
        "                   )\n",
        "tf.keras.backend.clear_session()  #get rid of unused models created during search  #get rid of unused models created during search\n",
        "\n",
        "end = datetime.datetime.now()\n",
        "time_difference = end - start\n",
        "difference_in_minutes = time_difference.total_seconds() / 60"
      ]
    },
    {
      "cell_type": "code",
      "execution_count": 52,
      "metadata": {
        "colab": {
          "base_uri": "https://localhost:8080/"
        },
        "id": "mEMTDos9sbI9",
        "outputId": "8ed92ef6-0958-484c-fa38-52ae32c19970"
      },
      "outputs": [
        {
          "output_type": "stream",
          "name": "stdout",
          "text": [
            "The difference between the two datetimes is 25.96502931666667 minutes.\n"
          ]
        }
      ],
      "source": [
        "print(f\"The difference between the two datetimes is {difference_in_minutes} minutes.\")  #28.3 minutes"
      ]
    },
    {
      "cell_type": "code",
      "execution_count": 53,
      "metadata": {
        "colab": {
          "base_uri": "https://localhost:8080/"
        },
        "id": "oH6o6zOcsbI9",
        "outputId": "51d7daeb-400c-4faa-f164-0bbcf6880db2"
      },
      "outputs": [
        {
          "output_type": "execute_result",
          "data": {
            "text/plain": [
              "{'layers': 4,\n",
              " 'hidden_units0': 11,\n",
              " 'afn0': 0,\n",
              " 'smoothing': 0.1,\n",
              " 'hidden_units1': 2,\n",
              " 'afn1': 1,\n",
              " 'hidden_units2': 14,\n",
              " 'afn2': 1,\n",
              " 'hidden_units3': 7,\n",
              " 'afn3': 0,\n",
              " 'hidden_units4': 15,\n",
              " 'afn4': 0}"
            ]
          },
          "metadata": {},
          "execution_count": 53
        }
      ],
      "source": [
        "best_hp = hyper_tuner.get_best_hyperparameters()[0]\n",
        "best_hp.values\n"
      ]
    },
    {
      "cell_type": "markdown",
      "metadata": {
        "id": "Sbr7m8h3sbI9"
      },
      "source": [
        "###My results\n",
        "\n",
        "<pre>\n",
        "{'layers': 4,\n",
        " 'hidden_units0': 11,\n",
        " 'afn0': 0,\n",
        " 'smoothing': 0,\n",
        " 'hidden_units1': 2,\n",
        " 'afn1': 1,\n",
        " 'hidden_units2': 14,\n",
        " 'afn2': 1,\n",
        " 'hidden_units3': 7,\n",
        " 'afn3': 0,\n",
        " 'hidden_units4': 15,\n",
        " 'afn4': 0}\n",
        " </pre>"
      ]
    },
    {
      "cell_type": "markdown",
      "metadata": {
        "id": "T27NZG2rsbI9"
      },
      "source": [
        "Reminder:  `hidden_units4` will be ignored given that `layers=4`."
      ]
    },
    {
      "cell_type": "markdown",
      "metadata": {
        "id": "1P6WXHnDsbI9"
      },
      "source": [
        "##Step 2.5 Train best model\n",
        "\n",
        "We now have the best configuration out of the 40 we tried. It's relatively easy to now train a model using this configuration."
      ]
    },
    {
      "cell_type": "code",
      "execution_count": 54,
      "metadata": {
        "colab": {
          "base_uri": "https://localhost:8080/"
        },
        "id": "d5gDjKK3sbI9",
        "outputId": "21660c33-b78d-41fd-a340-5456c43b7853"
      },
      "outputs": [
        {
          "output_type": "stream",
          "name": "stdout",
          "text": [
            "Epoch 1/100\n",
            "\u001b[1m20/20\u001b[0m \u001b[32m━━━━━━━━━━━━━━━━━━━━\u001b[0m\u001b[37m\u001b[0m \u001b[1m3s\u001b[0m 28ms/step - accuracy: 0.7224 - auc: 0.6641 - loss: 1.4575 - val_accuracy: 0.6600 - val_auc: 0.6382 - val_loss: 1.4291\n",
            "Epoch 2/100\n",
            "\u001b[1m20/20\u001b[0m \u001b[32m━━━━━━━━━━━━━━━━━━━━\u001b[0m\u001b[37m\u001b[0m \u001b[1m0s\u001b[0m 7ms/step - accuracy: 0.7212 - auc: 0.7085 - loss: 1.4104 - val_accuracy: 0.6800 - val_auc: 0.6615 - val_loss: 1.3859\n",
            "Epoch 3/100\n",
            "\u001b[1m20/20\u001b[0m \u001b[32m━━━━━━━━━━━━━━━━━━━━\u001b[0m\u001b[37m\u001b[0m \u001b[1m0s\u001b[0m 7ms/step - accuracy: 0.7347 - auc: 0.7246 - loss: 1.3638 - val_accuracy: 0.7000 - val_auc: 0.6760 - val_loss: 1.3442\n",
            "Epoch 4/100\n",
            "\u001b[1m20/20\u001b[0m \u001b[32m━━━━━━━━━━━━━━━━━━━━\u001b[0m\u001b[37m\u001b[0m \u001b[1m0s\u001b[0m 7ms/step - accuracy: 0.7429 - auc: 0.7350 - loss: 1.3178 - val_accuracy: 0.7200 - val_auc: 0.6877 - val_loss: 1.3048\n",
            "Epoch 5/100\n",
            "\u001b[1m20/20\u001b[0m \u001b[32m━━━━━━━━━━━━━━━━━━━━\u001b[0m\u001b[37m\u001b[0m \u001b[1m0s\u001b[0m 8ms/step - accuracy: 0.7620 - auc: 0.7476 - loss: 1.2736 - val_accuracy: 0.7133 - val_auc: 0.6996 - val_loss: 1.2679\n",
            "Epoch 6/100\n",
            "\u001b[1m20/20\u001b[0m \u001b[32m━━━━━━━━━━━━━━━━━━━━\u001b[0m\u001b[37m\u001b[0m \u001b[1m0s\u001b[0m 8ms/step - accuracy: 0.7664 - auc: 0.7605 - loss: 1.2314 - val_accuracy: 0.7267 - val_auc: 0.7199 - val_loss: 1.2312\n",
            "Epoch 7/100\n",
            "\u001b[1m20/20\u001b[0m \u001b[32m━━━━━━━━━━━━━━━━━━━━\u001b[0m\u001b[37m\u001b[0m \u001b[1m0s\u001b[0m 7ms/step - accuracy: 0.7746 - auc: 0.7737 - loss: 1.1915 - val_accuracy: 0.7200 - val_auc: 0.7303 - val_loss: 1.1989\n",
            "Epoch 8/100\n",
            "\u001b[1m20/20\u001b[0m \u001b[32m━━━━━━━━━━━━━━━━━━━━\u001b[0m\u001b[37m\u001b[0m \u001b[1m0s\u001b[0m 8ms/step - accuracy: 0.7732 - auc: 0.7859 - loss: 1.1555 - val_accuracy: 0.7200 - val_auc: 0.7448 - val_loss: 1.1674\n",
            "Epoch 9/100\n",
            "\u001b[1m20/20\u001b[0m \u001b[32m━━━━━━━━━━━━━━━━━━━━\u001b[0m\u001b[37m\u001b[0m \u001b[1m0s\u001b[0m 7ms/step - accuracy: 0.7761 - auc: 0.7948 - loss: 1.1231 - val_accuracy: 0.7467 - val_auc: 0.7583 - val_loss: 1.1366\n",
            "Epoch 10/100\n",
            "\u001b[1m20/20\u001b[0m \u001b[32m━━━━━━━━━━━━━━━━━━━━\u001b[0m\u001b[37m\u001b[0m \u001b[1m0s\u001b[0m 8ms/step - accuracy: 0.7820 - auc: 0.8035 - loss: 1.0922 - val_accuracy: 0.7867 - val_auc: 0.7740 - val_loss: 1.1044\n",
            "Epoch 11/100\n",
            "\u001b[1m20/20\u001b[0m \u001b[32m━━━━━━━━━━━━━━━━━━━━\u001b[0m\u001b[37m\u001b[0m \u001b[1m0s\u001b[0m 7ms/step - accuracy: 0.7963 - auc: 0.8156 - loss: 1.0593 - val_accuracy: 0.7667 - val_auc: 0.7863 - val_loss: 1.0741\n",
            "Epoch 12/100\n",
            "\u001b[1m20/20\u001b[0m \u001b[32m━━━━━━━━━━━━━━━━━━━━\u001b[0m\u001b[37m\u001b[0m \u001b[1m0s\u001b[0m 7ms/step - accuracy: 0.8311 - auc: 0.8268 - loss: 1.0257 - val_accuracy: 0.7667 - val_auc: 0.8013 - val_loss: 1.0423\n",
            "Epoch 13/100\n",
            "\u001b[1m20/20\u001b[0m \u001b[32m━━━━━━━━━━━━━━━━━━━━\u001b[0m\u001b[37m\u001b[0m \u001b[1m0s\u001b[0m 7ms/step - accuracy: 0.8379 - auc: 0.8380 - loss: 0.9962 - val_accuracy: 0.7667 - val_auc: 0.8135 - val_loss: 1.0170\n",
            "Epoch 14/100\n",
            "\u001b[1m20/20\u001b[0m \u001b[32m━━━━━━━━━━━━━━━━━━━━\u001b[0m\u001b[37m\u001b[0m \u001b[1m0s\u001b[0m 8ms/step - accuracy: 0.8370 - auc: 0.8498 - loss: 0.9708 - val_accuracy: 0.7867 - val_auc: 0.8255 - val_loss: 0.9927\n",
            "Epoch 15/100\n",
            "\u001b[1m20/20\u001b[0m \u001b[32m━━━━━━━━━━━━━━━━━━━━\u001b[0m\u001b[37m\u001b[0m \u001b[1m0s\u001b[0m 9ms/step - accuracy: 0.8363 - auc: 0.8590 - loss: 0.9482 - val_accuracy: 0.7867 - val_auc: 0.8359 - val_loss: 0.9717\n",
            "Epoch 16/100\n",
            "\u001b[1m20/20\u001b[0m \u001b[32m━━━━━━━━━━━━━━━━━━━━\u001b[0m\u001b[37m\u001b[0m \u001b[1m0s\u001b[0m 7ms/step - accuracy: 0.8350 - auc: 0.8670 - loss: 0.9278 - val_accuracy: 0.7867 - val_auc: 0.8384 - val_loss: 0.9515\n",
            "Epoch 17/100\n",
            "\u001b[1m20/20\u001b[0m \u001b[32m━━━━━━━━━━━━━━━━━━━━\u001b[0m\u001b[37m\u001b[0m \u001b[1m0s\u001b[0m 7ms/step - accuracy: 0.8344 - auc: 0.8714 - loss: 0.9092 - val_accuracy: 0.7867 - val_auc: 0.8442 - val_loss: 0.9338\n",
            "Epoch 18/100\n",
            "\u001b[1m20/20\u001b[0m \u001b[32m━━━━━━━━━━━━━━━━━━━━\u001b[0m\u001b[37m\u001b[0m \u001b[1m0s\u001b[0m 7ms/step - accuracy: 0.8348 - auc: 0.8751 - loss: 0.8917 - val_accuracy: 0.7867 - val_auc: 0.8510 - val_loss: 0.9175\n",
            "Epoch 19/100\n",
            "\u001b[1m20/20\u001b[0m \u001b[32m━━━━━━━━━━━━━━━━━━━━\u001b[0m\u001b[37m\u001b[0m \u001b[1m0s\u001b[0m 10ms/step - accuracy: 0.8350 - auc: 0.8809 - loss: 0.8753 - val_accuracy: 0.7867 - val_auc: 0.8534 - val_loss: 0.9020\n",
            "Epoch 20/100\n",
            "\u001b[1m20/20\u001b[0m \u001b[32m━━━━━━━━━━━━━━━━━━━━\u001b[0m\u001b[37m\u001b[0m \u001b[1m0s\u001b[0m 12ms/step - accuracy: 0.8350 - auc: 0.8849 - loss: 0.8603 - val_accuracy: 0.7933 - val_auc: 0.8551 - val_loss: 0.8877\n",
            "Epoch 21/100\n",
            "\u001b[1m20/20\u001b[0m \u001b[32m━━━━━━━━━━━━━━━━━━━━\u001b[0m\u001b[37m\u001b[0m \u001b[1m0s\u001b[0m 11ms/step - accuracy: 0.8361 - auc: 0.8893 - loss: 0.8461 - val_accuracy: 0.7933 - val_auc: 0.8575 - val_loss: 0.8740\n",
            "Epoch 22/100\n",
            "\u001b[1m20/20\u001b[0m \u001b[32m━━━━━━━━━━━━━━━━━━━━\u001b[0m\u001b[37m\u001b[0m \u001b[1m0s\u001b[0m 10ms/step - accuracy: 0.8393 - auc: 0.8915 - loss: 0.8327 - val_accuracy: 0.7933 - val_auc: 0.8579 - val_loss: 0.8618\n",
            "Epoch 23/100\n",
            "\u001b[1m20/20\u001b[0m \u001b[32m━━━━━━━━━━━━━━━━━━━━\u001b[0m\u001b[37m\u001b[0m \u001b[1m0s\u001b[0m 10ms/step - accuracy: 0.8420 - auc: 0.8940 - loss: 0.8199 - val_accuracy: 0.7933 - val_auc: 0.8587 - val_loss: 0.8497\n",
            "Epoch 24/100\n",
            "\u001b[1m20/20\u001b[0m \u001b[32m━━━━━━━━━━━━━━━━━━━━\u001b[0m\u001b[37m\u001b[0m \u001b[1m0s\u001b[0m 12ms/step - accuracy: 0.8434 - auc: 0.8961 - loss: 0.8075 - val_accuracy: 0.7933 - val_auc: 0.8618 - val_loss: 0.8386\n",
            "Epoch 25/100\n",
            "\u001b[1m20/20\u001b[0m \u001b[32m━━━━━━━━━━━━━━━━━━━━\u001b[0m\u001b[37m\u001b[0m \u001b[1m0s\u001b[0m 12ms/step - accuracy: 0.8434 - auc: 0.8984 - loss: 0.7958 - val_accuracy: 0.7933 - val_auc: 0.8642 - val_loss: 0.8276\n",
            "Epoch 26/100\n",
            "\u001b[1m20/20\u001b[0m \u001b[32m━━━━━━━━━━━━━━━━━━━━\u001b[0m\u001b[37m\u001b[0m \u001b[1m0s\u001b[0m 11ms/step - accuracy: 0.8434 - auc: 0.8996 - loss: 0.7847 - val_accuracy: 0.8000 - val_auc: 0.8670 - val_loss: 0.8170\n",
            "Epoch 27/100\n",
            "\u001b[1m20/20\u001b[0m \u001b[32m━━━━━━━━━━━━━━━━━━━━\u001b[0m\u001b[37m\u001b[0m \u001b[1m0s\u001b[0m 7ms/step - accuracy: 0.8438 - auc: 0.9015 - loss: 0.7742 - val_accuracy: 0.8000 - val_auc: 0.8670 - val_loss: 0.8071\n",
            "Epoch 28/100\n",
            "\u001b[1m20/20\u001b[0m \u001b[32m━━━━━━━━━━━━━━━━━━━━\u001b[0m\u001b[37m\u001b[0m \u001b[1m0s\u001b[0m 7ms/step - accuracy: 0.8429 - auc: 0.9029 - loss: 0.7643 - val_accuracy: 0.8000 - val_auc: 0.8679 - val_loss: 0.7976\n",
            "Epoch 29/100\n",
            "\u001b[1m20/20\u001b[0m \u001b[32m━━━━━━━━━━━━━━━━━━━━\u001b[0m\u001b[37m\u001b[0m \u001b[1m0s\u001b[0m 7ms/step - accuracy: 0.8429 - auc: 0.9037 - loss: 0.7548 - val_accuracy: 0.7933 - val_auc: 0.8691 - val_loss: 0.7885\n",
            "Epoch 30/100\n",
            "\u001b[1m20/20\u001b[0m \u001b[32m━━━━━━━━━━━━━━━━━━━━\u001b[0m\u001b[37m\u001b[0m \u001b[1m0s\u001b[0m 7ms/step - accuracy: 0.8483 - auc: 0.9050 - loss: 0.7458 - val_accuracy: 0.8000 - val_auc: 0.8685 - val_loss: 0.7796\n",
            "Epoch 31/100\n",
            "\u001b[1m20/20\u001b[0m \u001b[32m━━━━━━━━━━━━━━━━━━━━\u001b[0m\u001b[37m\u001b[0m \u001b[1m0s\u001b[0m 7ms/step - accuracy: 0.8483 - auc: 0.9058 - loss: 0.7371 - val_accuracy: 0.8000 - val_auc: 0.8696 - val_loss: 0.7712\n",
            "Epoch 32/100\n",
            "\u001b[1m20/20\u001b[0m \u001b[32m━━━━━━━━━━━━━━━━━━━━\u001b[0m\u001b[37m\u001b[0m \u001b[1m0s\u001b[0m 9ms/step - accuracy: 0.8491 - auc: 0.9065 - loss: 0.7288 - val_accuracy: 0.8000 - val_auc: 0.8699 - val_loss: 0.7630\n",
            "Epoch 33/100\n",
            "\u001b[1m20/20\u001b[0m \u001b[32m━━━━━━━━━━━━━━━━━━━━\u001b[0m\u001b[37m\u001b[0m \u001b[1m0s\u001b[0m 9ms/step - accuracy: 0.8509 - auc: 0.9075 - loss: 0.7208 - val_accuracy: 0.8000 - val_auc: 0.8704 - val_loss: 0.7555\n",
            "Epoch 34/100\n",
            "\u001b[1m20/20\u001b[0m \u001b[32m━━━━━━━━━━━━━━━━━━━━\u001b[0m\u001b[37m\u001b[0m \u001b[1m0s\u001b[0m 8ms/step - accuracy: 0.8515 - auc: 0.9091 - loss: 0.7132 - val_accuracy: 0.8000 - val_auc: 0.8706 - val_loss: 0.7480\n",
            "Epoch 35/100\n",
            "\u001b[1m20/20\u001b[0m \u001b[32m━━━━━━━━━━━━━━━━━━━━\u001b[0m\u001b[37m\u001b[0m \u001b[1m0s\u001b[0m 7ms/step - accuracy: 0.8569 - auc: 0.9091 - loss: 0.7059 - val_accuracy: 0.8067 - val_auc: 0.8711 - val_loss: 0.7411\n",
            "Epoch 36/100\n",
            "\u001b[1m20/20\u001b[0m \u001b[32m━━━━━━━━━━━━━━━━━━━━\u001b[0m\u001b[37m\u001b[0m \u001b[1m0s\u001b[0m 9ms/step - accuracy: 0.8587 - auc: 0.9107 - loss: 0.6989 - val_accuracy: 0.8067 - val_auc: 0.8712 - val_loss: 0.7344\n",
            "Epoch 37/100\n",
            "\u001b[1m20/20\u001b[0m \u001b[32m━━━━━━━━━━━━━━━━━━━━\u001b[0m\u001b[37m\u001b[0m \u001b[1m0s\u001b[0m 8ms/step - accuracy: 0.8607 - auc: 0.9109 - loss: 0.6922 - val_accuracy: 0.8133 - val_auc: 0.8694 - val_loss: 0.7280\n",
            "Epoch 38/100\n",
            "\u001b[1m20/20\u001b[0m \u001b[32m━━━━━━━━━━━━━━━━━━━━\u001b[0m\u001b[37m\u001b[0m \u001b[1m0s\u001b[0m 7ms/step - accuracy: 0.8607 - auc: 0.9123 - loss: 0.6858 - val_accuracy: 0.8133 - val_auc: 0.8699 - val_loss: 0.7221\n",
            "Epoch 39/100\n",
            "\u001b[1m20/20\u001b[0m \u001b[32m━━━━━━━━━━━━━━━━━━━━\u001b[0m\u001b[37m\u001b[0m \u001b[1m0s\u001b[0m 8ms/step - accuracy: 0.8607 - auc: 0.9129 - loss: 0.6795 - val_accuracy: 0.8133 - val_auc: 0.8699 - val_loss: 0.7162\n",
            "Epoch 40/100\n",
            "\u001b[1m20/20\u001b[0m \u001b[32m━━━━━━━━━━━━━━━━━━━━\u001b[0m\u001b[37m\u001b[0m \u001b[1m0s\u001b[0m 8ms/step - accuracy: 0.8602 - auc: 0.9135 - loss: 0.6735 - val_accuracy: 0.8133 - val_auc: 0.8706 - val_loss: 0.7106\n",
            "Epoch 41/100\n",
            "\u001b[1m20/20\u001b[0m \u001b[32m━━━━━━━━━━━━━━━━━━━━\u001b[0m\u001b[37m\u001b[0m \u001b[1m0s\u001b[0m 9ms/step - accuracy: 0.8650 - auc: 0.9136 - loss: 0.6677 - val_accuracy: 0.8200 - val_auc: 0.8690 - val_loss: 0.7053\n",
            "Epoch 42/100\n",
            "\u001b[1m20/20\u001b[0m \u001b[32m━━━━━━━━━━━━━━━━━━━━\u001b[0m\u001b[37m\u001b[0m \u001b[1m0s\u001b[0m 8ms/step - accuracy: 0.8670 - auc: 0.9144 - loss: 0.6621 - val_accuracy: 0.8200 - val_auc: 0.8698 - val_loss: 0.7002\n",
            "Epoch 43/100\n",
            "\u001b[1m20/20\u001b[0m \u001b[32m━━━━━━━━━━━━━━━━━━━━\u001b[0m\u001b[37m\u001b[0m \u001b[1m0s\u001b[0m 7ms/step - accuracy: 0.8710 - auc: 0.9146 - loss: 0.6567 - val_accuracy: 0.8267 - val_auc: 0.8696 - val_loss: 0.6952\n",
            "Epoch 44/100\n",
            "\u001b[1m20/20\u001b[0m \u001b[32m━━━━━━━━━━━━━━━━━━━━\u001b[0m\u001b[37m\u001b[0m \u001b[1m0s\u001b[0m 7ms/step - accuracy: 0.8710 - auc: 0.9152 - loss: 0.6515 - val_accuracy: 0.8267 - val_auc: 0.8691 - val_loss: 0.6905\n",
            "Epoch 45/100\n",
            "\u001b[1m20/20\u001b[0m \u001b[32m━━━━━━━━━━━━━━━━━━━━\u001b[0m\u001b[37m\u001b[0m \u001b[1m0s\u001b[0m 9ms/step - accuracy: 0.8710 - auc: 0.9154 - loss: 0.6465 - val_accuracy: 0.8267 - val_auc: 0.8693 - val_loss: 0.6860\n",
            "Epoch 46/100\n",
            "\u001b[1m20/20\u001b[0m \u001b[32m━━━━━━━━━━━━━━━━━━━━\u001b[0m\u001b[37m\u001b[0m \u001b[1m0s\u001b[0m 7ms/step - accuracy: 0.8710 - auc: 0.9160 - loss: 0.6416 - val_accuracy: 0.8267 - val_auc: 0.8701 - val_loss: 0.6816\n",
            "Epoch 47/100\n",
            "\u001b[1m20/20\u001b[0m \u001b[32m━━━━━━━━━━━━━━━━━━━━\u001b[0m\u001b[37m\u001b[0m \u001b[1m0s\u001b[0m 7ms/step - accuracy: 0.8710 - auc: 0.9164 - loss: 0.6369 - val_accuracy: 0.8267 - val_auc: 0.8701 - val_loss: 0.6773\n",
            "Epoch 48/100\n",
            "\u001b[1m20/20\u001b[0m \u001b[32m━━━━━━━━━━━━━━━━━━━━\u001b[0m\u001b[37m\u001b[0m \u001b[1m0s\u001b[0m 7ms/step - accuracy: 0.8710 - auc: 0.9164 - loss: 0.6323 - val_accuracy: 0.8267 - val_auc: 0.8693 - val_loss: 0.6732\n",
            "Epoch 49/100\n",
            "\u001b[1m20/20\u001b[0m \u001b[32m━━━━━━━━━━━━━━━━━━━━\u001b[0m\u001b[37m\u001b[0m \u001b[1m0s\u001b[0m 7ms/step - accuracy: 0.8692 - auc: 0.9160 - loss: 0.6280 - val_accuracy: 0.8267 - val_auc: 0.8678 - val_loss: 0.6691\n",
            "Epoch 50/100\n",
            "\u001b[1m20/20\u001b[0m \u001b[32m━━━━━━━━━━━━━━━━━━━━\u001b[0m\u001b[37m\u001b[0m \u001b[1m0s\u001b[0m 7ms/step - accuracy: 0.8693 - auc: 0.9166 - loss: 0.6238 - val_accuracy: 0.8267 - val_auc: 0.8684 - val_loss: 0.6651\n",
            "Epoch 51/100\n",
            "\u001b[1m20/20\u001b[0m \u001b[32m━━━━━━━━━━━━━━━━━━━━\u001b[0m\u001b[37m\u001b[0m \u001b[1m0s\u001b[0m 7ms/step - accuracy: 0.8693 - auc: 0.9170 - loss: 0.6197 - val_accuracy: 0.8333 - val_auc: 0.8691 - val_loss: 0.6612\n"
          ]
        }
      ],
      "source": [
        "hypermodel = CustomerHyperModel()\n",
        "customer_model = hypermodel.build(best_hp)\n",
        "training = customer_model.fit(x_train_tune_cust, y_train_tune_cust, epochs=100, validation_data=(x_train_val_cust, y_train_val_cust),\n",
        "                    callbacks=[tf.keras.callbacks.EarlyStopping(\n",
        "                                      monitor='val_auc',\n",
        "                                      mode='max',\n",
        "                                      patience=15,\n",
        "                                      restore_best_weights=True)\n",
        "                   ])"
      ]
    },
    {
      "cell_type": "markdown",
      "metadata": {
        "id": "BDAU4Oc9v1yz"
      },
      "source": [
        "Looks pretty good in terms of training and validation results matching up. You should stop at epoch 51 with these results.\n",
        "\n",
        "<pre>\n",
        "Epoch 51/100\n",
        "accuracy: 0.8693 - auc: 0.9170 - loss: 0.6197 - val_accuracy: 0.8333 - val_auc: 0.8691 - val_loss: 0.6612\n",
        "</pre>"
      ]
    },
    {
      "cell_type": "code",
      "execution_count": 55,
      "metadata": {
        "colab": {
          "base_uri": "https://localhost:8080/",
          "height": 312
        },
        "id": "GZhJZBq2sbI9",
        "outputId": "65047136-637f-4db4-eb5b-83a8754f9b62"
      },
      "outputs": [
        {
          "output_type": "display_data",
          "data": {
            "text/plain": [
              "\u001b[1mModel: \"sequential\"\u001b[0m\n"
            ],
            "text/html": [
              "<pre style=\"white-space:pre;overflow-x:auto;line-height:normal;font-family:Menlo,'DejaVu Sans Mono',consolas,'Courier New',monospace\"><span style=\"font-weight: bold\">Model: \"sequential\"</span>\n",
              "</pre>\n"
            ]
          },
          "metadata": {}
        },
        {
          "output_type": "display_data",
          "data": {
            "text/plain": [
              "┏━━━━━━━━━━━━━━━━━━━━━━━━━━━━━━━━━┳━━━━━━━━━━━━━━━━━━━━━━━━┳━━━━━━━━━━━━━━━┓\n",
              "┃\u001b[1m \u001b[0m\u001b[1mLayer (type)                   \u001b[0m\u001b[1m \u001b[0m┃\u001b[1m \u001b[0m\u001b[1mOutput Shape          \u001b[0m\u001b[1m \u001b[0m┃\u001b[1m \u001b[0m\u001b[1m      Param #\u001b[0m\u001b[1m \u001b[0m┃\n",
              "┡━━━━━━━━━━━━━━━━━━━━━━━━━━━━━━━━━╇━━━━━━━━━━━━━━━━━━━━━━━━╇━━━━━━━━━━━━━━━┩\n",
              "│ hidden_layer_0_dense (\u001b[38;5;33mDense\u001b[0m)    │ (\u001b[38;5;45mNone\u001b[0m, \u001b[38;5;34m11\u001b[0m)             │            \u001b[38;5;34m77\u001b[0m │\n",
              "├─────────────────────────────────┼────────────────────────┼───────────────┤\n",
              "│ hidden_layer_1_dense (\u001b[38;5;33mDense\u001b[0m)    │ (\u001b[38;5;45mNone\u001b[0m, \u001b[38;5;34m2\u001b[0m)              │            \u001b[38;5;34m24\u001b[0m │\n",
              "├─────────────────────────────────┼────────────────────────┼───────────────┤\n",
              "│ hidden_layer_2_dense (\u001b[38;5;33mDense\u001b[0m)    │ (\u001b[38;5;45mNone\u001b[0m, \u001b[38;5;34m14\u001b[0m)             │            \u001b[38;5;34m42\u001b[0m │\n",
              "├─────────────────────────────────┼────────────────────────┼───────────────┤\n",
              "│ hidden_layer_3_dense (\u001b[38;5;33mDense\u001b[0m)    │ (\u001b[38;5;45mNone\u001b[0m, \u001b[38;5;34m7\u001b[0m)              │           \u001b[38;5;34m105\u001b[0m │\n",
              "├─────────────────────────────────┼────────────────────────┼───────────────┤\n",
              "│ dense (\u001b[38;5;33mDense\u001b[0m)                   │ (\u001b[38;5;45mNone\u001b[0m, \u001b[38;5;34m1\u001b[0m)              │             \u001b[38;5;34m8\u001b[0m │\n",
              "└─────────────────────────────────┴────────────────────────┴───────────────┘\n"
            ],
            "text/html": [
              "<pre style=\"white-space:pre;overflow-x:auto;line-height:normal;font-family:Menlo,'DejaVu Sans Mono',consolas,'Courier New',monospace\">┏━━━━━━━━━━━━━━━━━━━━━━━━━━━━━━━━━┳━━━━━━━━━━━━━━━━━━━━━━━━┳━━━━━━━━━━━━━━━┓\n",
              "┃<span style=\"font-weight: bold\"> Layer (type)                    </span>┃<span style=\"font-weight: bold\"> Output Shape           </span>┃<span style=\"font-weight: bold\">       Param # </span>┃\n",
              "┡━━━━━━━━━━━━━━━━━━━━━━━━━━━━━━━━━╇━━━━━━━━━━━━━━━━━━━━━━━━╇━━━━━━━━━━━━━━━┩\n",
              "│ hidden_layer_0_dense (<span style=\"color: #0087ff; text-decoration-color: #0087ff\">Dense</span>)    │ (<span style=\"color: #00d7ff; text-decoration-color: #00d7ff\">None</span>, <span style=\"color: #00af00; text-decoration-color: #00af00\">11</span>)             │            <span style=\"color: #00af00; text-decoration-color: #00af00\">77</span> │\n",
              "├─────────────────────────────────┼────────────────────────┼───────────────┤\n",
              "│ hidden_layer_1_dense (<span style=\"color: #0087ff; text-decoration-color: #0087ff\">Dense</span>)    │ (<span style=\"color: #00d7ff; text-decoration-color: #00d7ff\">None</span>, <span style=\"color: #00af00; text-decoration-color: #00af00\">2</span>)              │            <span style=\"color: #00af00; text-decoration-color: #00af00\">24</span> │\n",
              "├─────────────────────────────────┼────────────────────────┼───────────────┤\n",
              "│ hidden_layer_2_dense (<span style=\"color: #0087ff; text-decoration-color: #0087ff\">Dense</span>)    │ (<span style=\"color: #00d7ff; text-decoration-color: #00d7ff\">None</span>, <span style=\"color: #00af00; text-decoration-color: #00af00\">14</span>)             │            <span style=\"color: #00af00; text-decoration-color: #00af00\">42</span> │\n",
              "├─────────────────────────────────┼────────────────────────┼───────────────┤\n",
              "│ hidden_layer_3_dense (<span style=\"color: #0087ff; text-decoration-color: #0087ff\">Dense</span>)    │ (<span style=\"color: #00d7ff; text-decoration-color: #00d7ff\">None</span>, <span style=\"color: #00af00; text-decoration-color: #00af00\">7</span>)              │           <span style=\"color: #00af00; text-decoration-color: #00af00\">105</span> │\n",
              "├─────────────────────────────────┼────────────────────────┼───────────────┤\n",
              "│ dense (<span style=\"color: #0087ff; text-decoration-color: #0087ff\">Dense</span>)                   │ (<span style=\"color: #00d7ff; text-decoration-color: #00d7ff\">None</span>, <span style=\"color: #00af00; text-decoration-color: #00af00\">1</span>)              │             <span style=\"color: #00af00; text-decoration-color: #00af00\">8</span> │\n",
              "└─────────────────────────────────┴────────────────────────┴───────────────┘\n",
              "</pre>\n"
            ]
          },
          "metadata": {}
        },
        {
          "output_type": "display_data",
          "data": {
            "text/plain": [
              "\u001b[1m Total params: \u001b[0m\u001b[38;5;34m770\u001b[0m (3.01 KB)\n"
            ],
            "text/html": [
              "<pre style=\"white-space:pre;overflow-x:auto;line-height:normal;font-family:Menlo,'DejaVu Sans Mono',consolas,'Courier New',monospace\"><span style=\"font-weight: bold\"> Total params: </span><span style=\"color: #00af00; text-decoration-color: #00af00\">770</span> (3.01 KB)\n",
              "</pre>\n"
            ]
          },
          "metadata": {}
        },
        {
          "output_type": "display_data",
          "data": {
            "text/plain": [
              "\u001b[1m Trainable params: \u001b[0m\u001b[38;5;34m256\u001b[0m (1.00 KB)\n"
            ],
            "text/html": [
              "<pre style=\"white-space:pre;overflow-x:auto;line-height:normal;font-family:Menlo,'DejaVu Sans Mono',consolas,'Courier New',monospace\"><span style=\"font-weight: bold\"> Trainable params: </span><span style=\"color: #00af00; text-decoration-color: #00af00\">256</span> (1.00 KB)\n",
              "</pre>\n"
            ]
          },
          "metadata": {}
        },
        {
          "output_type": "display_data",
          "data": {
            "text/plain": [
              "\u001b[1m Non-trainable params: \u001b[0m\u001b[38;5;34m0\u001b[0m (0.00 B)\n"
            ],
            "text/html": [
              "<pre style=\"white-space:pre;overflow-x:auto;line-height:normal;font-family:Menlo,'DejaVu Sans Mono',consolas,'Courier New',monospace\"><span style=\"font-weight: bold\"> Non-trainable params: </span><span style=\"color: #00af00; text-decoration-color: #00af00\">0</span> (0.00 B)\n",
              "</pre>\n"
            ]
          },
          "metadata": {}
        },
        {
          "output_type": "display_data",
          "data": {
            "text/plain": [
              "\u001b[1m Optimizer params: \u001b[0m\u001b[38;5;34m514\u001b[0m (2.01 KB)\n"
            ],
            "text/html": [
              "<pre style=\"white-space:pre;overflow-x:auto;line-height:normal;font-family:Menlo,'DejaVu Sans Mono',consolas,'Courier New',monospace\"><span style=\"font-weight: bold\"> Optimizer params: </span><span style=\"color: #00af00; text-decoration-color: #00af00\">514</span> (2.01 KB)\n",
              "</pre>\n"
            ]
          },
          "metadata": {}
        }
      ],
      "source": [
        "customer_model.summary()"
      ]
    },
    {
      "cell_type": "code",
      "execution_count": 56,
      "metadata": {
        "colab": {
          "base_uri": "https://localhost:8080/"
        },
        "id": "18rGEeu_sbI-",
        "outputId": "88de1d63-4624-4d8f-f6e7-d7294534f4f4"
      },
      "outputs": [
        {
          "output_type": "execute_result",
          "data": {
            "text/plain": [
              "51"
            ]
          },
          "metadata": {},
          "execution_count": 56
        }
      ],
      "source": [
        "len(training.history['auc'])  #51 - early stopping"
      ]
    },
    {
      "cell_type": "code",
      "execution_count": 57,
      "metadata": {
        "colab": {
          "base_uri": "https://localhost:8080/"
        },
        "id": "7dPH7Bj-sbI-",
        "outputId": "50754fb9-a6ac-4eaf-f8b0-89790d0a2850"
      },
      "outputs": [
        {
          "output_type": "execute_result",
          "data": {
            "text/plain": [
              "0.8929543495178223"
            ]
          },
          "metadata": {},
          "execution_count": 57
        }
      ],
      "source": [
        "training.history['auc'][-1]  #0.8929543495178223"
      ]
    },
    {
      "cell_type": "code",
      "execution_count": 58,
      "metadata": {
        "colab": {
          "base_uri": "https://localhost:8080/",
          "height": 472
        },
        "id": "jUZBnQdisbI-",
        "outputId": "d3064b22-2346-4393-a8d3-3e6d7642ca60"
      },
      "outputs": [
        {
          "output_type": "display_data",
          "data": {
            "text/plain": [
              "<Figure size 640x480 with 1 Axes>"
            ],
            "image/png": "[encoded data removed]"
          },
          "metadata": {}
        }
      ],
      "source": [
        "import matplotlib.pyplot as plt\n",
        "\n",
        "plt.plot(training.history['auc'])\n",
        "plt.plot(training.history['loss'])\n",
        "plt.title('ROC AUC')\n",
        "plt.xlabel('epoch')\n",
        "plt.legend(['ROC AUC', 'loss'], loc='upper left')\n",
        "plt.show()"
      ]
    },
    {
      "cell_type": "markdown",
      "metadata": {
        "id": "W72x19iTsbI-"
      },
      "source": [
        "##Step 2.6 Check on test dataset"
      ]
    },
    {
      "cell_type": "code",
      "execution_count": 59,
      "metadata": {
        "colab": {
          "base_uri": "https://localhost:8080/"
        },
        "id": "SMNVNy__sbI-",
        "outputId": "7828bcae-13ab-4983-a027-f4a042f480e7"
      },
      "outputs": [
        {
          "output_type": "stream",
          "name": "stdout",
          "text": [
            "\u001b[1m7/7\u001b[0m \u001b[32m━━━━━━━━━━━━━━━━━━━━\u001b[0m\u001b[37m\u001b[0m \u001b[1m0s\u001b[0m 12ms/step\n"
          ]
        },
        {
          "output_type": "execute_result",
          "data": {
            "text/plain": [
              "array([0.14100425, 0.15412292, 0.06318091, 0.81507254, 0.42360467],\n",
              "      dtype=float32)"
            ]
          },
          "metadata": {},
          "execution_count": 59
        }
      ],
      "source": [
        "yraw = customer_model.predict(x_test_cust)[:,0]\n",
        "\n",
        "yraw[:5]  #[0.14100425, 0.15412292, 0.06318091, 0.81507254, 0.42360467]\n"
      ]
    },
    {
      "cell_type": "code",
      "execution_count": 60,
      "metadata": {
        "colab": {
          "base_uri": "https://localhost:8080/",
          "height": 726
        },
        "id": "HVU4kt6tsbI-",
        "outputId": "ce7083dd-4e40-4418-983e-0b937914b745"
      },
      "outputs": [
        {
          "output_type": "execute_result",
          "data": {
            "text/plain": [
              "<pandas.io.formats.style.Styler at 0x79277f56e450>"
            ],
            "text/html": [
              "<style type=\"text/css\">\n",
              "#T_81654 th:not(.index_name) {\n",
              "  background-color: #800000;\n",
              "  color: white;\n",
              "  text-align: center;\n",
              "}\n",
              "#T_81654_row0_col0, #T_81654_row0_col1, #T_81654_row0_col3, #T_81654_row0_col5, #T_81654_row1_col0, #T_81654_row1_col1, #T_81654_row1_col3, #T_81654_row1_col5, #T_81654_row2_col0, #T_81654_row2_col1, #T_81654_row2_col3, #T_81654_row2_col5, #T_81654_row3_col0, #T_81654_row3_col1, #T_81654_row3_col2, #T_81654_row3_col3, #T_81654_row3_col5, #T_81654_row4_col0, #T_81654_row4_col1, #T_81654_row4_col2, #T_81654_row4_col3, #T_81654_row4_col5, #T_81654_row5_col0, #T_81654_row5_col1, #T_81654_row5_col2, #T_81654_row5_col3, #T_81654_row5_col5, #T_81654_row6_col0, #T_81654_row6_col1, #T_81654_row6_col2, #T_81654_row7_col0, #T_81654_row7_col1, #T_81654_row7_col2, #T_81654_row7_col3, #T_81654_row8_col0, #T_81654_row8_col1, #T_81654_row8_col2, #T_81654_row8_col3, #T_81654_row9_col0, #T_81654_row9_col1, #T_81654_row9_col2, #T_81654_row9_col3, #T_81654_row9_col5, #T_81654_row10_col0, #T_81654_row10_col1, #T_81654_row10_col2, #T_81654_row10_col3, #T_81654_row10_col5, #T_81654_row11_col0, #T_81654_row11_col1, #T_81654_row11_col2, #T_81654_row11_col3, #T_81654_row11_col5, #T_81654_row12_col0, #T_81654_row12_col1, #T_81654_row12_col2, #T_81654_row12_col3, #T_81654_row12_col5, #T_81654_row13_col0, #T_81654_row13_col1, #T_81654_row13_col2, #T_81654_row13_col3, #T_81654_row13_col5, #T_81654_row14_col0, #T_81654_row14_col1, #T_81654_row14_col2, #T_81654_row14_col3, #T_81654_row14_col5, #T_81654_row15_col0, #T_81654_row15_col1, #T_81654_row15_col2, #T_81654_row15_col3, #T_81654_row15_col5, #T_81654_row16_col0, #T_81654_row16_col1, #T_81654_row16_col2, #T_81654_row16_col3, #T_81654_row16_col5, #T_81654_row17_col0, #T_81654_row17_col1, #T_81654_row17_col2, #T_81654_row17_col3, #T_81654_row17_col5, #T_81654_row18_col0, #T_81654_row18_col2, #T_81654_row18_col3, #T_81654_row18_col5, #T_81654_row19_col0, #T_81654_row19_col1, #T_81654_row19_col2, #T_81654_row19_col3, #T_81654_row19_col5, #T_81654_row20_col1, #T_81654_row20_col2, #T_81654_row20_col3, #T_81654_row20_col5 {\n",
              "  border: 1px solid black;\n",
              "  width: 65px;\n",
              "  text-align: center;\n",
              "}\n",
              "#T_81654_row0_col2, #T_81654_row0_col4, #T_81654_row1_col2, #T_81654_row1_col4, #T_81654_row2_col2, #T_81654_row2_col4, #T_81654_row3_col4, #T_81654_row4_col4, #T_81654_row5_col4, #T_81654_row6_col3, #T_81654_row6_col4, #T_81654_row6_col5, #T_81654_row7_col4, #T_81654_row7_col5, #T_81654_row8_col4, #T_81654_row8_col5, #T_81654_row9_col4, #T_81654_row10_col4, #T_81654_row11_col4, #T_81654_row12_col4, #T_81654_row13_col4, #T_81654_row14_col4, #T_81654_row15_col4, #T_81654_row16_col4, #T_81654_row17_col4, #T_81654_row18_col1, #T_81654_row18_col4, #T_81654_row19_col4, #T_81654_row20_col0, #T_81654_row20_col4 {\n",
              "  background-color: pink;\n",
              "  border: 1px solid black;\n",
              "  width: 65px;\n",
              "  text-align: center;\n",
              "}\n",
              "</style>\n",
              "<table id=\"T_81654\" class=\"dataframe\">\n",
              "  <thead>\n",
              "    <tr>\n",
              "      <th class=\"blank level0\" >&nbsp;</th>\n",
              "      <th id=\"T_81654_level0_col0\" class=\"col_heading level0 col0\" >threshold</th>\n",
              "      <th id=\"T_81654_level0_col1\" class=\"col_heading level0 col1\" >precision</th>\n",
              "      <th id=\"T_81654_level0_col2\" class=\"col_heading level0 col2\" >recall</th>\n",
              "      <th id=\"T_81654_level0_col3\" class=\"col_heading level0 col3\" >f1</th>\n",
              "      <th id=\"T_81654_level0_col4\" class=\"col_heading level0 col4\" >auc</th>\n",
              "      <th id=\"T_81654_level0_col5\" class=\"col_heading level0 col5\" >accuracy</th>\n",
              "    </tr>\n",
              "  </thead>\n",
              "  <tbody>\n",
              "    <tr>\n",
              "      <th id=\"T_81654_level0_row0\" class=\"row_heading level0 row0\" >0</th>\n",
              "      <td id=\"T_81654_row0_col0\" class=\"data row0 col0\" >0.00</td>\n",
              "      <td id=\"T_81654_row0_col1\" class=\"data row0 col1\" >0.32</td>\n",
              "      <td id=\"T_81654_row0_col2\" class=\"data row0 col2\" >1.00</td>\n",
              "      <td id=\"T_81654_row0_col3\" class=\"data row0 col3\" >0.49</td>\n",
              "      <td id=\"T_81654_row0_col4\" class=\"data row0 col4\" >0.88</td>\n",
              "      <td id=\"T_81654_row0_col5\" class=\"data row0 col5\" >0.32</td>\n",
              "    </tr>\n",
              "    <tr>\n",
              "      <th id=\"T_81654_level0_row1\" class=\"row_heading level0 row1\" >1</th>\n",
              "      <td id=\"T_81654_row1_col0\" class=\"data row1 col0\" >0.05</td>\n",
              "      <td id=\"T_81654_row1_col1\" class=\"data row1 col1\" >0.33</td>\n",
              "      <td id=\"T_81654_row1_col2\" class=\"data row1 col2\" >1.00</td>\n",
              "      <td id=\"T_81654_row1_col3\" class=\"data row1 col3\" >0.49</td>\n",
              "      <td id=\"T_81654_row1_col4\" class=\"data row1 col4\" >0.88</td>\n",
              "      <td id=\"T_81654_row1_col5\" class=\"data row1 col5\" >0.34</td>\n",
              "    </tr>\n",
              "    <tr>\n",
              "      <th id=\"T_81654_level0_row2\" class=\"row_heading level0 row2\" >2</th>\n",
              "      <td id=\"T_81654_row2_col0\" class=\"data row2 col0\" >0.10</td>\n",
              "      <td id=\"T_81654_row2_col1\" class=\"data row2 col1\" >0.34</td>\n",
              "      <td id=\"T_81654_row2_col2\" class=\"data row2 col2\" >1.00</td>\n",
              "      <td id=\"T_81654_row2_col3\" class=\"data row2 col3\" >0.50</td>\n",
              "      <td id=\"T_81654_row2_col4\" class=\"data row2 col4\" >0.88</td>\n",
              "      <td id=\"T_81654_row2_col5\" class=\"data row2 col5\" >0.36</td>\n",
              "    </tr>\n",
              "    <tr>\n",
              "      <th id=\"T_81654_level0_row3\" class=\"row_heading level0 row3\" >3</th>\n",
              "      <td id=\"T_81654_row3_col0\" class=\"data row3 col0\" >0.15</td>\n",
              "      <td id=\"T_81654_row3_col1\" class=\"data row3 col1\" >0.44</td>\n",
              "      <td id=\"T_81654_row3_col2\" class=\"data row3 col2\" >0.95</td>\n",
              "      <td id=\"T_81654_row3_col3\" class=\"data row3 col3\" >0.60</td>\n",
              "      <td id=\"T_81654_row3_col4\" class=\"data row3 col4\" >0.88</td>\n",
              "      <td id=\"T_81654_row3_col5\" class=\"data row3 col5\" >0.60</td>\n",
              "    </tr>\n",
              "    <tr>\n",
              "      <th id=\"T_81654_level0_row4\" class=\"row_heading level0 row4\" >4</th>\n",
              "      <td id=\"T_81654_row4_col0\" class=\"data row4 col0\" >0.20</td>\n",
              "      <td id=\"T_81654_row4_col1\" class=\"data row4 col1\" >0.56</td>\n",
              "      <td id=\"T_81654_row4_col2\" class=\"data row4 col2\" >0.90</td>\n",
              "      <td id=\"T_81654_row4_col3\" class=\"data row4 col3\" >0.69</td>\n",
              "      <td id=\"T_81654_row4_col4\" class=\"data row4 col4\" >0.88</td>\n",
              "      <td id=\"T_81654_row4_col5\" class=\"data row4 col5\" >0.74</td>\n",
              "    </tr>\n",
              "    <tr>\n",
              "      <th id=\"T_81654_level0_row5\" class=\"row_heading level0 row5\" >5</th>\n",
              "      <td id=\"T_81654_row5_col0\" class=\"data row5 col0\" >0.25</td>\n",
              "      <td id=\"T_81654_row5_col1\" class=\"data row5 col1\" >0.65</td>\n",
              "      <td id=\"T_81654_row5_col2\" class=\"data row5 col2\" >0.83</td>\n",
              "      <td id=\"T_81654_row5_col3\" class=\"data row5 col3\" >0.73</td>\n",
              "      <td id=\"T_81654_row5_col4\" class=\"data row5 col4\" >0.88</td>\n",
              "      <td id=\"T_81654_row5_col5\" class=\"data row5 col5\" >0.80</td>\n",
              "    </tr>\n",
              "    <tr>\n",
              "      <th id=\"T_81654_level0_row6\" class=\"row_heading level0 row6\" >6</th>\n",
              "      <td id=\"T_81654_row6_col0\" class=\"data row6 col0\" >0.30</td>\n",
              "      <td id=\"T_81654_row6_col1\" class=\"data row6 col1\" >0.77</td>\n",
              "      <td id=\"T_81654_row6_col2\" class=\"data row6 col2\" >0.73</td>\n",
              "      <td id=\"T_81654_row6_col3\" class=\"data row6 col3\" >0.75</td>\n",
              "      <td id=\"T_81654_row6_col4\" class=\"data row6 col4\" >0.88</td>\n",
              "      <td id=\"T_81654_row6_col5\" class=\"data row6 col5\" >0.84</td>\n",
              "    </tr>\n",
              "    <tr>\n",
              "      <th id=\"T_81654_level0_row7\" class=\"row_heading level0 row7\" >7</th>\n",
              "      <td id=\"T_81654_row7_col0\" class=\"data row7 col0\" >0.35</td>\n",
              "      <td id=\"T_81654_row7_col1\" class=\"data row7 col1\" >0.80</td>\n",
              "      <td id=\"T_81654_row7_col2\" class=\"data row7 col2\" >0.68</td>\n",
              "      <td id=\"T_81654_row7_col3\" class=\"data row7 col3\" >0.74</td>\n",
              "      <td id=\"T_81654_row7_col4\" class=\"data row7 col4\" >0.88</td>\n",
              "      <td id=\"T_81654_row7_col5\" class=\"data row7 col5\" >0.84</td>\n",
              "    </tr>\n",
              "    <tr>\n",
              "      <th id=\"T_81654_level0_row8\" class=\"row_heading level0 row8\" >8</th>\n",
              "      <td id=\"T_81654_row8_col0\" class=\"data row8 col0\" >0.40</td>\n",
              "      <td id=\"T_81654_row8_col1\" class=\"data row8 col1\" >0.81</td>\n",
              "      <td id=\"T_81654_row8_col2\" class=\"data row8 col2\" >0.67</td>\n",
              "      <td id=\"T_81654_row8_col3\" class=\"data row8 col3\" >0.73</td>\n",
              "      <td id=\"T_81654_row8_col4\" class=\"data row8 col4\" >0.88</td>\n",
              "      <td id=\"T_81654_row8_col5\" class=\"data row8 col5\" >0.84</td>\n",
              "    </tr>\n",
              "    <tr>\n",
              "      <th id=\"T_81654_level0_row9\" class=\"row_heading level0 row9\" >9</th>\n",
              "      <td id=\"T_81654_row9_col0\" class=\"data row9 col0\" >0.45</td>\n",
              "      <td id=\"T_81654_row9_col1\" class=\"data row9 col1\" >0.82</td>\n",
              "      <td id=\"T_81654_row9_col2\" class=\"data row9 col2\" >0.59</td>\n",
              "      <td id=\"T_81654_row9_col3\" class=\"data row9 col3\" >0.69</td>\n",
              "      <td id=\"T_81654_row9_col4\" class=\"data row9 col4\" >0.88</td>\n",
              "      <td id=\"T_81654_row9_col5\" class=\"data row9 col5\" >0.83</td>\n",
              "    </tr>\n",
              "    <tr>\n",
              "      <th id=\"T_81654_level0_row10\" class=\"row_heading level0 row10\" >10</th>\n",
              "      <td id=\"T_81654_row10_col0\" class=\"data row10 col0\" >0.50</td>\n",
              "      <td id=\"T_81654_row10_col1\" class=\"data row10 col1\" >0.85</td>\n",
              "      <td id=\"T_81654_row10_col2\" class=\"data row10 col2\" >0.54</td>\n",
              "      <td id=\"T_81654_row10_col3\" class=\"data row10 col3\" >0.66</td>\n",
              "      <td id=\"T_81654_row10_col4\" class=\"data row10 col4\" >0.88</td>\n",
              "      <td id=\"T_81654_row10_col5\" class=\"data row10 col5\" >0.82</td>\n",
              "    </tr>\n",
              "    <tr>\n",
              "      <th id=\"T_81654_level0_row11\" class=\"row_heading level0 row11\" >11</th>\n",
              "      <td id=\"T_81654_row11_col0\" class=\"data row11 col0\" >0.55</td>\n",
              "      <td id=\"T_81654_row11_col1\" class=\"data row11 col1\" >0.84</td>\n",
              "      <td id=\"T_81654_row11_col2\" class=\"data row11 col2\" >0.51</td>\n",
              "      <td id=\"T_81654_row11_col3\" class=\"data row11 col3\" >0.63</td>\n",
              "      <td id=\"T_81654_row11_col4\" class=\"data row11 col4\" >0.88</td>\n",
              "      <td id=\"T_81654_row11_col5\" class=\"data row11 col5\" >0.81</td>\n",
              "    </tr>\n",
              "    <tr>\n",
              "      <th id=\"T_81654_level0_row12\" class=\"row_heading level0 row12\" >12</th>\n",
              "      <td id=\"T_81654_row12_col0\" class=\"data row12 col0\" >0.60</td>\n",
              "      <td id=\"T_81654_row12_col1\" class=\"data row12 col1\" >0.91</td>\n",
              "      <td id=\"T_81654_row12_col2\" class=\"data row12 col2\" >0.48</td>\n",
              "      <td id=\"T_81654_row12_col3\" class=\"data row12 col3\" >0.62</td>\n",
              "      <td id=\"T_81654_row12_col4\" class=\"data row12 col4\" >0.88</td>\n",
              "      <td id=\"T_81654_row12_col5\" class=\"data row12 col5\" >0.82</td>\n",
              "    </tr>\n",
              "    <tr>\n",
              "      <th id=\"T_81654_level0_row13\" class=\"row_heading level0 row13\" >13</th>\n",
              "      <td id=\"T_81654_row13_col0\" class=\"data row13 col0\" >0.65</td>\n",
              "      <td id=\"T_81654_row13_col1\" class=\"data row13 col1\" >0.93</td>\n",
              "      <td id=\"T_81654_row13_col2\" class=\"data row13 col2\" >0.43</td>\n",
              "      <td id=\"T_81654_row13_col3\" class=\"data row13 col3\" >0.59</td>\n",
              "      <td id=\"T_81654_row13_col4\" class=\"data row13 col4\" >0.88</td>\n",
              "      <td id=\"T_81654_row13_col5\" class=\"data row13 col5\" >0.81</td>\n",
              "    </tr>\n",
              "    <tr>\n",
              "      <th id=\"T_81654_level0_row14\" class=\"row_heading level0 row14\" >14</th>\n",
              "      <td id=\"T_81654_row14_col0\" class=\"data row14 col0\" >0.70</td>\n",
              "      <td id=\"T_81654_row14_col1\" class=\"data row14 col1\" >0.93</td>\n",
              "      <td id=\"T_81654_row14_col2\" class=\"data row14 col2\" >0.40</td>\n",
              "      <td id=\"T_81654_row14_col3\" class=\"data row14 col3\" >0.56</td>\n",
              "      <td id=\"T_81654_row14_col4\" class=\"data row14 col4\" >0.88</td>\n",
              "      <td id=\"T_81654_row14_col5\" class=\"data row14 col5\" >0.80</td>\n",
              "    </tr>\n",
              "    <tr>\n",
              "      <th id=\"T_81654_level0_row15\" class=\"row_heading level0 row15\" >15</th>\n",
              "      <td id=\"T_81654_row15_col0\" class=\"data row15 col0\" >0.75</td>\n",
              "      <td id=\"T_81654_row15_col1\" class=\"data row15 col1\" >0.95</td>\n",
              "      <td id=\"T_81654_row15_col2\" class=\"data row15 col2\" >0.32</td>\n",
              "      <td id=\"T_81654_row15_col3\" class=\"data row15 col3\" >0.48</td>\n",
              "      <td id=\"T_81654_row15_col4\" class=\"data row15 col4\" >0.88</td>\n",
              "      <td id=\"T_81654_row15_col5\" class=\"data row15 col5\" >0.78</td>\n",
              "    </tr>\n",
              "    <tr>\n",
              "      <th id=\"T_81654_level0_row16\" class=\"row_heading level0 row16\" >16</th>\n",
              "      <td id=\"T_81654_row16_col0\" class=\"data row16 col0\" >0.80</td>\n",
              "      <td id=\"T_81654_row16_col1\" class=\"data row16 col1\" >0.95</td>\n",
              "      <td id=\"T_81654_row16_col2\" class=\"data row16 col2\" >0.30</td>\n",
              "      <td id=\"T_81654_row16_col3\" class=\"data row16 col3\" >0.46</td>\n",
              "      <td id=\"T_81654_row16_col4\" class=\"data row16 col4\" >0.88</td>\n",
              "      <td id=\"T_81654_row16_col5\" class=\"data row16 col5\" >0.77</td>\n",
              "    </tr>\n",
              "    <tr>\n",
              "      <th id=\"T_81654_level0_row17\" class=\"row_heading level0 row17\" >17</th>\n",
              "      <td id=\"T_81654_row17_col0\" class=\"data row17 col0\" >0.85</td>\n",
              "      <td id=\"T_81654_row17_col1\" class=\"data row17 col1\" >0.92</td>\n",
              "      <td id=\"T_81654_row17_col2\" class=\"data row17 col2\" >0.19</td>\n",
              "      <td id=\"T_81654_row17_col3\" class=\"data row17 col3\" >0.32</td>\n",
              "      <td id=\"T_81654_row17_col4\" class=\"data row17 col4\" >0.88</td>\n",
              "      <td id=\"T_81654_row17_col5\" class=\"data row17 col5\" >0.73</td>\n",
              "    </tr>\n",
              "    <tr>\n",
              "      <th id=\"T_81654_level0_row18\" class=\"row_heading level0 row18\" >18</th>\n",
              "      <td id=\"T_81654_row18_col0\" class=\"data row18 col0\" >0.90</td>\n",
              "      <td id=\"T_81654_row18_col1\" class=\"data row18 col1\" >1.00</td>\n",
              "      <td id=\"T_81654_row18_col2\" class=\"data row18 col2\" >0.02</td>\n",
              "      <td id=\"T_81654_row18_col3\" class=\"data row18 col3\" >0.03</td>\n",
              "      <td id=\"T_81654_row18_col4\" class=\"data row18 col4\" >0.88</td>\n",
              "      <td id=\"T_81654_row18_col5\" class=\"data row18 col5\" >0.68</td>\n",
              "    </tr>\n",
              "    <tr>\n",
              "      <th id=\"T_81654_level0_row19\" class=\"row_heading level0 row19\" >19</th>\n",
              "      <td id=\"T_81654_row19_col0\" class=\"data row19 col0\" >0.95</td>\n",
              "      <td id=\"T_81654_row19_col1\" class=\"data row19 col1\" >0.00</td>\n",
              "      <td id=\"T_81654_row19_col2\" class=\"data row19 col2\" >0.00</td>\n",
              "      <td id=\"T_81654_row19_col3\" class=\"data row19 col3\" >0.00</td>\n",
              "      <td id=\"T_81654_row19_col4\" class=\"data row19 col4\" >0.88</td>\n",
              "      <td id=\"T_81654_row19_col5\" class=\"data row19 col5\" >0.68</td>\n",
              "    </tr>\n",
              "    <tr>\n",
              "      <th id=\"T_81654_level0_row20\" class=\"row_heading level0 row20\" >20</th>\n",
              "      <td id=\"T_81654_row20_col0\" class=\"data row20 col0\" >1.00</td>\n",
              "      <td id=\"T_81654_row20_col1\" class=\"data row20 col1\" >0.00</td>\n",
              "      <td id=\"T_81654_row20_col2\" class=\"data row20 col2\" >0.00</td>\n",
              "      <td id=\"T_81654_row20_col3\" class=\"data row20 col3\" >0.00</td>\n",
              "      <td id=\"T_81654_row20_col4\" class=\"data row20 col4\" >0.88</td>\n",
              "      <td id=\"T_81654_row20_col5\" class=\"data row20 col5\" >0.68</td>\n",
              "    </tr>\n",
              "  </tbody>\n",
              "</table>\n"
            ]
          },
          "metadata": {},
          "execution_count": 60
        }
      ],
      "source": [
        "result_df, fancy_df = threshold_results(np.round(np.arange(0.0,1.01,.05), 2), y_test_cust, yraw)\n",
        "fancy_df"
      ]
    },
    {
      "cell_type": "code",
      "execution_count": 61,
      "metadata": {
        "colab": {
          "base_uri": "https://localhost:8080/",
          "height": 707
        },
        "id": "SZ4a5DvFhvyt",
        "outputId": "76e6f996-6318-4311-f747-8d6c4a5d53b8"
      },
      "outputs": [
        {
          "output_type": "execute_result",
          "data": {
            "text/plain": [
              "    threshold  precision  recall    f1   auc  accuracy\n",
              "0        0.00       0.32    1.00  0.49  0.88      0.32\n",
              "1        0.05       0.33    1.00  0.49  0.88      0.34\n",
              "2        0.10       0.34    1.00  0.50  0.88      0.36\n",
              "3        0.15       0.44    0.95  0.60  0.88      0.60\n",
              "4        0.20       0.56    0.90  0.69  0.88      0.74\n",
              "5        0.25       0.65    0.83  0.73  0.88      0.80\n",
              "6        0.30       0.77    0.73  0.75  0.88      0.84\n",
              "7        0.35       0.80    0.68  0.74  0.88      0.84\n",
              "8        0.40       0.81    0.67  0.73  0.88      0.84\n",
              "9        0.45       0.82    0.59  0.69  0.88      0.83\n",
              "10       0.50       0.85    0.54  0.66  0.88      0.82\n",
              "11       0.55       0.84    0.51  0.63  0.88      0.81\n",
              "12       0.60       0.91    0.48  0.62  0.88      0.82\n",
              "13       0.65       0.93    0.43  0.59  0.88      0.81\n",
              "14       0.70       0.93    0.40  0.56  0.88      0.80\n",
              "15       0.75       0.95    0.32  0.48  0.88      0.78\n",
              "16       0.80       0.95    0.30  0.46  0.88      0.77\n",
              "17       0.85       0.92    0.19  0.32  0.88      0.73\n",
              "18       0.90       1.00    0.02  0.03  0.88      0.68\n",
              "19       0.95       0.00    0.00  0.00  0.88      0.68\n",
              "20       1.00       0.00    0.00  0.00  0.88      0.68"
            ],
            "text/html": [
              "\n",
              "  <div id=\"df-400fbd16-fc33-43b9-aae3-c35cef276eb5\" class=\"colab-df-container\">\n",
              "    <div>\n",
              "<style scoped>\n",
              "    .dataframe tbody tr th:only-of-type {\n",
              "        vertical-align: middle;\n",
              "    }\n",
              "\n",
              "    .dataframe tbody tr th {\n",
              "        vertical-align: top;\n",
              "    }\n",
              "\n",
              "    .dataframe thead th {\n",
              "        text-align: right;\n",
              "    }\n",
              "</style>\n",
              "<table border=\"1\" class=\"dataframe\">\n",
              "  <thead>\n",
              "    <tr style=\"text-align: right;\">\n",
              "      <th></th>\n",
              "      <th>threshold</th>\n",
              "      <th>precision</th>\n",
              "      <th>recall</th>\n",
              "      <th>f1</th>\n",
              "      <th>auc</th>\n",
              "      <th>accuracy</th>\n",
              "    </tr>\n",
              "  </thead>\n",
              "  <tbody>\n",
              "    <tr>\n",
              "      <th>0</th>\n",
              "      <td>0.00</td>\n",
              "      <td>0.32</td>\n",
              "      <td>1.00</td>\n",
              "      <td>0.49</td>\n",
              "      <td>0.88</td>\n",
              "      <td>0.32</td>\n",
              "    </tr>\n",
              "    <tr>\n",
              "      <th>1</th>\n",
              "      <td>0.05</td>\n",
              "      <td>0.33</td>\n",
              "      <td>1.00</td>\n",
              "      <td>0.49</td>\n",
              "      <td>0.88</td>\n",
              "      <td>0.34</td>\n",
              "    </tr>\n",
              "    <tr>\n",
              "      <th>2</th>\n",
              "      <td>0.10</td>\n",
              "      <td>0.34</td>\n",
              "      <td>1.00</td>\n",
              "      <td>0.50</td>\n",
              "      <td>0.88</td>\n",
              "      <td>0.36</td>\n",
              "    </tr>\n",
              "    <tr>\n",
              "      <th>3</th>\n",
              "      <td>0.15</td>\n",
              "      <td>0.44</td>\n",
              "      <td>0.95</td>\n",
              "      <td>0.60</td>\n",
              "      <td>0.88</td>\n",
              "      <td>0.60</td>\n",
              "    </tr>\n",
              "    <tr>\n",
              "      <th>4</th>\n",
              "      <td>0.20</td>\n",
              "      <td>0.56</td>\n",
              "      <td>0.90</td>\n",
              "      <td>0.69</td>\n",
              "      <td>0.88</td>\n",
              "      <td>0.74</td>\n",
              "    </tr>\n",
              "    <tr>\n",
              "      <th>5</th>\n",
              "      <td>0.25</td>\n",
              "      <td>0.65</td>\n",
              "      <td>0.83</td>\n",
              "      <td>0.73</td>\n",
              "      <td>0.88</td>\n",
              "      <td>0.80</td>\n",
              "    </tr>\n",
              "    <tr>\n",
              "      <th>6</th>\n",
              "      <td>0.30</td>\n",
              "      <td>0.77</td>\n",
              "      <td>0.73</td>\n",
              "      <td>0.75</td>\n",
              "      <td>0.88</td>\n",
              "      <td>0.84</td>\n",
              "    </tr>\n",
              "    <tr>\n",
              "      <th>7</th>\n",
              "      <td>0.35</td>\n",
              "      <td>0.80</td>\n",
              "      <td>0.68</td>\n",
              "      <td>0.74</td>\n",
              "      <td>0.88</td>\n",
              "      <td>0.84</td>\n",
              "    </tr>\n",
              "    <tr>\n",
              "      <th>8</th>\n",
              "      <td>0.40</td>\n",
              "      <td>0.81</td>\n",
              "      <td>0.67</td>\n",
              "      <td>0.73</td>\n",
              "      <td>0.88</td>\n",
              "      <td>0.84</td>\n",
              "    </tr>\n",
              "    <tr>\n",
              "      <th>9</th>\n",
              "      <td>0.45</td>\n",
              "      <td>0.82</td>\n",
              "      <td>0.59</td>\n",
              "      <td>0.69</td>\n",
              "      <td>0.88</td>\n",
              "      <td>0.83</td>\n",
              "    </tr>\n",
              "    <tr>\n",
              "      <th>10</th>\n",
              "      <td>0.50</td>\n",
              "      <td>0.85</td>\n",
              "      <td>0.54</td>\n",
              "      <td>0.66</td>\n",
              "      <td>0.88</td>\n",
              "      <td>0.82</td>\n",
              "    </tr>\n",
              "    <tr>\n",
              "      <th>11</th>\n",
              "      <td>0.55</td>\n",
              "      <td>0.84</td>\n",
              "      <td>0.51</td>\n",
              "      <td>0.63</td>\n",
              "      <td>0.88</td>\n",
              "      <td>0.81</td>\n",
              "    </tr>\n",
              "    <tr>\n",
              "      <th>12</th>\n",
              "      <td>0.60</td>\n",
              "      <td>0.91</td>\n",
              "      <td>0.48</td>\n",
              "      <td>0.62</td>\n",
              "      <td>0.88</td>\n",
              "      <td>0.82</td>\n",
              "    </tr>\n",
              "    <tr>\n",
              "      <th>13</th>\n",
              "      <td>0.65</td>\n",
              "      <td>0.93</td>\n",
              "      <td>0.43</td>\n",
              "      <td>0.59</td>\n",
              "      <td>0.88</td>\n",
              "      <td>0.81</td>\n",
              "    </tr>\n",
              "    <tr>\n",
              "      <th>14</th>\n",
              "      <td>0.70</td>\n",
              "      <td>0.93</td>\n",
              "      <td>0.40</td>\n",
              "      <td>0.56</td>\n",
              "      <td>0.88</td>\n",
              "      <td>0.80</td>\n",
              "    </tr>\n",
              "    <tr>\n",
              "      <th>15</th>\n",
              "      <td>0.75</td>\n",
              "      <td>0.95</td>\n",
              "      <td>0.32</td>\n",
              "      <td>0.48</td>\n",
              "      <td>0.88</td>\n",
              "      <td>0.78</td>\n",
              "    </tr>\n",
              "    <tr>\n",
              "      <th>16</th>\n",
              "      <td>0.80</td>\n",
              "      <td>0.95</td>\n",
              "      <td>0.30</td>\n",
              "      <td>0.46</td>\n",
              "      <td>0.88</td>\n",
              "      <td>0.77</td>\n",
              "    </tr>\n",
              "    <tr>\n",
              "      <th>17</th>\n",
              "      <td>0.85</td>\n",
              "      <td>0.92</td>\n",
              "      <td>0.19</td>\n",
              "      <td>0.32</td>\n",
              "      <td>0.88</td>\n",
              "      <td>0.73</td>\n",
              "    </tr>\n",
              "    <tr>\n",
              "      <th>18</th>\n",
              "      <td>0.90</td>\n",
              "      <td>1.00</td>\n",
              "      <td>0.02</td>\n",
              "      <td>0.03</td>\n",
              "      <td>0.88</td>\n",
              "      <td>0.68</td>\n",
              "    </tr>\n",
              "    <tr>\n",
              "      <th>19</th>\n",
              "      <td>0.95</td>\n",
              "      <td>0.00</td>\n",
              "      <td>0.00</td>\n",
              "      <td>0.00</td>\n",
              "      <td>0.88</td>\n",
              "      <td>0.68</td>\n",
              "    </tr>\n",
              "    <tr>\n",
              "      <th>20</th>\n",
              "      <td>1.00</td>\n",
              "      <td>0.00</td>\n",
              "      <td>0.00</td>\n",
              "      <td>0.00</td>\n",
              "      <td>0.88</td>\n",
              "      <td>0.68</td>\n",
              "    </tr>\n",
              "  </tbody>\n",
              "</table>\n",
              "</div>\n",
              "    <div class=\"colab-df-buttons\">\n",
              "\n",
              "  <div class=\"colab-df-container\">\n",
              "    <button class=\"colab-df-convert\" onclick=\"convertToInteractive('df-400fbd16-fc33-43b9-aae3-c35cef276eb5')\"\n",
              "            title=\"Convert this dataframe to an interactive table.\"\n",
              "            style=\"display:none;\">\n",
              "\n",
              "  <svg xmlns=\"http://www.w3.org/2000/svg\" height=\"24px\" viewBox=\"0 -960 960 960\">\n",
              "    <path d=\"M120-120v-720h720v720H120Zm60-500h600v-160H180v160Zm220 220h160v-160H400v160Zm0 220h160v-160H400v160ZM180-400h160v-160H180v160Zm440 0h160v-160H620v160ZM180-180h160v-160H180v160Zm440 0h160v-160H620v160Z\"/>\n",
              "  </svg>\n",
              "    </button>\n",
              "\n",
              "  <style>\n",
              "    .colab-df-container {\n",
              "      display:flex;\n",
              "      gap: 12px;\n",
              "    }\n",
              "\n",
              "    .colab-df-convert {\n",
              "      background-color: #E8F0FE;\n",
              "      border: none;\n",
              "      border-radius: 50%;\n",
              "      cursor: pointer;\n",
              "      display: none;\n",
              "      fill: #1967D2;\n",
              "      height: 32px;\n",
              "      padding: 0 0 0 0;\n",
              "      width: 32px;\n",
              "    }\n",
              "\n",
              "    .colab-df-convert:hover {\n",
              "      background-color: #E2EBFA;\n",
              "      box-shadow: 0px 1px 2px rgba(60, 64, 67, 0.3), 0px 1px 3px 1px rgba(60, 64, 67, 0.15);\n",
              "      fill: #174EA6;\n",
              "    }\n",
              "\n",
              "    .colab-df-buttons div {\n",
              "      margin-bottom: 4px;\n",
              "    }\n",
              "\n",
              "    [theme=dark] .colab-df-convert {\n",
              "      background-color: #3B4455;\n",
              "      fill: #D2E3FC;\n",
              "    }\n",
              "\n",
              "    [theme=dark] .colab-df-convert:hover {\n",
              "      background-color: #434B5C;\n",
              "      box-shadow: 0px 1px 3px 1px rgba(0, 0, 0, 0.15);\n",
              "      filter: drop-shadow(0px 1px 2px rgba(0, 0, 0, 0.3));\n",
              "      fill: #FFFFFF;\n",
              "    }\n",
              "  </style>\n",
              "\n",
              "    <script>\n",
              "      const buttonEl =\n",
              "        document.querySelector('#df-400fbd16-fc33-43b9-aae3-c35cef276eb5 button.colab-df-convert');\n",
              "      buttonEl.style.display =\n",
              "        google.colab.kernel.accessAllowed ? 'block' : 'none';\n",
              "\n",
              "      async function convertToInteractive(key) {\n",
              "        const element = document.querySelector('#df-400fbd16-fc33-43b9-aae3-c35cef276eb5');\n",
              "        const dataTable =\n",
              "          await google.colab.kernel.invokeFunction('convertToInteractive',\n",
              "                                                    [key], {});\n",
              "        if (!dataTable) return;\n",
              "\n",
              "        const docLinkHtml = 'Like what you see? Visit the ' +\n",
              "          '<a target=\"_blank\" href=https://colab.research.google.com/notebooks/data_table.ipynb>data table notebook</a>'\n",
              "          + ' to learn more about interactive tables.';\n",
              "        element.innerHTML = '';\n",
              "        dataTable['output_type'] = 'display_data';\n",
              "        await google.colab.output.renderOutput(dataTable, element);\n",
              "        const docLink = document.createElement('div');\n",
              "        docLink.innerHTML = docLinkHtml;\n",
              "        element.appendChild(docLink);\n",
              "      }\n",
              "    </script>\n",
              "  </div>\n",
              "\n",
              "\n",
              "    <div id=\"df-1b1054c7-08ce-4cfa-a545-1be19af6465d\">\n",
              "      <button class=\"colab-df-quickchart\" onclick=\"quickchart('df-1b1054c7-08ce-4cfa-a545-1be19af6465d')\"\n",
              "                title=\"Suggest charts\"\n",
              "                style=\"display:none;\">\n",
              "\n",
              "<svg xmlns=\"http://www.w3.org/2000/svg\" height=\"24px\"viewBox=\"0 0 24 24\"\n",
              "     width=\"24px\">\n",
              "    <g>\n",
              "        <path d=\"M19 3H5c-1.1 0-2 .9-2 2v14c0 1.1.9 2 2 2h14c1.1 0 2-.9 2-2V5c0-1.1-.9-2-2-2zM9 17H7v-7h2v7zm4 0h-2V7h2v10zm4 0h-2v-4h2v4z\"/>\n",
              "    </g>\n",
              "</svg>\n",
              "      </button>\n",
              "\n",
              "<style>\n",
              "  .colab-df-quickchart {\n",
              "      --bg-color: #E8F0FE;\n",
              "      --fill-color: #1967D2;\n",
              "      --hover-bg-color: #E2EBFA;\n",
              "      --hover-fill-color: #174EA6;\n",
              "      --disabled-fill-color: #AAA;\n",
              "      --disabled-bg-color: #DDD;\n",
              "  }\n",
              "\n",
              "  [theme=dark] .colab-df-quickchart {\n",
              "      --bg-color: #3B4455;\n",
              "      --fill-color: #D2E3FC;\n",
              "      --hover-bg-color: #434B5C;\n",
              "      --hover-fill-color: #FFFFFF;\n",
              "      --disabled-bg-color: #3B4455;\n",
              "      --disabled-fill-color: #666;\n",
              "  }\n",
              "\n",
              "  .colab-df-quickchart {\n",
              "    background-color: var(--bg-color);\n",
              "    border: none;\n",
              "    border-radius: 50%;\n",
              "    cursor: pointer;\n",
              "    display: none;\n",
              "    fill: var(--fill-color);\n",
              "    height: 32px;\n",
              "    padding: 0;\n",
              "    width: 32px;\n",
              "  }\n",
              "\n",
              "  .colab-df-quickchart:hover {\n",
              "    background-color: var(--hover-bg-color);\n",
              "    box-shadow: 0 1px 2px rgba(60, 64, 67, 0.3), 0 1px 3px 1px rgba(60, 64, 67, 0.15);\n",
              "    fill: var(--button-hover-fill-color);\n",
              "  }\n",
              "\n",
              "  .colab-df-quickchart-complete:disabled,\n",
              "  .colab-df-quickchart-complete:disabled:hover {\n",
              "    background-color: var(--disabled-bg-color);\n",
              "    fill: var(--disabled-fill-color);\n",
              "    box-shadow: none;\n",
              "  }\n",
              "\n",
              "  .colab-df-spinner {\n",
              "    border: 2px solid var(--fill-color);\n",
              "    border-color: transparent;\n",
              "    border-bottom-color: var(--fill-color);\n",
              "    animation:\n",
              "      spin 1s steps(1) infinite;\n",
              "  }\n",
              "\n",
              "  @keyframes spin {\n",
              "    0% {\n",
              "      border-color: transparent;\n",
              "      border-bottom-color: var(--fill-color);\n",
              "      border-left-color: var(--fill-color);\n",
              "    }\n",
              "    20% {\n",
              "      border-color: transparent;\n",
              "      border-left-color: var(--fill-color);\n",
              "      border-top-color: var(--fill-color);\n",
              "    }\n",
              "    30% {\n",
              "      border-color: transparent;\n",
              "      border-left-color: var(--fill-color);\n",
              "      border-top-color: var(--fill-color);\n",
              "      border-right-color: var(--fill-color);\n",
              "    }\n",
              "    40% {\n",
              "      border-color: transparent;\n",
              "      border-right-color: var(--fill-color);\n",
              "      border-top-color: var(--fill-color);\n",
              "    }\n",
              "    60% {\n",
              "      border-color: transparent;\n",
              "      border-right-color: var(--fill-color);\n",
              "    }\n",
              "    80% {\n",
              "      border-color: transparent;\n",
              "      border-right-color: var(--fill-color);\n",
              "      border-bottom-color: var(--fill-color);\n",
              "    }\n",
              "    90% {\n",
              "      border-color: transparent;\n",
              "      border-bottom-color: var(--fill-color);\n",
              "    }\n",
              "  }\n",
              "</style>\n",
              "\n",
              "      <script>\n",
              "        async function quickchart(key) {\n",
              "          const quickchartButtonEl =\n",
              "            document.querySelector('#' + key + ' button');\n",
              "          quickchartButtonEl.disabled = true;  // To prevent multiple clicks.\n",
              "          quickchartButtonEl.classList.add('colab-df-spinner');\n",
              "          try {\n",
              "            const charts = await google.colab.kernel.invokeFunction(\n",
              "                'suggestCharts', [key], {});\n",
              "          } catch (error) {\n",
              "            console.error('Error during call to suggestCharts:', error);\n",
              "          }\n",
              "          quickchartButtonEl.classList.remove('colab-df-spinner');\n",
              "          quickchartButtonEl.classList.add('colab-df-quickchart-complete');\n",
              "        }\n",
              "        (() => {\n",
              "          let quickchartButtonEl =\n",
              "            document.querySelector('#df-1b1054c7-08ce-4cfa-a545-1be19af6465d button');\n",
              "          quickchartButtonEl.style.display =\n",
              "            google.colab.kernel.accessAllowed ? 'block' : 'none';\n",
              "        })();\n",
              "      </script>\n",
              "    </div>\n",
              "\n",
              "  <div id=\"id_c1ef9458-63a3-45c0-b6a3-3e27d5d62422\">\n",
              "    <style>\n",
              "      .colab-df-generate {\n",
              "        background-color: #E8F0FE;\n",
              "        border: none;\n",
              "        border-radius: 50%;\n",
              "        cursor: pointer;\n",
              "        display: none;\n",
              "        fill: #1967D2;\n",
              "        height: 32px;\n",
              "        padding: 0 0 0 0;\n",
              "        width: 32px;\n",
              "      }\n",
              "\n",
              "      .colab-df-generate:hover {\n",
              "        background-color: #E2EBFA;\n",
              "        box-shadow: 0px 1px 2px rgba(60, 64, 67, 0.3), 0px 1px 3px 1px rgba(60, 64, 67, 0.15);\n",
              "        fill: #174EA6;\n",
              "      }\n",
              "\n",
              "      [theme=dark] .colab-df-generate {\n",
              "        background-color: #3B4455;\n",
              "        fill: #D2E3FC;\n",
              "      }\n",
              "\n",
              "      [theme=dark] .colab-df-generate:hover {\n",
              "        background-color: #434B5C;\n",
              "        box-shadow: 0px 1px 3px 1px rgba(0, 0, 0, 0.15);\n",
              "        filter: drop-shadow(0px 1px 2px rgba(0, 0, 0, 0.3));\n",
              "        fill: #FFFFFF;\n",
              "      }\n",
              "    </style>\n",
              "    <button class=\"colab-df-generate\" onclick=\"generateWithVariable('result_df')\"\n",
              "            title=\"Generate code using this dataframe.\"\n",
              "            style=\"display:none;\">\n",
              "\n",
              "  <svg xmlns=\"http://www.w3.org/2000/svg\" height=\"24px\"viewBox=\"0 0 24 24\"\n",
              "       width=\"24px\">\n",
              "    <path d=\"M7,19H8.4L18.45,9,17,7.55,7,17.6ZM5,21V16.75L18.45,3.32a2,2,0,0,1,2.83,0l1.4,1.43a1.91,1.91,0,0,1,.58,1.4,1.91,1.91,0,0,1-.58,1.4L9.25,21ZM18.45,9,17,7.55Zm-12,3A5.31,5.31,0,0,0,4.9,8.1,5.31,5.31,0,0,0,1,6.5,5.31,5.31,0,0,0,4.9,4.9,5.31,5.31,0,0,0,6.5,1,5.31,5.31,0,0,0,8.1,4.9,5.31,5.31,0,0,0,12,6.5,5.46,5.46,0,0,0,6.5,12Z\"/>\n",
              "  </svg>\n",
              "    </button>\n",
              "    <script>\n",
              "      (() => {\n",
              "      const buttonEl =\n",
              "        document.querySelector('#id_c1ef9458-63a3-45c0-b6a3-3e27d5d62422 button.colab-df-generate');\n",
              "      buttonEl.style.display =\n",
              "        google.colab.kernel.accessAllowed ? 'block' : 'none';\n",
              "\n",
              "      buttonEl.onclick = () => {\n",
              "        google.colab.notebook.generateWithVariable('result_df');\n",
              "      }\n",
              "      })();\n",
              "    </script>\n",
              "  </div>\n",
              "\n",
              "    </div>\n",
              "  </div>\n"
            ],
            "application/vnd.google.colaboratory.intrinsic+json": {
              "type": "dataframe",
              "variable_name": "result_df",
              "summary": "{\n  \"name\": \"result_df\",\n  \"rows\": 21,\n  \"fields\": [\n    {\n      \"column\": \"threshold\",\n      \"properties\": {\n        \"dtype\": \"number\",\n        \"std\": 0.3102418411497714,\n        \"min\": 0.0,\n        \"max\": 1.0,\n        \"num_unique_values\": 21,\n        \"samples\": [\n          0.0,\n          0.85,\n          0.75\n        ],\n        \"semantic_type\": \"\",\n        \"description\": \"\"\n      }\n    },\n    {\n      \"column\": \"precision\",\n      \"properties\": {\n        \"dtype\": \"number\",\n        \"std\": 0.31315977969568126,\n        \"min\": 0.0,\n        \"max\": 1.0,\n        \"num_unique_values\": 18,\n        \"samples\": [\n          0.32,\n          0.33,\n          0.81\n        ],\n        \"semantic_type\": \"\",\n        \"description\": \"\"\n      }\n    },\n    {\n      \"column\": \"recall\",\n      \"properties\": {\n        \"dtype\": \"number\",\n        \"std\": 0.3322721202640419,\n        \"min\": 0.0,\n        \"max\": 1.0,\n        \"num_unique_values\": 18,\n        \"samples\": [\n          1.0,\n          0.95,\n          0.54\n        ],\n        \"semantic_type\": \"\",\n        \"description\": \"\"\n      }\n    },\n    {\n      \"column\": \"f1\",\n      \"properties\": {\n        \"dtype\": \"number\",\n        \"std\": 0.23759008316646468,\n        \"min\": 0.0,\n        \"max\": 0.75,\n        \"num_unique_values\": 17,\n        \"samples\": [\n          0.49,\n          0.5,\n          0.75\n        ],\n        \"semantic_type\": \"\",\n        \"description\": \"\"\n      }\n    },\n    {\n      \"column\": \"auc\",\n      \"properties\": {\n        \"dtype\": \"number\",\n        \"std\": 2.275280134513746e-16,\n        \"min\": 0.88,\n        \"max\": 0.88,\n        \"num_unique_values\": 1,\n        \"samples\": [\n          0.88\n        ],\n        \"semantic_type\": \"\",\n        \"description\": \"\"\n      }\n    },\n    {\n      \"column\": \"accuracy\",\n      \"properties\": {\n        \"dtype\": \"number\",\n        \"std\": 0.16756803877544071,\n        \"min\": 0.32,\n        \"max\": 0.84,\n        \"num_unique_values\": 14,\n        \"samples\": [\n          0.81\n        ],\n        \"semantic_type\": \"\",\n        \"description\": \"\"\n      }\n    }\n  ]\n}"
            }
          },
          "metadata": {},
          "execution_count": 61
        }
      ],
      "source": [
        "result_df"
      ]
    },
    {
      "cell_type": "markdown",
      "metadata": {
        "id": "PzeBbg2psbI_"
      },
      "source": [
        "###My results\n",
        "\n",
        "<img src='https://www.dropbox.com/scl/fi/gjiho9yw1nh7g4wf3y6z1/Screenshot-2025-05-16-at-9.39.03-AM.png?rlkey=szclvo6r0upif3tv1a4lli0da&raw=1' height = 500>"
      ]
    },
    {
      "cell_type": "markdown",
      "metadata": {
        "id": "uCXIw2WpSWDT"
      },
      "source": [
        "#Challenge 2\n",
        "\n",
        "Explore a bit more tuning.\n"
      ]
    },
    {
      "cell_type": "markdown",
      "metadata": {
        "id": "0_qd9R4WY639"
      },
      "source": [
        "##Step 2.1 Change the model builder class\n",
        "\n",
        "You can see the original at the start of Challenge 1, same one we used earlier in the notebook.\n",
        "\n",
        "1. Rework layers to between 2 and 5, i.e., remove 1.\n",
        "2. Rework units to between 4 and 16, i.e., remove 2 and 3.\n",
        "3. Parameterize `tf.keras.regularizers.l2(0.01)`. Use as choices .005, .01, .05.\n",
        "4. Skip tuning smoothing."
      ]
    },
    {
      "cell_type": "code",
      "execution_count": 62,
      "metadata": {
        "id": "FjxxRQYUY5ps"
      },
      "outputs": [],
      "source": [
        "class MyHyperModel_v2(keras_tuner.HyperModel):\n",
        "  def __init__(self, n=6, metrics='auc',\n",
        "                      layers=(3,5,1),\n",
        "                      units=(4,16,1),\n",
        "                      afn_list=('relu', 'leaky_relu'),\n",
        "                      l2_list=(0.005, 0.01, 0.05)\n",
        "                      ):\n",
        "    self.n = n #number of features\n",
        "    self.metrics = metrics\n",
        "    self.units = units\n",
        "    self.layers = layers\n",
        "    self.afn_list = afn_list\n",
        "    self.l2_list = l2_list\n",
        "\n",
        "  def build(self, hp):\n",
        "\n",
        "    n = self.n\n",
        "    metrics = self.metrics\n",
        "    min_units = self.units[0]\n",
        "    max_units = self.units[1]\n",
        "    step_units = self.units[2]\n",
        "\n",
        "    min_layers = self.layers[0]\n",
        "    max_layers = self.layers[1]\n",
        "    step_layers = self.layers[2]\n",
        "\n",
        "    n_afns = len(self.afn_list)\n",
        "    n_l2 = len(self.l2_list)\n",
        "\n",
        "    ann_model = Sequential()\n",
        "\n",
        "    # Input layer\n",
        "    ann_model.add(Input(shape=(n,), name=\"input_layer\"))\n",
        "\n",
        "    #add one or more new hidden layers\n",
        "    layers = hp.Int(\"layers\", min_value=min_layers, max_value=max_layers, step=step_layers)\n",
        "    for i in range(layers):\n",
        "      layer_name = f\"hidden_layer_{i}\"\n",
        "      ann_model.add(Dense(\n",
        "                  name=layer_name+'_dense',\n",
        "                  kernel_regularizer=tf.keras.regularizers.l2(hp.Choice(f'reg_lr{i}', values=self.l2_list)),\n",
        "                  kernel_initializer=tf.keras.initializers.HeNormal(seed=string_to_seed(layer_name+'_dense')),\n",
        "\n",
        "                  # Tune number of units.\n",
        "                  units=hp.Int(f\"hidden_units{i}\", min_value=min_units, max_value=max_units, step=step_units),\n",
        "\n",
        "                  # Tune the activation function to use.\n",
        "                  activation= self.afn_list[hp.Int(f'afn{i}', min_value=0, max_value=n_afns-1, step=1)],\n",
        "      ))\n",
        "\n",
        "    #now output layer\n",
        "    ann_model.add(Dense(units=1, activation='sigmoid'))\n",
        "\n",
        "    ann_model.compile(loss=tf.keras.losses.BinaryCrossentropy(label_smoothing=.1),  #fixed but could be tuned\n",
        "                  optimizer=tf.keras.optimizers.Adam(learning_rate=.001),           #fixed but could be tuned\n",
        "                  metrics=['auc', 'accuracy']\n",
        ")\n",
        "    return ann_model"
      ]
    },
    {
      "cell_type": "markdown",
      "metadata": {
        "id": "OYBPMEoSfH-B"
      },
      "source": [
        "##Step 2.2 Set up search\n",
        "\n",
        "But bump trials to 100."
      ]
    },
    {
      "cell_type": "code",
      "execution_count": 63,
      "metadata": {
        "id": "SrKlSlfTTKQh"
      },
      "outputs": [],
      "source": [
        "tf.keras.utils.set_random_seed(1234)  #need this for replication\n",
        "\n",
        "max_trials = 100\n",
        "\n",
        "hyper_tuner = keras_tuner.RandomSearch(\n",
        "    hypermodel=MyHyperModel_v2(),\n",
        "    objective=keras_tuner.Objective('auc', 'max'),  #cannot use auc object as previously defined - have to use instance of keras_tuner.Objective class instead\n",
        "    max_trials=max_trials,  #how many models to build, i.e., how many different configs to try\n",
        "    executions_per_trial=1,  #given we have eliminated nondeterminism, can keep this at 1\n",
        "    overwrite=True,\n",
        "    #directory=\"ann/tb\",  #for use by TensorBoard\n",
        "    seed=1234,\n",
        ")"
      ]
    },
    {
      "cell_type": "markdown",
      "metadata": {
        "id": "DFOVKemFfwKw"
      },
      "source": [
        "##Step 2.3 Check on validation set\n",
        "\n",
        "If it is not defined, you will have to execute the code again in previous portion of notebook."
      ]
    },
    {
      "cell_type": "code",
      "execution_count": 64,
      "metadata": {
        "colab": {
          "base_uri": "https://localhost:8080/"
        },
        "id": "bSWp8tkNf2S_",
        "outputId": "65502534-28ba-4a9d-d26f-664ad380f2ab"
      },
      "outputs": [
        {
          "output_type": "execute_result",
          "data": {
            "text/plain": [
              "250"
            ]
          },
          "metadata": {},
          "execution_count": 64
        }
      ],
      "source": [
        "len(x_train_val)  #250"
      ]
    },
    {
      "cell_type": "markdown",
      "metadata": {
        "id": "9QpGsHFfggpX"
      },
      "source": [
        "##Step 2.4 Do the search\n",
        "\n",
        "Get some coffee. Took me 56 minutes."
      ]
    },
    {
      "cell_type": "code",
      "execution_count": 65,
      "metadata": {
        "id": "h2UAAU1KTKQk"
      },
      "outputs": [],
      "source": [
        "%%capture\n",
        "start = datetime.datetime.now()\n",
        "\n",
        "hyper_tuner.search(x_train_tune, y_train_tune,\n",
        "                   epochs=100, batch_size=32,\n",
        "                   validation_data=(x_train_val, y_train_val),\n",
        "                   #callbacks=[keras.callbacks.TensorBoard(\"mlops/tb_logs\")]  #for use by TensorBoard\n",
        "                   )\n",
        "tf.keras.backend.clear_session()  #get rid of unused models created during search  #get rid of unused models created during search\n",
        "\n",
        "end = datetime.datetime.now()\n",
        "time_difference = end - start\n",
        "difference_in_minutes = time_difference.total_seconds() / 60"
      ]
    },
    {
      "cell_type": "code",
      "execution_count": 66,
      "metadata": {
        "colab": {
          "base_uri": "https://localhost:8080/"
        },
        "id": "mjv5qDJt8xr3",
        "outputId": "e0e84df0-c718-4f2a-b402-08c0558faf37"
      },
      "outputs": [
        {
          "output_type": "stream",
          "name": "stdout",
          "text": [
            "The difference between the two datetimes is 57.71595335 minutes.\n"
          ]
        }
      ],
      "source": [
        "print(f\"The difference between the two datetimes is {difference_in_minutes} minutes.\")  #56.17 minutes"
      ]
    },
    {
      "cell_type": "code",
      "execution_count": 67,
      "metadata": {
        "colab": {
          "base_uri": "https://localhost:8080/"
        },
        "id": "pA65iu70TKQk",
        "outputId": "8c80585b-4f23-45ca-d6db-adc19faaa9b8"
      },
      "outputs": [
        {
          "output_type": "execute_result",
          "data": {
            "text/plain": [
              "{'layers': 5,\n",
              " 'reg_lr0': 0.005,\n",
              " 'hidden_units0': 16,\n",
              " 'afn0': 0,\n",
              " 'reg_lr1': 0.005,\n",
              " 'hidden_units1': 5,\n",
              " 'afn1': 0,\n",
              " 'reg_lr2': 0.005,\n",
              " 'hidden_units2': 11,\n",
              " 'afn2': 1,\n",
              " 'reg_lr3': 0.01,\n",
              " 'hidden_units3': 4,\n",
              " 'afn3': 1,\n",
              " 'reg_lr4': 0.005,\n",
              " 'hidden_units4': 5,\n",
              " 'afn4': 1}"
            ]
          },
          "metadata": {},
          "execution_count": 67
        }
      ],
      "source": [
        "best_hp = hyper_tuner.get_best_hyperparameters()[0]\n",
        "best_hp.values\n"
      ]
    },
    {
      "cell_type": "markdown",
      "metadata": {
        "id": "jizZIQU4TKQk"
      },
      "source": [
        "###My results\n",
        "\n",
        "<pre>\n",
        "{'layers': 4,\n",
        " 'reg_lr0': 0,\n",
        " 'hidden_units0': 10,\n",
        " 'afn0': 0,\n",
        " 'reg_lr1': 0,\n",
        " 'hidden_units1': 4,\n",
        " 'afn1': 0,\n",
        " 'reg_lr2': 1,\n",
        " 'hidden_units2': 12,\n",
        " 'afn2': 0,\n",
        " 'reg_lr3': 1,\n",
        " 'hidden_units3': 15,\n",
        " 'afn3': 0,\n",
        " 'reg_lr4': 2,\n",
        " 'hidden_units4': 12,\n",
        " 'afn4': 0}\n",
        " </pre>"
      ]
    },
    {
      "cell_type": "markdown",
      "metadata": {
        "id": "5lQXc4TGkScq"
      },
      "source": [
        "##Step 2.5 Train best model\n",
        "\n",
        "We now have the best configuration out of the 100 we tried. It's relatively easy to now train a model using this configuration."
      ]
    },
    {
      "cell_type": "code",
      "execution_count": 68,
      "metadata": {
        "colab": {
          "base_uri": "https://localhost:8080/"
        },
        "id": "HDJ58VMMkScr",
        "outputId": "8489a37d-d15f-4596-e186-78c08061f64c"
      },
      "outputs": [
        {
          "output_type": "stream",
          "name": "stdout",
          "text": [
            "Epoch 1/100\n",
            "\u001b[1m33/33\u001b[0m \u001b[32m━━━━━━━━━━━━━━━━━━━━\u001b[0m\u001b[37m\u001b[0m \u001b[1m4s\u001b[0m 19ms/step - accuracy: 0.4429 - auc: 0.6328 - loss: 1.1756 - val_accuracy: 0.4760 - val_auc: 0.6607 - val_loss: 1.1353\n",
            "Epoch 2/100\n",
            "\u001b[1m33/33\u001b[0m \u001b[32m━━━━━━━━━━━━━━━━━━━━\u001b[0m\u001b[37m\u001b[0m \u001b[1m0s\u001b[0m 7ms/step - accuracy: 0.4969 - auc: 0.6885 - loss: 1.1242 - val_accuracy: 0.5960 - val_auc: 0.6839 - val_loss: 1.0967\n",
            "Epoch 3/100\n",
            "\u001b[1m33/33\u001b[0m \u001b[32m━━━━━━━━━━━━━━━━━━━━\u001b[0m\u001b[37m\u001b[0m \u001b[1m0s\u001b[0m 7ms/step - accuracy: 0.6336 - auc: 0.7215 - loss: 1.0865 - val_accuracy: 0.6720 - val_auc: 0.6912 - val_loss: 1.0628\n",
            "Epoch 4/100\n",
            "\u001b[1m33/33\u001b[0m \u001b[32m━━━━━━━━━━━━━━━━━━━━\u001b[0m\u001b[37m\u001b[0m \u001b[1m0s\u001b[0m 6ms/step - accuracy: 0.6802 - auc: 0.7305 - loss: 1.0534 - val_accuracy: 0.6760 - val_auc: 0.7010 - val_loss: 1.0318\n",
            "Epoch 5/100\n",
            "\u001b[1m33/33\u001b[0m \u001b[32m━━━━━━━━━━━━━━━━━━━━\u001b[0m\u001b[37m\u001b[0m \u001b[1m0s\u001b[0m 7ms/step - accuracy: 0.7042 - auc: 0.7263 - loss: 1.0226 - val_accuracy: 0.6920 - val_auc: 0.7006 - val_loss: 1.0010\n",
            "Epoch 6/100\n",
            "\u001b[1m33/33\u001b[0m \u001b[32m━━━━━━━━━━━━━━━━━━━━\u001b[0m\u001b[37m\u001b[0m \u001b[1m0s\u001b[0m 7ms/step - accuracy: 0.7060 - auc: 0.7338 - loss: 0.9906 - val_accuracy: 0.6960 - val_auc: 0.6995 - val_loss: 0.9709\n",
            "Epoch 7/100\n",
            "\u001b[1m33/33\u001b[0m \u001b[32m━━━━━━━━━━━━━━━━━━━━\u001b[0m\u001b[37m\u001b[0m \u001b[1m0s\u001b[0m 6ms/step - accuracy: 0.7111 - auc: 0.7325 - loss: 0.9599 - val_accuracy: 0.6960 - val_auc: 0.6993 - val_loss: 0.9437\n",
            "Epoch 8/100\n",
            "\u001b[1m33/33\u001b[0m \u001b[32m━━━━━━━━━━━━━━━━━━━━\u001b[0m\u001b[37m\u001b[0m \u001b[1m0s\u001b[0m 7ms/step - accuracy: 0.7031 - auc: 0.7333 - loss: 0.9315 - val_accuracy: 0.6640 - val_auc: 0.7074 - val_loss: 0.9182\n",
            "Epoch 9/100\n",
            "\u001b[1m33/33\u001b[0m \u001b[32m━━━━━━━━━━━━━━━━━━━━\u001b[0m\u001b[37m\u001b[0m \u001b[1m0s\u001b[0m 6ms/step - accuracy: 0.7038 - auc: 0.7417 - loss: 0.9044 - val_accuracy: 0.6760 - val_auc: 0.7130 - val_loss: 0.8949\n",
            "Epoch 10/100\n",
            "\u001b[1m33/33\u001b[0m \u001b[32m━━━━━━━━━━━━━━━━━━━━\u001b[0m\u001b[37m\u001b[0m \u001b[1m0s\u001b[0m 7ms/step - accuracy: 0.7013 - auc: 0.7460 - loss: 0.8785 - val_accuracy: 0.6760 - val_auc: 0.7266 - val_loss: 0.8719\n",
            "Epoch 11/100\n",
            "\u001b[1m33/33\u001b[0m \u001b[32m━━━━━━━━━━━━━━━━━━━━\u001b[0m\u001b[37m\u001b[0m \u001b[1m0s\u001b[0m 7ms/step - accuracy: 0.7015 - auc: 0.7572 - loss: 0.8533 - val_accuracy: 0.6680 - val_auc: 0.7453 - val_loss: 0.8521\n",
            "Epoch 12/100\n",
            "\u001b[1m33/33\u001b[0m \u001b[32m━━━━━━━━━━━━━━━━━━━━\u001b[0m\u001b[37m\u001b[0m \u001b[1m0s\u001b[0m 7ms/step - accuracy: 0.7035 - auc: 0.7680 - loss: 0.8324 - val_accuracy: 0.6600 - val_auc: 0.7492 - val_loss: 0.8352\n",
            "Epoch 13/100\n",
            "\u001b[1m33/33\u001b[0m \u001b[32m━━━━━━━━━━━━━━━━━━━━\u001b[0m\u001b[37m\u001b[0m \u001b[1m0s\u001b[0m 6ms/step - accuracy: 0.7061 - auc: 0.7748 - loss: 0.8142 - val_accuracy: 0.6680 - val_auc: 0.7559 - val_loss: 0.8170\n",
            "Epoch 14/100\n",
            "\u001b[1m33/33\u001b[0m \u001b[32m━━━━━━━━━━━━━━━━━━━━\u001b[0m\u001b[37m\u001b[0m \u001b[1m0s\u001b[0m 7ms/step - accuracy: 0.7106 - auc: 0.7829 - loss: 0.7965 - val_accuracy: 0.6800 - val_auc: 0.7613 - val_loss: 0.8035\n",
            "Epoch 15/100\n",
            "\u001b[1m33/33\u001b[0m \u001b[32m━━━━━━━━━━━━━━━━━━━━\u001b[0m\u001b[37m\u001b[0m \u001b[1m0s\u001b[0m 7ms/step - accuracy: 0.7245 - auc: 0.7846 - loss: 0.7827 - val_accuracy: 0.6800 - val_auc: 0.7653 - val_loss: 0.7919\n",
            "Epoch 16/100\n",
            "\u001b[1m33/33\u001b[0m \u001b[32m━━━━━━━━━━━━━━━━━━━━\u001b[0m\u001b[37m\u001b[0m \u001b[1m0s\u001b[0m 7ms/step - accuracy: 0.7221 - auc: 0.7879 - loss: 0.7708 - val_accuracy: 0.6800 - val_auc: 0.7690 - val_loss: 0.7812\n",
            "Epoch 17/100\n",
            "\u001b[1m33/33\u001b[0m \u001b[32m━━━━━━━━━━━━━━━━━━━━\u001b[0m\u001b[37m\u001b[0m \u001b[1m0s\u001b[0m 7ms/step - accuracy: 0.7222 - auc: 0.7919 - loss: 0.7603 - val_accuracy: 0.6840 - val_auc: 0.7693 - val_loss: 0.7712\n",
            "Epoch 18/100\n",
            "\u001b[1m33/33\u001b[0m \u001b[32m━━━━━━━━━━━━━━━━━━━━\u001b[0m\u001b[37m\u001b[0m \u001b[1m0s\u001b[0m 7ms/step - accuracy: 0.7222 - auc: 0.7937 - loss: 0.7505 - val_accuracy: 0.6840 - val_auc: 0.7723 - val_loss: 0.7623\n",
            "Epoch 19/100\n",
            "\u001b[1m33/33\u001b[0m \u001b[32m━━━━━━━━━━━━━━━━━━━━\u001b[0m\u001b[37m\u001b[0m \u001b[1m0s\u001b[0m 7ms/step - accuracy: 0.7216 - auc: 0.7994 - loss: 0.7417 - val_accuracy: 0.6840 - val_auc: 0.7706 - val_loss: 0.7539\n",
            "Epoch 20/100\n",
            "\u001b[1m33/33\u001b[0m \u001b[32m━━━━━━━━━━━━━━━━━━━━\u001b[0m\u001b[37m\u001b[0m \u001b[1m0s\u001b[0m 6ms/step - accuracy: 0.7209 - auc: 0.8003 - loss: 0.7332 - val_accuracy: 0.6840 - val_auc: 0.7764 - val_loss: 0.7467\n",
            "Epoch 21/100\n",
            "\u001b[1m33/33\u001b[0m \u001b[32m━━━━━━━━━━━━━━━━━━━━\u001b[0m\u001b[37m\u001b[0m \u001b[1m0s\u001b[0m 7ms/step - accuracy: 0.7247 - auc: 0.7996 - loss: 0.7257 - val_accuracy: 0.6840 - val_auc: 0.7781 - val_loss: 0.7395\n",
            "Epoch 22/100\n",
            "\u001b[1m33/33\u001b[0m \u001b[32m━━━━━━━━━━━━━━━━━━━━\u001b[0m\u001b[37m\u001b[0m \u001b[1m0s\u001b[0m 6ms/step - accuracy: 0.7247 - auc: 0.8022 - loss: 0.7188 - val_accuracy: 0.6840 - val_auc: 0.7806 - val_loss: 0.7332\n",
            "Epoch 23/100\n",
            "\u001b[1m33/33\u001b[0m \u001b[32m━━━━━━━━━━━━━━━━━━━━\u001b[0m\u001b[37m\u001b[0m \u001b[1m0s\u001b[0m 6ms/step - accuracy: 0.7247 - auc: 0.8021 - loss: 0.7125 - val_accuracy: 0.6840 - val_auc: 0.7801 - val_loss: 0.7272\n",
            "Epoch 24/100\n",
            "\u001b[1m33/33\u001b[0m \u001b[32m━━━━━━━━━━━━━━━━━━━━\u001b[0m\u001b[37m\u001b[0m \u001b[1m0s\u001b[0m 7ms/step - accuracy: 0.7253 - auc: 0.8046 - loss: 0.7067 - val_accuracy: 0.6840 - val_auc: 0.7828 - val_loss: 0.7219\n",
            "Epoch 25/100\n",
            "\u001b[1m33/33\u001b[0m \u001b[32m━━━━━━━━━━━━━━━━━━━━\u001b[0m\u001b[37m\u001b[0m \u001b[1m0s\u001b[0m 6ms/step - accuracy: 0.7260 - auc: 0.8053 - loss: 0.7016 - val_accuracy: 0.6840 - val_auc: 0.7828 - val_loss: 0.7167\n",
            "Epoch 26/100\n",
            "\u001b[1m33/33\u001b[0m \u001b[32m━━━━━━━━━━━━━━━━━━━━\u001b[0m\u001b[37m\u001b[0m \u001b[1m0s\u001b[0m 6ms/step - accuracy: 0.7260 - auc: 0.8053 - loss: 0.6966 - val_accuracy: 0.6840 - val_auc: 0.7824 - val_loss: 0.7120\n",
            "Epoch 27/100\n",
            "\u001b[1m33/33\u001b[0m \u001b[32m━━━━━━━━━━━━━━━━━━━━\u001b[0m\u001b[37m\u001b[0m \u001b[1m0s\u001b[0m 6ms/step - accuracy: 0.7277 - auc: 0.8074 - loss: 0.6921 - val_accuracy: 0.6880 - val_auc: 0.7820 - val_loss: 0.7075\n",
            "Epoch 28/100\n",
            "\u001b[1m33/33\u001b[0m \u001b[32m━━━━━━━━━━━━━━━━━━━━\u001b[0m\u001b[37m\u001b[0m \u001b[1m0s\u001b[0m 6ms/step - accuracy: 0.7277 - auc: 0.8073 - loss: 0.6876 - val_accuracy: 0.6880 - val_auc: 0.7841 - val_loss: 0.7031\n",
            "Epoch 29/100\n",
            "\u001b[1m33/33\u001b[0m \u001b[32m━━━━━━━━━━━━━━━━━━━━\u001b[0m\u001b[37m\u001b[0m \u001b[1m0s\u001b[0m 7ms/step - accuracy: 0.7277 - auc: 0.8078 - loss: 0.6833 - val_accuracy: 0.6880 - val_auc: 0.7844 - val_loss: 0.6991\n",
            "Epoch 30/100\n",
            "\u001b[1m33/33\u001b[0m \u001b[32m━━━━━━━━━━━━━━━━━━━━\u001b[0m\u001b[37m\u001b[0m \u001b[1m0s\u001b[0m 6ms/step - accuracy: 0.7271 - auc: 0.8069 - loss: 0.6794 - val_accuracy: 0.6880 - val_auc: 0.7847 - val_loss: 0.6954\n",
            "Epoch 31/100\n",
            "\u001b[1m33/33\u001b[0m \u001b[32m━━━━━━━━━━━━━━━━━━━━\u001b[0m\u001b[37m\u001b[0m \u001b[1m0s\u001b[0m 6ms/step - accuracy: 0.7271 - auc: 0.8081 - loss: 0.6758 - val_accuracy: 0.6880 - val_auc: 0.7862 - val_loss: 0.6919\n",
            "Epoch 32/100\n",
            "\u001b[1m33/33\u001b[0m \u001b[32m━━━━━━━━━━━━━━━━━━━━\u001b[0m\u001b[37m\u001b[0m \u001b[1m0s\u001b[0m 6ms/step - accuracy: 0.7279 - auc: 0.8093 - loss: 0.6723 - val_accuracy: 0.6880 - val_auc: 0.7890 - val_loss: 0.6885\n",
            "Epoch 33/100\n",
            "\u001b[1m33/33\u001b[0m \u001b[32m━━━━━━━━━━━━━━━━━━━━\u001b[0m\u001b[37m\u001b[0m \u001b[1m0s\u001b[0m 10ms/step - accuracy: 0.7278 - auc: 0.8095 - loss: 0.6690 - val_accuracy: 0.6880 - val_auc: 0.7885 - val_loss: 0.6859\n",
            "Epoch 34/100\n",
            "\u001b[1m33/33\u001b[0m \u001b[32m━━━━━━━━━━━━━━━━━━━━\u001b[0m\u001b[37m\u001b[0m \u001b[1m1s\u001b[0m 9ms/step - accuracy: 0.7296 - auc: 0.8091 - loss: 0.6663 - val_accuracy: 0.6880 - val_auc: 0.7885 - val_loss: 0.6831\n",
            "Epoch 35/100\n",
            "\u001b[1m33/33\u001b[0m \u001b[32m━━━━━━━━━━━━━━━━━━━━\u001b[0m\u001b[37m\u001b[0m \u001b[1m1s\u001b[0m 8ms/step - accuracy: 0.7334 - auc: 0.8102 - loss: 0.6638 - val_accuracy: 0.6880 - val_auc: 0.7865 - val_loss: 0.6802\n",
            "Epoch 36/100\n",
            "\u001b[1m33/33\u001b[0m \u001b[32m━━━━━━━━━━━━━━━━━━━━\u001b[0m\u001b[37m\u001b[0m \u001b[1m1s\u001b[0m 9ms/step - accuracy: 0.7334 - auc: 0.8099 - loss: 0.6613 - val_accuracy: 0.6880 - val_auc: 0.7863 - val_loss: 0.6776\n",
            "Epoch 37/100\n",
            "\u001b[1m33/33\u001b[0m \u001b[32m━━━━━━━━━━━━━━━━━━━━\u001b[0m\u001b[37m\u001b[0m \u001b[1m0s\u001b[0m 6ms/step - accuracy: 0.7337 - auc: 0.8099 - loss: 0.6588 - val_accuracy: 0.6880 - val_auc: 0.7876 - val_loss: 0.6750\n",
            "Epoch 38/100\n",
            "\u001b[1m33/33\u001b[0m \u001b[32m━━━━━━━━━━━━━━━━━━━━\u001b[0m\u001b[37m\u001b[0m \u001b[1m0s\u001b[0m 6ms/step - accuracy: 0.7326 - auc: 0.8107 - loss: 0.6564 - val_accuracy: 0.6880 - val_auc: 0.7871 - val_loss: 0.6727\n",
            "Epoch 39/100\n",
            "\u001b[1m33/33\u001b[0m \u001b[32m━━━━━━━━━━━━━━━━━━━━\u001b[0m\u001b[37m\u001b[0m \u001b[1m0s\u001b[0m 6ms/step - accuracy: 0.7330 - auc: 0.8105 - loss: 0.6542 - val_accuracy: 0.6880 - val_auc: 0.7874 - val_loss: 0.6707\n",
            "Epoch 40/100\n",
            "\u001b[1m33/33\u001b[0m \u001b[32m━━━━━━━━━━━━━━━━━━━━\u001b[0m\u001b[37m\u001b[0m \u001b[1m0s\u001b[0m 6ms/step - accuracy: 0.7325 - auc: 0.8119 - loss: 0.6522 - val_accuracy: 0.6880 - val_auc: 0.7890 - val_loss: 0.6685\n",
            "Epoch 41/100\n",
            "\u001b[1m33/33\u001b[0m \u001b[32m━━━━━━━━━━━━━━━━━━━━\u001b[0m\u001b[37m\u001b[0m \u001b[1m0s\u001b[0m 6ms/step - accuracy: 0.7368 - auc: 0.8127 - loss: 0.6501 - val_accuracy: 0.6960 - val_auc: 0.7915 - val_loss: 0.6666\n",
            "Epoch 42/100\n",
            "\u001b[1m33/33\u001b[0m \u001b[32m━━━━━━━━━━━━━━━━━━━━\u001b[0m\u001b[37m\u001b[0m \u001b[1m0s\u001b[0m 6ms/step - accuracy: 0.7364 - auc: 0.8122 - loss: 0.6483 - val_accuracy: 0.6960 - val_auc: 0.7929 - val_loss: 0.6648\n",
            "Epoch 43/100\n",
            "\u001b[1m33/33\u001b[0m \u001b[32m━━━━━━━━━━━━━━━━━━━━\u001b[0m\u001b[37m\u001b[0m \u001b[1m0s\u001b[0m 6ms/step - accuracy: 0.7388 - auc: 0.8132 - loss: 0.6467 - val_accuracy: 0.6960 - val_auc: 0.7927 - val_loss: 0.6627\n",
            "Epoch 44/100\n",
            "\u001b[1m33/33\u001b[0m \u001b[32m━━━━━━━━━━━━━━━━━━━━\u001b[0m\u001b[37m\u001b[0m \u001b[1m0s\u001b[0m 7ms/step - accuracy: 0.7395 - auc: 0.8144 - loss: 0.6448 - val_accuracy: 0.6960 - val_auc: 0.7946 - val_loss: 0.6610\n",
            "Epoch 45/100\n",
            "\u001b[1m33/33\u001b[0m \u001b[32m━━━━━━━━━━━━━━━━━━━━\u001b[0m\u001b[37m\u001b[0m \u001b[1m0s\u001b[0m 6ms/step - accuracy: 0.7412 - auc: 0.8161 - loss: 0.6430 - val_accuracy: 0.6960 - val_auc: 0.7960 - val_loss: 0.6592\n",
            "Epoch 46/100\n",
            "\u001b[1m33/33\u001b[0m \u001b[32m━━━━━━━━━━━━━━━━━━━━\u001b[0m\u001b[37m\u001b[0m \u001b[1m0s\u001b[0m 6ms/step - accuracy: 0.7426 - auc: 0.8167 - loss: 0.6415 - val_accuracy: 0.7000 - val_auc: 0.7997 - val_loss: 0.6579\n",
            "Epoch 47/100\n",
            "\u001b[1m33/33\u001b[0m \u001b[32m━━━━━━━━━━━━━━━━━━━━\u001b[0m\u001b[37m\u001b[0m \u001b[1m0s\u001b[0m 6ms/step - accuracy: 0.7478 - auc: 0.8159 - loss: 0.6402 - val_accuracy: 0.7040 - val_auc: 0.8004 - val_loss: 0.6563\n",
            "Epoch 48/100\n",
            "\u001b[1m33/33\u001b[0m \u001b[32m━━━━━━━━━━━━━━━━━━━━\u001b[0m\u001b[37m\u001b[0m \u001b[1m0s\u001b[0m 6ms/step - accuracy: 0.7478 - auc: 0.8172 - loss: 0.6387 - val_accuracy: 0.7040 - val_auc: 0.8028 - val_loss: 0.6552\n",
            "Epoch 49/100\n",
            "\u001b[1m33/33\u001b[0m \u001b[32m━━━━━━━━━━━━━━━━━━━━\u001b[0m\u001b[37m\u001b[0m \u001b[1m0s\u001b[0m 7ms/step - accuracy: 0.7490 - auc: 0.8172 - loss: 0.6376 - val_accuracy: 0.7080 - val_auc: 0.8045 - val_loss: 0.6537\n",
            "Epoch 50/100\n",
            "\u001b[1m33/33\u001b[0m \u001b[32m━━━━━━━━━━━━━━━━━━━━\u001b[0m\u001b[37m\u001b[0m \u001b[1m0s\u001b[0m 6ms/step - accuracy: 0.7469 - auc: 0.8181 - loss: 0.6363 - val_accuracy: 0.7080 - val_auc: 0.8035 - val_loss: 0.6526\n",
            "Epoch 51/100\n",
            "\u001b[1m33/33\u001b[0m \u001b[32m━━━━━━━━━━━━━━━━━━━━\u001b[0m\u001b[37m\u001b[0m \u001b[1m0s\u001b[0m 6ms/step - accuracy: 0.7469 - auc: 0.8174 - loss: 0.6352 - val_accuracy: 0.7120 - val_auc: 0.8017 - val_loss: 0.6514\n",
            "Epoch 52/100\n",
            "\u001b[1m33/33\u001b[0m \u001b[32m━━━━━━━━━━━━━━━━━━━━\u001b[0m\u001b[37m\u001b[0m \u001b[1m0s\u001b[0m 6ms/step - accuracy: 0.7469 - auc: 0.8194 - loss: 0.6341 - val_accuracy: 0.7120 - val_auc: 0.8016 - val_loss: 0.6502\n",
            "Epoch 53/100\n",
            "\u001b[1m33/33\u001b[0m \u001b[32m━━━━━━━━━━━━━━━━━━━━\u001b[0m\u001b[37m\u001b[0m \u001b[1m0s\u001b[0m 6ms/step - accuracy: 0.7470 - auc: 0.8195 - loss: 0.6330 - val_accuracy: 0.7080 - val_auc: 0.8043 - val_loss: 0.6490\n",
            "Epoch 54/100\n",
            "\u001b[1m33/33\u001b[0m \u001b[32m━━━━━━━━━━━━━━━━━━━━\u001b[0m\u001b[37m\u001b[0m \u001b[1m0s\u001b[0m 6ms/step - accuracy: 0.7470 - auc: 0.8194 - loss: 0.6319 - val_accuracy: 0.7120 - val_auc: 0.8070 - val_loss: 0.6482\n",
            "Epoch 55/100\n",
            "\u001b[1m33/33\u001b[0m \u001b[32m━━━━━━━━━━━━━━━━━━━━\u001b[0m\u001b[37m\u001b[0m \u001b[1m0s\u001b[0m 6ms/step - accuracy: 0.7488 - auc: 0.8209 - loss: 0.6311 - val_accuracy: 0.7160 - val_auc: 0.8076 - val_loss: 0.6468\n",
            "Epoch 56/100\n",
            "\u001b[1m33/33\u001b[0m \u001b[32m━━━━━━━━━━━━━━━━━━━━\u001b[0m\u001b[37m\u001b[0m \u001b[1m0s\u001b[0m 6ms/step - accuracy: 0.7526 - auc: 0.8222 - loss: 0.6299 - val_accuracy: 0.7160 - val_auc: 0.8078 - val_loss: 0.6462\n",
            "Epoch 57/100\n",
            "\u001b[1m33/33\u001b[0m \u001b[32m━━━━━━━━━━━━━━━━━━━━\u001b[0m\u001b[37m\u001b[0m \u001b[1m0s\u001b[0m 6ms/step - accuracy: 0.7526 - auc: 0.8222 - loss: 0.6292 - val_accuracy: 0.7200 - val_auc: 0.8098 - val_loss: 0.6451\n",
            "Epoch 58/100\n",
            "\u001b[1m33/33\u001b[0m \u001b[32m━━━━━━━━━━━━━━━━━━━━\u001b[0m\u001b[37m\u001b[0m \u001b[1m0s\u001b[0m 5ms/step - accuracy: 0.7510 - auc: 0.8240 - loss: 0.6283 - val_accuracy: 0.7200 - val_auc: 0.8110 - val_loss: 0.6442\n",
            "Epoch 59/100\n",
            "\u001b[1m33/33\u001b[0m \u001b[32m━━━━━━━━━━━━━━━━━━━━\u001b[0m\u001b[37m\u001b[0m \u001b[1m0s\u001b[0m 6ms/step - accuracy: 0.7547 - auc: 0.8231 - loss: 0.6274 - val_accuracy: 0.7200 - val_auc: 0.8123 - val_loss: 0.6434\n",
            "Epoch 60/100\n",
            "\u001b[1m33/33\u001b[0m \u001b[32m━━━━━━━━━━━━━━━━━━━━\u001b[0m\u001b[37m\u001b[0m \u001b[1m0s\u001b[0m 7ms/step - accuracy: 0.7547 - auc: 0.8239 - loss: 0.6266 - val_accuracy: 0.7240 - val_auc: 0.8146 - val_loss: 0.6425\n",
            "Epoch 61/100\n",
            "\u001b[1m33/33\u001b[0m \u001b[32m━━━━━━━━━━━━━━━━━━━━\u001b[0m\u001b[37m\u001b[0m \u001b[1m0s\u001b[0m 6ms/step - accuracy: 0.7537 - auc: 0.8241 - loss: 0.6258 - val_accuracy: 0.7280 - val_auc: 0.8162 - val_loss: 0.6417\n",
            "Epoch 62/100\n",
            "\u001b[1m33/33\u001b[0m \u001b[32m━━━━━━━━━━━━━━━━━━━━\u001b[0m\u001b[37m\u001b[0m \u001b[1m0s\u001b[0m 6ms/step - accuracy: 0.7543 - auc: 0.8252 - loss: 0.6250 - val_accuracy: 0.7280 - val_auc: 0.8126 - val_loss: 0.6409\n",
            "Epoch 63/100\n",
            "\u001b[1m33/33\u001b[0m \u001b[32m━━━━━━━━━━━━━━━━━━━━\u001b[0m\u001b[37m\u001b[0m \u001b[1m0s\u001b[0m 6ms/step - accuracy: 0.7548 - auc: 0.8265 - loss: 0.6243 - val_accuracy: 0.7320 - val_auc: 0.8134 - val_loss: 0.6401\n",
            "Epoch 64/100\n",
            "\u001b[1m33/33\u001b[0m \u001b[32m━━━━━━━━━━━━━━━━━━━━\u001b[0m\u001b[37m\u001b[0m \u001b[1m0s\u001b[0m 6ms/step - accuracy: 0.7548 - auc: 0.8269 - loss: 0.6236 - val_accuracy: 0.7360 - val_auc: 0.8141 - val_loss: 0.6393\n",
            "Epoch 65/100\n",
            "\u001b[1m33/33\u001b[0m \u001b[32m━━━━━━━━━━━━━━━━━━━━\u001b[0m\u001b[37m\u001b[0m \u001b[1m0s\u001b[0m 6ms/step - accuracy: 0.7563 - auc: 0.8275 - loss: 0.6228 - val_accuracy: 0.7400 - val_auc: 0.8154 - val_loss: 0.6386\n",
            "Epoch 66/100\n",
            "\u001b[1m33/33\u001b[0m \u001b[32m━━━━━━━━━━━━━━━━━━━━\u001b[0m\u001b[37m\u001b[0m \u001b[1m0s\u001b[0m 6ms/step - accuracy: 0.7574 - auc: 0.8278 - loss: 0.6221 - val_accuracy: 0.7400 - val_auc: 0.8170 - val_loss: 0.6378\n",
            "Epoch 67/100\n",
            "\u001b[1m33/33\u001b[0m \u001b[32m━━━━━━━━━━━━━━━━━━━━\u001b[0m\u001b[37m\u001b[0m \u001b[1m0s\u001b[0m 6ms/step - accuracy: 0.7573 - auc: 0.8284 - loss: 0.6214 - val_accuracy: 0.7400 - val_auc: 0.8153 - val_loss: 0.6372\n",
            "Epoch 68/100\n",
            "\u001b[1m33/33\u001b[0m \u001b[32m━━━━━━━━━━━━━━━━━━━━\u001b[0m\u001b[37m\u001b[0m \u001b[1m0s\u001b[0m 5ms/step - accuracy: 0.7618 - auc: 0.8302 - loss: 0.6208 - val_accuracy: 0.7440 - val_auc: 0.8166 - val_loss: 0.6365\n",
            "Epoch 69/100\n",
            "\u001b[1m33/33\u001b[0m \u001b[32m━━━━━━━━━━━━━━━━━━━━\u001b[0m\u001b[37m\u001b[0m \u001b[1m0s\u001b[0m 6ms/step - accuracy: 0.7618 - auc: 0.8304 - loss: 0.6202 - val_accuracy: 0.7480 - val_auc: 0.8173 - val_loss: 0.6357\n",
            "Epoch 70/100\n",
            "\u001b[1m33/33\u001b[0m \u001b[32m━━━━━━━━━━━━━━━━━━━━\u001b[0m\u001b[37m\u001b[0m \u001b[1m0s\u001b[0m 5ms/step - accuracy: 0.7607 - auc: 0.8305 - loss: 0.6195 - val_accuracy: 0.7520 - val_auc: 0.8190 - val_loss: 0.6349\n",
            "Epoch 71/100\n",
            "\u001b[1m33/33\u001b[0m \u001b[32m━━━━━━━━━━━━━━━━━━━━\u001b[0m\u001b[37m\u001b[0m \u001b[1m0s\u001b[0m 6ms/step - accuracy: 0.7607 - auc: 0.8314 - loss: 0.6189 - val_accuracy: 0.7480 - val_auc: 0.8205 - val_loss: 0.6342\n",
            "Epoch 72/100\n",
            "\u001b[1m33/33\u001b[0m \u001b[32m━━━━━━━━━━━━━━━━━━━━\u001b[0m\u001b[37m\u001b[0m \u001b[1m0s\u001b[0m 7ms/step - accuracy: 0.7636 - auc: 0.8328 - loss: 0.6183 - val_accuracy: 0.7480 - val_auc: 0.8226 - val_loss: 0.6336\n",
            "Epoch 73/100\n",
            "\u001b[1m33/33\u001b[0m \u001b[32m━━━━━━━━━━━━━━━━━━━━\u001b[0m\u001b[37m\u001b[0m \u001b[1m0s\u001b[0m 8ms/step - accuracy: 0.7630 - auc: 0.8318 - loss: 0.6179 - val_accuracy: 0.7520 - val_auc: 0.8232 - val_loss: 0.6327\n",
            "Epoch 74/100\n",
            "\u001b[1m33/33\u001b[0m \u001b[32m━━━━━━━━━━━━━━━━━━━━\u001b[0m\u001b[37m\u001b[0m \u001b[1m0s\u001b[0m 7ms/step - accuracy: 0.7630 - auc: 0.8325 - loss: 0.6172 - val_accuracy: 0.7520 - val_auc: 0.8220 - val_loss: 0.6321\n",
            "Epoch 75/100\n",
            "\u001b[1m33/33\u001b[0m \u001b[32m━━━━━━━━━━━━━━━━━━━━\u001b[0m\u001b[37m\u001b[0m \u001b[1m0s\u001b[0m 8ms/step - accuracy: 0.7617 - auc: 0.8326 - loss: 0.6168 - val_accuracy: 0.7600 - val_auc: 0.8237 - val_loss: 0.6315\n",
            "Epoch 76/100\n",
            "\u001b[1m33/33\u001b[0m \u001b[32m━━━━━━━━━━━━━━━━━━━━\u001b[0m\u001b[37m\u001b[0m \u001b[1m0s\u001b[0m 8ms/step - accuracy: 0.7675 - auc: 0.8328 - loss: 0.6163 - val_accuracy: 0.7600 - val_auc: 0.8241 - val_loss: 0.6309\n",
            "Epoch 77/100\n",
            "\u001b[1m33/33\u001b[0m \u001b[32m━━━━━━━━━━━━━━━━━━━━\u001b[0m\u001b[37m\u001b[0m \u001b[1m0s\u001b[0m 9ms/step - accuracy: 0.7643 - auc: 0.8339 - loss: 0.6158 - val_accuracy: 0.7560 - val_auc: 0.8250 - val_loss: 0.6302\n",
            "Epoch 78/100\n",
            "\u001b[1m33/33\u001b[0m \u001b[32m━━━━━━━━━━━━━━━━━━━━\u001b[0m\u001b[37m\u001b[0m \u001b[1m0s\u001b[0m 9ms/step - accuracy: 0.7655 - auc: 0.8333 - loss: 0.6153 - val_accuracy: 0.7560 - val_auc: 0.8248 - val_loss: 0.6295\n",
            "Epoch 79/100\n",
            "\u001b[1m33/33\u001b[0m \u001b[32m━━━━━━━━━━━━━━━━━━━━\u001b[0m\u001b[37m\u001b[0m \u001b[1m1s\u001b[0m 7ms/step - accuracy: 0.7673 - auc: 0.8341 - loss: 0.6146 - val_accuracy: 0.7560 - val_auc: 0.8257 - val_loss: 0.6290\n",
            "Epoch 80/100\n",
            "\u001b[1m33/33\u001b[0m \u001b[32m━━━━━━━━━━━━━━━━━━━━\u001b[0m\u001b[37m\u001b[0m \u001b[1m0s\u001b[0m 7ms/step - accuracy: 0.7692 - auc: 0.8337 - loss: 0.6142 - val_accuracy: 0.7520 - val_auc: 0.8253 - val_loss: 0.6280\n",
            "Epoch 81/100\n",
            "\u001b[1m33/33\u001b[0m \u001b[32m━━━━━━━━━━━━━━━━━━━━\u001b[0m\u001b[37m\u001b[0m \u001b[1m0s\u001b[0m 6ms/step - accuracy: 0.7692 - auc: 0.8342 - loss: 0.6134 - val_accuracy: 0.7480 - val_auc: 0.8289 - val_loss: 0.6264\n",
            "Epoch 82/100\n",
            "\u001b[1m33/33\u001b[0m \u001b[32m━━━━━━━━━━━━━━━━━━━━\u001b[0m\u001b[37m\u001b[0m \u001b[1m0s\u001b[0m 6ms/step - accuracy: 0.7693 - auc: 0.8344 - loss: 0.6127 - val_accuracy: 0.7520 - val_auc: 0.8284 - val_loss: 0.6258\n",
            "Epoch 83/100\n",
            "\u001b[1m33/33\u001b[0m \u001b[32m━━━━━━━━━━━━━━━━━━━━\u001b[0m\u001b[37m\u001b[0m \u001b[1m0s\u001b[0m 7ms/step - accuracy: 0.7645 - auc: 0.8349 - loss: 0.6124 - val_accuracy: 0.7520 - val_auc: 0.8276 - val_loss: 0.6253\n",
            "Epoch 84/100\n",
            "\u001b[1m33/33\u001b[0m \u001b[32m━━━━━━━━━━━━━━━━━━━━\u001b[0m\u001b[37m\u001b[0m \u001b[1m0s\u001b[0m 6ms/step - accuracy: 0.7645 - auc: 0.8340 - loss: 0.6121 - val_accuracy: 0.7520 - val_auc: 0.8286 - val_loss: 0.6246\n",
            "Epoch 85/100\n",
            "\u001b[1m33/33\u001b[0m \u001b[32m━━━━━━━━━━━━━━━━━━━━\u001b[0m\u001b[37m\u001b[0m \u001b[1m0s\u001b[0m 6ms/step - accuracy: 0.7649 - auc: 0.8349 - loss: 0.6116 - val_accuracy: 0.7520 - val_auc: 0.8283 - val_loss: 0.6235\n",
            "Epoch 86/100\n",
            "\u001b[1m33/33\u001b[0m \u001b[32m━━━━━━━━━━━━━━━━━━━━\u001b[0m\u001b[37m\u001b[0m \u001b[1m0s\u001b[0m 6ms/step - accuracy: 0.7611 - auc: 0.8349 - loss: 0.6110 - val_accuracy: 0.7520 - val_auc: 0.8289 - val_loss: 0.6229\n",
            "Epoch 87/100\n",
            "\u001b[1m33/33\u001b[0m \u001b[32m━━━━━━━━━━━━━━━━━━━━\u001b[0m\u001b[37m\u001b[0m \u001b[1m0s\u001b[0m 6ms/step - accuracy: 0.7611 - auc: 0.8361 - loss: 0.6105 - val_accuracy: 0.7520 - val_auc: 0.8294 - val_loss: 0.6220\n",
            "Epoch 88/100\n",
            "\u001b[1m33/33\u001b[0m \u001b[32m━━━━━━━━━━━━━━━━━━━━\u001b[0m\u001b[37m\u001b[0m \u001b[1m0s\u001b[0m 6ms/step - accuracy: 0.7611 - auc: 0.8361 - loss: 0.6098 - val_accuracy: 0.7520 - val_auc: 0.8300 - val_loss: 0.6210\n",
            "Epoch 89/100\n",
            "\u001b[1m33/33\u001b[0m \u001b[32m━━━━━━━━━━━━━━━━━━━━\u001b[0m\u001b[37m\u001b[0m \u001b[1m0s\u001b[0m 7ms/step - accuracy: 0.7594 - auc: 0.8367 - loss: 0.6092 - val_accuracy: 0.7560 - val_auc: 0.8289 - val_loss: 0.6206\n",
            "Epoch 90/100\n",
            "\u001b[1m33/33\u001b[0m \u001b[32m━━━━━━━━━━━━━━━━━━━━\u001b[0m\u001b[37m\u001b[0m \u001b[1m0s\u001b[0m 6ms/step - accuracy: 0.7573 - auc: 0.8369 - loss: 0.6087 - val_accuracy: 0.7480 - val_auc: 0.8300 - val_loss: 0.6198\n",
            "Epoch 91/100\n",
            "\u001b[1m33/33\u001b[0m \u001b[32m━━━━━━━━━━━━━━━━━━━━\u001b[0m\u001b[37m\u001b[0m \u001b[1m0s\u001b[0m 6ms/step - accuracy: 0.7616 - auc: 0.8372 - loss: 0.6080 - val_accuracy: 0.7480 - val_auc: 0.8297 - val_loss: 0.6189\n",
            "Epoch 92/100\n",
            "\u001b[1m33/33\u001b[0m \u001b[32m━━━━━━━━━━━━━━━━━━━━\u001b[0m\u001b[37m\u001b[0m \u001b[1m0s\u001b[0m 6ms/step - accuracy: 0.7616 - auc: 0.8375 - loss: 0.6074 - val_accuracy: 0.7480 - val_auc: 0.8298 - val_loss: 0.6183\n",
            "Epoch 93/100\n",
            "\u001b[1m33/33\u001b[0m \u001b[32m━━━━━━━━━━━━━━━━━━━━\u001b[0m\u001b[37m\u001b[0m \u001b[1m0s\u001b[0m 6ms/step - accuracy: 0.7597 - auc: 0.8375 - loss: 0.6069 - val_accuracy: 0.7480 - val_auc: 0.8306 - val_loss: 0.6176\n",
            "Epoch 94/100\n",
            "\u001b[1m33/33\u001b[0m \u001b[32m━━━━━━━━━━━━━━━━━━━━\u001b[0m\u001b[37m\u001b[0m \u001b[1m0s\u001b[0m 6ms/step - accuracy: 0.7583 - auc: 0.8373 - loss: 0.6065 - val_accuracy: 0.7520 - val_auc: 0.8304 - val_loss: 0.6171\n",
            "Epoch 95/100\n",
            "\u001b[1m33/33\u001b[0m \u001b[32m━━━━━━━━━━━━━━━━━━━━\u001b[0m\u001b[37m\u001b[0m \u001b[1m0s\u001b[0m 6ms/step - accuracy: 0.7583 - auc: 0.8378 - loss: 0.6062 - val_accuracy: 0.7520 - val_auc: 0.8310 - val_loss: 0.6165\n",
            "Epoch 96/100\n",
            "\u001b[1m33/33\u001b[0m \u001b[32m━━━━━━━━━━━━━━━━━━━━\u001b[0m\u001b[37m\u001b[0m \u001b[1m0s\u001b[0m 6ms/step - accuracy: 0.7583 - auc: 0.8375 - loss: 0.6058 - val_accuracy: 0.7480 - val_auc: 0.8312 - val_loss: 0.6160\n",
            "Epoch 97/100\n",
            "\u001b[1m33/33\u001b[0m \u001b[32m━━━━━━━━━━━━━━━━━━━━\u001b[0m\u001b[37m\u001b[0m \u001b[1m0s\u001b[0m 6ms/step - accuracy: 0.7587 - auc: 0.8375 - loss: 0.6054 - val_accuracy: 0.7520 - val_auc: 0.8311 - val_loss: 0.6156\n",
            "Epoch 98/100\n",
            "\u001b[1m33/33\u001b[0m \u001b[32m━━━━━━━━━━━━━━━━━━━━\u001b[0m\u001b[37m\u001b[0m \u001b[1m0s\u001b[0m 6ms/step - accuracy: 0.7591 - auc: 0.8375 - loss: 0.6051 - val_accuracy: 0.7560 - val_auc: 0.8314 - val_loss: 0.6152\n",
            "Epoch 99/100\n",
            "\u001b[1m33/33\u001b[0m \u001b[32m━━━━━━━━━━━━━━━━━━━━\u001b[0m\u001b[37m\u001b[0m \u001b[1m0s\u001b[0m 6ms/step - accuracy: 0.7576 - auc: 0.8378 - loss: 0.6047 - val_accuracy: 0.7520 - val_auc: 0.8314 - val_loss: 0.6148\n",
            "Epoch 100/100\n",
            "\u001b[1m33/33\u001b[0m \u001b[32m━━━━━━━━━━━━━━━━━━━━\u001b[0m\u001b[37m\u001b[0m \u001b[1m0s\u001b[0m 6ms/step - accuracy: 0.7598 - auc: 0.8381 - loss: 0.6044 - val_accuracy: 0.7520 - val_auc: 0.8320 - val_loss: 0.6143\n"
          ]
        }
      ],
      "source": [
        "hypermodel = MyHyperModel_v2()\n",
        "model = hypermodel.build(best_hp)\n",
        "training = model.fit(x_train, y_train, epochs=100, validation_data=(x_train_val, y_train_val),\n",
        "                    callbacks=[tf.keras.callbacks.EarlyStopping(\n",
        "                                      monitor='val_auc',\n",
        "                                      mode='max',\n",
        "                                      patience=15,\n",
        "                                      restore_best_weights=True)\n",
        "                   ])"
      ]
    },
    {
      "cell_type": "markdown",
      "metadata": {
        "id": "knWRmGLJyS8f"
      },
      "source": [
        "###Still looking good in terms of overfitting\n",
        "\n",
        "Train and validation scores roughly the same.\n",
        "\n",
        "<pre>\n",
        "Epoch 100/100\n",
        " accuracy: 0.7632 - auc: 0.8295 - loss: 0.6067 - val_accuracy: 0.7640 - val_auc: 0.8169 - val_loss: 0.6165\n",
        "</pre>"
      ]
    },
    {
      "cell_type": "code",
      "execution_count": 69,
      "metadata": {
        "colab": {
          "base_uri": "https://localhost:8080/",
          "height": 344
        },
        "id": "SGwzK4uGZUsS",
        "outputId": "0e3175b5-8428-4651-e3e5-7e7374e4112e"
      },
      "outputs": [
        {
          "output_type": "display_data",
          "data": {
            "text/plain": [
              "\u001b[1mModel: \"sequential\"\u001b[0m\n"
            ],
            "text/html": [
              "<pre style=\"white-space:pre;overflow-x:auto;line-height:normal;font-family:Menlo,'DejaVu Sans Mono',consolas,'Courier New',monospace\"><span style=\"font-weight: bold\">Model: \"sequential\"</span>\n",
              "</pre>\n"
            ]
          },
          "metadata": {}
        },
        {
          "output_type": "display_data",
          "data": {
            "text/plain": [
              "┏━━━━━━━━━━━━━━━━━━━━━━━━━━━━━━━━━┳━━━━━━━━━━━━━━━━━━━━━━━━┳━━━━━━━━━━━━━━━┓\n",
              "┃\u001b[1m \u001b[0m\u001b[1mLayer (type)                   \u001b[0m\u001b[1m \u001b[0m┃\u001b[1m \u001b[0m\u001b[1mOutput Shape          \u001b[0m\u001b[1m \u001b[0m┃\u001b[1m \u001b[0m\u001b[1m      Param #\u001b[0m\u001b[1m \u001b[0m┃\n",
              "┡━━━━━━━━━━━━━━━━━━━━━━━━━━━━━━━━━╇━━━━━━━━━━━━━━━━━━━━━━━━╇━━━━━━━━━━━━━━━┩\n",
              "│ hidden_layer_0_dense (\u001b[38;5;33mDense\u001b[0m)    │ (\u001b[38;5;45mNone\u001b[0m, \u001b[38;5;34m16\u001b[0m)             │           \u001b[38;5;34m112\u001b[0m │\n",
              "├─────────────────────────────────┼────────────────────────┼───────────────┤\n",
              "│ hidden_layer_1_dense (\u001b[38;5;33mDense\u001b[0m)    │ (\u001b[38;5;45mNone\u001b[0m, \u001b[38;5;34m5\u001b[0m)              │            \u001b[38;5;34m85\u001b[0m │\n",
              "├─────────────────────────────────┼────────────────────────┼───────────────┤\n",
              "│ hidden_layer_2_dense (\u001b[38;5;33mDense\u001b[0m)    │ (\u001b[38;5;45mNone\u001b[0m, \u001b[38;5;34m11\u001b[0m)             │            \u001b[38;5;34m66\u001b[0m │\n",
              "├─────────────────────────────────┼────────────────────────┼───────────────┤\n",
              "│ hidden_layer_3_dense (\u001b[38;5;33mDense\u001b[0m)    │ (\u001b[38;5;45mNone\u001b[0m, \u001b[38;5;34m4\u001b[0m)              │            \u001b[38;5;34m48\u001b[0m │\n",
              "├─────────────────────────────────┼────────────────────────┼───────────────┤\n",
              "│ hidden_layer_4_dense (\u001b[38;5;33mDense\u001b[0m)    │ (\u001b[38;5;45mNone\u001b[0m, \u001b[38;5;34m5\u001b[0m)              │            \u001b[38;5;34m25\u001b[0m │\n",
              "├─────────────────────────────────┼────────────────────────┼───────────────┤\n",
              "│ dense (\u001b[38;5;33mDense\u001b[0m)                   │ (\u001b[38;5;45mNone\u001b[0m, \u001b[38;5;34m1\u001b[0m)              │             \u001b[38;5;34m6\u001b[0m │\n",
              "└─────────────────────────────────┴────────────────────────┴───────────────┘\n"
            ],
            "text/html": [
              "<pre style=\"white-space:pre;overflow-x:auto;line-height:normal;font-family:Menlo,'DejaVu Sans Mono',consolas,'Courier New',monospace\">┏━━━━━━━━━━━━━━━━━━━━━━━━━━━━━━━━━┳━━━━━━━━━━━━━━━━━━━━━━━━┳━━━━━━━━━━━━━━━┓\n",
              "┃<span style=\"font-weight: bold\"> Layer (type)                    </span>┃<span style=\"font-weight: bold\"> Output Shape           </span>┃<span style=\"font-weight: bold\">       Param # </span>┃\n",
              "┡━━━━━━━━━━━━━━━━━━━━━━━━━━━━━━━━━╇━━━━━━━━━━━━━━━━━━━━━━━━╇━━━━━━━━━━━━━━━┩\n",
              "│ hidden_layer_0_dense (<span style=\"color: #0087ff; text-decoration-color: #0087ff\">Dense</span>)    │ (<span style=\"color: #00d7ff; text-decoration-color: #00d7ff\">None</span>, <span style=\"color: #00af00; text-decoration-color: #00af00\">16</span>)             │           <span style=\"color: #00af00; text-decoration-color: #00af00\">112</span> │\n",
              "├─────────────────────────────────┼────────────────────────┼───────────────┤\n",
              "│ hidden_layer_1_dense (<span style=\"color: #0087ff; text-decoration-color: #0087ff\">Dense</span>)    │ (<span style=\"color: #00d7ff; text-decoration-color: #00d7ff\">None</span>, <span style=\"color: #00af00; text-decoration-color: #00af00\">5</span>)              │            <span style=\"color: #00af00; text-decoration-color: #00af00\">85</span> │\n",
              "├─────────────────────────────────┼────────────────────────┼───────────────┤\n",
              "│ hidden_layer_2_dense (<span style=\"color: #0087ff; text-decoration-color: #0087ff\">Dense</span>)    │ (<span style=\"color: #00d7ff; text-decoration-color: #00d7ff\">None</span>, <span style=\"color: #00af00; text-decoration-color: #00af00\">11</span>)             │            <span style=\"color: #00af00; text-decoration-color: #00af00\">66</span> │\n",
              "├─────────────────────────────────┼────────────────────────┼───────────────┤\n",
              "│ hidden_layer_3_dense (<span style=\"color: #0087ff; text-decoration-color: #0087ff\">Dense</span>)    │ (<span style=\"color: #00d7ff; text-decoration-color: #00d7ff\">None</span>, <span style=\"color: #00af00; text-decoration-color: #00af00\">4</span>)              │            <span style=\"color: #00af00; text-decoration-color: #00af00\">48</span> │\n",
              "├─────────────────────────────────┼────────────────────────┼───────────────┤\n",
              "│ hidden_layer_4_dense (<span style=\"color: #0087ff; text-decoration-color: #0087ff\">Dense</span>)    │ (<span style=\"color: #00d7ff; text-decoration-color: #00d7ff\">None</span>, <span style=\"color: #00af00; text-decoration-color: #00af00\">5</span>)              │            <span style=\"color: #00af00; text-decoration-color: #00af00\">25</span> │\n",
              "├─────────────────────────────────┼────────────────────────┼───────────────┤\n",
              "│ dense (<span style=\"color: #0087ff; text-decoration-color: #0087ff\">Dense</span>)                   │ (<span style=\"color: #00d7ff; text-decoration-color: #00d7ff\">None</span>, <span style=\"color: #00af00; text-decoration-color: #00af00\">1</span>)              │             <span style=\"color: #00af00; text-decoration-color: #00af00\">6</span> │\n",
              "└─────────────────────────────────┴────────────────────────┴───────────────┘\n",
              "</pre>\n"
            ]
          },
          "metadata": {}
        },
        {
          "output_type": "display_data",
          "data": {
            "text/plain": [
              "\u001b[1m Total params: \u001b[0m\u001b[38;5;34m1,028\u001b[0m (4.02 KB)\n"
            ],
            "text/html": [
              "<pre style=\"white-space:pre;overflow-x:auto;line-height:normal;font-family:Menlo,'DejaVu Sans Mono',consolas,'Courier New',monospace\"><span style=\"font-weight: bold\"> Total params: </span><span style=\"color: #00af00; text-decoration-color: #00af00\">1,028</span> (4.02 KB)\n",
              "</pre>\n"
            ]
          },
          "metadata": {}
        },
        {
          "output_type": "display_data",
          "data": {
            "text/plain": [
              "\u001b[1m Trainable params: \u001b[0m\u001b[38;5;34m342\u001b[0m (1.34 KB)\n"
            ],
            "text/html": [
              "<pre style=\"white-space:pre;overflow-x:auto;line-height:normal;font-family:Menlo,'DejaVu Sans Mono',consolas,'Courier New',monospace\"><span style=\"font-weight: bold\"> Trainable params: </span><span style=\"color: #00af00; text-decoration-color: #00af00\">342</span> (1.34 KB)\n",
              "</pre>\n"
            ]
          },
          "metadata": {}
        },
        {
          "output_type": "display_data",
          "data": {
            "text/plain": [
              "\u001b[1m Non-trainable params: \u001b[0m\u001b[38;5;34m0\u001b[0m (0.00 B)\n"
            ],
            "text/html": [
              "<pre style=\"white-space:pre;overflow-x:auto;line-height:normal;font-family:Menlo,'DejaVu Sans Mono',consolas,'Courier New',monospace\"><span style=\"font-weight: bold\"> Non-trainable params: </span><span style=\"color: #00af00; text-decoration-color: #00af00\">0</span> (0.00 B)\n",
              "</pre>\n"
            ]
          },
          "metadata": {}
        },
        {
          "output_type": "display_data",
          "data": {
            "text/plain": [
              "\u001b[1m Optimizer params: \u001b[0m\u001b[38;5;34m686\u001b[0m (2.68 KB)\n"
            ],
            "text/html": [
              "<pre style=\"white-space:pre;overflow-x:auto;line-height:normal;font-family:Menlo,'DejaVu Sans Mono',consolas,'Courier New',monospace\"><span style=\"font-weight: bold\"> Optimizer params: </span><span style=\"color: #00af00; text-decoration-color: #00af00\">686</span> (2.68 KB)\n",
              "</pre>\n"
            ]
          },
          "metadata": {}
        }
      ],
      "source": [
        "model.summary()"
      ]
    },
    {
      "cell_type": "code",
      "execution_count": 70,
      "metadata": {
        "colab": {
          "base_uri": "https://localhost:8080/"
        },
        "id": "UmzsOPKukScr",
        "outputId": "89c7f8a7-c089-4e17-9e64-c4706ff3e3c9"
      },
      "outputs": [
        {
          "output_type": "execute_result",
          "data": {
            "text/plain": [
              "100"
            ]
          },
          "metadata": {},
          "execution_count": 70
        }
      ],
      "source": [
        "len(training.history['auc'])  #100 - no early stopping"
      ]
    },
    {
      "cell_type": "code",
      "execution_count": 71,
      "metadata": {
        "colab": {
          "base_uri": "https://localhost:8080/"
        },
        "id": "SGGtktN0kScr",
        "outputId": "27d549a6-a5a8-47c9-861e-0874da478114"
      },
      "outputs": [
        {
          "output_type": "execute_result",
          "data": {
            "text/plain": [
              "0.8292962312698364"
            ]
          },
          "metadata": {},
          "execution_count": 71
        }
      ],
      "source": [
        "training.history['auc'][-1]  #0.8220989108085632"
      ]
    },
    {
      "cell_type": "code",
      "execution_count": 72,
      "metadata": {
        "colab": {
          "base_uri": "https://localhost:8080/",
          "height": 472
        },
        "id": "FbLwR2wxkScr",
        "outputId": "3a999013-1653-4c13-f682-fd68bb0cbfb5"
      },
      "outputs": [
        {
          "output_type": "display_data",
          "data": {
            "text/plain": [
              "<Figure size 640x480 with 1 Axes>"
            ],
            "image/png": "[encoded data removed]"
          },
          "metadata": {}
        }
      ],
      "source": [
        "import matplotlib.pyplot as plt\n",
        "\n",
        "plt.plot(training.history['auc'])\n",
        "plt.plot(training.history['loss'])\n",
        "plt.title('ROC AUC')\n",
        "plt.xlabel('epoch')\n",
        "plt.legend(['ROC AUC', 'loss'], loc='upper left')\n",
        "plt.show()"
      ]
    },
    {
      "cell_type": "markdown",
      "metadata": {
        "id": "xIUeqfC7kScr"
      },
      "source": [
        "##Step 2.6 Check on test dataset"
      ]
    },
    {
      "cell_type": "code",
      "execution_count": 73,
      "metadata": {
        "colab": {
          "base_uri": "https://localhost:8080/"
        },
        "id": "1kcRhxjbkScs",
        "outputId": "ddb29eac-8401-4743-f43b-5f3799007760"
      },
      "outputs": [
        {
          "output_type": "stream",
          "name": "stderr",
          "text": [
            "WARNING:tensorflow:5 out of the last 17 calls to <function TensorFlowTrainer.make_predict_function.<locals>.one_step_on_data_distributed at 0x792777851e40> triggered tf.function retracing. Tracing is expensive and the excessive number of tracings could be due to (1) creating @tf.function repeatedly in a loop, (2) passing tensors with different shapes, (3) passing Python objects instead of tensors. For (1), please define your @tf.function outside of the loop. For (2), @tf.function has reduce_retracing=True option that can avoid unnecessary retracing. For (3), please refer to https://www.tensorflow.org/guide/function#controlling_retracing and https://www.tensorflow.org/api_docs/python/tf/function for  more details.\n"
          ]
        },
        {
          "output_type": "stream",
          "name": "stdout",
          "text": [
            "\u001b[1m9/9\u001b[0m \u001b[32m━━━━━━━━━━━━━━━━━━━━\u001b[0m\u001b[37m\u001b[0m \u001b[1m0s\u001b[0m 11ms/step\n"
          ]
        },
        {
          "output_type": "execute_result",
          "data": {
            "text/plain": [
              "array([0.40170518, 0.7951781 , 0.8718802 , 0.15905608, 0.24956107],\n",
              "      dtype=float32)"
            ]
          },
          "metadata": {},
          "execution_count": 73
        }
      ],
      "source": [
        "yraw = model.predict(x_test)[:,0]\n",
        "\n",
        "yraw[:5]  #[0.52119124, 0.75168633, 0.8782108 , 0.2019367 , 0.32780498]\n"
      ]
    },
    {
      "cell_type": "code",
      "execution_count": 74,
      "metadata": {
        "colab": {
          "base_uri": "https://localhost:8080/",
          "height": 726
        },
        "id": "-FiBqT9pkScs",
        "outputId": "64b8f3c1-d037-4ece-f123-39285a30b06d"
      },
      "outputs": [
        {
          "output_type": "execute_result",
          "data": {
            "text/plain": [
              "<pandas.io.formats.style.Styler at 0x792776bf14d0>"
            ],
            "text/html": [
              "<style type=\"text/css\">\n",
              "#T_3d4ee th:not(.index_name) {\n",
              "  background-color: #800000;\n",
              "  color: white;\n",
              "  text-align: center;\n",
              "}\n",
              "#T_3d4ee_row0_col0, #T_3d4ee_row0_col1, #T_3d4ee_row0_col3, #T_3d4ee_row0_col5, #T_3d4ee_row1_col0, #T_3d4ee_row1_col1, #T_3d4ee_row1_col3, #T_3d4ee_row1_col5, #T_3d4ee_row2_col0, #T_3d4ee_row2_col1, #T_3d4ee_row2_col3, #T_3d4ee_row2_col5, #T_3d4ee_row3_col0, #T_3d4ee_row3_col1, #T_3d4ee_row3_col2, #T_3d4ee_row3_col3, #T_3d4ee_row3_col5, #T_3d4ee_row4_col0, #T_3d4ee_row4_col1, #T_3d4ee_row4_col2, #T_3d4ee_row4_col3, #T_3d4ee_row4_col5, #T_3d4ee_row5_col0, #T_3d4ee_row5_col1, #T_3d4ee_row5_col2, #T_3d4ee_row5_col5, #T_3d4ee_row6_col0, #T_3d4ee_row6_col1, #T_3d4ee_row6_col2, #T_3d4ee_row6_col3, #T_3d4ee_row6_col5, #T_3d4ee_row7_col0, #T_3d4ee_row7_col1, #T_3d4ee_row7_col2, #T_3d4ee_row7_col3, #T_3d4ee_row7_col5, #T_3d4ee_row8_col0, #T_3d4ee_row8_col1, #T_3d4ee_row8_col2, #T_3d4ee_row8_col3, #T_3d4ee_row8_col5, #T_3d4ee_row9_col0, #T_3d4ee_row9_col1, #T_3d4ee_row9_col2, #T_3d4ee_row9_col3, #T_3d4ee_row9_col5, #T_3d4ee_row10_col0, #T_3d4ee_row10_col1, #T_3d4ee_row10_col2, #T_3d4ee_row10_col3, #T_3d4ee_row10_col5, #T_3d4ee_row11_col0, #T_3d4ee_row11_col1, #T_3d4ee_row11_col2, #T_3d4ee_row11_col3, #T_3d4ee_row12_col0, #T_3d4ee_row12_col1, #T_3d4ee_row12_col2, #T_3d4ee_row12_col3, #T_3d4ee_row12_col5, #T_3d4ee_row13_col0, #T_3d4ee_row13_col1, #T_3d4ee_row13_col2, #T_3d4ee_row13_col3, #T_3d4ee_row13_col5, #T_3d4ee_row14_col0, #T_3d4ee_row14_col1, #T_3d4ee_row14_col2, #T_3d4ee_row14_col3, #T_3d4ee_row14_col5, #T_3d4ee_row15_col0, #T_3d4ee_row15_col1, #T_3d4ee_row15_col2, #T_3d4ee_row15_col3, #T_3d4ee_row15_col5, #T_3d4ee_row16_col0, #T_3d4ee_row16_col1, #T_3d4ee_row16_col2, #T_3d4ee_row16_col3, #T_3d4ee_row16_col5, #T_3d4ee_row17_col0, #T_3d4ee_row17_col1, #T_3d4ee_row17_col2, #T_3d4ee_row17_col3, #T_3d4ee_row17_col5, #T_3d4ee_row18_col0, #T_3d4ee_row18_col2, #T_3d4ee_row18_col3, #T_3d4ee_row18_col5, #T_3d4ee_row19_col0, #T_3d4ee_row19_col1, #T_3d4ee_row19_col2, #T_3d4ee_row19_col3, #T_3d4ee_row19_col5, #T_3d4ee_row20_col1, #T_3d4ee_row20_col2, #T_3d4ee_row20_col3, #T_3d4ee_row20_col5 {\n",
              "  border: 1px solid black;\n",
              "  width: 65px;\n",
              "  text-align: center;\n",
              "}\n",
              "#T_3d4ee_row0_col2, #T_3d4ee_row0_col4, #T_3d4ee_row1_col2, #T_3d4ee_row1_col4, #T_3d4ee_row2_col2, #T_3d4ee_row2_col4, #T_3d4ee_row3_col4, #T_3d4ee_row4_col4, #T_3d4ee_row5_col3, #T_3d4ee_row5_col4, #T_3d4ee_row6_col4, #T_3d4ee_row7_col4, #T_3d4ee_row8_col4, #T_3d4ee_row9_col4, #T_3d4ee_row10_col4, #T_3d4ee_row11_col4, #T_3d4ee_row11_col5, #T_3d4ee_row12_col4, #T_3d4ee_row13_col4, #T_3d4ee_row14_col4, #T_3d4ee_row15_col4, #T_3d4ee_row16_col4, #T_3d4ee_row17_col4, #T_3d4ee_row18_col1, #T_3d4ee_row18_col4, #T_3d4ee_row19_col4, #T_3d4ee_row20_col0, #T_3d4ee_row20_col4 {\n",
              "  background-color: pink;\n",
              "  border: 1px solid black;\n",
              "  width: 65px;\n",
              "  text-align: center;\n",
              "}\n",
              "</style>\n",
              "<table id=\"T_3d4ee\" class=\"dataframe\">\n",
              "  <thead>\n",
              "    <tr>\n",
              "      <th class=\"blank level0\" >&nbsp;</th>\n",
              "      <th id=\"T_3d4ee_level0_col0\" class=\"col_heading level0 col0\" >threshold</th>\n",
              "      <th id=\"T_3d4ee_level0_col1\" class=\"col_heading level0 col1\" >precision</th>\n",
              "      <th id=\"T_3d4ee_level0_col2\" class=\"col_heading level0 col2\" >recall</th>\n",
              "      <th id=\"T_3d4ee_level0_col3\" class=\"col_heading level0 col3\" >f1</th>\n",
              "      <th id=\"T_3d4ee_level0_col4\" class=\"col_heading level0 col4\" >auc</th>\n",
              "      <th id=\"T_3d4ee_level0_col5\" class=\"col_heading level0 col5\" >accuracy</th>\n",
              "    </tr>\n",
              "  </thead>\n",
              "  <tbody>\n",
              "    <tr>\n",
              "      <th id=\"T_3d4ee_level0_row0\" class=\"row_heading level0 row0\" >0</th>\n",
              "      <td id=\"T_3d4ee_row0_col0\" class=\"data row0 col0\" >0.00</td>\n",
              "      <td id=\"T_3d4ee_row0_col1\" class=\"data row0 col1\" >0.43</td>\n",
              "      <td id=\"T_3d4ee_row0_col2\" class=\"data row0 col2\" >1.00</td>\n",
              "      <td id=\"T_3d4ee_row0_col3\" class=\"data row0 col3\" >0.60</td>\n",
              "      <td id=\"T_3d4ee_row0_col4\" class=\"data row0 col4\" >0.80</td>\n",
              "      <td id=\"T_3d4ee_row0_col5\" class=\"data row0 col5\" >0.43</td>\n",
              "    </tr>\n",
              "    <tr>\n",
              "      <th id=\"T_3d4ee_level0_row1\" class=\"row_heading level0 row1\" >1</th>\n",
              "      <td id=\"T_3d4ee_row1_col0\" class=\"data row1 col0\" >0.05</td>\n",
              "      <td id=\"T_3d4ee_row1_col1\" class=\"data row1 col1\" >0.43</td>\n",
              "      <td id=\"T_3d4ee_row1_col2\" class=\"data row1 col2\" >1.00</td>\n",
              "      <td id=\"T_3d4ee_row1_col3\" class=\"data row1 col3\" >0.60</td>\n",
              "      <td id=\"T_3d4ee_row1_col4\" class=\"data row1 col4\" >0.80</td>\n",
              "      <td id=\"T_3d4ee_row1_col5\" class=\"data row1 col5\" >0.43</td>\n",
              "    </tr>\n",
              "    <tr>\n",
              "      <th id=\"T_3d4ee_level0_row2\" class=\"row_heading level0 row2\" >2</th>\n",
              "      <td id=\"T_3d4ee_row2_col0\" class=\"data row2 col0\" >0.10</td>\n",
              "      <td id=\"T_3d4ee_row2_col1\" class=\"data row2 col1\" >0.43</td>\n",
              "      <td id=\"T_3d4ee_row2_col2\" class=\"data row2 col2\" >1.00</td>\n",
              "      <td id=\"T_3d4ee_row2_col3\" class=\"data row2 col3\" >0.60</td>\n",
              "      <td id=\"T_3d4ee_row2_col4\" class=\"data row2 col4\" >0.80</td>\n",
              "      <td id=\"T_3d4ee_row2_col5\" class=\"data row2 col5\" >0.43</td>\n",
              "    </tr>\n",
              "    <tr>\n",
              "      <th id=\"T_3d4ee_level0_row3\" class=\"row_heading level0 row3\" >3</th>\n",
              "      <td id=\"T_3d4ee_row3_col0\" class=\"data row3 col0\" >0.15</td>\n",
              "      <td id=\"T_3d4ee_row3_col1\" class=\"data row3 col1\" >0.45</td>\n",
              "      <td id=\"T_3d4ee_row3_col2\" class=\"data row3 col2\" >0.98</td>\n",
              "      <td id=\"T_3d4ee_row3_col3\" class=\"data row3 col3\" >0.62</td>\n",
              "      <td id=\"T_3d4ee_row3_col4\" class=\"data row3 col4\" >0.80</td>\n",
              "      <td id=\"T_3d4ee_row3_col5\" class=\"data row3 col5\" >0.48</td>\n",
              "    </tr>\n",
              "    <tr>\n",
              "      <th id=\"T_3d4ee_level0_row4\" class=\"row_heading level0 row4\" >4</th>\n",
              "      <td id=\"T_3d4ee_row4_col0\" class=\"data row4 col0\" >0.20</td>\n",
              "      <td id=\"T_3d4ee_row4_col1\" class=\"data row4 col1\" >0.53</td>\n",
              "      <td id=\"T_3d4ee_row4_col2\" class=\"data row4 col2\" >0.91</td>\n",
              "      <td id=\"T_3d4ee_row4_col3\" class=\"data row4 col3\" >0.67</td>\n",
              "      <td id=\"T_3d4ee_row4_col4\" class=\"data row4 col4\" >0.80</td>\n",
              "      <td id=\"T_3d4ee_row4_col5\" class=\"data row4 col5\" >0.62</td>\n",
              "    </tr>\n",
              "    <tr>\n",
              "      <th id=\"T_3d4ee_level0_row5\" class=\"row_heading level0 row5\" >5</th>\n",
              "      <td id=\"T_3d4ee_row5_col0\" class=\"data row5 col0\" >0.25</td>\n",
              "      <td id=\"T_3d4ee_row5_col1\" class=\"data row5 col1\" >0.59</td>\n",
              "      <td id=\"T_3d4ee_row5_col2\" class=\"data row5 col2\" >0.86</td>\n",
              "      <td id=\"T_3d4ee_row5_col3\" class=\"data row5 col3\" >0.70</td>\n",
              "      <td id=\"T_3d4ee_row5_col4\" class=\"data row5 col4\" >0.80</td>\n",
              "      <td id=\"T_3d4ee_row5_col5\" class=\"data row5 col5\" >0.68</td>\n",
              "    </tr>\n",
              "    <tr>\n",
              "      <th id=\"T_3d4ee_level0_row6\" class=\"row_heading level0 row6\" >6</th>\n",
              "      <td id=\"T_3d4ee_row6_col0\" class=\"data row6 col0\" >0.30</td>\n",
              "      <td id=\"T_3d4ee_row6_col1\" class=\"data row6 col1\" >0.62</td>\n",
              "      <td id=\"T_3d4ee_row6_col2\" class=\"data row6 col2\" >0.75</td>\n",
              "      <td id=\"T_3d4ee_row6_col3\" class=\"data row6 col3\" >0.68</td>\n",
              "      <td id=\"T_3d4ee_row6_col4\" class=\"data row6 col4\" >0.80</td>\n",
              "      <td id=\"T_3d4ee_row6_col5\" class=\"data row6 col5\" >0.69</td>\n",
              "    </tr>\n",
              "    <tr>\n",
              "      <th id=\"T_3d4ee_level0_row7\" class=\"row_heading level0 row7\" >7</th>\n",
              "      <td id=\"T_3d4ee_row7_col0\" class=\"data row7 col0\" >0.35</td>\n",
              "      <td id=\"T_3d4ee_row7_col1\" class=\"data row7 col1\" >0.65</td>\n",
              "      <td id=\"T_3d4ee_row7_col2\" class=\"data row7 col2\" >0.73</td>\n",
              "      <td id=\"T_3d4ee_row7_col3\" class=\"data row7 col3\" >0.69</td>\n",
              "      <td id=\"T_3d4ee_row7_col4\" class=\"data row7 col4\" >0.80</td>\n",
              "      <td id=\"T_3d4ee_row7_col5\" class=\"data row7 col5\" >0.71</td>\n",
              "    </tr>\n",
              "    <tr>\n",
              "      <th id=\"T_3d4ee_level0_row8\" class=\"row_heading level0 row8\" >8</th>\n",
              "      <td id=\"T_3d4ee_row8_col0\" class=\"data row8 col0\" >0.40</td>\n",
              "      <td id=\"T_3d4ee_row8_col1\" class=\"data row8 col1\" >0.68</td>\n",
              "      <td id=\"T_3d4ee_row8_col2\" class=\"data row8 col2\" >0.68</td>\n",
              "      <td id=\"T_3d4ee_row8_col3\" class=\"data row8 col3\" >0.68</td>\n",
              "      <td id=\"T_3d4ee_row8_col4\" class=\"data row8 col4\" >0.80</td>\n",
              "      <td id=\"T_3d4ee_row8_col5\" class=\"data row8 col5\" >0.72</td>\n",
              "    </tr>\n",
              "    <tr>\n",
              "      <th id=\"T_3d4ee_level0_row9\" class=\"row_heading level0 row9\" >9</th>\n",
              "      <td id=\"T_3d4ee_row9_col0\" class=\"data row9 col0\" >0.45</td>\n",
              "      <td id=\"T_3d4ee_row9_col1\" class=\"data row9 col1\" >0.76</td>\n",
              "      <td id=\"T_3d4ee_row9_col2\" class=\"data row9 col2\" >0.57</td>\n",
              "      <td id=\"T_3d4ee_row9_col3\" class=\"data row9 col3\" >0.65</td>\n",
              "      <td id=\"T_3d4ee_row9_col4\" class=\"data row9 col4\" >0.80</td>\n",
              "      <td id=\"T_3d4ee_row9_col5\" class=\"data row9 col5\" >0.74</td>\n",
              "    </tr>\n",
              "    <tr>\n",
              "      <th id=\"T_3d4ee_level0_row10\" class=\"row_heading level0 row10\" >10</th>\n",
              "      <td id=\"T_3d4ee_row10_col0\" class=\"data row10 col0\" >0.50</td>\n",
              "      <td id=\"T_3d4ee_row10_col1\" class=\"data row10 col1\" >0.83</td>\n",
              "      <td id=\"T_3d4ee_row10_col2\" class=\"data row10 col2\" >0.51</td>\n",
              "      <td id=\"T_3d4ee_row10_col3\" class=\"data row10 col3\" >0.63</td>\n",
              "      <td id=\"T_3d4ee_row10_col4\" class=\"data row10 col4\" >0.80</td>\n",
              "      <td id=\"T_3d4ee_row10_col5\" class=\"data row10 col5\" >0.74</td>\n",
              "    </tr>\n",
              "    <tr>\n",
              "      <th id=\"T_3d4ee_level0_row11\" class=\"row_heading level0 row11\" >11</th>\n",
              "      <td id=\"T_3d4ee_row11_col0\" class=\"data row11 col0\" >0.55</td>\n",
              "      <td id=\"T_3d4ee_row11_col1\" class=\"data row11 col1\" >0.90</td>\n",
              "      <td id=\"T_3d4ee_row11_col2\" class=\"data row11 col2\" >0.48</td>\n",
              "      <td id=\"T_3d4ee_row11_col3\" class=\"data row11 col3\" >0.63</td>\n",
              "      <td id=\"T_3d4ee_row11_col4\" class=\"data row11 col4\" >0.80</td>\n",
              "      <td id=\"T_3d4ee_row11_col5\" class=\"data row11 col5\" >0.75</td>\n",
              "    </tr>\n",
              "    <tr>\n",
              "      <th id=\"T_3d4ee_level0_row12\" class=\"row_heading level0 row12\" >12</th>\n",
              "      <td id=\"T_3d4ee_row12_col0\" class=\"data row12 col0\" >0.60</td>\n",
              "      <td id=\"T_3d4ee_row12_col1\" class=\"data row12 col1\" >0.91</td>\n",
              "      <td id=\"T_3d4ee_row12_col2\" class=\"data row12 col2\" >0.45</td>\n",
              "      <td id=\"T_3d4ee_row12_col3\" class=\"data row12 col3\" >0.60</td>\n",
              "      <td id=\"T_3d4ee_row12_col4\" class=\"data row12 col4\" >0.80</td>\n",
              "      <td id=\"T_3d4ee_row12_col5\" class=\"data row12 col5\" >0.74</td>\n",
              "    </tr>\n",
              "    <tr>\n",
              "      <th id=\"T_3d4ee_level0_row13\" class=\"row_heading level0 row13\" >13</th>\n",
              "      <td id=\"T_3d4ee_row13_col0\" class=\"data row13 col0\" >0.65</td>\n",
              "      <td id=\"T_3d4ee_row13_col1\" class=\"data row13 col1\" >0.92</td>\n",
              "      <td id=\"T_3d4ee_row13_col2\" class=\"data row13 col2\" >0.43</td>\n",
              "      <td id=\"T_3d4ee_row13_col3\" class=\"data row13 col3\" >0.59</td>\n",
              "      <td id=\"T_3d4ee_row13_col4\" class=\"data row13 col4\" >0.80</td>\n",
              "      <td id=\"T_3d4ee_row13_col5\" class=\"data row13 col5\" >0.74</td>\n",
              "    </tr>\n",
              "    <tr>\n",
              "      <th id=\"T_3d4ee_level0_row14\" class=\"row_heading level0 row14\" >14</th>\n",
              "      <td id=\"T_3d4ee_row14_col0\" class=\"data row14 col0\" >0.70</td>\n",
              "      <td id=\"T_3d4ee_row14_col1\" class=\"data row14 col1\" >0.92</td>\n",
              "      <td id=\"T_3d4ee_row14_col2\" class=\"data row14 col2\" >0.40</td>\n",
              "      <td id=\"T_3d4ee_row14_col3\" class=\"data row14 col3\" >0.56</td>\n",
              "      <td id=\"T_3d4ee_row14_col4\" class=\"data row14 col4\" >0.80</td>\n",
              "      <td id=\"T_3d4ee_row14_col5\" class=\"data row14 col5\" >0.73</td>\n",
              "    </tr>\n",
              "    <tr>\n",
              "      <th id=\"T_3d4ee_level0_row15\" class=\"row_heading level0 row15\" >15</th>\n",
              "      <td id=\"T_3d4ee_row15_col0\" class=\"data row15 col0\" >0.75</td>\n",
              "      <td id=\"T_3d4ee_row15_col1\" class=\"data row15 col1\" >0.91</td>\n",
              "      <td id=\"T_3d4ee_row15_col2\" class=\"data row15 col2\" >0.36</td>\n",
              "      <td id=\"T_3d4ee_row15_col3\" class=\"data row15 col3\" >0.52</td>\n",
              "      <td id=\"T_3d4ee_row15_col4\" class=\"data row15 col4\" >0.80</td>\n",
              "      <td id=\"T_3d4ee_row15_col5\" class=\"data row15 col5\" >0.71</td>\n",
              "    </tr>\n",
              "    <tr>\n",
              "      <th id=\"T_3d4ee_level0_row16\" class=\"row_heading level0 row16\" >16</th>\n",
              "      <td id=\"T_3d4ee_row16_col0\" class=\"data row16 col0\" >0.80</td>\n",
              "      <td id=\"T_3d4ee_row16_col1\" class=\"data row16 col1\" >0.91</td>\n",
              "      <td id=\"T_3d4ee_row16_col2\" class=\"data row16 col2\" >0.27</td>\n",
              "      <td id=\"T_3d4ee_row16_col3\" class=\"data row16 col3\" >0.42</td>\n",
              "      <td id=\"T_3d4ee_row16_col4\" class=\"data row16 col4\" >0.80</td>\n",
              "      <td id=\"T_3d4ee_row16_col5\" class=\"data row16 col5\" >0.67</td>\n",
              "    </tr>\n",
              "    <tr>\n",
              "      <th id=\"T_3d4ee_level0_row17\" class=\"row_heading level0 row17\" >17</th>\n",
              "      <td id=\"T_3d4ee_row17_col0\" class=\"data row17 col0\" >0.85</td>\n",
              "      <td id=\"T_3d4ee_row17_col1\" class=\"data row17 col1\" >0.90</td>\n",
              "      <td id=\"T_3d4ee_row17_col2\" class=\"data row17 col2\" >0.17</td>\n",
              "      <td id=\"T_3d4ee_row17_col3\" class=\"data row17 col3\" >0.28</td>\n",
              "      <td id=\"T_3d4ee_row17_col4\" class=\"data row17 col4\" >0.80</td>\n",
              "      <td id=\"T_3d4ee_row17_col5\" class=\"data row17 col5\" >0.63</td>\n",
              "    </tr>\n",
              "    <tr>\n",
              "      <th id=\"T_3d4ee_level0_row18\" class=\"row_heading level0 row18\" >18</th>\n",
              "      <td id=\"T_3d4ee_row18_col0\" class=\"data row18 col0\" >0.90</td>\n",
              "      <td id=\"T_3d4ee_row18_col1\" class=\"data row18 col1\" >1.00</td>\n",
              "      <td id=\"T_3d4ee_row18_col2\" class=\"data row18 col2\" >0.03</td>\n",
              "      <td id=\"T_3d4ee_row18_col3\" class=\"data row18 col3\" >0.05</td>\n",
              "      <td id=\"T_3d4ee_row18_col4\" class=\"data row18 col4\" >0.80</td>\n",
              "      <td id=\"T_3d4ee_row18_col5\" class=\"data row18 col5\" >0.58</td>\n",
              "    </tr>\n",
              "    <tr>\n",
              "      <th id=\"T_3d4ee_level0_row19\" class=\"row_heading level0 row19\" >19</th>\n",
              "      <td id=\"T_3d4ee_row19_col0\" class=\"data row19 col0\" >0.95</td>\n",
              "      <td id=\"T_3d4ee_row19_col1\" class=\"data row19 col1\" >0.00</td>\n",
              "      <td id=\"T_3d4ee_row19_col2\" class=\"data row19 col2\" >0.00</td>\n",
              "      <td id=\"T_3d4ee_row19_col3\" class=\"data row19 col3\" >0.00</td>\n",
              "      <td id=\"T_3d4ee_row19_col4\" class=\"data row19 col4\" >0.80</td>\n",
              "      <td id=\"T_3d4ee_row19_col5\" class=\"data row19 col5\" >0.57</td>\n",
              "    </tr>\n",
              "    <tr>\n",
              "      <th id=\"T_3d4ee_level0_row20\" class=\"row_heading level0 row20\" >20</th>\n",
              "      <td id=\"T_3d4ee_row20_col0\" class=\"data row20 col0\" >1.00</td>\n",
              "      <td id=\"T_3d4ee_row20_col1\" class=\"data row20 col1\" >0.00</td>\n",
              "      <td id=\"T_3d4ee_row20_col2\" class=\"data row20 col2\" >0.00</td>\n",
              "      <td id=\"T_3d4ee_row20_col3\" class=\"data row20 col3\" >0.00</td>\n",
              "      <td id=\"T_3d4ee_row20_col4\" class=\"data row20 col4\" >0.80</td>\n",
              "      <td id=\"T_3d4ee_row20_col5\" class=\"data row20 col5\" >0.57</td>\n",
              "    </tr>\n",
              "  </tbody>\n",
              "</table>\n"
            ]
          },
          "metadata": {},
          "execution_count": 74
        }
      ],
      "source": [
        "result_df, fancy_df = threshold_results(np.round(np.arange(0.0,1.01,.05), 2), y_test, yraw)\n",
        "fancy_df"
      ]
    },
    {
      "cell_type": "code",
      "execution_count": 75,
      "metadata": {
        "colab": {
          "base_uri": "https://localhost:8080/",
          "height": 707
        },
        "id": "ut9g2lfpZLGU",
        "outputId": "65340b57-913d-4123-b672-9e0b3e00776a"
      },
      "outputs": [
        {
          "output_type": "execute_result",
          "data": {
            "text/plain": [
              "    threshold  precision  recall    f1  auc  accuracy\n",
              "0        0.00       0.43    1.00  0.60  0.8      0.43\n",
              "1        0.05       0.43    1.00  0.60  0.8      0.43\n",
              "2        0.10       0.43    1.00  0.60  0.8      0.43\n",
              "3        0.15       0.45    0.98  0.62  0.8      0.48\n",
              "4        0.20       0.53    0.91  0.67  0.8      0.62\n",
              "5        0.25       0.59    0.86  0.70  0.8      0.68\n",
              "6        0.30       0.62    0.75  0.68  0.8      0.69\n",
              "7        0.35       0.65    0.73  0.69  0.8      0.71\n",
              "8        0.40       0.68    0.68  0.68  0.8      0.72\n",
              "9        0.45       0.76    0.57  0.65  0.8      0.74\n",
              "10       0.50       0.83    0.51  0.63  0.8      0.74\n",
              "11       0.55       0.90    0.48  0.63  0.8      0.75\n",
              "12       0.60       0.91    0.45  0.60  0.8      0.74\n",
              "13       0.65       0.92    0.43  0.59  0.8      0.74\n",
              "14       0.70       0.92    0.40  0.56  0.8      0.73\n",
              "15       0.75       0.91    0.36  0.52  0.8      0.71\n",
              "16       0.80       0.91    0.27  0.42  0.8      0.67\n",
              "17       0.85       0.90    0.17  0.28  0.8      0.63\n",
              "18       0.90       1.00    0.03  0.05  0.8      0.58\n",
              "19       0.95       0.00    0.00  0.00  0.8      0.57\n",
              "20       1.00       0.00    0.00  0.00  0.8      0.57"
            ],
            "text/html": [
              "\n",
              "  <div id=\"df-93e2fe2c-845a-4589-b1af-1f2c34ded31b\" class=\"colab-df-container\">\n",
              "    <div>\n",
              "<style scoped>\n",
              "    .dataframe tbody tr th:only-of-type {\n",
              "        vertical-align: middle;\n",
              "    }\n",
              "\n",
              "    .dataframe tbody tr th {\n",
              "        vertical-align: top;\n",
              "    }\n",
              "\n",
              "    .dataframe thead th {\n",
              "        text-align: right;\n",
              "    }\n",
              "</style>\n",
              "<table border=\"1\" class=\"dataframe\">\n",
              "  <thead>\n",
              "    <tr style=\"text-align: right;\">\n",
              "      <th></th>\n",
              "      <th>threshold</th>\n",
              "      <th>precision</th>\n",
              "      <th>recall</th>\n",
              "      <th>f1</th>\n",
              "      <th>auc</th>\n",
              "      <th>accuracy</th>\n",
              "    </tr>\n",
              "  </thead>\n",
              "  <tbody>\n",
              "    <tr>\n",
              "      <th>0</th>\n",
              "      <td>0.00</td>\n",
              "      <td>0.43</td>\n",
              "      <td>1.00</td>\n",
              "      <td>0.60</td>\n",
              "      <td>0.8</td>\n",
              "      <td>0.43</td>\n",
              "    </tr>\n",
              "    <tr>\n",
              "      <th>1</th>\n",
              "      <td>0.05</td>\n",
              "      <td>0.43</td>\n",
              "      <td>1.00</td>\n",
              "      <td>0.60</td>\n",
              "      <td>0.8</td>\n",
              "      <td>0.43</td>\n",
              "    </tr>\n",
              "    <tr>\n",
              "      <th>2</th>\n",
              "      <td>0.10</td>\n",
              "      <td>0.43</td>\n",
              "      <td>1.00</td>\n",
              "      <td>0.60</td>\n",
              "      <td>0.8</td>\n",
              "      <td>0.43</td>\n",
              "    </tr>\n",
              "    <tr>\n",
              "      <th>3</th>\n",
              "      <td>0.15</td>\n",
              "      <td>0.45</td>\n",
              "      <td>0.98</td>\n",
              "      <td>0.62</td>\n",
              "      <td>0.8</td>\n",
              "      <td>0.48</td>\n",
              "    </tr>\n",
              "    <tr>\n",
              "      <th>4</th>\n",
              "      <td>0.20</td>\n",
              "      <td>0.53</td>\n",
              "      <td>0.91</td>\n",
              "      <td>0.67</td>\n",
              "      <td>0.8</td>\n",
              "      <td>0.62</td>\n",
              "    </tr>\n",
              "    <tr>\n",
              "      <th>5</th>\n",
              "      <td>0.25</td>\n",
              "      <td>0.59</td>\n",
              "      <td>0.86</td>\n",
              "      <td>0.70</td>\n",
              "      <td>0.8</td>\n",
              "      <td>0.68</td>\n",
              "    </tr>\n",
              "    <tr>\n",
              "      <th>6</th>\n",
              "      <td>0.30</td>\n",
              "      <td>0.62</td>\n",
              "      <td>0.75</td>\n",
              "      <td>0.68</td>\n",
              "      <td>0.8</td>\n",
              "      <td>0.69</td>\n",
              "    </tr>\n",
              "    <tr>\n",
              "      <th>7</th>\n",
              "      <td>0.35</td>\n",
              "      <td>0.65</td>\n",
              "      <td>0.73</td>\n",
              "      <td>0.69</td>\n",
              "      <td>0.8</td>\n",
              "      <td>0.71</td>\n",
              "    </tr>\n",
              "    <tr>\n",
              "      <th>8</th>\n",
              "      <td>0.40</td>\n",
              "      <td>0.68</td>\n",
              "      <td>0.68</td>\n",
              "      <td>0.68</td>\n",
              "      <td>0.8</td>\n",
              "      <td>0.72</td>\n",
              "    </tr>\n",
              "    <tr>\n",
              "      <th>9</th>\n",
              "      <td>0.45</td>\n",
              "      <td>0.76</td>\n",
              "      <td>0.57</td>\n",
              "      <td>0.65</td>\n",
              "      <td>0.8</td>\n",
              "      <td>0.74</td>\n",
              "    </tr>\n",
              "    <tr>\n",
              "      <th>10</th>\n",
              "      <td>0.50</td>\n",
              "      <td>0.83</td>\n",
              "      <td>0.51</td>\n",
              "      <td>0.63</td>\n",
              "      <td>0.8</td>\n",
              "      <td>0.74</td>\n",
              "    </tr>\n",
              "    <tr>\n",
              "      <th>11</th>\n",
              "      <td>0.55</td>\n",
              "      <td>0.90</td>\n",
              "      <td>0.48</td>\n",
              "      <td>0.63</td>\n",
              "      <td>0.8</td>\n",
              "      <td>0.75</td>\n",
              "    </tr>\n",
              "    <tr>\n",
              "      <th>12</th>\n",
              "      <td>0.60</td>\n",
              "      <td>0.91</td>\n",
              "      <td>0.45</td>\n",
              "      <td>0.60</td>\n",
              "      <td>0.8</td>\n",
              "      <td>0.74</td>\n",
              "    </tr>\n",
              "    <tr>\n",
              "      <th>13</th>\n",
              "      <td>0.65</td>\n",
              "      <td>0.92</td>\n",
              "      <td>0.43</td>\n",
              "      <td>0.59</td>\n",
              "      <td>0.8</td>\n",
              "      <td>0.74</td>\n",
              "    </tr>\n",
              "    <tr>\n",
              "      <th>14</th>\n",
              "      <td>0.70</td>\n",
              "      <td>0.92</td>\n",
              "      <td>0.40</td>\n",
              "      <td>0.56</td>\n",
              "      <td>0.8</td>\n",
              "      <td>0.73</td>\n",
              "    </tr>\n",
              "    <tr>\n",
              "      <th>15</th>\n",
              "      <td>0.75</td>\n",
              "      <td>0.91</td>\n",
              "      <td>0.36</td>\n",
              "      <td>0.52</td>\n",
              "      <td>0.8</td>\n",
              "      <td>0.71</td>\n",
              "    </tr>\n",
              "    <tr>\n",
              "      <th>16</th>\n",
              "      <td>0.80</td>\n",
              "      <td>0.91</td>\n",
              "      <td>0.27</td>\n",
              "      <td>0.42</td>\n",
              "      <td>0.8</td>\n",
              "      <td>0.67</td>\n",
              "    </tr>\n",
              "    <tr>\n",
              "      <th>17</th>\n",
              "      <td>0.85</td>\n",
              "      <td>0.90</td>\n",
              "      <td>0.17</td>\n",
              "      <td>0.28</td>\n",
              "      <td>0.8</td>\n",
              "      <td>0.63</td>\n",
              "    </tr>\n",
              "    <tr>\n",
              "      <th>18</th>\n",
              "      <td>0.90</td>\n",
              "      <td>1.00</td>\n",
              "      <td>0.03</td>\n",
              "      <td>0.05</td>\n",
              "      <td>0.8</td>\n",
              "      <td>0.58</td>\n",
              "    </tr>\n",
              "    <tr>\n",
              "      <th>19</th>\n",
              "      <td>0.95</td>\n",
              "      <td>0.00</td>\n",
              "      <td>0.00</td>\n",
              "      <td>0.00</td>\n",
              "      <td>0.8</td>\n",
              "      <td>0.57</td>\n",
              "    </tr>\n",
              "    <tr>\n",
              "      <th>20</th>\n",
              "      <td>1.00</td>\n",
              "      <td>0.00</td>\n",
              "      <td>0.00</td>\n",
              "      <td>0.00</td>\n",
              "      <td>0.8</td>\n",
              "      <td>0.57</td>\n",
              "    </tr>\n",
              "  </tbody>\n",
              "</table>\n",
              "</div>\n",
              "    <div class=\"colab-df-buttons\">\n",
              "\n",
              "  <div class=\"colab-df-container\">\n",
              "    <button class=\"colab-df-convert\" onclick=\"convertToInteractive('df-93e2fe2c-845a-4589-b1af-1f2c34ded31b')\"\n",
              "            title=\"Convert this dataframe to an interactive table.\"\n",
              "            style=\"display:none;\">\n",
              "\n",
              "  <svg xmlns=\"http://www.w3.org/2000/svg\" height=\"24px\" viewBox=\"0 -960 960 960\">\n",
              "    <path d=\"M120-120v-720h720v720H120Zm60-500h600v-160H180v160Zm220 220h160v-160H400v160Zm0 220h160v-160H400v160ZM180-400h160v-160H180v160Zm440 0h160v-160H620v160ZM180-180h160v-160H180v160Zm440 0h160v-160H620v160Z\"/>\n",
              "  </svg>\n",
              "    </button>\n",
              "\n",
              "  <style>\n",
              "    .colab-df-container {\n",
              "      display:flex;\n",
              "      gap: 12px;\n",
              "    }\n",
              "\n",
              "    .colab-df-convert {\n",
              "      background-color: #E8F0FE;\n",
              "      border: none;\n",
              "      border-radius: 50%;\n",
              "      cursor: pointer;\n",
              "      display: none;\n",
              "      fill: #1967D2;\n",
              "      height: 32px;\n",
              "      padding: 0 0 0 0;\n",
              "      width: 32px;\n",
              "    }\n",
              "\n",
              "    .colab-df-convert:hover {\n",
              "      background-color: #E2EBFA;\n",
              "      box-shadow: 0px 1px 2px rgba(60, 64, 67, 0.3), 0px 1px 3px 1px rgba(60, 64, 67, 0.15);\n",
              "      fill: #174EA6;\n",
              "    }\n",
              "\n",
              "    .colab-df-buttons div {\n",
              "      margin-bottom: 4px;\n",
              "    }\n",
              "\n",
              "    [theme=dark] .colab-df-convert {\n",
              "      background-color: #3B4455;\n",
              "      fill: #D2E3FC;\n",
              "    }\n",
              "\n",
              "    [theme=dark] .colab-df-convert:hover {\n",
              "      background-color: #434B5C;\n",
              "      box-shadow: 0px 1px 3px 1px rgba(0, 0, 0, 0.15);\n",
              "      filter: drop-shadow(0px 1px 2px rgba(0, 0, 0, 0.3));\n",
              "      fill: #FFFFFF;\n",
              "    }\n",
              "  </style>\n",
              "\n",
              "    <script>\n",
              "      const buttonEl =\n",
              "        document.querySelector('#df-93e2fe2c-845a-4589-b1af-1f2c34ded31b button.colab-df-convert');\n",
              "      buttonEl.style.display =\n",
              "        google.colab.kernel.accessAllowed ? 'block' : 'none';\n",
              "\n",
              "      async function convertToInteractive(key) {\n",
              "        const element = document.querySelector('#df-93e2fe2c-845a-4589-b1af-1f2c34ded31b');\n",
              "        const dataTable =\n",
              "          await google.colab.kernel.invokeFunction('convertToInteractive',\n",
              "                                                    [key], {});\n",
              "        if (!dataTable) return;\n",
              "\n",
              "        const docLinkHtml = 'Like what you see? Visit the ' +\n",
              "          '<a target=\"_blank\" href=https://colab.research.google.com/notebooks/data_table.ipynb>data table notebook</a>'\n",
              "          + ' to learn more about interactive tables.';\n",
              "        element.innerHTML = '';\n",
              "        dataTable['output_type'] = 'display_data';\n",
              "        await google.colab.output.renderOutput(dataTable, element);\n",
              "        const docLink = document.createElement('div');\n",
              "        docLink.innerHTML = docLinkHtml;\n",
              "        element.appendChild(docLink);\n",
              "      }\n",
              "    </script>\n",
              "  </div>\n",
              "\n",
              "\n",
              "    <div id=\"df-38055339-345a-4598-b253-1e57d0a191c9\">\n",
              "      <button class=\"colab-df-quickchart\" onclick=\"quickchart('df-38055339-345a-4598-b253-1e57d0a191c9')\"\n",
              "                title=\"Suggest charts\"\n",
              "                style=\"display:none;\">\n",
              "\n",
              "<svg xmlns=\"http://www.w3.org/2000/svg\" height=\"24px\"viewBox=\"0 0 24 24\"\n",
              "     width=\"24px\">\n",
              "    <g>\n",
              "        <path d=\"M19 3H5c-1.1 0-2 .9-2 2v14c0 1.1.9 2 2 2h14c1.1 0 2-.9 2-2V5c0-1.1-.9-2-2-2zM9 17H7v-7h2v7zm4 0h-2V7h2v10zm4 0h-2v-4h2v4z\"/>\n",
              "    </g>\n",
              "</svg>\n",
              "      </button>\n",
              "\n",
              "<style>\n",
              "  .colab-df-quickchart {\n",
              "      --bg-color: #E8F0FE;\n",
              "      --fill-color: #1967D2;\n",
              "      --hover-bg-color: #E2EBFA;\n",
              "      --hover-fill-color: #174EA6;\n",
              "      --disabled-fill-color: #AAA;\n",
              "      --disabled-bg-color: #DDD;\n",
              "  }\n",
              "\n",
              "  [theme=dark] .colab-df-quickchart {\n",
              "      --bg-color: #3B4455;\n",
              "      --fill-color: #D2E3FC;\n",
              "      --hover-bg-color: #434B5C;\n",
              "      --hover-fill-color: #FFFFFF;\n",
              "      --disabled-bg-color: #3B4455;\n",
              "      --disabled-fill-color: #666;\n",
              "  }\n",
              "\n",
              "  .colab-df-quickchart {\n",
              "    background-color: var(--bg-color);\n",
              "    border: none;\n",
              "    border-radius: 50%;\n",
              "    cursor: pointer;\n",
              "    display: none;\n",
              "    fill: var(--fill-color);\n",
              "    height: 32px;\n",
              "    padding: 0;\n",
              "    width: 32px;\n",
              "  }\n",
              "\n",
              "  .colab-df-quickchart:hover {\n",
              "    background-color: var(--hover-bg-color);\n",
              "    box-shadow: 0 1px 2px rgba(60, 64, 67, 0.3), 0 1px 3px 1px rgba(60, 64, 67, 0.15);\n",
              "    fill: var(--button-hover-fill-color);\n",
              "  }\n",
              "\n",
              "  .colab-df-quickchart-complete:disabled,\n",
              "  .colab-df-quickchart-complete:disabled:hover {\n",
              "    background-color: var(--disabled-bg-color);\n",
              "    fill: var(--disabled-fill-color);\n",
              "    box-shadow: none;\n",
              "  }\n",
              "\n",
              "  .colab-df-spinner {\n",
              "    border: 2px solid var(--fill-color);\n",
              "    border-color: transparent;\n",
              "    border-bottom-color: var(--fill-color);\n",
              "    animation:\n",
              "      spin 1s steps(1) infinite;\n",
              "  }\n",
              "\n",
              "  @keyframes spin {\n",
              "    0% {\n",
              "      border-color: transparent;\n",
              "      border-bottom-color: var(--fill-color);\n",
              "      border-left-color: var(--fill-color);\n",
              "    }\n",
              "    20% {\n",
              "      border-color: transparent;\n",
              "      border-left-color: var(--fill-color);\n",
              "      border-top-color: var(--fill-color);\n",
              "    }\n",
              "    30% {\n",
              "      border-color: transparent;\n",
              "      border-left-color: var(--fill-color);\n",
              "      border-top-color: var(--fill-color);\n",
              "      border-right-color: var(--fill-color);\n",
              "    }\n",
              "    40% {\n",
              "      border-color: transparent;\n",
              "      border-right-color: var(--fill-color);\n",
              "      border-top-color: var(--fill-color);\n",
              "    }\n",
              "    60% {\n",
              "      border-color: transparent;\n",
              "      border-right-color: var(--fill-color);\n",
              "    }\n",
              "    80% {\n",
              "      border-color: transparent;\n",
              "      border-right-color: var(--fill-color);\n",
              "      border-bottom-color: var(--fill-color);\n",
              "    }\n",
              "    90% {\n",
              "      border-color: transparent;\n",
              "      border-bottom-color: var(--fill-color);\n",
              "    }\n",
              "  }\n",
              "</style>\n",
              "\n",
              "      <script>\n",
              "        async function quickchart(key) {\n",
              "          const quickchartButtonEl =\n",
              "            document.querySelector('#' + key + ' button');\n",
              "          quickchartButtonEl.disabled = true;  // To prevent multiple clicks.\n",
              "          quickchartButtonEl.classList.add('colab-df-spinner');\n",
              "          try {\n",
              "            const charts = await google.colab.kernel.invokeFunction(\n",
              "                'suggestCharts', [key], {});\n",
              "          } catch (error) {\n",
              "            console.error('Error during call to suggestCharts:', error);\n",
              "          }\n",
              "          quickchartButtonEl.classList.remove('colab-df-spinner');\n",
              "          quickchartButtonEl.classList.add('colab-df-quickchart-complete');\n",
              "        }\n",
              "        (() => {\n",
              "          let quickchartButtonEl =\n",
              "            document.querySelector('#df-38055339-345a-4598-b253-1e57d0a191c9 button');\n",
              "          quickchartButtonEl.style.display =\n",
              "            google.colab.kernel.accessAllowed ? 'block' : 'none';\n",
              "        })();\n",
              "      </script>\n",
              "    </div>\n",
              "\n",
              "  <div id=\"id_b4fa796e-264b-49f5-81f3-665517999c15\">\n",
              "    <style>\n",
              "      .colab-df-generate {\n",
              "        background-color: #E8F0FE;\n",
              "        border: none;\n",
              "        border-radius: 50%;\n",
              "        cursor: pointer;\n",
              "        display: none;\n",
              "        fill: #1967D2;\n",
              "        height: 32px;\n",
              "        padding: 0 0 0 0;\n",
              "        width: 32px;\n",
              "      }\n",
              "\n",
              "      .colab-df-generate:hover {\n",
              "        background-color: #E2EBFA;\n",
              "        box-shadow: 0px 1px 2px rgba(60, 64, 67, 0.3), 0px 1px 3px 1px rgba(60, 64, 67, 0.15);\n",
              "        fill: #174EA6;\n",
              "      }\n",
              "\n",
              "      [theme=dark] .colab-df-generate {\n",
              "        background-color: #3B4455;\n",
              "        fill: #D2E3FC;\n",
              "      }\n",
              "\n",
              "      [theme=dark] .colab-df-generate:hover {\n",
              "        background-color: #434B5C;\n",
              "        box-shadow: 0px 1px 3px 1px rgba(0, 0, 0, 0.15);\n",
              "        filter: drop-shadow(0px 1px 2px rgba(0, 0, 0, 0.3));\n",
              "        fill: #FFFFFF;\n",
              "      }\n",
              "    </style>\n",
              "    <button class=\"colab-df-generate\" onclick=\"generateWithVariable('result_df')\"\n",
              "            title=\"Generate code using this dataframe.\"\n",
              "            style=\"display:none;\">\n",
              "\n",
              "  <svg xmlns=\"http://www.w3.org/2000/svg\" height=\"24px\"viewBox=\"0 0 24 24\"\n",
              "       width=\"24px\">\n",
              "    <path d=\"M7,19H8.4L18.45,9,17,7.55,7,17.6ZM5,21V16.75L18.45,3.32a2,2,0,0,1,2.83,0l1.4,1.43a1.91,1.91,0,0,1,.58,1.4,1.91,1.91,0,0,1-.58,1.4L9.25,21ZM18.45,9,17,7.55Zm-12,3A5.31,5.31,0,0,0,4.9,8.1,5.31,5.31,0,0,0,1,6.5,5.31,5.31,0,0,0,4.9,4.9,5.31,5.31,0,0,0,6.5,1,5.31,5.31,0,0,0,8.1,4.9,5.31,5.31,0,0,0,12,6.5,5.46,5.46,0,0,0,6.5,12Z\"/>\n",
              "  </svg>\n",
              "    </button>\n",
              "    <script>\n",
              "      (() => {\n",
              "      const buttonEl =\n",
              "        document.querySelector('#id_b4fa796e-264b-49f5-81f3-665517999c15 button.colab-df-generate');\n",
              "      buttonEl.style.display =\n",
              "        google.colab.kernel.accessAllowed ? 'block' : 'none';\n",
              "\n",
              "      buttonEl.onclick = () => {\n",
              "        google.colab.notebook.generateWithVariable('result_df');\n",
              "      }\n",
              "      })();\n",
              "    </script>\n",
              "  </div>\n",
              "\n",
              "    </div>\n",
              "  </div>\n"
            ],
            "application/vnd.google.colaboratory.intrinsic+json": {
              "type": "dataframe",
              "variable_name": "result_df",
              "summary": "{\n  \"name\": \"result_df\",\n  \"rows\": 21,\n  \"fields\": [\n    {\n      \"column\": \"threshold\",\n      \"properties\": {\n        \"dtype\": \"number\",\n        \"std\": 0.3102418411497714,\n        \"min\": 0.0,\n        \"max\": 1.0,\n        \"num_unique_values\": 21,\n        \"samples\": [\n          0.0,\n          0.85,\n          0.75\n        ],\n        \"semantic_type\": \"\",\n        \"description\": \"\"\n      }\n    },\n    {\n      \"column\": \"precision\",\n      \"properties\": {\n        \"dtype\": \"number\",\n        \"std\": 0.2906814653288274,\n        \"min\": 0.0,\n        \"max\": 1.0,\n        \"num_unique_values\": 14,\n        \"samples\": [\n          0.9,\n          0.92,\n          0.43\n        ],\n        \"semantic_type\": \"\",\n        \"description\": \"\"\n      }\n    },\n    {\n      \"column\": \"recall\",\n      \"properties\": {\n        \"dtype\": \"number\",\n        \"std\": 0.33878142974911885,\n        \"min\": 0.0,\n        \"max\": 1.0,\n        \"num_unique_values\": 18,\n        \"samples\": [\n          1.0,\n          0.98,\n          0.51\n        ],\n        \"semantic_type\": \"\",\n        \"description\": \"\"\n      }\n    },\n    {\n      \"column\": \"f1\",\n      \"properties\": {\n        \"dtype\": \"number\",\n        \"std\": 0.22873877802294165,\n        \"min\": 0.0,\n        \"max\": 0.7,\n        \"num_unique_values\": 15,\n        \"samples\": [\n          0.56,\n          0.42,\n          0.6\n        ],\n        \"semantic_type\": \"\",\n        \"description\": \"\"\n      }\n    },\n    {\n      \"column\": \"auc\",\n      \"properties\": {\n        \"dtype\": \"number\",\n        \"std\": 1.137640067256873e-16,\n        \"min\": 0.8,\n        \"max\": 0.8,\n        \"num_unique_values\": 1,\n        \"samples\": [\n          0.8\n        ],\n        \"semantic_type\": \"\",\n        \"description\": \"\"\n      }\n    },\n    {\n      \"column\": \"accuracy\",\n      \"properties\": {\n        \"dtype\": \"number\",\n        \"std\": 0.11244893020728079,\n        \"min\": 0.43,\n        \"max\": 0.75,\n        \"num_unique_values\": 14,\n        \"samples\": [\n          0.73\n        ],\n        \"semantic_type\": \"\",\n        \"description\": \"\"\n      }\n    }\n  ]\n}"
            }
          },
          "metadata": {},
          "execution_count": 75
        }
      ],
      "source": [
        "result_df"
      ]
    },
    {
      "cell_type": "markdown",
      "metadata": {
        "id": "w8KARoVJkScs"
      },
      "source": [
        "###My results\n",
        "\n",
        "|index|threshold|precision|recall|f1|accuracy|auc|\n",
        "|---|---|---|---|---|---|---|\n",
        "|0|0\\.0|0\\.43|1\\.0|0\\.6|0\\.43|0\\.79|\n",
        "|1|0\\.05|0\\.43|1\\.0|0\\.6|0\\.43|0\\.79|\n",
        "|2|0\\.1|0\\.44|1\\.0|0\\.61|0\\.44|0\\.79|\n",
        "|3|0\\.15|0\\.46|0\\.96|0\\.63|0\\.5|0\\.79|\n",
        "|4|0\\.2|0\\.5|0\\.93|0\\.65|0\\.57|0\\.79|\n",
        "|5|0\\.25|0\\.55|0\\.89|0\\.68|0\\.64|0\\.79|\n",
        "|6|0\\.3|0\\.61|0\\.82|0\\.7|0\\.69|0\\.79|\n",
        "|7|0\\.35|0\\.64|0\\.76|0\\.7|0\\.71|0\\.79|\n",
        "|8|0\\.4|0\\.69|0\\.63|0\\.66|0\\.71|0\\.79|\n",
        "|9|0\\.45|0\\.7|0\\.54|0\\.61|0\\.7|0\\.79|\n",
        "|10|0\\.5|0\\.77|0\\.52|0\\.62|0\\.72|0\\.79|\n",
        "|11|0\\.55|0\\.81|0\\.48|0\\.6|0\\.73|0\\.79|\n",
        "|12|0\\.6|0\\.91|0\\.45|0\\.6|0\\.74|0\\.79|\n",
        "|13|0\\.65|0\\.92|0\\.41|0\\.57|0\\.73|0\\.79|\n",
        "|14|0\\.7|0\\.91|0\\.38|0\\.53|0\\.71|0\\.79|\n",
        "|15|0\\.75|0\\.91|0\\.34|0\\.5|0\\.7|0\\.79|\n",
        "|16|0\\.8|0\\.9|0\\.23|0\\.36|0\\.65|0\\.79|\n",
        "|17|0\\.85|0\\.92|0\\.21|0\\.34|0\\.65|0\\.79|\n",
        "|18|0\\.9|0\\.83|0\\.04|0\\.08|0\\.58|0\\.79|\n",
        "|19|0\\.95|0\\.0|0\\.0|0\\.0|0\\.57|0\\.79|\n",
        "|20|1\\.0|0\\.0|0\\.0|0\\.0|0\\.57|0\\.79|"
      ]
    },
    {
      "cell_type": "markdown",
      "metadata": {
        "id": "IGQ5C_jX6LxG"
      },
      "source": [
        "##Step 2.7 Save your model and threshold table\n",
        "\n",
        "We will need them later. Eventually get them on GitHub."
      ]
    },
    {
      "cell_type": "code",
      "execution_count": 76,
      "metadata": {
        "id": "2OFfaZYLhDWr"
      },
      "outputs": [],
      "source": [
        "model.save('ann_model.keras')\n",
        "model2 = tf.keras.models.load_model('ann_model.keras') #load back in"
      ]
    },
    {
      "cell_type": "code",
      "execution_count": 77,
      "metadata": {
        "id": "u-J-lb8J6VvS"
      },
      "outputs": [],
      "source": [
        "result_df.to_csv('ann_thresholds.csv', index=False)"
      ]
    }
  ],
  "metadata": {
    "colab": {
      "provenance": []
    },
    "kernelspec": {
      "display_name": "Python 3",
      "name": "python3"
    },
    "language_info": {
      "name": "python"
    }
  },
  "nbformat": 4,
  "nbformat_minor": 0
}